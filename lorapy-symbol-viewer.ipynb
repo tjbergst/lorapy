{
 "cells": [
  {
   "cell_type": "markdown",
   "metadata": {},
   "source": [
    "# lorapy symbol viewer"
   ]
  },
  {
   "cell_type": "code",
   "execution_count": 1,
   "metadata": {},
   "outputs": [],
   "source": [
    "%load_ext autoreload\n",
    "%autoreload 2\n",
    "\n",
    "import pathlib\n",
    "\n",
    "import os, sys\n",
    "from loguru import logger\n",
    "logger.remove(None)\n",
    "logger.add(sys.stdout, colorize=True)\n",
    "\n",
    "import numpy as np\n",
    "import pandas as pd\n",
    "from six.moves import cPickle\n",
    "import tqdm\n",
    "from tqdm import tqdm_notebook\n",
    "import warnings \n",
    "import scipy.signal as spsig\n",
    "import multiprocessing\n",
    "from functools import partial \n",
    "\n",
    "import matplotlib.pyplot as plt \n",
    "# plt.style.use('dark_background')\n",
    "%matplotlib inline"
   ]
  },
  {
   "cell_type": "code",
   "execution_count": 2,
   "metadata": {},
   "outputs": [],
   "source": [
    "import lorapy"
   ]
  },
  {
   "cell_type": "markdown",
   "metadata": {},
   "source": [
    "## setup "
   ]
  },
  {
   "cell_type": "code",
   "execution_count": 3,
   "metadata": {},
   "outputs": [],
   "source": [
    "_BASE_DATA_DIR = pathlib.Path('../data')\n",
    "\n",
    "BENCHTOP_DATA_DIR = _BASE_DATA_DIR.joinpath('lora-benchtop-recording')\n",
    "DOTP_DATA_DIR = _BASE_DATA_DIR.joinpath('symbol-ref')\n",
    "DEV_DATA_DIR = _BASE_DATA_DIR.joinpath('dev-data')\n",
    "PROC_SYMBOL_DIR = _BASE_DATA_DIR.joinpath('processed-symbols')\n",
    "FILT_SYMBOL_DIR = _BASE_DATA_DIR.joinpath('filtered-symbols')"
   ]
  },
  {
   "cell_type": "markdown",
   "metadata": {},
   "source": [
    "# load"
   ]
  },
  {
   "cell_type": "code",
   "execution_count": 4,
   "metadata": {},
   "outputs": [],
   "source": [
    "import random\n",
    "import warnings \n",
    "\n",
    "rand = lambda mx: random.randint(0, mx - 1)\n",
    "\n",
    "def _load_matching_dotp(bw: int, sf: int):\n",
    "    return ploader.filter(bw=bw, sf=sf)[0]\n",
    "\n",
    "\n",
    "def _plot_check(filtered_syms, num=20):\n",
    "    with warnings.catch_warnings():\n",
    "        warnings.simplefilter(\"ignore\")\n",
    "        \n",
    "        fig, ax = plt.subplots(num, figsize=(14, 10))\n",
    "\n",
    "        for idx in range(num):\n",
    "            ax[idx].plot(filtered_syms[rand(filtered_syms.shape[0])])\n",
    "            \n",
    "            \n",
    "def _format_output_path(out_dir, file):    \n",
    "    out_path = out_dir.joinpath(file.name)\n",
    "    return out_path\n",
    "\n",
    "\n",
    "def _save_symbols(data, out_dir, file):\n",
    "    out_path = _format_output_path(out_dir, file)\n",
    "    \n",
    "    with out_path.open('wb') as outfile:\n",
    "        cPickle.dump(data, outfile)"
   ]
  },
  {
   "cell_type": "markdown",
   "metadata": {},
   "source": [
    "## files"
   ]
  },
  {
   "cell_type": "code",
   "execution_count": 5,
   "metadata": {
    "scrolled": true
   },
   "outputs": [
    {
     "name": "stdout",
     "output_type": "stream",
     "text": [
      "\u001b[32m2020-04-11 16:21:00.470\u001b[0m | \u001b[34m\u001b[1mDEBUG   \u001b[0m | \u001b[36mlorapy.io._base_loader\u001b[0m:\u001b[36m_validate_data_path\u001b[0m:\u001b[36m140\u001b[0m - \u001b[34m\u001b[1mset datafile directory: ../data/processed-symbols\u001b[0m\n",
      "\u001b[32m2020-04-11 16:21:00.478\u001b[0m | \u001b[1mINFO    \u001b[0m | \u001b[36mlorapy.io._base_loader\u001b[0m:\u001b[36m_process_data_dir\u001b[0m:\u001b[36m153\u001b[0m - \u001b[1mfound 159 data file(s)\u001b[0m\n"
     ]
    },
    {
     "data": {
      "text/plain": [
       "[DotPFile(id=0 | name='lora_BW1_SF10_915MHz_20ksps_Att0_v0.p'),\n",
       " DotPFile(id=1 | name='lora_BW2_SF12_915MHz_20ksps_Att40_v0.p'),\n",
       " DotPFile(id=2 | name='lora_BW8_SF12_915MHz_20ksps_Att120_v0.p'),\n",
       " DotPFile(id=3 | name='lora_BW1_SF10_915MHz_20ksps_Att140_v0.p'),\n",
       " DotPFile(id=4 | name='lora_BW1_SF10_915MHz_20ksps_Att120_v1.p'),\n",
       " DotPFile(id=5 | name='lora_BW1_SF12_915MHz_20ksps_Att0_v0.p'),\n",
       " DotPFile(id=6 | name='lora_BW2_SF12_915MHz_20ksps_Att80_v1.p'),\n",
       " DotPFile(id=7 | name='lora_BW1_SF12_915MHz_20ksps_Att60_v0.p'),\n",
       " DotPFile(id=8 | name='lora_BW7_SF10_915MHz_20ksps_Att40_v0.p'),\n",
       " DotPFile(id=9 | name='lora_BW2_SF10_915MHz_20ksps_Att40_v0.p'),\n",
       " DotPFile(id=10 | name='lora_BW2_SF12_915MHz_20ksps_Att60_v1.p'),\n",
       " DotPFile(id=11 | name='lora_BW2_SF10_915MHz_20ksps_Att140_v1.p'),\n",
       " DotPFile(id=12 | name='lora_BW1_SF10_915MHz_20ksps_Att40_v1.p'),\n",
       " DotPFile(id=13 | name='lora_BW9_SF12_915MHz_20ksps_Att0_v0.p'),\n",
       " DotPFile(id=14 | name='lora_BW2_SF12_915MHz_20ksps_Att60_v0.p'),\n",
       " DotPFile(id=15 | name='lora_BW2_SF10_915MHz_20ksps_Att0_v0.p'),\n",
       " DotPFile(id=16 | name='lora_BW9_SF11_915MHz_20ksps_Att100_v0.p'),\n",
       " DotPFile(id=17 | name='lora_BW7_SF10_915MHz_20ksps_Att100_v0.p'),\n",
       " DotPFile(id=18 | name='lora_BW2_SF11_915MHz_20ksps_Att140_v1.p'),\n",
       " DotPFile(id=19 | name='lora_BW9_SF11_915MHz_20ksps_Att80_v0.p'),\n",
       " DotPFile(id=20 | name='lora_BW1_SF11_915MHz_20ksps_Att100_v1.p'),\n",
       " DotPFile(id=21 | name='lora_BW1_SF12_915MHz_20kspsAtt20_v1.p'),\n",
       " DotPFile(id=22 | name='lora_BW1_SF10_915MHz_20ksps_Att40_v0.p'),\n",
       " DotPFile(id=23 | name='lora_BW7_SF11_915MHz_20ksps_Att80_v0.p'),\n",
       " DotPFile(id=24 | name='lora_BW2_SF11_915MHz_20ksps_Att40_v0.p'),\n",
       " DotPFile(id=25 | name='lora_BW1_SF11_915MHz_20ksps_Att40_v0.p'),\n",
       " DotPFile(id=26 | name='lora_BW2_SF11_915MHz_20ksps_Att40_v1.p'),\n",
       " DotPFile(id=27 | name='lora_BW8_SF10_915MHz_20ksps_Att40_v0.p'),\n",
       " DotPFile(id=28 | name='lora_BW9_SF10_915MHz_20ksps_Att20_v0.p'),\n",
       " DotPFile(id=29 | name='lora_BW7_SF12_915MHz_20ksps_Att120_v0.p'),\n",
       " DotPFile(id=30 | name='lora_BW1_SF11_915MHz_20ksps_Att0_v1.p'),\n",
       " DotPFile(id=31 | name='lora_BW1_SF12_915MHz_20kspsAtt100_v1.p'),\n",
       " DotPFile(id=32 | name='lora_BW2_SF12_915MHz_20ksps_Att140_v1.p'),\n",
       " DotPFile(id=33 | name='lora_BW1_SF12_915MHz_20kspsAtt0_v1.p'),\n",
       " DotPFile(id=34 | name='lora_BW2_SF10_915MHz_20ksps_Att120_v1.p'),\n",
       " DotPFile(id=35 | name='lora_BW2_SF12_915MHz_20ksps_Att100_v0.p'),\n",
       " DotPFile(id=36 | name='lora_BW1_SF11_915MHz_20ksps_Att80_v1.p'),\n",
       " DotPFile(id=37 | name='lora_BW1_SF12_915MHz_20ksps_Att40_v0.p'),\n",
       " DotPFile(id=38 | name='lora_BW2_SF10_915MHz_20ksps_Att120_v0.p'),\n",
       " DotPFile(id=39 | name='lora_BW8_SF10_915MHz_20ksps_Att80_v0.p'),\n",
       " DotPFile(id=40 | name='lora_BW2_SF10_915MHz_20ksps_Att100_v1.p'),\n",
       " DotPFile(id=41 | name='lora_BW1_SF11_915MHz_20ksps_Att20_v0.p'),\n",
       " DotPFile(id=42 | name='lora_BW9_SF11_915MHz_20ksps_Att0_v0.p'),\n",
       " DotPFile(id=43 | name='lora_BW1_SF12_915MHz_20kspsAtt0_v2.p'),\n",
       " DotPFile(id=44 | name='lora_BW2_SF11_915MHz_20ksps_Att80_v0.p'),\n",
       " DotPFile(id=45 | name='lora_BW1_SF11_915MHz_20ksps_Att60_v0.p'),\n",
       " DotPFile(id=46 | name='lora_BW9_SF12_915MHz_20ksps_Att60_v0.p'),\n",
       " DotPFile(id=47 | name='lora_BW2_SF12_915MHz_20ksps_Att0_v0.p'),\n",
       " DotPFile(id=48 | name='lora_BW9_SF10_915MHz_20ksps_Att100_v0.p'),\n",
       " DotPFile(id=49 | name='lora_BW9_SF11_915MHz_20ksps_Att40_v0.p'),\n",
       " DotPFile(id=50 | name='lora_BW9_SF12_915MHz_20ksps_Att80_v0.p'),\n",
       " DotPFile(id=51 | name='lora_BW2_SF10_915MHz_20ksps_Att60_v1.p'),\n",
       " DotPFile(id=52 | name='lora_BW2_SF10_915MHz_20ksps_Att20_v0.p'),\n",
       " DotPFile(id=53 | name='lora_BW8_SF12_915MHz_20ksps_Att0_v0.p'),\n",
       " DotPFile(id=54 | name='lora_BW1_SF12_915MHz_20kspsAtt40_v1.p'),\n",
       " DotPFile(id=55 | name='lora_BW9_SF10_915MHz_20ksps_Att80_v0.p'),\n",
       " DotPFile(id=56 | name='lora_BW8_SF12_915MHz_20ksps_Att20_v0.p'),\n",
       " DotPFile(id=57 | name='lora_BW8_SF11_915MHz_20ksps_Att60_v0.p'),\n",
       " DotPFile(id=58 | name='lora_BW2_SF11_915MHz_20ksps_Att100_v0.p'),\n",
       " DotPFile(id=59 | name='lora_BW1_SF12_915MHz_20ksps_Att120_v0.p'),\n",
       " DotPFile(id=60 | name='lora_BW1_SF10_915MHz_20ksps_Att60_v0.p'),\n",
       " DotPFile(id=61 | name='lora_BW1_SF11_915MHz_20ksps_Att60_v1.p'),\n",
       " DotPFile(id=62 | name='lora_BW1_SF10_915MHz_20ksps_Att60_v1.p'),\n",
       " DotPFile(id=63 | name='lora_BW7_SF10_915MHz_20ksps_Att80_v0.p'),\n",
       " DotPFile(id=64 | name='lora_BW9_SF10_915MHz_20ksps_Att40_v0.p'),\n",
       " DotPFile(id=65 | name='lora_BW2_SF10_915MHz_20ksps_Att140_v0.p'),\n",
       " DotPFile(id=66 | name='lora_BW8_SF12_915MHz_20ksps_Att40_v0.p'),\n",
       " DotPFile(id=67 | name='lora_BW2_SF11_915MHz_20ksps_Att60_v0.p'),\n",
       " DotPFile(id=68 | name='lora_BW8_SF10_915MHz_20ksps_Att120_v0.p'),\n",
       " DotPFile(id=69 | name='lora_BW7_SF12_915MHz_20ksps_Att100_v0.p'),\n",
       " DotPFile(id=70 | name='lora_BW7_SF12_915MHz_20ksps_Att80_v0.p'),\n",
       " DotPFile(id=71 | name='lora_BW2_SF12_915MHz_20ksps_Att0_v1.p'),\n",
       " DotPFile(id=72 | name='lora_BW1_SF12_915MHz_20kspsAtt80_v1.p'),\n",
       " DotPFile(id=73 | name='lora_BW1_SF11_915MHz_20ksps_Att140_v0.p'),\n",
       " DotPFile(id=74 | name='lora_BW2_SF10_915MHz_20ksps_Att80_v0.p'),\n",
       " DotPFile(id=75 | name='lora_BW9_SF11_915MHz_20ksps_Att20_v0.p'),\n",
       " DotPFile(id=76 | name='lora_BW2_SF11_915MHz_20ksps_Att120_v1.p'),\n",
       " DotPFile(id=77 | name='lora_BW1_SF12_915MHz_20ksps_Att20_v0.p'),\n",
       " DotPFile(id=78 | name='lora_BW2_SF11_915MHz_20ksps_Att0_v1.p'),\n",
       " DotPFile(id=79 | name='lora_BW2_SF11_915MHz_20ksps_Att60_v1.p'),\n",
       " DotPFile(id=80 | name='lora_BW7_SF10_915MHz_20ksps_Att0_v0.p'),\n",
       " DotPFile(id=81 | name='lora_BW1_SF10_915MHz_20ksps_Att120_v0.p'),\n",
       " DotPFile(id=82 | name='lora_BW8_SF10_915MHz_20ksps_Att20_v0.p'),\n",
       " DotPFile(id=83 | name='lora_BW1_SF10_915MHz_20ksps_Att100_v1.p'),\n",
       " DotPFile(id=84 | name='lora_BW2_SF11_915MHz_20ksps_Att20_v0.p'),\n",
       " DotPFile(id=85 | name='lora_BW1_SF11_915MHz_20ksps_Att40_v1.p'),\n",
       " DotPFile(id=86 | name='lora_BW1_SF10_915MHz_20ksps_Att0_v1.p'),\n",
       " DotPFile(id=87 | name='lora_BW7_SF11_915MHz_20ksps_Att120_v0.p'),\n",
       " DotPFile(id=88 | name='lora_BW2_SF12_915MHz_20ksps_Att120_v1.p'),\n",
       " DotPFile(id=89 | name='lora_BW1_SF12_915MHz_20kspsAtt60_v1.p'),\n",
       " DotPFile(id=90 | name='lora_BW8_SF10_915MHz_20ksps_Att60_v0.p'),\n",
       " DotPFile(id=91 | name='lora_BW8_SF11_915MHz_20ksps_Att0_v0.p'),\n",
       " DotPFile(id=92 | name='lora_BW8_SF10_915MHz_20ksps_Att100_v0.p'),\n",
       " DotPFile(id=93 | name='lora_BW9_SF10_915MHz_20ksps_Att60_v0.p'),\n",
       " DotPFile(id=94 | name='lora_BW8_SF10_915MHz_20ksps_Att0_v0.p'),\n",
       " DotPFile(id=95 | name='lora_BW2_SF11_915MHz_20ksps_Att100_v1.p'),\n",
       " DotPFile(id=96 | name='lora_BW7_SF11_915MHz_20ksps_Att40_v0.p'),\n",
       " DotPFile(id=97 | name='lora_BW9_SF12_915MHz_20ksps_Att120_v0.p'),\n",
       " DotPFile(id=98 | name='lora_BW1_SF10_915MHz_20ksps_Att80_v1.p'),\n",
       " DotPFile(id=99 | name='lora_BW9_SF12_915MHz_20ksps_Att40_v0.p'),\n",
       " DotPFile(id=100 | name='lora_BW2_SF12_915MHz_20ksps_Att120_v0.p'),\n",
       " DotPFile(id=101 | name='lora_BW7_SF10_915MHz_20ksps_Att120_v0.p'),\n",
       " DotPFile(id=102 | name='lora_BW1_SF12_915MHz_20ksps_Att80_v0.p'),\n",
       " DotPFile(id=103 | name='lora_BW7_SF12_915MHz_20ksps_Att40_v0.p'),\n",
       " DotPFile(id=104 | name='lora_BW7_SF11_915MHz_20ksps_Att20_v0.p'),\n",
       " DotPFile(id=105 | name='lora_BW7_SF12_915MHz_20ksps_Att60_v0.p'),\n",
       " DotPFile(id=106 | name='lora_BW1_SF12_915MHz_20kspsAtt140_v1.p'),\n",
       " DotPFile(id=107 | name='lora_BW2_SF10_915MHz_20ksps_Att0_v1.p'),\n",
       " DotPFile(id=108 | name='lora_BW2_SF12_915MHz_20ksps_Att40_v1.p'),\n",
       " DotPFile(id=109 | name='lora_BW2_SF11_915MHz_20ksps_Att140_v0.p'),\n",
       " DotPFile(id=110 | name='lora_BW8_SF12_915MHz_20ksps_Att100_v0.p'),\n",
       " DotPFile(id=111 | name='lora_BW7_SF10_915MHz_20ksps_Att60_v0.p'),\n",
       " DotPFile(id=112 | name='lora_BW2_SF12_915MHz_20ksps_Att80_v0.p'),\n",
       " DotPFile(id=113 | name='lora_BW1_SF12_915MHz_20ksps_Att140_v0.p'),\n",
       " DotPFile(id=114 | name='lora_BW1_SF11_915MHz_20ksps_Att0_v0.p'),\n",
       " DotPFile(id=115 | name='lora_BW2_SF11_915MHz_20ksps_Att0_v0.p'),\n",
       " DotPFile(id=116 | name='lora_BW1_SF11_915MHz_20kspsAtt120_v1.p'),\n",
       " DotPFile(id=117 | name='lora_BW2_SF11_915MHz_20ksps_Att120_v0.p'),\n",
       " DotPFile(id=118 | name='lora_BW2_SF10_915MHz_20ksps_Att60_v0.p'),\n",
       " DotPFile(id=119 | name='lora_BW1_SF12_915MHz_20kspsAtt120_v1.p'),\n",
       " DotPFile(id=120 | name='lora_BW1_SF11_915MHz_20ksps_Att120_v0.p'),\n",
       " DotPFile(id=121 | name='lora_BW1_SF11_915MHz_20ksps_Att100_v0.p'),\n",
       " DotPFile(id=122 | name='lora_BW8_SF12_915MHz_20ksps_Att80_v0.p'),\n",
       " DotPFile(id=123 | name='lora_BW8_SF11_915MHz_20ksps_Att120_v0.p'),\n",
       " DotPFile(id=124 | name='lora_BW9_SF11_915MHz_20ksps_Att120_v0.p'),\n",
       " DotPFile(id=125 | name='lora_BW9_SF12_915MHz_20ksps_Att20_v0.p'),\n",
       " DotPFile(id=126 | name='lora_BW2_SF12_915MHz_20ksps_Att100_v1.p'),\n",
       " DotPFile(id=127 | name='lora_BW9_SF10_915MHz_20ksps_Att0_v0.p'),\n",
       " DotPFile(id=128 | name='lora_BW7_SF12_915MHz_20ksps_Att0_v0.p'),\n",
       " DotPFile(id=129 | name='lora_BW1_SF12_915MHz_20ksps_Att100_v0.p'),\n",
       " DotPFile(id=130 | name='lora_BW7_SF11_915MHz_20ksps_Att60_v0.p'),\n",
       " DotPFile(id=131 | name='lora_BW8_SF11_915MHz_20ksps_Att80_v0.p'),\n",
       " DotPFile(id=132 | name='lora_BW2_SF11_915MHz_20ksps_Att80_v1.p'),\n",
       " DotPFile(id=133 | name='lora_BW9_SF10_915MHz_20ksps_Att120_v0.p'),\n",
       " DotPFile(id=134 | name='lora_BW1_SF10_915MHz_20ksps_Att20_v1.p'),\n",
       " DotPFile(id=135 | name='lora_BW7_SF11_915MHz_20ksps_Att0_v0.p'),\n",
       " DotPFile(id=136 | name='lora_BW2_SF10_915MHz_20ksps_Att20_v1.p'),\n",
       " DotPFile(id=137 | name='lora_BW2_SF10_915MHz_20ksps_Att40_v1.p'),\n",
       " DotPFile(id=138 | name='lora_BW2_SF11_915MHz_20ksps_Att20_v1.p'),\n",
       " DotPFile(id=139 | name='lora_BW9_SF11_915MHz_20ksps_Att60_v0.p'),\n",
       " DotPFile(id=140 | name='lora_BW9_SF12_915MHz_20ksps_Att100_v0.p'),\n",
       " DotPFile(id=141 | name='lora_BW2_SF10_915MHz_20ksps_Att100_v0.p'),\n",
       " DotPFile(id=142 | name='lora_BW7_SF10_915MHz_20ksps_Att20_v0.p'),\n",
       " DotPFile(id=143 | name='lora_BW1_SF10_915MHz_20ksps_Att20_v0.p'),\n",
       " DotPFile(id=144 | name='lora_BW1_SF11_915MHz_20ksps_Att20_v1.p'),\n",
       " DotPFile(id=145 | name='lora_BW7_SF12_915MHz_20ksps_Att20_v0.p'),\n",
       " DotPFile(id=146 | name='lora_BW1_SF10_915MHz_20ksps_Att100_v0.p'),\n",
       " DotPFile(id=147 | name='lora_BW1_SF10_915MHz_20ksps_Att140_v1.p'),\n",
       " DotPFile(id=148 | name='lora_BW7_SF11_915MHz_20ksps_Att100_v0.p'),\n",
       " DotPFile(id=149 | name='lora_BW8_SF11_915MHz_20ksps_Att20_v0.p'),\n",
       " DotPFile(id=150 | name='lora_BW2_SF12_915MHz_20ksps_Att20_v0.p'),\n",
       " DotPFile(id=151 | name='lora_BW8_SF11_915MHz_20ksps_Att100_v0.p'),\n",
       " DotPFile(id=152 | name='lora_BW8_SF12_915MHz_20ksps_Att60_v0.p'),\n",
       " DotPFile(id=153 | name='lora_BW1_SF10_915MHz_20ksps_Att80_v0.p'),\n",
       " DotPFile(id=154 | name='lora_BW2_SF12_915MHz_20ksps_Att20_v1.p'),\n",
       " DotPFile(id=155 | name='lora_BW1_SF11_915MHz_20kspsAtt140_v1.p'),\n",
       " DotPFile(id=156 | name='lora_BW8_SF11_915MHz_20ksps_Att40_v0.p'),\n",
       " DotPFile(id=157 | name='lora_BW1_SF11_915MHz_20ksps_Att80_v0.p'),\n",
       " DotPFile(id=158 | name='lora_BW2_SF10_915MHz_20ksps_Att80_v1.p')]"
      ]
     },
     "execution_count": 5,
     "metadata": {},
     "output_type": "execute_result"
    }
   ],
   "source": [
    "symloader = lorapy.load_dotp(PROC_SYMBOL_DIR)\n",
    "symloader.file_list"
   ]
  },
  {
   "cell_type": "code",
   "execution_count": 6,
   "metadata": {
    "scrolled": true
   },
   "outputs": [
    {
     "name": "stdout",
     "output_type": "stream",
     "text": [
      "\u001b[32m2020-04-11 16:21:00.514\u001b[0m | \u001b[34m\u001b[1mDEBUG   \u001b[0m | \u001b[36mlorapy.io._base_loader\u001b[0m:\u001b[36m_validate_data_path\u001b[0m:\u001b[36m140\u001b[0m - \u001b[34m\u001b[1mset datafile directory: ../data/symbol-ref\u001b[0m\n",
      "\u001b[32m2020-04-11 16:21:00.516\u001b[0m | \u001b[1mINFO    \u001b[0m | \u001b[36mlorapy.io._base_loader\u001b[0m:\u001b[36m_process_data_dir\u001b[0m:\u001b[36m153\u001b[0m - \u001b[1mfound 15 data file(s)\u001b[0m\n"
     ]
    },
    {
     "data": {
      "text/plain": [
       "[DotPFile(id=0 | name='lora_BW1_SF10_915MHz_20ksps_Att0_v0.p'),\n",
       " DotPFile(id=1 | name='lora_BW1_SF12_915MHz_20ksps_Att0_v0.p'),\n",
       " DotPFile(id=2 | name='lora_BW9_SF12_915MHz_20ksps_Att0_v0.p'),\n",
       " DotPFile(id=3 | name='lora_BW2_SF10_915MHz_20ksps_Att0_v0.p'),\n",
       " DotPFile(id=4 | name='lora_BW9_SF11_915MHz_20ksps_Att0_v0.p'),\n",
       " DotPFile(id=5 | name='lora_BW2_SF12_915MHz_20ksps_Att0_v0.p'),\n",
       " DotPFile(id=6 | name='lora_BW8_SF12_915MHz_20ksps_Att0_v0.p'),\n",
       " DotPFile(id=7 | name='lora_BW7_SF10_915MHz_20ksps_Att0_v0.p'),\n",
       " DotPFile(id=8 | name='lora_BW8_SF11_915MHz_20ksps_Att0_v0.p'),\n",
       " DotPFile(id=9 | name='lora_BW8_SF10_915MHz_20ksps_Att0_v0.p'),\n",
       " DotPFile(id=10 | name='lora_BW1_SF11_915MHz_20ksps_Att0_v0.p'),\n",
       " DotPFile(id=11 | name='lora_BW2_SF11_915MHz_20ksps_Att0_v0.p'),\n",
       " DotPFile(id=12 | name='lora_BW9_SF10_915MHz_20ksps_Att0_v0.p'),\n",
       " DotPFile(id=13 | name='lora_BW7_SF12_915MHz_20ksps_Att0_v0.p'),\n",
       " DotPFile(id=14 | name='lora_BW7_SF11_915MHz_20ksps_Att0_v0.p')]"
      ]
     },
     "execution_count": 6,
     "metadata": {},
     "output_type": "execute_result"
    }
   ],
   "source": [
    "ploader = lorapy.load_dotp(DOTP_DATA_DIR)\n",
    "ploader.file_list"
   ]
  },
  {
   "cell_type": "markdown",
   "metadata": {},
   "source": [
    "## missing files"
   ]
  },
  {
   "cell_type": "raw",
   "metadata": {
    "jupyter": {
     "source_hidden": true
    }
   },
   "source": [
    "missing_names = [\n",
    "    'lora_BW9_SF10_915MHz_20ksps_Att20_v0.p',\n",
    "    'lora_BW9_SF11_915MHz_20ksps_Att80_v0.p',\n",
    "    'lora_BW9_SF12_915MHz_20ksps_Att60_v0.p',\n",
    "    'lora_BW9_SF12_915MHz_20ksps_Att100_v0.p',\n",
    "]\n",
    "\n",
    "missing_files = [\n",
    "    file for file in symloader.file_list\n",
    "    if file.name in missing_names\n",
    "]\n",
    "\n",
    "missing_files"
   ]
  },
  {
   "cell_type": "markdown",
   "metadata": {},
   "source": [
    "## new files"
   ]
  },
  {
   "cell_type": "code",
   "execution_count": 12,
   "metadata": {
    "jupyter": {
     "source_hidden": true
    }
   },
   "outputs": [],
   "source": [
    "new_filenames = [\n",
    "    'lora_BW1_SF10_915MHz_20ksps_Att0_v1.p', \n",
    "    'lora_BW1_SF10_915MHz_20ksps_Att100_v1.p', \n",
    "    'lora_BW1_SF10_915MHz_20ksps_Att120_v1.p', \n",
    "    'lora_BW1_SF10_915MHz_20ksps_Att140_v1.p', \n",
    "    'lora_BW1_SF10_915MHz_20ksps_Att20_v1.p', \n",
    "    'lora_BW1_SF10_915MHz_20ksps_Att40_v1.p', \n",
    "    'lora_BW1_SF10_915MHz_20ksps_Att60_v1.p', \n",
    "    'lora_BW1_SF10_915MHz_20ksps_Att80_v1.p', \n",
    "    'lora_BW1_SF11_915MHz_20kspsAtt120_v1.p', \n",
    "    'lora_BW1_SF11_915MHz_20kspsAtt140_v1.p', \n",
    "    'lora_BW1_SF11_915MHz_20ksps_Att0_v1.p', \n",
    "    'lora_BW1_SF11_915MHz_20ksps_Att100_v1.p', \n",
    "    'lora_BW1_SF11_915MHz_20ksps_Att20_v1.p', \n",
    "    'lora_BW1_SF11_915MHz_20ksps_Att40_v1.p', \n",
    "    'lora_BW1_SF11_915MHz_20ksps_Att60_v1.p', \n",
    "    'lora_BW1_SF11_915MHz_20ksps_Att80_v1.p', \n",
    "    'lora_BW1_SF12_915MHz_20kspsAtt0_v1.p', \n",
    "    'lora_BW1_SF12_915MHz_20kspsAtt0_v2.p', \n",
    "    'lora_BW1_SF12_915MHz_20kspsAtt100_v1.p', \n",
    "    'lora_BW1_SF12_915MHz_20kspsAtt120_v1.p', \n",
    "    'lora_BW1_SF12_915MHz_20kspsAtt140_v1.p', \n",
    "    'lora_BW1_SF12_915MHz_20kspsAtt20_v1.p', \n",
    "    'lora_BW1_SF12_915MHz_20kspsAtt40_v1.p', \n",
    "    'lora_BW1_SF12_915MHz_20kspsAtt60_v1.p', \n",
    "    'lora_BW1_SF12_915MHz_20kspsAtt80_v1.p', \n",
    "    'lora_BW2_SF10_915MHz_20ksps_Att0_v1.p', \n",
    "    'lora_BW2_SF10_915MHz_20ksps_Att100_v1.p', \n",
    "    'lora_BW2_SF10_915MHz_20ksps_Att120_v1.p', \n",
    "    'lora_BW2_SF10_915MHz_20ksps_Att140_v1.p', \n",
    "    'lora_BW2_SF10_915MHz_20ksps_Att20_v1.p', \n",
    "    'lora_BW2_SF10_915MHz_20ksps_Att40_v1.p', \n",
    "    'lora_BW2_SF10_915MHz_20ksps_Att60_v1.p', \n",
    "    'lora_BW2_SF10_915MHz_20ksps_Att80_v1.p', \n",
    "    'lora_BW2_SF11_915MHz_20ksps_Att0_v1.p', \n",
    "    'lora_BW2_SF11_915MHz_20ksps_Att100_v1.p', \n",
    "    'lora_BW2_SF11_915MHz_20ksps_Att120_v1.p', \n",
    "    'lora_BW2_SF11_915MHz_20ksps_Att140_v1.p', \n",
    "    'lora_BW2_SF11_915MHz_20ksps_Att20_v1.p', \n",
    "    'lora_BW2_SF11_915MHz_20ksps_Att40_v1.p', \n",
    "    'lora_BW2_SF11_915MHz_20ksps_Att60_v1.p', \n",
    "    'lora_BW2_SF11_915MHz_20ksps_Att80_v1.p', \n",
    "    'lora_BW2_SF12_915MHz_20ksps_Att0_v1.p', \n",
    "    'lora_BW2_SF12_915MHz_20ksps_Att100_v1.p', \n",
    "    'lora_BW2_SF12_915MHz_20ksps_Att120_v1.p', \n",
    "    'lora_BW2_SF12_915MHz_20ksps_Att140_v1.p', \n",
    "    'lora_BW2_SF12_915MHz_20ksps_Att20_v1.p', \n",
    "    'lora_BW2_SF12_915MHz_20ksps_Att40_v1.p', \n",
    "    'lora_BW2_SF12_915MHz_20ksps_Att60_v1.p', \n",
    "    'lora_BW2_SF12_915MHz_20ksps_Att80_v1.p', \n",
    "]"
   ]
  },
  {
   "cell_type": "markdown",
   "metadata": {},
   "source": [
    "## symbols"
   ]
  },
  {
   "cell_type": "code",
   "execution_count": null,
   "metadata": {},
   "outputs": [],
   "source": [
    "file = symloader.select(101)\n",
    "file.load()\n",
    "display(file)\n",
    "\n",
    "pfile = _load_matching_dotp(file.bw, file.sf)\n",
    "display(pfile)\n",
    "\n",
    "base_symbol = pfile.to_signal()\n",
    "display(base_symbol)\n",
    "\n",
    "symbols = file.to_signal()\n",
    "display(symbols)"
   ]
  },
  {
   "cell_type": "markdown",
   "metadata": {},
   "source": [
    "# symbol filtering"
   ]
  },
  {
   "cell_type": "raw",
   "metadata": {
    "jupyter": {
     "source_hidden": true
    }
   },
   "source": [
    "def filter_symbols(file, thresh_type='window', plot=False):\n",
    "    symbols = file.to_signal()\n",
    "    display(symbols)\n",
    "\n",
    "    pfile = _load_matching_dotp(file.bw, file.sf)\n",
    "    base_symbol = pfile.to_signal()\n",
    "    display(base_symbol)\n",
    "    \n",
    "    conv_vals = [\n",
    "        base_symbol.convolve(sym)\n",
    "        for sym in symbols.data\n",
    "    ]\n",
    "    \n",
    "    thresh = (\n",
    "        np.quantile(conv_vals, [0.25])[0] if thresh_type == 'quant' \n",
    "        else (0.9, 1.1) if thresh_type == 'window' \n",
    "        else np.mean(conv_vals)/2\n",
    "    )\n",
    "    logger.info(f'set threshold: {thresh:0.4f}')\n",
    "    \n",
    "    if plot:\n",
    "        df = pd.DataFrame(conv_vals).rename(columns={0: 'data'})\n",
    "        df.plot.hist(bins=30)\n",
    "    \n",
    "    if thresh_type == 'window':\n",
    "        filtered_syms = np.vstack([\n",
    "            sym for sym, conv in zip(symbols.data, conv_vals)\n",
    "            if conv > thresh[0] and conv < thresh[1]\n",
    "        ])\n",
    "    else:\n",
    "        filtered_syms = np.vstack([\n",
    "            sym for sym, conv in zip(symbols.data, conv_vals)\n",
    "            if conv > thresh\n",
    "        ])\n",
    "\n",
    "    _removed_syms = symbols.data.shape[0] - len(filtered_syms)\n",
    "    logger.warning(f'removed {_removed_syms} symbols  [{len(filtered_syms)} / {symbols.data.shape[0]}]')\n",
    "    \n",
    "    if plot:\n",
    "        _plot_check(filtered_syms, 40)\n",
    "        \n",
    "    return filtered_syms, conv_vals"
   ]
  },
  {
   "cell_type": "code",
   "execution_count": 8,
   "metadata": {},
   "outputs": [],
   "source": [
    "def _fft_convolve_autocorr(symbol: np.ndarray):\n",
    "    return spsig.fftconvolve(symbol, symbol[::-1], mode='full')\n",
    "\n",
    "def _sp_corr(base_symbol: np.ndarray, packet_slice: np.ndarray) -> float:\n",
    "    min_size = np.min((base_symbol.size, packet_slice.size))\n",
    "    corr = spsig.correlate(base_symbol, packet_slice)\n",
    "    return np.abs(corr.max())\n",
    "    \n",
    "def _compute_corr(symbol: np.ndarray, base_symbol: np.ndarray) -> float:\n",
    "    return _sp_corr(base_symbol, _fft_convolve_autocorr(symbol))\n",
    "\n",
    "def _mp_compute_corr(base_sym: np.ndarray, symbols: np.ndarray) -> np.ndarray:\n",
    "    logger.warning(f'beginning multiprocessing..')\n",
    "    _part_compute_corr = partial(_compute_corr, base_symbol=base_sym)    \n",
    "\n",
    "    with multiprocessing.Pool() as pool:\n",
    "        results = pool.map(_part_compute_corr, symbols)\n",
    "    \n",
    "    logger.warning(f'completed multiprocessing')\n",
    "    return np.array(results)\n",
    "    \n",
    "\n",
    "def filter_symbols_fftcorr(file, thresh_adj=0.4, mp=True, plot=False):\n",
    "    symbols = file.to_signal()\n",
    "    display(symbols)\n",
    "\n",
    "    pfile = _load_matching_dotp(file.bw, file.sf)\n",
    "    base_symbol = pfile.to_signal()\n",
    "    display(base_symbol)\n",
    "    \n",
    "    if mp:\n",
    "        corr_fftconvs = _mp_compute_corr(base_symbol.data, symbols.data)\n",
    "    else:    \n",
    "        corr_fftconvs = np.array([\n",
    "            _compute_corr(sym, base_symbol.data)\n",
    "            for sym in symbols.data\n",
    "        ])\n",
    "    \n",
    "    thresh = corr_fftconvs.mean() \n",
    "    thresh *= thresh_adj\n",
    "    logger.info(f'set threshold: {thresh:0.6f}')\n",
    "    \n",
    "    filtered_symbols = symbols.data[np.where(corr_fftconvs > thresh)[0], :]\n",
    "    _rm_symbols = symbols.data[np.where(corr_fftconvs < thresh)[0], :]\n",
    "   \n",
    "    _removed_syms = symbols.data.shape[0] - len(filtered_symbols)\n",
    "    logger.warning(f'removed {_removed_syms} symbols  [{len(filtered_symbols)} / {symbols.data.shape[0]}]')\n",
    "    \n",
    "    if plot:\n",
    "        _plot_check(filtered_symbols, 40)\n",
    "        \n",
    "#     return filtered_symbols, _rm_symbols, corr_fftconvs\n",
    "    return filtered_symbols\n"
   ]
  },
  {
   "cell_type": "code",
   "execution_count": 14,
   "metadata": {
    "scrolled": true
   },
   "outputs": [
    {
     "name": "stderr",
     "output_type": "stream",
     "text": [
      "0it [00:00, ?it/s]"
     ]
    },
    {
     "name": "stdout",
     "output_type": "stream",
     "text": [
      "\u001b[32m2020-04-11 16:23:30.672\u001b[0m | \u001b[33m\u001b[1mWARNING \u001b[0m | \u001b[36m__main__\u001b[0m:\u001b[36m<module>\u001b[0m:\u001b[36m6\u001b[0m - \u001b[33m\u001b[1mworking file DotPFile(id=4 | name='lora_BW1_SF10_915MHz_20ksps_Att120_v1.p')\u001b[0m\n",
      "\u001b[32m2020-04-11 16:23:30.674\u001b[0m | \u001b[34m\u001b[1mDEBUG   \u001b[0m | \u001b[36mlorapy.datafile.encoding\u001b[0m:\u001b[36mcompute_params\u001b[0m:\u001b[36m15\u001b[0m - \u001b[34m\u001b[1mcomputed samples per symbol: 19198 and packet length: 580739\u001b[0m\n",
      "\u001b[32m2020-04-11 16:23:30.976\u001b[0m | \u001b[1mINFO    \u001b[0m | \u001b[36mlorapy.datafile._base_file\u001b[0m:\u001b[36mload\u001b[0m:\u001b[36m61\u001b[0m - \u001b[1mloaded 10770078 samples from file\u001b[0m\n"
     ]
    },
    {
     "data": {
      "text/plain": [
       "BaselineSymbolSet(num symbols=561 | BW: 1 | SF: 10 | Att: 120 | samples per symbol: 19198 | packet length: 580739)"
      ]
     },
     "metadata": {},
     "output_type": "display_data"
    },
    {
     "name": "stdout",
     "output_type": "stream",
     "text": [
      "\u001b[32m2020-04-11 16:23:30.980\u001b[0m | \u001b[34m\u001b[1mDEBUG   \u001b[0m | \u001b[36mlorapy.datafile.encoding\u001b[0m:\u001b[36mcompute_params\u001b[0m:\u001b[36m15\u001b[0m - \u001b[34m\u001b[1mcomputed samples per symbol: 19198 and packet length: 580739\u001b[0m\n",
      "\u001b[32m2020-04-11 16:23:30.982\u001b[0m | \u001b[1mINFO    \u001b[0m | \u001b[36mlorapy.datafile._base_file\u001b[0m:\u001b[36mload\u001b[0m:\u001b[36m61\u001b[0m - \u001b[1mloaded 19197 samples from file\u001b[0m\n"
     ]
    },
    {
     "data": {
      "text/plain": [
       "BaselineSymbolSet(num symbols=19197 | BW: 1 | SF: 10 | Att: 0 | samples per symbol: 19198 | packet length: 580739)"
      ]
     },
     "metadata": {},
     "output_type": "display_data"
    },
    {
     "name": "stdout",
     "output_type": "stream",
     "text": [
      "\u001b[32m2020-04-11 16:23:30.985\u001b[0m | \u001b[33m\u001b[1mWARNING \u001b[0m | \u001b[36m__main__\u001b[0m:\u001b[36m_mp_compute_corr\u001b[0m:\u001b[36m13\u001b[0m - \u001b[33m\u001b[1mbeginning multiprocessing..\u001b[0m\n",
      "\u001b[32m2020-04-11 16:23:31.799\u001b[0m | \u001b[33m\u001b[1mWARNING \u001b[0m | \u001b[36m__main__\u001b[0m:\u001b[36m_mp_compute_corr\u001b[0m:\u001b[36m19\u001b[0m - \u001b[33m\u001b[1mcompleted multiprocessing\u001b[0m\n",
      "\u001b[32m2020-04-11 16:23:31.803\u001b[0m | \u001b[1mINFO    \u001b[0m | \u001b[36m__main__\u001b[0m:\u001b[36mfilter_symbols_fftcorr\u001b[0m:\u001b[36m41\u001b[0m - \u001b[1mset threshold: 0.001041\u001b[0m\n",
      "\u001b[32m2020-04-11 16:23:31.875\u001b[0m | \u001b[33m\u001b[1mWARNING \u001b[0m | \u001b[36m__main__\u001b[0m:\u001b[36mfilter_symbols_fftcorr\u001b[0m:\u001b[36m47\u001b[0m - \u001b[33m\u001b[1mremoved 1 symbols  [560 / 561]\u001b[0m\n"
     ]
    },
    {
     "name": "stderr",
     "output_type": "stream",
     "text": [
      "1it [00:01,  1.37s/it]"
     ]
    },
    {
     "name": "stdout",
     "output_type": "stream",
     "text": [
      "\u001b[32m2020-04-11 16:23:32.045\u001b[0m | \u001b[33m\u001b[1mWARNING \u001b[0m | \u001b[36m__main__\u001b[0m:\u001b[36m<module>\u001b[0m:\u001b[36m6\u001b[0m - \u001b[33m\u001b[1mworking file DotPFile(id=6 | name='lora_BW2_SF12_915MHz_20ksps_Att80_v1.p')\u001b[0m\n",
      "\u001b[32m2020-04-11 16:23:32.046\u001b[0m | \u001b[34m\u001b[1mDEBUG   \u001b[0m | \u001b[36mlorapy.datafile.encoding\u001b[0m:\u001b[36mcompute_params\u001b[0m:\u001b[36m15\u001b[0m - \u001b[34m\u001b[1mcomputed samples per symbol: 51197 and packet length: 1548709\u001b[0m\n",
      "\u001b[32m2020-04-11 16:23:32.462\u001b[0m | \u001b[1mINFO    \u001b[0m | \u001b[36mlorapy.datafile._base_file\u001b[0m:\u001b[36mload\u001b[0m:\u001b[36m61\u001b[0m - \u001b[1mloaded 13516008 samples from file\u001b[0m\n"
     ]
    },
    {
     "data": {
      "text/plain": [
       "BaselineSymbolSet(num symbols=264 | BW: 2 | SF: 12 | Att: 80 | samples per symbol: 51197 | packet length: 1548709)"
      ]
     },
     "metadata": {},
     "output_type": "display_data"
    },
    {
     "name": "stdout",
     "output_type": "stream",
     "text": [
      "\u001b[32m2020-04-11 16:23:32.467\u001b[0m | \u001b[34m\u001b[1mDEBUG   \u001b[0m | \u001b[36mlorapy.datafile.encoding\u001b[0m:\u001b[36mcompute_params\u001b[0m:\u001b[36m15\u001b[0m - \u001b[34m\u001b[1mcomputed samples per symbol: 51197 and packet length: 1548709\u001b[0m\n",
      "\u001b[32m2020-04-11 16:23:32.470\u001b[0m | \u001b[1mINFO    \u001b[0m | \u001b[36mlorapy.datafile._base_file\u001b[0m:\u001b[36mload\u001b[0m:\u001b[36m61\u001b[0m - \u001b[1mloaded 51197 samples from file\u001b[0m\n"
     ]
    },
    {
     "data": {
      "text/plain": [
       "BaselineSymbolSet(num symbols=51197 | BW: 2 | SF: 12 | Att: 0 | samples per symbol: 51197 | packet length: 1548709)"
      ]
     },
     "metadata": {},
     "output_type": "display_data"
    },
    {
     "name": "stdout",
     "output_type": "stream",
     "text": [
      "\u001b[32m2020-04-11 16:23:32.472\u001b[0m | \u001b[33m\u001b[1mWARNING \u001b[0m | \u001b[36m__main__\u001b[0m:\u001b[36m_mp_compute_corr\u001b[0m:\u001b[36m13\u001b[0m - \u001b[33m\u001b[1mbeginning multiprocessing..\u001b[0m\n",
      "\u001b[32m2020-04-11 16:23:33.861\u001b[0m | \u001b[33m\u001b[1mWARNING \u001b[0m | \u001b[36m__main__\u001b[0m:\u001b[36m_mp_compute_corr\u001b[0m:\u001b[36m19\u001b[0m - \u001b[33m\u001b[1mcompleted multiprocessing\u001b[0m\n",
      "\u001b[32m2020-04-11 16:23:33.864\u001b[0m | \u001b[1mINFO    \u001b[0m | \u001b[36m__main__\u001b[0m:\u001b[36mfilter_symbols_fftcorr\u001b[0m:\u001b[36m41\u001b[0m - \u001b[1mset threshold: 1.405627\u001b[0m\n",
      "\u001b[32m2020-04-11 16:23:34.065\u001b[0m | \u001b[33m\u001b[1mWARNING \u001b[0m | \u001b[36m__main__\u001b[0m:\u001b[36mfilter_symbols_fftcorr\u001b[0m:\u001b[36m47\u001b[0m - \u001b[33m\u001b[1mremoved 0 symbols  [264 / 264]\u001b[0m\n"
     ]
    },
    {
     "name": "stderr",
     "output_type": "stream",
     "text": [
      "2it [00:03,  1.62s/it]"
     ]
    },
    {
     "name": "stdout",
     "output_type": "stream",
     "text": [
      "\u001b[32m2020-04-11 16:23:34.260\u001b[0m | \u001b[33m\u001b[1mWARNING \u001b[0m | \u001b[36m__main__\u001b[0m:\u001b[36m<module>\u001b[0m:\u001b[36m6\u001b[0m - \u001b[33m\u001b[1mworking file DotPFile(id=10 | name='lora_BW2_SF12_915MHz_20ksps_Att60_v1.p')\u001b[0m\n",
      "\u001b[32m2020-04-11 16:23:34.262\u001b[0m | \u001b[34m\u001b[1mDEBUG   \u001b[0m | \u001b[36mlorapy.datafile.encoding\u001b[0m:\u001b[36mcompute_params\u001b[0m:\u001b[36m15\u001b[0m - \u001b[34m\u001b[1mcomputed samples per symbol: 51197 and packet length: 1548709\u001b[0m\n",
      "\u001b[32m2020-04-11 16:23:34.550\u001b[0m | \u001b[1mINFO    \u001b[0m | \u001b[36mlorapy.datafile._base_file\u001b[0m:\u001b[36mload\u001b[0m:\u001b[36m61\u001b[0m - \u001b[1mloaded 12389674 samples from file\u001b[0m\n"
     ]
    },
    {
     "data": {
      "text/plain": [
       "BaselineSymbolSet(num symbols=242 | BW: 2 | SF: 12 | Att: 60 | samples per symbol: 51197 | packet length: 1548709)"
      ]
     },
     "metadata": {},
     "output_type": "display_data"
    },
    {
     "name": "stdout",
     "output_type": "stream",
     "text": [
      "\u001b[32m2020-04-11 16:23:34.554\u001b[0m | \u001b[34m\u001b[1mDEBUG   \u001b[0m | \u001b[36mlorapy.datafile.encoding\u001b[0m:\u001b[36mcompute_params\u001b[0m:\u001b[36m15\u001b[0m - \u001b[34m\u001b[1mcomputed samples per symbol: 51197 and packet length: 1548709\u001b[0m\n",
      "\u001b[32m2020-04-11 16:23:34.555\u001b[0m | \u001b[1mINFO    \u001b[0m | \u001b[36mlorapy.datafile._base_file\u001b[0m:\u001b[36mload\u001b[0m:\u001b[36m61\u001b[0m - \u001b[1mloaded 51197 samples from file\u001b[0m\n"
     ]
    },
    {
     "data": {
      "text/plain": [
       "BaselineSymbolSet(num symbols=51197 | BW: 2 | SF: 12 | Att: 0 | samples per symbol: 51197 | packet length: 1548709)"
      ]
     },
     "metadata": {},
     "output_type": "display_data"
    },
    {
     "name": "stdout",
     "output_type": "stream",
     "text": [
      "\u001b[32m2020-04-11 16:23:34.557\u001b[0m | \u001b[33m\u001b[1mWARNING \u001b[0m | \u001b[36m__main__\u001b[0m:\u001b[36m_mp_compute_corr\u001b[0m:\u001b[36m13\u001b[0m - \u001b[33m\u001b[1mbeginning multiprocessing..\u001b[0m\n",
      "\u001b[32m2020-04-11 16:23:35.760\u001b[0m | \u001b[33m\u001b[1mWARNING \u001b[0m | \u001b[36m__main__\u001b[0m:\u001b[36m_mp_compute_corr\u001b[0m:\u001b[36m19\u001b[0m - \u001b[33m\u001b[1mcompleted multiprocessing\u001b[0m\n",
      "\u001b[32m2020-04-11 16:23:35.763\u001b[0m | \u001b[1mINFO    \u001b[0m | \u001b[36m__main__\u001b[0m:\u001b[36mfilter_symbols_fftcorr\u001b[0m:\u001b[36m41\u001b[0m - \u001b[1mset threshold: 141.747156\u001b[0m\n",
      "\u001b[32m2020-04-11 16:23:35.827\u001b[0m | \u001b[33m\u001b[1mWARNING \u001b[0m | \u001b[36m__main__\u001b[0m:\u001b[36mfilter_symbols_fftcorr\u001b[0m:\u001b[36m47\u001b[0m - \u001b[33m\u001b[1mremoved 0 symbols  [242 / 242]\u001b[0m\n"
     ]
    },
    {
     "name": "stderr",
     "output_type": "stream",
     "text": [
      "3it [00:05,  1.66s/it]"
     ]
    },
    {
     "name": "stdout",
     "output_type": "stream",
     "text": [
      "\u001b[32m2020-04-11 16:23:36.003\u001b[0m | \u001b[33m\u001b[1mWARNING \u001b[0m | \u001b[36m__main__\u001b[0m:\u001b[36m<module>\u001b[0m:\u001b[36m6\u001b[0m - \u001b[33m\u001b[1mworking file DotPFile(id=11 | name='lora_BW2_SF10_915MHz_20ksps_Att140_v1.p')\u001b[0m\n",
      "\u001b[32m2020-04-11 16:23:36.004\u001b[0m | \u001b[34m\u001b[1mDEBUG   \u001b[0m | \u001b[36mlorapy.datafile.encoding\u001b[0m:\u001b[36mcompute_params\u001b[0m:\u001b[36m15\u001b[0m - \u001b[34m\u001b[1mcomputed samples per symbol: 12802 and packet length: 387260\u001b[0m\n",
      "\u001b[32m2020-04-11 16:23:36.235\u001b[0m | \u001b[1mINFO    \u001b[0m | \u001b[36mlorapy.datafile._base_file\u001b[0m:\u001b[36mload\u001b[0m:\u001b[36m61\u001b[0m - \u001b[1mloaded 10843294 samples from file\u001b[0m\n"
     ]
    },
    {
     "data": {
      "text/plain": [
       "BaselineSymbolSet(num symbols=847 | BW: 2 | SF: 10 | Att: 140 | samples per symbol: 12802 | packet length: 387260)"
      ]
     },
     "metadata": {},
     "output_type": "display_data"
    },
    {
     "name": "stdout",
     "output_type": "stream",
     "text": [
      "\u001b[32m2020-04-11 16:23:36.240\u001b[0m | \u001b[34m\u001b[1mDEBUG   \u001b[0m | \u001b[36mlorapy.datafile.encoding\u001b[0m:\u001b[36mcompute_params\u001b[0m:\u001b[36m15\u001b[0m - \u001b[34m\u001b[1mcomputed samples per symbol: 12802 and packet length: 387260\u001b[0m\n",
      "\u001b[32m2020-04-11 16:23:36.241\u001b[0m | \u001b[1mINFO    \u001b[0m | \u001b[36mlorapy.datafile._base_file\u001b[0m:\u001b[36mload\u001b[0m:\u001b[36m61\u001b[0m - \u001b[1mloaded 12801 samples from file\u001b[0m\n"
     ]
    },
    {
     "data": {
      "text/plain": [
       "BaselineSymbolSet(num symbols=12801 | BW: 2 | SF: 10 | Att: 0 | samples per symbol: 12802 | packet length: 387260)"
      ]
     },
     "metadata": {},
     "output_type": "display_data"
    },
    {
     "name": "stdout",
     "output_type": "stream",
     "text": [
      "\u001b[32m2020-04-11 16:23:36.244\u001b[0m | \u001b[33m\u001b[1mWARNING \u001b[0m | \u001b[36m__main__\u001b[0m:\u001b[36m_mp_compute_corr\u001b[0m:\u001b[36m13\u001b[0m - \u001b[33m\u001b[1mbeginning multiprocessing..\u001b[0m\n",
      "\u001b[32m2020-04-11 16:23:37.155\u001b[0m | \u001b[33m\u001b[1mWARNING \u001b[0m | \u001b[36m__main__\u001b[0m:\u001b[36m_mp_compute_corr\u001b[0m:\u001b[36m19\u001b[0m - \u001b[33m\u001b[1mcompleted multiprocessing\u001b[0m\n",
      "\u001b[32m2020-04-11 16:23:37.158\u001b[0m | \u001b[1mINFO    \u001b[0m | \u001b[36m__main__\u001b[0m:\u001b[36mfilter_symbols_fftcorr\u001b[0m:\u001b[36m41\u001b[0m - \u001b[1mset threshold: 0.000579\u001b[0m\n",
      "\u001b[32m2020-04-11 16:23:37.198\u001b[0m | \u001b[33m\u001b[1mWARNING \u001b[0m | \u001b[36m__main__\u001b[0m:\u001b[36mfilter_symbols_fftcorr\u001b[0m:\u001b[36m47\u001b[0m - \u001b[33m\u001b[1mremoved 15 symbols  [832 / 847]\u001b[0m\n"
     ]
    },
    {
     "name": "stderr",
     "output_type": "stream",
     "text": [
      "4it [00:06,  1.57s/it]"
     ]
    },
    {
     "name": "stdout",
     "output_type": "stream",
     "text": [
      "\u001b[32m2020-04-11 16:23:37.360\u001b[0m | \u001b[33m\u001b[1mWARNING \u001b[0m | \u001b[36m__main__\u001b[0m:\u001b[36m<module>\u001b[0m:\u001b[36m6\u001b[0m - \u001b[33m\u001b[1mworking file DotPFile(id=12 | name='lora_BW1_SF10_915MHz_20ksps_Att40_v1.p')\u001b[0m\n",
      "\u001b[32m2020-04-11 16:23:37.361\u001b[0m | \u001b[34m\u001b[1mDEBUG   \u001b[0m | \u001b[36mlorapy.datafile.encoding\u001b[0m:\u001b[36mcompute_params\u001b[0m:\u001b[36m15\u001b[0m - \u001b[34m\u001b[1mcomputed samples per symbol: 19198 and packet length: 580739\u001b[0m\n",
      "\u001b[32m2020-04-11 16:23:37.721\u001b[0m | \u001b[1mINFO    \u001b[0m | \u001b[36mlorapy.datafile._base_file\u001b[0m:\u001b[36mload\u001b[0m:\u001b[36m61\u001b[0m - \u001b[1mloaded 12325116 samples from file\u001b[0m\n"
     ]
    },
    {
     "data": {
      "text/plain": [
       "BaselineSymbolSet(num symbols=642 | BW: 1 | SF: 10 | Att: 40 | samples per symbol: 19198 | packet length: 580739)"
      ]
     },
     "metadata": {},
     "output_type": "display_data"
    },
    {
     "name": "stdout",
     "output_type": "stream",
     "text": [
      "\u001b[32m2020-04-11 16:23:37.725\u001b[0m | \u001b[34m\u001b[1mDEBUG   \u001b[0m | \u001b[36mlorapy.datafile.encoding\u001b[0m:\u001b[36mcompute_params\u001b[0m:\u001b[36m15\u001b[0m - \u001b[34m\u001b[1mcomputed samples per symbol: 19198 and packet length: 580739\u001b[0m\n",
      "\u001b[32m2020-04-11 16:23:37.727\u001b[0m | \u001b[1mINFO    \u001b[0m | \u001b[36mlorapy.datafile._base_file\u001b[0m:\u001b[36mload\u001b[0m:\u001b[36m61\u001b[0m - \u001b[1mloaded 19197 samples from file\u001b[0m\n"
     ]
    },
    {
     "data": {
      "text/plain": [
       "BaselineSymbolSet(num symbols=19197 | BW: 1 | SF: 10 | Att: 0 | samples per symbol: 19198 | packet length: 580739)"
      ]
     },
     "metadata": {},
     "output_type": "display_data"
    },
    {
     "name": "stdout",
     "output_type": "stream",
     "text": [
      "\u001b[32m2020-04-11 16:23:37.729\u001b[0m | \u001b[33m\u001b[1mWARNING \u001b[0m | \u001b[36m__main__\u001b[0m:\u001b[36m_mp_compute_corr\u001b[0m:\u001b[36m13\u001b[0m - \u001b[33m\u001b[1mbeginning multiprocessing..\u001b[0m\n",
      "\u001b[32m2020-04-11 16:23:38.666\u001b[0m | \u001b[33m\u001b[1mWARNING \u001b[0m | \u001b[36m__main__\u001b[0m:\u001b[36m_mp_compute_corr\u001b[0m:\u001b[36m19\u001b[0m - \u001b[33m\u001b[1mcompleted multiprocessing\u001b[0m\n",
      "\u001b[32m2020-04-11 16:23:38.669\u001b[0m | \u001b[1mINFO    \u001b[0m | \u001b[36m__main__\u001b[0m:\u001b[36mfilter_symbols_fftcorr\u001b[0m:\u001b[36m41\u001b[0m - \u001b[1mset threshold: 7908.153125\u001b[0m\n",
      "\u001b[32m2020-04-11 16:23:38.711\u001b[0m | \u001b[33m\u001b[1mWARNING \u001b[0m | \u001b[36m__main__\u001b[0m:\u001b[36mfilter_symbols_fftcorr\u001b[0m:\u001b[36m47\u001b[0m - \u001b[33m\u001b[1mremoved 0 symbols  [642 / 642]\u001b[0m\n"
     ]
    },
    {
     "name": "stderr",
     "output_type": "stream",
     "text": [
      "5it [00:08,  1.56s/it]"
     ]
    },
    {
     "name": "stdout",
     "output_type": "stream",
     "text": [
      "\u001b[32m2020-04-11 16:23:38.894\u001b[0m | \u001b[33m\u001b[1mWARNING \u001b[0m | \u001b[36m__main__\u001b[0m:\u001b[36m<module>\u001b[0m:\u001b[36m6\u001b[0m - \u001b[33m\u001b[1mworking file DotPFile(id=18 | name='lora_BW2_SF11_915MHz_20ksps_Att140_v1.p')\u001b[0m\n",
      "\u001b[32m2020-04-11 16:23:38.896\u001b[0m | \u001b[34m\u001b[1mDEBUG   \u001b[0m | \u001b[36mlorapy.datafile.encoding\u001b[0m:\u001b[36mcompute_params\u001b[0m:\u001b[36m15\u001b[0m - \u001b[34m\u001b[1mcomputed samples per symbol: 25604 and packet length: 774521\u001b[0m\n",
      "\u001b[32m2020-04-11 16:23:39.462\u001b[0m | \u001b[1mINFO    \u001b[0m | \u001b[36mlorapy.datafile._base_file\u001b[0m:\u001b[36mload\u001b[0m:\u001b[36m61\u001b[0m - \u001b[1mloaded 11393780 samples from file\u001b[0m\n"
     ]
    },
    {
     "data": {
      "text/plain": [
       "BaselineSymbolSet(num symbols=445 | BW: 2 | SF: 11 | Att: 140 | samples per symbol: 25604 | packet length: 774521)"
      ]
     },
     "metadata": {},
     "output_type": "display_data"
    },
    {
     "name": "stdout",
     "output_type": "stream",
     "text": [
      "\u001b[32m2020-04-11 16:23:39.467\u001b[0m | \u001b[34m\u001b[1mDEBUG   \u001b[0m | \u001b[36mlorapy.datafile.encoding\u001b[0m:\u001b[36mcompute_params\u001b[0m:\u001b[36m15\u001b[0m - \u001b[34m\u001b[1mcomputed samples per symbol: 25604 and packet length: 774521\u001b[0m\n",
      "\u001b[32m2020-04-11 16:23:39.469\u001b[0m | \u001b[1mINFO    \u001b[0m | \u001b[36mlorapy.datafile._base_file\u001b[0m:\u001b[36mload\u001b[0m:\u001b[36m61\u001b[0m - \u001b[1mloaded 25603 samples from file\u001b[0m\n"
     ]
    },
    {
     "data": {
      "text/plain": [
       "BaselineSymbolSet(num symbols=25603 | BW: 2 | SF: 11 | Att: 0 | samples per symbol: 25604 | packet length: 774521)"
      ]
     },
     "metadata": {},
     "output_type": "display_data"
    },
    {
     "name": "stdout",
     "output_type": "stream",
     "text": [
      "\u001b[32m2020-04-11 16:23:39.471\u001b[0m | \u001b[33m\u001b[1mWARNING \u001b[0m | \u001b[36m__main__\u001b[0m:\u001b[36m_mp_compute_corr\u001b[0m:\u001b[36m13\u001b[0m - \u001b[33m\u001b[1mbeginning multiprocessing..\u001b[0m\n",
      "\u001b[32m2020-04-11 16:23:40.914\u001b[0m | \u001b[33m\u001b[1mWARNING \u001b[0m | \u001b[36m__main__\u001b[0m:\u001b[36m_mp_compute_corr\u001b[0m:\u001b[36m19\u001b[0m - \u001b[33m\u001b[1mcompleted multiprocessing\u001b[0m\n",
      "\u001b[32m2020-04-11 16:23:40.917\u001b[0m | \u001b[1mINFO    \u001b[0m | \u001b[36m__main__\u001b[0m:\u001b[36mfilter_symbols_fftcorr\u001b[0m:\u001b[36m41\u001b[0m - \u001b[1mset threshold: 0.001642\u001b[0m\n",
      "\u001b[32m2020-04-11 16:23:41.141\u001b[0m | \u001b[33m\u001b[1mWARNING \u001b[0m | \u001b[36m__main__\u001b[0m:\u001b[36mfilter_symbols_fftcorr\u001b[0m:\u001b[36m47\u001b[0m - \u001b[33m\u001b[1mremoved 0 symbols  [445 / 445]\u001b[0m\n"
     ]
    },
    {
     "name": "stderr",
     "output_type": "stream",
     "text": [
      "6it [00:10,  1.87s/it]"
     ]
    },
    {
     "name": "stdout",
     "output_type": "stream",
     "text": [
      "\u001b[32m2020-04-11 16:23:41.482\u001b[0m | \u001b[33m\u001b[1mWARNING \u001b[0m | \u001b[36m__main__\u001b[0m:\u001b[36m<module>\u001b[0m:\u001b[36m6\u001b[0m - \u001b[33m\u001b[1mworking file DotPFile(id=20 | name='lora_BW1_SF11_915MHz_20ksps_Att100_v1.p')\u001b[0m\n",
      "\u001b[32m2020-04-11 16:23:41.483\u001b[0m | \u001b[34m\u001b[1mDEBUG   \u001b[0m | \u001b[36mlorapy.datafile.encoding\u001b[0m:\u001b[36mcompute_params\u001b[0m:\u001b[36m15\u001b[0m - \u001b[34m\u001b[1mcomputed samples per symbol: 38396 and packet length: 1161479\u001b[0m\n",
      "\u001b[32m2020-04-11 16:23:42.208\u001b[0m | \u001b[1mINFO    \u001b[0m | \u001b[36mlorapy.datafile._base_file\u001b[0m:\u001b[36mload\u001b[0m:\u001b[36m61\u001b[0m - \u001b[1mloaded 13093036 samples from file\u001b[0m\n"
     ]
    },
    {
     "data": {
      "text/plain": [
       "BaselineSymbolSet(num symbols=341 | BW: 1 | SF: 11 | Att: 100 | samples per symbol: 38396 | packet length: 1161479)"
      ]
     },
     "metadata": {},
     "output_type": "display_data"
    },
    {
     "name": "stdout",
     "output_type": "stream",
     "text": [
      "\u001b[32m2020-04-11 16:23:42.212\u001b[0m | \u001b[34m\u001b[1mDEBUG   \u001b[0m | \u001b[36mlorapy.datafile.encoding\u001b[0m:\u001b[36mcompute_params\u001b[0m:\u001b[36m15\u001b[0m - \u001b[34m\u001b[1mcomputed samples per symbol: 38396 and packet length: 1161479\u001b[0m\n",
      "\u001b[32m2020-04-11 16:23:42.214\u001b[0m | \u001b[1mINFO    \u001b[0m | \u001b[36mlorapy.datafile._base_file\u001b[0m:\u001b[36mload\u001b[0m:\u001b[36m61\u001b[0m - \u001b[1mloaded 38395 samples from file\u001b[0m\n"
     ]
    },
    {
     "data": {
      "text/plain": [
       "BaselineSymbolSet(num symbols=38395 | BW: 1 | SF: 11 | Att: 0 | samples per symbol: 38396 | packet length: 1161479)"
      ]
     },
     "metadata": {},
     "output_type": "display_data"
    },
    {
     "name": "stdout",
     "output_type": "stream",
     "text": [
      "\u001b[32m2020-04-11 16:23:42.217\u001b[0m | \u001b[33m\u001b[1mWARNING \u001b[0m | \u001b[36m__main__\u001b[0m:\u001b[36m_mp_compute_corr\u001b[0m:\u001b[36m13\u001b[0m - \u001b[33m\u001b[1mbeginning multiprocessing..\u001b[0m\n",
      "\u001b[32m2020-04-11 16:23:44.108\u001b[0m | \u001b[33m\u001b[1mWARNING \u001b[0m | \u001b[36m__main__\u001b[0m:\u001b[36m_mp_compute_corr\u001b[0m:\u001b[36m19\u001b[0m - \u001b[33m\u001b[1mcompleted multiprocessing\u001b[0m\n",
      "\u001b[32m2020-04-11 16:23:44.112\u001b[0m | \u001b[1mINFO    \u001b[0m | \u001b[36m__main__\u001b[0m:\u001b[36mfilter_symbols_fftcorr\u001b[0m:\u001b[36m41\u001b[0m - \u001b[1mset threshold: 0.013316\u001b[0m\n",
      "\u001b[32m2020-04-11 16:23:44.298\u001b[0m | \u001b[33m\u001b[1mWARNING \u001b[0m | \u001b[36m__main__\u001b[0m:\u001b[36mfilter_symbols_fftcorr\u001b[0m:\u001b[36m47\u001b[0m - \u001b[33m\u001b[1mremoved 0 symbols  [341 / 341]\u001b[0m\n"
     ]
    },
    {
     "name": "stderr",
     "output_type": "stream",
     "text": [
      "7it [00:13,  2.26s/it]"
     ]
    },
    {
     "name": "stdout",
     "output_type": "stream",
     "text": [
      "\u001b[32m2020-04-11 16:23:44.658\u001b[0m | \u001b[33m\u001b[1mWARNING \u001b[0m | \u001b[36m__main__\u001b[0m:\u001b[36m<module>\u001b[0m:\u001b[36m6\u001b[0m - \u001b[33m\u001b[1mworking file DotPFile(id=21 | name='lora_BW1_SF12_915MHz_20kspsAtt20_v1.p')\u001b[0m\n",
      "\u001b[32m2020-04-11 16:23:44.660\u001b[0m | \u001b[34m\u001b[1mDEBUG   \u001b[0m | \u001b[36mlorapy.datafile.encoding\u001b[0m:\u001b[36mcompute_params\u001b[0m:\u001b[36m15\u001b[0m - \u001b[34m\u001b[1mcomputed samples per symbol: 76801 and packet length: 2323230\u001b[0m\n",
      "\u001b[32m2020-04-11 16:23:45.937\u001b[0m | \u001b[1mINFO    \u001b[0m | \u001b[36mlorapy.datafile._base_file\u001b[0m:\u001b[36mload\u001b[0m:\u001b[36m61\u001b[0m - \u001b[1mloaded 12288160 samples from file\u001b[0m\n"
     ]
    },
    {
     "data": {
      "text/plain": [
       "BaselineSymbolSet(num symbols=160 | BW: 1 | SF: 12 | Att: 20 | samples per symbol: 76801 | packet length: 2323230)"
      ]
     },
     "metadata": {},
     "output_type": "display_data"
    },
    {
     "name": "stdout",
     "output_type": "stream",
     "text": [
      "\u001b[32m2020-04-11 16:23:45.942\u001b[0m | \u001b[34m\u001b[1mDEBUG   \u001b[0m | \u001b[36mlorapy.datafile.encoding\u001b[0m:\u001b[36mcompute_params\u001b[0m:\u001b[36m15\u001b[0m - \u001b[34m\u001b[1mcomputed samples per symbol: 76801 and packet length: 2323230\u001b[0m\n",
      "\u001b[32m2020-04-11 16:23:45.945\u001b[0m | \u001b[1mINFO    \u001b[0m | \u001b[36mlorapy.datafile._base_file\u001b[0m:\u001b[36mload\u001b[0m:\u001b[36m61\u001b[0m - \u001b[1mloaded 76800 samples from file\u001b[0m\n"
     ]
    },
    {
     "data": {
      "text/plain": [
       "BaselineSymbolSet(num symbols=76800 | BW: 1 | SF: 12 | Att: 0 | samples per symbol: 76801 | packet length: 2323230)"
      ]
     },
     "metadata": {},
     "output_type": "display_data"
    },
    {
     "name": "stdout",
     "output_type": "stream",
     "text": [
      "\u001b[32m2020-04-11 16:23:45.947\u001b[0m | \u001b[33m\u001b[1mWARNING \u001b[0m | \u001b[36m__main__\u001b[0m:\u001b[36m_mp_compute_corr\u001b[0m:\u001b[36m13\u001b[0m - \u001b[33m\u001b[1mbeginning multiprocessing..\u001b[0m\n",
      "\u001b[32m2020-04-11 16:23:48.270\u001b[0m | \u001b[33m\u001b[1mWARNING \u001b[0m | \u001b[36m__main__\u001b[0m:\u001b[36m_mp_compute_corr\u001b[0m:\u001b[36m19\u001b[0m - \u001b[33m\u001b[1mcompleted multiprocessing\u001b[0m\n",
      "\u001b[32m2020-04-11 16:23:48.274\u001b[0m | \u001b[1mINFO    \u001b[0m | \u001b[36m__main__\u001b[0m:\u001b[36mfilter_symbols_fftcorr\u001b[0m:\u001b[36m41\u001b[0m - \u001b[1mset threshold: 1548172.245039\u001b[0m\n",
      "\u001b[32m2020-04-11 16:23:48.565\u001b[0m | \u001b[33m\u001b[1mWARNING \u001b[0m | \u001b[36m__main__\u001b[0m:\u001b[36mfilter_symbols_fftcorr\u001b[0m:\u001b[36m47\u001b[0m - \u001b[33m\u001b[1mremoved 0 symbols  [160 / 160]\u001b[0m\n"
     ]
    },
    {
     "name": "stderr",
     "output_type": "stream",
     "text": [
      "8it [00:18,  2.86s/it]"
     ]
    },
    {
     "name": "stdout",
     "output_type": "stream",
     "text": [
      "\u001b[32m2020-04-11 16:23:48.906\u001b[0m | \u001b[33m\u001b[1mWARNING \u001b[0m | \u001b[36m__main__\u001b[0m:\u001b[36m<module>\u001b[0m:\u001b[36m6\u001b[0m - \u001b[33m\u001b[1mworking file DotPFile(id=26 | name='lora_BW2_SF11_915MHz_20ksps_Att40_v1.p')\u001b[0m\n",
      "\u001b[32m2020-04-11 16:23:48.907\u001b[0m | \u001b[34m\u001b[1mDEBUG   \u001b[0m | \u001b[36mlorapy.datafile.encoding\u001b[0m:\u001b[36mcompute_params\u001b[0m:\u001b[36m15\u001b[0m - \u001b[34m\u001b[1mcomputed samples per symbol: 25604 and packet length: 774521\u001b[0m\n",
      "\u001b[32m2020-04-11 16:23:49.120\u001b[0m | \u001b[1mINFO    \u001b[0m | \u001b[36mlorapy.datafile._base_file\u001b[0m:\u001b[36mload\u001b[0m:\u001b[36m61\u001b[0m - \u001b[1mloaded 12494752 samples from file\u001b[0m\n"
     ]
    },
    {
     "data": {
      "text/plain": [
       "BaselineSymbolSet(num symbols=488 | BW: 2 | SF: 11 | Att: 40 | samples per symbol: 25604 | packet length: 774521)"
      ]
     },
     "metadata": {},
     "output_type": "display_data"
    },
    {
     "name": "stdout",
     "output_type": "stream",
     "text": [
      "\u001b[32m2020-04-11 16:23:49.125\u001b[0m | \u001b[34m\u001b[1mDEBUG   \u001b[0m | \u001b[36mlorapy.datafile.encoding\u001b[0m:\u001b[36mcompute_params\u001b[0m:\u001b[36m15\u001b[0m - \u001b[34m\u001b[1mcomputed samples per symbol: 25604 and packet length: 774521\u001b[0m\n",
      "\u001b[32m2020-04-11 16:23:49.127\u001b[0m | \u001b[1mINFO    \u001b[0m | \u001b[36mlorapy.datafile._base_file\u001b[0m:\u001b[36mload\u001b[0m:\u001b[36m61\u001b[0m - \u001b[1mloaded 25603 samples from file\u001b[0m\n"
     ]
    },
    {
     "data": {
      "text/plain": [
       "BaselineSymbolSet(num symbols=25603 | BW: 2 | SF: 11 | Att: 0 | samples per symbol: 25604 | packet length: 774521)"
      ]
     },
     "metadata": {},
     "output_type": "display_data"
    },
    {
     "name": "stdout",
     "output_type": "stream",
     "text": [
      "\u001b[32m2020-04-11 16:23:49.129\u001b[0m | \u001b[33m\u001b[1mWARNING \u001b[0m | \u001b[36m__main__\u001b[0m:\u001b[36m_mp_compute_corr\u001b[0m:\u001b[36m13\u001b[0m - \u001b[33m\u001b[1mbeginning multiprocessing..\u001b[0m\n",
      "\u001b[32m2020-04-11 16:23:50.292\u001b[0m | \u001b[33m\u001b[1mWARNING \u001b[0m | \u001b[36m__main__\u001b[0m:\u001b[36m_mp_compute_corr\u001b[0m:\u001b[36m19\u001b[0m - \u001b[33m\u001b[1mcompleted multiprocessing\u001b[0m\n",
      "\u001b[32m2020-04-11 16:23:50.295\u001b[0m | \u001b[1mINFO    \u001b[0m | \u001b[36m__main__\u001b[0m:\u001b[36mfilter_symbols_fftcorr\u001b[0m:\u001b[36m41\u001b[0m - \u001b[1mset threshold: 7072.663281\u001b[0m\n",
      "\u001b[32m2020-04-11 16:23:50.345\u001b[0m | \u001b[33m\u001b[1mWARNING \u001b[0m | \u001b[36m__main__\u001b[0m:\u001b[36mfilter_symbols_fftcorr\u001b[0m:\u001b[36m47\u001b[0m - \u001b[33m\u001b[1mremoved 0 symbols  [488 / 488]\u001b[0m\n"
     ]
    },
    {
     "name": "stderr",
     "output_type": "stream",
     "text": [
      "9it [00:19,  2.49s/it]"
     ]
    },
    {
     "name": "stdout",
     "output_type": "stream",
     "text": [
      "\u001b[32m2020-04-11 16:23:50.537\u001b[0m | \u001b[33m\u001b[1mWARNING \u001b[0m | \u001b[36m__main__\u001b[0m:\u001b[36m<module>\u001b[0m:\u001b[36m6\u001b[0m - \u001b[33m\u001b[1mworking file DotPFile(id=30 | name='lora_BW1_SF11_915MHz_20ksps_Att0_v1.p')\u001b[0m\n",
      "\u001b[32m2020-04-11 16:23:50.539\u001b[0m | \u001b[34m\u001b[1mDEBUG   \u001b[0m | \u001b[36mlorapy.datafile.encoding\u001b[0m:\u001b[36mcompute_params\u001b[0m:\u001b[36m15\u001b[0m - \u001b[34m\u001b[1mcomputed samples per symbol: 38396 and packet length: 1161479\u001b[0m\n",
      "\u001b[32m2020-04-11 16:23:50.810\u001b[0m | \u001b[1mINFO    \u001b[0m | \u001b[36mlorapy.datafile._base_file\u001b[0m:\u001b[36mload\u001b[0m:\u001b[36m61\u001b[0m - \u001b[1mloaded 12209928 samples from file\u001b[0m\n"
     ]
    },
    {
     "data": {
      "text/plain": [
       "BaselineSymbolSet(num symbols=318 | BW: 1 | SF: 11 | Att: 0 | samples per symbol: 38396 | packet length: 1161479)"
      ]
     },
     "metadata": {},
     "output_type": "display_data"
    },
    {
     "name": "stdout",
     "output_type": "stream",
     "text": [
      "\u001b[32m2020-04-11 16:23:50.814\u001b[0m | \u001b[34m\u001b[1mDEBUG   \u001b[0m | \u001b[36mlorapy.datafile.encoding\u001b[0m:\u001b[36mcompute_params\u001b[0m:\u001b[36m15\u001b[0m - \u001b[34m\u001b[1mcomputed samples per symbol: 38396 and packet length: 1161479\u001b[0m\n",
      "\u001b[32m2020-04-11 16:23:50.816\u001b[0m | \u001b[1mINFO    \u001b[0m | \u001b[36mlorapy.datafile._base_file\u001b[0m:\u001b[36mload\u001b[0m:\u001b[36m61\u001b[0m - \u001b[1mloaded 38395 samples from file\u001b[0m\n"
     ]
    },
    {
     "data": {
      "text/plain": [
       "BaselineSymbolSet(num symbols=38395 | BW: 1 | SF: 11 | Att: 0 | samples per symbol: 38396 | packet length: 1161479)"
      ]
     },
     "metadata": {},
     "output_type": "display_data"
    },
    {
     "name": "stdout",
     "output_type": "stream",
     "text": [
      "\u001b[32m2020-04-11 16:23:50.819\u001b[0m | \u001b[33m\u001b[1mWARNING \u001b[0m | \u001b[36m__main__\u001b[0m:\u001b[36m_mp_compute_corr\u001b[0m:\u001b[36m13\u001b[0m - \u001b[33m\u001b[1mbeginning multiprocessing..\u001b[0m\n",
      "\u001b[32m2020-04-11 16:23:51.965\u001b[0m | \u001b[33m\u001b[1mWARNING \u001b[0m | \u001b[36m__main__\u001b[0m:\u001b[36m_mp_compute_corr\u001b[0m:\u001b[36m19\u001b[0m - \u001b[33m\u001b[1mcompleted multiprocessing\u001b[0m\n",
      "\u001b[32m2020-04-11 16:23:51.968\u001b[0m | \u001b[1mINFO    \u001b[0m | \u001b[36m__main__\u001b[0m:\u001b[36mfilter_symbols_fftcorr\u001b[0m:\u001b[36m41\u001b[0m - \u001b[1mset threshold: 918288.100000\u001b[0m\n",
      "\u001b[32m2020-04-11 16:23:52.025\u001b[0m | \u001b[33m\u001b[1mWARNING \u001b[0m | \u001b[36m__main__\u001b[0m:\u001b[36mfilter_symbols_fftcorr\u001b[0m:\u001b[36m47\u001b[0m - \u001b[33m\u001b[1mremoved 0 symbols  [318 / 318]\u001b[0m\n"
     ]
    },
    {
     "name": "stderr",
     "output_type": "stream",
     "text": [
      "10it [00:21,  2.25s/it]"
     ]
    },
    {
     "name": "stdout",
     "output_type": "stream",
     "text": [
      "\u001b[32m2020-04-11 16:23:52.214\u001b[0m | \u001b[33m\u001b[1mWARNING \u001b[0m | \u001b[36m__main__\u001b[0m:\u001b[36m<module>\u001b[0m:\u001b[36m6\u001b[0m - \u001b[33m\u001b[1mworking file DotPFile(id=31 | name='lora_BW1_SF12_915MHz_20kspsAtt100_v1.p')\u001b[0m\n",
      "\u001b[32m2020-04-11 16:23:52.216\u001b[0m | \u001b[34m\u001b[1mDEBUG   \u001b[0m | \u001b[36mlorapy.datafile.encoding\u001b[0m:\u001b[36mcompute_params\u001b[0m:\u001b[36m15\u001b[0m - \u001b[34m\u001b[1mcomputed samples per symbol: 76801 and packet length: 2323230\u001b[0m\n",
      "\u001b[32m2020-04-11 16:23:52.494\u001b[0m | \u001b[1mINFO    \u001b[0m | \u001b[36mlorapy.datafile._base_file\u001b[0m:\u001b[36mload\u001b[0m:\u001b[36m61\u001b[0m - \u001b[1mloaded 12672165 samples from file\u001b[0m\n"
     ]
    },
    {
     "data": {
      "text/plain": [
       "BaselineSymbolSet(num symbols=165 | BW: 1 | SF: 12 | Att: 100 | samples per symbol: 76801 | packet length: 2323230)"
      ]
     },
     "metadata": {},
     "output_type": "display_data"
    },
    {
     "name": "stdout",
     "output_type": "stream",
     "text": [
      "\u001b[32m2020-04-11 16:23:52.499\u001b[0m | \u001b[34m\u001b[1mDEBUG   \u001b[0m | \u001b[36mlorapy.datafile.encoding\u001b[0m:\u001b[36mcompute_params\u001b[0m:\u001b[36m15\u001b[0m - \u001b[34m\u001b[1mcomputed samples per symbol: 76801 and packet length: 2323230\u001b[0m\n",
      "\u001b[32m2020-04-11 16:23:52.501\u001b[0m | \u001b[1mINFO    \u001b[0m | \u001b[36mlorapy.datafile._base_file\u001b[0m:\u001b[36mload\u001b[0m:\u001b[36m61\u001b[0m - \u001b[1mloaded 76800 samples from file\u001b[0m\n"
     ]
    },
    {
     "data": {
      "text/plain": [
       "BaselineSymbolSet(num symbols=76800 | BW: 1 | SF: 12 | Att: 0 | samples per symbol: 76801 | packet length: 2323230)"
      ]
     },
     "metadata": {},
     "output_type": "display_data"
    },
    {
     "name": "stdout",
     "output_type": "stream",
     "text": [
      "\u001b[32m2020-04-11 16:23:52.504\u001b[0m | \u001b[33m\u001b[1mWARNING \u001b[0m | \u001b[36m__main__\u001b[0m:\u001b[36m_mp_compute_corr\u001b[0m:\u001b[36m13\u001b[0m - \u001b[33m\u001b[1mbeginning multiprocessing..\u001b[0m\n",
      "\u001b[32m2020-04-11 16:23:54.009\u001b[0m | \u001b[33m\u001b[1mWARNING \u001b[0m | \u001b[36m__main__\u001b[0m:\u001b[36m_mp_compute_corr\u001b[0m:\u001b[36m19\u001b[0m - \u001b[33m\u001b[1mcompleted multiprocessing\u001b[0m\n",
      "\u001b[32m2020-04-11 16:23:54.012\u001b[0m | \u001b[1mINFO    \u001b[0m | \u001b[36m__main__\u001b[0m:\u001b[36mfilter_symbols_fftcorr\u001b[0m:\u001b[36m41\u001b[0m - \u001b[1mset threshold: 0.021561\u001b[0m\n",
      "\u001b[32m2020-04-11 16:23:54.057\u001b[0m | \u001b[33m\u001b[1mWARNING \u001b[0m | \u001b[36m__main__\u001b[0m:\u001b[36mfilter_symbols_fftcorr\u001b[0m:\u001b[36m47\u001b[0m - \u001b[33m\u001b[1mremoved 0 symbols  [165 / 165]\u001b[0m\n"
     ]
    },
    {
     "name": "stderr",
     "output_type": "stream",
     "text": [
      "11it [00:23,  2.18s/it]"
     ]
    },
    {
     "name": "stdout",
     "output_type": "stream",
     "text": [
      "\u001b[32m2020-04-11 16:23:54.238\u001b[0m | \u001b[33m\u001b[1mWARNING \u001b[0m | \u001b[36m__main__\u001b[0m:\u001b[36m<module>\u001b[0m:\u001b[36m6\u001b[0m - \u001b[33m\u001b[1mworking file DotPFile(id=32 | name='lora_BW2_SF12_915MHz_20ksps_Att140_v1.p')\u001b[0m\n",
      "\u001b[32m2020-04-11 16:23:54.240\u001b[0m | \u001b[34m\u001b[1mDEBUG   \u001b[0m | \u001b[36mlorapy.datafile.encoding\u001b[0m:\u001b[36mcompute_params\u001b[0m:\u001b[36m15\u001b[0m - \u001b[34m\u001b[1mcomputed samples per symbol: 51197 and packet length: 1548709\u001b[0m\n",
      "\u001b[32m2020-04-11 16:23:54.462\u001b[0m | \u001b[1mINFO    \u001b[0m | \u001b[36mlorapy.datafile._base_file\u001b[0m:\u001b[36mload\u001b[0m:\u001b[36m61\u001b[0m - \u001b[1mloaded 10956158 samples from file\u001b[0m\n"
     ]
    },
    {
     "data": {
      "text/plain": [
       "BaselineSymbolSet(num symbols=214 | BW: 2 | SF: 12 | Att: 140 | samples per symbol: 51197 | packet length: 1548709)"
      ]
     },
     "metadata": {},
     "output_type": "display_data"
    },
    {
     "name": "stdout",
     "output_type": "stream",
     "text": [
      "\u001b[32m2020-04-11 16:23:54.467\u001b[0m | \u001b[34m\u001b[1mDEBUG   \u001b[0m | \u001b[36mlorapy.datafile.encoding\u001b[0m:\u001b[36mcompute_params\u001b[0m:\u001b[36m15\u001b[0m - \u001b[34m\u001b[1mcomputed samples per symbol: 51197 and packet length: 1548709\u001b[0m\n",
      "\u001b[32m2020-04-11 16:23:54.468\u001b[0m | \u001b[1mINFO    \u001b[0m | \u001b[36mlorapy.datafile._base_file\u001b[0m:\u001b[36mload\u001b[0m:\u001b[36m61\u001b[0m - \u001b[1mloaded 51197 samples from file\u001b[0m\n"
     ]
    },
    {
     "data": {
      "text/plain": [
       "BaselineSymbolSet(num symbols=51197 | BW: 2 | SF: 12 | Att: 0 | samples per symbol: 51197 | packet length: 1548709)"
      ]
     },
     "metadata": {},
     "output_type": "display_data"
    },
    {
     "name": "stdout",
     "output_type": "stream",
     "text": [
      "\u001b[32m2020-04-11 16:23:54.471\u001b[0m | \u001b[33m\u001b[1mWARNING \u001b[0m | \u001b[36m__main__\u001b[0m:\u001b[36m_mp_compute_corr\u001b[0m:\u001b[36m13\u001b[0m - \u001b[33m\u001b[1mbeginning multiprocessing..\u001b[0m\n",
      "\u001b[32m2020-04-11 16:23:55.818\u001b[0m | \u001b[33m\u001b[1mWARNING \u001b[0m | \u001b[36m__main__\u001b[0m:\u001b[36m_mp_compute_corr\u001b[0m:\u001b[36m19\u001b[0m - \u001b[33m\u001b[1mcompleted multiprocessing\u001b[0m\n",
      "\u001b[32m2020-04-11 16:23:55.821\u001b[0m | \u001b[1mINFO    \u001b[0m | \u001b[36m__main__\u001b[0m:\u001b[36mfilter_symbols_fftcorr\u001b[0m:\u001b[36m41\u001b[0m - \u001b[1mset threshold: 0.001744\u001b[0m\n",
      "\u001b[32m2020-04-11 16:23:55.868\u001b[0m | \u001b[33m\u001b[1mWARNING \u001b[0m | \u001b[36m__main__\u001b[0m:\u001b[36mfilter_symbols_fftcorr\u001b[0m:\u001b[36m47\u001b[0m - \u001b[33m\u001b[1mremoved 3 symbols  [211 / 214]\u001b[0m\n"
     ]
    },
    {
     "name": "stderr",
     "output_type": "stream",
     "text": [
      "12it [00:25,  2.06s/it]"
     ]
    },
    {
     "name": "stdout",
     "output_type": "stream",
     "text": [
      "\u001b[32m2020-04-11 16:23:56.022\u001b[0m | \u001b[33m\u001b[1mWARNING \u001b[0m | \u001b[36m__main__\u001b[0m:\u001b[36m<module>\u001b[0m:\u001b[36m6\u001b[0m - \u001b[33m\u001b[1mworking file DotPFile(id=33 | name='lora_BW1_SF12_915MHz_20kspsAtt0_v1.p')\u001b[0m\n",
      "\u001b[32m2020-04-11 16:23:56.024\u001b[0m | \u001b[34m\u001b[1mDEBUG   \u001b[0m | \u001b[36mlorapy.datafile.encoding\u001b[0m:\u001b[36mcompute_params\u001b[0m:\u001b[36m15\u001b[0m - \u001b[34m\u001b[1mcomputed samples per symbol: 76801 and packet length: 2323230\u001b[0m\n",
      "\u001b[32m2020-04-11 16:23:56.293\u001b[0m | \u001b[1mINFO    \u001b[0m | \u001b[36mlorapy.datafile._base_file\u001b[0m:\u001b[36mload\u001b[0m:\u001b[36m61\u001b[0m - \u001b[1mloaded 13516976 samples from file\u001b[0m\n"
     ]
    },
    {
     "data": {
      "text/plain": [
       "BaselineSymbolSet(num symbols=176 | BW: 1 | SF: 12 | Att: 0 | samples per symbol: 76801 | packet length: 2323230)"
      ]
     },
     "metadata": {},
     "output_type": "display_data"
    },
    {
     "name": "stdout",
     "output_type": "stream",
     "text": [
      "\u001b[32m2020-04-11 16:23:56.298\u001b[0m | \u001b[34m\u001b[1mDEBUG   \u001b[0m | \u001b[36mlorapy.datafile.encoding\u001b[0m:\u001b[36mcompute_params\u001b[0m:\u001b[36m15\u001b[0m - \u001b[34m\u001b[1mcomputed samples per symbol: 76801 and packet length: 2323230\u001b[0m\n",
      "\u001b[32m2020-04-11 16:23:56.300\u001b[0m | \u001b[1mINFO    \u001b[0m | \u001b[36mlorapy.datafile._base_file\u001b[0m:\u001b[36mload\u001b[0m:\u001b[36m61\u001b[0m - \u001b[1mloaded 76800 samples from file\u001b[0m\n"
     ]
    },
    {
     "data": {
      "text/plain": [
       "BaselineSymbolSet(num symbols=76800 | BW: 1 | SF: 12 | Att: 0 | samples per symbol: 76801 | packet length: 2323230)"
      ]
     },
     "metadata": {},
     "output_type": "display_data"
    },
    {
     "name": "stdout",
     "output_type": "stream",
     "text": [
      "\u001b[32m2020-04-11 16:23:56.302\u001b[0m | \u001b[33m\u001b[1mWARNING \u001b[0m | \u001b[36m__main__\u001b[0m:\u001b[36m_mp_compute_corr\u001b[0m:\u001b[36m13\u001b[0m - \u001b[33m\u001b[1mbeginning multiprocessing..\u001b[0m\n",
      "\u001b[32m2020-04-11 16:23:58.094\u001b[0m | \u001b[33m\u001b[1mWARNING \u001b[0m | \u001b[36m__main__\u001b[0m:\u001b[36m_mp_compute_corr\u001b[0m:\u001b[36m19\u001b[0m - \u001b[33m\u001b[1mcompleted multiprocessing\u001b[0m\n",
      "\u001b[32m2020-04-11 16:23:58.097\u001b[0m | \u001b[1mINFO    \u001b[0m | \u001b[36m__main__\u001b[0m:\u001b[36mfilter_symbols_fftcorr\u001b[0m:\u001b[36m41\u001b[0m - \u001b[1mset threshold: 1956808.800000\u001b[0m\n",
      "\u001b[32m2020-04-11 16:23:58.156\u001b[0m | \u001b[33m\u001b[1mWARNING \u001b[0m | \u001b[36m__main__\u001b[0m:\u001b[36mfilter_symbols_fftcorr\u001b[0m:\u001b[36m47\u001b[0m - \u001b[33m\u001b[1mremoved 0 symbols  [176 / 176]\u001b[0m\n"
     ]
    },
    {
     "name": "stderr",
     "output_type": "stream",
     "text": [
      "13it [00:27,  2.14s/it]"
     ]
    },
    {
     "name": "stdout",
     "output_type": "stream",
     "text": [
      "\u001b[32m2020-04-11 16:23:58.360\u001b[0m | \u001b[33m\u001b[1mWARNING \u001b[0m | \u001b[36m__main__\u001b[0m:\u001b[36m<module>\u001b[0m:\u001b[36m6\u001b[0m - \u001b[33m\u001b[1mworking file DotPFile(id=34 | name='lora_BW2_SF10_915MHz_20ksps_Att120_v1.p')\u001b[0m\n",
      "\u001b[32m2020-04-11 16:23:58.362\u001b[0m | \u001b[34m\u001b[1mDEBUG   \u001b[0m | \u001b[36mlorapy.datafile.encoding\u001b[0m:\u001b[36mcompute_params\u001b[0m:\u001b[36m15\u001b[0m - \u001b[34m\u001b[1mcomputed samples per symbol: 12802 and packet length: 387260\u001b[0m\n",
      "\u001b[32m2020-04-11 16:23:58.536\u001b[0m | \u001b[1mINFO    \u001b[0m | \u001b[36mlorapy.datafile._base_file\u001b[0m:\u001b[36mload\u001b[0m:\u001b[36m61\u001b[0m - \u001b[1mloaded 10190392 samples from file\u001b[0m\n"
     ]
    },
    {
     "data": {
      "text/plain": [
       "BaselineSymbolSet(num symbols=796 | BW: 2 | SF: 10 | Att: 120 | samples per symbol: 12802 | packet length: 387260)"
      ]
     },
     "metadata": {},
     "output_type": "display_data"
    },
    {
     "name": "stdout",
     "output_type": "stream",
     "text": [
      "\u001b[32m2020-04-11 16:23:58.540\u001b[0m | \u001b[34m\u001b[1mDEBUG   \u001b[0m | \u001b[36mlorapy.datafile.encoding\u001b[0m:\u001b[36mcompute_params\u001b[0m:\u001b[36m15\u001b[0m - \u001b[34m\u001b[1mcomputed samples per symbol: 12802 and packet length: 387260\u001b[0m\n",
      "\u001b[32m2020-04-11 16:23:58.542\u001b[0m | \u001b[1mINFO    \u001b[0m | \u001b[36mlorapy.datafile._base_file\u001b[0m:\u001b[36mload\u001b[0m:\u001b[36m61\u001b[0m - \u001b[1mloaded 12801 samples from file\u001b[0m\n"
     ]
    },
    {
     "data": {
      "text/plain": [
       "BaselineSymbolSet(num symbols=12801 | BW: 2 | SF: 10 | Att: 0 | samples per symbol: 12802 | packet length: 387260)"
      ]
     },
     "metadata": {},
     "output_type": "display_data"
    },
    {
     "name": "stdout",
     "output_type": "stream",
     "text": [
      "\u001b[32m2020-04-11 16:23:58.544\u001b[0m | \u001b[33m\u001b[1mWARNING \u001b[0m | \u001b[36m__main__\u001b[0m:\u001b[36m_mp_compute_corr\u001b[0m:\u001b[36m13\u001b[0m - \u001b[33m\u001b[1mbeginning multiprocessing..\u001b[0m\n",
      "\u001b[32m2020-04-11 16:23:59.725\u001b[0m | \u001b[33m\u001b[1mWARNING \u001b[0m | \u001b[36m__main__\u001b[0m:\u001b[36m_mp_compute_corr\u001b[0m:\u001b[36m19\u001b[0m - \u001b[33m\u001b[1mcompleted multiprocessing\u001b[0m\n",
      "\u001b[32m2020-04-11 16:23:59.729\u001b[0m | \u001b[1mINFO    \u001b[0m | \u001b[36m__main__\u001b[0m:\u001b[36mfilter_symbols_fftcorr\u001b[0m:\u001b[36m41\u001b[0m - \u001b[1mset threshold: 0.000520\u001b[0m\n",
      "\u001b[32m2020-04-11 16:23:59.780\u001b[0m | \u001b[33m\u001b[1mWARNING \u001b[0m | \u001b[36m__main__\u001b[0m:\u001b[36mfilter_symbols_fftcorr\u001b[0m:\u001b[36m47\u001b[0m - \u001b[33m\u001b[1mremoved 20 symbols  [776 / 796]\u001b[0m\n"
     ]
    },
    {
     "name": "stderr",
     "output_type": "stream",
     "text": [
      "14it [00:29,  1.97s/it]"
     ]
    },
    {
     "name": "stdout",
     "output_type": "stream",
     "text": [
      "\u001b[32m2020-04-11 16:23:59.939\u001b[0m | \u001b[33m\u001b[1mWARNING \u001b[0m | \u001b[36m__main__\u001b[0m:\u001b[36m<module>\u001b[0m:\u001b[36m6\u001b[0m - \u001b[33m\u001b[1mworking file DotPFile(id=36 | name='lora_BW1_SF11_915MHz_20ksps_Att80_v1.p')\u001b[0m\n",
      "\u001b[32m2020-04-11 16:23:59.941\u001b[0m | \u001b[34m\u001b[1mDEBUG   \u001b[0m | \u001b[36mlorapy.datafile.encoding\u001b[0m:\u001b[36mcompute_params\u001b[0m:\u001b[36m15\u001b[0m - \u001b[34m\u001b[1mcomputed samples per symbol: 38396 and packet length: 1161479\u001b[0m\n",
      "\u001b[32m2020-04-11 16:24:00.172\u001b[0m | \u001b[1mINFO    \u001b[0m | \u001b[36mlorapy.datafile._base_file\u001b[0m:\u001b[36mload\u001b[0m:\u001b[36m61\u001b[0m - \u001b[1mloaded 10136544 samples from file\u001b[0m\n"
     ]
    },
    {
     "data": {
      "text/plain": [
       "BaselineSymbolSet(num symbols=264 | BW: 1 | SF: 11 | Att: 80 | samples per symbol: 38396 | packet length: 1161479)"
      ]
     },
     "metadata": {},
     "output_type": "display_data"
    },
    {
     "name": "stdout",
     "output_type": "stream",
     "text": [
      "\u001b[32m2020-04-11 16:24:00.176\u001b[0m | \u001b[34m\u001b[1mDEBUG   \u001b[0m | \u001b[36mlorapy.datafile.encoding\u001b[0m:\u001b[36mcompute_params\u001b[0m:\u001b[36m15\u001b[0m - \u001b[34m\u001b[1mcomputed samples per symbol: 38396 and packet length: 1161479\u001b[0m\n",
      "\u001b[32m2020-04-11 16:24:00.178\u001b[0m | \u001b[1mINFO    \u001b[0m | \u001b[36mlorapy.datafile._base_file\u001b[0m:\u001b[36mload\u001b[0m:\u001b[36m61\u001b[0m - \u001b[1mloaded 38395 samples from file\u001b[0m\n"
     ]
    },
    {
     "data": {
      "text/plain": [
       "BaselineSymbolSet(num symbols=38395 | BW: 1 | SF: 11 | Att: 0 | samples per symbol: 38396 | packet length: 1161479)"
      ]
     },
     "metadata": {},
     "output_type": "display_data"
    },
    {
     "name": "stdout",
     "output_type": "stream",
     "text": [
      "\u001b[32m2020-04-11 16:24:00.180\u001b[0m | \u001b[33m\u001b[1mWARNING \u001b[0m | \u001b[36m__main__\u001b[0m:\u001b[36m_mp_compute_corr\u001b[0m:\u001b[36m13\u001b[0m - \u001b[33m\u001b[1mbeginning multiprocessing..\u001b[0m\n",
      "\u001b[32m2020-04-11 16:24:01.463\u001b[0m | \u001b[33m\u001b[1mWARNING \u001b[0m | \u001b[36m__main__\u001b[0m:\u001b[36m_mp_compute_corr\u001b[0m:\u001b[36m19\u001b[0m - \u001b[33m\u001b[1mcompleted multiprocessing\u001b[0m\n",
      "\u001b[32m2020-04-11 16:24:01.466\u001b[0m | \u001b[1mINFO    \u001b[0m | \u001b[36m__main__\u001b[0m:\u001b[36mfilter_symbols_fftcorr\u001b[0m:\u001b[36m41\u001b[0m - \u001b[1mset threshold: 1.614491\u001b[0m\n",
      "\u001b[32m2020-04-11 16:24:01.506\u001b[0m | \u001b[33m\u001b[1mWARNING \u001b[0m | \u001b[36m__main__\u001b[0m:\u001b[36mfilter_symbols_fftcorr\u001b[0m:\u001b[36m47\u001b[0m - \u001b[33m\u001b[1mremoved 0 symbols  [264 / 264]\u001b[0m\n"
     ]
    },
    {
     "name": "stderr",
     "output_type": "stream",
     "text": [
      "15it [00:30,  1.90s/it]"
     ]
    },
    {
     "name": "stdout",
     "output_type": "stream",
     "text": [
      "\u001b[32m2020-04-11 16:24:01.652\u001b[0m | \u001b[33m\u001b[1mWARNING \u001b[0m | \u001b[36m__main__\u001b[0m:\u001b[36m<module>\u001b[0m:\u001b[36m6\u001b[0m - \u001b[33m\u001b[1mworking file DotPFile(id=40 | name='lora_BW2_SF10_915MHz_20ksps_Att100_v1.p')\u001b[0m\n",
      "\u001b[32m2020-04-11 16:24:01.653\u001b[0m | \u001b[34m\u001b[1mDEBUG   \u001b[0m | \u001b[36mlorapy.datafile.encoding\u001b[0m:\u001b[36mcompute_params\u001b[0m:\u001b[36m15\u001b[0m - \u001b[34m\u001b[1mcomputed samples per symbol: 12802 and packet length: 387260\u001b[0m\n",
      "\u001b[32m2020-04-11 16:24:01.884\u001b[0m | \u001b[1mINFO    \u001b[0m | \u001b[36mlorapy.datafile._base_file\u001b[0m:\u001b[36mload\u001b[0m:\u001b[36m61\u001b[0m - \u001b[1mloaded 11765038 samples from file\u001b[0m\n"
     ]
    },
    {
     "data": {
      "text/plain": [
       "BaselineSymbolSet(num symbols=919 | BW: 2 | SF: 10 | Att: 100 | samples per symbol: 12802 | packet length: 387260)"
      ]
     },
     "metadata": {},
     "output_type": "display_data"
    },
    {
     "name": "stdout",
     "output_type": "stream",
     "text": [
      "\u001b[32m2020-04-11 16:24:01.889\u001b[0m | \u001b[34m\u001b[1mDEBUG   \u001b[0m | \u001b[36mlorapy.datafile.encoding\u001b[0m:\u001b[36mcompute_params\u001b[0m:\u001b[36m15\u001b[0m - \u001b[34m\u001b[1mcomputed samples per symbol: 12802 and packet length: 387260\u001b[0m\n",
      "\u001b[32m2020-04-11 16:24:01.891\u001b[0m | \u001b[1mINFO    \u001b[0m | \u001b[36mlorapy.datafile._base_file\u001b[0m:\u001b[36mload\u001b[0m:\u001b[36m61\u001b[0m - \u001b[1mloaded 12801 samples from file\u001b[0m\n"
     ]
    },
    {
     "data": {
      "text/plain": [
       "BaselineSymbolSet(num symbols=12801 | BW: 2 | SF: 10 | Att: 0 | samples per symbol: 12802 | packet length: 387260)"
      ]
     },
     "metadata": {},
     "output_type": "display_data"
    },
    {
     "name": "stdout",
     "output_type": "stream",
     "text": [
      "\u001b[32m2020-04-11 16:24:01.893\u001b[0m | \u001b[33m\u001b[1mWARNING \u001b[0m | \u001b[36m__main__\u001b[0m:\u001b[36m_mp_compute_corr\u001b[0m:\u001b[36m13\u001b[0m - \u001b[33m\u001b[1mbeginning multiprocessing..\u001b[0m\n",
      "\u001b[32m2020-04-11 16:24:03.097\u001b[0m | \u001b[33m\u001b[1mWARNING \u001b[0m | \u001b[36m__main__\u001b[0m:\u001b[36m_mp_compute_corr\u001b[0m:\u001b[36m19\u001b[0m - \u001b[33m\u001b[1mcompleted multiprocessing\u001b[0m\n",
      "\u001b[32m2020-04-11 16:24:03.100\u001b[0m | \u001b[1mINFO    \u001b[0m | \u001b[36m__main__\u001b[0m:\u001b[36mfilter_symbols_fftcorr\u001b[0m:\u001b[36m41\u001b[0m - \u001b[1mset threshold: 0.003470\u001b[0m\n",
      "\u001b[32m2020-04-11 16:24:03.163\u001b[0m | \u001b[33m\u001b[1mWARNING \u001b[0m | \u001b[36m__main__\u001b[0m:\u001b[36mfilter_symbols_fftcorr\u001b[0m:\u001b[36m47\u001b[0m - \u001b[33m\u001b[1mremoved 0 symbols  [919 / 919]\u001b[0m\n"
     ]
    },
    {
     "name": "stderr",
     "output_type": "stream",
     "text": [
      "16it [00:32,  1.84s/it]"
     ]
    },
    {
     "name": "stdout",
     "output_type": "stream",
     "text": [
      "\u001b[32m2020-04-11 16:24:03.356\u001b[0m | \u001b[33m\u001b[1mWARNING \u001b[0m | \u001b[36m__main__\u001b[0m:\u001b[36m<module>\u001b[0m:\u001b[36m6\u001b[0m - \u001b[33m\u001b[1mworking file DotPFile(id=43 | name='lora_BW1_SF12_915MHz_20kspsAtt0_v2.p')\u001b[0m\n",
      "\u001b[32m2020-04-11 16:24:03.357\u001b[0m | \u001b[34m\u001b[1mDEBUG   \u001b[0m | \u001b[36mlorapy.datafile.encoding\u001b[0m:\u001b[36mcompute_params\u001b[0m:\u001b[36m15\u001b[0m - \u001b[34m\u001b[1mcomputed samples per symbol: 76801 and packet length: 2323230\u001b[0m\n",
      "\u001b[32m2020-04-11 16:24:03.703\u001b[0m | \u001b[1mINFO    \u001b[0m | \u001b[36mlorapy.datafile._base_file\u001b[0m:\u001b[36mload\u001b[0m:\u001b[36m61\u001b[0m - \u001b[1mloaded 12672165 samples from file\u001b[0m\n"
     ]
    },
    {
     "data": {
      "text/plain": [
       "BaselineSymbolSet(num symbols=165 | BW: 1 | SF: 12 | Att: 0 | samples per symbol: 76801 | packet length: 2323230)"
      ]
     },
     "metadata": {},
     "output_type": "display_data"
    },
    {
     "name": "stdout",
     "output_type": "stream",
     "text": [
      "\u001b[32m2020-04-11 16:24:03.708\u001b[0m | \u001b[34m\u001b[1mDEBUG   \u001b[0m | \u001b[36mlorapy.datafile.encoding\u001b[0m:\u001b[36mcompute_params\u001b[0m:\u001b[36m15\u001b[0m - \u001b[34m\u001b[1mcomputed samples per symbol: 76801 and packet length: 2323230\u001b[0m\n",
      "\u001b[32m2020-04-11 16:24:03.710\u001b[0m | \u001b[1mINFO    \u001b[0m | \u001b[36mlorapy.datafile._base_file\u001b[0m:\u001b[36mload\u001b[0m:\u001b[36m61\u001b[0m - \u001b[1mloaded 76800 samples from file\u001b[0m\n"
     ]
    },
    {
     "data": {
      "text/plain": [
       "BaselineSymbolSet(num symbols=76800 | BW: 1 | SF: 12 | Att: 0 | samples per symbol: 76801 | packet length: 2323230)"
      ]
     },
     "metadata": {},
     "output_type": "display_data"
    },
    {
     "name": "stdout",
     "output_type": "stream",
     "text": [
      "\u001b[32m2020-04-11 16:24:03.712\u001b[0m | \u001b[33m\u001b[1mWARNING \u001b[0m | \u001b[36m__main__\u001b[0m:\u001b[36m_mp_compute_corr\u001b[0m:\u001b[36m13\u001b[0m - \u001b[33m\u001b[1mbeginning multiprocessing..\u001b[0m\n",
      "\u001b[32m2020-04-11 16:24:05.328\u001b[0m | \u001b[33m\u001b[1mWARNING \u001b[0m | \u001b[36m__main__\u001b[0m:\u001b[36m_mp_compute_corr\u001b[0m:\u001b[36m19\u001b[0m - \u001b[33m\u001b[1mcompleted multiprocessing\u001b[0m\n",
      "\u001b[32m2020-04-11 16:24:05.331\u001b[0m | \u001b[1mINFO    \u001b[0m | \u001b[36m__main__\u001b[0m:\u001b[36mfilter_symbols_fftcorr\u001b[0m:\u001b[36m41\u001b[0m - \u001b[1mset threshold: 1959435.800000\u001b[0m\n",
      "\u001b[32m2020-04-11 16:24:05.376\u001b[0m | \u001b[33m\u001b[1mWARNING \u001b[0m | \u001b[36m__main__\u001b[0m:\u001b[36mfilter_symbols_fftcorr\u001b[0m:\u001b[36m47\u001b[0m - \u001b[33m\u001b[1mremoved 0 symbols  [165 / 165]\u001b[0m\n"
     ]
    },
    {
     "name": "stderr",
     "output_type": "stream",
     "text": [
      "17it [00:34,  1.95s/it]"
     ]
    },
    {
     "name": "stdout",
     "output_type": "stream",
     "text": [
      "\u001b[32m2020-04-11 16:24:05.551\u001b[0m | \u001b[33m\u001b[1mWARNING \u001b[0m | \u001b[36m__main__\u001b[0m:\u001b[36m<module>\u001b[0m:\u001b[36m6\u001b[0m - \u001b[33m\u001b[1mworking file DotPFile(id=51 | name='lora_BW2_SF10_915MHz_20ksps_Att60_v1.p')\u001b[0m\n",
      "\u001b[32m2020-04-11 16:24:05.553\u001b[0m | \u001b[34m\u001b[1mDEBUG   \u001b[0m | \u001b[36mlorapy.datafile.encoding\u001b[0m:\u001b[36mcompute_params\u001b[0m:\u001b[36m15\u001b[0m - \u001b[34m\u001b[1mcomputed samples per symbol: 12802 and packet length: 387260\u001b[0m\n",
      "\u001b[32m2020-04-11 16:24:06.155\u001b[0m | \u001b[1mINFO    \u001b[0m | \u001b[36mlorapy.datafile._base_file\u001b[0m:\u001b[36mload\u001b[0m:\u001b[36m61\u001b[0m - \u001b[1mloaded 12136296 samples from file\u001b[0m\n"
     ]
    },
    {
     "data": {
      "text/plain": [
       "BaselineSymbolSet(num symbols=948 | BW: 2 | SF: 10 | Att: 60 | samples per symbol: 12802 | packet length: 387260)"
      ]
     },
     "metadata": {},
     "output_type": "display_data"
    },
    {
     "name": "stdout",
     "output_type": "stream",
     "text": [
      "\u001b[32m2020-04-11 16:24:06.159\u001b[0m | \u001b[34m\u001b[1mDEBUG   \u001b[0m | \u001b[36mlorapy.datafile.encoding\u001b[0m:\u001b[36mcompute_params\u001b[0m:\u001b[36m15\u001b[0m - \u001b[34m\u001b[1mcomputed samples per symbol: 12802 and packet length: 387260\u001b[0m\n",
      "\u001b[32m2020-04-11 16:24:06.160\u001b[0m | \u001b[1mINFO    \u001b[0m | \u001b[36mlorapy.datafile._base_file\u001b[0m:\u001b[36mload\u001b[0m:\u001b[36m61\u001b[0m - \u001b[1mloaded 12801 samples from file\u001b[0m\n"
     ]
    },
    {
     "data": {
      "text/plain": [
       "BaselineSymbolSet(num symbols=12801 | BW: 2 | SF: 10 | Att: 0 | samples per symbol: 12802 | packet length: 387260)"
      ]
     },
     "metadata": {},
     "output_type": "display_data"
    },
    {
     "name": "stdout",
     "output_type": "stream",
     "text": [
      "\u001b[32m2020-04-11 16:24:06.162\u001b[0m | \u001b[33m\u001b[1mWARNING \u001b[0m | \u001b[36m__main__\u001b[0m:\u001b[36m_mp_compute_corr\u001b[0m:\u001b[36m13\u001b[0m - \u001b[33m\u001b[1mbeginning multiprocessing..\u001b[0m\n",
      "\u001b[32m2020-04-11 16:24:07.620\u001b[0m | \u001b[33m\u001b[1mWARNING \u001b[0m | \u001b[36m__main__\u001b[0m:\u001b[36m_mp_compute_corr\u001b[0m:\u001b[36m19\u001b[0m - \u001b[33m\u001b[1mcompleted multiprocessing\u001b[0m\n",
      "\u001b[32m2020-04-11 16:24:07.623\u001b[0m | \u001b[1mINFO    \u001b[0m | \u001b[36m__main__\u001b[0m:\u001b[36mfilter_symbols_fftcorr\u001b[0m:\u001b[36m41\u001b[0m - \u001b[1mset threshold: 34.445450\u001b[0m\n",
      "\u001b[32m2020-04-11 16:24:07.738\u001b[0m | \u001b[33m\u001b[1mWARNING \u001b[0m | \u001b[36m__main__\u001b[0m:\u001b[36mfilter_symbols_fftcorr\u001b[0m:\u001b[36m47\u001b[0m - \u001b[33m\u001b[1mremoved 0 symbols  [948 / 948]\u001b[0m\n"
     ]
    },
    {
     "name": "stderr",
     "output_type": "stream",
     "text": [
      "18it [00:37,  2.15s/it]"
     ]
    },
    {
     "name": "stdout",
     "output_type": "stream",
     "text": [
      "\u001b[32m2020-04-11 16:24:08.185\u001b[0m | \u001b[33m\u001b[1mWARNING \u001b[0m | \u001b[36m__main__\u001b[0m:\u001b[36m<module>\u001b[0m:\u001b[36m6\u001b[0m - \u001b[33m\u001b[1mworking file DotPFile(id=54 | name='lora_BW1_SF12_915MHz_20kspsAtt40_v1.p')\u001b[0m\n",
      "\u001b[32m2020-04-11 16:24:08.186\u001b[0m | \u001b[34m\u001b[1mDEBUG   \u001b[0m | \u001b[36mlorapy.datafile.encoding\u001b[0m:\u001b[36mcompute_params\u001b[0m:\u001b[36m15\u001b[0m - \u001b[34m\u001b[1mcomputed samples per symbol: 76801 and packet length: 2323230\u001b[0m\n",
      "\u001b[32m2020-04-11 16:24:08.838\u001b[0m | \u001b[1mINFO    \u001b[0m | \u001b[36mlorapy.datafile._base_file\u001b[0m:\u001b[36mload\u001b[0m:\u001b[36m61\u001b[0m - \u001b[1mloaded 12672165 samples from file\u001b[0m\n"
     ]
    },
    {
     "data": {
      "text/plain": [
       "BaselineSymbolSet(num symbols=165 | BW: 1 | SF: 12 | Att: 40 | samples per symbol: 76801 | packet length: 2323230)"
      ]
     },
     "metadata": {},
     "output_type": "display_data"
    },
    {
     "name": "stdout",
     "output_type": "stream",
     "text": [
      "\u001b[32m2020-04-11 16:24:08.843\u001b[0m | \u001b[34m\u001b[1mDEBUG   \u001b[0m | \u001b[36mlorapy.datafile.encoding\u001b[0m:\u001b[36mcompute_params\u001b[0m:\u001b[36m15\u001b[0m - \u001b[34m\u001b[1mcomputed samples per symbol: 76801 and packet length: 2323230\u001b[0m\n",
      "\u001b[32m2020-04-11 16:24:08.845\u001b[0m | \u001b[1mINFO    \u001b[0m | \u001b[36mlorapy.datafile._base_file\u001b[0m:\u001b[36mload\u001b[0m:\u001b[36m61\u001b[0m - \u001b[1mloaded 76800 samples from file\u001b[0m\n"
     ]
    },
    {
     "data": {
      "text/plain": [
       "BaselineSymbolSet(num symbols=76800 | BW: 1 | SF: 12 | Att: 0 | samples per symbol: 76801 | packet length: 2323230)"
      ]
     },
     "metadata": {},
     "output_type": "display_data"
    },
    {
     "name": "stdout",
     "output_type": "stream",
     "text": [
      "\u001b[32m2020-04-11 16:24:08.848\u001b[0m | \u001b[33m\u001b[1mWARNING \u001b[0m | \u001b[36m__main__\u001b[0m:\u001b[36m_mp_compute_corr\u001b[0m:\u001b[36m13\u001b[0m - \u001b[33m\u001b[1mbeginning multiprocessing..\u001b[0m\n",
      "\u001b[32m2020-04-11 16:24:11.284\u001b[0m | \u001b[33m\u001b[1mWARNING \u001b[0m | \u001b[36m__main__\u001b[0m:\u001b[36m_mp_compute_corr\u001b[0m:\u001b[36m19\u001b[0m - \u001b[33m\u001b[1mcompleted multiprocessing\u001b[0m\n",
      "\u001b[32m2020-04-11 16:24:11.287\u001b[0m | \u001b[1mINFO    \u001b[0m | \u001b[36m__main__\u001b[0m:\u001b[36mfilter_symbols_fftcorr\u001b[0m:\u001b[36m41\u001b[0m - \u001b[1mset threshold: 32268.132958\u001b[0m\n",
      "\u001b[32m2020-04-11 16:24:11.374\u001b[0m | \u001b[33m\u001b[1mWARNING \u001b[0m | \u001b[36m__main__\u001b[0m:\u001b[36mfilter_symbols_fftcorr\u001b[0m:\u001b[36m47\u001b[0m - \u001b[33m\u001b[1mremoved 0 symbols  [165 / 165]\u001b[0m\n"
     ]
    },
    {
     "name": "stderr",
     "output_type": "stream",
     "text": [
      "19it [00:41,  2.56s/it]"
     ]
    },
    {
     "name": "stdout",
     "output_type": "stream",
     "text": [
      "\u001b[32m2020-04-11 16:24:11.706\u001b[0m | \u001b[33m\u001b[1mWARNING \u001b[0m | \u001b[36m__main__\u001b[0m:\u001b[36m<module>\u001b[0m:\u001b[36m6\u001b[0m - \u001b[33m\u001b[1mworking file DotPFile(id=61 | name='lora_BW1_SF11_915MHz_20ksps_Att60_v1.p')\u001b[0m\n",
      "\u001b[32m2020-04-11 16:24:11.707\u001b[0m | \u001b[34m\u001b[1mDEBUG   \u001b[0m | \u001b[36mlorapy.datafile.encoding\u001b[0m:\u001b[36mcompute_params\u001b[0m:\u001b[36m15\u001b[0m - \u001b[34m\u001b[1mcomputed samples per symbol: 38396 and packet length: 1161479\u001b[0m\n",
      "\u001b[32m2020-04-11 16:24:11.930\u001b[0m | \u001b[1mINFO    \u001b[0m | \u001b[36mlorapy.datafile._base_file\u001b[0m:\u001b[36mload\u001b[0m:\u001b[36m61\u001b[0m - \u001b[1mloaded 10558900 samples from file\u001b[0m\n"
     ]
    },
    {
     "data": {
      "text/plain": [
       "BaselineSymbolSet(num symbols=275 | BW: 1 | SF: 11 | Att: 60 | samples per symbol: 38396 | packet length: 1161479)"
      ]
     },
     "metadata": {},
     "output_type": "display_data"
    },
    {
     "name": "stdout",
     "output_type": "stream",
     "text": [
      "\u001b[32m2020-04-11 16:24:11.935\u001b[0m | \u001b[34m\u001b[1mDEBUG   \u001b[0m | \u001b[36mlorapy.datafile.encoding\u001b[0m:\u001b[36mcompute_params\u001b[0m:\u001b[36m15\u001b[0m - \u001b[34m\u001b[1mcomputed samples per symbol: 38396 and packet length: 1161479\u001b[0m\n",
      "\u001b[32m2020-04-11 16:24:11.937\u001b[0m | \u001b[1mINFO    \u001b[0m | \u001b[36mlorapy.datafile._base_file\u001b[0m:\u001b[36mload\u001b[0m:\u001b[36m61\u001b[0m - \u001b[1mloaded 38395 samples from file\u001b[0m\n"
     ]
    },
    {
     "data": {
      "text/plain": [
       "BaselineSymbolSet(num symbols=38395 | BW: 1 | SF: 11 | Att: 0 | samples per symbol: 38396 | packet length: 1161479)"
      ]
     },
     "metadata": {},
     "output_type": "display_data"
    },
    {
     "name": "stdout",
     "output_type": "stream",
     "text": [
      "\u001b[32m2020-04-11 16:24:11.939\u001b[0m | \u001b[33m\u001b[1mWARNING \u001b[0m | \u001b[36m__main__\u001b[0m:\u001b[36m_mp_compute_corr\u001b[0m:\u001b[36m13\u001b[0m - \u001b[33m\u001b[1mbeginning multiprocessing..\u001b[0m\n",
      "\u001b[32m2020-04-11 16:24:13.166\u001b[0m | \u001b[33m\u001b[1mWARNING \u001b[0m | \u001b[36m__main__\u001b[0m:\u001b[36m_mp_compute_corr\u001b[0m:\u001b[36m19\u001b[0m - \u001b[33m\u001b[1mcompleted multiprocessing\u001b[0m\n",
      "\u001b[32m2020-04-11 16:24:13.169\u001b[0m | \u001b[1mINFO    \u001b[0m | \u001b[36m__main__\u001b[0m:\u001b[36mfilter_symbols_fftcorr\u001b[0m:\u001b[36m41\u001b[0m - \u001b[1mset threshold: 164.333752\u001b[0m\n",
      "\u001b[32m2020-04-11 16:24:13.208\u001b[0m | \u001b[33m\u001b[1mWARNING \u001b[0m | \u001b[36m__main__\u001b[0m:\u001b[36mfilter_symbols_fftcorr\u001b[0m:\u001b[36m47\u001b[0m - \u001b[33m\u001b[1mremoved 0 symbols  [275 / 275]\u001b[0m\n"
     ]
    },
    {
     "name": "stderr",
     "output_type": "stream",
     "text": [
      "20it [00:42,  2.29s/it]"
     ]
    },
    {
     "name": "stdout",
     "output_type": "stream",
     "text": [
      "\u001b[32m2020-04-11 16:24:13.359\u001b[0m | \u001b[33m\u001b[1mWARNING \u001b[0m | \u001b[36m__main__\u001b[0m:\u001b[36m<module>\u001b[0m:\u001b[36m6\u001b[0m - \u001b[33m\u001b[1mworking file DotPFile(id=62 | name='lora_BW1_SF10_915MHz_20ksps_Att60_v1.p')\u001b[0m\n",
      "\u001b[32m2020-04-11 16:24:13.360\u001b[0m | \u001b[34m\u001b[1mDEBUG   \u001b[0m | \u001b[36mlorapy.datafile.encoding\u001b[0m:\u001b[36mcompute_params\u001b[0m:\u001b[36m15\u001b[0m - \u001b[34m\u001b[1mcomputed samples per symbol: 19198 and packet length: 580739\u001b[0m\n",
      "\u001b[32m2020-04-11 16:24:13.833\u001b[0m | \u001b[1mINFO    \u001b[0m | \u001b[36mlorapy.datafile._base_file\u001b[0m:\u001b[36mload\u001b[0m:\u001b[36m61\u001b[0m - \u001b[1mloaded 11537998 samples from file\u001b[0m\n"
     ]
    },
    {
     "data": {
      "text/plain": [
       "BaselineSymbolSet(num symbols=601 | BW: 1 | SF: 10 | Att: 60 | samples per symbol: 19198 | packet length: 580739)"
      ]
     },
     "metadata": {},
     "output_type": "display_data"
    },
    {
     "name": "stdout",
     "output_type": "stream",
     "text": [
      "\u001b[32m2020-04-11 16:24:13.838\u001b[0m | \u001b[34m\u001b[1mDEBUG   \u001b[0m | \u001b[36mlorapy.datafile.encoding\u001b[0m:\u001b[36mcompute_params\u001b[0m:\u001b[36m15\u001b[0m - \u001b[34m\u001b[1mcomputed samples per symbol: 19198 and packet length: 580739\u001b[0m\n",
      "\u001b[32m2020-04-11 16:24:13.840\u001b[0m | \u001b[1mINFO    \u001b[0m | \u001b[36mlorapy.datafile._base_file\u001b[0m:\u001b[36mload\u001b[0m:\u001b[36m61\u001b[0m - \u001b[1mloaded 19197 samples from file\u001b[0m\n"
     ]
    },
    {
     "data": {
      "text/plain": [
       "BaselineSymbolSet(num symbols=19197 | BW: 1 | SF: 10 | Att: 0 | samples per symbol: 19198 | packet length: 580739)"
      ]
     },
     "metadata": {},
     "output_type": "display_data"
    },
    {
     "name": "stdout",
     "output_type": "stream",
     "text": [
      "\u001b[32m2020-04-11 16:24:13.843\u001b[0m | \u001b[33m\u001b[1mWARNING \u001b[0m | \u001b[36m__main__\u001b[0m:\u001b[36m_mp_compute_corr\u001b[0m:\u001b[36m13\u001b[0m - \u001b[33m\u001b[1mbeginning multiprocessing..\u001b[0m\n",
      "\u001b[32m2020-04-11 16:24:15.471\u001b[0m | \u001b[33m\u001b[1mWARNING \u001b[0m | \u001b[36m__main__\u001b[0m:\u001b[36m_mp_compute_corr\u001b[0m:\u001b[36m19\u001b[0m - \u001b[33m\u001b[1mcompleted multiprocessing\u001b[0m\n",
      "\u001b[32m2020-04-11 16:24:15.475\u001b[0m | \u001b[1mINFO    \u001b[0m | \u001b[36m__main__\u001b[0m:\u001b[36mfilter_symbols_fftcorr\u001b[0m:\u001b[36m41\u001b[0m - \u001b[1mset threshold: 78.183775\u001b[0m\n",
      "\u001b[32m2020-04-11 16:24:15.584\u001b[0m | \u001b[33m\u001b[1mWARNING \u001b[0m | \u001b[36m__main__\u001b[0m:\u001b[36mfilter_symbols_fftcorr\u001b[0m:\u001b[36m47\u001b[0m - \u001b[33m\u001b[1mremoved 0 symbols  [601 / 601]\u001b[0m\n"
     ]
    },
    {
     "name": "stderr",
     "output_type": "stream",
     "text": [
      "21it [00:45,  2.38s/it]"
     ]
    },
    {
     "name": "stdout",
     "output_type": "stream",
     "text": [
      "\u001b[32m2020-04-11 16:24:15.936\u001b[0m | \u001b[33m\u001b[1mWARNING \u001b[0m | \u001b[36m__main__\u001b[0m:\u001b[36m<module>\u001b[0m:\u001b[36m6\u001b[0m - \u001b[33m\u001b[1mworking file DotPFile(id=71 | name='lora_BW2_SF12_915MHz_20ksps_Att0_v1.p')\u001b[0m\n",
      "\u001b[32m2020-04-11 16:24:15.937\u001b[0m | \u001b[34m\u001b[1mDEBUG   \u001b[0m | \u001b[36mlorapy.datafile.encoding\u001b[0m:\u001b[36mcompute_params\u001b[0m:\u001b[36m15\u001b[0m - \u001b[34m\u001b[1mcomputed samples per symbol: 51197 and packet length: 1548709\u001b[0m\n",
      "\u001b[32m2020-04-11 16:24:16.180\u001b[0m | \u001b[1mINFO    \u001b[0m | \u001b[36mlorapy.datafile._base_file\u001b[0m:\u001b[36mload\u001b[0m:\u001b[36m61\u001b[0m - \u001b[1mloaded 12799250 samples from file\u001b[0m\n"
     ]
    },
    {
     "data": {
      "text/plain": [
       "BaselineSymbolSet(num symbols=250 | BW: 2 | SF: 12 | Att: 0 | samples per symbol: 51197 | packet length: 1548709)"
      ]
     },
     "metadata": {},
     "output_type": "display_data"
    },
    {
     "name": "stdout",
     "output_type": "stream",
     "text": [
      "\u001b[32m2020-04-11 16:24:16.185\u001b[0m | \u001b[34m\u001b[1mDEBUG   \u001b[0m | \u001b[36mlorapy.datafile.encoding\u001b[0m:\u001b[36mcompute_params\u001b[0m:\u001b[36m15\u001b[0m - \u001b[34m\u001b[1mcomputed samples per symbol: 51197 and packet length: 1548709\u001b[0m\n",
      "\u001b[32m2020-04-11 16:24:16.187\u001b[0m | \u001b[1mINFO    \u001b[0m | \u001b[36mlorapy.datafile._base_file\u001b[0m:\u001b[36mload\u001b[0m:\u001b[36m61\u001b[0m - \u001b[1mloaded 51197 samples from file\u001b[0m\n"
     ]
    },
    {
     "data": {
      "text/plain": [
       "BaselineSymbolSet(num symbols=51197 | BW: 2 | SF: 12 | Att: 0 | samples per symbol: 51197 | packet length: 1548709)"
      ]
     },
     "metadata": {},
     "output_type": "display_data"
    },
    {
     "name": "stdout",
     "output_type": "stream",
     "text": [
      "\u001b[32m2020-04-11 16:24:16.189\u001b[0m | \u001b[33m\u001b[1mWARNING \u001b[0m | \u001b[36m__main__\u001b[0m:\u001b[36m_mp_compute_corr\u001b[0m:\u001b[36m13\u001b[0m - \u001b[33m\u001b[1mbeginning multiprocessing..\u001b[0m\n",
      "\u001b[32m2020-04-11 16:24:17.676\u001b[0m | \u001b[33m\u001b[1mWARNING \u001b[0m | \u001b[36m__main__\u001b[0m:\u001b[36m_mp_compute_corr\u001b[0m:\u001b[36m19\u001b[0m - \u001b[33m\u001b[1mcompleted multiprocessing\u001b[0m\n",
      "\u001b[32m2020-04-11 16:24:17.679\u001b[0m | \u001b[1mINFO    \u001b[0m | \u001b[36m__main__\u001b[0m:\u001b[36mfilter_symbols_fftcorr\u001b[0m:\u001b[36m41\u001b[0m - \u001b[1mset threshold: 816058.200000\u001b[0m\n",
      "\u001b[32m2020-04-11 16:24:17.734\u001b[0m | \u001b[33m\u001b[1mWARNING \u001b[0m | \u001b[36m__main__\u001b[0m:\u001b[36mfilter_symbols_fftcorr\u001b[0m:\u001b[36m47\u001b[0m - \u001b[33m\u001b[1mremoved 0 symbols  [250 / 250]\u001b[0m\n"
     ]
    },
    {
     "name": "stderr",
     "output_type": "stream",
     "text": [
      "22it [00:47,  2.26s/it]"
     ]
    },
    {
     "name": "stdout",
     "output_type": "stream",
     "text": [
      "\u001b[32m2020-04-11 16:24:17.940\u001b[0m | \u001b[33m\u001b[1mWARNING \u001b[0m | \u001b[36m__main__\u001b[0m:\u001b[36m<module>\u001b[0m:\u001b[36m6\u001b[0m - \u001b[33m\u001b[1mworking file DotPFile(id=72 | name='lora_BW1_SF12_915MHz_20kspsAtt80_v1.p')\u001b[0m\n",
      "\u001b[32m2020-04-11 16:24:17.942\u001b[0m | \u001b[34m\u001b[1mDEBUG   \u001b[0m | \u001b[36mlorapy.datafile.encoding\u001b[0m:\u001b[36mcompute_params\u001b[0m:\u001b[36m15\u001b[0m - \u001b[34m\u001b[1mcomputed samples per symbol: 76801 and packet length: 2323230\u001b[0m\n",
      "\u001b[32m2020-04-11 16:24:18.563\u001b[0m | \u001b[1mINFO    \u001b[0m | \u001b[36mlorapy.datafile._base_file\u001b[0m:\u001b[36mload\u001b[0m:\u001b[36m61\u001b[0m - \u001b[1mloaded 12672165 samples from file\u001b[0m\n"
     ]
    },
    {
     "data": {
      "text/plain": [
       "BaselineSymbolSet(num symbols=165 | BW: 1 | SF: 12 | Att: 80 | samples per symbol: 76801 | packet length: 2323230)"
      ]
     },
     "metadata": {},
     "output_type": "display_data"
    },
    {
     "name": "stdout",
     "output_type": "stream",
     "text": [
      "\u001b[32m2020-04-11 16:24:18.568\u001b[0m | \u001b[34m\u001b[1mDEBUG   \u001b[0m | \u001b[36mlorapy.datafile.encoding\u001b[0m:\u001b[36mcompute_params\u001b[0m:\u001b[36m15\u001b[0m - \u001b[34m\u001b[1mcomputed samples per symbol: 76801 and packet length: 2323230\u001b[0m\n",
      "\u001b[32m2020-04-11 16:24:18.570\u001b[0m | \u001b[1mINFO    \u001b[0m | \u001b[36mlorapy.datafile._base_file\u001b[0m:\u001b[36mload\u001b[0m:\u001b[36m61\u001b[0m - \u001b[1mloaded 76800 samples from file\u001b[0m\n"
     ]
    },
    {
     "data": {
      "text/plain": [
       "BaselineSymbolSet(num symbols=76800 | BW: 1 | SF: 12 | Att: 0 | samples per symbol: 76801 | packet length: 2323230)"
      ]
     },
     "metadata": {},
     "output_type": "display_data"
    },
    {
     "name": "stdout",
     "output_type": "stream",
     "text": [
      "\u001b[32m2020-04-11 16:24:18.572\u001b[0m | \u001b[33m\u001b[1mWARNING \u001b[0m | \u001b[36m__main__\u001b[0m:\u001b[36m_mp_compute_corr\u001b[0m:\u001b[36m13\u001b[0m - \u001b[33m\u001b[1mbeginning multiprocessing..\u001b[0m\n",
      "\u001b[32m2020-04-11 16:24:20.920\u001b[0m | \u001b[33m\u001b[1mWARNING \u001b[0m | \u001b[36m__main__\u001b[0m:\u001b[36m_mp_compute_corr\u001b[0m:\u001b[36m19\u001b[0m - \u001b[33m\u001b[1mcompleted multiprocessing\u001b[0m\n",
      "\u001b[32m2020-04-11 16:24:20.923\u001b[0m | \u001b[1mINFO    \u001b[0m | \u001b[36m__main__\u001b[0m:\u001b[36mfilter_symbols_fftcorr\u001b[0m:\u001b[36m41\u001b[0m - \u001b[1mset threshold: 2.998536\u001b[0m\n",
      "\u001b[32m2020-04-11 16:24:21.021\u001b[0m | \u001b[33m\u001b[1mWARNING \u001b[0m | \u001b[36m__main__\u001b[0m:\u001b[36mfilter_symbols_fftcorr\u001b[0m:\u001b[36m47\u001b[0m - \u001b[33m\u001b[1mremoved 0 symbols  [165 / 165]\u001b[0m\n"
     ]
    },
    {
     "name": "stderr",
     "output_type": "stream",
     "text": [
      "23it [00:50,  2.61s/it]"
     ]
    },
    {
     "name": "stdout",
     "output_type": "stream",
     "text": [
      "\u001b[32m2020-04-11 16:24:21.365\u001b[0m | \u001b[33m\u001b[1mWARNING \u001b[0m | \u001b[36m__main__\u001b[0m:\u001b[36m<module>\u001b[0m:\u001b[36m6\u001b[0m - \u001b[33m\u001b[1mworking file DotPFile(id=76 | name='lora_BW2_SF11_915MHz_20ksps_Att120_v1.p')\u001b[0m\n",
      "\u001b[32m2020-04-11 16:24:21.367\u001b[0m | \u001b[34m\u001b[1mDEBUG   \u001b[0m | \u001b[36mlorapy.datafile.encoding\u001b[0m:\u001b[36mcompute_params\u001b[0m:\u001b[36m15\u001b[0m - \u001b[34m\u001b[1mcomputed samples per symbol: 25604 and packet length: 774521\u001b[0m\n",
      "\u001b[32m2020-04-11 16:24:21.821\u001b[0m | \u001b[1mINFO    \u001b[0m | \u001b[36mlorapy.datafile._base_file\u001b[0m:\u001b[36mload\u001b[0m:\u001b[36m61\u001b[0m - \u001b[1mloaded 10907304 samples from file\u001b[0m\n"
     ]
    },
    {
     "data": {
      "text/plain": [
       "BaselineSymbolSet(num symbols=426 | BW: 2 | SF: 11 | Att: 120 | samples per symbol: 25604 | packet length: 774521)"
      ]
     },
     "metadata": {},
     "output_type": "display_data"
    },
    {
     "name": "stdout",
     "output_type": "stream",
     "text": [
      "\u001b[32m2020-04-11 16:24:21.825\u001b[0m | \u001b[34m\u001b[1mDEBUG   \u001b[0m | \u001b[36mlorapy.datafile.encoding\u001b[0m:\u001b[36mcompute_params\u001b[0m:\u001b[36m15\u001b[0m - \u001b[34m\u001b[1mcomputed samples per symbol: 25604 and packet length: 774521\u001b[0m\n",
      "\u001b[32m2020-04-11 16:24:21.827\u001b[0m | \u001b[1mINFO    \u001b[0m | \u001b[36mlorapy.datafile._base_file\u001b[0m:\u001b[36mload\u001b[0m:\u001b[36m61\u001b[0m - \u001b[1mloaded 25603 samples from file\u001b[0m\n"
     ]
    },
    {
     "data": {
      "text/plain": [
       "BaselineSymbolSet(num symbols=25603 | BW: 2 | SF: 11 | Att: 0 | samples per symbol: 25604 | packet length: 774521)"
      ]
     },
     "metadata": {},
     "output_type": "display_data"
    },
    {
     "name": "stdout",
     "output_type": "stream",
     "text": [
      "\u001b[32m2020-04-11 16:24:21.830\u001b[0m | \u001b[33m\u001b[1mWARNING \u001b[0m | \u001b[36m__main__\u001b[0m:\u001b[36m_mp_compute_corr\u001b[0m:\u001b[36m13\u001b[0m - \u001b[33m\u001b[1mbeginning multiprocessing..\u001b[0m\n",
      "\u001b[32m2020-04-11 16:24:23.449\u001b[0m | \u001b[33m\u001b[1mWARNING \u001b[0m | \u001b[36m__main__\u001b[0m:\u001b[36m_mp_compute_corr\u001b[0m:\u001b[36m19\u001b[0m - \u001b[33m\u001b[1mcompleted multiprocessing\u001b[0m\n",
      "\u001b[32m2020-04-11 16:24:23.452\u001b[0m | \u001b[1mINFO    \u001b[0m | \u001b[36m__main__\u001b[0m:\u001b[36mfilter_symbols_fftcorr\u001b[0m:\u001b[36m41\u001b[0m - \u001b[1mset threshold: 0.001505\u001b[0m\n",
      "\u001b[32m2020-04-11 16:24:23.568\u001b[0m | \u001b[33m\u001b[1mWARNING \u001b[0m | \u001b[36m__main__\u001b[0m:\u001b[36mfilter_symbols_fftcorr\u001b[0m:\u001b[36m47\u001b[0m - \u001b[33m\u001b[1mremoved 0 symbols  [426 / 426]\u001b[0m\n"
     ]
    },
    {
     "name": "stderr",
     "output_type": "stream",
     "text": [
      "24it [00:53,  2.58s/it]"
     ]
    },
    {
     "name": "stdout",
     "output_type": "stream",
     "text": [
      "\u001b[32m2020-04-11 16:24:23.861\u001b[0m | \u001b[33m\u001b[1mWARNING \u001b[0m | \u001b[36m__main__\u001b[0m:\u001b[36m<module>\u001b[0m:\u001b[36m6\u001b[0m - \u001b[33m\u001b[1mworking file DotPFile(id=78 | name='lora_BW2_SF11_915MHz_20ksps_Att0_v1.p')\u001b[0m\n",
      "\u001b[32m2020-04-11 16:24:23.862\u001b[0m | \u001b[34m\u001b[1mDEBUG   \u001b[0m | \u001b[36mlorapy.datafile.encoding\u001b[0m:\u001b[36mcompute_params\u001b[0m:\u001b[36m15\u001b[0m - \u001b[34m\u001b[1mcomputed samples per symbol: 25604 and packet length: 774521\u001b[0m\n",
      "\u001b[32m2020-04-11 16:24:24.613\u001b[0m | \u001b[1mINFO    \u001b[0m | \u001b[36mlorapy.datafile._base_file\u001b[0m:\u001b[36mload\u001b[0m:\u001b[36m61\u001b[0m - \u001b[1mloaded 12750792 samples from file\u001b[0m\n"
     ]
    },
    {
     "data": {
      "text/plain": [
       "BaselineSymbolSet(num symbols=498 | BW: 2 | SF: 11 | Att: 0 | samples per symbol: 25604 | packet length: 774521)"
      ]
     },
     "metadata": {},
     "output_type": "display_data"
    },
    {
     "name": "stdout",
     "output_type": "stream",
     "text": [
      "\u001b[32m2020-04-11 16:24:24.617\u001b[0m | \u001b[34m\u001b[1mDEBUG   \u001b[0m | \u001b[36mlorapy.datafile.encoding\u001b[0m:\u001b[36mcompute_params\u001b[0m:\u001b[36m15\u001b[0m - \u001b[34m\u001b[1mcomputed samples per symbol: 25604 and packet length: 774521\u001b[0m\n",
      "\u001b[32m2020-04-11 16:24:24.619\u001b[0m | \u001b[1mINFO    \u001b[0m | \u001b[36mlorapy.datafile._base_file\u001b[0m:\u001b[36mload\u001b[0m:\u001b[36m61\u001b[0m - \u001b[1mloaded 25603 samples from file\u001b[0m\n"
     ]
    },
    {
     "data": {
      "text/plain": [
       "BaselineSymbolSet(num symbols=25603 | BW: 2 | SF: 11 | Att: 0 | samples per symbol: 25604 | packet length: 774521)"
      ]
     },
     "metadata": {},
     "output_type": "display_data"
    },
    {
     "name": "stdout",
     "output_type": "stream",
     "text": [
      "\u001b[32m2020-04-11 16:24:24.621\u001b[0m | \u001b[33m\u001b[1mWARNING \u001b[0m | \u001b[36m__main__\u001b[0m:\u001b[36m_mp_compute_corr\u001b[0m:\u001b[36m13\u001b[0m - \u001b[33m\u001b[1mbeginning multiprocessing..\u001b[0m\n",
      "\u001b[32m2020-04-11 16:24:26.857\u001b[0m | \u001b[33m\u001b[1mWARNING \u001b[0m | \u001b[36m__main__\u001b[0m:\u001b[36m_mp_compute_corr\u001b[0m:\u001b[36m19\u001b[0m - \u001b[33m\u001b[1mcompleted multiprocessing\u001b[0m\n",
      "\u001b[32m2020-04-11 16:24:26.861\u001b[0m | \u001b[1mINFO    \u001b[0m | \u001b[36m__main__\u001b[0m:\u001b[36mfilter_symbols_fftcorr\u001b[0m:\u001b[36m41\u001b[0m - \u001b[1mset threshold: 408298.768535\u001b[0m\n",
      "\u001b[32m2020-04-11 16:24:27.125\u001b[0m | \u001b[33m\u001b[1mWARNING \u001b[0m | \u001b[36m__main__\u001b[0m:\u001b[36mfilter_symbols_fftcorr\u001b[0m:\u001b[36m47\u001b[0m - \u001b[33m\u001b[1mremoved 0 symbols  [498 / 498]\u001b[0m\n"
     ]
    },
    {
     "name": "stderr",
     "output_type": "stream",
     "text": [
      "25it [00:56,  2.89s/it]"
     ]
    },
    {
     "name": "stdout",
     "output_type": "stream",
     "text": [
      "\u001b[32m2020-04-11 16:24:27.465\u001b[0m | \u001b[33m\u001b[1mWARNING \u001b[0m | \u001b[36m__main__\u001b[0m:\u001b[36m<module>\u001b[0m:\u001b[36m6\u001b[0m - \u001b[33m\u001b[1mworking file DotPFile(id=79 | name='lora_BW2_SF11_915MHz_20ksps_Att60_v1.p')\u001b[0m\n",
      "\u001b[32m2020-04-11 16:24:27.467\u001b[0m | \u001b[34m\u001b[1mDEBUG   \u001b[0m | \u001b[36mlorapy.datafile.encoding\u001b[0m:\u001b[36mcompute_params\u001b[0m:\u001b[36m15\u001b[0m - \u001b[34m\u001b[1mcomputed samples per symbol: 25604 and packet length: 774521\u001b[0m\n",
      "\u001b[32m2020-04-11 16:24:28.271\u001b[0m | \u001b[1mINFO    \u001b[0m | \u001b[36mlorapy.datafile._base_file\u001b[0m:\u001b[36mload\u001b[0m:\u001b[36m61\u001b[0m - \u001b[1mloaded 12673980 samples from file\u001b[0m\n"
     ]
    },
    {
     "data": {
      "text/plain": [
       "BaselineSymbolSet(num symbols=495 | BW: 2 | SF: 11 | Att: 60 | samples per symbol: 25604 | packet length: 774521)"
      ]
     },
     "metadata": {},
     "output_type": "display_data"
    },
    {
     "name": "stdout",
     "output_type": "stream",
     "text": [
      "\u001b[32m2020-04-11 16:24:28.276\u001b[0m | \u001b[34m\u001b[1mDEBUG   \u001b[0m | \u001b[36mlorapy.datafile.encoding\u001b[0m:\u001b[36mcompute_params\u001b[0m:\u001b[36m15\u001b[0m - \u001b[34m\u001b[1mcomputed samples per symbol: 25604 and packet length: 774521\u001b[0m\n",
      "\u001b[32m2020-04-11 16:24:28.278\u001b[0m | \u001b[1mINFO    \u001b[0m | \u001b[36mlorapy.datafile._base_file\u001b[0m:\u001b[36mload\u001b[0m:\u001b[36m61\u001b[0m - \u001b[1mloaded 25603 samples from file\u001b[0m\n"
     ]
    },
    {
     "data": {
      "text/plain": [
       "BaselineSymbolSet(num symbols=25603 | BW: 2 | SF: 11 | Att: 0 | samples per symbol: 25604 | packet length: 774521)"
      ]
     },
     "metadata": {},
     "output_type": "display_data"
    },
    {
     "name": "stdout",
     "output_type": "stream",
     "text": [
      "\u001b[32m2020-04-11 16:24:28.280\u001b[0m | \u001b[33m\u001b[1mWARNING \u001b[0m | \u001b[36m__main__\u001b[0m:\u001b[36m_mp_compute_corr\u001b[0m:\u001b[36m13\u001b[0m - \u001b[33m\u001b[1mbeginning multiprocessing..\u001b[0m\n",
      "\u001b[32m2020-04-11 16:24:30.362\u001b[0m | \u001b[33m\u001b[1mWARNING \u001b[0m | \u001b[36m__main__\u001b[0m:\u001b[36m_mp_compute_corr\u001b[0m:\u001b[36m19\u001b[0m - \u001b[33m\u001b[1mcompleted multiprocessing\u001b[0m\n",
      "\u001b[32m2020-04-11 16:24:30.366\u001b[0m | \u001b[1mINFO    \u001b[0m | \u001b[36m__main__\u001b[0m:\u001b[36mfilter_symbols_fftcorr\u001b[0m:\u001b[36m41\u001b[0m - \u001b[1mset threshold: 70.210328\u001b[0m\n",
      "\u001b[32m2020-04-11 16:24:30.661\u001b[0m | \u001b[33m\u001b[1mWARNING \u001b[0m | \u001b[36m__main__\u001b[0m:\u001b[36mfilter_symbols_fftcorr\u001b[0m:\u001b[36m47\u001b[0m - \u001b[33m\u001b[1mremoved 0 symbols  [495 / 495]\u001b[0m\n"
     ]
    },
    {
     "name": "stderr",
     "output_type": "stream",
     "text": [
      "26it [01:00,  3.11s/it]"
     ]
    },
    {
     "name": "stdout",
     "output_type": "stream",
     "text": [
      "\u001b[32m2020-04-11 16:24:31.092\u001b[0m | \u001b[33m\u001b[1mWARNING \u001b[0m | \u001b[36m__main__\u001b[0m:\u001b[36m<module>\u001b[0m:\u001b[36m6\u001b[0m - \u001b[33m\u001b[1mworking file DotPFile(id=83 | name='lora_BW1_SF10_915MHz_20ksps_Att100_v1.p')\u001b[0m\n",
      "\u001b[32m2020-04-11 16:24:31.094\u001b[0m | \u001b[34m\u001b[1mDEBUG   \u001b[0m | \u001b[36mlorapy.datafile.encoding\u001b[0m:\u001b[36mcompute_params\u001b[0m:\u001b[36m15\u001b[0m - \u001b[34m\u001b[1mcomputed samples per symbol: 19198 and packet length: 580739\u001b[0m\n",
      "\u001b[32m2020-04-11 16:24:31.852\u001b[0m | \u001b[1mINFO    \u001b[0m | \u001b[36mlorapy.datafile._base_file\u001b[0m:\u001b[36mload\u001b[0m:\u001b[36m61\u001b[0m - \u001b[1mloaded 12536294 samples from file\u001b[0m\n"
     ]
    },
    {
     "data": {
      "text/plain": [
       "BaselineSymbolSet(num symbols=653 | BW: 1 | SF: 10 | Att: 100 | samples per symbol: 19198 | packet length: 580739)"
      ]
     },
     "metadata": {},
     "output_type": "display_data"
    },
    {
     "name": "stdout",
     "output_type": "stream",
     "text": [
      "\u001b[32m2020-04-11 16:24:31.858\u001b[0m | \u001b[34m\u001b[1mDEBUG   \u001b[0m | \u001b[36mlorapy.datafile.encoding\u001b[0m:\u001b[36mcompute_params\u001b[0m:\u001b[36m15\u001b[0m - \u001b[34m\u001b[1mcomputed samples per symbol: 19198 and packet length: 580739\u001b[0m\n",
      "\u001b[32m2020-04-11 16:24:31.860\u001b[0m | \u001b[1mINFO    \u001b[0m | \u001b[36mlorapy.datafile._base_file\u001b[0m:\u001b[36mload\u001b[0m:\u001b[36m61\u001b[0m - \u001b[1mloaded 19197 samples from file\u001b[0m\n"
     ]
    },
    {
     "data": {
      "text/plain": [
       "BaselineSymbolSet(num symbols=19197 | BW: 1 | SF: 10 | Att: 0 | samples per symbol: 19198 | packet length: 580739)"
      ]
     },
     "metadata": {},
     "output_type": "display_data"
    },
    {
     "name": "stdout",
     "output_type": "stream",
     "text": [
      "\u001b[32m2020-04-11 16:24:31.863\u001b[0m | \u001b[33m\u001b[1mWARNING \u001b[0m | \u001b[36m__main__\u001b[0m:\u001b[36m_mp_compute_corr\u001b[0m:\u001b[36m13\u001b[0m - \u001b[33m\u001b[1mbeginning multiprocessing..\u001b[0m\n",
      "\u001b[32m2020-04-11 16:24:33.920\u001b[0m | \u001b[33m\u001b[1mWARNING \u001b[0m | \u001b[36m__main__\u001b[0m:\u001b[36m_mp_compute_corr\u001b[0m:\u001b[36m19\u001b[0m - \u001b[33m\u001b[1mcompleted multiprocessing\u001b[0m\n",
      "\u001b[32m2020-04-11 16:24:33.923\u001b[0m | \u001b[1mINFO    \u001b[0m | \u001b[36m__main__\u001b[0m:\u001b[36mfilter_symbols_fftcorr\u001b[0m:\u001b[36m41\u001b[0m - \u001b[1mset threshold: 0.007984\u001b[0m\n",
      "\u001b[32m2020-04-11 16:24:34.182\u001b[0m | \u001b[33m\u001b[1mWARNING \u001b[0m | \u001b[36m__main__\u001b[0m:\u001b[36mfilter_symbols_fftcorr\u001b[0m:\u001b[36m47\u001b[0m - \u001b[33m\u001b[1mremoved 0 symbols  [653 / 653]\u001b[0m\n"
     ]
    },
    {
     "name": "stderr",
     "output_type": "stream",
     "text": [
      "27it [01:03,  3.20s/it]"
     ]
    },
    {
     "name": "stdout",
     "output_type": "stream",
     "text": [
      "\u001b[32m2020-04-11 16:24:34.504\u001b[0m | \u001b[33m\u001b[1mWARNING \u001b[0m | \u001b[36m__main__\u001b[0m:\u001b[36m<module>\u001b[0m:\u001b[36m6\u001b[0m - \u001b[33m\u001b[1mworking file DotPFile(id=85 | name='lora_BW1_SF11_915MHz_20ksps_Att40_v1.p')\u001b[0m\n",
      "\u001b[32m2020-04-11 16:24:34.505\u001b[0m | \u001b[34m\u001b[1mDEBUG   \u001b[0m | \u001b[36mlorapy.datafile.encoding\u001b[0m:\u001b[36mcompute_params\u001b[0m:\u001b[36m15\u001b[0m - \u001b[34m\u001b[1mcomputed samples per symbol: 38396 and packet length: 1161479\u001b[0m\n",
      "\u001b[32m2020-04-11 16:24:34.764\u001b[0m | \u001b[1mINFO    \u001b[0m | \u001b[36mlorapy.datafile._base_file\u001b[0m:\u001b[36mload\u001b[0m:\u001b[36m61\u001b[0m - \u001b[1mloaded 13093036 samples from file\u001b[0m\n"
     ]
    },
    {
     "data": {
      "text/plain": [
       "BaselineSymbolSet(num symbols=341 | BW: 1 | SF: 11 | Att: 40 | samples per symbol: 38396 | packet length: 1161479)"
      ]
     },
     "metadata": {},
     "output_type": "display_data"
    },
    {
     "name": "stdout",
     "output_type": "stream",
     "text": [
      "\u001b[32m2020-04-11 16:24:34.769\u001b[0m | \u001b[34m\u001b[1mDEBUG   \u001b[0m | \u001b[36mlorapy.datafile.encoding\u001b[0m:\u001b[36mcompute_params\u001b[0m:\u001b[36m15\u001b[0m - \u001b[34m\u001b[1mcomputed samples per symbol: 38396 and packet length: 1161479\u001b[0m\n",
      "\u001b[32m2020-04-11 16:24:34.771\u001b[0m | \u001b[1mINFO    \u001b[0m | \u001b[36mlorapy.datafile._base_file\u001b[0m:\u001b[36mload\u001b[0m:\u001b[36m61\u001b[0m - \u001b[1mloaded 38395 samples from file\u001b[0m\n"
     ]
    },
    {
     "data": {
      "text/plain": [
       "BaselineSymbolSet(num symbols=38395 | BW: 1 | SF: 11 | Att: 0 | samples per symbol: 38396 | packet length: 1161479)"
      ]
     },
     "metadata": {},
     "output_type": "display_data"
    },
    {
     "name": "stdout",
     "output_type": "stream",
     "text": [
      "\u001b[32m2020-04-11 16:24:34.774\u001b[0m | \u001b[33m\u001b[1mWARNING \u001b[0m | \u001b[36m__main__\u001b[0m:\u001b[36m_mp_compute_corr\u001b[0m:\u001b[36m13\u001b[0m - \u001b[33m\u001b[1mbeginning multiprocessing..\u001b[0m\n",
      "\u001b[32m2020-04-11 16:24:36.485\u001b[0m | \u001b[33m\u001b[1mWARNING \u001b[0m | \u001b[36m__main__\u001b[0m:\u001b[36m_mp_compute_corr\u001b[0m:\u001b[36m19\u001b[0m - \u001b[33m\u001b[1mcompleted multiprocessing\u001b[0m\n",
      "\u001b[32m2020-04-11 16:24:36.488\u001b[0m | \u001b[1mINFO    \u001b[0m | \u001b[36m__main__\u001b[0m:\u001b[36mfilter_symbols_fftcorr\u001b[0m:\u001b[36m41\u001b[0m - \u001b[1mset threshold: 16007.823438\u001b[0m\n",
      "\u001b[32m2020-04-11 16:24:36.548\u001b[0m | \u001b[33m\u001b[1mWARNING \u001b[0m | \u001b[36m__main__\u001b[0m:\u001b[36mfilter_symbols_fftcorr\u001b[0m:\u001b[36m47\u001b[0m - \u001b[33m\u001b[1mremoved 0 symbols  [341 / 341]\u001b[0m\n"
     ]
    },
    {
     "name": "stderr",
     "output_type": "stream",
     "text": [
      "28it [01:06,  2.91s/it]"
     ]
    },
    {
     "name": "stdout",
     "output_type": "stream",
     "text": [
      "\u001b[32m2020-04-11 16:24:36.753\u001b[0m | \u001b[33m\u001b[1mWARNING \u001b[0m | \u001b[36m__main__\u001b[0m:\u001b[36m<module>\u001b[0m:\u001b[36m6\u001b[0m - \u001b[33m\u001b[1mworking file DotPFile(id=86 | name='lora_BW1_SF10_915MHz_20ksps_Att0_v1.p')\u001b[0m\n",
      "\u001b[32m2020-04-11 16:24:36.754\u001b[0m | \u001b[34m\u001b[1mDEBUG   \u001b[0m | \u001b[36mlorapy.datafile.encoding\u001b[0m:\u001b[36mcompute_params\u001b[0m:\u001b[36m15\u001b[0m - \u001b[34m\u001b[1mcomputed samples per symbol: 19198 and packet length: 580739\u001b[0m\n",
      "\u001b[32m2020-04-11 16:24:37.525\u001b[0m | \u001b[1mINFO    \u001b[0m | \u001b[36mlorapy.datafile._base_file\u001b[0m:\u001b[36mload\u001b[0m:\u001b[36m61\u001b[0m - \u001b[1mloaded 12497898 samples from file\u001b[0m\n"
     ]
    },
    {
     "data": {
      "text/plain": [
       "BaselineSymbolSet(num symbols=651 | BW: 1 | SF: 10 | Att: 0 | samples per symbol: 19198 | packet length: 580739)"
      ]
     },
     "metadata": {},
     "output_type": "display_data"
    },
    {
     "name": "stdout",
     "output_type": "stream",
     "text": [
      "\u001b[32m2020-04-11 16:24:37.530\u001b[0m | \u001b[34m\u001b[1mDEBUG   \u001b[0m | \u001b[36mlorapy.datafile.encoding\u001b[0m:\u001b[36mcompute_params\u001b[0m:\u001b[36m15\u001b[0m - \u001b[34m\u001b[1mcomputed samples per symbol: 19198 and packet length: 580739\u001b[0m\n",
      "\u001b[32m2020-04-11 16:24:37.531\u001b[0m | \u001b[1mINFO    \u001b[0m | \u001b[36mlorapy.datafile._base_file\u001b[0m:\u001b[36mload\u001b[0m:\u001b[36m61\u001b[0m - \u001b[1mloaded 19197 samples from file\u001b[0m\n"
     ]
    },
    {
     "data": {
      "text/plain": [
       "BaselineSymbolSet(num symbols=19197 | BW: 1 | SF: 10 | Att: 0 | samples per symbol: 19198 | packet length: 580739)"
      ]
     },
     "metadata": {},
     "output_type": "display_data"
    },
    {
     "name": "stdout",
     "output_type": "stream",
     "text": [
      "\u001b[32m2020-04-11 16:24:37.533\u001b[0m | \u001b[33m\u001b[1mWARNING \u001b[0m | \u001b[36m__main__\u001b[0m:\u001b[36m_mp_compute_corr\u001b[0m:\u001b[36m13\u001b[0m - \u001b[33m\u001b[1mbeginning multiprocessing..\u001b[0m\n",
      "\u001b[32m2020-04-11 16:24:39.671\u001b[0m | \u001b[33m\u001b[1mWARNING \u001b[0m | \u001b[36m__main__\u001b[0m:\u001b[36m_mp_compute_corr\u001b[0m:\u001b[36m19\u001b[0m - \u001b[33m\u001b[1mcompleted multiprocessing\u001b[0m\n",
      "\u001b[32m2020-04-11 16:24:39.674\u001b[0m | \u001b[1mINFO    \u001b[0m | \u001b[36m__main__\u001b[0m:\u001b[36mfilter_symbols_fftcorr\u001b[0m:\u001b[36m41\u001b[0m - \u001b[1mset threshold: 445502.461753\u001b[0m\n",
      "\u001b[32m2020-04-11 16:24:39.955\u001b[0m | \u001b[33m\u001b[1mWARNING \u001b[0m | \u001b[36m__main__\u001b[0m:\u001b[36mfilter_symbols_fftcorr\u001b[0m:\u001b[36m47\u001b[0m - \u001b[33m\u001b[1mremoved 0 symbols  [651 / 651]\u001b[0m\n"
     ]
    },
    {
     "name": "stderr",
     "output_type": "stream",
     "text": [
      "29it [01:09,  3.16s/it]"
     ]
    },
    {
     "name": "stdout",
     "output_type": "stream",
     "text": [
      "\u001b[32m2020-04-11 16:24:40.493\u001b[0m | \u001b[33m\u001b[1mWARNING \u001b[0m | \u001b[36m__main__\u001b[0m:\u001b[36m<module>\u001b[0m:\u001b[36m6\u001b[0m - \u001b[33m\u001b[1mworking file DotPFile(id=88 | name='lora_BW2_SF12_915MHz_20ksps_Att120_v1.p')\u001b[0m\n",
      "\u001b[32m2020-04-11 16:24:40.494\u001b[0m | \u001b[34m\u001b[1mDEBUG   \u001b[0m | \u001b[36mlorapy.datafile.encoding\u001b[0m:\u001b[36mcompute_params\u001b[0m:\u001b[36m15\u001b[0m - \u001b[34m\u001b[1mcomputed samples per symbol: 51197 and packet length: 1548709\u001b[0m\n",
      "\u001b[32m2020-04-11 16:24:41.182\u001b[0m | \u001b[1mINFO    \u001b[0m | \u001b[36mlorapy.datafile._base_file\u001b[0m:\u001b[36mload\u001b[0m:\u001b[36m61\u001b[0m - \u001b[1mloaded 10495385 samples from file\u001b[0m\n"
     ]
    },
    {
     "data": {
      "text/plain": [
       "BaselineSymbolSet(num symbols=205 | BW: 2 | SF: 12 | Att: 120 | samples per symbol: 51197 | packet length: 1548709)"
      ]
     },
     "metadata": {},
     "output_type": "display_data"
    },
    {
     "name": "stdout",
     "output_type": "stream",
     "text": [
      "\u001b[32m2020-04-11 16:24:41.187\u001b[0m | \u001b[34m\u001b[1mDEBUG   \u001b[0m | \u001b[36mlorapy.datafile.encoding\u001b[0m:\u001b[36mcompute_params\u001b[0m:\u001b[36m15\u001b[0m - \u001b[34m\u001b[1mcomputed samples per symbol: 51197 and packet length: 1548709\u001b[0m\n",
      "\u001b[32m2020-04-11 16:24:41.189\u001b[0m | \u001b[1mINFO    \u001b[0m | \u001b[36mlorapy.datafile._base_file\u001b[0m:\u001b[36mload\u001b[0m:\u001b[36m61\u001b[0m - \u001b[1mloaded 51197 samples from file\u001b[0m\n"
     ]
    },
    {
     "data": {
      "text/plain": [
       "BaselineSymbolSet(num symbols=51197 | BW: 2 | SF: 12 | Att: 0 | samples per symbol: 51197 | packet length: 1548709)"
      ]
     },
     "metadata": {},
     "output_type": "display_data"
    },
    {
     "name": "stdout",
     "output_type": "stream",
     "text": [
      "\u001b[32m2020-04-11 16:24:41.191\u001b[0m | \u001b[33m\u001b[1mWARNING \u001b[0m | \u001b[36m__main__\u001b[0m:\u001b[36m_mp_compute_corr\u001b[0m:\u001b[36m13\u001b[0m - \u001b[33m\u001b[1mbeginning multiprocessing..\u001b[0m\n",
      "\u001b[32m2020-04-11 16:24:43.501\u001b[0m | \u001b[33m\u001b[1mWARNING \u001b[0m | \u001b[36m__main__\u001b[0m:\u001b[36m_mp_compute_corr\u001b[0m:\u001b[36m19\u001b[0m - \u001b[33m\u001b[1mcompleted multiprocessing\u001b[0m\n",
      "\u001b[32m2020-04-11 16:24:43.505\u001b[0m | \u001b[1mINFO    \u001b[0m | \u001b[36m__main__\u001b[0m:\u001b[36mfilter_symbols_fftcorr\u001b[0m:\u001b[36m41\u001b[0m - \u001b[1mset threshold: 0.001517\u001b[0m\n",
      "\u001b[32m2020-04-11 16:24:43.809\u001b[0m | \u001b[33m\u001b[1mWARNING \u001b[0m | \u001b[36m__main__\u001b[0m:\u001b[36mfilter_symbols_fftcorr\u001b[0m:\u001b[36m47\u001b[0m - \u001b[33m\u001b[1mremoved 9 symbols  [196 / 205]\u001b[0m\n"
     ]
    },
    {
     "name": "stderr",
     "output_type": "stream",
     "text": [
      "30it [01:13,  3.30s/it]"
     ]
    },
    {
     "name": "stdout",
     "output_type": "stream",
     "text": [
      "\u001b[32m2020-04-11 16:24:44.106\u001b[0m | \u001b[33m\u001b[1mWARNING \u001b[0m | \u001b[36m__main__\u001b[0m:\u001b[36m<module>\u001b[0m:\u001b[36m6\u001b[0m - \u001b[33m\u001b[1mworking file DotPFile(id=89 | name='lora_BW1_SF12_915MHz_20kspsAtt60_v1.p')\u001b[0m\n",
      "\u001b[32m2020-04-11 16:24:44.107\u001b[0m | \u001b[34m\u001b[1mDEBUG   \u001b[0m | \u001b[36mlorapy.datafile.encoding\u001b[0m:\u001b[36mcompute_params\u001b[0m:\u001b[36m15\u001b[0m - \u001b[34m\u001b[1mcomputed samples per symbol: 76801 and packet length: 2323230\u001b[0m\n",
      "\u001b[32m2020-04-11 16:24:45.214\u001b[0m | \u001b[1mINFO    \u001b[0m | \u001b[36mlorapy.datafile._base_file\u001b[0m:\u001b[36mload\u001b[0m:\u001b[36m61\u001b[0m - \u001b[1mloaded 12672165 samples from file\u001b[0m\n"
     ]
    },
    {
     "data": {
      "text/plain": [
       "BaselineSymbolSet(num symbols=165 | BW: 1 | SF: 12 | Att: 60 | samples per symbol: 76801 | packet length: 2323230)"
      ]
     },
     "metadata": {},
     "output_type": "display_data"
    },
    {
     "name": "stdout",
     "output_type": "stream",
     "text": [
      "\u001b[32m2020-04-11 16:24:45.218\u001b[0m | \u001b[34m\u001b[1mDEBUG   \u001b[0m | \u001b[36mlorapy.datafile.encoding\u001b[0m:\u001b[36mcompute_params\u001b[0m:\u001b[36m15\u001b[0m - \u001b[34m\u001b[1mcomputed samples per symbol: 76801 and packet length: 2323230\u001b[0m\n",
      "\u001b[32m2020-04-11 16:24:45.220\u001b[0m | \u001b[1mINFO    \u001b[0m | \u001b[36mlorapy.datafile._base_file\u001b[0m:\u001b[36mload\u001b[0m:\u001b[36m61\u001b[0m - \u001b[1mloaded 76800 samples from file\u001b[0m\n"
     ]
    },
    {
     "data": {
      "text/plain": [
       "BaselineSymbolSet(num symbols=76800 | BW: 1 | SF: 12 | Att: 0 | samples per symbol: 76801 | packet length: 2323230)"
      ]
     },
     "metadata": {},
     "output_type": "display_data"
    },
    {
     "name": "stdout",
     "output_type": "stream",
     "text": [
      "\u001b[32m2020-04-11 16:24:45.222\u001b[0m | \u001b[33m\u001b[1mWARNING \u001b[0m | \u001b[36m__main__\u001b[0m:\u001b[36m_mp_compute_corr\u001b[0m:\u001b[36m13\u001b[0m - \u001b[33m\u001b[1mbeginning multiprocessing..\u001b[0m\n",
      "\u001b[32m2020-04-11 16:24:48.214\u001b[0m | \u001b[33m\u001b[1mWARNING \u001b[0m | \u001b[36m__main__\u001b[0m:\u001b[36m_mp_compute_corr\u001b[0m:\u001b[36m19\u001b[0m - \u001b[33m\u001b[1mcompleted multiprocessing\u001b[0m\n",
      "\u001b[32m2020-04-11 16:24:48.218\u001b[0m | \u001b[1mINFO    \u001b[0m | \u001b[36m__main__\u001b[0m:\u001b[36mfilter_symbols_fftcorr\u001b[0m:\u001b[36m41\u001b[0m - \u001b[1mset threshold: 308.707005\u001b[0m\n",
      "\u001b[32m2020-04-11 16:24:48.323\u001b[0m | \u001b[33m\u001b[1mWARNING \u001b[0m | \u001b[36m__main__\u001b[0m:\u001b[36mfilter_symbols_fftcorr\u001b[0m:\u001b[36m47\u001b[0m - \u001b[33m\u001b[1mremoved 0 symbols  [165 / 165]\u001b[0m\n"
     ]
    },
    {
     "name": "stderr",
     "output_type": "stream",
     "text": [
      "31it [01:18,  3.68s/it]"
     ]
    },
    {
     "name": "stdout",
     "output_type": "stream",
     "text": [
      "\u001b[32m2020-04-11 16:24:48.688\u001b[0m | \u001b[33m\u001b[1mWARNING \u001b[0m | \u001b[36m__main__\u001b[0m:\u001b[36m<module>\u001b[0m:\u001b[36m6\u001b[0m - \u001b[33m\u001b[1mworking file DotPFile(id=95 | name='lora_BW2_SF11_915MHz_20ksps_Att100_v1.p')\u001b[0m\n",
      "\u001b[32m2020-04-11 16:24:48.689\u001b[0m | \u001b[34m\u001b[1mDEBUG   \u001b[0m | \u001b[36mlorapy.datafile.encoding\u001b[0m:\u001b[36mcompute_params\u001b[0m:\u001b[36m15\u001b[0m - \u001b[34m\u001b[1mcomputed samples per symbol: 25604 and packet length: 774521\u001b[0m\n",
      "\u001b[32m2020-04-11 16:24:49.219\u001b[0m | \u001b[1mINFO    \u001b[0m | \u001b[36mlorapy.datafile._base_file\u001b[0m:\u001b[36mload\u001b[0m:\u001b[36m61\u001b[0m - \u001b[1mloaded 12392336 samples from file\u001b[0m\n"
     ]
    },
    {
     "data": {
      "text/plain": [
       "BaselineSymbolSet(num symbols=484 | BW: 2 | SF: 11 | Att: 100 | samples per symbol: 25604 | packet length: 774521)"
      ]
     },
     "metadata": {},
     "output_type": "display_data"
    },
    {
     "name": "stdout",
     "output_type": "stream",
     "text": [
      "\u001b[32m2020-04-11 16:24:49.224\u001b[0m | \u001b[34m\u001b[1mDEBUG   \u001b[0m | \u001b[36mlorapy.datafile.encoding\u001b[0m:\u001b[36mcompute_params\u001b[0m:\u001b[36m15\u001b[0m - \u001b[34m\u001b[1mcomputed samples per symbol: 25604 and packet length: 774521\u001b[0m\n",
      "\u001b[32m2020-04-11 16:24:49.226\u001b[0m | \u001b[1mINFO    \u001b[0m | \u001b[36mlorapy.datafile._base_file\u001b[0m:\u001b[36mload\u001b[0m:\u001b[36m61\u001b[0m - \u001b[1mloaded 25603 samples from file\u001b[0m\n"
     ]
    },
    {
     "data": {
      "text/plain": [
       "BaselineSymbolSet(num symbols=25603 | BW: 2 | SF: 11 | Att: 0 | samples per symbol: 25604 | packet length: 774521)"
      ]
     },
     "metadata": {},
     "output_type": "display_data"
    },
    {
     "name": "stdout",
     "output_type": "stream",
     "text": [
      "\u001b[32m2020-04-11 16:24:49.228\u001b[0m | \u001b[33m\u001b[1mWARNING \u001b[0m | \u001b[36m__main__\u001b[0m:\u001b[36m_mp_compute_corr\u001b[0m:\u001b[36m13\u001b[0m - \u001b[33m\u001b[1mbeginning multiprocessing..\u001b[0m\n",
      "\u001b[32m2020-04-11 16:24:51.241\u001b[0m | \u001b[33m\u001b[1mWARNING \u001b[0m | \u001b[36m__main__\u001b[0m:\u001b[36m_mp_compute_corr\u001b[0m:\u001b[36m19\u001b[0m - \u001b[33m\u001b[1mcompleted multiprocessing\u001b[0m\n",
      "\u001b[32m2020-04-11 16:24:51.245\u001b[0m | \u001b[1mINFO    \u001b[0m | \u001b[36m__main__\u001b[0m:\u001b[36mfilter_symbols_fftcorr\u001b[0m:\u001b[36m41\u001b[0m - \u001b[1mset threshold: 0.006605\u001b[0m\n",
      "\u001b[32m2020-04-11 16:24:51.458\u001b[0m | \u001b[33m\u001b[1mWARNING \u001b[0m | \u001b[36m__main__\u001b[0m:\u001b[36mfilter_symbols_fftcorr\u001b[0m:\u001b[36m47\u001b[0m - \u001b[33m\u001b[1mremoved 0 symbols  [484 / 484]\u001b[0m\n"
     ]
    },
    {
     "name": "stderr",
     "output_type": "stream",
     "text": [
      "32it [01:21,  3.51s/it]"
     ]
    },
    {
     "name": "stdout",
     "output_type": "stream",
     "text": [
      "\u001b[32m2020-04-11 16:24:51.793\u001b[0m | \u001b[33m\u001b[1mWARNING \u001b[0m | \u001b[36m__main__\u001b[0m:\u001b[36m<module>\u001b[0m:\u001b[36m6\u001b[0m - \u001b[33m\u001b[1mworking file DotPFile(id=98 | name='lora_BW1_SF10_915MHz_20ksps_Att80_v1.p')\u001b[0m\n",
      "\u001b[32m2020-04-11 16:24:51.795\u001b[0m | \u001b[34m\u001b[1mDEBUG   \u001b[0m | \u001b[36mlorapy.datafile.encoding\u001b[0m:\u001b[36mcompute_params\u001b[0m:\u001b[36m15\u001b[0m - \u001b[34m\u001b[1mcomputed samples per symbol: 19198 and packet length: 580739\u001b[0m\n",
      "\u001b[32m2020-04-11 16:24:52.037\u001b[0m | \u001b[1mINFO    \u001b[0m | \u001b[36mlorapy.datafile._base_file\u001b[0m:\u001b[36mload\u001b[0m:\u001b[36m61\u001b[0m - \u001b[1mloaded 12056344 samples from file\u001b[0m\n"
     ]
    },
    {
     "data": {
      "text/plain": [
       "BaselineSymbolSet(num symbols=628 | BW: 1 | SF: 10 | Att: 80 | samples per symbol: 19198 | packet length: 580739)"
      ]
     },
     "metadata": {},
     "output_type": "display_data"
    },
    {
     "name": "stdout",
     "output_type": "stream",
     "text": [
      "\u001b[32m2020-04-11 16:24:52.042\u001b[0m | \u001b[34m\u001b[1mDEBUG   \u001b[0m | \u001b[36mlorapy.datafile.encoding\u001b[0m:\u001b[36mcompute_params\u001b[0m:\u001b[36m15\u001b[0m - \u001b[34m\u001b[1mcomputed samples per symbol: 19198 and packet length: 580739\u001b[0m\n",
      "\u001b[32m2020-04-11 16:24:52.044\u001b[0m | \u001b[1mINFO    \u001b[0m | \u001b[36mlorapy.datafile._base_file\u001b[0m:\u001b[36mload\u001b[0m:\u001b[36m61\u001b[0m - \u001b[1mloaded 19197 samples from file\u001b[0m\n"
     ]
    },
    {
     "data": {
      "text/plain": [
       "BaselineSymbolSet(num symbols=19197 | BW: 1 | SF: 10 | Att: 0 | samples per symbol: 19198 | packet length: 580739)"
      ]
     },
     "metadata": {},
     "output_type": "display_data"
    },
    {
     "name": "stdout",
     "output_type": "stream",
     "text": [
      "\u001b[32m2020-04-11 16:24:52.046\u001b[0m | \u001b[33m\u001b[1mWARNING \u001b[0m | \u001b[36m__main__\u001b[0m:\u001b[36m_mp_compute_corr\u001b[0m:\u001b[36m13\u001b[0m - \u001b[33m\u001b[1mbeginning multiprocessing..\u001b[0m\n",
      "\u001b[32m2020-04-11 16:24:53.843\u001b[0m | \u001b[33m\u001b[1mWARNING \u001b[0m | \u001b[36m__main__\u001b[0m:\u001b[36m_mp_compute_corr\u001b[0m:\u001b[36m19\u001b[0m - \u001b[33m\u001b[1mcompleted multiprocessing\u001b[0m\n",
      "\u001b[32m2020-04-11 16:24:53.847\u001b[0m | \u001b[1mINFO    \u001b[0m | \u001b[36m__main__\u001b[0m:\u001b[36mfilter_symbols_fftcorr\u001b[0m:\u001b[36m41\u001b[0m - \u001b[1mset threshold: 0.785725\u001b[0m\n",
      "\u001b[32m2020-04-11 16:24:53.975\u001b[0m | \u001b[33m\u001b[1mWARNING \u001b[0m | \u001b[36m__main__\u001b[0m:\u001b[36mfilter_symbols_fftcorr\u001b[0m:\u001b[36m47\u001b[0m - \u001b[33m\u001b[1mremoved 0 symbols  [628 / 628]\u001b[0m\n"
     ]
    },
    {
     "name": "stderr",
     "output_type": "stream",
     "text": [
      "33it [01:23,  3.16s/it]"
     ]
    },
    {
     "name": "stdout",
     "output_type": "stream",
     "text": [
      "\u001b[32m2020-04-11 16:24:54.151\u001b[0m | \u001b[33m\u001b[1mWARNING \u001b[0m | \u001b[36m__main__\u001b[0m:\u001b[36m<module>\u001b[0m:\u001b[36m6\u001b[0m - \u001b[33m\u001b[1mworking file DotPFile(id=106 | name='lora_BW1_SF12_915MHz_20kspsAtt140_v1.p')\u001b[0m\n",
      "\u001b[32m2020-04-11 16:24:54.153\u001b[0m | \u001b[34m\u001b[1mDEBUG   \u001b[0m | \u001b[36mlorapy.datafile.encoding\u001b[0m:\u001b[36mcompute_params\u001b[0m:\u001b[36m15\u001b[0m - \u001b[34m\u001b[1mcomputed samples per symbol: 76801 and packet length: 2323230\u001b[0m\n",
      "\u001b[32m2020-04-11 16:24:54.852\u001b[0m | \u001b[1mINFO    \u001b[0m | \u001b[36mlorapy.datafile._base_file\u001b[0m:\u001b[36mload\u001b[0m:\u001b[36m61\u001b[0m - \u001b[1mloaded 11136145 samples from file\u001b[0m\n"
     ]
    },
    {
     "data": {
      "text/plain": [
       "BaselineSymbolSet(num symbols=145 | BW: 1 | SF: 12 | Att: 140 | samples per symbol: 76801 | packet length: 2323230)"
      ]
     },
     "metadata": {},
     "output_type": "display_data"
    },
    {
     "name": "stdout",
     "output_type": "stream",
     "text": [
      "\u001b[32m2020-04-11 16:24:54.857\u001b[0m | \u001b[34m\u001b[1mDEBUG   \u001b[0m | \u001b[36mlorapy.datafile.encoding\u001b[0m:\u001b[36mcompute_params\u001b[0m:\u001b[36m15\u001b[0m - \u001b[34m\u001b[1mcomputed samples per symbol: 76801 and packet length: 2323230\u001b[0m\n",
      "\u001b[32m2020-04-11 16:24:54.859\u001b[0m | \u001b[1mINFO    \u001b[0m | \u001b[36mlorapy.datafile._base_file\u001b[0m:\u001b[36mload\u001b[0m:\u001b[36m61\u001b[0m - \u001b[1mloaded 76800 samples from file\u001b[0m\n"
     ]
    },
    {
     "data": {
      "text/plain": [
       "BaselineSymbolSet(num symbols=76800 | BW: 1 | SF: 12 | Att: 0 | samples per symbol: 76801 | packet length: 2323230)"
      ]
     },
     "metadata": {},
     "output_type": "display_data"
    },
    {
     "name": "stdout",
     "output_type": "stream",
     "text": [
      "\u001b[32m2020-04-11 16:24:54.862\u001b[0m | \u001b[33m\u001b[1mWARNING \u001b[0m | \u001b[36m__main__\u001b[0m:\u001b[36m_mp_compute_corr\u001b[0m:\u001b[36m13\u001b[0m - \u001b[33m\u001b[1mbeginning multiprocessing..\u001b[0m\n",
      "\u001b[32m2020-04-11 16:24:57.851\u001b[0m | \u001b[33m\u001b[1mWARNING \u001b[0m | \u001b[36m__main__\u001b[0m:\u001b[36m_mp_compute_corr\u001b[0m:\u001b[36m19\u001b[0m - \u001b[33m\u001b[1mcompleted multiprocessing\u001b[0m\n",
      "\u001b[32m2020-04-11 16:24:57.855\u001b[0m | \u001b[1mINFO    \u001b[0m | \u001b[36m__main__\u001b[0m:\u001b[36mfilter_symbols_fftcorr\u001b[0m:\u001b[36m41\u001b[0m - \u001b[1mset threshold: 0.008381\u001b[0m\n",
      "\u001b[32m2020-04-11 16:24:57.928\u001b[0m | \u001b[33m\u001b[1mWARNING \u001b[0m | \u001b[36m__main__\u001b[0m:\u001b[36mfilter_symbols_fftcorr\u001b[0m:\u001b[36m47\u001b[0m - \u001b[33m\u001b[1mremoved 0 symbols  [145 / 145]\u001b[0m\n"
     ]
    },
    {
     "name": "stderr",
     "output_type": "stream",
     "text": [
      "34it [01:27,  3.43s/it]"
     ]
    },
    {
     "name": "stdout",
     "output_type": "stream",
     "text": [
      "\u001b[32m2020-04-11 16:24:58.201\u001b[0m | \u001b[33m\u001b[1mWARNING \u001b[0m | \u001b[36m__main__\u001b[0m:\u001b[36m<module>\u001b[0m:\u001b[36m6\u001b[0m - \u001b[33m\u001b[1mworking file DotPFile(id=107 | name='lora_BW2_SF10_915MHz_20ksps_Att0_v1.p')\u001b[0m\n",
      "\u001b[32m2020-04-11 16:24:58.202\u001b[0m | \u001b[34m\u001b[1mDEBUG   \u001b[0m | \u001b[36mlorapy.datafile.encoding\u001b[0m:\u001b[36mcompute_params\u001b[0m:\u001b[36m15\u001b[0m - \u001b[34m\u001b[1mcomputed samples per symbol: 12802 and packet length: 387260\u001b[0m\n",
      "\u001b[32m2020-04-11 16:24:58.426\u001b[0m | \u001b[1mINFO    \u001b[0m | \u001b[36mlorapy.datafile._base_file\u001b[0m:\u001b[36mload\u001b[0m:\u001b[36m61\u001b[0m - \u001b[1mloaded 11624216 samples from file\u001b[0m\n"
     ]
    },
    {
     "data": {
      "text/plain": [
       "BaselineSymbolSet(num symbols=908 | BW: 2 | SF: 10 | Att: 0 | samples per symbol: 12802 | packet length: 387260)"
      ]
     },
     "metadata": {},
     "output_type": "display_data"
    },
    {
     "name": "stdout",
     "output_type": "stream",
     "text": [
      "\u001b[32m2020-04-11 16:24:58.430\u001b[0m | \u001b[34m\u001b[1mDEBUG   \u001b[0m | \u001b[36mlorapy.datafile.encoding\u001b[0m:\u001b[36mcompute_params\u001b[0m:\u001b[36m15\u001b[0m - \u001b[34m\u001b[1mcomputed samples per symbol: 12802 and packet length: 387260\u001b[0m\n",
      "\u001b[32m2020-04-11 16:24:58.432\u001b[0m | \u001b[1mINFO    \u001b[0m | \u001b[36mlorapy.datafile._base_file\u001b[0m:\u001b[36mload\u001b[0m:\u001b[36m61\u001b[0m - \u001b[1mloaded 12801 samples from file\u001b[0m\n"
     ]
    },
    {
     "data": {
      "text/plain": [
       "BaselineSymbolSet(num symbols=12801 | BW: 2 | SF: 10 | Att: 0 | samples per symbol: 12802 | packet length: 387260)"
      ]
     },
     "metadata": {},
     "output_type": "display_data"
    },
    {
     "name": "stdout",
     "output_type": "stream",
     "text": [
      "\u001b[32m2020-04-11 16:24:58.434\u001b[0m | \u001b[33m\u001b[1mWARNING \u001b[0m | \u001b[36m__main__\u001b[0m:\u001b[36m_mp_compute_corr\u001b[0m:\u001b[36m13\u001b[0m - \u001b[33m\u001b[1mbeginning multiprocessing..\u001b[0m\n",
      "\u001b[32m2020-04-11 16:25:00.137\u001b[0m | \u001b[33m\u001b[1mWARNING \u001b[0m | \u001b[36m__main__\u001b[0m:\u001b[36m_mp_compute_corr\u001b[0m:\u001b[36m19\u001b[0m - \u001b[33m\u001b[1mcompleted multiprocessing\u001b[0m\n",
      "\u001b[32m2020-04-11 16:25:00.141\u001b[0m | \u001b[1mINFO    \u001b[0m | \u001b[36m__main__\u001b[0m:\u001b[36mfilter_symbols_fftcorr\u001b[0m:\u001b[36m41\u001b[0m - \u001b[1mset threshold: 199436.262500\u001b[0m\n",
      "\u001b[32m2020-04-11 16:25:00.184\u001b[0m | \u001b[33m\u001b[1mWARNING \u001b[0m | \u001b[36m__main__\u001b[0m:\u001b[36mfilter_symbols_fftcorr\u001b[0m:\u001b[36m47\u001b[0m - \u001b[33m\u001b[1mremoved 0 symbols  [908 / 908]\u001b[0m\n"
     ]
    },
    {
     "name": "stderr",
     "output_type": "stream",
     "text": [
      "35it [01:29,  3.04s/it]"
     ]
    },
    {
     "name": "stdout",
     "output_type": "stream",
     "text": [
      "\u001b[32m2020-04-11 16:25:00.344\u001b[0m | \u001b[33m\u001b[1mWARNING \u001b[0m | \u001b[36m__main__\u001b[0m:\u001b[36m<module>\u001b[0m:\u001b[36m6\u001b[0m - \u001b[33m\u001b[1mworking file DotPFile(id=108 | name='lora_BW2_SF12_915MHz_20ksps_Att40_v1.p')\u001b[0m\n",
      "\u001b[32m2020-04-11 16:25:00.345\u001b[0m | \u001b[34m\u001b[1mDEBUG   \u001b[0m | \u001b[36mlorapy.datafile.encoding\u001b[0m:\u001b[36mcompute_params\u001b[0m:\u001b[36m15\u001b[0m - \u001b[34m\u001b[1mcomputed samples per symbol: 51197 and packet length: 1548709\u001b[0m\n",
      "\u001b[32m2020-04-11 16:25:01.218\u001b[0m | \u001b[1mINFO    \u001b[0m | \u001b[36mlorapy.datafile._base_file\u001b[0m:\u001b[36mload\u001b[0m:\u001b[36m61\u001b[0m - \u001b[1mloaded 12952841 samples from file\u001b[0m\n"
     ]
    },
    {
     "data": {
      "text/plain": [
       "BaselineSymbolSet(num symbols=253 | BW: 2 | SF: 12 | Att: 40 | samples per symbol: 51197 | packet length: 1548709)"
      ]
     },
     "metadata": {},
     "output_type": "display_data"
    },
    {
     "name": "stdout",
     "output_type": "stream",
     "text": [
      "\u001b[32m2020-04-11 16:25:01.223\u001b[0m | \u001b[34m\u001b[1mDEBUG   \u001b[0m | \u001b[36mlorapy.datafile.encoding\u001b[0m:\u001b[36mcompute_params\u001b[0m:\u001b[36m15\u001b[0m - \u001b[34m\u001b[1mcomputed samples per symbol: 51197 and packet length: 1548709\u001b[0m\n",
      "\u001b[32m2020-04-11 16:25:01.225\u001b[0m | \u001b[1mINFO    \u001b[0m | \u001b[36mlorapy.datafile._base_file\u001b[0m:\u001b[36mload\u001b[0m:\u001b[36m61\u001b[0m - \u001b[1mloaded 51197 samples from file\u001b[0m\n"
     ]
    },
    {
     "data": {
      "text/plain": [
       "BaselineSymbolSet(num symbols=51197 | BW: 2 | SF: 12 | Att: 0 | samples per symbol: 51197 | packet length: 1548709)"
      ]
     },
     "metadata": {},
     "output_type": "display_data"
    },
    {
     "name": "stdout",
     "output_type": "stream",
     "text": [
      "\u001b[32m2020-04-11 16:25:01.227\u001b[0m | \u001b[33m\u001b[1mWARNING \u001b[0m | \u001b[36m__main__\u001b[0m:\u001b[36m_mp_compute_corr\u001b[0m:\u001b[36m13\u001b[0m - \u001b[33m\u001b[1mbeginning multiprocessing..\u001b[0m\n",
      "\u001b[32m2020-04-11 16:25:04.185\u001b[0m | \u001b[33m\u001b[1mWARNING \u001b[0m | \u001b[36m__main__\u001b[0m:\u001b[36m_mp_compute_corr\u001b[0m:\u001b[36m19\u001b[0m - \u001b[33m\u001b[1mcompleted multiprocessing\u001b[0m\n",
      "\u001b[32m2020-04-11 16:25:04.188\u001b[0m | \u001b[1mINFO    \u001b[0m | \u001b[36m__main__\u001b[0m:\u001b[36mfilter_symbols_fftcorr\u001b[0m:\u001b[36m41\u001b[0m - \u001b[1mset threshold: 14267.999675\u001b[0m\n",
      "\u001b[32m2020-04-11 16:25:04.287\u001b[0m | \u001b[33m\u001b[1mWARNING \u001b[0m | \u001b[36m__main__\u001b[0m:\u001b[36mfilter_symbols_fftcorr\u001b[0m:\u001b[36m47\u001b[0m - \u001b[33m\u001b[1mremoved 0 symbols  [253 / 253]\u001b[0m\n"
     ]
    },
    {
     "name": "stderr",
     "output_type": "stream",
     "text": [
      "36it [01:33,  3.41s/it]"
     ]
    },
    {
     "name": "stdout",
     "output_type": "stream",
     "text": [
      "\u001b[32m2020-04-11 16:25:04.611\u001b[0m | \u001b[33m\u001b[1mWARNING \u001b[0m | \u001b[36m__main__\u001b[0m:\u001b[36m<module>\u001b[0m:\u001b[36m6\u001b[0m - \u001b[33m\u001b[1mworking file DotPFile(id=116 | name='lora_BW1_SF11_915MHz_20kspsAtt120_v1.p')\u001b[0m\n",
      "\u001b[32m2020-04-11 16:25:04.612\u001b[0m | \u001b[34m\u001b[1mDEBUG   \u001b[0m | \u001b[36mlorapy.datafile.encoding\u001b[0m:\u001b[36mcompute_params\u001b[0m:\u001b[36m15\u001b[0m - \u001b[34m\u001b[1mcomputed samples per symbol: 38396 and packet length: 1161479\u001b[0m\n",
      "\u001b[32m2020-04-11 16:25:04.776\u001b[0m | \u001b[1mINFO    \u001b[0m | \u001b[36mlorapy.datafile._base_file\u001b[0m:\u001b[36mload\u001b[0m:\u001b[36m61\u001b[0m - \u001b[1mloaded 8754288 samples from file\u001b[0m\n"
     ]
    },
    {
     "data": {
      "text/plain": [
       "BaselineSymbolSet(num symbols=228 | BW: 1 | SF: 11 | Att: 120 | samples per symbol: 38396 | packet length: 1161479)"
      ]
     },
     "metadata": {},
     "output_type": "display_data"
    },
    {
     "name": "stdout",
     "output_type": "stream",
     "text": [
      "\u001b[32m2020-04-11 16:25:04.780\u001b[0m | \u001b[34m\u001b[1mDEBUG   \u001b[0m | \u001b[36mlorapy.datafile.encoding\u001b[0m:\u001b[36mcompute_params\u001b[0m:\u001b[36m15\u001b[0m - \u001b[34m\u001b[1mcomputed samples per symbol: 38396 and packet length: 1161479\u001b[0m\n",
      "\u001b[32m2020-04-11 16:25:04.781\u001b[0m | \u001b[1mINFO    \u001b[0m | \u001b[36mlorapy.datafile._base_file\u001b[0m:\u001b[36mload\u001b[0m:\u001b[36m61\u001b[0m - \u001b[1mloaded 38395 samples from file\u001b[0m\n"
     ]
    },
    {
     "data": {
      "text/plain": [
       "BaselineSymbolSet(num symbols=38395 | BW: 1 | SF: 11 | Att: 0 | samples per symbol: 38396 | packet length: 1161479)"
      ]
     },
     "metadata": {},
     "output_type": "display_data"
    },
    {
     "name": "stdout",
     "output_type": "stream",
     "text": [
      "\u001b[32m2020-04-11 16:25:04.783\u001b[0m | \u001b[33m\u001b[1mWARNING \u001b[0m | \u001b[36m__main__\u001b[0m:\u001b[36m_mp_compute_corr\u001b[0m:\u001b[36m13\u001b[0m - \u001b[33m\u001b[1mbeginning multiprocessing..\u001b[0m\n",
      "\u001b[32m2020-04-11 16:25:06.591\u001b[0m | \u001b[33m\u001b[1mWARNING \u001b[0m | \u001b[36m__main__\u001b[0m:\u001b[36m_mp_compute_corr\u001b[0m:\u001b[36m19\u001b[0m - \u001b[33m\u001b[1mcompleted multiprocessing\u001b[0m\n",
      "\u001b[32m2020-04-11 16:25:06.595\u001b[0m | \u001b[1mINFO    \u001b[0m | \u001b[36m__main__\u001b[0m:\u001b[36mfilter_symbols_fftcorr\u001b[0m:\u001b[36m41\u001b[0m - \u001b[1mset threshold: 0.003108\u001b[0m\n",
      "\u001b[32m2020-04-11 16:25:06.635\u001b[0m | \u001b[33m\u001b[1mWARNING \u001b[0m | \u001b[36m__main__\u001b[0m:\u001b[36mfilter_symbols_fftcorr\u001b[0m:\u001b[36m47\u001b[0m - \u001b[33m\u001b[1mremoved 0 symbols  [228 / 228]\u001b[0m\n"
     ]
    },
    {
     "name": "stderr",
     "output_type": "stream",
     "text": [
      "37it [01:36,  3.04s/it]"
     ]
    },
    {
     "name": "stdout",
     "output_type": "stream",
     "text": [
      "\u001b[32m2020-04-11 16:25:06.773\u001b[0m | \u001b[33m\u001b[1mWARNING \u001b[0m | \u001b[36m__main__\u001b[0m:\u001b[36m<module>\u001b[0m:\u001b[36m6\u001b[0m - \u001b[33m\u001b[1mworking file DotPFile(id=119 | name='lora_BW1_SF12_915MHz_20kspsAtt120_v1.p')\u001b[0m\n",
      "\u001b[32m2020-04-11 16:25:06.775\u001b[0m | \u001b[34m\u001b[1mDEBUG   \u001b[0m | \u001b[36mlorapy.datafile.encoding\u001b[0m:\u001b[36mcompute_params\u001b[0m:\u001b[36m15\u001b[0m - \u001b[34m\u001b[1mcomputed samples per symbol: 76801 and packet length: 2323230\u001b[0m\n",
      "\u001b[32m2020-04-11 16:25:07.214\u001b[0m | \u001b[1mINFO    \u001b[0m | \u001b[36mlorapy.datafile._base_file\u001b[0m:\u001b[36mload\u001b[0m:\u001b[36m61\u001b[0m - \u001b[1mloaded 9907329 samples from file\u001b[0m\n"
     ]
    },
    {
     "data": {
      "text/plain": [
       "BaselineSymbolSet(num symbols=129 | BW: 1 | SF: 12 | Att: 120 | samples per symbol: 76801 | packet length: 2323230)"
      ]
     },
     "metadata": {},
     "output_type": "display_data"
    },
    {
     "name": "stdout",
     "output_type": "stream",
     "text": [
      "\u001b[32m2020-04-11 16:25:07.220\u001b[0m | \u001b[34m\u001b[1mDEBUG   \u001b[0m | \u001b[36mlorapy.datafile.encoding\u001b[0m:\u001b[36mcompute_params\u001b[0m:\u001b[36m15\u001b[0m - \u001b[34m\u001b[1mcomputed samples per symbol: 76801 and packet length: 2323230\u001b[0m\n",
      "\u001b[32m2020-04-11 16:25:07.222\u001b[0m | \u001b[1mINFO    \u001b[0m | \u001b[36mlorapy.datafile._base_file\u001b[0m:\u001b[36mload\u001b[0m:\u001b[36m61\u001b[0m - \u001b[1mloaded 76800 samples from file\u001b[0m\n"
     ]
    },
    {
     "data": {
      "text/plain": [
       "BaselineSymbolSet(num symbols=76800 | BW: 1 | SF: 12 | Att: 0 | samples per symbol: 76801 | packet length: 2323230)"
      ]
     },
     "metadata": {},
     "output_type": "display_data"
    },
    {
     "name": "stdout",
     "output_type": "stream",
     "text": [
      "\u001b[32m2020-04-11 16:25:07.225\u001b[0m | \u001b[33m\u001b[1mWARNING \u001b[0m | \u001b[36m__main__\u001b[0m:\u001b[36m_mp_compute_corr\u001b[0m:\u001b[36m13\u001b[0m - \u001b[33m\u001b[1mbeginning multiprocessing..\u001b[0m\n",
      "\u001b[32m2020-04-11 16:25:10.347\u001b[0m | \u001b[33m\u001b[1mWARNING \u001b[0m | \u001b[36m__main__\u001b[0m:\u001b[36m_mp_compute_corr\u001b[0m:\u001b[36m19\u001b[0m - \u001b[33m\u001b[1mcompleted multiprocessing\u001b[0m\n",
      "\u001b[32m2020-04-11 16:25:10.350\u001b[0m | \u001b[1mINFO    \u001b[0m | \u001b[36m__main__\u001b[0m:\u001b[36mfilter_symbols_fftcorr\u001b[0m:\u001b[36m41\u001b[0m - \u001b[1mset threshold: 0.006976\u001b[0m\n",
      "\u001b[32m2020-04-11 16:25:10.436\u001b[0m | \u001b[33m\u001b[1mWARNING \u001b[0m | \u001b[36m__main__\u001b[0m:\u001b[36mfilter_symbols_fftcorr\u001b[0m:\u001b[36m47\u001b[0m - \u001b[33m\u001b[1mremoved 0 symbols  [129 / 129]\u001b[0m\n"
     ]
    },
    {
     "name": "stderr",
     "output_type": "stream",
     "text": [
      "38it [01:40,  3.31s/it]"
     ]
    },
    {
     "name": "stdout",
     "output_type": "stream",
     "text": [
      "\u001b[32m2020-04-11 16:25:10.730\u001b[0m | \u001b[33m\u001b[1mWARNING \u001b[0m | \u001b[36m__main__\u001b[0m:\u001b[36m<module>\u001b[0m:\u001b[36m6\u001b[0m - \u001b[33m\u001b[1mworking file DotPFile(id=126 | name='lora_BW2_SF12_915MHz_20ksps_Att100_v1.p')\u001b[0m\n",
      "\u001b[32m2020-04-11 16:25:10.731\u001b[0m | \u001b[34m\u001b[1mDEBUG   \u001b[0m | \u001b[36mlorapy.datafile.encoding\u001b[0m:\u001b[36mcompute_params\u001b[0m:\u001b[36m15\u001b[0m - \u001b[34m\u001b[1mcomputed samples per symbol: 51197 and packet length: 1548709\u001b[0m\n",
      "\u001b[32m2020-04-11 16:25:11.200\u001b[0m | \u001b[1mINFO    \u001b[0m | \u001b[36mlorapy.datafile._base_file\u001b[0m:\u001b[36mload\u001b[0m:\u001b[36m61\u001b[0m - \u001b[1mloaded 12338477 samples from file\u001b[0m\n"
     ]
    },
    {
     "data": {
      "text/plain": [
       "BaselineSymbolSet(num symbols=241 | BW: 2 | SF: 12 | Att: 100 | samples per symbol: 51197 | packet length: 1548709)"
      ]
     },
     "metadata": {},
     "output_type": "display_data"
    },
    {
     "name": "stdout",
     "output_type": "stream",
     "text": [
      "\u001b[32m2020-04-11 16:25:11.204\u001b[0m | \u001b[34m\u001b[1mDEBUG   \u001b[0m | \u001b[36mlorapy.datafile.encoding\u001b[0m:\u001b[36mcompute_params\u001b[0m:\u001b[36m15\u001b[0m - \u001b[34m\u001b[1mcomputed samples per symbol: 51197 and packet length: 1548709\u001b[0m\n",
      "\u001b[32m2020-04-11 16:25:11.205\u001b[0m | \u001b[1mINFO    \u001b[0m | \u001b[36mlorapy.datafile._base_file\u001b[0m:\u001b[36mload\u001b[0m:\u001b[36m61\u001b[0m - \u001b[1mloaded 51197 samples from file\u001b[0m\n"
     ]
    },
    {
     "data": {
      "text/plain": [
       "BaselineSymbolSet(num symbols=51197 | BW: 2 | SF: 12 | Att: 0 | samples per symbol: 51197 | packet length: 1548709)"
      ]
     },
     "metadata": {},
     "output_type": "display_data"
    },
    {
     "name": "stdout",
     "output_type": "stream",
     "text": [
      "\u001b[32m2020-04-11 16:25:11.208\u001b[0m | \u001b[33m\u001b[1mWARNING \u001b[0m | \u001b[36m__main__\u001b[0m:\u001b[36m_mp_compute_corr\u001b[0m:\u001b[36m13\u001b[0m - \u001b[33m\u001b[1mbeginning multiprocessing..\u001b[0m\n",
      "\u001b[32m2020-04-11 16:25:13.797\u001b[0m | \u001b[33m\u001b[1mWARNING \u001b[0m | \u001b[36m__main__\u001b[0m:\u001b[36m_mp_compute_corr\u001b[0m:\u001b[36m19\u001b[0m - \u001b[33m\u001b[1mcompleted multiprocessing\u001b[0m\n",
      "\u001b[32m2020-04-11 16:25:13.801\u001b[0m | \u001b[1mINFO    \u001b[0m | \u001b[36m__main__\u001b[0m:\u001b[36mfilter_symbols_fftcorr\u001b[0m:\u001b[36m41\u001b[0m - \u001b[1mset threshold: 0.012997\u001b[0m\n",
      "\u001b[32m2020-04-11 16:25:13.911\u001b[0m | \u001b[33m\u001b[1mWARNING \u001b[0m | \u001b[36m__main__\u001b[0m:\u001b[36mfilter_symbols_fftcorr\u001b[0m:\u001b[36m47\u001b[0m - \u001b[33m\u001b[1mremoved 0 symbols  [241 / 241]\u001b[0m\n"
     ]
    },
    {
     "name": "stderr",
     "output_type": "stream",
     "text": [
      "39it [01:43,  3.38s/it]"
     ]
    },
    {
     "name": "stdout",
     "output_type": "stream",
     "text": [
      "\u001b[32m2020-04-11 16:25:14.276\u001b[0m | \u001b[33m\u001b[1mWARNING \u001b[0m | \u001b[36m__main__\u001b[0m:\u001b[36m<module>\u001b[0m:\u001b[36m6\u001b[0m - \u001b[33m\u001b[1mworking file DotPFile(id=132 | name='lora_BW2_SF11_915MHz_20ksps_Att80_v1.p')\u001b[0m\n",
      "\u001b[32m2020-04-11 16:25:14.278\u001b[0m | \u001b[34m\u001b[1mDEBUG   \u001b[0m | \u001b[36mlorapy.datafile.encoding\u001b[0m:\u001b[36mcompute_params\u001b[0m:\u001b[36m15\u001b[0m - \u001b[34m\u001b[1mcomputed samples per symbol: 25604 and packet length: 774521\u001b[0m\n",
      "\u001b[32m2020-04-11 16:25:14.568\u001b[0m | \u001b[1mINFO    \u001b[0m | \u001b[36mlorapy.datafile._base_file\u001b[0m:\u001b[36mload\u001b[0m:\u001b[36m61\u001b[0m - \u001b[1mloaded 12904416 samples from file\u001b[0m\n"
     ]
    },
    {
     "data": {
      "text/plain": [
       "BaselineSymbolSet(num symbols=504 | BW: 2 | SF: 11 | Att: 80 | samples per symbol: 25604 | packet length: 774521)"
      ]
     },
     "metadata": {},
     "output_type": "display_data"
    },
    {
     "name": "stdout",
     "output_type": "stream",
     "text": [
      "\u001b[32m2020-04-11 16:25:14.573\u001b[0m | \u001b[34m\u001b[1mDEBUG   \u001b[0m | \u001b[36mlorapy.datafile.encoding\u001b[0m:\u001b[36mcompute_params\u001b[0m:\u001b[36m15\u001b[0m - \u001b[34m\u001b[1mcomputed samples per symbol: 25604 and packet length: 774521\u001b[0m\n",
      "\u001b[32m2020-04-11 16:25:14.575\u001b[0m | \u001b[1mINFO    \u001b[0m | \u001b[36mlorapy.datafile._base_file\u001b[0m:\u001b[36mload\u001b[0m:\u001b[36m61\u001b[0m - \u001b[1mloaded 25603 samples from file\u001b[0m\n"
     ]
    },
    {
     "data": {
      "text/plain": [
       "BaselineSymbolSet(num symbols=25603 | BW: 2 | SF: 11 | Att: 0 | samples per symbol: 25604 | packet length: 774521)"
      ]
     },
     "metadata": {},
     "output_type": "display_data"
    },
    {
     "name": "stdout",
     "output_type": "stream",
     "text": [
      "\u001b[32m2020-04-11 16:25:14.577\u001b[0m | \u001b[33m\u001b[1mWARNING \u001b[0m | \u001b[36m__main__\u001b[0m:\u001b[36m_mp_compute_corr\u001b[0m:\u001b[36m13\u001b[0m - \u001b[33m\u001b[1mbeginning multiprocessing..\u001b[0m\n",
      "\u001b[32m2020-04-11 16:25:16.587\u001b[0m | \u001b[33m\u001b[1mWARNING \u001b[0m | \u001b[36m__main__\u001b[0m:\u001b[36m_mp_compute_corr\u001b[0m:\u001b[36m19\u001b[0m - \u001b[33m\u001b[1mcompleted multiprocessing\u001b[0m\n",
      "\u001b[32m2020-04-11 16:25:16.591\u001b[0m | \u001b[1mINFO    \u001b[0m | \u001b[36m__main__\u001b[0m:\u001b[36mfilter_symbols_fftcorr\u001b[0m:\u001b[36m41\u001b[0m - \u001b[1mset threshold: 0.695247\u001b[0m\n",
      "\u001b[32m2020-04-11 16:25:16.705\u001b[0m | \u001b[33m\u001b[1mWARNING \u001b[0m | \u001b[36m__main__\u001b[0m:\u001b[36mfilter_symbols_fftcorr\u001b[0m:\u001b[36m47\u001b[0m - \u001b[33m\u001b[1mremoved 0 symbols  [504 / 504]\u001b[0m\n"
     ]
    },
    {
     "name": "stderr",
     "output_type": "stream",
     "text": [
      "40it [01:46,  3.15s/it]"
     ]
    },
    {
     "name": "stdout",
     "output_type": "stream",
     "text": [
      "\u001b[32m2020-04-11 16:25:16.881\u001b[0m | \u001b[33m\u001b[1mWARNING \u001b[0m | \u001b[36m__main__\u001b[0m:\u001b[36m<module>\u001b[0m:\u001b[36m6\u001b[0m - \u001b[33m\u001b[1mworking file DotPFile(id=134 | name='lora_BW1_SF10_915MHz_20ksps_Att20_v1.p')\u001b[0m\n",
      "\u001b[32m2020-04-11 16:25:16.882\u001b[0m | \u001b[34m\u001b[1mDEBUG   \u001b[0m | \u001b[36mlorapy.datafile.encoding\u001b[0m:\u001b[36mcompute_params\u001b[0m:\u001b[36m15\u001b[0m - \u001b[34m\u001b[1mcomputed samples per symbol: 19198 and packet length: 580739\u001b[0m\n",
      "\u001b[32m2020-04-11 16:25:17.146\u001b[0m | \u001b[1mINFO    \u001b[0m | \u001b[36mlorapy.datafile._base_file\u001b[0m:\u001b[36mload\u001b[0m:\u001b[36m61\u001b[0m - \u001b[1mloaded 12497898 samples from file\u001b[0m\n"
     ]
    },
    {
     "data": {
      "text/plain": [
       "BaselineSymbolSet(num symbols=651 | BW: 1 | SF: 10 | Att: 20 | samples per symbol: 19198 | packet length: 580739)"
      ]
     },
     "metadata": {},
     "output_type": "display_data"
    },
    {
     "name": "stdout",
     "output_type": "stream",
     "text": [
      "\u001b[32m2020-04-11 16:25:17.150\u001b[0m | \u001b[34m\u001b[1mDEBUG   \u001b[0m | \u001b[36mlorapy.datafile.encoding\u001b[0m:\u001b[36mcompute_params\u001b[0m:\u001b[36m15\u001b[0m - \u001b[34m\u001b[1mcomputed samples per symbol: 19198 and packet length: 580739\u001b[0m\n",
      "\u001b[32m2020-04-11 16:25:17.151\u001b[0m | \u001b[1mINFO    \u001b[0m | \u001b[36mlorapy.datafile._base_file\u001b[0m:\u001b[36mload\u001b[0m:\u001b[36m61\u001b[0m - \u001b[1mloaded 19197 samples from file\u001b[0m\n"
     ]
    },
    {
     "data": {
      "text/plain": [
       "BaselineSymbolSet(num symbols=19197 | BW: 1 | SF: 10 | Att: 0 | samples per symbol: 19198 | packet length: 580739)"
      ]
     },
     "metadata": {},
     "output_type": "display_data"
    },
    {
     "name": "stdout",
     "output_type": "stream",
     "text": [
      "\u001b[32m2020-04-11 16:25:17.153\u001b[0m | \u001b[33m\u001b[1mWARNING \u001b[0m | \u001b[36m__main__\u001b[0m:\u001b[36m_mp_compute_corr\u001b[0m:\u001b[36m13\u001b[0m - \u001b[33m\u001b[1mbeginning multiprocessing..\u001b[0m\n",
      "\u001b[32m2020-04-11 16:25:19.085\u001b[0m | \u001b[33m\u001b[1mWARNING \u001b[0m | \u001b[36m__main__\u001b[0m:\u001b[36m_mp_compute_corr\u001b[0m:\u001b[36m19\u001b[0m - \u001b[33m\u001b[1mcompleted multiprocessing\u001b[0m\n",
      "\u001b[32m2020-04-11 16:25:19.088\u001b[0m | \u001b[1mINFO    \u001b[0m | \u001b[36m__main__\u001b[0m:\u001b[36mfilter_symbols_fftcorr\u001b[0m:\u001b[36m41\u001b[0m - \u001b[1mset threshold: 363076.100000\u001b[0m\n",
      "\u001b[32m2020-04-11 16:25:19.232\u001b[0m | \u001b[33m\u001b[1mWARNING \u001b[0m | \u001b[36m__main__\u001b[0m:\u001b[36mfilter_symbols_fftcorr\u001b[0m:\u001b[36m47\u001b[0m - \u001b[33m\u001b[1mremoved 0 symbols  [651 / 651]\u001b[0m\n"
     ]
    },
    {
     "name": "stderr",
     "output_type": "stream",
     "text": [
      "41it [01:48,  2.96s/it]"
     ]
    },
    {
     "name": "stdout",
     "output_type": "stream",
     "text": [
      "\u001b[32m2020-04-11 16:25:19.393\u001b[0m | \u001b[33m\u001b[1mWARNING \u001b[0m | \u001b[36m__main__\u001b[0m:\u001b[36m<module>\u001b[0m:\u001b[36m6\u001b[0m - \u001b[33m\u001b[1mworking file DotPFile(id=136 | name='lora_BW2_SF10_915MHz_20ksps_Att20_v1.p')\u001b[0m\n",
      "\u001b[32m2020-04-11 16:25:19.394\u001b[0m | \u001b[34m\u001b[1mDEBUG   \u001b[0m | \u001b[36mlorapy.datafile.encoding\u001b[0m:\u001b[36mcompute_params\u001b[0m:\u001b[36m15\u001b[0m - \u001b[34m\u001b[1mcomputed samples per symbol: 12802 and packet length: 387260\u001b[0m\n",
      "\u001b[32m2020-04-11 16:25:20.272\u001b[0m | \u001b[1mINFO    \u001b[0m | \u001b[36mlorapy.datafile._base_file\u001b[0m:\u001b[36mload\u001b[0m:\u001b[36m61\u001b[0m - \u001b[1mloaded 12417940 samples from file\u001b[0m\n"
     ]
    },
    {
     "data": {
      "text/plain": [
       "BaselineSymbolSet(num symbols=970 | BW: 2 | SF: 10 | Att: 20 | samples per symbol: 12802 | packet length: 387260)"
      ]
     },
     "metadata": {},
     "output_type": "display_data"
    },
    {
     "name": "stdout",
     "output_type": "stream",
     "text": [
      "\u001b[32m2020-04-11 16:25:20.276\u001b[0m | \u001b[34m\u001b[1mDEBUG   \u001b[0m | \u001b[36mlorapy.datafile.encoding\u001b[0m:\u001b[36mcompute_params\u001b[0m:\u001b[36m15\u001b[0m - \u001b[34m\u001b[1mcomputed samples per symbol: 12802 and packet length: 387260\u001b[0m\n",
      "\u001b[32m2020-04-11 16:25:20.277\u001b[0m | \u001b[1mINFO    \u001b[0m | \u001b[36mlorapy.datafile._base_file\u001b[0m:\u001b[36mload\u001b[0m:\u001b[36m61\u001b[0m - \u001b[1mloaded 12801 samples from file\u001b[0m\n"
     ]
    },
    {
     "data": {
      "text/plain": [
       "BaselineSymbolSet(num symbols=12801 | BW: 2 | SF: 10 | Att: 0 | samples per symbol: 12802 | packet length: 387260)"
      ]
     },
     "metadata": {},
     "output_type": "display_data"
    },
    {
     "name": "stdout",
     "output_type": "stream",
     "text": [
      "\u001b[32m2020-04-11 16:25:20.279\u001b[0m | \u001b[33m\u001b[1mWARNING \u001b[0m | \u001b[36m__main__\u001b[0m:\u001b[36m_mp_compute_corr\u001b[0m:\u001b[36m13\u001b[0m - \u001b[33m\u001b[1mbeginning multiprocessing..\u001b[0m\n",
      "\u001b[32m2020-04-11 16:25:22.265\u001b[0m | \u001b[33m\u001b[1mWARNING \u001b[0m | \u001b[36m__main__\u001b[0m:\u001b[36m_mp_compute_corr\u001b[0m:\u001b[36m19\u001b[0m - \u001b[33m\u001b[1mcompleted multiprocessing\u001b[0m\n",
      "\u001b[32m2020-04-11 16:25:22.268\u001b[0m | \u001b[1mINFO    \u001b[0m | \u001b[36m__main__\u001b[0m:\u001b[36mfilter_symbols_fftcorr\u001b[0m:\u001b[36m41\u001b[0m - \u001b[1mset threshold: 164744.244231\u001b[0m\n",
      "\u001b[32m2020-04-11 16:25:22.401\u001b[0m | \u001b[33m\u001b[1mWARNING \u001b[0m | \u001b[36m__main__\u001b[0m:\u001b[36mfilter_symbols_fftcorr\u001b[0m:\u001b[36m47\u001b[0m - \u001b[33m\u001b[1mremoved 0 symbols  [970 / 970]\u001b[0m\n"
     ]
    },
    {
     "name": "stderr",
     "output_type": "stream",
     "text": [
      "42it [01:52,  3.14s/it]"
     ]
    },
    {
     "name": "stdout",
     "output_type": "stream",
     "text": [
      "\u001b[32m2020-04-11 16:25:22.957\u001b[0m | \u001b[33m\u001b[1mWARNING \u001b[0m | \u001b[36m__main__\u001b[0m:\u001b[36m<module>\u001b[0m:\u001b[36m6\u001b[0m - \u001b[33m\u001b[1mworking file DotPFile(id=137 | name='lora_BW2_SF10_915MHz_20ksps_Att40_v1.p')\u001b[0m\n",
      "\u001b[32m2020-04-11 16:25:22.958\u001b[0m | \u001b[34m\u001b[1mDEBUG   \u001b[0m | \u001b[36mlorapy.datafile.encoding\u001b[0m:\u001b[36mcompute_params\u001b[0m:\u001b[36m15\u001b[0m - \u001b[34m\u001b[1mcomputed samples per symbol: 12802 and packet length: 387260\u001b[0m\n",
      "\u001b[32m2020-04-11 16:25:23.710\u001b[0m | \u001b[1mINFO    \u001b[0m | \u001b[36mlorapy.datafile._base_file\u001b[0m:\u001b[36mload\u001b[0m:\u001b[36m61\u001b[0m - \u001b[1mloaded 11534602 samples from file\u001b[0m\n"
     ]
    },
    {
     "data": {
      "text/plain": [
       "BaselineSymbolSet(num symbols=901 | BW: 2 | SF: 10 | Att: 40 | samples per symbol: 12802 | packet length: 387260)"
      ]
     },
     "metadata": {},
     "output_type": "display_data"
    },
    {
     "name": "stdout",
     "output_type": "stream",
     "text": [
      "\u001b[32m2020-04-11 16:25:23.714\u001b[0m | \u001b[34m\u001b[1mDEBUG   \u001b[0m | \u001b[36mlorapy.datafile.encoding\u001b[0m:\u001b[36mcompute_params\u001b[0m:\u001b[36m15\u001b[0m - \u001b[34m\u001b[1mcomputed samples per symbol: 12802 and packet length: 387260\u001b[0m\n",
      "\u001b[32m2020-04-11 16:25:23.716\u001b[0m | \u001b[1mINFO    \u001b[0m | \u001b[36mlorapy.datafile._base_file\u001b[0m:\u001b[36mload\u001b[0m:\u001b[36m61\u001b[0m - \u001b[1mloaded 12801 samples from file\u001b[0m\n"
     ]
    },
    {
     "data": {
      "text/plain": [
       "BaselineSymbolSet(num symbols=12801 | BW: 2 | SF: 10 | Att: 0 | samples per symbol: 12802 | packet length: 387260)"
      ]
     },
     "metadata": {},
     "output_type": "display_data"
    },
    {
     "name": "stdout",
     "output_type": "stream",
     "text": [
      "\u001b[32m2020-04-11 16:25:23.718\u001b[0m | \u001b[33m\u001b[1mWARNING \u001b[0m | \u001b[36m__main__\u001b[0m:\u001b[36m_mp_compute_corr\u001b[0m:\u001b[36m13\u001b[0m - \u001b[33m\u001b[1mbeginning multiprocessing..\u001b[0m\n",
      "\u001b[32m2020-04-11 16:25:25.974\u001b[0m | \u001b[33m\u001b[1mWARNING \u001b[0m | \u001b[36m__main__\u001b[0m:\u001b[36m_mp_compute_corr\u001b[0m:\u001b[36m19\u001b[0m - \u001b[33m\u001b[1mcompleted multiprocessing\u001b[0m\n",
      "\u001b[32m2020-04-11 16:25:25.977\u001b[0m | \u001b[1mINFO    \u001b[0m | \u001b[36m__main__\u001b[0m:\u001b[36mfilter_symbols_fftcorr\u001b[0m:\u001b[36m41\u001b[0m - \u001b[1mset threshold: 3437.539825\u001b[0m\n",
      "\u001b[32m2020-04-11 16:25:26.216\u001b[0m | \u001b[33m\u001b[1mWARNING \u001b[0m | \u001b[36m__main__\u001b[0m:\u001b[36mfilter_symbols_fftcorr\u001b[0m:\u001b[36m47\u001b[0m - \u001b[33m\u001b[1mremoved 0 symbols  [901 / 901]\u001b[0m\n"
     ]
    },
    {
     "name": "stderr",
     "output_type": "stream",
     "text": [
      "43it [01:55,  3.28s/it]"
     ]
    },
    {
     "name": "stdout",
     "output_type": "stream",
     "text": [
      "\u001b[32m2020-04-11 16:25:26.575\u001b[0m | \u001b[33m\u001b[1mWARNING \u001b[0m | \u001b[36m__main__\u001b[0m:\u001b[36m<module>\u001b[0m:\u001b[36m6\u001b[0m - \u001b[33m\u001b[1mworking file DotPFile(id=138 | name='lora_BW2_SF11_915MHz_20ksps_Att20_v1.p')\u001b[0m\n",
      "\u001b[32m2020-04-11 16:25:26.577\u001b[0m | \u001b[34m\u001b[1mDEBUG   \u001b[0m | \u001b[36mlorapy.datafile.encoding\u001b[0m:\u001b[36mcompute_params\u001b[0m:\u001b[36m15\u001b[0m - \u001b[34m\u001b[1mcomputed samples per symbol: 25604 and packet length: 774521\u001b[0m\n",
      "\u001b[32m2020-04-11 16:25:27.466\u001b[0m | \u001b[1mINFO    \u001b[0m | \u001b[36mlorapy.datafile._base_file\u001b[0m:\u001b[36mload\u001b[0m:\u001b[36m61\u001b[0m - \u001b[1mloaded 13314080 samples from file\u001b[0m\n"
     ]
    },
    {
     "data": {
      "text/plain": [
       "BaselineSymbolSet(num symbols=520 | BW: 2 | SF: 11 | Att: 20 | samples per symbol: 25604 | packet length: 774521)"
      ]
     },
     "metadata": {},
     "output_type": "display_data"
    },
    {
     "name": "stdout",
     "output_type": "stream",
     "text": [
      "\u001b[32m2020-04-11 16:25:27.472\u001b[0m | \u001b[34m\u001b[1mDEBUG   \u001b[0m | \u001b[36mlorapy.datafile.encoding\u001b[0m:\u001b[36mcompute_params\u001b[0m:\u001b[36m15\u001b[0m - \u001b[34m\u001b[1mcomputed samples per symbol: 25604 and packet length: 774521\u001b[0m\n",
      "\u001b[32m2020-04-11 16:25:27.473\u001b[0m | \u001b[1mINFO    \u001b[0m | \u001b[36mlorapy.datafile._base_file\u001b[0m:\u001b[36mload\u001b[0m:\u001b[36m61\u001b[0m - \u001b[1mloaded 25603 samples from file\u001b[0m\n"
     ]
    },
    {
     "data": {
      "text/plain": [
       "BaselineSymbolSet(num symbols=25603 | BW: 2 | SF: 11 | Att: 0 | samples per symbol: 25604 | packet length: 774521)"
      ]
     },
     "metadata": {},
     "output_type": "display_data"
    },
    {
     "name": "stdout",
     "output_type": "stream",
     "text": [
      "\u001b[32m2020-04-11 16:25:27.475\u001b[0m | \u001b[33m\u001b[1mWARNING \u001b[0m | \u001b[36m__main__\u001b[0m:\u001b[36m_mp_compute_corr\u001b[0m:\u001b[36m13\u001b[0m - \u001b[33m\u001b[1mbeginning multiprocessing..\u001b[0m\n",
      "\u001b[32m2020-04-11 16:25:29.966\u001b[0m | \u001b[33m\u001b[1mWARNING \u001b[0m | \u001b[36m__main__\u001b[0m:\u001b[36m_mp_compute_corr\u001b[0m:\u001b[36m19\u001b[0m - \u001b[33m\u001b[1mcompleted multiprocessing\u001b[0m\n",
      "\u001b[32m2020-04-11 16:25:29.969\u001b[0m | \u001b[1mINFO    \u001b[0m | \u001b[36m__main__\u001b[0m:\u001b[36mfilter_symbols_fftcorr\u001b[0m:\u001b[36m41\u001b[0m - \u001b[1mset threshold: 335494.920645\u001b[0m\n",
      "\u001b[32m2020-04-11 16:25:30.164\u001b[0m | \u001b[33m\u001b[1mWARNING \u001b[0m | \u001b[36m__main__\u001b[0m:\u001b[36mfilter_symbols_fftcorr\u001b[0m:\u001b[36m47\u001b[0m - \u001b[33m\u001b[1mremoved 0 symbols  [520 / 520]\u001b[0m\n"
     ]
    },
    {
     "name": "stderr",
     "output_type": "stream",
     "text": [
      "44it [02:00,  3.55s/it]"
     ]
    },
    {
     "name": "stdout",
     "output_type": "stream",
     "text": [
      "\u001b[32m2020-04-11 16:25:30.744\u001b[0m | \u001b[33m\u001b[1mWARNING \u001b[0m | \u001b[36m__main__\u001b[0m:\u001b[36m<module>\u001b[0m:\u001b[36m6\u001b[0m - \u001b[33m\u001b[1mworking file DotPFile(id=144 | name='lora_BW1_SF11_915MHz_20ksps_Att20_v1.p')\u001b[0m\n",
      "\u001b[32m2020-04-11 16:25:30.746\u001b[0m | \u001b[34m\u001b[1mDEBUG   \u001b[0m | \u001b[36mlorapy.datafile.encoding\u001b[0m:\u001b[36mcompute_params\u001b[0m:\u001b[36m15\u001b[0m - \u001b[34m\u001b[1mcomputed samples per symbol: 38396 and packet length: 1161479\u001b[0m\n",
      "\u001b[32m2020-04-11 16:25:31.753\u001b[0m | \u001b[1mINFO    \u001b[0m | \u001b[36mlorapy.datafile._base_file\u001b[0m:\u001b[36mload\u001b[0m:\u001b[36m61\u001b[0m - \u001b[1mloaded 13093036 samples from file\u001b[0m\n"
     ]
    },
    {
     "data": {
      "text/plain": [
       "BaselineSymbolSet(num symbols=341 | BW: 1 | SF: 11 | Att: 20 | samples per symbol: 38396 | packet length: 1161479)"
      ]
     },
     "metadata": {},
     "output_type": "display_data"
    },
    {
     "name": "stdout",
     "output_type": "stream",
     "text": [
      "\u001b[32m2020-04-11 16:25:31.758\u001b[0m | \u001b[34m\u001b[1mDEBUG   \u001b[0m | \u001b[36mlorapy.datafile.encoding\u001b[0m:\u001b[36mcompute_params\u001b[0m:\u001b[36m15\u001b[0m - \u001b[34m\u001b[1mcomputed samples per symbol: 38396 and packet length: 1161479\u001b[0m\n",
      "\u001b[32m2020-04-11 16:25:31.760\u001b[0m | \u001b[1mINFO    \u001b[0m | \u001b[36mlorapy.datafile._base_file\u001b[0m:\u001b[36mload\u001b[0m:\u001b[36m61\u001b[0m - \u001b[1mloaded 38395 samples from file\u001b[0m\n"
     ]
    },
    {
     "data": {
      "text/plain": [
       "BaselineSymbolSet(num symbols=38395 | BW: 1 | SF: 11 | Att: 0 | samples per symbol: 38396 | packet length: 1161479)"
      ]
     },
     "metadata": {},
     "output_type": "display_data"
    },
    {
     "name": "stdout",
     "output_type": "stream",
     "text": [
      "\u001b[32m2020-04-11 16:25:31.762\u001b[0m | \u001b[33m\u001b[1mWARNING \u001b[0m | \u001b[36m__main__\u001b[0m:\u001b[36m_mp_compute_corr\u001b[0m:\u001b[36m13\u001b[0m - \u001b[33m\u001b[1mbeginning multiprocessing..\u001b[0m\n",
      "\u001b[32m2020-04-11 16:25:34.366\u001b[0m | \u001b[33m\u001b[1mWARNING \u001b[0m | \u001b[36m__main__\u001b[0m:\u001b[36m_mp_compute_corr\u001b[0m:\u001b[36m19\u001b[0m - \u001b[33m\u001b[1mcompleted multiprocessing\u001b[0m\n",
      "\u001b[32m2020-04-11 16:25:34.370\u001b[0m | \u001b[1mINFO    \u001b[0m | \u001b[36m__main__\u001b[0m:\u001b[36mfilter_symbols_fftcorr\u001b[0m:\u001b[36m41\u001b[0m - \u001b[1mset threshold: 744286.800960\u001b[0m\n",
      "\u001b[32m2020-04-11 16:25:34.478\u001b[0m | \u001b[33m\u001b[1mWARNING \u001b[0m | \u001b[36m__main__\u001b[0m:\u001b[36mfilter_symbols_fftcorr\u001b[0m:\u001b[36m47\u001b[0m - \u001b[33m\u001b[1mremoved 0 symbols  [341 / 341]\u001b[0m\n"
     ]
    },
    {
     "name": "stderr",
     "output_type": "stream",
     "text": [
      "45it [02:04,  3.72s/it]"
     ]
    },
    {
     "name": "stdout",
     "output_type": "stream",
     "text": [
      "\u001b[32m2020-04-11 16:25:34.874\u001b[0m | \u001b[33m\u001b[1mWARNING \u001b[0m | \u001b[36m__main__\u001b[0m:\u001b[36m<module>\u001b[0m:\u001b[36m6\u001b[0m - \u001b[33m\u001b[1mworking file DotPFile(id=147 | name='lora_BW1_SF10_915MHz_20ksps_Att140_v1.p')\u001b[0m\n",
      "\u001b[32m2020-04-11 16:25:34.875\u001b[0m | \u001b[34m\u001b[1mDEBUG   \u001b[0m | \u001b[36mlorapy.datafile.encoding\u001b[0m:\u001b[36mcompute_params\u001b[0m:\u001b[36m15\u001b[0m - \u001b[34m\u001b[1mcomputed samples per symbol: 19198 and packet length: 580739\u001b[0m\n",
      "\u001b[32m2020-04-11 16:25:35.627\u001b[0m | \u001b[1mINFO    \u001b[0m | \u001b[36mlorapy.datafile._base_file\u001b[0m:\u001b[36mload\u001b[0m:\u001b[36m61\u001b[0m - \u001b[1mloaded 8715892 samples from file\u001b[0m\n"
     ]
    },
    {
     "data": {
      "text/plain": [
       "BaselineSymbolSet(num symbols=454 | BW: 1 | SF: 10 | Att: 140 | samples per symbol: 19198 | packet length: 580739)"
      ]
     },
     "metadata": {},
     "output_type": "display_data"
    },
    {
     "name": "stdout",
     "output_type": "stream",
     "text": [
      "\u001b[32m2020-04-11 16:25:35.631\u001b[0m | \u001b[34m\u001b[1mDEBUG   \u001b[0m | \u001b[36mlorapy.datafile.encoding\u001b[0m:\u001b[36mcompute_params\u001b[0m:\u001b[36m15\u001b[0m - \u001b[34m\u001b[1mcomputed samples per symbol: 19198 and packet length: 580739\u001b[0m\n",
      "\u001b[32m2020-04-11 16:25:35.632\u001b[0m | \u001b[1mINFO    \u001b[0m | \u001b[36mlorapy.datafile._base_file\u001b[0m:\u001b[36mload\u001b[0m:\u001b[36m61\u001b[0m - \u001b[1mloaded 19197 samples from file\u001b[0m\n"
     ]
    },
    {
     "data": {
      "text/plain": [
       "BaselineSymbolSet(num symbols=19197 | BW: 1 | SF: 10 | Att: 0 | samples per symbol: 19198 | packet length: 580739)"
      ]
     },
     "metadata": {},
     "output_type": "display_data"
    },
    {
     "name": "stdout",
     "output_type": "stream",
     "text": [
      "\u001b[32m2020-04-11 16:25:35.635\u001b[0m | \u001b[33m\u001b[1mWARNING \u001b[0m | \u001b[36m__main__\u001b[0m:\u001b[36m_mp_compute_corr\u001b[0m:\u001b[36m13\u001b[0m - \u001b[33m\u001b[1mbeginning multiprocessing..\u001b[0m\n",
      "\u001b[32m2020-04-11 16:25:37.947\u001b[0m | \u001b[33m\u001b[1mWARNING \u001b[0m | \u001b[36m__main__\u001b[0m:\u001b[36m_mp_compute_corr\u001b[0m:\u001b[36m19\u001b[0m - \u001b[33m\u001b[1mcompleted multiprocessing\u001b[0m\n",
      "\u001b[32m2020-04-11 16:25:37.951\u001b[0m | \u001b[1mINFO    \u001b[0m | \u001b[36m__main__\u001b[0m:\u001b[36mfilter_symbols_fftcorr\u001b[0m:\u001b[36m41\u001b[0m - \u001b[1mset threshold: 0.001120\u001b[0m\n",
      "\u001b[32m2020-04-11 16:25:38.024\u001b[0m | \u001b[33m\u001b[1mWARNING \u001b[0m | \u001b[36m__main__\u001b[0m:\u001b[36mfilter_symbols_fftcorr\u001b[0m:\u001b[36m47\u001b[0m - \u001b[33m\u001b[1mremoved 0 symbols  [454 / 454]\u001b[0m\n"
     ]
    },
    {
     "name": "stderr",
     "output_type": "stream",
     "text": [
      "46it [02:07,  3.63s/it]"
     ]
    },
    {
     "name": "stdout",
     "output_type": "stream",
     "text": [
      "\u001b[32m2020-04-11 16:25:38.283\u001b[0m | \u001b[33m\u001b[1mWARNING \u001b[0m | \u001b[36m__main__\u001b[0m:\u001b[36m<module>\u001b[0m:\u001b[36m6\u001b[0m - \u001b[33m\u001b[1mworking file DotPFile(id=154 | name='lora_BW2_SF12_915MHz_20ksps_Att20_v1.p')\u001b[0m\n",
      "\u001b[32m2020-04-11 16:25:38.284\u001b[0m | \u001b[34m\u001b[1mDEBUG   \u001b[0m | \u001b[36mlorapy.datafile.encoding\u001b[0m:\u001b[36mcompute_params\u001b[0m:\u001b[36m15\u001b[0m - \u001b[34m\u001b[1mcomputed samples per symbol: 51197 and packet length: 1548709\u001b[0m\n",
      "\u001b[32m2020-04-11 16:25:39.140\u001b[0m | \u001b[1mINFO    \u001b[0m | \u001b[36mlorapy.datafile._base_file\u001b[0m:\u001b[36mload\u001b[0m:\u001b[36m61\u001b[0m - \u001b[1mloaded 12952841 samples from file\u001b[0m\n"
     ]
    },
    {
     "data": {
      "text/plain": [
       "BaselineSymbolSet(num symbols=253 | BW: 2 | SF: 12 | Att: 20 | samples per symbol: 51197 | packet length: 1548709)"
      ]
     },
     "metadata": {},
     "output_type": "display_data"
    },
    {
     "name": "stdout",
     "output_type": "stream",
     "text": [
      "\u001b[32m2020-04-11 16:25:39.145\u001b[0m | \u001b[34m\u001b[1mDEBUG   \u001b[0m | \u001b[36mlorapy.datafile.encoding\u001b[0m:\u001b[36mcompute_params\u001b[0m:\u001b[36m15\u001b[0m - \u001b[34m\u001b[1mcomputed samples per symbol: 51197 and packet length: 1548709\u001b[0m\n",
      "\u001b[32m2020-04-11 16:25:39.147\u001b[0m | \u001b[1mINFO    \u001b[0m | \u001b[36mlorapy.datafile._base_file\u001b[0m:\u001b[36mload\u001b[0m:\u001b[36m61\u001b[0m - \u001b[1mloaded 51197 samples from file\u001b[0m\n"
     ]
    },
    {
     "data": {
      "text/plain": [
       "BaselineSymbolSet(num symbols=51197 | BW: 2 | SF: 12 | Att: 0 | samples per symbol: 51197 | packet length: 1548709)"
      ]
     },
     "metadata": {},
     "output_type": "display_data"
    },
    {
     "name": "stdout",
     "output_type": "stream",
     "text": [
      "\u001b[32m2020-04-11 16:25:39.149\u001b[0m | \u001b[33m\u001b[1mWARNING \u001b[0m | \u001b[36m__main__\u001b[0m:\u001b[36m_mp_compute_corr\u001b[0m:\u001b[36m13\u001b[0m - \u001b[33m\u001b[1mbeginning multiprocessing..\u001b[0m\n",
      "\u001b[32m2020-04-11 16:25:42.258\u001b[0m | \u001b[33m\u001b[1mWARNING \u001b[0m | \u001b[36m__main__\u001b[0m:\u001b[36m_mp_compute_corr\u001b[0m:\u001b[36m19\u001b[0m - \u001b[33m\u001b[1mcompleted multiprocessing\u001b[0m\n",
      "\u001b[32m2020-04-11 16:25:42.261\u001b[0m | \u001b[1mINFO    \u001b[0m | \u001b[36m__main__\u001b[0m:\u001b[36mfilter_symbols_fftcorr\u001b[0m:\u001b[36m41\u001b[0m - \u001b[1mset threshold: 675362.736378\u001b[0m\n",
      "\u001b[32m2020-04-11 16:25:42.351\u001b[0m | \u001b[33m\u001b[1mWARNING \u001b[0m | \u001b[36m__main__\u001b[0m:\u001b[36mfilter_symbols_fftcorr\u001b[0m:\u001b[36m47\u001b[0m - \u001b[33m\u001b[1mremoved 0 symbols  [253 / 253]\u001b[0m\n"
     ]
    },
    {
     "name": "stderr",
     "output_type": "stream",
     "text": [
      "47it [02:12,  3.86s/it]"
     ]
    },
    {
     "name": "stdout",
     "output_type": "stream",
     "text": [
      "\u001b[32m2020-04-11 16:25:42.686\u001b[0m | \u001b[33m\u001b[1mWARNING \u001b[0m | \u001b[36m__main__\u001b[0m:\u001b[36m<module>\u001b[0m:\u001b[36m6\u001b[0m - \u001b[33m\u001b[1mworking file DotPFile(id=155 | name='lora_BW1_SF11_915MHz_20kspsAtt140_v1.p')\u001b[0m\n",
      "\u001b[32m2020-04-11 16:25:42.688\u001b[0m | \u001b[34m\u001b[1mDEBUG   \u001b[0m | \u001b[36mlorapy.datafile.encoding\u001b[0m:\u001b[36mcompute_params\u001b[0m:\u001b[36m15\u001b[0m - \u001b[34m\u001b[1mcomputed samples per symbol: 38396 and packet length: 1161479\u001b[0m\n",
      "\u001b[32m2020-04-11 16:25:42.873\u001b[0m | \u001b[1mINFO    \u001b[0m | \u001b[36mlorapy.datafile._base_file\u001b[0m:\u001b[36mload\u001b[0m:\u001b[36m61\u001b[0m - \u001b[1mloaded 9982960 samples from file\u001b[0m\n"
     ]
    },
    {
     "data": {
      "text/plain": [
       "BaselineSymbolSet(num symbols=260 | BW: 1 | SF: 11 | Att: 140 | samples per symbol: 38396 | packet length: 1161479)"
      ]
     },
     "metadata": {},
     "output_type": "display_data"
    },
    {
     "name": "stdout",
     "output_type": "stream",
     "text": [
      "\u001b[32m2020-04-11 16:25:42.877\u001b[0m | \u001b[34m\u001b[1mDEBUG   \u001b[0m | \u001b[36mlorapy.datafile.encoding\u001b[0m:\u001b[36mcompute_params\u001b[0m:\u001b[36m15\u001b[0m - \u001b[34m\u001b[1mcomputed samples per symbol: 38396 and packet length: 1161479\u001b[0m\n",
      "\u001b[32m2020-04-11 16:25:42.879\u001b[0m | \u001b[1mINFO    \u001b[0m | \u001b[36mlorapy.datafile._base_file\u001b[0m:\u001b[36mload\u001b[0m:\u001b[36m61\u001b[0m - \u001b[1mloaded 38395 samples from file\u001b[0m\n"
     ]
    },
    {
     "data": {
      "text/plain": [
       "BaselineSymbolSet(num symbols=38395 | BW: 1 | SF: 11 | Att: 0 | samples per symbol: 38396 | packet length: 1161479)"
      ]
     },
     "metadata": {},
     "output_type": "display_data"
    },
    {
     "name": "stdout",
     "output_type": "stream",
     "text": [
      "\u001b[32m2020-04-11 16:25:42.881\u001b[0m | \u001b[33m\u001b[1mWARNING \u001b[0m | \u001b[36m__main__\u001b[0m:\u001b[36m_mp_compute_corr\u001b[0m:\u001b[36m13\u001b[0m - \u001b[33m\u001b[1mbeginning multiprocessing..\u001b[0m\n",
      "\u001b[32m2020-04-11 16:25:44.989\u001b[0m | \u001b[33m\u001b[1mWARNING \u001b[0m | \u001b[36m__main__\u001b[0m:\u001b[36m_mp_compute_corr\u001b[0m:\u001b[36m19\u001b[0m - \u001b[33m\u001b[1mcompleted multiprocessing\u001b[0m\n",
      "\u001b[32m2020-04-11 16:25:44.992\u001b[0m | \u001b[1mINFO    \u001b[0m | \u001b[36m__main__\u001b[0m:\u001b[36mfilter_symbols_fftcorr\u001b[0m:\u001b[36m41\u001b[0m - \u001b[1mset threshold: 0.002639\u001b[0m\n",
      "\u001b[32m2020-04-11 16:25:45.048\u001b[0m | \u001b[33m\u001b[1mWARNING \u001b[0m | \u001b[36m__main__\u001b[0m:\u001b[36mfilter_symbols_fftcorr\u001b[0m:\u001b[36m47\u001b[0m - \u001b[33m\u001b[1mremoved 0 symbols  [260 / 260]\u001b[0m\n"
     ]
    },
    {
     "name": "stderr",
     "output_type": "stream",
     "text": [
      "48it [02:14,  3.45s/it]"
     ]
    },
    {
     "name": "stdout",
     "output_type": "stream",
     "text": [
      "\u001b[32m2020-04-11 16:25:45.189\u001b[0m | \u001b[33m\u001b[1mWARNING \u001b[0m | \u001b[36m__main__\u001b[0m:\u001b[36m<module>\u001b[0m:\u001b[36m6\u001b[0m - \u001b[33m\u001b[1mworking file DotPFile(id=158 | name='lora_BW2_SF10_915MHz_20ksps_Att80_v1.p')\u001b[0m\n",
      "\u001b[32m2020-04-11 16:25:45.190\u001b[0m | \u001b[34m\u001b[1mDEBUG   \u001b[0m | \u001b[36mlorapy.datafile.encoding\u001b[0m:\u001b[36mcompute_params\u001b[0m:\u001b[36m15\u001b[0m - \u001b[34m\u001b[1mcomputed samples per symbol: 12802 and packet length: 387260\u001b[0m\n",
      "\u001b[32m2020-04-11 16:25:45.773\u001b[0m | \u001b[1mINFO    \u001b[0m | \u001b[36mlorapy.datafile._base_file\u001b[0m:\u001b[36mload\u001b[0m:\u001b[36m61\u001b[0m - \u001b[1mloaded 12277118 samples from file\u001b[0m\n"
     ]
    },
    {
     "data": {
      "text/plain": [
       "BaselineSymbolSet(num symbols=959 | BW: 2 | SF: 10 | Att: 80 | samples per symbol: 12802 | packet length: 387260)"
      ]
     },
     "metadata": {},
     "output_type": "display_data"
    },
    {
     "name": "stdout",
     "output_type": "stream",
     "text": [
      "\u001b[32m2020-04-11 16:25:45.777\u001b[0m | \u001b[34m\u001b[1mDEBUG   \u001b[0m | \u001b[36mlorapy.datafile.encoding\u001b[0m:\u001b[36mcompute_params\u001b[0m:\u001b[36m15\u001b[0m - \u001b[34m\u001b[1mcomputed samples per symbol: 12802 and packet length: 387260\u001b[0m\n",
      "\u001b[32m2020-04-11 16:25:45.778\u001b[0m | \u001b[1mINFO    \u001b[0m | \u001b[36mlorapy.datafile._base_file\u001b[0m:\u001b[36mload\u001b[0m:\u001b[36m61\u001b[0m - \u001b[1mloaded 12801 samples from file\u001b[0m\n"
     ]
    },
    {
     "data": {
      "text/plain": [
       "BaselineSymbolSet(num symbols=12801 | BW: 2 | SF: 10 | Att: 0 | samples per symbol: 12802 | packet length: 387260)"
      ]
     },
     "metadata": {},
     "output_type": "display_data"
    },
    {
     "name": "stdout",
     "output_type": "stream",
     "text": [
      "\u001b[32m2020-04-11 16:25:45.780\u001b[0m | \u001b[33m\u001b[1mWARNING \u001b[0m | \u001b[36m__main__\u001b[0m:\u001b[36m_mp_compute_corr\u001b[0m:\u001b[36m13\u001b[0m - \u001b[33m\u001b[1mbeginning multiprocessing..\u001b[0m\n",
      "\u001b[32m2020-04-11 16:25:48.106\u001b[0m | \u001b[33m\u001b[1mWARNING \u001b[0m | \u001b[36m__main__\u001b[0m:\u001b[36m_mp_compute_corr\u001b[0m:\u001b[36m19\u001b[0m - \u001b[33m\u001b[1mcompleted multiprocessing\u001b[0m\n",
      "\u001b[32m2020-04-11 16:25:48.110\u001b[0m | \u001b[1mINFO    \u001b[0m | \u001b[36m__main__\u001b[0m:\u001b[36mfilter_symbols_fftcorr\u001b[0m:\u001b[36m41\u001b[0m - \u001b[1mset threshold: 0.344224\u001b[0m\n",
      "\u001b[32m2020-04-11 16:25:48.314\u001b[0m | \u001b[33m\u001b[1mWARNING \u001b[0m | \u001b[36m__main__\u001b[0m:\u001b[36mfilter_symbols_fftcorr\u001b[0m:\u001b[36m47\u001b[0m - \u001b[33m\u001b[1mremoved 0 symbols  [959 / 959]\u001b[0m\n"
     ]
    },
    {
     "name": "stderr",
     "output_type": "stream",
     "text": [
      "49it [02:18,  2.83s/it]\n"
     ]
    }
   ],
   "source": [
    "THRESH_ADJ = 0.4\n",
    "\n",
    "\n",
    "# for file in tqdm.tqdm(symloader.file_list):\n",
    "for file in tqdm.tqdm(file for file in symloader.file_list if file.name in new_filenames):\n",
    "    logger.warning(f'working file {file}')\n",
    "    file.load()\n",
    "    if file.bw > 6 and file.att > 100:\n",
    "        continue\n",
    "    \n",
    "    filtered_symbols = filter_symbols_fftcorr(file, thresh_adj=THRESH_ADJ, mp=True, plot=False)\n",
    "    _save_symbols(filtered_symbols, FILT_SYMBOL_DIR, file)\n",
    "    "
   ]
  },
  {
   "cell_type": "code",
   "execution_count": null,
   "metadata": {},
   "outputs": [],
   "source": []
  },
  {
   "cell_type": "code",
   "execution_count": null,
   "metadata": {},
   "outputs": [],
   "source": []
  },
  {
   "cell_type": "markdown",
   "metadata": {},
   "source": [
    "# additional filtering"
   ]
  },
  {
   "cell_type": "code",
   "execution_count": null,
   "metadata": {},
   "outputs": [],
   "source": [
    "file.name"
   ]
  },
  {
   "cell_type": "markdown",
   "metadata": {},
   "source": [
    "## new fft autocorr"
   ]
  },
  {
   "cell_type": "code",
   "execution_count": null,
   "metadata": {},
   "outputs": [],
   "source": [
    "%%time\n",
    "THRESH_ADJ = 0.4\n",
    "\n",
    "filtered_symbols, _rm_symbols, corr_fftconvs = filter_symbols_fftcorr(\n",
    "    file, thresh_adj=THRESH_ADJ, mp=True, plot=False\n",
    ")"
   ]
  },
  {
   "cell_type": "code",
   "execution_count": null,
   "metadata": {},
   "outputs": [],
   "source": [
    "filtered_symbols.shape, corr_fftconvs.shape"
   ]
  },
  {
   "cell_type": "code",
   "execution_count": null,
   "metadata": {},
   "outputs": [],
   "source": []
  },
  {
   "cell_type": "code",
   "execution_count": null,
   "metadata": {},
   "outputs": [],
   "source": [
    "filtered_symbols = symbols.data[np.where(corr_fftconvs > 0.4 * corr_fftconvs.mean())[0], :]\n",
    "filtered_symbols.shape"
   ]
  },
  {
   "cell_type": "code",
   "execution_count": null,
   "metadata": {},
   "outputs": [],
   "source": []
  },
  {
   "cell_type": "code",
   "execution_count": null,
   "metadata": {},
   "outputs": [],
   "source": [
    "fig, ax = plt.subplots(1, 2, figsize=(12, 3))\n",
    "with warnings.catch_warnings():\n",
    "    warnings.simplefilter(\"ignore\")\n",
    "    ax[0].hist(corr_fftconvs, bins=50)\n",
    "    ax[1].hist(corr_fftconvs, bins=50, cumulative=True, density=True)\n",
    "    ax[0].set_title(f'adjusted mean: {corr_fftconvs.mean() * THRESH_ADJ:0.5f}')\n"
   ]
  },
  {
   "cell_type": "code",
   "execution_count": null,
   "metadata": {},
   "outputs": [],
   "source": []
  },
  {
   "cell_type": "code",
   "execution_count": null,
   "metadata": {},
   "outputs": [],
   "source": []
  },
  {
   "cell_type": "markdown",
   "metadata": {},
   "source": [
    "# filtered symbol viewing"
   ]
  },
  {
   "cell_type": "code",
   "execution_count": 50,
   "metadata": {},
   "outputs": [],
   "source": [
    "AGG_SYMBOL_DIR = _BASE_DATA_DIR.joinpath('aggregated-symbols')"
   ]
  },
  {
   "cell_type": "markdown",
   "metadata": {},
   "source": [
    "## setup"
   ]
  },
  {
   "cell_type": "code",
   "execution_count": 51,
   "metadata": {
    "scrolled": true
   },
   "outputs": [
    {
     "name": "stdout",
     "output_type": "stream",
     "text": [
      "\u001b[32m2020-04-11 17:19:20.429\u001b[0m | \u001b[34m\u001b[1mDEBUG   \u001b[0m | \u001b[36mlorapy.io._base_loader\u001b[0m:\u001b[36m_validate_data_path\u001b[0m:\u001b[36m140\u001b[0m - \u001b[34m\u001b[1mset datafile directory: ../data/aggregated-symbols\u001b[0m\n",
      "\u001b[32m2020-04-11 17:19:20.432\u001b[0m | \u001b[1mINFO    \u001b[0m | \u001b[36mlorapy.io._base_loader\u001b[0m:\u001b[36m_process_data_dir\u001b[0m:\u001b[36m153\u001b[0m - \u001b[1mfound 1 data file(s)\u001b[0m\n"
     ]
    },
    {
     "data": {
      "text/plain": [
       "[DotPFile(id=0 | name='lora_BW1_SF10_915MHz_20ksps_Att0_combined.p')]"
      ]
     },
     "execution_count": 51,
     "metadata": {},
     "output_type": "execute_result"
    }
   ],
   "source": [
    "filtloader = lorapy.load_dotp(AGG_SYMBOL_DIR)  # glob_pattern='**/*v[12]*.p'\n",
    "filtloader.file_list"
   ]
  },
  {
   "cell_type": "code",
   "execution_count": 52,
   "metadata": {},
   "outputs": [
    {
     "name": "stdout",
     "output_type": "stream",
     "text": [
      "\u001b[32m2020-04-11 17:19:27.975\u001b[0m | \u001b[34m\u001b[1mDEBUG   \u001b[0m | \u001b[36mlorapy.datafile.encoding\u001b[0m:\u001b[36mcompute_params\u001b[0m:\u001b[36m15\u001b[0m - \u001b[34m\u001b[1mcomputed samples per symbol: 19198 and packet length: 580739\u001b[0m\n"
     ]
    },
    {
     "ename": "AttributeError",
     "evalue": "'NoneType' object has no attribute 'size'",
     "output_type": "error",
     "traceback": [
      "\u001b[0;31m---------------------------------------------------------------------------\u001b[0m",
      "\u001b[0;31mAttributeError\u001b[0m                            Traceback (most recent call last)",
      "\u001b[0;32m<ipython-input-52-1afd49d4ae76>\u001b[0m in \u001b[0;36m<module>\u001b[0;34m\u001b[0m\n\u001b[0;32m----> 1\u001b[0;31m \u001b[0mfile\u001b[0m \u001b[0;34m=\u001b[0m \u001b[0mfiltloader\u001b[0m\u001b[0;34m.\u001b[0m\u001b[0mselect\u001b[0m\u001b[0;34m(\u001b[0m\u001b[0;36m0\u001b[0m\u001b[0;34m)\u001b[0m\u001b[0;34m.\u001b[0m\u001b[0mload\u001b[0m\u001b[0;34m(\u001b[0m\u001b[0;34m)\u001b[0m\u001b[0;34m\u001b[0m\u001b[0;34m\u001b[0m\u001b[0m\n\u001b[0m\u001b[1;32m      2\u001b[0m \u001b[0mdisplay\u001b[0m\u001b[0;34m(\u001b[0m\u001b[0mfile\u001b[0m\u001b[0;34m)\u001b[0m\u001b[0;34m\u001b[0m\u001b[0;34m\u001b[0m\u001b[0m\n\u001b[1;32m      3\u001b[0m \u001b[0;34m\u001b[0m\u001b[0m\n\u001b[1;32m      4\u001b[0m \u001b[0msym\u001b[0m \u001b[0;34m=\u001b[0m \u001b[0mfile\u001b[0m\u001b[0;34m.\u001b[0m\u001b[0mto_signal\u001b[0m\u001b[0;34m(\u001b[0m\u001b[0;34m)\u001b[0m\u001b[0;34m\u001b[0m\u001b[0;34m\u001b[0m\u001b[0m\n\u001b[1;32m      5\u001b[0m \u001b[0mdisplay\u001b[0m\u001b[0;34m(\u001b[0m\u001b[0msym\u001b[0m\u001b[0;34m)\u001b[0m\u001b[0;34m\u001b[0m\u001b[0;34m\u001b[0m\u001b[0m\n",
      "\u001b[0;32m/home/lora-processing/lorapy/datafile/_base_file.py\u001b[0m in \u001b[0;36mload\u001b[0;34m(self)\u001b[0m\n\u001b[1;32m     59\u001b[0m         \u001b[0mself\u001b[0m\u001b[0;34m.\u001b[0m\u001b[0m_compute_file_params\u001b[0m\u001b[0;34m(\u001b[0m\u001b[0;34m)\u001b[0m\u001b[0;34m\u001b[0m\u001b[0;34m\u001b[0m\u001b[0m\n\u001b[1;32m     60\u001b[0m         \u001b[0mself\u001b[0m\u001b[0;34m.\u001b[0m\u001b[0mdata\u001b[0m \u001b[0;34m=\u001b[0m \u001b[0mself\u001b[0m\u001b[0;34m.\u001b[0m\u001b[0m_load_file\u001b[0m\u001b[0;34m(\u001b[0m\u001b[0;34m)\u001b[0m\u001b[0;34m\u001b[0m\u001b[0;34m\u001b[0m\u001b[0m\n\u001b[0;32m---> 61\u001b[0;31m         \u001b[0mlogger\u001b[0m\u001b[0;34m.\u001b[0m\u001b[0minfo\u001b[0m\u001b[0;34m(\u001b[0m\u001b[0;34mf'loaded {self.size} samples from file'\u001b[0m\u001b[0;34m)\u001b[0m\u001b[0;34m\u001b[0m\u001b[0;34m\u001b[0m\u001b[0m\n\u001b[0m\u001b[1;32m     62\u001b[0m         \u001b[0;32mreturn\u001b[0m \u001b[0mself\u001b[0m\u001b[0;34m\u001b[0m\u001b[0;34m\u001b[0m\u001b[0m\n\u001b[1;32m     63\u001b[0m \u001b[0;34m\u001b[0m\u001b[0m\n",
      "\u001b[0;32m/home/lora-processing/lorapy/datafile/_base_file.py\u001b[0m in \u001b[0;36msize\u001b[0;34m(self)\u001b[0m\n\u001b[1;32m     81\u001b[0m     \u001b[0;34m@\u001b[0m\u001b[0mproperty\u001b[0m\u001b[0;34m\u001b[0m\u001b[0;34m\u001b[0m\u001b[0m\n\u001b[1;32m     82\u001b[0m     \u001b[0;32mdef\u001b[0m \u001b[0msize\u001b[0m\u001b[0;34m(\u001b[0m\u001b[0mself\u001b[0m\u001b[0;34m)\u001b[0m \u001b[0;34m->\u001b[0m \u001b[0mint\u001b[0m\u001b[0;34m:\u001b[0m\u001b[0;34m\u001b[0m\u001b[0;34m\u001b[0m\u001b[0m\n\u001b[0;32m---> 83\u001b[0;31m         \u001b[0;32mreturn\u001b[0m \u001b[0mself\u001b[0m\u001b[0;34m.\u001b[0m\u001b[0mdata\u001b[0m\u001b[0;34m.\u001b[0m\u001b[0msize\u001b[0m\u001b[0;34m\u001b[0m\u001b[0;34m\u001b[0m\u001b[0m\n\u001b[0m\u001b[1;32m     84\u001b[0m \u001b[0;34m\u001b[0m\u001b[0m\n\u001b[1;32m     85\u001b[0m     \u001b[0;34m@\u001b[0m\u001b[0mproperty\u001b[0m\u001b[0;34m\u001b[0m\u001b[0;34m\u001b[0m\u001b[0m\n",
      "\u001b[0;31mAttributeError\u001b[0m: 'NoneType' object has no attribute 'size'"
     ]
    }
   ],
   "source": [
    "file = filtloader.select(0).load()\n",
    "display(file)\n",
    "\n",
    "sym = file.to_signal()\n",
    "display(sym)\n",
    "display(sym.data.shape)"
   ]
  },
  {
   "cell_type": "code",
   "execution_count": 26,
   "metadata": {},
   "outputs": [
    {
     "name": "stderr",
     "output_type": "stream",
     "text": [
      "/opt/conda/lib/python3.7/site-packages/numpy/core/_asarray.py:85: ComplexWarning: Casting complex values to real discards the imaginary part\n",
      "  return array(a, dtype, copy=False, order=order)\n"
     ]
    },
    {
     "data": {
      "image/png": "[encoded data removed]",
      "text/plain": [
       "<Figure size 432x288 with 1 Axes>"
      ]
     },
     "metadata": {
      "needs_background": "light"
     },
     "output_type": "display_data"
    }
   ],
   "source": [
    "sym.plot()"
   ]
  },
  {
   "cell_type": "code",
   "execution_count": 49,
   "metadata": {},
   "outputs": [
    {
     "name": "stderr",
     "output_type": "stream",
     "text": [
      "/opt/conda/lib/python3.7/site-packages/numpy/core/_asarray.py:85: ComplexWarning: Casting complex values to real discards the imaginary part\n",
      "  return array(a, dtype, copy=False, order=order)\n"
     ]
    },
    {
     "data": {
      "text/plain": [
       "[<matplotlib.lines.Line2D at 0x7f50ff80e650>]"
      ]
     },
     "execution_count": 49,
     "metadata": {},
     "output_type": "execute_result"
    },
    {
     "data": {
      "image/png": "[encoded data removed]",
      "text/plain": [
       "<Figure size 1080x144 with 1 Axes>"
      ]
     },
     "metadata": {
      "needs_background": "light"
     },
     "output_type": "display_data"
    }
   ],
   "source": [
    "plt.figure(figsize=(15,2))\n",
    "plt.plot(sym.random_symbol)"
   ]
  },
  {
   "cell_type": "code",
   "execution_count": null,
   "metadata": {},
   "outputs": [],
   "source": []
  },
  {
   "cell_type": "code",
   "execution_count": null,
   "metadata": {},
   "outputs": [],
   "source": []
  },
  {
   "cell_type": "code",
   "execution_count": null,
   "metadata": {},
   "outputs": [],
   "source": []
  },
  {
   "cell_type": "markdown",
   "metadata": {},
   "source": [
    "# visualize"
   ]
  },
  {
   "cell_type": "code",
   "execution_count": 27,
   "metadata": {},
   "outputs": [
    {
     "name": "stdout",
     "output_type": "stream",
     "text": [
      "batches = 3\n"
     ]
    },
    {
     "data": {
      "image/png": "[encoded data removed]",
      "text/plain": [
       "<Figure size 1080x576 with 50 Axes>"
      ]
     },
     "metadata": {
      "needs_background": "light"
     },
     "output_type": "display_data"
    },
    {
     "data": {
      "image/png": "[encoded data removed]",
      "text/plain": [
       "<Figure size 1080x576 with 50 Axes>"
      ]
     },
     "metadata": {
      "needs_background": "light"
     },
     "output_type": "display_data"
    },
    {
     "data": {
      "image/png": "[encoded data removed]",
      "text/plain": [
       "<Figure size 1080x576 with 50 Axes>"
      ]
     },
     "metadata": {
      "needs_background": "light"
     },
     "output_type": "display_data"
    }
   ],
   "source": [
    "# tar_symbols = _rm_symbols\n",
    "# tar_symbols = filtered_symbols\n",
    "tar_symbols = sym.data\n",
    "\n",
    "batch_size, stop_limit = 50, 8\n",
    "batches = len(tar_symbols) // batch_size\n",
    "print(f'batches = {batches}')\n",
    "\n",
    "stop = 0\n",
    "\n",
    "for epoch in range(len(tar_symbols) // batch_size):\n",
    "    rows, cols = 10, 5\n",
    "    fig, ax = plt.subplots(10, 5, figsize=(15, 8))\n",
    "    \n",
    "    for i in range(rows):\n",
    "        for j in range(cols):\n",
    "            with warnings.catch_warnings():\n",
    "                warnings.simplefilter(\"ignore\")\n",
    "                idx = (epoch * rows * cols) + (cols * i) + j \n",
    "                if idx >= len(tar_symbols):\n",
    "                    break\n",
    "                ax[i, j].plot(tar_symbols[idx])\n",
    "                ax[i, j].set_title(f'idx: {idx}')\n",
    "            \n",
    "    stop += 1\n",
    "    if stop > stop_limit:\n",
    "        break\n",
    "    "
   ]
  },
  {
   "cell_type": "code",
   "execution_count": null,
   "metadata": {},
   "outputs": [],
   "source": []
  },
  {
   "cell_type": "code",
   "execution_count": null,
   "metadata": {},
   "outputs": [],
   "source": []
  },
  {
   "cell_type": "code",
   "execution_count": null,
   "metadata": {},
   "outputs": [],
   "source": []
  },
  {
   "cell_type": "code",
   "execution_count": null,
   "metadata": {},
   "outputs": [],
   "source": []
  },
  {
   "cell_type": "markdown",
   "metadata": {},
   "source": [
    "# old dev"
   ]
  },
  {
   "cell_type": "markdown",
   "metadata": {},
   "source": [
    "## setup"
   ]
  },
  {
   "cell_type": "code",
   "execution_count": null,
   "metadata": {},
   "outputs": [],
   "source": [
    "file = symloader.filter(bw=9, sf=11, att=40)[0]\n",
    "display(file)\n",
    "file.load()\n",
    "\n",
    "pfile = _load_matching_dotp(file.bw, file.sf)\n",
    "display(pfile)\n",
    "\n",
    "base_symbol = pfile.to_signal()\n",
    "display(base_symbol)"
   ]
  },
  {
   "cell_type": "code",
   "execution_count": null,
   "metadata": {},
   "outputs": [],
   "source": [
    "filtered_symbols, conv_vals = filter_symbols(file, thresh_type='quant', plot=False)"
   ]
  },
  {
   "cell_type": "code",
   "execution_count": null,
   "metadata": {},
   "outputs": [],
   "source": [
    "bad_symbols = np.vstack([\n",
    "    filtered_symbols[15],\n",
    "    filtered_symbols[16],\n",
    "    filtered_symbols[20],\n",
    "    filtered_symbols[99],\n",
    "    filtered_symbols[100],\n",
    "    filtered_symbols[101],\n",
    "    filtered_symbols[110],\n",
    "    filtered_symbols[111],\n",
    "])\n",
    "\n",
    "good_symbols = np.vstack([\n",
    "    filtered_symbols[0],\n",
    "    filtered_symbols[5],\n",
    "    filtered_symbols[8],\n",
    "    filtered_symbols[71],\n",
    "    filtered_symbols[1],\n",
    "    filtered_symbols[3],\n",
    "    filtered_symbols[29],\n",
    "    filtered_symbols[30],\n",
    "])"
   ]
  },
  {
   "cell_type": "code",
   "execution_count": null,
   "metadata": {},
   "outputs": [],
   "source": [
    "plt.plot(conv_vals)"
   ]
  },
  {
   "cell_type": "code",
   "execution_count": null,
   "metadata": {},
   "outputs": [],
   "source": []
  },
  {
   "cell_type": "code",
   "execution_count": null,
   "metadata": {},
   "outputs": [],
   "source": []
  },
  {
   "cell_type": "markdown",
   "metadata": {},
   "source": [
    "## bad symbol location"
   ]
  },
  {
   "cell_type": "code",
   "execution_count": null,
   "metadata": {
    "jupyter": {
     "source_hidden": true
    },
    "scrolled": true
   },
   "outputs": [],
   "source": [
    "for sym in filtered_symbols[10:20]:\n",
    "    with warnings.catch_warnings():\n",
    "        warnings.simplefilter(\"ignore\")\n",
    "        \n",
    "        plt.figure(figsize=(5,1))\n",
    "        plt.plot(sym)"
   ]
  },
  {
   "cell_type": "code",
   "execution_count": null,
   "metadata": {
    "jupyter": {
     "source_hidden": true
    }
   },
   "outputs": [],
   "source": [
    "sym_df = (\n",
    "    pd.DataFrame({'good': good_symbol, 'bad': bad_symbol})\n",
    "    .assign(\n",
    "        good_abs = lambda df: np.abs(df.good),\n",
    "        bad_abs = lambda df: np.abs(df.bad),\n",
    "    )\n",
    ")\n",
    "sym_df.head()"
   ]
  },
  {
   "cell_type": "markdown",
   "metadata": {},
   "source": [
    "## metric exploration"
   ]
  },
  {
   "cell_type": "code",
   "execution_count": null,
   "metadata": {},
   "outputs": [],
   "source": [
    "fig, ax = plt.subplots(1, 2, figsize=(12, 3))\n",
    "with warnings.catch_warnings():\n",
    "    warnings.simplefilter(\"ignore\")\n",
    "    ax[0].plot(good_symbols[0])\n",
    "    ax[1].plot(bad_symbols[1])"
   ]
  },
  {
   "cell_type": "code",
   "execution_count": null,
   "metadata": {},
   "outputs": [],
   "source": []
  },
  {
   "cell_type": "markdown",
   "metadata": {},
   "source": [
    "## convolution"
   ]
  },
  {
   "cell_type": "code",
   "execution_count": null,
   "metadata": {},
   "outputs": [],
   "source": [
    "import scipy as sp\n",
    "import scipy.stats as spstats\n",
    "import scipy.signal as spsig"
   ]
  },
  {
   "cell_type": "code",
   "execution_count": null,
   "metadata": {},
   "outputs": [],
   "source": [
    "def _fft_convolve_autocorr(symbol: np.ndarray):\n",
    "    return spsig.fftconvolve(symbol, symbol[::-1], mode='full')\n",
    "\n",
    "def _sp_corr(base_symbol: np.ndarray, packet_slice: np.ndarray) -> float:\n",
    "    min_size = np.min((base_symbol.size, packet_slice.size))\n",
    "    corr = spsig.correlate(base_symbol, packet_slice)\n",
    "    return np.abs(corr.max())\n",
    "    "
   ]
  },
  {
   "cell_type": "code",
   "execution_count": null,
   "metadata": {},
   "outputs": [],
   "source": []
  },
  {
   "cell_type": "code",
   "execution_count": null,
   "metadata": {},
   "outputs": [],
   "source": [
    "good_fftconvs = np.vstack([\n",
    "    _fft_convolve_autocorr(sym)\n",
    "    for sym in good_symbols\n",
    "])\n",
    "\n",
    "bad_fftconvs = np.vstack([\n",
    "    _fft_convolve_autocorr(sym)\n",
    "    for sym in bad_symbols\n",
    "])"
   ]
  },
  {
   "cell_type": "code",
   "execution_count": null,
   "metadata": {},
   "outputs": [],
   "source": [
    "corr_vals = np.array([\n",
    "    _sp_corr(base_symbol.data, fftconv)\n",
    "    for fftconv in np.vstack([good_fftconvs, bad_fftconvs])\n",
    "])"
   ]
  },
  {
   "cell_type": "code",
   "execution_count": null,
   "metadata": {},
   "outputs": [],
   "source": []
  },
  {
   "cell_type": "code",
   "execution_count": null,
   "metadata": {},
   "outputs": [],
   "source": [
    "_fftconvs = np.vstack([\n",
    "    _sp_corr(base_symbol.data, _fft_convolve_autocorr(sym))\n",
    "    for sym in np.vstack([good_symbols, bad_symbols])\n",
    "])"
   ]
  },
  {
   "cell_type": "code",
   "execution_count": null,
   "metadata": {},
   "outputs": [],
   "source": [
    "corr_vals = np.array([\n",
    "    _sp_corr(base_symbol.data, fftconv)\n",
    "    for fftconv in np.vstack([good_fftconvs, bad_fftconvs])\n",
    "])"
   ]
  },
  {
   "cell_type": "code",
   "execution_count": null,
   "metadata": {},
   "outputs": [],
   "source": [
    "plt.plot(sorted(corr_vals))"
   ]
  },
  {
   "cell_type": "code",
   "execution_count": null,
   "metadata": {},
   "outputs": [],
   "source": [
    "filtered_symbols = [\n",
    "    sym for sym, corr in zip(np.vstack([good_symbols,bad_symbols]), corr_vals)\n",
    "    if corr > corr_vals.mean()\n",
    "]"
   ]
  },
  {
   "cell_type": "code",
   "execution_count": null,
   "metadata": {},
   "outputs": [],
   "source": [
    "len(filtered_symbols)"
   ]
  },
  {
   "cell_type": "code",
   "execution_count": null,
   "metadata": {},
   "outputs": [],
   "source": []
  },
  {
   "cell_type": "code",
   "execution_count": null,
   "metadata": {},
   "outputs": [],
   "source": []
  },
  {
   "cell_type": "code",
   "execution_count": null,
   "metadata": {},
   "outputs": [],
   "source": [
    "idx = 0"
   ]
  },
  {
   "cell_type": "code",
   "execution_count": null,
   "metadata": {},
   "outputs": [],
   "source": [
    "logger.warning(f'\\n idx = {idx} '.center(60, '='))\n",
    "\n",
    "good_fft_corr = _compute_corrcoefs(base_symbol.data, good_fftconvs[idx])\n",
    "bad_fft_corr = _compute_corrcoefs(base_symbol.data, bad_fftconvs[idx])\n",
    "good_sp_corr = _sp_corr(base_symbol.data, good_fftconvs[idx])\n",
    "bad_sp_corr = _sp_corr(base_symbol.data, bad_fftconvs[idx])\n",
    "\n",
    "\n",
    "fig, ax = plt.subplots(2, 2, figsize=(12, 6))\n",
    "with warnings.catch_warnings():\n",
    "    warnings.simplefilter(\"ignore\")\n",
    "    ax[0,0].plot(good_symbols[idx])\n",
    "    ax[0,1].plot(bad_symbols[idx])\n",
    "    ax[1,0].plot(good_fftconvs[idx])\n",
    "    ax[1,0].set_xlabel(f'good corr: {good_sp_corr:0.6f}')\n",
    "    ax[1,1].plot(bad_fftconvs[idx])\n",
    "    ax[1,1].set_xlabel(f'bad corr: {bad_sp_corr:0.6f}')\n",
    "    \n",
    "\n",
    "idx += 1"
   ]
  },
  {
   "cell_type": "code",
   "execution_count": null,
   "metadata": {},
   "outputs": [],
   "source": []
  },
  {
   "cell_type": "markdown",
   "metadata": {},
   "source": [
    "## correlation"
   ]
  },
  {
   "cell_type": "code",
   "execution_count": null,
   "metadata": {},
   "outputs": [],
   "source": [
    "def _compute_corrcoefs(base_symbol: np.ndarray, packet_slice: np.ndarray) -> float:\n",
    "    min_size = np.min((base_symbol.size, packet_slice.size))\n",
    "\n",
    "    return np.real(np.abs(\n",
    "        np.corrcoef(base_symbol[:min_size], packet_slice[:min_size])[0, 1]\n",
    "    ))"
   ]
  },
  {
   "cell_type": "code",
   "execution_count": null,
   "metadata": {},
   "outputs": [],
   "source": [
    "def _sp_corr(base_symbol: np.ndarray, packet_slice: np.ndarray) -> float:\n",
    "    min_size = np.min((base_symbol.size, packet_slice.size))\n",
    "    corr = spsig.correlate(base_symbol, packet_slice)\n",
    "    return np.abs(corr.max())\n",
    "    "
   ]
  },
  {
   "cell_type": "code",
   "execution_count": null,
   "metadata": {},
   "outputs": [],
   "source": [
    "good_sp_corr = spsig.correlate(base_symbol.data, good_fftconvs[0])\n",
    "bad_sp_corr = spsig.correlate(base_symbol.data, bad_fftconvs[0])\n",
    "\n",
    "fig, ax = plt.subplots(1, 2, figsize=(12, 3))\n",
    "with warnings.catch_warnings():\n",
    "    warnings.simplefilter(\"ignore\")\n",
    "    ax[0].plot(good_sp_corr)\n",
    "    ax[1].plot(bad_sp_corr)"
   ]
  },
  {
   "cell_type": "code",
   "execution_count": null,
   "metadata": {},
   "outputs": [],
   "source": [
    "_compute_corrcoefs(base_symbol.data, good_fftconv), _compute_corrcoefs(base_symbol.data, bad_fftconv)"
   ]
  },
  {
   "cell_type": "code",
   "execution_count": null,
   "metadata": {},
   "outputs": [],
   "source": []
  },
  {
   "cell_type": "code",
   "execution_count": null,
   "metadata": {},
   "outputs": [],
   "source": []
  }
 ],
 "metadata": {
  "kernelspec": {
   "display_name": "Python 3",
   "language": "python",
   "name": "python3"
  },
  "language_info": {
   "codemirror_mode": {
    "name": "ipython",
    "version": 3
   },
   "file_extension": ".py",
   "mimetype": "text/x-python",
   "name": "python",
   "nbconvert_exporter": "python",
   "pygments_lexer": "ipython3",
   "version": "3.7.6"
  }
 },
 "nbformat": 4,
 "nbformat_minor": 4
}
