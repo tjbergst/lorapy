{
 "cells": [
  {
   "cell_type": "markdown",
   "metadata": {},
   "source": [
    "# lorapy symbol viewer"
   ]
  },
  {
   "cell_type": "code",
   "execution_count": 15,
   "metadata": {},
   "outputs": [
    {
     "name": "stdout",
     "output_type": "stream",
     "text": [
      "The autoreload extension is already loaded. To reload it, use:\n",
      "  %reload_ext autoreload\n"
     ]
    }
   ],
   "source": [
    "%load_ext autoreload\n",
    "%autoreload 2\n",
    "\n",
    "import pathlib\n",
    "\n",
    "import os, sys\n",
    "from loguru import logger\n",
    "logger.remove(None)\n",
    "logger.add(sys.stdout, colorize=True)\n",
    "\n",
    "import numpy as np\n",
    "import pandas as pd\n",
    "from six.moves import cPickle\n",
    "import tqdm\n",
    "from tqdm import tqdm_notebook\n",
    "import warnings \n",
    "\n",
    "import matplotlib.pyplot as plt \n",
    "# plt.style.use('dark_background')\n",
    "%matplotlib inline"
   ]
  },
  {
   "cell_type": "code",
   "execution_count": 2,
   "metadata": {},
   "outputs": [],
   "source": [
    "import lorapy"
   ]
  },
  {
   "cell_type": "markdown",
   "metadata": {},
   "source": [
    "## setup "
   ]
  },
  {
   "cell_type": "code",
   "execution_count": 3,
   "metadata": {},
   "outputs": [],
   "source": [
    "_BASE_DATA_DIR = pathlib.Path('../data')\n",
    "\n",
    "BENCHTOP_DATA_DIR = _BASE_DATA_DIR.joinpath('lora-benchtop-recording')\n",
    "DOTP_DATA_DIR = _BASE_DATA_DIR.joinpath('symbol-ref')\n",
    "DEV_DATA_DIR = _BASE_DATA_DIR.joinpath('dev-data')\n",
    "PROC_SYMBOL_DIR = _BASE_DATA_DIR.joinpath('processed-symbols')\n",
    "FILT_SYMBOL_DIR = _BASE_DATA_DIR.joinpath('filtered-symbols')"
   ]
  },
  {
   "cell_type": "markdown",
   "metadata": {},
   "source": [
    "# load"
   ]
  },
  {
   "cell_type": "code",
   "execution_count": 4,
   "metadata": {},
   "outputs": [],
   "source": [
    "import random\n",
    "import warnings \n",
    "\n",
    "rand = lambda mx: random.randint(0, mx - 1)\n",
    "\n",
    "def _load_matching_dotp(bw: int, sf: int):\n",
    "    return ploader.filter(bw=bw, sf=sf)[0]\n",
    "\n",
    "\n",
    "def _plot_check(filtered_syms, num=20):\n",
    "    with warnings.catch_warnings():\n",
    "        warnings.simplefilter(\"ignore\")\n",
    "        \n",
    "        fig, ax = plt.subplots(num, figsize=(14, 10))\n",
    "\n",
    "        for idx in range(num):\n",
    "            ax[idx].plot(filtered_syms[rand(filtered_syms.shape[0])])\n",
    "            \n",
    "            \n",
    "def _format_output_path(out_dir, file):    \n",
    "    out_path = out_dir.joinpath(file.name)\n",
    "    return out_path\n",
    "\n",
    "\n",
    "def _save_symbols(data, out_dir, file):\n",
    "    out_path = _format_output_path(out_dir, file)\n",
    "    \n",
    "    with out_path.open('wb') as outfile:\n",
    "        cPickle.dump(data, outfile)"
   ]
  },
  {
   "cell_type": "markdown",
   "metadata": {},
   "source": [
    "## files"
   ]
  },
  {
   "cell_type": "code",
   "execution_count": 5,
   "metadata": {
    "scrolled": true
   },
   "outputs": [
    {
     "name": "stdout",
     "output_type": "stream",
     "text": [
      "\u001b[32m2020-04-10 17:56:14.498\u001b[0m | \u001b[34m\u001b[1mDEBUG   \u001b[0m | \u001b[36mlorapy.io._base_loader\u001b[0m:\u001b[36m_validate_data_path\u001b[0m:\u001b[36m140\u001b[0m - \u001b[34m\u001b[1mset datafile directory: ../data/processed-symbols\u001b[0m\n",
      "\u001b[32m2020-04-10 17:56:14.503\u001b[0m | \u001b[1mINFO    \u001b[0m | \u001b[36mlorapy.io._base_loader\u001b[0m:\u001b[36m_process_data_dir\u001b[0m:\u001b[36m153\u001b[0m - \u001b[1mfound 106 data file(s)\u001b[0m\n"
     ]
    },
    {
     "data": {
      "text/plain": [
       "[DotPFile(id=0 | name='lora_BW1_SF10_915MHz_20ksps_Att0_v0.p'),\n",
       " DotPFile(id=1 | name='lora_BW2_SF12_915MHz_20ksps_Att40_v0.p'),\n",
       " DotPFile(id=2 | name='lora_BW8_SF12_915MHz_20ksps_Att120_v0.p'),\n",
       " DotPFile(id=3 | name='lora_BW1_SF10_915MHz_20ksps_Att140_v0.p'),\n",
       " DotPFile(id=4 | name='lora_BW1_SF12_915MHz_20ksps_Att0_v0.p'),\n",
       " DotPFile(id=5 | name='lora_BW1_SF12_915MHz_20ksps_Att60_v0.p'),\n",
       " DotPFile(id=6 | name='lora_BW7_SF10_915MHz_20ksps_Att40_v0.p'),\n",
       " DotPFile(id=7 | name='lora_BW2_SF10_915MHz_20ksps_Att40_v0.p'),\n",
       " DotPFile(id=8 | name='lora_BW9_SF12_915MHz_20ksps_Att0_v0.p'),\n",
       " DotPFile(id=9 | name='lora_BW2_SF12_915MHz_20ksps_Att60_v0.p'),\n",
       " DotPFile(id=10 | name='lora_BW2_SF10_915MHz_20ksps_Att0_v0.p'),\n",
       " DotPFile(id=11 | name='lora_BW9_SF11_915MHz_20ksps_Att100_v0.p'),\n",
       " DotPFile(id=12 | name='lora_BW7_SF10_915MHz_20ksps_Att100_v0.p'),\n",
       " DotPFile(id=13 | name='lora_BW1_SF10_915MHz_20ksps_Att40_v0.p'),\n",
       " DotPFile(id=14 | name='lora_BW7_SF11_915MHz_20ksps_Att80_v0.p'),\n",
       " DotPFile(id=15 | name='lora_BW2_SF11_915MHz_20ksps_Att40_v0.p'),\n",
       " DotPFile(id=16 | name='lora_BW1_SF11_915MHz_20ksps_Att40_v0.p'),\n",
       " DotPFile(id=17 | name='lora_BW8_SF10_915MHz_20ksps_Att40_v0.p'),\n",
       " DotPFile(id=18 | name='lora_BW7_SF12_915MHz_20ksps_Att120_v0.p'),\n",
       " DotPFile(id=19 | name='lora_BW2_SF12_915MHz_20ksps_Att100_v0.p'),\n",
       " DotPFile(id=20 | name='lora_BW1_SF12_915MHz_20ksps_Att40_v0.p'),\n",
       " DotPFile(id=21 | name='lora_BW2_SF10_915MHz_20ksps_Att120_v0.p'),\n",
       " DotPFile(id=22 | name='lora_BW8_SF10_915MHz_20ksps_Att80_v0.p'),\n",
       " DotPFile(id=23 | name='lora_BW1_SF11_915MHz_20ksps_Att20_v0.p'),\n",
       " DotPFile(id=24 | name='lora_BW9_SF11_915MHz_20ksps_Att0_v0.p'),\n",
       " DotPFile(id=25 | name='lora_BW2_SF11_915MHz_20ksps_Att80_v0.p'),\n",
       " DotPFile(id=26 | name='lora_BW1_SF11_915MHz_20ksps_Att60_v0.p'),\n",
       " DotPFile(id=27 | name='lora_BW2_SF12_915MHz_20ksps_Att0_v0.p'),\n",
       " DotPFile(id=28 | name='lora_BW9_SF10_915MHz_20ksps_Att100_v0.p'),\n",
       " DotPFile(id=29 | name='lora_BW9_SF11_915MHz_20ksps_Att40_v0.p'),\n",
       " DotPFile(id=30 | name='lora_BW9_SF12_915MHz_20ksps_Att80_v0.p'),\n",
       " DotPFile(id=31 | name='lora_BW2_SF10_915MHz_20ksps_Att20_v0.p'),\n",
       " DotPFile(id=32 | name='lora_BW8_SF12_915MHz_20ksps_Att0_v0.p'),\n",
       " DotPFile(id=33 | name='lora_BW9_SF10_915MHz_20ksps_Att80_v0.p'),\n",
       " DotPFile(id=34 | name='lora_BW8_SF12_915MHz_20ksps_Att20_v0.p'),\n",
       " DotPFile(id=35 | name='lora_BW8_SF11_915MHz_20ksps_Att60_v0.p'),\n",
       " DotPFile(id=36 | name='lora_BW2_SF11_915MHz_20ksps_Att100_v0.p'),\n",
       " DotPFile(id=37 | name='lora_BW1_SF12_915MHz_20ksps_Att120_v0.p'),\n",
       " DotPFile(id=38 | name='lora_BW1_SF10_915MHz_20ksps_Att60_v0.p'),\n",
       " DotPFile(id=39 | name='lora_BW7_SF10_915MHz_20ksps_Att80_v0.p'),\n",
       " DotPFile(id=40 | name='lora_BW9_SF10_915MHz_20ksps_Att40_v0.p'),\n",
       " DotPFile(id=41 | name='lora_BW2_SF10_915MHz_20ksps_Att140_v0.p'),\n",
       " DotPFile(id=42 | name='lora_BW8_SF12_915MHz_20ksps_Att40_v0.p'),\n",
       " DotPFile(id=43 | name='lora_BW2_SF11_915MHz_20ksps_Att60_v0.p'),\n",
       " DotPFile(id=44 | name='lora_BW8_SF10_915MHz_20ksps_Att120_v0.p'),\n",
       " DotPFile(id=45 | name='lora_BW7_SF12_915MHz_20ksps_Att100_v0.p'),\n",
       " DotPFile(id=46 | name='lora_BW7_SF12_915MHz_20ksps_Att80_v0.p'),\n",
       " DotPFile(id=47 | name='lora_BW1_SF11_915MHz_20ksps_Att140_v0.p'),\n",
       " DotPFile(id=48 | name='lora_BW2_SF10_915MHz_20ksps_Att80_v0.p'),\n",
       " DotPFile(id=49 | name='lora_BW9_SF11_915MHz_20ksps_Att20_v0.p'),\n",
       " DotPFile(id=50 | name='lora_BW1_SF12_915MHz_20ksps_Att20_v0.p'),\n",
       " DotPFile(id=51 | name='lora_BW7_SF10_915MHz_20ksps_Att0_v0.p'),\n",
       " DotPFile(id=52 | name='lora_BW1_SF10_915MHz_20ksps_Att120_v0.p'),\n",
       " DotPFile(id=53 | name='lora_BW8_SF10_915MHz_20ksps_Att20_v0.p'),\n",
       " DotPFile(id=54 | name='lora_BW2_SF11_915MHz_20ksps_Att20_v0.p'),\n",
       " DotPFile(id=55 | name='lora_BW7_SF11_915MHz_20ksps_Att120_v0.p'),\n",
       " DotPFile(id=56 | name='lora_BW8_SF10_915MHz_20ksps_Att60_v0.p'),\n",
       " DotPFile(id=57 | name='lora_BW8_SF11_915MHz_20ksps_Att0_v0.p'),\n",
       " DotPFile(id=58 | name='lora_BW8_SF10_915MHz_20ksps_Att100_v0.p'),\n",
       " DotPFile(id=59 | name='lora_BW9_SF10_915MHz_20ksps_Att60_v0.p'),\n",
       " DotPFile(id=60 | name='lora_BW8_SF10_915MHz_20ksps_Att0_v0.p'),\n",
       " DotPFile(id=61 | name='lora_BW7_SF11_915MHz_20ksps_Att40_v0.p'),\n",
       " DotPFile(id=62 | name='lora_BW9_SF12_915MHz_20ksps_Att120_v0.p'),\n",
       " DotPFile(id=63 | name='lora_BW9_SF12_915MHz_20ksps_Att40_v0.p'),\n",
       " DotPFile(id=64 | name='lora_BW2_SF12_915MHz_20ksps_Att120_v0.p'),\n",
       " DotPFile(id=65 | name='lora_BW7_SF10_915MHz_20ksps_Att120_v0.p'),\n",
       " DotPFile(id=66 | name='lora_BW1_SF12_915MHz_20ksps_Att80_v0.p'),\n",
       " DotPFile(id=67 | name='lora_BW7_SF12_915MHz_20ksps_Att40_v0.p'),\n",
       " DotPFile(id=68 | name='lora_BW7_SF11_915MHz_20ksps_Att20_v0.p'),\n",
       " DotPFile(id=69 | name='lora_BW7_SF12_915MHz_20ksps_Att60_v0.p'),\n",
       " DotPFile(id=70 | name='lora_BW2_SF11_915MHz_20ksps_Att140_v0.p'),\n",
       " DotPFile(id=71 | name='lora_BW8_SF12_915MHz_20ksps_Att100_v0.p'),\n",
       " DotPFile(id=72 | name='lora_BW7_SF10_915MHz_20ksps_Att60_v0.p'),\n",
       " DotPFile(id=73 | name='lora_BW2_SF12_915MHz_20ksps_Att80_v0.p'),\n",
       " DotPFile(id=74 | name='lora_BW1_SF12_915MHz_20ksps_Att140_v0.p'),\n",
       " DotPFile(id=75 | name='lora_BW1_SF11_915MHz_20ksps_Att0_v0.p'),\n",
       " DotPFile(id=76 | name='lora_BW2_SF11_915MHz_20ksps_Att0_v0.p'),\n",
       " DotPFile(id=77 | name='lora_BW2_SF11_915MHz_20ksps_Att120_v0.p'),\n",
       " DotPFile(id=78 | name='lora_BW2_SF10_915MHz_20ksps_Att60_v0.p'),\n",
       " DotPFile(id=79 | name='lora_BW1_SF11_915MHz_20ksps_Att120_v0.p'),\n",
       " DotPFile(id=80 | name='lora_BW1_SF11_915MHz_20ksps_Att100_v0.p'),\n",
       " DotPFile(id=81 | name='lora_BW8_SF12_915MHz_20ksps_Att80_v0.p'),\n",
       " DotPFile(id=82 | name='lora_BW8_SF11_915MHz_20ksps_Att120_v0.p'),\n",
       " DotPFile(id=83 | name='lora_BW9_SF11_915MHz_20ksps_Att120_v0.p'),\n",
       " DotPFile(id=84 | name='lora_BW9_SF12_915MHz_20ksps_Att20_v0.p'),\n",
       " DotPFile(id=85 | name='lora_BW9_SF10_915MHz_20ksps_Att0_v0.p'),\n",
       " DotPFile(id=86 | name='lora_BW7_SF12_915MHz_20ksps_Att0_v0.p'),\n",
       " DotPFile(id=87 | name='lora_BW1_SF12_915MHz_20ksps_Att100_v0.p'),\n",
       " DotPFile(id=88 | name='lora_BW7_SF11_915MHz_20ksps_Att60_v0.p'),\n",
       " DotPFile(id=89 | name='lora_BW8_SF11_915MHz_20ksps_Att80_v0.p'),\n",
       " DotPFile(id=90 | name='lora_BW9_SF10_915MHz_20ksps_Att120_v0.p'),\n",
       " DotPFile(id=91 | name='lora_BW7_SF11_915MHz_20ksps_Att0_v0.p'),\n",
       " DotPFile(id=92 | name='lora_BW9_SF11_915MHz_20ksps_Att60_v0.p'),\n",
       " DotPFile(id=93 | name='lora_BW2_SF10_915MHz_20ksps_Att100_v0.p'),\n",
       " DotPFile(id=94 | name='lora_BW7_SF10_915MHz_20ksps_Att20_v0.p'),\n",
       " DotPFile(id=95 | name='lora_BW1_SF10_915MHz_20ksps_Att20_v0.p'),\n",
       " DotPFile(id=96 | name='lora_BW7_SF12_915MHz_20ksps_Att20_v0.p'),\n",
       " DotPFile(id=97 | name='lora_BW1_SF10_915MHz_20ksps_Att100_v0.p'),\n",
       " DotPFile(id=98 | name='lora_BW7_SF11_915MHz_20ksps_Att100_v0.p'),\n",
       " DotPFile(id=99 | name='lora_BW8_SF11_915MHz_20ksps_Att20_v0.p'),\n",
       " DotPFile(id=100 | name='lora_BW2_SF12_915MHz_20ksps_Att20_v0.p'),\n",
       " DotPFile(id=101 | name='lora_BW8_SF11_915MHz_20ksps_Att100_v0.p'),\n",
       " DotPFile(id=102 | name='lora_BW8_SF12_915MHz_20ksps_Att60_v0.p'),\n",
       " DotPFile(id=103 | name='lora_BW1_SF10_915MHz_20ksps_Att80_v0.p'),\n",
       " DotPFile(id=104 | name='lora_BW8_SF11_915MHz_20ksps_Att40_v0.p'),\n",
       " DotPFile(id=105 | name='lora_BW1_SF11_915MHz_20ksps_Att80_v0.p')]"
      ]
     },
     "execution_count": 5,
     "metadata": {},
     "output_type": "execute_result"
    }
   ],
   "source": [
    "symloader = lorapy.load_dotp(PROC_SYMBOL_DIR)\n",
    "symloader.file_list"
   ]
  },
  {
   "cell_type": "code",
   "execution_count": 6,
   "metadata": {
    "scrolled": true
   },
   "outputs": [
    {
     "name": "stdout",
     "output_type": "stream",
     "text": [
      "\u001b[32m2020-04-10 17:56:14.526\u001b[0m | \u001b[34m\u001b[1mDEBUG   \u001b[0m | \u001b[36mlorapy.io._base_loader\u001b[0m:\u001b[36m_validate_data_path\u001b[0m:\u001b[36m140\u001b[0m - \u001b[34m\u001b[1mset datafile directory: ../data/symbol-ref\u001b[0m\n",
      "\u001b[32m2020-04-10 17:56:14.528\u001b[0m | \u001b[1mINFO    \u001b[0m | \u001b[36mlorapy.io._base_loader\u001b[0m:\u001b[36m_process_data_dir\u001b[0m:\u001b[36m153\u001b[0m - \u001b[1mfound 15 data file(s)\u001b[0m\n"
     ]
    },
    {
     "data": {
      "text/plain": [
       "[DotPFile(id=0 | name='lora_BW1_SF10_915MHz_20ksps_Att0_v0.p'),\n",
       " DotPFile(id=1 | name='lora_BW1_SF12_915MHz_20ksps_Att0_v0.p'),\n",
       " DotPFile(id=2 | name='lora_BW9_SF12_915MHz_20ksps_Att0_v0.p'),\n",
       " DotPFile(id=3 | name='lora_BW2_SF10_915MHz_20ksps_Att0_v0.p'),\n",
       " DotPFile(id=4 | name='lora_BW9_SF11_915MHz_20ksps_Att0_v0.p'),\n",
       " DotPFile(id=5 | name='lora_BW2_SF12_915MHz_20ksps_Att0_v0.p'),\n",
       " DotPFile(id=6 | name='lora_BW8_SF12_915MHz_20ksps_Att0_v0.p'),\n",
       " DotPFile(id=7 | name='lora_BW7_SF10_915MHz_20ksps_Att0_v0.p'),\n",
       " DotPFile(id=8 | name='lora_BW8_SF11_915MHz_20ksps_Att0_v0.p'),\n",
       " DotPFile(id=9 | name='lora_BW8_SF10_915MHz_20ksps_Att0_v0.p'),\n",
       " DotPFile(id=10 | name='lora_BW1_SF11_915MHz_20ksps_Att0_v0.p'),\n",
       " DotPFile(id=11 | name='lora_BW2_SF11_915MHz_20ksps_Att0_v0.p'),\n",
       " DotPFile(id=12 | name='lora_BW9_SF10_915MHz_20ksps_Att0_v0.p'),\n",
       " DotPFile(id=13 | name='lora_BW7_SF12_915MHz_20ksps_Att0_v0.p'),\n",
       " DotPFile(id=14 | name='lora_BW7_SF11_915MHz_20ksps_Att0_v0.p')]"
      ]
     },
     "execution_count": 6,
     "metadata": {},
     "output_type": "execute_result"
    }
   ],
   "source": [
    "ploader = lorapy.load_dotp(DOTP_DATA_DIR)\n",
    "ploader.file_list"
   ]
  },
  {
   "cell_type": "markdown",
   "metadata": {},
   "source": [
    "## symbols"
   ]
  },
  {
   "cell_type": "code",
   "execution_count": 112,
   "metadata": {},
   "outputs": [
    {
     "name": "stdout",
     "output_type": "stream",
     "text": [
      "\u001b[32m2020-04-10 20:21:04.430\u001b[0m | \u001b[34m\u001b[1mDEBUG   \u001b[0m | \u001b[36mlorapy.datafile.encoding\u001b[0m:\u001b[36mcompute_params\u001b[0m:\u001b[36m15\u001b[0m - \u001b[34m\u001b[1mcomputed samples per symbol: 800 and packet length: 24200\u001b[0m\n",
      "\u001b[32m2020-04-10 20:21:04.568\u001b[0m | \u001b[1mINFO    \u001b[0m | \u001b[36mlorapy.datafile._base_file\u001b[0m:\u001b[36mload\u001b[0m:\u001b[36m61\u001b[0m - \u001b[1mloaded 5913600 samples from file\u001b[0m\n"
     ]
    },
    {
     "data": {
      "text/plain": [
       "DotPFile(id=29 | name='lora_BW9_SF11_915MHz_20ksps_Att40_v0.p')"
      ]
     },
     "metadata": {},
     "output_type": "display_data"
    },
    {
     "data": {
      "text/plain": [
       "DotPFile(id=4 | name='lora_BW9_SF11_915MHz_20ksps_Att0_v0.p')"
      ]
     },
     "metadata": {},
     "output_type": "display_data"
    },
    {
     "name": "stdout",
     "output_type": "stream",
     "text": [
      "\u001b[32m2020-04-10 20:21:04.575\u001b[0m | \u001b[34m\u001b[1mDEBUG   \u001b[0m | \u001b[36mlorapy.datafile.encoding\u001b[0m:\u001b[36mcompute_params\u001b[0m:\u001b[36m15\u001b[0m - \u001b[34m\u001b[1mcomputed samples per symbol: 800 and packet length: 24200\u001b[0m\n",
      "\u001b[32m2020-04-10 20:21:04.576\u001b[0m | \u001b[1mINFO    \u001b[0m | \u001b[36mlorapy.datafile._base_file\u001b[0m:\u001b[36mload\u001b[0m:\u001b[36m61\u001b[0m - \u001b[1mloaded 799 samples from file\u001b[0m\n"
     ]
    },
    {
     "data": {
      "text/plain": [
       "BaselineSymbolSet(num symbols=799 | BW: 9 | SF: 11 | Att: 0 | samples per symbol: 800 | packet length: 24200)"
      ]
     },
     "metadata": {},
     "output_type": "display_data"
    }
   ],
   "source": [
    "file = symloader.select(29)\n",
    "file.load()\n",
    "display(file)\n",
    "\n",
    "pfile = _load_matching_dotp(file.bw, file.sf)\n",
    "display(pfile)\n",
    "\n",
    "base_symbol = pfile.to_signal()\n",
    "display(base_symbol)"
   ]
  },
  {
   "cell_type": "code",
   "execution_count": 113,
   "metadata": {},
   "outputs": [
    {
     "data": {
      "text/plain": [
       "BaselineSymbolSet(num symbols=7392 | BW: 9 | SF: 11 | Att: 40 | samples per symbol: 800 | packet length: 24200)"
      ]
     },
     "execution_count": 113,
     "metadata": {},
     "output_type": "execute_result"
    }
   ],
   "source": [
    "symbols = file.to_signal()\n",
    "symbols"
   ]
  },
  {
   "cell_type": "code",
   "execution_count": null,
   "metadata": {},
   "outputs": [],
   "source": []
  },
  {
   "cell_type": "markdown",
   "metadata": {},
   "source": [
    "# symbol filtering"
   ]
  },
  {
   "cell_type": "code",
   "execution_count": 63,
   "metadata": {
    "jupyter": {
     "source_hidden": true
    }
   },
   "outputs": [],
   "source": [
    "def filter_symbols(file, thresh_type='window', plot=False):\n",
    "    symbols = file.to_signal()\n",
    "    display(symbols)\n",
    "\n",
    "    pfile = _load_matching_dotp(file.bw, file.sf)\n",
    "    base_symbol = pfile.to_signal()\n",
    "    display(base_symbol)\n",
    "    \n",
    "    conv_vals = [\n",
    "        base_symbol.convolve(sym)\n",
    "        for sym in symbols.data\n",
    "    ]\n",
    "    \n",
    "    thresh = (\n",
    "        np.quantile(conv_vals, [0.25])[0] if thresh_type == 'quant' \n",
    "        else (0.9, 1.1) if thresh_type == 'window' \n",
    "        else np.mean(conv_vals)/2\n",
    "    )\n",
    "    logger.info(f'set threshold: {thresh:0.4f}')\n",
    "    \n",
    "    if plot:\n",
    "        df = pd.DataFrame(conv_vals).rename(columns={0: 'data'})\n",
    "        df.plot.hist(bins=30)\n",
    "    \n",
    "    if thresh_type == 'window':\n",
    "        filtered_syms = np.vstack([\n",
    "            sym for sym, conv in zip(symbols.data, conv_vals)\n",
    "            if conv > thresh[0] and conv < thresh[1]\n",
    "        ])\n",
    "    else:\n",
    "        filtered_syms = np.vstack([\n",
    "            sym for sym, conv in zip(symbols.data, conv_vals)\n",
    "            if conv > thresh\n",
    "        ])\n",
    "\n",
    "    _removed_syms = symbols.data.shape[0] - len(filtered_syms)\n",
    "    logger.warning(f'removed {_removed_syms} symbols  [{len(filtered_syms)} / {symbols.data.shape[0]}]')\n",
    "    \n",
    "    if plot:\n",
    "        _plot_check(filtered_syms, 40)\n",
    "        \n",
    "    return filtered_syms, conv_vals"
   ]
  },
  {
   "cell_type": "code",
   "execution_count": 241,
   "metadata": {},
   "outputs": [],
   "source": [
    "def _fft_convolve_autocorr(symbol: np.ndarray):\n",
    "    return spsig.fftconvolve(symbol, symbol[::-1], mode='full')\n",
    "\n",
    "def _sp_corr(base_symbol: np.ndarray, packet_slice: np.ndarray) -> float:\n",
    "    min_size = np.min((base_symbol.size, packet_slice.size))\n",
    "    corr = spsig.correlate(base_symbol, packet_slice)\n",
    "    return np.abs(corr.max())\n",
    "    \n",
    "\n",
    "def filter_symbols_fftcorr(file, plot=False):\n",
    "    symbols = file.to_signal()\n",
    "    display(symbols)\n",
    "\n",
    "    pfile = _load_matching_dotp(file.bw, file.sf)\n",
    "    base_symbol = pfile.to_signal()\n",
    "    display(base_symbol)\n",
    "    \n",
    "\n",
    "    corr_fftconvs = np.vstack([\n",
    "        _sp_corr(base_symbol.data, _fft_convolve_autocorr(sym))\n",
    "        for sym in symbols.data\n",
    "    ])\n",
    "    \n",
    "    thresh = corr_fftconvs.mean()\n",
    "    logger.info(f'set threshold: {thresh:0.4f}')\n",
    "    \n",
    "    filtered_symbols = [\n",
    "        sym for sym, corr in zip(symbols.data, corr_fftconvs)\n",
    "        if corr > thresh\n",
    "    ]\n",
    "    \n",
    "    _removed_syms = symbols.data.shape[0] - len(filtered_symbols)\n",
    "    logger.warning(f'removed {_removed_syms} symbols  [{len(filtered_symbols)} / {symbols.data.shape[0]}]')\n",
    "    \n",
    "    if plot:\n",
    "        _plot_check(filtered_symbols, 40)\n",
    "        \n",
    "    return filtered_symbols, corr_fftconvs"
   ]
  },
  {
   "cell_type": "code",
   "execution_count": 17,
   "metadata": {
    "collapsed": true,
    "jupyter": {
     "outputs_hidden": true,
     "source_hidden": true
    },
    "scrolled": true
   },
   "outputs": [
    {
     "name": "stderr",
     "output_type": "stream",
     "text": [
      "  0%|          | 0/106 [00:00<?, ?it/s]"
     ]
    },
    {
     "name": "stdout",
     "output_type": "stream",
     "text": [
      "\u001b[32m2020-04-10 18:07:03.608\u001b[0m | \u001b[33m\u001b[1mWARNING \u001b[0m | \u001b[36m__main__\u001b[0m:\u001b[36m<module>\u001b[0m:\u001b[36m2\u001b[0m - \u001b[33m\u001b[1mworking file DotPFile(id=0 | name='lora_BW1_SF10_915MHz_20ksps_Att0_v0.p')\u001b[0m\n",
      "\u001b[32m2020-04-10 18:07:03.609\u001b[0m | \u001b[34m\u001b[1mDEBUG   \u001b[0m | \u001b[36mlorapy.datafile.encoding\u001b[0m:\u001b[36mcompute_params\u001b[0m:\u001b[36m15\u001b[0m - \u001b[34m\u001b[1mcomputed samples per symbol: 19198 and packet length: 580739\u001b[0m\n",
      "\u001b[32m2020-04-10 18:07:04.018\u001b[0m | \u001b[1mINFO    \u001b[0m | \u001b[36mlorapy.datafile._base_file\u001b[0m:\u001b[36mload\u001b[0m:\u001b[36m61\u001b[0m - \u001b[1mloaded 8907872 samples from file\u001b[0m\n"
     ]
    },
    {
     "data": {
      "text/plain": [
       "BaselineSymbolSet(num symbols=464 | BW: 1 | SF: 10 | Att: 0 | samples per symbol: 19198 | packet length: 580739)"
      ]
     },
     "metadata": {},
     "output_type": "display_data"
    },
    {
     "name": "stdout",
     "output_type": "stream",
     "text": [
      "\u001b[32m2020-04-10 18:07:04.021\u001b[0m | \u001b[34m\u001b[1mDEBUG   \u001b[0m | \u001b[36mlorapy.datafile.encoding\u001b[0m:\u001b[36mcompute_params\u001b[0m:\u001b[36m15\u001b[0m - \u001b[34m\u001b[1mcomputed samples per symbol: 19198 and packet length: 580739\u001b[0m\n",
      "\u001b[32m2020-04-10 18:07:04.023\u001b[0m | \u001b[1mINFO    \u001b[0m | \u001b[36mlorapy.datafile._base_file\u001b[0m:\u001b[36mload\u001b[0m:\u001b[36m61\u001b[0m - \u001b[1mloaded 19197 samples from file\u001b[0m\n"
     ]
    },
    {
     "data": {
      "text/plain": [
       "BaselineSymbolSet(num symbols=19197 | BW: 1 | SF: 10 | Att: 0 | samples per symbol: 19198 | packet length: 580739)"
      ]
     },
     "metadata": {},
     "output_type": "display_data"
    },
    {
     "name": "stdout",
     "output_type": "stream",
     "text": [
      "\u001b[32m2020-04-10 18:08:40.881\u001b[0m | \u001b[1mINFO    \u001b[0m | \u001b[36m__main__\u001b[0m:\u001b[36mfilter_symbols\u001b[0m:\u001b[36m15\u001b[0m - \u001b[1mset threshold: 0.6722\u001b[0m\n",
      "\u001b[32m2020-04-10 18:08:41.199\u001b[0m | \u001b[33m\u001b[1mWARNING \u001b[0m | \u001b[36m__main__\u001b[0m:\u001b[36mfilter_symbols\u001b[0m:\u001b[36m27\u001b[0m - \u001b[33m\u001b[1mremoved 116 symbols  [348 / 464]\u001b[0m\n"
     ]
    },
    {
     "name": "stderr",
     "output_type": "stream",
     "text": [
      "  1%|          | 1/106 [01:37<2:51:29, 98.00s/it]"
     ]
    },
    {
     "name": "stdout",
     "output_type": "stream",
     "text": [
      "\u001b[32m2020-04-10 18:08:41.605\u001b[0m | \u001b[33m\u001b[1mWARNING \u001b[0m | \u001b[36m__main__\u001b[0m:\u001b[36m<module>\u001b[0m:\u001b[36m2\u001b[0m - \u001b[33m\u001b[1mworking file DotPFile(id=1 | name='lora_BW2_SF12_915MHz_20ksps_Att40_v0.p')\u001b[0m\n",
      "\u001b[32m2020-04-10 18:08:41.606\u001b[0m | \u001b[34m\u001b[1mDEBUG   \u001b[0m | \u001b[36mlorapy.datafile.encoding\u001b[0m:\u001b[36mcompute_params\u001b[0m:\u001b[36m15\u001b[0m - \u001b[34m\u001b[1mcomputed samples per symbol: 51197 and packet length: 1548709\u001b[0m\n",
      "\u001b[32m2020-04-10 18:08:42.018\u001b[0m | \u001b[1mINFO    \u001b[0m | \u001b[36mlorapy.datafile._base_file\u001b[0m:\u001b[36mload\u001b[0m:\u001b[36m61\u001b[0m - \u001b[1mloaded 9573839 samples from file\u001b[0m\n"
     ]
    },
    {
     "data": {
      "text/plain": [
       "BaselineSymbolSet(num symbols=187 | BW: 2 | SF: 12 | Att: 40 | samples per symbol: 51197 | packet length: 1548709)"
      ]
     },
     "metadata": {},
     "output_type": "display_data"
    },
    {
     "name": "stdout",
     "output_type": "stream",
     "text": [
      "\u001b[32m2020-04-10 18:08:42.021\u001b[0m | \u001b[34m\u001b[1mDEBUG   \u001b[0m | \u001b[36mlorapy.datafile.encoding\u001b[0m:\u001b[36mcompute_params\u001b[0m:\u001b[36m15\u001b[0m - \u001b[34m\u001b[1mcomputed samples per symbol: 51197 and packet length: 1548709\u001b[0m\n",
      "\u001b[32m2020-04-10 18:08:42.023\u001b[0m | \u001b[1mINFO    \u001b[0m | \u001b[36mlorapy.datafile._base_file\u001b[0m:\u001b[36mload\u001b[0m:\u001b[36m61\u001b[0m - \u001b[1mloaded 51197 samples from file\u001b[0m\n"
     ]
    },
    {
     "data": {
      "text/plain": [
       "BaselineSymbolSet(num symbols=51197 | BW: 2 | SF: 12 | Att: 0 | samples per symbol: 51197 | packet length: 1548709)"
      ]
     },
     "metadata": {},
     "output_type": "display_data"
    },
    {
     "name": "stdout",
     "output_type": "stream",
     "text": [
      "\u001b[32m2020-04-10 18:11:03.246\u001b[0m | \u001b[1mINFO    \u001b[0m | \u001b[36m__main__\u001b[0m:\u001b[36mfilter_symbols\u001b[0m:\u001b[36m15\u001b[0m - \u001b[1mset threshold: 5.2735\u001b[0m\n",
      "\u001b[32m2020-04-10 18:11:03.420\u001b[0m | \u001b[33m\u001b[1mWARNING \u001b[0m | \u001b[36m__main__\u001b[0m:\u001b[36mfilter_symbols\u001b[0m:\u001b[36m27\u001b[0m - \u001b[33m\u001b[1mremoved 47 symbols  [140 / 187]\u001b[0m\n"
     ]
    },
    {
     "name": "stderr",
     "output_type": "stream",
     "text": [
      "  2%|▏         | 2/106 [04:00<3:12:57, 111.32s/it]"
     ]
    },
    {
     "name": "stdout",
     "output_type": "stream",
     "text": [
      "\u001b[32m2020-04-10 18:11:04.016\u001b[0m | \u001b[33m\u001b[1mWARNING \u001b[0m | \u001b[36m__main__\u001b[0m:\u001b[36m<module>\u001b[0m:\u001b[36m2\u001b[0m - \u001b[33m\u001b[1mworking file DotPFile(id=2 | name='lora_BW8_SF12_915MHz_20ksps_Att120_v0.p')\u001b[0m\n",
      "\u001b[32m2020-04-10 18:11:04.017\u001b[0m | \u001b[34m\u001b[1mDEBUG   \u001b[0m | \u001b[36mlorapy.datafile.encoding\u001b[0m:\u001b[36mcompute_params\u001b[0m:\u001b[36m15\u001b[0m - \u001b[34m\u001b[1mcomputed samples per symbol: 3198 and packet length: 96739\u001b[0m\n",
      "\u001b[32m2020-04-10 18:11:04.129\u001b[0m | \u001b[1mINFO    \u001b[0m | \u001b[36mlorapy.datafile._base_file\u001b[0m:\u001b[36mload\u001b[0m:\u001b[36m61\u001b[0m - \u001b[1mloaded 6613464 samples from file\u001b[0m\n"
     ]
    },
    {
     "name": "stderr",
     "output_type": "stream",
     "text": [
      "  3%|▎         | 3/106 [04:00<2:13:49, 77.96s/it] "
     ]
    },
    {
     "name": "stdout",
     "output_type": "stream",
     "text": [
      "\u001b[32m2020-04-10 18:11:04.131\u001b[0m | \u001b[33m\u001b[1mWARNING \u001b[0m | \u001b[36m__main__\u001b[0m:\u001b[36m<module>\u001b[0m:\u001b[36m2\u001b[0m - \u001b[33m\u001b[1mworking file DotPFile(id=3 | name='lora_BW1_SF10_915MHz_20ksps_Att140_v0.p')\u001b[0m\n",
      "\u001b[32m2020-04-10 18:11:04.132\u001b[0m | \u001b[34m\u001b[1mDEBUG   \u001b[0m | \u001b[36mlorapy.datafile.encoding\u001b[0m:\u001b[36mcompute_params\u001b[0m:\u001b[36m15\u001b[0m - \u001b[34m\u001b[1mcomputed samples per symbol: 19198 and packet length: 580739\u001b[0m\n",
      "\u001b[32m2020-04-10 18:11:04.316\u001b[0m | \u001b[1mINFO    \u001b[0m | \u001b[36mlorapy.datafile._base_file\u001b[0m:\u001b[36mload\u001b[0m:\u001b[36m61\u001b[0m - \u001b[1mloaded 8178348 samples from file\u001b[0m\n"
     ]
    },
    {
     "data": {
      "text/plain": [
       "BaselineSymbolSet(num symbols=426 | BW: 1 | SF: 10 | Att: 140 | samples per symbol: 19198 | packet length: 580739)"
      ]
     },
     "metadata": {},
     "output_type": "display_data"
    },
    {
     "name": "stdout",
     "output_type": "stream",
     "text": [
      "\u001b[32m2020-04-10 18:11:04.321\u001b[0m | \u001b[34m\u001b[1mDEBUG   \u001b[0m | \u001b[36mlorapy.datafile.encoding\u001b[0m:\u001b[36mcompute_params\u001b[0m:\u001b[36m15\u001b[0m - \u001b[34m\u001b[1mcomputed samples per symbol: 19198 and packet length: 580739\u001b[0m\n",
      "\u001b[32m2020-04-10 18:11:04.323\u001b[0m | \u001b[1mINFO    \u001b[0m | \u001b[36mlorapy.datafile._base_file\u001b[0m:\u001b[36mload\u001b[0m:\u001b[36m61\u001b[0m - \u001b[1mloaded 19197 samples from file\u001b[0m\n"
     ]
    },
    {
     "data": {
      "text/plain": [
       "BaselineSymbolSet(num symbols=19197 | BW: 1 | SF: 10 | Att: 0 | samples per symbol: 19198 | packet length: 580739)"
      ]
     },
     "metadata": {},
     "output_type": "display_data"
    },
    {
     "name": "stdout",
     "output_type": "stream",
     "text": [
      "\u001b[32m2020-04-10 18:11:56.213\u001b[0m | \u001b[1mINFO    \u001b[0m | \u001b[36m__main__\u001b[0m:\u001b[36mfilter_symbols\u001b[0m:\u001b[36m15\u001b[0m - \u001b[1mset threshold: 8553.0122\u001b[0m\n",
      "\u001b[32m2020-04-10 18:11:56.244\u001b[0m | \u001b[33m\u001b[1mWARNING \u001b[0m | \u001b[36m__main__\u001b[0m:\u001b[36mfilter_symbols\u001b[0m:\u001b[36m27\u001b[0m - \u001b[33m\u001b[1mremoved 107 symbols  [319 / 426]\u001b[0m\n"
     ]
    },
    {
     "name": "stderr",
     "output_type": "stream",
     "text": [
      "  4%|▍         | 4/106 [04:52<1:59:23, 70.23s/it]"
     ]
    },
    {
     "name": "stdout",
     "output_type": "stream",
     "text": [
      "\u001b[32m2020-04-10 18:11:56.337\u001b[0m | \u001b[33m\u001b[1mWARNING \u001b[0m | \u001b[36m__main__\u001b[0m:\u001b[36m<module>\u001b[0m:\u001b[36m2\u001b[0m - \u001b[33m\u001b[1mworking file DotPFile(id=4 | name='lora_BW1_SF12_915MHz_20ksps_Att0_v0.p')\u001b[0m\n",
      "\u001b[32m2020-04-10 18:11:56.339\u001b[0m | \u001b[34m\u001b[1mDEBUG   \u001b[0m | \u001b[36mlorapy.datafile.encoding\u001b[0m:\u001b[36mcompute_params\u001b[0m:\u001b[36m15\u001b[0m - \u001b[34m\u001b[1mcomputed samples per symbol: 76801 and packet length: 2323230\u001b[0m\n",
      "\u001b[32m2020-04-10 18:11:56.670\u001b[0m | \u001b[1mINFO    \u001b[0m | \u001b[36mlorapy.datafile._base_file\u001b[0m:\u001b[36mload\u001b[0m:\u001b[36m61\u001b[0m - \u001b[1mloaded 8448110 samples from file\u001b[0m\n"
     ]
    },
    {
     "data": {
      "text/plain": [
       "BaselineSymbolSet(num symbols=110 | BW: 1 | SF: 12 | Att: 0 | samples per symbol: 76801 | packet length: 2323230)"
      ]
     },
     "metadata": {},
     "output_type": "display_data"
    },
    {
     "name": "stdout",
     "output_type": "stream",
     "text": [
      "\u001b[32m2020-04-10 18:11:56.675\u001b[0m | \u001b[34m\u001b[1mDEBUG   \u001b[0m | \u001b[36mlorapy.datafile.encoding\u001b[0m:\u001b[36mcompute_params\u001b[0m:\u001b[36m15\u001b[0m - \u001b[34m\u001b[1mcomputed samples per symbol: 76801 and packet length: 2323230\u001b[0m\n",
      "\u001b[32m2020-04-10 18:11:56.677\u001b[0m | \u001b[1mINFO    \u001b[0m | \u001b[36mlorapy.datafile._base_file\u001b[0m:\u001b[36mload\u001b[0m:\u001b[36m61\u001b[0m - \u001b[1mloaded 76800 samples from file\u001b[0m\n"
     ]
    },
    {
     "data": {
      "text/plain": [
       "BaselineSymbolSet(num symbols=76800 | BW: 1 | SF: 12 | Att: 0 | samples per symbol: 76801 | packet length: 2323230)"
      ]
     },
     "metadata": {},
     "output_type": "display_data"
    },
    {
     "name": "stdout",
     "output_type": "stream",
     "text": [
      "\u001b[32m2020-04-10 18:14:27.386\u001b[0m | \u001b[1mINFO    \u001b[0m | \u001b[36m__main__\u001b[0m:\u001b[36mfilter_symbols\u001b[0m:\u001b[36m15\u001b[0m - \u001b[1mset threshold: 0.6749\u001b[0m\n",
      "\u001b[32m2020-04-10 18:14:27.455\u001b[0m | \u001b[33m\u001b[1mWARNING \u001b[0m | \u001b[36m__main__\u001b[0m:\u001b[36mfilter_symbols\u001b[0m:\u001b[36m27\u001b[0m - \u001b[33m\u001b[1mremoved 28 symbols  [82 / 110]\u001b[0m\n"
     ]
    },
    {
     "name": "stderr",
     "output_type": "stream",
     "text": [
      "  5%|▍         | 5/106 [07:24<2:39:10, 94.56s/it]"
     ]
    },
    {
     "name": "stdout",
     "output_type": "stream",
     "text": [
      "\u001b[32m2020-04-10 18:14:27.658\u001b[0m | \u001b[33m\u001b[1mWARNING \u001b[0m | \u001b[36m__main__\u001b[0m:\u001b[36m<module>\u001b[0m:\u001b[36m2\u001b[0m - \u001b[33m\u001b[1mworking file DotPFile(id=5 | name='lora_BW1_SF12_915MHz_20ksps_Att60_v0.p')\u001b[0m\n",
      "\u001b[32m2020-04-10 18:14:27.659\u001b[0m | \u001b[34m\u001b[1mDEBUG   \u001b[0m | \u001b[36mlorapy.datafile.encoding\u001b[0m:\u001b[36mcompute_params\u001b[0m:\u001b[36m15\u001b[0m - \u001b[34m\u001b[1mcomputed samples per symbol: 76801 and packet length: 2323230\u001b[0m\n",
      "\u001b[32m2020-04-10 18:14:27.821\u001b[0m | \u001b[1mINFO    \u001b[0m | \u001b[36mlorapy.datafile._base_file\u001b[0m:\u001b[36mload\u001b[0m:\u001b[36m61\u001b[0m - \u001b[1mloaded 8448110 samples from file\u001b[0m\n"
     ]
    },
    {
     "data": {
      "text/plain": [
       "BaselineSymbolSet(num symbols=110 | BW: 1 | SF: 12 | Att: 60 | samples per symbol: 76801 | packet length: 2323230)"
      ]
     },
     "metadata": {},
     "output_type": "display_data"
    },
    {
     "name": "stdout",
     "output_type": "stream",
     "text": [
      "\u001b[32m2020-04-10 18:14:27.826\u001b[0m | \u001b[34m\u001b[1mDEBUG   \u001b[0m | \u001b[36mlorapy.datafile.encoding\u001b[0m:\u001b[36mcompute_params\u001b[0m:\u001b[36m15\u001b[0m - \u001b[34m\u001b[1mcomputed samples per symbol: 76801 and packet length: 2323230\u001b[0m\n",
      "\u001b[32m2020-04-10 18:14:27.828\u001b[0m | \u001b[1mINFO    \u001b[0m | \u001b[36mlorapy.datafile._base_file\u001b[0m:\u001b[36mload\u001b[0m:\u001b[36m61\u001b[0m - \u001b[1mloaded 76800 samples from file\u001b[0m\n"
     ]
    },
    {
     "data": {
      "text/plain": [
       "BaselineSymbolSet(num symbols=76800 | BW: 1 | SF: 12 | Att: 0 | samples per symbol: 76801 | packet length: 2323230)"
      ]
     },
     "metadata": {},
     "output_type": "display_data"
    },
    {
     "name": "stdout",
     "output_type": "stream",
     "text": [
      "\u001b[32m2020-04-10 18:16:24.679\u001b[0m | \u001b[1mINFO    \u001b[0m | \u001b[36m__main__\u001b[0m:\u001b[36mfilter_symbols\u001b[0m:\u001b[36m15\u001b[0m - \u001b[1mset threshold: 55.5604\u001b[0m\n",
      "\u001b[32m2020-04-10 18:16:24.748\u001b[0m | \u001b[33m\u001b[1mWARNING \u001b[0m | \u001b[36m__main__\u001b[0m:\u001b[36mfilter_symbols\u001b[0m:\u001b[36m27\u001b[0m - \u001b[33m\u001b[1mremoved 28 symbols  [82 / 110]\u001b[0m\n"
     ]
    },
    {
     "name": "stderr",
     "output_type": "stream",
     "text": [
      "  6%|▌         | 6/106 [09:21<2:48:55, 101.36s/it]"
     ]
    },
    {
     "name": "stdout",
     "output_type": "stream",
     "text": [
      "\u001b[32m2020-04-10 18:16:24.870\u001b[0m | \u001b[33m\u001b[1mWARNING \u001b[0m | \u001b[36m__main__\u001b[0m:\u001b[36m<module>\u001b[0m:\u001b[36m2\u001b[0m - \u001b[33m\u001b[1mworking file DotPFile(id=6 | name='lora_BW7_SF10_915MHz_20ksps_Att40_v0.p')\u001b[0m\n",
      "\u001b[32m2020-04-10 18:16:24.871\u001b[0m | \u001b[34m\u001b[1mDEBUG   \u001b[0m | \u001b[36mlorapy.datafile.encoding\u001b[0m:\u001b[36mcompute_params\u001b[0m:\u001b[36m15\u001b[0m - \u001b[34m\u001b[1mcomputed samples per symbol: 1599 and packet length: 48369\u001b[0m\n",
      "\u001b[32m2020-04-10 18:16:25.017\u001b[0m | \u001b[1mINFO    \u001b[0m | \u001b[36mlorapy.datafile._base_file\u001b[0m:\u001b[36mload\u001b[0m:\u001b[36m61\u001b[0m - \u001b[1mloaded 6728592 samples from file\u001b[0m\n"
     ]
    },
    {
     "data": {
      "text/plain": [
       "BaselineSymbolSet(num symbols=4208 | BW: 7 | SF: 10 | Att: 40 | samples per symbol: 1599 | packet length: 48369)"
      ]
     },
     "metadata": {},
     "output_type": "display_data"
    },
    {
     "name": "stdout",
     "output_type": "stream",
     "text": [
      "\u001b[32m2020-04-10 18:16:25.021\u001b[0m | \u001b[34m\u001b[1mDEBUG   \u001b[0m | \u001b[36mlorapy.datafile.encoding\u001b[0m:\u001b[36mcompute_params\u001b[0m:\u001b[36m15\u001b[0m - \u001b[34m\u001b[1mcomputed samples per symbol: 1599 and packet length: 48369\u001b[0m\n",
      "\u001b[32m2020-04-10 18:16:25.022\u001b[0m | \u001b[1mINFO    \u001b[0m | \u001b[36mlorapy.datafile._base_file\u001b[0m:\u001b[36mload\u001b[0m:\u001b[36m61\u001b[0m - \u001b[1mloaded 1599 samples from file\u001b[0m\n"
     ]
    },
    {
     "data": {
      "text/plain": [
       "BaselineSymbolSet(num symbols=1599 | BW: 7 | SF: 10 | Att: 0 | samples per symbol: 1599 | packet length: 48369)"
      ]
     },
     "metadata": {},
     "output_type": "display_data"
    },
    {
     "name": "stdout",
     "output_type": "stream",
     "text": [
      "\u001b[32m2020-04-10 18:16:28.535\u001b[0m | \u001b[1mINFO    \u001b[0m | \u001b[36m__main__\u001b[0m:\u001b[36mfilter_symbols\u001b[0m:\u001b[36m15\u001b[0m - \u001b[1mset threshold: 1.5714\u001b[0m\n",
      "\u001b[32m2020-04-10 18:16:28.575\u001b[0m | \u001b[33m\u001b[1mWARNING \u001b[0m | \u001b[36m__main__\u001b[0m:\u001b[36mfilter_symbols\u001b[0m:\u001b[36m27\u001b[0m - \u001b[33m\u001b[1mremoved 1052 symbols  [3156 / 4208]\u001b[0m\n"
     ]
    },
    {
     "name": "stderr",
     "output_type": "stream",
     "text": [
      "  7%|▋         | 7/106 [09:25<1:58:56, 72.08s/it] "
     ]
    },
    {
     "name": "stdout",
     "output_type": "stream",
     "text": [
      "\u001b[32m2020-04-10 18:16:28.646\u001b[0m | \u001b[33m\u001b[1mWARNING \u001b[0m | \u001b[36m__main__\u001b[0m:\u001b[36m<module>\u001b[0m:\u001b[36m2\u001b[0m - \u001b[33m\u001b[1mworking file DotPFile(id=7 | name='lora_BW2_SF10_915MHz_20ksps_Att40_v0.p')\u001b[0m\n",
      "\u001b[32m2020-04-10 18:16:28.647\u001b[0m | \u001b[34m\u001b[1mDEBUG   \u001b[0m | \u001b[36mlorapy.datafile.encoding\u001b[0m:\u001b[36mcompute_params\u001b[0m:\u001b[36m15\u001b[0m - \u001b[34m\u001b[1mcomputed samples per symbol: 12802 and packet length: 387260\u001b[0m\n",
      "\u001b[32m2020-04-10 18:16:28.953\u001b[0m | \u001b[1mINFO    \u001b[0m | \u001b[36mlorapy.datafile._base_file\u001b[0m:\u001b[36mload\u001b[0m:\u001b[36m61\u001b[0m - \u001b[1mloaded 8641350 samples from file\u001b[0m\n"
     ]
    },
    {
     "data": {
      "text/plain": [
       "BaselineSymbolSet(num symbols=675 | BW: 2 | SF: 10 | Att: 40 | samples per symbol: 12802 | packet length: 387260)"
      ]
     },
     "metadata": {},
     "output_type": "display_data"
    },
    {
     "name": "stdout",
     "output_type": "stream",
     "text": [
      "\u001b[32m2020-04-10 18:16:28.957\u001b[0m | \u001b[34m\u001b[1mDEBUG   \u001b[0m | \u001b[36mlorapy.datafile.encoding\u001b[0m:\u001b[36mcompute_params\u001b[0m:\u001b[36m15\u001b[0m - \u001b[34m\u001b[1mcomputed samples per symbol: 12802 and packet length: 387260\u001b[0m\n",
      "\u001b[32m2020-04-10 18:16:28.959\u001b[0m | \u001b[1mINFO    \u001b[0m | \u001b[36mlorapy.datafile._base_file\u001b[0m:\u001b[36mload\u001b[0m:\u001b[36m61\u001b[0m - \u001b[1mloaded 12801 samples from file\u001b[0m\n"
     ]
    },
    {
     "data": {
      "text/plain": [
       "BaselineSymbolSet(num symbols=12801 | BW: 2 | SF: 10 | Att: 0 | samples per symbol: 12802 | packet length: 387260)"
      ]
     },
     "metadata": {},
     "output_type": "display_data"
    },
    {
     "name": "stdout",
     "output_type": "stream",
     "text": [
      "\u001b[32m2020-04-10 18:17:32.719\u001b[0m | \u001b[1mINFO    \u001b[0m | \u001b[36m__main__\u001b[0m:\u001b[36mfilter_symbols\u001b[0m:\u001b[36m15\u001b[0m - \u001b[1mset threshold: 5.6326\u001b[0m\n",
      "\u001b[32m2020-04-10 18:17:32.765\u001b[0m | \u001b[33m\u001b[1mWARNING \u001b[0m | \u001b[36m__main__\u001b[0m:\u001b[36mfilter_symbols\u001b[0m:\u001b[36m27\u001b[0m - \u001b[33m\u001b[1mremoved 169 symbols  [506 / 675]\u001b[0m\n"
     ]
    },
    {
     "name": "stderr",
     "output_type": "stream",
     "text": [
      "  8%|▊         | 8/106 [10:29<1:53:55, 69.75s/it]"
     ]
    },
    {
     "name": "stdout",
     "output_type": "stream",
     "text": [
      "\u001b[32m2020-04-10 18:17:32.954\u001b[0m | \u001b[33m\u001b[1mWARNING \u001b[0m | \u001b[36m__main__\u001b[0m:\u001b[36m<module>\u001b[0m:\u001b[36m2\u001b[0m - \u001b[33m\u001b[1mworking file DotPFile(id=8 | name='lora_BW9_SF12_915MHz_20ksps_Att0_v0.p')\u001b[0m\n",
      "\u001b[32m2020-04-10 18:17:32.956\u001b[0m | \u001b[34m\u001b[1mDEBUG   \u001b[0m | \u001b[36mlorapy.datafile.encoding\u001b[0m:\u001b[36mcompute_params\u001b[0m:\u001b[36m15\u001b[0m - \u001b[34m\u001b[1mcomputed samples per symbol: 1599 and packet length: 48369\u001b[0m\n",
      "\u001b[32m2020-04-10 18:17:33.123\u001b[0m | \u001b[1mINFO    \u001b[0m | \u001b[36mlorapy.datafile._base_file\u001b[0m:\u001b[36mload\u001b[0m:\u001b[36m61\u001b[0m - \u001b[1mloaded 4397250 samples from file\u001b[0m\n"
     ]
    },
    {
     "data": {
      "text/plain": [
       "BaselineSymbolSet(num symbols=2750 | BW: 9 | SF: 12 | Att: 0 | samples per symbol: 1599 | packet length: 48369)"
      ]
     },
     "metadata": {},
     "output_type": "display_data"
    },
    {
     "name": "stdout",
     "output_type": "stream",
     "text": [
      "\u001b[32m2020-04-10 18:17:33.128\u001b[0m | \u001b[34m\u001b[1mDEBUG   \u001b[0m | \u001b[36mlorapy.datafile.encoding\u001b[0m:\u001b[36mcompute_params\u001b[0m:\u001b[36m15\u001b[0m - \u001b[34m\u001b[1mcomputed samples per symbol: 1599 and packet length: 48369\u001b[0m\n",
      "\u001b[32m2020-04-10 18:17:33.129\u001b[0m | \u001b[1mINFO    \u001b[0m | \u001b[36mlorapy.datafile._base_file\u001b[0m:\u001b[36mload\u001b[0m:\u001b[36m61\u001b[0m - \u001b[1mloaded 1599 samples from file\u001b[0m\n"
     ]
    },
    {
     "data": {
      "text/plain": [
       "BaselineSymbolSet(num symbols=1599 | BW: 9 | SF: 12 | Att: 0 | samples per symbol: 1599 | packet length: 48369)"
      ]
     },
     "metadata": {},
     "output_type": "display_data"
    },
    {
     "name": "stdout",
     "output_type": "stream",
     "text": [
      "\u001b[32m2020-04-10 18:17:37.499\u001b[0m | \u001b[1mINFO    \u001b[0m | \u001b[36m__main__\u001b[0m:\u001b[36mfilter_symbols\u001b[0m:\u001b[36m15\u001b[0m - \u001b[1mset threshold: 0.1027\u001b[0m\n",
      "\u001b[32m2020-04-10 18:17:37.529\u001b[0m | \u001b[33m\u001b[1mWARNING \u001b[0m | \u001b[36m__main__\u001b[0m:\u001b[36mfilter_symbols\u001b[0m:\u001b[36m27\u001b[0m - \u001b[33m\u001b[1mremoved 688 symbols  [2062 / 2750]\u001b[0m\n"
     ]
    },
    {
     "name": "stderr",
     "output_type": "stream",
     "text": [
      "  8%|▊         | 9/106 [10:34<1:21:11, 50.22s/it]"
     ]
    },
    {
     "name": "stdout",
     "output_type": "stream",
     "text": [
      "\u001b[32m2020-04-10 18:17:37.617\u001b[0m | \u001b[33m\u001b[1mWARNING \u001b[0m | \u001b[36m__main__\u001b[0m:\u001b[36m<module>\u001b[0m:\u001b[36m2\u001b[0m - \u001b[33m\u001b[1mworking file DotPFile(id=9 | name='lora_BW2_SF12_915MHz_20ksps_Att60_v0.p')\u001b[0m\n",
      "\u001b[32m2020-04-10 18:17:37.618\u001b[0m | \u001b[34m\u001b[1mDEBUG   \u001b[0m | \u001b[36mlorapy.datafile.encoding\u001b[0m:\u001b[36mcompute_params\u001b[0m:\u001b[36m15\u001b[0m - \u001b[34m\u001b[1mcomputed samples per symbol: 51197 and packet length: 1548709\u001b[0m\n",
      "\u001b[32m2020-04-10 18:17:37.946\u001b[0m | \u001b[1mINFO    \u001b[0m | \u001b[36mlorapy.datafile._base_file\u001b[0m:\u001b[36mload\u001b[0m:\u001b[36m61\u001b[0m - \u001b[1mloaded 9573839 samples from file\u001b[0m\n"
     ]
    },
    {
     "data": {
      "text/plain": [
       "BaselineSymbolSet(num symbols=187 | BW: 2 | SF: 12 | Att: 60 | samples per symbol: 51197 | packet length: 1548709)"
      ]
     },
     "metadata": {},
     "output_type": "display_data"
    },
    {
     "name": "stdout",
     "output_type": "stream",
     "text": [
      "\u001b[32m2020-04-10 18:17:37.950\u001b[0m | \u001b[34m\u001b[1mDEBUG   \u001b[0m | \u001b[36mlorapy.datafile.encoding\u001b[0m:\u001b[36mcompute_params\u001b[0m:\u001b[36m15\u001b[0m - \u001b[34m\u001b[1mcomputed samples per symbol: 51197 and packet length: 1548709\u001b[0m\n",
      "\u001b[32m2020-04-10 18:17:37.952\u001b[0m | \u001b[1mINFO    \u001b[0m | \u001b[36mlorapy.datafile._base_file\u001b[0m:\u001b[36mload\u001b[0m:\u001b[36m61\u001b[0m - \u001b[1mloaded 51197 samples from file\u001b[0m\n"
     ]
    },
    {
     "data": {
      "text/plain": [
       "BaselineSymbolSet(num symbols=51197 | BW: 2 | SF: 12 | Att: 0 | samples per symbol: 51197 | packet length: 1548709)"
      ]
     },
     "metadata": {},
     "output_type": "display_data"
    },
    {
     "name": "stdout",
     "output_type": "stream",
     "text": [
      "\u001b[32m2020-04-10 18:19:57.488\u001b[0m | \u001b[1mINFO    \u001b[0m | \u001b[36m__main__\u001b[0m:\u001b[36mfilter_symbols\u001b[0m:\u001b[36m15\u001b[0m - \u001b[1mset threshold: 53.0498\u001b[0m\n",
      "\u001b[32m2020-04-10 18:19:57.561\u001b[0m | \u001b[33m\u001b[1mWARNING \u001b[0m | \u001b[36m__main__\u001b[0m:\u001b[36mfilter_symbols\u001b[0m:\u001b[36m27\u001b[0m - \u001b[33m\u001b[1mremoved 47 symbols  [140 / 187]\u001b[0m\n"
     ]
    },
    {
     "name": "stderr",
     "output_type": "stream",
     "text": [
      "  9%|▉         | 10/106 [12:54<2:03:31, 77.20s/it]"
     ]
    },
    {
     "name": "stdout",
     "output_type": "stream",
     "text": [
      "\u001b[32m2020-04-10 18:19:57.771\u001b[0m | \u001b[33m\u001b[1mWARNING \u001b[0m | \u001b[36m__main__\u001b[0m:\u001b[36m<module>\u001b[0m:\u001b[36m2\u001b[0m - \u001b[33m\u001b[1mworking file DotPFile(id=10 | name='lora_BW2_SF10_915MHz_20ksps_Att0_v0.p')\u001b[0m\n",
      "\u001b[32m2020-04-10 18:19:57.772\u001b[0m | \u001b[34m\u001b[1mDEBUG   \u001b[0m | \u001b[36mlorapy.datafile.encoding\u001b[0m:\u001b[36mcompute_params\u001b[0m:\u001b[36m15\u001b[0m - \u001b[34m\u001b[1mcomputed samples per symbol: 12802 and packet length: 387260\u001b[0m\n",
      "\u001b[32m2020-04-10 18:19:57.927\u001b[0m | \u001b[1mINFO    \u001b[0m | \u001b[36mlorapy.datafile._base_file\u001b[0m:\u001b[36mload\u001b[0m:\u001b[36m61\u001b[0m - \u001b[1mloaded 8743766 samples from file\u001b[0m\n"
     ]
    },
    {
     "data": {
      "text/plain": [
       "BaselineSymbolSet(num symbols=683 | BW: 2 | SF: 10 | Att: 0 | samples per symbol: 12802 | packet length: 387260)"
      ]
     },
     "metadata": {},
     "output_type": "display_data"
    },
    {
     "name": "stdout",
     "output_type": "stream",
     "text": [
      "\u001b[32m2020-04-10 18:19:57.931\u001b[0m | \u001b[34m\u001b[1mDEBUG   \u001b[0m | \u001b[36mlorapy.datafile.encoding\u001b[0m:\u001b[36mcompute_params\u001b[0m:\u001b[36m15\u001b[0m - \u001b[34m\u001b[1mcomputed samples per symbol: 12802 and packet length: 387260\u001b[0m\n",
      "\u001b[32m2020-04-10 18:19:57.932\u001b[0m | \u001b[1mINFO    \u001b[0m | \u001b[36mlorapy.datafile._base_file\u001b[0m:\u001b[36mload\u001b[0m:\u001b[36m61\u001b[0m - \u001b[1mloaded 12801 samples from file\u001b[0m\n"
     ]
    },
    {
     "data": {
      "text/plain": [
       "BaselineSymbolSet(num symbols=12801 | BW: 2 | SF: 10 | Att: 0 | samples per symbol: 12802 | packet length: 387260)"
      ]
     },
     "metadata": {},
     "output_type": "display_data"
    },
    {
     "name": "stdout",
     "output_type": "stream",
     "text": [
      "\u001b[32m2020-04-10 18:20:40.348\u001b[0m | \u001b[1mINFO    \u001b[0m | \u001b[36m__main__\u001b[0m:\u001b[36mfilter_symbols\u001b[0m:\u001b[36m15\u001b[0m - \u001b[1mset threshold: 0.6044\u001b[0m\n",
      "\u001b[32m2020-04-10 18:20:40.377\u001b[0m | \u001b[33m\u001b[1mWARNING \u001b[0m | \u001b[36m__main__\u001b[0m:\u001b[36mfilter_symbols\u001b[0m:\u001b[36m27\u001b[0m - \u001b[33m\u001b[1mremoved 171 symbols  [512 / 683]\u001b[0m\n"
     ]
    },
    {
     "name": "stderr",
     "output_type": "stream",
     "text": [
      " 10%|█         | 11/106 [13:36<1:45:51, 66.85s/it]"
     ]
    },
    {
     "name": "stdout",
     "output_type": "stream",
     "text": [
      "\u001b[32m2020-04-10 18:20:40.479\u001b[0m | \u001b[33m\u001b[1mWARNING \u001b[0m | \u001b[36m__main__\u001b[0m:\u001b[36m<module>\u001b[0m:\u001b[36m2\u001b[0m - \u001b[33m\u001b[1mworking file DotPFile(id=11 | name='lora_BW9_SF11_915MHz_20ksps_Att100_v0.p')\u001b[0m\n",
      "\u001b[32m2020-04-10 18:20:40.480\u001b[0m | \u001b[34m\u001b[1mDEBUG   \u001b[0m | \u001b[36mlorapy.datafile.encoding\u001b[0m:\u001b[36mcompute_params\u001b[0m:\u001b[36m15\u001b[0m - \u001b[34m\u001b[1mcomputed samples per symbol: 800 and packet length: 24200\u001b[0m\n",
      "\u001b[32m2020-04-10 18:20:40.686\u001b[0m | \u001b[1mINFO    \u001b[0m | \u001b[36mlorapy.datafile._base_file\u001b[0m:\u001b[36mload\u001b[0m:\u001b[36m61\u001b[0m - \u001b[1mloaded 5655200 samples from file\u001b[0m\n"
     ]
    },
    {
     "data": {
      "text/plain": [
       "BaselineSymbolSet(num symbols=7069 | BW: 9 | SF: 11 | Att: 100 | samples per symbol: 800 | packet length: 24200)"
      ]
     },
     "metadata": {},
     "output_type": "display_data"
    },
    {
     "name": "stdout",
     "output_type": "stream",
     "text": [
      "\u001b[32m2020-04-10 18:20:40.690\u001b[0m | \u001b[34m\u001b[1mDEBUG   \u001b[0m | \u001b[36mlorapy.datafile.encoding\u001b[0m:\u001b[36mcompute_params\u001b[0m:\u001b[36m15\u001b[0m - \u001b[34m\u001b[1mcomputed samples per symbol: 800 and packet length: 24200\u001b[0m\n",
      "\u001b[32m2020-04-10 18:20:40.691\u001b[0m | \u001b[1mINFO    \u001b[0m | \u001b[36mlorapy.datafile._base_file\u001b[0m:\u001b[36mload\u001b[0m:\u001b[36m61\u001b[0m - \u001b[1mloaded 799 samples from file\u001b[0m\n"
     ]
    },
    {
     "data": {
      "text/plain": [
       "BaselineSymbolSet(num symbols=799 | BW: 9 | SF: 11 | Att: 0 | samples per symbol: 800 | packet length: 24200)"
      ]
     },
     "metadata": {},
     "output_type": "display_data"
    },
    {
     "name": "stdout",
     "output_type": "stream",
     "text": [
      "\u001b[32m2020-04-10 18:20:43.669\u001b[0m | \u001b[1mINFO    \u001b[0m | \u001b[36m__main__\u001b[0m:\u001b[36mfilter_symbols\u001b[0m:\u001b[36m15\u001b[0m - \u001b[1mset threshold: 772.6039\u001b[0m\n",
      "\u001b[32m2020-04-10 18:20:43.711\u001b[0m | \u001b[33m\u001b[1mWARNING \u001b[0m | \u001b[36m__main__\u001b[0m:\u001b[36mfilter_symbols\u001b[0m:\u001b[36m27\u001b[0m - \u001b[33m\u001b[1mremoved 1768 symbols  [5301 / 7069]\u001b[0m\n"
     ]
    },
    {
     "name": "stderr",
     "output_type": "stream",
     "text": [
      " 11%|█▏        | 12/106 [13:40<1:14:53, 47.80s/it]"
     ]
    },
    {
     "name": "stdout",
     "output_type": "stream",
     "text": [
      "\u001b[32m2020-04-10 18:20:43.825\u001b[0m | \u001b[33m\u001b[1mWARNING \u001b[0m | \u001b[36m__main__\u001b[0m:\u001b[36m<module>\u001b[0m:\u001b[36m2\u001b[0m - \u001b[33m\u001b[1mworking file DotPFile(id=12 | name='lora_BW7_SF10_915MHz_20ksps_Att100_v0.p')\u001b[0m\n",
      "\u001b[32m2020-04-10 18:20:43.826\u001b[0m | \u001b[34m\u001b[1mDEBUG   \u001b[0m | \u001b[36mlorapy.datafile.encoding\u001b[0m:\u001b[36mcompute_params\u001b[0m:\u001b[36m15\u001b[0m - \u001b[34m\u001b[1mcomputed samples per symbol: 1599 and packet length: 48369\u001b[0m\n",
      "\u001b[32m2020-04-10 18:20:43.965\u001b[0m | \u001b[1mINFO    \u001b[0m | \u001b[36mlorapy.datafile._base_file\u001b[0m:\u001b[36mload\u001b[0m:\u001b[36m61\u001b[0m - \u001b[1mloaded 6899685 samples from file\u001b[0m\n"
     ]
    },
    {
     "data": {
      "text/plain": [
       "BaselineSymbolSet(num symbols=4315 | BW: 7 | SF: 10 | Att: 100 | samples per symbol: 1599 | packet length: 48369)"
      ]
     },
     "metadata": {},
     "output_type": "display_data"
    },
    {
     "name": "stdout",
     "output_type": "stream",
     "text": [
      "\u001b[32m2020-04-10 18:20:43.969\u001b[0m | \u001b[34m\u001b[1mDEBUG   \u001b[0m | \u001b[36mlorapy.datafile.encoding\u001b[0m:\u001b[36mcompute_params\u001b[0m:\u001b[36m15\u001b[0m - \u001b[34m\u001b[1mcomputed samples per symbol: 1599 and packet length: 48369\u001b[0m\n",
      "\u001b[32m2020-04-10 18:20:43.970\u001b[0m | \u001b[1mINFO    \u001b[0m | \u001b[36mlorapy.datafile._base_file\u001b[0m:\u001b[36mload\u001b[0m:\u001b[36m61\u001b[0m - \u001b[1mloaded 1599 samples from file\u001b[0m\n"
     ]
    },
    {
     "data": {
      "text/plain": [
       "BaselineSymbolSet(num symbols=1599 | BW: 7 | SF: 10 | Att: 0 | samples per symbol: 1599 | packet length: 48369)"
      ]
     },
     "metadata": {},
     "output_type": "display_data"
    },
    {
     "name": "stdout",
     "output_type": "stream",
     "text": [
      "\u001b[32m2020-04-10 18:20:47.439\u001b[0m | \u001b[1mINFO    \u001b[0m | \u001b[36m__main__\u001b[0m:\u001b[36mfilter_symbols\u001b[0m:\u001b[36m15\u001b[0m - \u001b[1mset threshold: 1351.3137\u001b[0m\n",
      "\u001b[32m2020-04-10 18:20:47.495\u001b[0m | \u001b[33m\u001b[1mWARNING \u001b[0m | \u001b[36m__main__\u001b[0m:\u001b[36mfilter_symbols\u001b[0m:\u001b[36m27\u001b[0m - \u001b[33m\u001b[1mremoved 1079 symbols  [3236 / 4315]\u001b[0m\n"
     ]
    },
    {
     "name": "stderr",
     "output_type": "stream",
     "text": [
      " 12%|█▏        | 13/106 [13:43<53:36, 34.58s/it]  "
     ]
    },
    {
     "name": "stdout",
     "output_type": "stream",
     "text": [
      "\u001b[32m2020-04-10 18:20:47.566\u001b[0m | \u001b[33m\u001b[1mWARNING \u001b[0m | \u001b[36m__main__\u001b[0m:\u001b[36m<module>\u001b[0m:\u001b[36m2\u001b[0m - \u001b[33m\u001b[1mworking file DotPFile(id=13 | name='lora_BW1_SF10_915MHz_20ksps_Att40_v0.p')\u001b[0m\n",
      "\u001b[32m2020-04-10 18:20:47.568\u001b[0m | \u001b[34m\u001b[1mDEBUG   \u001b[0m | \u001b[36mlorapy.datafile.encoding\u001b[0m:\u001b[36mcompute_params\u001b[0m:\u001b[36m15\u001b[0m - \u001b[34m\u001b[1mcomputed samples per symbol: 19198 and packet length: 580739\u001b[0m\n",
      "\u001b[32m2020-04-10 18:20:47.901\u001b[0m | \u001b[1mINFO    \u001b[0m | \u001b[36mlorapy.datafile._base_file\u001b[0m:\u001b[36mload\u001b[0m:\u001b[36m61\u001b[0m - \u001b[1mloaded 7525616 samples from file\u001b[0m\n"
     ]
    },
    {
     "data": {
      "text/plain": [
       "BaselineSymbolSet(num symbols=392 | BW: 1 | SF: 10 | Att: 40 | samples per symbol: 19198 | packet length: 580739)"
      ]
     },
     "metadata": {},
     "output_type": "display_data"
    },
    {
     "name": "stdout",
     "output_type": "stream",
     "text": [
      "\u001b[32m2020-04-10 18:20:47.906\u001b[0m | \u001b[34m\u001b[1mDEBUG   \u001b[0m | \u001b[36mlorapy.datafile.encoding\u001b[0m:\u001b[36mcompute_params\u001b[0m:\u001b[36m15\u001b[0m - \u001b[34m\u001b[1mcomputed samples per symbol: 19198 and packet length: 580739\u001b[0m\n",
      "\u001b[32m2020-04-10 18:20:47.907\u001b[0m | \u001b[1mINFO    \u001b[0m | \u001b[36mlorapy.datafile._base_file\u001b[0m:\u001b[36mload\u001b[0m:\u001b[36m61\u001b[0m - \u001b[1mloaded 19197 samples from file\u001b[0m\n"
     ]
    },
    {
     "data": {
      "text/plain": [
       "BaselineSymbolSet(num symbols=19197 | BW: 1 | SF: 10 | Att: 0 | samples per symbol: 19198 | packet length: 580739)"
      ]
     },
     "metadata": {},
     "output_type": "display_data"
    },
    {
     "name": "stdout",
     "output_type": "stream",
     "text": [
      "\u001b[32m2020-04-10 18:22:15.821\u001b[0m | \u001b[1mINFO    \u001b[0m | \u001b[36m__main__\u001b[0m:\u001b[36mfilter_symbols\u001b[0m:\u001b[36m15\u001b[0m - \u001b[1mset threshold: 6.1368\u001b[0m\n",
      "\u001b[32m2020-04-10 18:22:15.868\u001b[0m | \u001b[33m\u001b[1mWARNING \u001b[0m | \u001b[36m__main__\u001b[0m:\u001b[36mfilter_symbols\u001b[0m:\u001b[36m27\u001b[0m - \u001b[33m\u001b[1mremoved 98 symbols  [294 / 392]\u001b[0m\n"
     ]
    },
    {
     "name": "stderr",
     "output_type": "stream",
     "text": [
      " 13%|█▎        | 14/106 [15:12<1:17:50, 50.76s/it]"
     ]
    },
    {
     "name": "stdout",
     "output_type": "stream",
     "text": [
      "\u001b[32m2020-04-10 18:22:16.082\u001b[0m | \u001b[33m\u001b[1mWARNING \u001b[0m | \u001b[36m__main__\u001b[0m:\u001b[36m<module>\u001b[0m:\u001b[36m2\u001b[0m - \u001b[33m\u001b[1mworking file DotPFile(id=14 | name='lora_BW7_SF11_915MHz_20ksps_Att80_v0.p')\u001b[0m\n",
      "\u001b[32m2020-04-10 18:22:16.083\u001b[0m | \u001b[34m\u001b[1mDEBUG   \u001b[0m | \u001b[36mlorapy.datafile.encoding\u001b[0m:\u001b[36mcompute_params\u001b[0m:\u001b[36m15\u001b[0m - \u001b[34m\u001b[1mcomputed samples per symbol: 3198 and packet length: 96739\u001b[0m\n",
      "\u001b[32m2020-04-10 18:22:16.218\u001b[0m | \u001b[1mINFO    \u001b[0m | \u001b[36mlorapy.datafile._base_file\u001b[0m:\u001b[36mload\u001b[0m:\u001b[36m61\u001b[0m - \u001b[1mloaded 6555900 samples from file\u001b[0m\n"
     ]
    },
    {
     "data": {
      "text/plain": [
       "BaselineSymbolSet(num symbols=2050 | BW: 7 | SF: 11 | Att: 80 | samples per symbol: 3198 | packet length: 96739)"
      ]
     },
     "metadata": {},
     "output_type": "display_data"
    },
    {
     "name": "stdout",
     "output_type": "stream",
     "text": [
      "\u001b[32m2020-04-10 18:22:16.222\u001b[0m | \u001b[34m\u001b[1mDEBUG   \u001b[0m | \u001b[36mlorapy.datafile.encoding\u001b[0m:\u001b[36mcompute_params\u001b[0m:\u001b[36m15\u001b[0m - \u001b[34m\u001b[1mcomputed samples per symbol: 3198 and packet length: 96739\u001b[0m\n",
      "\u001b[32m2020-04-10 18:22:16.224\u001b[0m | \u001b[1mINFO    \u001b[0m | \u001b[36mlorapy.datafile._base_file\u001b[0m:\u001b[36mload\u001b[0m:\u001b[36m61\u001b[0m - \u001b[1mloaded 3198 samples from file\u001b[0m\n"
     ]
    },
    {
     "data": {
      "text/plain": [
       "BaselineSymbolSet(num symbols=3198 | BW: 7 | SF: 11 | Att: 0 | samples per symbol: 3198 | packet length: 96739)"
      ]
     },
     "metadata": {},
     "output_type": "display_data"
    },
    {
     "name": "stdout",
     "output_type": "stream",
     "text": [
      "\u001b[32m2020-04-10 18:22:22.765\u001b[0m | \u001b[1mINFO    \u001b[0m | \u001b[36m__main__\u001b[0m:\u001b[36mfilter_symbols\u001b[0m:\u001b[36m15\u001b[0m - \u001b[1mset threshold: 142.1138\u001b[0m\n",
      "\u001b[32m2020-04-10 18:22:22.800\u001b[0m | \u001b[33m\u001b[1mWARNING \u001b[0m | \u001b[36m__main__\u001b[0m:\u001b[36mfilter_symbols\u001b[0m:\u001b[36m27\u001b[0m - \u001b[33m\u001b[1mremoved 513 symbols  [1537 / 2050]\u001b[0m\n"
     ]
    },
    {
     "name": "stderr",
     "output_type": "stream",
     "text": [
      " 14%|█▍        | 15/106 [15:19<56:58, 37.57s/it]  "
     ]
    },
    {
     "name": "stdout",
     "output_type": "stream",
     "text": [
      "\u001b[32m2020-04-10 18:22:22.867\u001b[0m | \u001b[33m\u001b[1mWARNING \u001b[0m | \u001b[36m__main__\u001b[0m:\u001b[36m<module>\u001b[0m:\u001b[36m2\u001b[0m - \u001b[33m\u001b[1mworking file DotPFile(id=15 | name='lora_BW2_SF11_915MHz_20ksps_Att40_v0.p')\u001b[0m\n",
      "\u001b[32m2020-04-10 18:22:22.868\u001b[0m | \u001b[34m\u001b[1mDEBUG   \u001b[0m | \u001b[36mlorapy.datafile.encoding\u001b[0m:\u001b[36mcompute_params\u001b[0m:\u001b[36m15\u001b[0m - \u001b[34m\u001b[1mcomputed samples per symbol: 25604 and packet length: 774521\u001b[0m\n",
      "\u001b[32m2020-04-10 18:22:23.039\u001b[0m | \u001b[1mINFO    \u001b[0m | \u001b[36mlorapy.datafile._base_file\u001b[0m:\u001b[36mload\u001b[0m:\u001b[36m61\u001b[0m - \u001b[1mloaded 8321300 samples from file\u001b[0m\n"
     ]
    },
    {
     "data": {
      "text/plain": [
       "BaselineSymbolSet(num symbols=325 | BW: 2 | SF: 11 | Att: 40 | samples per symbol: 25604 | packet length: 774521)"
      ]
     },
     "metadata": {},
     "output_type": "display_data"
    },
    {
     "name": "stdout",
     "output_type": "stream",
     "text": [
      "\u001b[32m2020-04-10 18:22:23.043\u001b[0m | \u001b[34m\u001b[1mDEBUG   \u001b[0m | \u001b[36mlorapy.datafile.encoding\u001b[0m:\u001b[36mcompute_params\u001b[0m:\u001b[36m15\u001b[0m - \u001b[34m\u001b[1mcomputed samples per symbol: 25604 and packet length: 774521\u001b[0m\n",
      "\u001b[32m2020-04-10 18:22:23.044\u001b[0m | \u001b[1mINFO    \u001b[0m | \u001b[36mlorapy.datafile._base_file\u001b[0m:\u001b[36mload\u001b[0m:\u001b[36m61\u001b[0m - \u001b[1mloaded 25603 samples from file\u001b[0m\n"
     ]
    },
    {
     "data": {
      "text/plain": [
       "BaselineSymbolSet(num symbols=25603 | BW: 2 | SF: 11 | Att: 0 | samples per symbol: 25604 | packet length: 774521)"
      ]
     },
     "metadata": {},
     "output_type": "display_data"
    },
    {
     "name": "stdout",
     "output_type": "stream",
     "text": [
      "\u001b[32m2020-04-10 18:23:26.103\u001b[0m | \u001b[1mINFO    \u001b[0m | \u001b[36m__main__\u001b[0m:\u001b[36mfilter_symbols\u001b[0m:\u001b[36m15\u001b[0m - \u001b[1mset threshold: 5.4924\u001b[0m\n",
      "\u001b[32m2020-04-10 18:23:26.137\u001b[0m | \u001b[33m\u001b[1mWARNING \u001b[0m | \u001b[36m__main__\u001b[0m:\u001b[36mfilter_symbols\u001b[0m:\u001b[36m27\u001b[0m - \u001b[33m\u001b[1mremoved 83 symbols  [242 / 325]\u001b[0m\n"
     ]
    },
    {
     "name": "stderr",
     "output_type": "stream",
     "text": [
      " 15%|█▌        | 16/106 [16:22<1:07:57, 45.31s/it]"
     ]
    },
    {
     "name": "stdout",
     "output_type": "stream",
     "text": [
      "\u001b[32m2020-04-10 18:23:26.231\u001b[0m | \u001b[33m\u001b[1mWARNING \u001b[0m | \u001b[36m__main__\u001b[0m:\u001b[36m<module>\u001b[0m:\u001b[36m2\u001b[0m - \u001b[33m\u001b[1mworking file DotPFile(id=16 | name='lora_BW1_SF11_915MHz_20ksps_Att40_v0.p')\u001b[0m\n",
      "\u001b[32m2020-04-10 18:23:26.232\u001b[0m | \u001b[34m\u001b[1mDEBUG   \u001b[0m | \u001b[36mlorapy.datafile.encoding\u001b[0m:\u001b[36mcompute_params\u001b[0m:\u001b[36m15\u001b[0m - \u001b[34m\u001b[1mcomputed samples per symbol: 38396 and packet length: 1161479\u001b[0m\n",
      "\u001b[32m2020-04-10 18:23:26.373\u001b[0m | \u001b[1mINFO    \u001b[0m | \u001b[36mlorapy.datafile._base_file\u001b[0m:\u001b[36mload\u001b[0m:\u001b[36m61\u001b[0m - \u001b[1mloaded 7180052 samples from file\u001b[0m\n"
     ]
    },
    {
     "data": {
      "text/plain": [
       "BaselineSymbolSet(num symbols=187 | BW: 1 | SF: 11 | Att: 40 | samples per symbol: 38396 | packet length: 1161479)"
      ]
     },
     "metadata": {},
     "output_type": "display_data"
    },
    {
     "name": "stdout",
     "output_type": "stream",
     "text": [
      "\u001b[32m2020-04-10 18:23:26.377\u001b[0m | \u001b[34m\u001b[1mDEBUG   \u001b[0m | \u001b[36mlorapy.datafile.encoding\u001b[0m:\u001b[36mcompute_params\u001b[0m:\u001b[36m15\u001b[0m - \u001b[34m\u001b[1mcomputed samples per symbol: 38396 and packet length: 1161479\u001b[0m\n",
      "\u001b[32m2020-04-10 18:23:26.378\u001b[0m | \u001b[1mINFO    \u001b[0m | \u001b[36mlorapy.datafile._base_file\u001b[0m:\u001b[36mload\u001b[0m:\u001b[36m61\u001b[0m - \u001b[1mloaded 38395 samples from file\u001b[0m\n"
     ]
    },
    {
     "data": {
      "text/plain": [
       "BaselineSymbolSet(num symbols=38395 | BW: 1 | SF: 11 | Att: 0 | samples per symbol: 38396 | packet length: 1161479)"
      ]
     },
     "metadata": {},
     "output_type": "display_data"
    },
    {
     "name": "stdout",
     "output_type": "stream",
     "text": [
      "\u001b[32m2020-04-10 18:24:42.346\u001b[0m | \u001b[1mINFO    \u001b[0m | \u001b[36m__main__\u001b[0m:\u001b[36mfilter_symbols\u001b[0m:\u001b[36m15\u001b[0m - \u001b[1mset threshold: 6.0551\u001b[0m\n",
      "\u001b[32m2020-04-10 18:24:42.372\u001b[0m | \u001b[33m\u001b[1mWARNING \u001b[0m | \u001b[36m__main__\u001b[0m:\u001b[36mfilter_symbols\u001b[0m:\u001b[36m27\u001b[0m - \u001b[33m\u001b[1mremoved 47 symbols  [140 / 187]\u001b[0m\n"
     ]
    },
    {
     "name": "stderr",
     "output_type": "stream",
     "text": [
      " 16%|█▌        | 17/106 [17:38<1:20:58, 54.59s/it]"
     ]
    },
    {
     "name": "stdout",
     "output_type": "stream",
     "text": [
      "\u001b[32m2020-04-10 18:24:42.476\u001b[0m | \u001b[33m\u001b[1mWARNING \u001b[0m | \u001b[36m__main__\u001b[0m:\u001b[36m<module>\u001b[0m:\u001b[36m2\u001b[0m - \u001b[33m\u001b[1mworking file DotPFile(id=17 | name='lora_BW8_SF10_915MHz_20ksps_Att40_v0.p')\u001b[0m\n",
      "\u001b[32m2020-04-10 18:24:42.477\u001b[0m | \u001b[34m\u001b[1mDEBUG   \u001b[0m | \u001b[36mlorapy.datafile.encoding\u001b[0m:\u001b[36mcompute_params\u001b[0m:\u001b[36m15\u001b[0m - \u001b[34m\u001b[1mcomputed samples per symbol: 800 and packet length: 24200\u001b[0m\n",
      "\u001b[32m2020-04-10 18:24:42.648\u001b[0m | \u001b[1mINFO    \u001b[0m | \u001b[36mlorapy.datafile._base_file\u001b[0m:\u001b[36mload\u001b[0m:\u001b[36m61\u001b[0m - \u001b[1mloaded 5846400 samples from file\u001b[0m\n"
     ]
    },
    {
     "data": {
      "text/plain": [
       "BaselineSymbolSet(num symbols=7308 | BW: 8 | SF: 10 | Att: 40 | samples per symbol: 800 | packet length: 24200)"
      ]
     },
     "metadata": {},
     "output_type": "display_data"
    },
    {
     "name": "stdout",
     "output_type": "stream",
     "text": [
      "\u001b[32m2020-04-10 18:24:42.652\u001b[0m | \u001b[34m\u001b[1mDEBUG   \u001b[0m | \u001b[36mlorapy.datafile.encoding\u001b[0m:\u001b[36mcompute_params\u001b[0m:\u001b[36m15\u001b[0m - \u001b[34m\u001b[1mcomputed samples per symbol: 800 and packet length: 24200\u001b[0m\n",
      "\u001b[32m2020-04-10 18:24:42.654\u001b[0m | \u001b[1mINFO    \u001b[0m | \u001b[36mlorapy.datafile._base_file\u001b[0m:\u001b[36mload\u001b[0m:\u001b[36m61\u001b[0m - \u001b[1mloaded 799 samples from file\u001b[0m\n"
     ]
    },
    {
     "data": {
      "text/plain": [
       "BaselineSymbolSet(num symbols=799 | BW: 8 | SF: 10 | Att: 0 | samples per symbol: 800 | packet length: 24200)"
      ]
     },
     "metadata": {},
     "output_type": "display_data"
    },
    {
     "name": "stdout",
     "output_type": "stream",
     "text": [
      "\u001b[32m2020-04-10 18:24:44.549\u001b[0m | \u001b[1mINFO    \u001b[0m | \u001b[36m__main__\u001b[0m:\u001b[36mfilter_symbols\u001b[0m:\u001b[36m15\u001b[0m - \u001b[1mset threshold: 1.2036\u001b[0m\n",
      "\u001b[32m2020-04-10 18:24:44.596\u001b[0m | \u001b[33m\u001b[1mWARNING \u001b[0m | \u001b[36m__main__\u001b[0m:\u001b[36mfilter_symbols\u001b[0m:\u001b[36m27\u001b[0m - \u001b[33m\u001b[1mremoved 1827 symbols  [5481 / 7308]\u001b[0m\n"
     ]
    },
    {
     "name": "stderr",
     "output_type": "stream",
     "text": [
      " 17%|█▋        | 18/106 [17:41<57:00, 38.87s/it]  "
     ]
    },
    {
     "name": "stdout",
     "output_type": "stream",
     "text": [
      "\u001b[32m2020-04-10 18:24:44.657\u001b[0m | \u001b[33m\u001b[1mWARNING \u001b[0m | \u001b[36m__main__\u001b[0m:\u001b[36m<module>\u001b[0m:\u001b[36m2\u001b[0m - \u001b[33m\u001b[1mworking file DotPFile(id=18 | name='lora_BW7_SF12_915MHz_20ksps_Att120_v0.p')\u001b[0m\n",
      "\u001b[32m2020-04-10 18:24:44.658\u001b[0m | \u001b[34m\u001b[1mDEBUG   \u001b[0m | \u001b[36mlorapy.datafile.encoding\u001b[0m:\u001b[36mcompute_params\u001b[0m:\u001b[36m15\u001b[0m - \u001b[34m\u001b[1mcomputed samples per symbol: 6386 and packet length: 193176\u001b[0m\n",
      "\u001b[32m2020-04-10 18:24:45.028\u001b[0m | \u001b[1mINFO    \u001b[0m | \u001b[36mlorapy.datafile._base_file\u001b[0m:\u001b[36mload\u001b[0m:\u001b[36m61\u001b[0m - \u001b[1mloaded 6507334 samples from file\u001b[0m\n"
     ]
    },
    {
     "name": "stderr",
     "output_type": "stream",
     "text": [
      " 18%|█▊        | 19/106 [17:41<39:36, 27.32s/it]"
     ]
    },
    {
     "name": "stdout",
     "output_type": "stream",
     "text": [
      "\u001b[32m2020-04-10 18:24:45.030\u001b[0m | \u001b[33m\u001b[1mWARNING \u001b[0m | \u001b[36m__main__\u001b[0m:\u001b[36m<module>\u001b[0m:\u001b[36m2\u001b[0m - \u001b[33m\u001b[1mworking file DotPFile(id=19 | name='lora_BW2_SF12_915MHz_20ksps_Att100_v0.p')\u001b[0m\n",
      "\u001b[32m2020-04-10 18:24:45.031\u001b[0m | \u001b[34m\u001b[1mDEBUG   \u001b[0m | \u001b[36mlorapy.datafile.encoding\u001b[0m:\u001b[36mcompute_params\u001b[0m:\u001b[36m15\u001b[0m - \u001b[34m\u001b[1mcomputed samples per symbol: 51197 and packet length: 1548709\u001b[0m\n",
      "\u001b[32m2020-04-10 18:24:45.340\u001b[0m | \u001b[1mINFO    \u001b[0m | \u001b[36mlorapy.datafile._base_file\u001b[0m:\u001b[36mload\u001b[0m:\u001b[36m61\u001b[0m - \u001b[1mloaded 7013989 samples from file\u001b[0m\n"
     ]
    },
    {
     "data": {
      "text/plain": [
       "BaselineSymbolSet(num symbols=137 | BW: 2 | SF: 12 | Att: 100 | samples per symbol: 51197 | packet length: 1548709)"
      ]
     },
     "metadata": {},
     "output_type": "display_data"
    },
    {
     "name": "stdout",
     "output_type": "stream",
     "text": [
      "\u001b[32m2020-04-10 18:24:45.345\u001b[0m | \u001b[34m\u001b[1mDEBUG   \u001b[0m | \u001b[36mlorapy.datafile.encoding\u001b[0m:\u001b[36mcompute_params\u001b[0m:\u001b[36m15\u001b[0m - \u001b[34m\u001b[1mcomputed samples per symbol: 51197 and packet length: 1548709\u001b[0m\n",
      "\u001b[32m2020-04-10 18:24:45.347\u001b[0m | \u001b[1mINFO    \u001b[0m | \u001b[36mlorapy.datafile._base_file\u001b[0m:\u001b[36mload\u001b[0m:\u001b[36m61\u001b[0m - \u001b[1mloaded 51197 samples from file\u001b[0m\n"
     ]
    },
    {
     "data": {
      "text/plain": [
       "BaselineSymbolSet(num symbols=51197 | BW: 2 | SF: 12 | Att: 0 | samples per symbol: 51197 | packet length: 1548709)"
      ]
     },
     "metadata": {},
     "output_type": "display_data"
    },
    {
     "name": "stdout",
     "output_type": "stream",
     "text": [
      "\u001b[32m2020-04-10 18:26:34.534\u001b[0m | \u001b[1mINFO    \u001b[0m | \u001b[36m__main__\u001b[0m:\u001b[36mfilter_symbols\u001b[0m:\u001b[36m15\u001b[0m - \u001b[1mset threshold: 4862.2294\u001b[0m\n",
      "\u001b[32m2020-04-10 18:26:34.577\u001b[0m | \u001b[33m\u001b[1mWARNING \u001b[0m | \u001b[36m__main__\u001b[0m:\u001b[36mfilter_symbols\u001b[0m:\u001b[36m27\u001b[0m - \u001b[33m\u001b[1mremoved 35 symbols  [102 / 137]\u001b[0m\n"
     ]
    },
    {
     "name": "stderr",
     "output_type": "stream",
     "text": [
      " 19%|█▉        | 20/106 [19:31<1:14:36, 52.05s/it]"
     ]
    },
    {
     "name": "stdout",
     "output_type": "stream",
     "text": [
      "\u001b[32m2020-04-10 18:26:34.799\u001b[0m | \u001b[33m\u001b[1mWARNING \u001b[0m | \u001b[36m__main__\u001b[0m:\u001b[36m<module>\u001b[0m:\u001b[36m2\u001b[0m - \u001b[33m\u001b[1mworking file DotPFile(id=20 | name='lora_BW1_SF12_915MHz_20ksps_Att40_v0.p')\u001b[0m\n",
      "\u001b[32m2020-04-10 18:26:34.801\u001b[0m | \u001b[34m\u001b[1mDEBUG   \u001b[0m | \u001b[36mlorapy.datafile.encoding\u001b[0m:\u001b[36mcompute_params\u001b[0m:\u001b[36m15\u001b[0m - \u001b[34m\u001b[1mcomputed samples per symbol: 76801 and packet length: 2323230\u001b[0m\n",
      "\u001b[32m2020-04-10 18:26:35.273\u001b[0m | \u001b[1mINFO    \u001b[0m | \u001b[36mlorapy.datafile._base_file\u001b[0m:\u001b[36mload\u001b[0m:\u001b[36m61\u001b[0m - \u001b[1mloaded 8448110 samples from file\u001b[0m\n"
     ]
    },
    {
     "data": {
      "text/plain": [
       "BaselineSymbolSet(num symbols=110 | BW: 1 | SF: 12 | Att: 40 | samples per symbol: 76801 | packet length: 2323230)"
      ]
     },
     "metadata": {},
     "output_type": "display_data"
    },
    {
     "name": "stdout",
     "output_type": "stream",
     "text": [
      "\u001b[32m2020-04-10 18:26:35.277\u001b[0m | \u001b[34m\u001b[1mDEBUG   \u001b[0m | \u001b[36mlorapy.datafile.encoding\u001b[0m:\u001b[36mcompute_params\u001b[0m:\u001b[36m15\u001b[0m - \u001b[34m\u001b[1mcomputed samples per symbol: 76801 and packet length: 2323230\u001b[0m\n",
      "\u001b[32m2020-04-10 18:26:35.279\u001b[0m | \u001b[1mINFO    \u001b[0m | \u001b[36mlorapy.datafile._base_file\u001b[0m:\u001b[36mload\u001b[0m:\u001b[36m61\u001b[0m - \u001b[1mloaded 76800 samples from file\u001b[0m\n"
     ]
    },
    {
     "data": {
      "text/plain": [
       "BaselineSymbolSet(num symbols=76800 | BW: 1 | SF: 12 | Att: 0 | samples per symbol: 76801 | packet length: 2323230)"
      ]
     },
     "metadata": {},
     "output_type": "display_data"
    },
    {
     "name": "stdout",
     "output_type": "stream",
     "text": [
      "\u001b[32m2020-04-10 18:29:01.865\u001b[0m | \u001b[1mINFO    \u001b[0m | \u001b[36m__main__\u001b[0m:\u001b[36mfilter_symbols\u001b[0m:\u001b[36m15\u001b[0m - \u001b[1mset threshold: 5.9578\u001b[0m\n",
      "\u001b[32m2020-04-10 18:29:01.979\u001b[0m | \u001b[33m\u001b[1mWARNING \u001b[0m | \u001b[36m__main__\u001b[0m:\u001b[36mfilter_symbols\u001b[0m:\u001b[36m27\u001b[0m - \u001b[33m\u001b[1mremoved 28 symbols  [82 / 110]\u001b[0m\n"
     ]
    },
    {
     "name": "stderr",
     "output_type": "stream",
     "text": [
      " 20%|█▉        | 21/106 [21:58<1:54:19, 80.70s/it]"
     ]
    },
    {
     "name": "stdout",
     "output_type": "stream",
     "text": [
      "\u001b[32m2020-04-10 18:29:02.329\u001b[0m | \u001b[33m\u001b[1mWARNING \u001b[0m | \u001b[36m__main__\u001b[0m:\u001b[36m<module>\u001b[0m:\u001b[36m2\u001b[0m - \u001b[33m\u001b[1mworking file DotPFile(id=21 | name='lora_BW2_SF10_915MHz_20ksps_Att120_v0.p')\u001b[0m\n",
      "\u001b[32m2020-04-10 18:29:02.331\u001b[0m | \u001b[34m\u001b[1mDEBUG   \u001b[0m | \u001b[36mlorapy.datafile.encoding\u001b[0m:\u001b[36mcompute_params\u001b[0m:\u001b[36m15\u001b[0m - \u001b[34m\u001b[1mcomputed samples per symbol: 12802 and packet length: 387260\u001b[0m\n",
      "\u001b[32m2020-04-10 18:29:02.671\u001b[0m | \u001b[1mINFO    \u001b[0m | \u001b[36mlorapy.datafile._base_file\u001b[0m:\u001b[36mload\u001b[0m:\u001b[36m61\u001b[0m - \u001b[1mloaded 7655596 samples from file\u001b[0m\n"
     ]
    },
    {
     "data": {
      "text/plain": [
       "BaselineSymbolSet(num symbols=598 | BW: 2 | SF: 10 | Att: 120 | samples per symbol: 12802 | packet length: 387260)"
      ]
     },
     "metadata": {},
     "output_type": "display_data"
    },
    {
     "name": "stdout",
     "output_type": "stream",
     "text": [
      "\u001b[32m2020-04-10 18:29:02.675\u001b[0m | \u001b[34m\u001b[1mDEBUG   \u001b[0m | \u001b[36mlorapy.datafile.encoding\u001b[0m:\u001b[36mcompute_params\u001b[0m:\u001b[36m15\u001b[0m - \u001b[34m\u001b[1mcomputed samples per symbol: 12802 and packet length: 387260\u001b[0m\n",
      "\u001b[32m2020-04-10 18:29:02.677\u001b[0m | \u001b[1mINFO    \u001b[0m | \u001b[36mlorapy.datafile._base_file\u001b[0m:\u001b[36mload\u001b[0m:\u001b[36m61\u001b[0m - \u001b[1mloaded 12801 samples from file\u001b[0m\n"
     ]
    },
    {
     "data": {
      "text/plain": [
       "BaselineSymbolSet(num symbols=12801 | BW: 2 | SF: 10 | Att: 0 | samples per symbol: 12802 | packet length: 387260)"
      ]
     },
     "metadata": {},
     "output_type": "display_data"
    },
    {
     "name": "stdout",
     "output_type": "stream",
     "text": [
      "\u001b[32m2020-04-10 18:30:02.738\u001b[0m | \u001b[1mINFO    \u001b[0m | \u001b[36m__main__\u001b[0m:\u001b[36mfilter_symbols\u001b[0m:\u001b[36m15\u001b[0m - \u001b[1mset threshold: 2053.1092\u001b[0m\n",
      "\u001b[32m2020-04-10 18:30:02.787\u001b[0m | \u001b[33m\u001b[1mWARNING \u001b[0m | \u001b[36m__main__\u001b[0m:\u001b[36mfilter_symbols\u001b[0m:\u001b[36m27\u001b[0m - \u001b[33m\u001b[1mremoved 150 symbols  [448 / 598]\u001b[0m\n"
     ]
    },
    {
     "name": "stderr",
     "output_type": "stream",
     "text": [
      " 21%|██        | 22/106 [22:59<1:44:33, 74.68s/it]"
     ]
    },
    {
     "name": "stdout",
     "output_type": "stream",
     "text": [
      "\u001b[32m2020-04-10 18:30:02.980\u001b[0m | \u001b[33m\u001b[1mWARNING \u001b[0m | \u001b[36m__main__\u001b[0m:\u001b[36m<module>\u001b[0m:\u001b[36m2\u001b[0m - \u001b[33m\u001b[1mworking file DotPFile(id=22 | name='lora_BW8_SF10_915MHz_20ksps_Att80_v0.p')\u001b[0m\n",
      "\u001b[32m2020-04-10 18:30:02.982\u001b[0m | \u001b[34m\u001b[1mDEBUG   \u001b[0m | \u001b[36mlorapy.datafile.encoding\u001b[0m:\u001b[36mcompute_params\u001b[0m:\u001b[36m15\u001b[0m - \u001b[34m\u001b[1mcomputed samples per symbol: 800 and packet length: 24200\u001b[0m\n",
      "\u001b[32m2020-04-10 18:30:03.173\u001b[0m | \u001b[1mINFO    \u001b[0m | \u001b[36mlorapy.datafile._base_file\u001b[0m:\u001b[36mload\u001b[0m:\u001b[36m61\u001b[0m - \u001b[1mloaded 6696800 samples from file\u001b[0m\n"
     ]
    },
    {
     "data": {
      "text/plain": [
       "BaselineSymbolSet(num symbols=8371 | BW: 8 | SF: 10 | Att: 80 | samples per symbol: 800 | packet length: 24200)"
      ]
     },
     "metadata": {},
     "output_type": "display_data"
    },
    {
     "name": "stdout",
     "output_type": "stream",
     "text": [
      "\u001b[32m2020-04-10 18:30:03.176\u001b[0m | \u001b[34m\u001b[1mDEBUG   \u001b[0m | \u001b[36mlorapy.datafile.encoding\u001b[0m:\u001b[36mcompute_params\u001b[0m:\u001b[36m15\u001b[0m - \u001b[34m\u001b[1mcomputed samples per symbol: 800 and packet length: 24200\u001b[0m\n",
      "\u001b[32m2020-04-10 18:30:03.177\u001b[0m | \u001b[1mINFO    \u001b[0m | \u001b[36mlorapy.datafile._base_file\u001b[0m:\u001b[36mload\u001b[0m:\u001b[36m61\u001b[0m - \u001b[1mloaded 799 samples from file\u001b[0m\n"
     ]
    },
    {
     "data": {
      "text/plain": [
       "BaselineSymbolSet(num symbols=799 | BW: 8 | SF: 10 | Att: 0 | samples per symbol: 800 | packet length: 24200)"
      ]
     },
     "metadata": {},
     "output_type": "display_data"
    },
    {
     "name": "stdout",
     "output_type": "stream",
     "text": [
      "\u001b[32m2020-04-10 18:30:05.350\u001b[0m | \u001b[1mINFO    \u001b[0m | \u001b[36m__main__\u001b[0m:\u001b[36mfilter_symbols\u001b[0m:\u001b[36m15\u001b[0m - \u001b[1mset threshold: 117.7557\u001b[0m\n",
      "\u001b[32m2020-04-10 18:30:05.411\u001b[0m | \u001b[33m\u001b[1mWARNING \u001b[0m | \u001b[36m__main__\u001b[0m:\u001b[36mfilter_symbols\u001b[0m:\u001b[36m27\u001b[0m - \u001b[33m\u001b[1mremoved 2093 symbols  [6278 / 8371]\u001b[0m\n"
     ]
    },
    {
     "name": "stderr",
     "output_type": "stream",
     "text": [
      " 22%|██▏       | 23/106 [23:01<1:13:21, 53.03s/it]"
     ]
    },
    {
     "name": "stdout",
     "output_type": "stream",
     "text": [
      "\u001b[32m2020-04-10 18:30:05.483\u001b[0m | \u001b[33m\u001b[1mWARNING \u001b[0m | \u001b[36m__main__\u001b[0m:\u001b[36m<module>\u001b[0m:\u001b[36m2\u001b[0m - \u001b[33m\u001b[1mworking file DotPFile(id=23 | name='lora_BW1_SF11_915MHz_20ksps_Att20_v0.p')\u001b[0m\n",
      "\u001b[32m2020-04-10 18:30:05.484\u001b[0m | \u001b[34m\u001b[1mDEBUG   \u001b[0m | \u001b[36mlorapy.datafile.encoding\u001b[0m:\u001b[36mcompute_params\u001b[0m:\u001b[36m15\u001b[0m - \u001b[34m\u001b[1mcomputed samples per symbol: 38396 and packet length: 1161479\u001b[0m\n",
      "\u001b[32m2020-04-10 18:30:05.852\u001b[0m | \u001b[1mINFO    \u001b[0m | \u001b[36mlorapy.datafile._base_file\u001b[0m:\u001b[36mload\u001b[0m:\u001b[36m61\u001b[0m - \u001b[1mloaded 8869476 samples from file\u001b[0m\n"
     ]
    },
    {
     "data": {
      "text/plain": [
       "BaselineSymbolSet(num symbols=231 | BW: 1 | SF: 11 | Att: 20 | samples per symbol: 38396 | packet length: 1161479)"
      ]
     },
     "metadata": {},
     "output_type": "display_data"
    },
    {
     "name": "stdout",
     "output_type": "stream",
     "text": [
      "\u001b[32m2020-04-10 18:30:05.855\u001b[0m | \u001b[34m\u001b[1mDEBUG   \u001b[0m | \u001b[36mlorapy.datafile.encoding\u001b[0m:\u001b[36mcompute_params\u001b[0m:\u001b[36m15\u001b[0m - \u001b[34m\u001b[1mcomputed samples per symbol: 38396 and packet length: 1161479\u001b[0m\n",
      "\u001b[32m2020-04-10 18:30:05.857\u001b[0m | \u001b[1mINFO    \u001b[0m | \u001b[36mlorapy.datafile._base_file\u001b[0m:\u001b[36mload\u001b[0m:\u001b[36m61\u001b[0m - \u001b[1mloaded 38395 samples from file\u001b[0m\n"
     ]
    },
    {
     "data": {
      "text/plain": [
       "BaselineSymbolSet(num symbols=38395 | BW: 1 | SF: 11 | Att: 0 | samples per symbol: 38396 | packet length: 1161479)"
      ]
     },
     "metadata": {},
     "output_type": "display_data"
    },
    {
     "name": "stdout",
     "output_type": "stream",
     "text": [
      "\u001b[32m2020-04-10 18:32:08.366\u001b[0m | \u001b[1mINFO    \u001b[0m | \u001b[36m__main__\u001b[0m:\u001b[36mfilter_symbols\u001b[0m:\u001b[36m15\u001b[0m - \u001b[1mset threshold: 0.8580\u001b[0m\n",
      "\u001b[32m2020-04-10 18:32:08.436\u001b[0m | \u001b[33m\u001b[1mWARNING \u001b[0m | \u001b[36m__main__\u001b[0m:\u001b[36mfilter_symbols\u001b[0m:\u001b[36m27\u001b[0m - \u001b[33m\u001b[1mremoved 58 symbols  [173 / 231]\u001b[0m\n"
     ]
    },
    {
     "name": "stderr",
     "output_type": "stream",
     "text": [
      " 23%|██▎       | 24/106 [25:05<1:41:15, 74.09s/it]"
     ]
    },
    {
     "name": "stdout",
     "output_type": "stream",
     "text": [
      "\u001b[32m2020-04-10 18:32:08.716\u001b[0m | \u001b[33m\u001b[1mWARNING \u001b[0m | \u001b[36m__main__\u001b[0m:\u001b[36m<module>\u001b[0m:\u001b[36m2\u001b[0m - \u001b[33m\u001b[1mworking file DotPFile(id=24 | name='lora_BW9_SF11_915MHz_20ksps_Att0_v0.p')\u001b[0m\n",
      "\u001b[32m2020-04-10 18:32:08.717\u001b[0m | \u001b[34m\u001b[1mDEBUG   \u001b[0m | \u001b[36mlorapy.datafile.encoding\u001b[0m:\u001b[36mcompute_params\u001b[0m:\u001b[36m15\u001b[0m - \u001b[34m\u001b[1mcomputed samples per symbol: 800 and packet length: 24200\u001b[0m\n",
      "\u001b[32m2020-04-10 18:32:08.890\u001b[0m | \u001b[1mINFO    \u001b[0m | \u001b[36mlorapy.datafile._base_file\u001b[0m:\u001b[36mload\u001b[0m:\u001b[36m61\u001b[0m - \u001b[1mloaded 4352800 samples from file\u001b[0m\n"
     ]
    },
    {
     "data": {
      "text/plain": [
       "BaselineSymbolSet(num symbols=5441 | BW: 9 | SF: 11 | Att: 0 | samples per symbol: 800 | packet length: 24200)"
      ]
     },
     "metadata": {},
     "output_type": "display_data"
    },
    {
     "name": "stdout",
     "output_type": "stream",
     "text": [
      "\u001b[32m2020-04-10 18:32:08.894\u001b[0m | \u001b[34m\u001b[1mDEBUG   \u001b[0m | \u001b[36mlorapy.datafile.encoding\u001b[0m:\u001b[36mcompute_params\u001b[0m:\u001b[36m15\u001b[0m - \u001b[34m\u001b[1mcomputed samples per symbol: 800 and packet length: 24200\u001b[0m\n",
      "\u001b[32m2020-04-10 18:32:08.896\u001b[0m | \u001b[1mINFO    \u001b[0m | \u001b[36mlorapy.datafile._base_file\u001b[0m:\u001b[36mload\u001b[0m:\u001b[36m61\u001b[0m - \u001b[1mloaded 799 samples from file\u001b[0m\n"
     ]
    },
    {
     "data": {
      "text/plain": [
       "BaselineSymbolSet(num symbols=799 | BW: 9 | SF: 11 | Att: 0 | samples per symbol: 800 | packet length: 24200)"
      ]
     },
     "metadata": {},
     "output_type": "display_data"
    },
    {
     "name": "stdout",
     "output_type": "stream",
     "text": [
      "\u001b[32m2020-04-10 18:32:11.223\u001b[0m | \u001b[1mINFO    \u001b[0m | \u001b[36m__main__\u001b[0m:\u001b[36mfilter_symbols\u001b[0m:\u001b[36m15\u001b[0m - \u001b[1mset threshold: 0.1393\u001b[0m\n",
      "\u001b[32m2020-04-10 18:32:11.259\u001b[0m | \u001b[33m\u001b[1mWARNING \u001b[0m | \u001b[36m__main__\u001b[0m:\u001b[36mfilter_symbols\u001b[0m:\u001b[36m27\u001b[0m - \u001b[33m\u001b[1mremoved 1361 symbols  [4080 / 5441]\u001b[0m\n"
     ]
    },
    {
     "name": "stderr",
     "output_type": "stream",
     "text": [
      " 24%|██▎       | 25/106 [25:07<1:11:04, 52.65s/it]"
     ]
    },
    {
     "name": "stdout",
     "output_type": "stream",
     "text": [
      "\u001b[32m2020-04-10 18:32:11.347\u001b[0m | \u001b[33m\u001b[1mWARNING \u001b[0m | \u001b[36m__main__\u001b[0m:\u001b[36m<module>\u001b[0m:\u001b[36m2\u001b[0m - \u001b[33m\u001b[1mworking file DotPFile(id=25 | name='lora_BW2_SF11_915MHz_20ksps_Att80_v0.p')\u001b[0m\n",
      "\u001b[32m2020-04-10 18:32:11.348\u001b[0m | \u001b[34m\u001b[1mDEBUG   \u001b[0m | \u001b[36mlorapy.datafile.encoding\u001b[0m:\u001b[36mcompute_params\u001b[0m:\u001b[36m15\u001b[0m - \u001b[34m\u001b[1mcomputed samples per symbol: 25604 and packet length: 774521\u001b[0m\n",
      "\u001b[32m2020-04-10 18:32:11.500\u001b[0m | \u001b[1mINFO    \u001b[0m | \u001b[36mlorapy.datafile._base_file\u001b[0m:\u001b[36mload\u001b[0m:\u001b[36m61\u001b[0m - \u001b[1mloaded 8167676 samples from file\u001b[0m\n"
     ]
    },
    {
     "data": {
      "text/plain": [
       "BaselineSymbolSet(num symbols=319 | BW: 2 | SF: 11 | Att: 80 | samples per symbol: 25604 | packet length: 774521)"
      ]
     },
     "metadata": {},
     "output_type": "display_data"
    },
    {
     "name": "stdout",
     "output_type": "stream",
     "text": [
      "\u001b[32m2020-04-10 18:32:11.503\u001b[0m | \u001b[34m\u001b[1mDEBUG   \u001b[0m | \u001b[36mlorapy.datafile.encoding\u001b[0m:\u001b[36mcompute_params\u001b[0m:\u001b[36m15\u001b[0m - \u001b[34m\u001b[1mcomputed samples per symbol: 25604 and packet length: 774521\u001b[0m\n",
      "\u001b[32m2020-04-10 18:32:11.504\u001b[0m | \u001b[1mINFO    \u001b[0m | \u001b[36mlorapy.datafile._base_file\u001b[0m:\u001b[36mload\u001b[0m:\u001b[36m61\u001b[0m - \u001b[1mloaded 25603 samples from file\u001b[0m\n"
     ]
    },
    {
     "data": {
      "text/plain": [
       "BaselineSymbolSet(num symbols=25603 | BW: 2 | SF: 11 | Att: 0 | samples per symbol: 25604 | packet length: 774521)"
      ]
     },
     "metadata": {},
     "output_type": "display_data"
    },
    {
     "name": "stdout",
     "output_type": "stream",
     "text": [
      "\u001b[32m2020-04-10 18:33:15.102\u001b[0m | \u001b[1mINFO    \u001b[0m | \u001b[36m__main__\u001b[0m:\u001b[36mfilter_symbols\u001b[0m:\u001b[36m15\u001b[0m - \u001b[1mset threshold: 549.7501\u001b[0m\n",
      "\u001b[32m2020-04-10 18:33:15.140\u001b[0m | \u001b[33m\u001b[1mWARNING \u001b[0m | \u001b[36m__main__\u001b[0m:\u001b[36mfilter_symbols\u001b[0m:\u001b[36m27\u001b[0m - \u001b[33m\u001b[1mremoved 80 symbols  [239 / 319]\u001b[0m\n"
     ]
    },
    {
     "name": "stderr",
     "output_type": "stream",
     "text": [
      " 25%|██▍       | 26/106 [26:11<1:14:41, 56.02s/it]"
     ]
    },
    {
     "name": "stdout",
     "output_type": "stream",
     "text": [
      "\u001b[32m2020-04-10 18:33:15.231\u001b[0m | \u001b[33m\u001b[1mWARNING \u001b[0m | \u001b[36m__main__\u001b[0m:\u001b[36m<module>\u001b[0m:\u001b[36m2\u001b[0m - \u001b[33m\u001b[1mworking file DotPFile(id=26 | name='lora_BW1_SF11_915MHz_20ksps_Att60_v0.p')\u001b[0m\n",
      "\u001b[32m2020-04-10 18:33:15.232\u001b[0m | \u001b[34m\u001b[1mDEBUG   \u001b[0m | \u001b[36mlorapy.datafile.encoding\u001b[0m:\u001b[36mcompute_params\u001b[0m:\u001b[36m15\u001b[0m - \u001b[34m\u001b[1mcomputed samples per symbol: 38396 and packet length: 1161479\u001b[0m\n",
      "\u001b[32m2020-04-10 18:33:15.444\u001b[0m | \u001b[1mINFO    \u001b[0m | \u001b[36mlorapy.datafile._base_file\u001b[0m:\u001b[36mload\u001b[0m:\u001b[36m61\u001b[0m - \u001b[1mloaded 8869476 samples from file\u001b[0m\n"
     ]
    },
    {
     "data": {
      "text/plain": [
       "BaselineSymbolSet(num symbols=231 | BW: 1 | SF: 11 | Att: 60 | samples per symbol: 38396 | packet length: 1161479)"
      ]
     },
     "metadata": {},
     "output_type": "display_data"
    },
    {
     "name": "stdout",
     "output_type": "stream",
     "text": [
      "\u001b[32m2020-04-10 18:33:15.449\u001b[0m | \u001b[34m\u001b[1mDEBUG   \u001b[0m | \u001b[36mlorapy.datafile.encoding\u001b[0m:\u001b[36mcompute_params\u001b[0m:\u001b[36m15\u001b[0m - \u001b[34m\u001b[1mcomputed samples per symbol: 38396 and packet length: 1161479\u001b[0m\n",
      "\u001b[32m2020-04-10 18:33:15.451\u001b[0m | \u001b[1mINFO    \u001b[0m | \u001b[36mlorapy.datafile._base_file\u001b[0m:\u001b[36mload\u001b[0m:\u001b[36m61\u001b[0m - \u001b[1mloaded 38395 samples from file\u001b[0m\n"
     ]
    },
    {
     "data": {
      "text/plain": [
       "BaselineSymbolSet(num symbols=38395 | BW: 1 | SF: 11 | Att: 0 | samples per symbol: 38396 | packet length: 1161479)"
      ]
     },
     "metadata": {},
     "output_type": "display_data"
    },
    {
     "name": "stdout",
     "output_type": "stream",
     "text": [
      "\u001b[32m2020-04-10 18:34:48.672\u001b[0m | \u001b[1mINFO    \u001b[0m | \u001b[36m__main__\u001b[0m:\u001b[36mfilter_symbols\u001b[0m:\u001b[36m15\u001b[0m - \u001b[1mset threshold: 59.2015\u001b[0m\n",
      "\u001b[32m2020-04-10 18:34:48.725\u001b[0m | \u001b[33m\u001b[1mWARNING \u001b[0m | \u001b[36m__main__\u001b[0m:\u001b[36mfilter_symbols\u001b[0m:\u001b[36m27\u001b[0m - \u001b[33m\u001b[1mremoved 58 symbols  [173 / 231]\u001b[0m\n"
     ]
    },
    {
     "name": "stderr",
     "output_type": "stream",
     "text": [
      " 25%|██▌       | 27/106 [27:45<1:28:36, 67.29s/it]"
     ]
    },
    {
     "name": "stdout",
     "output_type": "stream",
     "text": [
      "\u001b[32m2020-04-10 18:34:48.819\u001b[0m | \u001b[33m\u001b[1mWARNING \u001b[0m | \u001b[36m__main__\u001b[0m:\u001b[36m<module>\u001b[0m:\u001b[36m2\u001b[0m - \u001b[33m\u001b[1mworking file DotPFile(id=27 | name='lora_BW2_SF12_915MHz_20ksps_Att0_v0.p')\u001b[0m\n",
      "\u001b[32m2020-04-10 18:34:48.820\u001b[0m | \u001b[34m\u001b[1mDEBUG   \u001b[0m | \u001b[36mlorapy.datafile.encoding\u001b[0m:\u001b[36mcompute_params\u001b[0m:\u001b[36m15\u001b[0m - \u001b[34m\u001b[1mcomputed samples per symbol: 51197 and packet length: 1548709\u001b[0m\n",
      "\u001b[32m2020-04-10 18:34:48.992\u001b[0m | \u001b[1mINFO    \u001b[0m | \u001b[36mlorapy.datafile._base_file\u001b[0m:\u001b[36mload\u001b[0m:\u001b[36m61\u001b[0m - \u001b[1mloaded 8242717 samples from file\u001b[0m\n"
     ]
    },
    {
     "data": {
      "text/plain": [
       "BaselineSymbolSet(num symbols=161 | BW: 2 | SF: 12 | Att: 0 | samples per symbol: 51197 | packet length: 1548709)"
      ]
     },
     "metadata": {},
     "output_type": "display_data"
    },
    {
     "name": "stdout",
     "output_type": "stream",
     "text": [
      "\u001b[32m2020-04-10 18:34:48.997\u001b[0m | \u001b[34m\u001b[1mDEBUG   \u001b[0m | \u001b[36mlorapy.datafile.encoding\u001b[0m:\u001b[36mcompute_params\u001b[0m:\u001b[36m15\u001b[0m - \u001b[34m\u001b[1mcomputed samples per symbol: 51197 and packet length: 1548709\u001b[0m\n",
      "\u001b[32m2020-04-10 18:34:48.999\u001b[0m | \u001b[1mINFO    \u001b[0m | \u001b[36mlorapy.datafile._base_file\u001b[0m:\u001b[36mload\u001b[0m:\u001b[36m61\u001b[0m - \u001b[1mloaded 51197 samples from file\u001b[0m\n"
     ]
    },
    {
     "data": {
      "text/plain": [
       "BaselineSymbolSet(num symbols=51197 | BW: 2 | SF: 12 | Att: 0 | samples per symbol: 51197 | packet length: 1548709)"
      ]
     },
     "metadata": {},
     "output_type": "display_data"
    },
    {
     "name": "stdout",
     "output_type": "stream",
     "text": [
      "\u001b[32m2020-04-10 18:36:28.161\u001b[0m | \u001b[1mINFO    \u001b[0m | \u001b[36m__main__\u001b[0m:\u001b[36mfilter_symbols\u001b[0m:\u001b[36m15\u001b[0m - \u001b[1mset threshold: 0.5646\u001b[0m\n",
      "\u001b[32m2020-04-10 18:36:28.190\u001b[0m | \u001b[33m\u001b[1mWARNING \u001b[0m | \u001b[36m__main__\u001b[0m:\u001b[36mfilter_symbols\u001b[0m:\u001b[36m27\u001b[0m - \u001b[33m\u001b[1mremoved 41 symbols  [120 / 161]\u001b[0m\n"
     ]
    },
    {
     "name": "stderr",
     "output_type": "stream",
     "text": [
      " 26%|██▋       | 28/106 [29:24<1:40:02, 76.95s/it]"
     ]
    },
    {
     "name": "stdout",
     "output_type": "stream",
     "text": [
      "\u001b[32m2020-04-10 18:36:28.308\u001b[0m | \u001b[33m\u001b[1mWARNING \u001b[0m | \u001b[36m__main__\u001b[0m:\u001b[36m<module>\u001b[0m:\u001b[36m2\u001b[0m - \u001b[33m\u001b[1mworking file DotPFile(id=28 | name='lora_BW9_SF10_915MHz_20ksps_Att100_v0.p')\u001b[0m\n",
      "\u001b[32m2020-04-10 18:36:28.318\u001b[0m | \u001b[34m\u001b[1mDEBUG   \u001b[0m | \u001b[36mlorapy.datafile.encoding\u001b[0m:\u001b[36mcompute_params\u001b[0m:\u001b[36m15\u001b[0m - \u001b[34m\u001b[1mcomputed samples per symbol: 400 and packet length: 12100\u001b[0m\n",
      "\u001b[32m2020-04-10 18:36:28.396\u001b[0m | \u001b[1mINFO    \u001b[0m | \u001b[36mlorapy.datafile._base_file\u001b[0m:\u001b[36mload\u001b[0m:\u001b[36m61\u001b[0m - \u001b[1mloaded 3622400 samples from file\u001b[0m\n"
     ]
    },
    {
     "data": {
      "text/plain": [
       "BaselineSymbolSet(num symbols=9056 | BW: 9 | SF: 10 | Att: 100 | samples per symbol: 400 | packet length: 12100)"
      ]
     },
     "metadata": {},
     "output_type": "display_data"
    },
    {
     "name": "stdout",
     "output_type": "stream",
     "text": [
      "\u001b[32m2020-04-10 18:36:28.401\u001b[0m | \u001b[34m\u001b[1mDEBUG   \u001b[0m | \u001b[36mlorapy.datafile.encoding\u001b[0m:\u001b[36mcompute_params\u001b[0m:\u001b[36m15\u001b[0m - \u001b[34m\u001b[1mcomputed samples per symbol: 400 and packet length: 12100\u001b[0m\n",
      "\u001b[32m2020-04-10 18:36:28.402\u001b[0m | \u001b[1mINFO    \u001b[0m | \u001b[36mlorapy.datafile._base_file\u001b[0m:\u001b[36mload\u001b[0m:\u001b[36m61\u001b[0m - \u001b[1mloaded 399 samples from file\u001b[0m\n"
     ]
    },
    {
     "data": {
      "text/plain": [
       "BaselineSymbolSet(num symbols=399 | BW: 9 | SF: 10 | Att: 0 | samples per symbol: 400 | packet length: 12100)"
      ]
     },
     "metadata": {},
     "output_type": "display_data"
    },
    {
     "name": "stdout",
     "output_type": "stream",
     "text": [
      "\u001b[32m2020-04-10 18:36:29.338\u001b[0m | \u001b[1mINFO    \u001b[0m | \u001b[36m__main__\u001b[0m:\u001b[36mfilter_symbols\u001b[0m:\u001b[36m15\u001b[0m - \u001b[1mset threshold: 711.8732\u001b[0m\n",
      "\u001b[32m2020-04-10 18:36:29.384\u001b[0m | \u001b[33m\u001b[1mWARNING \u001b[0m | \u001b[36m__main__\u001b[0m:\u001b[36mfilter_symbols\u001b[0m:\u001b[36m27\u001b[0m - \u001b[33m\u001b[1mremoved 2264 symbols  [6792 / 9056]\u001b[0m\n"
     ]
    },
    {
     "name": "stderr",
     "output_type": "stream",
     "text": [
      " 27%|██▋       | 29/106 [29:25<1:09:33, 54.20s/it]"
     ]
    },
    {
     "name": "stdout",
     "output_type": "stream",
     "text": [
      "\u001b[32m2020-04-10 18:36:29.422\u001b[0m | \u001b[33m\u001b[1mWARNING \u001b[0m | \u001b[36m__main__\u001b[0m:\u001b[36m<module>\u001b[0m:\u001b[36m2\u001b[0m - \u001b[33m\u001b[1mworking file DotPFile(id=29 | name='lora_BW9_SF11_915MHz_20ksps_Att40_v0.p')\u001b[0m\n",
      "\u001b[32m2020-04-10 18:36:29.423\u001b[0m | \u001b[34m\u001b[1mDEBUG   \u001b[0m | \u001b[36mlorapy.datafile.encoding\u001b[0m:\u001b[36mcompute_params\u001b[0m:\u001b[36m15\u001b[0m - \u001b[34m\u001b[1mcomputed samples per symbol: 800 and packet length: 24200\u001b[0m\n",
      "\u001b[32m2020-04-10 18:36:29.543\u001b[0m | \u001b[1mINFO    \u001b[0m | \u001b[36mlorapy.datafile._base_file\u001b[0m:\u001b[36mload\u001b[0m:\u001b[36m61\u001b[0m - \u001b[1mloaded 5913600 samples from file\u001b[0m\n"
     ]
    },
    {
     "data": {
      "text/plain": [
       "BaselineSymbolSet(num symbols=7392 | BW: 9 | SF: 11 | Att: 40 | samples per symbol: 800 | packet length: 24200)"
      ]
     },
     "metadata": {},
     "output_type": "display_data"
    },
    {
     "name": "stdout",
     "output_type": "stream",
     "text": [
      "\u001b[32m2020-04-10 18:36:29.547\u001b[0m | \u001b[34m\u001b[1mDEBUG   \u001b[0m | \u001b[36mlorapy.datafile.encoding\u001b[0m:\u001b[36mcompute_params\u001b[0m:\u001b[36m15\u001b[0m - \u001b[34m\u001b[1mcomputed samples per symbol: 800 and packet length: 24200\u001b[0m\n",
      "\u001b[32m2020-04-10 18:36:29.548\u001b[0m | \u001b[1mINFO    \u001b[0m | \u001b[36mlorapy.datafile._base_file\u001b[0m:\u001b[36mload\u001b[0m:\u001b[36m61\u001b[0m - \u001b[1mloaded 799 samples from file\u001b[0m\n"
     ]
    },
    {
     "data": {
      "text/plain": [
       "BaselineSymbolSet(num symbols=799 | BW: 9 | SF: 11 | Att: 0 | samples per symbol: 800 | packet length: 24200)"
      ]
     },
     "metadata": {},
     "output_type": "display_data"
    },
    {
     "name": "stdout",
     "output_type": "stream",
     "text": [
      "\u001b[32m2020-04-10 18:36:31.498\u001b[0m | \u001b[1mINFO    \u001b[0m | \u001b[36m__main__\u001b[0m:\u001b[36mfilter_symbols\u001b[0m:\u001b[36m15\u001b[0m - \u001b[1mset threshold: 0.9628\u001b[0m\n",
      "\u001b[32m2020-04-10 18:36:31.543\u001b[0m | \u001b[33m\u001b[1mWARNING \u001b[0m | \u001b[36m__main__\u001b[0m:\u001b[36mfilter_symbols\u001b[0m:\u001b[36m27\u001b[0m - \u001b[33m\u001b[1mremoved 1849 symbols  [5543 / 7392]\u001b[0m\n"
     ]
    },
    {
     "name": "stderr",
     "output_type": "stream",
     "text": [
      " 28%|██▊       | 30/106 [29:27<48:52, 38.59s/it]  "
     ]
    },
    {
     "name": "stdout",
     "output_type": "stream",
     "text": [
      "\u001b[32m2020-04-10 18:36:31.584\u001b[0m | \u001b[33m\u001b[1mWARNING \u001b[0m | \u001b[36m__main__\u001b[0m:\u001b[36m<module>\u001b[0m:\u001b[36m2\u001b[0m - \u001b[33m\u001b[1mworking file DotPFile(id=30 | name='lora_BW9_SF12_915MHz_20ksps_Att80_v0.p')\u001b[0m\n",
      "\u001b[32m2020-04-10 18:36:31.585\u001b[0m | \u001b[34m\u001b[1mDEBUG   \u001b[0m | \u001b[36mlorapy.datafile.encoding\u001b[0m:\u001b[36mcompute_params\u001b[0m:\u001b[36m15\u001b[0m - \u001b[34m\u001b[1mcomputed samples per symbol: 1599 and packet length: 48369\u001b[0m\n",
      "\u001b[32m2020-04-10 18:36:31.665\u001b[0m | \u001b[1mINFO    \u001b[0m | \u001b[36mlorapy.datafile._base_file\u001b[0m:\u001b[36mload\u001b[0m:\u001b[36m61\u001b[0m - \u001b[1mloaded 4587531 samples from file\u001b[0m\n"
     ]
    },
    {
     "data": {
      "text/plain": [
       "BaselineSymbolSet(num symbols=2869 | BW: 9 | SF: 12 | Att: 80 | samples per symbol: 1599 | packet length: 48369)"
      ]
     },
     "metadata": {},
     "output_type": "display_data"
    },
    {
     "name": "stdout",
     "output_type": "stream",
     "text": [
      "\u001b[32m2020-04-10 18:36:31.669\u001b[0m | \u001b[34m\u001b[1mDEBUG   \u001b[0m | \u001b[36mlorapy.datafile.encoding\u001b[0m:\u001b[36mcompute_params\u001b[0m:\u001b[36m15\u001b[0m - \u001b[34m\u001b[1mcomputed samples per symbol: 1599 and packet length: 48369\u001b[0m\n",
      "\u001b[32m2020-04-10 18:36:31.670\u001b[0m | \u001b[1mINFO    \u001b[0m | \u001b[36mlorapy.datafile._base_file\u001b[0m:\u001b[36mload\u001b[0m:\u001b[36m61\u001b[0m - \u001b[1mloaded 1599 samples from file\u001b[0m\n"
     ]
    },
    {
     "data": {
      "text/plain": [
       "BaselineSymbolSet(num symbols=1599 | BW: 9 | SF: 12 | Att: 0 | samples per symbol: 1599 | packet length: 48369)"
      ]
     },
     "metadata": {},
     "output_type": "display_data"
    },
    {
     "name": "stdout",
     "output_type": "stream",
     "text": [
      "\u001b[32m2020-04-10 18:36:33.829\u001b[0m | \u001b[1mINFO    \u001b[0m | \u001b[36m__main__\u001b[0m:\u001b[36mfilter_symbols\u001b[0m:\u001b[36m15\u001b[0m - \u001b[1mset threshold: 54.1734\u001b[0m\n",
      "\u001b[32m2020-04-10 18:36:33.852\u001b[0m | \u001b[33m\u001b[1mWARNING \u001b[0m | \u001b[36m__main__\u001b[0m:\u001b[36mfilter_symbols\u001b[0m:\u001b[36m27\u001b[0m - \u001b[33m\u001b[1mremoved 718 symbols  [2151 / 2869]\u001b[0m\n"
     ]
    },
    {
     "name": "stderr",
     "output_type": "stream",
     "text": [
      " 29%|██▉       | 31/106 [29:30<34:37, 27.70s/it]"
     ]
    },
    {
     "name": "stdout",
     "output_type": "stream",
     "text": [
      "\u001b[32m2020-04-10 18:36:33.892\u001b[0m | \u001b[33m\u001b[1mWARNING \u001b[0m | \u001b[36m__main__\u001b[0m:\u001b[36m<module>\u001b[0m:\u001b[36m2\u001b[0m - \u001b[33m\u001b[1mworking file DotPFile(id=31 | name='lora_BW2_SF10_915MHz_20ksps_Att20_v0.p')\u001b[0m\n",
      "\u001b[32m2020-04-10 18:36:33.893\u001b[0m | \u001b[34m\u001b[1mDEBUG   \u001b[0m | \u001b[36mlorapy.datafile.encoding\u001b[0m:\u001b[36mcompute_params\u001b[0m:\u001b[36m15\u001b[0m - \u001b[34m\u001b[1mcomputed samples per symbol: 12802 and packet length: 387260\u001b[0m\n",
      "\u001b[32m2020-04-10 18:36:34.297\u001b[0m | \u001b[1mINFO    \u001b[0m | \u001b[36mlorapy.datafile._base_file\u001b[0m:\u001b[36mload\u001b[0m:\u001b[36m61\u001b[0m - \u001b[1mloaded 9396668 samples from file\u001b[0m\n"
     ]
    },
    {
     "data": {
      "text/plain": [
       "BaselineSymbolSet(num symbols=734 | BW: 2 | SF: 10 | Att: 20 | samples per symbol: 12802 | packet length: 387260)"
      ]
     },
     "metadata": {},
     "output_type": "display_data"
    },
    {
     "name": "stdout",
     "output_type": "stream",
     "text": [
      "\u001b[32m2020-04-10 18:36:34.301\u001b[0m | \u001b[34m\u001b[1mDEBUG   \u001b[0m | \u001b[36mlorapy.datafile.encoding\u001b[0m:\u001b[36mcompute_params\u001b[0m:\u001b[36m15\u001b[0m - \u001b[34m\u001b[1mcomputed samples per symbol: 12802 and packet length: 387260\u001b[0m\n",
      "\u001b[32m2020-04-10 18:36:34.303\u001b[0m | \u001b[1mINFO    \u001b[0m | \u001b[36mlorapy.datafile._base_file\u001b[0m:\u001b[36mload\u001b[0m:\u001b[36m61\u001b[0m - \u001b[1mloaded 12801 samples from file\u001b[0m\n"
     ]
    },
    {
     "data": {
      "text/plain": [
       "BaselineSymbolSet(num symbols=12801 | BW: 2 | SF: 10 | Att: 0 | samples per symbol: 12802 | packet length: 387260)"
      ]
     },
     "metadata": {},
     "output_type": "display_data"
    },
    {
     "name": "stdout",
     "output_type": "stream",
     "text": [
      "\u001b[32m2020-04-10 18:37:43.848\u001b[0m | \u001b[1mINFO    \u001b[0m | \u001b[36m__main__\u001b[0m:\u001b[36mfilter_symbols\u001b[0m:\u001b[36m15\u001b[0m - \u001b[1mset threshold: 0.7880\u001b[0m\n",
      "\u001b[32m2020-04-10 18:37:43.900\u001b[0m | \u001b[33m\u001b[1mWARNING \u001b[0m | \u001b[36m__main__\u001b[0m:\u001b[36mfilter_symbols\u001b[0m:\u001b[36m27\u001b[0m - \u001b[33m\u001b[1mremoved 184 symbols  [550 / 734]\u001b[0m\n"
     ]
    },
    {
     "name": "stderr",
     "output_type": "stream",
     "text": [
      " 30%|███       | 32/106 [30:40<49:54, 40.47s/it]"
     ]
    },
    {
     "name": "stdout",
     "output_type": "stream",
     "text": [
      "\u001b[32m2020-04-10 18:37:44.154\u001b[0m | \u001b[33m\u001b[1mWARNING \u001b[0m | \u001b[36m__main__\u001b[0m:\u001b[36m<module>\u001b[0m:\u001b[36m2\u001b[0m - \u001b[33m\u001b[1mworking file DotPFile(id=32 | name='lora_BW8_SF12_915MHz_20ksps_Att0_v0.p')\u001b[0m\n",
      "\u001b[32m2020-04-10 18:37:44.155\u001b[0m | \u001b[34m\u001b[1mDEBUG   \u001b[0m | \u001b[36mlorapy.datafile.encoding\u001b[0m:\u001b[36mcompute_params\u001b[0m:\u001b[36m15\u001b[0m - \u001b[34m\u001b[1mcomputed samples per symbol: 3198 and packet length: 96739\u001b[0m\n",
      "\u001b[32m2020-04-10 18:37:44.259\u001b[0m | \u001b[1mINFO    \u001b[0m | \u001b[36mlorapy.datafile._base_file\u001b[0m:\u001b[36mload\u001b[0m:\u001b[36m61\u001b[0m - \u001b[1mloaded 5487768 samples from file\u001b[0m\n"
     ]
    },
    {
     "data": {
      "text/plain": [
       "BaselineSymbolSet(num symbols=1716 | BW: 8 | SF: 12 | Att: 0 | samples per symbol: 3198 | packet length: 96739)"
      ]
     },
     "metadata": {},
     "output_type": "display_data"
    },
    {
     "name": "stdout",
     "output_type": "stream",
     "text": [
      "\u001b[32m2020-04-10 18:37:44.263\u001b[0m | \u001b[34m\u001b[1mDEBUG   \u001b[0m | \u001b[36mlorapy.datafile.encoding\u001b[0m:\u001b[36mcompute_params\u001b[0m:\u001b[36m15\u001b[0m - \u001b[34m\u001b[1mcomputed samples per symbol: 3198 and packet length: 96739\u001b[0m\n",
      "\u001b[32m2020-04-10 18:37:44.264\u001b[0m | \u001b[1mINFO    \u001b[0m | \u001b[36mlorapy.datafile._base_file\u001b[0m:\u001b[36mload\u001b[0m:\u001b[36m61\u001b[0m - \u001b[1mloaded 3198 samples from file\u001b[0m\n"
     ]
    },
    {
     "data": {
      "text/plain": [
       "BaselineSymbolSet(num symbols=3198 | BW: 8 | SF: 12 | Att: 0 | samples per symbol: 3198 | packet length: 96739)"
      ]
     },
     "metadata": {},
     "output_type": "display_data"
    },
    {
     "name": "stdout",
     "output_type": "stream",
     "text": [
      "\u001b[32m2020-04-10 18:37:48.964\u001b[0m | \u001b[1mINFO    \u001b[0m | \u001b[36m__main__\u001b[0m:\u001b[36mfilter_symbols\u001b[0m:\u001b[36m15\u001b[0m - \u001b[1mset threshold: 0.1718\u001b[0m\n",
      "\u001b[32m2020-04-10 18:37:48.983\u001b[0m | \u001b[33m\u001b[1mWARNING \u001b[0m | \u001b[36m__main__\u001b[0m:\u001b[36mfilter_symbols\u001b[0m:\u001b[36m27\u001b[0m - \u001b[33m\u001b[1mremoved 429 symbols  [1287 / 1716]\u001b[0m\n"
     ]
    },
    {
     "name": "stderr",
     "output_type": "stream",
     "text": [
      " 31%|███       | 33/106 [30:45<36:15, 29.80s/it]"
     ]
    },
    {
     "name": "stdout",
     "output_type": "stream",
     "text": [
      "\u001b[32m2020-04-10 18:37:49.045\u001b[0m | \u001b[33m\u001b[1mWARNING \u001b[0m | \u001b[36m__main__\u001b[0m:\u001b[36m<module>\u001b[0m:\u001b[36m2\u001b[0m - \u001b[33m\u001b[1mworking file DotPFile(id=33 | name='lora_BW9_SF10_915MHz_20ksps_Att80_v0.p')\u001b[0m\n",
      "\u001b[32m2020-04-10 18:37:49.046\u001b[0m | \u001b[34m\u001b[1mDEBUG   \u001b[0m | \u001b[36mlorapy.datafile.encoding\u001b[0m:\u001b[36mcompute_params\u001b[0m:\u001b[36m15\u001b[0m - \u001b[34m\u001b[1mcomputed samples per symbol: 400 and packet length: 12100\u001b[0m\n",
      "\u001b[32m2020-04-10 18:37:49.210\u001b[0m | \u001b[1mINFO    \u001b[0m | \u001b[36mlorapy.datafile._base_file\u001b[0m:\u001b[36mload\u001b[0m:\u001b[36m61\u001b[0m - \u001b[1mloaded 4416400 samples from file\u001b[0m\n"
     ]
    },
    {
     "data": {
      "text/plain": [
       "BaselineSymbolSet(num symbols=11041 | BW: 9 | SF: 10 | Att: 80 | samples per symbol: 400 | packet length: 12100)"
      ]
     },
     "metadata": {},
     "output_type": "display_data"
    },
    {
     "name": "stdout",
     "output_type": "stream",
     "text": [
      "\u001b[32m2020-04-10 18:37:49.214\u001b[0m | \u001b[34m\u001b[1mDEBUG   \u001b[0m | \u001b[36mlorapy.datafile.encoding\u001b[0m:\u001b[36mcompute_params\u001b[0m:\u001b[36m15\u001b[0m - \u001b[34m\u001b[1mcomputed samples per symbol: 400 and packet length: 12100\u001b[0m\n",
      "\u001b[32m2020-04-10 18:37:49.215\u001b[0m | \u001b[1mINFO    \u001b[0m | \u001b[36mlorapy.datafile._base_file\u001b[0m:\u001b[36mload\u001b[0m:\u001b[36m61\u001b[0m - \u001b[1mloaded 399 samples from file\u001b[0m\n"
     ]
    },
    {
     "data": {
      "text/plain": [
       "BaselineSymbolSet(num symbols=399 | BW: 9 | SF: 10 | Att: 0 | samples per symbol: 400 | packet length: 12100)"
      ]
     },
     "metadata": {},
     "output_type": "display_data"
    },
    {
     "name": "stdout",
     "output_type": "stream",
     "text": [
      "\u001b[32m2020-04-10 18:37:50.865\u001b[0m | \u001b[1mINFO    \u001b[0m | \u001b[36m__main__\u001b[0m:\u001b[36mfilter_symbols\u001b[0m:\u001b[36m15\u001b[0m - \u001b[1mset threshold: 84.1369\u001b[0m\n",
      "\u001b[32m2020-04-10 18:37:50.910\u001b[0m | \u001b[33m\u001b[1mWARNING \u001b[0m | \u001b[36m__main__\u001b[0m:\u001b[36mfilter_symbols\u001b[0m:\u001b[36m27\u001b[0m - \u001b[33m\u001b[1mremoved 2761 symbols  [8280 / 11041]\u001b[0m\n"
     ]
    },
    {
     "name": "stderr",
     "output_type": "stream",
     "text": [
      " 32%|███▏      | 34/106 [30:47<25:43, 21.44s/it]"
     ]
    },
    {
     "name": "stdout",
     "output_type": "stream",
     "text": [
      "\u001b[32m2020-04-10 18:37:50.968\u001b[0m | \u001b[33m\u001b[1mWARNING \u001b[0m | \u001b[36m__main__\u001b[0m:\u001b[36m<module>\u001b[0m:\u001b[36m2\u001b[0m - \u001b[33m\u001b[1mworking file DotPFile(id=34 | name='lora_BW8_SF12_915MHz_20ksps_Att20_v0.p')\u001b[0m\n",
      "\u001b[32m2020-04-10 18:37:50.970\u001b[0m | \u001b[34m\u001b[1mDEBUG   \u001b[0m | \u001b[36mlorapy.datafile.encoding\u001b[0m:\u001b[36mcompute_params\u001b[0m:\u001b[36m15\u001b[0m - \u001b[34m\u001b[1mcomputed samples per symbol: 3198 and packet length: 96739\u001b[0m\n",
      "\u001b[32m2020-04-10 18:37:51.060\u001b[0m | \u001b[1mINFO    \u001b[0m | \u001b[36mlorapy.datafile._base_file\u001b[0m:\u001b[36mload\u001b[0m:\u001b[36m61\u001b[0m - \u001b[1mloaded 5797974 samples from file\u001b[0m\n"
     ]
    },
    {
     "data": {
      "text/plain": [
       "BaselineSymbolSet(num symbols=1813 | BW: 8 | SF: 12 | Att: 20 | samples per symbol: 3198 | packet length: 96739)"
      ]
     },
     "metadata": {},
     "output_type": "display_data"
    },
    {
     "name": "stdout",
     "output_type": "stream",
     "text": [
      "\u001b[32m2020-04-10 18:37:51.063\u001b[0m | \u001b[34m\u001b[1mDEBUG   \u001b[0m | \u001b[36mlorapy.datafile.encoding\u001b[0m:\u001b[36mcompute_params\u001b[0m:\u001b[36m15\u001b[0m - \u001b[34m\u001b[1mcomputed samples per symbol: 3198 and packet length: 96739\u001b[0m\n",
      "\u001b[32m2020-04-10 18:37:51.065\u001b[0m | \u001b[1mINFO    \u001b[0m | \u001b[36mlorapy.datafile._base_file\u001b[0m:\u001b[36mload\u001b[0m:\u001b[36m61\u001b[0m - \u001b[1mloaded 3198 samples from file\u001b[0m\n"
     ]
    },
    {
     "data": {
      "text/plain": [
       "BaselineSymbolSet(num symbols=3198 | BW: 8 | SF: 12 | Att: 0 | samples per symbol: 3198 | packet length: 96739)"
      ]
     },
     "metadata": {},
     "output_type": "display_data"
    },
    {
     "name": "stdout",
     "output_type": "stream",
     "text": [
      "\u001b[32m2020-04-10 18:37:56.392\u001b[0m | \u001b[1mINFO    \u001b[0m | \u001b[36m__main__\u001b[0m:\u001b[36mfilter_symbols\u001b[0m:\u001b[36m15\u001b[0m - \u001b[1mset threshold: 0.1860\u001b[0m\n",
      "\u001b[32m2020-04-10 18:37:56.411\u001b[0m | \u001b[33m\u001b[1mWARNING \u001b[0m | \u001b[36m__main__\u001b[0m:\u001b[36mfilter_symbols\u001b[0m:\u001b[36m27\u001b[0m - \u001b[33m\u001b[1mremoved 454 symbols  [1359 / 1813]\u001b[0m\n"
     ]
    },
    {
     "name": "stderr",
     "output_type": "stream",
     "text": [
      " 33%|███▎      | 35/106 [30:52<19:42, 16.66s/it]"
     ]
    },
    {
     "name": "stdout",
     "output_type": "stream",
     "text": [
      "\u001b[32m2020-04-10 18:37:56.479\u001b[0m | \u001b[33m\u001b[1mWARNING \u001b[0m | \u001b[36m__main__\u001b[0m:\u001b[36m<module>\u001b[0m:\u001b[36m2\u001b[0m - \u001b[33m\u001b[1mworking file DotPFile(id=35 | name='lora_BW8_SF11_915MHz_20ksps_Att60_v0.p')\u001b[0m\n",
      "\u001b[32m2020-04-10 18:37:56.481\u001b[0m | \u001b[34m\u001b[1mDEBUG   \u001b[0m | \u001b[36mlorapy.datafile.encoding\u001b[0m:\u001b[36mcompute_params\u001b[0m:\u001b[36m15\u001b[0m - \u001b[34m\u001b[1mcomputed samples per symbol: 1599 and packet length: 48369\u001b[0m\n",
      "\u001b[32m2020-04-10 18:37:56.734\u001b[0m | \u001b[1mINFO    \u001b[0m | \u001b[36mlorapy.datafile._base_file\u001b[0m:\u001b[36mload\u001b[0m:\u001b[36m61\u001b[0m - \u001b[1mloaded 6691815 samples from file\u001b[0m\n"
     ]
    },
    {
     "data": {
      "text/plain": [
       "BaselineSymbolSet(num symbols=4185 | BW: 8 | SF: 11 | Att: 60 | samples per symbol: 1599 | packet length: 48369)"
      ]
     },
     "metadata": {},
     "output_type": "display_data"
    },
    {
     "name": "stdout",
     "output_type": "stream",
     "text": [
      "\u001b[32m2020-04-10 18:37:56.738\u001b[0m | \u001b[34m\u001b[1mDEBUG   \u001b[0m | \u001b[36mlorapy.datafile.encoding\u001b[0m:\u001b[36mcompute_params\u001b[0m:\u001b[36m15\u001b[0m - \u001b[34m\u001b[1mcomputed samples per symbol: 1599 and packet length: 48369\u001b[0m\n",
      "\u001b[32m2020-04-10 18:37:56.739\u001b[0m | \u001b[1mINFO    \u001b[0m | \u001b[36mlorapy.datafile._base_file\u001b[0m:\u001b[36mload\u001b[0m:\u001b[36m61\u001b[0m - \u001b[1mloaded 1599 samples from file\u001b[0m\n"
     ]
    },
    {
     "data": {
      "text/plain": [
       "BaselineSymbolSet(num symbols=1599 | BW: 8 | SF: 11 | Att: 0 | samples per symbol: 1599 | packet length: 48369)"
      ]
     },
     "metadata": {},
     "output_type": "display_data"
    },
    {
     "name": "stdout",
     "output_type": "stream",
     "text": [
      "\u001b[32m2020-04-10 18:38:02.596\u001b[0m | \u001b[1mINFO    \u001b[0m | \u001b[36m__main__\u001b[0m:\u001b[36mfilter_symbols\u001b[0m:\u001b[36m15\u001b[0m - \u001b[1mset threshold: 10.9630\u001b[0m\n",
      "\u001b[32m2020-04-10 18:38:02.646\u001b[0m | \u001b[33m\u001b[1mWARNING \u001b[0m | \u001b[36m__main__\u001b[0m:\u001b[36mfilter_symbols\u001b[0m:\u001b[36m27\u001b[0m - \u001b[33m\u001b[1mremoved 1047 symbols  [3138 / 4185]\u001b[0m\n"
     ]
    },
    {
     "name": "stderr",
     "output_type": "stream",
     "text": [
      " 34%|███▍      | 36/106 [30:59<15:50, 13.58s/it]"
     ]
    },
    {
     "name": "stdout",
     "output_type": "stream",
     "text": [
      "\u001b[32m2020-04-10 18:38:02.889\u001b[0m | \u001b[33m\u001b[1mWARNING \u001b[0m | \u001b[36m__main__\u001b[0m:\u001b[36m<module>\u001b[0m:\u001b[36m2\u001b[0m - \u001b[33m\u001b[1mworking file DotPFile(id=36 | name='lora_BW2_SF11_915MHz_20ksps_Att100_v0.p')\u001b[0m\n",
      "\u001b[32m2020-04-10 18:38:02.890\u001b[0m | \u001b[34m\u001b[1mDEBUG   \u001b[0m | \u001b[36mlorapy.datafile.encoding\u001b[0m:\u001b[36mcompute_params\u001b[0m:\u001b[36m15\u001b[0m - \u001b[34m\u001b[1mcomputed samples per symbol: 25604 and packet length: 774521\u001b[0m\n",
      "\u001b[32m2020-04-10 18:38:03.589\u001b[0m | \u001b[1mINFO    \u001b[0m | \u001b[36mlorapy.datafile._base_file\u001b[0m:\u001b[36mload\u001b[0m:\u001b[36m61\u001b[0m - \u001b[1mloaded 9319856 samples from file\u001b[0m\n"
     ]
    },
    {
     "data": {
      "text/plain": [
       "BaselineSymbolSet(num symbols=364 | BW: 2 | SF: 11 | Att: 100 | samples per symbol: 25604 | packet length: 774521)"
      ]
     },
     "metadata": {},
     "output_type": "display_data"
    },
    {
     "name": "stdout",
     "output_type": "stream",
     "text": [
      "\u001b[32m2020-04-10 18:38:03.594\u001b[0m | \u001b[34m\u001b[1mDEBUG   \u001b[0m | \u001b[36mlorapy.datafile.encoding\u001b[0m:\u001b[36mcompute_params\u001b[0m:\u001b[36m15\u001b[0m - \u001b[34m\u001b[1mcomputed samples per symbol: 25604 and packet length: 774521\u001b[0m\n",
      "\u001b[32m2020-04-10 18:38:03.595\u001b[0m | \u001b[1mINFO    \u001b[0m | \u001b[36mlorapy.datafile._base_file\u001b[0m:\u001b[36mload\u001b[0m:\u001b[36m61\u001b[0m - \u001b[1mloaded 25603 samples from file\u001b[0m\n"
     ]
    },
    {
     "data": {
      "text/plain": [
       "BaselineSymbolSet(num symbols=25603 | BW: 2 | SF: 11 | Att: 0 | samples per symbol: 25604 | packet length: 774521)"
      ]
     },
     "metadata": {},
     "output_type": "display_data"
    },
    {
     "name": "stdout",
     "output_type": "stream",
     "text": [
      "\u001b[32m2020-04-10 18:39:52.356\u001b[0m | \u001b[1mINFO    \u001b[0m | \u001b[36m__main__\u001b[0m:\u001b[36mfilter_symbols\u001b[0m:\u001b[36m15\u001b[0m - \u001b[1mset threshold: 5043.9042\u001b[0m\n",
      "\u001b[32m2020-04-10 18:39:52.441\u001b[0m | \u001b[33m\u001b[1mWARNING \u001b[0m | \u001b[36m__main__\u001b[0m:\u001b[36mfilter_symbols\u001b[0m:\u001b[36m27\u001b[0m - \u001b[33m\u001b[1mremoved 91 symbols  [273 / 364]\u001b[0m\n"
     ]
    },
    {
     "name": "stderr",
     "output_type": "stream",
     "text": [
      " 35%|███▍      | 37/106 [32:49<48:50, 42.47s/it]"
     ]
    },
    {
     "name": "stdout",
     "output_type": "stream",
     "text": [
      "\u001b[32m2020-04-10 18:39:52.746\u001b[0m | \u001b[33m\u001b[1mWARNING \u001b[0m | \u001b[36m__main__\u001b[0m:\u001b[36m<module>\u001b[0m:\u001b[36m2\u001b[0m - \u001b[33m\u001b[1mworking file DotPFile(id=37 | name='lora_BW1_SF12_915MHz_20ksps_Att120_v0.p')\u001b[0m\n",
      "\u001b[32m2020-04-10 18:39:52.747\u001b[0m | \u001b[34m\u001b[1mDEBUG   \u001b[0m | \u001b[36mlorapy.datafile.encoding\u001b[0m:\u001b[36mcompute_params\u001b[0m:\u001b[36m15\u001b[0m - \u001b[34m\u001b[1mcomputed samples per symbol: 76801 and packet length: 2323230\u001b[0m\n",
      "\u001b[32m2020-04-10 18:39:52.917\u001b[0m | \u001b[1mINFO    \u001b[0m | \u001b[36mlorapy.datafile._base_file\u001b[0m:\u001b[36mload\u001b[0m:\u001b[36m61\u001b[0m - \u001b[1mloaded 8448110 samples from file\u001b[0m\n"
     ]
    },
    {
     "data": {
      "text/plain": [
       "BaselineSymbolSet(num symbols=110 | BW: 1 | SF: 12 | Att: 120 | samples per symbol: 76801 | packet length: 2323230)"
      ]
     },
     "metadata": {},
     "output_type": "display_data"
    },
    {
     "name": "stdout",
     "output_type": "stream",
     "text": [
      "\u001b[32m2020-04-10 18:39:52.921\u001b[0m | \u001b[34m\u001b[1mDEBUG   \u001b[0m | \u001b[36mlorapy.datafile.encoding\u001b[0m:\u001b[36mcompute_params\u001b[0m:\u001b[36m15\u001b[0m - \u001b[34m\u001b[1mcomputed samples per symbol: 76801 and packet length: 2323230\u001b[0m\n",
      "\u001b[32m2020-04-10 18:39:52.924\u001b[0m | \u001b[1mINFO    \u001b[0m | \u001b[36mlorapy.datafile._base_file\u001b[0m:\u001b[36mload\u001b[0m:\u001b[36m61\u001b[0m - \u001b[1mloaded 76800 samples from file\u001b[0m\n"
     ]
    },
    {
     "data": {
      "text/plain": [
       "BaselineSymbolSet(num symbols=76800 | BW: 1 | SF: 12 | Att: 0 | samples per symbol: 76801 | packet length: 2323230)"
      ]
     },
     "metadata": {},
     "output_type": "display_data"
    },
    {
     "name": "stdout",
     "output_type": "stream",
     "text": [
      "\u001b[32m2020-04-10 18:45:36.489\u001b[0m | \u001b[1mINFO    \u001b[0m | \u001b[36m__main__\u001b[0m:\u001b[36mfilter_symbols\u001b[0m:\u001b[36m15\u001b[0m - \u001b[1mset threshold: 54.4508\u001b[0m\n",
      "\u001b[32m2020-04-10 18:45:36.522\u001b[0m | \u001b[33m\u001b[1mWARNING \u001b[0m | \u001b[36m__main__\u001b[0m:\u001b[36mfilter_symbols\u001b[0m:\u001b[36m27\u001b[0m - \u001b[33m\u001b[1mremoved 85 symbols  [253 / 338]\u001b[0m\n"
     ]
    },
    {
     "name": "stderr",
     "output_type": "stream",
     "text": [
      " 42%|████▏     | 44/106 [38:32<43:30, 42.11s/it]"
     ]
    },
    {
     "name": "stdout",
     "output_type": "stream",
     "text": [
      "\u001b[32m2020-04-10 18:45:36.582\u001b[0m | \u001b[33m\u001b[1mWARNING \u001b[0m | \u001b[36m__main__\u001b[0m:\u001b[36m<module>\u001b[0m:\u001b[36m2\u001b[0m - \u001b[33m\u001b[1mworking file DotPFile(id=44 | name='lora_BW8_SF10_915MHz_20ksps_Att120_v0.p')\u001b[0m\n",
      "\u001b[32m2020-04-10 18:45:36.583\u001b[0m | \u001b[34m\u001b[1mDEBUG   \u001b[0m | \u001b[36mlorapy.datafile.encoding\u001b[0m:\u001b[36mcompute_params\u001b[0m:\u001b[36m15\u001b[0m - \u001b[34m\u001b[1mcomputed samples per symbol: 800 and packet length: 24200\u001b[0m\n",
      "\u001b[32m2020-04-10 18:45:36.688\u001b[0m | \u001b[1mINFO    \u001b[0m | \u001b[36mlorapy.datafile._base_file\u001b[0m:\u001b[36mload\u001b[0m:\u001b[36m61\u001b[0m - \u001b[1mloaded 5626400 samples from file\u001b[0m\n"
     ]
    },
    {
     "name": "stderr",
     "output_type": "stream",
     "text": [
      " 42%|████▏     | 45/106 [38:33<29:59, 29.51s/it]"
     ]
    },
    {
     "name": "stdout",
     "output_type": "stream",
     "text": [
      "\u001b[32m2020-04-10 18:45:36.690\u001b[0m | \u001b[33m\u001b[1mWARNING \u001b[0m | \u001b[36m__main__\u001b[0m:\u001b[36m<module>\u001b[0m:\u001b[36m2\u001b[0m - \u001b[33m\u001b[1mworking file DotPFile(id=45 | name='lora_BW7_SF12_915MHz_20ksps_Att100_v0.p')\u001b[0m\n",
      "\u001b[32m2020-04-10 18:45:36.691\u001b[0m | \u001b[34m\u001b[1mDEBUG   \u001b[0m | \u001b[36mlorapy.datafile.encoding\u001b[0m:\u001b[36mcompute_params\u001b[0m:\u001b[36m15\u001b[0m - \u001b[34m\u001b[1mcomputed samples per symbol: 6386 and packet length: 193176\u001b[0m\n",
      "\u001b[32m2020-04-10 18:45:36.799\u001b[0m | \u001b[1mINFO    \u001b[0m | \u001b[36mlorapy.datafile._base_file\u001b[0m:\u001b[36mload\u001b[0m:\u001b[36m61\u001b[0m - \u001b[1mloaded 6239122 samples from file\u001b[0m\n"
     ]
    },
    {
     "data": {
      "text/plain": [
       "BaselineSymbolSet(num symbols=977 | BW: 7 | SF: 12 | Att: 100 | samples per symbol: 6386 | packet length: 193176)"
      ]
     },
     "metadata": {},
     "output_type": "display_data"
    },
    {
     "name": "stdout",
     "output_type": "stream",
     "text": [
      "\u001b[32m2020-04-10 18:45:36.803\u001b[0m | \u001b[34m\u001b[1mDEBUG   \u001b[0m | \u001b[36mlorapy.datafile.encoding\u001b[0m:\u001b[36mcompute_params\u001b[0m:\u001b[36m15\u001b[0m - \u001b[34m\u001b[1mcomputed samples per symbol: 6386 and packet length: 193176\u001b[0m\n",
      "\u001b[32m2020-04-10 18:45:36.804\u001b[0m | \u001b[1mINFO    \u001b[0m | \u001b[36mlorapy.datafile._base_file\u001b[0m:\u001b[36mload\u001b[0m:\u001b[36m61\u001b[0m - \u001b[1mloaded 6386 samples from file\u001b[0m\n"
     ]
    },
    {
     "data": {
      "text/plain": [
       "BaselineSymbolSet(num symbols=6386 | BW: 7 | SF: 12 | Att: 0 | samples per symbol: 6386 | packet length: 193176)"
      ]
     },
     "metadata": {},
     "output_type": "display_data"
    },
    {
     "name": "stdout",
     "output_type": "stream",
     "text": [
      "\u001b[32m2020-04-10 18:45:54.399\u001b[0m | \u001b[1mINFO    \u001b[0m | \u001b[36m__main__\u001b[0m:\u001b[36mfilter_symbols\u001b[0m:\u001b[36m15\u001b[0m - \u001b[1mset threshold: 1315.2263\u001b[0m\n",
      "\u001b[32m2020-04-10 18:45:54.417\u001b[0m | \u001b[33m\u001b[1mWARNING \u001b[0m | \u001b[36m__main__\u001b[0m:\u001b[36mfilter_symbols\u001b[0m:\u001b[36m27\u001b[0m - \u001b[33m\u001b[1mremoved 245 symbols  [732 / 977]\u001b[0m\n"
     ]
    },
    {
     "name": "stderr",
     "output_type": "stream",
     "text": [
      " 43%|████▎     | 46/106 [38:50<25:59, 26.00s/it]"
     ]
    },
    {
     "name": "stdout",
     "output_type": "stream",
     "text": [
      "\u001b[32m2020-04-10 18:45:54.495\u001b[0m | \u001b[33m\u001b[1mWARNING \u001b[0m | \u001b[36m__main__\u001b[0m:\u001b[36m<module>\u001b[0m:\u001b[36m2\u001b[0m - \u001b[33m\u001b[1mworking file DotPFile(id=46 | name='lora_BW7_SF12_915MHz_20ksps_Att80_v0.p')\u001b[0m\n",
      "\u001b[32m2020-04-10 18:45:54.496\u001b[0m | \u001b[34m\u001b[1mDEBUG   \u001b[0m | \u001b[36mlorapy.datafile.encoding\u001b[0m:\u001b[36mcompute_params\u001b[0m:\u001b[36m15\u001b[0m - \u001b[34m\u001b[1mcomputed samples per symbol: 6386 and packet length: 193176\u001b[0m\n",
      "\u001b[32m2020-04-10 18:45:54.768\u001b[0m | \u001b[1mINFO    \u001b[0m | \u001b[36mlorapy.datafile._base_file\u001b[0m:\u001b[36mload\u001b[0m:\u001b[36m61\u001b[0m - \u001b[1mloaded 6424316 samples from file\u001b[0m\n"
     ]
    },
    {
     "data": {
      "text/plain": [
       "BaselineSymbolSet(num symbols=1006 | BW: 7 | SF: 12 | Att: 80 | samples per symbol: 6386 | packet length: 193176)"
      ]
     },
     "metadata": {},
     "output_type": "display_data"
    },
    {
     "name": "stdout",
     "output_type": "stream",
     "text": [
      "\u001b[32m2020-04-10 18:45:54.771\u001b[0m | \u001b[34m\u001b[1mDEBUG   \u001b[0m | \u001b[36mlorapy.datafile.encoding\u001b[0m:\u001b[36mcompute_params\u001b[0m:\u001b[36m15\u001b[0m - \u001b[34m\u001b[1mcomputed samples per symbol: 6386 and packet length: 193176\u001b[0m\n",
      "\u001b[32m2020-04-10 18:45:54.772\u001b[0m | \u001b[1mINFO    \u001b[0m | \u001b[36mlorapy.datafile._base_file\u001b[0m:\u001b[36mload\u001b[0m:\u001b[36m61\u001b[0m - \u001b[1mloaded 6386 samples from file\u001b[0m\n"
     ]
    },
    {
     "data": {
      "text/plain": [
       "BaselineSymbolSet(num symbols=6386 | BW: 7 | SF: 12 | Att: 0 | samples per symbol: 6386 | packet length: 193176)"
      ]
     },
     "metadata": {},
     "output_type": "display_data"
    },
    {
     "name": "stdout",
     "output_type": "stream",
     "text": [
      "\u001b[32m2020-04-10 18:46:23.398\u001b[0m | \u001b[1mINFO    \u001b[0m | \u001b[36m__main__\u001b[0m:\u001b[36mfilter_symbols\u001b[0m:\u001b[36m15\u001b[0m - \u001b[1mset threshold: 148.6219\u001b[0m\n",
      "\u001b[32m2020-04-10 18:46:23.443\u001b[0m | \u001b[33m\u001b[1mWARNING \u001b[0m | \u001b[36m__main__\u001b[0m:\u001b[36mfilter_symbols\u001b[0m:\u001b[36m27\u001b[0m - \u001b[33m\u001b[1mremoved 252 symbols  [754 / 1006]\u001b[0m\n"
     ]
    },
    {
     "name": "stderr",
     "output_type": "stream",
     "text": [
      " 44%|████▍     | 47/106 [39:19<26:28, 26.93s/it]"
     ]
    },
    {
     "name": "stdout",
     "output_type": "stream",
     "text": [
      "\u001b[32m2020-04-10 18:46:23.596\u001b[0m | \u001b[33m\u001b[1mWARNING \u001b[0m | \u001b[36m__main__\u001b[0m:\u001b[36m<module>\u001b[0m:\u001b[36m2\u001b[0m - \u001b[33m\u001b[1mworking file DotPFile(id=47 | name='lora_BW1_SF11_915MHz_20ksps_Att140_v0.p')\u001b[0m\n",
      "\u001b[32m2020-04-10 18:46:23.597\u001b[0m | \u001b[34m\u001b[1mDEBUG   \u001b[0m | \u001b[36mlorapy.datafile.encoding\u001b[0m:\u001b[36mcompute_params\u001b[0m:\u001b[36m15\u001b[0m - \u001b[34m\u001b[1mcomputed samples per symbol: 38396 and packet length: 1161479\u001b[0m\n",
      "\u001b[32m2020-04-10 18:46:23.783\u001b[0m | \u001b[1mINFO    \u001b[0m | \u001b[36mlorapy.datafile._base_file\u001b[0m:\u001b[36mload\u001b[0m:\u001b[36m61\u001b[0m - \u001b[1mloaded 9714188 samples from file\u001b[0m\n"
     ]
    },
    {
     "data": {
      "text/plain": [
       "BaselineSymbolSet(num symbols=253 | BW: 1 | SF: 11 | Att: 140 | samples per symbol: 38396 | packet length: 1161479)"
      ]
     },
     "metadata": {},
     "output_type": "display_data"
    },
    {
     "name": "stdout",
     "output_type": "stream",
     "text": [
      "\u001b[32m2020-04-10 18:46:23.786\u001b[0m | \u001b[34m\u001b[1mDEBUG   \u001b[0m | \u001b[36mlorapy.datafile.encoding\u001b[0m:\u001b[36mcompute_params\u001b[0m:\u001b[36m15\u001b[0m - \u001b[34m\u001b[1mcomputed samples per symbol: 38396 and packet length: 1161479\u001b[0m\n",
      "\u001b[32m2020-04-10 18:46:23.788\u001b[0m | \u001b[1mINFO    \u001b[0m | \u001b[36mlorapy.datafile._base_file\u001b[0m:\u001b[36mload\u001b[0m:\u001b[36m61\u001b[0m - \u001b[1mloaded 38395 samples from file\u001b[0m\n"
     ]
    },
    {
     "data": {
      "text/plain": [
       "BaselineSymbolSet(num symbols=38395 | BW: 1 | SF: 11 | Att: 0 | samples per symbol: 38396 | packet length: 1161479)"
      ]
     },
     "metadata": {},
     "output_type": "display_data"
    },
    {
     "name": "stdout",
     "output_type": "stream",
     "text": [
      "\u001b[32m2020-04-10 18:48:10.845\u001b[0m | \u001b[1mINFO    \u001b[0m | \u001b[36m__main__\u001b[0m:\u001b[36mfilter_symbols\u001b[0m:\u001b[36m15\u001b[0m - \u001b[1mset threshold: 8406.8848\u001b[0m\n",
      "\u001b[32m2020-04-10 18:48:10.881\u001b[0m | \u001b[33m\u001b[1mWARNING \u001b[0m | \u001b[36m__main__\u001b[0m:\u001b[36mfilter_symbols\u001b[0m:\u001b[36m27\u001b[0m - \u001b[33m\u001b[1mremoved 64 symbols  [189 / 253]\u001b[0m\n"
     ]
    },
    {
     "name": "stderr",
     "output_type": "stream",
     "text": [
      " 45%|████▌     | 48/106 [41:07<49:22, 51.08s/it]"
     ]
    },
    {
     "name": "stdout",
     "output_type": "stream",
     "text": [
      "\u001b[32m2020-04-10 18:48:11.024\u001b[0m | \u001b[33m\u001b[1mWARNING \u001b[0m | \u001b[36m__main__\u001b[0m:\u001b[36m<module>\u001b[0m:\u001b[36m2\u001b[0m - \u001b[33m\u001b[1mworking file DotPFile(id=48 | name='lora_BW2_SF10_915MHz_20ksps_Att80_v0.p')\u001b[0m\n",
      "\u001b[32m2020-04-10 18:48:11.026\u001b[0m | \u001b[34m\u001b[1mDEBUG   \u001b[0m | \u001b[36mlorapy.datafile.encoding\u001b[0m:\u001b[36mcompute_params\u001b[0m:\u001b[36m15\u001b[0m - \u001b[34m\u001b[1mcomputed samples per symbol: 12802 and packet length: 387260\u001b[0m\n",
      "\u001b[32m2020-04-10 18:48:11.674\u001b[0m | \u001b[1mINFO    \u001b[0m | \u001b[36mlorapy.datafile._base_file\u001b[0m:\u001b[36mload\u001b[0m:\u001b[36m61\u001b[0m - \u001b[1mloaded 8359706 samples from file\u001b[0m\n"
     ]
    },
    {
     "data": {
      "text/plain": [
       "BaselineSymbolSet(num symbols=653 | BW: 2 | SF: 10 | Att: 80 | samples per symbol: 12802 | packet length: 387260)"
      ]
     },
     "metadata": {},
     "output_type": "display_data"
    },
    {
     "name": "stdout",
     "output_type": "stream",
     "text": [
      "\u001b[32m2020-04-10 18:48:11.678\u001b[0m | \u001b[34m\u001b[1mDEBUG   \u001b[0m | \u001b[36mlorapy.datafile.encoding\u001b[0m:\u001b[36mcompute_params\u001b[0m:\u001b[36m15\u001b[0m - \u001b[34m\u001b[1mcomputed samples per symbol: 12802 and packet length: 387260\u001b[0m\n",
      "\u001b[32m2020-04-10 18:48:11.680\u001b[0m | \u001b[1mINFO    \u001b[0m | \u001b[36mlorapy.datafile._base_file\u001b[0m:\u001b[36mload\u001b[0m:\u001b[36m61\u001b[0m - \u001b[1mloaded 12801 samples from file\u001b[0m\n"
     ]
    },
    {
     "data": {
      "text/plain": [
       "BaselineSymbolSet(num symbols=12801 | BW: 2 | SF: 10 | Att: 0 | samples per symbol: 12802 | packet length: 387260)"
      ]
     },
     "metadata": {},
     "output_type": "display_data"
    },
    {
     "name": "stdout",
     "output_type": "stream",
     "text": [
      "\u001b[32m2020-04-10 18:49:14.691\u001b[0m | \u001b[1mINFO    \u001b[0m | \u001b[36m__main__\u001b[0m:\u001b[36mfilter_symbols\u001b[0m:\u001b[36m15\u001b[0m - \u001b[1mset threshold: 563.8538\u001b[0m\n",
      "\u001b[32m2020-04-10 18:49:14.796\u001b[0m | \u001b[33m\u001b[1mWARNING \u001b[0m | \u001b[36m__main__\u001b[0m:\u001b[36mfilter_symbols\u001b[0m:\u001b[36m27\u001b[0m - \u001b[33m\u001b[1mremoved 164 symbols  [489 / 653]\u001b[0m\n"
     ]
    },
    {
     "name": "stderr",
     "output_type": "stream",
     "text": [
      " 46%|████▌     | 49/106 [42:11<52:14, 54.99s/it]"
     ]
    },
    {
     "name": "stdout",
     "output_type": "stream",
     "text": [
      "\u001b[32m2020-04-10 18:49:15.141\u001b[0m | \u001b[33m\u001b[1mWARNING \u001b[0m | \u001b[36m__main__\u001b[0m:\u001b[36m<module>\u001b[0m:\u001b[36m2\u001b[0m - \u001b[33m\u001b[1mworking file DotPFile(id=49 | name='lora_BW9_SF11_915MHz_20ksps_Att20_v0.p')\u001b[0m\n",
      "\u001b[32m2020-04-10 18:49:15.142\u001b[0m | \u001b[34m\u001b[1mDEBUG   \u001b[0m | \u001b[36mlorapy.datafile.encoding\u001b[0m:\u001b[36mcompute_params\u001b[0m:\u001b[36m15\u001b[0m - \u001b[34m\u001b[1mcomputed samples per symbol: 800 and packet length: 24200\u001b[0m\n",
      "\u001b[32m2020-04-10 18:49:15.234\u001b[0m | \u001b[1mINFO    \u001b[0m | \u001b[36mlorapy.datafile._base_file\u001b[0m:\u001b[36mload\u001b[0m:\u001b[36m61\u001b[0m - \u001b[1mloaded 5013600 samples from file\u001b[0m\n"
     ]
    },
    {
     "data": {
      "text/plain": [
       "BaselineSymbolSet(num symbols=6267 | BW: 9 | SF: 11 | Att: 20 | samples per symbol: 800 | packet length: 24200)"
      ]
     },
     "metadata": {},
     "output_type": "display_data"
    },
    {
     "name": "stdout",
     "output_type": "stream",
     "text": [
      "\u001b[32m2020-04-10 18:49:15.238\u001b[0m | \u001b[34m\u001b[1mDEBUG   \u001b[0m | \u001b[36mlorapy.datafile.encoding\u001b[0m:\u001b[36mcompute_params\u001b[0m:\u001b[36m15\u001b[0m - \u001b[34m\u001b[1mcomputed samples per symbol: 800 and packet length: 24200\u001b[0m\n",
      "\u001b[32m2020-04-10 18:49:15.239\u001b[0m | \u001b[1mINFO    \u001b[0m | \u001b[36mlorapy.datafile._base_file\u001b[0m:\u001b[36mload\u001b[0m:\u001b[36m61\u001b[0m - \u001b[1mloaded 799 samples from file\u001b[0m\n"
     ]
    },
    {
     "data": {
      "text/plain": [
       "BaselineSymbolSet(num symbols=799 | BW: 9 | SF: 11 | Att: 0 | samples per symbol: 800 | packet length: 24200)"
      ]
     },
     "metadata": {},
     "output_type": "display_data"
    },
    {
     "name": "stdout",
     "output_type": "stream",
     "text": [
      "\u001b[32m2020-04-10 18:49:16.771\u001b[0m | \u001b[1mINFO    \u001b[0m | \u001b[36m__main__\u001b[0m:\u001b[36mfilter_symbols\u001b[0m:\u001b[36m15\u001b[0m - \u001b[1mset threshold: 0.1361\u001b[0m\n",
      "\u001b[32m2020-04-10 18:49:16.804\u001b[0m | \u001b[33m\u001b[1mWARNING \u001b[0m | \u001b[36m__main__\u001b[0m:\u001b[36mfilter_symbols\u001b[0m:\u001b[36m27\u001b[0m - \u001b[33m\u001b[1mremoved 1567 symbols  [4700 / 6267]\u001b[0m\n"
     ]
    },
    {
     "name": "stderr",
     "output_type": "stream",
     "text": [
      " 47%|████▋     | 50/106 [42:13<36:24, 39.01s/it]"
     ]
    },
    {
     "name": "stdout",
     "output_type": "stream",
     "text": [
      "\u001b[32m2020-04-10 18:49:16.851\u001b[0m | \u001b[33m\u001b[1mWARNING \u001b[0m | \u001b[36m__main__\u001b[0m:\u001b[36m<module>\u001b[0m:\u001b[36m2\u001b[0m - \u001b[33m\u001b[1mworking file DotPFile(id=50 | name='lora_BW1_SF12_915MHz_20ksps_Att20_v0.p')\u001b[0m\n",
      "\u001b[32m2020-04-10 18:49:16.852\u001b[0m | \u001b[34m\u001b[1mDEBUG   \u001b[0m | \u001b[36mlorapy.datafile.encoding\u001b[0m:\u001b[36mcompute_params\u001b[0m:\u001b[36m15\u001b[0m - \u001b[34m\u001b[1mcomputed samples per symbol: 76801 and packet length: 2323230\u001b[0m\n",
      "\u001b[32m2020-04-10 18:49:16.982\u001b[0m | \u001b[1mINFO    \u001b[0m | \u001b[36mlorapy.datafile._base_file\u001b[0m:\u001b[36mload\u001b[0m:\u001b[36m61\u001b[0m - \u001b[1mloaded 6758488 samples from file\u001b[0m\n"
     ]
    },
    {
     "data": {
      "text/plain": [
       "BaselineSymbolSet(num symbols=88 | BW: 1 | SF: 12 | Att: 20 | samples per symbol: 76801 | packet length: 2323230)"
      ]
     },
     "metadata": {},
     "output_type": "display_data"
    },
    {
     "name": "stdout",
     "output_type": "stream",
     "text": [
      "\u001b[32m2020-04-10 18:49:16.985\u001b[0m | \u001b[34m\u001b[1mDEBUG   \u001b[0m | \u001b[36mlorapy.datafile.encoding\u001b[0m:\u001b[36mcompute_params\u001b[0m:\u001b[36m15\u001b[0m - \u001b[34m\u001b[1mcomputed samples per symbol: 76801 and packet length: 2323230\u001b[0m\n",
      "\u001b[32m2020-04-10 18:49:16.988\u001b[0m | \u001b[1mINFO    \u001b[0m | \u001b[36mlorapy.datafile._base_file\u001b[0m:\u001b[36mload\u001b[0m:\u001b[36m61\u001b[0m - \u001b[1mloaded 76800 samples from file\u001b[0m\n"
     ]
    },
    {
     "data": {
      "text/plain": [
       "BaselineSymbolSet(num symbols=76800 | BW: 1 | SF: 12 | Att: 0 | samples per symbol: 76801 | packet length: 2323230)"
      ]
     },
     "metadata": {},
     "output_type": "display_data"
    },
    {
     "name": "stdout",
     "output_type": "stream",
     "text": [
      "\u001b[32m2020-04-10 18:50:45.966\u001b[0m | \u001b[1mINFO    \u001b[0m | \u001b[36m__main__\u001b[0m:\u001b[36mfilter_symbols\u001b[0m:\u001b[36m15\u001b[0m - \u001b[1mset threshold: 0.8563\u001b[0m\n",
      "\u001b[32m2020-04-10 18:50:45.985\u001b[0m | \u001b[33m\u001b[1mWARNING \u001b[0m | \u001b[36m__main__\u001b[0m:\u001b[36mfilter_symbols\u001b[0m:\u001b[36m27\u001b[0m - \u001b[33m\u001b[1mremoved 22 symbols  [66 / 88]\u001b[0m\n"
     ]
    },
    {
     "name": "stderr",
     "output_type": "stream",
     "text": [
      " 48%|████▊     | 51/106 [43:42<49:33, 54.06s/it]"
     ]
    },
    {
     "name": "stdout",
     "output_type": "stream",
     "text": [
      "\u001b[32m2020-04-10 18:50:46.050\u001b[0m | \u001b[33m\u001b[1mWARNING \u001b[0m | \u001b[36m__main__\u001b[0m:\u001b[36m<module>\u001b[0m:\u001b[36m2\u001b[0m - \u001b[33m\u001b[1mworking file DotPFile(id=51 | name='lora_BW7_SF10_915MHz_20ksps_Att0_v0.p')\u001b[0m\n",
      "\u001b[32m2020-04-10 18:50:46.051\u001b[0m | \u001b[34m\u001b[1mDEBUG   \u001b[0m | \u001b[36mlorapy.datafile.encoding\u001b[0m:\u001b[36mcompute_params\u001b[0m:\u001b[36m15\u001b[0m - \u001b[34m\u001b[1mcomputed samples per symbol: 1599 and packet length: 48369\u001b[0m\n",
      "\u001b[32m2020-04-10 18:50:46.379\u001b[0m | \u001b[1mINFO    \u001b[0m | \u001b[36mlorapy.datafile._base_file\u001b[0m:\u001b[36mload\u001b[0m:\u001b[36m61\u001b[0m - \u001b[1mloaded 8095737 samples from file\u001b[0m\n"
     ]
    },
    {
     "data": {
      "text/plain": [
       "BaselineSymbolSet(num symbols=5063 | BW: 7 | SF: 10 | Att: 0 | samples per symbol: 1599 | packet length: 48369)"
      ]
     },
     "metadata": {},
     "output_type": "display_data"
    },
    {
     "name": "stdout",
     "output_type": "stream",
     "text": [
      "\u001b[32m2020-04-10 18:50:46.383\u001b[0m | \u001b[34m\u001b[1mDEBUG   \u001b[0m | \u001b[36mlorapy.datafile.encoding\u001b[0m:\u001b[36mcompute_params\u001b[0m:\u001b[36m15\u001b[0m - \u001b[34m\u001b[1mcomputed samples per symbol: 1599 and packet length: 48369\u001b[0m\n",
      "\u001b[32m2020-04-10 18:50:46.385\u001b[0m | \u001b[1mINFO    \u001b[0m | \u001b[36mlorapy.datafile._base_file\u001b[0m:\u001b[36mload\u001b[0m:\u001b[36m61\u001b[0m - \u001b[1mloaded 1599 samples from file\u001b[0m\n"
     ]
    },
    {
     "data": {
      "text/plain": [
       "BaselineSymbolSet(num symbols=1599 | BW: 7 | SF: 10 | Att: 0 | samples per symbol: 1599 | packet length: 48369)"
      ]
     },
     "metadata": {},
     "output_type": "display_data"
    },
    {
     "name": "stdout",
     "output_type": "stream",
     "text": [
      "\u001b[32m2020-04-10 18:50:50.192\u001b[0m | \u001b[1mINFO    \u001b[0m | \u001b[36m__main__\u001b[0m:\u001b[36mfilter_symbols\u001b[0m:\u001b[36m15\u001b[0m - \u001b[1mset threshold: 0.2214\u001b[0m\n",
      "\u001b[32m2020-04-10 18:50:50.225\u001b[0m | \u001b[33m\u001b[1mWARNING \u001b[0m | \u001b[36m__main__\u001b[0m:\u001b[36mfilter_symbols\u001b[0m:\u001b[36m27\u001b[0m - \u001b[33m\u001b[1mremoved 1266 symbols  [3797 / 5063]\u001b[0m\n"
     ]
    },
    {
     "name": "stderr",
     "output_type": "stream",
     "text": [
      " 49%|████▉     | 52/106 [43:46<35:12, 39.12s/it]"
     ]
    },
    {
     "name": "stdout",
     "output_type": "stream",
     "text": [
      "\u001b[32m2020-04-10 18:50:50.302\u001b[0m | \u001b[33m\u001b[1mWARNING \u001b[0m | \u001b[36m__main__\u001b[0m:\u001b[36m<module>\u001b[0m:\u001b[36m2\u001b[0m - \u001b[33m\u001b[1mworking file DotPFile(id=52 | name='lora_BW1_SF10_915MHz_20ksps_Att120_v0.p')\u001b[0m\n",
      "\u001b[32m2020-04-10 18:50:50.303\u001b[0m | \u001b[34m\u001b[1mDEBUG   \u001b[0m | \u001b[36mlorapy.datafile.encoding\u001b[0m:\u001b[36mcompute_params\u001b[0m:\u001b[36m15\u001b[0m - \u001b[34m\u001b[1mcomputed samples per symbol: 19198 and packet length: 580739\u001b[0m\n",
      "\u001b[32m2020-04-10 18:50:50.528\u001b[0m | \u001b[1mINFO    \u001b[0m | \u001b[36mlorapy.datafile._base_file\u001b[0m:\u001b[36mload\u001b[0m:\u001b[36m61\u001b[0m - \u001b[1mloaded 7755992 samples from file\u001b[0m\n"
     ]
    },
    {
     "data": {
      "text/plain": [
       "BaselineSymbolSet(num symbols=404 | BW: 1 | SF: 10 | Att: 120 | samples per symbol: 19198 | packet length: 580739)"
      ]
     },
     "metadata": {},
     "output_type": "display_data"
    },
    {
     "name": "stdout",
     "output_type": "stream",
     "text": [
      "\u001b[32m2020-04-10 18:50:50.531\u001b[0m | \u001b[34m\u001b[1mDEBUG   \u001b[0m | \u001b[36mlorapy.datafile.encoding\u001b[0m:\u001b[36mcompute_params\u001b[0m:\u001b[36m15\u001b[0m - \u001b[34m\u001b[1mcomputed samples per symbol: 19198 and packet length: 580739\u001b[0m\n",
      "\u001b[32m2020-04-10 18:50:50.533\u001b[0m | \u001b[1mINFO    \u001b[0m | \u001b[36mlorapy.datafile._base_file\u001b[0m:\u001b[36mload\u001b[0m:\u001b[36m61\u001b[0m - \u001b[1mloaded 19197 samples from file\u001b[0m\n"
     ]
    },
    {
     "data": {
      "text/plain": [
       "BaselineSymbolSet(num symbols=19197 | BW: 1 | SF: 10 | Att: 0 | samples per symbol: 19198 | packet length: 580739)"
      ]
     },
     "metadata": {},
     "output_type": "display_data"
    },
    {
     "name": "stdout",
     "output_type": "stream",
     "text": [
      "\u001b[32m2020-04-10 18:51:40.129\u001b[0m | \u001b[1mINFO    \u001b[0m | \u001b[36m__main__\u001b[0m:\u001b[36mfilter_symbols\u001b[0m:\u001b[36m15\u001b[0m - \u001b[1mset threshold: 8365.9368\u001b[0m\n",
      "\u001b[32m2020-04-10 18:51:40.155\u001b[0m | \u001b[33m\u001b[1mWARNING \u001b[0m | \u001b[36m__main__\u001b[0m:\u001b[36mfilter_symbols\u001b[0m:\u001b[36m27\u001b[0m - \u001b[33m\u001b[1mremoved 101 symbols  [303 / 404]\u001b[0m\n"
     ]
    },
    {
     "name": "stderr",
     "output_type": "stream",
     "text": [
      " 50%|█████     | 53/106 [44:36<37:25, 42.37s/it]"
     ]
    },
    {
     "name": "stdout",
     "output_type": "stream",
     "text": [
      "\u001b[32m2020-04-10 18:51:40.264\u001b[0m | \u001b[33m\u001b[1mWARNING \u001b[0m | \u001b[36m__main__\u001b[0m:\u001b[36m<module>\u001b[0m:\u001b[36m2\u001b[0m - \u001b[33m\u001b[1mworking file DotPFile(id=53 | name='lora_BW8_SF10_915MHz_20ksps_Att20_v0.p')\u001b[0m\n",
      "\u001b[32m2020-04-10 18:51:40.265\u001b[0m | \u001b[34m\u001b[1mDEBUG   \u001b[0m | \u001b[36mlorapy.datafile.encoding\u001b[0m:\u001b[36mcompute_params\u001b[0m:\u001b[36m15\u001b[0m - \u001b[34m\u001b[1mcomputed samples per symbol: 800 and packet length: 24200\u001b[0m\n",
      "\u001b[32m2020-04-10 18:51:40.743\u001b[0m | \u001b[1mINFO    \u001b[0m | \u001b[36mlorapy.datafile._base_file\u001b[0m:\u001b[36mload\u001b[0m:\u001b[36m61\u001b[0m - \u001b[1mloaded 5693600 samples from file\u001b[0m\n"
     ]
    },
    {
     "data": {
      "text/plain": [
       "BaselineSymbolSet(num symbols=7117 | BW: 8 | SF: 10 | Att: 20 | samples per symbol: 800 | packet length: 24200)"
      ]
     },
     "metadata": {},
     "output_type": "display_data"
    },
    {
     "name": "stdout",
     "output_type": "stream",
     "text": [
      "\u001b[32m2020-04-10 18:51:40.746\u001b[0m | \u001b[34m\u001b[1mDEBUG   \u001b[0m | \u001b[36mlorapy.datafile.encoding\u001b[0m:\u001b[36mcompute_params\u001b[0m:\u001b[36m15\u001b[0m - \u001b[34m\u001b[1mcomputed samples per symbol: 800 and packet length: 24200\u001b[0m\n",
      "\u001b[32m2020-04-10 18:51:40.747\u001b[0m | \u001b[1mINFO    \u001b[0m | \u001b[36mlorapy.datafile._base_file\u001b[0m:\u001b[36mload\u001b[0m:\u001b[36m61\u001b[0m - \u001b[1mloaded 799 samples from file\u001b[0m\n"
     ]
    },
    {
     "data": {
      "text/plain": [
       "BaselineSymbolSet(num symbols=799 | BW: 8 | SF: 10 | Att: 0 | samples per symbol: 800 | packet length: 24200)"
      ]
     },
     "metadata": {},
     "output_type": "display_data"
    },
    {
     "name": "stdout",
     "output_type": "stream",
     "text": [
      "\u001b[32m2020-04-10 18:51:43.608\u001b[0m | \u001b[1mINFO    \u001b[0m | \u001b[36m__main__\u001b[0m:\u001b[36mfilter_symbols\u001b[0m:\u001b[36m15\u001b[0m - \u001b[1mset threshold: 0.1984\u001b[0m\n",
      "\u001b[32m2020-04-10 18:51:43.647\u001b[0m | \u001b[33m\u001b[1mWARNING \u001b[0m | \u001b[36m__main__\u001b[0m:\u001b[36mfilter_symbols\u001b[0m:\u001b[36m27\u001b[0m - \u001b[33m\u001b[1mremoved 1780 symbols  [5337 / 7117]\u001b[0m\n"
     ]
    },
    {
     "name": "stderr",
     "output_type": "stream",
     "text": [
      " 51%|█████     | 54/106 [44:40<26:38, 30.74s/it]"
     ]
    },
    {
     "name": "stdout",
     "output_type": "stream",
     "text": [
      "\u001b[32m2020-04-10 18:51:43.855\u001b[0m | \u001b[33m\u001b[1mWARNING \u001b[0m | \u001b[36m__main__\u001b[0m:\u001b[36m<module>\u001b[0m:\u001b[36m2\u001b[0m - \u001b[33m\u001b[1mworking file DotPFile(id=54 | name='lora_BW2_SF11_915MHz_20ksps_Att20_v0.p')\u001b[0m\n",
      "\u001b[32m2020-04-10 18:51:43.856\u001b[0m | \u001b[34m\u001b[1mDEBUG   \u001b[0m | \u001b[36mlorapy.datafile.encoding\u001b[0m:\u001b[36mcompute_params\u001b[0m:\u001b[36m15\u001b[0m - \u001b[34m\u001b[1mcomputed samples per symbol: 25604 and packet length: 774521\u001b[0m\n",
      "\u001b[32m2020-04-10 18:51:44.065\u001b[0m | \u001b[1mINFO    \u001b[0m | \u001b[36mlorapy.datafile._base_file\u001b[0m:\u001b[36mload\u001b[0m:\u001b[36m61\u001b[0m - \u001b[1mloaded 7860428 samples from file\u001b[0m\n"
     ]
    },
    {
     "data": {
      "text/plain": [
       "BaselineSymbolSet(num symbols=307 | BW: 2 | SF: 11 | Att: 20 | samples per symbol: 25604 | packet length: 774521)"
      ]
     },
     "metadata": {},
     "output_type": "display_data"
    },
    {
     "name": "stdout",
     "output_type": "stream",
     "text": [
      "\u001b[32m2020-04-10 18:51:44.069\u001b[0m | \u001b[34m\u001b[1mDEBUG   \u001b[0m | \u001b[36mlorapy.datafile.encoding\u001b[0m:\u001b[36mcompute_params\u001b[0m:\u001b[36m15\u001b[0m - \u001b[34m\u001b[1mcomputed samples per symbol: 25604 and packet length: 774521\u001b[0m\n",
      "\u001b[32m2020-04-10 18:51:44.070\u001b[0m | \u001b[1mINFO    \u001b[0m | \u001b[36mlorapy.datafile._base_file\u001b[0m:\u001b[36mload\u001b[0m:\u001b[36m61\u001b[0m - \u001b[1mloaded 25603 samples from file\u001b[0m\n"
     ]
    },
    {
     "data": {
      "text/plain": [
       "BaselineSymbolSet(num symbols=25603 | BW: 2 | SF: 11 | Att: 0 | samples per symbol: 25604 | packet length: 774521)"
      ]
     },
     "metadata": {},
     "output_type": "display_data"
    },
    {
     "name": "stdout",
     "output_type": "stream",
     "text": [
      "\u001b[32m2020-04-10 18:53:16.493\u001b[0m | \u001b[1mINFO    \u001b[0m | \u001b[36m__main__\u001b[0m:\u001b[36mfilter_symbols\u001b[0m:\u001b[36m15\u001b[0m - \u001b[1mset threshold: 0.5248\u001b[0m\n",
      "\u001b[32m2020-04-10 18:53:16.539\u001b[0m | \u001b[33m\u001b[1mWARNING \u001b[0m | \u001b[36m__main__\u001b[0m:\u001b[36mfilter_symbols\u001b[0m:\u001b[36m27\u001b[0m - \u001b[33m\u001b[1mremoved 998 symbols  [2992 / 3990]\u001b[0m\n"
     ]
    },
    {
     "name": "stderr",
     "output_type": "stream",
     "text": [
      " 60%|██████    | 64/106 [46:13<03:48,  5.44s/it]"
     ]
    },
    {
     "name": "stdout",
     "output_type": "stream",
     "text": [
      "\u001b[32m2020-04-10 18:53:16.710\u001b[0m | \u001b[33m\u001b[1mWARNING \u001b[0m | \u001b[36m__main__\u001b[0m:\u001b[36m<module>\u001b[0m:\u001b[36m2\u001b[0m - \u001b[33m\u001b[1mworking file DotPFile(id=64 | name='lora_BW2_SF12_915MHz_20ksps_Att120_v0.p')\u001b[0m\n",
      "\u001b[32m2020-04-10 18:53:16.711\u001b[0m | \u001b[34m\u001b[1mDEBUG   \u001b[0m | \u001b[36mlorapy.datafile.encoding\u001b[0m:\u001b[36mcompute_params\u001b[0m:\u001b[36m15\u001b[0m - \u001b[34m\u001b[1mcomputed samples per symbol: 51197 and packet length: 1548709\u001b[0m\n",
      "\u001b[32m2020-04-10 18:53:17.145\u001b[0m | \u001b[1mINFO    \u001b[0m | \u001b[36mlorapy.datafile._base_file\u001b[0m:\u001b[36mload\u001b[0m:\u001b[36m61\u001b[0m - \u001b[1mloaded 6911595 samples from file\u001b[0m\n"
     ]
    },
    {
     "data": {
      "text/plain": [
       "BaselineSymbolSet(num symbols=135 | BW: 2 | SF: 12 | Att: 120 | samples per symbol: 51197 | packet length: 1548709)"
      ]
     },
     "metadata": {},
     "output_type": "display_data"
    },
    {
     "name": "stdout",
     "output_type": "stream",
     "text": [
      "\u001b[32m2020-04-10 18:53:17.149\u001b[0m | \u001b[34m\u001b[1mDEBUG   \u001b[0m | \u001b[36mlorapy.datafile.encoding\u001b[0m:\u001b[36mcompute_params\u001b[0m:\u001b[36m15\u001b[0m - \u001b[34m\u001b[1mcomputed samples per symbol: 51197 and packet length: 1548709\u001b[0m\n",
      "\u001b[32m2020-04-10 18:53:17.151\u001b[0m | \u001b[1mINFO    \u001b[0m | \u001b[36mlorapy.datafile._base_file\u001b[0m:\u001b[36mload\u001b[0m:\u001b[36m61\u001b[0m - \u001b[1mloaded 51197 samples from file\u001b[0m\n"
     ]
    },
    {
     "data": {
      "text/plain": [
       "BaselineSymbolSet(num symbols=51197 | BW: 2 | SF: 12 | Att: 0 | samples per symbol: 51197 | packet length: 1548709)"
      ]
     },
     "metadata": {},
     "output_type": "display_data"
    },
    {
     "name": "stdout",
     "output_type": "stream",
     "text": [
      "\u001b[32m2020-04-10 18:54:56.270\u001b[0m | \u001b[1mINFO    \u001b[0m | \u001b[36m__main__\u001b[0m:\u001b[36mfilter_symbols\u001b[0m:\u001b[36m15\u001b[0m - \u001b[1mset threshold: 2177.5335\u001b[0m\n",
      "\u001b[32m2020-04-10 18:54:56.341\u001b[0m | \u001b[33m\u001b[1mWARNING \u001b[0m | \u001b[36m__main__\u001b[0m:\u001b[36mfilter_symbols\u001b[0m:\u001b[36m27\u001b[0m - \u001b[33m\u001b[1mremoved 34 symbols  [101 / 135]\u001b[0m\n"
     ]
    },
    {
     "name": "stderr",
     "output_type": "stream",
     "text": [
      " 61%|██████▏   | 65/106 [47:53<23:04, 33.78s/it]"
     ]
    },
    {
     "name": "stdout",
     "output_type": "stream",
     "text": [
      "\u001b[32m2020-04-10 18:54:56.616\u001b[0m | \u001b[33m\u001b[1mWARNING \u001b[0m | \u001b[36m__main__\u001b[0m:\u001b[36m<module>\u001b[0m:\u001b[36m2\u001b[0m - \u001b[33m\u001b[1mworking file DotPFile(id=65 | name='lora_BW7_SF10_915MHz_20ksps_Att120_v0.p')\u001b[0m\n",
      "\u001b[32m2020-04-10 18:54:56.618\u001b[0m | \u001b[34m\u001b[1mDEBUG   \u001b[0m | \u001b[36mlorapy.datafile.encoding\u001b[0m:\u001b[36mcompute_params\u001b[0m:\u001b[36m15\u001b[0m - \u001b[34m\u001b[1mcomputed samples per symbol: 1599 and packet length: 48369\u001b[0m\n",
      "\u001b[32m2020-04-10 18:54:56.733\u001b[0m | \u001b[1mINFO    \u001b[0m | \u001b[36mlorapy.datafile._base_file\u001b[0m:\u001b[36mload\u001b[0m:\u001b[36m61\u001b[0m - \u001b[1mloaded 5740410 samples from file\u001b[0m\n"
     ]
    },
    {
     "name": "stderr",
     "output_type": "stream",
     "text": [
      " 62%|██████▏   | 66/106 [47:53<15:47, 23.68s/it]"
     ]
    },
    {
     "name": "stdout",
     "output_type": "stream",
     "text": [
      "\u001b[32m2020-04-10 18:54:56.735\u001b[0m | \u001b[33m\u001b[1mWARNING \u001b[0m | \u001b[36m__main__\u001b[0m:\u001b[36m<module>\u001b[0m:\u001b[36m2\u001b[0m - \u001b[33m\u001b[1mworking file DotPFile(id=66 | name='lora_BW1_SF12_915MHz_20ksps_Att80_v0.p')\u001b[0m\n",
      "\u001b[32m2020-04-10 18:54:56.737\u001b[0m | \u001b[34m\u001b[1mDEBUG   \u001b[0m | \u001b[36mlorapy.datafile.encoding\u001b[0m:\u001b[36mcompute_params\u001b[0m:\u001b[36m15\u001b[0m - \u001b[34m\u001b[1mcomputed samples per symbol: 76801 and packet length: 2323230\u001b[0m\n",
      "\u001b[32m2020-04-10 18:54:57.107\u001b[0m | \u001b[1mINFO    \u001b[0m | \u001b[36mlorapy.datafile._base_file\u001b[0m:\u001b[36mload\u001b[0m:\u001b[36m61\u001b[0m - \u001b[1mloaded 8448110 samples from file\u001b[0m\n"
     ]
    },
    {
     "data": {
      "text/plain": [
       "BaselineSymbolSet(num symbols=110 | BW: 1 | SF: 12 | Att: 80 | samples per symbol: 76801 | packet length: 2323230)"
      ]
     },
     "metadata": {},
     "output_type": "display_data"
    },
    {
     "name": "stdout",
     "output_type": "stream",
     "text": [
      "\u001b[32m2020-04-10 18:54:57.112\u001b[0m | \u001b[34m\u001b[1mDEBUG   \u001b[0m | \u001b[36mlorapy.datafile.encoding\u001b[0m:\u001b[36mcompute_params\u001b[0m:\u001b[36m15\u001b[0m - \u001b[34m\u001b[1mcomputed samples per symbol: 76801 and packet length: 2323230\u001b[0m\n",
      "\u001b[32m2020-04-10 18:54:57.114\u001b[0m | \u001b[1mINFO    \u001b[0m | \u001b[36mlorapy.datafile._base_file\u001b[0m:\u001b[36mload\u001b[0m:\u001b[36m61\u001b[0m - \u001b[1mloaded 76800 samples from file\u001b[0m\n"
     ]
    },
    {
     "data": {
      "text/plain": [
       "BaselineSymbolSet(num symbols=76800 | BW: 1 | SF: 12 | Att: 0 | samples per symbol: 76801 | packet length: 2323230)"
      ]
     },
     "metadata": {},
     "output_type": "display_data"
    },
    {
     "name": "stdout",
     "output_type": "stream",
     "text": [
      "\u001b[32m2020-04-10 18:56:55.962\u001b[0m | \u001b[1mINFO    \u001b[0m | \u001b[36m__main__\u001b[0m:\u001b[36mfilter_symbols\u001b[0m:\u001b[36m15\u001b[0m - \u001b[1mset threshold: 569.7442\u001b[0m\n",
      "\u001b[32m2020-04-10 18:56:55.979\u001b[0m | \u001b[33m\u001b[1mWARNING \u001b[0m | \u001b[36m__main__\u001b[0m:\u001b[36mfilter_symbols\u001b[0m:\u001b[36m27\u001b[0m - \u001b[33m\u001b[1mremoved 28 symbols  [82 / 110]\u001b[0m\n"
     ]
    },
    {
     "name": "stderr",
     "output_type": "stream",
     "text": [
      " 63%|██████▎   | 67/106 [49:52<34:03, 52.38s/it]"
     ]
    },
    {
     "name": "stdout",
     "output_type": "stream",
     "text": [
      "\u001b[32m2020-04-10 18:56:56.119\u001b[0m | \u001b[33m\u001b[1mWARNING \u001b[0m | \u001b[36m__main__\u001b[0m:\u001b[36m<module>\u001b[0m:\u001b[36m2\u001b[0m - \u001b[33m\u001b[1mworking file DotPFile(id=67 | name='lora_BW7_SF12_915MHz_20ksps_Att40_v0.p')\u001b[0m\n",
      "\u001b[32m2020-04-10 18:56:56.120\u001b[0m | \u001b[34m\u001b[1mDEBUG   \u001b[0m | \u001b[36mlorapy.datafile.encoding\u001b[0m:\u001b[36mcompute_params\u001b[0m:\u001b[36m15\u001b[0m - \u001b[34m\u001b[1mcomputed samples per symbol: 6386 and packet length: 193176\u001b[0m\n",
      "\u001b[32m2020-04-10 18:56:56.379\u001b[0m | \u001b[1mINFO    \u001b[0m | \u001b[36mlorapy.datafile._base_file\u001b[0m:\u001b[36mload\u001b[0m:\u001b[36m61\u001b[0m - \u001b[1mloaded 6698914 samples from file\u001b[0m\n"
     ]
    },
    {
     "data": {
      "text/plain": [
       "BaselineSymbolSet(num symbols=1049 | BW: 7 | SF: 12 | Att: 40 | samples per symbol: 6386 | packet length: 193176)"
      ]
     },
     "metadata": {},
     "output_type": "display_data"
    },
    {
     "name": "stdout",
     "output_type": "stream",
     "text": [
      "\u001b[32m2020-04-10 18:56:56.384\u001b[0m | \u001b[34m\u001b[1mDEBUG   \u001b[0m | \u001b[36mlorapy.datafile.encoding\u001b[0m:\u001b[36mcompute_params\u001b[0m:\u001b[36m15\u001b[0m - \u001b[34m\u001b[1mcomputed samples per symbol: 6386 and packet length: 193176\u001b[0m\n",
      "\u001b[32m2020-04-10 18:56:56.385\u001b[0m | \u001b[1mINFO    \u001b[0m | \u001b[36mlorapy.datafile._base_file\u001b[0m:\u001b[36mload\u001b[0m:\u001b[36m61\u001b[0m - \u001b[1mloaded 6386 samples from file\u001b[0m\n"
     ]
    },
    {
     "data": {
      "text/plain": [
       "BaselineSymbolSet(num symbols=6386 | BW: 7 | SF: 12 | Att: 0 | samples per symbol: 6386 | packet length: 193176)"
      ]
     },
     "metadata": {},
     "output_type": "display_data"
    },
    {
     "name": "stdout",
     "output_type": "stream",
     "text": [
      "\u001b[32m2020-04-10 18:57:27.819\u001b[0m | \u001b[1mINFO    \u001b[0m | \u001b[36m__main__\u001b[0m:\u001b[36mfilter_symbols\u001b[0m:\u001b[36m15\u001b[0m - \u001b[1mset threshold: 1.5113\u001b[0m\n",
      "\u001b[32m2020-04-10 18:57:27.862\u001b[0m | \u001b[33m\u001b[1mWARNING \u001b[0m | \u001b[36m__main__\u001b[0m:\u001b[36mfilter_symbols\u001b[0m:\u001b[36m27\u001b[0m - \u001b[33m\u001b[1mremoved 263 symbols  [786 / 1049]\u001b[0m\n"
     ]
    },
    {
     "name": "stderr",
     "output_type": "stream",
     "text": [
      " 64%|██████▍   | 68/106 [50:24<29:18, 46.28s/it]"
     ]
    },
    {
     "name": "stdout",
     "output_type": "stream",
     "text": [
      "\u001b[32m2020-04-10 18:57:28.117\u001b[0m | \u001b[33m\u001b[1mWARNING \u001b[0m | \u001b[36m__main__\u001b[0m:\u001b[36m<module>\u001b[0m:\u001b[36m2\u001b[0m - \u001b[33m\u001b[1mworking file DotPFile(id=68 | name='lora_BW7_SF11_915MHz_20ksps_Att20_v0.p')\u001b[0m\n",
      "\u001b[32m2020-04-10 18:57:28.119\u001b[0m | \u001b[34m\u001b[1mDEBUG   \u001b[0m | \u001b[36mlorapy.datafile.encoding\u001b[0m:\u001b[36mcompute_params\u001b[0m:\u001b[36m15\u001b[0m - \u001b[34m\u001b[1mcomputed samples per symbol: 3198 and packet length: 96739\u001b[0m\n",
      "\u001b[32m2020-04-10 18:57:28.229\u001b[0m | \u001b[1mINFO    \u001b[0m | \u001b[36mlorapy.datafile._base_file\u001b[0m:\u001b[36mload\u001b[0m:\u001b[36m61\u001b[0m - \u001b[1mloaded 6994026 samples from file\u001b[0m\n"
     ]
    },
    {
     "data": {
      "text/plain": [
       "BaselineSymbolSet(num symbols=2187 | BW: 7 | SF: 11 | Att: 20 | samples per symbol: 3198 | packet length: 96739)"
      ]
     },
     "metadata": {},
     "output_type": "display_data"
    },
    {
     "name": "stdout",
     "output_type": "stream",
     "text": [
      "\u001b[32m2020-04-10 18:57:28.234\u001b[0m | \u001b[34m\u001b[1mDEBUG   \u001b[0m | \u001b[36mlorapy.datafile.encoding\u001b[0m:\u001b[36mcompute_params\u001b[0m:\u001b[36m15\u001b[0m - \u001b[34m\u001b[1mcomputed samples per symbol: 3198 and packet length: 96739\u001b[0m\n",
      "\u001b[32m2020-04-10 18:57:28.236\u001b[0m | \u001b[1mINFO    \u001b[0m | \u001b[36mlorapy.datafile._base_file\u001b[0m:\u001b[36mload\u001b[0m:\u001b[36m61\u001b[0m - \u001b[1mloaded 3198 samples from file\u001b[0m\n"
     ]
    },
    {
     "data": {
      "text/plain": [
       "BaselineSymbolSet(num symbols=3198 | BW: 7 | SF: 11 | Att: 0 | samples per symbol: 3198 | packet length: 96739)"
      ]
     },
     "metadata": {},
     "output_type": "display_data"
    },
    {
     "name": "stdout",
     "output_type": "stream",
     "text": [
      "\u001b[32m2020-04-10 18:57:34.974\u001b[0m | \u001b[1mINFO    \u001b[0m | \u001b[36m__main__\u001b[0m:\u001b[36mfilter_symbols\u001b[0m:\u001b[36m15\u001b[0m - \u001b[1mset threshold: 0.2546\u001b[0m\n",
      "\u001b[32m2020-04-10 18:57:34.998\u001b[0m | \u001b[33m\u001b[1mWARNING \u001b[0m | \u001b[36m__main__\u001b[0m:\u001b[36mfilter_symbols\u001b[0m:\u001b[36m27\u001b[0m - \u001b[33m\u001b[1mremoved 547 symbols  [1640 / 2187]\u001b[0m\n"
     ]
    },
    {
     "name": "stderr",
     "output_type": "stream",
     "text": [
      " 65%|██████▌   | 69/106 [50:31<21:15, 34.48s/it]"
     ]
    },
    {
     "name": "stdout",
     "output_type": "stream",
     "text": [
      "\u001b[32m2020-04-10 18:57:35.075\u001b[0m | \u001b[33m\u001b[1mWARNING \u001b[0m | \u001b[36m__main__\u001b[0m:\u001b[36m<module>\u001b[0m:\u001b[36m2\u001b[0m - \u001b[33m\u001b[1mworking file DotPFile(id=69 | name='lora_BW7_SF12_915MHz_20ksps_Att60_v0.p')\u001b[0m\n",
      "\u001b[32m2020-04-10 18:57:35.076\u001b[0m | \u001b[34m\u001b[1mDEBUG   \u001b[0m | \u001b[36mlorapy.datafile.encoding\u001b[0m:\u001b[36mcompute_params\u001b[0m:\u001b[36m15\u001b[0m - \u001b[34m\u001b[1mcomputed samples per symbol: 6386 and packet length: 193176\u001b[0m\n",
      "\u001b[32m2020-04-10 18:57:35.296\u001b[0m | \u001b[1mINFO    \u001b[0m | \u001b[36mlorapy.datafile._base_file\u001b[0m:\u001b[36mload\u001b[0m:\u001b[36m61\u001b[0m - \u001b[1mloaded 6769160 samples from file\u001b[0m\n"
     ]
    },
    {
     "data": {
      "text/plain": [
       "BaselineSymbolSet(num symbols=1060 | BW: 7 | SF: 12 | Att: 60 | samples per symbol: 6386 | packet length: 193176)"
      ]
     },
     "metadata": {},
     "output_type": "display_data"
    },
    {
     "name": "stdout",
     "output_type": "stream",
     "text": [
      "\u001b[32m2020-04-10 18:57:35.299\u001b[0m | \u001b[34m\u001b[1mDEBUG   \u001b[0m | \u001b[36mlorapy.datafile.encoding\u001b[0m:\u001b[36mcompute_params\u001b[0m:\u001b[36m15\u001b[0m - \u001b[34m\u001b[1mcomputed samples per symbol: 6386 and packet length: 193176\u001b[0m\n",
      "\u001b[32m2020-04-10 18:57:35.300\u001b[0m | \u001b[1mINFO    \u001b[0m | \u001b[36mlorapy.datafile._base_file\u001b[0m:\u001b[36mload\u001b[0m:\u001b[36m61\u001b[0m - \u001b[1mloaded 6386 samples from file\u001b[0m\n"
     ]
    },
    {
     "data": {
      "text/plain": [
       "BaselineSymbolSet(num symbols=6386 | BW: 7 | SF: 12 | Att: 0 | samples per symbol: 6386 | packet length: 193176)"
      ]
     },
     "metadata": {},
     "output_type": "display_data"
    },
    {
     "name": "stdout",
     "output_type": "stream",
     "text": [
      "\u001b[32m2020-04-10 18:57:54.666\u001b[0m | \u001b[1mINFO    \u001b[0m | \u001b[36m__main__\u001b[0m:\u001b[36mfilter_symbols\u001b[0m:\u001b[36m15\u001b[0m - \u001b[1mset threshold: 14.8836\u001b[0m\n",
      "\u001b[32m2020-04-10 18:57:54.697\u001b[0m | \u001b[33m\u001b[1mWARNING \u001b[0m | \u001b[36m__main__\u001b[0m:\u001b[36mfilter_symbols\u001b[0m:\u001b[36m27\u001b[0m - \u001b[33m\u001b[1mremoved 265 symbols  [795 / 1060]\u001b[0m\n"
     ]
    },
    {
     "name": "stderr",
     "output_type": "stream",
     "text": [
      " 66%|██████▌   | 70/106 [50:51<18:02, 30.06s/it]"
     ]
    },
    {
     "name": "stdout",
     "output_type": "stream",
     "text": [
      "\u001b[32m2020-04-10 18:57:54.818\u001b[0m | \u001b[33m\u001b[1mWARNING \u001b[0m | \u001b[36m__main__\u001b[0m:\u001b[36m<module>\u001b[0m:\u001b[36m2\u001b[0m - \u001b[33m\u001b[1mworking file DotPFile(id=70 | name='lora_BW2_SF11_915MHz_20ksps_Att140_v0.p')\u001b[0m\n",
      "\u001b[32m2020-04-10 18:57:54.819\u001b[0m | \u001b[34m\u001b[1mDEBUG   \u001b[0m | \u001b[36mlorapy.datafile.encoding\u001b[0m:\u001b[36mcompute_params\u001b[0m:\u001b[36m15\u001b[0m - \u001b[34m\u001b[1mcomputed samples per symbol: 25604 and packet length: 774521\u001b[0m\n",
      "\u001b[32m2020-04-10 18:57:55.226\u001b[0m | \u001b[1mINFO    \u001b[0m | \u001b[36mlorapy.datafile._base_file\u001b[0m:\u001b[36mload\u001b[0m:\u001b[36m61\u001b[0m - \u001b[1mloaded 8449320 samples from file\u001b[0m\n"
     ]
    },
    {
     "data": {
      "text/plain": [
       "BaselineSymbolSet(num symbols=330 | BW: 2 | SF: 11 | Att: 140 | samples per symbol: 25604 | packet length: 774521)"
      ]
     },
     "metadata": {},
     "output_type": "display_data"
    },
    {
     "name": "stdout",
     "output_type": "stream",
     "text": [
      "\u001b[32m2020-04-10 18:57:55.230\u001b[0m | \u001b[34m\u001b[1mDEBUG   \u001b[0m | \u001b[36mlorapy.datafile.encoding\u001b[0m:\u001b[36mcompute_params\u001b[0m:\u001b[36m15\u001b[0m - \u001b[34m\u001b[1mcomputed samples per symbol: 25604 and packet length: 774521\u001b[0m\n",
      "\u001b[32m2020-04-10 18:57:55.231\u001b[0m | \u001b[1mINFO    \u001b[0m | \u001b[36mlorapy.datafile._base_file\u001b[0m:\u001b[36mload\u001b[0m:\u001b[36m61\u001b[0m - \u001b[1mloaded 25603 samples from file\u001b[0m\n"
     ]
    },
    {
     "data": {
      "text/plain": [
       "BaselineSymbolSet(num symbols=25603 | BW: 2 | SF: 11 | Att: 0 | samples per symbol: 25604 | packet length: 774521)"
      ]
     },
     "metadata": {},
     "output_type": "display_data"
    },
    {
     "name": "stdout",
     "output_type": "stream",
     "text": [
      "\u001b[32m2020-04-10 18:58:59.662\u001b[0m | \u001b[1mINFO    \u001b[0m | \u001b[36m__main__\u001b[0m:\u001b[36mfilter_symbols\u001b[0m:\u001b[36m15\u001b[0m - \u001b[1mset threshold: 4376.7498\u001b[0m\n",
      "\u001b[32m2020-04-10 18:58:59.680\u001b[0m | \u001b[33m\u001b[1mWARNING \u001b[0m | \u001b[36m__main__\u001b[0m:\u001b[36mfilter_symbols\u001b[0m:\u001b[36m27\u001b[0m - \u001b[33m\u001b[1mremoved 83 symbols  [247 / 330]\u001b[0m\n"
     ]
    },
    {
     "name": "stderr",
     "output_type": "stream",
     "text": [
      " 67%|██████▋   | 71/106 [51:56<23:38, 40.53s/it]"
     ]
    },
    {
     "name": "stdout",
     "output_type": "stream",
     "text": [
      "\u001b[32m2020-04-10 18:58:59.785\u001b[0m | \u001b[33m\u001b[1mWARNING \u001b[0m | \u001b[36m__main__\u001b[0m:\u001b[36m<module>\u001b[0m:\u001b[36m2\u001b[0m - \u001b[33m\u001b[1mworking file DotPFile(id=71 | name='lora_BW8_SF12_915MHz_20ksps_Att100_v0.p')\u001b[0m\n",
      "\u001b[32m2020-04-10 18:58:59.787\u001b[0m | \u001b[34m\u001b[1mDEBUG   \u001b[0m | \u001b[36mlorapy.datafile.encoding\u001b[0m:\u001b[36mcompute_params\u001b[0m:\u001b[36m15\u001b[0m - \u001b[34m\u001b[1mcomputed samples per symbol: 3198 and packet length: 96739\u001b[0m\n",
      "\u001b[32m2020-04-10 18:58:59.945\u001b[0m | \u001b[1mINFO    \u001b[0m | \u001b[36mlorapy.datafile._base_file\u001b[0m:\u001b[36mload\u001b[0m:\u001b[36m61\u001b[0m - \u001b[1mloaded 8474700 samples from file\u001b[0m\n"
     ]
    },
    {
     "data": {
      "text/plain": [
       "BaselineSymbolSet(num symbols=2650 | BW: 8 | SF: 12 | Att: 100 | samples per symbol: 3198 | packet length: 96739)"
      ]
     },
     "metadata": {},
     "output_type": "display_data"
    },
    {
     "name": "stdout",
     "output_type": "stream",
     "text": [
      "\u001b[32m2020-04-10 18:58:59.949\u001b[0m | \u001b[34m\u001b[1mDEBUG   \u001b[0m | \u001b[36mlorapy.datafile.encoding\u001b[0m:\u001b[36mcompute_params\u001b[0m:\u001b[36m15\u001b[0m - \u001b[34m\u001b[1mcomputed samples per symbol: 3198 and packet length: 96739\u001b[0m\n",
      "\u001b[32m2020-04-10 18:58:59.950\u001b[0m | \u001b[1mINFO    \u001b[0m | \u001b[36mlorapy.datafile._base_file\u001b[0m:\u001b[36mload\u001b[0m:\u001b[36m61\u001b[0m - \u001b[1mloaded 3198 samples from file\u001b[0m\n"
     ]
    },
    {
     "data": {
      "text/plain": [
       "BaselineSymbolSet(num symbols=3198 | BW: 8 | SF: 12 | Att: 0 | samples per symbol: 3198 | packet length: 96739)"
      ]
     },
     "metadata": {},
     "output_type": "display_data"
    },
    {
     "name": "stdout",
     "output_type": "stream",
     "text": [
      "\u001b[32m2020-04-10 18:59:08.018\u001b[0m | \u001b[1mINFO    \u001b[0m | \u001b[36m__main__\u001b[0m:\u001b[36mfilter_symbols\u001b[0m:\u001b[36m15\u001b[0m - \u001b[1mset threshold: 1152.9956\u001b[0m\n",
      "\u001b[32m2020-04-10 18:59:08.056\u001b[0m | \u001b[33m\u001b[1mWARNING \u001b[0m | \u001b[36m__main__\u001b[0m:\u001b[36mfilter_symbols\u001b[0m:\u001b[36m27\u001b[0m - \u001b[33m\u001b[1mremoved 663 symbols  [1987 / 2650]\u001b[0m\n"
     ]
    },
    {
     "name": "stderr",
     "output_type": "stream",
     "text": [
      " 68%|██████▊   | 72/106 [52:04<17:29, 30.87s/it]"
     ]
    },
    {
     "name": "stdout",
     "output_type": "stream",
     "text": [
      "\u001b[32m2020-04-10 18:59:08.117\u001b[0m | \u001b[33m\u001b[1mWARNING \u001b[0m | \u001b[36m__main__\u001b[0m:\u001b[36m<module>\u001b[0m:\u001b[36m2\u001b[0m - \u001b[33m\u001b[1mworking file DotPFile(id=72 | name='lora_BW7_SF10_915MHz_20ksps_Att60_v0.p')\u001b[0m\n",
      "\u001b[32m2020-04-10 18:59:08.119\u001b[0m | \u001b[34m\u001b[1mDEBUG   \u001b[0m | \u001b[36mlorapy.datafile.encoding\u001b[0m:\u001b[36mcompute_params\u001b[0m:\u001b[36m15\u001b[0m - \u001b[34m\u001b[1mcomputed samples per symbol: 1599 and packet length: 48369\u001b[0m\n",
      "\u001b[32m2020-04-10 18:59:08.483\u001b[0m | \u001b[1mINFO    \u001b[0m | \u001b[36mlorapy.datafile._base_file\u001b[0m:\u001b[36mload\u001b[0m:\u001b[36m61\u001b[0m - \u001b[1mloaded 6766968 samples from file\u001b[0m\n"
     ]
    },
    {
     "data": {
      "text/plain": [
       "BaselineSymbolSet(num symbols=4232 | BW: 7 | SF: 10 | Att: 60 | samples per symbol: 1599 | packet length: 48369)"
      ]
     },
     "metadata": {},
     "output_type": "display_data"
    },
    {
     "name": "stdout",
     "output_type": "stream",
     "text": [
      "\u001b[32m2020-04-10 18:59:08.487\u001b[0m | \u001b[34m\u001b[1mDEBUG   \u001b[0m | \u001b[36mlorapy.datafile.encoding\u001b[0m:\u001b[36mcompute_params\u001b[0m:\u001b[36m15\u001b[0m - \u001b[34m\u001b[1mcomputed samples per symbol: 1599 and packet length: 48369\u001b[0m\n",
      "\u001b[32m2020-04-10 18:59:08.489\u001b[0m | \u001b[1mINFO    \u001b[0m | \u001b[36mlorapy.datafile._base_file\u001b[0m:\u001b[36mload\u001b[0m:\u001b[36m61\u001b[0m - \u001b[1mloaded 1599 samples from file\u001b[0m\n"
     ]
    },
    {
     "data": {
      "text/plain": [
       "BaselineSymbolSet(num symbols=1599 | BW: 7 | SF: 10 | Att: 0 | samples per symbol: 1599 | packet length: 48369)"
      ]
     },
     "metadata": {},
     "output_type": "display_data"
    },
    {
     "name": "stdout",
     "output_type": "stream",
     "text": [
      "\u001b[32m2020-04-10 18:59:15.163\u001b[0m | \u001b[1mINFO    \u001b[0m | \u001b[36m__main__\u001b[0m:\u001b[36mfilter_symbols\u001b[0m:\u001b[36m15\u001b[0m - \u001b[1mset threshold: 15.5016\u001b[0m\n",
      "\u001b[32m2020-04-10 18:59:15.209\u001b[0m | \u001b[33m\u001b[1mWARNING \u001b[0m | \u001b[36m__main__\u001b[0m:\u001b[36mfilter_symbols\u001b[0m:\u001b[36m27\u001b[0m - \u001b[33m\u001b[1mremoved 1058 symbols  [3174 / 4232]\u001b[0m\n"
     ]
    },
    {
     "name": "stderr",
     "output_type": "stream",
     "text": [
      " 69%|██████▉   | 73/106 [52:11<13:05, 23.80s/it]"
     ]
    },
    {
     "name": "stdout",
     "output_type": "stream",
     "text": [
      "\u001b[32m2020-04-10 18:59:15.419\u001b[0m | \u001b[33m\u001b[1mWARNING \u001b[0m | \u001b[36m__main__\u001b[0m:\u001b[36m<module>\u001b[0m:\u001b[36m2\u001b[0m - \u001b[33m\u001b[1mworking file DotPFile(id=73 | name='lora_BW2_SF12_915MHz_20ksps_Att80_v0.p')\u001b[0m\n",
      "\u001b[32m2020-04-10 18:59:15.420\u001b[0m | \u001b[34m\u001b[1mDEBUG   \u001b[0m | \u001b[36mlorapy.datafile.encoding\u001b[0m:\u001b[36mcompute_params\u001b[0m:\u001b[36m15\u001b[0m - \u001b[34m\u001b[1mcomputed samples per symbol: 51197 and packet length: 1548709\u001b[0m\n",
      "\u001b[32m2020-04-10 18:59:15.802\u001b[0m | \u001b[1mINFO    \u001b[0m | \u001b[36mlorapy.datafile._base_file\u001b[0m:\u001b[36mload\u001b[0m:\u001b[36m61\u001b[0m - \u001b[1mloaded 9010672 samples from file\u001b[0m\n"
     ]
    },
    {
     "data": {
      "text/plain": [
       "BaselineSymbolSet(num symbols=176 | BW: 2 | SF: 12 | Att: 80 | samples per symbol: 51197 | packet length: 1548709)"
      ]
     },
     "metadata": {},
     "output_type": "display_data"
    },
    {
     "name": "stdout",
     "output_type": "stream",
     "text": [
      "\u001b[32m2020-04-10 18:59:15.806\u001b[0m | \u001b[34m\u001b[1mDEBUG   \u001b[0m | \u001b[36mlorapy.datafile.encoding\u001b[0m:\u001b[36mcompute_params\u001b[0m:\u001b[36m15\u001b[0m - \u001b[34m\u001b[1mcomputed samples per symbol: 51197 and packet length: 1548709\u001b[0m\n",
      "\u001b[32m2020-04-10 18:59:15.809\u001b[0m | \u001b[1mINFO    \u001b[0m | \u001b[36mlorapy.datafile._base_file\u001b[0m:\u001b[36mload\u001b[0m:\u001b[36m61\u001b[0m - \u001b[1mloaded 51197 samples from file\u001b[0m\n"
     ]
    },
    {
     "data": {
      "text/plain": [
       "BaselineSymbolSet(num symbols=51197 | BW: 2 | SF: 12 | Att: 0 | samples per symbol: 51197 | packet length: 1548709)"
      ]
     },
     "metadata": {},
     "output_type": "display_data"
    },
    {
     "name": "stdout",
     "output_type": "stream",
     "text": [
      "\u001b[32m2020-04-10 19:01:44.190\u001b[0m | \u001b[1mINFO    \u001b[0m | \u001b[36m__main__\u001b[0m:\u001b[36mfilter_symbols\u001b[0m:\u001b[36m15\u001b[0m - \u001b[1mset threshold: 535.0475\u001b[0m\n",
      "\u001b[32m2020-04-10 19:01:44.331\u001b[0m | \u001b[33m\u001b[1mWARNING \u001b[0m | \u001b[36m__main__\u001b[0m:\u001b[36mfilter_symbols\u001b[0m:\u001b[36m27\u001b[0m - \u001b[33m\u001b[1mremoved 44 symbols  [132 / 176]\u001b[0m\n"
     ]
    },
    {
     "name": "stderr",
     "output_type": "stream",
     "text": [
      " 70%|██████▉   | 74/106 [54:41<32:46, 61.45s/it]"
     ]
    },
    {
     "name": "stdout",
     "output_type": "stream",
     "text": [
      "\u001b[32m2020-04-10 19:01:44.729\u001b[0m | \u001b[33m\u001b[1mWARNING \u001b[0m | \u001b[36m__main__\u001b[0m:\u001b[36m<module>\u001b[0m:\u001b[36m2\u001b[0m - \u001b[33m\u001b[1mworking file DotPFile(id=74 | name='lora_BW1_SF12_915MHz_20ksps_Att140_v0.p')\u001b[0m\n",
      "\u001b[32m2020-04-10 19:01:44.731\u001b[0m | \u001b[34m\u001b[1mDEBUG   \u001b[0m | \u001b[36mlorapy.datafile.encoding\u001b[0m:\u001b[36mcompute_params\u001b[0m:\u001b[36m15\u001b[0m - \u001b[34m\u001b[1mcomputed samples per symbol: 76801 and packet length: 2323230\u001b[0m\n",
      "\u001b[32m2020-04-10 19:01:45.384\u001b[0m | \u001b[1mINFO    \u001b[0m | \u001b[36mlorapy.datafile._base_file\u001b[0m:\u001b[36mload\u001b[0m:\u001b[36m61\u001b[0m - \u001b[1mloaded 8678513 samples from file\u001b[0m\n"
     ]
    },
    {
     "data": {
      "text/plain": [
       "BaselineSymbolSet(num symbols=113 | BW: 1 | SF: 12 | Att: 140 | samples per symbol: 76801 | packet length: 2323230)"
      ]
     },
     "metadata": {},
     "output_type": "display_data"
    },
    {
     "name": "stdout",
     "output_type": "stream",
     "text": [
      "\u001b[32m2020-04-10 19:01:45.387\u001b[0m | \u001b[34m\u001b[1mDEBUG   \u001b[0m | \u001b[36mlorapy.datafile.encoding\u001b[0m:\u001b[36mcompute_params\u001b[0m:\u001b[36m15\u001b[0m - \u001b[34m\u001b[1mcomputed samples per symbol: 76801 and packet length: 2323230\u001b[0m\n",
      "\u001b[32m2020-04-10 19:01:45.389\u001b[0m | \u001b[1mINFO    \u001b[0m | \u001b[36mlorapy.datafile._base_file\u001b[0m:\u001b[36mload\u001b[0m:\u001b[36m61\u001b[0m - \u001b[1mloaded 76800 samples from file\u001b[0m\n"
     ]
    },
    {
     "data": {
      "text/plain": [
       "BaselineSymbolSet(num symbols=76800 | BW: 1 | SF: 12 | Att: 0 | samples per symbol: 76801 | packet length: 2323230)"
      ]
     },
     "metadata": {},
     "output_type": "display_data"
    },
    {
     "name": "stdout",
     "output_type": "stream",
     "text": [
      "\u001b[32m2020-04-10 19:04:25.319\u001b[0m | \u001b[1mINFO    \u001b[0m | \u001b[36m__main__\u001b[0m:\u001b[36mfilter_symbols\u001b[0m:\u001b[36m15\u001b[0m - \u001b[1mset threshold: 8430.2477\u001b[0m\n",
      "\u001b[32m2020-04-10 19:04:25.386\u001b[0m | \u001b[33m\u001b[1mWARNING \u001b[0m | \u001b[36m__main__\u001b[0m:\u001b[36mfilter_symbols\u001b[0m:\u001b[36m27\u001b[0m - \u001b[33m\u001b[1mremoved 29 symbols  [84 / 113]\u001b[0m\n"
     ]
    },
    {
     "name": "stderr",
     "output_type": "stream",
     "text": [
      " 71%|███████   | 75/106 [57:22<47:10, 91.32s/it]"
     ]
    },
    {
     "name": "stdout",
     "output_type": "stream",
     "text": [
      "\u001b[32m2020-04-10 19:04:25.722\u001b[0m | \u001b[33m\u001b[1mWARNING \u001b[0m | \u001b[36m__main__\u001b[0m:\u001b[36m<module>\u001b[0m:\u001b[36m2\u001b[0m - \u001b[33m\u001b[1mworking file DotPFile(id=75 | name='lora_BW1_SF11_915MHz_20ksps_Att0_v0.p')\u001b[0m\n",
      "\u001b[32m2020-04-10 19:04:25.723\u001b[0m | \u001b[34m\u001b[1mDEBUG   \u001b[0m | \u001b[36mlorapy.datafile.encoding\u001b[0m:\u001b[36mcompute_params\u001b[0m:\u001b[36m15\u001b[0m - \u001b[34m\u001b[1mcomputed samples per symbol: 38396 and packet length: 1161479\u001b[0m\n",
      "\u001b[32m2020-04-10 19:04:25.887\u001b[0m | \u001b[1mINFO    \u001b[0m | \u001b[36mlorapy.datafile._base_file\u001b[0m:\u001b[36mload\u001b[0m:\u001b[36m61\u001b[0m - \u001b[1mloaded 8024764 samples from file\u001b[0m\n"
     ]
    },
    {
     "data": {
      "text/plain": [
       "BaselineSymbolSet(num symbols=209 | BW: 1 | SF: 11 | Att: 0 | samples per symbol: 38396 | packet length: 1161479)"
      ]
     },
     "metadata": {},
     "output_type": "display_data"
    },
    {
     "name": "stdout",
     "output_type": "stream",
     "text": [
      "\u001b[32m2020-04-10 19:04:25.892\u001b[0m | \u001b[34m\u001b[1mDEBUG   \u001b[0m | \u001b[36mlorapy.datafile.encoding\u001b[0m:\u001b[36mcompute_params\u001b[0m:\u001b[36m15\u001b[0m - \u001b[34m\u001b[1mcomputed samples per symbol: 38396 and packet length: 1161479\u001b[0m\n",
      "\u001b[32m2020-04-10 19:04:25.893\u001b[0m | \u001b[1mINFO    \u001b[0m | \u001b[36mlorapy.datafile._base_file\u001b[0m:\u001b[36mload\u001b[0m:\u001b[36m61\u001b[0m - \u001b[1mloaded 38395 samples from file\u001b[0m\n"
     ]
    },
    {
     "data": {
      "text/plain": [
       "BaselineSymbolSet(num symbols=38395 | BW: 1 | SF: 11 | Att: 0 | samples per symbol: 38396 | packet length: 1161479)"
      ]
     },
     "metadata": {},
     "output_type": "display_data"
    },
    {
     "name": "stdout",
     "output_type": "stream",
     "text": [
      "\u001b[32m2020-04-10 19:05:47.631\u001b[0m | \u001b[1mINFO    \u001b[0m | \u001b[36m__main__\u001b[0m:\u001b[36mfilter_symbols\u001b[0m:\u001b[36m15\u001b[0m - \u001b[1mset threshold: 0.6661\u001b[0m\n",
      "\u001b[32m2020-04-10 19:05:47.651\u001b[0m | \u001b[33m\u001b[1mWARNING \u001b[0m | \u001b[36m__main__\u001b[0m:\u001b[36mfilter_symbols\u001b[0m:\u001b[36m27\u001b[0m - \u001b[33m\u001b[1mremoved 53 symbols  [156 / 209]\u001b[0m\n"
     ]
    },
    {
     "name": "stderr",
     "output_type": "stream",
     "text": [
      " 72%|███████▏  | 76/106 [58:44<44:15, 88.53s/it]"
     ]
    },
    {
     "name": "stdout",
     "output_type": "stream",
     "text": [
      "\u001b[32m2020-04-10 19:05:47.757\u001b[0m | \u001b[33m\u001b[1mWARNING \u001b[0m | \u001b[36m__main__\u001b[0m:\u001b[36m<module>\u001b[0m:\u001b[36m2\u001b[0m - \u001b[33m\u001b[1mworking file DotPFile(id=76 | name='lora_BW2_SF11_915MHz_20ksps_Att0_v0.p')\u001b[0m\n",
      "\u001b[32m2020-04-10 19:05:47.759\u001b[0m | \u001b[34m\u001b[1mDEBUG   \u001b[0m | \u001b[36mlorapy.datafile.encoding\u001b[0m:\u001b[36mcompute_params\u001b[0m:\u001b[36m15\u001b[0m - \u001b[34m\u001b[1mcomputed samples per symbol: 25604 and packet length: 774521\u001b[0m\n",
      "\u001b[32m2020-04-10 19:05:47.951\u001b[0m | \u001b[1mINFO    \u001b[0m | \u001b[36mlorapy.datafile._base_file\u001b[0m:\u001b[36mload\u001b[0m:\u001b[36m61\u001b[0m - \u001b[1mloaded 9089420 samples from file\u001b[0m\n"
     ]
    },
    {
     "data": {
      "text/plain": [
       "BaselineSymbolSet(num symbols=355 | BW: 2 | SF: 11 | Att: 0 | samples per symbol: 25604 | packet length: 774521)"
      ]
     },
     "metadata": {},
     "output_type": "display_data"
    },
    {
     "name": "stdout",
     "output_type": "stream",
     "text": [
      "\u001b[32m2020-04-10 19:05:47.957\u001b[0m | \u001b[34m\u001b[1mDEBUG   \u001b[0m | \u001b[36mlorapy.datafile.encoding\u001b[0m:\u001b[36mcompute_params\u001b[0m:\u001b[36m15\u001b[0m - \u001b[34m\u001b[1mcomputed samples per symbol: 25604 and packet length: 774521\u001b[0m\n",
      "\u001b[32m2020-04-10 19:05:47.958\u001b[0m | \u001b[1mINFO    \u001b[0m | \u001b[36mlorapy.datafile._base_file\u001b[0m:\u001b[36mload\u001b[0m:\u001b[36m61\u001b[0m - \u001b[1mloaded 25603 samples from file\u001b[0m\n"
     ]
    },
    {
     "data": {
      "text/plain": [
       "BaselineSymbolSet(num symbols=25603 | BW: 2 | SF: 11 | Att: 0 | samples per symbol: 25604 | packet length: 774521)"
      ]
     },
     "metadata": {},
     "output_type": "display_data"
    },
    {
     "name": "stdout",
     "output_type": "stream",
     "text": [
      "\u001b[32m2020-04-10 19:06:56.748\u001b[0m | \u001b[1mINFO    \u001b[0m | \u001b[36m__main__\u001b[0m:\u001b[36mfilter_symbols\u001b[0m:\u001b[36m15\u001b[0m - \u001b[1mset threshold: 0.5857\u001b[0m\n",
      "\u001b[32m2020-04-10 19:06:56.779\u001b[0m | \u001b[33m\u001b[1mWARNING \u001b[0m | \u001b[36m__main__\u001b[0m:\u001b[36mfilter_symbols\u001b[0m:\u001b[36m27\u001b[0m - \u001b[33m\u001b[1mremoved 89 symbols  [266 / 355]\u001b[0m\n"
     ]
    },
    {
     "name": "stderr",
     "output_type": "stream",
     "text": [
      " 73%|███████▎  | 77/106 [59:53<39:58, 82.70s/it]"
     ]
    },
    {
     "name": "stdout",
     "output_type": "stream",
     "text": [
      "\u001b[32m2020-04-10 19:06:56.838\u001b[0m | \u001b[33m\u001b[1mWARNING \u001b[0m | \u001b[36m__main__\u001b[0m:\u001b[36m<module>\u001b[0m:\u001b[36m2\u001b[0m - \u001b[33m\u001b[1mworking file DotPFile(id=77 | name='lora_BW2_SF11_915MHz_20ksps_Att120_v0.p')\u001b[0m\n",
      "\u001b[32m2020-04-10 19:06:56.839\u001b[0m | \u001b[34m\u001b[1mDEBUG   \u001b[0m | \u001b[36mlorapy.datafile.encoding\u001b[0m:\u001b[36mcompute_params\u001b[0m:\u001b[36m15\u001b[0m - \u001b[34m\u001b[1mcomputed samples per symbol: 25604 and packet length: 774521\u001b[0m\n",
      "\u001b[32m2020-04-10 19:06:57.138\u001b[0m | \u001b[1mINFO    \u001b[0m | \u001b[36mlorapy.datafile._base_file\u001b[0m:\u001b[36mload\u001b[0m:\u001b[36m61\u001b[0m - \u001b[1mloaded 7758012 samples from file\u001b[0m\n"
     ]
    },
    {
     "data": {
      "text/plain": [
       "BaselineSymbolSet(num symbols=303 | BW: 2 | SF: 11 | Att: 120 | samples per symbol: 25604 | packet length: 774521)"
      ]
     },
     "metadata": {},
     "output_type": "display_data"
    },
    {
     "name": "stdout",
     "output_type": "stream",
     "text": [
      "\u001b[32m2020-04-10 19:06:57.143\u001b[0m | \u001b[34m\u001b[1mDEBUG   \u001b[0m | \u001b[36mlorapy.datafile.encoding\u001b[0m:\u001b[36mcompute_params\u001b[0m:\u001b[36m15\u001b[0m - \u001b[34m\u001b[1mcomputed samples per symbol: 25604 and packet length: 774521\u001b[0m\n",
      "\u001b[32m2020-04-10 19:06:57.144\u001b[0m | \u001b[1mINFO    \u001b[0m | \u001b[36mlorapy.datafile._base_file\u001b[0m:\u001b[36mload\u001b[0m:\u001b[36m61\u001b[0m - \u001b[1mloaded 25603 samples from file\u001b[0m\n"
     ]
    },
    {
     "data": {
      "text/plain": [
       "BaselineSymbolSet(num symbols=25603 | BW: 2 | SF: 11 | Att: 0 | samples per symbol: 25604 | packet length: 774521)"
      ]
     },
     "metadata": {},
     "output_type": "display_data"
    },
    {
     "name": "stdout",
     "output_type": "stream",
     "text": [
      "\u001b[32m2020-04-10 19:08:36.533\u001b[0m | \u001b[1mINFO    \u001b[0m | \u001b[36m__main__\u001b[0m:\u001b[36mfilter_symbols\u001b[0m:\u001b[36m15\u001b[0m - \u001b[1mset threshold: 4115.1059\u001b[0m\n",
      "\u001b[32m2020-04-10 19:08:36.590\u001b[0m | \u001b[33m\u001b[1mWARNING \u001b[0m | \u001b[36m__main__\u001b[0m:\u001b[36mfilter_symbols\u001b[0m:\u001b[36m27\u001b[0m - \u001b[33m\u001b[1mremoved 76 symbols  [227 / 303]\u001b[0m\n"
     ]
    },
    {
     "name": "stderr",
     "output_type": "stream",
     "text": [
      " 74%|███████▎  | 78/106 [1:01:33<41:00, 87.88s/it]"
     ]
    },
    {
     "name": "stdout",
     "output_type": "stream",
     "text": [
      "\u001b[32m2020-04-10 19:08:36.804\u001b[0m | \u001b[33m\u001b[1mWARNING \u001b[0m | \u001b[36m__main__\u001b[0m:\u001b[36m<module>\u001b[0m:\u001b[36m2\u001b[0m - \u001b[33m\u001b[1mworking file DotPFile(id=78 | name='lora_BW2_SF10_915MHz_20ksps_Att60_v0.p')\u001b[0m\n",
      "\u001b[32m2020-04-10 19:08:36.806\u001b[0m | \u001b[34m\u001b[1mDEBUG   \u001b[0m | \u001b[36mlorapy.datafile.encoding\u001b[0m:\u001b[36mcompute_params\u001b[0m:\u001b[36m15\u001b[0m - \u001b[34m\u001b[1mcomputed samples per symbol: 12802 and packet length: 387260\u001b[0m\n",
      "\u001b[32m2020-04-10 19:08:36.986\u001b[0m | \u001b[1mINFO    \u001b[0m | \u001b[36mlorapy.datafile._base_file\u001b[0m:\u001b[36mload\u001b[0m:\u001b[36m61\u001b[0m - \u001b[1mloaded 9012608 samples from file\u001b[0m\n"
     ]
    },
    {
     "data": {
      "text/plain": [
       "BaselineSymbolSet(num symbols=704 | BW: 2 | SF: 10 | Att: 60 | samples per symbol: 12802 | packet length: 387260)"
      ]
     },
     "metadata": {},
     "output_type": "display_data"
    },
    {
     "name": "stdout",
     "output_type": "stream",
     "text": [
      "\u001b[32m2020-04-10 19:08:36.996\u001b[0m | \u001b[34m\u001b[1mDEBUG   \u001b[0m | \u001b[36mlorapy.datafile.encoding\u001b[0m:\u001b[36mcompute_params\u001b[0m:\u001b[36m15\u001b[0m - \u001b[34m\u001b[1mcomputed samples per symbol: 12802 and packet length: 387260\u001b[0m\n",
      "\u001b[32m2020-04-10 19:08:36.998\u001b[0m | \u001b[1mINFO    \u001b[0m | \u001b[36mlorapy.datafile._base_file\u001b[0m:\u001b[36mload\u001b[0m:\u001b[36m61\u001b[0m - \u001b[1mloaded 12801 samples from file\u001b[0m\n"
     ]
    },
    {
     "data": {
      "text/plain": [
       "BaselineSymbolSet(num symbols=12801 | BW: 2 | SF: 10 | Att: 0 | samples per symbol: 12802 | packet length: 387260)"
      ]
     },
     "metadata": {},
     "output_type": "display_data"
    },
    {
     "name": "stdout",
     "output_type": "stream",
     "text": [
      "\u001b[32m2020-04-10 19:09:24.325\u001b[0m | \u001b[1mINFO    \u001b[0m | \u001b[36m__main__\u001b[0m:\u001b[36mfilter_symbols\u001b[0m:\u001b[36m15\u001b[0m - \u001b[1mset threshold: 55.5116\u001b[0m\n",
      "\u001b[32m2020-04-10 19:09:24.346\u001b[0m | \u001b[33m\u001b[1mWARNING \u001b[0m | \u001b[36m__main__\u001b[0m:\u001b[36mfilter_symbols\u001b[0m:\u001b[36m27\u001b[0m - \u001b[33m\u001b[1mremoved 176 symbols  [528 / 704]\u001b[0m\n"
     ]
    },
    {
     "name": "stderr",
     "output_type": "stream",
     "text": [
      " 75%|███████▍  | 79/106 [1:02:20<34:06, 75.81s/it]"
     ]
    },
    {
     "name": "stdout",
     "output_type": "stream",
     "text": [
      "\u001b[32m2020-04-10 19:09:24.445\u001b[0m | \u001b[33m\u001b[1mWARNING \u001b[0m | \u001b[36m__main__\u001b[0m:\u001b[36m<module>\u001b[0m:\u001b[36m2\u001b[0m - \u001b[33m\u001b[1mworking file DotPFile(id=79 | name='lora_BW1_SF11_915MHz_20ksps_Att120_v0.p')\u001b[0m\n",
      "\u001b[32m2020-04-10 19:09:24.446\u001b[0m | \u001b[34m\u001b[1mDEBUG   \u001b[0m | \u001b[36mlorapy.datafile.encoding\u001b[0m:\u001b[36mcompute_params\u001b[0m:\u001b[36m15\u001b[0m - \u001b[34m\u001b[1mcomputed samples per symbol: 38396 and packet length: 1161479\u001b[0m\n",
      "\u001b[32m2020-04-10 19:09:24.621\u001b[0m | \u001b[1mINFO    \u001b[0m | \u001b[36mlorapy.datafile._base_file\u001b[0m:\u001b[36mload\u001b[0m:\u001b[36m61\u001b[0m - \u001b[1mloaded 9176644 samples from file\u001b[0m\n"
     ]
    },
    {
     "data": {
      "text/plain": [
       "BaselineSymbolSet(num symbols=239 | BW: 1 | SF: 11 | Att: 120 | samples per symbol: 38396 | packet length: 1161479)"
      ]
     },
     "metadata": {},
     "output_type": "display_data"
    },
    {
     "name": "stdout",
     "output_type": "stream",
     "text": [
      "\u001b[32m2020-04-10 19:09:24.626\u001b[0m | \u001b[34m\u001b[1mDEBUG   \u001b[0m | \u001b[36mlorapy.datafile.encoding\u001b[0m:\u001b[36mcompute_params\u001b[0m:\u001b[36m15\u001b[0m - \u001b[34m\u001b[1mcomputed samples per symbol: 38396 and packet length: 1161479\u001b[0m\n",
      "\u001b[32m2020-04-10 19:09:24.628\u001b[0m | \u001b[1mINFO    \u001b[0m | \u001b[36mlorapy.datafile._base_file\u001b[0m:\u001b[36mload\u001b[0m:\u001b[36m61\u001b[0m - \u001b[1mloaded 38395 samples from file\u001b[0m\n"
     ]
    },
    {
     "data": {
      "text/plain": [
       "BaselineSymbolSet(num symbols=38395 | BW: 1 | SF: 11 | Att: 0 | samples per symbol: 38396 | packet length: 1161479)"
      ]
     },
     "metadata": {},
     "output_type": "display_data"
    },
    {
     "name": "stdout",
     "output_type": "stream",
     "text": [
      "\u001b[32m2020-04-10 19:11:01.667\u001b[0m | \u001b[1mINFO    \u001b[0m | \u001b[36m__main__\u001b[0m:\u001b[36mfilter_symbols\u001b[0m:\u001b[36m15\u001b[0m - \u001b[1mset threshold: 7680.3245\u001b[0m\n",
      "\u001b[32m2020-04-10 19:11:01.731\u001b[0m | \u001b[33m\u001b[1mWARNING \u001b[0m | \u001b[36m__main__\u001b[0m:\u001b[36mfilter_symbols\u001b[0m:\u001b[36m27\u001b[0m - \u001b[33m\u001b[1mremoved 60 symbols  [179 / 239]\u001b[0m\n"
     ]
    },
    {
     "name": "stderr",
     "output_type": "stream",
     "text": [
      " 75%|███████▌  | 80/106 [1:03:58<35:39, 82.27s/it]"
     ]
    },
    {
     "name": "stdout",
     "output_type": "stream",
     "text": [
      "\u001b[32m2020-04-10 19:11:01.811\u001b[0m | \u001b[33m\u001b[1mWARNING \u001b[0m | \u001b[36m__main__\u001b[0m:\u001b[36m<module>\u001b[0m:\u001b[36m2\u001b[0m - \u001b[33m\u001b[1mworking file DotPFile(id=80 | name='lora_BW1_SF11_915MHz_20ksps_Att100_v0.p')\u001b[0m\n",
      "\u001b[32m2020-04-10 19:11:01.812\u001b[0m | \u001b[34m\u001b[1mDEBUG   \u001b[0m | \u001b[36mlorapy.datafile.encoding\u001b[0m:\u001b[36mcompute_params\u001b[0m:\u001b[36m15\u001b[0m - \u001b[34m\u001b[1mcomputed samples per symbol: 38396 and packet length: 1161479\u001b[0m\n",
      "\u001b[32m2020-04-10 19:11:02.159\u001b[0m | \u001b[1mINFO    \u001b[0m | \u001b[36mlorapy.datafile._base_file\u001b[0m:\u001b[36mload\u001b[0m:\u001b[36m61\u001b[0m - \u001b[1mloaded 8869476 samples from file\u001b[0m\n"
     ]
    },
    {
     "data": {
      "text/plain": [
       "BaselineSymbolSet(num symbols=231 | BW: 1 | SF: 11 | Att: 100 | samples per symbol: 38396 | packet length: 1161479)"
      ]
     },
     "metadata": {},
     "output_type": "display_data"
    },
    {
     "name": "stdout",
     "output_type": "stream",
     "text": [
      "\u001b[32m2020-04-10 19:11:02.164\u001b[0m | \u001b[34m\u001b[1mDEBUG   \u001b[0m | \u001b[36mlorapy.datafile.encoding\u001b[0m:\u001b[36mcompute_params\u001b[0m:\u001b[36m15\u001b[0m - \u001b[34m\u001b[1mcomputed samples per symbol: 38396 and packet length: 1161479\u001b[0m\n",
      "\u001b[32m2020-04-10 19:11:02.166\u001b[0m | \u001b[1mINFO    \u001b[0m | \u001b[36mlorapy.datafile._base_file\u001b[0m:\u001b[36mload\u001b[0m:\u001b[36m61\u001b[0m - \u001b[1mloaded 38395 samples from file\u001b[0m\n"
     ]
    },
    {
     "data": {
      "text/plain": [
       "BaselineSymbolSet(num symbols=38395 | BW: 1 | SF: 11 | Att: 0 | samples per symbol: 38396 | packet length: 1161479)"
      ]
     },
     "metadata": {},
     "output_type": "display_data"
    },
    {
     "name": "stdout",
     "output_type": "stream",
     "text": [
      "\u001b[32m2020-04-10 19:13:03.424\u001b[0m | \u001b[1mINFO    \u001b[0m | \u001b[36m__main__\u001b[0m:\u001b[36mfilter_symbols\u001b[0m:\u001b[36m15\u001b[0m - \u001b[1mset threshold: 4227.5341\u001b[0m\n",
      "\u001b[32m2020-04-10 19:13:03.469\u001b[0m | \u001b[33m\u001b[1mWARNING \u001b[0m | \u001b[36m__main__\u001b[0m:\u001b[36mfilter_symbols\u001b[0m:\u001b[36m27\u001b[0m - \u001b[33m\u001b[1mremoved 58 symbols  [173 / 231]\u001b[0m\n"
     ]
    },
    {
     "name": "stderr",
     "output_type": "stream",
     "text": [
      " 76%|███████▋  | 81/106 [1:06:00<39:13, 94.16s/it]"
     ]
    },
    {
     "name": "stdout",
     "output_type": "stream",
     "text": [
      "\u001b[32m2020-04-10 19:13:03.703\u001b[0m | \u001b[33m\u001b[1mWARNING \u001b[0m | \u001b[36m__main__\u001b[0m:\u001b[36m<module>\u001b[0m:\u001b[36m2\u001b[0m - \u001b[33m\u001b[1mworking file DotPFile(id=81 | name='lora_BW8_SF12_915MHz_20ksps_Att80_v0.p')\u001b[0m\n",
      "\u001b[32m2020-04-10 19:13:03.704\u001b[0m | \u001b[34m\u001b[1mDEBUG   \u001b[0m | \u001b[36mlorapy.datafile.encoding\u001b[0m:\u001b[36mcompute_params\u001b[0m:\u001b[36m15\u001b[0m - \u001b[34m\u001b[1mcomputed samples per symbol: 3198 and packet length: 96739\u001b[0m\n",
      "\u001b[32m2020-04-10 19:13:03.805\u001b[0m | \u001b[1mINFO    \u001b[0m | \u001b[36mlorapy.datafile._base_file\u001b[0m:\u001b[36mload\u001b[0m:\u001b[36m61\u001b[0m - \u001b[1mloaded 6098586 samples from file\u001b[0m\n"
     ]
    },
    {
     "data": {
      "text/plain": [
       "BaselineSymbolSet(num symbols=1907 | BW: 8 | SF: 12 | Att: 80 | samples per symbol: 3198 | packet length: 96739)"
      ]
     },
     "metadata": {},
     "output_type": "display_data"
    },
    {
     "name": "stdout",
     "output_type": "stream",
     "text": [
      "\u001b[32m2020-04-10 19:13:03.809\u001b[0m | \u001b[34m\u001b[1mDEBUG   \u001b[0m | \u001b[36mlorapy.datafile.encoding\u001b[0m:\u001b[36mcompute_params\u001b[0m:\u001b[36m15\u001b[0m - \u001b[34m\u001b[1mcomputed samples per symbol: 3198 and packet length: 96739\u001b[0m\n",
      "\u001b[32m2020-04-10 19:13:03.810\u001b[0m | \u001b[1mINFO    \u001b[0m | \u001b[36mlorapy.datafile._base_file\u001b[0m:\u001b[36mload\u001b[0m:\u001b[36m61\u001b[0m - \u001b[1mloaded 3198 samples from file\u001b[0m\n"
     ]
    },
    {
     "data": {
      "text/plain": [
       "BaselineSymbolSet(num symbols=3198 | BW: 8 | SF: 12 | Att: 0 | samples per symbol: 3198 | packet length: 96739)"
      ]
     },
     "metadata": {},
     "output_type": "display_data"
    },
    {
     "name": "stdout",
     "output_type": "stream",
     "text": [
      "\u001b[32m2020-04-10 19:13:09.492\u001b[0m | \u001b[1mINFO    \u001b[0m | \u001b[36m__main__\u001b[0m:\u001b[36mfilter_symbols\u001b[0m:\u001b[36m15\u001b[0m - \u001b[1mset threshold: 132.5390\u001b[0m\n",
      "\u001b[32m2020-04-10 19:13:09.515\u001b[0m | \u001b[33m\u001b[1mWARNING \u001b[0m | \u001b[36m__main__\u001b[0m:\u001b[36mfilter_symbols\u001b[0m:\u001b[36m27\u001b[0m - \u001b[33m\u001b[1mremoved 477 symbols  [1430 / 1907]\u001b[0m\n"
     ]
    },
    {
     "name": "stderr",
     "output_type": "stream",
     "text": [
      " 77%|███████▋  | 82/106 [1:06:05<27:04, 67.67s/it]"
     ]
    },
    {
     "name": "stdout",
     "output_type": "stream",
     "text": [
      "\u001b[32m2020-04-10 19:13:09.576\u001b[0m | \u001b[33m\u001b[1mWARNING \u001b[0m | \u001b[36m__main__\u001b[0m:\u001b[36m<module>\u001b[0m:\u001b[36m2\u001b[0m - \u001b[33m\u001b[1mworking file DotPFile(id=82 | name='lora_BW8_SF11_915MHz_20ksps_Att120_v0.p')\u001b[0m\n",
      "\u001b[32m2020-04-10 19:13:09.577\u001b[0m | \u001b[34m\u001b[1mDEBUG   \u001b[0m | \u001b[36mlorapy.datafile.encoding\u001b[0m:\u001b[36mcompute_params\u001b[0m:\u001b[36m15\u001b[0m - \u001b[34m\u001b[1mcomputed samples per symbol: 1599 and packet length: 48369\u001b[0m\n",
      "\u001b[32m2020-04-10 19:13:09.759\u001b[0m | \u001b[1mINFO    \u001b[0m | \u001b[36mlorapy.datafile._base_file\u001b[0m:\u001b[36mload\u001b[0m:\u001b[36m61\u001b[0m - \u001b[1mloaded 5278299 samples from file\u001b[0m\n"
     ]
    },
    {
     "name": "stderr",
     "output_type": "stream",
     "text": [
      " 78%|███████▊  | 83/106 [1:06:06<18:10, 47.43s/it]"
     ]
    },
    {
     "name": "stdout",
     "output_type": "stream",
     "text": [
      "\u001b[32m2020-04-10 19:13:09.761\u001b[0m | \u001b[33m\u001b[1mWARNING \u001b[0m | \u001b[36m__main__\u001b[0m:\u001b[36m<module>\u001b[0m:\u001b[36m2\u001b[0m - \u001b[33m\u001b[1mworking file DotPFile(id=83 | name='lora_BW9_SF11_915MHz_20ksps_Att120_v0.p')\u001b[0m\n",
      "\u001b[32m2020-04-10 19:13:09.762\u001b[0m | \u001b[34m\u001b[1mDEBUG   \u001b[0m | \u001b[36mlorapy.datafile.encoding\u001b[0m:\u001b[36mcompute_params\u001b[0m:\u001b[36m15\u001b[0m - \u001b[34m\u001b[1mcomputed samples per symbol: 800 and packet length: 24200\u001b[0m\n",
      "\u001b[32m2020-04-10 19:13:09.851\u001b[0m | \u001b[1mINFO    \u001b[0m | \u001b[36mlorapy.datafile._base_file\u001b[0m:\u001b[36mload\u001b[0m:\u001b[36m61\u001b[0m - \u001b[1mloaded 4600000 samples from file\u001b[0m\n",
      "\u001b[32m2020-04-10 19:13:09.852\u001b[0m | \u001b[33m\u001b[1mWARNING \u001b[0m | \u001b[36m__main__\u001b[0m:\u001b[36m<module>\u001b[0m:\u001b[36m2\u001b[0m - \u001b[33m\u001b[1mworking file DotPFile(id=84 | name='lora_BW9_SF12_915MHz_20ksps_Att20_v0.p')\u001b[0m\n",
      "\u001b[32m2020-04-10 19:13:09.853\u001b[0m | \u001b[34m\u001b[1mDEBUG   \u001b[0m | \u001b[36mlorapy.datafile.encoding\u001b[0m:\u001b[36mcompute_params\u001b[0m:\u001b[36m15\u001b[0m - \u001b[34m\u001b[1mcomputed samples per symbol: 1599 and packet length: 48369\u001b[0m\n",
      "\u001b[32m2020-04-10 19:13:09.941\u001b[0m | \u001b[1mINFO    \u001b[0m | \u001b[36mlorapy.datafile._base_file\u001b[0m:\u001b[36mload\u001b[0m:\u001b[36m61\u001b[0m - \u001b[1mloaded 4549155 samples from file\u001b[0m\n"
     ]
    },
    {
     "data": {
      "text/plain": [
       "BaselineSymbolSet(num symbols=2845 | BW: 9 | SF: 12 | Att: 20 | samples per symbol: 1599 | packet length: 48369)"
      ]
     },
     "metadata": {},
     "output_type": "display_data"
    },
    {
     "name": "stdout",
     "output_type": "stream",
     "text": [
      "\u001b[32m2020-04-10 19:13:09.945\u001b[0m | \u001b[34m\u001b[1mDEBUG   \u001b[0m | \u001b[36mlorapy.datafile.encoding\u001b[0m:\u001b[36mcompute_params\u001b[0m:\u001b[36m15\u001b[0m - \u001b[34m\u001b[1mcomputed samples per symbol: 1599 and packet length: 48369\u001b[0m\n",
      "\u001b[32m2020-04-10 19:13:09.947\u001b[0m | \u001b[1mINFO    \u001b[0m | \u001b[36mlorapy.datafile._base_file\u001b[0m:\u001b[36mload\u001b[0m:\u001b[36m61\u001b[0m - \u001b[1mloaded 1599 samples from file\u001b[0m\n"
     ]
    },
    {
     "data": {
      "text/plain": [
       "BaselineSymbolSet(num symbols=1599 | BW: 9 | SF: 12 | Att: 0 | samples per symbol: 1599 | packet length: 48369)"
      ]
     },
     "metadata": {},
     "output_type": "display_data"
    },
    {
     "name": "stdout",
     "output_type": "stream",
     "text": [
      "\u001b[32m2020-04-10 19:13:12.234\u001b[0m | \u001b[1mINFO    \u001b[0m | \u001b[36m__main__\u001b[0m:\u001b[36mfilter_symbols\u001b[0m:\u001b[36m15\u001b[0m - \u001b[1mset threshold: 0.0985\u001b[0m\n",
      "\u001b[32m2020-04-10 19:13:12.259\u001b[0m | \u001b[33m\u001b[1mWARNING \u001b[0m | \u001b[36m__main__\u001b[0m:\u001b[36mfilter_symbols\u001b[0m:\u001b[36m27\u001b[0m - \u001b[33m\u001b[1mremoved 712 symbols  [2133 / 2845]\u001b[0m\n"
     ]
    },
    {
     "name": "stderr",
     "output_type": "stream",
     "text": [
      " 80%|████████  | 85/106 [1:06:08<11:45, 33.58s/it]"
     ]
    },
    {
     "name": "stdout",
     "output_type": "stream",
     "text": [
      "\u001b[32m2020-04-10 19:13:12.288\u001b[0m | \u001b[33m\u001b[1mWARNING \u001b[0m | \u001b[36m__main__\u001b[0m:\u001b[36m<module>\u001b[0m:\u001b[36m2\u001b[0m - \u001b[33m\u001b[1mworking file DotPFile(id=85 | name='lora_BW9_SF10_915MHz_20ksps_Att0_v0.p')\u001b[0m\n",
      "\u001b[32m2020-04-10 19:13:12.289\u001b[0m | \u001b[34m\u001b[1mDEBUG   \u001b[0m | \u001b[36mlorapy.datafile.encoding\u001b[0m:\u001b[36mcompute_params\u001b[0m:\u001b[36m15\u001b[0m - \u001b[34m\u001b[1mcomputed samples per symbol: 400 and packet length: 12100\u001b[0m\n",
      "\u001b[32m2020-04-10 19:13:12.456\u001b[0m | \u001b[1mINFO    \u001b[0m | \u001b[36mlorapy.datafile._base_file\u001b[0m:\u001b[36mload\u001b[0m:\u001b[36m61\u001b[0m - \u001b[1mloaded 4560000 samples from file\u001b[0m\n"
     ]
    },
    {
     "data": {
      "text/plain": [
       "BaselineSymbolSet(num symbols=11400 | BW: 9 | SF: 10 | Att: 0 | samples per symbol: 400 | packet length: 12100)"
      ]
     },
     "metadata": {},
     "output_type": "display_data"
    },
    {
     "name": "stdout",
     "output_type": "stream",
     "text": [
      "\u001b[32m2020-04-10 19:13:12.460\u001b[0m | \u001b[34m\u001b[1mDEBUG   \u001b[0m | \u001b[36mlorapy.datafile.encoding\u001b[0m:\u001b[36mcompute_params\u001b[0m:\u001b[36m15\u001b[0m - \u001b[34m\u001b[1mcomputed samples per symbol: 400 and packet length: 12100\u001b[0m\n",
      "\u001b[32m2020-04-10 19:13:12.461\u001b[0m | \u001b[1mINFO    \u001b[0m | \u001b[36mlorapy.datafile._base_file\u001b[0m:\u001b[36mload\u001b[0m:\u001b[36m61\u001b[0m - \u001b[1mloaded 399 samples from file\u001b[0m\n"
     ]
    },
    {
     "data": {
      "text/plain": [
       "BaselineSymbolSet(num symbols=399 | BW: 9 | SF: 10 | Att: 0 | samples per symbol: 400 | packet length: 12100)"
      ]
     },
     "metadata": {},
     "output_type": "display_data"
    },
    {
     "name": "stdout",
     "output_type": "stream",
     "text": [
      "\u001b[32m2020-04-10 19:13:14.135\u001b[0m | \u001b[1mINFO    \u001b[0m | \u001b[36m__main__\u001b[0m:\u001b[36mfilter_symbols\u001b[0m:\u001b[36m15\u001b[0m - \u001b[1mset threshold: 0.1632\u001b[0m\n",
      "\u001b[32m2020-04-10 19:13:14.180\u001b[0m | \u001b[33m\u001b[1mWARNING \u001b[0m | \u001b[36m__main__\u001b[0m:\u001b[36mfilter_symbols\u001b[0m:\u001b[36m27\u001b[0m - \u001b[33m\u001b[1mremoved 2850 symbols  [8550 / 11400]\u001b[0m\n"
     ]
    },
    {
     "name": "stderr",
     "output_type": "stream",
     "text": [
      " 81%|████████  | 86/106 [1:06:10<08:01, 24.09s/it]"
     ]
    },
    {
     "name": "stdout",
     "output_type": "stream",
     "text": [
      "\u001b[32m2020-04-10 19:13:14.238\u001b[0m | \u001b[33m\u001b[1mWARNING \u001b[0m | \u001b[36m__main__\u001b[0m:\u001b[36m<module>\u001b[0m:\u001b[36m2\u001b[0m - \u001b[33m\u001b[1mworking file DotPFile(id=86 | name='lora_BW7_SF12_915MHz_20ksps_Att0_v0.p')\u001b[0m\n",
      "\u001b[32m2020-04-10 19:13:14.239\u001b[0m | \u001b[34m\u001b[1mDEBUG   \u001b[0m | \u001b[36mlorapy.datafile.encoding\u001b[0m:\u001b[36mcompute_params\u001b[0m:\u001b[36m15\u001b[0m - \u001b[34m\u001b[1mcomputed samples per symbol: 6386 and packet length: 193176\u001b[0m\n",
      "\u001b[32m2020-04-10 19:13:14.345\u001b[0m | \u001b[1mINFO    \u001b[0m | \u001b[36mlorapy.datafile._base_file\u001b[0m:\u001b[36mload\u001b[0m:\u001b[36m61\u001b[0m - \u001b[1mloaded 5792102 samples from file\u001b[0m\n"
     ]
    },
    {
     "data": {
      "text/plain": [
       "BaselineSymbolSet(num symbols=907 | BW: 7 | SF: 12 | Att: 0 | samples per symbol: 6386 | packet length: 193176)"
      ]
     },
     "metadata": {},
     "output_type": "display_data"
    },
    {
     "name": "stdout",
     "output_type": "stream",
     "text": [
      "\u001b[32m2020-04-10 19:13:14.348\u001b[0m | \u001b[34m\u001b[1mDEBUG   \u001b[0m | \u001b[36mlorapy.datafile.encoding\u001b[0m:\u001b[36mcompute_params\u001b[0m:\u001b[36m15\u001b[0m - \u001b[34m\u001b[1mcomputed samples per symbol: 6386 and packet length: 193176\u001b[0m\n",
      "\u001b[32m2020-04-10 19:13:14.350\u001b[0m | \u001b[1mINFO    \u001b[0m | \u001b[36mlorapy.datafile._base_file\u001b[0m:\u001b[36mload\u001b[0m:\u001b[36m61\u001b[0m - \u001b[1mloaded 6386 samples from file\u001b[0m\n"
     ]
    },
    {
     "data": {
      "text/plain": [
       "BaselineSymbolSet(num symbols=6386 | BW: 7 | SF: 12 | Att: 0 | samples per symbol: 6386 | packet length: 193176)"
      ]
     },
     "metadata": {},
     "output_type": "display_data"
    },
    {
     "name": "stdout",
     "output_type": "stream",
     "text": [
      "\u001b[32m2020-04-10 19:13:30.897\u001b[0m | \u001b[1mINFO    \u001b[0m | \u001b[36m__main__\u001b[0m:\u001b[36mfilter_symbols\u001b[0m:\u001b[36m15\u001b[0m - \u001b[1mset threshold: 0.2204\u001b[0m\n",
      "\u001b[32m2020-04-10 19:13:30.915\u001b[0m | \u001b[33m\u001b[1mWARNING \u001b[0m | \u001b[36m__main__\u001b[0m:\u001b[36mfilter_symbols\u001b[0m:\u001b[36m27\u001b[0m - \u001b[33m\u001b[1mremoved 227 symbols  [680 / 907]\u001b[0m\n"
     ]
    },
    {
     "name": "stderr",
     "output_type": "stream",
     "text": [
      " 82%|████████▏ | 87/106 [1:06:27<06:55, 21.89s/it]"
     ]
    },
    {
     "name": "stdout",
     "output_type": "stream",
     "text": [
      "\u001b[32m2020-04-10 19:13:30.980\u001b[0m | \u001b[33m\u001b[1mWARNING \u001b[0m | \u001b[36m__main__\u001b[0m:\u001b[36m<module>\u001b[0m:\u001b[36m2\u001b[0m - \u001b[33m\u001b[1mworking file DotPFile(id=87 | name='lora_BW1_SF12_915MHz_20ksps_Att100_v0.p')\u001b[0m\n",
      "\u001b[32m2020-04-10 19:13:30.981\u001b[0m | \u001b[34m\u001b[1mDEBUG   \u001b[0m | \u001b[36mlorapy.datafile.encoding\u001b[0m:\u001b[36mcompute_params\u001b[0m:\u001b[36m15\u001b[0m - \u001b[34m\u001b[1mcomputed samples per symbol: 76801 and packet length: 2323230\u001b[0m\n",
      "\u001b[32m2020-04-10 19:13:31.146\u001b[0m | \u001b[1mINFO    \u001b[0m | \u001b[36mlorapy.datafile._base_file\u001b[0m:\u001b[36mload\u001b[0m:\u001b[36m61\u001b[0m - \u001b[1mloaded 8448110 samples from file\u001b[0m\n"
     ]
    },
    {
     "data": {
      "text/plain": [
       "BaselineSymbolSet(num symbols=110 | BW: 1 | SF: 12 | Att: 100 | samples per symbol: 76801 | packet length: 2323230)"
      ]
     },
     "metadata": {},
     "output_type": "display_data"
    },
    {
     "name": "stdout",
     "output_type": "stream",
     "text": [
      "\u001b[32m2020-04-10 19:13:31.150\u001b[0m | \u001b[34m\u001b[1mDEBUG   \u001b[0m | \u001b[36mlorapy.datafile.encoding\u001b[0m:\u001b[36mcompute_params\u001b[0m:\u001b[36m15\u001b[0m - \u001b[34m\u001b[1mcomputed samples per symbol: 76801 and packet length: 2323230\u001b[0m\n",
      "\u001b[32m2020-04-10 19:13:31.153\u001b[0m | \u001b[1mINFO    \u001b[0m | \u001b[36mlorapy.datafile._base_file\u001b[0m:\u001b[36mload\u001b[0m:\u001b[36m61\u001b[0m - \u001b[1mloaded 76800 samples from file\u001b[0m\n"
     ]
    },
    {
     "data": {
      "text/plain": [
       "BaselineSymbolSet(num symbols=76800 | BW: 1 | SF: 12 | Att: 0 | samples per symbol: 76801 | packet length: 2323230)"
      ]
     },
     "metadata": {},
     "output_type": "display_data"
    },
    {
     "name": "stdout",
     "output_type": "stream",
     "text": [
      "\u001b[32m2020-04-10 19:15:33.825\u001b[0m | \u001b[1mINFO    \u001b[0m | \u001b[36m__main__\u001b[0m:\u001b[36mfilter_symbols\u001b[0m:\u001b[36m15\u001b[0m - \u001b[1mset threshold: 4185.7305\u001b[0m\n",
      "\u001b[32m2020-04-10 19:15:33.862\u001b[0m | \u001b[33m\u001b[1mWARNING \u001b[0m | \u001b[36m__main__\u001b[0m:\u001b[36mfilter_symbols\u001b[0m:\u001b[36m27\u001b[0m - \u001b[33m\u001b[1mremoved 28 symbols  [82 / 110]\u001b[0m\n"
     ]
    },
    {
     "name": "stderr",
     "output_type": "stream",
     "text": [
      " 83%|████████▎ | 88/106 [1:08:30<15:39, 52.21s/it]"
     ]
    },
    {
     "name": "stdout",
     "output_type": "stream",
     "text": [
      "\u001b[32m2020-04-10 19:15:33.939\u001b[0m | \u001b[33m\u001b[1mWARNING \u001b[0m | \u001b[36m__main__\u001b[0m:\u001b[36m<module>\u001b[0m:\u001b[36m2\u001b[0m - \u001b[33m\u001b[1mworking file DotPFile(id=88 | name='lora_BW7_SF11_915MHz_20ksps_Att60_v0.p')\u001b[0m\n",
      "\u001b[32m2020-04-10 19:15:33.940\u001b[0m | \u001b[34m\u001b[1mDEBUG   \u001b[0m | \u001b[36mlorapy.datafile.encoding\u001b[0m:\u001b[36mcompute_params\u001b[0m:\u001b[36m15\u001b[0m - \u001b[34m\u001b[1mcomputed samples per symbol: 3198 and packet length: 96739\u001b[0m\n",
      "\u001b[32m2020-04-10 19:15:34.071\u001b[0m | \u001b[1mINFO    \u001b[0m | \u001b[36mlorapy.datafile._base_file\u001b[0m:\u001b[36mload\u001b[0m:\u001b[36m61\u001b[0m - \u001b[1mloaded 6594276 samples from file\u001b[0m\n"
     ]
    },
    {
     "data": {
      "text/plain": [
       "BaselineSymbolSet(num symbols=2062 | BW: 7 | SF: 11 | Att: 60 | samples per symbol: 3198 | packet length: 96739)"
      ]
     },
     "metadata": {},
     "output_type": "display_data"
    },
    {
     "name": "stdout",
     "output_type": "stream",
     "text": [
      "\u001b[32m2020-04-10 19:15:34.076\u001b[0m | \u001b[34m\u001b[1mDEBUG   \u001b[0m | \u001b[36mlorapy.datafile.encoding\u001b[0m:\u001b[36mcompute_params\u001b[0m:\u001b[36m15\u001b[0m - \u001b[34m\u001b[1mcomputed samples per symbol: 3198 and packet length: 96739\u001b[0m\n",
      "\u001b[32m2020-04-10 19:15:34.078\u001b[0m | \u001b[1mINFO    \u001b[0m | \u001b[36mlorapy.datafile._base_file\u001b[0m:\u001b[36mload\u001b[0m:\u001b[36m61\u001b[0m - \u001b[1mloaded 3198 samples from file\u001b[0m\n"
     ]
    },
    {
     "data": {
      "text/plain": [
       "BaselineSymbolSet(num symbols=3198 | BW: 7 | SF: 11 | Att: 0 | samples per symbol: 3198 | packet length: 96739)"
      ]
     },
     "metadata": {},
     "output_type": "display_data"
    },
    {
     "name": "stdout",
     "output_type": "stream",
     "text": [
      "\u001b[32m2020-04-10 19:15:40.265\u001b[0m | \u001b[1mINFO    \u001b[0m | \u001b[36m__main__\u001b[0m:\u001b[36mfilter_symbols\u001b[0m:\u001b[36m15\u001b[0m - \u001b[1mset threshold: 14.2039\u001b[0m\n",
      "\u001b[32m2020-04-10 19:15:40.287\u001b[0m | \u001b[33m\u001b[1mWARNING \u001b[0m | \u001b[36m__main__\u001b[0m:\u001b[36mfilter_symbols\u001b[0m:\u001b[36m27\u001b[0m - \u001b[33m\u001b[1mremoved 516 symbols  [1546 / 2062]\u001b[0m\n"
     ]
    },
    {
     "name": "stderr",
     "output_type": "stream",
     "text": [
      " 84%|████████▍ | 89/106 [1:08:36<10:54, 38.47s/it]"
     ]
    },
    {
     "name": "stdout",
     "output_type": "stream",
     "text": [
      "\u001b[32m2020-04-10 19:15:40.358\u001b[0m | \u001b[33m\u001b[1mWARNING \u001b[0m | \u001b[36m__main__\u001b[0m:\u001b[36m<module>\u001b[0m:\u001b[36m2\u001b[0m - \u001b[33m\u001b[1mworking file DotPFile(id=89 | name='lora_BW8_SF11_915MHz_20ksps_Att80_v0.p')\u001b[0m\n",
      "\u001b[32m2020-04-10 19:15:40.359\u001b[0m | \u001b[34m\u001b[1mDEBUG   \u001b[0m | \u001b[36mlorapy.datafile.encoding\u001b[0m:\u001b[36mcompute_params\u001b[0m:\u001b[36m15\u001b[0m - \u001b[34m\u001b[1mcomputed samples per symbol: 1599 and packet length: 48369\u001b[0m\n",
      "\u001b[32m2020-04-10 19:15:40.469\u001b[0m | \u001b[1mINFO    \u001b[0m | \u001b[36mlorapy.datafile._base_file\u001b[0m:\u001b[36mload\u001b[0m:\u001b[36m61\u001b[0m - \u001b[1mloaded 5993052 samples from file\u001b[0m\n"
     ]
    },
    {
     "data": {
      "text/plain": [
       "BaselineSymbolSet(num symbols=3748 | BW: 8 | SF: 11 | Att: 80 | samples per symbol: 1599 | packet length: 48369)"
      ]
     },
     "metadata": {},
     "output_type": "display_data"
    },
    {
     "name": "stdout",
     "output_type": "stream",
     "text": [
      "\u001b[32m2020-04-10 19:15:40.473\u001b[0m | \u001b[34m\u001b[1mDEBUG   \u001b[0m | \u001b[36mlorapy.datafile.encoding\u001b[0m:\u001b[36mcompute_params\u001b[0m:\u001b[36m15\u001b[0m - \u001b[34m\u001b[1mcomputed samples per symbol: 1599 and packet length: 48369\u001b[0m\n",
      "\u001b[32m2020-04-10 19:15:40.474\u001b[0m | \u001b[1mINFO    \u001b[0m | \u001b[36mlorapy.datafile._base_file\u001b[0m:\u001b[36mload\u001b[0m:\u001b[36m61\u001b[0m - \u001b[1mloaded 1599 samples from file\u001b[0m\n"
     ]
    },
    {
     "data": {
      "text/plain": [
       "BaselineSymbolSet(num symbols=1599 | BW: 8 | SF: 11 | Att: 0 | samples per symbol: 1599 | packet length: 48369)"
      ]
     },
     "metadata": {},
     "output_type": "display_data"
    },
    {
     "name": "stdout",
     "output_type": "stream",
     "text": [
      "\u001b[32m2020-04-10 19:15:43.430\u001b[0m | \u001b[1mINFO    \u001b[0m | \u001b[36m__main__\u001b[0m:\u001b[36mfilter_symbols\u001b[0m:\u001b[36m15\u001b[0m - \u001b[1mset threshold: 108.7093\u001b[0m\n",
      "\u001b[32m2020-04-10 19:15:43.463\u001b[0m | \u001b[33m\u001b[1mWARNING \u001b[0m | \u001b[36m__main__\u001b[0m:\u001b[36mfilter_symbols\u001b[0m:\u001b[36m27\u001b[0m - \u001b[33m\u001b[1mremoved 937 symbols  [2811 / 3748]\u001b[0m\n"
     ]
    },
    {
     "name": "stderr",
     "output_type": "stream",
     "text": [
      " 85%|████████▍ | 90/106 [1:08:39<07:25, 27.87s/it]"
     ]
    },
    {
     "name": "stdout",
     "output_type": "stream",
     "text": [
      "\u001b[32m2020-04-10 19:15:43.501\u001b[0m | \u001b[33m\u001b[1mWARNING \u001b[0m | \u001b[36m__main__\u001b[0m:\u001b[36m<module>\u001b[0m:\u001b[36m2\u001b[0m - \u001b[33m\u001b[1mworking file DotPFile(id=90 | name='lora_BW9_SF10_915MHz_20ksps_Att120_v0.p')\u001b[0m\n",
      "\u001b[32m2020-04-10 19:15:43.503\u001b[0m | \u001b[34m\u001b[1mDEBUG   \u001b[0m | \u001b[36mlorapy.datafile.encoding\u001b[0m:\u001b[36mcompute_params\u001b[0m:\u001b[36m15\u001b[0m - \u001b[34m\u001b[1mcomputed samples per symbol: 400 and packet length: 12100\u001b[0m\n",
      "\u001b[32m2020-04-10 19:15:43.596\u001b[0m | \u001b[1mINFO    \u001b[0m | \u001b[36mlorapy.datafile._base_file\u001b[0m:\u001b[36mload\u001b[0m:\u001b[36m61\u001b[0m - \u001b[1mloaded 5652800 samples from file\u001b[0m\n",
      "\u001b[32m2020-04-10 19:15:43.597\u001b[0m | \u001b[33m\u001b[1mWARNING \u001b[0m | \u001b[36m__main__\u001b[0m:\u001b[36m<module>\u001b[0m:\u001b[36m2\u001b[0m - \u001b[33m\u001b[1mworking file DotPFile(id=91 | name='lora_BW7_SF11_915MHz_20ksps_Att0_v0.p')\u001b[0m\n",
      "\u001b[32m2020-04-10 19:15:43.598\u001b[0m | \u001b[34m\u001b[1mDEBUG   \u001b[0m | \u001b[36mlorapy.datafile.encoding\u001b[0m:\u001b[36mcompute_params\u001b[0m:\u001b[36m15\u001b[0m - \u001b[34m\u001b[1mcomputed samples per symbol: 3198 and packet length: 96739\u001b[0m\n",
      "\u001b[32m2020-04-10 19:15:43.826\u001b[0m | \u001b[1mINFO    \u001b[0m | \u001b[36mlorapy.datafile._base_file\u001b[0m:\u001b[36mload\u001b[0m:\u001b[36m61\u001b[0m - \u001b[1mloaded 6389604 samples from file\u001b[0m\n"
     ]
    },
    {
     "data": {
      "text/plain": [
       "BaselineSymbolSet(num symbols=1998 | BW: 7 | SF: 11 | Att: 0 | samples per symbol: 3198 | packet length: 96739)"
      ]
     },
     "metadata": {},
     "output_type": "display_data"
    },
    {
     "name": "stdout",
     "output_type": "stream",
     "text": [
      "\u001b[32m2020-04-10 19:15:43.830\u001b[0m | \u001b[34m\u001b[1mDEBUG   \u001b[0m | \u001b[36mlorapy.datafile.encoding\u001b[0m:\u001b[36mcompute_params\u001b[0m:\u001b[36m15\u001b[0m - \u001b[34m\u001b[1mcomputed samples per symbol: 3198 and packet length: 96739\u001b[0m\n",
      "\u001b[32m2020-04-10 19:15:43.831\u001b[0m | \u001b[1mINFO    \u001b[0m | \u001b[36mlorapy.datafile._base_file\u001b[0m:\u001b[36mload\u001b[0m:\u001b[36m61\u001b[0m - \u001b[1mloaded 3198 samples from file\u001b[0m\n"
     ]
    },
    {
     "data": {
      "text/plain": [
       "BaselineSymbolSet(num symbols=3198 | BW: 7 | SF: 11 | Att: 0 | samples per symbol: 3198 | packet length: 96739)"
      ]
     },
     "metadata": {},
     "output_type": "display_data"
    },
    {
     "name": "stdout",
     "output_type": "stream",
     "text": [
      "\u001b[32m2020-04-10 19:16:02.424\u001b[0m | \u001b[1mINFO    \u001b[0m | \u001b[36m__main__\u001b[0m:\u001b[36mfilter_symbols\u001b[0m:\u001b[36m15\u001b[0m - \u001b[1mset threshold: 0.2158\u001b[0m\n",
      "\u001b[32m2020-04-10 19:16:02.462\u001b[0m | \u001b[33m\u001b[1mWARNING \u001b[0m | \u001b[36m__main__\u001b[0m:\u001b[36mfilter_symbols\u001b[0m:\u001b[36m27\u001b[0m - \u001b[33m\u001b[1mremoved 500 symbols  [1498 / 1998]\u001b[0m\n"
     ]
    },
    {
     "name": "stderr",
     "output_type": "stream",
     "text": [
      " 87%|████████▋ | 92/106 [1:08:59<05:13, 22.38s/it]"
     ]
    },
    {
     "name": "stdout",
     "output_type": "stream",
     "text": [
      "\u001b[32m2020-04-10 19:16:02.610\u001b[0m | \u001b[33m\u001b[1mWARNING \u001b[0m | \u001b[36m__main__\u001b[0m:\u001b[36m<module>\u001b[0m:\u001b[36m2\u001b[0m - \u001b[33m\u001b[1mworking file DotPFile(id=92 | name='lora_BW9_SF11_915MHz_20ksps_Att60_v0.p')\u001b[0m\n",
      "\u001b[32m2020-04-10 19:16:02.611\u001b[0m | \u001b[34m\u001b[1mDEBUG   \u001b[0m | \u001b[36mlorapy.datafile.encoding\u001b[0m:\u001b[36mcompute_params\u001b[0m:\u001b[36m15\u001b[0m - \u001b[34m\u001b[1mcomputed samples per symbol: 800 and packet length: 24200\u001b[0m\n",
      "\u001b[32m2020-04-10 19:16:02.693\u001b[0m | \u001b[1mINFO    \u001b[0m | \u001b[36mlorapy.datafile._base_file\u001b[0m:\u001b[36mload\u001b[0m:\u001b[36m61\u001b[0m - \u001b[1mloaded 5200800 samples from file\u001b[0m\n"
     ]
    },
    {
     "data": {
      "text/plain": [
       "BaselineSymbolSet(num symbols=6501 | BW: 9 | SF: 11 | Att: 60 | samples per symbol: 800 | packet length: 24200)"
      ]
     },
     "metadata": {},
     "output_type": "display_data"
    },
    {
     "name": "stdout",
     "output_type": "stream",
     "text": [
      "\u001b[32m2020-04-10 19:16:02.697\u001b[0m | \u001b[34m\u001b[1mDEBUG   \u001b[0m | \u001b[36mlorapy.datafile.encoding\u001b[0m:\u001b[36mcompute_params\u001b[0m:\u001b[36m15\u001b[0m - \u001b[34m\u001b[1mcomputed samples per symbol: 800 and packet length: 24200\u001b[0m\n",
      "\u001b[32m2020-04-10 19:16:02.699\u001b[0m | \u001b[1mINFO    \u001b[0m | \u001b[36mlorapy.datafile._base_file\u001b[0m:\u001b[36mload\u001b[0m:\u001b[36m61\u001b[0m - \u001b[1mloaded 799 samples from file\u001b[0m\n"
     ]
    },
    {
     "data": {
      "text/plain": [
       "BaselineSymbolSet(num symbols=799 | BW: 9 | SF: 11 | Att: 0 | samples per symbol: 800 | packet length: 24200)"
      ]
     },
     "metadata": {},
     "output_type": "display_data"
    },
    {
     "name": "stdout",
     "output_type": "stream",
     "text": [
      "\u001b[32m2020-04-10 19:16:04.396\u001b[0m | \u001b[1mINFO    \u001b[0m | \u001b[36m__main__\u001b[0m:\u001b[36mfilter_symbols\u001b[0m:\u001b[36m15\u001b[0m - \u001b[1mset threshold: 9.9023\u001b[0m\n",
      "\u001b[32m2020-04-10 19:16:04.433\u001b[0m | \u001b[33m\u001b[1mWARNING \u001b[0m | \u001b[36m__main__\u001b[0m:\u001b[36mfilter_symbols\u001b[0m:\u001b[36m27\u001b[0m - \u001b[33m\u001b[1mremoved 1626 symbols  [4875 / 6501]\u001b[0m\n"
     ]
    },
    {
     "name": "stderr",
     "output_type": "stream",
     "text": [
      " 88%|████████▊ | 93/106 [1:09:00<03:30, 16.22s/it]"
     ]
    },
    {
     "name": "stdout",
     "output_type": "stream",
     "text": [
      "\u001b[32m2020-04-10 19:16:04.465\u001b[0m | \u001b[33m\u001b[1mWARNING \u001b[0m | \u001b[36m__main__\u001b[0m:\u001b[36m<module>\u001b[0m:\u001b[36m2\u001b[0m - \u001b[33m\u001b[1mworking file DotPFile(id=93 | name='lora_BW2_SF10_915MHz_20ksps_Att100_v0.p')\u001b[0m\n",
      "\u001b[32m2020-04-10 19:16:04.467\u001b[0m | \u001b[34m\u001b[1mDEBUG   \u001b[0m | \u001b[36mlorapy.datafile.encoding\u001b[0m:\u001b[36mcompute_params\u001b[0m:\u001b[36m15\u001b[0m - \u001b[34m\u001b[1mcomputed samples per symbol: 12802 and packet length: 387260\u001b[0m\n",
      "\u001b[32m2020-04-10 19:16:04.637\u001b[0m | \u001b[1mINFO    \u001b[0m | \u001b[36mlorapy.datafile._base_file\u001b[0m:\u001b[36mload\u001b[0m:\u001b[36m61\u001b[0m - \u001b[1mloaded 8769370 samples from file\u001b[0m\n"
     ]
    },
    {
     "data": {
      "text/plain": [
       "BaselineSymbolSet(num symbols=685 | BW: 2 | SF: 10 | Att: 100 | samples per symbol: 12802 | packet length: 387260)"
      ]
     },
     "metadata": {},
     "output_type": "display_data"
    },
    {
     "name": "stdout",
     "output_type": "stream",
     "text": [
      "\u001b[32m2020-04-10 19:16:04.641\u001b[0m | \u001b[34m\u001b[1mDEBUG   \u001b[0m | \u001b[36mlorapy.datafile.encoding\u001b[0m:\u001b[36mcompute_params\u001b[0m:\u001b[36m15\u001b[0m - \u001b[34m\u001b[1mcomputed samples per symbol: 12802 and packet length: 387260\u001b[0m\n",
      "\u001b[32m2020-04-10 19:16:04.643\u001b[0m | \u001b[1mINFO    \u001b[0m | \u001b[36mlorapy.datafile._base_file\u001b[0m:\u001b[36mload\u001b[0m:\u001b[36m61\u001b[0m - \u001b[1mloaded 12801 samples from file\u001b[0m\n"
     ]
    },
    {
     "data": {
      "text/plain": [
       "BaselineSymbolSet(num symbols=12801 | BW: 2 | SF: 10 | Att: 0 | samples per symbol: 12802 | packet length: 387260)"
      ]
     },
     "metadata": {},
     "output_type": "display_data"
    },
    {
     "name": "stdout",
     "output_type": "stream",
     "text": [
      "\u001b[32m2020-04-10 19:16:49.316\u001b[0m | \u001b[1mINFO    \u001b[0m | \u001b[36m__main__\u001b[0m:\u001b[36mfilter_symbols\u001b[0m:\u001b[36m15\u001b[0m - \u001b[1mset threshold: 5218.2466\u001b[0m\n",
      "\u001b[32m2020-04-10 19:16:49.356\u001b[0m | \u001b[33m\u001b[1mWARNING \u001b[0m | \u001b[36m__main__\u001b[0m:\u001b[36mfilter_symbols\u001b[0m:\u001b[36m27\u001b[0m - \u001b[33m\u001b[1mremoved 172 symbols  [513 / 685]\u001b[0m\n"
     ]
    },
    {
     "name": "stderr",
     "output_type": "stream",
     "text": [
      " 89%|████████▊ | 94/106 [1:09:45<04:58, 24.84s/it]"
     ]
    },
    {
     "name": "stdout",
     "output_type": "stream",
     "text": [
      "\u001b[32m2020-04-10 19:16:49.421\u001b[0m | \u001b[33m\u001b[1mWARNING \u001b[0m | \u001b[36m__main__\u001b[0m:\u001b[36m<module>\u001b[0m:\u001b[36m2\u001b[0m - \u001b[33m\u001b[1mworking file DotPFile(id=94 | name='lora_BW7_SF10_915MHz_20ksps_Att20_v0.p')\u001b[0m\n",
      "\u001b[32m2020-04-10 19:16:49.423\u001b[0m | \u001b[34m\u001b[1mDEBUG   \u001b[0m | \u001b[36mlorapy.datafile.encoding\u001b[0m:\u001b[36mcompute_params\u001b[0m:\u001b[36m15\u001b[0m - \u001b[34m\u001b[1mcomputed samples per symbol: 1599 and packet length: 48369\u001b[0m\n",
      "\u001b[32m2020-04-10 19:16:49.548\u001b[0m | \u001b[1mINFO    \u001b[0m | \u001b[36mlorapy.datafile._base_file\u001b[0m:\u001b[36mload\u001b[0m:\u001b[36m61\u001b[0m - \u001b[1mloaded 7432152 samples from file\u001b[0m\n"
     ]
    },
    {
     "data": {
      "text/plain": [
       "BaselineSymbolSet(num symbols=4648 | BW: 7 | SF: 10 | Att: 20 | samples per symbol: 1599 | packet length: 48369)"
      ]
     },
     "metadata": {},
     "output_type": "display_data"
    },
    {
     "name": "stdout",
     "output_type": "stream",
     "text": [
      "\u001b[32m2020-04-10 19:16:49.552\u001b[0m | \u001b[34m\u001b[1mDEBUG   \u001b[0m | \u001b[36mlorapy.datafile.encoding\u001b[0m:\u001b[36mcompute_params\u001b[0m:\u001b[36m15\u001b[0m - \u001b[34m\u001b[1mcomputed samples per symbol: 1599 and packet length: 48369\u001b[0m\n",
      "\u001b[32m2020-04-10 19:16:49.554\u001b[0m | \u001b[1mINFO    \u001b[0m | \u001b[36mlorapy.datafile._base_file\u001b[0m:\u001b[36mload\u001b[0m:\u001b[36m61\u001b[0m - \u001b[1mloaded 1599 samples from file\u001b[0m\n"
     ]
    },
    {
     "data": {
      "text/plain": [
       "BaselineSymbolSet(num symbols=1599 | BW: 7 | SF: 10 | Att: 0 | samples per symbol: 1599 | packet length: 48369)"
      ]
     },
     "metadata": {},
     "output_type": "display_data"
    },
    {
     "name": "stdout",
     "output_type": "stream",
     "text": [
      "\u001b[32m2020-04-10 19:16:53.099\u001b[0m | \u001b[1mINFO    \u001b[0m | \u001b[36m__main__\u001b[0m:\u001b[36mfilter_symbols\u001b[0m:\u001b[36m15\u001b[0m - \u001b[1mset threshold: 0.2581\u001b[0m\n",
      "\u001b[32m2020-04-10 19:16:53.132\u001b[0m | \u001b[33m\u001b[1mWARNING \u001b[0m | \u001b[36m__main__\u001b[0m:\u001b[36mfilter_symbols\u001b[0m:\u001b[36m27\u001b[0m - \u001b[33m\u001b[1mremoved 1162 symbols  [3486 / 4648]\u001b[0m\n"
     ]
    },
    {
     "name": "stderr",
     "output_type": "stream",
     "text": [
      " 90%|████████▉ | 95/106 [1:09:49<03:23, 18.52s/it]"
     ]
    },
    {
     "name": "stdout",
     "output_type": "stream",
     "text": [
      "\u001b[32m2020-04-10 19:16:53.207\u001b[0m | \u001b[33m\u001b[1mWARNING \u001b[0m | \u001b[36m__main__\u001b[0m:\u001b[36m<module>\u001b[0m:\u001b[36m2\u001b[0m - \u001b[33m\u001b[1mworking file DotPFile(id=95 | name='lora_BW1_SF10_915MHz_20ksps_Att20_v0.p')\u001b[0m\n",
      "\u001b[32m2020-04-10 19:16:53.209\u001b[0m | \u001b[34m\u001b[1mDEBUG   \u001b[0m | \u001b[36mlorapy.datafile.encoding\u001b[0m:\u001b[36mcompute_params\u001b[0m:\u001b[36m15\u001b[0m - \u001b[34m\u001b[1mcomputed samples per symbol: 19198 and packet length: 580739\u001b[0m\n",
      "\u001b[32m2020-04-10 19:16:53.474\u001b[0m | \u001b[1mINFO    \u001b[0m | \u001b[36mlorapy.datafile._base_file\u001b[0m:\u001b[36mload\u001b[0m:\u001b[36m61\u001b[0m - \u001b[1mloaded 9963762 samples from file\u001b[0m\n"
     ]
    },
    {
     "data": {
      "text/plain": [
       "BaselineSymbolSet(num symbols=519 | BW: 1 | SF: 10 | Att: 20 | samples per symbol: 19198 | packet length: 580739)"
      ]
     },
     "metadata": {},
     "output_type": "display_data"
    },
    {
     "name": "stdout",
     "output_type": "stream",
     "text": [
      "\u001b[32m2020-04-10 19:16:53.477\u001b[0m | \u001b[34m\u001b[1mDEBUG   \u001b[0m | \u001b[36mlorapy.datafile.encoding\u001b[0m:\u001b[36mcompute_params\u001b[0m:\u001b[36m15\u001b[0m - \u001b[34m\u001b[1mcomputed samples per symbol: 19198 and packet length: 580739\u001b[0m\n",
      "\u001b[32m2020-04-10 19:16:53.478\u001b[0m | \u001b[1mINFO    \u001b[0m | \u001b[36mlorapy.datafile._base_file\u001b[0m:\u001b[36mload\u001b[0m:\u001b[36m61\u001b[0m - \u001b[1mloaded 19197 samples from file\u001b[0m\n"
     ]
    },
    {
     "data": {
      "text/plain": [
       "BaselineSymbolSet(num symbols=19197 | BW: 1 | SF: 10 | Att: 0 | samples per symbol: 19198 | packet length: 580739)"
      ]
     },
     "metadata": {},
     "output_type": "display_data"
    },
    {
     "name": "stdout",
     "output_type": "stream",
     "text": [
      "\u001b[32m2020-04-10 19:18:43.464\u001b[0m | \u001b[1mINFO    \u001b[0m | \u001b[36m__main__\u001b[0m:\u001b[36mfilter_symbols\u001b[0m:\u001b[36m15\u001b[0m - \u001b[1mset threshold: 0.8594\u001b[0m\n",
      "\u001b[32m2020-04-10 19:18:43.540\u001b[0m | \u001b[33m\u001b[1mWARNING \u001b[0m | \u001b[36m__main__\u001b[0m:\u001b[36mfilter_symbols\u001b[0m:\u001b[36m27\u001b[0m - \u001b[33m\u001b[1mremoved 130 symbols  [389 / 519]\u001b[0m\n"
     ]
    },
    {
     "name": "stderr",
     "output_type": "stream",
     "text": [
      " 91%|█████████ | 96/106 [1:11:40<07:41, 46.13s/it]"
     ]
    },
    {
     "name": "stdout",
     "output_type": "stream",
     "text": [
      "\u001b[32m2020-04-10 19:18:43.765\u001b[0m | \u001b[33m\u001b[1mWARNING \u001b[0m | \u001b[36m__main__\u001b[0m:\u001b[36m<module>\u001b[0m:\u001b[36m2\u001b[0m - \u001b[33m\u001b[1mworking file DotPFile(id=96 | name='lora_BW7_SF12_915MHz_20ksps_Att20_v0.p')\u001b[0m\n",
      "\u001b[32m2020-04-10 19:18:43.766\u001b[0m | \u001b[34m\u001b[1mDEBUG   \u001b[0m | \u001b[36mlorapy.datafile.encoding\u001b[0m:\u001b[36mcompute_params\u001b[0m:\u001b[36m15\u001b[0m - \u001b[34m\u001b[1mcomputed samples per symbol: 6386 and packet length: 193176\u001b[0m\n",
      "\u001b[32m2020-04-10 19:18:43.873\u001b[0m | \u001b[1mINFO    \u001b[0m | \u001b[36mlorapy.datafile._base_file\u001b[0m:\u001b[36mload\u001b[0m:\u001b[36m61\u001b[0m - \u001b[1mloaded 6756388 samples from file\u001b[0m\n"
     ]
    },
    {
     "data": {
      "text/plain": [
       "BaselineSymbolSet(num symbols=1058 | BW: 7 | SF: 12 | Att: 20 | samples per symbol: 6386 | packet length: 193176)"
      ]
     },
     "metadata": {},
     "output_type": "display_data"
    },
    {
     "name": "stdout",
     "output_type": "stream",
     "text": [
      "\u001b[32m2020-04-10 19:18:43.877\u001b[0m | \u001b[34m\u001b[1mDEBUG   \u001b[0m | \u001b[36mlorapy.datafile.encoding\u001b[0m:\u001b[36mcompute_params\u001b[0m:\u001b[36m15\u001b[0m - \u001b[34m\u001b[1mcomputed samples per symbol: 6386 and packet length: 193176\u001b[0m\n",
      "\u001b[32m2020-04-10 19:18:43.879\u001b[0m | \u001b[1mINFO    \u001b[0m | \u001b[36mlorapy.datafile._base_file\u001b[0m:\u001b[36mload\u001b[0m:\u001b[36m61\u001b[0m - \u001b[1mloaded 6386 samples from file\u001b[0m\n"
     ]
    },
    {
     "data": {
      "text/plain": [
       "BaselineSymbolSet(num symbols=6386 | BW: 7 | SF: 12 | Att: 0 | samples per symbol: 6386 | packet length: 193176)"
      ]
     },
     "metadata": {},
     "output_type": "display_data"
    },
    {
     "name": "stdout",
     "output_type": "stream",
     "text": [
      "\u001b[32m2020-04-10 19:19:03.638\u001b[0m | \u001b[1mINFO    \u001b[0m | \u001b[36m__main__\u001b[0m:\u001b[36mfilter_symbols\u001b[0m:\u001b[36m15\u001b[0m - \u001b[1mset threshold: 0.2583\u001b[0m\n",
      "\u001b[32m2020-04-10 19:19:03.659\u001b[0m | \u001b[33m\u001b[1mWARNING \u001b[0m | \u001b[36m__main__\u001b[0m:\u001b[36mfilter_symbols\u001b[0m:\u001b[36m27\u001b[0m - \u001b[33m\u001b[1mremoved 265 symbols  [793 / 1058]\u001b[0m\n"
     ]
    },
    {
     "name": "stderr",
     "output_type": "stream",
     "text": [
      " 92%|█████████▏| 97/106 [1:12:00<05:44, 38.28s/it]"
     ]
    },
    {
     "name": "stdout",
     "output_type": "stream",
     "text": [
      "\u001b[32m2020-04-10 19:19:03.726\u001b[0m | \u001b[33m\u001b[1mWARNING \u001b[0m | \u001b[36m__main__\u001b[0m:\u001b[36m<module>\u001b[0m:\u001b[36m2\u001b[0m - \u001b[33m\u001b[1mworking file DotPFile(id=97 | name='lora_BW1_SF10_915MHz_20ksps_Att100_v0.p')\u001b[0m\n",
      "\u001b[32m2020-04-10 19:19:03.727\u001b[0m | \u001b[34m\u001b[1mDEBUG   \u001b[0m | \u001b[36mlorapy.datafile.encoding\u001b[0m:\u001b[36mcompute_params\u001b[0m:\u001b[36m15\u001b[0m - \u001b[34m\u001b[1mcomputed samples per symbol: 19198 and packet length: 580739\u001b[0m\n",
      "\u001b[32m2020-04-10 19:19:03.974\u001b[0m | \u001b[1mINFO    \u001b[0m | \u001b[36mlorapy.datafile._base_file\u001b[0m:\u001b[36mload\u001b[0m:\u001b[36m61\u001b[0m - \u001b[1mloaded 6911280 samples from file\u001b[0m\n"
     ]
    },
    {
     "data": {
      "text/plain": [
       "BaselineSymbolSet(num symbols=360 | BW: 1 | SF: 10 | Att: 100 | samples per symbol: 19198 | packet length: 580739)"
      ]
     },
     "metadata": {},
     "output_type": "display_data"
    },
    {
     "name": "stdout",
     "output_type": "stream",
     "text": [
      "\u001b[32m2020-04-10 19:19:03.978\u001b[0m | \u001b[34m\u001b[1mDEBUG   \u001b[0m | \u001b[36mlorapy.datafile.encoding\u001b[0m:\u001b[36mcompute_params\u001b[0m:\u001b[36m15\u001b[0m - \u001b[34m\u001b[1mcomputed samples per symbol: 19198 and packet length: 580739\u001b[0m\n",
      "\u001b[32m2020-04-10 19:19:03.980\u001b[0m | \u001b[1mINFO    \u001b[0m | \u001b[36mlorapy.datafile._base_file\u001b[0m:\u001b[36mload\u001b[0m:\u001b[36m61\u001b[0m - \u001b[1mloaded 19197 samples from file\u001b[0m\n"
     ]
    },
    {
     "data": {
      "text/plain": [
       "BaselineSymbolSet(num symbols=19197 | BW: 1 | SF: 10 | Att: 0 | samples per symbol: 19198 | packet length: 580739)"
      ]
     },
     "metadata": {},
     "output_type": "display_data"
    },
    {
     "name": "stdout",
     "output_type": "stream",
     "text": [
      "\u001b[32m2020-04-10 19:20:19.172\u001b[0m | \u001b[1mINFO    \u001b[0m | \u001b[36m__main__\u001b[0m:\u001b[36mfilter_symbols\u001b[0m:\u001b[36m15\u001b[0m - \u001b[1mset threshold: 4239.6735\u001b[0m\n",
      "\u001b[32m2020-04-10 19:20:19.231\u001b[0m | \u001b[33m\u001b[1mWARNING \u001b[0m | \u001b[36m__main__\u001b[0m:\u001b[36mfilter_symbols\u001b[0m:\u001b[36m27\u001b[0m - \u001b[33m\u001b[1mremoved 90 symbols  [270 / 360]\u001b[0m\n"
     ]
    },
    {
     "name": "stderr",
     "output_type": "stream",
     "text": [
      " 92%|█████████▏| 98/106 [1:13:15<06:35, 49.50s/it]"
     ]
    },
    {
     "name": "stdout",
     "output_type": "stream",
     "text": [
      "\u001b[32m2020-04-10 19:20:19.391\u001b[0m | \u001b[33m\u001b[1mWARNING \u001b[0m | \u001b[36m__main__\u001b[0m:\u001b[36m<module>\u001b[0m:\u001b[36m2\u001b[0m - \u001b[33m\u001b[1mworking file DotPFile(id=98 | name='lora_BW7_SF11_915MHz_20ksps_Att100_v0.p')\u001b[0m\n",
      "\u001b[32m2020-04-10 19:20:19.393\u001b[0m | \u001b[34m\u001b[1mDEBUG   \u001b[0m | \u001b[36mlorapy.datafile.encoding\u001b[0m:\u001b[36mcompute_params\u001b[0m:\u001b[36m15\u001b[0m - \u001b[34m\u001b[1mcomputed samples per symbol: 3198 and packet length: 96739\u001b[0m\n",
      "\u001b[32m2020-04-10 19:20:19.499\u001b[0m | \u001b[1mINFO    \u001b[0m | \u001b[36mlorapy.datafile._base_file\u001b[0m:\u001b[36mload\u001b[0m:\u001b[36m61\u001b[0m - \u001b[1mloaded 6930066 samples from file\u001b[0m\n"
     ]
    },
    {
     "data": {
      "text/plain": [
       "BaselineSymbolSet(num symbols=2167 | BW: 7 | SF: 11 | Att: 100 | samples per symbol: 3198 | packet length: 96739)"
      ]
     },
     "metadata": {},
     "output_type": "display_data"
    },
    {
     "name": "stdout",
     "output_type": "stream",
     "text": [
      "\u001b[32m2020-04-10 19:20:19.503\u001b[0m | \u001b[34m\u001b[1mDEBUG   \u001b[0m | \u001b[36mlorapy.datafile.encoding\u001b[0m:\u001b[36mcompute_params\u001b[0m:\u001b[36m15\u001b[0m - \u001b[34m\u001b[1mcomputed samples per symbol: 3198 and packet length: 96739\u001b[0m\n",
      "\u001b[32m2020-04-10 19:20:19.504\u001b[0m | \u001b[1mINFO    \u001b[0m | \u001b[36mlorapy.datafile._base_file\u001b[0m:\u001b[36mload\u001b[0m:\u001b[36m61\u001b[0m - \u001b[1mloaded 3198 samples from file\u001b[0m\n"
     ]
    },
    {
     "data": {
      "text/plain": [
       "BaselineSymbolSet(num symbols=3198 | BW: 7 | SF: 11 | Att: 0 | samples per symbol: 3198 | packet length: 96739)"
      ]
     },
     "metadata": {},
     "output_type": "display_data"
    },
    {
     "name": "stdout",
     "output_type": "stream",
     "text": [
      "\u001b[32m2020-04-10 19:20:25.516\u001b[0m | \u001b[1mINFO    \u001b[0m | \u001b[36m__main__\u001b[0m:\u001b[36mfilter_symbols\u001b[0m:\u001b[36m15\u001b[0m - \u001b[1mset threshold: 1241.3281\u001b[0m\n",
      "\u001b[32m2020-04-10 19:20:25.539\u001b[0m | \u001b[33m\u001b[1mWARNING \u001b[0m | \u001b[36m__main__\u001b[0m:\u001b[36mfilter_symbols\u001b[0m:\u001b[36m27\u001b[0m - \u001b[33m\u001b[1mremoved 542 symbols  [1625 / 2167]\u001b[0m\n"
     ]
    },
    {
     "name": "stderr",
     "output_type": "stream",
     "text": [
      " 93%|█████████▎| 99/106 [1:13:21<04:15, 36.51s/it]"
     ]
    },
    {
     "name": "stdout",
     "output_type": "stream",
     "text": [
      "\u001b[32m2020-04-10 19:20:25.606\u001b[0m | \u001b[33m\u001b[1mWARNING \u001b[0m | \u001b[36m__main__\u001b[0m:\u001b[36m<module>\u001b[0m:\u001b[36m2\u001b[0m - \u001b[33m\u001b[1mworking file DotPFile(id=99 | name='lora_BW8_SF11_915MHz_20ksps_Att20_v0.p')\u001b[0m\n",
      "\u001b[32m2020-04-10 19:20:25.607\u001b[0m | \u001b[34m\u001b[1mDEBUG   \u001b[0m | \u001b[36mlorapy.datafile.encoding\u001b[0m:\u001b[36mcompute_params\u001b[0m:\u001b[36m15\u001b[0m - \u001b[34m\u001b[1mcomputed samples per symbol: 1599 and packet length: 48369\u001b[0m\n",
      "\u001b[32m2020-04-10 19:20:25.713\u001b[0m | \u001b[1mINFO    \u001b[0m | \u001b[36mlorapy.datafile._base_file\u001b[0m:\u001b[36mload\u001b[0m:\u001b[36m61\u001b[0m - \u001b[1mloaded 5570916 samples from file\u001b[0m\n"
     ]
    },
    {
     "data": {
      "text/plain": [
       "BaselineSymbolSet(num symbols=3484 | BW: 8 | SF: 11 | Att: 20 | samples per symbol: 1599 | packet length: 48369)"
      ]
     },
     "metadata": {},
     "output_type": "display_data"
    },
    {
     "name": "stdout",
     "output_type": "stream",
     "text": [
      "\u001b[32m2020-04-10 19:20:25.718\u001b[0m | \u001b[34m\u001b[1mDEBUG   \u001b[0m | \u001b[36mlorapy.datafile.encoding\u001b[0m:\u001b[36mcompute_params\u001b[0m:\u001b[36m15\u001b[0m - \u001b[34m\u001b[1mcomputed samples per symbol: 1599 and packet length: 48369\u001b[0m\n",
      "\u001b[32m2020-04-10 19:20:25.720\u001b[0m | \u001b[1mINFO    \u001b[0m | \u001b[36mlorapy.datafile._base_file\u001b[0m:\u001b[36mload\u001b[0m:\u001b[36m61\u001b[0m - \u001b[1mloaded 1599 samples from file\u001b[0m\n"
     ]
    },
    {
     "data": {
      "text/plain": [
       "BaselineSymbolSet(num symbols=1599 | BW: 8 | SF: 11 | Att: 0 | samples per symbol: 1599 | packet length: 48369)"
      ]
     },
     "metadata": {},
     "output_type": "display_data"
    },
    {
     "name": "stdout",
     "output_type": "stream",
     "text": [
      "\u001b[32m2020-04-10 19:20:28.444\u001b[0m | \u001b[1mINFO    \u001b[0m | \u001b[36m__main__\u001b[0m:\u001b[36mfilter_symbols\u001b[0m:\u001b[36m15\u001b[0m - \u001b[1mset threshold: 0.1840\u001b[0m\n",
      "\u001b[32m2020-04-10 19:20:28.472\u001b[0m | \u001b[33m\u001b[1mWARNING \u001b[0m | \u001b[36m__main__\u001b[0m:\u001b[36mfilter_symbols\u001b[0m:\u001b[36m27\u001b[0m - \u001b[33m\u001b[1mremoved 871 symbols  [2613 / 3484]\u001b[0m\n"
     ]
    },
    {
     "name": "stderr",
     "output_type": "stream",
     "text": [
      " 94%|█████████▍| 100/106 [1:13:24<02:38, 26.43s/it]"
     ]
    },
    {
     "name": "stdout",
     "output_type": "stream",
     "text": [
      "\u001b[32m2020-04-10 19:20:28.506\u001b[0m | \u001b[33m\u001b[1mWARNING \u001b[0m | \u001b[36m__main__\u001b[0m:\u001b[36m<module>\u001b[0m:\u001b[36m2\u001b[0m - \u001b[33m\u001b[1mworking file DotPFile(id=100 | name='lora_BW2_SF12_915MHz_20ksps_Att20_v0.p')\u001b[0m\n",
      "\u001b[32m2020-04-10 19:20:28.507\u001b[0m | \u001b[34m\u001b[1mDEBUG   \u001b[0m | \u001b[36mlorapy.datafile.encoding\u001b[0m:\u001b[36mcompute_params\u001b[0m:\u001b[36m15\u001b[0m - \u001b[34m\u001b[1mcomputed samples per symbol: 51197 and packet length: 1548709\u001b[0m\n",
      "\u001b[32m2020-04-10 19:20:28.673\u001b[0m | \u001b[1mINFO    \u001b[0m | \u001b[36mlorapy.datafile._base_file\u001b[0m:\u001b[36mload\u001b[0m:\u001b[36m61\u001b[0m - \u001b[1mloaded 8447505 samples from file\u001b[0m\n"
     ]
    },
    {
     "data": {
      "text/plain": [
       "BaselineSymbolSet(num symbols=165 | BW: 2 | SF: 12 | Att: 20 | samples per symbol: 51197 | packet length: 1548709)"
      ]
     },
     "metadata": {},
     "output_type": "display_data"
    },
    {
     "name": "stdout",
     "output_type": "stream",
     "text": [
      "\u001b[32m2020-04-10 19:20:28.677\u001b[0m | \u001b[34m\u001b[1mDEBUG   \u001b[0m | \u001b[36mlorapy.datafile.encoding\u001b[0m:\u001b[36mcompute_params\u001b[0m:\u001b[36m15\u001b[0m - \u001b[34m\u001b[1mcomputed samples per symbol: 51197 and packet length: 1548709\u001b[0m\n",
      "\u001b[32m2020-04-10 19:20:28.679\u001b[0m | \u001b[1mINFO    \u001b[0m | \u001b[36mlorapy.datafile._base_file\u001b[0m:\u001b[36mload\u001b[0m:\u001b[36m61\u001b[0m - \u001b[1mloaded 51197 samples from file\u001b[0m\n"
     ]
    },
    {
     "data": {
      "text/plain": [
       "BaselineSymbolSet(num symbols=51197 | BW: 2 | SF: 12 | Att: 0 | samples per symbol: 51197 | packet length: 1548709)"
      ]
     },
     "metadata": {},
     "output_type": "display_data"
    },
    {
     "name": "stdout",
     "output_type": "stream",
     "text": [
      "\u001b[32m2020-04-10 19:22:06.647\u001b[0m | \u001b[1mINFO    \u001b[0m | \u001b[36m__main__\u001b[0m:\u001b[36mfilter_symbols\u001b[0m:\u001b[36m15\u001b[0m - \u001b[1mset threshold: 0.7626\u001b[0m\n",
      "\u001b[32m2020-04-10 19:22:06.670\u001b[0m | \u001b[33m\u001b[1mWARNING \u001b[0m | \u001b[36m__main__\u001b[0m:\u001b[36mfilter_symbols\u001b[0m:\u001b[36m27\u001b[0m - \u001b[33m\u001b[1mremoved 42 symbols  [123 / 165]\u001b[0m\n"
     ]
    },
    {
     "name": "stderr",
     "output_type": "stream",
     "text": [
      " 95%|█████████▌| 101/106 [1:15:03<03:59, 47.98s/it]"
     ]
    },
    {
     "name": "stdout",
     "output_type": "stream",
     "text": [
      "\u001b[32m2020-04-10 19:22:06.773\u001b[0m | \u001b[33m\u001b[1mWARNING \u001b[0m | \u001b[36m__main__\u001b[0m:\u001b[36m<module>\u001b[0m:\u001b[36m2\u001b[0m - \u001b[33m\u001b[1mworking file DotPFile(id=101 | name='lora_BW8_SF11_915MHz_20ksps_Att100_v0.p')\u001b[0m\n",
      "\u001b[32m2020-04-10 19:22:06.774\u001b[0m | \u001b[34m\u001b[1mDEBUG   \u001b[0m | \u001b[36mlorapy.datafile.encoding\u001b[0m:\u001b[36mcompute_params\u001b[0m:\u001b[36m15\u001b[0m - \u001b[34m\u001b[1mcomputed samples per symbol: 1599 and packet length: 48369\u001b[0m\n",
      "\u001b[32m2020-04-10 19:22:07.000\u001b[0m | \u001b[1mINFO    \u001b[0m | \u001b[36mlorapy.datafile._base_file\u001b[0m:\u001b[36mload\u001b[0m:\u001b[36m61\u001b[0m - \u001b[1mloaded 5514951 samples from file\u001b[0m\n"
     ]
    },
    {
     "data": {
      "text/plain": [
       "BaselineSymbolSet(num symbols=3449 | BW: 8 | SF: 11 | Att: 100 | samples per symbol: 1599 | packet length: 48369)"
      ]
     },
     "metadata": {},
     "output_type": "display_data"
    },
    {
     "name": "stdout",
     "output_type": "stream",
     "text": [
      "\u001b[32m2020-04-10 19:22:07.005\u001b[0m | \u001b[34m\u001b[1mDEBUG   \u001b[0m | \u001b[36mlorapy.datafile.encoding\u001b[0m:\u001b[36mcompute_params\u001b[0m:\u001b[36m15\u001b[0m - \u001b[34m\u001b[1mcomputed samples per symbol: 1599 and packet length: 48369\u001b[0m\n",
      "\u001b[32m2020-04-10 19:22:07.007\u001b[0m | \u001b[1mINFO    \u001b[0m | \u001b[36mlorapy.datafile._base_file\u001b[0m:\u001b[36mload\u001b[0m:\u001b[36m61\u001b[0m - \u001b[1mloaded 1599 samples from file\u001b[0m\n"
     ]
    },
    {
     "data": {
      "text/plain": [
       "BaselineSymbolSet(num symbols=1599 | BW: 8 | SF: 11 | Att: 0 | samples per symbol: 1599 | packet length: 48369)"
      ]
     },
     "metadata": {},
     "output_type": "display_data"
    },
    {
     "name": "stdout",
     "output_type": "stream",
     "text": [
      "\u001b[32m2020-04-10 19:22:11.793\u001b[0m | \u001b[1mINFO    \u001b[0m | \u001b[36m__main__\u001b[0m:\u001b[36mfilter_symbols\u001b[0m:\u001b[36m15\u001b[0m - \u001b[1mset threshold: 890.9474\u001b[0m\n",
      "\u001b[32m2020-04-10 19:22:11.830\u001b[0m | \u001b[33m\u001b[1mWARNING \u001b[0m | \u001b[36m__main__\u001b[0m:\u001b[36mfilter_symbols\u001b[0m:\u001b[36m27\u001b[0m - \u001b[33m\u001b[1mremoved 863 symbols  [2586 / 3449]\u001b[0m\n"
     ]
    },
    {
     "name": "stderr",
     "output_type": "stream",
     "text": [
      " 96%|█████████▌| 102/106 [1:15:08<02:20, 35.13s/it]"
     ]
    },
    {
     "name": "stdout",
     "output_type": "stream",
     "text": [
      "\u001b[32m2020-04-10 19:22:11.935\u001b[0m | \u001b[33m\u001b[1mWARNING \u001b[0m | \u001b[36m__main__\u001b[0m:\u001b[36m<module>\u001b[0m:\u001b[36m2\u001b[0m - \u001b[33m\u001b[1mworking file DotPFile(id=102 | name='lora_BW8_SF12_915MHz_20ksps_Att60_v0.p')\u001b[0m\n",
      "\u001b[32m2020-04-10 19:22:11.936\u001b[0m | \u001b[34m\u001b[1mDEBUG   \u001b[0m | \u001b[36mlorapy.datafile.encoding\u001b[0m:\u001b[36mcompute_params\u001b[0m:\u001b[36m15\u001b[0m - \u001b[34m\u001b[1mcomputed samples per symbol: 3198 and packet length: 96739\u001b[0m\n",
      "\u001b[32m2020-04-10 19:22:12.030\u001b[0m | \u001b[1mINFO    \u001b[0m | \u001b[36mlorapy.datafile._base_file\u001b[0m:\u001b[36mload\u001b[0m:\u001b[36m61\u001b[0m - \u001b[1mloaded 6268080 samples from file\u001b[0m\n"
     ]
    },
    {
     "data": {
      "text/plain": [
       "BaselineSymbolSet(num symbols=1960 | BW: 8 | SF: 12 | Att: 60 | samples per symbol: 3198 | packet length: 96739)"
      ]
     },
     "metadata": {},
     "output_type": "display_data"
    },
    {
     "name": "stdout",
     "output_type": "stream",
     "text": [
      "\u001b[32m2020-04-10 19:22:12.034\u001b[0m | \u001b[34m\u001b[1mDEBUG   \u001b[0m | \u001b[36mlorapy.datafile.encoding\u001b[0m:\u001b[36mcompute_params\u001b[0m:\u001b[36m15\u001b[0m - \u001b[34m\u001b[1mcomputed samples per symbol: 3198 and packet length: 96739\u001b[0m\n",
      "\u001b[32m2020-04-10 19:22:12.035\u001b[0m | \u001b[1mINFO    \u001b[0m | \u001b[36mlorapy.datafile._base_file\u001b[0m:\u001b[36mload\u001b[0m:\u001b[36m61\u001b[0m - \u001b[1mloaded 3198 samples from file\u001b[0m\n"
     ]
    },
    {
     "data": {
      "text/plain": [
       "BaselineSymbolSet(num symbols=3198 | BW: 8 | SF: 12 | Att: 0 | samples per symbol: 3198 | packet length: 96739)"
      ]
     },
     "metadata": {},
     "output_type": "display_data"
    },
    {
     "name": "stdout",
     "output_type": "stream",
     "text": [
      "\u001b[32m2020-04-10 19:22:17.545\u001b[0m | \u001b[1mINFO    \u001b[0m | \u001b[36m__main__\u001b[0m:\u001b[36mfilter_symbols\u001b[0m:\u001b[36m15\u001b[0m - \u001b[1mset threshold: 13.4172\u001b[0m\n",
      "\u001b[32m2020-04-10 19:22:17.567\u001b[0m | \u001b[33m\u001b[1mWARNING \u001b[0m | \u001b[36m__main__\u001b[0m:\u001b[36mfilter_symbols\u001b[0m:\u001b[36m27\u001b[0m - \u001b[33m\u001b[1mremoved 490 symbols  [1470 / 1960]\u001b[0m\n"
     ]
    },
    {
     "name": "stderr",
     "output_type": "stream",
     "text": [
      " 97%|█████████▋| 103/106 [1:15:14<01:18, 26.30s/it]"
     ]
    },
    {
     "name": "stdout",
     "output_type": "stream",
     "text": [
      "\u001b[32m2020-04-10 19:22:17.630\u001b[0m | \u001b[33m\u001b[1mWARNING \u001b[0m | \u001b[36m__main__\u001b[0m:\u001b[36m<module>\u001b[0m:\u001b[36m2\u001b[0m - \u001b[33m\u001b[1mworking file DotPFile(id=103 | name='lora_BW1_SF10_915MHz_20ksps_Att80_v0.p')\u001b[0m\n",
      "\u001b[32m2020-04-10 19:22:17.631\u001b[0m | \u001b[34m\u001b[1mDEBUG   \u001b[0m | \u001b[36mlorapy.datafile.encoding\u001b[0m:\u001b[36mcompute_params\u001b[0m:\u001b[36m15\u001b[0m - \u001b[34m\u001b[1mcomputed samples per symbol: 19198 and packet length: 580739\u001b[0m\n",
      "\u001b[32m2020-04-10 19:22:17.884\u001b[0m | \u001b[1mINFO    \u001b[0m | \u001b[36mlorapy.datafile._base_file\u001b[0m:\u001b[36mload\u001b[0m:\u001b[36m61\u001b[0m - \u001b[1mloaded 7276042 samples from file\u001b[0m\n"
     ]
    },
    {
     "data": {
      "text/plain": [
       "BaselineSymbolSet(num symbols=379 | BW: 1 | SF: 10 | Att: 80 | samples per symbol: 19198 | packet length: 580739)"
      ]
     },
     "metadata": {},
     "output_type": "display_data"
    },
    {
     "name": "stdout",
     "output_type": "stream",
     "text": [
      "\u001b[32m2020-04-10 19:22:17.888\u001b[0m | \u001b[34m\u001b[1mDEBUG   \u001b[0m | \u001b[36mlorapy.datafile.encoding\u001b[0m:\u001b[36mcompute_params\u001b[0m:\u001b[36m15\u001b[0m - \u001b[34m\u001b[1mcomputed samples per symbol: 19198 and packet length: 580739\u001b[0m\n",
      "\u001b[32m2020-04-10 19:22:17.890\u001b[0m | \u001b[1mINFO    \u001b[0m | \u001b[36mlorapy.datafile._base_file\u001b[0m:\u001b[36mload\u001b[0m:\u001b[36m61\u001b[0m - \u001b[1mloaded 19197 samples from file\u001b[0m\n"
     ]
    },
    {
     "data": {
      "text/plain": [
       "BaselineSymbolSet(num symbols=19197 | BW: 1 | SF: 10 | Att: 0 | samples per symbol: 19198 | packet length: 580739)"
      ]
     },
     "metadata": {},
     "output_type": "display_data"
    },
    {
     "name": "stdout",
     "output_type": "stream",
     "text": [
      "\u001b[32m2020-04-10 19:23:43.071\u001b[0m | \u001b[1mINFO    \u001b[0m | \u001b[36m__main__\u001b[0m:\u001b[36mfilter_symbols\u001b[0m:\u001b[36m15\u001b[0m - \u001b[1mset threshold: 582.9668\u001b[0m\n",
      "\u001b[32m2020-04-10 19:23:43.146\u001b[0m | \u001b[33m\u001b[1mWARNING \u001b[0m | \u001b[36m__main__\u001b[0m:\u001b[36mfilter_symbols\u001b[0m:\u001b[36m27\u001b[0m - \u001b[33m\u001b[1mremoved 95 symbols  [284 / 379]\u001b[0m\n"
     ]
    },
    {
     "name": "stderr",
     "output_type": "stream",
     "text": [
      " 98%|█████████▊| 104/106 [1:16:39<01:28, 44.12s/it]"
     ]
    },
    {
     "name": "stdout",
     "output_type": "stream",
     "text": [
      "\u001b[32m2020-04-10 19:23:43.335\u001b[0m | \u001b[33m\u001b[1mWARNING \u001b[0m | \u001b[36m__main__\u001b[0m:\u001b[36m<module>\u001b[0m:\u001b[36m2\u001b[0m - \u001b[33m\u001b[1mworking file DotPFile(id=104 | name='lora_BW8_SF11_915MHz_20ksps_Att40_v0.p')\u001b[0m\n",
      "\u001b[32m2020-04-10 19:23:43.336\u001b[0m | \u001b[34m\u001b[1mDEBUG   \u001b[0m | \u001b[36mlorapy.datafile.encoding\u001b[0m:\u001b[36mcompute_params\u001b[0m:\u001b[36m15\u001b[0m - \u001b[34m\u001b[1mcomputed samples per symbol: 1599 and packet length: 48369\u001b[0m\n",
      "\u001b[32m2020-04-10 19:23:43.432\u001b[0m | \u001b[1mINFO    \u001b[0m | \u001b[36mlorapy.datafile._base_file\u001b[0m:\u001b[36mload\u001b[0m:\u001b[36m61\u001b[0m - \u001b[1mloaded 5641272 samples from file\u001b[0m\n"
     ]
    },
    {
     "data": {
      "text/plain": [
       "BaselineSymbolSet(num symbols=3528 | BW: 8 | SF: 11 | Att: 40 | samples per symbol: 1599 | packet length: 48369)"
      ]
     },
     "metadata": {},
     "output_type": "display_data"
    },
    {
     "name": "stdout",
     "output_type": "stream",
     "text": [
      "\u001b[32m2020-04-10 19:23:43.436\u001b[0m | \u001b[34m\u001b[1mDEBUG   \u001b[0m | \u001b[36mlorapy.datafile.encoding\u001b[0m:\u001b[36mcompute_params\u001b[0m:\u001b[36m15\u001b[0m - \u001b[34m\u001b[1mcomputed samples per symbol: 1599 and packet length: 48369\u001b[0m\n",
      "\u001b[32m2020-04-10 19:23:43.437\u001b[0m | \u001b[1mINFO    \u001b[0m | \u001b[36mlorapy.datafile._base_file\u001b[0m:\u001b[36mload\u001b[0m:\u001b[36m61\u001b[0m - \u001b[1mloaded 1599 samples from file\u001b[0m\n"
     ]
    },
    {
     "data": {
      "text/plain": [
       "BaselineSymbolSet(num symbols=1599 | BW: 8 | SF: 11 | Att: 0 | samples per symbol: 1599 | packet length: 48369)"
      ]
     },
     "metadata": {},
     "output_type": "display_data"
    },
    {
     "name": "stdout",
     "output_type": "stream",
     "text": [
      "\u001b[32m2020-04-10 19:23:46.366\u001b[0m | \u001b[1mINFO    \u001b[0m | \u001b[36m__main__\u001b[0m:\u001b[36mfilter_symbols\u001b[0m:\u001b[36m15\u001b[0m - \u001b[1mset threshold: 1.0949\u001b[0m\n",
      "\u001b[32m2020-04-10 19:23:46.394\u001b[0m | \u001b[33m\u001b[1mWARNING \u001b[0m | \u001b[36m__main__\u001b[0m:\u001b[36mfilter_symbols\u001b[0m:\u001b[36m27\u001b[0m - \u001b[33m\u001b[1mremoved 882 symbols  [2646 / 3528]\u001b[0m\n"
     ]
    },
    {
     "name": "stderr",
     "output_type": "stream",
     "text": [
      " 99%|█████████▉| 105/106 [1:16:42<00:31, 31.82s/it]"
     ]
    },
    {
     "name": "stdout",
     "output_type": "stream",
     "text": [
      "\u001b[32m2020-04-10 19:23:46.451\u001b[0m | \u001b[33m\u001b[1mWARNING \u001b[0m | \u001b[36m__main__\u001b[0m:\u001b[36m<module>\u001b[0m:\u001b[36m2\u001b[0m - \u001b[33m\u001b[1mworking file DotPFile(id=105 | name='lora_BW1_SF11_915MHz_20ksps_Att80_v0.p')\u001b[0m\n",
      "\u001b[32m2020-04-10 19:23:46.452\u001b[0m | \u001b[34m\u001b[1mDEBUG   \u001b[0m | \u001b[36mlorapy.datafile.encoding\u001b[0m:\u001b[36mcompute_params\u001b[0m:\u001b[36m15\u001b[0m - \u001b[34m\u001b[1mcomputed samples per symbol: 38396 and packet length: 1161479\u001b[0m\n",
      "\u001b[32m2020-04-10 19:23:46.611\u001b[0m | \u001b[1mINFO    \u001b[0m | \u001b[36mlorapy.datafile._base_file\u001b[0m:\u001b[36mload\u001b[0m:\u001b[36m61\u001b[0m - \u001b[1mloaded 8869476 samples from file\u001b[0m\n"
     ]
    },
    {
     "data": {
      "text/plain": [
       "BaselineSymbolSet(num symbols=231 | BW: 1 | SF: 11 | Att: 80 | samples per symbol: 38396 | packet length: 1161479)"
      ]
     },
     "metadata": {},
     "output_type": "display_data"
    },
    {
     "name": "stdout",
     "output_type": "stream",
     "text": [
      "\u001b[32m2020-04-10 19:23:46.615\u001b[0m | \u001b[34m\u001b[1mDEBUG   \u001b[0m | \u001b[36mlorapy.datafile.encoding\u001b[0m:\u001b[36mcompute_params\u001b[0m:\u001b[36m15\u001b[0m - \u001b[34m\u001b[1mcomputed samples per symbol: 38396 and packet length: 1161479\u001b[0m\n",
      "\u001b[32m2020-04-10 19:23:46.617\u001b[0m | \u001b[1mINFO    \u001b[0m | \u001b[36mlorapy.datafile._base_file\u001b[0m:\u001b[36mload\u001b[0m:\u001b[36m61\u001b[0m - \u001b[1mloaded 38395 samples from file\u001b[0m\n"
     ]
    },
    {
     "data": {
      "text/plain": [
       "BaselineSymbolSet(num symbols=38395 | BW: 1 | SF: 11 | Att: 0 | samples per symbol: 38396 | packet length: 1161479)"
      ]
     },
     "metadata": {},
     "output_type": "display_data"
    },
    {
     "name": "stdout",
     "output_type": "stream",
     "text": [
      "\u001b[32m2020-04-10 19:25:21.770\u001b[0m | \u001b[1mINFO    \u001b[0m | \u001b[36m__main__\u001b[0m:\u001b[36mfilter_symbols\u001b[0m:\u001b[36m15\u001b[0m - \u001b[1mset threshold: 580.0865\u001b[0m\n",
      "\u001b[32m2020-04-10 19:25:21.793\u001b[0m | \u001b[33m\u001b[1mWARNING \u001b[0m | \u001b[36m__main__\u001b[0m:\u001b[36mfilter_symbols\u001b[0m:\u001b[36m27\u001b[0m - \u001b[33m\u001b[1mremoved 58 symbols  [173 / 231]\u001b[0m\n"
     ]
    },
    {
     "name": "stderr",
     "output_type": "stream",
     "text": [
      "100%|██████████| 106/106 [1:18:18<00:00, 44.32s/it]\n"
     ]
    }
   ],
   "source": [
    "for file in tqdm.tqdm(symloader.file_list):\n",
    "    logger.warning(f'working file {file}')\n",
    "    file.load()\n",
    "    if file.bw > 6 and file.att > 100:\n",
    "        continue\n",
    "    \n",
    "    filtered_symbols = filter_symbols(file, thresh_type='quant', plot=False)\n",
    "    _save_symbols(filtered_symbols, FILT_SYMBOL_DIR, file)\n",
    "    "
   ]
  },
  {
   "cell_type": "code",
   "execution_count": null,
   "metadata": {},
   "outputs": [],
   "source": []
  },
  {
   "cell_type": "markdown",
   "metadata": {},
   "source": [
    "# additional filtering"
   ]
  },
  {
   "cell_type": "code",
   "execution_count": 239,
   "metadata": {},
   "outputs": [
    {
     "data": {
      "text/plain": [
       "'lora_BW9_SF11_915MHz_20ksps_Att40_v0.p'"
      ]
     },
     "execution_count": 239,
     "metadata": {},
     "output_type": "execute_result"
    }
   ],
   "source": [
    "file.name"
   ]
  },
  {
   "cell_type": "markdown",
   "metadata": {},
   "source": [
    "## new fft autocorr"
   ]
  },
  {
   "cell_type": "code",
   "execution_count": 244,
   "metadata": {},
   "outputs": [
    {
     "data": {
      "text/plain": [
       "BaselineSymbolSet(num symbols=7392 | BW: 9 | SF: 11 | Att: 40 | samples per symbol: 800 | packet length: 24200)"
      ]
     },
     "metadata": {},
     "output_type": "display_data"
    },
    {
     "name": "stdout",
     "output_type": "stream",
     "text": [
      "\u001b[32m2020-04-10 21:12:26.670\u001b[0m | \u001b[34m\u001b[1mDEBUG   \u001b[0m | \u001b[36mlorapy.datafile.encoding\u001b[0m:\u001b[36mcompute_params\u001b[0m:\u001b[36m15\u001b[0m - \u001b[34m\u001b[1mcomputed samples per symbol: 800 and packet length: 24200\u001b[0m\n",
      "\u001b[32m2020-04-10 21:12:26.672\u001b[0m | \u001b[1mINFO    \u001b[0m | \u001b[36mlorapy.datafile._base_file\u001b[0m:\u001b[36mload\u001b[0m:\u001b[36m61\u001b[0m - \u001b[1mloaded 799 samples from file\u001b[0m\n"
     ]
    },
    {
     "data": {
      "text/plain": [
       "BaselineSymbolSet(num symbols=799 | BW: 9 | SF: 11 | Att: 0 | samples per symbol: 800 | packet length: 24200)"
      ]
     },
     "metadata": {},
     "output_type": "display_data"
    },
    {
     "name": "stdout",
     "output_type": "stream",
     "text": [
      "\u001b[32m2020-04-10 21:12:31.672\u001b[0m | \u001b[1mINFO    \u001b[0m | \u001b[36m__main__\u001b[0m:\u001b[36mfilter_symbols_fftcorr\u001b[0m:\u001b[36m25\u001b[0m - \u001b[1mset threshold: 13.6158\u001b[0m\n",
      "\u001b[32m2020-04-10 21:12:31.688\u001b[0m | \u001b[33m\u001b[1mWARNING \u001b[0m | \u001b[36m__main__\u001b[0m:\u001b[36mfilter_symbols_fftcorr\u001b[0m:\u001b[36m33\u001b[0m - \u001b[33m\u001b[1mremoved 2319 symbols  [5073 / 7392]\u001b[0m\n"
     ]
    },
    {
     "ename": "AttributeError",
     "evalue": "'list' object has no attribute 'shape'",
     "output_type": "error",
     "traceback": [
      "\u001b[0;31m---------------------------------------------------------------------------\u001b[0m",
      "\u001b[0;31mAttributeError\u001b[0m                            Traceback (most recent call last)",
      "\u001b[0;32m<timed exec>\u001b[0m in \u001b[0;36m<module>\u001b[0;34m\u001b[0m\n",
      "\u001b[0;32m<ipython-input-241-69a623db52a0>\u001b[0m in \u001b[0;36mfilter_symbols_fftcorr\u001b[0;34m(file, plot)\u001b[0m\n\u001b[1;32m     34\u001b[0m \u001b[0;34m\u001b[0m\u001b[0m\n\u001b[1;32m     35\u001b[0m     \u001b[0;32mif\u001b[0m \u001b[0mplot\u001b[0m\u001b[0;34m:\u001b[0m\u001b[0;34m\u001b[0m\u001b[0;34m\u001b[0m\u001b[0m\n\u001b[0;32m---> 36\u001b[0;31m         \u001b[0m_plot_check\u001b[0m\u001b[0;34m(\u001b[0m\u001b[0mfiltered_symbols\u001b[0m\u001b[0;34m,\u001b[0m \u001b[0;36m40\u001b[0m\u001b[0;34m)\u001b[0m\u001b[0;34m\u001b[0m\u001b[0;34m\u001b[0m\u001b[0m\n\u001b[0m\u001b[1;32m     37\u001b[0m \u001b[0;34m\u001b[0m\u001b[0m\n\u001b[1;32m     38\u001b[0m     \u001b[0;32mreturn\u001b[0m \u001b[0mfiltered_symbols\u001b[0m\u001b[0;34m,\u001b[0m \u001b[0mcorr_fftconvs\u001b[0m\u001b[0;34m\u001b[0m\u001b[0;34m\u001b[0m\u001b[0m\n",
      "\u001b[0;32m<ipython-input-4-006475c616b4>\u001b[0m in \u001b[0;36m_plot_check\u001b[0;34m(filtered_syms, num)\u001b[0m\n\u001b[1;32m     15\u001b[0m \u001b[0;34m\u001b[0m\u001b[0m\n\u001b[1;32m     16\u001b[0m         \u001b[0;32mfor\u001b[0m \u001b[0midx\u001b[0m \u001b[0;32min\u001b[0m \u001b[0mrange\u001b[0m\u001b[0;34m(\u001b[0m\u001b[0mnum\u001b[0m\u001b[0;34m)\u001b[0m\u001b[0;34m:\u001b[0m\u001b[0;34m\u001b[0m\u001b[0;34m\u001b[0m\u001b[0m\n\u001b[0;32m---> 17\u001b[0;31m             \u001b[0max\u001b[0m\u001b[0;34m[\u001b[0m\u001b[0midx\u001b[0m\u001b[0;34m]\u001b[0m\u001b[0;34m.\u001b[0m\u001b[0mplot\u001b[0m\u001b[0;34m(\u001b[0m\u001b[0mfiltered_syms\u001b[0m\u001b[0;34m[\u001b[0m\u001b[0mrand\u001b[0m\u001b[0;34m(\u001b[0m\u001b[0mfiltered_syms\u001b[0m\u001b[0;34m.\u001b[0m\u001b[0mshape\u001b[0m\u001b[0;34m[\u001b[0m\u001b[0;36m0\u001b[0m\u001b[0;34m]\u001b[0m\u001b[0;34m)\u001b[0m\u001b[0;34m]\u001b[0m\u001b[0;34m)\u001b[0m\u001b[0;34m\u001b[0m\u001b[0;34m\u001b[0m\u001b[0m\n\u001b[0m\u001b[1;32m     18\u001b[0m \u001b[0;34m\u001b[0m\u001b[0m\n\u001b[1;32m     19\u001b[0m \u001b[0;34m\u001b[0m\u001b[0m\n",
      "\u001b[0;31mAttributeError\u001b[0m: 'list' object has no attribute 'shape'"
     ]
    },
    {
     "data": {
      "image/png": "[encoded data removed]",
      "text/plain": [
       "<Figure size 1008x720 with 40 Axes>"
      ]
     },
     "metadata": {
      "needs_background": "light"
     },
     "output_type": "display_data"
    }
   ],
   "source": [
    "%%time\n",
    "filtered_symbols = filter_symbols_fftcorr(file, plot=True)"
   ]
  },
  {
   "cell_type": "code",
   "execution_count": null,
   "metadata": {},
   "outputs": [],
   "source": []
  },
  {
   "cell_type": "code",
   "execution_count": null,
   "metadata": {},
   "outputs": [],
   "source": []
  },
  {
   "cell_type": "code",
   "execution_count": null,
   "metadata": {},
   "outputs": [],
   "source": []
  },
  {
   "cell_type": "code",
   "execution_count": null,
   "metadata": {},
   "outputs": [],
   "source": []
  },
  {
   "cell_type": "code",
   "execution_count": null,
   "metadata": {},
   "outputs": [],
   "source": []
  },
  {
   "cell_type": "code",
   "execution_count": null,
   "metadata": {},
   "outputs": [],
   "source": []
  },
  {
   "cell_type": "markdown",
   "metadata": {},
   "source": [
    "# visualize"
   ]
  },
  {
   "cell_type": "code",
   "execution_count": null,
   "metadata": {},
   "outputs": [],
   "source": [
    "symbols.num_symbols"
   ]
  },
  {
   "cell_type": "code",
   "execution_count": null,
   "metadata": {},
   "outputs": [],
   "source": [
    "symbols.plot()"
   ]
  },
  {
   "cell_type": "code",
   "execution_count": null,
   "metadata": {},
   "outputs": [],
   "source": []
  },
  {
   "cell_type": "code",
   "execution_count": null,
   "metadata": {},
   "outputs": [],
   "source": [
    "batch_size = 50\n",
    "batches = symbols.num_symbols // 50\n",
    "print(f'batches = {batches}')\n",
    "\n",
    "stop = 0\n",
    "\n",
    "for epoch in range(1, symbols.num_symbols // 50):\n",
    "    rows, cols = 10, 5\n",
    "    fig, ax = plt.subplots(10, 5, figsize=(15,8))\n",
    "    \n",
    "    for i in range(rows):\n",
    "        for j in range(cols):\n",
    "            with warnings.catch_warnings():\n",
    "                warnings.simplefilter(\"ignore\")\n",
    "                ax[i, j].plot(symbols.data[epoch*i + epoch*i*j])\n",
    "            \n",
    "    stop += 1\n",
    "    if stop > 5:\n",
    "        break\n",
    "    "
   ]
  },
  {
   "cell_type": "code",
   "execution_count": null,
   "metadata": {},
   "outputs": [],
   "source": []
  },
  {
   "cell_type": "code",
   "execution_count": null,
   "metadata": {},
   "outputs": [],
   "source": []
  },
  {
   "cell_type": "markdown",
   "metadata": {},
   "source": [
    "# old dev"
   ]
  },
  {
   "cell_type": "markdown",
   "metadata": {},
   "source": [
    "## setup"
   ]
  },
  {
   "cell_type": "code",
   "execution_count": 114,
   "metadata": {},
   "outputs": [
    {
     "data": {
      "text/plain": [
       "DotPFile(id=29 | name='lora_BW9_SF11_915MHz_20ksps_Att40_v0.p')"
      ]
     },
     "metadata": {},
     "output_type": "display_data"
    },
    {
     "name": "stdout",
     "output_type": "stream",
     "text": [
      "\u001b[32m2020-04-10 20:21:17.471\u001b[0m | \u001b[34m\u001b[1mDEBUG   \u001b[0m | \u001b[36mlorapy.datafile.encoding\u001b[0m:\u001b[36mcompute_params\u001b[0m:\u001b[36m15\u001b[0m - \u001b[34m\u001b[1mcomputed samples per symbol: 800 and packet length: 24200\u001b[0m\n",
      "\u001b[32m2020-04-10 20:21:17.575\u001b[0m | \u001b[1mINFO    \u001b[0m | \u001b[36mlorapy.datafile._base_file\u001b[0m:\u001b[36mload\u001b[0m:\u001b[36m61\u001b[0m - \u001b[1mloaded 5913600 samples from file\u001b[0m\n"
     ]
    },
    {
     "data": {
      "text/plain": [
       "DotPFile(id=4 | name='lora_BW9_SF11_915MHz_20ksps_Att0_v0.p')"
      ]
     },
     "metadata": {},
     "output_type": "display_data"
    },
    {
     "name": "stdout",
     "output_type": "stream",
     "text": [
      "\u001b[32m2020-04-10 20:21:17.579\u001b[0m | \u001b[34m\u001b[1mDEBUG   \u001b[0m | \u001b[36mlorapy.datafile.encoding\u001b[0m:\u001b[36mcompute_params\u001b[0m:\u001b[36m15\u001b[0m - \u001b[34m\u001b[1mcomputed samples per symbol: 800 and packet length: 24200\u001b[0m\n",
      "\u001b[32m2020-04-10 20:21:17.580\u001b[0m | \u001b[1mINFO    \u001b[0m | \u001b[36mlorapy.datafile._base_file\u001b[0m:\u001b[36mload\u001b[0m:\u001b[36m61\u001b[0m - \u001b[1mloaded 799 samples from file\u001b[0m\n"
     ]
    },
    {
     "data": {
      "text/plain": [
       "BaselineSymbolSet(num symbols=799 | BW: 9 | SF: 11 | Att: 0 | samples per symbol: 800 | packet length: 24200)"
      ]
     },
     "metadata": {},
     "output_type": "display_data"
    }
   ],
   "source": [
    "file = symloader.filter(bw=9, sf=11, att=40)[0]\n",
    "display(file)\n",
    "file.load()\n",
    "\n",
    "pfile = _load_matching_dotp(file.bw, file.sf)\n",
    "display(pfile)\n",
    "\n",
    "base_symbol = pfile.to_signal()\n",
    "display(base_symbol)"
   ]
  },
  {
   "cell_type": "code",
   "execution_count": 115,
   "metadata": {},
   "outputs": [
    {
     "data": {
      "text/plain": [
       "BaselineSymbolSet(num symbols=7392 | BW: 9 | SF: 11 | Att: 40 | samples per symbol: 800 | packet length: 24200)"
      ]
     },
     "metadata": {},
     "output_type": "display_data"
    },
    {
     "name": "stdout",
     "output_type": "stream",
     "text": [
      "\u001b[32m2020-04-10 20:21:26.720\u001b[0m | \u001b[34m\u001b[1mDEBUG   \u001b[0m | \u001b[36mlorapy.datafile.encoding\u001b[0m:\u001b[36mcompute_params\u001b[0m:\u001b[36m15\u001b[0m - \u001b[34m\u001b[1mcomputed samples per symbol: 800 and packet length: 24200\u001b[0m\n",
      "\u001b[32m2020-04-10 20:21:26.721\u001b[0m | \u001b[1mINFO    \u001b[0m | \u001b[36mlorapy.datafile._base_file\u001b[0m:\u001b[36mload\u001b[0m:\u001b[36m61\u001b[0m - \u001b[1mloaded 799 samples from file\u001b[0m\n"
     ]
    },
    {
     "data": {
      "text/plain": [
       "BaselineSymbolSet(num symbols=799 | BW: 9 | SF: 11 | Att: 0 | samples per symbol: 800 | packet length: 24200)"
      ]
     },
     "metadata": {},
     "output_type": "display_data"
    },
    {
     "name": "stdout",
     "output_type": "stream",
     "text": [
      "\u001b[32m2020-04-10 20:21:28.625\u001b[0m | \u001b[1mINFO    \u001b[0m | \u001b[36m__main__\u001b[0m:\u001b[36mfilter_symbols\u001b[0m:\u001b[36m19\u001b[0m - \u001b[1mset threshold: 0.9628\u001b[0m\n",
      "\u001b[32m2020-04-10 20:21:28.667\u001b[0m | \u001b[33m\u001b[1mWARNING \u001b[0m | \u001b[36m__main__\u001b[0m:\u001b[36mfilter_symbols\u001b[0m:\u001b[36m37\u001b[0m - \u001b[33m\u001b[1mremoved 1849 symbols  [5543 / 7392]\u001b[0m\n"
     ]
    }
   ],
   "source": [
    "filtered_symbols, conv_vals = filter_symbols(file, thresh_type='quant', plot=False)"
   ]
  },
  {
   "cell_type": "code",
   "execution_count": 134,
   "metadata": {},
   "outputs": [],
   "source": [
    "bad_symbols = np.vstack([\n",
    "    filtered_symbols[15],\n",
    "    filtered_symbols[16],\n",
    "    filtered_symbols[20],\n",
    "    filtered_symbols[99],\n",
    "    filtered_symbols[100],\n",
    "    filtered_symbols[101],\n",
    "    filtered_symbols[110],\n",
    "    filtered_symbols[111],\n",
    "])\n",
    "\n",
    "good_symbols = np.vstack([\n",
    "    filtered_symbols[0],\n",
    "    filtered_symbols[5],\n",
    "    filtered_symbols[8],\n",
    "    filtered_symbols[71],\n",
    "    filtered_symbols[1],\n",
    "    filtered_symbols[3],\n",
    "    filtered_symbols[29],\n",
    "    filtered_symbols[30],\n",
    "])"
   ]
  },
  {
   "cell_type": "code",
   "execution_count": 137,
   "metadata": {},
   "outputs": [
    {
     "data": {
      "text/plain": [
       "[<matplotlib.lines.Line2D at 0x7fc691545250>]"
      ]
     },
     "execution_count": 137,
     "metadata": {},
     "output_type": "execute_result"
    },
    {
     "data": {
      "image/png": "[encoded data removed]",
      "text/plain": [
       "<Figure size 432x288 with 1 Axes>"
      ]
     },
     "metadata": {
      "needs_background": "light"
     },
     "output_type": "display_data"
    }
   ],
   "source": [
    "plt.plot(conv_vals)"
   ]
  },
  {
   "cell_type": "code",
   "execution_count": null,
   "metadata": {},
   "outputs": [],
   "source": []
  },
  {
   "cell_type": "code",
   "execution_count": null,
   "metadata": {},
   "outputs": [],
   "source": []
  },
  {
   "cell_type": "markdown",
   "metadata": {},
   "source": [
    "## bad symbol location"
   ]
  },
  {
   "cell_type": "code",
   "execution_count": 88,
   "metadata": {
    "collapsed": true,
    "jupyter": {
     "outputs_hidden": true,
     "source_hidden": true
    },
    "scrolled": true
   },
   "outputs": [
    {
     "data": {
      "image/png": "[encoded data removed]",
      "text/plain": [
       "<Figure size 360x72 with 1 Axes>"
      ]
     },
     "metadata": {
      "needs_background": "light"
     },
     "output_type": "display_data"
    },
    {
     "data": {
      "image/png": "[encoded data removed]",
      "text/plain": [
       "<Figure size 360x72 with 1 Axes>"
      ]
     },
     "metadata": {
      "needs_background": "light"
     },
     "output_type": "display_data"
    },
    {
     "data": {
      "image/png": "[encoded data removed]",
      "text/plain": [
       "<Figure size 360x72 with 1 Axes>"
      ]
     },
     "metadata": {
      "needs_background": "light"
     },
     "output_type": "display_data"
    },
    {
     "data": {
      "image/png": "[encoded data removed]",
      "text/plain": [
       "<Figure size 360x72 with 1 Axes>"
      ]
     },
     "metadata": {
      "needs_background": "light"
     },
     "output_type": "display_data"
    },
    {
     "data": {
      "image/png": "[encoded data removed]",
      "text/plain": [
       "<Figure size 360x72 with 1 Axes>"
      ]
     },
     "metadata": {
      "needs_background": "light"
     },
     "output_type": "display_data"
    },
    {
     "data": {
      "image/png": "[encoded data removed]",
      "text/plain": [
       "<Figure size 360x72 with 1 Axes>"
      ]
     },
     "metadata": {
      "needs_background": "light"
     },
     "output_type": "display_data"
    },
    {
     "data": {
      "image/png": "[encoded data removed]",
      "text/plain": [
       "<Figure size 360x72 with 1 Axes>"
      ]
     },
     "metadata": {
      "needs_background": "light"
     },
     "output_type": "display_data"
    },
    {
     "data": {
      "image/png": "[encoded data removed]",
      "text/plain": [
       "<Figure size 360x72 with 1 Axes>"
      ]
     },
     "metadata": {
      "needs_background": "light"
     },
     "output_type": "display_data"
    },
    {
     "data": {
      "image/png": "[encoded data removed]",
      "text/plain": [
       "<Figure size 360x72 with 1 Axes>"
      ]
     },
     "metadata": {
      "needs_background": "light"
     },
     "output_type": "display_data"
    },
    {
     "data": {
      "image/png": "[encoded data removed]",
      "text/plain": [
       "<Figure size 360x72 with 1 Axes>"
      ]
     },
     "metadata": {
      "needs_background": "light"
     },
     "output_type": "display_data"
    }
   ],
   "source": [
    "for sym in filtered_symbols[10:20]:\n",
    "    with warnings.catch_warnings():\n",
    "        warnings.simplefilter(\"ignore\")\n",
    "        \n",
    "        plt.figure(figsize=(5,1))\n",
    "        plt.plot(sym)"
   ]
  },
  {
   "cell_type": "code",
   "execution_count": 69,
   "metadata": {
    "collapsed": true,
    "jupyter": {
     "outputs_hidden": true,
     "source_hidden": true
    }
   },
   "outputs": [
    {
     "data": {
      "text/html": [
       "<div>\n",
       "<style scoped>\n",
       "    .dataframe tbody tr th:only-of-type {\n",
       "        vertical-align: middle;\n",
       "    }\n",
       "\n",
       "    .dataframe tbody tr th {\n",
       "        vertical-align: top;\n",
       "    }\n",
       "\n",
       "    .dataframe thead th {\n",
       "        text-align: right;\n",
       "    }\n",
       "</style>\n",
       "<table border=\"1\" class=\"dataframe\">\n",
       "  <thead>\n",
       "    <tr style=\"text-align: right;\">\n",
       "      <th></th>\n",
       "      <th>good</th>\n",
       "      <th>bad</th>\n",
       "      <th>good_abs</th>\n",
       "      <th>bad_abs</th>\n",
       "    </tr>\n",
       "  </thead>\n",
       "  <tbody>\n",
       "    <tr>\n",
       "      <th>0</th>\n",
       "      <td>0.000214-0.000824j</td>\n",
       "      <td>0.001617+0.000366j</td>\n",
       "      <td>0.000851</td>\n",
       "      <td>0.001658</td>\n",
       "    </tr>\n",
       "    <tr>\n",
       "      <th>1</th>\n",
       "      <td>0.000122-0.001038j</td>\n",
       "      <td>0.001648+0.000366j</td>\n",
       "      <td>0.001045</td>\n",
       "      <td>0.001688</td>\n",
       "    </tr>\n",
       "    <tr>\n",
       "      <th>2</th>\n",
       "      <td>-0.000275-0.001099j</td>\n",
       "      <td>0.001679+0.000305j</td>\n",
       "      <td>0.001132</td>\n",
       "      <td>0.001706</td>\n",
       "    </tr>\n",
       "    <tr>\n",
       "      <th>3</th>\n",
       "      <td>-0.000397-0.000427j</td>\n",
       "      <td>0.001648+0.000305j</td>\n",
       "      <td>0.000583</td>\n",
       "      <td>0.001676</td>\n",
       "    </tr>\n",
       "    <tr>\n",
       "      <th>4</th>\n",
       "      <td>0.000183-0.000793j</td>\n",
       "      <td>0.001648+0.000305j</td>\n",
       "      <td>0.000814</td>\n",
       "      <td>0.001676</td>\n",
       "    </tr>\n",
       "  </tbody>\n",
       "</table>\n",
       "</div>"
      ],
      "text/plain": [
       "                 good                 bad  good_abs   bad_abs\n",
       "0  0.000214-0.000824j  0.001617+0.000366j  0.000851  0.001658\n",
       "1  0.000122-0.001038j  0.001648+0.000366j  0.001045  0.001688\n",
       "2 -0.000275-0.001099j  0.001679+0.000305j  0.001132  0.001706\n",
       "3 -0.000397-0.000427j  0.001648+0.000305j  0.000583  0.001676\n",
       "4  0.000183-0.000793j  0.001648+0.000305j  0.000814  0.001676"
      ]
     },
     "execution_count": 69,
     "metadata": {},
     "output_type": "execute_result"
    }
   ],
   "source": [
    "sym_df = (\n",
    "    pd.DataFrame({'good': good_symbol, 'bad': bad_symbol})\n",
    "    .assign(\n",
    "        good_abs = lambda df: np.abs(df.good),\n",
    "        bad_abs = lambda df: np.abs(df.bad),\n",
    "    )\n",
    ")\n",
    "sym_df.head()"
   ]
  },
  {
   "cell_type": "markdown",
   "metadata": {},
   "source": [
    "## metric exploration"
   ]
  },
  {
   "cell_type": "code",
   "execution_count": 138,
   "metadata": {},
   "outputs": [
    {
     "data": {
      "image/png": "[encoded data removed]",
      "text/plain": [
       "<Figure size 864x216 with 2 Axes>"
      ]
     },
     "metadata": {
      "needs_background": "light"
     },
     "output_type": "display_data"
    }
   ],
   "source": [
    "fig, ax = plt.subplots(1, 2, figsize=(12, 3))\n",
    "with warnings.catch_warnings():\n",
    "    warnings.simplefilter(\"ignore\")\n",
    "    ax[0].plot(good_symbols[0])\n",
    "    ax[1].plot(bad_symbols[1])"
   ]
  },
  {
   "cell_type": "code",
   "execution_count": null,
   "metadata": {},
   "outputs": [],
   "source": []
  },
  {
   "cell_type": "markdown",
   "metadata": {},
   "source": [
    "## convolution"
   ]
  },
  {
   "cell_type": "code",
   "execution_count": 107,
   "metadata": {},
   "outputs": [],
   "source": [
    "import scipy as sp\n",
    "import scipy.stats as spstats\n",
    "import scipy.signal as spsig"
   ]
  },
  {
   "cell_type": "code",
   "execution_count": 139,
   "metadata": {},
   "outputs": [],
   "source": [
    "def _fft_convolve_autocorr(symbol: np.ndarray):\n",
    "    return spsig.fftconvolve(symbol, symbol[::-1], mode='full')\n",
    "\n",
    "def _sp_corr(base_symbol: np.ndarray, packet_slice: np.ndarray) -> float:\n",
    "    min_size = np.min((base_symbol.size, packet_slice.size))\n",
    "    corr = spsig.correlate(base_symbol, packet_slice)\n",
    "    return np.abs(corr.max())\n",
    "    "
   ]
  },
  {
   "cell_type": "code",
   "execution_count": null,
   "metadata": {},
   "outputs": [],
   "source": []
  },
  {
   "cell_type": "code",
   "execution_count": 140,
   "metadata": {},
   "outputs": [],
   "source": [
    "good_fftconvs = np.vstack([\n",
    "    _fft_convolve_autocorr(sym)\n",
    "    for sym in good_symbols\n",
    "])\n",
    "\n",
    "bad_fftconvs = np.vstack([\n",
    "    _fft_convolve_autocorr(sym)\n",
    "    for sym in bad_symbols\n",
    "])"
   ]
  },
  {
   "cell_type": "code",
   "execution_count": 225,
   "metadata": {},
   "outputs": [],
   "source": [
    "corr_vals = np.array([\n",
    "    _sp_corr(base_symbol.data, fftconv)\n",
    "    for fftconv in np.vstack([good_fftconvs, bad_fftconvs])\n",
    "])"
   ]
  },
  {
   "cell_type": "code",
   "execution_count": null,
   "metadata": {},
   "outputs": [],
   "source": []
  },
  {
   "cell_type": "code",
   "execution_count": 232,
   "metadata": {},
   "outputs": [],
   "source": [
    "_fftconvs = np.vstack([\n",
    "    _sp_corr(base_symbol.data, _fft_convolve_autocorr(sym))\n",
    "    for sym in np.vstack([good_symbols, bad_symbols])\n",
    "])"
   ]
  },
  {
   "cell_type": "code",
   "execution_count": 225,
   "metadata": {},
   "outputs": [],
   "source": [
    "corr_vals = np.array([\n",
    "    _sp_corr(base_symbol.data, fftconv)\n",
    "    for fftconv in np.vstack([good_fftconvs, bad_fftconvs])\n",
    "])"
   ]
  },
  {
   "cell_type": "code",
   "execution_count": 234,
   "metadata": {},
   "outputs": [
    {
     "data": {
      "text/plain": [
       "[<matplotlib.lines.Line2D at 0x7fc69136a550>]"
      ]
     },
     "execution_count": 234,
     "metadata": {},
     "output_type": "execute_result"
    },
    {
     "data": {
      "image/png": "[encoded data removed]",
      "text/plain": [
       "<Figure size 432x288 with 1 Axes>"
      ]
     },
     "metadata": {
      "needs_background": "light"
     },
     "output_type": "display_data"
    }
   ],
   "source": [
    "plt.plot(sorted(corr_vals))"
   ]
  },
  {
   "cell_type": "code",
   "execution_count": 235,
   "metadata": {},
   "outputs": [],
   "source": [
    "filtered_symbols = [\n",
    "    sym for sym, corr in zip(np.vstack([good_symbols,bad_symbols]), corr_vals)\n",
    "    if corr > corr_vals.mean()\n",
    "]"
   ]
  },
  {
   "cell_type": "code",
   "execution_count": 237,
   "metadata": {},
   "outputs": [
    {
     "data": {
      "text/plain": [
       "8"
      ]
     },
     "execution_count": 237,
     "metadata": {},
     "output_type": "execute_result"
    }
   ],
   "source": [
    "len(filtered_symbols)"
   ]
  },
  {
   "cell_type": "code",
   "execution_count": null,
   "metadata": {},
   "outputs": [],
   "source": []
  },
  {
   "cell_type": "code",
   "execution_count": null,
   "metadata": {},
   "outputs": [],
   "source": []
  },
  {
   "cell_type": "code",
   "execution_count": 215,
   "metadata": {},
   "outputs": [],
   "source": [
    "idx = 0"
   ]
  },
  {
   "cell_type": "code",
   "execution_count": 218,
   "metadata": {},
   "outputs": [
    {
     "name": "stdout",
     "output_type": "stream",
     "text": [
      "\u001b[32m2020-04-10 20:52:17.053\u001b[0m | \u001b[33m\u001b[1mWARNING \u001b[0m | \u001b[36m__main__\u001b[0m:\u001b[36m<module>\u001b[0m:\u001b[36m1\u001b[0m - \u001b[33m\u001b[1m=========================\n",
      " idx = 2 =========================\u001b[0m\n"
     ]
    },
    {
     "data": {
      "image/png": "[encoded data removed]",
      "text/plain": [
       "<Figure size 864x432 with 4 Axes>"
      ]
     },
     "metadata": {
      "needs_background": "light"
     },
     "output_type": "display_data"
    }
   ],
   "source": [
    "logger.warning(f'\\n idx = {idx} '.center(60, '='))\n",
    "\n",
    "good_fft_corr = _compute_corrcoefs(base_symbol.data, good_fftconvs[idx])\n",
    "bad_fft_corr = _compute_corrcoefs(base_symbol.data, bad_fftconvs[idx])\n",
    "good_sp_corr = _sp_corr(base_symbol.data, good_fftconvs[idx])\n",
    "bad_sp_corr = _sp_corr(base_symbol.data, bad_fftconvs[idx])\n",
    "\n",
    "\n",
    "fig, ax = plt.subplots(2, 2, figsize=(12, 6))\n",
    "with warnings.catch_warnings():\n",
    "    warnings.simplefilter(\"ignore\")\n",
    "    ax[0,0].plot(good_symbols[idx])\n",
    "    ax[0,1].plot(bad_symbols[idx])\n",
    "    ax[1,0].plot(good_fftconvs[idx])\n",
    "    ax[1,0].set_xlabel(f'good corr: {good_sp_corr:0.6f}')\n",
    "    ax[1,1].plot(bad_fftconvs[idx])\n",
    "    ax[1,1].set_xlabel(f'bad corr: {bad_sp_corr:0.6f}')\n",
    "    \n",
    "\n",
    "idx += 1"
   ]
  },
  {
   "cell_type": "code",
   "execution_count": null,
   "metadata": {},
   "outputs": [],
   "source": []
  },
  {
   "cell_type": "markdown",
   "metadata": {},
   "source": [
    "## correlation"
   ]
  },
  {
   "cell_type": "code",
   "execution_count": 155,
   "metadata": {},
   "outputs": [],
   "source": [
    "def _compute_corrcoefs(base_symbol: np.ndarray, packet_slice: np.ndarray) -> float:\n",
    "    min_size = np.min((base_symbol.size, packet_slice.size))\n",
    "\n",
    "    return np.real(np.abs(\n",
    "        np.corrcoef(base_symbol[:min_size], packet_slice[:min_size])[0, 1]\n",
    "    ))"
   ]
  },
  {
   "cell_type": "code",
   "execution_count": 202,
   "metadata": {},
   "outputs": [],
   "source": [
    "def _sp_corr(base_symbol: np.ndarray, packet_slice: np.ndarray) -> float:\n",
    "    min_size = np.min((base_symbol.size, packet_slice.size))\n",
    "    corr = spsig.correlate(base_symbol, packet_slice)\n",
    "    return np.abs(corr.max())\n",
    "    "
   ]
  },
  {
   "cell_type": "code",
   "execution_count": 200,
   "metadata": {},
   "outputs": [
    {
     "data": {
      "image/png": "[encoded data removed]",
      "text/plain": [
       "<Figure size 864x216 with 2 Axes>"
      ]
     },
     "metadata": {
      "needs_background": "light"
     },
     "output_type": "display_data"
    }
   ],
   "source": [
    "good_sp_corr = spsig.correlate(base_symbol.data, good_fftconvs[0])\n",
    "bad_sp_corr = spsig.correlate(base_symbol.data, bad_fftconvs[0])\n",
    "\n",
    "fig, ax = plt.subplots(1, 2, figsize=(12, 3))\n",
    "with warnings.catch_warnings():\n",
    "    warnings.simplefilter(\"ignore\")\n",
    "    ax[0].plot(good_sp_corr)\n",
    "    ax[1].plot(bad_sp_corr)"
   ]
  },
  {
   "cell_type": "code",
   "execution_count": 105,
   "metadata": {},
   "outputs": [
    {
     "data": {
      "text/plain": [
       "(0.007732578694639291, 0.001796344291219614)"
      ]
     },
     "execution_count": 105,
     "metadata": {},
     "output_type": "execute_result"
    }
   ],
   "source": [
    "_compute_corrcoefs(base_symbol.data, good_fftconv), _compute_corrcoefs(base_symbol.data, bad_fftconv)"
   ]
  },
  {
   "cell_type": "code",
   "execution_count": null,
   "metadata": {},
   "outputs": [],
   "source": []
  },
  {
   "cell_type": "code",
   "execution_count": null,
   "metadata": {},
   "outputs": [],
   "source": []
  }
 ],
 "metadata": {
  "kernelspec": {
   "display_name": "Python 3",
   "language": "python",
   "name": "python3"
  },
  "language_info": {
   "codemirror_mode": {
    "name": "ipython",
    "version": 3
   },
   "file_extension": ".py",
   "mimetype": "text/x-python",
   "name": "python",
   "nbconvert_exporter": "python",
   "pygments_lexer": "ipython3",
   "version": "3.7.6"
  }
 },
 "nbformat": 4,
 "nbformat_minor": 4
}
