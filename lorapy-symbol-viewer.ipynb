{
 "cells": [
  {
   "cell_type": "markdown",
   "metadata": {},
   "source": [
    "# lorapy symbol extraction"
   ]
  },
  {
   "cell_type": "code",
   "execution_count": 1,
   "metadata": {},
   "outputs": [],
   "source": [
    "%load_ext autoreload\n",
    "%autoreload 2\n",
    "\n",
    "import pathlib\n",
    "\n",
    "import os, sys\n",
    "from loguru import logger\n",
    "logger.remove(None)\n",
    "logger.add(sys.stdout, colorize=True)\n",
    "\n",
    "import numpy as np\n",
    "from six.moves import cPickle\n",
    "from tqdm import tqdm_notebook\n",
    "\n",
    "import matplotlib.pyplot as plt \n",
    "plt.style.use('dark_background')\n",
    "%matplotlib inline"
   ]
  },
  {
   "cell_type": "code",
   "execution_count": 2,
   "metadata": {},
   "outputs": [],
   "source": [
    "import lorapy"
   ]
  },
  {
   "cell_type": "markdown",
   "metadata": {},
   "source": [
    "## setup "
   ]
  },
  {
   "cell_type": "code",
   "execution_count": 3,
   "metadata": {},
   "outputs": [],
   "source": [
    "_BASE_DATA_DIR = pathlib.Path('/Users/trevor/Work/1-projects/lora-processing/data')\n",
    "\n",
    "SYMBOL_DIR = _BASE_DATA_DIR.joinpath('lora-symbols-20k')"
   ]
  },
  {
   "cell_type": "markdown",
   "metadata": {},
   "source": [
    "# load"
   ]
  },
  {
   "cell_type": "markdown",
   "metadata": {},
   "source": [
    "## files"
   ]
  },
  {
   "cell_type": "code",
   "execution_count": 4,
   "metadata": {
    "scrolled": true
   },
   "outputs": [
    {
     "name": "stdout",
     "output_type": "stream",
     "text": [
      "\u001b[32m2020-04-09 07:35:08.691\u001b[0m | \u001b[34m\u001b[1mDEBUG   \u001b[0m | \u001b[36mlorapy.io._base_loader\u001b[0m:\u001b[36m_validate_data_path\u001b[0m:\u001b[36m140\u001b[0m - \u001b[34m\u001b[1mset datafile directory: /Users/trevor/Work/1-projects/lora-processing/data/lora-symbols-20k\u001b[0m\n",
      "\u001b[32m2020-04-09 07:35:08.699\u001b[0m | \u001b[1mINFO    \u001b[0m | \u001b[36mlorapy.io._base_loader\u001b[0m:\u001b[36m_process_data_dir\u001b[0m:\u001b[36m153\u001b[0m - \u001b[1mfound 106 data file(s)\u001b[0m\n"
     ]
    },
    {
     "data": {
      "text/plain": [
       "[DotPFile(id=0 | name='lora_BW2_SF11_915MHz_20ksps_Att60_v0.p'),\n",
       " DotPFile(id=1 | name='lora_BW8_SF12_915MHz_20ksps_Att0_v0.p'),\n",
       " DotPFile(id=2 | name='lora_BW8_SF12_915MHz_20ksps_Att20_v0.p'),\n",
       " DotPFile(id=3 | name='lora_BW1_SF11_915MHz_20ksps_Att80_v0.p'),\n",
       " DotPFile(id=4 | name='lora_BW8_SF10_915MHz_20ksps_Att80_v0.p'),\n",
       " DotPFile(id=5 | name='lora_BW7_SF10_915MHz_20ksps_Att80_v0.p'),\n",
       " DotPFile(id=6 | name='lora_BW7_SF12_915MHz_20ksps_Att20_v0.p'),\n",
       " DotPFile(id=7 | name='lora_BW2_SF11_915MHz_20ksps_Att40_v0.p'),\n",
       " DotPFile(id=8 | name='lora_BW9_SF10_915MHz_20ksps_Att0_v0.p'),\n",
       " DotPFile(id=9 | name='lora_BW7_SF10_915MHz_20ksps_Att0_v0.p'),\n",
       " DotPFile(id=10 | name='lora_BW2_SF12_915MHz_20ksps_Att120_v0.p'),\n",
       " DotPFile(id=11 | name='lora_BW8_SF12_915MHz_20ksps_Att100_v0.p'),\n",
       " DotPFile(id=12 | name='lora_BW8_SF12_915MHz_20ksps_Att40_v0.p'),\n",
       " DotPFile(id=13 | name='lora_BW7_SF12_915MHz_20ksps_Att60_v0.p'),\n",
       " DotPFile(id=14 | name='lora_BW9_SF10_915MHz_20ksps_Att100_v0.p'),\n",
       " DotPFile(id=15 | name='lora_BW9_SF10_915MHz_20ksps_Att120_v0.p'),\n",
       " DotPFile(id=16 | name='lora_BW7_SF12_915MHz_20ksps_Att40_v0.p'),\n",
       " DotPFile(id=17 | name='lora_BW9_SF11_915MHz_20ksps_Att80_v0.p'),\n",
       " DotPFile(id=18 | name='lora_BW8_SF12_915MHz_20ksps_Att60_v0.p'),\n",
       " DotPFile(id=19 | name='lora_BW2_SF12_915MHz_20ksps_Att100_v0.p'),\n",
       " DotPFile(id=20 | name='lora_BW8_SF12_915MHz_20ksps_Att120_v0.p'),\n",
       " DotPFile(id=21 | name='lora_BW2_SF11_915MHz_20ksps_Att20_v0.p'),\n",
       " DotPFile(id=22 | name='lora_BW1_SF11_915MHz_20ksps_Att120_v0.p'),\n",
       " DotPFile(id=23 | name='lora_BW2_SF10_915MHz_20ksps_Att140_v0.p'),\n",
       " DotPFile(id=24 | name='lora_BW1_SF12_915MHz_20ksps_Att40_v0.p'),\n",
       " DotPFile(id=25 | name='lora_BW7_SF11_915MHz_20ksps_Att120_v0.p'),\n",
       " DotPFile(id=26 | name='lora_BW1_SF10_915MHz_20ksps_Att0_v0.p'),\n",
       " DotPFile(id=27 | name='lora_BW2_SF12_915MHz_20ksps_Att80_v0.p'),\n",
       " DotPFile(id=28 | name='lora_BW2_SF10_915MHz_20ksps_Att20_v0.p'),\n",
       " DotPFile(id=29 | name='lora_BW7_SF11_915MHz_20ksps_Att100_v0.p'),\n",
       " DotPFile(id=30 | name='lora_BW1_SF12_915MHz_20ksps_Att60_v0.p'),\n",
       " DotPFile(id=31 | name='lora_BW1_SF11_915MHz_20ksps_Att100_v0.p'),\n",
       " DotPFile(id=32 | name='lora_BW9_SF12_915MHz_20ksps_Att20_v0.p'),\n",
       " DotPFile(id=33 | name='lora_BW8_SF10_915MHz_20ksps_Att100_v0.p'),\n",
       " DotPFile(id=34 | name='lora_BW2_SF10_915MHz_20ksps_Att120_v0.p'),\n",
       " DotPFile(id=35 | name='lora_BW1_SF11_915MHz_20ksps_Att140_v0.p'),\n",
       " DotPFile(id=36 | name='lora_BW9_SF12_915MHz_20ksps_Att60_v0.p'),\n",
       " DotPFile(id=37 | name='lora_BW8_SF11_915MHz_20ksps_Att80_v0.p'),\n",
       " DotPFile(id=38 | name='lora_BW1_SF10_915MHz_20ksps_Att80_v0.p'),\n",
       " DotPFile(id=39 | name='lora_BW1_SF12_915MHz_20ksps_Att20_v0.p'),\n",
       " DotPFile(id=40 | name='lora_BW9_SF12_915MHz_20ksps_Att100_v0.p'),\n",
       " DotPFile(id=41 | name='lora_BW2_SF10_915MHz_20ksps_Att60_v0.p'),\n",
       " DotPFile(id=42 | name='lora_BW9_SF12_915MHz_20ksps_Att120_v0.p'),\n",
       " DotPFile(id=43 | name='lora_BW8_SF11_915MHz_20ksps_Att0_v0.p'),\n",
       " DotPFile(id=44 | name='lora_BW2_SF10_915MHz_20ksps_Att40_v0.p'),\n",
       " DotPFile(id=45 | name='lora_BW8_SF10_915MHz_20ksps_Att120_v0.p'),\n",
       " DotPFile(id=46 | name='lora_BW2_SF10_915MHz_20ksps_Att100_v0.p'),\n",
       " DotPFile(id=47 | name='lora_BW2_SF10_915MHz_20ksps_Att0_v0.p'),\n",
       " DotPFile(id=48 | name='lora_BW9_SF12_915MHz_20ksps_Att40_v0.p'),\n",
       " DotPFile(id=49 | name='lora_BW7_SF11_915MHz_20ksps_Att80_v0.p'),\n",
       " DotPFile(id=50 | name='lora_BW8_SF11_915MHz_20ksps_Att120_v0.p'),\n",
       " DotPFile(id=51 | name='lora_BW2_SF11_915MHz_20ksps_Att100_v0.p'),\n",
       " DotPFile(id=52 | name='lora_BW7_SF11_915MHz_20ksps_Att40_v0.p'),\n",
       " DotPFile(id=53 | name='lora_BW9_SF10_915MHz_20ksps_Att20_v0.p'),\n",
       " DotPFile(id=54 | name='lora_BW1_SF12_915MHz_20ksps_Att0_v0.p'),\n",
       " DotPFile(id=55 | name='lora_BW9_SF12_915MHz_20ksps_Att80_v0.p'),\n",
       " DotPFile(id=56 | name='lora_BW8_SF11_915MHz_20ksps_Att60_v0.p'),\n",
       " DotPFile(id=57 | name='lora_BW2_SF12_915MHz_20ksps_Att20_v0.p'),\n",
       " DotPFile(id=58 | name='lora_BW1_SF10_915MHz_20ksps_Att60_v0.p'),\n",
       " DotPFile(id=59 | name='lora_BW2_SF10_915MHz_20ksps_Att80_v0.p'),\n",
       " DotPFile(id=60 | name='lora_BW8_SF11_915MHz_20ksps_Att40_v0.p'),\n",
       " DotPFile(id=61 | name='lora_BW1_SF10_915MHz_20ksps_Att40_v0.p'),\n",
       " DotPFile(id=62 | name='lora_BW7_SF11_915MHz_20ksps_Att60_v0.p'),\n",
       " DotPFile(id=63 | name='lora_BW8_SF11_915MHz_20ksps_Att100_v0.p'),\n",
       " DotPFile(id=64 | name='lora_BW2_SF11_915MHz_20ksps_Att120_v0.p'),\n",
       " DotPFile(id=65 | name='lora_BW9_SF11_915MHz_20ksps_Att0_v0.p'),\n",
       " DotPFile(id=66 | name='lora_BW7_SF11_915MHz_20ksps_Att0_v0.p'),\n",
       " DotPFile(id=67 | name='lora_BW1_SF10_915MHz_20ksps_Att140_v0.p'),\n",
       " DotPFile(id=68 | name='lora_BW1_SF10_915MHz_20ksps_Att100_v0.p'),\n",
       " DotPFile(id=69 | name='lora_BW7_SF11_915MHz_20ksps_Att20_v0.p'),\n",
       " DotPFile(id=70 | name='lora_BW9_SF10_915MHz_20ksps_Att40_v0.p'),\n",
       " DotPFile(id=71 | name='lora_BW7_SF10_915MHz_20ksps_Att100_v0.p'),\n",
       " DotPFile(id=72 | name='lora_BW2_SF12_915MHz_20ksps_Att40_v0.p'),\n",
       " DotPFile(id=73 | name='lora_BW1_SF10_915MHz_20ksps_Att20_v0.p'),\n",
       " DotPFile(id=74 | name='lora_BW7_SF10_915MHz_20ksps_Att120_v0.p'),\n",
       " DotPFile(id=75 | name='lora_BW2_SF12_915MHz_20ksps_Att60_v0.p'),\n",
       " DotPFile(id=76 | name='lora_BW8_SF11_915MHz_20ksps_Att20_v0.p'),\n",
       " DotPFile(id=77 | name='lora_BW1_SF12_915MHz_20ksps_Att80_v0.p'),\n",
       " DotPFile(id=78 | name='lora_BW2_SF12_915MHz_20ksps_Att0_v0.p'),\n",
       " DotPFile(id=79 | name='lora_BW1_SF10_915MHz_20ksps_Att120_v0.p'),\n",
       " DotPFile(id=80 | name='lora_BW9_SF10_915MHz_20ksps_Att60_v0.p'),\n",
       " DotPFile(id=81 | name='lora_BW2_SF11_915MHz_20ksps_Att140_v0.p'),\n",
       " DotPFile(id=82 | name='lora_BW2_SF11_915MHz_20ksps_Att0_v0.p'),\n",
       " DotPFile(id=83 | name='lora_BW7_SF10_915MHz_20ksps_Att20_v0.p'),\n",
       " DotPFile(id=84 | name='lora_BW9_SF11_915MHz_20ksps_Att40_v0.p'),\n",
       " DotPFile(id=85 | name='lora_BW9_SF11_915MHz_20ksps_Att120_v0.p'),\n",
       " DotPFile(id=86 | name='lora_BW8_SF10_915MHz_20ksps_Att0_v0.p'),\n",
       " DotPFile(id=87 | name='lora_BW7_SF12_915MHz_20ksps_Att80_v0.p'),\n",
       " DotPFile(id=88 | name='lora_BW9_SF11_915MHz_20ksps_Att60_v0.p'),\n",
       " DotPFile(id=89 | name='lora_BW9_SF11_915MHz_20ksps_Att100_v0.p'),\n",
       " DotPFile(id=90 | name='lora_BW8_SF12_915MHz_20ksps_Att80_v0.p'),\n",
       " DotPFile(id=91 | name='lora_BW1_SF12_915MHz_20ksps_Att140_v0.p'),\n",
       " DotPFile(id=92 | name='lora_BW1_SF11_915MHz_20ksps_Att20_v0.p'),\n",
       " DotPFile(id=93 | name='lora_BW2_SF11_915MHz_20ksps_Att80_v0.p'),\n",
       " DotPFile(id=94 | name='lora_BW1_SF11_915MHz_20ksps_Att60_v0.p'),\n",
       " DotPFile(id=95 | name='lora_BW8_SF10_915MHz_20ksps_Att60_v0.p'),\n",
       " DotPFile(id=96 | name='lora_BW1_SF12_915MHz_20ksps_Att100_v0.p'),\n",
       " DotPFile(id=97 | name='lora_BW7_SF12_915MHz_20ksps_Att0_v0.p'),\n",
       " DotPFile(id=98 | name='lora_BW7_SF12_915MHz_20ksps_Att100_v0.p'),\n",
       " DotPFile(id=99 | name='lora_BW7_SF10_915MHz_20ksps_Att40_v0.p'),\n",
       " DotPFile(id=100 | name='lora_BW9_SF11_915MHz_20ksps_Att20_v0.p'),\n",
       " DotPFile(id=101 | name='lora_BW7_SF12_915MHz_20ksps_Att120_v0.p'),\n",
       " DotPFile(id=102 | name='lora_BW1_SF11_915MHz_20ksps_Att0_v0.p'),\n",
       " DotPFile(id=103 | name='lora_BW7_SF10_915MHz_20ksps_Att60_v0.p'),\n",
       " DotPFile(id=104 | name='lora_BW8_SF10_915MHz_20ksps_Att40_v0.p'),\n",
       " DotPFile(id=105 | name='lora_BW1_SF12_915MHz_20ksps_Att120_v0.p')]"
      ]
     },
     "execution_count": 4,
     "metadata": {},
     "output_type": "execute_result"
    }
   ],
   "source": [
    "symloader = lorapy.load_dotp(SYMBOL_DIR)\n",
    "symloader.file_list"
   ]
  },
  {
   "cell_type": "code",
   "execution_count": 40,
   "metadata": {},
   "outputs": [
    {
     "data": {
      "text/plain": [
       "[DotPFile(id=8 | name='lora_BW9_SF10_915MHz_20ksps_Att0_v0.p'),\n",
       " DotPFile(id=14 | name='lora_BW9_SF10_915MHz_20ksps_Att100_v0.p'),\n",
       " DotPFile(id=15 | name='lora_BW9_SF10_915MHz_20ksps_Att120_v0.p'),\n",
       " DotPFile(id=17 | name='lora_BW9_SF11_915MHz_20ksps_Att80_v0.p'),\n",
       " DotPFile(id=32 | name='lora_BW9_SF12_915MHz_20ksps_Att20_v0.p'),\n",
       " DotPFile(id=36 | name='lora_BW9_SF12_915MHz_20ksps_Att60_v0.p'),\n",
       " DotPFile(id=40 | name='lora_BW9_SF12_915MHz_20ksps_Att100_v0.p'),\n",
       " DotPFile(id=42 | name='lora_BW9_SF12_915MHz_20ksps_Att120_v0.p'),\n",
       " DotPFile(id=48 | name='lora_BW9_SF12_915MHz_20ksps_Att40_v0.p'),\n",
       " DotPFile(id=53 | name='lora_BW9_SF10_915MHz_20ksps_Att20_v0.p'),\n",
       " DotPFile(id=55 | name='lora_BW9_SF12_915MHz_20ksps_Att80_v0.p'),\n",
       " DotPFile(id=65 | name='lora_BW9_SF11_915MHz_20ksps_Att0_v0.p'),\n",
       " DotPFile(id=70 | name='lora_BW9_SF10_915MHz_20ksps_Att40_v0.p'),\n",
       " DotPFile(id=80 | name='lora_BW9_SF10_915MHz_20ksps_Att60_v0.p'),\n",
       " DotPFile(id=84 | name='lora_BW9_SF11_915MHz_20ksps_Att40_v0.p'),\n",
       " DotPFile(id=85 | name='lora_BW9_SF11_915MHz_20ksps_Att120_v0.p'),\n",
       " DotPFile(id=88 | name='lora_BW9_SF11_915MHz_20ksps_Att60_v0.p'),\n",
       " DotPFile(id=89 | name='lora_BW9_SF11_915MHz_20ksps_Att100_v0.p'),\n",
       " DotPFile(id=100 | name='lora_BW9_SF11_915MHz_20ksps_Att20_v0.p')]"
      ]
     },
     "execution_count": 40,
     "metadata": {},
     "output_type": "execute_result"
    }
   ],
   "source": [
    "symloader.filter(bw=9)"
   ]
  },
  {
   "cell_type": "markdown",
   "metadata": {},
   "source": [
    "## symbols"
   ]
  },
  {
   "cell_type": "code",
   "execution_count": 41,
   "metadata": {},
   "outputs": [
    {
     "data": {
      "text/plain": [
       "DotPFile(id=89 | name='lora_BW9_SF11_915MHz_20ksps_Att100_v0.p')"
      ]
     },
     "execution_count": 41,
     "metadata": {},
     "output_type": "execute_result"
    }
   ],
   "source": [
    "file = symloader.select(89)\n",
    "file"
   ]
  },
  {
   "cell_type": "code",
   "execution_count": 42,
   "metadata": {},
   "outputs": [
    {
     "name": "stdout",
     "output_type": "stream",
     "text": [
      "\u001b[32m2020-04-09 07:38:37.041\u001b[0m | \u001b[34m\u001b[1mDEBUG   \u001b[0m | \u001b[36mlorapy.datafile.encoding\u001b[0m:\u001b[36mcompute_params\u001b[0m:\u001b[36m15\u001b[0m - \u001b[34m\u001b[1mcomputed samples per symbol: 800 and packet length: 24200\u001b[0m\n",
      "\u001b[32m2020-04-09 07:38:37.153\u001b[0m | \u001b[1mINFO    \u001b[0m | \u001b[36mlorapy.datafile._base_file\u001b[0m:\u001b[36mload\u001b[0m:\u001b[36m61\u001b[0m - \u001b[1mloaded 4358400 samples from file\u001b[0m\n"
     ]
    },
    {
     "data": {
      "text/plain": [
       "BaselineSymbolSet(num symbols=5448 | BW: 9 | SF: 11 | Att: 100 | samples per symbol: 800 | packet length: 24200)"
      ]
     },
     "execution_count": 42,
     "metadata": {},
     "output_type": "execute_result"
    }
   ],
   "source": [
    "symbol = file.to_signal()\n",
    "symbol"
   ]
  },
  {
   "cell_type": "code",
   "execution_count": null,
   "metadata": {},
   "outputs": [],
   "source": []
  },
  {
   "cell_type": "markdown",
   "metadata": {},
   "source": [
    "# visualize"
   ]
  },
  {
   "cell_type": "code",
   "execution_count": 84,
   "metadata": {},
   "outputs": [
    {
     "data": {
      "image/png": "[encoded data removed]",
      "text/plain": [
       "<Figure size 432x288 with 1 Axes>"
      ]
     },
     "metadata": {
      "needs_background": "dark"
     },
     "output_type": "display_data"
    }
   ],
   "source": [
    "symbol.plot()"
   ]
  },
  {
   "cell_type": "code",
   "execution_count": 39,
   "metadata": {},
   "outputs": [
    {
     "data": {
      "text/plain": [
       "7176"
      ]
     },
     "execution_count": 39,
     "metadata": {},
     "output_type": "execute_result"
    }
   ],
   "source": [
    "symbol.num_symbols"
   ]
  },
  {
   "cell_type": "code",
   "execution_count": null,
   "metadata": {},
   "outputs": [],
   "source": []
  },
  {
   "cell_type": "code",
   "execution_count": null,
   "metadata": {},
   "outputs": [],
   "source": []
  },
  {
   "cell_type": "code",
   "execution_count": null,
   "metadata": {},
   "outputs": [],
   "source": []
  },
  {
   "cell_type": "code",
   "execution_count": null,
   "metadata": {},
   "outputs": [],
   "source": []
  }
 ],
 "metadata": {
  "kernelspec": {
   "display_name": "Python 3",
   "language": "python",
   "name": "python3"
  },
  "language_info": {
   "codemirror_mode": {
    "name": "ipython",
    "version": 3
   },
   "file_extension": ".py",
   "mimetype": "text/x-python",
   "name": "python",
   "nbconvert_exporter": "python",
   "pygments_lexer": "ipython3",
   "version": "3.7.6"
  }
 },
 "nbformat": 4,
 "nbformat_minor": 4
}
