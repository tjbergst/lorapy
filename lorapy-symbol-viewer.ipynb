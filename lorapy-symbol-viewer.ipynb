{
 "cells": [
  {
   "cell_type": "markdown",
   "metadata": {},
   "source": [
    "# lorapy symbol viewer"
   ]
  },
  {
   "cell_type": "code",
   "execution_count": 1,
   "metadata": {},
   "outputs": [],
   "source": [
    "%load_ext autoreload\n",
    "%autoreload 2\n",
    "\n",
    "import pathlib\n",
    "\n",
    "import os, sys\n",
    "from loguru import logger\n",
    "logger.remove(None)\n",
    "logger.add(sys.stdout, colorize=True)\n",
    "\n",
    "import numpy as np\n",
    "import pandas as pd\n",
    "from six.moves import cPickle\n",
    "import tqdm\n",
    "from tqdm import tqdm_notebook\n",
    "import warnings \n",
    "import scipy.signal as spsig\n",
    "import multiprocessing\n",
    "from functools import partial \n",
    "\n",
    "import matplotlib.pyplot as plt \n",
    "# plt.style.use('dark_background')\n",
    "%matplotlib inline"
   ]
  },
  {
   "cell_type": "code",
   "execution_count": 2,
   "metadata": {},
   "outputs": [],
   "source": [
    "import lorapy"
   ]
  },
  {
   "cell_type": "markdown",
   "metadata": {},
   "source": [
    "## setup "
   ]
  },
  {
   "cell_type": "code",
   "execution_count": 8,
   "metadata": {},
   "outputs": [],
   "source": [
    "_BASE_DATA_DIR = pathlib.Path('../data')\n",
    "\n",
    "BENCHTOP_DATA_DIR = _BASE_DATA_DIR.joinpath('lora-benchtop-recording')\n",
    "DOTP_DATA_DIR = _BASE_DATA_DIR.joinpath('symbol-ref')\n",
    "DEV_DATA_DIR = _BASE_DATA_DIR.joinpath('dev-data')\n",
    "PROC_SYMBOL_DIR = _BASE_DATA_DIR.joinpath('processed-symbols')\n",
    "PROC_OTA_SYMBOL_DIR = _BASE_DATA_DIR.joinpath('processed-symbols/ota')\n",
    "FILT_SYMBOL_DIR = _BASE_DATA_DIR.joinpath('filtered-symbols')\n",
    "OTA_FILT_SYMBOL_DIR = _BASE_DATA_DIR.joinpath('filtered-symbols/ota')"
   ]
  },
  {
   "cell_type": "markdown",
   "metadata": {},
   "source": [
    "# load"
   ]
  },
  {
   "cell_type": "code",
   "execution_count": 4,
   "metadata": {},
   "outputs": [],
   "source": [
    "import random\n",
    "import warnings \n",
    "\n",
    "rand = lambda mx: random.randint(0, mx - 1)\n",
    "\n",
    "def _load_matching_dotp(bw: int, sf: int):\n",
    "    return ploader.filter(bw=bw, sf=sf)[0]\n",
    "\n",
    "\n",
    "def _plot_check(filtered_syms, num=20):\n",
    "    with warnings.catch_warnings():\n",
    "        warnings.simplefilter(\"ignore\")\n",
    "        \n",
    "        fig, ax = plt.subplots(num, figsize=(14, 10))\n",
    "\n",
    "        for idx in range(num):\n",
    "            ax[idx].plot(filtered_syms[rand(filtered_syms.shape[0])])\n",
    "            \n",
    "            \n",
    "def _format_output_path(out_dir, file):    \n",
    "    out_path = out_dir.joinpath(file.name)\n",
    "    return out_path\n",
    "\n",
    "\n",
    "def _save_symbols(data, out_dir, file):\n",
    "    out_path = _format_output_path(out_dir, file)\n",
    "    \n",
    "    with out_path.open('wb') as outfile:\n",
    "        cPickle.dump(data, outfile)"
   ]
  },
  {
   "cell_type": "markdown",
   "metadata": {},
   "source": [
    "## files"
   ]
  },
  {
   "cell_type": "code",
   "execution_count": 11,
   "metadata": {
    "scrolled": true
   },
   "outputs": [
    {
     "name": "stdout",
     "output_type": "stream",
     "text": [
      "\u001b[32m2020-04-14 15:47:24.731\u001b[0m | \u001b[34m\u001b[1mDEBUG   \u001b[0m | \u001b[36mlorapy.io._base_loader\u001b[0m:\u001b[36m_validate_data_path\u001b[0m:\u001b[36m140\u001b[0m - \u001b[34m\u001b[1mset datafile directory: ../data/processed-symbols/ota\u001b[0m\n",
      "\u001b[32m2020-04-14 15:47:24.736\u001b[0m | \u001b[1mINFO    \u001b[0m | \u001b[36mlorapy.io._base_loader\u001b[0m:\u001b[36m_process_data_dir\u001b[0m:\u001b[36m153\u001b[0m - \u001b[1mfound 60 data file(s)\u001b[0m\n"
     ]
    },
    {
     "data": {
      "text/plain": [
       "[DotPFile(id=0 | name='lora_BW7_SF12_915MHz_20ksps_Att0_d5.p'),\n",
       " DotPFile(id=1 | name='lora_BW8_SF10_915MHz_20ksps_Att0_d5.p'),\n",
       " DotPFile(id=2 | name='lora_BW8_SF11_915MHz_20ksps_Att0_d5.p'),\n",
       " DotPFile(id=3 | name='lora_BW9_SF10_915MHz_20ksps_Att0_d5.p'),\n",
       " DotPFile(id=4 | name='lora_BW9_SF11_915MHz_20ksps_Att0_d5.p'),\n",
       " DotPFile(id=5 | name='lora_BW9_SF12_915MHz_20ksps_Att0_d5.p'),\n",
       " DotPFile(id=6 | name='lora_BW1_SF12_915MHz_20ksps_Att0_d5.p'),\n",
       " DotPFile(id=7 | name='lora_BW1_SF11_915MHz_20ksps_Att0_d5.p'),\n",
       " DotPFile(id=8 | name='lora_BW1_SF10_915MHz_20ksps_Att0_d5.p'),\n",
       " DotPFile(id=9 | name='lora_BW7_SF10_915MHz_20ksps_Att0_d5.p'),\n",
       " DotPFile(id=10 | name='lora_BW2_SF12_915MHz_20ksps_Att0_d5.p'),\n",
       " DotPFile(id=11 | name='lora_BW8_SF12_915MHz_20ksps_Att0_d5.p'),\n",
       " DotPFile(id=12 | name='lora_BW7_SF11_915MHz_20ksps_Att0_d5.p'),\n",
       " DotPFile(id=13 | name='lora_BW2_SF11_915MHz_20ksps_Att0_d5.p'),\n",
       " DotPFile(id=14 | name='lora_BW2_SF10_915MHz_20ksps_Att0_d5.p'),\n",
       " DotPFile(id=15 | name='lora_BW8_SF12_915MHz_20ksps_Att0_d2.p'),\n",
       " DotPFile(id=16 | name='lora_BW1_SF10_915MHz_20ksps_Att0_d2.p'),\n",
       " DotPFile(id=17 | name='lora_BW9_SF11_915MHz_20ksps_Att0_d2.p'),\n",
       " DotPFile(id=18 | name='lora_BW8_SF11_915MHz_20ksps_Att0_d2.p'),\n",
       " DotPFile(id=19 | name='lora_BW7_SF10_915MHz_20ksps_Att0_d2.p'),\n",
       " DotPFile(id=20 | name='lora_BW7_SF11_915MHz_20ksps_Att0_d2.p'),\n",
       " DotPFile(id=21 | name='lora_BW8_SF10_915MHz_20ksps_Att0_d2.p'),\n",
       " DotPFile(id=22 | name='lora_BW2_SF12_915MHz_20ksps_Att0_d2.p'),\n",
       " DotPFile(id=23 | name='lora_BW7_SF12_915MHz_20ksps_Att0_d2.p'),\n",
       " DotPFile(id=24 | name='lora_BW9_SF12_915MHz_20ksps_Att0_d2.p'),\n",
       " DotPFile(id=25 | name='lora_BW1_SF11_915MHz_20ksps_Att0_d2.p'),\n",
       " DotPFile(id=26 | name='lora_BW2_SF11_915MHz_20ksps_Att0_d2.p'),\n",
       " DotPFile(id=27 | name='lora_BW9_SF10_915MHz_20ksps_Att0_d2.p'),\n",
       " DotPFile(id=28 | name='lora_BW1_SF12_915MHz_20ksps_Att0_d2.p'),\n",
       " DotPFile(id=29 | name='lora_BW2_SF10_915MHz_20ksps_Att0_d2.p'),\n",
       " DotPFile(id=30 | name='lora_BW7_SF12_915MHz_20ksps_Att0_d4.p'),\n",
       " DotPFile(id=31 | name='lora_BW7_SF11_915MHz_20ksps_Att0_d4.p'),\n",
       " DotPFile(id=32 | name='lora_BW2_SF11_915MHz_20ksps_Att0_d4.p'),\n",
       " DotPFile(id=33 | name='lora_BW1_SF11_915MHz_20ksps_Att0_d4.p'),\n",
       " DotPFile(id=34 | name='lora_BW1_SF12_915MHz_20ksps_Att0_d4.p'),\n",
       " DotPFile(id=35 | name='lora_BW7_SF10_915MHz_20ksps_Att0_d4.p'),\n",
       " DotPFile(id=36 | name='lora_BW9_SF11_915MHz_20ksps_Att0_d4.p'),\n",
       " DotPFile(id=37 | name='lora_BW9_SF10_915MHz_20ksps_Att0_d4.p'),\n",
       " DotPFile(id=38 | name='lora_BW9_SF12_915MHz_20ksps_Att0_d4.p'),\n",
       " DotPFile(id=39 | name='lora_BW8_SF12_915MHz_20ksps_Att0_d4.p'),\n",
       " DotPFile(id=40 | name='lora_BW2_SF12_915MHz_20ksps_Att0_d4.p'),\n",
       " DotPFile(id=41 | name='lora_BW2_SF10_915MHz_20ksps_Att0_d4.p'),\n",
       " DotPFile(id=42 | name='lora_BW1_SF10_915MHz_20ksps_Att0_d4.p'),\n",
       " DotPFile(id=43 | name='lora_BW8_SF10_915MHz_20ksps_Att0_d4.p'),\n",
       " DotPFile(id=44 | name='lora_BW8_SF11_915MHz_20ksps_Att0_d4.p'),\n",
       " DotPFile(id=45 | name='lora_BW8_SF10_915MHz_20ksps_Att0_d3.p'),\n",
       " DotPFile(id=46 | name='lora_BW9_SF12_915MHz_20ksps_Att0_d3.p'),\n",
       " DotPFile(id=47 | name='lora_BW7_SF10_915MHz_20ksps_Att0_d3.p'),\n",
       " DotPFile(id=48 | name='lora_BW7_SF11_915MHz_20ksps_Att0_d3.p'),\n",
       " DotPFile(id=49 | name='lora_BW2_SF11_915MHz_20ksps_Att0_d3.p'),\n",
       " DotPFile(id=50 | name='lora_BW1_SF12_915MHz_20ksps_Att0_d3.p'),\n",
       " DotPFile(id=51 | name='lora_BW8_SF11_915MHz_20ksps_Att0_d3.p'),\n",
       " DotPFile(id=52 | name='lora_BW1_SF10_915MHz_20ksps_Att0_d3.p'),\n",
       " DotPFile(id=53 | name='lora_BW7_SF12_915MHz_20ksps_Att0_d3.p'),\n",
       " DotPFile(id=54 | name='lora_BW8_SF12_915MHz_20ksps_Att0_d3.p'),\n",
       " DotPFile(id=55 | name='lora_BW9_SF10_915MHz_20ksps_Att0_d3.p'),\n",
       " DotPFile(id=56 | name='lora_BW2_SF10_915MHz_20ksps_Att0_d3.p'),\n",
       " DotPFile(id=57 | name='lora_BW9_SF11_915MHz_20ksps_Att0_d3.p'),\n",
       " DotPFile(id=58 | name='lora_BW1_SF11_915MHz_20ksps_Att0_d3.p'),\n",
       " DotPFile(id=59 | name='lora_BW2_SF12_915MHz_20ksps_Att0_d3.p')]"
      ]
     },
     "execution_count": 11,
     "metadata": {},
     "output_type": "execute_result"
    }
   ],
   "source": [
    "symloader = lorapy.load_dotp(PROC_OTA_SYMBOL_DIR, glob_pattern='**/*_d[2345].p')\n",
    "symloader.file_list"
   ]
  },
  {
   "cell_type": "code",
   "execution_count": 6,
   "metadata": {
    "scrolled": true
   },
   "outputs": [
    {
     "name": "stdout",
     "output_type": "stream",
     "text": [
      "\u001b[32m2020-04-14 15:42:07.457\u001b[0m | \u001b[34m\u001b[1mDEBUG   \u001b[0m | \u001b[36mlorapy.io._base_loader\u001b[0m:\u001b[36m_validate_data_path\u001b[0m:\u001b[36m140\u001b[0m - \u001b[34m\u001b[1mset datafile directory: ../data/symbol-ref\u001b[0m\n",
      "\u001b[32m2020-04-14 15:42:07.459\u001b[0m | \u001b[1mINFO    \u001b[0m | \u001b[36mlorapy.io._base_loader\u001b[0m:\u001b[36m_process_data_dir\u001b[0m:\u001b[36m153\u001b[0m - \u001b[1mfound 15 data file(s)\u001b[0m\n"
     ]
    },
    {
     "data": {
      "text/plain": [
       "[DotPFile(id=0 | name='lora_BW1_SF10_915MHz_20ksps_Att0_v0.p'),\n",
       " DotPFile(id=1 | name='lora_BW1_SF12_915MHz_20ksps_Att0_v0.p'),\n",
       " DotPFile(id=2 | name='lora_BW9_SF12_915MHz_20ksps_Att0_v0.p'),\n",
       " DotPFile(id=3 | name='lora_BW2_SF10_915MHz_20ksps_Att0_v0.p'),\n",
       " DotPFile(id=4 | name='lora_BW9_SF11_915MHz_20ksps_Att0_v0.p'),\n",
       " DotPFile(id=5 | name='lora_BW2_SF12_915MHz_20ksps_Att0_v0.p'),\n",
       " DotPFile(id=6 | name='lora_BW8_SF12_915MHz_20ksps_Att0_v0.p'),\n",
       " DotPFile(id=7 | name='lora_BW7_SF10_915MHz_20ksps_Att0_v0.p'),\n",
       " DotPFile(id=8 | name='lora_BW8_SF11_915MHz_20ksps_Att0_v0.p'),\n",
       " DotPFile(id=9 | name='lora_BW8_SF10_915MHz_20ksps_Att0_v0.p'),\n",
       " DotPFile(id=10 | name='lora_BW1_SF11_915MHz_20ksps_Att0_v0.p'),\n",
       " DotPFile(id=11 | name='lora_BW2_SF11_915MHz_20ksps_Att0_v0.p'),\n",
       " DotPFile(id=12 | name='lora_BW9_SF10_915MHz_20ksps_Att0_v0.p'),\n",
       " DotPFile(id=13 | name='lora_BW7_SF12_915MHz_20ksps_Att0_v0.p'),\n",
       " DotPFile(id=14 | name='lora_BW7_SF11_915MHz_20ksps_Att0_v0.p')]"
      ]
     },
     "execution_count": 6,
     "metadata": {},
     "output_type": "execute_result"
    }
   ],
   "source": [
    "ploader = lorapy.load_dotp(DOTP_DATA_DIR)\n",
    "ploader.file_list"
   ]
  },
  {
   "cell_type": "markdown",
   "metadata": {},
   "source": [
    "## missing files"
   ]
  },
  {
   "cell_type": "raw",
   "metadata": {
    "jupyter": {
     "source_hidden": true
    }
   },
   "source": [
    "missing_names = [\n",
    "    'lora_BW9_SF10_915MHz_20ksps_Att20_v0.p',\n",
    "    'lora_BW9_SF11_915MHz_20ksps_Att80_v0.p',\n",
    "    'lora_BW9_SF12_915MHz_20ksps_Att60_v0.p',\n",
    "    'lora_BW9_SF12_915MHz_20ksps_Att100_v0.p',\n",
    "]\n",
    "\n",
    "missing_files = [\n",
    "    file for file in symloader.file_list\n",
    "    if file.name in missing_names\n",
    "]\n",
    "\n",
    "missing_files"
   ]
  },
  {
   "cell_type": "markdown",
   "metadata": {},
   "source": [
    "## new files"
   ]
  },
  {
   "cell_type": "raw",
   "metadata": {
    "jupyter": {
     "source_hidden": true
    }
   },
   "source": [
    "new_filenames = [\n",
    "    'lora_BW1_SF10_915MHz_20ksps_Att0_v1.p', \n",
    "    'lora_BW1_SF10_915MHz_20ksps_Att100_v1.p', \n",
    "    'lora_BW1_SF10_915MHz_20ksps_Att120_v1.p', \n",
    "    'lora_BW1_SF10_915MHz_20ksps_Att140_v1.p', \n",
    "    'lora_BW1_SF10_915MHz_20ksps_Att20_v1.p', \n",
    "    'lora_BW1_SF10_915MHz_20ksps_Att40_v1.p', \n",
    "    'lora_BW1_SF10_915MHz_20ksps_Att60_v1.p', \n",
    "    'lora_BW1_SF10_915MHz_20ksps_Att80_v1.p', \n",
    "    'lora_BW1_SF11_915MHz_20kspsAtt120_v1.p', \n",
    "    'lora_BW1_SF11_915MHz_20kspsAtt140_v1.p', \n",
    "    'lora_BW1_SF11_915MHz_20ksps_Att0_v1.p', \n",
    "    'lora_BW1_SF11_915MHz_20ksps_Att100_v1.p', \n",
    "    'lora_BW1_SF11_915MHz_20ksps_Att20_v1.p', \n",
    "    'lora_BW1_SF11_915MHz_20ksps_Att40_v1.p', \n",
    "    'lora_BW1_SF11_915MHz_20ksps_Att60_v1.p', \n",
    "    'lora_BW1_SF11_915MHz_20ksps_Att80_v1.p', \n",
    "    'lora_BW1_SF12_915MHz_20kspsAtt0_v1.p', \n",
    "    'lora_BW1_SF12_915MHz_20kspsAtt0_v2.p', \n",
    "    'lora_BW1_SF12_915MHz_20kspsAtt100_v1.p', \n",
    "    'lora_BW1_SF12_915MHz_20kspsAtt120_v1.p', \n",
    "    'lora_BW1_SF12_915MHz_20kspsAtt140_v1.p', \n",
    "    'lora_BW1_SF12_915MHz_20kspsAtt20_v1.p', \n",
    "    'lora_BW1_SF12_915MHz_20kspsAtt40_v1.p', \n",
    "    'lora_BW1_SF12_915MHz_20kspsAtt60_v1.p', \n",
    "    'lora_BW1_SF12_915MHz_20kspsAtt80_v1.p', \n",
    "    'lora_BW2_SF10_915MHz_20ksps_Att0_v1.p', \n",
    "    'lora_BW2_SF10_915MHz_20ksps_Att100_v1.p', \n",
    "    'lora_BW2_SF10_915MHz_20ksps_Att120_v1.p', \n",
    "    'lora_BW2_SF10_915MHz_20ksps_Att140_v1.p', \n",
    "    'lora_BW2_SF10_915MHz_20ksps_Att20_v1.p', \n",
    "    'lora_BW2_SF10_915MHz_20ksps_Att40_v1.p', \n",
    "    'lora_BW2_SF10_915MHz_20ksps_Att60_v1.p', \n",
    "    'lora_BW2_SF10_915MHz_20ksps_Att80_v1.p', \n",
    "    'lora_BW2_SF11_915MHz_20ksps_Att0_v1.p', \n",
    "    'lora_BW2_SF11_915MHz_20ksps_Att100_v1.p', \n",
    "    'lora_BW2_SF11_915MHz_20ksps_Att120_v1.p', \n",
    "    'lora_BW2_SF11_915MHz_20ksps_Att140_v1.p', \n",
    "    'lora_BW2_SF11_915MHz_20ksps_Att20_v1.p', \n",
    "    'lora_BW2_SF11_915MHz_20ksps_Att40_v1.p', \n",
    "    'lora_BW2_SF11_915MHz_20ksps_Att60_v1.p', \n",
    "    'lora_BW2_SF11_915MHz_20ksps_Att80_v1.p', \n",
    "    'lora_BW2_SF12_915MHz_20ksps_Att0_v1.p', \n",
    "    'lora_BW2_SF12_915MHz_20ksps_Att100_v1.p', \n",
    "    'lora_BW2_SF12_915MHz_20ksps_Att120_v1.p', \n",
    "    'lora_BW2_SF12_915MHz_20ksps_Att140_v1.p', \n",
    "    'lora_BW2_SF12_915MHz_20ksps_Att20_v1.p', \n",
    "    'lora_BW2_SF12_915MHz_20ksps_Att40_v1.p', \n",
    "    'lora_BW2_SF12_915MHz_20ksps_Att60_v1.p', \n",
    "    'lora_BW2_SF12_915MHz_20ksps_Att80_v1.p', \n",
    "]"
   ]
  },
  {
   "cell_type": "markdown",
   "metadata": {},
   "source": [
    "## symbols"
   ]
  },
  {
   "cell_type": "raw",
   "metadata": {
    "jupyter": {
     "source_hidden": true
    }
   },
   "source": [
    "file = symloader.select(101)\n",
    "file.load()\n",
    "display(file)\n",
    "\n",
    "pfile = _load_matching_dotp(file.bw, file.sf)\n",
    "display(pfile)\n",
    "\n",
    "base_symbol = pfile.to_signal()\n",
    "display(base_symbol)\n",
    "\n",
    "symbols = file.to_signal()\n",
    "display(symbols)"
   ]
  },
  {
   "cell_type": "markdown",
   "metadata": {},
   "source": [
    "# symbol filtering"
   ]
  },
  {
   "cell_type": "raw",
   "metadata": {
    "jupyter": {
     "source_hidden": true
    }
   },
   "source": [
    "def filter_symbols(file, thresh_type='window', plot=False):\n",
    "    symbols = file.to_signal()\n",
    "    display(symbols)\n",
    "\n",
    "    pfile = _load_matching_dotp(file.bw, file.sf)\n",
    "    base_symbol = pfile.to_signal()\n",
    "    display(base_symbol)\n",
    "    \n",
    "    conv_vals = [\n",
    "        base_symbol.convolve(sym)\n",
    "        for sym in symbols.data\n",
    "    ]\n",
    "    \n",
    "    thresh = (\n",
    "        np.quantile(conv_vals, [0.25])[0] if thresh_type == 'quant' \n",
    "        else (0.9, 1.1) if thresh_type == 'window' \n",
    "        else np.mean(conv_vals)/2\n",
    "    )\n",
    "    logger.info(f'set threshold: {thresh:0.4f}')\n",
    "    \n",
    "    if plot:\n",
    "        df = pd.DataFrame(conv_vals).rename(columns={0: 'data'})\n",
    "        df.plot.hist(bins=30)\n",
    "    \n",
    "    if thresh_type == 'window':\n",
    "        filtered_syms = np.vstack([\n",
    "            sym for sym, conv in zip(symbols.data, conv_vals)\n",
    "            if conv > thresh[0] and conv < thresh[1]\n",
    "        ])\n",
    "    else:\n",
    "        filtered_syms = np.vstack([\n",
    "            sym for sym, conv in zip(symbols.data, conv_vals)\n",
    "            if conv > thresh\n",
    "        ])\n",
    "\n",
    "    _removed_syms = symbols.data.shape[0] - len(filtered_syms)\n",
    "    logger.warning(f'removed {_removed_syms} symbols  [{len(filtered_syms)} / {symbols.data.shape[0]}]')\n",
    "    \n",
    "    if plot:\n",
    "        _plot_check(filtered_syms, 40)\n",
    "        \n",
    "    return filtered_syms, conv_vals"
   ]
  },
  {
   "cell_type": "code",
   "execution_count": 7,
   "metadata": {},
   "outputs": [],
   "source": [
    "def _fft_convolve_autocorr(symbol: np.ndarray):\n",
    "    return spsig.fftconvolve(symbol, symbol[::-1], mode='full')\n",
    "\n",
    "def _sp_corr(base_symbol: np.ndarray, packet_slice: np.ndarray) -> float:\n",
    "    min_size = np.min((base_symbol.size, packet_slice.size))\n",
    "    corr = spsig.correlate(base_symbol, packet_slice)\n",
    "    return np.abs(corr.max())\n",
    "    \n",
    "def _compute_corr(symbol: np.ndarray, base_symbol: np.ndarray) -> float:\n",
    "    return _sp_corr(base_symbol, _fft_convolve_autocorr(symbol))\n",
    "\n",
    "def _mp_compute_corr(base_sym: np.ndarray, symbols: np.ndarray) -> np.ndarray:\n",
    "    logger.warning(f'beginning multiprocessing..')\n",
    "    _part_compute_corr = partial(_compute_corr, base_symbol=base_sym)    \n",
    "\n",
    "    with multiprocessing.Pool() as pool:\n",
    "        results = pool.map(_part_compute_corr, symbols)\n",
    "    \n",
    "    logger.warning(f'completed multiprocessing')\n",
    "    return np.array(results)\n",
    "    \n",
    "\n",
    "def filter_symbols_fftcorr(file, thresh_adj=0.4, mp=True, plot=False):\n",
    "    symbols = file.to_signal()\n",
    "    display(symbols)\n",
    "\n",
    "    pfile = _load_matching_dotp(file.bw, file.sf)\n",
    "    base_symbol = pfile.to_signal()\n",
    "    display(base_symbol)\n",
    "    \n",
    "    if mp:\n",
    "        corr_fftconvs = _mp_compute_corr(base_symbol.data, symbols.data)\n",
    "    else:    \n",
    "        corr_fftconvs = np.array([\n",
    "            _compute_corr(sym, base_symbol.data)\n",
    "            for sym in symbols.data\n",
    "        ])\n",
    "    \n",
    "    thresh = corr_fftconvs.mean() \n",
    "    thresh *= thresh_adj\n",
    "    logger.info(f'set threshold: {thresh:0.6f}')\n",
    "    \n",
    "    filtered_symbols = symbols.data[np.where(corr_fftconvs > thresh)[0], :]\n",
    "    _rm_symbols = symbols.data[np.where(corr_fftconvs < thresh)[0], :]\n",
    "   \n",
    "    _removed_syms = symbols.data.shape[0] - len(filtered_symbols)\n",
    "    logger.warning(f'removed {_removed_syms} symbols  [{len(filtered_symbols)} / {symbols.data.shape[0]}]')\n",
    "    \n",
    "    if plot:\n",
    "        _plot_check(filtered_symbols, 40)\n",
    "        \n",
    "#     return filtered_symbols, _rm_symbols, corr_fftconvs\n",
    "    return filtered_symbols\n"
   ]
  },
  {
   "cell_type": "code",
   "execution_count": 13,
   "metadata": {
    "scrolled": true
   },
   "outputs": [
    {
     "name": "stderr",
     "output_type": "stream",
     "text": [
      "  0%|          | 0/60 [00:00<?, ?it/s]"
     ]
    },
    {
     "name": "stdout",
     "output_type": "stream",
     "text": [
      "\u001b[32m2020-04-14 15:49:57.359\u001b[0m | \u001b[33m\u001b[1mWARNING \u001b[0m | \u001b[36m__main__\u001b[0m:\u001b[36m<module>\u001b[0m:\u001b[36m6\u001b[0m - \u001b[33m\u001b[1mworking file DotPFile(id=0 | name='lora_BW7_SF12_915MHz_20ksps_Att0_d5.p')\u001b[0m\n",
      "\u001b[32m2020-04-14 15:49:57.360\u001b[0m | \u001b[34m\u001b[1mDEBUG   \u001b[0m | \u001b[36mlorapy.datafile.encoding\u001b[0m:\u001b[36mcompute_params\u001b[0m:\u001b[36m15\u001b[0m - \u001b[34m\u001b[1mcomputed samples per symbol: 6386 and packet length: 193176\u001b[0m\n",
      "\u001b[32m2020-04-14 15:49:57.616\u001b[0m | \u001b[1mINFO    \u001b[0m | \u001b[36mlorapy.datafile._base_file\u001b[0m:\u001b[36mload\u001b[0m:\u001b[36m61\u001b[0m - \u001b[1mloaded 7471620 samples from file\u001b[0m\n"
     ]
    },
    {
     "data": {
      "text/plain": [
       "BaselineSymbolSet(num symbols=1170 | BW: 7 | SF: 12 | Att: 0 | samples per symbol: 6386 | packet length: 193176)"
      ]
     },
     "metadata": {},
     "output_type": "display_data"
    },
    {
     "name": "stdout",
     "output_type": "stream",
     "text": [
      "\u001b[32m2020-04-14 15:49:57.619\u001b[0m | \u001b[34m\u001b[1mDEBUG   \u001b[0m | \u001b[36mlorapy.datafile.encoding\u001b[0m:\u001b[36mcompute_params\u001b[0m:\u001b[36m15\u001b[0m - \u001b[34m\u001b[1mcomputed samples per symbol: 6386 and packet length: 193176\u001b[0m\n",
      "\u001b[32m2020-04-14 15:49:57.620\u001b[0m | \u001b[1mINFO    \u001b[0m | \u001b[36mlorapy.datafile._base_file\u001b[0m:\u001b[36mload\u001b[0m:\u001b[36m61\u001b[0m - \u001b[1mloaded 6386 samples from file\u001b[0m\n"
     ]
    },
    {
     "data": {
      "text/plain": [
       "BaselineSymbolSet(num symbols=6386 | BW: 7 | SF: 12 | Att: 0 | samples per symbol: 6386 | packet length: 193176)"
      ]
     },
     "metadata": {},
     "output_type": "display_data"
    },
    {
     "name": "stdout",
     "output_type": "stream",
     "text": [
      "\u001b[32m2020-04-14 15:49:57.622\u001b[0m | \u001b[33m\u001b[1mWARNING \u001b[0m | \u001b[36m__main__\u001b[0m:\u001b[36m_mp_compute_corr\u001b[0m:\u001b[36m13\u001b[0m - \u001b[33m\u001b[1mbeginning multiprocessing..\u001b[0m\n",
      "\u001b[32m2020-04-14 15:49:58.209\u001b[0m | \u001b[33m\u001b[1mWARNING \u001b[0m | \u001b[36m__main__\u001b[0m:\u001b[36m_mp_compute_corr\u001b[0m:\u001b[36m19\u001b[0m - \u001b[33m\u001b[1mcompleted multiprocessing\u001b[0m\n",
      "\u001b[32m2020-04-14 15:49:58.212\u001b[0m | \u001b[1mINFO    \u001b[0m | \u001b[36m__main__\u001b[0m:\u001b[36mfilter_symbols_fftcorr\u001b[0m:\u001b[36m41\u001b[0m - \u001b[1mset threshold: 2.973432\u001b[0m\n",
      "\u001b[32m2020-04-14 15:49:58.261\u001b[0m | \u001b[33m\u001b[1mWARNING \u001b[0m | \u001b[36m__main__\u001b[0m:\u001b[36mfilter_symbols_fftcorr\u001b[0m:\u001b[36m47\u001b[0m - \u001b[33m\u001b[1mremoved 0 symbols  [1170 / 1170]\u001b[0m\n"
     ]
    },
    {
     "name": "stderr",
     "output_type": "stream",
     "text": [
      "  2%|▏         | 1/60 [00:01<00:59,  1.01s/it]"
     ]
    },
    {
     "name": "stdout",
     "output_type": "stream",
     "text": [
      "\u001b[32m2020-04-14 15:49:58.367\u001b[0m | \u001b[33m\u001b[1mWARNING \u001b[0m | \u001b[36m__main__\u001b[0m:\u001b[36m<module>\u001b[0m:\u001b[36m6\u001b[0m - \u001b[33m\u001b[1mworking file DotPFile(id=1 | name='lora_BW8_SF10_915MHz_20ksps_Att0_d5.p')\u001b[0m\n",
      "\u001b[32m2020-04-14 15:49:58.369\u001b[0m | \u001b[34m\u001b[1mDEBUG   \u001b[0m | \u001b[36mlorapy.datafile.encoding\u001b[0m:\u001b[36mcompute_params\u001b[0m:\u001b[36m15\u001b[0m - \u001b[34m\u001b[1mcomputed samples per symbol: 800 and packet length: 24200\u001b[0m\n",
      "\u001b[32m2020-04-14 15:49:58.563\u001b[0m | \u001b[1mINFO    \u001b[0m | \u001b[36mlorapy.datafile._base_file\u001b[0m:\u001b[36mload\u001b[0m:\u001b[36m61\u001b[0m - \u001b[1mloaded 7789600 samples from file\u001b[0m\n"
     ]
    },
    {
     "data": {
      "text/plain": [
       "BaselineSymbolSet(num symbols=9737 | BW: 8 | SF: 10 | Att: 0 | samples per symbol: 800 | packet length: 24200)"
      ]
     },
     "metadata": {},
     "output_type": "display_data"
    },
    {
     "name": "stdout",
     "output_type": "stream",
     "text": [
      "\u001b[32m2020-04-14 15:49:58.567\u001b[0m | \u001b[34m\u001b[1mDEBUG   \u001b[0m | \u001b[36mlorapy.datafile.encoding\u001b[0m:\u001b[36mcompute_params\u001b[0m:\u001b[36m15\u001b[0m - \u001b[34m\u001b[1mcomputed samples per symbol: 800 and packet length: 24200\u001b[0m\n",
      "\u001b[32m2020-04-14 15:49:58.568\u001b[0m | \u001b[1mINFO    \u001b[0m | \u001b[36mlorapy.datafile._base_file\u001b[0m:\u001b[36mload\u001b[0m:\u001b[36m61\u001b[0m - \u001b[1mloaded 799 samples from file\u001b[0m\n"
     ]
    },
    {
     "data": {
      "text/plain": [
       "BaselineSymbolSet(num symbols=799 | BW: 8 | SF: 10 | Att: 0 | samples per symbol: 800 | packet length: 24200)"
      ]
     },
     "metadata": {},
     "output_type": "display_data"
    },
    {
     "name": "stdout",
     "output_type": "stream",
     "text": [
      "\u001b[32m2020-04-14 15:49:58.570\u001b[0m | \u001b[33m\u001b[1mWARNING \u001b[0m | \u001b[36m__main__\u001b[0m:\u001b[36m_mp_compute_corr\u001b[0m:\u001b[36m13\u001b[0m - \u001b[33m\u001b[1mbeginning multiprocessing..\u001b[0m\n",
      "\u001b[32m2020-04-14 15:49:59.679\u001b[0m | \u001b[33m\u001b[1mWARNING \u001b[0m | \u001b[36m__main__\u001b[0m:\u001b[36m_mp_compute_corr\u001b[0m:\u001b[36m19\u001b[0m - \u001b[33m\u001b[1mcompleted multiprocessing\u001b[0m\n",
      "\u001b[32m2020-04-14 15:49:59.683\u001b[0m | \u001b[1mINFO    \u001b[0m | \u001b[36m__main__\u001b[0m:\u001b[36mfilter_symbols_fftcorr\u001b[0m:\u001b[36m41\u001b[0m - \u001b[1mset threshold: 0.094515\u001b[0m\n",
      "\u001b[32m2020-04-14 15:49:59.731\u001b[0m | \u001b[33m\u001b[1mWARNING \u001b[0m | \u001b[36m__main__\u001b[0m:\u001b[36mfilter_symbols_fftcorr\u001b[0m:\u001b[36m47\u001b[0m - \u001b[33m\u001b[1mremoved 2015 symbols  [7722 / 9737]\u001b[0m\n"
     ]
    },
    {
     "name": "stderr",
     "output_type": "stream",
     "text": [
      "  3%|▎         | 2/60 [00:02<01:06,  1.14s/it]"
     ]
    },
    {
     "name": "stdout",
     "output_type": "stream",
     "text": [
      "\u001b[32m2020-04-14 15:49:59.816\u001b[0m | \u001b[33m\u001b[1mWARNING \u001b[0m | \u001b[36m__main__\u001b[0m:\u001b[36m<module>\u001b[0m:\u001b[36m6\u001b[0m - \u001b[33m\u001b[1mworking file DotPFile(id=2 | name='lora_BW8_SF11_915MHz_20ksps_Att0_d5.p')\u001b[0m\n",
      "\u001b[32m2020-04-14 15:49:59.817\u001b[0m | \u001b[34m\u001b[1mDEBUG   \u001b[0m | \u001b[36mlorapy.datafile.encoding\u001b[0m:\u001b[36mcompute_params\u001b[0m:\u001b[36m15\u001b[0m - \u001b[34m\u001b[1mcomputed samples per symbol: 1599 and packet length: 48369\u001b[0m\n",
      "\u001b[32m2020-04-14 15:50:00.000\u001b[0m | \u001b[1mINFO    \u001b[0m | \u001b[36mlorapy.datafile._base_file\u001b[0m:\u001b[36mload\u001b[0m:\u001b[36m61\u001b[0m - \u001b[1mloaded 7646418 samples from file\u001b[0m\n"
     ]
    },
    {
     "data": {
      "text/plain": [
       "BaselineSymbolSet(num symbols=4782 | BW: 8 | SF: 11 | Att: 0 | samples per symbol: 1599 | packet length: 48369)"
      ]
     },
     "metadata": {},
     "output_type": "display_data"
    },
    {
     "name": "stdout",
     "output_type": "stream",
     "text": [
      "\u001b[32m2020-04-14 15:50:00.003\u001b[0m | \u001b[34m\u001b[1mDEBUG   \u001b[0m | \u001b[36mlorapy.datafile.encoding\u001b[0m:\u001b[36mcompute_params\u001b[0m:\u001b[36m15\u001b[0m - \u001b[34m\u001b[1mcomputed samples per symbol: 1599 and packet length: 48369\u001b[0m\n",
      "\u001b[32m2020-04-14 15:50:00.005\u001b[0m | \u001b[1mINFO    \u001b[0m | \u001b[36mlorapy.datafile._base_file\u001b[0m:\u001b[36mload\u001b[0m:\u001b[36m61\u001b[0m - \u001b[1mloaded 1599 samples from file\u001b[0m\n"
     ]
    },
    {
     "data": {
      "text/plain": [
       "BaselineSymbolSet(num symbols=1599 | BW: 8 | SF: 11 | Att: 0 | samples per symbol: 1599 | packet length: 48369)"
      ]
     },
     "metadata": {},
     "output_type": "display_data"
    },
    {
     "name": "stdout",
     "output_type": "stream",
     "text": [
      "\u001b[32m2020-04-14 15:50:00.007\u001b[0m | \u001b[33m\u001b[1mWARNING \u001b[0m | \u001b[36m__main__\u001b[0m:\u001b[36m_mp_compute_corr\u001b[0m:\u001b[36m13\u001b[0m - \u001b[33m\u001b[1mbeginning multiprocessing..\u001b[0m\n",
      "\u001b[32m2020-04-14 15:50:01.411\u001b[0m | \u001b[33m\u001b[1mWARNING \u001b[0m | \u001b[36m__main__\u001b[0m:\u001b[36m_mp_compute_corr\u001b[0m:\u001b[36m19\u001b[0m - \u001b[33m\u001b[1mcompleted multiprocessing\u001b[0m\n",
      "\u001b[32m2020-04-14 15:50:01.416\u001b[0m | \u001b[1mINFO    \u001b[0m | \u001b[36m__main__\u001b[0m:\u001b[36mfilter_symbols_fftcorr\u001b[0m:\u001b[36m41\u001b[0m - \u001b[1mset threshold: 0.399131\u001b[0m\n",
      "\u001b[32m2020-04-14 15:50:01.446\u001b[0m | \u001b[33m\u001b[1mWARNING \u001b[0m | \u001b[36m__main__\u001b[0m:\u001b[36mfilter_symbols_fftcorr\u001b[0m:\u001b[36m47\u001b[0m - \u001b[33m\u001b[1mremoved 474 symbols  [4308 / 4782]\u001b[0m\n"
     ]
    },
    {
     "name": "stderr",
     "output_type": "stream",
     "text": [
      "  5%|▌         | 3/60 [00:04<01:14,  1.31s/it]"
     ]
    },
    {
     "name": "stdout",
     "output_type": "stream",
     "text": [
      "\u001b[32m2020-04-14 15:50:01.537\u001b[0m | \u001b[33m\u001b[1mWARNING \u001b[0m | \u001b[36m__main__\u001b[0m:\u001b[36m<module>\u001b[0m:\u001b[36m6\u001b[0m - \u001b[33m\u001b[1mworking file DotPFile(id=3 | name='lora_BW9_SF10_915MHz_20ksps_Att0_d5.p')\u001b[0m\n",
      "\u001b[32m2020-04-14 15:50:01.539\u001b[0m | \u001b[34m\u001b[1mDEBUG   \u001b[0m | \u001b[36mlorapy.datafile.encoding\u001b[0m:\u001b[36mcompute_params\u001b[0m:\u001b[36m15\u001b[0m - \u001b[34m\u001b[1mcomputed samples per symbol: 400 and packet length: 12100\u001b[0m\n",
      "\u001b[32m2020-04-14 15:50:01.869\u001b[0m | \u001b[1mINFO    \u001b[0m | \u001b[36mlorapy.datafile._base_file\u001b[0m:\u001b[36mload\u001b[0m:\u001b[36m61\u001b[0m - \u001b[1mloaded 7398800 samples from file\u001b[0m\n"
     ]
    },
    {
     "data": {
      "text/plain": [
       "BaselineSymbolSet(num symbols=18497 | BW: 9 | SF: 10 | Att: 0 | samples per symbol: 400 | packet length: 12100)"
      ]
     },
     "metadata": {},
     "output_type": "display_data"
    },
    {
     "name": "stdout",
     "output_type": "stream",
     "text": [
      "\u001b[32m2020-04-14 15:50:01.873\u001b[0m | \u001b[34m\u001b[1mDEBUG   \u001b[0m | \u001b[36mlorapy.datafile.encoding\u001b[0m:\u001b[36mcompute_params\u001b[0m:\u001b[36m15\u001b[0m - \u001b[34m\u001b[1mcomputed samples per symbol: 400 and packet length: 12100\u001b[0m\n",
      "\u001b[32m2020-04-14 15:50:01.874\u001b[0m | \u001b[1mINFO    \u001b[0m | \u001b[36mlorapy.datafile._base_file\u001b[0m:\u001b[36mload\u001b[0m:\u001b[36m61\u001b[0m - \u001b[1mloaded 399 samples from file\u001b[0m\n"
     ]
    },
    {
     "data": {
      "text/plain": [
       "BaselineSymbolSet(num symbols=399 | BW: 9 | SF: 10 | Att: 0 | samples per symbol: 400 | packet length: 12100)"
      ]
     },
     "metadata": {},
     "output_type": "display_data"
    },
    {
     "name": "stdout",
     "output_type": "stream",
     "text": [
      "\u001b[32m2020-04-14 15:50:01.876\u001b[0m | \u001b[33m\u001b[1mWARNING \u001b[0m | \u001b[36m__main__\u001b[0m:\u001b[36m_mp_compute_corr\u001b[0m:\u001b[36m13\u001b[0m - \u001b[33m\u001b[1mbeginning multiprocessing..\u001b[0m\n",
      "\u001b[32m2020-04-14 15:50:03.166\u001b[0m | \u001b[33m\u001b[1mWARNING \u001b[0m | \u001b[36m__main__\u001b[0m:\u001b[36m_mp_compute_corr\u001b[0m:\u001b[36m19\u001b[0m - \u001b[33m\u001b[1mcompleted multiprocessing\u001b[0m\n",
      "\u001b[32m2020-04-14 15:50:03.172\u001b[0m | \u001b[1mINFO    \u001b[0m | \u001b[36m__main__\u001b[0m:\u001b[36mfilter_symbols_fftcorr\u001b[0m:\u001b[36m41\u001b[0m - \u001b[1mset threshold: 0.023930\u001b[0m\n",
      "\u001b[32m2020-04-14 15:50:03.245\u001b[0m | \u001b[33m\u001b[1mWARNING \u001b[0m | \u001b[36m__main__\u001b[0m:\u001b[36mfilter_symbols_fftcorr\u001b[0m:\u001b[36m47\u001b[0m - \u001b[33m\u001b[1mremoved 8294 symbols  [10203 / 18497]\u001b[0m\n"
     ]
    },
    {
     "name": "stderr",
     "output_type": "stream",
     "text": [
      "  7%|▋         | 4/60 [00:06<01:22,  1.47s/it]"
     ]
    },
    {
     "name": "stdout",
     "output_type": "stream",
     "text": [
      "\u001b[32m2020-04-14 15:50:03.361\u001b[0m | \u001b[33m\u001b[1mWARNING \u001b[0m | \u001b[36m__main__\u001b[0m:\u001b[36m<module>\u001b[0m:\u001b[36m6\u001b[0m - \u001b[33m\u001b[1mworking file DotPFile(id=4 | name='lora_BW9_SF11_915MHz_20ksps_Att0_d5.p')\u001b[0m\n",
      "\u001b[32m2020-04-14 15:50:03.362\u001b[0m | \u001b[34m\u001b[1mDEBUG   \u001b[0m | \u001b[36mlorapy.datafile.encoding\u001b[0m:\u001b[36mcompute_params\u001b[0m:\u001b[36m15\u001b[0m - \u001b[34m\u001b[1mcomputed samples per symbol: 800 and packet length: 24200\u001b[0m\n",
      "\u001b[32m2020-04-14 15:50:03.865\u001b[0m | \u001b[1mINFO    \u001b[0m | \u001b[36mlorapy.datafile._base_file\u001b[0m:\u001b[36mload\u001b[0m:\u001b[36m61\u001b[0m - \u001b[1mloaded 8328000 samples from file\u001b[0m\n"
     ]
    },
    {
     "data": {
      "text/plain": [
       "BaselineSymbolSet(num symbols=10410 | BW: 9 | SF: 11 | Att: 0 | samples per symbol: 800 | packet length: 24200)"
      ]
     },
     "metadata": {},
     "output_type": "display_data"
    },
    {
     "name": "stdout",
     "output_type": "stream",
     "text": [
      "\u001b[32m2020-04-14 15:50:03.869\u001b[0m | \u001b[34m\u001b[1mDEBUG   \u001b[0m | \u001b[36mlorapy.datafile.encoding\u001b[0m:\u001b[36mcompute_params\u001b[0m:\u001b[36m15\u001b[0m - \u001b[34m\u001b[1mcomputed samples per symbol: 800 and packet length: 24200\u001b[0m\n",
      "\u001b[32m2020-04-14 15:50:03.870\u001b[0m | \u001b[1mINFO    \u001b[0m | \u001b[36mlorapy.datafile._base_file\u001b[0m:\u001b[36mload\u001b[0m:\u001b[36m61\u001b[0m - \u001b[1mloaded 799 samples from file\u001b[0m\n"
     ]
    },
    {
     "data": {
      "text/plain": [
       "BaselineSymbolSet(num symbols=799 | BW: 9 | SF: 11 | Att: 0 | samples per symbol: 800 | packet length: 24200)"
      ]
     },
     "metadata": {},
     "output_type": "display_data"
    },
    {
     "name": "stdout",
     "output_type": "stream",
     "text": [
      "\u001b[32m2020-04-14 15:50:03.872\u001b[0m | \u001b[33m\u001b[1mWARNING \u001b[0m | \u001b[36m__main__\u001b[0m:\u001b[36m_mp_compute_corr\u001b[0m:\u001b[36m13\u001b[0m - \u001b[33m\u001b[1mbeginning multiprocessing..\u001b[0m\n",
      "\u001b[32m2020-04-14 15:50:05.563\u001b[0m | \u001b[33m\u001b[1mWARNING \u001b[0m | \u001b[36m__main__\u001b[0m:\u001b[36m_mp_compute_corr\u001b[0m:\u001b[36m19\u001b[0m - \u001b[33m\u001b[1mcompleted multiprocessing\u001b[0m\n",
      "\u001b[32m2020-04-14 15:50:05.567\u001b[0m | \u001b[1mINFO    \u001b[0m | \u001b[36m__main__\u001b[0m:\u001b[36mfilter_symbols_fftcorr\u001b[0m:\u001b[36m41\u001b[0m - \u001b[1mset threshold: 0.075035\u001b[0m\n",
      "\u001b[32m2020-04-14 15:50:05.660\u001b[0m | \u001b[33m\u001b[1mWARNING \u001b[0m | \u001b[36m__main__\u001b[0m:\u001b[36mfilter_symbols_fftcorr\u001b[0m:\u001b[36m47\u001b[0m - \u001b[33m\u001b[1mremoved 2129 symbols  [8281 / 10410]\u001b[0m\n"
     ]
    },
    {
     "name": "stderr",
     "output_type": "stream",
     "text": [
      "  8%|▊         | 5/60 [00:08<01:39,  1.81s/it]"
     ]
    },
    {
     "name": "stdout",
     "output_type": "stream",
     "text": [
      "\u001b[32m2020-04-14 15:50:05.974\u001b[0m | \u001b[33m\u001b[1mWARNING \u001b[0m | \u001b[36m__main__\u001b[0m:\u001b[36m<module>\u001b[0m:\u001b[36m6\u001b[0m - \u001b[33m\u001b[1mworking file DotPFile(id=5 | name='lora_BW9_SF12_915MHz_20ksps_Att0_d5.p')\u001b[0m\n",
      "\u001b[32m2020-04-14 15:50:05.975\u001b[0m | \u001b[34m\u001b[1mDEBUG   \u001b[0m | \u001b[36mlorapy.datafile.encoding\u001b[0m:\u001b[36mcompute_params\u001b[0m:\u001b[36m15\u001b[0m - \u001b[34m\u001b[1mcomputed samples per symbol: 1599 and packet length: 48369\u001b[0m\n",
      "\u001b[32m2020-04-14 15:50:06.193\u001b[0m | \u001b[1mINFO    \u001b[0m | \u001b[36mlorapy.datafile._base_file\u001b[0m:\u001b[36mload\u001b[0m:\u001b[36m61\u001b[0m - \u001b[1mloaded 7734363 samples from file\u001b[0m\n"
     ]
    },
    {
     "data": {
      "text/plain": [
       "BaselineSymbolSet(num symbols=4837 | BW: 9 | SF: 12 | Att: 0 | samples per symbol: 1599 | packet length: 48369)"
      ]
     },
     "metadata": {},
     "output_type": "display_data"
    },
    {
     "name": "stdout",
     "output_type": "stream",
     "text": [
      "\u001b[32m2020-04-14 15:50:06.197\u001b[0m | \u001b[34m\u001b[1mDEBUG   \u001b[0m | \u001b[36mlorapy.datafile.encoding\u001b[0m:\u001b[36mcompute_params\u001b[0m:\u001b[36m15\u001b[0m - \u001b[34m\u001b[1mcomputed samples per symbol: 1599 and packet length: 48369\u001b[0m\n",
      "\u001b[32m2020-04-14 15:50:06.198\u001b[0m | \u001b[1mINFO    \u001b[0m | \u001b[36mlorapy.datafile._base_file\u001b[0m:\u001b[36mload\u001b[0m:\u001b[36m61\u001b[0m - \u001b[1mloaded 1599 samples from file\u001b[0m\n"
     ]
    },
    {
     "data": {
      "text/plain": [
       "BaselineSymbolSet(num symbols=1599 | BW: 9 | SF: 12 | Att: 0 | samples per symbol: 1599 | packet length: 48369)"
      ]
     },
     "metadata": {},
     "output_type": "display_data"
    },
    {
     "name": "stdout",
     "output_type": "stream",
     "text": [
      "\u001b[32m2020-04-14 15:50:06.200\u001b[0m | \u001b[33m\u001b[1mWARNING \u001b[0m | \u001b[36m__main__\u001b[0m:\u001b[36m_mp_compute_corr\u001b[0m:\u001b[36m13\u001b[0m - \u001b[33m\u001b[1mbeginning multiprocessing..\u001b[0m\n",
      "\u001b[32m2020-04-14 15:50:07.675\u001b[0m | \u001b[33m\u001b[1mWARNING \u001b[0m | \u001b[36m__main__\u001b[0m:\u001b[36m_mp_compute_corr\u001b[0m:\u001b[36m19\u001b[0m - \u001b[33m\u001b[1mcompleted multiprocessing\u001b[0m\n",
      "\u001b[32m2020-04-14 15:50:07.679\u001b[0m | \u001b[1mINFO    \u001b[0m | \u001b[36m__main__\u001b[0m:\u001b[36mfilter_symbols_fftcorr\u001b[0m:\u001b[36m41\u001b[0m - \u001b[1mset threshold: 0.162830\u001b[0m\n",
      "\u001b[32m2020-04-14 15:50:07.715\u001b[0m | \u001b[33m\u001b[1mWARNING \u001b[0m | \u001b[36m__main__\u001b[0m:\u001b[36mfilter_symbols_fftcorr\u001b[0m:\u001b[36m47\u001b[0m - \u001b[33m\u001b[1mremoved 517 symbols  [4320 / 4837]\u001b[0m\n"
     ]
    },
    {
     "name": "stderr",
     "output_type": "stream",
     "text": [
      " 10%|█         | 6/60 [00:10<01:38,  1.82s/it]"
     ]
    },
    {
     "name": "stdout",
     "output_type": "stream",
     "text": [
      "\u001b[32m2020-04-14 15:50:07.830\u001b[0m | \u001b[33m\u001b[1mWARNING \u001b[0m | \u001b[36m__main__\u001b[0m:\u001b[36m<module>\u001b[0m:\u001b[36m6\u001b[0m - \u001b[33m\u001b[1mworking file DotPFile(id=6 | name='lora_BW1_SF12_915MHz_20ksps_Att0_d5.p')\u001b[0m\n",
      "\u001b[32m2020-04-14 15:50:07.831\u001b[0m | \u001b[34m\u001b[1mDEBUG   \u001b[0m | \u001b[36mlorapy.datafile.encoding\u001b[0m:\u001b[36mcompute_params\u001b[0m:\u001b[36m15\u001b[0m - \u001b[34m\u001b[1mcomputed samples per symbol: 76801 and packet length: 2323230\u001b[0m\n",
      "\u001b[32m2020-04-14 15:50:08.126\u001b[0m | \u001b[1mINFO    \u001b[0m | \u001b[36mlorapy.datafile._base_file\u001b[0m:\u001b[36mload\u001b[0m:\u001b[36m61\u001b[0m - \u001b[1mloaded 8448110 samples from file\u001b[0m\n"
     ]
    },
    {
     "data": {
      "text/plain": [
       "BaselineSymbolSet(num symbols=110 | BW: 1 | SF: 12 | Att: 0 | samples per symbol: 76801 | packet length: 2323230)"
      ]
     },
     "metadata": {},
     "output_type": "display_data"
    },
    {
     "name": "stdout",
     "output_type": "stream",
     "text": [
      "\u001b[32m2020-04-14 15:50:08.131\u001b[0m | \u001b[34m\u001b[1mDEBUG   \u001b[0m | \u001b[36mlorapy.datafile.encoding\u001b[0m:\u001b[36mcompute_params\u001b[0m:\u001b[36m15\u001b[0m - \u001b[34m\u001b[1mcomputed samples per symbol: 76801 and packet length: 2323230\u001b[0m\n",
      "\u001b[32m2020-04-14 15:50:08.133\u001b[0m | \u001b[1mINFO    \u001b[0m | \u001b[36mlorapy.datafile._base_file\u001b[0m:\u001b[36mload\u001b[0m:\u001b[36m61\u001b[0m - \u001b[1mloaded 76800 samples from file\u001b[0m\n"
     ]
    },
    {
     "data": {
      "text/plain": [
       "BaselineSymbolSet(num symbols=76800 | BW: 1 | SF: 12 | Att: 0 | samples per symbol: 76801 | packet length: 2323230)"
      ]
     },
     "metadata": {},
     "output_type": "display_data"
    },
    {
     "name": "stdout",
     "output_type": "stream",
     "text": [
      "\u001b[32m2020-04-14 15:50:08.137\u001b[0m | \u001b[33m\u001b[1mWARNING \u001b[0m | \u001b[36m__main__\u001b[0m:\u001b[36m_mp_compute_corr\u001b[0m:\u001b[36m13\u001b[0m - \u001b[33m\u001b[1mbeginning multiprocessing..\u001b[0m\n",
      "\u001b[32m2020-04-14 15:50:09.356\u001b[0m | \u001b[33m\u001b[1mWARNING \u001b[0m | \u001b[36m__main__\u001b[0m:\u001b[36m_mp_compute_corr\u001b[0m:\u001b[36m19\u001b[0m - \u001b[33m\u001b[1mcompleted multiprocessing\u001b[0m\n",
      "\u001b[32m2020-04-14 15:50:09.359\u001b[0m | \u001b[1mINFO    \u001b[0m | \u001b[36m__main__\u001b[0m:\u001b[36mfilter_symbols_fftcorr\u001b[0m:\u001b[36m41\u001b[0m - \u001b[1mset threshold: 282.299170\u001b[0m\n",
      "\u001b[32m2020-04-14 15:50:09.395\u001b[0m | \u001b[33m\u001b[1mWARNING \u001b[0m | \u001b[36m__main__\u001b[0m:\u001b[36mfilter_symbols_fftcorr\u001b[0m:\u001b[36m47\u001b[0m - \u001b[33m\u001b[1mremoved 0 symbols  [110 / 110]\u001b[0m\n"
     ]
    },
    {
     "name": "stderr",
     "output_type": "stream",
     "text": [
      " 12%|█▏        | 7/60 [00:12<01:34,  1.79s/it]"
     ]
    },
    {
     "name": "stdout",
     "output_type": "stream",
     "text": [
      "\u001b[32m2020-04-14 15:50:09.533\u001b[0m | \u001b[33m\u001b[1mWARNING \u001b[0m | \u001b[36m__main__\u001b[0m:\u001b[36m<module>\u001b[0m:\u001b[36m6\u001b[0m - \u001b[33m\u001b[1mworking file DotPFile(id=7 | name='lora_BW1_SF11_915MHz_20ksps_Att0_d5.p')\u001b[0m\n",
      "\u001b[32m2020-04-14 15:50:09.534\u001b[0m | \u001b[34m\u001b[1mDEBUG   \u001b[0m | \u001b[36mlorapy.datafile.encoding\u001b[0m:\u001b[36mcompute_params\u001b[0m:\u001b[36m15\u001b[0m - \u001b[34m\u001b[1mcomputed samples per symbol: 38396 and packet length: 1161479\u001b[0m\n",
      "\u001b[32m2020-04-14 15:50:09.944\u001b[0m | \u001b[1mINFO    \u001b[0m | \u001b[36mlorapy.datafile._base_file\u001b[0m:\u001b[36mload\u001b[0m:\u001b[36m61\u001b[0m - \u001b[1mloaded 8869476 samples from file\u001b[0m\n"
     ]
    },
    {
     "data": {
      "text/plain": [
       "BaselineSymbolSet(num symbols=231 | BW: 1 | SF: 11 | Att: 0 | samples per symbol: 38396 | packet length: 1161479)"
      ]
     },
     "metadata": {},
     "output_type": "display_data"
    },
    {
     "name": "stdout",
     "output_type": "stream",
     "text": [
      "\u001b[32m2020-04-14 15:50:09.949\u001b[0m | \u001b[34m\u001b[1mDEBUG   \u001b[0m | \u001b[36mlorapy.datafile.encoding\u001b[0m:\u001b[36mcompute_params\u001b[0m:\u001b[36m15\u001b[0m - \u001b[34m\u001b[1mcomputed samples per symbol: 38396 and packet length: 1161479\u001b[0m\n",
      "\u001b[32m2020-04-14 15:50:09.952\u001b[0m | \u001b[1mINFO    \u001b[0m | \u001b[36mlorapy.datafile._base_file\u001b[0m:\u001b[36mload\u001b[0m:\u001b[36m61\u001b[0m - \u001b[1mloaded 38395 samples from file\u001b[0m\n"
     ]
    },
    {
     "data": {
      "text/plain": [
       "BaselineSymbolSet(num symbols=38395 | BW: 1 | SF: 11 | Att: 0 | samples per symbol: 38396 | packet length: 1161479)"
      ]
     },
     "metadata": {},
     "output_type": "display_data"
    },
    {
     "name": "stdout",
     "output_type": "stream",
     "text": [
      "\u001b[32m2020-04-14 15:50:09.954\u001b[0m | \u001b[33m\u001b[1mWARNING \u001b[0m | \u001b[36m__main__\u001b[0m:\u001b[36m_mp_compute_corr\u001b[0m:\u001b[36m13\u001b[0m - \u001b[33m\u001b[1mbeginning multiprocessing..\u001b[0m\n",
      "\u001b[32m2020-04-14 15:50:11.330\u001b[0m | \u001b[33m\u001b[1mWARNING \u001b[0m | \u001b[36m__main__\u001b[0m:\u001b[36m_mp_compute_corr\u001b[0m:\u001b[36m19\u001b[0m - \u001b[33m\u001b[1mcompleted multiprocessing\u001b[0m\n",
      "\u001b[32m2020-04-14 15:50:11.333\u001b[0m | \u001b[1mINFO    \u001b[0m | \u001b[36m__main__\u001b[0m:\u001b[36mfilter_symbols_fftcorr\u001b[0m:\u001b[36m41\u001b[0m - \u001b[1mset threshold: 136.545070\u001b[0m\n",
      "\u001b[32m2020-04-14 15:50:11.391\u001b[0m | \u001b[33m\u001b[1mWARNING \u001b[0m | \u001b[36m__main__\u001b[0m:\u001b[36mfilter_symbols_fftcorr\u001b[0m:\u001b[36m47\u001b[0m - \u001b[33m\u001b[1mremoved 0 symbols  [231 / 231]\u001b[0m\n"
     ]
    },
    {
     "name": "stderr",
     "output_type": "stream",
     "text": [
      " 13%|█▎        | 8/60 [00:14<01:37,  1.87s/it]"
     ]
    },
    {
     "name": "stdout",
     "output_type": "stream",
     "text": [
      "\u001b[32m2020-04-14 15:50:11.606\u001b[0m | \u001b[33m\u001b[1mWARNING \u001b[0m | \u001b[36m__main__\u001b[0m:\u001b[36m<module>\u001b[0m:\u001b[36m6\u001b[0m - \u001b[33m\u001b[1mworking file DotPFile(id=8 | name='lora_BW1_SF10_915MHz_20ksps_Att0_d5.p')\u001b[0m\n",
      "\u001b[32m2020-04-14 15:50:11.608\u001b[0m | \u001b[34m\u001b[1mDEBUG   \u001b[0m | \u001b[36mlorapy.datafile.encoding\u001b[0m:\u001b[36mcompute_params\u001b[0m:\u001b[36m15\u001b[0m - \u001b[34m\u001b[1mcomputed samples per symbol: 19198 and packet length: 580739\u001b[0m\n",
      "\u001b[32m2020-04-14 15:50:11.750\u001b[0m | \u001b[1mINFO    \u001b[0m | \u001b[36mlorapy.datafile._base_file\u001b[0m:\u001b[36mload\u001b[0m:\u001b[36m61\u001b[0m - \u001b[1mloaded 8024764 samples from file\u001b[0m\n"
     ]
    },
    {
     "data": {
      "text/plain": [
       "BaselineSymbolSet(num symbols=418 | BW: 1 | SF: 10 | Att: 0 | samples per symbol: 19198 | packet length: 580739)"
      ]
     },
     "metadata": {},
     "output_type": "display_data"
    },
    {
     "name": "stdout",
     "output_type": "stream",
     "text": [
      "\u001b[32m2020-04-14 15:50:11.754\u001b[0m | \u001b[34m\u001b[1mDEBUG   \u001b[0m | \u001b[36mlorapy.datafile.encoding\u001b[0m:\u001b[36mcompute_params\u001b[0m:\u001b[36m15\u001b[0m - \u001b[34m\u001b[1mcomputed samples per symbol: 19198 and packet length: 580739\u001b[0m\n",
      "\u001b[32m2020-04-14 15:50:11.756\u001b[0m | \u001b[1mINFO    \u001b[0m | \u001b[36mlorapy.datafile._base_file\u001b[0m:\u001b[36mload\u001b[0m:\u001b[36m61\u001b[0m - \u001b[1mloaded 19197 samples from file\u001b[0m\n"
     ]
    },
    {
     "data": {
      "text/plain": [
       "BaselineSymbolSet(num symbols=19197 | BW: 1 | SF: 10 | Att: 0 | samples per symbol: 19198 | packet length: 580739)"
      ]
     },
     "metadata": {},
     "output_type": "display_data"
    },
    {
     "name": "stdout",
     "output_type": "stream",
     "text": [
      "\u001b[32m2020-04-14 15:50:11.758\u001b[0m | \u001b[33m\u001b[1mWARNING \u001b[0m | \u001b[36m__main__\u001b[0m:\u001b[36m_mp_compute_corr\u001b[0m:\u001b[36m13\u001b[0m - \u001b[33m\u001b[1mbeginning multiprocessing..\u001b[0m\n",
      "\u001b[32m2020-04-14 15:50:12.497\u001b[0m | \u001b[33m\u001b[1mWARNING \u001b[0m | \u001b[36m__main__\u001b[0m:\u001b[36m_mp_compute_corr\u001b[0m:\u001b[36m19\u001b[0m - \u001b[33m\u001b[1mcompleted multiprocessing\u001b[0m\n",
      "\u001b[32m2020-04-14 15:50:12.501\u001b[0m | \u001b[1mINFO    \u001b[0m | \u001b[36m__main__\u001b[0m:\u001b[36mfilter_symbols_fftcorr\u001b[0m:\u001b[36m41\u001b[0m - \u001b[1mset threshold: 67.394086\u001b[0m\n",
      "\u001b[32m2020-04-14 15:50:12.534\u001b[0m | \u001b[33m\u001b[1mWARNING \u001b[0m | \u001b[36m__main__\u001b[0m:\u001b[36mfilter_symbols_fftcorr\u001b[0m:\u001b[36m47\u001b[0m - \u001b[33m\u001b[1mremoved 6 symbols  [412 / 418]\u001b[0m\n"
     ]
    },
    {
     "name": "stderr",
     "output_type": "stream",
     "text": [
      " 15%|█▌        | 9/60 [00:15<01:22,  1.62s/it]"
     ]
    },
    {
     "name": "stdout",
     "output_type": "stream",
     "text": [
      "\u001b[32m2020-04-14 15:50:12.641\u001b[0m | \u001b[33m\u001b[1mWARNING \u001b[0m | \u001b[36m__main__\u001b[0m:\u001b[36m<module>\u001b[0m:\u001b[36m6\u001b[0m - \u001b[33m\u001b[1mworking file DotPFile(id=9 | name='lora_BW7_SF10_915MHz_20ksps_Att0_d5.p')\u001b[0m\n",
      "\u001b[32m2020-04-14 15:50:12.642\u001b[0m | \u001b[34m\u001b[1mDEBUG   \u001b[0m | \u001b[36mlorapy.datafile.encoding\u001b[0m:\u001b[36mcompute_params\u001b[0m:\u001b[36m15\u001b[0m - \u001b[34m\u001b[1mcomputed samples per symbol: 1599 and packet length: 48369\u001b[0m\n",
      "\u001b[32m2020-04-14 15:50:12.783\u001b[0m | \u001b[1mINFO    \u001b[0m | \u001b[36mlorapy.datafile._base_file\u001b[0m:\u001b[36mload\u001b[0m:\u001b[36m61\u001b[0m - \u001b[1mloaded 7456137 samples from file\u001b[0m\n"
     ]
    },
    {
     "data": {
      "text/plain": [
       "BaselineSymbolSet(num symbols=4663 | BW: 7 | SF: 10 | Att: 0 | samples per symbol: 1599 | packet length: 48369)"
      ]
     },
     "metadata": {},
     "output_type": "display_data"
    },
    {
     "name": "stdout",
     "output_type": "stream",
     "text": [
      "\u001b[32m2020-04-14 15:50:12.788\u001b[0m | \u001b[34m\u001b[1mDEBUG   \u001b[0m | \u001b[36mlorapy.datafile.encoding\u001b[0m:\u001b[36mcompute_params\u001b[0m:\u001b[36m15\u001b[0m - \u001b[34m\u001b[1mcomputed samples per symbol: 1599 and packet length: 48369\u001b[0m\n",
      "\u001b[32m2020-04-14 15:50:12.790\u001b[0m | \u001b[1mINFO    \u001b[0m | \u001b[36mlorapy.datafile._base_file\u001b[0m:\u001b[36mload\u001b[0m:\u001b[36m61\u001b[0m - \u001b[1mloaded 1599 samples from file\u001b[0m\n"
     ]
    },
    {
     "data": {
      "text/plain": [
       "BaselineSymbolSet(num symbols=1599 | BW: 7 | SF: 10 | Att: 0 | samples per symbol: 1599 | packet length: 48369)"
      ]
     },
     "metadata": {},
     "output_type": "display_data"
    },
    {
     "name": "stdout",
     "output_type": "stream",
     "text": [
      "\u001b[32m2020-04-14 15:50:12.793\u001b[0m | \u001b[33m\u001b[1mWARNING \u001b[0m | \u001b[36m__main__\u001b[0m:\u001b[36m_mp_compute_corr\u001b[0m:\u001b[36m13\u001b[0m - \u001b[33m\u001b[1mbeginning multiprocessing..\u001b[0m\n",
      "\u001b[32m2020-04-14 15:50:14.374\u001b[0m | \u001b[33m\u001b[1mWARNING \u001b[0m | \u001b[36m__main__\u001b[0m:\u001b[36m_mp_compute_corr\u001b[0m:\u001b[36m19\u001b[0m - \u001b[33m\u001b[1mcompleted multiprocessing\u001b[0m\n",
      "\u001b[32m2020-04-14 15:50:14.378\u001b[0m | \u001b[1mINFO    \u001b[0m | \u001b[36m__main__\u001b[0m:\u001b[36mfilter_symbols_fftcorr\u001b[0m:\u001b[36m41\u001b[0m - \u001b[1mset threshold: 0.501138\u001b[0m\n",
      "\u001b[32m2020-04-14 15:50:14.411\u001b[0m | \u001b[33m\u001b[1mWARNING \u001b[0m | \u001b[36m__main__\u001b[0m:\u001b[36mfilter_symbols_fftcorr\u001b[0m:\u001b[36m47\u001b[0m - \u001b[33m\u001b[1mremoved 460 symbols  [4203 / 4663]\u001b[0m\n"
     ]
    },
    {
     "name": "stderr",
     "output_type": "stream",
     "text": [
      " 17%|█▋        | 10/60 [00:17<01:24,  1.69s/it]"
     ]
    },
    {
     "name": "stdout",
     "output_type": "stream",
     "text": [
      "\u001b[32m2020-04-14 15:50:14.505\u001b[0m | \u001b[33m\u001b[1mWARNING \u001b[0m | \u001b[36m__main__\u001b[0m:\u001b[36m<module>\u001b[0m:\u001b[36m6\u001b[0m - \u001b[33m\u001b[1mworking file DotPFile(id=10 | name='lora_BW2_SF12_915MHz_20ksps_Att0_d5.p')\u001b[0m\n",
      "\u001b[32m2020-04-14 15:50:14.506\u001b[0m | \u001b[34m\u001b[1mDEBUG   \u001b[0m | \u001b[36mlorapy.datafile.encoding\u001b[0m:\u001b[36mcompute_params\u001b[0m:\u001b[36m15\u001b[0m - \u001b[34m\u001b[1mcomputed samples per symbol: 51197 and packet length: 1548709\u001b[0m\n",
      "\u001b[32m2020-04-14 15:50:14.679\u001b[0m | \u001b[1mINFO    \u001b[0m | \u001b[36mlorapy.datafile._base_file\u001b[0m:\u001b[36mload\u001b[0m:\u001b[36m61\u001b[0m - \u001b[1mloaded 7730747 samples from file\u001b[0m\n"
     ]
    },
    {
     "data": {
      "text/plain": [
       "BaselineSymbolSet(num symbols=151 | BW: 2 | SF: 12 | Att: 0 | samples per symbol: 51197 | packet length: 1548709)"
      ]
     },
     "metadata": {},
     "output_type": "display_data"
    },
    {
     "name": "stdout",
     "output_type": "stream",
     "text": [
      "\u001b[32m2020-04-14 15:50:14.683\u001b[0m | \u001b[34m\u001b[1mDEBUG   \u001b[0m | \u001b[36mlorapy.datafile.encoding\u001b[0m:\u001b[36mcompute_params\u001b[0m:\u001b[36m15\u001b[0m - \u001b[34m\u001b[1mcomputed samples per symbol: 51197 and packet length: 1548709\u001b[0m\n",
      "\u001b[32m2020-04-14 15:50:14.685\u001b[0m | \u001b[1mINFO    \u001b[0m | \u001b[36mlorapy.datafile._base_file\u001b[0m:\u001b[36mload\u001b[0m:\u001b[36m61\u001b[0m - \u001b[1mloaded 51197 samples from file\u001b[0m\n"
     ]
    },
    {
     "data": {
      "text/plain": [
       "BaselineSymbolSet(num symbols=51197 | BW: 2 | SF: 12 | Att: 0 | samples per symbol: 51197 | packet length: 1548709)"
      ]
     },
     "metadata": {},
     "output_type": "display_data"
    },
    {
     "name": "stdout",
     "output_type": "stream",
     "text": [
      "\u001b[32m2020-04-14 15:50:14.687\u001b[0m | \u001b[33m\u001b[1mWARNING \u001b[0m | \u001b[36m__main__\u001b[0m:\u001b[36m_mp_compute_corr\u001b[0m:\u001b[36m13\u001b[0m - \u001b[33m\u001b[1mbeginning multiprocessing..\u001b[0m\n",
      "\u001b[32m2020-04-14 15:50:15.689\u001b[0m | \u001b[33m\u001b[1mWARNING \u001b[0m | \u001b[36m__main__\u001b[0m:\u001b[36m_mp_compute_corr\u001b[0m:\u001b[36m19\u001b[0m - \u001b[33m\u001b[1mcompleted multiprocessing\u001b[0m\n",
      "\u001b[32m2020-04-14 15:50:15.692\u001b[0m | \u001b[1mINFO    \u001b[0m | \u001b[36m__main__\u001b[0m:\u001b[36mfilter_symbols_fftcorr\u001b[0m:\u001b[36m41\u001b[0m - \u001b[1mset threshold: 75.649133\u001b[0m\n",
      "\u001b[32m2020-04-14 15:50:15.721\u001b[0m | \u001b[33m\u001b[1mWARNING \u001b[0m | \u001b[36m__main__\u001b[0m:\u001b[36mfilter_symbols_fftcorr\u001b[0m:\u001b[36m47\u001b[0m - \u001b[33m\u001b[1mremoved 4 symbols  [147 / 151]\u001b[0m\n"
     ]
    },
    {
     "name": "stderr",
     "output_type": "stream",
     "text": [
      " 18%|█▊        | 11/60 [00:18<01:17,  1.58s/it]"
     ]
    },
    {
     "name": "stdout",
     "output_type": "stream",
     "text": [
      "\u001b[32m2020-04-14 15:50:15.821\u001b[0m | \u001b[33m\u001b[1mWARNING \u001b[0m | \u001b[36m__main__\u001b[0m:\u001b[36m<module>\u001b[0m:\u001b[36m6\u001b[0m - \u001b[33m\u001b[1mworking file DotPFile(id=11 | name='lora_BW8_SF12_915MHz_20ksps_Att0_d5.p')\u001b[0m\n",
      "\u001b[32m2020-04-14 15:50:15.822\u001b[0m | \u001b[34m\u001b[1mDEBUG   \u001b[0m | \u001b[36mlorapy.datafile.encoding\u001b[0m:\u001b[36mcompute_params\u001b[0m:\u001b[36m15\u001b[0m - \u001b[34m\u001b[1mcomputed samples per symbol: 3198 and packet length: 96739\u001b[0m\n",
      "\u001b[32m2020-04-14 15:50:16.092\u001b[0m | \u001b[1mINFO    \u001b[0m | \u001b[36mlorapy.datafile._base_file\u001b[0m:\u001b[36mload\u001b[0m:\u001b[36m61\u001b[0m - \u001b[1mloaded 7387380 samples from file\u001b[0m\n"
     ]
    },
    {
     "data": {
      "text/plain": [
       "BaselineSymbolSet(num symbols=2310 | BW: 8 | SF: 12 | Att: 0 | samples per symbol: 3198 | packet length: 96739)"
      ]
     },
     "metadata": {},
     "output_type": "display_data"
    },
    {
     "name": "stdout",
     "output_type": "stream",
     "text": [
      "\u001b[32m2020-04-14 15:50:16.096\u001b[0m | \u001b[34m\u001b[1mDEBUG   \u001b[0m | \u001b[36mlorapy.datafile.encoding\u001b[0m:\u001b[36mcompute_params\u001b[0m:\u001b[36m15\u001b[0m - \u001b[34m\u001b[1mcomputed samples per symbol: 3198 and packet length: 96739\u001b[0m\n",
      "\u001b[32m2020-04-14 15:50:16.097\u001b[0m | \u001b[1mINFO    \u001b[0m | \u001b[36mlorapy.datafile._base_file\u001b[0m:\u001b[36mload\u001b[0m:\u001b[36m61\u001b[0m - \u001b[1mloaded 3198 samples from file\u001b[0m\n"
     ]
    },
    {
     "data": {
      "text/plain": [
       "BaselineSymbolSet(num symbols=3198 | BW: 8 | SF: 12 | Att: 0 | samples per symbol: 3198 | packet length: 96739)"
      ]
     },
     "metadata": {},
     "output_type": "display_data"
    },
    {
     "name": "stdout",
     "output_type": "stream",
     "text": [
      "\u001b[32m2020-04-14 15:50:16.100\u001b[0m | \u001b[33m\u001b[1mWARNING \u001b[0m | \u001b[36m__main__\u001b[0m:\u001b[36m_mp_compute_corr\u001b[0m:\u001b[36m13\u001b[0m - \u001b[33m\u001b[1mbeginning multiprocessing..\u001b[0m\n",
      "\u001b[32m2020-04-14 15:50:17.024\u001b[0m | \u001b[33m\u001b[1mWARNING \u001b[0m | \u001b[36m__main__\u001b[0m:\u001b[36m_mp_compute_corr\u001b[0m:\u001b[36m19\u001b[0m - \u001b[33m\u001b[1mcompleted multiprocessing\u001b[0m\n",
      "\u001b[32m2020-04-14 15:50:17.027\u001b[0m | \u001b[1mINFO    \u001b[0m | \u001b[36m__main__\u001b[0m:\u001b[36mfilter_symbols_fftcorr\u001b[0m:\u001b[36m41\u001b[0m - \u001b[1mset threshold: 0.958024\u001b[0m\n",
      "\u001b[32m2020-04-14 15:50:17.092\u001b[0m | \u001b[33m\u001b[1mWARNING \u001b[0m | \u001b[36m__main__\u001b[0m:\u001b[36mfilter_symbols_fftcorr\u001b[0m:\u001b[36m47\u001b[0m - \u001b[33m\u001b[1mremoved 0 symbols  [2310 / 2310]\u001b[0m\n"
     ]
    },
    {
     "name": "stderr",
     "output_type": "stream",
     "text": [
      " 20%|██        | 12/60 [00:19<01:15,  1.56s/it]"
     ]
    },
    {
     "name": "stdout",
     "output_type": "stream",
     "text": [
      "\u001b[32m2020-04-14 15:50:17.342\u001b[0m | \u001b[33m\u001b[1mWARNING \u001b[0m | \u001b[36m__main__\u001b[0m:\u001b[36m<module>\u001b[0m:\u001b[36m6\u001b[0m - \u001b[33m\u001b[1mworking file DotPFile(id=12 | name='lora_BW7_SF11_915MHz_20ksps_Att0_d5.p')\u001b[0m\n",
      "\u001b[32m2020-04-14 15:50:17.343\u001b[0m | \u001b[34m\u001b[1mDEBUG   \u001b[0m | \u001b[36mlorapy.datafile.encoding\u001b[0m:\u001b[36mcompute_params\u001b[0m:\u001b[36m15\u001b[0m - \u001b[34m\u001b[1mcomputed samples per symbol: 3198 and packet length: 96739\u001b[0m\n",
      "\u001b[32m2020-04-14 15:50:17.490\u001b[0m | \u001b[1mINFO    \u001b[0m | \u001b[36mlorapy.datafile._base_file\u001b[0m:\u001b[36mload\u001b[0m:\u001b[36m61\u001b[0m - \u001b[1mloaded 7803120 samples from file\u001b[0m\n"
     ]
    },
    {
     "data": {
      "text/plain": [
       "BaselineSymbolSet(num symbols=2440 | BW: 7 | SF: 11 | Att: 0 | samples per symbol: 3198 | packet length: 96739)"
      ]
     },
     "metadata": {},
     "output_type": "display_data"
    },
    {
     "name": "stdout",
     "output_type": "stream",
     "text": [
      "\u001b[32m2020-04-14 15:50:17.495\u001b[0m | \u001b[34m\u001b[1mDEBUG   \u001b[0m | \u001b[36mlorapy.datafile.encoding\u001b[0m:\u001b[36mcompute_params\u001b[0m:\u001b[36m15\u001b[0m - \u001b[34m\u001b[1mcomputed samples per symbol: 3198 and packet length: 96739\u001b[0m\n",
      "\u001b[32m2020-04-14 15:50:17.496\u001b[0m | \u001b[1mINFO    \u001b[0m | \u001b[36mlorapy.datafile._base_file\u001b[0m:\u001b[36mload\u001b[0m:\u001b[36m61\u001b[0m - \u001b[1mloaded 3198 samples from file\u001b[0m\n"
     ]
    },
    {
     "data": {
      "text/plain": [
       "BaselineSymbolSet(num symbols=3198 | BW: 7 | SF: 11 | Att: 0 | samples per symbol: 3198 | packet length: 96739)"
      ]
     },
     "metadata": {},
     "output_type": "display_data"
    },
    {
     "name": "stdout",
     "output_type": "stream",
     "text": [
      "\u001b[32m2020-04-14 15:50:17.499\u001b[0m | \u001b[33m\u001b[1mWARNING \u001b[0m | \u001b[36m__main__\u001b[0m:\u001b[36m_mp_compute_corr\u001b[0m:\u001b[36m13\u001b[0m - \u001b[33m\u001b[1mbeginning multiprocessing..\u001b[0m\n",
      "\u001b[32m2020-04-14 15:50:18.338\u001b[0m | \u001b[33m\u001b[1mWARNING \u001b[0m | \u001b[36m__main__\u001b[0m:\u001b[36m_mp_compute_corr\u001b[0m:\u001b[36m19\u001b[0m - \u001b[33m\u001b[1mcompleted multiprocessing\u001b[0m\n",
      "\u001b[32m2020-04-14 15:50:18.341\u001b[0m | \u001b[1mINFO    \u001b[0m | \u001b[36m__main__\u001b[0m:\u001b[36mfilter_symbols_fftcorr\u001b[0m:\u001b[36m41\u001b[0m - \u001b[1mset threshold: 0.964806\u001b[0m\n",
      "\u001b[32m2020-04-14 15:50:18.382\u001b[0m | \u001b[33m\u001b[1mWARNING \u001b[0m | \u001b[36m__main__\u001b[0m:\u001b[36mfilter_symbols_fftcorr\u001b[0m:\u001b[36m47\u001b[0m - \u001b[33m\u001b[1mremoved 0 symbols  [2440 / 2440]\u001b[0m\n"
     ]
    },
    {
     "name": "stderr",
     "output_type": "stream",
     "text": [
      " 22%|██▏       | 13/60 [00:21<01:07,  1.44s/it]"
     ]
    },
    {
     "name": "stdout",
     "output_type": "stream",
     "text": [
      "\u001b[32m2020-04-14 15:50:18.484\u001b[0m | \u001b[33m\u001b[1mWARNING \u001b[0m | \u001b[36m__main__\u001b[0m:\u001b[36m<module>\u001b[0m:\u001b[36m6\u001b[0m - \u001b[33m\u001b[1mworking file DotPFile(id=13 | name='lora_BW2_SF11_915MHz_20ksps_Att0_d5.p')\u001b[0m\n",
      "\u001b[32m2020-04-14 15:50:18.485\u001b[0m | \u001b[34m\u001b[1mDEBUG   \u001b[0m | \u001b[36mlorapy.datafile.encoding\u001b[0m:\u001b[36mcompute_params\u001b[0m:\u001b[36m15\u001b[0m - \u001b[34m\u001b[1mcomputed samples per symbol: 25604 and packet length: 774521\u001b[0m\n",
      "\u001b[32m2020-04-14 15:50:18.635\u001b[0m | \u001b[1mINFO    \u001b[0m | \u001b[36mlorapy.datafile._base_file\u001b[0m:\u001b[36mload\u001b[0m:\u001b[36m61\u001b[0m - \u001b[1mloaded 8167676 samples from file\u001b[0m\n"
     ]
    },
    {
     "data": {
      "text/plain": [
       "BaselineSymbolSet(num symbols=319 | BW: 2 | SF: 11 | Att: 0 | samples per symbol: 25604 | packet length: 774521)"
      ]
     },
     "metadata": {},
     "output_type": "display_data"
    },
    {
     "name": "stdout",
     "output_type": "stream",
     "text": [
      "\u001b[32m2020-04-14 15:50:18.639\u001b[0m | \u001b[34m\u001b[1mDEBUG   \u001b[0m | \u001b[36mlorapy.datafile.encoding\u001b[0m:\u001b[36mcompute_params\u001b[0m:\u001b[36m15\u001b[0m - \u001b[34m\u001b[1mcomputed samples per symbol: 25604 and packet length: 774521\u001b[0m\n",
      "\u001b[32m2020-04-14 15:50:18.641\u001b[0m | \u001b[1mINFO    \u001b[0m | \u001b[36mlorapy.datafile._base_file\u001b[0m:\u001b[36mload\u001b[0m:\u001b[36m61\u001b[0m - \u001b[1mloaded 25603 samples from file\u001b[0m\n"
     ]
    },
    {
     "data": {
      "text/plain": [
       "BaselineSymbolSet(num symbols=25603 | BW: 2 | SF: 11 | Att: 0 | samples per symbol: 25604 | packet length: 774521)"
      ]
     },
     "metadata": {},
     "output_type": "display_data"
    },
    {
     "name": "stdout",
     "output_type": "stream",
     "text": [
      "\u001b[32m2020-04-14 15:50:18.643\u001b[0m | \u001b[33m\u001b[1mWARNING \u001b[0m | \u001b[36m__main__\u001b[0m:\u001b[36m_mp_compute_corr\u001b[0m:\u001b[36m13\u001b[0m - \u001b[33m\u001b[1mbeginning multiprocessing..\u001b[0m\n",
      "\u001b[32m2020-04-14 15:50:19.557\u001b[0m | \u001b[33m\u001b[1mWARNING \u001b[0m | \u001b[36m__main__\u001b[0m:\u001b[36m_mp_compute_corr\u001b[0m:\u001b[36m19\u001b[0m - \u001b[33m\u001b[1mcompleted multiprocessing\u001b[0m\n",
      "\u001b[32m2020-04-14 15:50:19.560\u001b[0m | \u001b[1mINFO    \u001b[0m | \u001b[36m__main__\u001b[0m:\u001b[36mfilter_symbols_fftcorr\u001b[0m:\u001b[36m41\u001b[0m - \u001b[1mset threshold: 54.169830\u001b[0m\n",
      "\u001b[32m2020-04-14 15:50:19.589\u001b[0m | \u001b[33m\u001b[1mWARNING \u001b[0m | \u001b[36m__main__\u001b[0m:\u001b[36mfilter_symbols_fftcorr\u001b[0m:\u001b[36m47\u001b[0m - \u001b[33m\u001b[1mremoved 0 symbols  [319 / 319]\u001b[0m\n"
     ]
    },
    {
     "name": "stderr",
     "output_type": "stream",
     "text": [
      " 23%|██▎       | 14/60 [00:22<01:02,  1.37s/it]"
     ]
    },
    {
     "name": "stdout",
     "output_type": "stream",
     "text": [
      "\u001b[32m2020-04-14 15:50:19.696\u001b[0m | \u001b[33m\u001b[1mWARNING \u001b[0m | \u001b[36m__main__\u001b[0m:\u001b[36m<module>\u001b[0m:\u001b[36m6\u001b[0m - \u001b[33m\u001b[1mworking file DotPFile(id=14 | name='lora_BW2_SF10_915MHz_20ksps_Att0_d5.p')\u001b[0m\n",
      "\u001b[32m2020-04-14 15:50:19.697\u001b[0m | \u001b[34m\u001b[1mDEBUG   \u001b[0m | \u001b[36mlorapy.datafile.encoding\u001b[0m:\u001b[36mcompute_params\u001b[0m:\u001b[36m15\u001b[0m - \u001b[34m\u001b[1mcomputed samples per symbol: 12802 and packet length: 387260\u001b[0m\n",
      "\u001b[32m2020-04-14 15:50:19.845\u001b[0m | \u001b[1mINFO    \u001b[0m | \u001b[36mlorapy.datafile._base_file\u001b[0m:\u001b[36mload\u001b[0m:\u001b[36m61\u001b[0m - \u001b[1mloaded 7950042 samples from file\u001b[0m\n"
     ]
    },
    {
     "data": {
      "text/plain": [
       "BaselineSymbolSet(num symbols=621 | BW: 2 | SF: 10 | Att: 0 | samples per symbol: 12802 | packet length: 387260)"
      ]
     },
     "metadata": {},
     "output_type": "display_data"
    },
    {
     "name": "stdout",
     "output_type": "stream",
     "text": [
      "\u001b[32m2020-04-14 15:50:19.849\u001b[0m | \u001b[34m\u001b[1mDEBUG   \u001b[0m | \u001b[36mlorapy.datafile.encoding\u001b[0m:\u001b[36mcompute_params\u001b[0m:\u001b[36m15\u001b[0m - \u001b[34m\u001b[1mcomputed samples per symbol: 12802 and packet length: 387260\u001b[0m\n",
      "\u001b[32m2020-04-14 15:50:19.851\u001b[0m | \u001b[1mINFO    \u001b[0m | \u001b[36mlorapy.datafile._base_file\u001b[0m:\u001b[36mload\u001b[0m:\u001b[36m61\u001b[0m - \u001b[1mloaded 12801 samples from file\u001b[0m\n"
     ]
    },
    {
     "data": {
      "text/plain": [
       "BaselineSymbolSet(num symbols=12801 | BW: 2 | SF: 10 | Att: 0 | samples per symbol: 12802 | packet length: 387260)"
      ]
     },
     "metadata": {},
     "output_type": "display_data"
    },
    {
     "name": "stdout",
     "output_type": "stream",
     "text": [
      "\u001b[32m2020-04-14 15:50:19.853\u001b[0m | \u001b[33m\u001b[1mWARNING \u001b[0m | \u001b[36m__main__\u001b[0m:\u001b[36m_mp_compute_corr\u001b[0m:\u001b[36m13\u001b[0m - \u001b[33m\u001b[1mbeginning multiprocessing..\u001b[0m\n",
      "\u001b[32m2020-04-14 15:50:20.815\u001b[0m | \u001b[33m\u001b[1mWARNING \u001b[0m | \u001b[36m__main__\u001b[0m:\u001b[36m_mp_compute_corr\u001b[0m:\u001b[36m19\u001b[0m - \u001b[33m\u001b[1mcompleted multiprocessing\u001b[0m\n",
      "\u001b[32m2020-04-14 15:50:20.818\u001b[0m | \u001b[1mINFO    \u001b[0m | \u001b[36m__main__\u001b[0m:\u001b[36mfilter_symbols_fftcorr\u001b[0m:\u001b[36m41\u001b[0m - \u001b[1mset threshold: 29.688782\u001b[0m\n",
      "\u001b[32m2020-04-14 15:50:20.847\u001b[0m | \u001b[33m\u001b[1mWARNING \u001b[0m | \u001b[36m__main__\u001b[0m:\u001b[36mfilter_symbols_fftcorr\u001b[0m:\u001b[36m47\u001b[0m - \u001b[33m\u001b[1mremoved 1 symbols  [620 / 621]\u001b[0m\n"
     ]
    },
    {
     "name": "stderr",
     "output_type": "stream",
     "text": [
      " 25%|██▌       | 15/60 [00:23<01:00,  1.33s/it]"
     ]
    },
    {
     "name": "stdout",
     "output_type": "stream",
     "text": [
      "\u001b[32m2020-04-14 15:50:20.946\u001b[0m | \u001b[33m\u001b[1mWARNING \u001b[0m | \u001b[36m__main__\u001b[0m:\u001b[36m<module>\u001b[0m:\u001b[36m6\u001b[0m - \u001b[33m\u001b[1mworking file DotPFile(id=15 | name='lora_BW8_SF12_915MHz_20ksps_Att0_d2.p')\u001b[0m\n",
      "\u001b[32m2020-04-14 15:50:20.947\u001b[0m | \u001b[34m\u001b[1mDEBUG   \u001b[0m | \u001b[36mlorapy.datafile.encoding\u001b[0m:\u001b[36mcompute_params\u001b[0m:\u001b[36m15\u001b[0m - \u001b[34m\u001b[1mcomputed samples per symbol: 3198 and packet length: 96739\u001b[0m\n",
      "\u001b[32m2020-04-14 15:50:21.292\u001b[0m | \u001b[1mINFO    \u001b[0m | \u001b[36mlorapy.datafile._base_file\u001b[0m:\u001b[36mload\u001b[0m:\u001b[36m61\u001b[0m - \u001b[1mloaded 7253064 samples from file\u001b[0m\n"
     ]
    },
    {
     "data": {
      "text/plain": [
       "BaselineSymbolSet(num symbols=2268 | BW: 8 | SF: 12 | Att: 0 | samples per symbol: 3198 | packet length: 96739)"
      ]
     },
     "metadata": {},
     "output_type": "display_data"
    },
    {
     "name": "stdout",
     "output_type": "stream",
     "text": [
      "\u001b[32m2020-04-14 15:50:21.295\u001b[0m | \u001b[34m\u001b[1mDEBUG   \u001b[0m | \u001b[36mlorapy.datafile.encoding\u001b[0m:\u001b[36mcompute_params\u001b[0m:\u001b[36m15\u001b[0m - \u001b[34m\u001b[1mcomputed samples per symbol: 3198 and packet length: 96739\u001b[0m\n",
      "\u001b[32m2020-04-14 15:50:21.296\u001b[0m | \u001b[1mINFO    \u001b[0m | \u001b[36mlorapy.datafile._base_file\u001b[0m:\u001b[36mload\u001b[0m:\u001b[36m61\u001b[0m - \u001b[1mloaded 3198 samples from file\u001b[0m\n"
     ]
    },
    {
     "data": {
      "text/plain": [
       "BaselineSymbolSet(num symbols=3198 | BW: 8 | SF: 12 | Att: 0 | samples per symbol: 3198 | packet length: 96739)"
      ]
     },
     "metadata": {},
     "output_type": "display_data"
    },
    {
     "name": "stdout",
     "output_type": "stream",
     "text": [
      "\u001b[32m2020-04-14 15:50:21.299\u001b[0m | \u001b[33m\u001b[1mWARNING \u001b[0m | \u001b[36m__main__\u001b[0m:\u001b[36m_mp_compute_corr\u001b[0m:\u001b[36m13\u001b[0m - \u001b[33m\u001b[1mbeginning multiprocessing..\u001b[0m\n",
      "\u001b[32m2020-04-14 15:50:22.251\u001b[0m | \u001b[33m\u001b[1mWARNING \u001b[0m | \u001b[36m__main__\u001b[0m:\u001b[36m_mp_compute_corr\u001b[0m:\u001b[36m19\u001b[0m - \u001b[33m\u001b[1mcompleted multiprocessing\u001b[0m\n",
      "\u001b[32m2020-04-14 15:50:22.253\u001b[0m | \u001b[1mINFO    \u001b[0m | \u001b[36m__main__\u001b[0m:\u001b[36mfilter_symbols_fftcorr\u001b[0m:\u001b[36m41\u001b[0m - \u001b[1mset threshold: 0.115338\u001b[0m\n",
      "\u001b[32m2020-04-14 15:50:22.319\u001b[0m | \u001b[33m\u001b[1mWARNING \u001b[0m | \u001b[36m__main__\u001b[0m:\u001b[36mfilter_symbols_fftcorr\u001b[0m:\u001b[36m47\u001b[0m - \u001b[33m\u001b[1mremoved 97 symbols  [2171 / 2268]\u001b[0m\n"
     ]
    },
    {
     "name": "stderr",
     "output_type": "stream",
     "text": [
      " 27%|██▋       | 16/60 [00:25<01:02,  1.41s/it]"
     ]
    },
    {
     "name": "stdout",
     "output_type": "stream",
     "text": [
      "\u001b[32m2020-04-14 15:50:22.547\u001b[0m | \u001b[33m\u001b[1mWARNING \u001b[0m | \u001b[36m__main__\u001b[0m:\u001b[36m<module>\u001b[0m:\u001b[36m6\u001b[0m - \u001b[33m\u001b[1mworking file DotPFile(id=16 | name='lora_BW1_SF10_915MHz_20ksps_Att0_d2.p')\u001b[0m\n",
      "\u001b[32m2020-04-14 15:50:22.548\u001b[0m | \u001b[34m\u001b[1mDEBUG   \u001b[0m | \u001b[36mlorapy.datafile.encoding\u001b[0m:\u001b[36mcompute_params\u001b[0m:\u001b[36m15\u001b[0m - \u001b[34m\u001b[1mcomputed samples per symbol: 19198 and packet length: 580739\u001b[0m\n",
      "\u001b[32m2020-04-14 15:50:22.718\u001b[0m | \u001b[1mINFO    \u001b[0m | \u001b[36mlorapy.datafile._base_file\u001b[0m:\u001b[36mload\u001b[0m:\u001b[36m61\u001b[0m - \u001b[1mloaded 8370328 samples from file\u001b[0m\n"
     ]
    },
    {
     "data": {
      "text/plain": [
       "BaselineSymbolSet(num symbols=436 | BW: 1 | SF: 10 | Att: 0 | samples per symbol: 19198 | packet length: 580739)"
      ]
     },
     "metadata": {},
     "output_type": "display_data"
    },
    {
     "name": "stdout",
     "output_type": "stream",
     "text": [
      "\u001b[32m2020-04-14 15:50:22.722\u001b[0m | \u001b[34m\u001b[1mDEBUG   \u001b[0m | \u001b[36mlorapy.datafile.encoding\u001b[0m:\u001b[36mcompute_params\u001b[0m:\u001b[36m15\u001b[0m - \u001b[34m\u001b[1mcomputed samples per symbol: 19198 and packet length: 580739\u001b[0m\n",
      "\u001b[32m2020-04-14 15:50:22.723\u001b[0m | \u001b[1mINFO    \u001b[0m | \u001b[36mlorapy.datafile._base_file\u001b[0m:\u001b[36mload\u001b[0m:\u001b[36m61\u001b[0m - \u001b[1mloaded 19197 samples from file\u001b[0m\n"
     ]
    },
    {
     "data": {
      "text/plain": [
       "BaselineSymbolSet(num symbols=19197 | BW: 1 | SF: 10 | Att: 0 | samples per symbol: 19198 | packet length: 580739)"
      ]
     },
     "metadata": {},
     "output_type": "display_data"
    },
    {
     "name": "stdout",
     "output_type": "stream",
     "text": [
      "\u001b[32m2020-04-14 15:50:22.726\u001b[0m | \u001b[33m\u001b[1mWARNING \u001b[0m | \u001b[36m__main__\u001b[0m:\u001b[36m_mp_compute_corr\u001b[0m:\u001b[36m13\u001b[0m - \u001b[33m\u001b[1mbeginning multiprocessing..\u001b[0m\n",
      "\u001b[32m2020-04-14 15:50:23.659\u001b[0m | \u001b[33m\u001b[1mWARNING \u001b[0m | \u001b[36m__main__\u001b[0m:\u001b[36m_mp_compute_corr\u001b[0m:\u001b[36m19\u001b[0m - \u001b[33m\u001b[1mcompleted multiprocessing\u001b[0m\n",
      "\u001b[32m2020-04-14 15:50:23.663\u001b[0m | \u001b[1mINFO    \u001b[0m | \u001b[36m__main__\u001b[0m:\u001b[36mfilter_symbols_fftcorr\u001b[0m:\u001b[36m41\u001b[0m - \u001b[1mset threshold: 5.564612\u001b[0m\n",
      "\u001b[32m2020-04-14 15:50:23.700\u001b[0m | \u001b[33m\u001b[1mWARNING \u001b[0m | \u001b[36m__main__\u001b[0m:\u001b[36mfilter_symbols_fftcorr\u001b[0m:\u001b[36m47\u001b[0m - \u001b[33m\u001b[1mremoved 50 symbols  [386 / 436]\u001b[0m\n"
     ]
    },
    {
     "name": "stderr",
     "output_type": "stream",
     "text": [
      " 28%|██▊       | 17/60 [00:26<00:59,  1.37s/it]"
     ]
    },
    {
     "name": "stdout",
     "output_type": "stream",
     "text": [
      "\u001b[32m2020-04-14 15:50:23.825\u001b[0m | \u001b[33m\u001b[1mWARNING \u001b[0m | \u001b[36m__main__\u001b[0m:\u001b[36m<module>\u001b[0m:\u001b[36m6\u001b[0m - \u001b[33m\u001b[1mworking file DotPFile(id=17 | name='lora_BW9_SF11_915MHz_20ksps_Att0_d2.p')\u001b[0m\n",
      "\u001b[32m2020-04-14 15:50:23.826\u001b[0m | \u001b[34m\u001b[1mDEBUG   \u001b[0m | \u001b[36mlorapy.datafile.encoding\u001b[0m:\u001b[36mcompute_params\u001b[0m:\u001b[36m15\u001b[0m - \u001b[34m\u001b[1mcomputed samples per symbol: 800 and packet length: 24200\u001b[0m\n",
      "\u001b[32m2020-04-14 15:50:24.256\u001b[0m | \u001b[1mINFO    \u001b[0m | \u001b[36mlorapy.datafile._base_file\u001b[0m:\u001b[36mload\u001b[0m:\u001b[36m61\u001b[0m - \u001b[1mloaded 7792800 samples from file\u001b[0m\n"
     ]
    },
    {
     "data": {
      "text/plain": [
       "BaselineSymbolSet(num symbols=9741 | BW: 9 | SF: 11 | Att: 0 | samples per symbol: 800 | packet length: 24200)"
      ]
     },
     "metadata": {},
     "output_type": "display_data"
    },
    {
     "name": "stdout",
     "output_type": "stream",
     "text": [
      "\u001b[32m2020-04-14 15:50:24.260\u001b[0m | \u001b[34m\u001b[1mDEBUG   \u001b[0m | \u001b[36mlorapy.datafile.encoding\u001b[0m:\u001b[36mcompute_params\u001b[0m:\u001b[36m15\u001b[0m - \u001b[34m\u001b[1mcomputed samples per symbol: 800 and packet length: 24200\u001b[0m\n",
      "\u001b[32m2020-04-14 15:50:24.261\u001b[0m | \u001b[1mINFO    \u001b[0m | \u001b[36mlorapy.datafile._base_file\u001b[0m:\u001b[36mload\u001b[0m:\u001b[36m61\u001b[0m - \u001b[1mloaded 799 samples from file\u001b[0m\n"
     ]
    },
    {
     "data": {
      "text/plain": [
       "BaselineSymbolSet(num symbols=799 | BW: 9 | SF: 11 | Att: 0 | samples per symbol: 800 | packet length: 24200)"
      ]
     },
     "metadata": {},
     "output_type": "display_data"
    },
    {
     "name": "stdout",
     "output_type": "stream",
     "text": [
      "\u001b[32m2020-04-14 15:50:24.264\u001b[0m | \u001b[33m\u001b[1mWARNING \u001b[0m | \u001b[36m__main__\u001b[0m:\u001b[36m_mp_compute_corr\u001b[0m:\u001b[36m13\u001b[0m - \u001b[33m\u001b[1mbeginning multiprocessing..\u001b[0m\n",
      "\u001b[32m2020-04-14 15:50:26.094\u001b[0m | \u001b[33m\u001b[1mWARNING \u001b[0m | \u001b[36m__main__\u001b[0m:\u001b[36m_mp_compute_corr\u001b[0m:\u001b[36m19\u001b[0m - \u001b[33m\u001b[1mcompleted multiprocessing\u001b[0m\n",
      "\u001b[32m2020-04-14 15:50:26.099\u001b[0m | \u001b[1mINFO    \u001b[0m | \u001b[36m__main__\u001b[0m:\u001b[36mfilter_symbols_fftcorr\u001b[0m:\u001b[36m41\u001b[0m - \u001b[1mset threshold: 0.002357\u001b[0m\n",
      "\u001b[32m2020-04-14 15:50:26.179\u001b[0m | \u001b[33m\u001b[1mWARNING \u001b[0m | \u001b[36m__main__\u001b[0m:\u001b[36mfilter_symbols_fftcorr\u001b[0m:\u001b[36m47\u001b[0m - \u001b[33m\u001b[1mremoved 3321 symbols  [6420 / 9741]\u001b[0m\n"
     ]
    },
    {
     "name": "stderr",
     "output_type": "stream",
     "text": [
      " 30%|███       | 18/60 [00:28<01:11,  1.71s/it]"
     ]
    },
    {
     "name": "stdout",
     "output_type": "stream",
     "text": [
      "\u001b[32m2020-04-14 15:50:26.328\u001b[0m | \u001b[33m\u001b[1mWARNING \u001b[0m | \u001b[36m__main__\u001b[0m:\u001b[36m<module>\u001b[0m:\u001b[36m6\u001b[0m - \u001b[33m\u001b[1mworking file DotPFile(id=18 | name='lora_BW8_SF11_915MHz_20ksps_Att0_d2.p')\u001b[0m\n",
      "\u001b[32m2020-04-14 15:50:26.330\u001b[0m | \u001b[34m\u001b[1mDEBUG   \u001b[0m | \u001b[36mlorapy.datafile.encoding\u001b[0m:\u001b[36mcompute_params\u001b[0m:\u001b[36m15\u001b[0m - \u001b[34m\u001b[1mcomputed samples per symbol: 1599 and packet length: 48369\u001b[0m\n",
      "\u001b[32m2020-04-14 15:50:26.483\u001b[0m | \u001b[1mINFO    \u001b[0m | \u001b[36mlorapy.datafile._base_file\u001b[0m:\u001b[36mload\u001b[0m:\u001b[36m61\u001b[0m - \u001b[1mloaded 7668804 samples from file\u001b[0m\n"
     ]
    },
    {
     "data": {
      "text/plain": [
       "BaselineSymbolSet(num symbols=4796 | BW: 8 | SF: 11 | Att: 0 | samples per symbol: 1599 | packet length: 48369)"
      ]
     },
     "metadata": {},
     "output_type": "display_data"
    },
    {
     "name": "stdout",
     "output_type": "stream",
     "text": [
      "\u001b[32m2020-04-14 15:50:26.487\u001b[0m | \u001b[34m\u001b[1mDEBUG   \u001b[0m | \u001b[36mlorapy.datafile.encoding\u001b[0m:\u001b[36mcompute_params\u001b[0m:\u001b[36m15\u001b[0m - \u001b[34m\u001b[1mcomputed samples per symbol: 1599 and packet length: 48369\u001b[0m\n",
      "\u001b[32m2020-04-14 15:50:26.488\u001b[0m | \u001b[1mINFO    \u001b[0m | \u001b[36mlorapy.datafile._base_file\u001b[0m:\u001b[36mload\u001b[0m:\u001b[36m61\u001b[0m - \u001b[1mloaded 1599 samples from file\u001b[0m\n"
     ]
    },
    {
     "data": {
      "text/plain": [
       "BaselineSymbolSet(num symbols=1599 | BW: 8 | SF: 11 | Att: 0 | samples per symbol: 1599 | packet length: 48369)"
      ]
     },
     "metadata": {},
     "output_type": "display_data"
    },
    {
     "name": "stdout",
     "output_type": "stream",
     "text": [
      "\u001b[32m2020-04-14 15:50:26.491\u001b[0m | \u001b[33m\u001b[1mWARNING \u001b[0m | \u001b[36m__main__\u001b[0m:\u001b[36m_mp_compute_corr\u001b[0m:\u001b[36m13\u001b[0m - \u001b[33m\u001b[1mbeginning multiprocessing..\u001b[0m\n",
      "\u001b[32m2020-04-14 15:50:28.061\u001b[0m | \u001b[33m\u001b[1mWARNING \u001b[0m | \u001b[36m__main__\u001b[0m:\u001b[36m_mp_compute_corr\u001b[0m:\u001b[36m19\u001b[0m - \u001b[33m\u001b[1mcompleted multiprocessing\u001b[0m\n",
      "\u001b[32m2020-04-14 15:50:28.065\u001b[0m | \u001b[1mINFO    \u001b[0m | \u001b[36m__main__\u001b[0m:\u001b[36mfilter_symbols_fftcorr\u001b[0m:\u001b[36m41\u001b[0m - \u001b[1mset threshold: 0.035497\u001b[0m\n",
      "\u001b[32m2020-04-14 15:50:28.118\u001b[0m | \u001b[33m\u001b[1mWARNING \u001b[0m | \u001b[36m__main__\u001b[0m:\u001b[36mfilter_symbols_fftcorr\u001b[0m:\u001b[36m47\u001b[0m - \u001b[33m\u001b[1mremoved 471 symbols  [4325 / 4796]\u001b[0m\n"
     ]
    },
    {
     "name": "stderr",
     "output_type": "stream",
     "text": [
      " 32%|███▏      | 19/60 [00:30<01:12,  1.77s/it]"
     ]
    },
    {
     "name": "stdout",
     "output_type": "stream",
     "text": [
      "\u001b[32m2020-04-14 15:50:28.238\u001b[0m | \u001b[33m\u001b[1mWARNING \u001b[0m | \u001b[36m__main__\u001b[0m:\u001b[36m<module>\u001b[0m:\u001b[36m6\u001b[0m - \u001b[33m\u001b[1mworking file DotPFile(id=19 | name='lora_BW7_SF10_915MHz_20ksps_Att0_d2.p')\u001b[0m\n",
      "\u001b[32m2020-04-14 15:50:28.239\u001b[0m | \u001b[34m\u001b[1mDEBUG   \u001b[0m | \u001b[36mlorapy.datafile.encoding\u001b[0m:\u001b[36mcompute_params\u001b[0m:\u001b[36m15\u001b[0m - \u001b[34m\u001b[1mcomputed samples per symbol: 1599 and packet length: 48369\u001b[0m\n",
      "\u001b[32m2020-04-14 15:50:28.471\u001b[0m | \u001b[1mINFO    \u001b[0m | \u001b[36mlorapy.datafile._base_file\u001b[0m:\u001b[36mload\u001b[0m:\u001b[36m61\u001b[0m - \u001b[1mloaded 8529066 samples from file\u001b[0m\n"
     ]
    },
    {
     "data": {
      "text/plain": [
       "BaselineSymbolSet(num symbols=5334 | BW: 7 | SF: 10 | Att: 0 | samples per symbol: 1599 | packet length: 48369)"
      ]
     },
     "metadata": {},
     "output_type": "display_data"
    },
    {
     "name": "stdout",
     "output_type": "stream",
     "text": [
      "\u001b[32m2020-04-14 15:50:28.476\u001b[0m | \u001b[34m\u001b[1mDEBUG   \u001b[0m | \u001b[36mlorapy.datafile.encoding\u001b[0m:\u001b[36mcompute_params\u001b[0m:\u001b[36m15\u001b[0m - \u001b[34m\u001b[1mcomputed samples per symbol: 1599 and packet length: 48369\u001b[0m\n",
      "\u001b[32m2020-04-14 15:50:28.477\u001b[0m | \u001b[1mINFO    \u001b[0m | \u001b[36mlorapy.datafile._base_file\u001b[0m:\u001b[36mload\u001b[0m:\u001b[36m61\u001b[0m - \u001b[1mloaded 1599 samples from file\u001b[0m\n"
     ]
    },
    {
     "data": {
      "text/plain": [
       "BaselineSymbolSet(num symbols=1599 | BW: 7 | SF: 10 | Att: 0 | samples per symbol: 1599 | packet length: 48369)"
      ]
     },
     "metadata": {},
     "output_type": "display_data"
    },
    {
     "name": "stdout",
     "output_type": "stream",
     "text": [
      "\u001b[32m2020-04-14 15:50:28.480\u001b[0m | \u001b[33m\u001b[1mWARNING \u001b[0m | \u001b[36m__main__\u001b[0m:\u001b[36m_mp_compute_corr\u001b[0m:\u001b[36m13\u001b[0m - \u001b[33m\u001b[1mbeginning multiprocessing..\u001b[0m\n",
      "\u001b[32m2020-04-14 15:50:30.261\u001b[0m | \u001b[33m\u001b[1mWARNING \u001b[0m | \u001b[36m__main__\u001b[0m:\u001b[36m_mp_compute_corr\u001b[0m:\u001b[36m19\u001b[0m - \u001b[33m\u001b[1mcompleted multiprocessing\u001b[0m\n",
      "\u001b[32m2020-04-14 15:50:30.266\u001b[0m | \u001b[1mINFO    \u001b[0m | \u001b[36m__main__\u001b[0m:\u001b[36mfilter_symbols_fftcorr\u001b[0m:\u001b[36m41\u001b[0m - \u001b[1mset threshold: 0.028963\u001b[0m\n",
      "\u001b[32m2020-04-14 15:50:30.301\u001b[0m | \u001b[33m\u001b[1mWARNING \u001b[0m | \u001b[36m__main__\u001b[0m:\u001b[36mfilter_symbols_fftcorr\u001b[0m:\u001b[36m47\u001b[0m - \u001b[33m\u001b[1mremoved 1439 symbols  [3895 / 5334]\u001b[0m\n"
     ]
    },
    {
     "name": "stderr",
     "output_type": "stream",
     "text": [
      " 33%|███▎      | 20/60 [00:33<01:15,  1.89s/it]"
     ]
    },
    {
     "name": "stdout",
     "output_type": "stream",
     "text": [
      "\u001b[32m2020-04-14 15:50:30.389\u001b[0m | \u001b[33m\u001b[1mWARNING \u001b[0m | \u001b[36m__main__\u001b[0m:\u001b[36m<module>\u001b[0m:\u001b[36m6\u001b[0m - \u001b[33m\u001b[1mworking file DotPFile(id=20 | name='lora_BW7_SF11_915MHz_20ksps_Att0_d2.p')\u001b[0m\n",
      "\u001b[32m2020-04-14 15:50:30.390\u001b[0m | \u001b[34m\u001b[1mDEBUG   \u001b[0m | \u001b[36mlorapy.datafile.encoding\u001b[0m:\u001b[36mcompute_params\u001b[0m:\u001b[36m15\u001b[0m - \u001b[34m\u001b[1mcomputed samples per symbol: 3198 and packet length: 96739\u001b[0m\n",
      "\u001b[32m2020-04-14 15:50:30.547\u001b[0m | \u001b[1mINFO    \u001b[0m | \u001b[36mlorapy.datafile._base_file\u001b[0m:\u001b[36mload\u001b[0m:\u001b[36m61\u001b[0m - \u001b[1mloaded 7825506 samples from file\u001b[0m\n"
     ]
    },
    {
     "data": {
      "text/plain": [
       "BaselineSymbolSet(num symbols=2447 | BW: 7 | SF: 11 | Att: 0 | samples per symbol: 3198 | packet length: 96739)"
      ]
     },
     "metadata": {},
     "output_type": "display_data"
    },
    {
     "name": "stdout",
     "output_type": "stream",
     "text": [
      "\u001b[32m2020-04-14 15:50:30.551\u001b[0m | \u001b[34m\u001b[1mDEBUG   \u001b[0m | \u001b[36mlorapy.datafile.encoding\u001b[0m:\u001b[36mcompute_params\u001b[0m:\u001b[36m15\u001b[0m - \u001b[34m\u001b[1mcomputed samples per symbol: 3198 and packet length: 96739\u001b[0m\n",
      "\u001b[32m2020-04-14 15:50:30.552\u001b[0m | \u001b[1mINFO    \u001b[0m | \u001b[36mlorapy.datafile._base_file\u001b[0m:\u001b[36mload\u001b[0m:\u001b[36m61\u001b[0m - \u001b[1mloaded 3198 samples from file\u001b[0m\n"
     ]
    },
    {
     "data": {
      "text/plain": [
       "BaselineSymbolSet(num symbols=3198 | BW: 7 | SF: 11 | Att: 0 | samples per symbol: 3198 | packet length: 96739)"
      ]
     },
     "metadata": {},
     "output_type": "display_data"
    },
    {
     "name": "stdout",
     "output_type": "stream",
     "text": [
      "\u001b[32m2020-04-14 15:50:30.555\u001b[0m | \u001b[33m\u001b[1mWARNING \u001b[0m | \u001b[36m__main__\u001b[0m:\u001b[36m_mp_compute_corr\u001b[0m:\u001b[36m13\u001b[0m - \u001b[33m\u001b[1mbeginning multiprocessing..\u001b[0m\n",
      "\u001b[32m2020-04-14 15:50:31.470\u001b[0m | \u001b[33m\u001b[1mWARNING \u001b[0m | \u001b[36m__main__\u001b[0m:\u001b[36m_mp_compute_corr\u001b[0m:\u001b[36m19\u001b[0m - \u001b[33m\u001b[1mcompleted multiprocessing\u001b[0m\n",
      "\u001b[32m2020-04-14 15:50:31.474\u001b[0m | \u001b[1mINFO    \u001b[0m | \u001b[36m__main__\u001b[0m:\u001b[36mfilter_symbols_fftcorr\u001b[0m:\u001b[36m41\u001b[0m - \u001b[1mset threshold: 0.125928\u001b[0m\n",
      "\u001b[32m2020-04-14 15:50:31.510\u001b[0m | \u001b[33m\u001b[1mWARNING \u001b[0m | \u001b[36m__main__\u001b[0m:\u001b[36mfilter_symbols_fftcorr\u001b[0m:\u001b[36m47\u001b[0m - \u001b[33m\u001b[1mremoved 321 symbols  [2126 / 2447]\u001b[0m\n"
     ]
    },
    {
     "name": "stderr",
     "output_type": "stream",
     "text": [
      " 35%|███▌      | 21/60 [00:34<01:05,  1.68s/it]"
     ]
    },
    {
     "name": "stdout",
     "output_type": "stream",
     "text": [
      "\u001b[32m2020-04-14 15:50:31.605\u001b[0m | \u001b[33m\u001b[1mWARNING \u001b[0m | \u001b[36m__main__\u001b[0m:\u001b[36m<module>\u001b[0m:\u001b[36m6\u001b[0m - \u001b[33m\u001b[1mworking file DotPFile(id=21 | name='lora_BW8_SF10_915MHz_20ksps_Att0_d2.p')\u001b[0m\n",
      "\u001b[32m2020-04-14 15:50:31.606\u001b[0m | \u001b[34m\u001b[1mDEBUG   \u001b[0m | \u001b[36mlorapy.datafile.encoding\u001b[0m:\u001b[36mcompute_params\u001b[0m:\u001b[36m15\u001b[0m - \u001b[34m\u001b[1mcomputed samples per symbol: 800 and packet length: 24200\u001b[0m\n",
      "\u001b[32m2020-04-14 15:50:31.695\u001b[0m | \u001b[1mINFO    \u001b[0m | \u001b[36mlorapy.datafile._base_file\u001b[0m:\u001b[36mload\u001b[0m:\u001b[36m61\u001b[0m - \u001b[1mloaded 4422400 samples from file\u001b[0m\n"
     ]
    },
    {
     "data": {
      "text/plain": [
       "BaselineSymbolSet(num symbols=5528 | BW: 8 | SF: 10 | Att: 0 | samples per symbol: 800 | packet length: 24200)"
      ]
     },
     "metadata": {},
     "output_type": "display_data"
    },
    {
     "name": "stdout",
     "output_type": "stream",
     "text": [
      "\u001b[32m2020-04-14 15:50:31.700\u001b[0m | \u001b[34m\u001b[1mDEBUG   \u001b[0m | \u001b[36mlorapy.datafile.encoding\u001b[0m:\u001b[36mcompute_params\u001b[0m:\u001b[36m15\u001b[0m - \u001b[34m\u001b[1mcomputed samples per symbol: 800 and packet length: 24200\u001b[0m\n",
      "\u001b[32m2020-04-14 15:50:31.701\u001b[0m | \u001b[1mINFO    \u001b[0m | \u001b[36mlorapy.datafile._base_file\u001b[0m:\u001b[36mload\u001b[0m:\u001b[36m61\u001b[0m - \u001b[1mloaded 799 samples from file\u001b[0m\n"
     ]
    },
    {
     "data": {
      "text/plain": [
       "BaselineSymbolSet(num symbols=799 | BW: 8 | SF: 10 | Att: 0 | samples per symbol: 800 | packet length: 24200)"
      ]
     },
     "metadata": {},
     "output_type": "display_data"
    },
    {
     "name": "stdout",
     "output_type": "stream",
     "text": [
      "\u001b[32m2020-04-14 15:50:31.704\u001b[0m | \u001b[33m\u001b[1mWARNING \u001b[0m | \u001b[36m__main__\u001b[0m:\u001b[36m_mp_compute_corr\u001b[0m:\u001b[36m13\u001b[0m - \u001b[33m\u001b[1mbeginning multiprocessing..\u001b[0m\n",
      "\u001b[32m2020-04-14 15:50:32.661\u001b[0m | \u001b[33m\u001b[1mWARNING \u001b[0m | \u001b[36m__main__\u001b[0m:\u001b[36m_mp_compute_corr\u001b[0m:\u001b[36m19\u001b[0m - \u001b[33m\u001b[1mcompleted multiprocessing\u001b[0m\n",
      "\u001b[32m2020-04-14 15:50:32.665\u001b[0m | \u001b[1mINFO    \u001b[0m | \u001b[36m__main__\u001b[0m:\u001b[36mfilter_symbols_fftcorr\u001b[0m:\u001b[36m41\u001b[0m - \u001b[1mset threshold: 0.006851\u001b[0m\n",
      "\u001b[32m2020-04-14 15:50:32.691\u001b[0m | \u001b[33m\u001b[1mWARNING \u001b[0m | \u001b[36m__main__\u001b[0m:\u001b[36mfilter_symbols_fftcorr\u001b[0m:\u001b[36m47\u001b[0m - \u001b[33m\u001b[1mremoved 1154 symbols  [4374 / 5528]\u001b[0m\n"
     ]
    },
    {
     "name": "stderr",
     "output_type": "stream",
     "text": [
      " 37%|███▋      | 22/60 [00:35<00:57,  1.52s/it]"
     ]
    },
    {
     "name": "stdout",
     "output_type": "stream",
     "text": [
      "\u001b[32m2020-04-14 15:50:32.741\u001b[0m | \u001b[33m\u001b[1mWARNING \u001b[0m | \u001b[36m__main__\u001b[0m:\u001b[36m<module>\u001b[0m:\u001b[36m6\u001b[0m - \u001b[33m\u001b[1mworking file DotPFile(id=22 | name='lora_BW2_SF12_915MHz_20ksps_Att0_d2.p')\u001b[0m\n",
      "\u001b[32m2020-04-14 15:50:32.743\u001b[0m | \u001b[34m\u001b[1mDEBUG   \u001b[0m | \u001b[36mlorapy.datafile.encoding\u001b[0m:\u001b[36mcompute_params\u001b[0m:\u001b[36m15\u001b[0m - \u001b[34m\u001b[1mcomputed samples per symbol: 51197 and packet length: 1548709\u001b[0m\n",
      "\u001b[32m2020-04-14 15:50:33.040\u001b[0m | \u001b[1mINFO    \u001b[0m | \u001b[36mlorapy.datafile._base_file\u001b[0m:\u001b[36mload\u001b[0m:\u001b[36m61\u001b[0m - \u001b[1mloaded 6758004 samples from file\u001b[0m\n"
     ]
    },
    {
     "data": {
      "text/plain": [
       "BaselineSymbolSet(num symbols=132 | BW: 2 | SF: 12 | Att: 0 | samples per symbol: 51197 | packet length: 1548709)"
      ]
     },
     "metadata": {},
     "output_type": "display_data"
    },
    {
     "name": "stdout",
     "output_type": "stream",
     "text": [
      "\u001b[32m2020-04-14 15:50:33.045\u001b[0m | \u001b[34m\u001b[1mDEBUG   \u001b[0m | \u001b[36mlorapy.datafile.encoding\u001b[0m:\u001b[36mcompute_params\u001b[0m:\u001b[36m15\u001b[0m - \u001b[34m\u001b[1mcomputed samples per symbol: 51197 and packet length: 1548709\u001b[0m\n",
      "\u001b[32m2020-04-14 15:50:33.046\u001b[0m | \u001b[1mINFO    \u001b[0m | \u001b[36mlorapy.datafile._base_file\u001b[0m:\u001b[36mload\u001b[0m:\u001b[36m61\u001b[0m - \u001b[1mloaded 51197 samples from file\u001b[0m\n"
     ]
    },
    {
     "data": {
      "text/plain": [
       "BaselineSymbolSet(num symbols=51197 | BW: 2 | SF: 12 | Att: 0 | samples per symbol: 51197 | packet length: 1548709)"
      ]
     },
     "metadata": {},
     "output_type": "display_data"
    },
    {
     "name": "stdout",
     "output_type": "stream",
     "text": [
      "\u001b[32m2020-04-14 15:50:33.048\u001b[0m | \u001b[33m\u001b[1mWARNING \u001b[0m | \u001b[36m__main__\u001b[0m:\u001b[36m_mp_compute_corr\u001b[0m:\u001b[36m13\u001b[0m - \u001b[33m\u001b[1mbeginning multiprocessing..\u001b[0m\n",
      "\u001b[32m2020-04-14 15:50:34.372\u001b[0m | \u001b[33m\u001b[1mWARNING \u001b[0m | \u001b[36m__main__\u001b[0m:\u001b[36m_mp_compute_corr\u001b[0m:\u001b[36m19\u001b[0m - \u001b[33m\u001b[1mcompleted multiprocessing\u001b[0m\n",
      "\u001b[32m2020-04-14 15:50:34.376\u001b[0m | \u001b[1mINFO    \u001b[0m | \u001b[36m__main__\u001b[0m:\u001b[36mfilter_symbols_fftcorr\u001b[0m:\u001b[36m41\u001b[0m - \u001b[1mset threshold: 27.806710\u001b[0m\n",
      "\u001b[32m2020-04-14 15:50:34.427\u001b[0m | \u001b[33m\u001b[1mWARNING \u001b[0m | \u001b[36m__main__\u001b[0m:\u001b[36mfilter_symbols_fftcorr\u001b[0m:\u001b[36m47\u001b[0m - \u001b[33m\u001b[1mremoved 5 symbols  [127 / 132]\u001b[0m\n"
     ]
    },
    {
     "name": "stderr",
     "output_type": "stream",
     "text": [
      " 38%|███▊      | 23/60 [00:37<00:59,  1.62s/it]"
     ]
    },
    {
     "name": "stdout",
     "output_type": "stream",
     "text": [
      "\u001b[32m2020-04-14 15:50:34.594\u001b[0m | \u001b[33m\u001b[1mWARNING \u001b[0m | \u001b[36m__main__\u001b[0m:\u001b[36m<module>\u001b[0m:\u001b[36m6\u001b[0m - \u001b[33m\u001b[1mworking file DotPFile(id=23 | name='lora_BW7_SF12_915MHz_20ksps_Att0_d2.p')\u001b[0m\n",
      "\u001b[32m2020-04-14 15:50:34.596\u001b[0m | \u001b[34m\u001b[1mDEBUG   \u001b[0m | \u001b[36mlorapy.datafile.encoding\u001b[0m:\u001b[36mcompute_params\u001b[0m:\u001b[36m15\u001b[0m - \u001b[34m\u001b[1mcomputed samples per symbol: 6386 and packet length: 193176\u001b[0m\n",
      "\u001b[32m2020-04-14 15:50:34.858\u001b[0m | \u001b[1mINFO    \u001b[0m | \u001b[36mlorapy.datafile._base_file\u001b[0m:\u001b[36mload\u001b[0m:\u001b[36m61\u001b[0m - \u001b[1mloaded 7267268 samples from file\u001b[0m\n"
     ]
    },
    {
     "data": {
      "text/plain": [
       "BaselineSymbolSet(num symbols=1138 | BW: 7 | SF: 12 | Att: 0 | samples per symbol: 6386 | packet length: 193176)"
      ]
     },
     "metadata": {},
     "output_type": "display_data"
    },
    {
     "name": "stdout",
     "output_type": "stream",
     "text": [
      "\u001b[32m2020-04-14 15:50:34.863\u001b[0m | \u001b[34m\u001b[1mDEBUG   \u001b[0m | \u001b[36mlorapy.datafile.encoding\u001b[0m:\u001b[36mcompute_params\u001b[0m:\u001b[36m15\u001b[0m - \u001b[34m\u001b[1mcomputed samples per symbol: 6386 and packet length: 193176\u001b[0m\n",
      "\u001b[32m2020-04-14 15:50:34.864\u001b[0m | \u001b[1mINFO    \u001b[0m | \u001b[36mlorapy.datafile._base_file\u001b[0m:\u001b[36mload\u001b[0m:\u001b[36m61\u001b[0m - \u001b[1mloaded 6386 samples from file\u001b[0m\n"
     ]
    },
    {
     "data": {
      "text/plain": [
       "BaselineSymbolSet(num symbols=6386 | BW: 7 | SF: 12 | Att: 0 | samples per symbol: 6386 | packet length: 193176)"
      ]
     },
     "metadata": {},
     "output_type": "display_data"
    },
    {
     "name": "stdout",
     "output_type": "stream",
     "text": [
      "\u001b[32m2020-04-14 15:50:34.866\u001b[0m | \u001b[33m\u001b[1mWARNING \u001b[0m | \u001b[36m__main__\u001b[0m:\u001b[36m_mp_compute_corr\u001b[0m:\u001b[36m13\u001b[0m - \u001b[33m\u001b[1mbeginning multiprocessing..\u001b[0m\n",
      "\u001b[32m2020-04-14 15:50:35.841\u001b[0m | \u001b[33m\u001b[1mWARNING \u001b[0m | \u001b[36m__main__\u001b[0m:\u001b[36m_mp_compute_corr\u001b[0m:\u001b[36m19\u001b[0m - \u001b[33m\u001b[1mcompleted multiprocessing\u001b[0m\n",
      "\u001b[32m2020-04-14 15:50:35.845\u001b[0m | \u001b[1mINFO    \u001b[0m | \u001b[36m__main__\u001b[0m:\u001b[36mfilter_symbols_fftcorr\u001b[0m:\u001b[36m41\u001b[0m - \u001b[1mset threshold: 0.187962\u001b[0m\n",
      "\u001b[32m2020-04-14 15:50:35.897\u001b[0m | \u001b[33m\u001b[1mWARNING \u001b[0m | \u001b[36m__main__\u001b[0m:\u001b[36mfilter_symbols_fftcorr\u001b[0m:\u001b[36m47\u001b[0m - \u001b[33m\u001b[1mremoved 122 symbols  [1016 / 1138]\u001b[0m\n"
     ]
    },
    {
     "name": "stderr",
     "output_type": "stream",
     "text": [
      " 40%|████      | 24/60 [00:38<00:56,  1.57s/it]"
     ]
    },
    {
     "name": "stdout",
     "output_type": "stream",
     "text": [
      "\u001b[32m2020-04-14 15:50:36.061\u001b[0m | \u001b[33m\u001b[1mWARNING \u001b[0m | \u001b[36m__main__\u001b[0m:\u001b[36m<module>\u001b[0m:\u001b[36m6\u001b[0m - \u001b[33m\u001b[1mworking file DotPFile(id=24 | name='lora_BW9_SF12_915MHz_20ksps_Att0_d2.p')\u001b[0m\n",
      "\u001b[32m2020-04-14 15:50:36.063\u001b[0m | \u001b[34m\u001b[1mDEBUG   \u001b[0m | \u001b[36mlorapy.datafile.encoding\u001b[0m:\u001b[36mcompute_params\u001b[0m:\u001b[36m15\u001b[0m - \u001b[34m\u001b[1mcomputed samples per symbol: 1599 and packet length: 48369\u001b[0m\n",
      "\u001b[32m2020-04-14 15:50:36.204\u001b[0m | \u001b[1mINFO    \u001b[0m | \u001b[36mlorapy.datafile._base_file\u001b[0m:\u001b[36mload\u001b[0m:\u001b[36m61\u001b[0m - \u001b[1mloaded 7499310 samples from file\u001b[0m\n"
     ]
    },
    {
     "data": {
      "text/plain": [
       "BaselineSymbolSet(num symbols=4690 | BW: 9 | SF: 12 | Att: 0 | samples per symbol: 1599 | packet length: 48369)"
      ]
     },
     "metadata": {},
     "output_type": "display_data"
    },
    {
     "name": "stdout",
     "output_type": "stream",
     "text": [
      "\u001b[32m2020-04-14 15:50:36.208\u001b[0m | \u001b[34m\u001b[1mDEBUG   \u001b[0m | \u001b[36mlorapy.datafile.encoding\u001b[0m:\u001b[36mcompute_params\u001b[0m:\u001b[36m15\u001b[0m - \u001b[34m\u001b[1mcomputed samples per symbol: 1599 and packet length: 48369\u001b[0m\n",
      "\u001b[32m2020-04-14 15:50:36.209\u001b[0m | \u001b[1mINFO    \u001b[0m | \u001b[36mlorapy.datafile._base_file\u001b[0m:\u001b[36mload\u001b[0m:\u001b[36m61\u001b[0m - \u001b[1mloaded 1599 samples from file\u001b[0m\n"
     ]
    },
    {
     "data": {
      "text/plain": [
       "BaselineSymbolSet(num symbols=1599 | BW: 9 | SF: 12 | Att: 0 | samples per symbol: 1599 | packet length: 48369)"
      ]
     },
     "metadata": {},
     "output_type": "display_data"
    },
    {
     "name": "stdout",
     "output_type": "stream",
     "text": [
      "\u001b[32m2020-04-14 15:50:36.212\u001b[0m | \u001b[33m\u001b[1mWARNING \u001b[0m | \u001b[36m__main__\u001b[0m:\u001b[36m_mp_compute_corr\u001b[0m:\u001b[36m13\u001b[0m - \u001b[33m\u001b[1mbeginning multiprocessing..\u001b[0m\n",
      "\u001b[32m2020-04-14 15:50:37.794\u001b[0m | \u001b[33m\u001b[1mWARNING \u001b[0m | \u001b[36m__main__\u001b[0m:\u001b[36m_mp_compute_corr\u001b[0m:\u001b[36m19\u001b[0m - \u001b[33m\u001b[1mcompleted multiprocessing\u001b[0m\n",
      "\u001b[32m2020-04-14 15:50:37.798\u001b[0m | \u001b[1mINFO    \u001b[0m | \u001b[36m__main__\u001b[0m:\u001b[36mfilter_symbols_fftcorr\u001b[0m:\u001b[36m41\u001b[0m - \u001b[1mset threshold: 0.008609\u001b[0m\n",
      "\u001b[32m2020-04-14 15:50:37.838\u001b[0m | \u001b[33m\u001b[1mWARNING \u001b[0m | \u001b[36m__main__\u001b[0m:\u001b[36mfilter_symbols_fftcorr\u001b[0m:\u001b[36m47\u001b[0m - \u001b[33m\u001b[1mremoved 1256 symbols  [3434 / 4690]\u001b[0m\n"
     ]
    },
    {
     "name": "stderr",
     "output_type": "stream",
     "text": [
      " 42%|████▏     | 25/60 [00:40<00:58,  1.66s/it]"
     ]
    },
    {
     "name": "stdout",
     "output_type": "stream",
     "text": [
      "\u001b[32m2020-04-14 15:50:37.917\u001b[0m | \u001b[33m\u001b[1mWARNING \u001b[0m | \u001b[36m__main__\u001b[0m:\u001b[36m<module>\u001b[0m:\u001b[36m6\u001b[0m - \u001b[33m\u001b[1mworking file DotPFile(id=25 | name='lora_BW1_SF11_915MHz_20ksps_Att0_d2.p')\u001b[0m\n",
      "\u001b[32m2020-04-14 15:50:37.918\u001b[0m | \u001b[34m\u001b[1mDEBUG   \u001b[0m | \u001b[36mlorapy.datafile.encoding\u001b[0m:\u001b[36mcompute_params\u001b[0m:\u001b[36m15\u001b[0m - \u001b[34m\u001b[1mcomputed samples per symbol: 38396 and packet length: 1161479\u001b[0m\n",
      "\u001b[32m2020-04-14 15:50:38.067\u001b[0m | \u001b[1mINFO    \u001b[0m | \u001b[36mlorapy.datafile._base_file\u001b[0m:\u001b[36mload\u001b[0m:\u001b[36m61\u001b[0m - \u001b[1mloaded 8024764 samples from file\u001b[0m\n"
     ]
    },
    {
     "data": {
      "text/plain": [
       "BaselineSymbolSet(num symbols=209 | BW: 1 | SF: 11 | Att: 0 | samples per symbol: 38396 | packet length: 1161479)"
      ]
     },
     "metadata": {},
     "output_type": "display_data"
    },
    {
     "name": "stdout",
     "output_type": "stream",
     "text": [
      "\u001b[32m2020-04-14 15:50:38.071\u001b[0m | \u001b[34m\u001b[1mDEBUG   \u001b[0m | \u001b[36mlorapy.datafile.encoding\u001b[0m:\u001b[36mcompute_params\u001b[0m:\u001b[36m15\u001b[0m - \u001b[34m\u001b[1mcomputed samples per symbol: 38396 and packet length: 1161479\u001b[0m\n",
      "\u001b[32m2020-04-14 15:50:38.072\u001b[0m | \u001b[1mINFO    \u001b[0m | \u001b[36mlorapy.datafile._base_file\u001b[0m:\u001b[36mload\u001b[0m:\u001b[36m61\u001b[0m - \u001b[1mloaded 38395 samples from file\u001b[0m\n"
     ]
    },
    {
     "data": {
      "text/plain": [
       "BaselineSymbolSet(num symbols=38395 | BW: 1 | SF: 11 | Att: 0 | samples per symbol: 38396 | packet length: 1161479)"
      ]
     },
     "metadata": {},
     "output_type": "display_data"
    },
    {
     "name": "stdout",
     "output_type": "stream",
     "text": [
      "\u001b[32m2020-04-14 15:50:38.074\u001b[0m | \u001b[33m\u001b[1mWARNING \u001b[0m | \u001b[36m__main__\u001b[0m:\u001b[36m_mp_compute_corr\u001b[0m:\u001b[36m13\u001b[0m - \u001b[33m\u001b[1mbeginning multiprocessing..\u001b[0m\n",
      "\u001b[32m2020-04-14 15:50:39.163\u001b[0m | \u001b[33m\u001b[1mWARNING \u001b[0m | \u001b[36m__main__\u001b[0m:\u001b[36m_mp_compute_corr\u001b[0m:\u001b[36m19\u001b[0m - \u001b[33m\u001b[1mcompleted multiprocessing\u001b[0m\n",
      "\u001b[32m2020-04-14 15:50:39.166\u001b[0m | \u001b[1mINFO    \u001b[0m | \u001b[36m__main__\u001b[0m:\u001b[36mfilter_symbols_fftcorr\u001b[0m:\u001b[36m41\u001b[0m - \u001b[1mset threshold: 10.313904\u001b[0m\n",
      "\u001b[32m2020-04-14 15:50:39.204\u001b[0m | \u001b[33m\u001b[1mWARNING \u001b[0m | \u001b[36m__main__\u001b[0m:\u001b[36mfilter_symbols_fftcorr\u001b[0m:\u001b[36m47\u001b[0m - \u001b[33m\u001b[1mremoved 14 symbols  [195 / 209]\u001b[0m\n"
     ]
    },
    {
     "name": "stderr",
     "output_type": "stream",
     "text": [
      " 43%|████▎     | 26/60 [00:41<00:53,  1.58s/it]"
     ]
    },
    {
     "name": "stdout",
     "output_type": "stream",
     "text": [
      "\u001b[32m2020-04-14 15:50:39.325\u001b[0m | \u001b[33m\u001b[1mWARNING \u001b[0m | \u001b[36m__main__\u001b[0m:\u001b[36m<module>\u001b[0m:\u001b[36m6\u001b[0m - \u001b[33m\u001b[1mworking file DotPFile(id=26 | name='lora_BW2_SF11_915MHz_20ksps_Att0_d2.p')\u001b[0m\n",
      "\u001b[32m2020-04-14 15:50:39.326\u001b[0m | \u001b[34m\u001b[1mDEBUG   \u001b[0m | \u001b[36mlorapy.datafile.encoding\u001b[0m:\u001b[36mcompute_params\u001b[0m:\u001b[36m15\u001b[0m - \u001b[34m\u001b[1mcomputed samples per symbol: 25604 and packet length: 774521\u001b[0m\n",
      "\u001b[32m2020-04-14 15:50:39.492\u001b[0m | \u001b[1mINFO    \u001b[0m | \u001b[36mlorapy.datafile._base_file\u001b[0m:\u001b[36mload\u001b[0m:\u001b[36m61\u001b[0m - \u001b[1mloaded 8679756 samples from file\u001b[0m\n"
     ]
    },
    {
     "data": {
      "text/plain": [
       "BaselineSymbolSet(num symbols=339 | BW: 2 | SF: 11 | Att: 0 | samples per symbol: 25604 | packet length: 774521)"
      ]
     },
     "metadata": {},
     "output_type": "display_data"
    },
    {
     "name": "stdout",
     "output_type": "stream",
     "text": [
      "\u001b[32m2020-04-14 15:50:39.497\u001b[0m | \u001b[34m\u001b[1mDEBUG   \u001b[0m | \u001b[36mlorapy.datafile.encoding\u001b[0m:\u001b[36mcompute_params\u001b[0m:\u001b[36m15\u001b[0m - \u001b[34m\u001b[1mcomputed samples per symbol: 25604 and packet length: 774521\u001b[0m\n",
      "\u001b[32m2020-04-14 15:50:39.498\u001b[0m | \u001b[1mINFO    \u001b[0m | \u001b[36mlorapy.datafile._base_file\u001b[0m:\u001b[36mload\u001b[0m:\u001b[36m61\u001b[0m - \u001b[1mloaded 25603 samples from file\u001b[0m\n"
     ]
    },
    {
     "data": {
      "text/plain": [
       "BaselineSymbolSet(num symbols=25603 | BW: 2 | SF: 11 | Att: 0 | samples per symbol: 25604 | packet length: 774521)"
      ]
     },
     "metadata": {},
     "output_type": "display_data"
    },
    {
     "name": "stdout",
     "output_type": "stream",
     "text": [
      "\u001b[32m2020-04-14 15:50:39.501\u001b[0m | \u001b[33m\u001b[1mWARNING \u001b[0m | \u001b[36m__main__\u001b[0m:\u001b[36m_mp_compute_corr\u001b[0m:\u001b[36m13\u001b[0m - \u001b[33m\u001b[1mbeginning multiprocessing..\u001b[0m\n",
      "\u001b[32m2020-04-14 15:50:40.678\u001b[0m | \u001b[33m\u001b[1mWARNING \u001b[0m | \u001b[36m__main__\u001b[0m:\u001b[36m_mp_compute_corr\u001b[0m:\u001b[36m19\u001b[0m - \u001b[33m\u001b[1mcompleted multiprocessing\u001b[0m\n",
      "\u001b[32m2020-04-14 15:50:40.681\u001b[0m | \u001b[1mINFO    \u001b[0m | \u001b[36m__main__\u001b[0m:\u001b[36mfilter_symbols_fftcorr\u001b[0m:\u001b[36m41\u001b[0m - \u001b[1mset threshold: 7.189995\u001b[0m\n",
      "\u001b[32m2020-04-14 15:50:40.715\u001b[0m | \u001b[33m\u001b[1mWARNING \u001b[0m | \u001b[36m__main__\u001b[0m:\u001b[36mfilter_symbols_fftcorr\u001b[0m:\u001b[36m47\u001b[0m - \u001b[33m\u001b[1mremoved 24 symbols  [315 / 339]\u001b[0m\n"
     ]
    },
    {
     "name": "stderr",
     "output_type": "stream",
     "text": [
      " 45%|████▌     | 27/60 [00:43<00:51,  1.56s/it]"
     ]
    },
    {
     "name": "stdout",
     "output_type": "stream",
     "text": [
      "\u001b[32m2020-04-14 15:50:40.821\u001b[0m | \u001b[33m\u001b[1mWARNING \u001b[0m | \u001b[36m__main__\u001b[0m:\u001b[36m<module>\u001b[0m:\u001b[36m6\u001b[0m - \u001b[33m\u001b[1mworking file DotPFile(id=27 | name='lora_BW9_SF10_915MHz_20ksps_Att0_d2.p')\u001b[0m\n",
      "\u001b[32m2020-04-14 15:50:40.822\u001b[0m | \u001b[34m\u001b[1mDEBUG   \u001b[0m | \u001b[36mlorapy.datafile.encoding\u001b[0m:\u001b[36mcompute_params\u001b[0m:\u001b[36m15\u001b[0m - \u001b[34m\u001b[1mcomputed samples per symbol: 400 and packet length: 12100\u001b[0m\n",
      "\u001b[32m2020-04-14 15:50:40.959\u001b[0m | \u001b[1mINFO    \u001b[0m | \u001b[36mlorapy.datafile._base_file\u001b[0m:\u001b[36mload\u001b[0m:\u001b[36m61\u001b[0m - \u001b[1mloaded 7200000 samples from file\u001b[0m\n"
     ]
    },
    {
     "data": {
      "text/plain": [
       "BaselineSymbolSet(num symbols=18000 | BW: 9 | SF: 10 | Att: 0 | samples per symbol: 400 | packet length: 12100)"
      ]
     },
     "metadata": {},
     "output_type": "display_data"
    },
    {
     "name": "stdout",
     "output_type": "stream",
     "text": [
      "\u001b[32m2020-04-14 15:50:40.962\u001b[0m | \u001b[34m\u001b[1mDEBUG   \u001b[0m | \u001b[36mlorapy.datafile.encoding\u001b[0m:\u001b[36mcompute_params\u001b[0m:\u001b[36m15\u001b[0m - \u001b[34m\u001b[1mcomputed samples per symbol: 400 and packet length: 12100\u001b[0m\n",
      "\u001b[32m2020-04-14 15:50:40.963\u001b[0m | \u001b[1mINFO    \u001b[0m | \u001b[36mlorapy.datafile._base_file\u001b[0m:\u001b[36mload\u001b[0m:\u001b[36m61\u001b[0m - \u001b[1mloaded 399 samples from file\u001b[0m\n"
     ]
    },
    {
     "data": {
      "text/plain": [
       "BaselineSymbolSet(num symbols=399 | BW: 9 | SF: 10 | Att: 0 | samples per symbol: 400 | packet length: 12100)"
      ]
     },
     "metadata": {},
     "output_type": "display_data"
    },
    {
     "name": "stdout",
     "output_type": "stream",
     "text": [
      "\u001b[32m2020-04-14 15:50:40.965\u001b[0m | \u001b[33m\u001b[1mWARNING \u001b[0m | \u001b[36m__main__\u001b[0m:\u001b[36m_mp_compute_corr\u001b[0m:\u001b[36m13\u001b[0m - \u001b[33m\u001b[1mbeginning multiprocessing..\u001b[0m\n",
      "\u001b[32m2020-04-14 15:50:42.303\u001b[0m | \u001b[33m\u001b[1mWARNING \u001b[0m | \u001b[36m__main__\u001b[0m:\u001b[36m_mp_compute_corr\u001b[0m:\u001b[36m19\u001b[0m - \u001b[33m\u001b[1mcompleted multiprocessing\u001b[0m\n",
      "\u001b[32m2020-04-14 15:50:42.309\u001b[0m | \u001b[1mINFO    \u001b[0m | \u001b[36m__main__\u001b[0m:\u001b[36mfilter_symbols_fftcorr\u001b[0m:\u001b[36m41\u001b[0m - \u001b[1mset threshold: 0.000400\u001b[0m\n",
      "\u001b[32m2020-04-14 15:50:42.349\u001b[0m | \u001b[33m\u001b[1mWARNING \u001b[0m | \u001b[36m__main__\u001b[0m:\u001b[36mfilter_symbols_fftcorr\u001b[0m:\u001b[36m47\u001b[0m - \u001b[33m\u001b[1mremoved 8217 symbols  [9783 / 18000]\u001b[0m\n"
     ]
    },
    {
     "name": "stderr",
     "output_type": "stream",
     "text": [
      " 47%|████▋     | 28/60 [00:45<00:50,  1.57s/it]"
     ]
    },
    {
     "name": "stdout",
     "output_type": "stream",
     "text": [
      "\u001b[32m2020-04-14 15:50:42.405\u001b[0m | \u001b[33m\u001b[1mWARNING \u001b[0m | \u001b[36m__main__\u001b[0m:\u001b[36m<module>\u001b[0m:\u001b[36m6\u001b[0m - \u001b[33m\u001b[1mworking file DotPFile(id=28 | name='lora_BW1_SF12_915MHz_20ksps_Att0_d2.p')\u001b[0m\n",
      "\u001b[32m2020-04-14 15:50:42.407\u001b[0m | \u001b[34m\u001b[1mDEBUG   \u001b[0m | \u001b[36mlorapy.datafile.encoding\u001b[0m:\u001b[36mcompute_params\u001b[0m:\u001b[36m15\u001b[0m - \u001b[34m\u001b[1mcomputed samples per symbol: 76801 and packet length: 2323230\u001b[0m\n",
      "\u001b[32m2020-04-14 15:50:42.783\u001b[0m | \u001b[1mINFO    \u001b[0m | \u001b[36mlorapy.datafile._base_file\u001b[0m:\u001b[36mload\u001b[0m:\u001b[36m61\u001b[0m - \u001b[1mloaded 8217707 samples from file\u001b[0m\n"
     ]
    },
    {
     "data": {
      "text/plain": [
       "BaselineSymbolSet(num symbols=107 | BW: 1 | SF: 12 | Att: 0 | samples per symbol: 76801 | packet length: 2323230)"
      ]
     },
     "metadata": {},
     "output_type": "display_data"
    },
    {
     "name": "stdout",
     "output_type": "stream",
     "text": [
      "\u001b[32m2020-04-14 15:50:42.787\u001b[0m | \u001b[34m\u001b[1mDEBUG   \u001b[0m | \u001b[36mlorapy.datafile.encoding\u001b[0m:\u001b[36mcompute_params\u001b[0m:\u001b[36m15\u001b[0m - \u001b[34m\u001b[1mcomputed samples per symbol: 76801 and packet length: 2323230\u001b[0m\n",
      "\u001b[32m2020-04-14 15:50:42.788\u001b[0m | \u001b[1mINFO    \u001b[0m | \u001b[36mlorapy.datafile._base_file\u001b[0m:\u001b[36mload\u001b[0m:\u001b[36m61\u001b[0m - \u001b[1mloaded 76800 samples from file\u001b[0m\n"
     ]
    },
    {
     "data": {
      "text/plain": [
       "BaselineSymbolSet(num symbols=76800 | BW: 1 | SF: 12 | Att: 0 | samples per symbol: 76801 | packet length: 2323230)"
      ]
     },
     "metadata": {},
     "output_type": "display_data"
    },
    {
     "name": "stdout",
     "output_type": "stream",
     "text": [
      "\u001b[32m2020-04-14 15:50:42.791\u001b[0m | \u001b[33m\u001b[1mWARNING \u001b[0m | \u001b[36m__main__\u001b[0m:\u001b[36m_mp_compute_corr\u001b[0m:\u001b[36m13\u001b[0m - \u001b[33m\u001b[1mbeginning multiprocessing..\u001b[0m\n",
      "\u001b[32m2020-04-14 15:50:44.605\u001b[0m | \u001b[33m\u001b[1mWARNING \u001b[0m | \u001b[36m__main__\u001b[0m:\u001b[36m_mp_compute_corr\u001b[0m:\u001b[36m19\u001b[0m - \u001b[33m\u001b[1mcompleted multiprocessing\u001b[0m\n",
      "\u001b[32m2020-04-14 15:50:44.608\u001b[0m | \u001b[1mINFO    \u001b[0m | \u001b[36m__main__\u001b[0m:\u001b[36mfilter_symbols_fftcorr\u001b[0m:\u001b[36m41\u001b[0m - \u001b[1mset threshold: 18.302035\u001b[0m\n",
      "\u001b[32m2020-04-14 15:50:44.676\u001b[0m | \u001b[33m\u001b[1mWARNING \u001b[0m | \u001b[36m__main__\u001b[0m:\u001b[36mfilter_symbols_fftcorr\u001b[0m:\u001b[36m47\u001b[0m - \u001b[33m\u001b[1mremoved 9 symbols  [98 / 107]\u001b[0m\n"
     ]
    },
    {
     "name": "stderr",
     "output_type": "stream",
     "text": [
      " 48%|████▊     | 29/60 [00:47<00:57,  1.85s/it]"
     ]
    },
    {
     "name": "stdout",
     "output_type": "stream",
     "text": [
      "\u001b[32m2020-04-14 15:50:44.915\u001b[0m | \u001b[33m\u001b[1mWARNING \u001b[0m | \u001b[36m__main__\u001b[0m:\u001b[36m<module>\u001b[0m:\u001b[36m6\u001b[0m - \u001b[33m\u001b[1mworking file DotPFile(id=29 | name='lora_BW2_SF10_915MHz_20ksps_Att0_d2.p')\u001b[0m\n",
      "\u001b[32m2020-04-14 15:50:44.916\u001b[0m | \u001b[34m\u001b[1mDEBUG   \u001b[0m | \u001b[36mlorapy.datafile.encoding\u001b[0m:\u001b[36mcompute_params\u001b[0m:\u001b[36m15\u001b[0m - \u001b[34m\u001b[1mcomputed samples per symbol: 12802 and packet length: 387260\u001b[0m\n",
      "\u001b[32m2020-04-14 15:50:45.300\u001b[0m | \u001b[1mINFO    \u001b[0m | \u001b[36mlorapy.datafile._base_file\u001b[0m:\u001b[36mload\u001b[0m:\u001b[36m61\u001b[0m - \u001b[1mloaded 8346904 samples from file\u001b[0m\n"
     ]
    },
    {
     "data": {
      "text/plain": [
       "BaselineSymbolSet(num symbols=652 | BW: 2 | SF: 10 | Att: 0 | samples per symbol: 12802 | packet length: 387260)"
      ]
     },
     "metadata": {},
     "output_type": "display_data"
    },
    {
     "name": "stdout",
     "output_type": "stream",
     "text": [
      "\u001b[32m2020-04-14 15:50:45.304\u001b[0m | \u001b[34m\u001b[1mDEBUG   \u001b[0m | \u001b[36mlorapy.datafile.encoding\u001b[0m:\u001b[36mcompute_params\u001b[0m:\u001b[36m15\u001b[0m - \u001b[34m\u001b[1mcomputed samples per symbol: 12802 and packet length: 387260\u001b[0m\n",
      "\u001b[32m2020-04-14 15:50:45.305\u001b[0m | \u001b[1mINFO    \u001b[0m | \u001b[36mlorapy.datafile._base_file\u001b[0m:\u001b[36mload\u001b[0m:\u001b[36m61\u001b[0m - \u001b[1mloaded 12801 samples from file\u001b[0m\n"
     ]
    },
    {
     "data": {
      "text/plain": [
       "BaselineSymbolSet(num symbols=12801 | BW: 2 | SF: 10 | Att: 0 | samples per symbol: 12802 | packet length: 387260)"
      ]
     },
     "metadata": {},
     "output_type": "display_data"
    },
    {
     "name": "stdout",
     "output_type": "stream",
     "text": [
      "\u001b[32m2020-04-14 15:50:45.308\u001b[0m | \u001b[33m\u001b[1mWARNING \u001b[0m | \u001b[36m__main__\u001b[0m:\u001b[36m_mp_compute_corr\u001b[0m:\u001b[36m13\u001b[0m - \u001b[33m\u001b[1mbeginning multiprocessing..\u001b[0m\n",
      "\u001b[32m2020-04-14 15:50:46.573\u001b[0m | \u001b[33m\u001b[1mWARNING \u001b[0m | \u001b[36m__main__\u001b[0m:\u001b[36m_mp_compute_corr\u001b[0m:\u001b[36m19\u001b[0m - \u001b[33m\u001b[1mcompleted multiprocessing\u001b[0m\n",
      "\u001b[32m2020-04-14 15:50:46.576\u001b[0m | \u001b[1mINFO    \u001b[0m | \u001b[36m__main__\u001b[0m:\u001b[36mfilter_symbols_fftcorr\u001b[0m:\u001b[36m41\u001b[0m - \u001b[1mset threshold: 4.291222\u001b[0m\n",
      "\u001b[32m2020-04-14 15:50:46.638\u001b[0m | \u001b[33m\u001b[1mWARNING \u001b[0m | \u001b[36m__main__\u001b[0m:\u001b[36mfilter_symbols_fftcorr\u001b[0m:\u001b[36m47\u001b[0m - \u001b[33m\u001b[1mremoved 46 symbols  [606 / 652]\u001b[0m\n"
     ]
    },
    {
     "name": "stderr",
     "output_type": "stream",
     "text": [
      " 50%|█████     | 30/60 [00:49<00:56,  1.87s/it]"
     ]
    },
    {
     "name": "stdout",
     "output_type": "stream",
     "text": [
      "\u001b[32m2020-04-14 15:50:46.840\u001b[0m | \u001b[33m\u001b[1mWARNING \u001b[0m | \u001b[36m__main__\u001b[0m:\u001b[36m<module>\u001b[0m:\u001b[36m6\u001b[0m - \u001b[33m\u001b[1mworking file DotPFile(id=30 | name='lora_BW7_SF12_915MHz_20ksps_Att0_d4.p')\u001b[0m\n",
      "\u001b[32m2020-04-14 15:50:46.841\u001b[0m | \u001b[34m\u001b[1mDEBUG   \u001b[0m | \u001b[36mlorapy.datafile.encoding\u001b[0m:\u001b[36mcompute_params\u001b[0m:\u001b[36m15\u001b[0m - \u001b[34m\u001b[1mcomputed samples per symbol: 6386 and packet length: 193176\u001b[0m\n",
      "\u001b[32m2020-04-14 15:50:47.111\u001b[0m | \u001b[1mINFO    \u001b[0m | \u001b[36mlorapy.datafile._base_file\u001b[0m:\u001b[36mload\u001b[0m:\u001b[36m61\u001b[0m - \u001b[1mloaded 7471620 samples from file\u001b[0m\n"
     ]
    },
    {
     "data": {
      "text/plain": [
       "BaselineSymbolSet(num symbols=1170 | BW: 7 | SF: 12 | Att: 0 | samples per symbol: 6386 | packet length: 193176)"
      ]
     },
     "metadata": {},
     "output_type": "display_data"
    },
    {
     "name": "stdout",
     "output_type": "stream",
     "text": [
      "\u001b[32m2020-04-14 15:50:47.115\u001b[0m | \u001b[34m\u001b[1mDEBUG   \u001b[0m | \u001b[36mlorapy.datafile.encoding\u001b[0m:\u001b[36mcompute_params\u001b[0m:\u001b[36m15\u001b[0m - \u001b[34m\u001b[1mcomputed samples per symbol: 6386 and packet length: 193176\u001b[0m\n",
      "\u001b[32m2020-04-14 15:50:47.116\u001b[0m | \u001b[1mINFO    \u001b[0m | \u001b[36mlorapy.datafile._base_file\u001b[0m:\u001b[36mload\u001b[0m:\u001b[36m61\u001b[0m - \u001b[1mloaded 6386 samples from file\u001b[0m\n"
     ]
    },
    {
     "data": {
      "text/plain": [
       "BaselineSymbolSet(num symbols=6386 | BW: 7 | SF: 12 | Att: 0 | samples per symbol: 6386 | packet length: 193176)"
      ]
     },
     "metadata": {},
     "output_type": "display_data"
    },
    {
     "name": "stdout",
     "output_type": "stream",
     "text": [
      "\u001b[32m2020-04-14 15:50:47.119\u001b[0m | \u001b[33m\u001b[1mWARNING \u001b[0m | \u001b[36m__main__\u001b[0m:\u001b[36m_mp_compute_corr\u001b[0m:\u001b[36m13\u001b[0m - \u001b[33m\u001b[1mbeginning multiprocessing..\u001b[0m\n",
      "\u001b[32m2020-04-14 15:50:48.292\u001b[0m | \u001b[33m\u001b[1mWARNING \u001b[0m | \u001b[36m__main__\u001b[0m:\u001b[36m_mp_compute_corr\u001b[0m:\u001b[36m19\u001b[0m - \u001b[33m\u001b[1mcompleted multiprocessing\u001b[0m\n",
      "\u001b[32m2020-04-14 15:50:48.295\u001b[0m | \u001b[1mINFO    \u001b[0m | \u001b[36m__main__\u001b[0m:\u001b[36mfilter_symbols_fftcorr\u001b[0m:\u001b[36m41\u001b[0m - \u001b[1mset threshold: 0.406065\u001b[0m\n",
      "\u001b[32m2020-04-14 15:50:48.397\u001b[0m | \u001b[33m\u001b[1mWARNING \u001b[0m | \u001b[36m__main__\u001b[0m:\u001b[36mfilter_symbols_fftcorr\u001b[0m:\u001b[36m47\u001b[0m - \u001b[33m\u001b[1mremoved 8 symbols  [1162 / 1170]\u001b[0m\n"
     ]
    },
    {
     "name": "stderr",
     "output_type": "stream",
     "text": [
      " 52%|█████▏    | 31/60 [00:51<00:53,  1.83s/it]"
     ]
    },
    {
     "name": "stdout",
     "output_type": "stream",
     "text": [
      "\u001b[32m2020-04-14 15:50:48.589\u001b[0m | \u001b[33m\u001b[1mWARNING \u001b[0m | \u001b[36m__main__\u001b[0m:\u001b[36m<module>\u001b[0m:\u001b[36m6\u001b[0m - \u001b[33m\u001b[1mworking file DotPFile(id=31 | name='lora_BW7_SF11_915MHz_20ksps_Att0_d4.p')\u001b[0m\n",
      "\u001b[32m2020-04-14 15:50:48.590\u001b[0m | \u001b[34m\u001b[1mDEBUG   \u001b[0m | \u001b[36mlorapy.datafile.encoding\u001b[0m:\u001b[36mcompute_params\u001b[0m:\u001b[36m15\u001b[0m - \u001b[34m\u001b[1mcomputed samples per symbol: 3198 and packet length: 96739\u001b[0m\n",
      "\u001b[32m2020-04-14 15:50:48.762\u001b[0m | \u001b[1mINFO    \u001b[0m | \u001b[36mlorapy.datafile._base_file\u001b[0m:\u001b[36mload\u001b[0m:\u001b[36m61\u001b[0m - \u001b[1mloaded 9018360 samples from file\u001b[0m\n"
     ]
    },
    {
     "data": {
      "text/plain": [
       "BaselineSymbolSet(num symbols=2820 | BW: 7 | SF: 11 | Att: 0 | samples per symbol: 3198 | packet length: 96739)"
      ]
     },
     "metadata": {},
     "output_type": "display_data"
    },
    {
     "name": "stdout",
     "output_type": "stream",
     "text": [
      "\u001b[32m2020-04-14 15:50:48.766\u001b[0m | \u001b[34m\u001b[1mDEBUG   \u001b[0m | \u001b[36mlorapy.datafile.encoding\u001b[0m:\u001b[36mcompute_params\u001b[0m:\u001b[36m15\u001b[0m - \u001b[34m\u001b[1mcomputed samples per symbol: 3198 and packet length: 96739\u001b[0m\n",
      "\u001b[32m2020-04-14 15:50:48.767\u001b[0m | \u001b[1mINFO    \u001b[0m | \u001b[36mlorapy.datafile._base_file\u001b[0m:\u001b[36mload\u001b[0m:\u001b[36m61\u001b[0m - \u001b[1mloaded 3198 samples from file\u001b[0m\n"
     ]
    },
    {
     "data": {
      "text/plain": [
       "BaselineSymbolSet(num symbols=3198 | BW: 7 | SF: 11 | Att: 0 | samples per symbol: 3198 | packet length: 96739)"
      ]
     },
     "metadata": {},
     "output_type": "display_data"
    },
    {
     "name": "stdout",
     "output_type": "stream",
     "text": [
      "\u001b[32m2020-04-14 15:50:48.770\u001b[0m | \u001b[33m\u001b[1mWARNING \u001b[0m | \u001b[36m__main__\u001b[0m:\u001b[36m_mp_compute_corr\u001b[0m:\u001b[36m13\u001b[0m - \u001b[33m\u001b[1mbeginning multiprocessing..\u001b[0m\n",
      "\u001b[32m2020-04-14 15:50:49.978\u001b[0m | \u001b[33m\u001b[1mWARNING \u001b[0m | \u001b[36m__main__\u001b[0m:\u001b[36m_mp_compute_corr\u001b[0m:\u001b[36m19\u001b[0m - \u001b[33m\u001b[1mcompleted multiprocessing\u001b[0m\n",
      "\u001b[32m2020-04-14 15:50:49.981\u001b[0m | \u001b[1mINFO    \u001b[0m | \u001b[36m__main__\u001b[0m:\u001b[36mfilter_symbols_fftcorr\u001b[0m:\u001b[36m41\u001b[0m - \u001b[1mset threshold: 0.134825\u001b[0m\n",
      "\u001b[32m2020-04-14 15:50:50.037\u001b[0m | \u001b[33m\u001b[1mWARNING \u001b[0m | \u001b[36m__main__\u001b[0m:\u001b[36mfilter_symbols_fftcorr\u001b[0m:\u001b[36m47\u001b[0m - \u001b[33m\u001b[1mremoved 108 symbols  [2712 / 2820]\u001b[0m\n"
     ]
    },
    {
     "name": "stderr",
     "output_type": "stream",
     "text": [
      " 53%|█████▎    | 32/60 [00:52<00:49,  1.75s/it]"
     ]
    },
    {
     "name": "stdout",
     "output_type": "stream",
     "text": [
      "\u001b[32m2020-04-14 15:50:50.152\u001b[0m | \u001b[33m\u001b[1mWARNING \u001b[0m | \u001b[36m__main__\u001b[0m:\u001b[36m<module>\u001b[0m:\u001b[36m6\u001b[0m - \u001b[33m\u001b[1mworking file DotPFile(id=32 | name='lora_BW2_SF11_915MHz_20ksps_Att0_d4.p')\u001b[0m\n",
      "\u001b[32m2020-04-14 15:50:50.153\u001b[0m | \u001b[34m\u001b[1mDEBUG   \u001b[0m | \u001b[36mlorapy.datafile.encoding\u001b[0m:\u001b[36mcompute_params\u001b[0m:\u001b[36m15\u001b[0m - \u001b[34m\u001b[1mcomputed samples per symbol: 25604 and packet length: 774521\u001b[0m\n",
      "\u001b[32m2020-04-14 15:50:50.543\u001b[0m | \u001b[1mINFO    \u001b[0m | \u001b[36mlorapy.datafile._base_file\u001b[0m:\u001b[36mload\u001b[0m:\u001b[36m61\u001b[0m - \u001b[1mloaded 8295696 samples from file\u001b[0m\n"
     ]
    },
    {
     "data": {
      "text/plain": [
       "BaselineSymbolSet(num symbols=324 | BW: 2 | SF: 11 | Att: 0 | samples per symbol: 25604 | packet length: 774521)"
      ]
     },
     "metadata": {},
     "output_type": "display_data"
    },
    {
     "name": "stdout",
     "output_type": "stream",
     "text": [
      "\u001b[32m2020-04-14 15:50:50.547\u001b[0m | \u001b[34m\u001b[1mDEBUG   \u001b[0m | \u001b[36mlorapy.datafile.encoding\u001b[0m:\u001b[36mcompute_params\u001b[0m:\u001b[36m15\u001b[0m - \u001b[34m\u001b[1mcomputed samples per symbol: 25604 and packet length: 774521\u001b[0m\n",
      "\u001b[32m2020-04-14 15:50:50.549\u001b[0m | \u001b[1mINFO    \u001b[0m | \u001b[36mlorapy.datafile._base_file\u001b[0m:\u001b[36mload\u001b[0m:\u001b[36m61\u001b[0m - \u001b[1mloaded 25603 samples from file\u001b[0m\n"
     ]
    },
    {
     "data": {
      "text/plain": [
       "BaselineSymbolSet(num symbols=25603 | BW: 2 | SF: 11 | Att: 0 | samples per symbol: 25604 | packet length: 774521)"
      ]
     },
     "metadata": {},
     "output_type": "display_data"
    },
    {
     "name": "stdout",
     "output_type": "stream",
     "text": [
      "\u001b[32m2020-04-14 15:50:50.551\u001b[0m | \u001b[33m\u001b[1mWARNING \u001b[0m | \u001b[36m__main__\u001b[0m:\u001b[36m_mp_compute_corr\u001b[0m:\u001b[36m13\u001b[0m - \u001b[33m\u001b[1mbeginning multiprocessing..\u001b[0m\n",
      "\u001b[32m2020-04-14 15:50:51.939\u001b[0m | \u001b[33m\u001b[1mWARNING \u001b[0m | \u001b[36m__main__\u001b[0m:\u001b[36m_mp_compute_corr\u001b[0m:\u001b[36m19\u001b[0m - \u001b[33m\u001b[1mcompleted multiprocessing\u001b[0m\n",
      "\u001b[32m2020-04-14 15:50:51.943\u001b[0m | \u001b[1mINFO    \u001b[0m | \u001b[36m__main__\u001b[0m:\u001b[36mfilter_symbols_fftcorr\u001b[0m:\u001b[36m41\u001b[0m - \u001b[1mset threshold: 9.959608\u001b[0m\n",
      "\u001b[32m2020-04-14 15:50:51.999\u001b[0m | \u001b[33m\u001b[1mWARNING \u001b[0m | \u001b[36m__main__\u001b[0m:\u001b[36mfilter_symbols_fftcorr\u001b[0m:\u001b[36m47\u001b[0m - \u001b[33m\u001b[1mremoved 0 symbols  [324 / 324]\u001b[0m\n"
     ]
    },
    {
     "name": "stderr",
     "output_type": "stream",
     "text": [
      " 55%|█████▌    | 33/60 [00:54<00:49,  1.84s/it]"
     ]
    },
    {
     "name": "stdout",
     "output_type": "stream",
     "text": [
      "\u001b[32m2020-04-14 15:50:52.204\u001b[0m | \u001b[33m\u001b[1mWARNING \u001b[0m | \u001b[36m__main__\u001b[0m:\u001b[36m<module>\u001b[0m:\u001b[36m6\u001b[0m - \u001b[33m\u001b[1mworking file DotPFile(id=33 | name='lora_BW1_SF11_915MHz_20ksps_Att0_d4.p')\u001b[0m\n",
      "\u001b[32m2020-04-14 15:50:52.205\u001b[0m | \u001b[34m\u001b[1mDEBUG   \u001b[0m | \u001b[36mlorapy.datafile.encoding\u001b[0m:\u001b[36mcompute_params\u001b[0m:\u001b[36m15\u001b[0m - \u001b[34m\u001b[1mcomputed samples per symbol: 38396 and packet length: 1161479\u001b[0m\n",
      "\u001b[32m2020-04-14 15:50:52.378\u001b[0m | \u001b[1mINFO    \u001b[0m | \u001b[36mlorapy.datafile._base_file\u001b[0m:\u001b[36mload\u001b[0m:\u001b[36m61\u001b[0m - \u001b[1mloaded 8869476 samples from file\u001b[0m\n"
     ]
    },
    {
     "data": {
      "text/plain": [
       "BaselineSymbolSet(num symbols=231 | BW: 1 | SF: 11 | Att: 0 | samples per symbol: 38396 | packet length: 1161479)"
      ]
     },
     "metadata": {},
     "output_type": "display_data"
    },
    {
     "name": "stdout",
     "output_type": "stream",
     "text": [
      "\u001b[32m2020-04-14 15:50:52.383\u001b[0m | \u001b[34m\u001b[1mDEBUG   \u001b[0m | \u001b[36mlorapy.datafile.encoding\u001b[0m:\u001b[36mcompute_params\u001b[0m:\u001b[36m15\u001b[0m - \u001b[34m\u001b[1mcomputed samples per symbol: 38396 and packet length: 1161479\u001b[0m\n",
      "\u001b[32m2020-04-14 15:50:52.384\u001b[0m | \u001b[1mINFO    \u001b[0m | \u001b[36mlorapy.datafile._base_file\u001b[0m:\u001b[36mload\u001b[0m:\u001b[36m61\u001b[0m - \u001b[1mloaded 38395 samples from file\u001b[0m\n"
     ]
    },
    {
     "data": {
      "text/plain": [
       "BaselineSymbolSet(num symbols=38395 | BW: 1 | SF: 11 | Att: 0 | samples per symbol: 38396 | packet length: 1161479)"
      ]
     },
     "metadata": {},
     "output_type": "display_data"
    },
    {
     "name": "stdout",
     "output_type": "stream",
     "text": [
      "\u001b[32m2020-04-14 15:50:52.386\u001b[0m | \u001b[33m\u001b[1mWARNING \u001b[0m | \u001b[36m__main__\u001b[0m:\u001b[36m_mp_compute_corr\u001b[0m:\u001b[36m13\u001b[0m - \u001b[33m\u001b[1mbeginning multiprocessing..\u001b[0m\n",
      "\u001b[32m2020-04-14 15:50:53.720\u001b[0m | \u001b[33m\u001b[1mWARNING \u001b[0m | \u001b[36m__main__\u001b[0m:\u001b[36m_mp_compute_corr\u001b[0m:\u001b[36m19\u001b[0m - \u001b[33m\u001b[1mcompleted multiprocessing\u001b[0m\n",
      "\u001b[32m2020-04-14 15:50:53.723\u001b[0m | \u001b[1mINFO    \u001b[0m | \u001b[36m__main__\u001b[0m:\u001b[36mfilter_symbols_fftcorr\u001b[0m:\u001b[36m41\u001b[0m - \u001b[1mset threshold: 17.814485\u001b[0m\n",
      "\u001b[32m2020-04-14 15:50:53.767\u001b[0m | \u001b[33m\u001b[1mWARNING \u001b[0m | \u001b[36m__main__\u001b[0m:\u001b[36mfilter_symbols_fftcorr\u001b[0m:\u001b[36m47\u001b[0m - \u001b[33m\u001b[1mremoved 0 symbols  [231 / 231]\u001b[0m\n"
     ]
    },
    {
     "name": "stderr",
     "output_type": "stream",
     "text": [
      " 57%|█████▋    | 34/60 [00:56<00:46,  1.80s/it]"
     ]
    },
    {
     "name": "stdout",
     "output_type": "stream",
     "text": [
      "\u001b[32m2020-04-14 15:50:53.907\u001b[0m | \u001b[33m\u001b[1mWARNING \u001b[0m | \u001b[36m__main__\u001b[0m:\u001b[36m<module>\u001b[0m:\u001b[36m6\u001b[0m - \u001b[33m\u001b[1mworking file DotPFile(id=34 | name='lora_BW1_SF12_915MHz_20ksps_Att0_d4.p')\u001b[0m\n",
      "\u001b[32m2020-04-14 15:50:53.908\u001b[0m | \u001b[34m\u001b[1mDEBUG   \u001b[0m | \u001b[36mlorapy.datafile.encoding\u001b[0m:\u001b[36mcompute_params\u001b[0m:\u001b[36m15\u001b[0m - \u001b[34m\u001b[1mcomputed samples per symbol: 76801 and packet length: 2323230\u001b[0m\n",
      "\u001b[32m2020-04-14 15:50:54.357\u001b[0m | \u001b[1mINFO    \u001b[0m | \u001b[36mlorapy.datafile._base_file\u001b[0m:\u001b[36mload\u001b[0m:\u001b[36m61\u001b[0m - \u001b[1mloaded 9292921 samples from file\u001b[0m\n"
     ]
    },
    {
     "data": {
      "text/plain": [
       "BaselineSymbolSet(num symbols=121 | BW: 1 | SF: 12 | Att: 0 | samples per symbol: 76801 | packet length: 2323230)"
      ]
     },
     "metadata": {},
     "output_type": "display_data"
    },
    {
     "name": "stdout",
     "output_type": "stream",
     "text": [
      "\u001b[32m2020-04-14 15:50:54.362\u001b[0m | \u001b[34m\u001b[1mDEBUG   \u001b[0m | \u001b[36mlorapy.datafile.encoding\u001b[0m:\u001b[36mcompute_params\u001b[0m:\u001b[36m15\u001b[0m - \u001b[34m\u001b[1mcomputed samples per symbol: 76801 and packet length: 2323230\u001b[0m\n",
      "\u001b[32m2020-04-14 15:50:54.364\u001b[0m | \u001b[1mINFO    \u001b[0m | \u001b[36mlorapy.datafile._base_file\u001b[0m:\u001b[36mload\u001b[0m:\u001b[36m61\u001b[0m - \u001b[1mloaded 76800 samples from file\u001b[0m\n"
     ]
    },
    {
     "data": {
      "text/plain": [
       "BaselineSymbolSet(num symbols=76800 | BW: 1 | SF: 12 | Att: 0 | samples per symbol: 76801 | packet length: 2323230)"
      ]
     },
     "metadata": {},
     "output_type": "display_data"
    },
    {
     "name": "stdout",
     "output_type": "stream",
     "text": [
      "\u001b[32m2020-04-14 15:50:54.367\u001b[0m | \u001b[33m\u001b[1mWARNING \u001b[0m | \u001b[36m__main__\u001b[0m:\u001b[36m_mp_compute_corr\u001b[0m:\u001b[36m13\u001b[0m - \u001b[33m\u001b[1mbeginning multiprocessing..\u001b[0m\n",
      "\u001b[32m2020-04-14 15:50:56.703\u001b[0m | \u001b[33m\u001b[1mWARNING \u001b[0m | \u001b[36m__main__\u001b[0m:\u001b[36m_mp_compute_corr\u001b[0m:\u001b[36m19\u001b[0m - \u001b[33m\u001b[1mcompleted multiprocessing\u001b[0m\n",
      "\u001b[32m2020-04-14 15:50:56.706\u001b[0m | \u001b[1mINFO    \u001b[0m | \u001b[36m__main__\u001b[0m:\u001b[36mfilter_symbols_fftcorr\u001b[0m:\u001b[36m41\u001b[0m - \u001b[1mset threshold: 38.949189\u001b[0m\n",
      "\u001b[32m2020-04-14 15:50:56.778\u001b[0m | \u001b[33m\u001b[1mWARNING \u001b[0m | \u001b[36m__main__\u001b[0m:\u001b[36mfilter_symbols_fftcorr\u001b[0m:\u001b[36m47\u001b[0m - \u001b[33m\u001b[1mremoved 0 symbols  [121 / 121]\u001b[0m\n"
     ]
    },
    {
     "name": "stderr",
     "output_type": "stream",
     "text": [
      " 58%|█████▊    | 35/60 [00:59<00:54,  2.19s/it]"
     ]
    },
    {
     "name": "stdout",
     "output_type": "stream",
     "text": [
      "\u001b[32m2020-04-14 15:50:57.009\u001b[0m | \u001b[33m\u001b[1mWARNING \u001b[0m | \u001b[36m__main__\u001b[0m:\u001b[36m<module>\u001b[0m:\u001b[36m6\u001b[0m - \u001b[33m\u001b[1mworking file DotPFile(id=35 | name='lora_BW7_SF10_915MHz_20ksps_Att0_d4.p')\u001b[0m\n",
      "\u001b[32m2020-04-14 15:50:57.010\u001b[0m | \u001b[34m\u001b[1mDEBUG   \u001b[0m | \u001b[36mlorapy.datafile.encoding\u001b[0m:\u001b[36mcompute_params\u001b[0m:\u001b[36m15\u001b[0m - \u001b[34m\u001b[1mcomputed samples per symbol: 1599 and packet length: 48369\u001b[0m\n",
      "\u001b[32m2020-04-14 15:50:57.171\u001b[0m | \u001b[1mINFO    \u001b[0m | \u001b[36mlorapy.datafile._base_file\u001b[0m:\u001b[36mload\u001b[0m:\u001b[36m61\u001b[0m - \u001b[1mloaded 8090940 samples from file\u001b[0m\n"
     ]
    },
    {
     "data": {
      "text/plain": [
       "BaselineSymbolSet(num symbols=5060 | BW: 7 | SF: 10 | Att: 0 | samples per symbol: 1599 | packet length: 48369)"
      ]
     },
     "metadata": {},
     "output_type": "display_data"
    },
    {
     "name": "stdout",
     "output_type": "stream",
     "text": [
      "\u001b[32m2020-04-14 15:50:57.176\u001b[0m | \u001b[34m\u001b[1mDEBUG   \u001b[0m | \u001b[36mlorapy.datafile.encoding\u001b[0m:\u001b[36mcompute_params\u001b[0m:\u001b[36m15\u001b[0m - \u001b[34m\u001b[1mcomputed samples per symbol: 1599 and packet length: 48369\u001b[0m\n",
      "\u001b[32m2020-04-14 15:50:57.177\u001b[0m | \u001b[1mINFO    \u001b[0m | \u001b[36mlorapy.datafile._base_file\u001b[0m:\u001b[36mload\u001b[0m:\u001b[36m61\u001b[0m - \u001b[1mloaded 1599 samples from file\u001b[0m\n"
     ]
    },
    {
     "data": {
      "text/plain": [
       "BaselineSymbolSet(num symbols=1599 | BW: 7 | SF: 10 | Att: 0 | samples per symbol: 1599 | packet length: 48369)"
      ]
     },
     "metadata": {},
     "output_type": "display_data"
    },
    {
     "name": "stdout",
     "output_type": "stream",
     "text": [
      "\u001b[32m2020-04-14 15:50:57.179\u001b[0m | \u001b[33m\u001b[1mWARNING \u001b[0m | \u001b[36m__main__\u001b[0m:\u001b[36m_mp_compute_corr\u001b[0m:\u001b[36m13\u001b[0m - \u001b[33m\u001b[1mbeginning multiprocessing..\u001b[0m\n",
      "\u001b[32m2020-04-14 15:50:59.086\u001b[0m | \u001b[33m\u001b[1mWARNING \u001b[0m | \u001b[36m__main__\u001b[0m:\u001b[36m_mp_compute_corr\u001b[0m:\u001b[36m19\u001b[0m - \u001b[33m\u001b[1mcompleted multiprocessing\u001b[0m\n",
      "\u001b[32m2020-04-14 15:50:59.090\u001b[0m | \u001b[1mINFO    \u001b[0m | \u001b[36m__main__\u001b[0m:\u001b[36mfilter_symbols_fftcorr\u001b[0m:\u001b[36m41\u001b[0m - \u001b[1mset threshold: 0.059306\u001b[0m\n",
      "\u001b[32m2020-04-14 15:50:59.135\u001b[0m | \u001b[33m\u001b[1mWARNING \u001b[0m | \u001b[36m__main__\u001b[0m:\u001b[36mfilter_symbols_fftcorr\u001b[0m:\u001b[36m47\u001b[0m - \u001b[33m\u001b[1mremoved 548 symbols  [4512 / 5060]\u001b[0m\n"
     ]
    },
    {
     "name": "stderr",
     "output_type": "stream",
     "text": [
      " 60%|██████    | 36/60 [01:01<00:52,  2.21s/it]"
     ]
    },
    {
     "name": "stdout",
     "output_type": "stream",
     "text": [
      "\u001b[32m2020-04-14 15:50:59.254\u001b[0m | \u001b[33m\u001b[1mWARNING \u001b[0m | \u001b[36m__main__\u001b[0m:\u001b[36m<module>\u001b[0m:\u001b[36m6\u001b[0m - \u001b[33m\u001b[1mworking file DotPFile(id=36 | name='lora_BW9_SF11_915MHz_20ksps_Att0_d4.p')\u001b[0m\n",
      "\u001b[32m2020-04-14 15:50:59.256\u001b[0m | \u001b[34m\u001b[1mDEBUG   \u001b[0m | \u001b[36mlorapy.datafile.encoding\u001b[0m:\u001b[36mcompute_params\u001b[0m:\u001b[36m15\u001b[0m - \u001b[34m\u001b[1mcomputed samples per symbol: 800 and packet length: 24200\u001b[0m\n",
      "\u001b[32m2020-04-14 15:50:59.428\u001b[0m | \u001b[1mINFO    \u001b[0m | \u001b[36mlorapy.datafile._base_file\u001b[0m:\u001b[36mload\u001b[0m:\u001b[36m61\u001b[0m - \u001b[1mloaded 7265600 samples from file\u001b[0m\n"
     ]
    },
    {
     "data": {
      "text/plain": [
       "BaselineSymbolSet(num symbols=9082 | BW: 9 | SF: 11 | Att: 0 | samples per symbol: 800 | packet length: 24200)"
      ]
     },
     "metadata": {},
     "output_type": "display_data"
    },
    {
     "name": "stdout",
     "output_type": "stream",
     "text": [
      "\u001b[32m2020-04-14 15:50:59.432\u001b[0m | \u001b[34m\u001b[1mDEBUG   \u001b[0m | \u001b[36mlorapy.datafile.encoding\u001b[0m:\u001b[36mcompute_params\u001b[0m:\u001b[36m15\u001b[0m - \u001b[34m\u001b[1mcomputed samples per symbol: 800 and packet length: 24200\u001b[0m\n",
      "\u001b[32m2020-04-14 15:50:59.434\u001b[0m | \u001b[1mINFO    \u001b[0m | \u001b[36mlorapy.datafile._base_file\u001b[0m:\u001b[36mload\u001b[0m:\u001b[36m61\u001b[0m - \u001b[1mloaded 799 samples from file\u001b[0m\n"
     ]
    },
    {
     "data": {
      "text/plain": [
       "BaselineSymbolSet(num symbols=799 | BW: 9 | SF: 11 | Att: 0 | samples per symbol: 800 | packet length: 24200)"
      ]
     },
     "metadata": {},
     "output_type": "display_data"
    },
    {
     "name": "stdout",
     "output_type": "stream",
     "text": [
      "\u001b[32m2020-04-14 15:50:59.436\u001b[0m | \u001b[33m\u001b[1mWARNING \u001b[0m | \u001b[36m__main__\u001b[0m:\u001b[36m_mp_compute_corr\u001b[0m:\u001b[36m13\u001b[0m - \u001b[33m\u001b[1mbeginning multiprocessing..\u001b[0m\n",
      "\u001b[32m2020-04-14 15:51:01.084\u001b[0m | \u001b[33m\u001b[1mWARNING \u001b[0m | \u001b[36m__main__\u001b[0m:\u001b[36m_mp_compute_corr\u001b[0m:\u001b[36m19\u001b[0m - \u001b[33m\u001b[1mcompleted multiprocessing\u001b[0m\n",
      "\u001b[32m2020-04-14 15:51:01.088\u001b[0m | \u001b[1mINFO    \u001b[0m | \u001b[36m__main__\u001b[0m:\u001b[36mfilter_symbols_fftcorr\u001b[0m:\u001b[36m41\u001b[0m - \u001b[1mset threshold: 0.004205\u001b[0m\n",
      "\u001b[32m2020-04-14 15:51:01.118\u001b[0m | \u001b[33m\u001b[1mWARNING \u001b[0m | \u001b[36m__main__\u001b[0m:\u001b[36mfilter_symbols_fftcorr\u001b[0m:\u001b[36m47\u001b[0m - \u001b[33m\u001b[1mremoved 1809 symbols  [7273 / 9082]\u001b[0m\n"
     ]
    },
    {
     "name": "stderr",
     "output_type": "stream",
     "text": [
      " 62%|██████▏   | 37/60 [01:03<00:48,  2.13s/it]"
     ]
    },
    {
     "name": "stdout",
     "output_type": "stream",
     "text": [
      "\u001b[32m2020-04-14 15:51:01.200\u001b[0m | \u001b[33m\u001b[1mWARNING \u001b[0m | \u001b[36m__main__\u001b[0m:\u001b[36m<module>\u001b[0m:\u001b[36m6\u001b[0m - \u001b[33m\u001b[1mworking file DotPFile(id=37 | name='lora_BW9_SF10_915MHz_20ksps_Att0_d4.p')\u001b[0m\n",
      "\u001b[32m2020-04-14 15:51:01.202\u001b[0m | \u001b[34m\u001b[1mDEBUG   \u001b[0m | \u001b[36mlorapy.datafile.encoding\u001b[0m:\u001b[36mcompute_params\u001b[0m:\u001b[36m15\u001b[0m - \u001b[34m\u001b[1mcomputed samples per symbol: 400 and packet length: 12100\u001b[0m\n",
      "\u001b[32m2020-04-14 15:51:01.468\u001b[0m | \u001b[1mINFO    \u001b[0m | \u001b[36mlorapy.datafile._base_file\u001b[0m:\u001b[36mload\u001b[0m:\u001b[36m61\u001b[0m - \u001b[1mloaded 7283200 samples from file\u001b[0m\n"
     ]
    },
    {
     "data": {
      "text/plain": [
       "BaselineSymbolSet(num symbols=18208 | BW: 9 | SF: 10 | Att: 0 | samples per symbol: 400 | packet length: 12100)"
      ]
     },
     "metadata": {},
     "output_type": "display_data"
    },
    {
     "name": "stdout",
     "output_type": "stream",
     "text": [
      "\u001b[32m2020-04-14 15:51:01.472\u001b[0m | \u001b[34m\u001b[1mDEBUG   \u001b[0m | \u001b[36mlorapy.datafile.encoding\u001b[0m:\u001b[36mcompute_params\u001b[0m:\u001b[36m15\u001b[0m - \u001b[34m\u001b[1mcomputed samples per symbol: 400 and packet length: 12100\u001b[0m\n",
      "\u001b[32m2020-04-14 15:51:01.473\u001b[0m | \u001b[1mINFO    \u001b[0m | \u001b[36mlorapy.datafile._base_file\u001b[0m:\u001b[36mload\u001b[0m:\u001b[36m61\u001b[0m - \u001b[1mloaded 399 samples from file\u001b[0m\n"
     ]
    },
    {
     "data": {
      "text/plain": [
       "BaselineSymbolSet(num symbols=399 | BW: 9 | SF: 10 | Att: 0 | samples per symbol: 400 | packet length: 12100)"
      ]
     },
     "metadata": {},
     "output_type": "display_data"
    },
    {
     "name": "stdout",
     "output_type": "stream",
     "text": [
      "\u001b[32m2020-04-14 15:51:01.476\u001b[0m | \u001b[33m\u001b[1mWARNING \u001b[0m | \u001b[36m__main__\u001b[0m:\u001b[36m_mp_compute_corr\u001b[0m:\u001b[36m13\u001b[0m - \u001b[33m\u001b[1mbeginning multiprocessing..\u001b[0m\n",
      "\u001b[32m2020-04-14 15:51:03.200\u001b[0m | \u001b[33m\u001b[1mWARNING \u001b[0m | \u001b[36m__main__\u001b[0m:\u001b[36m_mp_compute_corr\u001b[0m:\u001b[36m19\u001b[0m - \u001b[33m\u001b[1mcompleted multiprocessing\u001b[0m\n",
      "\u001b[32m2020-04-14 15:51:03.210\u001b[0m | \u001b[1mINFO    \u001b[0m | \u001b[36m__main__\u001b[0m:\u001b[36mfilter_symbols_fftcorr\u001b[0m:\u001b[36m41\u001b[0m - \u001b[1mset threshold: 0.004130\u001b[0m\n",
      "\u001b[32m2020-04-14 15:51:03.274\u001b[0m | \u001b[33m\u001b[1mWARNING \u001b[0m | \u001b[36m__main__\u001b[0m:\u001b[36mfilter_symbols_fftcorr\u001b[0m:\u001b[36m47\u001b[0m - \u001b[33m\u001b[1mremoved 8042 symbols  [10166 / 18208]\u001b[0m\n"
     ]
    },
    {
     "name": "stderr",
     "output_type": "stream",
     "text": [
      " 63%|██████▎   | 38/60 [01:06<00:47,  2.15s/it]"
     ]
    },
    {
     "name": "stdout",
     "output_type": "stream",
     "text": [
      "\u001b[32m2020-04-14 15:51:03.404\u001b[0m | \u001b[33m\u001b[1mWARNING \u001b[0m | \u001b[36m__main__\u001b[0m:\u001b[36m<module>\u001b[0m:\u001b[36m6\u001b[0m - \u001b[33m\u001b[1mworking file DotPFile(id=38 | name='lora_BW9_SF12_915MHz_20ksps_Att0_d4.p')\u001b[0m\n",
      "\u001b[32m2020-04-14 15:51:03.405\u001b[0m | \u001b[34m\u001b[1mDEBUG   \u001b[0m | \u001b[36mlorapy.datafile.encoding\u001b[0m:\u001b[36mcompute_params\u001b[0m:\u001b[36m15\u001b[0m - \u001b[34m\u001b[1mcomputed samples per symbol: 1599 and packet length: 48369\u001b[0m\n",
      "\u001b[32m2020-04-14 15:51:03.593\u001b[0m | \u001b[1mINFO    \u001b[0m | \u001b[36mlorapy.datafile._base_file\u001b[0m:\u001b[36mload\u001b[0m:\u001b[36m61\u001b[0m - \u001b[1mloaded 7951827 samples from file\u001b[0m\n"
     ]
    },
    {
     "data": {
      "text/plain": [
       "BaselineSymbolSet(num symbols=4973 | BW: 9 | SF: 12 | Att: 0 | samples per symbol: 1599 | packet length: 48369)"
      ]
     },
     "metadata": {},
     "output_type": "display_data"
    },
    {
     "name": "stdout",
     "output_type": "stream",
     "text": [
      "\u001b[32m2020-04-14 15:51:03.597\u001b[0m | \u001b[34m\u001b[1mDEBUG   \u001b[0m | \u001b[36mlorapy.datafile.encoding\u001b[0m:\u001b[36mcompute_params\u001b[0m:\u001b[36m15\u001b[0m - \u001b[34m\u001b[1mcomputed samples per symbol: 1599 and packet length: 48369\u001b[0m\n",
      "\u001b[32m2020-04-14 15:51:03.598\u001b[0m | \u001b[1mINFO    \u001b[0m | \u001b[36mlorapy.datafile._base_file\u001b[0m:\u001b[36mload\u001b[0m:\u001b[36m61\u001b[0m - \u001b[1mloaded 1599 samples from file\u001b[0m\n"
     ]
    },
    {
     "data": {
      "text/plain": [
       "BaselineSymbolSet(num symbols=1599 | BW: 9 | SF: 12 | Att: 0 | samples per symbol: 1599 | packet length: 48369)"
      ]
     },
     "metadata": {},
     "output_type": "display_data"
    },
    {
     "name": "stdout",
     "output_type": "stream",
     "text": [
      "\u001b[32m2020-04-14 15:51:03.600\u001b[0m | \u001b[33m\u001b[1mWARNING \u001b[0m | \u001b[36m__main__\u001b[0m:\u001b[36m_mp_compute_corr\u001b[0m:\u001b[36m13\u001b[0m - \u001b[33m\u001b[1mbeginning multiprocessing..\u001b[0m\n",
      "\u001b[32m2020-04-14 15:51:05.734\u001b[0m | \u001b[33m\u001b[1mWARNING \u001b[0m | \u001b[36m__main__\u001b[0m:\u001b[36m_mp_compute_corr\u001b[0m:\u001b[36m19\u001b[0m - \u001b[33m\u001b[1mcompleted multiprocessing\u001b[0m\n",
      "\u001b[32m2020-04-14 15:51:05.738\u001b[0m | \u001b[1mINFO    \u001b[0m | \u001b[36m__main__\u001b[0m:\u001b[36mfilter_symbols_fftcorr\u001b[0m:\u001b[36m41\u001b[0m - \u001b[1mset threshold: 0.018288\u001b[0m\n",
      "\u001b[32m2020-04-14 15:51:05.833\u001b[0m | \u001b[33m\u001b[1mWARNING \u001b[0m | \u001b[36m__main__\u001b[0m:\u001b[36mfilter_symbols_fftcorr\u001b[0m:\u001b[36m47\u001b[0m - \u001b[33m\u001b[1mremoved 560 symbols  [4413 / 4973]\u001b[0m\n"
     ]
    },
    {
     "name": "stderr",
     "output_type": "stream",
     "text": [
      " 65%|██████▌   | 39/60 [01:08<00:47,  2.27s/it]"
     ]
    },
    {
     "name": "stdout",
     "output_type": "stream",
     "text": [
      "\u001b[32m2020-04-14 15:51:05.950\u001b[0m | \u001b[33m\u001b[1mWARNING \u001b[0m | \u001b[36m__main__\u001b[0m:\u001b[36m<module>\u001b[0m:\u001b[36m6\u001b[0m - \u001b[33m\u001b[1mworking file DotPFile(id=39 | name='lora_BW8_SF12_915MHz_20ksps_Att0_d4.p')\u001b[0m\n",
      "\u001b[32m2020-04-14 15:51:05.952\u001b[0m | \u001b[34m\u001b[1mDEBUG   \u001b[0m | \u001b[36mlorapy.datafile.encoding\u001b[0m:\u001b[36mcompute_params\u001b[0m:\u001b[36m15\u001b[0m - \u001b[34m\u001b[1mcomputed samples per symbol: 3198 and packet length: 96739\u001b[0m\n",
      "\u001b[32m2020-04-14 15:51:06.245\u001b[0m | \u001b[1mINFO    \u001b[0m | \u001b[36mlorapy.datafile._base_file\u001b[0m:\u001b[36mload\u001b[0m:\u001b[36m61\u001b[0m - \u001b[1mloaded 8058960 samples from file\u001b[0m\n"
     ]
    },
    {
     "data": {
      "text/plain": [
       "BaselineSymbolSet(num symbols=2520 | BW: 8 | SF: 12 | Att: 0 | samples per symbol: 3198 | packet length: 96739)"
      ]
     },
     "metadata": {},
     "output_type": "display_data"
    },
    {
     "name": "stdout",
     "output_type": "stream",
     "text": [
      "\u001b[32m2020-04-14 15:51:06.249\u001b[0m | \u001b[34m\u001b[1mDEBUG   \u001b[0m | \u001b[36mlorapy.datafile.encoding\u001b[0m:\u001b[36mcompute_params\u001b[0m:\u001b[36m15\u001b[0m - \u001b[34m\u001b[1mcomputed samples per symbol: 3198 and packet length: 96739\u001b[0m\n",
      "\u001b[32m2020-04-14 15:51:06.251\u001b[0m | \u001b[1mINFO    \u001b[0m | \u001b[36mlorapy.datafile._base_file\u001b[0m:\u001b[36mload\u001b[0m:\u001b[36m61\u001b[0m - \u001b[1mloaded 3198 samples from file\u001b[0m\n"
     ]
    },
    {
     "data": {
      "text/plain": [
       "BaselineSymbolSet(num symbols=3198 | BW: 8 | SF: 12 | Att: 0 | samples per symbol: 3198 | packet length: 96739)"
      ]
     },
     "metadata": {},
     "output_type": "display_data"
    },
    {
     "name": "stdout",
     "output_type": "stream",
     "text": [
      "\u001b[32m2020-04-14 15:51:06.253\u001b[0m | \u001b[33m\u001b[1mWARNING \u001b[0m | \u001b[36m__main__\u001b[0m:\u001b[36m_mp_compute_corr\u001b[0m:\u001b[36m13\u001b[0m - \u001b[33m\u001b[1mbeginning multiprocessing..\u001b[0m\n",
      "\u001b[32m2020-04-14 15:51:07.566\u001b[0m | \u001b[33m\u001b[1mWARNING \u001b[0m | \u001b[36m__main__\u001b[0m:\u001b[36m_mp_compute_corr\u001b[0m:\u001b[36m19\u001b[0m - \u001b[33m\u001b[1mcompleted multiprocessing\u001b[0m\n",
      "\u001b[32m2020-04-14 15:51:07.569\u001b[0m | \u001b[1mINFO    \u001b[0m | \u001b[36m__main__\u001b[0m:\u001b[36mfilter_symbols_fftcorr\u001b[0m:\u001b[36m41\u001b[0m - \u001b[1mset threshold: 0.106217\u001b[0m\n",
      "\u001b[32m2020-04-14 15:51:07.642\u001b[0m | \u001b[33m\u001b[1mWARNING \u001b[0m | \u001b[36m__main__\u001b[0m:\u001b[36mfilter_symbols_fftcorr\u001b[0m:\u001b[36m47\u001b[0m - \u001b[33m\u001b[1mremoved 34 symbols  [2486 / 2520]\u001b[0m\n"
     ]
    },
    {
     "name": "stderr",
     "output_type": "stream",
     "text": [
      " 67%|██████▋   | 40/60 [01:10<00:42,  2.14s/it]"
     ]
    },
    {
     "name": "stdout",
     "output_type": "stream",
     "text": [
      "\u001b[32m2020-04-14 15:51:07.773\u001b[0m | \u001b[33m\u001b[1mWARNING \u001b[0m | \u001b[36m__main__\u001b[0m:\u001b[36m<module>\u001b[0m:\u001b[36m6\u001b[0m - \u001b[33m\u001b[1mworking file DotPFile(id=40 | name='lora_BW2_SF12_915MHz_20ksps_Att0_d4.p')\u001b[0m\n",
      "\u001b[32m2020-04-14 15:51:07.774\u001b[0m | \u001b[34m\u001b[1mDEBUG   \u001b[0m | \u001b[36mlorapy.datafile.encoding\u001b[0m:\u001b[36mcompute_params\u001b[0m:\u001b[36m15\u001b[0m - \u001b[34m\u001b[1mcomputed samples per symbol: 51197 and packet length: 1548709\u001b[0m\n",
      "\u001b[32m2020-04-14 15:51:08.410\u001b[0m | \u001b[1mINFO    \u001b[0m | \u001b[36mlorapy.datafile._base_file\u001b[0m:\u001b[36mload\u001b[0m:\u001b[36m61\u001b[0m - \u001b[1mloaded 7013989 samples from file\u001b[0m\n"
     ]
    },
    {
     "data": {
      "text/plain": [
       "BaselineSymbolSet(num symbols=137 | BW: 2 | SF: 12 | Att: 0 | samples per symbol: 51197 | packet length: 1548709)"
      ]
     },
     "metadata": {},
     "output_type": "display_data"
    },
    {
     "name": "stdout",
     "output_type": "stream",
     "text": [
      "\u001b[32m2020-04-14 15:51:08.415\u001b[0m | \u001b[34m\u001b[1mDEBUG   \u001b[0m | \u001b[36mlorapy.datafile.encoding\u001b[0m:\u001b[36mcompute_params\u001b[0m:\u001b[36m15\u001b[0m - \u001b[34m\u001b[1mcomputed samples per symbol: 51197 and packet length: 1548709\u001b[0m\n",
      "\u001b[32m2020-04-14 15:51:08.416\u001b[0m | \u001b[1mINFO    \u001b[0m | \u001b[36mlorapy.datafile._base_file\u001b[0m:\u001b[36mload\u001b[0m:\u001b[36m61\u001b[0m - \u001b[1mloaded 51197 samples from file\u001b[0m\n"
     ]
    },
    {
     "data": {
      "text/plain": [
       "BaselineSymbolSet(num symbols=51197 | BW: 2 | SF: 12 | Att: 0 | samples per symbol: 51197 | packet length: 1548709)"
      ]
     },
     "metadata": {},
     "output_type": "display_data"
    },
    {
     "name": "stdout",
     "output_type": "stream",
     "text": [
      "\u001b[32m2020-04-14 15:51:08.418\u001b[0m | \u001b[33m\u001b[1mWARNING \u001b[0m | \u001b[36m__main__\u001b[0m:\u001b[36m_mp_compute_corr\u001b[0m:\u001b[36m13\u001b[0m - \u001b[33m\u001b[1mbeginning multiprocessing..\u001b[0m\n",
      "\u001b[32m2020-04-14 15:51:10.295\u001b[0m | \u001b[33m\u001b[1mWARNING \u001b[0m | \u001b[36m__main__\u001b[0m:\u001b[36m_mp_compute_corr\u001b[0m:\u001b[36m19\u001b[0m - \u001b[33m\u001b[1mcompleted multiprocessing\u001b[0m\n",
      "\u001b[32m2020-04-14 15:51:10.298\u001b[0m | \u001b[1mINFO    \u001b[0m | \u001b[36m__main__\u001b[0m:\u001b[36mfilter_symbols_fftcorr\u001b[0m:\u001b[36m41\u001b[0m - \u001b[1mset threshold: 13.191355\u001b[0m\n",
      "\u001b[32m2020-04-14 15:51:10.365\u001b[0m | \u001b[33m\u001b[1mWARNING \u001b[0m | \u001b[36m__main__\u001b[0m:\u001b[36mfilter_symbols_fftcorr\u001b[0m:\u001b[36m47\u001b[0m - \u001b[33m\u001b[1mremoved 4 symbols  [133 / 137]\u001b[0m\n"
     ]
    },
    {
     "name": "stderr",
     "output_type": "stream",
     "text": [
      " 68%|██████▊   | 41/60 [01:13<00:44,  2.34s/it]"
     ]
    },
    {
     "name": "stdout",
     "output_type": "stream",
     "text": [
      "\u001b[32m2020-04-14 15:51:10.581\u001b[0m | \u001b[33m\u001b[1mWARNING \u001b[0m | \u001b[36m__main__\u001b[0m:\u001b[36m<module>\u001b[0m:\u001b[36m6\u001b[0m - \u001b[33m\u001b[1mworking file DotPFile(id=41 | name='lora_BW2_SF10_915MHz_20ksps_Att0_d4.p')\u001b[0m\n",
      "\u001b[32m2020-04-14 15:51:10.583\u001b[0m | \u001b[34m\u001b[1mDEBUG   \u001b[0m | \u001b[36mlorapy.datafile.encoding\u001b[0m:\u001b[36mcompute_params\u001b[0m:\u001b[36m15\u001b[0m - \u001b[34m\u001b[1mcomputed samples per symbol: 12802 and packet length: 387260\u001b[0m\n",
      "\u001b[32m2020-04-14 15:51:10.786\u001b[0m | \u001b[1mINFO    \u001b[0m | \u001b[36mlorapy.datafile._base_file\u001b[0m:\u001b[36mload\u001b[0m:\u001b[36m61\u001b[0m - \u001b[1mloaded 8692558 samples from file\u001b[0m\n"
     ]
    },
    {
     "data": {
      "text/plain": [
       "BaselineSymbolSet(num symbols=679 | BW: 2 | SF: 10 | Att: 0 | samples per symbol: 12802 | packet length: 387260)"
      ]
     },
     "metadata": {},
     "output_type": "display_data"
    },
    {
     "name": "stdout",
     "output_type": "stream",
     "text": [
      "\u001b[32m2020-04-14 15:51:10.791\u001b[0m | \u001b[34m\u001b[1mDEBUG   \u001b[0m | \u001b[36mlorapy.datafile.encoding\u001b[0m:\u001b[36mcompute_params\u001b[0m:\u001b[36m15\u001b[0m - \u001b[34m\u001b[1mcomputed samples per symbol: 12802 and packet length: 387260\u001b[0m\n",
      "\u001b[32m2020-04-14 15:51:10.792\u001b[0m | \u001b[1mINFO    \u001b[0m | \u001b[36mlorapy.datafile._base_file\u001b[0m:\u001b[36mload\u001b[0m:\u001b[36m61\u001b[0m - \u001b[1mloaded 12801 samples from file\u001b[0m\n"
     ]
    },
    {
     "data": {
      "text/plain": [
       "BaselineSymbolSet(num symbols=12801 | BW: 2 | SF: 10 | Att: 0 | samples per symbol: 12802 | packet length: 387260)"
      ]
     },
     "metadata": {},
     "output_type": "display_data"
    },
    {
     "name": "stdout",
     "output_type": "stream",
     "text": [
      "\u001b[32m2020-04-14 15:51:10.794\u001b[0m | \u001b[33m\u001b[1mWARNING \u001b[0m | \u001b[36m__main__\u001b[0m:\u001b[36m_mp_compute_corr\u001b[0m:\u001b[36m13\u001b[0m - \u001b[33m\u001b[1mbeginning multiprocessing..\u001b[0m\n",
      "\u001b[32m2020-04-14 15:51:12.194\u001b[0m | \u001b[33m\u001b[1mWARNING \u001b[0m | \u001b[36m__main__\u001b[0m:\u001b[36m_mp_compute_corr\u001b[0m:\u001b[36m19\u001b[0m - \u001b[33m\u001b[1mcompleted multiprocessing\u001b[0m\n",
      "\u001b[32m2020-04-14 15:51:12.198\u001b[0m | \u001b[1mINFO    \u001b[0m | \u001b[36m__main__\u001b[0m:\u001b[36mfilter_symbols_fftcorr\u001b[0m:\u001b[36m41\u001b[0m - \u001b[1mset threshold: 3.439235\u001b[0m\n",
      "\u001b[32m2020-04-14 15:51:12.228\u001b[0m | \u001b[33m\u001b[1mWARNING \u001b[0m | \u001b[36m__main__\u001b[0m:\u001b[36mfilter_symbols_fftcorr\u001b[0m:\u001b[36m47\u001b[0m - \u001b[33m\u001b[1mremoved 14 symbols  [665 / 679]\u001b[0m\n"
     ]
    },
    {
     "name": "stderr",
     "output_type": "stream",
     "text": [
      " 70%|███████   | 42/60 [01:14<00:38,  2.16s/it]"
     ]
    },
    {
     "name": "stdout",
     "output_type": "stream",
     "text": [
      "\u001b[32m2020-04-14 15:51:12.341\u001b[0m | \u001b[33m\u001b[1mWARNING \u001b[0m | \u001b[36m__main__\u001b[0m:\u001b[36m<module>\u001b[0m:\u001b[36m6\u001b[0m - \u001b[33m\u001b[1mworking file DotPFile(id=42 | name='lora_BW1_SF10_915MHz_20ksps_Att0_d4.p')\u001b[0m\n",
      "\u001b[32m2020-04-14 15:51:12.342\u001b[0m | \u001b[34m\u001b[1mDEBUG   \u001b[0m | \u001b[36mlorapy.datafile.encoding\u001b[0m:\u001b[36mcompute_params\u001b[0m:\u001b[36m15\u001b[0m - \u001b[34m\u001b[1mcomputed samples per symbol: 19198 and packet length: 580739\u001b[0m\n",
      "\u001b[32m2020-04-14 15:51:12.500\u001b[0m | \u001b[1mINFO    \u001b[0m | \u001b[36mlorapy.datafile._base_file\u001b[0m:\u001b[36mload\u001b[0m:\u001b[36m61\u001b[0m - \u001b[1mloaded 8312734 samples from file\u001b[0m\n"
     ]
    },
    {
     "data": {
      "text/plain": [
       "BaselineSymbolSet(num symbols=433 | BW: 1 | SF: 10 | Att: 0 | samples per symbol: 19198 | packet length: 580739)"
      ]
     },
     "metadata": {},
     "output_type": "display_data"
    },
    {
     "name": "stdout",
     "output_type": "stream",
     "text": [
      "\u001b[32m2020-04-14 15:51:12.504\u001b[0m | \u001b[34m\u001b[1mDEBUG   \u001b[0m | \u001b[36mlorapy.datafile.encoding\u001b[0m:\u001b[36mcompute_params\u001b[0m:\u001b[36m15\u001b[0m - \u001b[34m\u001b[1mcomputed samples per symbol: 19198 and packet length: 580739\u001b[0m\n",
      "\u001b[32m2020-04-14 15:51:12.506\u001b[0m | \u001b[1mINFO    \u001b[0m | \u001b[36mlorapy.datafile._base_file\u001b[0m:\u001b[36mload\u001b[0m:\u001b[36m61\u001b[0m - \u001b[1mloaded 19197 samples from file\u001b[0m\n"
     ]
    },
    {
     "data": {
      "text/plain": [
       "BaselineSymbolSet(num symbols=19197 | BW: 1 | SF: 10 | Att: 0 | samples per symbol: 19198 | packet length: 580739)"
      ]
     },
     "metadata": {},
     "output_type": "display_data"
    },
    {
     "name": "stdout",
     "output_type": "stream",
     "text": [
      "\u001b[32m2020-04-14 15:51:12.508\u001b[0m | \u001b[33m\u001b[1mWARNING \u001b[0m | \u001b[36m__main__\u001b[0m:\u001b[36m_mp_compute_corr\u001b[0m:\u001b[36m13\u001b[0m - \u001b[33m\u001b[1mbeginning multiprocessing..\u001b[0m\n",
      "\u001b[32m2020-04-14 15:51:13.726\u001b[0m | \u001b[33m\u001b[1mWARNING \u001b[0m | \u001b[36m__main__\u001b[0m:\u001b[36m_mp_compute_corr\u001b[0m:\u001b[36m19\u001b[0m - \u001b[33m\u001b[1mcompleted multiprocessing\u001b[0m\n",
      "\u001b[32m2020-04-14 15:51:13.729\u001b[0m | \u001b[1mINFO    \u001b[0m | \u001b[36m__main__\u001b[0m:\u001b[36mfilter_symbols_fftcorr\u001b[0m:\u001b[36m41\u001b[0m - \u001b[1mset threshold: 8.693714\u001b[0m\n",
      "\u001b[32m2020-04-14 15:51:13.765\u001b[0m | \u001b[33m\u001b[1mWARNING \u001b[0m | \u001b[36m__main__\u001b[0m:\u001b[36mfilter_symbols_fftcorr\u001b[0m:\u001b[36m47\u001b[0m - \u001b[33m\u001b[1mremoved 38 symbols  [395 / 433]\u001b[0m\n"
     ]
    },
    {
     "name": "stderr",
     "output_type": "stream",
     "text": [
      " 72%|███████▏  | 43/60 [01:16<00:33,  1.98s/it]"
     ]
    },
    {
     "name": "stdout",
     "output_type": "stream",
     "text": [
      "\u001b[32m2020-04-14 15:51:13.892\u001b[0m | \u001b[33m\u001b[1mWARNING \u001b[0m | \u001b[36m__main__\u001b[0m:\u001b[36m<module>\u001b[0m:\u001b[36m6\u001b[0m - \u001b[33m\u001b[1mworking file DotPFile(id=43 | name='lora_BW8_SF10_915MHz_20ksps_Att0_d4.p')\u001b[0m\n",
      "\u001b[32m2020-04-14 15:51:13.893\u001b[0m | \u001b[34m\u001b[1mDEBUG   \u001b[0m | \u001b[36mlorapy.datafile.encoding\u001b[0m:\u001b[36mcompute_params\u001b[0m:\u001b[36m15\u001b[0m - \u001b[34m\u001b[1mcomputed samples per symbol: 800 and packet length: 24200\u001b[0m\n",
      "\u001b[32m2020-04-14 15:51:14.095\u001b[0m | \u001b[1mINFO    \u001b[0m | \u001b[36mlorapy.datafile._base_file\u001b[0m:\u001b[36mload\u001b[0m:\u001b[36m61\u001b[0m - \u001b[1mloaded 7859200 samples from file\u001b[0m\n"
     ]
    },
    {
     "data": {
      "text/plain": [
       "BaselineSymbolSet(num symbols=9824 | BW: 8 | SF: 10 | Att: 0 | samples per symbol: 800 | packet length: 24200)"
      ]
     },
     "metadata": {},
     "output_type": "display_data"
    },
    {
     "name": "stdout",
     "output_type": "stream",
     "text": [
      "\u001b[32m2020-04-14 15:51:14.100\u001b[0m | \u001b[34m\u001b[1mDEBUG   \u001b[0m | \u001b[36mlorapy.datafile.encoding\u001b[0m:\u001b[36mcompute_params\u001b[0m:\u001b[36m15\u001b[0m - \u001b[34m\u001b[1mcomputed samples per symbol: 800 and packet length: 24200\u001b[0m\n",
      "\u001b[32m2020-04-14 15:51:14.101\u001b[0m | \u001b[1mINFO    \u001b[0m | \u001b[36mlorapy.datafile._base_file\u001b[0m:\u001b[36mload\u001b[0m:\u001b[36m61\u001b[0m - \u001b[1mloaded 799 samples from file\u001b[0m\n"
     ]
    },
    {
     "data": {
      "text/plain": [
       "BaselineSymbolSet(num symbols=799 | BW: 8 | SF: 10 | Att: 0 | samples per symbol: 800 | packet length: 24200)"
      ]
     },
     "metadata": {},
     "output_type": "display_data"
    },
    {
     "name": "stdout",
     "output_type": "stream",
     "text": [
      "\u001b[32m2020-04-14 15:51:14.104\u001b[0m | \u001b[33m\u001b[1mWARNING \u001b[0m | \u001b[36m__main__\u001b[0m:\u001b[36m_mp_compute_corr\u001b[0m:\u001b[36m13\u001b[0m - \u001b[33m\u001b[1mbeginning multiprocessing..\u001b[0m\n",
      "\u001b[32m2020-04-14 15:51:15.904\u001b[0m | \u001b[33m\u001b[1mWARNING \u001b[0m | \u001b[36m__main__\u001b[0m:\u001b[36m_mp_compute_corr\u001b[0m:\u001b[36m19\u001b[0m - \u001b[33m\u001b[1mcompleted multiprocessing\u001b[0m\n",
      "\u001b[32m2020-04-14 15:51:15.910\u001b[0m | \u001b[1mINFO    \u001b[0m | \u001b[36m__main__\u001b[0m:\u001b[36mfilter_symbols_fftcorr\u001b[0m:\u001b[36m41\u001b[0m - \u001b[1mset threshold: 0.025805\u001b[0m\n",
      "\u001b[32m2020-04-14 15:51:15.963\u001b[0m | \u001b[33m\u001b[1mWARNING \u001b[0m | \u001b[36m__main__\u001b[0m:\u001b[36mfilter_symbols_fftcorr\u001b[0m:\u001b[36m47\u001b[0m - \u001b[33m\u001b[1mremoved 2148 symbols  [7676 / 9824]\u001b[0m\n"
     ]
    },
    {
     "name": "stderr",
     "output_type": "stream",
     "text": [
      " 73%|███████▎  | 44/60 [01:18<00:32,  2.04s/it]"
     ]
    },
    {
     "name": "stdout",
     "output_type": "stream",
     "text": [
      "\u001b[32m2020-04-14 15:51:16.064\u001b[0m | \u001b[33m\u001b[1mWARNING \u001b[0m | \u001b[36m__main__\u001b[0m:\u001b[36m<module>\u001b[0m:\u001b[36m6\u001b[0m - \u001b[33m\u001b[1mworking file DotPFile(id=44 | name='lora_BW8_SF11_915MHz_20ksps_Att0_d4.p')\u001b[0m\n",
      "\u001b[32m2020-04-14 15:51:16.066\u001b[0m | \u001b[34m\u001b[1mDEBUG   \u001b[0m | \u001b[36mlorapy.datafile.encoding\u001b[0m:\u001b[36mcompute_params\u001b[0m:\u001b[36m15\u001b[0m - \u001b[34m\u001b[1mcomputed samples per symbol: 1599 and packet length: 48369\u001b[0m\n",
      "\u001b[32m2020-04-14 15:51:16.582\u001b[0m | \u001b[1mINFO    \u001b[0m | \u001b[36mlorapy.datafile._base_file\u001b[0m:\u001b[36mload\u001b[0m:\u001b[36m61\u001b[0m - \u001b[1mloaded 7916649 samples from file\u001b[0m\n"
     ]
    },
    {
     "data": {
      "text/plain": [
       "BaselineSymbolSet(num symbols=4951 | BW: 8 | SF: 11 | Att: 0 | samples per symbol: 1599 | packet length: 48369)"
      ]
     },
     "metadata": {},
     "output_type": "display_data"
    },
    {
     "name": "stdout",
     "output_type": "stream",
     "text": [
      "\u001b[32m2020-04-14 15:51:16.587\u001b[0m | \u001b[34m\u001b[1mDEBUG   \u001b[0m | \u001b[36mlorapy.datafile.encoding\u001b[0m:\u001b[36mcompute_params\u001b[0m:\u001b[36m15\u001b[0m - \u001b[34m\u001b[1mcomputed samples per symbol: 1599 and packet length: 48369\u001b[0m\n",
      "\u001b[32m2020-04-14 15:51:16.588\u001b[0m | \u001b[1mINFO    \u001b[0m | \u001b[36mlorapy.datafile._base_file\u001b[0m:\u001b[36mload\u001b[0m:\u001b[36m61\u001b[0m - \u001b[1mloaded 1599 samples from file\u001b[0m\n"
     ]
    },
    {
     "data": {
      "text/plain": [
       "BaselineSymbolSet(num symbols=1599 | BW: 8 | SF: 11 | Att: 0 | samples per symbol: 1599 | packet length: 48369)"
      ]
     },
     "metadata": {},
     "output_type": "display_data"
    },
    {
     "name": "stdout",
     "output_type": "stream",
     "text": [
      "\u001b[32m2020-04-14 15:51:16.590\u001b[0m | \u001b[33m\u001b[1mWARNING \u001b[0m | \u001b[36m__main__\u001b[0m:\u001b[36m_mp_compute_corr\u001b[0m:\u001b[36m13\u001b[0m - \u001b[33m\u001b[1mbeginning multiprocessing..\u001b[0m\n",
      "\u001b[32m2020-04-14 15:51:19.507\u001b[0m | \u001b[33m\u001b[1mWARNING \u001b[0m | \u001b[36m__main__\u001b[0m:\u001b[36m_mp_compute_corr\u001b[0m:\u001b[36m19\u001b[0m - \u001b[33m\u001b[1mcompleted multiprocessing\u001b[0m\n",
      "\u001b[32m2020-04-14 15:51:19.511\u001b[0m | \u001b[1mINFO    \u001b[0m | \u001b[36m__main__\u001b[0m:\u001b[36mfilter_symbols_fftcorr\u001b[0m:\u001b[36m41\u001b[0m - \u001b[1mset threshold: 0.057717\u001b[0m\n",
      "\u001b[32m2020-04-14 15:51:19.597\u001b[0m | \u001b[33m\u001b[1mWARNING \u001b[0m | \u001b[36m__main__\u001b[0m:\u001b[36mfilter_symbols_fftcorr\u001b[0m:\u001b[36m47\u001b[0m - \u001b[33m\u001b[1mremoved 559 symbols  [4392 / 4951]\u001b[0m\n"
     ]
    },
    {
     "name": "stderr",
     "output_type": "stream",
     "text": [
      " 75%|███████▌  | 45/60 [01:22<00:38,  2.56s/it]"
     ]
    },
    {
     "name": "stdout",
     "output_type": "stream",
     "text": [
      "\u001b[32m2020-04-14 15:51:19.853\u001b[0m | \u001b[33m\u001b[1mWARNING \u001b[0m | \u001b[36m__main__\u001b[0m:\u001b[36m<module>\u001b[0m:\u001b[36m6\u001b[0m - \u001b[33m\u001b[1mworking file DotPFile(id=45 | name='lora_BW8_SF10_915MHz_20ksps_Att0_d3.p')\u001b[0m\n",
      "\u001b[32m2020-04-14 15:51:19.855\u001b[0m | \u001b[34m\u001b[1mDEBUG   \u001b[0m | \u001b[36mlorapy.datafile.encoding\u001b[0m:\u001b[36mcompute_params\u001b[0m:\u001b[36m15\u001b[0m - \u001b[34m\u001b[1mcomputed samples per symbol: 800 and packet length: 24200\u001b[0m\n",
      "\u001b[32m2020-04-14 15:51:20.238\u001b[0m | \u001b[1mINFO    \u001b[0m | \u001b[36mlorapy.datafile._base_file\u001b[0m:\u001b[36mload\u001b[0m:\u001b[36m61\u001b[0m - \u001b[1mloaded 7820800 samples from file\u001b[0m\n"
     ]
    },
    {
     "data": {
      "text/plain": [
       "BaselineSymbolSet(num symbols=9776 | BW: 8 | SF: 10 | Att: 0 | samples per symbol: 800 | packet length: 24200)"
      ]
     },
     "metadata": {},
     "output_type": "display_data"
    },
    {
     "name": "stdout",
     "output_type": "stream",
     "text": [
      "\u001b[32m2020-04-14 15:51:20.243\u001b[0m | \u001b[34m\u001b[1mDEBUG   \u001b[0m | \u001b[36mlorapy.datafile.encoding\u001b[0m:\u001b[36mcompute_params\u001b[0m:\u001b[36m15\u001b[0m - \u001b[34m\u001b[1mcomputed samples per symbol: 800 and packet length: 24200\u001b[0m\n",
      "\u001b[32m2020-04-14 15:51:20.244\u001b[0m | \u001b[1mINFO    \u001b[0m | \u001b[36mlorapy.datafile._base_file\u001b[0m:\u001b[36mload\u001b[0m:\u001b[36m61\u001b[0m - \u001b[1mloaded 799 samples from file\u001b[0m\n"
     ]
    },
    {
     "data": {
      "text/plain": [
       "BaselineSymbolSet(num symbols=799 | BW: 8 | SF: 10 | Att: 0 | samples per symbol: 800 | packet length: 24200)"
      ]
     },
     "metadata": {},
     "output_type": "display_data"
    },
    {
     "name": "stdout",
     "output_type": "stream",
     "text": [
      "\u001b[32m2020-04-14 15:51:20.246\u001b[0m | \u001b[33m\u001b[1mWARNING \u001b[0m | \u001b[36m__main__\u001b[0m:\u001b[36m_mp_compute_corr\u001b[0m:\u001b[36m13\u001b[0m - \u001b[33m\u001b[1mbeginning multiprocessing..\u001b[0m\n",
      "\u001b[32m2020-04-14 15:51:22.234\u001b[0m | \u001b[33m\u001b[1mWARNING \u001b[0m | \u001b[36m__main__\u001b[0m:\u001b[36m_mp_compute_corr\u001b[0m:\u001b[36m19\u001b[0m - \u001b[33m\u001b[1mcompleted multiprocessing\u001b[0m\n",
      "\u001b[32m2020-04-14 15:51:22.239\u001b[0m | \u001b[1mINFO    \u001b[0m | \u001b[36m__main__\u001b[0m:\u001b[36mfilter_symbols_fftcorr\u001b[0m:\u001b[36m41\u001b[0m - \u001b[1mset threshold: 0.075308\u001b[0m\n",
      "\u001b[32m2020-04-14 15:51:22.325\u001b[0m | \u001b[33m\u001b[1mWARNING \u001b[0m | \u001b[36m__main__\u001b[0m:\u001b[36mfilter_symbols_fftcorr\u001b[0m:\u001b[36m47\u001b[0m - \u001b[33m\u001b[1mremoved 2105 symbols  [7671 / 9776]\u001b[0m\n"
     ]
    },
    {
     "name": "stderr",
     "output_type": "stream",
     "text": [
      " 77%|███████▋  | 46/60 [01:25<00:36,  2.58s/it]"
     ]
    },
    {
     "name": "stdout",
     "output_type": "stream",
     "text": [
      "\u001b[32m2020-04-14 15:51:22.486\u001b[0m | \u001b[33m\u001b[1mWARNING \u001b[0m | \u001b[36m__main__\u001b[0m:\u001b[36m<module>\u001b[0m:\u001b[36m6\u001b[0m - \u001b[33m\u001b[1mworking file DotPFile(id=46 | name='lora_BW9_SF12_915MHz_20ksps_Att0_d3.p')\u001b[0m\n",
      "\u001b[32m2020-04-14 15:51:22.488\u001b[0m | \u001b[34m\u001b[1mDEBUG   \u001b[0m | \u001b[36mlorapy.datafile.encoding\u001b[0m:\u001b[36mcompute_params\u001b[0m:\u001b[36m15\u001b[0m - \u001b[34m\u001b[1mcomputed samples per symbol: 1599 and packet length: 48369\u001b[0m\n",
      "\u001b[32m2020-04-14 15:51:22.885\u001b[0m | \u001b[1mINFO    \u001b[0m | \u001b[36mlorapy.datafile._base_file\u001b[0m:\u001b[36mload\u001b[0m:\u001b[36m61\u001b[0m - \u001b[1mloaded 7678398 samples from file\u001b[0m\n"
     ]
    },
    {
     "data": {
      "text/plain": [
       "BaselineSymbolSet(num symbols=4802 | BW: 9 | SF: 12 | Att: 0 | samples per symbol: 1599 | packet length: 48369)"
      ]
     },
     "metadata": {},
     "output_type": "display_data"
    },
    {
     "name": "stdout",
     "output_type": "stream",
     "text": [
      "\u001b[32m2020-04-14 15:51:22.889\u001b[0m | \u001b[34m\u001b[1mDEBUG   \u001b[0m | \u001b[36mlorapy.datafile.encoding\u001b[0m:\u001b[36mcompute_params\u001b[0m:\u001b[36m15\u001b[0m - \u001b[34m\u001b[1mcomputed samples per symbol: 1599 and packet length: 48369\u001b[0m\n",
      "\u001b[32m2020-04-14 15:51:22.890\u001b[0m | \u001b[1mINFO    \u001b[0m | \u001b[36mlorapy.datafile._base_file\u001b[0m:\u001b[36mload\u001b[0m:\u001b[36m61\u001b[0m - \u001b[1mloaded 1599 samples from file\u001b[0m\n"
     ]
    },
    {
     "data": {
      "text/plain": [
       "BaselineSymbolSet(num symbols=1599 | BW: 9 | SF: 12 | Att: 0 | samples per symbol: 1599 | packet length: 48369)"
      ]
     },
     "metadata": {},
     "output_type": "display_data"
    },
    {
     "name": "stdout",
     "output_type": "stream",
     "text": [
      "\u001b[32m2020-04-14 15:51:22.892\u001b[0m | \u001b[33m\u001b[1mWARNING \u001b[0m | \u001b[36m__main__\u001b[0m:\u001b[36m_mp_compute_corr\u001b[0m:\u001b[36m13\u001b[0m - \u001b[33m\u001b[1mbeginning multiprocessing..\u001b[0m\n",
      "\u001b[32m2020-04-14 15:51:25.703\u001b[0m | \u001b[33m\u001b[1mWARNING \u001b[0m | \u001b[36m__main__\u001b[0m:\u001b[36m_mp_compute_corr\u001b[0m:\u001b[36m19\u001b[0m - \u001b[33m\u001b[1mcompleted multiprocessing\u001b[0m\n",
      "\u001b[32m2020-04-14 15:51:25.707\u001b[0m | \u001b[1mINFO    \u001b[0m | \u001b[36m__main__\u001b[0m:\u001b[36mfilter_symbols_fftcorr\u001b[0m:\u001b[36m41\u001b[0m - \u001b[1mset threshold: 0.062133\u001b[0m\n",
      "\u001b[32m2020-04-14 15:51:25.791\u001b[0m | \u001b[33m\u001b[1mWARNING \u001b[0m | \u001b[36m__main__\u001b[0m:\u001b[36mfilter_symbols_fftcorr\u001b[0m:\u001b[36m47\u001b[0m - \u001b[33m\u001b[1mremoved 518 symbols  [4284 / 4802]\u001b[0m\n"
     ]
    },
    {
     "name": "stderr",
     "output_type": "stream",
     "text": [
      " 78%|███████▊  | 47/60 [01:28<00:37,  2.86s/it]"
     ]
    },
    {
     "name": "stdout",
     "output_type": "stream",
     "text": [
      "\u001b[32m2020-04-14 15:51:25.982\u001b[0m | \u001b[33m\u001b[1mWARNING \u001b[0m | \u001b[36m__main__\u001b[0m:\u001b[36m<module>\u001b[0m:\u001b[36m6\u001b[0m - \u001b[33m\u001b[1mworking file DotPFile(id=47 | name='lora_BW7_SF10_915MHz_20ksps_Att0_d3.p')\u001b[0m\n",
      "\u001b[32m2020-04-14 15:51:25.983\u001b[0m | \u001b[34m\u001b[1mDEBUG   \u001b[0m | \u001b[36mlorapy.datafile.encoding\u001b[0m:\u001b[36mcompute_params\u001b[0m:\u001b[36m15\u001b[0m - \u001b[34m\u001b[1mcomputed samples per symbol: 1599 and packet length: 48369\u001b[0m\n",
      "\u001b[32m2020-04-14 15:51:26.134\u001b[0m | \u001b[1mINFO    \u001b[0m | \u001b[36mlorapy.datafile._base_file\u001b[0m:\u001b[36mload\u001b[0m:\u001b[36m61\u001b[0m - \u001b[1mloaded 7627230 samples from file\u001b[0m\n"
     ]
    },
    {
     "data": {
      "text/plain": [
       "BaselineSymbolSet(num symbols=4770 | BW: 7 | SF: 10 | Att: 0 | samples per symbol: 1599 | packet length: 48369)"
      ]
     },
     "metadata": {},
     "output_type": "display_data"
    },
    {
     "name": "stdout",
     "output_type": "stream",
     "text": [
      "\u001b[32m2020-04-14 15:51:26.139\u001b[0m | \u001b[34m\u001b[1mDEBUG   \u001b[0m | \u001b[36mlorapy.datafile.encoding\u001b[0m:\u001b[36mcompute_params\u001b[0m:\u001b[36m15\u001b[0m - \u001b[34m\u001b[1mcomputed samples per symbol: 1599 and packet length: 48369\u001b[0m\n",
      "\u001b[32m2020-04-14 15:51:26.140\u001b[0m | \u001b[1mINFO    \u001b[0m | \u001b[36mlorapy.datafile._base_file\u001b[0m:\u001b[36mload\u001b[0m:\u001b[36m61\u001b[0m - \u001b[1mloaded 1599 samples from file\u001b[0m\n"
     ]
    },
    {
     "data": {
      "text/plain": [
       "BaselineSymbolSet(num symbols=1599 | BW: 7 | SF: 10 | Att: 0 | samples per symbol: 1599 | packet length: 48369)"
      ]
     },
     "metadata": {},
     "output_type": "display_data"
    },
    {
     "name": "stdout",
     "output_type": "stream",
     "text": [
      "\u001b[32m2020-04-14 15:51:26.142\u001b[0m | \u001b[33m\u001b[1mWARNING \u001b[0m | \u001b[36m__main__\u001b[0m:\u001b[36m_mp_compute_corr\u001b[0m:\u001b[36m13\u001b[0m - \u001b[33m\u001b[1mbeginning multiprocessing..\u001b[0m\n",
      "\u001b[32m2020-04-14 15:51:27.931\u001b[0m | \u001b[33m\u001b[1mWARNING \u001b[0m | \u001b[36m__main__\u001b[0m:\u001b[36m_mp_compute_corr\u001b[0m:\u001b[36m19\u001b[0m - \u001b[33m\u001b[1mcompleted multiprocessing\u001b[0m\n",
      "\u001b[32m2020-04-14 15:51:27.934\u001b[0m | \u001b[1mINFO    \u001b[0m | \u001b[36m__main__\u001b[0m:\u001b[36mfilter_symbols_fftcorr\u001b[0m:\u001b[36m41\u001b[0m - \u001b[1mset threshold: 0.366587\u001b[0m\n",
      "\u001b[32m2020-04-14 15:51:27.995\u001b[0m | \u001b[33m\u001b[1mWARNING \u001b[0m | \u001b[36m__main__\u001b[0m:\u001b[36mfilter_symbols_fftcorr\u001b[0m:\u001b[36m47\u001b[0m - \u001b[33m\u001b[1mremoved 575 symbols  [4195 / 4770]\u001b[0m\n"
     ]
    },
    {
     "name": "stderr",
     "output_type": "stream",
     "text": [
      " 80%|████████  | 48/60 [01:30<00:31,  2.64s/it]"
     ]
    },
    {
     "name": "stdout",
     "output_type": "stream",
     "text": [
      "\u001b[32m2020-04-14 15:51:28.110\u001b[0m | \u001b[33m\u001b[1mWARNING \u001b[0m | \u001b[36m__main__\u001b[0m:\u001b[36m<module>\u001b[0m:\u001b[36m6\u001b[0m - \u001b[33m\u001b[1mworking file DotPFile(id=48 | name='lora_BW7_SF11_915MHz_20ksps_Att0_d3.p')\u001b[0m\n",
      "\u001b[32m2020-04-14 15:51:28.111\u001b[0m | \u001b[34m\u001b[1mDEBUG   \u001b[0m | \u001b[36mlorapy.datafile.encoding\u001b[0m:\u001b[36mcompute_params\u001b[0m:\u001b[36m15\u001b[0m - \u001b[34m\u001b[1mcomputed samples per symbol: 3198 and packet length: 96739\u001b[0m\n",
      "\u001b[32m2020-04-14 15:51:28.313\u001b[0m | \u001b[1mINFO    \u001b[0m | \u001b[36mlorapy.datafile._base_file\u001b[0m:\u001b[36mload\u001b[0m:\u001b[36m61\u001b[0m - \u001b[1mloaded 7931040 samples from file\u001b[0m\n"
     ]
    },
    {
     "data": {
      "text/plain": [
       "BaselineSymbolSet(num symbols=2480 | BW: 7 | SF: 11 | Att: 0 | samples per symbol: 3198 | packet length: 96739)"
      ]
     },
     "metadata": {},
     "output_type": "display_data"
    },
    {
     "name": "stdout",
     "output_type": "stream",
     "text": [
      "\u001b[32m2020-04-14 15:51:28.318\u001b[0m | \u001b[34m\u001b[1mDEBUG   \u001b[0m | \u001b[36mlorapy.datafile.encoding\u001b[0m:\u001b[36mcompute_params\u001b[0m:\u001b[36m15\u001b[0m - \u001b[34m\u001b[1mcomputed samples per symbol: 3198 and packet length: 96739\u001b[0m\n",
      "\u001b[32m2020-04-14 15:51:28.319\u001b[0m | \u001b[1mINFO    \u001b[0m | \u001b[36mlorapy.datafile._base_file\u001b[0m:\u001b[36mload\u001b[0m:\u001b[36m61\u001b[0m - \u001b[1mloaded 3198 samples from file\u001b[0m\n"
     ]
    },
    {
     "data": {
      "text/plain": [
       "BaselineSymbolSet(num symbols=3198 | BW: 7 | SF: 11 | Att: 0 | samples per symbol: 3198 | packet length: 96739)"
      ]
     },
     "metadata": {},
     "output_type": "display_data"
    },
    {
     "name": "stdout",
     "output_type": "stream",
     "text": [
      "\u001b[32m2020-04-14 15:51:28.321\u001b[0m | \u001b[33m\u001b[1mWARNING \u001b[0m | \u001b[36m__main__\u001b[0m:\u001b[36m_mp_compute_corr\u001b[0m:\u001b[36m13\u001b[0m - \u001b[33m\u001b[1mbeginning multiprocessing..\u001b[0m\n",
      "\u001b[32m2020-04-14 15:51:29.772\u001b[0m | \u001b[33m\u001b[1mWARNING \u001b[0m | \u001b[36m__main__\u001b[0m:\u001b[36m_mp_compute_corr\u001b[0m:\u001b[36m19\u001b[0m - \u001b[33m\u001b[1mcompleted multiprocessing\u001b[0m\n",
      "\u001b[32m2020-04-14 15:51:29.776\u001b[0m | \u001b[1mINFO    \u001b[0m | \u001b[36m__main__\u001b[0m:\u001b[36mfilter_symbols_fftcorr\u001b[0m:\u001b[36m41\u001b[0m - \u001b[1mset threshold: 0.672418\u001b[0m\n",
      "\u001b[32m2020-04-14 15:51:29.820\u001b[0m | \u001b[33m\u001b[1mWARNING \u001b[0m | \u001b[36m__main__\u001b[0m:\u001b[36mfilter_symbols_fftcorr\u001b[0m:\u001b[36m47\u001b[0m - \u001b[33m\u001b[1mremoved 0 symbols  [2480 / 2480]\u001b[0m\n"
     ]
    },
    {
     "name": "stderr",
     "output_type": "stream",
     "text": [
      " 82%|████████▏ | 49/60 [01:32<00:26,  2.39s/it]"
     ]
    },
    {
     "name": "stdout",
     "output_type": "stream",
     "text": [
      "\u001b[32m2020-04-14 15:51:29.929\u001b[0m | \u001b[33m\u001b[1mWARNING \u001b[0m | \u001b[36m__main__\u001b[0m:\u001b[36m<module>\u001b[0m:\u001b[36m6\u001b[0m - \u001b[33m\u001b[1mworking file DotPFile(id=49 | name='lora_BW2_SF11_915MHz_20ksps_Att0_d3.p')\u001b[0m\n",
      "\u001b[32m2020-04-14 15:51:29.930\u001b[0m | \u001b[34m\u001b[1mDEBUG   \u001b[0m | \u001b[36mlorapy.datafile.encoding\u001b[0m:\u001b[36mcompute_params\u001b[0m:\u001b[36m15\u001b[0m - \u001b[34m\u001b[1mcomputed samples per symbol: 25604 and packet length: 774521\u001b[0m\n",
      "\u001b[32m2020-04-14 15:51:30.362\u001b[0m | \u001b[1mINFO    \u001b[0m | \u001b[36mlorapy.datafile._base_file\u001b[0m:\u001b[36mload\u001b[0m:\u001b[36m61\u001b[0m - \u001b[1mloaded 8500528 samples from file\u001b[0m\n"
     ]
    },
    {
     "data": {
      "text/plain": [
       "BaselineSymbolSet(num symbols=332 | BW: 2 | SF: 11 | Att: 0 | samples per symbol: 25604 | packet length: 774521)"
      ]
     },
     "metadata": {},
     "output_type": "display_data"
    },
    {
     "name": "stdout",
     "output_type": "stream",
     "text": [
      "\u001b[32m2020-04-14 15:51:30.366\u001b[0m | \u001b[34m\u001b[1mDEBUG   \u001b[0m | \u001b[36mlorapy.datafile.encoding\u001b[0m:\u001b[36mcompute_params\u001b[0m:\u001b[36m15\u001b[0m - \u001b[34m\u001b[1mcomputed samples per symbol: 25604 and packet length: 774521\u001b[0m\n",
      "\u001b[32m2020-04-14 15:51:30.367\u001b[0m | \u001b[1mINFO    \u001b[0m | \u001b[36mlorapy.datafile._base_file\u001b[0m:\u001b[36mload\u001b[0m:\u001b[36m61\u001b[0m - \u001b[1mloaded 25603 samples from file\u001b[0m\n"
     ]
    },
    {
     "data": {
      "text/plain": [
       "BaselineSymbolSet(num symbols=25603 | BW: 2 | SF: 11 | Att: 0 | samples per symbol: 25604 | packet length: 774521)"
      ]
     },
     "metadata": {},
     "output_type": "display_data"
    },
    {
     "name": "stdout",
     "output_type": "stream",
     "text": [
      "\u001b[32m2020-04-14 15:51:30.369\u001b[0m | \u001b[33m\u001b[1mWARNING \u001b[0m | \u001b[36m__main__\u001b[0m:\u001b[36m_mp_compute_corr\u001b[0m:\u001b[36m13\u001b[0m - \u001b[33m\u001b[1mbeginning multiprocessing..\u001b[0m\n",
      "\u001b[32m2020-04-14 15:51:32.015\u001b[0m | \u001b[33m\u001b[1mWARNING \u001b[0m | \u001b[36m__main__\u001b[0m:\u001b[36m_mp_compute_corr\u001b[0m:\u001b[36m19\u001b[0m - \u001b[33m\u001b[1mcompleted multiprocessing\u001b[0m\n",
      "\u001b[32m2020-04-14 15:51:32.018\u001b[0m | \u001b[1mINFO    \u001b[0m | \u001b[36m__main__\u001b[0m:\u001b[36mfilter_symbols_fftcorr\u001b[0m:\u001b[36m41\u001b[0m - \u001b[1mset threshold: 52.264070\u001b[0m\n",
      "\u001b[32m2020-04-14 15:51:32.087\u001b[0m | \u001b[33m\u001b[1mWARNING \u001b[0m | \u001b[36m__main__\u001b[0m:\u001b[36mfilter_symbols_fftcorr\u001b[0m:\u001b[36m47\u001b[0m - \u001b[33m\u001b[1mremoved 0 symbols  [332 / 332]\u001b[0m\n"
     ]
    },
    {
     "name": "stderr",
     "output_type": "stream",
     "text": [
      " 83%|████████▎ | 50/60 [01:34<00:23,  2.39s/it]"
     ]
    },
    {
     "name": "stdout",
     "output_type": "stream",
     "text": [
      "\u001b[32m2020-04-14 15:51:32.326\u001b[0m | \u001b[33m\u001b[1mWARNING \u001b[0m | \u001b[36m__main__\u001b[0m:\u001b[36m<module>\u001b[0m:\u001b[36m6\u001b[0m - \u001b[33m\u001b[1mworking file DotPFile(id=50 | name='lora_BW1_SF12_915MHz_20ksps_Att0_d3.p')\u001b[0m\n",
      "\u001b[32m2020-04-14 15:51:32.327\u001b[0m | \u001b[34m\u001b[1mDEBUG   \u001b[0m | \u001b[36mlorapy.datafile.encoding\u001b[0m:\u001b[36mcompute_params\u001b[0m:\u001b[36m15\u001b[0m - \u001b[34m\u001b[1mcomputed samples per symbol: 76801 and packet length: 2323230\u001b[0m\n",
      "\u001b[32m2020-04-14 15:51:32.738\u001b[0m | \u001b[1mINFO    \u001b[0m | \u001b[36mlorapy.datafile._base_file\u001b[0m:\u001b[36mload\u001b[0m:\u001b[36m61\u001b[0m - \u001b[1mloaded 8371309 samples from file\u001b[0m\n"
     ]
    },
    {
     "data": {
      "text/plain": [
       "BaselineSymbolSet(num symbols=109 | BW: 1 | SF: 12 | Att: 0 | samples per symbol: 76801 | packet length: 2323230)"
      ]
     },
     "metadata": {},
     "output_type": "display_data"
    },
    {
     "name": "stdout",
     "output_type": "stream",
     "text": [
      "\u001b[32m2020-04-14 15:51:32.742\u001b[0m | \u001b[34m\u001b[1mDEBUG   \u001b[0m | \u001b[36mlorapy.datafile.encoding\u001b[0m:\u001b[36mcompute_params\u001b[0m:\u001b[36m15\u001b[0m - \u001b[34m\u001b[1mcomputed samples per symbol: 76801 and packet length: 2323230\u001b[0m\n",
      "\u001b[32m2020-04-14 15:51:32.743\u001b[0m | \u001b[1mINFO    \u001b[0m | \u001b[36mlorapy.datafile._base_file\u001b[0m:\u001b[36mload\u001b[0m:\u001b[36m61\u001b[0m - \u001b[1mloaded 76800 samples from file\u001b[0m\n"
     ]
    },
    {
     "data": {
      "text/plain": [
       "BaselineSymbolSet(num symbols=76800 | BW: 1 | SF: 12 | Att: 0 | samples per symbol: 76801 | packet length: 2323230)"
      ]
     },
     "metadata": {},
     "output_type": "display_data"
    },
    {
     "name": "stdout",
     "output_type": "stream",
     "text": [
      "\u001b[32m2020-04-14 15:51:32.746\u001b[0m | \u001b[33m\u001b[1mWARNING \u001b[0m | \u001b[36m__main__\u001b[0m:\u001b[36m_mp_compute_corr\u001b[0m:\u001b[36m13\u001b[0m - \u001b[33m\u001b[1mbeginning multiprocessing..\u001b[0m\n",
      "\u001b[32m2020-04-14 15:51:34.976\u001b[0m | \u001b[33m\u001b[1mWARNING \u001b[0m | \u001b[36m__main__\u001b[0m:\u001b[36m_mp_compute_corr\u001b[0m:\u001b[36m19\u001b[0m - \u001b[33m\u001b[1mcompleted multiprocessing\u001b[0m\n",
      "\u001b[32m2020-04-14 15:51:34.979\u001b[0m | \u001b[1mINFO    \u001b[0m | \u001b[36m__main__\u001b[0m:\u001b[36mfilter_symbols_fftcorr\u001b[0m:\u001b[36m41\u001b[0m - \u001b[1mset threshold: 265.269225\u001b[0m\n",
      "\u001b[32m2020-04-14 15:51:35.051\u001b[0m | \u001b[33m\u001b[1mWARNING \u001b[0m | \u001b[36m__main__\u001b[0m:\u001b[36mfilter_symbols_fftcorr\u001b[0m:\u001b[36m47\u001b[0m - \u001b[33m\u001b[1mremoved 0 symbols  [109 / 109]\u001b[0m\n"
     ]
    },
    {
     "name": "stderr",
     "output_type": "stream",
     "text": [
      " 85%|████████▌ | 51/60 [01:37<00:23,  2.56s/it]"
     ]
    },
    {
     "name": "stdout",
     "output_type": "stream",
     "text": [
      "\u001b[32m2020-04-14 15:51:35.273\u001b[0m | \u001b[33m\u001b[1mWARNING \u001b[0m | \u001b[36m__main__\u001b[0m:\u001b[36m<module>\u001b[0m:\u001b[36m6\u001b[0m - \u001b[33m\u001b[1mworking file DotPFile(id=51 | name='lora_BW8_SF11_915MHz_20ksps_Att0_d3.p')\u001b[0m\n",
      "\u001b[32m2020-04-14 15:51:35.274\u001b[0m | \u001b[34m\u001b[1mDEBUG   \u001b[0m | \u001b[36mlorapy.datafile.encoding\u001b[0m:\u001b[36mcompute_params\u001b[0m:\u001b[36m15\u001b[0m - \u001b[34m\u001b[1mcomputed samples per symbol: 1599 and packet length: 48369\u001b[0m\n",
      "\u001b[32m2020-04-14 15:51:35.554\u001b[0m | \u001b[1mINFO    \u001b[0m | \u001b[36mlorapy.datafile._base_file\u001b[0m:\u001b[36mload\u001b[0m:\u001b[36m61\u001b[0m - \u001b[1mloaded 7672002 samples from file\u001b[0m\n"
     ]
    },
    {
     "data": {
      "text/plain": [
       "BaselineSymbolSet(num symbols=4798 | BW: 8 | SF: 11 | Att: 0 | samples per symbol: 1599 | packet length: 48369)"
      ]
     },
     "metadata": {},
     "output_type": "display_data"
    },
    {
     "name": "stdout",
     "output_type": "stream",
     "text": [
      "\u001b[32m2020-04-14 15:51:35.558\u001b[0m | \u001b[34m\u001b[1mDEBUG   \u001b[0m | \u001b[36mlorapy.datafile.encoding\u001b[0m:\u001b[36mcompute_params\u001b[0m:\u001b[36m15\u001b[0m - \u001b[34m\u001b[1mcomputed samples per symbol: 1599 and packet length: 48369\u001b[0m\n",
      "\u001b[32m2020-04-14 15:51:35.559\u001b[0m | \u001b[1mINFO    \u001b[0m | \u001b[36mlorapy.datafile._base_file\u001b[0m:\u001b[36mload\u001b[0m:\u001b[36m61\u001b[0m - \u001b[1mloaded 1599 samples from file\u001b[0m\n"
     ]
    },
    {
     "data": {
      "text/plain": [
       "BaselineSymbolSet(num symbols=1599 | BW: 8 | SF: 11 | Att: 0 | samples per symbol: 1599 | packet length: 48369)"
      ]
     },
     "metadata": {},
     "output_type": "display_data"
    },
    {
     "name": "stdout",
     "output_type": "stream",
     "text": [
      "\u001b[32m2020-04-14 15:51:35.561\u001b[0m | \u001b[33m\u001b[1mWARNING \u001b[0m | \u001b[36m__main__\u001b[0m:\u001b[36m_mp_compute_corr\u001b[0m:\u001b[36m13\u001b[0m - \u001b[33m\u001b[1mbeginning multiprocessing..\u001b[0m\n",
      "\u001b[32m2020-04-14 15:51:38.263\u001b[0m | \u001b[33m\u001b[1mWARNING \u001b[0m | \u001b[36m__main__\u001b[0m:\u001b[36m_mp_compute_corr\u001b[0m:\u001b[36m19\u001b[0m - \u001b[33m\u001b[1mcompleted multiprocessing\u001b[0m\n",
      "\u001b[32m2020-04-14 15:51:38.267\u001b[0m | \u001b[1mINFO    \u001b[0m | \u001b[36m__main__\u001b[0m:\u001b[36mfilter_symbols_fftcorr\u001b[0m:\u001b[36m41\u001b[0m - \u001b[1mset threshold: 0.230695\u001b[0m\n",
      "\u001b[32m2020-04-14 15:51:38.329\u001b[0m | \u001b[33m\u001b[1mWARNING \u001b[0m | \u001b[36m__main__\u001b[0m:\u001b[36mfilter_symbols_fftcorr\u001b[0m:\u001b[36m47\u001b[0m - \u001b[33m\u001b[1mremoved 514 symbols  [4284 / 4798]\u001b[0m\n"
     ]
    },
    {
     "name": "stderr",
     "output_type": "stream",
     "text": [
      " 87%|████████▋ | 52/60 [01:41<00:22,  2.76s/it]"
     ]
    },
    {
     "name": "stdout",
     "output_type": "stream",
     "text": [
      "\u001b[32m2020-04-14 15:51:38.504\u001b[0m | \u001b[33m\u001b[1mWARNING \u001b[0m | \u001b[36m__main__\u001b[0m:\u001b[36m<module>\u001b[0m:\u001b[36m6\u001b[0m - \u001b[33m\u001b[1mworking file DotPFile(id=52 | name='lora_BW1_SF10_915MHz_20ksps_Att0_d3.p')\u001b[0m\n",
      "\u001b[32m2020-04-14 15:51:38.505\u001b[0m | \u001b[34m\u001b[1mDEBUG   \u001b[0m | \u001b[36mlorapy.datafile.encoding\u001b[0m:\u001b[36mcompute_params\u001b[0m:\u001b[36m15\u001b[0m - \u001b[34m\u001b[1mcomputed samples per symbol: 19198 and packet length: 580739\u001b[0m\n",
      "\u001b[32m2020-04-14 15:51:38.801\u001b[0m | \u001b[1mINFO    \u001b[0m | \u001b[36mlorapy.datafile._base_file\u001b[0m:\u001b[36mload\u001b[0m:\u001b[36m61\u001b[0m - \u001b[1mloaded 7928774 samples from file\u001b[0m\n"
     ]
    },
    {
     "data": {
      "text/plain": [
       "BaselineSymbolSet(num symbols=413 | BW: 1 | SF: 10 | Att: 0 | samples per symbol: 19198 | packet length: 580739)"
      ]
     },
     "metadata": {},
     "output_type": "display_data"
    },
    {
     "name": "stdout",
     "output_type": "stream",
     "text": [
      "\u001b[32m2020-04-14 15:51:38.805\u001b[0m | \u001b[34m\u001b[1mDEBUG   \u001b[0m | \u001b[36mlorapy.datafile.encoding\u001b[0m:\u001b[36mcompute_params\u001b[0m:\u001b[36m15\u001b[0m - \u001b[34m\u001b[1mcomputed samples per symbol: 19198 and packet length: 580739\u001b[0m\n",
      "\u001b[32m2020-04-14 15:51:38.806\u001b[0m | \u001b[1mINFO    \u001b[0m | \u001b[36mlorapy.datafile._base_file\u001b[0m:\u001b[36mload\u001b[0m:\u001b[36m61\u001b[0m - \u001b[1mloaded 19197 samples from file\u001b[0m\n"
     ]
    },
    {
     "data": {
      "text/plain": [
       "BaselineSymbolSet(num symbols=19197 | BW: 1 | SF: 10 | Att: 0 | samples per symbol: 19198 | packet length: 580739)"
      ]
     },
     "metadata": {},
     "output_type": "display_data"
    },
    {
     "name": "stdout",
     "output_type": "stream",
     "text": [
      "\u001b[32m2020-04-14 15:51:38.808\u001b[0m | \u001b[33m\u001b[1mWARNING \u001b[0m | \u001b[36m__main__\u001b[0m:\u001b[36m_mp_compute_corr\u001b[0m:\u001b[36m13\u001b[0m - \u001b[33m\u001b[1mbeginning multiprocessing..\u001b[0m\n",
      "\u001b[32m2020-04-14 15:51:40.323\u001b[0m | \u001b[33m\u001b[1mWARNING \u001b[0m | \u001b[36m__main__\u001b[0m:\u001b[36m_mp_compute_corr\u001b[0m:\u001b[36m19\u001b[0m - \u001b[33m\u001b[1mcompleted multiprocessing\u001b[0m\n",
      "\u001b[32m2020-04-14 15:51:40.327\u001b[0m | \u001b[1mINFO    \u001b[0m | \u001b[36m__main__\u001b[0m:\u001b[36mfilter_symbols_fftcorr\u001b[0m:\u001b[36m41\u001b[0m - \u001b[1mset threshold: 50.879488\u001b[0m\n",
      "\u001b[32m2020-04-14 15:51:40.400\u001b[0m | \u001b[33m\u001b[1mWARNING \u001b[0m | \u001b[36m__main__\u001b[0m:\u001b[36mfilter_symbols_fftcorr\u001b[0m:\u001b[36m47\u001b[0m - \u001b[33m\u001b[1mremoved 0 symbols  [413 / 413]\u001b[0m\n"
     ]
    },
    {
     "name": "stderr",
     "output_type": "stream",
     "text": [
      " 88%|████████▊ | 53/60 [01:43<00:18,  2.57s/it]"
     ]
    },
    {
     "name": "stdout",
     "output_type": "stream",
     "text": [
      "\u001b[32m2020-04-14 15:51:40.643\u001b[0m | \u001b[33m\u001b[1mWARNING \u001b[0m | \u001b[36m__main__\u001b[0m:\u001b[36m<module>\u001b[0m:\u001b[36m6\u001b[0m - \u001b[33m\u001b[1mworking file DotPFile(id=53 | name='lora_BW7_SF12_915MHz_20ksps_Att0_d3.p')\u001b[0m\n",
      "\u001b[32m2020-04-14 15:51:40.645\u001b[0m | \u001b[34m\u001b[1mDEBUG   \u001b[0m | \u001b[36mlorapy.datafile.encoding\u001b[0m:\u001b[36mcompute_params\u001b[0m:\u001b[36m15\u001b[0m - \u001b[34m\u001b[1mcomputed samples per symbol: 6386 and packet length: 193176\u001b[0m\n",
      "\u001b[32m2020-04-14 15:51:40.843\u001b[0m | \u001b[1mINFO    \u001b[0m | \u001b[36mlorapy.datafile._base_file\u001b[0m:\u001b[36mload\u001b[0m:\u001b[36m61\u001b[0m - \u001b[1mloaded 7088460 samples from file\u001b[0m\n"
     ]
    },
    {
     "data": {
      "text/plain": [
       "BaselineSymbolSet(num symbols=1110 | BW: 7 | SF: 12 | Att: 0 | samples per symbol: 6386 | packet length: 193176)"
      ]
     },
     "metadata": {},
     "output_type": "display_data"
    },
    {
     "name": "stdout",
     "output_type": "stream",
     "text": [
      "\u001b[32m2020-04-14 15:51:40.848\u001b[0m | \u001b[34m\u001b[1mDEBUG   \u001b[0m | \u001b[36mlorapy.datafile.encoding\u001b[0m:\u001b[36mcompute_params\u001b[0m:\u001b[36m15\u001b[0m - \u001b[34m\u001b[1mcomputed samples per symbol: 6386 and packet length: 193176\u001b[0m\n",
      "\u001b[32m2020-04-14 15:51:40.850\u001b[0m | \u001b[1mINFO    \u001b[0m | \u001b[36mlorapy.datafile._base_file\u001b[0m:\u001b[36mload\u001b[0m:\u001b[36m61\u001b[0m - \u001b[1mloaded 6386 samples from file\u001b[0m\n"
     ]
    },
    {
     "data": {
      "text/plain": [
       "BaselineSymbolSet(num symbols=6386 | BW: 7 | SF: 12 | Att: 0 | samples per symbol: 6386 | packet length: 193176)"
      ]
     },
     "metadata": {},
     "output_type": "display_data"
    },
    {
     "name": "stdout",
     "output_type": "stream",
     "text": [
      "\u001b[32m2020-04-14 15:51:40.852\u001b[0m | \u001b[33m\u001b[1mWARNING \u001b[0m | \u001b[36m__main__\u001b[0m:\u001b[36m_mp_compute_corr\u001b[0m:\u001b[36m13\u001b[0m - \u001b[33m\u001b[1mbeginning multiprocessing..\u001b[0m\n",
      "\u001b[32m2020-04-14 15:51:42.363\u001b[0m | \u001b[33m\u001b[1mWARNING \u001b[0m | \u001b[36m__main__\u001b[0m:\u001b[36m_mp_compute_corr\u001b[0m:\u001b[36m19\u001b[0m - \u001b[33m\u001b[1mcompleted multiprocessing\u001b[0m\n",
      "\u001b[32m2020-04-14 15:51:42.366\u001b[0m | \u001b[1mINFO    \u001b[0m | \u001b[36m__main__\u001b[0m:\u001b[36mfilter_symbols_fftcorr\u001b[0m:\u001b[36m41\u001b[0m - \u001b[1mset threshold: 1.486052\u001b[0m\n",
      "\u001b[32m2020-04-14 15:51:42.413\u001b[0m | \u001b[33m\u001b[1mWARNING \u001b[0m | \u001b[36m__main__\u001b[0m:\u001b[36mfilter_symbols_fftcorr\u001b[0m:\u001b[36m47\u001b[0m - \u001b[33m\u001b[1mremoved 0 symbols  [1110 / 1110]\u001b[0m\n"
     ]
    },
    {
     "name": "stderr",
     "output_type": "stream",
     "text": [
      " 90%|█████████ | 54/60 [01:45<00:14,  2.36s/it]"
     ]
    },
    {
     "name": "stdout",
     "output_type": "stream",
     "text": [
      "\u001b[32m2020-04-14 15:51:42.516\u001b[0m | \u001b[33m\u001b[1mWARNING \u001b[0m | \u001b[36m__main__\u001b[0m:\u001b[36m<module>\u001b[0m:\u001b[36m6\u001b[0m - \u001b[33m\u001b[1mworking file DotPFile(id=54 | name='lora_BW8_SF12_915MHz_20ksps_Att0_d3.p')\u001b[0m\n",
      "\u001b[32m2020-04-14 15:51:42.518\u001b[0m | \u001b[34m\u001b[1mDEBUG   \u001b[0m | \u001b[36mlorapy.datafile.encoding\u001b[0m:\u001b[36mcompute_params\u001b[0m:\u001b[36m15\u001b[0m - \u001b[34m\u001b[1mcomputed samples per symbol: 3198 and packet length: 96739\u001b[0m\n",
      "\u001b[32m2020-04-14 15:51:42.671\u001b[0m | \u001b[1mINFO    \u001b[0m | \u001b[36mlorapy.datafile._base_file\u001b[0m:\u001b[36mload\u001b[0m:\u001b[36m61\u001b[0m - \u001b[1mloaded 7803120 samples from file\u001b[0m\n"
     ]
    },
    {
     "data": {
      "text/plain": [
       "BaselineSymbolSet(num symbols=2440 | BW: 8 | SF: 12 | Att: 0 | samples per symbol: 3198 | packet length: 96739)"
      ]
     },
     "metadata": {},
     "output_type": "display_data"
    },
    {
     "name": "stdout",
     "output_type": "stream",
     "text": [
      "\u001b[32m2020-04-14 15:51:42.675\u001b[0m | \u001b[34m\u001b[1mDEBUG   \u001b[0m | \u001b[36mlorapy.datafile.encoding\u001b[0m:\u001b[36mcompute_params\u001b[0m:\u001b[36m15\u001b[0m - \u001b[34m\u001b[1mcomputed samples per symbol: 3198 and packet length: 96739\u001b[0m\n",
      "\u001b[32m2020-04-14 15:51:42.677\u001b[0m | \u001b[1mINFO    \u001b[0m | \u001b[36mlorapy.datafile._base_file\u001b[0m:\u001b[36mload\u001b[0m:\u001b[36m61\u001b[0m - \u001b[1mloaded 3198 samples from file\u001b[0m\n"
     ]
    },
    {
     "data": {
      "text/plain": [
       "BaselineSymbolSet(num symbols=3198 | BW: 8 | SF: 12 | Att: 0 | samples per symbol: 3198 | packet length: 96739)"
      ]
     },
     "metadata": {},
     "output_type": "display_data"
    },
    {
     "name": "stdout",
     "output_type": "stream",
     "text": [
      "\u001b[32m2020-04-14 15:51:42.680\u001b[0m | \u001b[33m\u001b[1mWARNING \u001b[0m | \u001b[36m__main__\u001b[0m:\u001b[36m_mp_compute_corr\u001b[0m:\u001b[36m13\u001b[0m - \u001b[33m\u001b[1mbeginning multiprocessing..\u001b[0m\n",
      "\u001b[32m2020-04-14 15:51:44.087\u001b[0m | \u001b[33m\u001b[1mWARNING \u001b[0m | \u001b[36m__main__\u001b[0m:\u001b[36m_mp_compute_corr\u001b[0m:\u001b[36m19\u001b[0m - \u001b[33m\u001b[1mcompleted multiprocessing\u001b[0m\n",
      "\u001b[32m2020-04-14 15:51:44.091\u001b[0m | \u001b[1mINFO    \u001b[0m | \u001b[36m__main__\u001b[0m:\u001b[36mfilter_symbols_fftcorr\u001b[0m:\u001b[36m41\u001b[0m - \u001b[1mset threshold: 0.379724\u001b[0m\n",
      "\u001b[32m2020-04-14 15:51:44.141\u001b[0m | \u001b[33m\u001b[1mWARNING \u001b[0m | \u001b[36m__main__\u001b[0m:\u001b[36mfilter_symbols_fftcorr\u001b[0m:\u001b[36m47\u001b[0m - \u001b[33m\u001b[1mremoved 27 symbols  [2413 / 2440]\u001b[0m\n"
     ]
    },
    {
     "name": "stderr",
     "output_type": "stream",
     "text": [
      " 92%|█████████▏| 55/60 [01:46<00:10,  2.17s/it]"
     ]
    },
    {
     "name": "stdout",
     "output_type": "stream",
     "text": [
      "\u001b[32m2020-04-14 15:51:44.247\u001b[0m | \u001b[33m\u001b[1mWARNING \u001b[0m | \u001b[36m__main__\u001b[0m:\u001b[36m<module>\u001b[0m:\u001b[36m6\u001b[0m - \u001b[33m\u001b[1mworking file DotPFile(id=55 | name='lora_BW9_SF10_915MHz_20ksps_Att0_d3.p')\u001b[0m\n",
      "\u001b[32m2020-04-14 15:51:44.248\u001b[0m | \u001b[34m\u001b[1mDEBUG   \u001b[0m | \u001b[36mlorapy.datafile.encoding\u001b[0m:\u001b[36mcompute_params\u001b[0m:\u001b[36m15\u001b[0m - \u001b[34m\u001b[1mcomputed samples per symbol: 400 and packet length: 12100\u001b[0m\n",
      "\u001b[32m2020-04-14 15:51:44.402\u001b[0m | \u001b[1mINFO    \u001b[0m | \u001b[36mlorapy.datafile._base_file\u001b[0m:\u001b[36mload\u001b[0m:\u001b[36m61\u001b[0m - \u001b[1mloaded 7023200 samples from file\u001b[0m\n"
     ]
    },
    {
     "data": {
      "text/plain": [
       "BaselineSymbolSet(num symbols=17558 | BW: 9 | SF: 10 | Att: 0 | samples per symbol: 400 | packet length: 12100)"
      ]
     },
     "metadata": {},
     "output_type": "display_data"
    },
    {
     "name": "stdout",
     "output_type": "stream",
     "text": [
      "\u001b[32m2020-04-14 15:51:44.406\u001b[0m | \u001b[34m\u001b[1mDEBUG   \u001b[0m | \u001b[36mlorapy.datafile.encoding\u001b[0m:\u001b[36mcompute_params\u001b[0m:\u001b[36m15\u001b[0m - \u001b[34m\u001b[1mcomputed samples per symbol: 400 and packet length: 12100\u001b[0m\n",
      "\u001b[32m2020-04-14 15:51:44.407\u001b[0m | \u001b[1mINFO    \u001b[0m | \u001b[36mlorapy.datafile._base_file\u001b[0m:\u001b[36mload\u001b[0m:\u001b[36m61\u001b[0m - \u001b[1mloaded 399 samples from file\u001b[0m\n"
     ]
    },
    {
     "data": {
      "text/plain": [
       "BaselineSymbolSet(num symbols=399 | BW: 9 | SF: 10 | Att: 0 | samples per symbol: 400 | packet length: 12100)"
      ]
     },
     "metadata": {},
     "output_type": "display_data"
    },
    {
     "name": "stdout",
     "output_type": "stream",
     "text": [
      "\u001b[32m2020-04-14 15:51:44.409\u001b[0m | \u001b[33m\u001b[1mWARNING \u001b[0m | \u001b[36m__main__\u001b[0m:\u001b[36m_mp_compute_corr\u001b[0m:\u001b[36m13\u001b[0m - \u001b[33m\u001b[1mbeginning multiprocessing..\u001b[0m\n",
      "\u001b[32m2020-04-14 15:51:46.231\u001b[0m | \u001b[33m\u001b[1mWARNING \u001b[0m | \u001b[36m__main__\u001b[0m:\u001b[36m_mp_compute_corr\u001b[0m:\u001b[36m19\u001b[0m - \u001b[33m\u001b[1mcompleted multiprocessing\u001b[0m\n",
      "\u001b[32m2020-04-14 15:51:46.238\u001b[0m | \u001b[1mINFO    \u001b[0m | \u001b[36m__main__\u001b[0m:\u001b[36mfilter_symbols_fftcorr\u001b[0m:\u001b[36m41\u001b[0m - \u001b[1mset threshold: 0.012204\u001b[0m\n",
      "\u001b[32m2020-04-14 15:51:46.280\u001b[0m | \u001b[33m\u001b[1mWARNING \u001b[0m | \u001b[36m__main__\u001b[0m:\u001b[36mfilter_symbols_fftcorr\u001b[0m:\u001b[36m47\u001b[0m - \u001b[33m\u001b[1mremoved 7834 symbols  [9724 / 17558]\u001b[0m\n"
     ]
    },
    {
     "name": "stderr",
     "output_type": "stream",
     "text": [
      " 93%|█████████▎| 56/60 [01:48<00:08,  2.15s/it]"
     ]
    },
    {
     "name": "stdout",
     "output_type": "stream",
     "text": [
      "\u001b[32m2020-04-14 15:51:46.329\u001b[0m | \u001b[33m\u001b[1mWARNING \u001b[0m | \u001b[36m__main__\u001b[0m:\u001b[36m<module>\u001b[0m:\u001b[36m6\u001b[0m - \u001b[33m\u001b[1mworking file DotPFile(id=56 | name='lora_BW2_SF10_915MHz_20ksps_Att0_d3.p')\u001b[0m\n",
      "\u001b[32m2020-04-14 15:51:46.331\u001b[0m | \u001b[34m\u001b[1mDEBUG   \u001b[0m | \u001b[36mlorapy.datafile.encoding\u001b[0m:\u001b[36mcompute_params\u001b[0m:\u001b[36m15\u001b[0m - \u001b[34m\u001b[1mcomputed samples per symbol: 12802 and packet length: 387260\u001b[0m\n",
      "\u001b[32m2020-04-14 15:51:46.496\u001b[0m | \u001b[1mINFO    \u001b[0m | \u001b[36mlorapy.datafile._base_file\u001b[0m:\u001b[36mload\u001b[0m:\u001b[36m61\u001b[0m - \u001b[1mloaded 8039656 samples from file\u001b[0m\n"
     ]
    },
    {
     "data": {
      "text/plain": [
       "BaselineSymbolSet(num symbols=628 | BW: 2 | SF: 10 | Att: 0 | samples per symbol: 12802 | packet length: 387260)"
      ]
     },
     "metadata": {},
     "output_type": "display_data"
    },
    {
     "name": "stdout",
     "output_type": "stream",
     "text": [
      "\u001b[32m2020-04-14 15:51:46.500\u001b[0m | \u001b[34m\u001b[1mDEBUG   \u001b[0m | \u001b[36mlorapy.datafile.encoding\u001b[0m:\u001b[36mcompute_params\u001b[0m:\u001b[36m15\u001b[0m - \u001b[34m\u001b[1mcomputed samples per symbol: 12802 and packet length: 387260\u001b[0m\n",
      "\u001b[32m2020-04-14 15:51:46.501\u001b[0m | \u001b[1mINFO    \u001b[0m | \u001b[36mlorapy.datafile._base_file\u001b[0m:\u001b[36mload\u001b[0m:\u001b[36m61\u001b[0m - \u001b[1mloaded 12801 samples from file\u001b[0m\n"
     ]
    },
    {
     "data": {
      "text/plain": [
       "BaselineSymbolSet(num symbols=12801 | BW: 2 | SF: 10 | Att: 0 | samples per symbol: 12802 | packet length: 387260)"
      ]
     },
     "metadata": {},
     "output_type": "display_data"
    },
    {
     "name": "stdout",
     "output_type": "stream",
     "text": [
      "\u001b[32m2020-04-14 15:51:46.503\u001b[0m | \u001b[33m\u001b[1mWARNING \u001b[0m | \u001b[36m__main__\u001b[0m:\u001b[36m_mp_compute_corr\u001b[0m:\u001b[36m13\u001b[0m - \u001b[33m\u001b[1mbeginning multiprocessing..\u001b[0m\n",
      "\u001b[32m2020-04-14 15:51:47.942\u001b[0m | \u001b[33m\u001b[1mWARNING \u001b[0m | \u001b[36m__main__\u001b[0m:\u001b[36m_mp_compute_corr\u001b[0m:\u001b[36m19\u001b[0m - \u001b[33m\u001b[1mcompleted multiprocessing\u001b[0m\n",
      "\u001b[32m2020-04-14 15:51:47.945\u001b[0m | \u001b[1mINFO    \u001b[0m | \u001b[36m__main__\u001b[0m:\u001b[36mfilter_symbols_fftcorr\u001b[0m:\u001b[36m41\u001b[0m - \u001b[1mset threshold: 22.470770\u001b[0m\n",
      "\u001b[32m2020-04-14 15:51:47.982\u001b[0m | \u001b[33m\u001b[1mWARNING \u001b[0m | \u001b[36m__main__\u001b[0m:\u001b[36mfilter_symbols_fftcorr\u001b[0m:\u001b[36m47\u001b[0m - \u001b[33m\u001b[1mremoved 0 symbols  [628 / 628]\u001b[0m\n"
     ]
    },
    {
     "name": "stderr",
     "output_type": "stream",
     "text": [
      " 95%|█████████▌| 57/60 [01:50<00:06,  2.04s/it]"
     ]
    },
    {
     "name": "stdout",
     "output_type": "stream",
     "text": [
      "\u001b[32m2020-04-14 15:51:48.104\u001b[0m | \u001b[33m\u001b[1mWARNING \u001b[0m | \u001b[36m__main__\u001b[0m:\u001b[36m<module>\u001b[0m:\u001b[36m6\u001b[0m - \u001b[33m\u001b[1mworking file DotPFile(id=57 | name='lora_BW9_SF11_915MHz_20ksps_Att0_d3.p')\u001b[0m\n",
      "\u001b[32m2020-04-14 15:51:48.106\u001b[0m | \u001b[34m\u001b[1mDEBUG   \u001b[0m | \u001b[36mlorapy.datafile.encoding\u001b[0m:\u001b[36mcompute_params\u001b[0m:\u001b[36m15\u001b[0m - \u001b[34m\u001b[1mcomputed samples per symbol: 800 and packet length: 24200\u001b[0m\n",
      "\u001b[32m2020-04-14 15:51:48.466\u001b[0m | \u001b[1mINFO    \u001b[0m | \u001b[36mlorapy.datafile._base_file\u001b[0m:\u001b[36mload\u001b[0m:\u001b[36m61\u001b[0m - \u001b[1mloaded 7257600 samples from file\u001b[0m\n"
     ]
    },
    {
     "data": {
      "text/plain": [
       "BaselineSymbolSet(num symbols=9072 | BW: 9 | SF: 11 | Att: 0 | samples per symbol: 800 | packet length: 24200)"
      ]
     },
     "metadata": {},
     "output_type": "display_data"
    },
    {
     "name": "stdout",
     "output_type": "stream",
     "text": [
      "\u001b[32m2020-04-14 15:51:48.470\u001b[0m | \u001b[34m\u001b[1mDEBUG   \u001b[0m | \u001b[36mlorapy.datafile.encoding\u001b[0m:\u001b[36mcompute_params\u001b[0m:\u001b[36m15\u001b[0m - \u001b[34m\u001b[1mcomputed samples per symbol: 800 and packet length: 24200\u001b[0m\n",
      "\u001b[32m2020-04-14 15:51:48.471\u001b[0m | \u001b[1mINFO    \u001b[0m | \u001b[36mlorapy.datafile._base_file\u001b[0m:\u001b[36mload\u001b[0m:\u001b[36m61\u001b[0m - \u001b[1mloaded 799 samples from file\u001b[0m\n"
     ]
    },
    {
     "data": {
      "text/plain": [
       "BaselineSymbolSet(num symbols=799 | BW: 9 | SF: 11 | Att: 0 | samples per symbol: 800 | packet length: 24200)"
      ]
     },
     "metadata": {},
     "output_type": "display_data"
    },
    {
     "name": "stdout",
     "output_type": "stream",
     "text": [
      "\u001b[32m2020-04-14 15:51:48.473\u001b[0m | \u001b[33m\u001b[1mWARNING \u001b[0m | \u001b[36m__main__\u001b[0m:\u001b[36m_mp_compute_corr\u001b[0m:\u001b[36m13\u001b[0m - \u001b[33m\u001b[1mbeginning multiprocessing..\u001b[0m\n",
      "\u001b[32m2020-04-14 15:51:50.655\u001b[0m | \u001b[33m\u001b[1mWARNING \u001b[0m | \u001b[36m__main__\u001b[0m:\u001b[36m_mp_compute_corr\u001b[0m:\u001b[36m19\u001b[0m - \u001b[33m\u001b[1mcompleted multiprocessing\u001b[0m\n",
      "\u001b[32m2020-04-14 15:51:50.659\u001b[0m | \u001b[1mINFO    \u001b[0m | \u001b[36m__main__\u001b[0m:\u001b[36mfilter_symbols_fftcorr\u001b[0m:\u001b[36m41\u001b[0m - \u001b[1mset threshold: 0.026031\u001b[0m\n",
      "\u001b[32m2020-04-14 15:51:50.719\u001b[0m | \u001b[33m\u001b[1mWARNING \u001b[0m | \u001b[36m__main__\u001b[0m:\u001b[36mfilter_symbols_fftcorr\u001b[0m:\u001b[36m47\u001b[0m - \u001b[33m\u001b[1mremoved 1852 symbols  [7220 / 9072]\u001b[0m\n"
     ]
    },
    {
     "name": "stderr",
     "output_type": "stream",
     "text": [
      " 97%|█████████▋| 58/60 [01:53<00:04,  2.26s/it]"
     ]
    },
    {
     "name": "stdout",
     "output_type": "stream",
     "text": [
      "\u001b[32m2020-04-14 15:51:50.884\u001b[0m | \u001b[33m\u001b[1mWARNING \u001b[0m | \u001b[36m__main__\u001b[0m:\u001b[36m<module>\u001b[0m:\u001b[36m6\u001b[0m - \u001b[33m\u001b[1mworking file DotPFile(id=58 | name='lora_BW1_SF11_915MHz_20ksps_Att0_d3.p')\u001b[0m\n",
      "\u001b[32m2020-04-14 15:51:50.885\u001b[0m | \u001b[34m\u001b[1mDEBUG   \u001b[0m | \u001b[36mlorapy.datafile.encoding\u001b[0m:\u001b[36mcompute_params\u001b[0m:\u001b[36m15\u001b[0m - \u001b[34m\u001b[1mcomputed samples per symbol: 38396 and packet length: 1161479\u001b[0m\n",
      "\u001b[32m2020-04-14 15:51:50.988\u001b[0m | \u001b[1mINFO    \u001b[0m | \u001b[36mlorapy.datafile._base_file\u001b[0m:\u001b[36mload\u001b[0m:\u001b[36m61\u001b[0m - \u001b[1mloaded 6757696 samples from file\u001b[0m\n"
     ]
    },
    {
     "data": {
      "text/plain": [
       "BaselineSymbolSet(num symbols=176 | BW: 1 | SF: 11 | Att: 0 | samples per symbol: 38396 | packet length: 1161479)"
      ]
     },
     "metadata": {},
     "output_type": "display_data"
    },
    {
     "name": "stdout",
     "output_type": "stream",
     "text": [
      "\u001b[32m2020-04-14 15:51:50.992\u001b[0m | \u001b[34m\u001b[1mDEBUG   \u001b[0m | \u001b[36mlorapy.datafile.encoding\u001b[0m:\u001b[36mcompute_params\u001b[0m:\u001b[36m15\u001b[0m - \u001b[34m\u001b[1mcomputed samples per symbol: 38396 and packet length: 1161479\u001b[0m\n",
      "\u001b[32m2020-04-14 15:51:50.994\u001b[0m | \u001b[1mINFO    \u001b[0m | \u001b[36mlorapy.datafile._base_file\u001b[0m:\u001b[36mload\u001b[0m:\u001b[36m61\u001b[0m - \u001b[1mloaded 38395 samples from file\u001b[0m\n"
     ]
    },
    {
     "data": {
      "text/plain": [
       "BaselineSymbolSet(num symbols=38395 | BW: 1 | SF: 11 | Att: 0 | samples per symbol: 38396 | packet length: 1161479)"
      ]
     },
     "metadata": {},
     "output_type": "display_data"
    },
    {
     "name": "stdout",
     "output_type": "stream",
     "text": [
      "\u001b[32m2020-04-14 15:51:50.996\u001b[0m | \u001b[33m\u001b[1mWARNING \u001b[0m | \u001b[36m__main__\u001b[0m:\u001b[36m_mp_compute_corr\u001b[0m:\u001b[36m13\u001b[0m - \u001b[33m\u001b[1mbeginning multiprocessing..\u001b[0m\n",
      "\u001b[32m2020-04-14 15:51:52.639\u001b[0m | \u001b[33m\u001b[1mWARNING \u001b[0m | \u001b[36m__main__\u001b[0m:\u001b[36m_mp_compute_corr\u001b[0m:\u001b[36m19\u001b[0m - \u001b[33m\u001b[1mcompleted multiprocessing\u001b[0m\n",
      "\u001b[32m2020-04-14 15:51:52.642\u001b[0m | \u001b[1mINFO    \u001b[0m | \u001b[36m__main__\u001b[0m:\u001b[36mfilter_symbols_fftcorr\u001b[0m:\u001b[36m41\u001b[0m - \u001b[1mset threshold: 81.928619\u001b[0m\n",
      "\u001b[32m2020-04-14 15:51:52.664\u001b[0m | \u001b[33m\u001b[1mWARNING \u001b[0m | \u001b[36m__main__\u001b[0m:\u001b[36mfilter_symbols_fftcorr\u001b[0m:\u001b[36m47\u001b[0m - \u001b[33m\u001b[1mremoved 0 symbols  [176 / 176]\u001b[0m\n"
     ]
    },
    {
     "name": "stderr",
     "output_type": "stream",
     "text": [
      " 98%|█████████▊| 59/60 [01:55<00:02,  2.14s/it]"
     ]
    },
    {
     "name": "stdout",
     "output_type": "stream",
     "text": [
      "\u001b[32m2020-04-14 15:51:52.762\u001b[0m | \u001b[33m\u001b[1mWARNING \u001b[0m | \u001b[36m__main__\u001b[0m:\u001b[36m<module>\u001b[0m:\u001b[36m6\u001b[0m - \u001b[33m\u001b[1mworking file DotPFile(id=59 | name='lora_BW2_SF12_915MHz_20ksps_Att0_d3.p')\u001b[0m\n",
      "\u001b[32m2020-04-14 15:51:52.764\u001b[0m | \u001b[34m\u001b[1mDEBUG   \u001b[0m | \u001b[36mlorapy.datafile.encoding\u001b[0m:\u001b[36mcompute_params\u001b[0m:\u001b[36m15\u001b[0m - \u001b[34m\u001b[1mcomputed samples per symbol: 51197 and packet length: 1548709\u001b[0m\n",
      "\u001b[32m2020-04-14 15:51:53.007\u001b[0m | \u001b[1mINFO    \u001b[0m | \u001b[36mlorapy.datafile._base_file\u001b[0m:\u001b[36mload\u001b[0m:\u001b[36m61\u001b[0m - \u001b[1mloaded 6604413 samples from file\u001b[0m\n"
     ]
    },
    {
     "data": {
      "text/plain": [
       "BaselineSymbolSet(num symbols=129 | BW: 2 | SF: 12 | Att: 0 | samples per symbol: 51197 | packet length: 1548709)"
      ]
     },
     "metadata": {},
     "output_type": "display_data"
    },
    {
     "name": "stdout",
     "output_type": "stream",
     "text": [
      "\u001b[32m2020-04-14 15:51:53.011\u001b[0m | \u001b[34m\u001b[1mDEBUG   \u001b[0m | \u001b[36mlorapy.datafile.encoding\u001b[0m:\u001b[36mcompute_params\u001b[0m:\u001b[36m15\u001b[0m - \u001b[34m\u001b[1mcomputed samples per symbol: 51197 and packet length: 1548709\u001b[0m\n",
      "\u001b[32m2020-04-14 15:51:53.013\u001b[0m | \u001b[1mINFO    \u001b[0m | \u001b[36mlorapy.datafile._base_file\u001b[0m:\u001b[36mload\u001b[0m:\u001b[36m61\u001b[0m - \u001b[1mloaded 51197 samples from file\u001b[0m\n"
     ]
    },
    {
     "data": {
      "text/plain": [
       "BaselineSymbolSet(num symbols=51197 | BW: 2 | SF: 12 | Att: 0 | samples per symbol: 51197 | packet length: 1548709)"
      ]
     },
     "metadata": {},
     "output_type": "display_data"
    },
    {
     "name": "stdout",
     "output_type": "stream",
     "text": [
      "\u001b[32m2020-04-14 15:51:53.015\u001b[0m | \u001b[33m\u001b[1mWARNING \u001b[0m | \u001b[36m__main__\u001b[0m:\u001b[36m_mp_compute_corr\u001b[0m:\u001b[36m13\u001b[0m - \u001b[33m\u001b[1mbeginning multiprocessing..\u001b[0m\n",
      "\u001b[32m2020-04-14 15:51:54.980\u001b[0m | \u001b[33m\u001b[1mWARNING \u001b[0m | \u001b[36m__main__\u001b[0m:\u001b[36m_mp_compute_corr\u001b[0m:\u001b[36m19\u001b[0m - \u001b[33m\u001b[1mcompleted multiprocessing\u001b[0m\n",
      "\u001b[32m2020-04-14 15:51:54.983\u001b[0m | \u001b[1mINFO    \u001b[0m | \u001b[36m__main__\u001b[0m:\u001b[36mfilter_symbols_fftcorr\u001b[0m:\u001b[36m41\u001b[0m - \u001b[1mset threshold: 82.489649\u001b[0m\n",
      "\u001b[32m2020-04-14 15:51:55.035\u001b[0m | \u001b[33m\u001b[1mWARNING \u001b[0m | \u001b[36m__main__\u001b[0m:\u001b[36mfilter_symbols_fftcorr\u001b[0m:\u001b[36m47\u001b[0m - \u001b[33m\u001b[1mremoved 0 symbols  [129 / 129]\u001b[0m\n"
     ]
    },
    {
     "name": "stderr",
     "output_type": "stream",
     "text": [
      "100%|██████████| 60/60 [01:57<00:00,  1.96s/it]\n"
     ]
    }
   ],
   "source": [
    "THRESH_ADJ = 0.4\n",
    "\n",
    "\n",
    "for file in tqdm.tqdm(symloader.file_list):\n",
    "# for file in tqdm.tqdm(file for file in symloader.file_list if file.name in new_filenames):\n",
    "    logger.warning(f'working file {file}')\n",
    "    file.load()\n",
    "    if file.bw > 6 and file.att > 100:\n",
    "        continue\n",
    "    \n",
    "    filtered_symbols = filter_symbols_fftcorr(file, thresh_adj=THRESH_ADJ, mp=True, plot=False)\n",
    "    _save_symbols(filtered_symbols, OTA_FILT_SYMBOL_DIR, file)\n",
    "    "
   ]
  },
  {
   "cell_type": "code",
   "execution_count": null,
   "metadata": {},
   "outputs": [],
   "source": []
  },
  {
   "cell_type": "code",
   "execution_count": null,
   "metadata": {},
   "outputs": [],
   "source": []
  },
  {
   "cell_type": "markdown",
   "metadata": {},
   "source": [
    "# additional filtering"
   ]
  },
  {
   "cell_type": "code",
   "execution_count": null,
   "metadata": {},
   "outputs": [],
   "source": [
    "file.name"
   ]
  },
  {
   "cell_type": "markdown",
   "metadata": {},
   "source": [
    "## new fft autocorr"
   ]
  },
  {
   "cell_type": "code",
   "execution_count": null,
   "metadata": {},
   "outputs": [],
   "source": [
    "%%time\n",
    "THRESH_ADJ = 0.4\n",
    "\n",
    "filtered_symbols, _rm_symbols, corr_fftconvs = filter_symbols_fftcorr(\n",
    "    file, thresh_adj=THRESH_ADJ, mp=True, plot=False\n",
    ")"
   ]
  },
  {
   "cell_type": "code",
   "execution_count": null,
   "metadata": {},
   "outputs": [],
   "source": [
    "filtered_symbols.shape, corr_fftconvs.shape"
   ]
  },
  {
   "cell_type": "code",
   "execution_count": null,
   "metadata": {},
   "outputs": [],
   "source": []
  },
  {
   "cell_type": "code",
   "execution_count": null,
   "metadata": {},
   "outputs": [],
   "source": [
    "filtered_symbols = symbols.data[np.where(corr_fftconvs > 0.4 * corr_fftconvs.mean())[0], :]\n",
    "filtered_symbols.shape"
   ]
  },
  {
   "cell_type": "code",
   "execution_count": null,
   "metadata": {},
   "outputs": [],
   "source": []
  },
  {
   "cell_type": "code",
   "execution_count": null,
   "metadata": {},
   "outputs": [],
   "source": [
    "fig, ax = plt.subplots(1, 2, figsize=(12, 3))\n",
    "with warnings.catch_warnings():\n",
    "    warnings.simplefilter(\"ignore\")\n",
    "    ax[0].hist(corr_fftconvs, bins=50)\n",
    "    ax[1].hist(corr_fftconvs, bins=50, cumulative=True, density=True)\n",
    "    ax[0].set_title(f'adjusted mean: {corr_fftconvs.mean() * THRESH_ADJ:0.5f}')\n"
   ]
  },
  {
   "cell_type": "code",
   "execution_count": null,
   "metadata": {},
   "outputs": [],
   "source": []
  },
  {
   "cell_type": "code",
   "execution_count": null,
   "metadata": {},
   "outputs": [],
   "source": []
  },
  {
   "cell_type": "markdown",
   "metadata": {},
   "source": [
    "# filtered symbol viewing"
   ]
  },
  {
   "cell_type": "code",
   "execution_count": null,
   "metadata": {},
   "outputs": [],
   "source": [
    "AGG_SYMBOL_DIR = _BASE_DATA_DIR.joinpath('aggregated-symbols')"
   ]
  },
  {
   "cell_type": "markdown",
   "metadata": {},
   "source": [
    "## setup"
   ]
  },
  {
   "cell_type": "code",
   "execution_count": null,
   "metadata": {
    "scrolled": true
   },
   "outputs": [],
   "source": [
    "filtloader = lorapy.load_dotp(OTA_FILT_SYMBOL_DIR)  # glob_pattern='**/*v[12]*.p'\n",
    "filtloader.file_list"
   ]
  },
  {
   "cell_type": "code",
   "execution_count": null,
   "metadata": {},
   "outputs": [],
   "source": [
    "file = filtloader.select(0).load()\n",
    "display(file)\n",
    "\n",
    "sym = file.to_signal()\n",
    "display(sym)\n",
    "display(sym.data.shape)"
   ]
  },
  {
   "cell_type": "code",
   "execution_count": null,
   "metadata": {},
   "outputs": [],
   "source": [
    "sym.plot()"
   ]
  },
  {
   "cell_type": "code",
   "execution_count": null,
   "metadata": {},
   "outputs": [],
   "source": [
    "plt.figure(figsize=(15,2))\n",
    "plt.plot(sym.random_symbol)"
   ]
  },
  {
   "cell_type": "code",
   "execution_count": null,
   "metadata": {},
   "outputs": [],
   "source": []
  },
  {
   "cell_type": "code",
   "execution_count": null,
   "metadata": {},
   "outputs": [],
   "source": []
  },
  {
   "cell_type": "code",
   "execution_count": null,
   "metadata": {},
   "outputs": [],
   "source": []
  },
  {
   "cell_type": "markdown",
   "metadata": {},
   "source": [
    "# visualize"
   ]
  },
  {
   "cell_type": "code",
   "execution_count": 15,
   "metadata": {},
   "outputs": [
    {
     "name": "stdout",
     "output_type": "stream",
     "text": [
      "batches = 2\n"
     ]
    },
    {
     "data": {
      "image/png": "[encoded data removed]",
      "text/plain": [
       "<Figure size 1080x576 with 50 Axes>"
      ]
     },
     "metadata": {
      "needs_background": "light"
     },
     "output_type": "display_data"
    },
    {
     "data": {
      "image/png": "[encoded data removed]",
      "text/plain": [
       "<Figure size 1080x576 with 50 Axes>"
      ]
     },
     "metadata": {
      "needs_background": "light"
     },
     "output_type": "display_data"
    }
   ],
   "source": [
    "# tar_symbols = _rm_symbols\n",
    "tar_symbols = filtered_symbols\n",
    "# tar_symbols = sym.data\n",
    "\n",
    "batch_size, stop_limit = 50, 8\n",
    "batches = len(tar_symbols) // batch_size\n",
    "print(f'batches = {batches}')\n",
    "\n",
    "stop = 0\n",
    "\n",
    "for epoch in range(len(tar_symbols) // batch_size):\n",
    "    rows, cols = 10, 5\n",
    "    fig, ax = plt.subplots(10, 5, figsize=(15, 8))\n",
    "    \n",
    "    for i in range(rows):\n",
    "        for j in range(cols):\n",
    "            with warnings.catch_warnings():\n",
    "                warnings.simplefilter(\"ignore\")\n",
    "                idx = (epoch * rows * cols) + (cols * i) + j \n",
    "                if idx >= len(tar_symbols):\n",
    "                    break\n",
    "                ax[i, j].plot(tar_symbols[idx])\n",
    "                ax[i, j].set_title(f'idx: {idx}')\n",
    "            \n",
    "    stop += 1\n",
    "    if stop > stop_limit:\n",
    "        break\n",
    "    "
   ]
  },
  {
   "cell_type": "code",
   "execution_count": null,
   "metadata": {},
   "outputs": [],
   "source": []
  },
  {
   "cell_type": "code",
   "execution_count": null,
   "metadata": {},
   "outputs": [],
   "source": []
  },
  {
   "cell_type": "code",
   "execution_count": null,
   "metadata": {},
   "outputs": [],
   "source": []
  },
  {
   "cell_type": "code",
   "execution_count": null,
   "metadata": {},
   "outputs": [],
   "source": []
  },
  {
   "cell_type": "markdown",
   "metadata": {},
   "source": [
    "# old dev"
   ]
  },
  {
   "cell_type": "markdown",
   "metadata": {},
   "source": [
    "## setup"
   ]
  },
  {
   "cell_type": "code",
   "execution_count": null,
   "metadata": {},
   "outputs": [],
   "source": [
    "file = symloader.filter(bw=9, sf=11, att=40)[0]\n",
    "display(file)\n",
    "file.load()\n",
    "\n",
    "pfile = _load_matching_dotp(file.bw, file.sf)\n",
    "display(pfile)\n",
    "\n",
    "base_symbol = pfile.to_signal()\n",
    "display(base_symbol)"
   ]
  },
  {
   "cell_type": "code",
   "execution_count": null,
   "metadata": {},
   "outputs": [],
   "source": [
    "filtered_symbols, conv_vals = filter_symbols(file, thresh_type='quant', plot=False)"
   ]
  },
  {
   "cell_type": "code",
   "execution_count": null,
   "metadata": {},
   "outputs": [],
   "source": [
    "bad_symbols = np.vstack([\n",
    "    filtered_symbols[15],\n",
    "    filtered_symbols[16],\n",
    "    filtered_symbols[20],\n",
    "    filtered_symbols[99],\n",
    "    filtered_symbols[100],\n",
    "    filtered_symbols[101],\n",
    "    filtered_symbols[110],\n",
    "    filtered_symbols[111],\n",
    "])\n",
    "\n",
    "good_symbols = np.vstack([\n",
    "    filtered_symbols[0],\n",
    "    filtered_symbols[5],\n",
    "    filtered_symbols[8],\n",
    "    filtered_symbols[71],\n",
    "    filtered_symbols[1],\n",
    "    filtered_symbols[3],\n",
    "    filtered_symbols[29],\n",
    "    filtered_symbols[30],\n",
    "])"
   ]
  },
  {
   "cell_type": "code",
   "execution_count": null,
   "metadata": {},
   "outputs": [],
   "source": [
    "plt.plot(conv_vals)"
   ]
  },
  {
   "cell_type": "code",
   "execution_count": null,
   "metadata": {},
   "outputs": [],
   "source": []
  },
  {
   "cell_type": "code",
   "execution_count": null,
   "metadata": {},
   "outputs": [],
   "source": []
  },
  {
   "cell_type": "markdown",
   "metadata": {},
   "source": [
    "## bad symbol location"
   ]
  },
  {
   "cell_type": "code",
   "execution_count": null,
   "metadata": {
    "jupyter": {
     "source_hidden": true
    },
    "scrolled": true
   },
   "outputs": [],
   "source": [
    "for sym in filtered_symbols[10:20]:\n",
    "    with warnings.catch_warnings():\n",
    "        warnings.simplefilter(\"ignore\")\n",
    "        \n",
    "        plt.figure(figsize=(5,1))\n",
    "        plt.plot(sym)"
   ]
  },
  {
   "cell_type": "code",
   "execution_count": null,
   "metadata": {
    "jupyter": {
     "source_hidden": true
    }
   },
   "outputs": [],
   "source": [
    "sym_df = (\n",
    "    pd.DataFrame({'good': good_symbol, 'bad': bad_symbol})\n",
    "    .assign(\n",
    "        good_abs = lambda df: np.abs(df.good),\n",
    "        bad_abs = lambda df: np.abs(df.bad),\n",
    "    )\n",
    ")\n",
    "sym_df.head()"
   ]
  },
  {
   "cell_type": "markdown",
   "metadata": {},
   "source": [
    "## metric exploration"
   ]
  },
  {
   "cell_type": "code",
   "execution_count": null,
   "metadata": {},
   "outputs": [],
   "source": [
    "fig, ax = plt.subplots(1, 2, figsize=(12, 3))\n",
    "with warnings.catch_warnings():\n",
    "    warnings.simplefilter(\"ignore\")\n",
    "    ax[0].plot(good_symbols[0])\n",
    "    ax[1].plot(bad_symbols[1])"
   ]
  },
  {
   "cell_type": "code",
   "execution_count": null,
   "metadata": {},
   "outputs": [],
   "source": []
  },
  {
   "cell_type": "markdown",
   "metadata": {},
   "source": [
    "## convolution"
   ]
  },
  {
   "cell_type": "code",
   "execution_count": null,
   "metadata": {},
   "outputs": [],
   "source": [
    "import scipy as sp\n",
    "import scipy.stats as spstats\n",
    "import scipy.signal as spsig"
   ]
  },
  {
   "cell_type": "code",
   "execution_count": null,
   "metadata": {},
   "outputs": [],
   "source": [
    "def _fft_convolve_autocorr(symbol: np.ndarray):\n",
    "    return spsig.fftconvolve(symbol, symbol[::-1], mode='full')\n",
    "\n",
    "def _sp_corr(base_symbol: np.ndarray, packet_slice: np.ndarray) -> float:\n",
    "    min_size = np.min((base_symbol.size, packet_slice.size))\n",
    "    corr = spsig.correlate(base_symbol, packet_slice)\n",
    "    return np.abs(corr.max())\n",
    "    "
   ]
  },
  {
   "cell_type": "code",
   "execution_count": null,
   "metadata": {},
   "outputs": [],
   "source": []
  },
  {
   "cell_type": "code",
   "execution_count": null,
   "metadata": {},
   "outputs": [],
   "source": [
    "good_fftconvs = np.vstack([\n",
    "    _fft_convolve_autocorr(sym)\n",
    "    for sym in good_symbols\n",
    "])\n",
    "\n",
    "bad_fftconvs = np.vstack([\n",
    "    _fft_convolve_autocorr(sym)\n",
    "    for sym in bad_symbols\n",
    "])"
   ]
  },
  {
   "cell_type": "code",
   "execution_count": null,
   "metadata": {},
   "outputs": [],
   "source": [
    "corr_vals = np.array([\n",
    "    _sp_corr(base_symbol.data, fftconv)\n",
    "    for fftconv in np.vstack([good_fftconvs, bad_fftconvs])\n",
    "])"
   ]
  },
  {
   "cell_type": "code",
   "execution_count": null,
   "metadata": {},
   "outputs": [],
   "source": []
  },
  {
   "cell_type": "code",
   "execution_count": null,
   "metadata": {},
   "outputs": [],
   "source": [
    "_fftconvs = np.vstack([\n",
    "    _sp_corr(base_symbol.data, _fft_convolve_autocorr(sym))\n",
    "    for sym in np.vstack([good_symbols, bad_symbols])\n",
    "])"
   ]
  },
  {
   "cell_type": "code",
   "execution_count": null,
   "metadata": {},
   "outputs": [],
   "source": [
    "corr_vals = np.array([\n",
    "    _sp_corr(base_symbol.data, fftconv)\n",
    "    for fftconv in np.vstack([good_fftconvs, bad_fftconvs])\n",
    "])"
   ]
  },
  {
   "cell_type": "code",
   "execution_count": null,
   "metadata": {},
   "outputs": [],
   "source": [
    "plt.plot(sorted(corr_vals))"
   ]
  },
  {
   "cell_type": "code",
   "execution_count": null,
   "metadata": {},
   "outputs": [],
   "source": [
    "filtered_symbols = [\n",
    "    sym for sym, corr in zip(np.vstack([good_symbols,bad_symbols]), corr_vals)\n",
    "    if corr > corr_vals.mean()\n",
    "]"
   ]
  },
  {
   "cell_type": "code",
   "execution_count": null,
   "metadata": {},
   "outputs": [],
   "source": [
    "len(filtered_symbols)"
   ]
  },
  {
   "cell_type": "code",
   "execution_count": null,
   "metadata": {},
   "outputs": [],
   "source": []
  },
  {
   "cell_type": "code",
   "execution_count": null,
   "metadata": {},
   "outputs": [],
   "source": []
  },
  {
   "cell_type": "code",
   "execution_count": null,
   "metadata": {},
   "outputs": [],
   "source": [
    "idx = 0"
   ]
  },
  {
   "cell_type": "code",
   "execution_count": null,
   "metadata": {},
   "outputs": [],
   "source": [
    "logger.warning(f'\\n idx = {idx} '.center(60, '='))\n",
    "\n",
    "good_fft_corr = _compute_corrcoefs(base_symbol.data, good_fftconvs[idx])\n",
    "bad_fft_corr = _compute_corrcoefs(base_symbol.data, bad_fftconvs[idx])\n",
    "good_sp_corr = _sp_corr(base_symbol.data, good_fftconvs[idx])\n",
    "bad_sp_corr = _sp_corr(base_symbol.data, bad_fftconvs[idx])\n",
    "\n",
    "\n",
    "fig, ax = plt.subplots(2, 2, figsize=(12, 6))\n",
    "with warnings.catch_warnings():\n",
    "    warnings.simplefilter(\"ignore\")\n",
    "    ax[0,0].plot(good_symbols[idx])\n",
    "    ax[0,1].plot(bad_symbols[idx])\n",
    "    ax[1,0].plot(good_fftconvs[idx])\n",
    "    ax[1,0].set_xlabel(f'good corr: {good_sp_corr:0.6f}')\n",
    "    ax[1,1].plot(bad_fftconvs[idx])\n",
    "    ax[1,1].set_xlabel(f'bad corr: {bad_sp_corr:0.6f}')\n",
    "    \n",
    "\n",
    "idx += 1"
   ]
  },
  {
   "cell_type": "code",
   "execution_count": null,
   "metadata": {},
   "outputs": [],
   "source": []
  },
  {
   "cell_type": "markdown",
   "metadata": {},
   "source": [
    "## correlation"
   ]
  },
  {
   "cell_type": "code",
   "execution_count": null,
   "metadata": {},
   "outputs": [],
   "source": [
    "def _compute_corrcoefs(base_symbol: np.ndarray, packet_slice: np.ndarray) -> float:\n",
    "    min_size = np.min((base_symbol.size, packet_slice.size))\n",
    "\n",
    "    return np.real(np.abs(\n",
    "        np.corrcoef(base_symbol[:min_size], packet_slice[:min_size])[0, 1]\n",
    "    ))"
   ]
  },
  {
   "cell_type": "code",
   "execution_count": null,
   "metadata": {},
   "outputs": [],
   "source": [
    "def _sp_corr(base_symbol: np.ndarray, packet_slice: np.ndarray) -> float:\n",
    "    min_size = np.min((base_symbol.size, packet_slice.size))\n",
    "    corr = spsig.correlate(base_symbol, packet_slice)\n",
    "    return np.abs(corr.max())\n",
    "    "
   ]
  },
  {
   "cell_type": "code",
   "execution_count": null,
   "metadata": {},
   "outputs": [],
   "source": [
    "good_sp_corr = spsig.correlate(base_symbol.data, good_fftconvs[0])\n",
    "bad_sp_corr = spsig.correlate(base_symbol.data, bad_fftconvs[0])\n",
    "\n",
    "fig, ax = plt.subplots(1, 2, figsize=(12, 3))\n",
    "with warnings.catch_warnings():\n",
    "    warnings.simplefilter(\"ignore\")\n",
    "    ax[0].plot(good_sp_corr)\n",
    "    ax[1].plot(bad_sp_corr)"
   ]
  },
  {
   "cell_type": "code",
   "execution_count": null,
   "metadata": {},
   "outputs": [],
   "source": [
    "_compute_corrcoefs(base_symbol.data, good_fftconv), _compute_corrcoefs(base_symbol.data, bad_fftconv)"
   ]
  },
  {
   "cell_type": "code",
   "execution_count": null,
   "metadata": {},
   "outputs": [],
   "source": []
  },
  {
   "cell_type": "code",
   "execution_count": null,
   "metadata": {},
   "outputs": [],
   "source": []
  }
 ],
 "metadata": {
  "kernelspec": {
   "display_name": "Python 3",
   "language": "python",
   "name": "python3"
  },
  "language_info": {
   "codemirror_mode": {
    "name": "ipython",
    "version": 3
   },
   "file_extension": ".py",
   "mimetype": "text/x-python",
   "name": "python",
   "nbconvert_exporter": "python",
   "pygments_lexer": "ipython3",
   "version": "3.7.6"
  }
 },
 "nbformat": 4,
 "nbformat_minor": 4
}
