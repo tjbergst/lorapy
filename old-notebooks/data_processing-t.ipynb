{
 "cells": [
  {
   "cell_type": "markdown",
   "metadata": {},
   "source": [
    "# lora data processing"
   ]
  },
  {
   "cell_type": "code",
   "execution_count": 1,
   "metadata": {},
   "outputs": [],
   "source": [
    "import pathlib\n",
    "import numpy as np\n",
    "import more_itertools as mit\n",
    "import re\n",
    "\n",
    "from matplotlib import pyplot as plt\n",
    "%matplotlib inline\n",
    "plt.style.use('dark_background')\n",
    "\n",
    "from tqdm.notebook import trange, tqdm"
   ]
  },
  {
   "cell_type": "markdown",
   "metadata": {},
   "source": [
    "## functions"
   ]
  },
  {
   "cell_type": "code",
   "execution_count": 10,
   "metadata": {
    "jupyter": {
     "source_hidden": true
    }
   },
   "outputs": [],
   "source": [
    "## utility functions\n",
    "\n",
    "def glob_files(path, pattern=r'**/*.dat'):\n",
    "    yield from (file for file in data_dir.glob('**/*.dat'))\n",
    "    \n",
    "\n",
    "def _extract_digit(pattern, text):\n",
    "    \"\"\" helper for extract_bw_and_sf \"\"\"\n",
    "    try:\n",
    "        match = int(re.search(pattern, text)[1])\n",
    "    except:\n",
    "        print('ERROR! unable to extract bw or sf')\n",
    "        return \n",
    "    else:\n",
    "        return match \n",
    "    \n",
    "    \n",
    "def extract_bw_and_sf(filename, BW_val):\n",
    "    \"\"\" extracts params from input filename \"\"\"\n",
    "    _bw_pattern, _sf_pattern = r'BW(\\d)', r'SF(\\d{1,})'\n",
    "    \n",
    "    bw_match = _extract_digit(_bw_pattern, filename)\n",
    "    if bw_match is not None:\n",
    "        bw_match = BW_val[bw_match - 1]\n",
    "    \n",
    "    sf_match = _extract_digit(_sf_pattern, filename)\n",
    "    \n",
    "    return bw_match, sf_match\n",
    "\n",
    "def check_and_load_file(filepath):\n",
    "    filepath = pathlib.Path(filepath)\n",
    "    \n",
    "    if not isinstance(filepath, pathlib.Path) or not filepath.exists():\n",
    "        print(f'ERROR! unable to find input file at:\\n{filepath}')\n",
    "        return\n",
    "        \n",
    "    return filepath\n",
    "\n",
    "## get encoding parameters\n",
    "\n",
    "def get_and_set_encoding_params(filepath):\n",
    "    BW_val = np.array([10.4e3, 15.6e3, 0, 0, 0, 0, 125e3, 250e3, 500e3])\n",
    "    BW, SF = extract_bw_and_sf(filepath.name, BW_val) \n",
    "    \n",
    "    Fs = int(1e6)\n",
    "    sampPerSym = np.round(((2**SF)/BW)*Fs)\n",
    "    pcktLen = 30.25*sampPerSym\n",
    "\n",
    "    print(f'BW: {BW} | SF: {SF} | Fs: {Fs} | Samples Per Symbol: {sampPerSym} | Packet Length: {pcktLen}')\n",
    "\n",
    "## load data\n",
    "\n",
    "def load_data(filepath):\n",
    "    try:\n",
    "        signal = np.fromfile(filepath, dtype=np.complex64)\n",
    "    except Exception as exc:\n",
    "        print(f'unable to load file:\\n{exc}')\n",
    "        return \n",
    "    else:\n",
    "        print(f'loaded signal with {signal.size} samples')\n",
    "        return signal\n",
    "\n",
    "## normalize signal\n",
    "\n",
    "def normalize_signal(signal, th=0.001):\n",
    "    real_s = np.abs(np.real(signal)) \n",
    "    \n",
    "    norm_s = np.array([\n",
    "        np.ceil(val) if val >= th else 0\n",
    "        for val in real_s\n",
    "    ])\n",
    "    return real_s, norm_s\n",
    "\n",
    "### locate zero indices\n",
    "\n",
    "def _locate_zero_indices(norm_signal):\n",
    "    indices = np.where(norm_signal == 0.0)[0]\n",
    "    \n",
    "    return indices\n",
    "\n",
    "### find consecutive groups \n",
    "\n",
    "def _find_consecutive_groups(zero_indexes):\n",
    "    groups = [\n",
    "        list(j) for j in \n",
    "        mit.consecutive_groups(sorted(list(set(zero_indexes))))\n",
    "    ]\n",
    "    \n",
    "    lengths = np.array(\n",
    "        [len(item) for item in groups]\n",
    "    )\n",
    "    \n",
    "    print(f'found {len(groups)} groups')\n",
    "    return groups, lengths\n",
    "\n",
    "### locate endpoints\n",
    "\n",
    "def _locate_endpoints(groups, threshold=15_000):\n",
    "    all_endpoints = [\n",
    "        endpoints for group in groups\n",
    "            if len(group) > threshold\n",
    "        for endpoints in (group[0], group[1])\n",
    "    ]\n",
    "    \n",
    "    endpoint_pairs = [\n",
    "        (start, stop) \n",
    "        for start, stop in zip(all_endpoints[1::2], all_endpoints[2::2])\n",
    "    ]\n",
    "    \n",
    "    print(f'extracted {len(endpoint_pairs)} packets from signal')\n",
    "    return endpoint_pairs\n",
    "\n",
    "## extract endpoints\n",
    "\n",
    "def plot_groups(indexes, lengths, filename):\n",
    "    fig, axs = plt.subplots(2)\n",
    "    fig.suptitle(f'{filename}')\n",
    "    axs[0].plot(indexes)\n",
    "    axs[1].plot(lengths)\n",
    "    \n",
    "    plt.savefig(f'plots/{filename}.png')\n",
    "    return fig\n",
    "\n",
    "def extract_endpoints(normalized_signal, filename, threshold=15_000):\n",
    "    zero_indexes = _locate_zero_indices(normalized_signal)\n",
    "    consec_groups, groups_lengths = _find_consecutive_groups(zero_indexes)\n",
    "    \n",
    "    # validation plot \n",
    "    plot_groups(zero_indexes, groups_lengths, filename)\n",
    "    \n",
    "    endpoint_pairs = _locate_endpoints(consec_groups, threshold)\n",
    "    return endpoint_pairs\n",
    "\n",
    "\n",
    "\n",
    "## packet slicing\n",
    "\n",
    "def _slice_and_pad(signal, endpoints, length):\n",
    "    start, stop = endpoints\n",
    "    sliced = signal[start:stop] \n",
    "    \n",
    "    if len(sliced) < length:\n",
    "        sliced = np.concatenate((\n",
    "            sliced, np.zeros(length - len(sliced))\n",
    "        ))\n",
    "        \n",
    "    return sliced\n",
    "\n",
    "\n",
    "def slice_all_packets(signal, endpoints):\n",
    "    max_length = max(stop - start for start, stop in endpoint_pairs)\n",
    "    print(f'got max packet length: {max_length}')\n",
    "    \n",
    "    packets = np.vstack(\n",
    "        tuple(\n",
    "            _slice_and_pad(real_s, pair, max_length)\n",
    "            for pair in endpoint_pairs\n",
    "        )\n",
    "    )\n",
    "    \n",
    "    print(f'extracted {len(packets)} packets from signal')\n",
    "    return packets\n",
    "    "
   ]
  },
  {
   "cell_type": "markdown",
   "metadata": {},
   "source": [
    "## select file"
   ]
  },
  {
   "cell_type": "code",
   "execution_count": 3,
   "metadata": {},
   "outputs": [
    {
     "data": {
      "text/plain": [
       "[PosixPath('data/LoRa_Recording_OTA/Location2/lora_BW8_SF12_915MHz_1Msps_L2.dat'),\n",
       " PosixPath('data/LoRa_Recording_OTA/Location2/lora_BW8_SF11_915MHz_1Msps_L2.dat'),\n",
       " PosixPath('data/LoRa_Recording_OTA/Location2/lora_BW8_SF10_915MHz_1Msps_L2.dat'),\n",
       " PosixPath('data/LoRa_Recording_OTA/Location2/lora_BW1_SF10_915MHz_1Msps_L2.dat'),\n",
       " PosixPath('data/LoRa_Recording_OTA/Location2/lora_BW9_SF12_915MHz_1Msps_L2.dat')]"
      ]
     },
     "execution_count": 3,
     "metadata": {},
     "output_type": "execute_result"
    }
   ],
   "source": [
    "data_dir = pathlib.Path('data')\n",
    "\n",
    "all_data_files = list(glob_files(data_dir))\n",
    "all_data_files[:5]"
   ]
  },
  {
   "cell_type": "markdown",
   "metadata": {},
   "source": [
    "## param dict "
   ]
  },
  {
   "cell_type": "code",
   "execution_count": 4,
   "metadata": {
    "jupyter": {
     "source_hidden": true
    }
   },
   "outputs": [],
   "source": [
    "param_dict = {\n",
    "    # location 0 \n",
    "    'lora_BW1_SF10_915MHz_1Msps_L0.dat': 0.001,\n",
    "    'lora_BW1_SF11_915MHz_1Msps_L0.dat': 0.001,\n",
    "    'lora_BW1_SF12_915MHz_1Msps_L0.dat': 0.001,\n",
    "    'lora_BW2_SF10_915MHz_1Msps_L0.dat': 0.001,\n",
    "    'lora_BW2_SF11_915MHz_1Msps_L0.dat': 0.001,\n",
    "    'lora_BW2_SF12_915MHz_1Msps_L0.dat': 0.001,\n",
    "    'lora_BW7_SF10_915MHz_1Msps_L0.dat': 0.001,\n",
    "    'lora_BW7_SF11_915MHz_1Msps_L0.dat': 0.001,\n",
    "    'lora_BW7_SF12_915MHz_1Msps_L0.dat': 0.001,\n",
    "    'lora_BW8_SF10_915MHz_1Msps_L0.dat': 0.001,\n",
    "    'lora_BW8_SF11_915MHz_1Msps_L0.dat': 0.001,\n",
    "    'lora_BW8_SF12_915MHz_1Msps_L0.dat': 0.001,\n",
    "    'lora_BW9_SF10_915MHz_1Msps_L0.dat': 0.001,\n",
    "    'lora_BW9_SF11_915MHz_1Msps_L0.dat': 0.001,\n",
    "    'lora_BW9_SF12_915MHz_1Msps_L0.dat': 0.001,\n",
    "    \n",
    "    # location 1 \n",
    "    'lora_BW1_SF10_915MHz_1Msps_L1.dat': 0.001,\n",
    "    'lora_BW1_SF11_915MHz_1Msps_L1.dat': 0.001,\n",
    "    'lora_BW1_SF12_915MHz_1Msps_L1.dat': 0.001,\n",
    "    'lora_BW2_SF10_915MHz_1Msps_L1.dat': 0.001,\n",
    "    'lora_BW2_SF11_915MHz_1Msps_L1.dat': 0.001,\n",
    "    'lora_BW2_SF12_915MHz_1Msps_L1.dat': 0.001,\n",
    "    'lora_BW7_SF10_915MHz_1Msps_L1.dat': 0.001,\n",
    "    'lora_BW7_SF11_915MHz_1Msps_L1.dat': 0.001,\n",
    "    'lora_BW7_SF12_915MHz_1Msps_L1.dat': 0.001,\n",
    "    'lora_BW8_SF10_915MHz_1Msps_L1.dat': 0.001,\n",
    "    'lora_BW8_SF11_915MHz_1Msps_L1.dat': 0.001,\n",
    "    'lora_BW8_SF12_915MHz_1Msps_L1.dat': 0.001,\n",
    "    'lora_BW9_SF10_915MHz_1Msps_L1.dat': 0.001,\n",
    "    'lora_BW9_SF11_915MHz_1Msps_L1.dat': 0.001,\n",
    "    'lora_BW9_SF12_915MHz_1Msps_L1.dat': 0.001,\n",
    "    \n",
    "    # location 2 \n",
    "    'lora_BW1_SF10_915MHz_1Msps_L2.dat': 0.001,\n",
    "    'lora_BW1_SF11_915MHz_1Msps_L2.dat': 0.001,\n",
    "    'lora_BW1_SF12_915MHz_1Msps_L2.dat': 0.001,\n",
    "    'lora_BW2_SF10_915MHz_1Msps_L2.dat': 0.001,\n",
    "    'lora_BW2_SF11_915MHz_1Msps_L2.dat': 0.001,\n",
    "    'lora_BW2_SF12_915MHz_1Msps_L2.dat': 0.001,\n",
    "    'lora_BW7_SF10_915MHz_1Msps_L2.dat': 0.001,\n",
    "    'lora_BW7_SF11_915MHz_1Msps_L2.dat': 0.001,\n",
    "    'lora_BW7_SF12_915MHz_1Msps_L2.dat': 0.001,\n",
    "    'lora_BW8_SF10_915MHz_1Msps_L2.dat': 0.001,\n",
    "    'lora_BW8_SF11_915MHz_1Msps_L2.dat': 0.001,\n",
    "    'lora_BW8_SF12_915MHz_1Msps_L2.dat': 0.001,\n",
    "    'lora_BW9_SF10_915MHz_1Msps_L2.dat': 0.001,\n",
    "    'lora_BW9_SF11_915MHz_1Msps_L2.dat': 0.001,\n",
    "    'lora_BW9_SF12_915MHz_1Msps_L2.dat': 0.001,\n",
    "    \n",
    "    # location 3 \n",
    "    'lora_BW1_SF10_915MHz_1Msps_L3.dat': 0.001,\n",
    "    'lora_BW1_SF11_915MHz_1Msps_L3.dat': 0.001,\n",
    "    'lora_BW1_SF12_915MHz_1Msps_L3.dat': 0.001,\n",
    "    'lora_BW2_SF10_915MHz_1Msps_L3.dat': 0.001,\n",
    "    'lora_BW2_SF11_915MHz_1Msps_L3.dat': 0.001,\n",
    "    'lora_BW2_SF12_915MHz_1Msps_L3.dat': 0.001,\n",
    "    'lora_BW7_SF10_915MHz_1Msps_L3.dat': 0.001,\n",
    "    'lora_BW7_SF11_915MHz_1Msps_L3.dat': 0.001,\n",
    "    'lora_BW7_SF12_915MHz_1Msps_L3.dat': 0.001,\n",
    "    'lora_BW8_SF10_915MHz_1Msps_L3.dat': 0.001,\n",
    "    'lora_BW8_SF11_915MHz_1Msps_L3.dat': 0.001,\n",
    "    'lora_BW8_SF12_915MHz_1Msps_L3.dat': 0.001,\n",
    "    'lora_BW9_SF10_915MHz_1Msps_L3.dat': 0.001,\n",
    "    'lora_BW9_SF11_915MHz_1Msps_L3.dat': 0.001,\n",
    "    'lora_BW9_SF12_915MHz_1Msps_L3.dat': 0.001,\n",
    "    \n",
    "    # location 4 \n",
    "    'lora_BW1_SF10_915MHz_1Msps_L4.dat': 0.001,\n",
    "    'lora_BW1_SF11_915MHz_1Msps_L4.dat': 0.001,\n",
    "    'lora_BW1_SF12_915MHz_1Msps_L4.dat': 0.001,\n",
    "    'lora_BW2_SF10_915MHz_1Msps_L4.dat': 0.001,\n",
    "    'lora_BW2_SF11_915MHz_1Msps_L4.dat': 0.001,\n",
    "    'lora_BW2_SF12_915MHz_1Msps_L4.dat': 0.001,\n",
    "    'lora_BW7_SF10_915MHz_1Msps_L4.dat': 0.001,\n",
    "    'lora_BW7_SF11_915MHz_1Msps_L4.dat': 0.001,\n",
    "    'lora_BW7_SF12_915MHz_1Msps_L4.dat': 0.001,\n",
    "    'lora_BW8_SF10_915MHz_1Msps_L4.dat': 0.001,\n",
    "    'lora_BW8_SF11_915MHz_1Msps_L4.dat': 0.001,\n",
    "    'lora_BW8_SF12_915MHz_1Msps_L4.dat': 0.001,\n",
    "    'lora_BW9_SF10_915MHz_1Msps_L4.dat': 0.001,\n",
    "    'lora_BW9_SF11_915MHz_1Msps_L4.dat': 0.001,\n",
    "    'lora_BW9_SF12_915MHz_1Msps_L4.dat': 0.001,\n",
    "    \n",
    "    # location 5 \n",
    "    'lora_BW1_SF10_915MHz_1Msps_L5.dat': 0.001,\n",
    "    'lora_BW1_SF11_915MHz_1Msps_L5.dat': 0.001,\n",
    "    'lora_BW1_SF12_915MHz_1Msps_L5.dat': 0.001,\n",
    "    'lora_BW2_SF10_915MHz_1Msps_L5.dat': 0.001,\n",
    "    'lora_BW2_SF11_915MHz_1Msps_L5.dat': 0.001,\n",
    "    'lora_BW2_SF12_915MHz_1Msps_L5.dat': 0.001,\n",
    "    'lora_BW7_SF10_915MHz_1Msps_L5.dat': 0.001,\n",
    "    'lora_BW7_SF11_915MHz_1Msps_L5.dat': 0.001,\n",
    "    'lora_BW7_SF12_915MHz_1Msps_L5.dat': 0.001,\n",
    "    'lora_BW8_SF10_915MHz_1Msps_L5.dat': 0.001,\n",
    "    'lora_BW8_SF11_915MHz_1Msps_L5.dat': 0.001,\n",
    "    'lora_BW8_SF12_915MHz_1Msps_L5.dat': 0.001,\n",
    "    'lora_BW9_SF10_915MHz_1Msps_L5.dat': 0.001,\n",
    "    'lora_BW9_SF11_915MHz_1Msps_L5.dat': 0.001,\n",
    "    'lora_BW9_SF12_915MHz_1Msps_L5.dat': 0.001\n",
    "}"
   ]
  },
  {
   "cell_type": "code",
   "execution_count": null,
   "metadata": {},
   "outputs": [],
   "source": []
  },
  {
   "cell_type": "markdown",
   "metadata": {},
   "source": [
    "## all together now "
   ]
  },
  {
   "cell_type": "code",
   "execution_count": 11,
   "metadata": {},
   "outputs": [],
   "source": [
    "def extract_packets(filepath, norm_thresh=0.001, packet_thresh=15_000):\n",
    "    filepath = check_and_load_file(filepath)    \n",
    "    print(f'norm threshold: {norm_thresh}')\n",
    "    \n",
    "    get_and_set_encoding_params(filepath) \n",
    "    signal = load_data(filepath)\n",
    "    \n",
    "    real_s, norm_s = normalize_signal(signal[:3_000_000], norm_thresh)\n",
    "    endpoint_pairs = extract_endpoints(norm_s, filepath.name, packet_thresh)\n",
    "    \n",
    "    all_packets = slice_all_packets(real_s, endpoint_pairs)\n",
    "    \n",
    "    return all_packets"
   ]
  },
  {
   "cell_type": "code",
   "execution_count": 12,
   "metadata": {},
   "outputs": [
    {
     "name": "stdout",
     "output_type": "stream",
     "text": [
      "norm threshold: 0.001\n",
      "BW: 250000.0 | SF: 11 | Fs: 1000000 | Samples Per Symbol: 8192.0 | Packet Length: 247808.0\n",
      "loaded signal with 169481070 samples\n",
      "found 353773 groups\n",
      "extracted 10 packets from signal\n",
      "got max packet length: 266072\n",
      "extracted 10 packets from signal\n"
     ]
    },
    {
     "data": {
      "image/png": "[encoded data removed]",
      "text/plain": [
       "<Figure size 432x288 with 2 Axes>"
      ]
     },
     "metadata": {},
     "output_type": "display_data"
    }
   ],
   "source": [
    "all_packets = extract_packets(all_data_files[1], norm_thresh=0.001, packet_thresh=15_000)"
   ]
  },
  {
   "cell_type": "code",
   "execution_count": null,
   "metadata": {},
   "outputs": [],
   "source": []
  },
  {
   "cell_type": "code",
   "execution_count": null,
   "metadata": {},
   "outputs": [],
   "source": []
  },
  {
   "cell_type": "markdown",
   "metadata": {},
   "source": [
    "## batch processing"
   ]
  },
  {
   "cell_type": "code",
   "execution_count": null,
   "metadata": {
    "scrolled": true
   },
   "outputs": [],
   "source": [
    "for file in tqdm(all_data_files):\n",
    "    print(f'processing {file.name}')\n",
    "    extract_packets(file, norm_thresh=param_dict[file.name], packet_thresh=15_000)  \n",
    "    plt.show()\n",
    "    print('\\n\\n\\n')"
   ]
  },
  {
   "cell_type": "code",
   "execution_count": null,
   "metadata": {},
   "outputs": [],
   "source": []
  },
  {
   "cell_type": "code",
   "execution_count": null,
   "metadata": {},
   "outputs": [],
   "source": []
  },
  {
   "cell_type": "code",
   "execution_count": null,
   "metadata": {},
   "outputs": [],
   "source": []
  },
  {
   "cell_type": "code",
   "execution_count": null,
   "metadata": {},
   "outputs": [],
   "source": []
  },
  {
   "cell_type": "code",
   "execution_count": null,
   "metadata": {},
   "outputs": [],
   "source": []
  },
  {
   "cell_type": "markdown",
   "metadata": {},
   "source": [
    "## threshold tuning"
   ]
  },
  {
   "cell_type": "code",
   "execution_count": null,
   "metadata": {},
   "outputs": [],
   "source": [
    "plt.hist(real_s[np.where(real_s < 0.005)], bins=50);"
   ]
  },
  {
   "cell_type": "code",
   "execution_count": null,
   "metadata": {},
   "outputs": [],
   "source": [
    "plt.hist(real_s, bins=50);"
   ]
  },
  {
   "cell_type": "code",
   "execution_count": null,
   "metadata": {},
   "outputs": [],
   "source": []
  }
 ],
 "metadata": {
  "kernelspec": {
   "display_name": "Python 3",
   "language": "python",
   "name": "python3"
  },
  "language_info": {
   "codemirror_mode": {
    "name": "ipython",
    "version": 3
   },
   "file_extension": ".py",
   "mimetype": "text/x-python",
   "name": "python",
   "nbconvert_exporter": "python",
   "pygments_lexer": "ipython3",
   "version": "3.7.6"
  }
 },
 "nbformat": 4,
 "nbformat_minor": 4
}
