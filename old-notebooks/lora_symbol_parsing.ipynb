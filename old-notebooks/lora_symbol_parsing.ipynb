{
 "cells": [
  {
   "cell_type": "code",
   "execution_count": 1,
   "metadata": {},
   "outputs": [],
   "source": [
    "import pathlib\n",
    "import numpy as np\n",
    "\n",
    "import re\n",
    "\n",
    "from matplotlib import pyplot as plt\n",
    "\n",
    "# import data_processing\n",
    "# from data_processing import *\n",
    "\n",
    "from tqdm.notebook import trange, tqdm"
   ]
  },
  {
   "cell_type": "markdown",
   "metadata": {},
   "source": [
    "## util functions"
   ]
  },
  {
   "cell_type": "code",
   "execution_count": 2,
   "metadata": {},
   "outputs": [],
   "source": [
    "def _extract_digit(pattern, text):\n",
    "    \"\"\" helper for extract_bw_and_sf \"\"\"\n",
    "    try:\n",
    "        match = int(re.search(pattern, text)[1])\n",
    "    except:\n",
    "        print('ERROR! unable to extract bw or sf')\n",
    "        return \n",
    "    else:\n",
    "        return match \n",
    "    \n",
    "    \n",
    "def extract_bw_and_sf(filename):\n",
    "    \"\"\" extracts params from input filename \"\"\"\n",
    "    _bw_pattern, _sf_pattern = r'BW(\\d)', r'SF(\\d{1,})'\n",
    "    \n",
    "    bw_match = _extract_digit(_bw_pattern, filename)\n",
    "    if bw_match is not None:\n",
    "        bw_match = BW_val[bw_match - 1]\n",
    "    \n",
    "    sf_match = _extract_digit(_sf_pattern, filename)\n",
    "    \n",
    "    return bw_match, sf_match\n",
    "\n",
    "def check_and_load_file(filepath):\n",
    "    filepath = pathlib.Path(filepath)\n",
    "    \n",
    "    if not filepath.exists():\n",
    "        print(f'ERROR! unable to find input file at:\\n{filepath}')\n",
    "        return\n",
    "        \n",
    "    return filepath"
   ]
  },
  {
   "cell_type": "code",
   "execution_count": null,
   "metadata": {},
   "outputs": [],
   "source": []
  },
  {
   "cell_type": "markdown",
   "metadata": {},
   "source": [
    "### Get Encoding Parameters"
   ]
  },
  {
   "cell_type": "code",
   "execution_count": 4,
   "metadata": {},
   "outputs": [],
   "source": [
    "def get_and_set_encoding_params(filepath):\n",
    "    BW_val = np.array([10.4e3, 15.6e3, 0, 0, 0, 0, 125e3, 250e3, 500e3])\n",
    "    BW, SF = extract_bw_and_sf(DATA_FILE.name) \n",
    "    \n",
    "    Fs = int(1e6)\n",
    "    sampPerSym = np.round(((2**SF)/BW)*Fs)\n",
    "    pcktLen = 30.25*sampPerSym\n",
    "\n",
    "    print(f'BW: {BW} | SF: {SF} | Fs: {Fs} | Samples Per Symbol: {sampPerSym} | Packet Length: {pcktLen}')"
   ]
  },
  {
   "cell_type": "code",
   "execution_count": null,
   "metadata": {},
   "outputs": [],
   "source": [
    "##### data file\n",
    "DATA_FILE = pathlib.Path('LoRa_Recording_OTA/Location5/lora_BW8_SF11_915MHz_1Msps_L5.dat')\n",
    "\n",
    "# BW and SF setup\n",
    "BW_val = np.array([10.4e3, 15.6e3, 0, 0, 0, 0, 125e3, 250e3, 500e3])\n",
    "BW, SF = extract_bw_and_sf(DATA_FILE.name)\n",
    "\n",
    "Fs = int(1e6)\n",
    "sampPerSym = np.round(((2**SF)/BW)*Fs)\n",
    "pcktLen = 30.25*sampPerSym\n",
    "\n",
    "print(f'BW: {BW} | SF: {SF} | Fs: {Fs} | Samples Per Symbol: {sampPerSym} | Packet Length: {pcktLen}')"
   ]
  },
  {
   "cell_type": "markdown",
   "metadata": {},
   "source": [
    "### Load Data"
   ]
  },
  {
   "cell_type": "code",
   "execution_count": 5,
   "metadata": {},
   "outputs": [],
   "source": [
    "def load_data(filepath):\n",
    "    try:\n",
    "        signal = np.fromfile(DATA_FILE, dtype=np.complex64)\n",
    "    except Exception as exc:\n",
    "        print(f'unable to load file:\\n{exc}')\n",
    "        return \n",
    "    else:\n",
    "        return signal"
   ]
  },
  {
   "cell_type": "code",
   "execution_count": null,
   "metadata": {},
   "outputs": [],
   "source": [
    "signal = np.fromfile(DATA_FILE, dtype=np.complex64)"
   ]
  },
  {
   "cell_type": "markdown",
   "metadata": {},
   "source": [
    "### Check Data Structure"
   ]
  },
  {
   "cell_type": "code",
   "execution_count": null,
   "metadata": {},
   "outputs": [],
   "source": [
    "start, stop = int(145.4e3), int(145.4e3+4096)\n",
    "\n",
    "fft_s = np.abs(np.fft.fftshift(np.abs(np.fft.fft(signal[start:stop]))))\n",
    "\n",
    "plt.subplot(2,1,1)\n",
    "plt.plot(signal[start-2000:stop])\n",
    "plt.subplot(2,1,2)\n",
    "plt.plot(fft_s)"
   ]
  },
  {
   "cell_type": "code",
   "execution_count": null,
   "metadata": {},
   "outputs": [],
   "source": [
    "real_s = np.real(signal)\n",
    "real_s = np.abs(real_s[0:int(5e6)])\n",
    "th = 0.001"
   ]
  },
  {
   "cell_type": "code",
   "execution_count": null,
   "metadata": {},
   "outputs": [],
   "source": [
    "plt.plot(real_s[0:int(1e6)])"
   ]
  },
  {
   "cell_type": "code",
   "execution_count": null,
   "metadata": {},
   "outputs": [],
   "source": [
    "#norm_s = np.array([\n",
    "#    np.ceil(val) if val > th else np.floor(val) if val < -th else 0\n",
    "#    for val in real_s\n",
    "#])\n",
    "\n",
    "norm_s = np.array([\n",
    "    np.ceil(val) if val >= th else 0\n",
    "    for val in real_s\n",
    "])"
   ]
  },
  {
   "cell_type": "code",
   "execution_count": null,
   "metadata": {},
   "outputs": [],
   "source": [
    "num_zeros = np.where(norm_s == 0.0)[0]\n",
    "plt.plot(num_zeros)"
   ]
  },
  {
   "cell_type": "code",
   "execution_count": null,
   "metadata": {},
   "outputs": [],
   "source": [
    "import more_itertools as mit\n",
    "x = [list(j) for j in mit.consecutive_groups(sorted(list(set(num_zeros))))]"
   ]
  },
  {
   "cell_type": "code",
   "execution_count": null,
   "metadata": {},
   "outputs": [],
   "source": [
    "len_x = np.array([len(item) for item in x])"
   ]
  },
  {
   "cell_type": "code",
   "execution_count": null,
   "metadata": {},
   "outputs": [],
   "source": [
    "plt.plot(len_x)"
   ]
  },
  {
   "cell_type": "code",
   "execution_count": null,
   "metadata": {},
   "outputs": [],
   "source": [
    "for i in range(numPackets):\n",
    "    for j in range(numSymbols):\n",
    "        sym = packets(k:k+sampPerSym)\n",
    "        k += sampPerSym"
   ]
  }
 ],
 "metadata": {
  "kernelspec": {
   "display_name": "Python 3",
   "language": "python",
   "name": "python3"
  },
  "language_info": {
   "codemirror_mode": {
    "name": "ipython",
    "version": 3
   },
   "file_extension": ".py",
   "mimetype": "text/x-python",
   "name": "python",
   "nbconvert_exporter": "python",
   "pygments_lexer": "ipython3",
   "version": "3.7.6"
  }
 },
 "nbformat": 4,
 "nbformat_minor": 4
}
