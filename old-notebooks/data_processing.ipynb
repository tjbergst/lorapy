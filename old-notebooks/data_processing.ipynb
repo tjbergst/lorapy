{
 "cells": [
  {
   "cell_type": "markdown",
   "metadata": {},
   "source": [
    "# Lora Data Processing"
   ]
  },
  {
   "cell_type": "code",
   "execution_count": 1,
   "metadata": {},
   "outputs": [],
   "source": [
    "import pathlib\n",
    "import numpy as np\n",
    "import more_itertools as mit\n",
    "import re\n",
    "from scipy import signal as spsig\n",
    "from scipy.signal import argrelextrema\n",
    "from scipy.signal import argrelmin\n",
    "\n",
    "from matplotlib import pyplot as plt\n",
    "%matplotlib inline\n",
    "plt.style.use('dark_background')\n",
    "\n",
    "from tqdm.notebook import trange, tqdm\n",
    "\n",
    "from six.moves import cPickle\n",
    "\n",
    "\n",
    "Fs = int(1e6)"
   ]
  },
  {
   "cell_type": "markdown",
   "metadata": {},
   "source": [
    "## Functions"
   ]
  },
  {
   "cell_type": "code",
   "execution_count": 2,
   "metadata": {},
   "outputs": [],
   "source": [
    "## utility functions\n",
    "\n",
    "def glob_files(path, pattern=r'**/*.dat'):\n",
    "    yield from (file for file in data_dir.glob('**/*.dat'))\n",
    "    \n",
    "\n",
    "def _extract_digit(pattern, text):\n",
    "    \"\"\" helper for extract_bw_and_sf \"\"\"\n",
    "    try:\n",
    "        match = int(re.search(pattern, text)[1])\n",
    "    except:\n",
    "        print('ERROR! unable to extract bw or sf')\n",
    "        return \n",
    "    else:\n",
    "        return match \n",
    "    \n",
    "    \n",
    "def extract_bw_and_sf(filename, BW_val):\n",
    "    \"\"\" extracts params from input filename \"\"\"\n",
    "    _bw_pattern, _sf_pattern, _l_pattern = r'BW(\\d{1,})', r'SF(\\d{1,})', r'L(\\d)'\n",
    "    \n",
    "    bw_match = _extract_digit(_bw_pattern, filename)\n",
    "    if bw_match is not None:\n",
    "        bw_match = BW_val[bw_match - 1]\n",
    "    \n",
    "    sf_match = _extract_digit(_sf_pattern, filename)\n",
    "    \n",
    "    l_match = _extract_digit(_l_pattern, filename)\n",
    "    \n",
    "    return bw_match, sf_match, l_match\n",
    "\n",
    "def check_and_load_file(filepath):\n",
    "    filepath = pathlib.Path(filepath)\n",
    "    \n",
    "    if not isinstance(filepath, pathlib.Path) or not filepath.exists():\n",
    "        print(f'ERROR! unable to find input file at:\\n{filepath}')\n",
    "        return\n",
    "        \n",
    "    return filepath\n",
    "\n",
    "## get encoding parameters\n",
    "\n",
    "def get_and_set_encoding_params(filepath):\n",
    "    BW_val = np.array([10.4e3, 15.6e3, 0, 0, 0, 0, 125e3, 250e3, 500e3])\n",
    "    BW, SF, L = extract_bw_and_sf(filepath.name, BW_val) \n",
    "    Fs = int(1e6)\n",
    "    sampPerSym = np.round(((2**SF)/BW)*Fs)\n",
    "    pcktLen = 30.25*sampPerSym\n",
    "\n",
    "    print(f'BW: {BW} | SF: {SF} | Fs: {Fs} | Samples Per Symbol: {sampPerSym} | Packet Length: {pcktLen}')\n",
    "    return BW, SF, sampPerSym, L, pcktLen\n",
    "## load data\n",
    "\n",
    "def load_data(filepath):\n",
    "    try:\n",
    "        signal = np.fromfile(filepath, dtype=np.complex64)\n",
    "    except Exception as exc:\n",
    "        print(f'unable to load file:\\n{exc}')\n",
    "        return \n",
    "    else:\n",
    "        print(f'loaded signal with {signal.size} samples')\n",
    "        return signal\n",
    "\n",
    "## normalize signal\n",
    "\n",
    "def normalize_signal(signal, th=0.001):\n",
    "    real_s = np.abs(np.real(signal)) \n",
    "    \n",
    "    norm_s = np.array([\n",
    "        np.ceil(val) if val >= th else 0\n",
    "        for val in real_s\n",
    "    ])\n",
    "    return real_s, norm_s\n",
    "\n",
    "### locate zero indices\n",
    "\n",
    "def _locate_zero_indices(norm_signal):\n",
    "    indices = np.where(norm_signal == 0.0)[0]\n",
    "    \n",
    "    return indices\n",
    "\n",
    "### find consecutive groups \n",
    "\n",
    "def _find_consecutive_groups(zero_indexes):\n",
    "    groups = [\n",
    "        list(j) for j in \n",
    "        mit.consecutive_groups(sorted(list(set(zero_indexes))))\n",
    "    ]\n",
    "    \n",
    "    lengths = np.array(\n",
    "        [len(item) for item in groups]\n",
    "    )\n",
    "    \n",
    "    print(f'found {len(groups)} groups')\n",
    "    return groups, lengths\n",
    "\n",
    "### locate endpoints\n",
    "\n",
    "def _locate_endpoints(groups, threshold=15_000):\n",
    "    all_endpoints = [\n",
    "        endpoints for group in groups\n",
    "            if len(group) > threshold\n",
    "        for endpoints in (group[0], group[-1])\n",
    "    ]\n",
    "    \n",
    "    endpoint_pairs = [\n",
    "        (start, stop) \n",
    "        for start, stop in zip(all_endpoints[1::2], all_endpoints[2::2])\n",
    "    ]\n",
    "    \n",
    "    print(f'Extracted {len(endpoint_pairs)} packets from signal')\n",
    "    return endpoint_pairs\n",
    "\n",
    "## extract endpoints\n",
    "\n",
    "def plot_groups(indexes, lengths, filename):\n",
    "    fig, axs = plt.subplots(2)\n",
    "    fig.suptitle(f'{filename}')\n",
    "    axs[0].plot(indexes)\n",
    "    axs[1].plot(lengths)\n",
    "    \n",
    "    #plt.savefig(f'plots/{filename}.png')\n",
    "    return fig\n",
    "\n",
    "def extract_endpoints(normalized_signal, filename, threshold=15_000):\n",
    "    zero_indexes = _locate_zero_indices(normalized_signal)\n",
    "    consec_groups, groups_lengths = _find_consecutive_groups(zero_indexes)\n",
    "\n",
    "    # validation plot \n",
    "    plot_groups(zero_indexes, groups_lengths, filename)\n",
    "    \n",
    "    endpoint_pairs = _locate_endpoints(consec_groups, threshold)\n",
    "    return endpoint_pairs\n",
    "\n",
    "\n",
    "## smoothing method \n",
    "\n",
    "\n",
    "def _moving_average(a, n=3) :\n",
    "    ret = np.cumsum(a, dtype=float)\n",
    "    ret[n:] = ret[n:] - ret[:-n]\n",
    "    return ret[n - 1:] / n\n",
    "\n",
    "\n",
    "\n",
    "def preprocess(signal, scale_factor, window_length=17_000):\n",
    "    real_s = np.abs(np.real(signal))\n",
    "    \n",
    "    down_s = _moving_average(\n",
    "        spsig.decimate(real_s, scale_factor, ftype='iir'), \n",
    "        n=window_length // scale_factor\n",
    "    )\n",
    "    print(f'decimated by a factor of {scale_factor} | size: {down_s.size}')\n",
    "    \n",
    "    return real_s, down_s\n",
    "    \n",
    "    \n",
    "    \n",
    "def find_minima(signal, window=8_000):\n",
    "    minima = spsig.argrelmin(signal, order=int(window))[0]\n",
    "    \n",
    "    return minima\n",
    "\n",
    "\n",
    "def _generate_minima_plot(minima, size):\n",
    "    minima_plot = np.zeros(size)\n",
    "    \n",
    "    for val in minima:\n",
    "        minima_plot[val] = 1 \n",
    "        \n",
    "    return minima_plot\n",
    "\n",
    "\n",
    "def _average_packet_length():\n",
    "    sampPerSym = np.round(((2**SF)/BW)*Fs)\n",
    "    pcktLen = 30.25*sampPerSym\n",
    "    return pcktLen\n",
    "\n",
    "\n",
    "    \n",
    "def _plot_comparison(real, down, minima):\n",
    "    fig, axs = plt.subplots(3)\n",
    "    fig.set_figwidth(10), fig.set_figheight(12)\n",
    "    axs[0].plot(real[100_000:])\n",
    "    axs[1].plot(down[1000:])\n",
    "    axs[2].plot(_generate_minima_plot(minima, down.size)[1000:])\n",
    "\n",
    "    \n",
    "def _generate_endpoints(minima, scale, sampPerSym):\n",
    "    packet_length = 30.25*sampPerSym\n",
    "    return [\n",
    "        (int(val*scale), int(val*scale+packet_length))\n",
    "        for val in minima\n",
    "    ]\n",
    "\n",
    "def extract_indices(signal, scale_factor=101, window_length=17_000):\n",
    "    real_s, down_s = preprocess(signal, scale_factor, window_length)\n",
    "    \n",
    "    packet_len = _average_packet_length()\n",
    "    minima = find_minima(down_s, window=packet_len//scale_factor)\n",
    "    \n",
    "    _plot_comparison(real_s, down_s, minima)\n",
    "    return minima \n",
    "\n",
    "\n",
    "def extract_endpoints_od(signal, scale_factor=101, window_length=17_000):\n",
    "    minima = extract_indices(signal, scale_factor, window_length)\n",
    "    \n",
    "    endpoints = _generate_endpoints(minima, scale_factor, sampPerSym)\n",
    "    return endpoints\n",
    "\n",
    "\n",
    "## packet slicing\n",
    "\n",
    "def _slice_and_pad(signal, endpoints, length):\n",
    "    start, stop = endpoints\n",
    "    sliced = signal[start:stop] \n",
    "    \n",
    "    if len(sliced) < length:\n",
    "        sliced = np.concatenate((\n",
    "            sliced, np.zeros(length - len(sliced))\n",
    "        ))\n",
    "        \n",
    "    return sliced\n",
    "\n",
    "\n",
    "def slice_all_packets(signal, endpoints):\n",
    "    max_length = max(stop - start for start, stop in endpoints)\n",
    "    print(f'got max packet length: {max_length}')\n",
    "    \n",
    "    packets = np.vstack(\n",
    "        tuple(\n",
    "            _slice_and_pad(signal, pair, max_length)\n",
    "            for pair in endpoints\n",
    "        )\n",
    "    )\n",
    "    \n",
    "    print(f'Extracted {len(packets)} packets from signal')\n",
    "    return packets\n",
    "    "
   ]
  },
  {
   "cell_type": "markdown",
   "metadata": {},
   "source": [
    "## Define Directory"
   ]
  },
  {
   "cell_type": "code",
   "execution_count": 7,
   "metadata": {},
   "outputs": [
    {
     "name": "stdout",
     "output_type": "stream",
     "text": [
      "data/LoRa_Recording_Outdoor/lora_BW1_SF8_914_75MHz_1Msps_L24.dat\n"
     ]
    }
   ],
   "source": [
    "data_dir = pathlib.Path('data/LoRa_Recording_Outdoor')\n",
    "all_data_files = list(glob_files(data_dir))\n",
    "\n",
    "file = all_data_files[2]\n",
    "print(file)\n",
    "signal = np.fromfile(file, dtype=np.complex64)"
   ]
  },
  {
   "cell_type": "code",
   "execution_count": null,
   "metadata": {},
   "outputs": [],
   "source": []
  },
  {
   "cell_type": "markdown",
   "metadata": {},
   "source": [
    "## process outdoor"
   ]
  },
  {
   "cell_type": "code",
   "execution_count": 9,
   "metadata": {},
   "outputs": [
    {
     "name": "stdout",
     "output_type": "stream",
     "text": [
      "BW: 10400.0 | SF: 8 | Fs: 1000000 | Samples Per Symbol: 24615.0 | Packet Length: 744603.75\n",
      "decimated by a factor of 101 | size: 519729\n",
      "got max packet length: 744603\n",
      "Extracted 58 packets from signal\n"
     ]
    },
    {
     "data": {
      "image/png": "[encoded data removed]",
      "text/plain": [
       "<Figure size 720x864 with 3 Axes>"
      ]
     },
     "metadata": {},
     "output_type": "display_data"
    }
   ],
   "source": [
    "BW, SF, sampPerSym, L, pcktLen = get_and_set_encoding_params(file) \n",
    "\n",
    "endpoints = extract_endpoints_od(signal)\n",
    "\n",
    "packets = slice_all_packets(signal, endpoints)"
   ]
  },
  {
   "cell_type": "code",
   "execution_count": null,
   "metadata": {},
   "outputs": [],
   "source": []
  },
  {
   "cell_type": "markdown",
   "metadata": {},
   "source": [
    "## convolution schtuff"
   ]
  },
  {
   "cell_type": "code",
   "execution_count": null,
   "metadata": {},
   "outputs": [],
   "source": [
    "from six.moves import cPickle\n",
    "\n",
    "with data_dir.joinpath('lora_symbols_BW250000_SF11_L0.p').open('rb') as file:\n",
    "# with open('Processed_Data/Indoors/Location0/lora_symbols_BW250000_SF11_L0.p', mode='rb') as file:        \n",
    "    basline = cPickle.load(file)\n",
    "\n",
    "baseline = basline[0,:]\n",
    "plt.plot(np.real(baseline))"
   ]
  },
  {
   "cell_type": "code",
   "execution_count": null,
   "metadata": {},
   "outputs": [],
   "source": [
    "N = int(np.floor(len(signal)/len(basline)))\n",
    "\n",
    "samps = len(baseline)\n",
    "window = 100\n",
    "c_out = []\n",
    "index = []\n",
    "k = 0\n",
    "for i in range(N):\n",
    "    if k < len(signal):\n",
    "        sig = signal[k:k+samps]\n",
    "        sig_c = np.conj(sig[::-1])\n",
    "        conv_val = np.abs(np.convolve(baseline,sig_c))/np.linalg.norm(sig)/np.linalg.norm(sig)\n",
    "\n",
    "        c_out.append(np.max(conv_val))\n",
    "        index.append(k)\n",
    "        k = k + samps - window\n",
    "    else:\n",
    "        break"
   ]
  },
  {
   "cell_type": "code",
   "execution_count": null,
   "metadata": {},
   "outputs": [],
   "source": [
    "while k < len(signal):\n",
    "    pass "
   ]
  },
  {
   "cell_type": "code",
   "execution_count": null,
   "metadata": {},
   "outputs": [],
   "source": [
    "fig = plt.figure(figsize=(20,10))\n",
    "plt.plot(c_out)\n"
   ]
  },
  {
   "cell_type": "code",
   "execution_count": null,
   "metadata": {},
   "outputs": [],
   "source": [
    "start_index = []\n",
    "N = len(c_out)\n",
    "for i in range(N):\n",
    "    if c_out[i] >= 10:\n",
    "        start_index[i]=k[i]\n",
    "        \n",
    "        \n",
    "#fig = plt.figure(figsize=(20,10))\n",
    "#plt.plot(c_out[1:100])\n"
   ]
  },
  {
   "cell_type": "code",
   "execution_count": null,
   "metadata": {},
   "outputs": [],
   "source": []
  },
  {
   "cell_type": "markdown",
   "metadata": {},
   "source": [
    "## Param dict "
   ]
  },
  {
   "cell_type": "code",
   "execution_count": null,
   "metadata": {},
   "outputs": [],
   "source": [
    "N = 0.0005\n",
    "N1 = 0.0003 \n",
    "\n",
    "param_dict = {\n",
    "    # location 0 \n",
    "    'lora_BW1_SF10_915MHz_1Msps_L0.dat': N,\n",
    "    'lora_BW1_SF11_915MHz_1Msps_L0.dat': N,\n",
    "    'lora_BW1_SF12_915MHz_1Msps_L0.dat': N,\n",
    "    'lora_BW2_SF10_915MHz_1Msps_L0.dat': N,\n",
    "    'lora_BW2_SF11_915MHz_1Msps_L0.dat': N,\n",
    "    'lora_BW2_SF12_915MHz_1Msps_L0.dat': N,\n",
    "\n",
    "    \n",
    "    # location 1 \n",
    "    'lora_BW1_SF10_915MHz_1Msps_L1.dat': N,\n",
    "    'lora_BW1_SF11_915MHz_1Msps_L1.dat': N,\n",
    "    'lora_BW1_SF12_915MHz_1Msps_L1.dat': 0.0003,\n",
    "    'lora_BW2_SF10_915MHz_1Msps_L1.dat': N,\n",
    "    'lora_BW2_SF11_915MHz_1Msps_L1.dat': N,\n",
    "    'lora_BW2_SF12_915MHz_1Msps_L1.dat': N,\n",
    "\n",
    "    \n",
    "    # location 2 \n",
    "    'lora_BW1_SF10_915MHz_1Msps_L2.dat': N,\n",
    "    'lora_BW1_SF11_915MHz_1Msps_L2.dat': N,\n",
    "    'lora_BW1_SF12_915MHz_1Msps_L2.dat': N,\n",
    "    'lora_BW2_SF10_915MHz_1Msps_L2.dat': 0.0003,\n",
    "    'lora_BW2_SF11_915MHz_1Msps_L2.dat': N,\n",
    "    'lora_BW2_SF12_915MHz_1Msps_L2.dat': N,\n",
    "    'lora_BW7_SF12_915MHz_1Msps_L2.dat': N,\n",
    "    'lora_BW9_SF12_915MHz_1Msps_L2.dat': 0.00035,\n",
    "    \n",
    "    # location 3 \n",
    "    'lora_BW1_SF10_915MHz_1Msps_L3.dat': N,\n",
    "    'lora_BW1_SF11_915MHz_1Msps_L3.dat': N,\n",
    "    'lora_BW1_SF12_915MHz_1Msps_L3.dat': N,\n",
    "    'lora_BW2_SF10_915MHz_1Msps_L3.dat': N,\n",
    "    'lora_BW2_SF11_915MHz_1Msps_L3.dat': N,\n",
    "    'lora_BW2_SF12_915MHz_1Msps_L3.dat': N,\n",
    "    'lora_BW7_SF11_915MHz_1Msps_L3.dat': 0.00035,\n",
    "    \n",
    "    # location 4 \n",
    "    'lora_BW1_SF10_915MHz_1Msps_L4.dat': N,\n",
    "    'lora_BW1_SF11_915MHz_1Msps_L4.dat': N,\n",
    "    'lora_BW1_SF12_915MHz_1Msps_L4.dat': N,\n",
    "    'lora_BW2_SF10_915MHz_1Msps_L4.dat': N,\n",
    "    'lora_BW2_SF11_915MHz_1Msps_L4.dat': N,\n",
    "    'lora_BW2_SF12_915MHz_1Msps_L4.dat': N,\n",
    "    \n",
    "    # location 5 \n",
    "    'lora_BW1_SF10_915MHz_1Msps_L5.dat': N,\n",
    "    'lora_BW1_SF11_915MHz_1Msps_L5.dat': N,\n",
    "    'lora_BW1_SF12_915MHz_1Msps_L5.dat': N,\n",
    "    'lora_BW2_SF10_915MHz_1Msps_L5.dat': N,\n",
    "    'lora_BW2_SF11_915MHz_1Msps_L5.dat': N,\n",
    "    'lora_BW2_SF12_915MHz_1Msps_L5.dat': N\n",
    "}"
   ]
  },
  {
   "cell_type": "markdown",
   "metadata": {},
   "source": [
    "## Extract Packets"
   ]
  },
  {
   "cell_type": "code",
   "execution_count": null,
   "metadata": {},
   "outputs": [],
   "source": [
    "def extract_packets(filepath, norm_thresh=0.001, packet_thresh=15_000):\n",
    "    filepath = check_and_load_file(filepath)    \n",
    "    print(f'norm threshold: {norm_thresh}')\n",
    "    \n",
    "    get_and_set_encoding_params(filepath) \n",
    "    signal = load_data(filepath)\n",
    "    \n",
    "    #N = 3_000_000 \n",
    "    N = len(signal)\n",
    "    \n",
    "    real_s, norm_s = normalize_signal(signal[0:N], norm_thresh)\n",
    "    print(\"Normalization Complete\")\n",
    "  \n",
    "    endpoint_pairs = extract_endpoints(norm_s, filepath.name, packet_thresh)\n",
    "    print(\"Endpoint Pairs Extracted. Total: \" + str(np.shape(endpoint_pairs)))\n",
    "\n",
    "    all_packets = slice_all_packets(signal[0:N], endpoint_pairs)\n",
    "    print(\"Total Packets: \" + str(np.shape(all_packets)))\n",
    "    return all_packets"
   ]
  },
  {
   "cell_type": "code",
   "execution_count": null,
   "metadata": {},
   "outputs": [],
   "source": [
    "len(all_data_files)"
   ]
  },
  {
   "cell_type": "code",
   "execution_count": null,
   "metadata": {},
   "outputs": [],
   "source": [
    "all_packets = extract_packets(file, norm_thresh=param_dict.get(file.name, 0.001) , packet_thresh=17_200)"
   ]
  },
  {
   "cell_type": "code",
   "execution_count": null,
   "metadata": {},
   "outputs": [],
   "source": [
    "num2check = 9\n",
    "fig = plt.figure(figsize=(10,20))\n",
    "for i in range(num2check):\n",
    "    plt.subplot(9,3,i+1)\n",
    "    #plt.plot(np.real(all_packets[i,:]))\n",
    "    fft_1 = np.abs(np.fft.fftshift(np.abs(np.fft.fft(all_packets[0,:]))))\n",
    "    plt.plot(fft_1)"
   ]
  },
  {
   "cell_type": "markdown",
   "metadata": {},
   "source": [
    "### Extract Symbols"
   ]
  },
  {
   "cell_type": "code",
   "execution_count": null,
   "metadata": {},
   "outputs": [],
   "source": [
    "BW, SF, sampPerSym, location = get_and_set_encoding_params(file)\n",
    "BW, SF, sampPerSym = int(BW), int(SF), int(sampPerSym)\n",
    "numPackets = all_packets.shape[0]\n",
    "numSymbols = 8\n",
    "\n",
    "print(\"Total Packet:\" + str(numPackets))\n",
    "print(\"Symbols to Extract: \" + str(numSymbols))\n"
   ]
  },
  {
   "cell_type": "code",
   "execution_count": null,
   "metadata": {},
   "outputs": [],
   "source": [
    "symbols = np.empty([numPackets*numSymbols,sampPerSym], dtype='complex')\n",
    "N = symbols.shape[0]\n",
    "k,l = 0, 0\n",
    "for i in range(numPackets):\n",
    "    for j in range(numSymbols):\n",
    "        symbols[l,:] = all_packets[i,k:k+sampPerSym]\n",
    "        k = k + sampPerSym\n",
    "        l = l+1\n",
    "    k = 0"
   ]
  },
  {
   "cell_type": "code",
   "execution_count": null,
   "metadata": {},
   "outputs": [],
   "source": [
    "symbols.shape"
   ]
  },
  {
   "cell_type": "code",
   "execution_count": null,
   "metadata": {},
   "outputs": [],
   "source": [
    "num2check = 9\n",
    "fig = plt.figure(figsize=(10,20))\n",
    "for i in range(num2check):\n",
    "    plt.subplot(9,3,i+1)\n",
    "    plt.plot(np.real(symbols[i,:]))\n",
    "\n"
   ]
  },
  {
   "cell_type": "code",
   "execution_count": null,
   "metadata": {},
   "outputs": [],
   "source": [
    "fig = plt.figure(figsize=(10,20))\n",
    "for i in range(num2check):\n",
    "    plt.subplot(9,3,i+1)\n",
    "    fft_s = np.abs(np.fft.fftshift(np.abs(np.fft.fft(symbols[i,:]))))\n",
    "    plt.plot(fft_s)"
   ]
  },
  {
   "cell_type": "markdown",
   "metadata": {},
   "source": [
    "### Save data to file"
   ]
  },
  {
   "cell_type": "code",
   "execution_count": null,
   "metadata": {},
   "outputs": [],
   "source": [
    "dir_ = 'Processed_Data/Location' + str(location) + \"/\"\n",
    "filename = \"lora_symbols_BW\" + str(BW) + \"_SF\" + str(SF) + \"_L\" + str(location) + \".p\"\n",
    "print(dir_+filename)"
   ]
  },
  {
   "cell_type": "code",
   "execution_count": null,
   "metadata": {},
   "outputs": [],
   "source": [
    "cPickle.dump(symbols, open(dir_+filename,'wb'))"
   ]
  },
  {
   "cell_type": "markdown",
   "metadata": {},
   "source": [
    "### Check Saved Data"
   ]
  },
  {
   "cell_type": "code",
   "execution_count": null,
   "metadata": {},
   "outputs": [],
   "source": [
    "with open(dir_+filename, mode='rb') as file:        \n",
    "    test1 = cPickle.load(file)\n",
    "\n",
    "#with open('lora_symbols_BW250000_SF12_L2.p', mode='rb') as file:        \n",
    "#    test2 = cPickle.load(file)\n",
    "\n"
   ]
  },
  {
   "cell_type": "code",
   "execution_count": null,
   "metadata": {},
   "outputs": [],
   "source": [
    "plt.subplot(2,1,1)\n",
    "fft_1 = np.abs(np.fft.fftshift(np.abs(np.fft.fft(test1[0,:]))))\n",
    "plt.plot(fft_1)\n",
    "\n",
    "plt.subplot(2,1,2)\n",
    "fft_1 = np.abs(np.fft.fftshift(np.abs(np.fft.fft(test2[1,:]))))\n",
    "plt.plot(fft_2)"
   ]
  },
  {
   "cell_type": "code",
   "execution_count": null,
   "metadata": {},
   "outputs": [],
   "source": []
  }
 ],
 "metadata": {
  "kernelspec": {
   "display_name": "Python 3",
   "language": "python",
   "name": "python3"
  },
  "language_info": {
   "codemirror_mode": {
    "name": "ipython",
    "version": 3
   },
   "file_extension": ".py",
   "mimetype": "text/x-python",
   "name": "python",
   "nbconvert_exporter": "python",
   "pygments_lexer": "ipython3",
   "version": "3.7.6"
  }
 },
 "nbformat": 4,
 "nbformat_minor": 4
}
