{
 "cells": [
  {
   "cell_type": "markdown",
   "metadata": {},
   "source": [
    "# lorapy symbol extraction"
   ]
  },
  {
   "cell_type": "code",
   "execution_count": 1,
   "metadata": {},
   "outputs": [],
   "source": [
    "%load_ext autoreload\n",
    "%autoreload 2\n",
    "\n",
    "import pathlib\n",
    "\n",
    "import os, sys\n",
    "from loguru import logger\n",
    "logger.remove(None)\n",
    "logger.add(sys.stdout, colorize=True)\n",
    "\n",
    "import numpy as np\n",
    "from six.moves import cPickle\n",
    "from tqdm import tqdm_notebook\n",
    "\n",
    "import matplotlib.pyplot as plt \n",
    "plt.style.use('dark_background')\n",
    "%matplotlib inline"
   ]
  },
  {
   "cell_type": "code",
   "execution_count": 2,
   "metadata": {},
   "outputs": [],
   "source": [
    "import lorapy"
   ]
  },
  {
   "cell_type": "markdown",
   "metadata": {},
   "source": [
    "## setup "
   ]
  },
  {
   "cell_type": "code",
   "execution_count": 3,
   "metadata": {},
   "outputs": [],
   "source": [
    "_BASE_DATA_DIR = pathlib.Path('/Users/trevor/Work/1-projects/lora-processing/data')\n",
    "\n",
    "BENCHTOP_DATA_DIR = _BASE_DATA_DIR.joinpath('lora-benchtop-recording')\n",
    "OTA_DATA_DIR = _BASE_DATA_DIR.joinpath('LoRa_Recording_OTA')\n",
    "OUTDOOR_DATA_DIR = _BASE_DATA_DIR.joinpath('LoRa_Recording_Outdoor')\n",
    "DOTP_DATA_DIR = _BASE_DATA_DIR.joinpath('symbol-ref')\n",
    "SYMBOL_DIR = _BASE_DATA_DIR.joinpath('lora-symbols-20k')\n",
    "PREAM_WIN_DIR = _BASE_DATA_DIR.joinpath('lora-preamble-windows-20k')"
   ]
  },
  {
   "cell_type": "markdown",
   "metadata": {},
   "source": [
    "# load"
   ]
  },
  {
   "cell_type": "markdown",
   "metadata": {},
   "source": [
    "## preamble windows"
   ]
  },
  {
   "cell_type": "code",
   "execution_count": 4,
   "metadata": {
    "scrolled": true
   },
   "outputs": [
    {
     "name": "stdout",
     "output_type": "stream",
     "text": [
      "\u001b[32m2020-04-09 15:57:53.976\u001b[0m | \u001b[34m\u001b[1mDEBUG   \u001b[0m | \u001b[36mlorapy.io._base_loader\u001b[0m:\u001b[36m_validate_data_path\u001b[0m:\u001b[36m140\u001b[0m - \u001b[34m\u001b[1mset datafile directory: /Users/trevor/Work/1-projects/lora-processing/data/lora-preamble-windows-20k\u001b[0m\n",
      "\u001b[32m2020-04-09 15:57:53.982\u001b[0m | \u001b[1mINFO    \u001b[0m | \u001b[36mlorapy.io._base_loader\u001b[0m:\u001b[36m_process_data_dir\u001b[0m:\u001b[36m153\u001b[0m - \u001b[1mfound 75 data file(s)\u001b[0m\n"
     ]
    },
    {
     "data": {
      "text/plain": [
       "[DotPFile(id=0 | name='lora_BW2_SF11_915MHz_20ksps_Att60_v0.p'),\n",
       " DotPFile(id=1 | name='lora_BW8_SF12_915MHz_20ksps_Att0_v0.p'),\n",
       " DotPFile(id=2 | name='lora_BW8_SF12_915MHz_20ksps_Att20_v0.p'),\n",
       " DotPFile(id=3 | name='lora_BW1_SF11_915MHz_20ksps_Att80_v0.p'),\n",
       " DotPFile(id=4 | name='lora_BW8_SF10_915MHz_20ksps_Att80_v0.p'),\n",
       " DotPFile(id=5 | name='lora_BW7_SF12_915MHz_20ksps_Att20_v0.p'),\n",
       " DotPFile(id=6 | name='lora_BW2_SF11_915MHz_20ksps_Att40_v0.p'),\n",
       " DotPFile(id=7 | name='lora_BW2_SF12_915MHz_20ksps_Att120_v0.p'),\n",
       " DotPFile(id=8 | name='lora_BW8_SF12_915MHz_20ksps_Att100_v0.p'),\n",
       " DotPFile(id=9 | name='lora_BW8_SF12_915MHz_20ksps_Att40_v0.p'),\n",
       " DotPFile(id=10 | name='lora_BW8_SF12_915MHz_20ksps_Att60_v0.p'),\n",
       " DotPFile(id=11 | name='lora_BW2_SF12_915MHz_20ksps_Att100_v0.p'),\n",
       " DotPFile(id=12 | name='lora_BW8_SF12_915MHz_20ksps_Att120_v0.p'),\n",
       " DotPFile(id=13 | name='lora_BW2_SF11_915MHz_20ksps_Att20_v0.p'),\n",
       " DotPFile(id=14 | name='lora_BW1_SF11_915MHz_20ksps_Att120_v0.p'),\n",
       " DotPFile(id=15 | name='lora_BW2_SF10_915MHz_20ksps_Att140_v0.p'),\n",
       " DotPFile(id=16 | name='lora_BW1_SF12_915MHz_20ksps_Att40_v0.p'),\n",
       " DotPFile(id=17 | name='lora_BW1_SF10_915MHz_20ksps_Att0_v0.p'),\n",
       " DotPFile(id=18 | name='lora_BW2_SF12_915MHz_20ksps_Att80_v0.p'),\n",
       " DotPFile(id=19 | name='lora_BW2_SF10_915MHz_20ksps_Att20_v0.p'),\n",
       " DotPFile(id=20 | name='lora_BW1_SF12_915MHz_20ksps_Att60_v0.p'),\n",
       " DotPFile(id=21 | name='lora_BW1_SF11_915MHz_20ksps_Att100_v0.p'),\n",
       " DotPFile(id=22 | name='lora_BW8_SF10_915MHz_20ksps_Att100_v0.p'),\n",
       " DotPFile(id=23 | name='lora_BW2_SF10_915MHz_20ksps_Att120_v0.p'),\n",
       " DotPFile(id=24 | name='lora_BW1_SF11_915MHz_20ksps_Att140_v0.p'),\n",
       " DotPFile(id=25 | name='lora_BW8_SF11_915MHz_20ksps_Att80_v0.p'),\n",
       " DotPFile(id=26 | name='lora_BW1_SF10_915MHz_20ksps_Att80_v0.p'),\n",
       " DotPFile(id=27 | name='lora_BW1_SF12_915MHz_20ksps_Att20_v0.p'),\n",
       " DotPFile(id=28 | name='lora_BW2_SF10_915MHz_20ksps_Att60_v0.p'),\n",
       " DotPFile(id=29 | name='lora_BW8_SF11_915MHz_20ksps_Att0_v0.p'),\n",
       " DotPFile(id=30 | name='lora_BW2_SF10_915MHz_20ksps_Att40_v0.p'),\n",
       " DotPFile(id=31 | name='lora_BW8_SF10_915MHz_20ksps_Att120_v0.p'),\n",
       " DotPFile(id=32 | name='lora_BW2_SF10_915MHz_20ksps_Att100_v0.p'),\n",
       " DotPFile(id=33 | name='lora_BW2_SF10_915MHz_20ksps_Att0_v0.p'),\n",
       " DotPFile(id=34 | name='lora_BW8_SF11_915MHz_20ksps_Att120_v0.p'),\n",
       " DotPFile(id=35 | name='lora_BW2_SF11_915MHz_20ksps_Att100_v0.p'),\n",
       " DotPFile(id=36 | name='lora_BW7_SF11_915MHz_20ksps_Att40_v0.p'),\n",
       " DotPFile(id=37 | name='lora_BW1_SF12_915MHz_20ksps_Att0_v0.p'),\n",
       " DotPFile(id=38 | name='lora_BW8_SF11_915MHz_20ksps_Att60_v0.p'),\n",
       " DotPFile(id=39 | name='lora_BW2_SF12_915MHz_20ksps_Att20_v0.p'),\n",
       " DotPFile(id=40 | name='lora_BW1_SF10_915MHz_20ksps_Att60_v0.p'),\n",
       " DotPFile(id=41 | name='lora_BW2_SF10_915MHz_20ksps_Att80_v0.p'),\n",
       " DotPFile(id=42 | name='lora_BW8_SF11_915MHz_20ksps_Att40_v0.p'),\n",
       " DotPFile(id=43 | name='lora_BW1_SF10_915MHz_20ksps_Att40_v0.p'),\n",
       " DotPFile(id=44 | name='lora_BW7_SF11_915MHz_20ksps_Att60_v0.p'),\n",
       " DotPFile(id=45 | name='lora_BW8_SF11_915MHz_20ksps_Att100_v0.p'),\n",
       " DotPFile(id=46 | name='lora_BW2_SF11_915MHz_20ksps_Att120_v0.p'),\n",
       " DotPFile(id=47 | name='lora_BW7_SF11_915MHz_20ksps_Att0_v0.p'),\n",
       " DotPFile(id=48 | name='lora_BW1_SF10_915MHz_20ksps_Att140_v0.p'),\n",
       " DotPFile(id=49 | name='lora_BW1_SF10_915MHz_20ksps_Att100_v0.p'),\n",
       " DotPFile(id=50 | name='lora_BW2_SF12_915MHz_20ksps_Att40_v0.p'),\n",
       " DotPFile(id=51 | name='lora_BW1_SF10_915MHz_20ksps_Att20_v0.p'),\n",
       " DotPFile(id=52 | name='lora_BW2_SF12_915MHz_20ksps_Att60_v0.p'),\n",
       " DotPFile(id=53 | name='lora_BW8_SF11_915MHz_20ksps_Att20_v0.p'),\n",
       " DotPFile(id=54 | name='lora_BW1_SF12_915MHz_20ksps_Att80_v0.p'),\n",
       " DotPFile(id=55 | name='lora_BW2_SF12_915MHz_20ksps_Att0_v0.p'),\n",
       " DotPFile(id=56 | name='lora_BW1_SF10_915MHz_20ksps_Att120_v0.p'),\n",
       " DotPFile(id=57 | name='lora_BW2_SF11_915MHz_20ksps_Att140_v0.p'),\n",
       " DotPFile(id=58 | name='lora_BW2_SF11_915MHz_20ksps_Att0_v0.p'),\n",
       " DotPFile(id=59 | name='lora_BW8_SF10_915MHz_20ksps_Att0_v0.p'),\n",
       " DotPFile(id=60 | name='lora_BW7_SF12_915MHz_20ksps_Att80_v0.p'),\n",
       " DotPFile(id=61 | name='lora_BW8_SF12_915MHz_20ksps_Att80_v0.p'),\n",
       " DotPFile(id=62 | name='lora_BW1_SF12_915MHz_20ksps_Att140_v0.p'),\n",
       " DotPFile(id=63 | name='lora_BW1_SF11_915MHz_20ksps_Att20_v0.p'),\n",
       " DotPFile(id=64 | name='lora_BW2_SF11_915MHz_20ksps_Att80_v0.p'),\n",
       " DotPFile(id=65 | name='lora_BW1_SF11_915MHz_20ksps_Att60_v0.p'),\n",
       " DotPFile(id=66 | name='lora_BW8_SF10_915MHz_20ksps_Att60_v0.p'),\n",
       " DotPFile(id=67 | name='lora_BW1_SF12_915MHz_20ksps_Att100_v0.p'),\n",
       " DotPFile(id=68 | name='lora_BW7_SF12_915MHz_20ksps_Att100_v0.p'),\n",
       " DotPFile(id=69 | name='lora_BW7_SF10_915MHz_20ksps_Att40_v0.p'),\n",
       " DotPFile(id=70 | name='lora_BW7_SF12_915MHz_20ksps_Att120_v0.p'),\n",
       " DotPFile(id=71 | name='lora_BW1_SF11_915MHz_20ksps_Att0_v0.p'),\n",
       " DotPFile(id=72 | name='lora_BW7_SF10_915MHz_20ksps_Att60_v0.p'),\n",
       " DotPFile(id=73 | name='lora_BW8_SF10_915MHz_20ksps_Att40_v0.p'),\n",
       " DotPFile(id=74 | name='lora_BW1_SF12_915MHz_20ksps_Att120_v0.p')]"
      ]
     },
     "execution_count": 4,
     "metadata": {},
     "output_type": "execute_result"
    }
   ],
   "source": [
    "loader = lorapy.load_dotp(PREAM_WIN_DIR, autoload=True)\n",
    "loader.file_list"
   ]
  },
  {
   "cell_type": "markdown",
   "metadata": {},
   "source": [
    "## dotp files"
   ]
  },
  {
   "cell_type": "code",
   "execution_count": 5,
   "metadata": {
    "scrolled": true
   },
   "outputs": [
    {
     "name": "stdout",
     "output_type": "stream",
     "text": [
      "\u001b[32m2020-04-09 15:57:54.025\u001b[0m | \u001b[34m\u001b[1mDEBUG   \u001b[0m | \u001b[36mlorapy.io._base_loader\u001b[0m:\u001b[36m_validate_data_path\u001b[0m:\u001b[36m140\u001b[0m - \u001b[34m\u001b[1mset datafile directory: /Users/trevor/Work/1-projects/lora-processing/data/symbol-ref\u001b[0m\n",
      "\u001b[32m2020-04-09 15:57:54.028\u001b[0m | \u001b[1mINFO    \u001b[0m | \u001b[36mlorapy.io._base_loader\u001b[0m:\u001b[36m_process_data_dir\u001b[0m:\u001b[36m153\u001b[0m - \u001b[1mfound 15 data file(s)\u001b[0m\n"
     ]
    },
    {
     "data": {
      "text/plain": [
       "[DotPFile(id=0 | name='lora_BW8_SF12_915MHz_20ksps_Att0_v0.p'),\n",
       " DotPFile(id=1 | name='lora_BW9_SF10_915MHz_20ksps_Att0_v0.p'),\n",
       " DotPFile(id=2 | name='lora_BW7_SF10_915MHz_20ksps_Att0_v0.p'),\n",
       " DotPFile(id=3 | name='lora_BW1_SF10_915MHz_20ksps_Att0_v0.p'),\n",
       " DotPFile(id=4 | name='lora_BW8_SF11_915MHz_20ksps_Att0_v0.p'),\n",
       " DotPFile(id=5 | name='lora_BW2_SF10_915MHz_20ksps_Att0_v0.p'),\n",
       " DotPFile(id=6 | name='lora_BW1_SF12_915MHz_20ksps_Att0_v0.p'),\n",
       " DotPFile(id=7 | name='lora_BW9_SF11_915MHz_20ksps_Att0_v0.p'),\n",
       " DotPFile(id=8 | name='lora_BW7_SF11_915MHz_20ksps_Att0_v0.p'),\n",
       " DotPFile(id=9 | name='lora_BW2_SF12_915MHz_20ksps_Att0_v0.p'),\n",
       " DotPFile(id=10 | name='lora_BW2_SF11_915MHz_20ksps_Att0_v0.p'),\n",
       " DotPFile(id=11 | name='lora_BW8_SF10_915MHz_20ksps_Att0_v0.p'),\n",
       " DotPFile(id=12 | name='lora_BW7_SF12_915MHz_20ksps_Att0_v0.p'),\n",
       " DotPFile(id=13 | name='lora_BW9_SF12_915MHz_20ksps_Att0_v0.p'),\n",
       " DotPFile(id=14 | name='lora_BW1_SF11_915MHz_20ksps_Att0_v0.p')]"
      ]
     },
     "execution_count": 5,
     "metadata": {},
     "output_type": "execute_result"
    }
   ],
   "source": [
    "ploader = lorapy.load_dotp(DOTP_DATA_DIR)\n",
    "ploader.file_list"
   ]
  },
  {
   "cell_type": "code",
   "execution_count": null,
   "metadata": {},
   "outputs": [],
   "source": []
  },
  {
   "cell_type": "markdown",
   "metadata": {},
   "source": [
    "# process "
   ]
  },
  {
   "cell_type": "code",
   "execution_count": 17,
   "metadata": {},
   "outputs": [],
   "source": [
    "import scipy as sp\n",
    "import scipy.signal as spsig\n",
    "\n",
    "from lorapy.symbols import utils as sym_utils"
   ]
  },
  {
   "cell_type": "markdown",
   "metadata": {},
   "source": [
    "## symbol correlation settings"
   ]
  },
  {
   "cell_type": "code",
   "execution_count": 7,
   "metadata": {},
   "outputs": [],
   "source": [
    "_step_dict = {\n",
    "    1: 100,\n",
    "    2: 100,\n",
    "    7: 4,\n",
    "    8: 2,\n",
    "    9: 2,\n",
    "}"
   ]
  },
  {
   "cell_type": "markdown",
   "metadata": {},
   "source": [
    "## functions"
   ]
  },
  {
   "cell_type": "code",
   "execution_count": 8,
   "metadata": {
    "jupyter": {
     "source_hidden": true
    }
   },
   "outputs": [],
   "source": [
    "def _load_matching_dotp(bw: int, sf: int):\n",
    "    return ploader.filter(bw=bw, sf=sf)[0]\n",
    "\n",
    "def _convert_files(file, dotp_file):\n",
    "    return file.to_signal(), dotp_file.to_signal()\n",
    "\n",
    "def _extract_and_manual_adjust(baseline_symbol, step_dict):\n",
    "    signal.extract_packets(method='slide-mean', auto_adj=False, overlap=0.7)\n",
    "    signal.adjust_packets(\n",
    "        force_check=True, baseline_symbol=base_symbol, \n",
    "        range_factor=10, step=step_dict[signal.stats.bw], scalar=0.6\n",
    "    )\n",
    "    \n",
    "    return signal.packets\n",
    "\n",
    "\n",
    "def _format_output_path(packet):\n",
    "    _base_path = pathlib.Path('data/lora-preamble-windows-20k')\n",
    "    filename = pathlib.Path(packet.stats.filename)\n",
    "    out_path = _base_path.joinpath(filename.with_suffix('').with_suffix('.p'))\n",
    "    \n",
    "    return out_path\n",
    "\n",
    "def _save_symbols(data, packet):\n",
    "    out_path = _format_output_path(packet)\n",
    "    \n",
    "    with out_path.open('wb') as outfile:\n",
    "        cPickle.dump(data, outfile)\n",
    "\n",
    "        \n",
    "def _extract_symbols(packet):\n",
    "    packet.extract_preamble_window()\n",
    "    return packet._preamble_window\n",
    "\n",
    "def _extract_and_save_symbols(packets):\n",
    "    full_array = np.vstack([\n",
    "        _extract_symbols(packet)\n",
    "        for packet in packets\n",
    "    ])\n",
    "    \n",
    "    packet = packets[0]\n",
    "    _save_symbols(full_array, packet)\n",
    "        "
   ]
  },
  {
   "cell_type": "markdown",
   "metadata": {},
   "source": [
    "## setup"
   ]
  },
  {
   "cell_type": "code",
   "execution_count": 9,
   "metadata": {
    "scrolled": true
   },
   "outputs": [
    {
     "data": {
      "text/plain": [
       "[DotPFile(id=60 | name='lora_BW7_SF12_915MHz_20ksps_Att80_v0.p')]"
      ]
     },
     "execution_count": 9,
     "metadata": {},
     "output_type": "execute_result"
    }
   ],
   "source": [
    "loader.filter(bw=7, att=80)"
   ]
  },
  {
   "cell_type": "code",
   "execution_count": 12,
   "metadata": {},
   "outputs": [
    {
     "name": "stdout",
     "output_type": "stream",
     "text": [
      "\u001b[32m2020-04-09 15:58:07.249\u001b[0m | \u001b[34m\u001b[1mDEBUG   \u001b[0m | \u001b[36mlorapy.datafile.encoding\u001b[0m:\u001b[36mcompute_params\u001b[0m:\u001b[36m15\u001b[0m - \u001b[34m\u001b[1mcomputed samples per symbol: 6386 and packet length: 193176\u001b[0m\n",
      "\u001b[32m2020-04-09 15:58:07.363\u001b[0m | \u001b[1mINFO    \u001b[0m | \u001b[36mlorapy.datafile._base_file\u001b[0m:\u001b[36mload\u001b[0m:\u001b[36m61\u001b[0m - \u001b[1mloaded 7586568 samples from file\u001b[0m\n"
     ]
    },
    {
     "data": {
      "text/plain": [
       "DotPFile(id=60 | name='lora_BW7_SF12_915MHz_20ksps_Att80_v0.p')"
      ]
     },
     "execution_count": 12,
     "metadata": {},
     "output_type": "execute_result"
    }
   ],
   "source": [
    "file = loader.select(60).load()\n",
    "file"
   ]
  },
  {
   "cell_type": "code",
   "execution_count": 14,
   "metadata": {},
   "outputs": [
    {
     "data": {
      "text/plain": [
       "DotPFile(id=12 | name='lora_BW7_SF12_915MHz_20ksps_Att0_v0.p')"
      ]
     },
     "execution_count": 14,
     "metadata": {},
     "output_type": "execute_result"
    }
   ],
   "source": [
    "dotp_file = _load_matching_dotp(file.bw, file.sf)\n",
    "dotp_file"
   ]
  },
  {
   "cell_type": "code",
   "execution_count": 15,
   "metadata": {},
   "outputs": [
    {
     "name": "stdout",
     "output_type": "stream",
     "text": [
      "\u001b[32m2020-04-09 16:01:26.232\u001b[0m | \u001b[34m\u001b[1mDEBUG   \u001b[0m | \u001b[36mlorapy.datafile.encoding\u001b[0m:\u001b[36mcompute_params\u001b[0m:\u001b[36m15\u001b[0m - \u001b[34m\u001b[1mcomputed samples per symbol: 6386 and packet length: 193176\u001b[0m\n",
      "\u001b[32m2020-04-09 16:01:26.234\u001b[0m | \u001b[1mINFO    \u001b[0m | \u001b[36mlorapy.datafile._base_file\u001b[0m:\u001b[36mload\u001b[0m:\u001b[36m61\u001b[0m - \u001b[1mloaded 6386 samples from file\u001b[0m\n"
     ]
    },
    {
     "data": {
      "text/plain": [
       "(BaselineSymbolSet(num symbols=99 | BW: 7 | SF: 12 | Att: 80 | samples per symbol: 6386 | packet length: 193176),\n",
       " BaselineSymbolSet(num symbols=6386 | BW: 7 | SF: 12 | Att: 0 | samples per symbol: 6386 | packet length: 193176))"
      ]
     },
     "execution_count": 15,
     "metadata": {},
     "output_type": "execute_result"
    }
   ],
   "source": [
    "preamble, base_symbol = _convert_files(file, dotp_file)\n",
    "preamble, base_symbol"
   ]
  },
  {
   "cell_type": "code",
   "execution_count": 16,
   "metadata": {},
   "outputs": [
    {
     "data": {
      "text/plain": [
       "((99, 76632), (6386,))"
      ]
     },
     "execution_count": 16,
     "metadata": {},
     "output_type": "execute_result"
    }
   ],
   "source": [
    "preamble.data.shape, base_symbol.data.shape"
   ]
  },
  {
   "cell_type": "markdown",
   "metadata": {},
   "source": [
    "## convolve"
   ]
  },
  {
   "cell_type": "code",
   "execution_count": 21,
   "metadata": {},
   "outputs": [],
   "source": [
    "samp_per_sym = preamble.stats.samp_per_sym"
   ]
  },
  {
   "cell_type": "code",
   "execution_count": 22,
   "metadata": {},
   "outputs": [],
   "source": [
    "shifts = sym_utils.generate_shifts(\n",
    "    samp_per_sym, range_factor=10, step=_step_dict[preamble.stats.bw]\n",
    ")"
   ]
  },
  {
   "cell_type": "code",
   "execution_count": null,
   "metadata": {},
   "outputs": [],
   "source": [
    "sym_utils.shift_and_correlate(\n",
    "    preamble.data, self.packet_data, samp_per_sym, shifts,\n",
    ")"
   ]
  },
  {
   "cell_type": "code",
   "execution_count": null,
   "metadata": {},
   "outputs": [],
   "source": []
  },
  {
   "cell_type": "code",
   "execution_count": null,
   "metadata": {},
   "outputs": [],
   "source": []
  },
  {
   "cell_type": "code",
   "execution_count": null,
   "metadata": {},
   "outputs": [],
   "source": []
  },
  {
   "cell_type": "markdown",
   "metadata": {},
   "source": [
    "## find peaks "
   ]
  },
  {
   "cell_type": "code",
   "execution_count": null,
   "metadata": {},
   "outputs": [],
   "source": [
    "spsig.find_peaks()"
   ]
  },
  {
   "cell_type": "code",
   "execution_count": null,
   "metadata": {},
   "outputs": [],
   "source": []
  },
  {
   "cell_type": "code",
   "execution_count": null,
   "metadata": {},
   "outputs": [],
   "source": []
  },
  {
   "cell_type": "code",
   "execution_count": null,
   "metadata": {},
   "outputs": [],
   "source": []
  },
  {
   "cell_type": "code",
   "execution_count": null,
   "metadata": {},
   "outputs": [],
   "source": []
  },
  {
   "cell_type": "code",
   "execution_count": null,
   "metadata": {},
   "outputs": [],
   "source": []
  },
  {
   "cell_type": "code",
   "execution_count": null,
   "metadata": {},
   "outputs": [],
   "source": []
  }
 ],
 "metadata": {
  "kernelspec": {
   "display_name": "Python 3",
   "language": "python",
   "name": "python3"
  },
  "language_info": {
   "codemirror_mode": {
    "name": "ipython",
    "version": 3
   },
   "file_extension": ".py",
   "mimetype": "text/x-python",
   "name": "python",
   "nbconvert_exporter": "python",
   "pygments_lexer": "ipython3",
   "version": "3.7.6"
  }
 },
 "nbformat": 4,
 "nbformat_minor": 4
}
