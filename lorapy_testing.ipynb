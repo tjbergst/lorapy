{
 "cells": [
  {
   "cell_type": "markdown",
   "metadata": {},
   "source": [
    "# lorapy testing notebook "
   ]
  },
  {
   "cell_type": "code",
   "execution_count": 11,
   "metadata": {},
   "outputs": [
    {
     "name": "stdout",
     "output_type": "stream",
     "text": [
      "The autoreload extension is already loaded. To reload it, use:\n",
      "  %reload_ext autoreload\n"
     ]
    },
    {
     "data": {
      "text/plain": [
       "1"
      ]
     },
     "execution_count": 11,
     "metadata": {},
     "output_type": "execute_result"
    }
   ],
   "source": [
    "%load_ext autoreload\n",
    "%autoreload 2\n",
    "\n",
    "import pathlib\n",
    "\n",
    "import os, sys\n",
    "from loguru import logger\n",
    "logger.remove(None)\n",
    "logger.add(sys.stdout, colorize=True)"
   ]
  },
  {
   "cell_type": "markdown",
   "metadata": {},
   "source": [
    "## setup "
   ]
  },
  {
   "cell_type": "code",
   "execution_count": 12,
   "metadata": {},
   "outputs": [],
   "source": [
    "DEADEND_DATA_DIR = '/Users/trevor/Work/1-projects/lora-processing/data/dead-end'\n",
    "\n",
    "DATA_DIR = '/Users/trevor/Work/1-projects/lora-processing/data/LoRa_Recording_Outdoor'\n",
    "DATA_DIR_PLIB = pathlib.Path('/Users/trevor/Work/1-projects/lora-processing/data/LoRa_Recording_Outdoor')\n",
    "\n",
    "DATA_FILE = '/Users/trevor/Work/1-projects/lora-processing/data/LoRa_Recording_Outdoor/lora_BW8_SF12_915MHz_1Msps_Att80_v0.dat'\n",
    "DATA_FILE_PLIB = pathlib.Path('/Users/trevor/Work/1-projects/lora-processing/data/LoRa_Recording_Outdoor/lora_BW8_SF12_915MHz_1Msps_Att80_v0.dat')"
   ]
  },
  {
   "cell_type": "markdown",
   "metadata": {},
   "source": [
    "# data file loading "
   ]
  },
  {
   "cell_type": "code",
   "execution_count": 13,
   "metadata": {},
   "outputs": [],
   "source": [
    "from lorapy.io.load import DatLoader"
   ]
  },
  {
   "cell_type": "markdown",
   "metadata": {},
   "source": [
    "## input path tests"
   ]
  },
  {
   "cell_type": "markdown",
   "metadata": {},
   "source": [
    "### dead end dir"
   ]
  },
  {
   "cell_type": "code",
   "execution_count": 14,
   "metadata": {
    "scrolled": true
   },
   "outputs": [
    {
     "name": "stdout",
     "output_type": "stream",
     "text": [
      "\u001b[32m2020-03-28 11:44:17.601\u001b[0m | \u001b[34m\u001b[1mDEBUG   \u001b[0m | \u001b[36mlorapy.io.load\u001b[0m:\u001b[36m_process_data_dir\u001b[0m:\u001b[36m68\u001b[0m - \u001b[34m\u001b[1mset datafile directory: /Users/trevor/Work/1-projects/lora-processing/data/dead-end\u001b[0m\n"
     ]
    },
    {
     "ename": "FileNotFoundError",
     "evalue": "no datafile files [**/*.dat] found in directory /Users/trevor/Work/1-projects/lora-processing/data/dead-end",
     "output_type": "error",
     "traceback": [
      "\u001b[0;31m---------------------------------------------------------------------------\u001b[0m",
      "\u001b[0;31mFileNotFoundError\u001b[0m                         Traceback (most recent call last)",
      "\u001b[0;32m<ipython-input-14-abd2485b46f3>\u001b[0m in \u001b[0;36m<module>\u001b[0;34m\u001b[0m\n\u001b[0;32m----> 1\u001b[0;31m \u001b[0mloader\u001b[0m \u001b[0;34m=\u001b[0m \u001b[0mDatLoader\u001b[0m\u001b[0;34m(\u001b[0m\u001b[0mDEADEND_DATA_DIR\u001b[0m\u001b[0;34m,\u001b[0m \u001b[0mautoload\u001b[0m\u001b[0;34m=\u001b[0m\u001b[0;32mTrue\u001b[0m\u001b[0;34m)\u001b[0m\u001b[0;34m\u001b[0m\u001b[0;34m\u001b[0m\u001b[0m\n\u001b[0m",
      "\u001b[0;32m~/Work/1-projects/lora-processing/lorapy/io/load.py\u001b[0m in \u001b[0;36m__init__\u001b[0;34m(self, data_path, autoload)\u001b[0m\n\u001b[1;32m     22\u001b[0m \u001b[0;34m\u001b[0m\u001b[0m\n\u001b[1;32m     23\u001b[0m         \u001b[0mself\u001b[0m\u001b[0;34m.\u001b[0m\u001b[0mdata_file\u001b[0m\u001b[0;34m:\u001b[0m \u001b[0mpathlib\u001b[0m\u001b[0;34m.\u001b[0m\u001b[0mPath\u001b[0m\u001b[0;34m(\u001b[0m\u001b[0;34m)\u001b[0m \u001b[0;34m=\u001b[0m \u001b[0;32mNone\u001b[0m\u001b[0;34m\u001b[0m\u001b[0;34m\u001b[0m\u001b[0m\n\u001b[0;32m---> 24\u001b[0;31m         \u001b[0mself\u001b[0m\u001b[0;34m.\u001b[0m\u001b[0mdata_dir\u001b[0m\u001b[0;34m:\u001b[0m \u001b[0mpathlib\u001b[0m\u001b[0;34m.\u001b[0m\u001b[0mPath\u001b[0m\u001b[0;34m(\u001b[0m\u001b[0;34m)\u001b[0m \u001b[0;34m=\u001b[0m \u001b[0mself\u001b[0m\u001b[0;34m.\u001b[0m\u001b[0m_validate_data_path\u001b[0m\u001b[0;34m(\u001b[0m\u001b[0mdata_path\u001b[0m\u001b[0;34m)\u001b[0m\u001b[0;34m\u001b[0m\u001b[0;34m\u001b[0m\u001b[0m\n\u001b[0m\u001b[1;32m     25\u001b[0m \u001b[0;34m\u001b[0m\u001b[0m\n\u001b[1;32m     26\u001b[0m \u001b[0;34m\u001b[0m\u001b[0m\n",
      "\u001b[0;32m~/Work/1-projects/lora-processing/lorapy/io/load.py\u001b[0m in \u001b[0;36m_validate_data_path\u001b[0;34m(self, path)\u001b[0m\n\u001b[1;32m     62\u001b[0m             \u001b[0;32mreturn\u001b[0m \u001b[0mpath\u001b[0m\u001b[0;34m.\u001b[0m\u001b[0mparent\u001b[0m\u001b[0;34m\u001b[0m\u001b[0;34m\u001b[0m\u001b[0m\n\u001b[1;32m     63\u001b[0m \u001b[0;34m\u001b[0m\u001b[0m\n\u001b[0;32m---> 64\u001b[0;31m         \u001b[0;32mreturn\u001b[0m \u001b[0mself\u001b[0m\u001b[0;34m.\u001b[0m\u001b[0m_process_data_dir\u001b[0m\u001b[0;34m(\u001b[0m\u001b[0mpath\u001b[0m\u001b[0;34m)\u001b[0m\u001b[0;34m\u001b[0m\u001b[0;34m\u001b[0m\u001b[0m\n\u001b[0m\u001b[1;32m     65\u001b[0m \u001b[0;34m\u001b[0m\u001b[0m\n\u001b[1;32m     66\u001b[0m \u001b[0;34m\u001b[0m\u001b[0m\n",
      "\u001b[0;32m~/Work/1-projects/lora-processing/lorapy/io/load.py\u001b[0m in \u001b[0;36m_process_data_dir\u001b[0;34m(self, data_dir)\u001b[0m\n\u001b[1;32m     70\u001b[0m \u001b[0;34m\u001b[0m\u001b[0m\n\u001b[1;32m     71\u001b[0m         \u001b[0;32mif\u001b[0m \u001b[0mlen\u001b[0m\u001b[0;34m(\u001b[0m\u001b[0mfile_list\u001b[0m\u001b[0;34m)\u001b[0m \u001b[0;34m==\u001b[0m \u001b[0;36m0\u001b[0m\u001b[0;34m:\u001b[0m\u001b[0;34m\u001b[0m\u001b[0;34m\u001b[0m\u001b[0m\n\u001b[0;32m---> 72\u001b[0;31m             \u001b[0;32mraise\u001b[0m \u001b[0mFileNotFoundError\u001b[0m\u001b[0;34m(\u001b[0m\u001b[0;34mf'no datafile files [{self._glob_pattern}] found in directory {data_dir}'\u001b[0m\u001b[0;34m)\u001b[0m\u001b[0;34m\u001b[0m\u001b[0;34m\u001b[0m\u001b[0m\n\u001b[0m\u001b[1;32m     73\u001b[0m \u001b[0;34m\u001b[0m\u001b[0m\n\u001b[1;32m     74\u001b[0m         \u001b[0mlogger\u001b[0m\u001b[0;34m.\u001b[0m\u001b[0minfo\u001b[0m\u001b[0;34m(\u001b[0m\u001b[0;34mf'found {len(file_list)} datafile file(s)'\u001b[0m\u001b[0;34m)\u001b[0m\u001b[0;34m\u001b[0m\u001b[0;34m\u001b[0m\u001b[0m\n",
      "\u001b[0;31mFileNotFoundError\u001b[0m: no datafile files [**/*.dat] found in directory /Users/trevor/Work/1-projects/lora-processing/data/dead-end"
     ]
    }
   ],
   "source": [
    "loader = DatLoader(DEADEND_DATA_DIR, autoload=True)"
   ]
  },
  {
   "cell_type": "markdown",
   "metadata": {},
   "source": [
    "### data directory "
   ]
  },
  {
   "cell_type": "code",
   "execution_count": 21,
   "metadata": {},
   "outputs": [
    {
     "name": "stdout",
     "output_type": "stream",
     "text": [
      "\u001b[32m2020-03-28 11:48:49.151\u001b[0m | \u001b[34m\u001b[1mDEBUG   \u001b[0m | \u001b[36mlorapy.io.load\u001b[0m:\u001b[36m_process_data_dir\u001b[0m:\u001b[36m68\u001b[0m - \u001b[34m\u001b[1mset datafile directory: /Users/trevor/Work/1-projects/lora-processing/data/LoRa_Recording_Outdoor\u001b[0m\n",
      "\u001b[32m2020-03-28 11:48:49.153\u001b[0m | \u001b[1mINFO    \u001b[0m | \u001b[36mlorapy.io.load\u001b[0m:\u001b[36m_process_data_dir\u001b[0m:\u001b[36m74\u001b[0m - \u001b[1mfound 20 datafile file(s)\u001b[0m\n"
     ]
    }
   ],
   "source": [
    "loader = DatLoader(DATA_DIR, autoload=True)"
   ]
  },
  {
   "cell_type": "code",
   "execution_count": 27,
   "metadata": {
    "scrolled": true
   },
   "outputs": [
    {
     "data": {
      "text/plain": [
       "(<lorapy.datafile.file.DatFile at 0x11f9fd990>,\n",
       " [<lorapy.datafile.file.DatFile at 0x12030b550>,\n",
       "  <lorapy.datafile.file.DatFile at 0x12030b590>,\n",
       "  <lorapy.datafile.file.DatFile at 0x12030b5d0>,\n",
       "  <lorapy.datafile.file.DatFile at 0x12030b610>,\n",
       "  <lorapy.datafile.file.DatFile at 0x12030b650>,\n",
       "  <lorapy.datafile.file.DatFile at 0x12030b690>,\n",
       "  <lorapy.datafile.file.DatFile at 0x12030b6d0>,\n",
       "  <lorapy.datafile.file.DatFile at 0x12030b710>,\n",
       "  <lorapy.datafile.file.DatFile at 0x12030b210>,\n",
       "  <lorapy.datafile.file.DatFile at 0x12030b250>,\n",
       "  <lorapy.datafile.file.DatFile at 0x12030bd90>,\n",
       "  <lorapy.datafile.file.DatFile at 0x12030be90>,\n",
       "  <lorapy.datafile.file.DatFile at 0x12030be50>,\n",
       "  <lorapy.datafile.file.DatFile at 0x12030bb90>,\n",
       "  <lorapy.datafile.file.DatFile at 0x12030bc90>,\n",
       "  <lorapy.datafile.file.DatFile at 0x12030bb10>,\n",
       "  <lorapy.datafile.file.DatFile at 0x12030b750>,\n",
       "  <lorapy.datafile.file.DatFile at 0x12030b190>,\n",
       "  <lorapy.datafile.file.DatFile at 0x11f964c50>,\n",
       "  <lorapy.datafile.file.DatFile at 0x11f964d10>])"
      ]
     },
     "execution_count": 27,
     "metadata": {},
     "output_type": "execute_result"
    }
   ],
   "source": [
    "loader.data_file, loader.filelist"
   ]
  },
  {
   "cell_type": "code",
   "execution_count": 32,
   "metadata": {},
   "outputs": [
    {
     "name": "stdout",
     "output_type": "stream",
     "text": [
      "\u001b[32m2020-03-28 12:09:36.541\u001b[0m | \u001b[34m\u001b[1mDEBUG   \u001b[0m | \u001b[36mlorapy.io.load\u001b[0m:\u001b[36m_process_data_dir\u001b[0m:\u001b[36m68\u001b[0m - \u001b[34m\u001b[1mset datafile directory: /Users/trevor/Work/1-projects/lora-processing/data/LoRa_Recording_Outdoor\u001b[0m\n",
      "\u001b[32m2020-03-28 12:09:36.542\u001b[0m | \u001b[1mINFO    \u001b[0m | \u001b[36mlorapy.io.load\u001b[0m:\u001b[36m_process_data_dir\u001b[0m:\u001b[36m74\u001b[0m - \u001b[1mfound 20 datafile file(s)\u001b[0m\n"
     ]
    }
   ],
   "source": [
    "loader = DatLoader(DATA_DIR_PLIB, autoload=False)"
   ]
  },
  {
   "cell_type": "markdown",
   "metadata": {},
   "source": [
    "### data file"
   ]
  },
  {
   "cell_type": "markdown",
   "metadata": {},
   "source": [
    "#### `str` and `pathlib` "
   ]
  },
  {
   "cell_type": "code",
   "execution_count": 28,
   "metadata": {},
   "outputs": [
    {
     "name": "stdout",
     "output_type": "stream",
     "text": [
      "\u001b[32m2020-03-28 11:50:33.887\u001b[0m | \u001b[1mINFO    \u001b[0m | \u001b[36mlorapy.io.load\u001b[0m:\u001b[36m_validate_data_path\u001b[0m:\u001b[36m58\u001b[0m - \u001b[1mvalidated datafile file at /Users/trevor/Work/1-projects/lora-processing/data/LoRa_Recording_Outdoor/lora_BW8_SF12_915MHz_1Msps_Att80_v0.dat\u001b[0m\n",
      "\u001b[32m2020-03-28 11:50:33.887\u001b[0m | \u001b[34m\u001b[1mDEBUG   \u001b[0m | \u001b[36mlorapy.io.load\u001b[0m:\u001b[36m_validate_data_path\u001b[0m:\u001b[36m61\u001b[0m - \u001b[34m\u001b[1mset datafile directory: /Users/trevor/Work/1-projects/lora-processing/data/LoRa_Recording_Outdoor\u001b[0m\n"
     ]
    }
   ],
   "source": [
    "loader = DatLoader(DATA_FILE, autoload=True)"
   ]
  },
  {
   "cell_type": "code",
   "execution_count": 29,
   "metadata": {},
   "outputs": [
    {
     "data": {
      "text/plain": [
       "<lorapy.datafile.file.DatFile at 0x11fa6bc90>"
      ]
     },
     "execution_count": 29,
     "metadata": {},
     "output_type": "execute_result"
    }
   ],
   "source": [
    "loader.data_file"
   ]
  },
  {
   "cell_type": "code",
   "execution_count": 31,
   "metadata": {},
   "outputs": [
    {
     "name": "stdout",
     "output_type": "stream",
     "text": [
      "\u001b[32m2020-03-28 12:09:31.746\u001b[0m | \u001b[1mINFO    \u001b[0m | \u001b[36mlorapy.io.load\u001b[0m:\u001b[36m_validate_data_path\u001b[0m:\u001b[36m58\u001b[0m - \u001b[1mvalidated datafile file at /Users/trevor/Work/1-projects/lora-processing/data/LoRa_Recording_Outdoor/lora_BW8_SF12_915MHz_1Msps_Att80_v0.dat\u001b[0m\n",
      "\u001b[32m2020-03-28 12:09:31.748\u001b[0m | \u001b[34m\u001b[1mDEBUG   \u001b[0m | \u001b[36mlorapy.io.load\u001b[0m:\u001b[36m_validate_data_path\u001b[0m:\u001b[36m61\u001b[0m - \u001b[34m\u001b[1mset datafile directory: /Users/trevor/Work/1-projects/lora-processing/data/LoRa_Recording_Outdoor\u001b[0m\n"
     ]
    }
   ],
   "source": [
    "loader = DatLoader(DATA_FILE_PLIB, autoload=False)"
   ]
  },
  {
   "cell_type": "markdown",
   "metadata": {},
   "source": [
    "# datafile processing\n",
    "\n",
    "*Note:* not data processing"
   ]
  },
  {
   "cell_type": "markdown",
   "metadata": {},
   "source": [
    "## encoding tests"
   ]
  },
  {
   "cell_type": "code",
   "execution_count": 33,
   "metadata": {},
   "outputs": [
    {
     "name": "stdout",
     "output_type": "stream",
     "text": [
      "\u001b[32m2020-03-28 12:10:06.821\u001b[0m | \u001b[1mINFO    \u001b[0m | \u001b[36mlorapy.io.load\u001b[0m:\u001b[36m_validate_data_path\u001b[0m:\u001b[36m58\u001b[0m - \u001b[1mvalidated datafile file at /Users/trevor/Work/1-projects/lora-processing/data/LoRa_Recording_Outdoor/lora_BW8_SF12_915MHz_1Msps_Att80_v0.dat\u001b[0m\n",
      "\u001b[32m2020-03-28 12:10:06.822\u001b[0m | \u001b[34m\u001b[1mDEBUG   \u001b[0m | \u001b[36mlorapy.io.load\u001b[0m:\u001b[36m_validate_data_path\u001b[0m:\u001b[36m61\u001b[0m - \u001b[34m\u001b[1mset datafile directory: /Users/trevor/Work/1-projects/lora-processing/data/LoRa_Recording_Outdoor\u001b[0m\n"
     ]
    }
   ],
   "source": [
    "loader = DatLoader(DATA_FILE, autoload=True)"
   ]
  },
  {
   "cell_type": "markdown",
   "metadata": {},
   "source": [
    "### params"
   ]
  },
  {
   "cell_type": "code",
   "execution_count": 41,
   "metadata": {},
   "outputs": [
    {
     "name": "stdout",
     "output_type": "stream",
     "text": [
      "\u001b[32m2020-03-28 12:11:51.898\u001b[0m | \u001b[34m\u001b[1mDEBUG   \u001b[0m | \u001b[36mlorapy.datafile.encoding\u001b[0m:\u001b[36mcompute_params\u001b[0m:\u001b[36m15\u001b[0m - \u001b[34m\u001b[1mcomputed samples per symbol: 16384 and packet length: 495616\u001b[0m\n",
      "\u001b[32m2020-03-28 12:11:52.486\u001b[0m | \u001b[1mINFO    \u001b[0m | \u001b[36mlorapy.datafile.file\u001b[0m:\u001b[36mload\u001b[0m:\u001b[36m66\u001b[0m - \u001b[1mloaded 106771756 samples from file\u001b[0m\n"
     ]
    },
    {
     "data": {
      "text/plain": [
       "'lora_BW8_SF12_915MHz_1Msps_Att80_v0.dat'"
      ]
     },
     "execution_count": 41,
     "metadata": {},
     "output_type": "execute_result"
    }
   ],
   "source": [
    "file = loader.data_file\n",
    "file.load()\n",
    "file.name"
   ]
  },
  {
   "cell_type": "code",
   "execution_count": 42,
   "metadata": {},
   "outputs": [
    {
     "data": {
      "text/plain": [
       "(8, 12, 80)"
      ]
     },
     "execution_count": 42,
     "metadata": {},
     "output_type": "execute_result"
    }
   ],
   "source": [
    "file.bw, file.sf, file.att"
   ]
  },
  {
   "cell_type": "code",
   "execution_count": 43,
   "metadata": {},
   "outputs": [
    {
     "data": {
      "text/plain": [
       "(16384, 495616)"
      ]
     },
     "execution_count": 43,
     "metadata": {},
     "output_type": "execute_result"
    }
   ],
   "source": [
    "file.samp_per_sym, file.packet_len"
   ]
  },
  {
   "cell_type": "code",
   "execution_count": null,
   "metadata": {},
   "outputs": [],
   "source": []
  },
  {
   "cell_type": "code",
   "execution_count": null,
   "metadata": {},
   "outputs": [],
   "source": []
  },
  {
   "cell_type": "code",
   "execution_count": null,
   "metadata": {},
   "outputs": [],
   "source": []
  }
 ],
 "metadata": {
  "kernelspec": {
   "display_name": "Python 3",
   "language": "python",
   "name": "python3"
  },
  "language_info": {
   "codemirror_mode": {
    "name": "ipython",
    "version": 3
   },
   "file_extension": ".py",
   "mimetype": "text/x-python",
   "name": "python",
   "nbconvert_exporter": "python",
   "pygments_lexer": "ipython3",
   "version": "3.7.6"
  }
 },
 "nbformat": 4,
 "nbformat_minor": 4
}
