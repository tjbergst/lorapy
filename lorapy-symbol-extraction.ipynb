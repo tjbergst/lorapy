{
 "cells": [
  {
   "cell_type": "markdown",
   "metadata": {},
   "source": [
    "# lorapy symbol extraction"
   ]
  },
  {
   "cell_type": "code",
   "execution_count": 1,
   "metadata": {},
   "outputs": [],
   "source": [
    "%load_ext autoreload\n",
    "%autoreload 2\n",
    "\n",
    "import pathlib\n",
    "\n",
    "import os, sys\n",
    "from loguru import logger\n",
    "logger.remove(None)\n",
    "logger.add(sys.stdout, colorize=True)\n",
    "\n",
    "import numpy as np\n",
    "from six.moves import cPickle\n",
    "from tqdm import tqdm_notebook\n",
    "\n",
    "import matplotlib.pyplot as plt \n",
    "%matplotlib inline"
   ]
  },
  {
   "cell_type": "code",
   "execution_count": 2,
   "metadata": {},
   "outputs": [],
   "source": [
    "import lorapy\n",
    "\n",
    "import scipy as sp\n",
    "import scipy.signal as spsig\n",
    "import warnings\n",
    "import multiprocessing\n",
    "from functools import partial \n",
    "\n",
    "from lorapy.symbols import utils as sym_utils"
   ]
  },
  {
   "cell_type": "markdown",
   "metadata": {},
   "source": [
    "## setup "
   ]
  },
  {
   "cell_type": "code",
   "execution_count": 3,
   "metadata": {},
   "outputs": [],
   "source": [
    "_BASE_DATA_DIR = pathlib.Path('../data')\n",
    "\n",
    "BENCHTOP_DATA_DIR = _BASE_DATA_DIR.joinpath('lora-benchtop-recording')\n",
    "DOTP_DATA_DIR = _BASE_DATA_DIR.joinpath('symbol-ref')\n",
    "DEV_DATA_DIR = _BASE_DATA_DIR.joinpath('dev-data')\n",
    "PREAM_WIN_DIR = _BASE_DATA_DIR.joinpath('lora-preamble-windows-20k')"
   ]
  },
  {
   "cell_type": "markdown",
   "metadata": {},
   "source": [
    "# load"
   ]
  },
  {
   "cell_type": "markdown",
   "metadata": {},
   "source": [
    "## dat files"
   ]
  },
  {
   "cell_type": "code",
   "execution_count": 4,
   "metadata": {},
   "outputs": [
    {
     "name": "stdout",
     "output_type": "stream",
     "text": [
      "\u001b[32m2020-04-10 07:46:07.130\u001b[0m | \u001b[34m\u001b[1mDEBUG   \u001b[0m | \u001b[36mlorapy.io._base_loader\u001b[0m:\u001b[36m_validate_data_path\u001b[0m:\u001b[36m140\u001b[0m - \u001b[34m\u001b[1mset datafile directory: ../data/dev-data\u001b[0m\n",
      "\u001b[32m2020-04-10 07:46:07.132\u001b[0m | \u001b[1mINFO    \u001b[0m | \u001b[36mlorapy.io._base_loader\u001b[0m:\u001b[36m_process_data_dir\u001b[0m:\u001b[36m153\u001b[0m - \u001b[1mfound 3 data file(s)\u001b[0m\n"
     ]
    },
    {
     "data": {
      "text/plain": [
       "[DatFile(id=0 | name='lora_BW9_SF12_915MHz_20ksps_Att80_v0.dat'),\n",
       " DatFile(id=1 | name='lora_BW9_SF11_915MHz_20ksps_Att60_v0.dat'),\n",
       " DatFile(id=2 | name='lora_BW9_SF10_915MHz_20ksps_Att100_v0.dat')]"
      ]
     },
     "execution_count": 4,
     "metadata": {},
     "output_type": "execute_result"
    }
   ],
   "source": [
    "loader = lorapy.load_dat(DEV_DATA_DIR, autoload=True)\n",
    "loader.file_list"
   ]
  },
  {
   "cell_type": "markdown",
   "metadata": {},
   "source": [
    "## dotp files"
   ]
  },
  {
   "cell_type": "code",
   "execution_count": 5,
   "metadata": {
    "scrolled": true
   },
   "outputs": [
    {
     "name": "stdout",
     "output_type": "stream",
     "text": [
      "\u001b[32m2020-04-10 07:46:07.153\u001b[0m | \u001b[34m\u001b[1mDEBUG   \u001b[0m | \u001b[36mlorapy.io._base_loader\u001b[0m:\u001b[36m_validate_data_path\u001b[0m:\u001b[36m140\u001b[0m - \u001b[34m\u001b[1mset datafile directory: ../data/symbol-ref\u001b[0m\n",
      "\u001b[32m2020-04-10 07:46:07.155\u001b[0m | \u001b[1mINFO    \u001b[0m | \u001b[36mlorapy.io._base_loader\u001b[0m:\u001b[36m_process_data_dir\u001b[0m:\u001b[36m153\u001b[0m - \u001b[1mfound 15 data file(s)\u001b[0m\n"
     ]
    },
    {
     "data": {
      "text/plain": [
       "[DotPFile(id=0 | name='lora_BW1_SF10_915MHz_20ksps_Att0_v0.p'),\n",
       " DotPFile(id=1 | name='lora_BW1_SF12_915MHz_20ksps_Att0_v0.p'),\n",
       " DotPFile(id=2 | name='lora_BW9_SF12_915MHz_20ksps_Att0_v0.p'),\n",
       " DotPFile(id=3 | name='lora_BW2_SF10_915MHz_20ksps_Att0_v0.p'),\n",
       " DotPFile(id=4 | name='lora_BW9_SF11_915MHz_20ksps_Att0_v0.p'),\n",
       " DotPFile(id=5 | name='lora_BW2_SF12_915MHz_20ksps_Att0_v0.p'),\n",
       " DotPFile(id=6 | name='lora_BW8_SF12_915MHz_20ksps_Att0_v0.p'),\n",
       " DotPFile(id=7 | name='lora_BW7_SF10_915MHz_20ksps_Att0_v0.p'),\n",
       " DotPFile(id=8 | name='lora_BW8_SF11_915MHz_20ksps_Att0_v0.p'),\n",
       " DotPFile(id=9 | name='lora_BW8_SF10_915MHz_20ksps_Att0_v0.p'),\n",
       " DotPFile(id=10 | name='lora_BW1_SF11_915MHz_20ksps_Att0_v0.p'),\n",
       " DotPFile(id=11 | name='lora_BW2_SF11_915MHz_20ksps_Att0_v0.p'),\n",
       " DotPFile(id=12 | name='lora_BW9_SF10_915MHz_20ksps_Att0_v0.p'),\n",
       " DotPFile(id=13 | name='lora_BW7_SF12_915MHz_20ksps_Att0_v0.p'),\n",
       " DotPFile(id=14 | name='lora_BW7_SF11_915MHz_20ksps_Att0_v0.p')]"
      ]
     },
     "execution_count": 5,
     "metadata": {},
     "output_type": "execute_result"
    }
   ],
   "source": [
    "ploader = lorapy.load_dotp(DOTP_DATA_DIR)\n",
    "ploader.file_list"
   ]
  },
  {
   "cell_type": "code",
   "execution_count": null,
   "metadata": {},
   "outputs": [],
   "source": []
  },
  {
   "cell_type": "markdown",
   "metadata": {},
   "source": [
    "# process "
   ]
  },
  {
   "cell_type": "markdown",
   "metadata": {},
   "source": [
    "## symbol correlation settings"
   ]
  },
  {
   "cell_type": "code",
   "execution_count": 6,
   "metadata": {},
   "outputs": [],
   "source": [
    "_step_dict = {\n",
    "    1: 100,\n",
    "    2: 100,\n",
    "    7: 4,\n",
    "    8: 2,\n",
    "    9: 2,\n",
    "}"
   ]
  },
  {
   "cell_type": "markdown",
   "metadata": {},
   "source": [
    "## functions"
   ]
  },
  {
   "cell_type": "code",
   "execution_count": null,
   "metadata": {},
   "outputs": [],
   "source": []
  },
  {
   "cell_type": "code",
   "execution_count": 7,
   "metadata": {},
   "outputs": [],
   "source": [
    "def _load_matching_dotp(bw: int, sf: int):\n",
    "    return ploader.filter(bw=bw, sf=sf)[0]\n",
    "\n",
    "def _convert_files(file, dotp_file):\n",
    "    return file.to_signal(), dotp_file.to_signal()\n",
    "\n",
    "\n",
    "def _load_and_convert(file):\n",
    "    file.load()\n",
    "    dotp_file = _load_matching_dotp(file.bw, file.sf)\n",
    "    \n",
    "    signal, base_symbol = _convert_files(file, dotp_file)\n",
    "    \n",
    "    return signal, base_symbol\n",
    "\n",
    "\n",
    "def _extract_and_manual_adjust(signal):\n",
    "    signal.extract_packets(method='slide-mean', auto_adj=False, overlap=0.5)\n",
    "    signal.adjust_packets(\n",
    "        force_check=True, \n",
    "        adjust_type='biased-mean', \n",
    "        look_ahead=10, threshold=0.5,\n",
    "    )\n",
    "    \n",
    "    return signal\n",
    "\n",
    "\n",
    "def _format_output_path(base_dir, signal):\n",
    "    filename = pathlib.Path(signal.stats.filename)\n",
    "    \n",
    "    out_path = base_dir.joinpath(\n",
    "        'processed-symbols'\n",
    "    ).joinpath(\n",
    "        filename.with_suffix('').with_suffix('.p')\n",
    "    )\n",
    "    \n",
    "    return out_path\n",
    "\n",
    "\n",
    "def _save_symbols(data, signal, base_dir):\n",
    "    out_path = _format_output_path(base_dir, signal)\n",
    "    \n",
    "    with out_path.open('wb') as outfile:\n",
    "        cPickle.dump(data, outfile)\n",
    "\n",
    "        \n",
    "def _extract_symbols(packet):\n",
    "    packet.extract_preamble_window()\n",
    "    return packet._preamble_window\n",
    "\n",
    "\n",
    "def _extract_and_save_symbols(packets):\n",
    "    full_array = np.vstack([\n",
    "        _extract_symbols(packet)\n",
    "        for packet in packets\n",
    "    ])\n",
    "    \n",
    "    packet = packets[0]\n",
    "    _save_symbols(full_array, packet)\n",
    "        \n",
    "\n",
    "def _get_correlation_values(base_symbol, preamble, samp_per_sym, shift_step):\n",
    "    shifts = sym_utils.generate_shifts(\n",
    "        samp_per_sym, range_factor=10, step=shift_step,\n",
    "    )\n",
    "    \n",
    "    corr_vals = sym_utils.shift_and_correlate(\n",
    "        base_symbol.data, preamble, samp_per_sym, shifts,\n",
    "    ) \n",
    "    \n",
    "    return corr_vals\n",
    "\n",
    "def _get_adjusted_distance(samp_per_sym, shift_step):\n",
    "    distance = int(samp_per_sym // shift_step)\n",
    "    distance *= 0.90 \n",
    "    return distance\n",
    "\n",
    "\n",
    "def _find_peaks(corr_vals, samp_per_sym, shift_step):\n",
    "    adjusted_dist = _get_adjusted_distance(samp_per_sym, shift_step)\n",
    "    \n",
    "    peaks = spsig.find_peaks(\n",
    "        corr_vals, \n",
    "        distance=adjusted_dist,\n",
    "    )[0]\n",
    "    \n",
    "    return peaks \n",
    "\n",
    "\n",
    "def _corr_sanity_plot(corr_vals, peaks):\n",
    "    symbol_strips = [\n",
    "        np.max(corr_vals) * 1.1 if idx in peaks else 0\n",
    "        for idx, _ in enumerate([0] * len(corr_vals))\n",
    "    ]\n",
    "    \n",
    "    fig, axs = plt.subplots(2)\n",
    "    axs[0].plot(corr_vals)\n",
    "    axs[1].plot(corr_vals)\n",
    "    axs[1].plot(symbol_strips)\n",
    "    plt.show()\n",
    "\n",
    "    \n",
    "def _extract_symbols_from_peaks(packet_data: np.ndarray, peak_shifts: list, samp_per_sym: int) -> np.ndarray:\n",
    "    symbols = np.vstack([\n",
    "        packet_data[shift: shift+samp_per_sym]\n",
    "        for shift in peak_shifts\n",
    "    ])\n",
    "    \n",
    "    return symbols\n",
    "        \n",
    "\n",
    "def _sanity_plot(symbols):\n",
    "    with warnings.catch_warnings():\n",
    "        warnings.simplefilter(\"ignore\")\n",
    "        fig, ax = plt.subplots(symbols.shape[0])\n",
    "\n",
    "        for idx, sym in enumerate(symbols):\n",
    "            ax[idx].plot(sym)\n",
    "\n",
    "\n",
    "def correlate_and_slice(packet, base_symbol, save_sanity=False):\n",
    "    samp_per_sym, shift_step = packet.stats.samp_per_sym, _step_dict[packet.stats.bw]\n",
    "    \n",
    "    shifts = sym_utils.generate_shifts(\n",
    "        samp_per_sym, range_factor=10, step=shift_step,\n",
    "    )\n",
    "\n",
    "    corr_vals = sym_utils.shift_and_correlate(\n",
    "        base_symbol, packet.data, samp_per_sym, shifts,\n",
    "    ) \n",
    "    \n",
    "    peaks = _find_peaks(corr_vals, samp_per_sym, shift_step)\n",
    "    \n",
    "    shifts = list(shifts)\n",
    "    peak_shifts = [shifts[peak] for peak in peaks]\n",
    "    \n",
    "    symbols = _extract_symbols_from_peaks(packet.data, peak_shifts, samp_per_sym)\n",
    "    \n",
    "    if save_sanity:\n",
    "        _sanity_plot(symbols)\n",
    "    \n",
    "    return symbols\n",
    "\n",
    "\n",
    "\n",
    "def slice_all_packets(packets, symbol_data):\n",
    "    six_symbol_data = np.concatenate([symbol_data] * 6)\n",
    "    corr_slice = partial(correlate_and_slice, base_symbol=six_symbol_data)\n",
    "    \n",
    "    with multiprocessing.Pool() as pool:\n",
    "        results = pool.map(corr_slice, packets)\n",
    "        \n",
    "    return np.vstack(results)\n",
    "\n",
    "def process_and_save(file):\n",
    "    signal, base_symbol = _load_and_convert(file)\n",
    "    signal = _extract_and_manual_adjust(signal)\n",
    "    results = slice_all_packets(signal.packets, base_symbol.data)\n",
    "    \n",
    "    _save_symbols(results, signal, _BASE_DATA_DIR)\n",
    "    "
   ]
  },
  {
   "cell_type": "markdown",
   "metadata": {},
   "source": [
    "# manual process"
   ]
  },
  {
   "cell_type": "code",
   "execution_count": 10,
   "metadata": {},
   "outputs": [
    {
     "data": {
      "text/plain": [
       "[DatFile(id=0 | name='lora_BW9_SF12_915MHz_20ksps_Att80_v0.dat'),\n",
       " DatFile(id=1 | name='lora_BW9_SF11_915MHz_20ksps_Att60_v0.dat'),\n",
       " DatFile(id=2 | name='lora_BW9_SF10_915MHz_20ksps_Att100_v0.dat')]"
      ]
     },
     "execution_count": 10,
     "metadata": {},
     "output_type": "execute_result"
    }
   ],
   "source": [
    "loader.file_list"
   ]
  },
  {
   "cell_type": "markdown",
   "metadata": {},
   "source": [
    "## setup"
   ]
  },
  {
   "cell_type": "code",
   "execution_count": 11,
   "metadata": {},
   "outputs": [
    {
     "name": "stdout",
     "output_type": "stream",
     "text": [
      "\u001b[32m2020-04-10 07:51:19.116\u001b[0m | \u001b[33m\u001b[1mWARNING \u001b[0m | \u001b[36m__main__\u001b[0m:\u001b[36m<module>\u001b[0m:\u001b[36m4\u001b[0m - \u001b[33m\u001b[1mworking file: DatFile(id=0 | name='lora_BW9_SF12_915MHz_20ksps_Att80_v0.dat')\u001b[0m\n",
      "\u001b[32m2020-04-10 07:51:19.117\u001b[0m | \u001b[34m\u001b[1mDEBUG   \u001b[0m | \u001b[36mlorapy.datafile.encoding\u001b[0m:\u001b[36mcompute_params\u001b[0m:\u001b[36m15\u001b[0m - \u001b[34m\u001b[1mcomputed samples per symbol: 1599 and packet length: 48369\u001b[0m\n",
      "\u001b[32m2020-04-10 07:51:19.176\u001b[0m | \u001b[1mINFO    \u001b[0m | \u001b[36mlorapy.datafile._base_file\u001b[0m:\u001b[36mload\u001b[0m:\u001b[36m61\u001b[0m - \u001b[1mloaded 15247360 samples from file\u001b[0m\n",
      "\u001b[32m2020-04-10 07:51:19.178\u001b[0m | \u001b[34m\u001b[1mDEBUG   \u001b[0m | \u001b[36mlorapy.datafile.encoding\u001b[0m:\u001b[36mcompute_params\u001b[0m:\u001b[36m15\u001b[0m - \u001b[34m\u001b[1mcomputed samples per symbol: 1599 and packet length: 48369\u001b[0m\n",
      "\u001b[32m2020-04-10 07:51:19.180\u001b[0m | \u001b[1mINFO    \u001b[0m | \u001b[36mlorapy.datafile._base_file\u001b[0m:\u001b[36mload\u001b[0m:\u001b[36m61\u001b[0m - \u001b[1mloaded 1599 samples from file\u001b[0m\n",
      "\u001b[32m2020-04-10 07:51:19.180\u001b[0m | \u001b[1mINFO    \u001b[0m | \u001b[36mlorapy.signals.signal\u001b[0m:\u001b[36m_process_signal\u001b[0m:\u001b[36m107\u001b[0m - \u001b[1mselected \"slide-mean\" processing method\u001b[0m\n",
      "\u001b[32m2020-04-10 07:51:19.217\u001b[0m | \u001b[1mINFO    \u001b[0m | \u001b[36mlorapy.signals.processing.sliding_mean\u001b[0m:\u001b[36m_find_all_mindices\u001b[0m:\u001b[36m55\u001b[0m - \u001b[1mscanning signal for padding locations..\u001b[0m\n",
      "\u001b[32m2020-04-10 07:51:19.218\u001b[0m | \u001b[34m\u001b[1mDEBUG   \u001b[0m | \u001b[36mlorapy.signals.processing.sliding_mean\u001b[0m:\u001b[36m_find_all_mindices\u001b[0m:\u001b[36m59\u001b[0m - \u001b[34m\u001b[1miteration 0\u001b[0m\n",
      "\u001b[32m2020-04-10 07:51:19.311\u001b[0m | \u001b[34m\u001b[1mDEBUG   \u001b[0m | \u001b[36mlorapy.signals.processing.sliding_mean\u001b[0m:\u001b[36m_find_all_mindices\u001b[0m:\u001b[36m59\u001b[0m - \u001b[34m\u001b[1miteration 100\u001b[0m\n",
      "\u001b[32m2020-04-10 07:51:19.406\u001b[0m | \u001b[34m\u001b[1mDEBUG   \u001b[0m | \u001b[36mlorapy.signals.processing.sliding_mean\u001b[0m:\u001b[36m_find_all_mindices\u001b[0m:\u001b[36m59\u001b[0m - \u001b[34m\u001b[1miteration 200\u001b[0m\n",
      "\u001b[32m2020-04-10 07:51:19.499\u001b[0m | \u001b[34m\u001b[1mDEBUG   \u001b[0m | \u001b[36mlorapy.signals.processing.sliding_mean\u001b[0m:\u001b[36m_find_all_mindices\u001b[0m:\u001b[36m59\u001b[0m - \u001b[34m\u001b[1miteration 300\u001b[0m\n",
      "\u001b[32m2020-04-10 07:51:19.514\u001b[0m | \u001b[34m\u001b[1mDEBUG   \u001b[0m | \u001b[36mlorapy.signals.processing.sliding_mean\u001b[0m:\u001b[36m_scan_slice\u001b[0m:\u001b[36m92\u001b[0m - \u001b[34m\u001b[1mreached end of signal\u001b[0m\n",
      "\u001b[32m2020-04-10 07:51:19.515\u001b[0m | \u001b[34m\u001b[1mDEBUG   \u001b[0m | \u001b[36mlorapy.signals.processing.utils\u001b[0m:\u001b[36mclean_index_list\u001b[0m:\u001b[36m24\u001b[0m - \u001b[34m\u001b[1mfound 27 false indexes\u001b[0m\n",
      "\u001b[32m2020-04-10 07:51:19.518\u001b[0m | \u001b[1mINFO    \u001b[0m | \u001b[36mlorapy.signals.processing.sliding_mean\u001b[0m:\u001b[36m_find_all_mindices\u001b[0m:\u001b[36m70\u001b[0m - \u001b[1mfound [314 // 287] packet locations\u001b[0m\n",
      "\u001b[32m2020-04-10 07:51:19.519\u001b[0m | \u001b[34m\u001b[1mDEBUG   \u001b[0m | \u001b[36mlorapy.packets.utils\u001b[0m:\u001b[36mslice_all_packets\u001b[0m:\u001b[36m21\u001b[0m - \u001b[34m\u001b[1mgot max packet length: 48369\u001b[0m\n",
      "\u001b[32m2020-04-10 07:51:19.569\u001b[0m | \u001b[1mINFO    \u001b[0m | \u001b[36mlorapy.packets.utils\u001b[0m:\u001b[36mslice_all_packets\u001b[0m:\u001b[36m28\u001b[0m - \u001b[1mextracted 287 packets from signal\u001b[0m\n",
      "\u001b[32m2020-04-10 07:51:19.573\u001b[0m | \u001b[34m\u001b[1mDEBUG   \u001b[0m | \u001b[36mlorapy.signals.signal\u001b[0m:\u001b[36m_slice_and_load\u001b[0m:\u001b[36m62\u001b[0m - \u001b[34m\u001b[1mloaded 287 lora packets\u001b[0m\n",
      "\u001b[32m2020-04-10 07:51:57.045\u001b[0m | \u001b[34m\u001b[1mDEBUG   \u001b[0m | \u001b[36mlorapy.signals.signal\u001b[0m:\u001b[36m_adjust_endpoints\u001b[0m:\u001b[36m87\u001b[0m - \u001b[34m\u001b[1madjusted endpoints\u001b[0m\n",
      "\u001b[32m2020-04-10 07:51:57.048\u001b[0m | \u001b[34m\u001b[1mDEBUG   \u001b[0m | \u001b[36mlorapy.packets.utils\u001b[0m:\u001b[36mslice_all_packets\u001b[0m:\u001b[36m21\u001b[0m - \u001b[34m\u001b[1mgot max packet length: 48369\u001b[0m\n",
      "\u001b[32m2020-04-10 07:51:57.101\u001b[0m | \u001b[1mINFO    \u001b[0m | \u001b[36mlorapy.packets.utils\u001b[0m:\u001b[36mslice_all_packets\u001b[0m:\u001b[36m28\u001b[0m - \u001b[1mextracted 287 packets from signal\u001b[0m\n",
      "\u001b[32m2020-04-10 07:51:57.106\u001b[0m | \u001b[34m\u001b[1mDEBUG   \u001b[0m | \u001b[36mlorapy.signals.signal\u001b[0m:\u001b[36m_slice_and_load\u001b[0m:\u001b[36m62\u001b[0m - \u001b[34m\u001b[1mloaded 287 lora packets\u001b[0m\n",
      "\u001b[32m2020-04-10 07:52:52.448\u001b[0m | \u001b[33m\u001b[1mWARNING \u001b[0m | \u001b[36m__main__\u001b[0m:\u001b[36m<module>\u001b[0m:\u001b[36m4\u001b[0m - \u001b[33m\u001b[1mworking file: DatFile(id=1 | name='lora_BW9_SF11_915MHz_20ksps_Att60_v0.dat')\u001b[0m\n",
      "\u001b[32m2020-04-10 07:52:52.450\u001b[0m | \u001b[34m\u001b[1mDEBUG   \u001b[0m | \u001b[36mlorapy.datafile.encoding\u001b[0m:\u001b[36mcompute_params\u001b[0m:\u001b[36m15\u001b[0m - \u001b[34m\u001b[1mcomputed samples per symbol: 800 and packet length: 24200\u001b[0m\n",
      "\u001b[32m2020-04-10 07:52:52.529\u001b[0m | \u001b[1mINFO    \u001b[0m | \u001b[36mlorapy.datafile._base_file\u001b[0m:\u001b[36mload\u001b[0m:\u001b[36m61\u001b[0m - \u001b[1mloaded 16537088 samples from file\u001b[0m\n",
      "\u001b[32m2020-04-10 07:52:52.531\u001b[0m | \u001b[34m\u001b[1mDEBUG   \u001b[0m | \u001b[36mlorapy.datafile.encoding\u001b[0m:\u001b[36mcompute_params\u001b[0m:\u001b[36m15\u001b[0m - \u001b[34m\u001b[1mcomputed samples per symbol: 800 and packet length: 24200\u001b[0m\n",
      "\u001b[32m2020-04-10 07:52:52.533\u001b[0m | \u001b[1mINFO    \u001b[0m | \u001b[36mlorapy.datafile._base_file\u001b[0m:\u001b[36mload\u001b[0m:\u001b[36m61\u001b[0m - \u001b[1mloaded 799 samples from file\u001b[0m\n",
      "\u001b[32m2020-04-10 07:52:52.534\u001b[0m | \u001b[1mINFO    \u001b[0m | \u001b[36mlorapy.signals.signal\u001b[0m:\u001b[36m_process_signal\u001b[0m:\u001b[36m107\u001b[0m - \u001b[1mselected \"slide-mean\" processing method\u001b[0m\n",
      "\u001b[32m2020-04-10 07:52:52.573\u001b[0m | \u001b[1mINFO    \u001b[0m | \u001b[36mlorapy.signals.processing.sliding_mean\u001b[0m:\u001b[36m_find_all_mindices\u001b[0m:\u001b[36m55\u001b[0m - \u001b[1mscanning signal for padding locations..\u001b[0m\n",
      "\u001b[32m2020-04-10 07:52:52.574\u001b[0m | \u001b[34m\u001b[1mDEBUG   \u001b[0m | \u001b[36mlorapy.signals.processing.sliding_mean\u001b[0m:\u001b[36m_find_all_mindices\u001b[0m:\u001b[36m59\u001b[0m - \u001b[34m\u001b[1miteration 0\u001b[0m\n",
      "\u001b[32m2020-04-10 07:52:52.615\u001b[0m | \u001b[34m\u001b[1mDEBUG   \u001b[0m | \u001b[36mlorapy.signals.processing.sliding_mean\u001b[0m:\u001b[36m_find_all_mindices\u001b[0m:\u001b[36m59\u001b[0m - \u001b[34m\u001b[1miteration 100\u001b[0m\n",
      "\u001b[32m2020-04-10 07:52:52.663\u001b[0m | \u001b[34m\u001b[1mDEBUG   \u001b[0m | \u001b[36mlorapy.signals.processing.sliding_mean\u001b[0m:\u001b[36m_find_all_mindices\u001b[0m:\u001b[36m59\u001b[0m - \u001b[34m\u001b[1miteration 200\u001b[0m\n",
      "\u001b[32m2020-04-10 07:52:52.705\u001b[0m | \u001b[34m\u001b[1mDEBUG   \u001b[0m | \u001b[36mlorapy.signals.processing.sliding_mean\u001b[0m:\u001b[36m_find_all_mindices\u001b[0m:\u001b[36m59\u001b[0m - \u001b[34m\u001b[1miteration 300\u001b[0m\n",
      "\u001b[32m2020-04-10 07:52:52.753\u001b[0m | \u001b[34m\u001b[1mDEBUG   \u001b[0m | \u001b[36mlorapy.signals.processing.sliding_mean\u001b[0m:\u001b[36m_find_all_mindices\u001b[0m:\u001b[36m59\u001b[0m - \u001b[34m\u001b[1miteration 400\u001b[0m\n",
      "\u001b[32m2020-04-10 07:52:52.796\u001b[0m | \u001b[34m\u001b[1mDEBUG   \u001b[0m | \u001b[36mlorapy.signals.processing.sliding_mean\u001b[0m:\u001b[36m_find_all_mindices\u001b[0m:\u001b[36m59\u001b[0m - \u001b[34m\u001b[1miteration 500\u001b[0m\n",
      "\u001b[32m2020-04-10 07:52:52.839\u001b[0m | \u001b[34m\u001b[1mDEBUG   \u001b[0m | \u001b[36mlorapy.signals.processing.sliding_mean\u001b[0m:\u001b[36m_find_all_mindices\u001b[0m:\u001b[36m59\u001b[0m - \u001b[34m\u001b[1miteration 600\u001b[0m\n",
      "\u001b[32m2020-04-10 07:52:52.884\u001b[0m | \u001b[34m\u001b[1mDEBUG   \u001b[0m | \u001b[36mlorapy.signals.processing.sliding_mean\u001b[0m:\u001b[36m_scan_slice\u001b[0m:\u001b[36m92\u001b[0m - \u001b[34m\u001b[1mreached end of signal\u001b[0m\n",
      "\u001b[32m2020-04-10 07:52:52.885\u001b[0m | \u001b[34m\u001b[1mDEBUG   \u001b[0m | \u001b[36mlorapy.signals.processing.utils\u001b[0m:\u001b[36mclean_index_list\u001b[0m:\u001b[36m24\u001b[0m - \u001b[34m\u001b[1mfound 20 false indexes\u001b[0m\n",
      "\u001b[32m2020-04-10 07:52:52.889\u001b[0m | \u001b[1mINFO    \u001b[0m | \u001b[36mlorapy.signals.processing.sliding_mean\u001b[0m:\u001b[36m_find_all_mindices\u001b[0m:\u001b[36m70\u001b[0m - \u001b[1mfound [682 // 662] packet locations\u001b[0m\n",
      "\u001b[32m2020-04-10 07:52:52.891\u001b[0m | \u001b[34m\u001b[1mDEBUG   \u001b[0m | \u001b[36mlorapy.packets.utils\u001b[0m:\u001b[36mslice_all_packets\u001b[0m:\u001b[36m21\u001b[0m - \u001b[34m\u001b[1mgot max packet length: 24200\u001b[0m\n",
      "\u001b[32m2020-04-10 07:52:52.946\u001b[0m | \u001b[1mINFO    \u001b[0m | \u001b[36mlorapy.packets.utils\u001b[0m:\u001b[36mslice_all_packets\u001b[0m:\u001b[36m28\u001b[0m - \u001b[1mextracted 662 packets from signal\u001b[0m\n",
      "\u001b[32m2020-04-10 07:52:52.954\u001b[0m | \u001b[34m\u001b[1mDEBUG   \u001b[0m | \u001b[36mlorapy.signals.signal\u001b[0m:\u001b[36m_slice_and_load\u001b[0m:\u001b[36m62\u001b[0m - \u001b[34m\u001b[1mloaded 662 lora packets\u001b[0m\n",
      "\u001b[32m2020-04-10 07:53:18.687\u001b[0m | \u001b[34m\u001b[1mDEBUG   \u001b[0m | \u001b[36mlorapy.signals.signal\u001b[0m:\u001b[36m_adjust_endpoints\u001b[0m:\u001b[36m87\u001b[0m - \u001b[34m\u001b[1madjusted endpoints\u001b[0m\n",
      "\u001b[32m2020-04-10 07:53:18.688\u001b[0m | \u001b[34m\u001b[1mDEBUG   \u001b[0m | \u001b[36mlorapy.packets.utils\u001b[0m:\u001b[36mslice_all_packets\u001b[0m:\u001b[36m21\u001b[0m - \u001b[34m\u001b[1mgot max packet length: 24200\u001b[0m\n",
      "\u001b[32m2020-04-10 07:53:18.753\u001b[0m | \u001b[1mINFO    \u001b[0m | \u001b[36mlorapy.packets.utils\u001b[0m:\u001b[36mslice_all_packets\u001b[0m:\u001b[36m28\u001b[0m - \u001b[1mextracted 662 packets from signal\u001b[0m\n",
      "\u001b[32m2020-04-10 07:53:18.764\u001b[0m | \u001b[34m\u001b[1mDEBUG   \u001b[0m | \u001b[36mlorapy.signals.signal\u001b[0m:\u001b[36m_slice_and_load\u001b[0m:\u001b[36m62\u001b[0m - \u001b[34m\u001b[1mloaded 662 lora packets\u001b[0m\n",
      "\u001b[32m2020-04-10 07:54:14.340\u001b[0m | \u001b[33m\u001b[1mWARNING \u001b[0m | \u001b[36m__main__\u001b[0m:\u001b[36m<module>\u001b[0m:\u001b[36m4\u001b[0m - \u001b[33m\u001b[1mworking file: DatFile(id=2 | name='lora_BW9_SF10_915MHz_20ksps_Att100_v0.dat')\u001b[0m\n",
      "\u001b[32m2020-04-10 07:54:14.342\u001b[0m | \u001b[34m\u001b[1mDEBUG   \u001b[0m | \u001b[36mlorapy.datafile.encoding\u001b[0m:\u001b[36mcompute_params\u001b[0m:\u001b[36m15\u001b[0m - \u001b[34m\u001b[1mcomputed samples per symbol: 400 and packet length: 12100\u001b[0m\n",
      "\u001b[32m2020-04-10 07:54:14.408\u001b[0m | \u001b[1mINFO    \u001b[0m | \u001b[36mlorapy.datafile._base_file\u001b[0m:\u001b[36mload\u001b[0m:\u001b[36m61\u001b[0m - \u001b[1mloaded 12274176 samples from file\u001b[0m\n",
      "\u001b[32m2020-04-10 07:54:14.410\u001b[0m | \u001b[34m\u001b[1mDEBUG   \u001b[0m | \u001b[36mlorapy.datafile.encoding\u001b[0m:\u001b[36mcompute_params\u001b[0m:\u001b[36m15\u001b[0m - \u001b[34m\u001b[1mcomputed samples per symbol: 400 and packet length: 12100\u001b[0m\n",
      "\u001b[32m2020-04-10 07:54:14.411\u001b[0m | \u001b[1mINFO    \u001b[0m | \u001b[36mlorapy.datafile._base_file\u001b[0m:\u001b[36mload\u001b[0m:\u001b[36m61\u001b[0m - \u001b[1mloaded 399 samples from file\u001b[0m\n",
      "\u001b[32m2020-04-10 07:54:14.412\u001b[0m | \u001b[1mINFO    \u001b[0m | \u001b[36mlorapy.signals.signal\u001b[0m:\u001b[36m_process_signal\u001b[0m:\u001b[36m107\u001b[0m - \u001b[1mselected \"slide-mean\" processing method\u001b[0m\n",
      "\u001b[32m2020-04-10 07:54:14.446\u001b[0m | \u001b[1mINFO    \u001b[0m | \u001b[36mlorapy.signals.processing.sliding_mean\u001b[0m:\u001b[36m_find_all_mindices\u001b[0m:\u001b[36m55\u001b[0m - \u001b[1mscanning signal for padding locations..\u001b[0m\n",
      "\u001b[32m2020-04-10 07:54:14.447\u001b[0m | \u001b[34m\u001b[1mDEBUG   \u001b[0m | \u001b[36mlorapy.signals.processing.sliding_mean\u001b[0m:\u001b[36m_find_all_mindices\u001b[0m:\u001b[36m59\u001b[0m - \u001b[34m\u001b[1miteration 0\u001b[0m\n",
      "\u001b[32m2020-04-10 07:54:14.470\u001b[0m | \u001b[34m\u001b[1mDEBUG   \u001b[0m | \u001b[36mlorapy.signals.processing.sliding_mean\u001b[0m:\u001b[36m_find_all_mindices\u001b[0m:\u001b[36m59\u001b[0m - \u001b[34m\u001b[1miteration 100\u001b[0m\n",
      "\u001b[32m2020-04-10 07:54:14.493\u001b[0m | \u001b[34m\u001b[1mDEBUG   \u001b[0m | \u001b[36mlorapy.signals.processing.sliding_mean\u001b[0m:\u001b[36m_find_all_mindices\u001b[0m:\u001b[36m59\u001b[0m - \u001b[34m\u001b[1miteration 200\u001b[0m\n",
      "\u001b[32m2020-04-10 07:54:14.513\u001b[0m | \u001b[34m\u001b[1mDEBUG   \u001b[0m | \u001b[36mlorapy.signals.processing.sliding_mean\u001b[0m:\u001b[36m_find_all_mindices\u001b[0m:\u001b[36m59\u001b[0m - \u001b[34m\u001b[1miteration 300\u001b[0m\n",
      "\u001b[32m2020-04-10 07:54:14.537\u001b[0m | \u001b[34m\u001b[1mDEBUG   \u001b[0m | \u001b[36mlorapy.signals.processing.sliding_mean\u001b[0m:\u001b[36m_find_all_mindices\u001b[0m:\u001b[36m59\u001b[0m - \u001b[34m\u001b[1miteration 400\u001b[0m\n",
      "\u001b[32m2020-04-10 07:54:14.558\u001b[0m | \u001b[34m\u001b[1mDEBUG   \u001b[0m | \u001b[36mlorapy.signals.processing.sliding_mean\u001b[0m:\u001b[36m_find_all_mindices\u001b[0m:\u001b[36m59\u001b[0m - \u001b[34m\u001b[1miteration 500\u001b[0m\n",
      "\u001b[32m2020-04-10 07:54:14.585\u001b[0m | \u001b[34m\u001b[1mDEBUG   \u001b[0m | \u001b[36mlorapy.signals.processing.sliding_mean\u001b[0m:\u001b[36m_find_all_mindices\u001b[0m:\u001b[36m59\u001b[0m - \u001b[34m\u001b[1miteration 600\u001b[0m\n",
      "\u001b[32m2020-04-10 07:54:14.608\u001b[0m | \u001b[34m\u001b[1mDEBUG   \u001b[0m | \u001b[36mlorapy.signals.processing.sliding_mean\u001b[0m:\u001b[36m_find_all_mindices\u001b[0m:\u001b[36m59\u001b[0m - \u001b[34m\u001b[1miteration 700\u001b[0m\n",
      "\u001b[32m2020-04-10 07:54:14.630\u001b[0m | \u001b[34m\u001b[1mDEBUG   \u001b[0m | \u001b[36mlorapy.signals.processing.sliding_mean\u001b[0m:\u001b[36m_find_all_mindices\u001b[0m:\u001b[36m59\u001b[0m - \u001b[34m\u001b[1miteration 800\u001b[0m\n",
      "\u001b[32m2020-04-10 07:54:14.656\u001b[0m | \u001b[34m\u001b[1mDEBUG   \u001b[0m | \u001b[36mlorapy.signals.processing.sliding_mean\u001b[0m:\u001b[36m_find_all_mindices\u001b[0m:\u001b[36m59\u001b[0m - \u001b[34m\u001b[1miteration 900\u001b[0m\n",
      "\u001b[32m2020-04-10 07:54:14.680\u001b[0m | \u001b[34m\u001b[1mDEBUG   \u001b[0m | \u001b[36mlorapy.signals.processing.sliding_mean\u001b[0m:\u001b[36m_find_all_mindices\u001b[0m:\u001b[36m59\u001b[0m - \u001b[34m\u001b[1miteration 1000\u001b[0m\n",
      "\u001b[32m2020-04-10 07:54:14.684\u001b[0m | \u001b[34m\u001b[1mDEBUG   \u001b[0m | \u001b[36mlorapy.signals.processing.sliding_mean\u001b[0m:\u001b[36m_scan_slice\u001b[0m:\u001b[36m92\u001b[0m - \u001b[34m\u001b[1mreached end of signal\u001b[0m\n",
      "\u001b[32m2020-04-10 07:54:14.686\u001b[0m | \u001b[34m\u001b[1mDEBUG   \u001b[0m | \u001b[36mlorapy.signals.processing.utils\u001b[0m:\u001b[36mclean_index_list\u001b[0m:\u001b[36m24\u001b[0m - \u001b[34m\u001b[1mfound 44 false indexes\u001b[0m\n",
      "\u001b[32m2020-04-10 07:54:14.695\u001b[0m | \u001b[1mINFO    \u001b[0m | \u001b[36mlorapy.signals.processing.sliding_mean\u001b[0m:\u001b[36m_find_all_mindices\u001b[0m:\u001b[36m70\u001b[0m - \u001b[1mfound [1013 // 969] packet locations\u001b[0m\n",
      "\u001b[32m2020-04-10 07:54:14.697\u001b[0m | \u001b[34m\u001b[1mDEBUG   \u001b[0m | \u001b[36mlorapy.packets.utils\u001b[0m:\u001b[36mslice_all_packets\u001b[0m:\u001b[36m21\u001b[0m - \u001b[34m\u001b[1mgot max packet length: 12100\u001b[0m\n",
      "\u001b[32m2020-04-10 07:54:14.740\u001b[0m | \u001b[1mINFO    \u001b[0m | \u001b[36mlorapy.packets.utils\u001b[0m:\u001b[36mslice_all_packets\u001b[0m:\u001b[36m28\u001b[0m - \u001b[1mextracted 969 packets from signal\u001b[0m\n",
      "\u001b[32m2020-04-10 07:54:14.839\u001b[0m | \u001b[34m\u001b[1mDEBUG   \u001b[0m | \u001b[36mlorapy.signals.signal\u001b[0m:\u001b[36m_slice_and_load\u001b[0m:\u001b[36m62\u001b[0m - \u001b[34m\u001b[1mloaded 969 lora packets\u001b[0m\n",
      "\u001b[32m2020-04-10 07:54:31.190\u001b[0m | \u001b[34m\u001b[1mDEBUG   \u001b[0m | \u001b[36mlorapy.signals.signal\u001b[0m:\u001b[36m_adjust_endpoints\u001b[0m:\u001b[36m87\u001b[0m - \u001b[34m\u001b[1madjusted endpoints\u001b[0m\n",
      "\u001b[32m2020-04-10 07:54:31.191\u001b[0m | \u001b[34m\u001b[1mDEBUG   \u001b[0m | \u001b[36mlorapy.packets.utils\u001b[0m:\u001b[36mslice_all_packets\u001b[0m:\u001b[36m21\u001b[0m - \u001b[34m\u001b[1mgot max packet length: 12100\u001b[0m\n",
      "\u001b[32m2020-04-10 07:54:31.361\u001b[0m | \u001b[1mINFO    \u001b[0m | \u001b[36mlorapy.packets.utils\u001b[0m:\u001b[36mslice_all_packets\u001b[0m:\u001b[36m28\u001b[0m - \u001b[1mextracted 969 packets from signal\u001b[0m\n",
      "\u001b[32m2020-04-10 07:54:31.372\u001b[0m | \u001b[34m\u001b[1mDEBUG   \u001b[0m | \u001b[36mlorapy.signals.signal\u001b[0m:\u001b[36m_slice_and_load\u001b[0m:\u001b[36m62\u001b[0m - \u001b[34m\u001b[1mloaded 969 lora packets\u001b[0m\n",
      "CPU times: user 1min 21s, sys: 1.77 s, total: 1min 23s\n",
      "Wall time: 3min 50s\n"
     ]
    }
   ],
   "source": [
    "exceptioned_files = []\n",
    "\n",
    "for file in loader.file_list:\n",
    "    logger.warning(f'working file: {file}')\n",
    "    try:\n",
    "        process_and_save(file)\n",
    "    except Exception:\n",
    "        exceptioned_files.append(file.name) \n"
   ]
  },
  {
   "cell_type": "code",
   "execution_count": null,
   "metadata": {},
   "outputs": [],
   "source": []
  },
  {
   "cell_type": "code",
   "execution_count": null,
   "metadata": {},
   "outputs": [],
   "source": []
  },
  {
   "cell_type": "markdown",
   "metadata": {},
   "source": [
    "## process loop"
   ]
  },
  {
   "cell_type": "code",
   "execution_count": null,
   "metadata": {},
   "outputs": [],
   "source": [
    "exceptioned_files = []\n",
    "\n",
    "for file in tqdm_notebook(loader.file_list):\n",
    "    file.load()\n",
    "    dotp_file = _load_matching_dotp(file.bw, file.sf)\n",
    "\n",
    "    signal, base_symbol = _convert_files(file, dotp_file)\n",
    "    logger.info(f'\\n{signal}')\n",
    "    logger.info(f'\\n{base_symbol}')\n",
    "    \n",
    "    try:\n",
    "        packets = _extract_and_manual_adjust(base_symbol, _step_dict)\n",
    "        _extract_and_save_symbols(packets)\n",
    "    except Exception:\n",
    "        exceptioned_files.append(file.name) \n",
    "    \n",
    "    break"
   ]
  },
  {
   "cell_type": "code",
   "execution_count": null,
   "metadata": {},
   "outputs": [],
   "source": []
  },
  {
   "cell_type": "code",
   "execution_count": null,
   "metadata": {},
   "outputs": [],
   "source": []
  },
  {
   "cell_type": "code",
   "execution_count": null,
   "metadata": {},
   "outputs": [],
   "source": []
  },
  {
   "cell_type": "code",
   "execution_count": null,
   "metadata": {},
   "outputs": [],
   "source": []
  }
 ],
 "metadata": {
  "kernelspec": {
   "display_name": "Python 3",
   "language": "python",
   "name": "python3"
  },
  "language_info": {
   "codemirror_mode": {
    "name": "ipython",
    "version": 3
   },
   "file_extension": ".py",
   "mimetype": "text/x-python",
   "name": "python",
   "nbconvert_exporter": "python",
   "pygments_lexer": "ipython3",
   "version": "3.7.6"
  }
 },
 "nbformat": 4,
 "nbformat_minor": 4
}
