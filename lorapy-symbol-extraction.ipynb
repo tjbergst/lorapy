{
 "cells": [
  {
   "cell_type": "markdown",
   "metadata": {},
   "source": [
    "# lorapy symbol extraction"
   ]
  },
  {
   "cell_type": "code",
   "execution_count": 1,
   "metadata": {},
   "outputs": [],
   "source": [
    "%load_ext autoreload\n",
    "%autoreload 2\n",
    "\n",
    "import pathlib\n",
    "\n",
    "import os, sys\n",
    "from loguru import logger\n",
    "logger.remove(None)\n",
    "logger.add(sys.stdout, colorize=True)\n",
    "\n",
    "import numpy as np\n",
    "from six.moves import cPickle\n",
    "from tqdm import tqdm_notebook\n",
    "\n",
    "import matplotlib.pyplot as plt \n",
    "%matplotlib inline"
   ]
  },
  {
   "cell_type": "code",
   "execution_count": 2,
   "metadata": {},
   "outputs": [],
   "source": [
    "import lorapy\n",
    "\n",
    "import scipy as sp\n",
    "import scipy.signal as spsig\n",
    "import warnings\n",
    "import multiprocessing\n",
    "from functools import partial \n",
    "\n",
    "from lorapy.symbols import utils as sym_utils"
   ]
  },
  {
   "cell_type": "markdown",
   "metadata": {},
   "source": [
    "## setup "
   ]
  },
  {
   "cell_type": "code",
   "execution_count": 3,
   "metadata": {},
   "outputs": [],
   "source": [
    "_BASE_DATA_DIR = pathlib.Path('../data')\n",
    "\n",
    "BENCHTOP_DATA_DIR = _BASE_DATA_DIR.joinpath('lora-benchtop-recording')\n",
    "DOTP_DATA_DIR = _BASE_DATA_DIR.joinpath('symbol-ref')\n",
    "DEV_DATA_DIR = _BASE_DATA_DIR.joinpath('dev-data')\n",
    "PREAM_WIN_DIR = _BASE_DATA_DIR.joinpath('lora-preamble-windows-20k')"
   ]
  },
  {
   "cell_type": "markdown",
   "metadata": {},
   "source": [
    "# load"
   ]
  },
  {
   "cell_type": "markdown",
   "metadata": {},
   "source": [
    "## dat files"
   ]
  },
  {
   "cell_type": "code",
   "execution_count": 10,
   "metadata": {
    "scrolled": true
   },
   "outputs": [
    {
     "name": "stdout",
     "output_type": "stream",
     "text": [
      "\u001b[32m2020-04-10 15:52:49.644\u001b[0m | \u001b[34m\u001b[1mDEBUG   \u001b[0m | \u001b[36mlorapy.io._base_loader\u001b[0m:\u001b[36m_validate_data_path\u001b[0m:\u001b[36m140\u001b[0m - \u001b[34m\u001b[1mset datafile directory: ../data/lora-benchtop-recording\u001b[0m\n",
      "\u001b[32m2020-04-10 15:52:49.651\u001b[0m | \u001b[1mINFO    \u001b[0m | \u001b[36mlorapy.io._base_loader\u001b[0m:\u001b[36m_process_data_dir\u001b[0m:\u001b[36m153\u001b[0m - \u001b[1mfound 110 data file(s)\u001b[0m\n"
     ]
    },
    {
     "data": {
      "text/plain": [
       "[DatFile(id=0 | name='lora_BW1_SF11_915MHz_20ksps_Att60_v0.dat'),\n",
       " DatFile(id=1 | name='lora_BW1_SF11_915MHz_20ksps_Att140_v0.dat'),\n",
       " DatFile(id=2 | name='lora_BW1_SF11_915MHz_20ksps_Att0_v0.dat'),\n",
       " DatFile(id=3 | name='lora_BW1_SF12_915MHz_20ksps_Att140_v0.dat'),\n",
       " DatFile(id=4 | name='lora_BW1_SF10_915MHz_20ksps_Att140_v0.dat'),\n",
       " DatFile(id=5 | name='lora_BW1_SF12_915MHz_20ksps_Att120_v0.dat'),\n",
       " DatFile(id=6 | name='lora_BW1_SF12_915MHz_20ksps_Att100_v0.dat'),\n",
       " DatFile(id=7 | name='lora_BW1_SF10_915MHz_20ksps_Att100_v0.dat'),\n",
       " DatFile(id=8 | name='lora_BW1_SF12_915MHz_20ksps_Att40_v0.dat'),\n",
       " DatFile(id=9 | name='lora_BW1_SF11_915MHz_20ksps_Att20_v0.dat'),\n",
       " DatFile(id=10 | name='lora_BW1_SF11_915MHz_20ksps_Att40_v0.dat'),\n",
       " DatFile(id=11 | name='lora_BW1_SF10_915MHz_20ksps_Att20_v0.dat'),\n",
       " DatFile(id=12 | name='lora_BW1_SF11_915MHz_20ksps_Att100_v0.dat'),\n",
       " DatFile(id=13 | name='lora_BW1_SF12_915MHz_20ksps_Att60_v0.dat'),\n",
       " DatFile(id=14 | name='lora_BW1_SF12_915MHz_20ksps_Att20_v0.dat'),\n",
       " DatFile(id=15 | name='lora_BW1_SF12_915MHz_20ksps_Att0_v0.dat'),\n",
       " DatFile(id=16 | name='lora_BW1_SF11_915MHz_20ksps_Att120_v0.dat'),\n",
       " DatFile(id=17 | name='lora_BW1_SF10_915MHz_20ksps_Att40_v0.dat'),\n",
       " DatFile(id=18 | name='lora_BW1_SF12_915MHz_20ksps_Att80_v0.dat'),\n",
       " DatFile(id=19 | name='lora_BW1_SF10_915MHz_20ksps_Att0_v0.dat'),\n",
       " DatFile(id=20 | name='lora_BW1_SF11_915MHz_20ksps_Att80_v0.dat'),\n",
       " DatFile(id=21 | name='lora_BW1_SF10_915MHz_20ksps_Att60_v0.dat'),\n",
       " DatFile(id=22 | name='lora_BW1_SF10_915MHz_20ksps_Att120_v0.dat'),\n",
       " DatFile(id=23 | name='lora_BW1_SF10_915MHz_20ksps_Att80_v0.dat'),\n",
       " DatFile(id=24 | name='lora_BW2_SF10_915MHz_20ksps_Att20_v0.dat'),\n",
       " DatFile(id=25 | name='lora_BW2_SF11_915MHz_20ksps_Att60_v0.dat'),\n",
       " DatFile(id=26 | name='lora_BW2_SF11_915MHz_20ksps_Att120_v0.dat'),\n",
       " DatFile(id=27 | name='lora_BW2_SF12_915MHz_20ksps_Att40_v0.dat'),\n",
       " DatFile(id=28 | name='lora_BW2_SF11_915MHz_20ksps_Att80_v0.dat'),\n",
       " DatFile(id=29 | name='lora_BW2_SF11_915MHz_20ksps_Att20_v0.dat'),\n",
       " DatFile(id=30 | name='lora_BW2_SF10_915MHz_20ksps_Att100_v0.dat'),\n",
       " DatFile(id=31 | name='lora_BW2_SF11_915MHz_20ksps_Att0_v0.dat'),\n",
       " DatFile(id=32 | name='lora_BW2_SF10_915MHz_20ksps_Att40_v0.dat'),\n",
       " DatFile(id=33 | name='lora_BW2_SF10_915MHz_20ksps_Att120_v0.dat'),\n",
       " DatFile(id=34 | name='lora_BW2_SF12_915MHz_20ksps_Att80_v0.dat'),\n",
       " DatFile(id=35 | name='lora_BW2_SF10_915MHz_20ksps_Att140_v0.dat'),\n",
       " DatFile(id=36 | name='lora_BW2_SF12_915MHz_20ksps_Att20_v0.dat'),\n",
       " DatFile(id=37 | name='lora_BW2_SF12_915MHz_20ksps_Att60_v0.dat'),\n",
       " DatFile(id=38 | name='lora_BW2_SF11_915MHz_20ksps_Att40_v0.dat'),\n",
       " DatFile(id=39 | name='lora_BW2_SF10_915MHz_20ksps_Att0_v0.dat'),\n",
       " DatFile(id=40 | name='lora_BW2_SF12_915MHz_20ksps_Att100_v0.dat'),\n",
       " DatFile(id=41 | name='lora_BW2_SF11_915MHz_20ksps_Att140_v0.dat'),\n",
       " DatFile(id=42 | name='lora_BW2_SF12_915MHz_20ksps_Att0_v0.dat'),\n",
       " DatFile(id=43 | name='lora_BW2_SF12_915MHz_20ksps_Att120_v0.dat'),\n",
       " DatFile(id=44 | name='lora_BW2_SF10_915MHz_20ksps_Att60_v0.dat'),\n",
       " DatFile(id=45 | name='lora_BW2_SF11_915MHz_20ksps_Att100_v0.dat'),\n",
       " DatFile(id=46 | name='lora_BW2_SF10_915MHz_20ksps_Att80_v0.dat'),\n",
       " DatFile(id=47 | name='lora_BW9_SF10_915MHz_20ksps_Att60_v0.dat'),\n",
       " DatFile(id=48 | name='lora_BW9_SF12_915MHz_20ksps_Att80_v0.dat'),\n",
       " DatFile(id=49 | name='lora_BW9_SF10_915MHz_20ksps_Att0_v0.dat'),\n",
       " DatFile(id=50 | name='lora_BW9_SF12_915MHz_20ksps_Att120_v0.dat'),\n",
       " DatFile(id=51 | name='lora_BW9_SF11_915MHz_20ksps_Att60_v0.dat'),\n",
       " DatFile(id=52 | name='lora_BW9_SF11_915MHz_20ksps_Att100_v0.dat'),\n",
       " DatFile(id=53 | name='lora_BW9_SF10_915MHz_20ksps_Att20_v0.dat'),\n",
       " DatFile(id=54 | name='lora_BW9_SF12_915MHz_20ksps_Att100_v0.dat'),\n",
       " DatFile(id=55 | name='lora_BW9_SF10_915MHz_20ksps_Att100_v0.dat'),\n",
       " DatFile(id=56 | name='lora_BW9_SF12_915MHz_20ksps_Att0_v0.dat'),\n",
       " DatFile(id=57 | name='lora_BW9_SF12_915MHz_20ksps_Att60_v0.dat'),\n",
       " DatFile(id=58 | name='lora_BW9_SF12_915MHz_20ksps_Att40_v0.dat'),\n",
       " DatFile(id=59 | name='lora_BW9_SF11_915MHz_20ksps_Att40_v0.dat'),\n",
       " DatFile(id=60 | name='lora_BW9_SF12_915MHz_20ksps_Att20_v0.dat'),\n",
       " DatFile(id=61 | name='lora_BW9_SF10_915MHz_20ksps_Att120_v0.dat'),\n",
       " DatFile(id=62 | name='lora_BW9_SF11_915MHz_20ksps_Att80_v0.dat'),\n",
       " DatFile(id=63 | name='lora_BW9_SF10_915MHz_20ksps_Att40_v0.dat'),\n",
       " DatFile(id=64 | name='lora_BW9_SF10_915MHz_20ksps_Att80_v0.dat'),\n",
       " DatFile(id=65 | name='lora_BW9_SF11_915MHz_20ksps_Att20_v0.dat'),\n",
       " DatFile(id=66 | name='lora_BW9_SF11_915MHz_20ksps_Att120_v0.dat'),\n",
       " DatFile(id=67 | name='lora_BW9_SF11_915MHz_20ksps_Att0_v0.dat'),\n",
       " DatFile(id=68 | name='lora_BW7_SF12_915MHz_20ksps_Att60_v0.dat'),\n",
       " DatFile(id=69 | name='lora_BW7_SF10_915MHz_20ksps_Att100_v0.dat'),\n",
       " DatFile(id=70 | name='lora_BW7_SF10_915MHz_20ksps_Att20_v0.dat'),\n",
       " DatFile(id=71 | name='lora_BW7_SF10_915MHz_20ksps_Att40_v0.dat'),\n",
       " DatFile(id=72 | name='lora_BW7_SF11_915MHz_20ksps_Att120_v0.dat'),\n",
       " DatFile(id=73 | name='lora_BW7_SF12_915MHz_20ksps_Att100_v0.dat'),\n",
       " DatFile(id=74 | name='lora_BW7_SF10_915MHz_20ksps_Att80_v0.dat'),\n",
       " DatFile(id=75 | name='lora_BW7_SF11_915MHz_20ksps_Att100_v0.dat'),\n",
       " DatFile(id=76 | name='lora_BW7_SF10_915MHz_20ksps_Att60_v0.dat'),\n",
       " DatFile(id=77 | name='lora_BW7_SF10_915MHz_20ksps_Att0_v0.dat'),\n",
       " DatFile(id=78 | name='lora_BW7_SF12_915MHz_20ksps_Att20_v0.dat'),\n",
       " DatFile(id=79 | name='lora_BW7_SF11_915MHz_20ksps_Att40_v0.dat'),\n",
       " DatFile(id=80 | name='lora_BW7_SF12_915MHz_20ksps_Att120_v0.dat'),\n",
       " DatFile(id=81 | name='lora_BW7_SF12_915MHz_20ksps_Att80_v0.dat'),\n",
       " DatFile(id=82 | name='lora_BW7_SF10_915MHz_20ksps_Att120_v0.dat'),\n",
       " DatFile(id=83 | name='lora_BW7_SF11_915MHz_20ksps_Att0_v0.dat'),\n",
       " DatFile(id=84 | name='lora_BW7_SF11_915MHz_20ksps_Att20_v0.dat'),\n",
       " DatFile(id=85 | name='lora_BW7_SF11_915MHz_20ksps_Att60_v0.dat'),\n",
       " DatFile(id=86 | name='lora_BW7_SF11_915MHz_20ksps_Att80_v0.dat'),\n",
       " DatFile(id=87 | name='lora_BW7_SF12_915MHz_20ksps_Att0_v0.dat'),\n",
       " DatFile(id=88 | name='lora_BW7_SF12_915MHz_20ksps_Att40_v0.dat'),\n",
       " DatFile(id=89 | name='lora_BW8_SF12_915MHz_20ksps_Att0_v0.dat'),\n",
       " DatFile(id=90 | name='lora_BW8_SF11_915MHz_20ksps_Att0_v0.dat'),\n",
       " DatFile(id=91 | name='lora_BW8_SF12_915MHz_20ksps_Att100_v0.dat'),\n",
       " DatFile(id=92 | name='lora_BW8_SF10_915MHz_20ksps_Att60_v0.dat'),\n",
       " DatFile(id=93 | name='lora_BW8_SF12_915MHz_20ksps_Att20_v0.dat'),\n",
       " DatFile(id=94 | name='lora_BW8_SF11_915MHz_20ksps_Att100_v0.dat'),\n",
       " DatFile(id=95 | name='lora_BW8_SF11_915MHz_20ksps_Att60_v0.dat'),\n",
       " DatFile(id=96 | name='lora_BW8_SF10_915MHz_20ksps_Att100_v0.dat'),\n",
       " DatFile(id=97 | name='lora_BW8_SF11_915MHz_20ksps_Att80_v0.dat'),\n",
       " DatFile(id=98 | name='lora_BW8_SF11_915MHz_20ksps_Att40_v0.dat'),\n",
       " DatFile(id=99 | name='lora_BW8_SF12_915MHz_20ksps_Att40_v0.dat'),\n",
       " DatFile(id=100 | name='lora_BW8_SF10_915MHz_20ksps_Att80_v0.dat'),\n",
       " DatFile(id=101 | name='lora_BW8_SF10_915MHz_20ksps_Att40_v0.dat'),\n",
       " DatFile(id=102 | name='lora_BW8_SF12_915MHz_20ksps_Att120_v0.dat'),\n",
       " DatFile(id=103 | name='lora_BW8_SF11_915MHz_20ksps_Att120_v0.dat'),\n",
       " DatFile(id=104 | name='lora_BW8_SF12_915MHz_20ksps_Att60_v0.dat'),\n",
       " DatFile(id=105 | name='lora_BW8_SF10_915MHz_20ksps_Att20_v0.dat'),\n",
       " DatFile(id=106 | name='lora_BW8_SF11_915MHz_20ksps_Att20_v0.dat'),\n",
       " DatFile(id=107 | name='lora_BW8_SF10_915MHz_20ksps_Att0_v0.dat'),\n",
       " DatFile(id=108 | name='lora_BW8_SF12_915MHz_20ksps_Att80_v0.dat'),\n",
       " DatFile(id=109 | name='lora_BW8_SF10_915MHz_20ksps_Att120_v0.dat')]"
      ]
     },
     "execution_count": 10,
     "metadata": {},
     "output_type": "execute_result"
    }
   ],
   "source": [
    "loader = lorapy.load_dat(BENCHTOP_DATA_DIR, autoload=True)\n",
    "loader.file_list"
   ]
  },
  {
   "cell_type": "markdown",
   "metadata": {},
   "source": [
    "## dotp files"
   ]
  },
  {
   "cell_type": "code",
   "execution_count": 5,
   "metadata": {
    "scrolled": true
   },
   "outputs": [
    {
     "name": "stdout",
     "output_type": "stream",
     "text": [
      "\u001b[32m2020-04-10 15:52:35.074\u001b[0m | \u001b[34m\u001b[1mDEBUG   \u001b[0m | \u001b[36mlorapy.io._base_loader\u001b[0m:\u001b[36m_validate_data_path\u001b[0m:\u001b[36m140\u001b[0m - \u001b[34m\u001b[1mset datafile directory: ../data/symbol-ref\u001b[0m\n",
      "\u001b[32m2020-04-10 15:52:35.076\u001b[0m | \u001b[1mINFO    \u001b[0m | \u001b[36mlorapy.io._base_loader\u001b[0m:\u001b[36m_process_data_dir\u001b[0m:\u001b[36m153\u001b[0m - \u001b[1mfound 15 data file(s)\u001b[0m\n"
     ]
    },
    {
     "data": {
      "text/plain": [
       "[DotPFile(id=0 | name='lora_BW1_SF10_915MHz_20ksps_Att0_v0.p'),\n",
       " DotPFile(id=1 | name='lora_BW1_SF12_915MHz_20ksps_Att0_v0.p'),\n",
       " DotPFile(id=2 | name='lora_BW9_SF12_915MHz_20ksps_Att0_v0.p'),\n",
       " DotPFile(id=3 | name='lora_BW2_SF10_915MHz_20ksps_Att0_v0.p'),\n",
       " DotPFile(id=4 | name='lora_BW9_SF11_915MHz_20ksps_Att0_v0.p'),\n",
       " DotPFile(id=5 | name='lora_BW2_SF12_915MHz_20ksps_Att0_v0.p'),\n",
       " DotPFile(id=6 | name='lora_BW8_SF12_915MHz_20ksps_Att0_v0.p'),\n",
       " DotPFile(id=7 | name='lora_BW7_SF10_915MHz_20ksps_Att0_v0.p'),\n",
       " DotPFile(id=8 | name='lora_BW8_SF11_915MHz_20ksps_Att0_v0.p'),\n",
       " DotPFile(id=9 | name='lora_BW8_SF10_915MHz_20ksps_Att0_v0.p'),\n",
       " DotPFile(id=10 | name='lora_BW1_SF11_915MHz_20ksps_Att0_v0.p'),\n",
       " DotPFile(id=11 | name='lora_BW2_SF11_915MHz_20ksps_Att0_v0.p'),\n",
       " DotPFile(id=12 | name='lora_BW9_SF10_915MHz_20ksps_Att0_v0.p'),\n",
       " DotPFile(id=13 | name='lora_BW7_SF12_915MHz_20ksps_Att0_v0.p'),\n",
       " DotPFile(id=14 | name='lora_BW7_SF11_915MHz_20ksps_Att0_v0.p')]"
      ]
     },
     "execution_count": 5,
     "metadata": {},
     "output_type": "execute_result"
    }
   ],
   "source": [
    "ploader = lorapy.load_dotp(DOTP_DATA_DIR)\n",
    "ploader.file_list"
   ]
  },
  {
   "cell_type": "code",
   "execution_count": null,
   "metadata": {},
   "outputs": [],
   "source": []
  },
  {
   "cell_type": "markdown",
   "metadata": {},
   "source": [
    "# process "
   ]
  },
  {
   "cell_type": "markdown",
   "metadata": {},
   "source": [
    "## symbol correlation settings"
   ]
  },
  {
   "cell_type": "code",
   "execution_count": 6,
   "metadata": {},
   "outputs": [],
   "source": [
    "_step_dict = {\n",
    "    1: 100,\n",
    "    2: 100,\n",
    "    7: 4,\n",
    "    8: 2,\n",
    "    9: 2,\n",
    "}"
   ]
  },
  {
   "cell_type": "markdown",
   "metadata": {},
   "source": [
    "## functions"
   ]
  },
  {
   "cell_type": "code",
   "execution_count": 7,
   "metadata": {},
   "outputs": [],
   "source": [
    "def _load_matching_dotp(bw: int, sf: int):\n",
    "    return ploader.filter(bw=bw, sf=sf)[0]\n",
    "\n",
    "def _convert_files(file, dotp_file):\n",
    "    return file.to_signal(), dotp_file.to_signal()\n",
    "\n",
    "\n",
    "def _load_and_convert(file):\n",
    "    file.load()\n",
    "    dotp_file = _load_matching_dotp(file.bw, file.sf)\n",
    "    \n",
    "    signal, base_symbol = _convert_files(file, dotp_file)\n",
    "    \n",
    "    return signal, base_symbol\n",
    "\n",
    "\n",
    "def _extract_and_manual_adjust(signal):\n",
    "    signal.extract_packets(method='slide-mean', auto_adj=False, overlap=0.5)\n",
    "    signal.adjust_packets(\n",
    "        force_check=True, \n",
    "        adjust_type='biased-mean', \n",
    "        look_ahead=10, threshold=0.5,\n",
    "    )\n",
    "    \n",
    "    return signal\n",
    "\n",
    "\n",
    "def _format_output_path(base_dir, signal):\n",
    "    filename = pathlib.Path(signal.stats.filename)\n",
    "    \n",
    "    out_path = base_dir.joinpath(\n",
    "        'processed-symbols'\n",
    "    ).joinpath(\n",
    "        filename.with_suffix('').with_suffix('.p')\n",
    "    )\n",
    "    \n",
    "    return out_path\n",
    "\n",
    "\n",
    "def _save_symbols(data, signal, base_dir):\n",
    "    out_path = _format_output_path(base_dir, signal)\n",
    "    \n",
    "    with out_path.open('wb') as outfile:\n",
    "        cPickle.dump(data, outfile)\n",
    "\n",
    "        \n",
    "def _extract_symbols(packet):\n",
    "    packet.extract_preamble_window()\n",
    "    return packet._preamble_window\n",
    "\n",
    "\n",
    "def _extract_and_save_symbols(packets):\n",
    "    full_array = np.vstack([\n",
    "        _extract_symbols(packet)\n",
    "        for packet in packets\n",
    "    ])\n",
    "    \n",
    "    packet = packets[0]\n",
    "    _save_symbols(full_array, packet)\n",
    "        \n",
    "\n",
    "def _get_correlation_values(base_symbol, preamble, samp_per_sym, shift_step):\n",
    "    shifts = sym_utils.generate_shifts(\n",
    "        samp_per_sym, range_factor=10, step=shift_step,\n",
    "    )\n",
    "    \n",
    "    corr_vals = sym_utils.shift_and_correlate(\n",
    "        base_symbol.data, preamble, samp_per_sym, shifts,\n",
    "    ) \n",
    "    \n",
    "    return corr_vals\n",
    "\n",
    "def _get_adjusted_distance(samp_per_sym, shift_step):\n",
    "    distance = int(samp_per_sym // shift_step)\n",
    "    distance *= 0.90 \n",
    "    return distance\n",
    "\n",
    "\n",
    "def _find_peaks(corr_vals, samp_per_sym, shift_step):\n",
    "    adjusted_dist = _get_adjusted_distance(samp_per_sym, shift_step)\n",
    "    \n",
    "    peaks = spsig.find_peaks(\n",
    "        corr_vals, \n",
    "        distance=adjusted_dist,\n",
    "    )[0]\n",
    "    \n",
    "    return peaks \n",
    "\n",
    "\n",
    "def _corr_sanity_plot(corr_vals, peaks):\n",
    "    symbol_strips = [\n",
    "        np.max(corr_vals) * 1.1 if idx in peaks else 0\n",
    "        for idx, _ in enumerate([0] * len(corr_vals))\n",
    "    ]\n",
    "    \n",
    "    fig, axs = plt.subplots(2)\n",
    "    axs[0].plot(corr_vals)\n",
    "    axs[1].plot(corr_vals)\n",
    "    axs[1].plot(symbol_strips)\n",
    "    plt.show()\n",
    "\n",
    "    \n",
    "def _extract_symbols_from_peaks(packet_data: np.ndarray, peak_shifts: list, samp_per_sym: int) -> np.ndarray:\n",
    "    symbols = np.vstack([\n",
    "        packet_data[shift: shift+samp_per_sym]\n",
    "        for shift in peak_shifts\n",
    "    ])\n",
    "    \n",
    "    return symbols\n",
    "        \n",
    "\n",
    "def _sanity_plot(symbols):\n",
    "    with warnings.catch_warnings():\n",
    "        warnings.simplefilter(\"ignore\")\n",
    "        fig, ax = plt.subplots(symbols.shape[0])\n",
    "\n",
    "        for idx, sym in enumerate(symbols):\n",
    "            ax[idx].plot(sym)\n",
    "\n",
    "\n",
    "def correlate_and_slice(packet, base_symbol, save_sanity=False):\n",
    "    samp_per_sym, shift_step = packet.stats.samp_per_sym, _step_dict[packet.stats.bw]\n",
    "    \n",
    "    shifts = sym_utils.generate_shifts(\n",
    "        samp_per_sym, range_factor=10, step=shift_step,\n",
    "    )\n",
    "\n",
    "    corr_vals = sym_utils.shift_and_correlate(\n",
    "        base_symbol, packet.data, samp_per_sym, shifts,\n",
    "    ) \n",
    "    \n",
    "    peaks = _find_peaks(corr_vals, samp_per_sym, shift_step)\n",
    "    \n",
    "    shifts = list(shifts)\n",
    "    peak_shifts = [shifts[peak] for peak in peaks]\n",
    "    \n",
    "    symbols = _extract_symbols_from_peaks(packet.data, peak_shifts, samp_per_sym)\n",
    "    \n",
    "    if save_sanity:\n",
    "        _sanity_plot(symbols)\n",
    "    \n",
    "    return symbols\n",
    "\n",
    "\n",
    "\n",
    "def slice_all_packets(packets, symbol_data):\n",
    "    six_symbol_data = np.concatenate([symbol_data] * 6)\n",
    "    corr_slice = partial(correlate_and_slice, base_symbol=six_symbol_data)\n",
    "    \n",
    "    with multiprocessing.Pool() as pool:\n",
    "        results = pool.map(corr_slice, packets)\n",
    "        \n",
    "    return np.vstack(results)\n",
    "\n",
    "def process_and_save(file):\n",
    "    signal, base_symbol = _load_and_convert(file)\n",
    "    signal = _extract_and_manual_adjust(signal)\n",
    "    results = slice_all_packets(signal.packets, base_symbol.data)\n",
    "    \n",
    "    _save_symbols(results, signal, _BASE_DATA_DIR)\n",
    "    "
   ]
  },
  {
   "cell_type": "markdown",
   "metadata": {},
   "source": [
    "# manual process"
   ]
  },
  {
   "cell_type": "code",
   "execution_count": 11,
   "metadata": {},
   "outputs": [
    {
     "data": {
      "text/plain": [
       "[DatFile(id=0 | name='lora_BW1_SF11_915MHz_20ksps_Att60_v0.dat'),\n",
       " DatFile(id=1 | name='lora_BW1_SF11_915MHz_20ksps_Att140_v0.dat'),\n",
       " DatFile(id=2 | name='lora_BW1_SF11_915MHz_20ksps_Att0_v0.dat'),\n",
       " DatFile(id=3 | name='lora_BW1_SF12_915MHz_20ksps_Att140_v0.dat'),\n",
       " DatFile(id=4 | name='lora_BW1_SF10_915MHz_20ksps_Att140_v0.dat')]"
      ]
     },
     "execution_count": 11,
     "metadata": {},
     "output_type": "execute_result"
    }
   ],
   "source": [
    "loader.file_list[:5]"
   ]
  },
  {
   "cell_type": "markdown",
   "metadata": {},
   "source": [
    "## setup"
   ]
  },
  {
   "cell_type": "code",
   "execution_count": 12,
   "metadata": {},
   "outputs": [
    {
     "name": "stdout",
     "output_type": "stream",
     "text": [
      "\u001b[32m2020-04-10 15:53:11.766\u001b[0m | \u001b[33m\u001b[1mWARNING \u001b[0m | \u001b[36m__main__\u001b[0m:\u001b[36m<module>\u001b[0m:\u001b[36m5\u001b[0m - \u001b[33m\u001b[1mworking file: DatFile(id=0 | name='lora_BW1_SF11_915MHz_20ksps_Att60_v0.dat')\u001b[0m\n",
      "\u001b[32m2020-04-10 15:53:11.768\u001b[0m | \u001b[34m\u001b[1mDEBUG   \u001b[0m | \u001b[36mlorapy.datafile.encoding\u001b[0m:\u001b[36mcompute_params\u001b[0m:\u001b[36m15\u001b[0m - \u001b[34m\u001b[1mcomputed samples per symbol: 38396 and packet length: 1161479\u001b[0m\n",
      "\u001b[32m2020-04-10 15:53:12.066\u001b[0m | \u001b[1mINFO    \u001b[0m | \u001b[36mlorapy.datafile._base_file\u001b[0m:\u001b[36mload\u001b[0m:\u001b[36m61\u001b[0m - \u001b[1mloaded 26126336 samples from file\u001b[0m\n",
      "\u001b[32m2020-04-10 15:53:12.068\u001b[0m | \u001b[34m\u001b[1mDEBUG   \u001b[0m | \u001b[36mlorapy.datafile.encoding\u001b[0m:\u001b[36mcompute_params\u001b[0m:\u001b[36m15\u001b[0m - \u001b[34m\u001b[1mcomputed samples per symbol: 38396 and packet length: 1161479\u001b[0m\n",
      "\u001b[32m2020-04-10 15:53:12.070\u001b[0m | \u001b[1mINFO    \u001b[0m | \u001b[36mlorapy.datafile._base_file\u001b[0m:\u001b[36mload\u001b[0m:\u001b[36m61\u001b[0m - \u001b[1mloaded 38395 samples from file\u001b[0m\n",
      "\u001b[32m2020-04-10 15:53:12.071\u001b[0m | \u001b[1mINFO    \u001b[0m | \u001b[36mlorapy.signals.signal\u001b[0m:\u001b[36m_process_signal\u001b[0m:\u001b[36m116\u001b[0m - \u001b[1mselected \"slide-mean\" processing method\u001b[0m\n",
      "\u001b[32m2020-04-10 15:53:12.140\u001b[0m | \u001b[1mINFO    \u001b[0m | \u001b[36mlorapy.signals.processing.sliding_mean\u001b[0m:\u001b[36m_find_all_mindices\u001b[0m:\u001b[36m55\u001b[0m - \u001b[1mscanning signal for padding locations..\u001b[0m\n",
      "\u001b[32m2020-04-10 15:53:12.141\u001b[0m | \u001b[34m\u001b[1mDEBUG   \u001b[0m | \u001b[36mlorapy.signals.processing.sliding_mean\u001b[0m:\u001b[36m_find_all_mindices\u001b[0m:\u001b[36m59\u001b[0m - \u001b[34m\u001b[1miteration 0\u001b[0m\n",
      "\u001b[32m2020-04-10 15:53:12.457\u001b[0m | \u001b[34m\u001b[1mDEBUG   \u001b[0m | \u001b[36mlorapy.signals.processing.sliding_mean\u001b[0m:\u001b[36m_scan_slice\u001b[0m:\u001b[36m92\u001b[0m - \u001b[34m\u001b[1mreached end of signal\u001b[0m\n",
      "\u001b[32m2020-04-10 15:53:12.459\u001b[0m | \u001b[34m\u001b[1mDEBUG   \u001b[0m | \u001b[36mlorapy.signals.processing.utils\u001b[0m:\u001b[36mclean_index_list\u001b[0m:\u001b[36m24\u001b[0m - \u001b[34m\u001b[1mfound 0 false indexes\u001b[0m\n",
      "\u001b[32m2020-04-10 15:53:12.459\u001b[0m | \u001b[1mINFO    \u001b[0m | \u001b[36mlorapy.signals.processing.sliding_mean\u001b[0m:\u001b[36m_find_all_mindices\u001b[0m:\u001b[36m70\u001b[0m - \u001b[1mfound [21 // 21] packet locations\u001b[0m\n",
      "\u001b[32m2020-04-10 15:53:12.461\u001b[0m | \u001b[34m\u001b[1mDEBUG   \u001b[0m | \u001b[36mlorapy.packets.utils\u001b[0m:\u001b[36mslice_all_packets\u001b[0m:\u001b[36m21\u001b[0m - \u001b[34m\u001b[1mgot max packet length: 1161479\u001b[0m\n",
      "\u001b[32m2020-04-10 15:53:12.590\u001b[0m | \u001b[1mINFO    \u001b[0m | \u001b[36mlorapy.packets.utils\u001b[0m:\u001b[36mslice_all_packets\u001b[0m:\u001b[36m28\u001b[0m - \u001b[1mextracted 21 packets from signal\u001b[0m\n",
      "\u001b[32m2020-04-10 15:53:12.592\u001b[0m | \u001b[34m\u001b[1mDEBUG   \u001b[0m | \u001b[36mlorapy.signals.signal\u001b[0m:\u001b[36m_slice_and_load\u001b[0m:\u001b[36m65\u001b[0m - \u001b[34m\u001b[1mloaded 21 lora packets\u001b[0m\n",
      "\u001b[32m2020-04-10 15:53:12.592\u001b[0m | \u001b[33m\u001b[1mWARNING \u001b[0m | \u001b[36mlorapy.signals.signal\u001b[0m:\u001b[36madjust_packets\u001b[0m:\u001b[36m78\u001b[0m - \u001b[33m\u001b[1mmultiprocessing packet adjustment..\u001b[0m\n",
      "\u001b[32m2020-04-10 15:53:12.790\u001b[0m | \u001b[34m\u001b[1mDEBUG   \u001b[0m | \u001b[36mlorapy.signals.signal\u001b[0m:\u001b[36m_adjust_endpoints\u001b[0m:\u001b[36m96\u001b[0m - \u001b[34m\u001b[1madjusted endpoints\u001b[0m\n",
      "\u001b[32m2020-04-10 15:53:12.792\u001b[0m | \u001b[34m\u001b[1mDEBUG   \u001b[0m | \u001b[36mlorapy.packets.utils\u001b[0m:\u001b[36mslice_all_packets\u001b[0m:\u001b[36m21\u001b[0m - \u001b[34m\u001b[1mgot max packet length: 1161479\u001b[0m\n",
      "\u001b[32m2020-04-10 15:53:12.909\u001b[0m | \u001b[1mINFO    \u001b[0m | \u001b[36mlorapy.packets.utils\u001b[0m:\u001b[36mslice_all_packets\u001b[0m:\u001b[36m28\u001b[0m - \u001b[1mextracted 21 packets from signal\u001b[0m\n",
      "\u001b[32m2020-04-10 15:53:12.910\u001b[0m | \u001b[34m\u001b[1mDEBUG   \u001b[0m | \u001b[36mlorapy.signals.signal\u001b[0m:\u001b[36m_slice_and_load\u001b[0m:\u001b[36m65\u001b[0m - \u001b[34m\u001b[1mloaded 21 lora packets\u001b[0m\n",
      "\u001b[32m2020-04-10 15:55:51.446\u001b[0m | \u001b[33m\u001b[1mWARNING \u001b[0m | \u001b[36m__main__\u001b[0m:\u001b[36m<module>\u001b[0m:\u001b[36m5\u001b[0m - \u001b[33m\u001b[1mworking file: DatFile(id=1 | name='lora_BW1_SF11_915MHz_20ksps_Att140_v0.dat')\u001b[0m\n",
      "\u001b[32m2020-04-10 15:55:51.451\u001b[0m | \u001b[34m\u001b[1mDEBUG   \u001b[0m | \u001b[36mlorapy.datafile.encoding\u001b[0m:\u001b[36mcompute_params\u001b[0m:\u001b[36m15\u001b[0m - \u001b[34m\u001b[1mcomputed samples per symbol: 38396 and packet length: 1161479\u001b[0m\n",
      "\u001b[32m2020-04-10 15:55:51.614\u001b[0m | \u001b[1mINFO    \u001b[0m | \u001b[36mlorapy.datafile._base_file\u001b[0m:\u001b[36mload\u001b[0m:\u001b[36m61\u001b[0m - \u001b[1mloaded 27838464 samples from file\u001b[0m\n",
      "\u001b[32m2020-04-10 15:55:51.617\u001b[0m | \u001b[34m\u001b[1mDEBUG   \u001b[0m | \u001b[36mlorapy.datafile.encoding\u001b[0m:\u001b[36mcompute_params\u001b[0m:\u001b[36m15\u001b[0m - \u001b[34m\u001b[1mcomputed samples per symbol: 38396 and packet length: 1161479\u001b[0m\n",
      "\u001b[32m2020-04-10 15:55:51.619\u001b[0m | \u001b[1mINFO    \u001b[0m | \u001b[36mlorapy.datafile._base_file\u001b[0m:\u001b[36mload\u001b[0m:\u001b[36m61\u001b[0m - \u001b[1mloaded 38395 samples from file\u001b[0m\n",
      "\u001b[32m2020-04-10 15:55:51.620\u001b[0m | \u001b[1mINFO    \u001b[0m | \u001b[36mlorapy.signals.signal\u001b[0m:\u001b[36m_process_signal\u001b[0m:\u001b[36m116\u001b[0m - \u001b[1mselected \"slide-mean\" processing method\u001b[0m\n",
      "\u001b[32m2020-04-10 15:55:51.705\u001b[0m | \u001b[1mINFO    \u001b[0m | \u001b[36mlorapy.signals.processing.sliding_mean\u001b[0m:\u001b[36m_find_all_mindices\u001b[0m:\u001b[36m55\u001b[0m - \u001b[1mscanning signal for padding locations..\u001b[0m\n",
      "\u001b[32m2020-04-10 15:55:51.706\u001b[0m | \u001b[34m\u001b[1mDEBUG   \u001b[0m | \u001b[36mlorapy.signals.processing.sliding_mean\u001b[0m:\u001b[36m_find_all_mindices\u001b[0m:\u001b[36m59\u001b[0m - \u001b[34m\u001b[1miteration 0\u001b[0m\n",
      "\u001b[32m2020-04-10 15:55:52.105\u001b[0m | \u001b[34m\u001b[1mDEBUG   \u001b[0m | \u001b[36mlorapy.signals.processing.sliding_mean\u001b[0m:\u001b[36m_scan_slice\u001b[0m:\u001b[36m92\u001b[0m - \u001b[34m\u001b[1mreached end of signal\u001b[0m\n",
      "\u001b[32m2020-04-10 15:55:52.106\u001b[0m | \u001b[34m\u001b[1mDEBUG   \u001b[0m | \u001b[36mlorapy.signals.processing.utils\u001b[0m:\u001b[36mclean_index_list\u001b[0m:\u001b[36m24\u001b[0m - \u001b[34m\u001b[1mfound 0 false indexes\u001b[0m\n",
      "\u001b[32m2020-04-10 15:55:52.107\u001b[0m | \u001b[1mINFO    \u001b[0m | \u001b[36mlorapy.signals.processing.sliding_mean\u001b[0m:\u001b[36m_find_all_mindices\u001b[0m:\u001b[36m70\u001b[0m - \u001b[1mfound [23 // 23] packet locations\u001b[0m\n",
      "\u001b[32m2020-04-10 15:55:52.109\u001b[0m | \u001b[34m\u001b[1mDEBUG   \u001b[0m | \u001b[36mlorapy.packets.utils\u001b[0m:\u001b[36mslice_all_packets\u001b[0m:\u001b[36m21\u001b[0m - \u001b[34m\u001b[1mgot max packet length: 1161479\u001b[0m\n",
      "\u001b[32m2020-04-10 15:55:52.215\u001b[0m | \u001b[1mINFO    \u001b[0m | \u001b[36mlorapy.packets.utils\u001b[0m:\u001b[36mslice_all_packets\u001b[0m:\u001b[36m28\u001b[0m - \u001b[1mextracted 23 packets from signal\u001b[0m\n",
      "\u001b[32m2020-04-10 15:55:52.218\u001b[0m | \u001b[34m\u001b[1mDEBUG   \u001b[0m | \u001b[36mlorapy.signals.signal\u001b[0m:\u001b[36m_slice_and_load\u001b[0m:\u001b[36m65\u001b[0m - \u001b[34m\u001b[1mloaded 23 lora packets\u001b[0m\n",
      "\u001b[32m2020-04-10 15:55:52.219\u001b[0m | \u001b[33m\u001b[1mWARNING \u001b[0m | \u001b[36mlorapy.signals.signal\u001b[0m:\u001b[36madjust_packets\u001b[0m:\u001b[36m78\u001b[0m - \u001b[33m\u001b[1mmultiprocessing packet adjustment..\u001b[0m\n",
      "\u001b[32m2020-04-10 15:55:52.492\u001b[0m | \u001b[34m\u001b[1mDEBUG   \u001b[0m | \u001b[36mlorapy.signals.signal\u001b[0m:\u001b[36m_adjust_endpoints\u001b[0m:\u001b[36m96\u001b[0m - \u001b[34m\u001b[1madjusted endpoints\u001b[0m\n",
      "\u001b[32m2020-04-10 15:55:52.494\u001b[0m | \u001b[34m\u001b[1mDEBUG   \u001b[0m | \u001b[36mlorapy.packets.utils\u001b[0m:\u001b[36mslice_all_packets\u001b[0m:\u001b[36m21\u001b[0m - \u001b[34m\u001b[1mgot max packet length: 1161479\u001b[0m\n",
      "\u001b[32m2020-04-10 15:55:52.603\u001b[0m | \u001b[1mINFO    \u001b[0m | \u001b[36mlorapy.packets.utils\u001b[0m:\u001b[36mslice_all_packets\u001b[0m:\u001b[36m28\u001b[0m - \u001b[1mextracted 23 packets from signal\u001b[0m\n",
      "\u001b[32m2020-04-10 15:55:52.605\u001b[0m | \u001b[34m\u001b[1mDEBUG   \u001b[0m | \u001b[36mlorapy.signals.signal\u001b[0m:\u001b[36m_slice_and_load\u001b[0m:\u001b[36m65\u001b[0m - \u001b[34m\u001b[1mloaded 23 lora packets\u001b[0m\n"
     ]
    },
    {
     "name": "stderr",
     "output_type": "stream",
     "text": [
      "Process ForkPoolWorker-63:\n",
      "Process ForkPoolWorker-60:\n",
      "Process ForkPoolWorker-53:\n",
      "Process ForkPoolWorker-61:\n",
      "Process ForkPoolWorker-52:\n",
      "Process ForkPoolWorker-62:\n",
      "Process ForkPoolWorker-49:\n",
      "Process ForkPoolWorker-50:\n",
      "Process ForkPoolWorker-51:\n",
      "Process ForkPoolWorker-64:\n",
      "Process ForkPoolWorker-59:\n",
      "Process ForkPoolWorker-55:\n",
      "Process ForkPoolWorker-57:\n",
      "Process ForkPoolWorker-56:\n",
      "Traceback (most recent call last):\n",
      "Traceback (most recent call last):\n",
      "Traceback (most recent call last):\n",
      "Traceback (most recent call last):\n",
      "Process ForkPoolWorker-54:\n",
      "Traceback (most recent call last):\n",
      "Traceback (most recent call last):\n",
      "Traceback (most recent call last):\n",
      "Traceback (most recent call last):\n",
      "Traceback (most recent call last):\n",
      "Traceback (most recent call last):\n",
      "Traceback (most recent call last):\n",
      "Traceback (most recent call last):\n",
      "  File \"/opt/conda/lib/python3.7/multiprocessing/process.py\", line 297, in _bootstrap\n",
      "    self.run()\n",
      "Traceback (most recent call last):\n",
      "  File \"/opt/conda/lib/python3.7/multiprocessing/process.py\", line 297, in _bootstrap\n",
      "    self.run()\n",
      "  File \"/opt/conda/lib/python3.7/multiprocessing/process.py\", line 297, in _bootstrap\n",
      "    self.run()\n",
      "  File \"/opt/conda/lib/python3.7/multiprocessing/process.py\", line 297, in _bootstrap\n",
      "    self.run()\n",
      "Traceback (most recent call last):\n",
      "  File \"/opt/conda/lib/python3.7/multiprocessing/process.py\", line 297, in _bootstrap\n",
      "    self.run()\n",
      "  File \"/opt/conda/lib/python3.7/multiprocessing/process.py\", line 297, in _bootstrap\n",
      "    self.run()\n",
      "Traceback (most recent call last):\n",
      "  File \"/opt/conda/lib/python3.7/multiprocessing/process.py\", line 99, in run\n",
      "    self._target(*self._args, **self._kwargs)\n",
      "  File \"/opt/conda/lib/python3.7/multiprocessing/process.py\", line 297, in _bootstrap\n",
      "    self.run()\n",
      "  File \"/opt/conda/lib/python3.7/multiprocessing/process.py\", line 297, in _bootstrap\n",
      "    self.run()\n",
      "  File \"/opt/conda/lib/python3.7/multiprocessing/process.py\", line 99, in run\n",
      "    self._target(*self._args, **self._kwargs)\n",
      "  File \"/opt/conda/lib/python3.7/multiprocessing/process.py\", line 99, in run\n",
      "    self._target(*self._args, **self._kwargs)\n",
      "  File \"/opt/conda/lib/python3.7/multiprocessing/process.py\", line 99, in run\n",
      "    self._target(*self._args, **self._kwargs)\n",
      "  File \"/opt/conda/lib/python3.7/multiprocessing/process.py\", line 99, in run\n",
      "    self._target(*self._args, **self._kwargs)\n",
      "  File \"/opt/conda/lib/python3.7/multiprocessing/process.py\", line 99, in run\n",
      "    self._target(*self._args, **self._kwargs)\n",
      "  File \"/opt/conda/lib/python3.7/multiprocessing/process.py\", line 297, in _bootstrap\n",
      "    self.run()\n",
      "Process ForkPoolWorker-58:\n"
     ]
    },
    {
     "ename": "KeyboardInterrupt",
     "evalue": "",
     "output_type": "error",
     "traceback": [
      "\u001b[0;31m---------------------------------------------------------------------------\u001b[0m",
      "\u001b[0;31mKeyboardInterrupt\u001b[0m                         Traceback (most recent call last)",
      "\u001b[0;32m<ipython-input-12-0b4a79ff073b>\u001b[0m in \u001b[0;36m<module>\u001b[0;34m\u001b[0m\n\u001b[1;32m      5\u001b[0m     \u001b[0mlogger\u001b[0m\u001b[0;34m.\u001b[0m\u001b[0mwarning\u001b[0m\u001b[0;34m(\u001b[0m\u001b[0;34mf'working file: {file}'\u001b[0m\u001b[0;34m)\u001b[0m\u001b[0;34m\u001b[0m\u001b[0;34m\u001b[0m\u001b[0m\n\u001b[1;32m      6\u001b[0m     \u001b[0;32mtry\u001b[0m\u001b[0;34m:\u001b[0m\u001b[0;34m\u001b[0m\u001b[0;34m\u001b[0m\u001b[0m\n\u001b[0;32m----> 7\u001b[0;31m         \u001b[0mprocess_and_save\u001b[0m\u001b[0;34m(\u001b[0m\u001b[0mfile\u001b[0m\u001b[0;34m)\u001b[0m\u001b[0;34m\u001b[0m\u001b[0;34m\u001b[0m\u001b[0m\n\u001b[0m\u001b[1;32m      8\u001b[0m     \u001b[0;32mexcept\u001b[0m \u001b[0mException\u001b[0m\u001b[0;34m:\u001b[0m\u001b[0;34m\u001b[0m\u001b[0;34m\u001b[0m\u001b[0m\n\u001b[1;32m      9\u001b[0m         \u001b[0mexceptioned_files\u001b[0m\u001b[0;34m.\u001b[0m\u001b[0mappend\u001b[0m\u001b[0;34m(\u001b[0m\u001b[0mfile\u001b[0m\u001b[0;34m.\u001b[0m\u001b[0mname\u001b[0m\u001b[0;34m)\u001b[0m\u001b[0;34m\u001b[0m\u001b[0;34m\u001b[0m\u001b[0m\n",
      "\u001b[0;32m<ipython-input-7-79f3458323cc>\u001b[0m in \u001b[0;36mprocess_and_save\u001b[0;34m(file)\u001b[0m\n\u001b[1;32m    156\u001b[0m     \u001b[0msignal\u001b[0m\u001b[0;34m,\u001b[0m \u001b[0mbase_symbol\u001b[0m \u001b[0;34m=\u001b[0m \u001b[0m_load_and_convert\u001b[0m\u001b[0;34m(\u001b[0m\u001b[0mfile\u001b[0m\u001b[0;34m)\u001b[0m\u001b[0;34m\u001b[0m\u001b[0;34m\u001b[0m\u001b[0m\n\u001b[1;32m    157\u001b[0m     \u001b[0msignal\u001b[0m \u001b[0;34m=\u001b[0m \u001b[0m_extract_and_manual_adjust\u001b[0m\u001b[0;34m(\u001b[0m\u001b[0msignal\u001b[0m\u001b[0;34m)\u001b[0m\u001b[0;34m\u001b[0m\u001b[0;34m\u001b[0m\u001b[0m\n\u001b[0;32m--> 158\u001b[0;31m     \u001b[0mresults\u001b[0m \u001b[0;34m=\u001b[0m \u001b[0mslice_all_packets\u001b[0m\u001b[0;34m(\u001b[0m\u001b[0msignal\u001b[0m\u001b[0;34m.\u001b[0m\u001b[0mpackets\u001b[0m\u001b[0;34m,\u001b[0m \u001b[0mbase_symbol\u001b[0m\u001b[0;34m.\u001b[0m\u001b[0mdata\u001b[0m\u001b[0;34m)\u001b[0m\u001b[0;34m\u001b[0m\u001b[0;34m\u001b[0m\u001b[0m\n\u001b[0m\u001b[1;32m    159\u001b[0m \u001b[0;34m\u001b[0m\u001b[0m\n\u001b[1;32m    160\u001b[0m     \u001b[0m_save_symbols\u001b[0m\u001b[0;34m(\u001b[0m\u001b[0mresults\u001b[0m\u001b[0;34m,\u001b[0m \u001b[0msignal\u001b[0m\u001b[0;34m,\u001b[0m \u001b[0m_BASE_DATA_DIR\u001b[0m\u001b[0;34m)\u001b[0m\u001b[0;34m\u001b[0m\u001b[0;34m\u001b[0m\u001b[0m\n",
      "\u001b[0;32m<ipython-input-7-79f3458323cc>\u001b[0m in \u001b[0;36mslice_all_packets\u001b[0;34m(packets, symbol_data)\u001b[0m\n\u001b[1;32m    149\u001b[0m \u001b[0;34m\u001b[0m\u001b[0m\n\u001b[1;32m    150\u001b[0m     \u001b[0;32mwith\u001b[0m \u001b[0mmultiprocessing\u001b[0m\u001b[0;34m.\u001b[0m\u001b[0mPool\u001b[0m\u001b[0;34m(\u001b[0m\u001b[0;34m)\u001b[0m \u001b[0;32mas\u001b[0m \u001b[0mpool\u001b[0m\u001b[0;34m:\u001b[0m\u001b[0;34m\u001b[0m\u001b[0;34m\u001b[0m\u001b[0m\n\u001b[0;32m--> 151\u001b[0;31m         \u001b[0mresults\u001b[0m \u001b[0;34m=\u001b[0m \u001b[0mpool\u001b[0m\u001b[0;34m.\u001b[0m\u001b[0mmap\u001b[0m\u001b[0;34m(\u001b[0m\u001b[0mcorr_slice\u001b[0m\u001b[0;34m,\u001b[0m \u001b[0mpackets\u001b[0m\u001b[0;34m)\u001b[0m\u001b[0;34m\u001b[0m\u001b[0;34m\u001b[0m\u001b[0m\n\u001b[0m\u001b[1;32m    152\u001b[0m \u001b[0;34m\u001b[0m\u001b[0m\n\u001b[1;32m    153\u001b[0m     \u001b[0;32mreturn\u001b[0m \u001b[0mnp\u001b[0m\u001b[0;34m.\u001b[0m\u001b[0mvstack\u001b[0m\u001b[0;34m(\u001b[0m\u001b[0mresults\u001b[0m\u001b[0;34m)\u001b[0m\u001b[0;34m\u001b[0m\u001b[0;34m\u001b[0m\u001b[0m\n",
      "\u001b[0;32m/opt/conda/lib/python3.7/multiprocessing/pool.py\u001b[0m in \u001b[0;36mmap\u001b[0;34m(self, func, iterable, chunksize)\u001b[0m\n\u001b[1;32m    266\u001b[0m         \u001b[0;32min\u001b[0m \u001b[0ma\u001b[0m \u001b[0mlist\u001b[0m \u001b[0mthat\u001b[0m \u001b[0;32mis\u001b[0m \u001b[0mreturned\u001b[0m\u001b[0;34m.\u001b[0m\u001b[0;34m\u001b[0m\u001b[0;34m\u001b[0m\u001b[0m\n\u001b[1;32m    267\u001b[0m         '''\n\u001b[0;32m--> 268\u001b[0;31m         \u001b[0;32mreturn\u001b[0m \u001b[0mself\u001b[0m\u001b[0;34m.\u001b[0m\u001b[0m_map_async\u001b[0m\u001b[0;34m(\u001b[0m\u001b[0mfunc\u001b[0m\u001b[0;34m,\u001b[0m \u001b[0miterable\u001b[0m\u001b[0;34m,\u001b[0m \u001b[0mmapstar\u001b[0m\u001b[0;34m,\u001b[0m \u001b[0mchunksize\u001b[0m\u001b[0;34m)\u001b[0m\u001b[0;34m.\u001b[0m\u001b[0mget\u001b[0m\u001b[0;34m(\u001b[0m\u001b[0;34m)\u001b[0m\u001b[0;34m\u001b[0m\u001b[0;34m\u001b[0m\u001b[0m\n\u001b[0m\u001b[1;32m    269\u001b[0m \u001b[0;34m\u001b[0m\u001b[0m\n\u001b[1;32m    270\u001b[0m     \u001b[0;32mdef\u001b[0m \u001b[0mstarmap\u001b[0m\u001b[0;34m(\u001b[0m\u001b[0mself\u001b[0m\u001b[0;34m,\u001b[0m \u001b[0mfunc\u001b[0m\u001b[0;34m,\u001b[0m \u001b[0miterable\u001b[0m\u001b[0;34m,\u001b[0m \u001b[0mchunksize\u001b[0m\u001b[0;34m=\u001b[0m\u001b[0;32mNone\u001b[0m\u001b[0;34m)\u001b[0m\u001b[0;34m:\u001b[0m\u001b[0;34m\u001b[0m\u001b[0;34m\u001b[0m\u001b[0m\n",
      "\u001b[0;32m/opt/conda/lib/python3.7/multiprocessing/pool.py\u001b[0m in \u001b[0;36mget\u001b[0;34m(self, timeout)\u001b[0m\n\u001b[1;32m    649\u001b[0m \u001b[0;34m\u001b[0m\u001b[0m\n\u001b[1;32m    650\u001b[0m     \u001b[0;32mdef\u001b[0m \u001b[0mget\u001b[0m\u001b[0;34m(\u001b[0m\u001b[0mself\u001b[0m\u001b[0;34m,\u001b[0m \u001b[0mtimeout\u001b[0m\u001b[0;34m=\u001b[0m\u001b[0;32mNone\u001b[0m\u001b[0;34m)\u001b[0m\u001b[0;34m:\u001b[0m\u001b[0;34m\u001b[0m\u001b[0;34m\u001b[0m\u001b[0m\n\u001b[0;32m--> 651\u001b[0;31m         \u001b[0mself\u001b[0m\u001b[0;34m.\u001b[0m\u001b[0mwait\u001b[0m\u001b[0;34m(\u001b[0m\u001b[0mtimeout\u001b[0m\u001b[0;34m)\u001b[0m\u001b[0;34m\u001b[0m\u001b[0;34m\u001b[0m\u001b[0m\n\u001b[0m\u001b[1;32m    652\u001b[0m         \u001b[0;32mif\u001b[0m \u001b[0;32mnot\u001b[0m \u001b[0mself\u001b[0m\u001b[0;34m.\u001b[0m\u001b[0mready\u001b[0m\u001b[0;34m(\u001b[0m\u001b[0;34m)\u001b[0m\u001b[0;34m:\u001b[0m\u001b[0;34m\u001b[0m\u001b[0;34m\u001b[0m\u001b[0m\n\u001b[1;32m    653\u001b[0m             \u001b[0;32mraise\u001b[0m \u001b[0mTimeoutError\u001b[0m\u001b[0;34m\u001b[0m\u001b[0;34m\u001b[0m\u001b[0m\n",
      "\u001b[0;32m/opt/conda/lib/python3.7/multiprocessing/pool.py\u001b[0m in \u001b[0;36mwait\u001b[0;34m(self, timeout)\u001b[0m\n\u001b[1;32m    646\u001b[0m \u001b[0;34m\u001b[0m\u001b[0m\n\u001b[1;32m    647\u001b[0m     \u001b[0;32mdef\u001b[0m \u001b[0mwait\u001b[0m\u001b[0;34m(\u001b[0m\u001b[0mself\u001b[0m\u001b[0;34m,\u001b[0m \u001b[0mtimeout\u001b[0m\u001b[0;34m=\u001b[0m\u001b[0;32mNone\u001b[0m\u001b[0;34m)\u001b[0m\u001b[0;34m:\u001b[0m\u001b[0;34m\u001b[0m\u001b[0;34m\u001b[0m\u001b[0m\n\u001b[0;32m--> 648\u001b[0;31m         \u001b[0mself\u001b[0m\u001b[0;34m.\u001b[0m\u001b[0m_event\u001b[0m\u001b[0;34m.\u001b[0m\u001b[0mwait\u001b[0m\u001b[0;34m(\u001b[0m\u001b[0mtimeout\u001b[0m\u001b[0;34m)\u001b[0m\u001b[0;34m\u001b[0m\u001b[0;34m\u001b[0m\u001b[0m\n\u001b[0m\u001b[1;32m    649\u001b[0m \u001b[0;34m\u001b[0m\u001b[0m\n\u001b[1;32m    650\u001b[0m     \u001b[0;32mdef\u001b[0m \u001b[0mget\u001b[0m\u001b[0;34m(\u001b[0m\u001b[0mself\u001b[0m\u001b[0;34m,\u001b[0m \u001b[0mtimeout\u001b[0m\u001b[0;34m=\u001b[0m\u001b[0;32mNone\u001b[0m\u001b[0;34m)\u001b[0m\u001b[0;34m:\u001b[0m\u001b[0;34m\u001b[0m\u001b[0;34m\u001b[0m\u001b[0m\n",
      "\u001b[0;32m/opt/conda/lib/python3.7/threading.py\u001b[0m in \u001b[0;36mwait\u001b[0;34m(self, timeout)\u001b[0m\n\u001b[1;32m    550\u001b[0m             \u001b[0msignaled\u001b[0m \u001b[0;34m=\u001b[0m \u001b[0mself\u001b[0m\u001b[0;34m.\u001b[0m\u001b[0m_flag\u001b[0m\u001b[0;34m\u001b[0m\u001b[0;34m\u001b[0m\u001b[0m\n\u001b[1;32m    551\u001b[0m             \u001b[0;32mif\u001b[0m \u001b[0;32mnot\u001b[0m \u001b[0msignaled\u001b[0m\u001b[0;34m:\u001b[0m\u001b[0;34m\u001b[0m\u001b[0;34m\u001b[0m\u001b[0m\n\u001b[0;32m--> 552\u001b[0;31m                 \u001b[0msignaled\u001b[0m \u001b[0;34m=\u001b[0m \u001b[0mself\u001b[0m\u001b[0;34m.\u001b[0m\u001b[0m_cond\u001b[0m\u001b[0;34m.\u001b[0m\u001b[0mwait\u001b[0m\u001b[0;34m(\u001b[0m\u001b[0mtimeout\u001b[0m\u001b[0;34m)\u001b[0m\u001b[0;34m\u001b[0m\u001b[0;34m\u001b[0m\u001b[0m\n\u001b[0m\u001b[1;32m    553\u001b[0m             \u001b[0;32mreturn\u001b[0m \u001b[0msignaled\u001b[0m\u001b[0;34m\u001b[0m\u001b[0;34m\u001b[0m\u001b[0m\n\u001b[1;32m    554\u001b[0m \u001b[0;34m\u001b[0m\u001b[0m\n",
      "\u001b[0;32m/opt/conda/lib/python3.7/threading.py\u001b[0m in \u001b[0;36mwait\u001b[0;34m(self, timeout)\u001b[0m\n\u001b[1;32m    294\u001b[0m         \u001b[0;32mtry\u001b[0m\u001b[0;34m:\u001b[0m    \u001b[0;31m# restore state no matter what (e.g., KeyboardInterrupt)\u001b[0m\u001b[0;34m\u001b[0m\u001b[0;34m\u001b[0m\u001b[0m\n\u001b[1;32m    295\u001b[0m             \u001b[0;32mif\u001b[0m \u001b[0mtimeout\u001b[0m \u001b[0;32mis\u001b[0m \u001b[0;32mNone\u001b[0m\u001b[0;34m:\u001b[0m\u001b[0;34m\u001b[0m\u001b[0;34m\u001b[0m\u001b[0m\n\u001b[0;32m--> 296\u001b[0;31m                 \u001b[0mwaiter\u001b[0m\u001b[0;34m.\u001b[0m\u001b[0macquire\u001b[0m\u001b[0;34m(\u001b[0m\u001b[0;34m)\u001b[0m\u001b[0;34m\u001b[0m\u001b[0;34m\u001b[0m\u001b[0m\n\u001b[0m\u001b[1;32m    297\u001b[0m                 \u001b[0mgotit\u001b[0m \u001b[0;34m=\u001b[0m \u001b[0;32mTrue\u001b[0m\u001b[0;34m\u001b[0m\u001b[0;34m\u001b[0m\u001b[0m\n\u001b[1;32m    298\u001b[0m             \u001b[0;32melse\u001b[0m\u001b[0;34m:\u001b[0m\u001b[0;34m\u001b[0m\u001b[0;34m\u001b[0m\u001b[0m\n",
      "\u001b[0;31mKeyboardInterrupt\u001b[0m: "
     ]
    }
   ],
   "source": [
    "exceptioned_files = []\n",
    "os.environ['MULTIPROC'] = 'true'\n",
    "\n",
    "for file in loader.file_list:\n",
    "    logger.warning(f'working file: {file}')\n",
    "    try:\n",
    "        process_and_save(file)\n",
    "    except Exception:\n",
    "        exceptioned_files.append(file.name) \n"
   ]
  },
  {
   "cell_type": "code",
   "execution_count": null,
   "metadata": {},
   "outputs": [],
   "source": []
  },
  {
   "cell_type": "code",
   "execution_count": null,
   "metadata": {},
   "outputs": [],
   "source": []
  },
  {
   "cell_type": "markdown",
   "metadata": {},
   "source": [
    "## process loop"
   ]
  },
  {
   "cell_type": "code",
   "execution_count": null,
   "metadata": {},
   "outputs": [],
   "source": [
    "exceptioned_files = []\n",
    "\n",
    "for file in tqdm_notebook(loader.file_list):\n",
    "    file.load()\n",
    "    dotp_file = _load_matching_dotp(file.bw, file.sf)\n",
    "\n",
    "    signal, base_symbol = _convert_files(file, dotp_file)\n",
    "    logger.info(f'\\n{signal}')\n",
    "    logger.info(f'\\n{base_symbol}')\n",
    "    \n",
    "    try:\n",
    "        packets = _extract_and_manual_adjust(base_symbol, _step_dict)\n",
    "        _extract_and_save_symbols(packets)\n",
    "    except Exception:\n",
    "        exceptioned_files.append(file.name) \n",
    "    \n",
    "    break"
   ]
  },
  {
   "cell_type": "code",
   "execution_count": null,
   "metadata": {},
   "outputs": [],
   "source": []
  },
  {
   "cell_type": "code",
   "execution_count": null,
   "metadata": {},
   "outputs": [],
   "source": []
  },
  {
   "cell_type": "code",
   "execution_count": null,
   "metadata": {},
   "outputs": [],
   "source": []
  },
  {
   "cell_type": "code",
   "execution_count": null,
   "metadata": {},
   "outputs": [],
   "source": []
  }
 ],
 "metadata": {
  "kernelspec": {
   "display_name": "Python 3",
   "language": "python",
   "name": "python3"
  },
  "language_info": {
   "codemirror_mode": {
    "name": "ipython",
    "version": 3
   },
   "file_extension": ".py",
   "mimetype": "text/x-python",
   "name": "python",
   "nbconvert_exporter": "python",
   "pygments_lexer": "ipython3",
   "version": "3.7.6"
  }
 },
 "nbformat": 4,
 "nbformat_minor": 4
}
