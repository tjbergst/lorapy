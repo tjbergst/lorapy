{
 "cells": [
  {
   "cell_type": "markdown",
   "metadata": {},
   "source": [
    "# lorapy symbol extraction"
   ]
  },
  {
   "cell_type": "code",
   "execution_count": null,
   "metadata": {},
   "outputs": [],
   "source": [
    "%load_ext autoreload\n",
    "%autoreload 2\n",
    "\n",
    "import pathlib\n",
    "\n",
    "import os, sys\n",
    "from loguru import logger\n",
    "logger.remove(None)\n",
    "logger.add(sys.stdout, colorize=True)\n",
    "\n",
    "import numpy as np\n",
    "from six.moves import cPickle\n",
    "from tqdm import tqdm_notebook\n",
    "\n",
    "import matplotlib.pyplot as plt \n",
    "plt.style.use('dark_background')\n",
    "%matplotlib inline"
   ]
  },
  {
   "cell_type": "code",
   "execution_count": null,
   "metadata": {},
   "outputs": [],
   "source": [
    "import lorapy"
   ]
  },
  {
   "cell_type": "markdown",
   "metadata": {},
   "source": [
    "## setup "
   ]
  },
  {
   "cell_type": "code",
   "execution_count": null,
   "metadata": {},
   "outputs": [],
   "source": [
    "_BASE_DATA_DIR = pathlib.Path('/Users/trevor/Work/1-projects/lora-processing/data')\n",
    "\n",
    "BENCHTOP_DATA_DIR = _BASE_DATA_DIR.joinpath('lora-benchtop-recording')\n",
    "OTA_DATA_DIR = _BASE_DATA_DIR.joinpath('LoRa_Recording_OTA')\n",
    "OUTDOOR_DATA_DIR = _BASE_DATA_DIR.joinpath('LoRa_Recording_Outdoor')\n",
    "DOTP_DATA_DIR = _BASE_DATA_DIR.joinpath('symbol-ref')\n",
    "SYMBOL_DIR = _BASE_DATA_DIR.joinpath('lora-symbols-20k')\n",
    "PREAM_WIN_DIR = _BASE_DATA_DIR.joinpath('lora-preamble-windows-20k')"
   ]
  },
  {
   "cell_type": "markdown",
   "metadata": {},
   "source": [
    "# load"
   ]
  },
  {
   "cell_type": "markdown",
   "metadata": {},
   "source": [
    "## dat files"
   ]
  },
  {
   "cell_type": "code",
   "execution_count": null,
   "metadata": {
    "scrolled": true
   },
   "outputs": [],
   "source": [
    "loader = lorapy.load_dat(BENCHTOP_DATA_DIR, autoload=True)\n",
    "loader.file_list"
   ]
  },
  {
   "cell_type": "markdown",
   "metadata": {},
   "source": [
    "## dotp files"
   ]
  },
  {
   "cell_type": "code",
   "execution_count": null,
   "metadata": {
    "scrolled": true
   },
   "outputs": [],
   "source": [
    "ploader = lorapy.load_dotp(DOTP_DATA_DIR)\n",
    "ploader.file_list"
   ]
  },
  {
   "cell_type": "markdown",
   "metadata": {},
   "source": [
    "## symbols"
   ]
  },
  {
   "cell_type": "code",
   "execution_count": null,
   "metadata": {
    "scrolled": true
   },
   "outputs": [],
   "source": [
    "symloader = lorapy.load_dotp(SYMBOL_DIR)\n",
    "symloader.file_list"
   ]
  },
  {
   "cell_type": "code",
   "execution_count": null,
   "metadata": {},
   "outputs": [],
   "source": []
  },
  {
   "cell_type": "markdown",
   "metadata": {},
   "source": [
    "# process "
   ]
  },
  {
   "cell_type": "markdown",
   "metadata": {},
   "source": [
    "## symbol correlation settings"
   ]
  },
  {
   "cell_type": "code",
   "execution_count": null,
   "metadata": {},
   "outputs": [],
   "source": [
    "_step_dict = {\n",
    "    1: 100,\n",
    "    2: 100,\n",
    "    7: 4,\n",
    "    8: 2,\n",
    "    9: 2,\n",
    "}"
   ]
  },
  {
   "cell_type": "markdown",
   "metadata": {},
   "source": [
    "## functions"
   ]
  },
  {
   "cell_type": "code",
   "execution_count": null,
   "metadata": {},
   "outputs": [],
   "source": [
    "def _load_matching_dotp(bw: int, sf: int):\n",
    "    return ploader.filter(bw=bw, sf=sf)[0]\n",
    "\n",
    "def _convert_files(file, dotp_file):\n",
    "    return file.to_signal(), dotp_file.to_signal()\n",
    "\n",
    "def _extract_and_manual_adjust(baseline_symbol, step_dict):\n",
    "    signal.extract_packets(method='slide-mean', auto_adj=False, overlap=0.7)\n",
    "    signal.adjust_packets(\n",
    "        force_check=True, baseline_symbol=base_symbol, \n",
    "        range_factor=10, step=step_dict[signal.stats.bw], scalar=0.6\n",
    "    )\n",
    "    \n",
    "    return signal.packets\n",
    "\n",
    "\n",
    "def _format_output_path(packet):\n",
    "    _base_path = pathlib.Path('data/lora-preamble-windows-20k')\n",
    "    filename = pathlib.Path(packet.stats.filename)\n",
    "    out_path = _base_path.joinpath(filename.with_suffix('').with_suffix('.p'))\n",
    "    \n",
    "    return out_path\n",
    "\n",
    "def _save_symbols(data, packet):\n",
    "    out_path = _format_output_path(packet)\n",
    "    \n",
    "    with out_path.open('wb') as outfile:\n",
    "        cPickle.dump(data, outfile)\n",
    "\n",
    "        \n",
    "def _extract_symbols(packet):\n",
    "    packet.extract_preamble_window()\n",
    "    return packet._preamble_window\n",
    "\n",
    "def _extract_and_save_symbols(packets):\n",
    "    full_array = np.vstack([\n",
    "        _extract_symbols(packet)\n",
    "        for packet in packets\n",
    "    ])\n",
    "    \n",
    "    packet = packets[0]\n",
    "    _save_symbols(full_array, packet)\n",
    "        "
   ]
  },
  {
   "cell_type": "markdown",
   "metadata": {},
   "source": [
    "## select matching .p file"
   ]
  },
  {
   "cell_type": "code",
   "execution_count": null,
   "metadata": {},
   "outputs": [],
   "source": [
    "exceptioned_files = []\n",
    "\n",
    "for file in tqdm_notebook(loader.file_list):\n",
    "    file.load()\n",
    "    dotp_file = _load_matching_dotp(file.bw, file.sf)\n",
    "\n",
    "    signal, base_symbol = _convert_files(file, dotp_file)\n",
    "    logger.info(f'\\n{signal}')\n",
    "    logger.info(f'\\n{base_symbol}')\n",
    "    \n",
    "    try:\n",
    "        packets = _extract_and_manual_adjust(base_symbol, _step_dict)\n",
    "        _extract_and_save_symbols(packets)\n",
    "    except Exception:\n",
    "        exceptioned_files.append(file.name) \n",
    "    \n",
    "    break"
   ]
  },
  {
   "cell_type": "code",
   "execution_count": null,
   "metadata": {},
   "outputs": [],
   "source": []
  },
  {
   "cell_type": "code",
   "execution_count": null,
   "metadata": {},
   "outputs": [],
   "source": []
  },
  {
   "cell_type": "code",
   "execution_count": null,
   "metadata": {},
   "outputs": [],
   "source": []
  },
  {
   "cell_type": "code",
   "execution_count": null,
   "metadata": {},
   "outputs": [],
   "source": []
  }
 ],
 "metadata": {
  "kernelspec": {
   "display_name": "Python 3",
   "language": "python",
   "name": "python3"
  },
  "language_info": {
   "codemirror_mode": {
    "name": "ipython",
    "version": 3
   },
   "file_extension": ".py",
   "mimetype": "text/x-python",
   "name": "python",
   "nbconvert_exporter": "python",
   "pygments_lexer": "ipython3",
   "version": "3.7.6"
  }
 },
 "nbformat": 4,
 "nbformat_minor": 4
}
