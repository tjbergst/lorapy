{
 "cells": [
  {
   "cell_type": "markdown",
   "metadata": {},
   "source": [
    "# lorapy symbol extraction"
   ]
  },
  {
   "cell_type": "code",
   "execution_count": 1,
   "metadata": {},
   "outputs": [],
   "source": [
    "%load_ext autoreload\n",
    "%autoreload 2\n",
    "\n",
    "import pathlib\n",
    "\n",
    "import os, sys\n",
    "from loguru import logger\n",
    "logger.remove(None)\n",
    "logger.add(sys.stdout, colorize=True)\n",
    "\n",
    "import numpy as np\n",
    "from six.moves import cPickle\n",
    "from tqdm import tqdm_notebook\n",
    "\n",
    "import matplotlib.pyplot as plt \n",
    "plt.style.use('dark_background')\n",
    "%matplotlib inline"
   ]
  },
  {
   "cell_type": "code",
   "execution_count": 2,
   "metadata": {},
   "outputs": [],
   "source": [
    "import lorapy"
   ]
  },
  {
   "cell_type": "markdown",
   "metadata": {},
   "source": [
    "## setup "
   ]
  },
  {
   "cell_type": "code",
   "execution_count": 3,
   "metadata": {},
   "outputs": [],
   "source": [
    "_BASE_DATA_DIR = pathlib.Path('/Users/trevor/Work/1-projects/lora-processing/data')\n",
    "\n",
    "BENCHTOP_DATA_DIR = _BASE_DATA_DIR.joinpath('lora-benchtop-recording')\n",
    "OTA_DATA_DIR = _BASE_DATA_DIR.joinpath('LoRa_Recording_OTA')\n",
    "OUTDOOR_DATA_DIR = _BASE_DATA_DIR.joinpath('LoRa_Recording_Outdoor')\n",
    "DOTP_DATA_DIR = _BASE_DATA_DIR.joinpath('symbol-ref')\n",
    "SYMBOL_DIR = _BASE_DATA_DIR.joinpath('lora-symbols-20k')"
   ]
  },
  {
   "cell_type": "markdown",
   "metadata": {},
   "source": [
    "# load"
   ]
  },
  {
   "cell_type": "markdown",
   "metadata": {},
   "source": [
    "## dat files"
   ]
  },
  {
   "cell_type": "code",
   "execution_count": null,
   "metadata": {
    "scrolled": true
   },
   "outputs": [],
   "source": [
    "loader = lorapy.load_dat(BENCHTOP_DATA_DIR, autoload=True)\n",
    "loader.file_list"
   ]
  },
  {
   "cell_type": "markdown",
   "metadata": {},
   "source": [
    "## dotp files"
   ]
  },
  {
   "cell_type": "code",
   "execution_count": null,
   "metadata": {
    "scrolled": true
   },
   "outputs": [],
   "source": [
    "ploader = lorapy.load_dotp(DOTP_DATA_DIR)\n",
    "ploader.file_list"
   ]
  },
  {
   "cell_type": "markdown",
   "metadata": {},
   "source": [
    "## symbols"
   ]
  },
  {
   "cell_type": "code",
   "execution_count": 4,
   "metadata": {
    "scrolled": true
   },
   "outputs": [
    {
     "name": "stdout",
     "output_type": "stream",
     "text": [
      "\u001b[32m2020-04-09 07:06:31.408\u001b[0m | \u001b[34m\u001b[1mDEBUG   \u001b[0m | \u001b[36mlorapy.io._base_loader\u001b[0m:\u001b[36m_validate_data_path\u001b[0m:\u001b[36m140\u001b[0m - \u001b[34m\u001b[1mset datafile directory: /Users/trevor/Work/1-projects/lora-processing/data/lora-symbols-20k\u001b[0m\n",
      "\u001b[32m2020-04-09 07:06:31.418\u001b[0m | \u001b[1mINFO    \u001b[0m | \u001b[36mlorapy.io._base_loader\u001b[0m:\u001b[36m_process_data_dir\u001b[0m:\u001b[36m153\u001b[0m - \u001b[1mfound 106 data file(s)\u001b[0m\n"
     ]
    },
    {
     "data": {
      "text/plain": [
       "[DotPFile(id=0 | name='lora_BW2_SF11_915MHz_20ksps_Att60_v0.p'),\n",
       " DotPFile(id=1 | name='lora_BW8_SF12_915MHz_20ksps_Att0_v0.p'),\n",
       " DotPFile(id=2 | name='lora_BW8_SF12_915MHz_20ksps_Att20_v0.p'),\n",
       " DotPFile(id=3 | name='lora_BW1_SF11_915MHz_20ksps_Att80_v0.p'),\n",
       " DotPFile(id=4 | name='lora_BW8_SF10_915MHz_20ksps_Att80_v0.p'),\n",
       " DotPFile(id=5 | name='lora_BW7_SF10_915MHz_20ksps_Att80_v0.p'),\n",
       " DotPFile(id=6 | name='lora_BW7_SF12_915MHz_20ksps_Att20_v0.p'),\n",
       " DotPFile(id=7 | name='lora_BW2_SF11_915MHz_20ksps_Att40_v0.p'),\n",
       " DotPFile(id=8 | name='lora_BW9_SF10_915MHz_20ksps_Att0_v0.p'),\n",
       " DotPFile(id=9 | name='lora_BW7_SF10_915MHz_20ksps_Att0_v0.p'),\n",
       " DotPFile(id=10 | name='lora_BW2_SF12_915MHz_20ksps_Att120_v0.p'),\n",
       " DotPFile(id=11 | name='lora_BW8_SF12_915MHz_20ksps_Att100_v0.p'),\n",
       " DotPFile(id=12 | name='lora_BW8_SF12_915MHz_20ksps_Att40_v0.p'),\n",
       " DotPFile(id=13 | name='lora_BW7_SF12_915MHz_20ksps_Att60_v0.p'),\n",
       " DotPFile(id=14 | name='lora_BW9_SF10_915MHz_20ksps_Att100_v0.p'),\n",
       " DotPFile(id=15 | name='lora_BW9_SF10_915MHz_20ksps_Att120_v0.p'),\n",
       " DotPFile(id=16 | name='lora_BW7_SF12_915MHz_20ksps_Att40_v0.p'),\n",
       " DotPFile(id=17 | name='lora_BW9_SF11_915MHz_20ksps_Att80_v0.p'),\n",
       " DotPFile(id=18 | name='lora_BW8_SF12_915MHz_20ksps_Att60_v0.p'),\n",
       " DotPFile(id=19 | name='lora_BW2_SF12_915MHz_20ksps_Att100_v0.p'),\n",
       " DotPFile(id=20 | name='lora_BW8_SF12_915MHz_20ksps_Att120_v0.p'),\n",
       " DotPFile(id=21 | name='lora_BW2_SF11_915MHz_20ksps_Att20_v0.p'),\n",
       " DotPFile(id=22 | name='lora_BW1_SF11_915MHz_20ksps_Att120_v0.p'),\n",
       " DotPFile(id=23 | name='lora_BW2_SF10_915MHz_20ksps_Att140_v0.p'),\n",
       " DotPFile(id=24 | name='lora_BW1_SF12_915MHz_20ksps_Att40_v0.p'),\n",
       " DotPFile(id=25 | name='lora_BW7_SF11_915MHz_20ksps_Att120_v0.p'),\n",
       " DotPFile(id=26 | name='lora_BW1_SF10_915MHz_20ksps_Att0_v0.p'),\n",
       " DotPFile(id=27 | name='lora_BW2_SF12_915MHz_20ksps_Att80_v0.p'),\n",
       " DotPFile(id=28 | name='lora_BW2_SF10_915MHz_20ksps_Att20_v0.p'),\n",
       " DotPFile(id=29 | name='lora_BW7_SF11_915MHz_20ksps_Att100_v0.p'),\n",
       " DotPFile(id=30 | name='lora_BW1_SF12_915MHz_20ksps_Att60_v0.p'),\n",
       " DotPFile(id=31 | name='lora_BW1_SF11_915MHz_20ksps_Att100_v0.p'),\n",
       " DotPFile(id=32 | name='lora_BW9_SF12_915MHz_20ksps_Att20_v0.p'),\n",
       " DotPFile(id=33 | name='lora_BW8_SF10_915MHz_20ksps_Att100_v0.p'),\n",
       " DotPFile(id=34 | name='lora_BW2_SF10_915MHz_20ksps_Att120_v0.p'),\n",
       " DotPFile(id=35 | name='lora_BW1_SF11_915MHz_20ksps_Att140_v0.p'),\n",
       " DotPFile(id=36 | name='lora_BW9_SF12_915MHz_20ksps_Att60_v0.p'),\n",
       " DotPFile(id=37 | name='lora_BW8_SF11_915MHz_20ksps_Att80_v0.p'),\n",
       " DotPFile(id=38 | name='lora_BW1_SF10_915MHz_20ksps_Att80_v0.p'),\n",
       " DotPFile(id=39 | name='lora_BW1_SF12_915MHz_20ksps_Att20_v0.p'),\n",
       " DotPFile(id=40 | name='lora_BW9_SF12_915MHz_20ksps_Att100_v0.p'),\n",
       " DotPFile(id=41 | name='lora_BW2_SF10_915MHz_20ksps_Att60_v0.p'),\n",
       " DotPFile(id=42 | name='lora_BW9_SF12_915MHz_20ksps_Att120_v0.p'),\n",
       " DotPFile(id=43 | name='lora_BW8_SF11_915MHz_20ksps_Att0_v0.p'),\n",
       " DotPFile(id=44 | name='lora_BW2_SF10_915MHz_20ksps_Att40_v0.p'),\n",
       " DotPFile(id=45 | name='lora_BW8_SF10_915MHz_20ksps_Att120_v0.p'),\n",
       " DotPFile(id=46 | name='lora_BW2_SF10_915MHz_20ksps_Att100_v0.p'),\n",
       " DotPFile(id=47 | name='lora_BW2_SF10_915MHz_20ksps_Att0_v0.p'),\n",
       " DotPFile(id=48 | name='lora_BW9_SF12_915MHz_20ksps_Att40_v0.p'),\n",
       " DotPFile(id=49 | name='lora_BW7_SF11_915MHz_20ksps_Att80_v0.p'),\n",
       " DotPFile(id=50 | name='lora_BW8_SF11_915MHz_20ksps_Att120_v0.p'),\n",
       " DotPFile(id=51 | name='lora_BW2_SF11_915MHz_20ksps_Att100_v0.p'),\n",
       " DotPFile(id=52 | name='lora_BW7_SF11_915MHz_20ksps_Att40_v0.p'),\n",
       " DotPFile(id=53 | name='lora_BW9_SF10_915MHz_20ksps_Att20_v0.p'),\n",
       " DotPFile(id=54 | name='lora_BW1_SF12_915MHz_20ksps_Att0_v0.p'),\n",
       " DotPFile(id=55 | name='lora_BW9_SF12_915MHz_20ksps_Att80_v0.p'),\n",
       " DotPFile(id=56 | name='lora_BW8_SF11_915MHz_20ksps_Att60_v0.p'),\n",
       " DotPFile(id=57 | name='lora_BW2_SF12_915MHz_20ksps_Att20_v0.p'),\n",
       " DotPFile(id=58 | name='lora_BW1_SF10_915MHz_20ksps_Att60_v0.p'),\n",
       " DotPFile(id=59 | name='lora_BW2_SF10_915MHz_20ksps_Att80_v0.p'),\n",
       " DotPFile(id=60 | name='lora_BW8_SF11_915MHz_20ksps_Att40_v0.p'),\n",
       " DotPFile(id=61 | name='lora_BW1_SF10_915MHz_20ksps_Att40_v0.p'),\n",
       " DotPFile(id=62 | name='lora_BW7_SF11_915MHz_20ksps_Att60_v0.p'),\n",
       " DotPFile(id=63 | name='lora_BW8_SF11_915MHz_20ksps_Att100_v0.p'),\n",
       " DotPFile(id=64 | name='lora_BW2_SF11_915MHz_20ksps_Att120_v0.p'),\n",
       " DotPFile(id=65 | name='lora_BW9_SF11_915MHz_20ksps_Att0_v0.p'),\n",
       " DotPFile(id=66 | name='lora_BW7_SF11_915MHz_20ksps_Att0_v0.p'),\n",
       " DotPFile(id=67 | name='lora_BW1_SF10_915MHz_20ksps_Att140_v0.p'),\n",
       " DotPFile(id=68 | name='lora_BW1_SF10_915MHz_20ksps_Att100_v0.p'),\n",
       " DotPFile(id=69 | name='lora_BW7_SF11_915MHz_20ksps_Att20_v0.p'),\n",
       " DotPFile(id=70 | name='lora_BW9_SF10_915MHz_20ksps_Att40_v0.p'),\n",
       " DotPFile(id=71 | name='lora_BW7_SF10_915MHz_20ksps_Att100_v0.p'),\n",
       " DotPFile(id=72 | name='lora_BW2_SF12_915MHz_20ksps_Att40_v0.p'),\n",
       " DotPFile(id=73 | name='lora_BW1_SF10_915MHz_20ksps_Att20_v0.p'),\n",
       " DotPFile(id=74 | name='lora_BW7_SF10_915MHz_20ksps_Att120_v0.p'),\n",
       " DotPFile(id=75 | name='lora_BW2_SF12_915MHz_20ksps_Att60_v0.p'),\n",
       " DotPFile(id=76 | name='lora_BW8_SF11_915MHz_20ksps_Att20_v0.p'),\n",
       " DotPFile(id=77 | name='lora_BW1_SF12_915MHz_20ksps_Att80_v0.p'),\n",
       " DotPFile(id=78 | name='lora_BW2_SF12_915MHz_20ksps_Att0_v0.p'),\n",
       " DotPFile(id=79 | name='lora_BW1_SF10_915MHz_20ksps_Att120_v0.p'),\n",
       " DotPFile(id=80 | name='lora_BW9_SF10_915MHz_20ksps_Att60_v0.p'),\n",
       " DotPFile(id=81 | name='lora_BW2_SF11_915MHz_20ksps_Att140_v0.p'),\n",
       " DotPFile(id=82 | name='lora_BW2_SF11_915MHz_20ksps_Att0_v0.p'),\n",
       " DotPFile(id=83 | name='lora_BW7_SF10_915MHz_20ksps_Att20_v0.p'),\n",
       " DotPFile(id=84 | name='lora_BW9_SF11_915MHz_20ksps_Att40_v0.p'),\n",
       " DotPFile(id=85 | name='lora_BW9_SF11_915MHz_20ksps_Att120_v0.p'),\n",
       " DotPFile(id=86 | name='lora_BW8_SF10_915MHz_20ksps_Att0_v0.p'),\n",
       " DotPFile(id=87 | name='lora_BW7_SF12_915MHz_20ksps_Att80_v0.p'),\n",
       " DotPFile(id=88 | name='lora_BW9_SF11_915MHz_20ksps_Att60_v0.p'),\n",
       " DotPFile(id=89 | name='lora_BW9_SF11_915MHz_20ksps_Att100_v0.p'),\n",
       " DotPFile(id=90 | name='lora_BW8_SF12_915MHz_20ksps_Att80_v0.p'),\n",
       " DotPFile(id=91 | name='lora_BW1_SF12_915MHz_20ksps_Att140_v0.p'),\n",
       " DotPFile(id=92 | name='lora_BW1_SF11_915MHz_20ksps_Att20_v0.p'),\n",
       " DotPFile(id=93 | name='lora_BW2_SF11_915MHz_20ksps_Att80_v0.p'),\n",
       " DotPFile(id=94 | name='lora_BW1_SF11_915MHz_20ksps_Att60_v0.p'),\n",
       " DotPFile(id=95 | name='lora_BW8_SF10_915MHz_20ksps_Att60_v0.p'),\n",
       " DotPFile(id=96 | name='lora_BW1_SF12_915MHz_20ksps_Att100_v0.p'),\n",
       " DotPFile(id=97 | name='lora_BW7_SF12_915MHz_20ksps_Att0_v0.p'),\n",
       " DotPFile(id=98 | name='lora_BW7_SF12_915MHz_20ksps_Att100_v0.p'),\n",
       " DotPFile(id=99 | name='lora_BW7_SF10_915MHz_20ksps_Att40_v0.p'),\n",
       " DotPFile(id=100 | name='lora_BW9_SF11_915MHz_20ksps_Att20_v0.p'),\n",
       " DotPFile(id=101 | name='lora_BW7_SF12_915MHz_20ksps_Att120_v0.p'),\n",
       " DotPFile(id=102 | name='lora_BW1_SF11_915MHz_20ksps_Att0_v0.p'),\n",
       " DotPFile(id=103 | name='lora_BW7_SF10_915MHz_20ksps_Att60_v0.p'),\n",
       " DotPFile(id=104 | name='lora_BW8_SF10_915MHz_20ksps_Att40_v0.p'),\n",
       " DotPFile(id=105 | name='lora_BW1_SF12_915MHz_20ksps_Att120_v0.p')]"
      ]
     },
     "execution_count": 4,
     "metadata": {},
     "output_type": "execute_result"
    }
   ],
   "source": [
    "symloader = lorapy.load_dotp(SYMBOL_DIR)\n",
    "symloader.file_list"
   ]
  },
  {
   "cell_type": "code",
   "execution_count": null,
   "metadata": {},
   "outputs": [],
   "source": []
  },
  {
   "cell_type": "code",
   "execution_count": null,
   "metadata": {},
   "outputs": [],
   "source": []
  },
  {
   "cell_type": "markdown",
   "metadata": {},
   "source": [
    "# process "
   ]
  },
  {
   "cell_type": "markdown",
   "metadata": {},
   "source": [
    "## symbol correlation settings"
   ]
  },
  {
   "cell_type": "code",
   "execution_count": null,
   "metadata": {},
   "outputs": [],
   "source": [
    "_step_dict = {\n",
    "    1: 100,\n",
    "    2: 100,\n",
    "    7: 4,\n",
    "    8: 2,\n",
    "    9: 2,\n",
    "}"
   ]
  },
  {
   "cell_type": "markdown",
   "metadata": {},
   "source": [
    "## functions"
   ]
  },
  {
   "cell_type": "code",
   "execution_count": null,
   "metadata": {},
   "outputs": [],
   "source": [
    "def _load_matching_dotp(bw: int, sf: int):\n",
    "    return ploader.filter(bw=bw, sf=sf)[0]\n",
    "\n",
    "def _convert_files(file, dotp_file):\n",
    "    return file.to_signal(), dotp_file.to_signal()\n",
    "\n",
    "def _extract_and_manual_adjust(baseline_symbol, step_dict):\n",
    "    signal.extract_packets(method='slide-mean', auto_adj=False, overlap=0.7)\n",
    "    signal.adjust_packets(\n",
    "        force_check=True, baseline_symbol=base_symbol, \n",
    "        range_factor=10, step=step_dict[signal.stats.bw], scalar=0.6\n",
    "    )\n",
    "    \n",
    "    return signal.packets\n",
    "\n",
    "\n",
    "def _format_output_path(packet):\n",
    "    _base_path = pathlib.Path('data/lora-symbols-20k')\n",
    "    filename = pathlib.Path(packet.stats.filename)\n",
    "    out_path = _base_path.joinpath(filename.with_suffix('').with_suffix('.p'))\n",
    "    \n",
    "    return out_path\n",
    "\n",
    "def _save_symbols(data, packet):\n",
    "    out_path = _format_output_path(packet)\n",
    "    \n",
    "    with out_path.open('wb') as outfile:\n",
    "        cPickle.dump(data, outfile)\n",
    "\n",
    "        \n",
    "def _extract_symbols(packet):\n",
    "    packet.extract_preamble_symbols()\n",
    "    return packet._raw_symbols\n",
    "\n",
    "def _extract_and_save_symbols(packets):\n",
    "    full_array = np.vstack([\n",
    "        _extract_symbols(packet)\n",
    "        for packet in packets\n",
    "    ])\n",
    "    \n",
    "    packet = packets[0]\n",
    "    _save_symbols(full_array, packet)\n",
    "        "
   ]
  },
  {
   "cell_type": "markdown",
   "metadata": {},
   "source": [
    "## select matching .p file"
   ]
  },
  {
   "cell_type": "code",
   "execution_count": null,
   "metadata": {
    "scrolled": true
   },
   "outputs": [],
   "source": [
    "exceptioned_files = []\n",
    "\n",
    "for file in tqdm_notebook(loader.file_list):\n",
    "    file.load()\n",
    "    dotp_file = _load_matching_dotp(file.bw, file.sf)\n",
    "\n",
    "    signal, base_symbol = _convert_files(file, dotp_file)\n",
    "    logger.info(f'\\n{signal}')\n",
    "    logger.info(f'\\n{base_symbol}')\n",
    "    \n",
    "    try:\n",
    "        packets = _extract_and_manual_adjust(base_symbol, _step_dict)\n",
    "        _extract_and_save_symbols(packets)\n",
    "    except Exception:\n",
    "        exceptioned_files.append(file.name) \n",
    "    "
   ]
  },
  {
   "cell_type": "code",
   "execution_count": null,
   "metadata": {},
   "outputs": [],
   "source": []
  },
  {
   "cell_type": "markdown",
   "metadata": {},
   "source": [
    "# viewing"
   ]
  },
  {
   "cell_type": "code",
   "execution_count": null,
   "metadata": {},
   "outputs": [],
   "source": []
  },
  {
   "cell_type": "code",
   "execution_count": null,
   "metadata": {},
   "outputs": [],
   "source": []
  },
  {
   "cell_type": "code",
   "execution_count": null,
   "metadata": {},
   "outputs": [],
   "source": []
  },
  {
   "cell_type": "code",
   "execution_count": null,
   "metadata": {},
   "outputs": [],
   "source": []
  },
  {
   "cell_type": "code",
   "execution_count": null,
   "metadata": {},
   "outputs": [],
   "source": []
  },
  {
   "cell_type": "code",
   "execution_count": null,
   "metadata": {},
   "outputs": [],
   "source": []
  },
  {
   "cell_type": "code",
   "execution_count": null,
   "metadata": {},
   "outputs": [],
   "source": []
  },
  {
   "cell_type": "code",
   "execution_count": null,
   "metadata": {},
   "outputs": [],
   "source": []
  }
 ],
 "metadata": {
  "kernelspec": {
   "display_name": "Python 3",
   "language": "python",
   "name": "python3"
  },
  "language_info": {
   "codemirror_mode": {
    "name": "ipython",
    "version": 3
   },
   "file_extension": ".py",
   "mimetype": "text/x-python",
   "name": "python",
   "nbconvert_exporter": "python",
   "pygments_lexer": "ipython3",
   "version": "3.7.6"
  }
 },
 "nbformat": 4,
 "nbformat_minor": 4
}
