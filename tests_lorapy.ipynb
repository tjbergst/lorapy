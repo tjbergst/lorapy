{
 "cells": [
  {
   "cell_type": "markdown",
   "metadata": {},
   "source": [
    "# lorapy testing notebook "
   ]
  },
  {
   "cell_type": "code",
   "execution_count": 10,
   "metadata": {},
   "outputs": [
    {
     "name": "stdout",
     "output_type": "stream",
     "text": [
      "The autoreload extension is already loaded. To reload it, use:\n",
      "  %reload_ext autoreload\n"
     ]
    },
    {
     "data": {
      "text/plain": [
       "3"
      ]
     },
     "execution_count": 10,
     "metadata": {},
     "output_type": "execute_result"
    }
   ],
   "source": [
    "%load_ext autoreload\n",
    "%autoreload 2\n",
    "\n",
    "import pathlib\n",
    "\n",
    "import os, sys\n",
    "from loguru import logger\n",
    "logger.remove(None)\n",
    "logger.add(sys.stdout, colorize=True)"
   ]
  },
  {
   "cell_type": "markdown",
   "metadata": {},
   "source": [
    "## setup "
   ]
  },
  {
   "cell_type": "code",
   "execution_count": 11,
   "metadata": {},
   "outputs": [],
   "source": [
    "DEADEND_DATA_DIR = '/Users/trevor/Work/1-projects/lora-processing/data/dead-end'\n",
    "\n",
    "DATA_DIR = '/Users/trevor/Work/1-projects/lora-processing/data/LoRa_Recording_Outdoor'\n",
    "DATA_DIR_PLIB = pathlib.Path('/Users/trevor/Work/1-projects/lora-processing/data/LoRa_Recording_Outdoor')\n",
    "\n",
    "DATA_FILE = '/Users/trevor/Work/1-projects/lora-processing/data/LoRa_Recording_Outdoor/lora_BW8_SF12_915MHz_1Msps_Att80_v0.dat'\n",
    "DATA_FILE_PLIB = pathlib.Path('/Users/trevor/Work/1-projects/lora-processing/data/LoRa_Recording_Outdoor/lora_BW8_SF12_915MHz_1Msps_Att80_v0.dat')"
   ]
  },
  {
   "cell_type": "markdown",
   "metadata": {},
   "source": [
    "# data file loading "
   ]
  },
  {
   "cell_type": "code",
   "execution_count": 12,
   "metadata": {
    "scrolled": true
   },
   "outputs": [],
   "source": [
    "from lorapy.io.load import DatLoader"
   ]
  },
  {
   "cell_type": "markdown",
   "metadata": {},
   "source": [
    "## input path tests"
   ]
  },
  {
   "cell_type": "markdown",
   "metadata": {},
   "source": [
    "### dead end dir"
   ]
  },
  {
   "cell_type": "code",
   "execution_count": 13,
   "metadata": {
    "scrolled": true
   },
   "outputs": [
    {
     "name": "stdout",
     "output_type": "stream",
     "text": [
      "\u001b[32m2020-04-04 14:11:07.629\u001b[0m | \u001b[34m\u001b[1mDEBUG   \u001b[0m | \u001b[36mlorapy.io.load\u001b[0m:\u001b[36m_process_data_dir\u001b[0m:\u001b[36m68\u001b[0m - \u001b[34m\u001b[1mset datafile directory: /Users/trevor/Work/1-projects/lora-processing/data/dead-end\u001b[0m\n"
     ]
    },
    {
     "ename": "FileNotFoundError",
     "evalue": "no datafile files [**/*.dat] found in directory /Users/trevor/Work/1-projects/lora-processing/data/dead-end",
     "output_type": "error",
     "traceback": [
      "\u001b[0;31m---------------------------------------------------------------------------\u001b[0m",
      "\u001b[0;31mFileNotFoundError\u001b[0m                         Traceback (most recent call last)",
      "\u001b[0;32m<ipython-input-13-abd2485b46f3>\u001b[0m in \u001b[0;36m<module>\u001b[0;34m\u001b[0m\n\u001b[0;32m----> 1\u001b[0;31m \u001b[0mloader\u001b[0m \u001b[0;34m=\u001b[0m \u001b[0mDatLoader\u001b[0m\u001b[0;34m(\u001b[0m\u001b[0mDEADEND_DATA_DIR\u001b[0m\u001b[0;34m,\u001b[0m \u001b[0mautoload\u001b[0m\u001b[0;34m=\u001b[0m\u001b[0;32mTrue\u001b[0m\u001b[0;34m)\u001b[0m\u001b[0;34m\u001b[0m\u001b[0;34m\u001b[0m\u001b[0m\n\u001b[0m",
      "\u001b[0;32m~/Work/1-projects/lora-processing/lorapy/io/load.py\u001b[0m in \u001b[0;36m__init__\u001b[0;34m(self, data_path, autoload)\u001b[0m\n\u001b[1;32m     22\u001b[0m \u001b[0;34m\u001b[0m\u001b[0m\n\u001b[1;32m     23\u001b[0m         \u001b[0mself\u001b[0m\u001b[0;34m.\u001b[0m\u001b[0mdata_file\u001b[0m\u001b[0;34m:\u001b[0m \u001b[0mpathlib\u001b[0m\u001b[0;34m.\u001b[0m\u001b[0mPath\u001b[0m\u001b[0;34m(\u001b[0m\u001b[0;34m)\u001b[0m \u001b[0;34m=\u001b[0m \u001b[0;32mNone\u001b[0m\u001b[0;34m\u001b[0m\u001b[0;34m\u001b[0m\u001b[0m\n\u001b[0;32m---> 24\u001b[0;31m         \u001b[0mself\u001b[0m\u001b[0;34m.\u001b[0m\u001b[0mdata_dir\u001b[0m\u001b[0;34m:\u001b[0m \u001b[0mpathlib\u001b[0m\u001b[0;34m.\u001b[0m\u001b[0mPath\u001b[0m\u001b[0;34m(\u001b[0m\u001b[0;34m)\u001b[0m \u001b[0;34m=\u001b[0m \u001b[0mself\u001b[0m\u001b[0;34m.\u001b[0m\u001b[0m_validate_data_path\u001b[0m\u001b[0;34m(\u001b[0m\u001b[0mdata_path\u001b[0m\u001b[0;34m)\u001b[0m\u001b[0;34m\u001b[0m\u001b[0;34m\u001b[0m\u001b[0m\n\u001b[0m\u001b[1;32m     25\u001b[0m \u001b[0;34m\u001b[0m\u001b[0m\n\u001b[1;32m     26\u001b[0m \u001b[0;34m\u001b[0m\u001b[0m\n",
      "\u001b[0;32m~/Work/1-projects/lora-processing/lorapy/io/load.py\u001b[0m in \u001b[0;36m_validate_data_path\u001b[0;34m(self, path)\u001b[0m\n\u001b[1;32m     62\u001b[0m             \u001b[0;32mreturn\u001b[0m \u001b[0mpath\u001b[0m\u001b[0;34m.\u001b[0m\u001b[0mparent\u001b[0m\u001b[0;34m\u001b[0m\u001b[0;34m\u001b[0m\u001b[0m\n\u001b[1;32m     63\u001b[0m \u001b[0;34m\u001b[0m\u001b[0m\n\u001b[0;32m---> 64\u001b[0;31m         \u001b[0;32mreturn\u001b[0m \u001b[0mself\u001b[0m\u001b[0;34m.\u001b[0m\u001b[0m_process_data_dir\u001b[0m\u001b[0;34m(\u001b[0m\u001b[0mpath\u001b[0m\u001b[0;34m)\u001b[0m\u001b[0;34m\u001b[0m\u001b[0;34m\u001b[0m\u001b[0m\n\u001b[0m\u001b[1;32m     65\u001b[0m \u001b[0;34m\u001b[0m\u001b[0m\n\u001b[1;32m     66\u001b[0m \u001b[0;34m\u001b[0m\u001b[0m\n",
      "\u001b[0;32m~/Work/1-projects/lora-processing/lorapy/io/load.py\u001b[0m in \u001b[0;36m_process_data_dir\u001b[0;34m(self, data_dir)\u001b[0m\n\u001b[1;32m     70\u001b[0m \u001b[0;34m\u001b[0m\u001b[0m\n\u001b[1;32m     71\u001b[0m         \u001b[0;32mif\u001b[0m \u001b[0mlen\u001b[0m\u001b[0;34m(\u001b[0m\u001b[0mfile_list\u001b[0m\u001b[0;34m)\u001b[0m \u001b[0;34m==\u001b[0m \u001b[0;36m0\u001b[0m\u001b[0;34m:\u001b[0m\u001b[0;34m\u001b[0m\u001b[0;34m\u001b[0m\u001b[0m\n\u001b[0;32m---> 72\u001b[0;31m             \u001b[0;32mraise\u001b[0m \u001b[0mFileNotFoundError\u001b[0m\u001b[0;34m(\u001b[0m\u001b[0;34mf'no datafile files [{self._glob_pattern}] found in directory {data_dir}'\u001b[0m\u001b[0;34m)\u001b[0m\u001b[0;34m\u001b[0m\u001b[0;34m\u001b[0m\u001b[0m\n\u001b[0m\u001b[1;32m     73\u001b[0m \u001b[0;34m\u001b[0m\u001b[0m\n\u001b[1;32m     74\u001b[0m         \u001b[0mlogger\u001b[0m\u001b[0;34m.\u001b[0m\u001b[0minfo\u001b[0m\u001b[0;34m(\u001b[0m\u001b[0;34mf'found {len(file_list)} datafile file(s)'\u001b[0m\u001b[0;34m)\u001b[0m\u001b[0;34m\u001b[0m\u001b[0;34m\u001b[0m\u001b[0m\n",
      "\u001b[0;31mFileNotFoundError\u001b[0m: no datafile files [**/*.dat] found in directory /Users/trevor/Work/1-projects/lora-processing/data/dead-end"
     ]
    }
   ],
   "source": [
    "loader = DatLoader(DEADEND_DATA_DIR, autoload=True)"
   ]
  },
  {
   "cell_type": "markdown",
   "metadata": {},
   "source": [
    "### data directory "
   ]
  },
  {
   "cell_type": "code",
   "execution_count": 14,
   "metadata": {},
   "outputs": [
    {
     "name": "stdout",
     "output_type": "stream",
     "text": [
      "\u001b[32m2020-04-04 14:11:23.119\u001b[0m | \u001b[34m\u001b[1mDEBUG   \u001b[0m | \u001b[36mlorapy.io.load\u001b[0m:\u001b[36m_process_data_dir\u001b[0m:\u001b[36m68\u001b[0m - \u001b[34m\u001b[1mset datafile directory: /Users/trevor/Work/1-projects/lora-processing/data/LoRa_Recording_Outdoor\u001b[0m\n",
      "\u001b[32m2020-04-04 14:11:23.126\u001b[0m | \u001b[1mINFO    \u001b[0m | \u001b[36mlorapy.io.load\u001b[0m:\u001b[36m_process_data_dir\u001b[0m:\u001b[36m74\u001b[0m - \u001b[1mfound 20 datafile file(s)\u001b[0m\n"
     ]
    }
   ],
   "source": [
    "loader = DatLoader(DATA_DIR, autoload=True)"
   ]
  },
  {
   "cell_type": "code",
   "execution_count": 15,
   "metadata": {
    "scrolled": true
   },
   "outputs": [
    {
     "data": {
      "text/plain": [
       "(DatFile('lora_BW9_SF8_915MHz_1Msps_L42.dat'),\n",
       " [DatFile('lora_BW9_SF8_915MHz_1Msps_L42.dat'),\n",
       "  DatFile('lora_BW8_SF12_915MHz_1Msps_Att80_v0.dat'),\n",
       "  DatFile('lora_BW2_SF12_915MHz_1Msps_Att80_v0.dat'),\n",
       "  DatFile('lora_BW8_SF11_915_25MHz_1Msps_L37.dat'),\n",
       "  DatFile('lora_BW8_SF10_915MHz_1Msps_Att80_v0.dat'),\n",
       "  DatFile('lora_BW9_SF12_915MHz_1Msps_Att80_v0.dat'),\n",
       "  DatFile('lora_BW2_SF10_915MHz_1Msps_Att80_v0.dat'),\n",
       "  DatFile('lora_BW9_SF10_915MHz_1Msps_L1.dat'),\n",
       "  DatFile('lora_BW1_SF12_915MHz_1Msps_Att70_v3.dat'),\n",
       "  DatFile('lora_BW7_SF11_915MHz_1Msps_Att80_v0.dat'),\n",
       "  DatFile('lora_BW1_SF11_915MHz_1Msps_Att80_v0.dat'),\n",
       "  DatFile('lora_BW1_SF10_915MHz_1Msps_Att80_v0.dat'),\n",
       "  DatFile('lora_BW7_SF10_915MHz_1Msps_Att80_v0.dat'),\n",
       "  DatFile('lora_BW2_SF11_915MHz_1Msps_Att80_v0.dat'),\n",
       "  DatFile('lora_BW8_SF11_915MHz_1Msps_Att80_v0.dat'),\n",
       "  DatFile('lora_BW1_SF12_915MHz_1Msps_Att80_v0.dat'),\n",
       "  DatFile('lora_BW7_SF12_915MHz_1Msps_Att80_v0.dat'),\n",
       "  DatFile('lora_BW1_SF8_914_75MHz_1Msps_L24.dat'),\n",
       "  DatFile('lora_BW1_SF11_915MHz_1Msps_Att70_v3.dat'),\n",
       "  DatFile('lora_BW9_SF11_915MHz_1Msps_Att80_v0.dat')])"
      ]
     },
     "execution_count": 15,
     "metadata": {},
     "output_type": "execute_result"
    }
   ],
   "source": [
    "loader.data_file, loader.filelist"
   ]
  },
  {
   "cell_type": "code",
   "execution_count": 16,
   "metadata": {},
   "outputs": [
    {
     "name": "stdout",
     "output_type": "stream",
     "text": [
      "\u001b[32m2020-04-04 14:11:23.180\u001b[0m | \u001b[34m\u001b[1mDEBUG   \u001b[0m | \u001b[36mlorapy.io.load\u001b[0m:\u001b[36m_process_data_dir\u001b[0m:\u001b[36m68\u001b[0m - \u001b[34m\u001b[1mset datafile directory: /Users/trevor/Work/1-projects/lora-processing/data/LoRa_Recording_Outdoor\u001b[0m\n",
      "\u001b[32m2020-04-04 14:11:23.182\u001b[0m | \u001b[1mINFO    \u001b[0m | \u001b[36mlorapy.io.load\u001b[0m:\u001b[36m_process_data_dir\u001b[0m:\u001b[36m74\u001b[0m - \u001b[1mfound 20 datafile file(s)\u001b[0m\n"
     ]
    }
   ],
   "source": [
    "loader = DatLoader(DATA_DIR_PLIB, autoload=False)"
   ]
  },
  {
   "cell_type": "markdown",
   "metadata": {},
   "source": [
    "### data file"
   ]
  },
  {
   "cell_type": "markdown",
   "metadata": {},
   "source": [
    "#### `str` and `pathlib` "
   ]
  },
  {
   "cell_type": "code",
   "execution_count": 17,
   "metadata": {},
   "outputs": [
    {
     "name": "stdout",
     "output_type": "stream",
     "text": [
      "\u001b[32m2020-04-04 14:11:23.207\u001b[0m | \u001b[1mINFO    \u001b[0m | \u001b[36mlorapy.io.load\u001b[0m:\u001b[36m_validate_data_path\u001b[0m:\u001b[36m58\u001b[0m - \u001b[1mvalidated datafile file at /Users/trevor/Work/1-projects/lora-processing/data/LoRa_Recording_Outdoor/lora_BW8_SF12_915MHz_1Msps_Att80_v0.dat\u001b[0m\n",
      "\u001b[32m2020-04-04 14:11:23.208\u001b[0m | \u001b[34m\u001b[1mDEBUG   \u001b[0m | \u001b[36mlorapy.io.load\u001b[0m:\u001b[36m_validate_data_path\u001b[0m:\u001b[36m61\u001b[0m - \u001b[34m\u001b[1mset datafile directory: /Users/trevor/Work/1-projects/lora-processing/data/LoRa_Recording_Outdoor\u001b[0m\n"
     ]
    }
   ],
   "source": [
    "loader = DatLoader(DATA_FILE, autoload=True)"
   ]
  },
  {
   "cell_type": "code",
   "execution_count": 18,
   "metadata": {},
   "outputs": [
    {
     "data": {
      "text/plain": [
       "DatFile('lora_BW8_SF12_915MHz_1Msps_Att80_v0.dat')"
      ]
     },
     "execution_count": 18,
     "metadata": {},
     "output_type": "execute_result"
    }
   ],
   "source": [
    "loader.data_file"
   ]
  },
  {
   "cell_type": "code",
   "execution_count": 19,
   "metadata": {},
   "outputs": [
    {
     "name": "stdout",
     "output_type": "stream",
     "text": [
      "\u001b[32m2020-04-04 14:11:23.256\u001b[0m | \u001b[1mINFO    \u001b[0m | \u001b[36mlorapy.io.load\u001b[0m:\u001b[36m_validate_data_path\u001b[0m:\u001b[36m58\u001b[0m - \u001b[1mvalidated datafile file at /Users/trevor/Work/1-projects/lora-processing/data/LoRa_Recording_Outdoor/lora_BW8_SF12_915MHz_1Msps_Att80_v0.dat\u001b[0m\n",
      "\u001b[32m2020-04-04 14:11:23.257\u001b[0m | \u001b[34m\u001b[1mDEBUG   \u001b[0m | \u001b[36mlorapy.io.load\u001b[0m:\u001b[36m_validate_data_path\u001b[0m:\u001b[36m61\u001b[0m - \u001b[34m\u001b[1mset datafile directory: /Users/trevor/Work/1-projects/lora-processing/data/LoRa_Recording_Outdoor\u001b[0m\n"
     ]
    }
   ],
   "source": [
    "loader = DatLoader(DATA_FILE_PLIB, autoload=False)"
   ]
  },
  {
   "cell_type": "markdown",
   "metadata": {},
   "source": [
    "# datafile handling"
   ]
  },
  {
   "cell_type": "code",
   "execution_count": 20,
   "metadata": {},
   "outputs": [],
   "source": [
    "from lorapy.datafile.file import DatFile"
   ]
  },
  {
   "cell_type": "markdown",
   "metadata": {},
   "source": [
    "## encoding tests"
   ]
  },
  {
   "cell_type": "code",
   "execution_count": 21,
   "metadata": {},
   "outputs": [
    {
     "name": "stdout",
     "output_type": "stream",
     "text": [
      "\u001b[32m2020-04-04 14:11:23.311\u001b[0m | \u001b[1mINFO    \u001b[0m | \u001b[36mlorapy.io.load\u001b[0m:\u001b[36m_validate_data_path\u001b[0m:\u001b[36m58\u001b[0m - \u001b[1mvalidated datafile file at /Users/trevor/Work/1-projects/lora-processing/data/LoRa_Recording_Outdoor/lora_BW8_SF12_915MHz_1Msps_Att80_v0.dat\u001b[0m\n",
      "\u001b[32m2020-04-04 14:11:23.311\u001b[0m | \u001b[34m\u001b[1mDEBUG   \u001b[0m | \u001b[36mlorapy.io.load\u001b[0m:\u001b[36m_validate_data_path\u001b[0m:\u001b[36m61\u001b[0m - \u001b[34m\u001b[1mset datafile directory: /Users/trevor/Work/1-projects/lora-processing/data/LoRa_Recording_Outdoor\u001b[0m\n"
     ]
    }
   ],
   "source": [
    "loader = DatLoader(DATA_FILE, autoload=True)"
   ]
  },
  {
   "cell_type": "markdown",
   "metadata": {},
   "source": [
    "### params"
   ]
  },
  {
   "cell_type": "code",
   "execution_count": 22,
   "metadata": {},
   "outputs": [
    {
     "name": "stdout",
     "output_type": "stream",
     "text": [
      "\u001b[32m2020-04-04 14:11:23.340\u001b[0m | \u001b[34m\u001b[1mDEBUG   \u001b[0m | \u001b[36mlorapy.datafile.encoding\u001b[0m:\u001b[36mcompute_params\u001b[0m:\u001b[36m15\u001b[0m - \u001b[34m\u001b[1mcomputed samples per symbol: 16384 and packet length: 495616\u001b[0m\n",
      "\u001b[32m2020-04-04 14:11:23.897\u001b[0m | \u001b[1mINFO    \u001b[0m | \u001b[36mlorapy.datafile.file\u001b[0m:\u001b[36mload\u001b[0m:\u001b[36m61\u001b[0m - \u001b[1mloaded 106771756 samples from file\u001b[0m\n"
     ]
    },
    {
     "data": {
      "text/plain": [
       "'lora_BW8_SF12_915MHz_1Msps_Att80_v0.dat'"
      ]
     },
     "execution_count": 22,
     "metadata": {},
     "output_type": "execute_result"
    }
   ],
   "source": [
    "file = loader.data_file\n",
    "file.load()\n",
    "file.name"
   ]
  },
  {
   "cell_type": "code",
   "execution_count": 23,
   "metadata": {},
   "outputs": [
    {
     "data": {
      "text/plain": [
       "(8, 12, 80, 16384, 495616)"
      ]
     },
     "execution_count": 23,
     "metadata": {},
     "output_type": "execute_result"
    }
   ],
   "source": [
    "file.bw, file.sf, file.att, file.samp_per_sym, file.packet_len"
   ]
  },
  {
   "cell_type": "code",
   "execution_count": null,
   "metadata": {},
   "outputs": [],
   "source": []
  },
  {
   "cell_type": "markdown",
   "metadata": {},
   "source": [
    "# lora signal"
   ]
  },
  {
   "cell_type": "markdown",
   "metadata": {},
   "source": [
    "## convert to signal  "
   ]
  },
  {
   "cell_type": "code",
   "execution_count": 24,
   "metadata": {},
   "outputs": [
    {
     "data": {
      "text/plain": [
       "LoraSignal(length=106771756)"
      ]
     },
     "execution_count": 24,
     "metadata": {},
     "output_type": "execute_result"
    }
   ],
   "source": [
    "signal = file.to_signal()\n",
    "signal"
   ]
  },
  {
   "cell_type": "markdown",
   "metadata": {},
   "source": [
    "## extract packets"
   ]
  },
  {
   "cell_type": "code",
   "execution_count": 34,
   "metadata": {},
   "outputs": [
    {
     "name": "stdout",
     "output_type": "stream",
     "text": [
      "\u001b[32m2020-04-04 14:21:26.533\u001b[0m | \u001b[1mINFO    \u001b[0m | \u001b[36mlorapy.signals.signal\u001b[0m:\u001b[36m_process_signal\u001b[0m:\u001b[36m70\u001b[0m - \u001b[1mselected \"slide-mean\" processing method\u001b[0m\n",
      "\u001b[32m2020-04-04 14:21:26.831\u001b[0m | \u001b[1mINFO    \u001b[0m | \u001b[36mlorapy.signals.processing.sliding_mean\u001b[0m:\u001b[36m_find_all_mindices\u001b[0m:\u001b[36m55\u001b[0m - \u001b[1mscanning signal for padding locations..\u001b[0m\n",
      "\u001b[32m2020-04-04 14:21:26.832\u001b[0m | \u001b[34m\u001b[1mDEBUG   \u001b[0m | \u001b[36mlorapy.signals.processing.sliding_mean\u001b[0m:\u001b[36m_find_all_mindices\u001b[0m:\u001b[36m59\u001b[0m - \u001b[34m\u001b[1miteration 0\u001b[0m\n",
      "\u001b[32m2020-04-04 14:21:26.898\u001b[0m | \u001b[34m\u001b[1mDEBUG   \u001b[0m | \u001b[36mlorapy.signals.processing.sliding_mean\u001b[0m:\u001b[36m_find_all_mindices\u001b[0m:\u001b[36m59\u001b[0m - \u001b[34m\u001b[1miteration 50\u001b[0m\n",
      "\u001b[32m2020-04-04 14:21:26.961\u001b[0m | \u001b[34m\u001b[1mDEBUG   \u001b[0m | \u001b[36mlorapy.signals.processing.sliding_mean\u001b[0m:\u001b[36m_find_all_mindices\u001b[0m:\u001b[36m59\u001b[0m - \u001b[34m\u001b[1miteration 100\u001b[0m\n",
      "\u001b[32m2020-04-04 14:21:27.029\u001b[0m | \u001b[34m\u001b[1mDEBUG   \u001b[0m | \u001b[36mlorapy.signals.processing.sliding_mean\u001b[0m:\u001b[36m_find_all_mindices\u001b[0m:\u001b[36m59\u001b[0m - \u001b[34m\u001b[1miteration 150\u001b[0m\n",
      "\u001b[32m2020-04-04 14:21:27.098\u001b[0m | \u001b[34m\u001b[1mDEBUG   \u001b[0m | \u001b[36mlorapy.signals.processing.sliding_mean\u001b[0m:\u001b[36m_find_all_mindices\u001b[0m:\u001b[36m59\u001b[0m - \u001b[34m\u001b[1miteration 200\u001b[0m\n",
      "\u001b[32m2020-04-04 14:21:27.119\u001b[0m | \u001b[34m\u001b[1mDEBUG   \u001b[0m | \u001b[36mlorapy.signals.processing.sliding_mean\u001b[0m:\u001b[36m_scan_slice\u001b[0m:\u001b[36m92\u001b[0m - \u001b[34m\u001b[1mreached end of signal\u001b[0m\n",
      "\u001b[32m2020-04-04 14:21:27.120\u001b[0m | \u001b[34m\u001b[1mDEBUG   \u001b[0m | \u001b[36mlorapy.signals.processing.utils\u001b[0m:\u001b[36mclean_index_list\u001b[0m:\u001b[36m24\u001b[0m - \u001b[34m\u001b[1mfound 3 false indexes\u001b[0m\n",
      "\u001b[32m2020-04-04 14:21:27.121\u001b[0m | \u001b[1mINFO    \u001b[0m | \u001b[36mlorapy.signals.processing.sliding_mean\u001b[0m:\u001b[36m_find_all_mindices\u001b[0m:\u001b[36m70\u001b[0m - \u001b[1mfound [214 // 211] packet locations\u001b[0m\n",
      "\u001b[32m2020-04-04 14:21:27.153\u001b[0m | \u001b[34m\u001b[1mDEBUG   \u001b[0m | \u001b[36mlorapy.packets.utils\u001b[0m:\u001b[36mslice_all_packets\u001b[0m:\u001b[36m21\u001b[0m - \u001b[34m\u001b[1mgot max packet length: 495616\u001b[0m\n",
      "\u001b[32m2020-04-04 14:21:27.708\u001b[0m | \u001b[1mINFO    \u001b[0m | \u001b[36mlorapy.packets.utils\u001b[0m:\u001b[36mslice_all_packets\u001b[0m:\u001b[36m28\u001b[0m - \u001b[1mextracted 211 packets from signal\u001b[0m\n"
     ]
    },
    {
     "data": {
      "text/plain": [
       "(211, 495616)"
      ]
     },
     "execution_count": 34,
     "metadata": {},
     "output_type": "execute_result"
    }
   ],
   "source": [
    "packets = signal.extract_packets(method='slide-mean')\n",
    "packets.shape"
   ]
  },
  {
   "cell_type": "code",
   "execution_count": 41,
   "metadata": {},
   "outputs": [
    {
     "data": {
      "text/plain": [
       "495616"
      ]
     },
     "execution_count": 41,
     "metadata": {},
     "output_type": "execute_result"
    }
   ],
   "source": [
    "signal.stats.packet_len"
   ]
  },
  {
   "cell_type": "code",
   "execution_count": 46,
   "metadata": {},
   "outputs": [
    {
     "data": {
      "text/plain": [
       "'lora_BW8_SF12_915MHz_1Msps_Att80_v0.dat'"
      ]
     },
     "execution_count": 46,
     "metadata": {},
     "output_type": "execute_result"
    }
   ],
   "source": [
    "signal.stats.filename"
   ]
  },
  {
   "cell_type": "code",
   "execution_count": 42,
   "metadata": {},
   "outputs": [],
   "source": [
    "import matplotlib.pyplot as plt \n",
    "%matplotlib inline"
   ]
  },
  {
   "cell_type": "code",
   "execution_count": 45,
   "metadata": {},
   "outputs": [
    {
     "data": {
      "text/plain": [
       "[<matplotlib.lines.Line2D at 0x152e4b750>]"
      ]
     },
     "execution_count": 45,
     "metadata": {},
     "output_type": "execute_result"
    },
    {
     "data": {
      "image/png": "[encoded data removed]",
      "text/plain": [
       "<Figure size 432x288 with 1 Axes>"
      ]
     },
     "metadata": {
      "needs_background": "light"
     },
     "output_type": "display_data"
    }
   ],
   "source": [
    "plt.plot(packets[2, :])"
   ]
  },
  {
   "cell_type": "code",
   "execution_count": null,
   "metadata": {},
   "outputs": [],
   "source": []
  },
  {
   "cell_type": "code",
   "execution_count": null,
   "metadata": {},
   "outputs": [],
   "source": []
  },
  {
   "cell_type": "code",
   "execution_count": null,
   "metadata": {},
   "outputs": [],
   "source": []
  },
  {
   "cell_type": "code",
   "execution_count": null,
   "metadata": {},
   "outputs": [],
   "source": []
  },
  {
   "cell_type": "code",
   "execution_count": null,
   "metadata": {},
   "outputs": [],
   "source": []
  }
 ],
 "metadata": {
  "kernelspec": {
   "display_name": "Python 3",
   "language": "python",
   "name": "python3"
  },
  "language_info": {
   "codemirror_mode": {
    "name": "ipython",
    "version": 3
   },
   "file_extension": ".py",
   "mimetype": "text/x-python",
   "name": "python",
   "nbconvert_exporter": "python",
   "pygments_lexer": "ipython3",
   "version": "3.7.6"
  }
 },
 "nbformat": 4,
 "nbformat_minor": 4
}
