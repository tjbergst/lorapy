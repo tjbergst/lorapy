{
 "cells": [
  {
   "cell_type": "markdown",
   "metadata": {},
   "source": [
    "# lorapy testing notebook "
   ]
  },
  {
   "cell_type": "code",
   "execution_count": 1,
   "metadata": {},
   "outputs": [],
   "source": [
    "%load_ext autoreload\n",
    "%autoreload 2\n",
    "\n",
    "import pathlib\n",
    "\n",
    "import os, sys\n",
    "from loguru import logger\n",
    "logger.remove(None)\n",
    "logger.add(sys.stdout, colorize=True)\n",
    "\n",
    "import numpy as np\n",
    "\n",
    "import matplotlib.pyplot as plt \n",
    "plt.style.use('dark_background')\n",
    "%matplotlib inline"
   ]
  },
  {
   "cell_type": "markdown",
   "metadata": {},
   "source": [
    "## setup "
   ]
  },
  {
   "cell_type": "code",
   "execution_count": 2,
   "metadata": {},
   "outputs": [],
   "source": [
    "DEADEND_DATA_DIR = '/Users/trevor/Work/1-projects/lora-processing/data/dead-end'\n",
    "\n",
    "DATA_DIR = '/Users/trevor/Work/1-projects/lora-processing/data/LoRa_Recording_Outdoor'\n",
    "DATA_DIR_PLIB = pathlib.Path('/Users/trevor/Work/1-projects/lora-processing/data/LoRa_Recording_Outdoor')\n",
    "\n",
    "DATA_FILE = '/Users/trevor/Work/1-projects/lora-processing/data/LoRa_Recording_Outdoor/lora_BW8_SF12_915MHz_1Msps_Att80_v0.dat'\n",
    "DATA_FILE_PLIB = pathlib.Path('/Users/trevor/Work/1-projects/lora-processing/data/LoRa_Recording_Outdoor/lora_BW8_SF12_915MHz_1Msps_Att80_v0.dat')"
   ]
  },
  {
   "cell_type": "markdown",
   "metadata": {},
   "source": [
    "# data file loading "
   ]
  },
  {
   "cell_type": "code",
   "execution_count": 3,
   "metadata": {
    "scrolled": true
   },
   "outputs": [],
   "source": [
    "from lorapy.io.load import DatLoader"
   ]
  },
  {
   "cell_type": "markdown",
   "metadata": {},
   "source": [
    "## input path tests"
   ]
  },
  {
   "cell_type": "markdown",
   "metadata": {},
   "source": [
    "### dead end dir"
   ]
  },
  {
   "cell_type": "raw",
   "metadata": {},
   "source": [
    "loader = DatLoader(DEADEND_DATA_DIR, autoload=True)"
   ]
  },
  {
   "cell_type": "markdown",
   "metadata": {},
   "source": [
    "### data directory "
   ]
  },
  {
   "cell_type": "code",
   "execution_count": 4,
   "metadata": {},
   "outputs": [
    {
     "name": "stdout",
     "output_type": "stream",
     "text": [
      "\u001b[32m2020-04-04 18:18:40.902\u001b[0m | \u001b[34m\u001b[1mDEBUG   \u001b[0m | \u001b[36mlorapy.io.load\u001b[0m:\u001b[36m_process_data_dir\u001b[0m:\u001b[36m68\u001b[0m - \u001b[34m\u001b[1mset datafile directory: /Users/trevor/Work/1-projects/lora-processing/data/LoRa_Recording_Outdoor\u001b[0m\n",
      "\u001b[32m2020-04-04 18:18:40.906\u001b[0m | \u001b[1mINFO    \u001b[0m | \u001b[36mlorapy.io.load\u001b[0m:\u001b[36m_process_data_dir\u001b[0m:\u001b[36m74\u001b[0m - \u001b[1mfound 20 datafile file(s)\u001b[0m\n"
     ]
    }
   ],
   "source": [
    "loader = DatLoader(DATA_DIR, autoload=True)"
   ]
  },
  {
   "cell_type": "code",
   "execution_count": 5,
   "metadata": {
    "scrolled": true
   },
   "outputs": [
    {
     "data": {
      "text/plain": [
       "(DatFile('lora_BW9_SF8_915MHz_1Msps_L42.dat'),\n",
       " [DatFile('lora_BW9_SF8_915MHz_1Msps_L42.dat'),\n",
       "  DatFile('lora_BW8_SF12_915MHz_1Msps_Att80_v0.dat'),\n",
       "  DatFile('lora_BW2_SF12_915MHz_1Msps_Att80_v0.dat'),\n",
       "  DatFile('lora_BW8_SF11_915_25MHz_1Msps_L37.dat'),\n",
       "  DatFile('lora_BW8_SF10_915MHz_1Msps_Att80_v0.dat'),\n",
       "  DatFile('lora_BW9_SF12_915MHz_1Msps_Att80_v0.dat'),\n",
       "  DatFile('lora_BW2_SF10_915MHz_1Msps_Att80_v0.dat'),\n",
       "  DatFile('lora_BW9_SF10_915MHz_1Msps_L1.dat'),\n",
       "  DatFile('lora_BW1_SF12_915MHz_1Msps_Att70_v3.dat'),\n",
       "  DatFile('lora_BW7_SF11_915MHz_1Msps_Att80_v0.dat'),\n",
       "  DatFile('lora_BW1_SF11_915MHz_1Msps_Att80_v0.dat'),\n",
       "  DatFile('lora_BW1_SF10_915MHz_1Msps_Att80_v0.dat'),\n",
       "  DatFile('lora_BW7_SF10_915MHz_1Msps_Att80_v0.dat'),\n",
       "  DatFile('lora_BW2_SF11_915MHz_1Msps_Att80_v0.dat'),\n",
       "  DatFile('lora_BW8_SF11_915MHz_1Msps_Att80_v0.dat'),\n",
       "  DatFile('lora_BW1_SF12_915MHz_1Msps_Att80_v0.dat'),\n",
       "  DatFile('lora_BW7_SF12_915MHz_1Msps_Att80_v0.dat'),\n",
       "  DatFile('lora_BW1_SF8_914_75MHz_1Msps_L24.dat'),\n",
       "  DatFile('lora_BW1_SF11_915MHz_1Msps_Att70_v3.dat'),\n",
       "  DatFile('lora_BW9_SF11_915MHz_1Msps_Att80_v0.dat')])"
      ]
     },
     "execution_count": 5,
     "metadata": {},
     "output_type": "execute_result"
    }
   ],
   "source": [
    "loader.data_file, loader.filelist"
   ]
  },
  {
   "cell_type": "code",
   "execution_count": 6,
   "metadata": {},
   "outputs": [
    {
     "name": "stdout",
     "output_type": "stream",
     "text": [
      "\u001b[32m2020-04-04 18:18:40.984\u001b[0m | \u001b[34m\u001b[1mDEBUG   \u001b[0m | \u001b[36mlorapy.io.load\u001b[0m:\u001b[36m_process_data_dir\u001b[0m:\u001b[36m68\u001b[0m - \u001b[34m\u001b[1mset datafile directory: /Users/trevor/Work/1-projects/lora-processing/data/LoRa_Recording_Outdoor\u001b[0m\n",
      "\u001b[32m2020-04-04 18:18:40.986\u001b[0m | \u001b[1mINFO    \u001b[0m | \u001b[36mlorapy.io.load\u001b[0m:\u001b[36m_process_data_dir\u001b[0m:\u001b[36m74\u001b[0m - \u001b[1mfound 20 datafile file(s)\u001b[0m\n"
     ]
    }
   ],
   "source": [
    "loader = DatLoader(DATA_DIR_PLIB, autoload=False)"
   ]
  },
  {
   "cell_type": "markdown",
   "metadata": {},
   "source": [
    "### data file"
   ]
  },
  {
   "cell_type": "markdown",
   "metadata": {},
   "source": [
    "#### `str` and `pathlib` "
   ]
  },
  {
   "cell_type": "code",
   "execution_count": 7,
   "metadata": {},
   "outputs": [
    {
     "name": "stdout",
     "output_type": "stream",
     "text": [
      "\u001b[32m2020-04-04 18:18:41.016\u001b[0m | \u001b[1mINFO    \u001b[0m | \u001b[36mlorapy.io.load\u001b[0m:\u001b[36m_validate_data_path\u001b[0m:\u001b[36m58\u001b[0m - \u001b[1mvalidated datafile file at /Users/trevor/Work/1-projects/lora-processing/data/LoRa_Recording_Outdoor/lora_BW8_SF12_915MHz_1Msps_Att80_v0.dat\u001b[0m\n",
      "\u001b[32m2020-04-04 18:18:41.017\u001b[0m | \u001b[34m\u001b[1mDEBUG   \u001b[0m | \u001b[36mlorapy.io.load\u001b[0m:\u001b[36m_validate_data_path\u001b[0m:\u001b[36m61\u001b[0m - \u001b[34m\u001b[1mset datafile directory: /Users/trevor/Work/1-projects/lora-processing/data/LoRa_Recording_Outdoor\u001b[0m\n"
     ]
    }
   ],
   "source": [
    "loader = DatLoader(DATA_FILE, autoload=True)"
   ]
  },
  {
   "cell_type": "code",
   "execution_count": 8,
   "metadata": {},
   "outputs": [
    {
     "data": {
      "text/plain": [
       "DatFile('lora_BW8_SF12_915MHz_1Msps_Att80_v0.dat')"
      ]
     },
     "execution_count": 8,
     "metadata": {},
     "output_type": "execute_result"
    }
   ],
   "source": [
    "loader.data_file"
   ]
  },
  {
   "cell_type": "code",
   "execution_count": 9,
   "metadata": {},
   "outputs": [
    {
     "name": "stdout",
     "output_type": "stream",
     "text": [
      "\u001b[32m2020-04-04 18:18:41.085\u001b[0m | \u001b[1mINFO    \u001b[0m | \u001b[36mlorapy.io.load\u001b[0m:\u001b[36m_validate_data_path\u001b[0m:\u001b[36m58\u001b[0m - \u001b[1mvalidated datafile file at /Users/trevor/Work/1-projects/lora-processing/data/LoRa_Recording_Outdoor/lora_BW8_SF12_915MHz_1Msps_Att80_v0.dat\u001b[0m\n",
      "\u001b[32m2020-04-04 18:18:41.086\u001b[0m | \u001b[34m\u001b[1mDEBUG   \u001b[0m | \u001b[36mlorapy.io.load\u001b[0m:\u001b[36m_validate_data_path\u001b[0m:\u001b[36m61\u001b[0m - \u001b[34m\u001b[1mset datafile directory: /Users/trevor/Work/1-projects/lora-processing/data/LoRa_Recording_Outdoor\u001b[0m\n"
     ]
    }
   ],
   "source": [
    "loader = DatLoader(DATA_FILE_PLIB, autoload=False)"
   ]
  },
  {
   "cell_type": "markdown",
   "metadata": {},
   "source": [
    "# datafile handling"
   ]
  },
  {
   "cell_type": "code",
   "execution_count": 10,
   "metadata": {},
   "outputs": [],
   "source": [
    "from lorapy.datafile.file import DatFile"
   ]
  },
  {
   "cell_type": "markdown",
   "metadata": {},
   "source": [
    "## encoding tests"
   ]
  },
  {
   "cell_type": "code",
   "execution_count": 11,
   "metadata": {},
   "outputs": [
    {
     "name": "stdout",
     "output_type": "stream",
     "text": [
      "\u001b[32m2020-04-04 18:18:41.149\u001b[0m | \u001b[1mINFO    \u001b[0m | \u001b[36mlorapy.io.load\u001b[0m:\u001b[36m_validate_data_path\u001b[0m:\u001b[36m58\u001b[0m - \u001b[1mvalidated datafile file at /Users/trevor/Work/1-projects/lora-processing/data/LoRa_Recording_Outdoor/lora_BW8_SF12_915MHz_1Msps_Att80_v0.dat\u001b[0m\n",
      "\u001b[32m2020-04-04 18:18:41.150\u001b[0m | \u001b[34m\u001b[1mDEBUG   \u001b[0m | \u001b[36mlorapy.io.load\u001b[0m:\u001b[36m_validate_data_path\u001b[0m:\u001b[36m61\u001b[0m - \u001b[34m\u001b[1mset datafile directory: /Users/trevor/Work/1-projects/lora-processing/data/LoRa_Recording_Outdoor\u001b[0m\n"
     ]
    }
   ],
   "source": [
    "loader = DatLoader(DATA_FILE, autoload=True)"
   ]
  },
  {
   "cell_type": "markdown",
   "metadata": {},
   "source": [
    "### params"
   ]
  },
  {
   "cell_type": "code",
   "execution_count": 12,
   "metadata": {},
   "outputs": [
    {
     "name": "stdout",
     "output_type": "stream",
     "text": [
      "\u001b[32m2020-04-04 18:18:41.179\u001b[0m | \u001b[34m\u001b[1mDEBUG   \u001b[0m | \u001b[36mlorapy.datafile.encoding\u001b[0m:\u001b[36mcompute_params\u001b[0m:\u001b[36m15\u001b[0m - \u001b[34m\u001b[1mcomputed samples per symbol: 16384 and packet length: 495616\u001b[0m\n",
      "\u001b[32m2020-04-04 18:18:41.738\u001b[0m | \u001b[1mINFO    \u001b[0m | \u001b[36mlorapy.datafile.file\u001b[0m:\u001b[36mload\u001b[0m:\u001b[36m61\u001b[0m - \u001b[1mloaded 106771756 samples from file\u001b[0m\n"
     ]
    },
    {
     "data": {
      "text/plain": [
       "'lora_BW8_SF12_915MHz_1Msps_Att80_v0.dat'"
      ]
     },
     "execution_count": 12,
     "metadata": {},
     "output_type": "execute_result"
    }
   ],
   "source": [
    "file = loader.data_file\n",
    "file.load()\n",
    "file.name"
   ]
  },
  {
   "cell_type": "code",
   "execution_count": 13,
   "metadata": {},
   "outputs": [
    {
     "data": {
      "text/plain": [
       "(8, 12, 80, 16384, 495616)"
      ]
     },
     "execution_count": 13,
     "metadata": {},
     "output_type": "execute_result"
    }
   ],
   "source": [
    "file.bw, file.sf, file.att, file.samp_per_sym, file.packet_len"
   ]
  },
  {
   "cell_type": "code",
   "execution_count": null,
   "metadata": {},
   "outputs": [],
   "source": []
  },
  {
   "cell_type": "markdown",
   "metadata": {},
   "source": [
    "# lora signal"
   ]
  },
  {
   "cell_type": "markdown",
   "metadata": {},
   "source": [
    "## convert to signal  "
   ]
  },
  {
   "cell_type": "code",
   "execution_count": 14,
   "metadata": {},
   "outputs": [
    {
     "data": {
      "text/plain": [
       "LoraSignal(length=106771756)"
      ]
     },
     "execution_count": 14,
     "metadata": {},
     "output_type": "execute_result"
    }
   ],
   "source": [
    "signal = file.to_signal()\n",
    "signal"
   ]
  },
  {
   "cell_type": "markdown",
   "metadata": {},
   "source": [
    "## extract packets"
   ]
  },
  {
   "cell_type": "code",
   "execution_count": 15,
   "metadata": {
    "scrolled": true
   },
   "outputs": [
    {
     "name": "stdout",
     "output_type": "stream",
     "text": [
      "\u001b[32m2020-04-04 18:18:41.834\u001b[0m | \u001b[1mINFO    \u001b[0m | \u001b[36mlorapy.signals.signal\u001b[0m:\u001b[36m_process_signal\u001b[0m:\u001b[36m116\u001b[0m - \u001b[1mselected \"slide-mean\" processing method\u001b[0m\n",
      "\u001b[32m2020-04-04 18:18:42.082\u001b[0m | \u001b[1mINFO    \u001b[0m | \u001b[36mlorapy.signals.processing.sliding_mean\u001b[0m:\u001b[36m_find_all_mindices\u001b[0m:\u001b[36m55\u001b[0m - \u001b[1mscanning signal for padding locations..\u001b[0m\n",
      "\u001b[32m2020-04-04 18:18:42.083\u001b[0m | \u001b[34m\u001b[1mDEBUG   \u001b[0m | \u001b[36mlorapy.signals.processing.sliding_mean\u001b[0m:\u001b[36m_find_all_mindices\u001b[0m:\u001b[36m59\u001b[0m - \u001b[34m\u001b[1miteration 0\u001b[0m\n",
      "\u001b[32m2020-04-04 18:18:42.150\u001b[0m | \u001b[34m\u001b[1mDEBUG   \u001b[0m | \u001b[36mlorapy.signals.processing.sliding_mean\u001b[0m:\u001b[36m_find_all_mindices\u001b[0m:\u001b[36m59\u001b[0m - \u001b[34m\u001b[1miteration 50\u001b[0m\n",
      "\u001b[32m2020-04-04 18:18:42.213\u001b[0m | \u001b[34m\u001b[1mDEBUG   \u001b[0m | \u001b[36mlorapy.signals.processing.sliding_mean\u001b[0m:\u001b[36m_find_all_mindices\u001b[0m:\u001b[36m59\u001b[0m - \u001b[34m\u001b[1miteration 100\u001b[0m\n",
      "\u001b[32m2020-04-04 18:18:42.276\u001b[0m | \u001b[34m\u001b[1mDEBUG   \u001b[0m | \u001b[36mlorapy.signals.processing.sliding_mean\u001b[0m:\u001b[36m_find_all_mindices\u001b[0m:\u001b[36m59\u001b[0m - \u001b[34m\u001b[1miteration 150\u001b[0m\n",
      "\u001b[32m2020-04-04 18:18:42.341\u001b[0m | \u001b[34m\u001b[1mDEBUG   \u001b[0m | \u001b[36mlorapy.signals.processing.sliding_mean\u001b[0m:\u001b[36m_find_all_mindices\u001b[0m:\u001b[36m59\u001b[0m - \u001b[34m\u001b[1miteration 200\u001b[0m\n",
      "\u001b[32m2020-04-04 18:18:42.361\u001b[0m | \u001b[34m\u001b[1mDEBUG   \u001b[0m | \u001b[36mlorapy.signals.processing.sliding_mean\u001b[0m:\u001b[36m_scan_slice\u001b[0m:\u001b[36m92\u001b[0m - \u001b[34m\u001b[1mreached end of signal\u001b[0m\n",
      "\u001b[32m2020-04-04 18:18:42.362\u001b[0m | \u001b[34m\u001b[1mDEBUG   \u001b[0m | \u001b[36mlorapy.signals.processing.utils\u001b[0m:\u001b[36mclean_index_list\u001b[0m:\u001b[36m24\u001b[0m - \u001b[34m\u001b[1mfound 3 false indexes\u001b[0m\n",
      "\u001b[32m2020-04-04 18:18:42.362\u001b[0m | \u001b[1mINFO    \u001b[0m | \u001b[36mlorapy.signals.processing.sliding_mean\u001b[0m:\u001b[36m_find_all_mindices\u001b[0m:\u001b[36m70\u001b[0m - \u001b[1mfound [214 // 211] packet locations\u001b[0m\n",
      "\u001b[32m2020-04-04 18:18:42.381\u001b[0m | \u001b[34m\u001b[1mDEBUG   \u001b[0m | \u001b[36mlorapy.packets.utils\u001b[0m:\u001b[36mslice_all_packets\u001b[0m:\u001b[36m21\u001b[0m - \u001b[34m\u001b[1mgot max packet length: 495616\u001b[0m\n",
      "\u001b[32m2020-04-04 18:18:42.770\u001b[0m | \u001b[1mINFO    \u001b[0m | \u001b[36mlorapy.packets.utils\u001b[0m:\u001b[36mslice_all_packets\u001b[0m:\u001b[36m28\u001b[0m - \u001b[1mextracted 211 packets from signal\u001b[0m\n",
      "\u001b[32m2020-04-04 18:18:42.778\u001b[0m | \u001b[34m\u001b[1mDEBUG   \u001b[0m | \u001b[36mlorapy.packets.packet\u001b[0m:\u001b[36mbiased_mean\u001b[0m:\u001b[36m63\u001b[0m - \u001b[34m\u001b[1mgot biased packet [2068 / 495616] [0.00020 / 0.00008]\u001b[0m\n",
      "\u001b[32m2020-04-04 18:18:43.040\u001b[0m | \u001b[1mINFO    \u001b[0m | \u001b[36mlorapy.packets.packet\u001b[0m:\u001b[36mget_adjustment\u001b[0m:\u001b[36m53\u001b[0m - \u001b[1mgot final adjustment: 22600\u001b[0m\n",
      "\u001b[32m2020-04-04 18:18:43.047\u001b[0m | \u001b[34m\u001b[1mDEBUG   \u001b[0m | \u001b[36mlorapy.packets.packet\u001b[0m:\u001b[36mbiased_mean\u001b[0m:\u001b[36m63\u001b[0m - \u001b[34m\u001b[1mgot biased packet [667 / 495616] [0.00022 / 0.00008]\u001b[0m\n",
      "\u001b[32m2020-04-04 18:18:43.463\u001b[0m | \u001b[1mINFO    \u001b[0m | \u001b[36mlorapy.packets.packet\u001b[0m:\u001b[36mget_adjustment\u001b[0m:\u001b[36m53\u001b[0m - \u001b[1mgot final adjustment: 35700\u001b[0m\n",
      "\u001b[32m2020-04-04 18:18:43.469\u001b[0m | \u001b[34m\u001b[1mDEBUG   \u001b[0m | \u001b[36mlorapy.packets.packet\u001b[0m:\u001b[36mbiased_mean\u001b[0m:\u001b[36m63\u001b[0m - \u001b[34m\u001b[1mgot biased packet [832 / 495616] [0.00022 / 0.00008]\u001b[0m\n",
      "\u001b[32m2020-04-04 18:18:43.474\u001b[0m | \u001b[1mINFO    \u001b[0m | \u001b[36mlorapy.packets.packet\u001b[0m:\u001b[36mget_adjustment\u001b[0m:\u001b[36m53\u001b[0m - \u001b[1mgot final adjustment: 200\u001b[0m\n",
      "\u001b[32m2020-04-04 18:18:43.481\u001b[0m | \u001b[34m\u001b[1mDEBUG   \u001b[0m | \u001b[36mlorapy.packets.packet\u001b[0m:\u001b[36mbiased_mean\u001b[0m:\u001b[36m63\u001b[0m - \u001b[34m\u001b[1mgot biased packet [1861 / 495616] [0.00020 / 0.00008]\u001b[0m\n",
      "\u001b[32m2020-04-04 18:18:44.350\u001b[0m | \u001b[1mINFO    \u001b[0m | \u001b[36mlorapy.packets.packet\u001b[0m:\u001b[36mget_adjustment\u001b[0m:\u001b[36m53\u001b[0m - \u001b[1mgot final adjustment: 75500\u001b[0m\n",
      "\u001b[32m2020-04-04 18:18:44.351\u001b[0m | \u001b[33m\u001b[1mWARNING \u001b[0m | \u001b[36mlorapy.packets.packet\u001b[0m:\u001b[36m_check_over_adjustment\u001b[0m:\u001b[36m89\u001b[0m - \u001b[33m\u001b[1mpacket 3 is set to be overadjusted [75500 / 42500.0]\u001b[0m\n",
      "\u001b[32m2020-04-04 18:18:44.351\u001b[0m | \u001b[33m\u001b[1mWARNING \u001b[0m | \u001b[36mlorapy.packets.packet\u001b[0m:\u001b[36m_check_over_adjustment\u001b[0m:\u001b[36m89\u001b[0m - \u001b[33m\u001b[1mpacket 3 is set to be overadjusted [75500 / 42500.0]\u001b[0m\n",
      "\u001b[32m2020-04-04 18:18:44.359\u001b[0m | \u001b[34m\u001b[1mDEBUG   \u001b[0m | \u001b[36mlorapy.packets.packet\u001b[0m:\u001b[36mbiased_mean\u001b[0m:\u001b[36m63\u001b[0m - \u001b[34m\u001b[1mgot biased packet [2969 / 495616] [0.00020 / 0.00008]\u001b[0m\n",
      "\u001b[32m2020-04-04 18:18:44.605\u001b[0m | \u001b[1mINFO    \u001b[0m | \u001b[36mlorapy.packets.packet\u001b[0m:\u001b[36mget_adjustment\u001b[0m:\u001b[36m53\u001b[0m - \u001b[1mgot final adjustment: 20400\u001b[0m\n",
      "\u001b[32m2020-04-04 18:18:44.611\u001b[0m | \u001b[34m\u001b[1mDEBUG   \u001b[0m | \u001b[36mlorapy.packets.packet\u001b[0m:\u001b[36mbiased_mean\u001b[0m:\u001b[36m63\u001b[0m - \u001b[34m\u001b[1mgot biased packet [1296 / 495616] [0.00021 / 0.00008]\u001b[0m\n",
      "\u001b[32m2020-04-04 18:18:44.990\u001b[0m | \u001b[1mINFO    \u001b[0m | \u001b[36mlorapy.packets.packet\u001b[0m:\u001b[36mget_adjustment\u001b[0m:\u001b[36m53\u001b[0m - \u001b[1mgot final adjustment: 32200\u001b[0m\n",
      "\u001b[32m2020-04-04 18:18:44.997\u001b[0m | \u001b[34m\u001b[1mDEBUG   \u001b[0m | \u001b[36mlorapy.packets.packet\u001b[0m:\u001b[36mbiased_mean\u001b[0m:\u001b[36m63\u001b[0m - \u001b[34m\u001b[1mgot biased packet [3442 / 495616] [0.00019 / 0.00008]\u001b[0m\n",
      "\u001b[32m2020-04-04 18:18:45.173\u001b[0m | \u001b[1mINFO    \u001b[0m | \u001b[36mlorapy.packets.packet\u001b[0m:\u001b[36mget_adjustment\u001b[0m:\u001b[36m53\u001b[0m - \u001b[1mgot final adjustment: 14600\u001b[0m\n",
      "\u001b[32m2020-04-04 18:18:45.180\u001b[0m | \u001b[34m\u001b[1mDEBUG   \u001b[0m | \u001b[36mlorapy.packets.packet\u001b[0m:\u001b[36mbiased_mean\u001b[0m:\u001b[36m63\u001b[0m - \u001b[34m\u001b[1mgot biased packet [722 / 495616] [0.00022 / 0.00008]\u001b[0m\n",
      "\u001b[32m2020-04-04 18:18:45.872\u001b[0m | \u001b[1mINFO    \u001b[0m | \u001b[36mlorapy.packets.packet\u001b[0m:\u001b[36mget_adjustment\u001b[0m:\u001b[36m53\u001b[0m - \u001b[1mgot final adjustment: 60600\u001b[0m\n",
      "\u001b[32m2020-04-04 18:18:45.873\u001b[0m | \u001b[33m\u001b[1mWARNING \u001b[0m | \u001b[36mlorapy.packets.packet\u001b[0m:\u001b[36m_check_over_adjustment\u001b[0m:\u001b[36m89\u001b[0m - \u001b[33m\u001b[1mpacket 7 is set to be overadjusted [60600 / 42500.0]\u001b[0m\n",
      "\u001b[32m2020-04-04 18:18:45.874\u001b[0m | \u001b[33m\u001b[1mWARNING \u001b[0m | \u001b[36mlorapy.packets.packet\u001b[0m:\u001b[36m_check_over_adjustment\u001b[0m:\u001b[36m89\u001b[0m - \u001b[33m\u001b[1mpacket 7 is set to be overadjusted [60600 / 42500.0]\u001b[0m\n",
      "\u001b[32m2020-04-04 18:18:45.883\u001b[0m | \u001b[34m\u001b[1mDEBUG   \u001b[0m | \u001b[36mlorapy.packets.packet\u001b[0m:\u001b[36mbiased_mean\u001b[0m:\u001b[36m63\u001b[0m - \u001b[34m\u001b[1mgot biased packet [1884 / 495616] [0.00020 / 0.00008]\u001b[0m\n",
      "\u001b[32m2020-04-04 18:18:46.176\u001b[0m | \u001b[1mINFO    \u001b[0m | \u001b[36mlorapy.packets.packet\u001b[0m:\u001b[36mget_adjustment\u001b[0m:\u001b[36m53\u001b[0m - \u001b[1mgot final adjustment: 25200\u001b[0m\n",
      "\u001b[32m2020-04-04 18:18:46.183\u001b[0m | \u001b[34m\u001b[1mDEBUG   \u001b[0m | \u001b[36mlorapy.packets.packet\u001b[0m:\u001b[36mbiased_mean\u001b[0m:\u001b[36m63\u001b[0m - \u001b[34m\u001b[1mgot biased packet [839 / 495616] [0.00022 / 0.00008]\u001b[0m\n",
      "\u001b[32m2020-04-04 18:18:46.606\u001b[0m | \u001b[1mINFO    \u001b[0m | \u001b[36mlorapy.packets.packet\u001b[0m:\u001b[36mget_adjustment\u001b[0m:\u001b[36m53\u001b[0m - \u001b[1mgot final adjustment: 37100\u001b[0m\n",
      "\u001b[32m2020-04-04 18:18:46.613\u001b[0m | \u001b[34m\u001b[1mDEBUG   \u001b[0m | \u001b[36mlorapy.packets.packet\u001b[0m:\u001b[36mbiased_mean\u001b[0m:\u001b[36m63\u001b[0m - \u001b[34m\u001b[1mgot biased packet [1254 / 495616] [0.00021 / 0.00008]\u001b[0m\n",
      "\u001b[32m2020-04-04 18:18:47.137\u001b[0m | \u001b[1mINFO    \u001b[0m | \u001b[36mlorapy.packets.packet\u001b[0m:\u001b[36mget_adjustment\u001b[0m:\u001b[36m53\u001b[0m - \u001b[1mgot final adjustment: 44800\u001b[0m\n",
      "\u001b[32m2020-04-04 18:18:47.138\u001b[0m | \u001b[33m\u001b[1mWARNING \u001b[0m | \u001b[36mlorapy.packets.packet\u001b[0m:\u001b[36m_check_over_adjustment\u001b[0m:\u001b[36m89\u001b[0m - \u001b[33m\u001b[1mpacket 10 is set to be overadjusted [44800 / 42500.0]\u001b[0m\n",
      "\u001b[32m2020-04-04 18:18:47.139\u001b[0m | \u001b[33m\u001b[1mWARNING \u001b[0m | \u001b[36mlorapy.packets.packet\u001b[0m:\u001b[36m_check_over_adjustment\u001b[0m:\u001b[36m89\u001b[0m - \u001b[33m\u001b[1mpacket 10 is set to be overadjusted [44800 / 42500.0]\u001b[0m\n",
      "\u001b[32m2020-04-04 18:18:47.146\u001b[0m | \u001b[34m\u001b[1mDEBUG   \u001b[0m | \u001b[36mlorapy.packets.packet\u001b[0m:\u001b[36mbiased_mean\u001b[0m:\u001b[36m63\u001b[0m - \u001b[34m\u001b[1mgot biased packet [1984 / 495616] [0.00020 / 0.00008]\u001b[0m\n",
      "\u001b[32m2020-04-04 18:18:47.358\u001b[0m | \u001b[1mINFO    \u001b[0m | \u001b[36mlorapy.packets.packet\u001b[0m:\u001b[36mget_adjustment\u001b[0m:\u001b[36m53\u001b[0m - \u001b[1mgot final adjustment: 17500\u001b[0m\n",
      "\u001b[32m2020-04-04 18:18:47.365\u001b[0m | \u001b[34m\u001b[1mDEBUG   \u001b[0m | \u001b[36mlorapy.packets.packet\u001b[0m:\u001b[36mbiased_mean\u001b[0m:\u001b[36m63\u001b[0m - \u001b[34m\u001b[1mgot biased packet [716 / 495616] [0.00022 / 0.00008]\u001b[0m\n",
      "\u001b[32m2020-04-04 18:18:48.173\u001b[0m | \u001b[1mINFO    \u001b[0m | \u001b[36mlorapy.packets.packet\u001b[0m:\u001b[36mget_adjustment\u001b[0m:\u001b[36m53\u001b[0m - \u001b[1mgot final adjustment: 70900\u001b[0m\n",
      "\u001b[32m2020-04-04 18:18:48.174\u001b[0m | \u001b[33m\u001b[1mWARNING \u001b[0m | \u001b[36mlorapy.packets.packet\u001b[0m:\u001b[36m_check_over_adjustment\u001b[0m:\u001b[36m89\u001b[0m - \u001b[33m\u001b[1mpacket 12 is set to be overadjusted [70900 / 42500.0]\u001b[0m\n",
      "\u001b[32m2020-04-04 18:18:48.174\u001b[0m | \u001b[33m\u001b[1mWARNING \u001b[0m | \u001b[36mlorapy.packets.packet\u001b[0m:\u001b[36m_check_over_adjustment\u001b[0m:\u001b[36m89\u001b[0m - \u001b[33m\u001b[1mpacket 12 is set to be overadjusted [70900 / 42500.0]\u001b[0m\n",
      "\u001b[32m2020-04-04 18:18:48.182\u001b[0m | \u001b[34m\u001b[1mDEBUG   \u001b[0m | \u001b[36mlorapy.packets.packet\u001b[0m:\u001b[36mbiased_mean\u001b[0m:\u001b[36m63\u001b[0m - \u001b[34m\u001b[1mgot biased packet [1308 / 495616] [0.00021 / 0.00008]\u001b[0m\n",
      "\u001b[32m2020-04-04 18:18:48.471\u001b[0m | \u001b[1mINFO    \u001b[0m | \u001b[36mlorapy.packets.packet\u001b[0m:\u001b[36mget_adjustment\u001b[0m:\u001b[36m53\u001b[0m - \u001b[1mgot final adjustment: 25000\u001b[0m\n",
      "\u001b[32m2020-04-04 18:18:48.478\u001b[0m | \u001b[34m\u001b[1mDEBUG   \u001b[0m | \u001b[36mlorapy.packets.packet\u001b[0m:\u001b[36mbiased_mean\u001b[0m:\u001b[36m63\u001b[0m - \u001b[34m\u001b[1mgot biased packet [1938 / 495616] [0.00020 / 0.00008]\u001b[0m\n",
      "\u001b[32m2020-04-04 18:18:48.715\u001b[0m | \u001b[1mINFO    \u001b[0m | \u001b[36mlorapy.packets.packet\u001b[0m:\u001b[36mget_adjustment\u001b[0m:\u001b[36m53\u001b[0m - \u001b[1mgot final adjustment: 20300\u001b[0m\n",
      "\u001b[32m2020-04-04 18:18:48.721\u001b[0m | \u001b[34m\u001b[1mDEBUG   \u001b[0m | \u001b[36mlorapy.packets.packet\u001b[0m:\u001b[36mbiased_mean\u001b[0m:\u001b[36m63\u001b[0m - \u001b[34m\u001b[1mgot biased packet [1778 / 495616] [0.00020 / 0.00008]\u001b[0m\n",
      "\u001b[32m2020-04-04 18:18:48.964\u001b[0m | \u001b[1mINFO    \u001b[0m | \u001b[36mlorapy.packets.packet\u001b[0m:\u001b[36mget_adjustment\u001b[0m:\u001b[36m53\u001b[0m - \u001b[1mgot final adjustment: 20600\u001b[0m\n",
      "\u001b[32m2020-04-04 18:18:48.971\u001b[0m | \u001b[34m\u001b[1mDEBUG   \u001b[0m | \u001b[36mlorapy.packets.packet\u001b[0m:\u001b[36mbiased_mean\u001b[0m:\u001b[36m63\u001b[0m - \u001b[34m\u001b[1mgot biased packet [826 / 495616] [0.00022 / 0.00008]\u001b[0m\n",
      "\u001b[32m2020-04-04 18:18:50.028\u001b[0m | \u001b[1mINFO    \u001b[0m | \u001b[36mlorapy.packets.packet\u001b[0m:\u001b[36mget_adjustment\u001b[0m:\u001b[36m53\u001b[0m - \u001b[1mgot final adjustment: 92200\u001b[0m\n",
      "\u001b[32m2020-04-04 18:18:50.029\u001b[0m | \u001b[33m\u001b[1mWARNING \u001b[0m | \u001b[36mlorapy.packets.packet\u001b[0m:\u001b[36m_check_over_adjustment\u001b[0m:\u001b[36m89\u001b[0m - \u001b[33m\u001b[1mpacket 16 is set to be overadjusted [92200 / 42500.0]\u001b[0m\n",
      "\u001b[32m2020-04-04 18:18:50.030\u001b[0m | \u001b[33m\u001b[1mWARNING \u001b[0m | \u001b[36mlorapy.packets.packet\u001b[0m:\u001b[36m_check_over_adjustment\u001b[0m:\u001b[36m89\u001b[0m - \u001b[33m\u001b[1mpacket 16 is set to be overadjusted [92200 / 42500.0]\u001b[0m\n",
      "\u001b[32m2020-04-04 18:18:50.037\u001b[0m | \u001b[34m\u001b[1mDEBUG   \u001b[0m | \u001b[36mlorapy.packets.packet\u001b[0m:\u001b[36mbiased_mean\u001b[0m:\u001b[36m63\u001b[0m - \u001b[34m\u001b[1mgot biased packet [2012 / 495616] [0.00020 / 0.00008]\u001b[0m\n",
      "\u001b[32m2020-04-04 18:18:50.291\u001b[0m | \u001b[1mINFO    \u001b[0m | \u001b[36mlorapy.packets.packet\u001b[0m:\u001b[36mget_adjustment\u001b[0m:\u001b[36m53\u001b[0m - \u001b[1mgot final adjustment: 21100\u001b[0m\n",
      "\u001b[32m2020-04-04 18:18:50.298\u001b[0m | \u001b[34m\u001b[1mDEBUG   \u001b[0m | \u001b[36mlorapy.packets.packet\u001b[0m:\u001b[36mbiased_mean\u001b[0m:\u001b[36m63\u001b[0m - \u001b[34m\u001b[1mgot biased packet [1946 / 495616] [0.00020 / 0.00008]\u001b[0m\n",
      "\u001b[32m2020-04-04 18:18:50.350\u001b[0m | \u001b[1mINFO    \u001b[0m | \u001b[36mlorapy.packets.packet\u001b[0m:\u001b[36mget_adjustment\u001b[0m:\u001b[36m53\u001b[0m - \u001b[1mgot final adjustment: 4000\u001b[0m\n",
      "\u001b[32m2020-04-04 18:18:50.357\u001b[0m | \u001b[34m\u001b[1mDEBUG   \u001b[0m | \u001b[36mlorapy.packets.packet\u001b[0m:\u001b[36mbiased_mean\u001b[0m:\u001b[36m63\u001b[0m - \u001b[34m\u001b[1mgot biased packet [2977 / 495616] [0.00020 / 0.00008]\u001b[0m\n",
      "\u001b[32m2020-04-04 18:18:50.617\u001b[0m | \u001b[1mINFO    \u001b[0m | \u001b[36mlorapy.packets.packet\u001b[0m:\u001b[36mget_adjustment\u001b[0m:\u001b[36m53\u001b[0m - \u001b[1mgot final adjustment: 22000\u001b[0m\n",
      "\u001b[32m2020-04-04 18:18:50.624\u001b[0m | \u001b[34m\u001b[1mDEBUG   \u001b[0m | \u001b[36mlorapy.packets.packet\u001b[0m:\u001b[36mbiased_mean\u001b[0m:\u001b[36m63\u001b[0m - \u001b[34m\u001b[1mgot biased packet [771 / 495616] [0.00022 / 0.00008]\u001b[0m\n",
      "\u001b[32m2020-04-04 18:18:50.898\u001b[0m | \u001b[1mINFO    \u001b[0m | \u001b[36mlorapy.packets.packet\u001b[0m:\u001b[36mget_adjustment\u001b[0m:\u001b[36m53\u001b[0m - \u001b[1mgot final adjustment: 23000\u001b[0m\n",
      "\u001b[32m2020-04-04 18:18:50.905\u001b[0m | \u001b[34m\u001b[1mDEBUG   \u001b[0m | \u001b[36mlorapy.packets.packet\u001b[0m:\u001b[36mbiased_mean\u001b[0m:\u001b[36m63\u001b[0m - \u001b[34m\u001b[1mgot biased packet [1897 / 495616] [0.00020 / 0.00008]\u001b[0m\n",
      "\u001b[32m2020-04-04 18:18:51.174\u001b[0m | \u001b[1mINFO    \u001b[0m | \u001b[36mlorapy.packets.packet\u001b[0m:\u001b[36mget_adjustment\u001b[0m:\u001b[36m53\u001b[0m - \u001b[1mgot final adjustment: 23000\u001b[0m\n",
      "\u001b[32m2020-04-04 18:18:51.181\u001b[0m | \u001b[34m\u001b[1mDEBUG   \u001b[0m | \u001b[36mlorapy.packets.packet\u001b[0m:\u001b[36mbiased_mean\u001b[0m:\u001b[36m63\u001b[0m - \u001b[34m\u001b[1mgot biased packet [1313 / 495616] [0.00021 / 0.00008]\u001b[0m\n",
      "\u001b[32m2020-04-04 18:18:51.428\u001b[0m | \u001b[1mINFO    \u001b[0m | \u001b[36mlorapy.packets.packet\u001b[0m:\u001b[36mget_adjustment\u001b[0m:\u001b[36m53\u001b[0m - \u001b[1mgot final adjustment: 21000\u001b[0m\n",
      "\u001b[32m2020-04-04 18:18:51.435\u001b[0m | \u001b[34m\u001b[1mDEBUG   \u001b[0m | \u001b[36mlorapy.packets.packet\u001b[0m:\u001b[36mbiased_mean\u001b[0m:\u001b[36m63\u001b[0m - \u001b[34m\u001b[1mgot biased packet [9181 / 495616] [0.00045 / 0.00010]\u001b[0m\n",
      "\u001b[32m2020-04-04 18:18:51.938\u001b[0m | \u001b[1mINFO    \u001b[0m | \u001b[36mlorapy.packets.packet\u001b[0m:\u001b[36mget_adjustment\u001b[0m:\u001b[36m53\u001b[0m - \u001b[1mgot final adjustment: 40100\u001b[0m\n",
      "\u001b[32m2020-04-04 18:18:51.945\u001b[0m | \u001b[34m\u001b[1mDEBUG   \u001b[0m | \u001b[36mlorapy.packets.packet\u001b[0m:\u001b[36mbiased_mean\u001b[0m:\u001b[36m63\u001b[0m - \u001b[34m\u001b[1mgot biased packet [2875 / 495616] [0.00020 / 0.00008]\u001b[0m\n",
      "\u001b[32m2020-04-04 18:18:52.387\u001b[0m | \u001b[1mINFO    \u001b[0m | \u001b[36mlorapy.packets.packet\u001b[0m:\u001b[36mget_adjustment\u001b[0m:\u001b[36m53\u001b[0m - \u001b[1mgot final adjustment: 34700\u001b[0m\n",
      "\u001b[32m2020-04-04 18:18:52.393\u001b[0m | \u001b[34m\u001b[1mDEBUG   \u001b[0m | \u001b[36mlorapy.packets.packet\u001b[0m:\u001b[36mbiased_mean\u001b[0m:\u001b[36m63\u001b[0m - \u001b[34m\u001b[1mgot biased packet [3142 / 495616] [0.00020 / 0.00008]\u001b[0m\n",
      "\u001b[32m2020-04-04 18:18:52.740\u001b[0m | \u001b[1mINFO    \u001b[0m | \u001b[36mlorapy.packets.packet\u001b[0m:\u001b[36mget_adjustment\u001b[0m:\u001b[36m53\u001b[0m - \u001b[1mgot final adjustment: 28800\u001b[0m\n",
      "\u001b[32m2020-04-04 18:18:52.747\u001b[0m | \u001b[34m\u001b[1mDEBUG   \u001b[0m | \u001b[36mlorapy.packets.packet\u001b[0m:\u001b[36mbiased_mean\u001b[0m:\u001b[36m63\u001b[0m - \u001b[34m\u001b[1mgot biased packet [1259 / 495616] [0.00021 / 0.00008]\u001b[0m\n",
      "\u001b[32m2020-04-04 18:18:53.058\u001b[0m | \u001b[1mINFO    \u001b[0m | \u001b[36mlorapy.packets.packet\u001b[0m:\u001b[36mget_adjustment\u001b[0m:\u001b[36m53\u001b[0m - \u001b[1mgot final adjustment: 25400\u001b[0m\n",
      "\u001b[32m2020-04-04 18:18:53.066\u001b[0m | \u001b[34m\u001b[1mDEBUG   \u001b[0m | \u001b[36mlorapy.packets.packet\u001b[0m:\u001b[36mbiased_mean\u001b[0m:\u001b[36m63\u001b[0m - \u001b[34m\u001b[1mgot biased packet [1242 / 495616] [0.00021 / 0.00008]\u001b[0m\n",
      "\u001b[32m2020-04-04 18:18:53.306\u001b[0m | \u001b[1mINFO    \u001b[0m | \u001b[36mlorapy.packets.packet\u001b[0m:\u001b[36mget_adjustment\u001b[0m:\u001b[36m53\u001b[0m - \u001b[1mgot final adjustment: 20200\u001b[0m\n",
      "\u001b[32m2020-04-04 18:18:53.313\u001b[0m | \u001b[34m\u001b[1mDEBUG   \u001b[0m | \u001b[36mlorapy.packets.packet\u001b[0m:\u001b[36mbiased_mean\u001b[0m:\u001b[36m63\u001b[0m - \u001b[34m\u001b[1mgot biased packet [1830 / 495616] [0.00020 / 0.00008]\u001b[0m\n",
      "\u001b[32m2020-04-04 18:18:53.579\u001b[0m | \u001b[1mINFO    \u001b[0m | \u001b[36mlorapy.packets.packet\u001b[0m:\u001b[36mget_adjustment\u001b[0m:\u001b[36m53\u001b[0m - \u001b[1mgot final adjustment: 22700\u001b[0m\n",
      "\u001b[32m2020-04-04 18:18:53.586\u001b[0m | \u001b[34m\u001b[1mDEBUG   \u001b[0m | \u001b[36mlorapy.packets.packet\u001b[0m:\u001b[36mbiased_mean\u001b[0m:\u001b[36m63\u001b[0m - \u001b[34m\u001b[1mgot biased packet [893 / 495616] [0.00022 / 0.00008]\u001b[0m\n",
      "\u001b[32m2020-04-04 18:18:53.849\u001b[0m | \u001b[1mINFO    \u001b[0m | \u001b[36mlorapy.packets.packet\u001b[0m:\u001b[36mget_adjustment\u001b[0m:\u001b[36m53\u001b[0m - \u001b[1mgot final adjustment: 22400\u001b[0m\n",
      "\u001b[32m2020-04-04 18:18:53.856\u001b[0m | \u001b[34m\u001b[1mDEBUG   \u001b[0m | \u001b[36mlorapy.packets.packet\u001b[0m:\u001b[36mbiased_mean\u001b[0m:\u001b[36m63\u001b[0m - \u001b[34m\u001b[1mgot biased packet [1335 / 495616] [0.00021 / 0.00008]\u001b[0m\n",
      "\u001b[32m2020-04-04 18:18:54.117\u001b[0m | \u001b[1mINFO    \u001b[0m | \u001b[36mlorapy.packets.packet\u001b[0m:\u001b[36mget_adjustment\u001b[0m:\u001b[36m53\u001b[0m - \u001b[1mgot final adjustment: 22000\u001b[0m\n",
      "\u001b[32m2020-04-04 18:18:54.124\u001b[0m | \u001b[34m\u001b[1mDEBUG   \u001b[0m | \u001b[36mlorapy.packets.packet\u001b[0m:\u001b[36mbiased_mean\u001b[0m:\u001b[36m63\u001b[0m - \u001b[34m\u001b[1mgot biased packet [2205 / 495616] [0.00020 / 0.00008]\u001b[0m\n",
      "\u001b[32m2020-04-04 18:18:54.444\u001b[0m | \u001b[1mINFO    \u001b[0m | \u001b[36mlorapy.packets.packet\u001b[0m:\u001b[36mget_adjustment\u001b[0m:\u001b[36m53\u001b[0m - \u001b[1mgot final adjustment: 24800\u001b[0m\n",
      "\u001b[32m2020-04-04 18:18:54.452\u001b[0m | \u001b[34m\u001b[1mDEBUG   \u001b[0m | \u001b[36mlorapy.packets.packet\u001b[0m:\u001b[36mbiased_mean\u001b[0m:\u001b[36m63\u001b[0m - \u001b[34m\u001b[1mgot biased packet [2205 / 495616] [0.00020 / 0.00008]\u001b[0m\n",
      "\u001b[32m2020-04-04 18:18:54.737\u001b[0m | \u001b[1mINFO    \u001b[0m | \u001b[36mlorapy.packets.packet\u001b[0m:\u001b[36mget_adjustment\u001b[0m:\u001b[36m53\u001b[0m - \u001b[1mgot final adjustment: 22200\u001b[0m\n",
      "\u001b[32m2020-04-04 18:18:54.744\u001b[0m | \u001b[34m\u001b[1mDEBUG   \u001b[0m | \u001b[36mlorapy.packets.packet\u001b[0m:\u001b[36mbiased_mean\u001b[0m:\u001b[36m63\u001b[0m - \u001b[34m\u001b[1mgot biased packet [785 / 495616] [0.00022 / 0.00008]\u001b[0m\n",
      "\u001b[32m2020-04-04 18:18:55.233\u001b[0m | \u001b[1mINFO    \u001b[0m | \u001b[36mlorapy.packets.packet\u001b[0m:\u001b[36mget_adjustment\u001b[0m:\u001b[36m53\u001b[0m - \u001b[1mgot final adjustment: 39800\u001b[0m\n",
      "\u001b[32m2020-04-04 18:18:55.241\u001b[0m | \u001b[34m\u001b[1mDEBUG   \u001b[0m | \u001b[36mlorapy.packets.packet\u001b[0m:\u001b[36mbiased_mean\u001b[0m:\u001b[36m63\u001b[0m - \u001b[34m\u001b[1mgot biased packet [785 / 495616] [0.00022 / 0.00008]\u001b[0m\n",
      "\u001b[32m2020-04-04 18:18:55.750\u001b[0m | \u001b[1mINFO    \u001b[0m | \u001b[36mlorapy.packets.packet\u001b[0m:\u001b[36mget_adjustment\u001b[0m:\u001b[36m53\u001b[0m - \u001b[1mgot final adjustment: 37100\u001b[0m\n",
      "\u001b[32m2020-04-04 18:18:55.757\u001b[0m | \u001b[34m\u001b[1mDEBUG   \u001b[0m | \u001b[36mlorapy.packets.packet\u001b[0m:\u001b[36mbiased_mean\u001b[0m:\u001b[36m63\u001b[0m - \u001b[34m\u001b[1mgot biased packet [1730 / 495616] [0.00020 / 0.00008]\u001b[0m\n",
      "\u001b[32m2020-04-04 18:18:56.054\u001b[0m | \u001b[1mINFO    \u001b[0m | \u001b[36mlorapy.packets.packet\u001b[0m:\u001b[36mget_adjustment\u001b[0m:\u001b[36m53\u001b[0m - \u001b[1mgot final adjustment: 20800\u001b[0m\n",
      "\u001b[32m2020-04-04 18:18:56.062\u001b[0m | \u001b[34m\u001b[1mDEBUG   \u001b[0m | \u001b[36mlorapy.packets.packet\u001b[0m:\u001b[36mbiased_mean\u001b[0m:\u001b[36m63\u001b[0m - \u001b[34m\u001b[1mgot biased packet [1864 / 495616] [0.00020 / 0.00008]\u001b[0m\n",
      "\u001b[32m2020-04-04 18:18:56.329\u001b[0m | \u001b[1mINFO    \u001b[0m | \u001b[36mlorapy.packets.packet\u001b[0m:\u001b[36mget_adjustment\u001b[0m:\u001b[36m53\u001b[0m - \u001b[1mgot final adjustment: 19800\u001b[0m\n",
      "\u001b[32m2020-04-04 18:18:56.336\u001b[0m | \u001b[34m\u001b[1mDEBUG   \u001b[0m | \u001b[36mlorapy.packets.packet\u001b[0m:\u001b[36mbiased_mean\u001b[0m:\u001b[36m63\u001b[0m - \u001b[34m\u001b[1mgot biased packet [1861 / 495616] [0.00020 / 0.00008]\u001b[0m\n",
      "\u001b[32m2020-04-04 18:18:56.550\u001b[0m | \u001b[1mINFO    \u001b[0m | \u001b[36mlorapy.packets.packet\u001b[0m:\u001b[36mget_adjustment\u001b[0m:\u001b[36m53\u001b[0m - \u001b[1mgot final adjustment: 17200\u001b[0m\n",
      "\u001b[32m2020-04-04 18:18:56.557\u001b[0m | \u001b[34m\u001b[1mDEBUG   \u001b[0m | \u001b[36mlorapy.packets.packet\u001b[0m:\u001b[36mbiased_mean\u001b[0m:\u001b[36m63\u001b[0m - \u001b[34m\u001b[1mgot biased packet [809 / 495616] [0.00022 / 0.00008]\u001b[0m\n",
      "\u001b[32m2020-04-04 18:18:57.612\u001b[0m | \u001b[1mINFO    \u001b[0m | \u001b[36mlorapy.packets.packet\u001b[0m:\u001b[36mget_adjustment\u001b[0m:\u001b[36m53\u001b[0m - \u001b[1mgot final adjustment: 82900\u001b[0m\n",
      "\u001b[32m2020-04-04 18:18:57.613\u001b[0m | \u001b[33m\u001b[1mWARNING \u001b[0m | \u001b[36mlorapy.packets.packet\u001b[0m:\u001b[36m_check_over_adjustment\u001b[0m:\u001b[36m89\u001b[0m - \u001b[33m\u001b[1mpacket 38 is set to be overadjusted [82900 / 42500.0]\u001b[0m\n",
      "\u001b[32m2020-04-04 18:18:57.613\u001b[0m | \u001b[33m\u001b[1mWARNING \u001b[0m | \u001b[36mlorapy.packets.packet\u001b[0m:\u001b[36m_check_over_adjustment\u001b[0m:\u001b[36m89\u001b[0m - \u001b[33m\u001b[1mpacket 38 is set to be overadjusted [82900 / 42500.0]\u001b[0m\n",
      "\u001b[32m2020-04-04 18:18:57.620\u001b[0m | \u001b[34m\u001b[1mDEBUG   \u001b[0m | \u001b[36mlorapy.packets.packet\u001b[0m:\u001b[36mbiased_mean\u001b[0m:\u001b[36m63\u001b[0m - \u001b[34m\u001b[1mgot biased packet [1202 / 495616] [0.00021 / 0.00008]\u001b[0m\n",
      "\u001b[32m2020-04-04 18:18:58.168\u001b[0m | \u001b[1mINFO    \u001b[0m | \u001b[36mlorapy.packets.packet\u001b[0m:\u001b[36mget_adjustment\u001b[0m:\u001b[36m53\u001b[0m - \u001b[1mgot final adjustment: 42000\u001b[0m\n",
      "\u001b[32m2020-04-04 18:18:58.175\u001b[0m | \u001b[34m\u001b[1mDEBUG   \u001b[0m | \u001b[36mlorapy.packets.packet\u001b[0m:\u001b[36mbiased_mean\u001b[0m:\u001b[36m63\u001b[0m - \u001b[34m\u001b[1mgot biased packet [407 / 495616] [0.00022 / 0.00008]\u001b[0m\n",
      "\u001b[32m2020-04-04 18:18:58.442\u001b[0m | \u001b[1mINFO    \u001b[0m | \u001b[36mlorapy.packets.packet\u001b[0m:\u001b[36mget_adjustment\u001b[0m:\u001b[36m53\u001b[0m - \u001b[1mgot final adjustment: 20800\u001b[0m\n",
      "\u001b[32m2020-04-04 18:18:58.450\u001b[0m | \u001b[34m\u001b[1mDEBUG   \u001b[0m | \u001b[36mlorapy.packets.packet\u001b[0m:\u001b[36mbiased_mean\u001b[0m:\u001b[36m63\u001b[0m - \u001b[34m\u001b[1mgot biased packet [1958 / 495616] [0.00020 / 0.00008]\u001b[0m\n",
      "\u001b[32m2020-04-04 18:18:59.308\u001b[0m | \u001b[1mINFO    \u001b[0m | \u001b[36mlorapy.packets.packet\u001b[0m:\u001b[36mget_adjustment\u001b[0m:\u001b[36m53\u001b[0m - \u001b[1mgot final adjustment: 70500\u001b[0m\n",
      "\u001b[32m2020-04-04 18:18:59.309\u001b[0m | \u001b[33m\u001b[1mWARNING \u001b[0m | \u001b[36mlorapy.packets.packet\u001b[0m:\u001b[36m_check_over_adjustment\u001b[0m:\u001b[36m89\u001b[0m - \u001b[33m\u001b[1mpacket 41 is set to be overadjusted [70500 / 42500.0]\u001b[0m\n",
      "\u001b[32m2020-04-04 18:18:59.310\u001b[0m | \u001b[33m\u001b[1mWARNING \u001b[0m | \u001b[36mlorapy.packets.packet\u001b[0m:\u001b[36m_check_over_adjustment\u001b[0m:\u001b[36m89\u001b[0m - \u001b[33m\u001b[1mpacket 41 is set to be overadjusted [70500 / 42500.0]\u001b[0m\n",
      "\u001b[32m2020-04-04 18:18:59.317\u001b[0m | \u001b[34m\u001b[1mDEBUG   \u001b[0m | \u001b[36mlorapy.packets.packet\u001b[0m:\u001b[36mbiased_mean\u001b[0m:\u001b[36m63\u001b[0m - \u001b[34m\u001b[1mgot biased packet [1725 / 495616] [0.00020 / 0.00008]\u001b[0m\n",
      "\u001b[32m2020-04-04 18:18:59.649\u001b[0m | \u001b[1mINFO    \u001b[0m | \u001b[36mlorapy.packets.packet\u001b[0m:\u001b[36mget_adjustment\u001b[0m:\u001b[36m53\u001b[0m - \u001b[1mgot final adjustment: 25100\u001b[0m\n",
      "\u001b[32m2020-04-04 18:18:59.656\u001b[0m | \u001b[34m\u001b[1mDEBUG   \u001b[0m | \u001b[36mlorapy.packets.packet\u001b[0m:\u001b[36mbiased_mean\u001b[0m:\u001b[36m63\u001b[0m - \u001b[34m\u001b[1mgot biased packet [1899 / 495616] [0.00020 / 0.00008]\u001b[0m\n",
      "\u001b[32m2020-04-04 18:18:59.922\u001b[0m | \u001b[1mINFO    \u001b[0m | \u001b[36mlorapy.packets.packet\u001b[0m:\u001b[36mget_adjustment\u001b[0m:\u001b[36m53\u001b[0m - \u001b[1mgot final adjustment: 21600\u001b[0m\n",
      "\u001b[32m2020-04-04 18:18:59.929\u001b[0m | \u001b[34m\u001b[1mDEBUG   \u001b[0m | \u001b[36mlorapy.packets.packet\u001b[0m:\u001b[36mbiased_mean\u001b[0m:\u001b[36m63\u001b[0m - \u001b[34m\u001b[1mgot biased packet [2047 / 495616] [0.00020 / 0.00008]\u001b[0m\n",
      "\u001b[32m2020-04-04 18:18:59.939\u001b[0m | \u001b[1mINFO    \u001b[0m | \u001b[36mlorapy.packets.packet\u001b[0m:\u001b[36mget_adjustment\u001b[0m:\u001b[36m53\u001b[0m - \u001b[1mgot final adjustment: 600\u001b[0m\n",
      "\u001b[32m2020-04-04 18:18:59.946\u001b[0m | \u001b[34m\u001b[1mDEBUG   \u001b[0m | \u001b[36mlorapy.packets.packet\u001b[0m:\u001b[36mbiased_mean\u001b[0m:\u001b[36m63\u001b[0m - \u001b[34m\u001b[1mgot biased packet [1832 / 495616] [0.00020 / 0.00008]\u001b[0m\n",
      "\u001b[32m2020-04-04 18:18:59.952\u001b[0m | \u001b[1mINFO    \u001b[0m | \u001b[36mlorapy.packets.packet\u001b[0m:\u001b[36mget_adjustment\u001b[0m:\u001b[36m53\u001b[0m - \u001b[1mgot final adjustment: 200\u001b[0m\n",
      "\u001b[32m2020-04-04 18:18:59.958\u001b[0m | \u001b[34m\u001b[1mDEBUG   \u001b[0m | \u001b[36mlorapy.packets.packet\u001b[0m:\u001b[36mbiased_mean\u001b[0m:\u001b[36m63\u001b[0m - \u001b[34m\u001b[1mgot biased packet [730 / 495616] [0.00022 / 0.00008]\u001b[0m\n",
      "\u001b[32m2020-04-04 18:19:00.214\u001b[0m | \u001b[1mINFO    \u001b[0m | \u001b[36mlorapy.packets.packet\u001b[0m:\u001b[36mget_adjustment\u001b[0m:\u001b[36m53\u001b[0m - \u001b[1mgot final adjustment: 20600\u001b[0m\n",
      "\u001b[32m2020-04-04 18:19:00.221\u001b[0m | \u001b[34m\u001b[1mDEBUG   \u001b[0m | \u001b[36mlorapy.packets.packet\u001b[0m:\u001b[36mbiased_mean\u001b[0m:\u001b[36m63\u001b[0m - \u001b[34m\u001b[1mgot biased packet [754 / 495616] [0.00022 / 0.00008]\u001b[0m\n",
      "\u001b[32m2020-04-04 18:19:00.784\u001b[0m | \u001b[1mINFO    \u001b[0m | \u001b[36mlorapy.packets.packet\u001b[0m:\u001b[36mget_adjustment\u001b[0m:\u001b[36m53\u001b[0m - \u001b[1mgot final adjustment: 47000\u001b[0m\n",
      "\u001b[32m2020-04-04 18:19:00.785\u001b[0m | \u001b[33m\u001b[1mWARNING \u001b[0m | \u001b[36mlorapy.packets.packet\u001b[0m:\u001b[36m_check_over_adjustment\u001b[0m:\u001b[36m89\u001b[0m - \u001b[33m\u001b[1mpacket 47 is set to be overadjusted [47000 / 42500.0]\u001b[0m\n",
      "\u001b[32m2020-04-04 18:19:00.785\u001b[0m | \u001b[33m\u001b[1mWARNING \u001b[0m | \u001b[36mlorapy.packets.packet\u001b[0m:\u001b[36m_check_over_adjustment\u001b[0m:\u001b[36m89\u001b[0m - \u001b[33m\u001b[1mpacket 47 is set to be overadjusted [47000 / 42500.0]\u001b[0m\n",
      "\u001b[32m2020-04-04 18:19:00.792\u001b[0m | \u001b[34m\u001b[1mDEBUG   \u001b[0m | \u001b[36mlorapy.packets.packet\u001b[0m:\u001b[36mbiased_mean\u001b[0m:\u001b[36m63\u001b[0m - \u001b[34m\u001b[1mgot biased packet [1864 / 495616] [0.00020 / 0.00008]\u001b[0m\n",
      "\u001b[32m2020-04-04 18:19:01.021\u001b[0m | \u001b[1mINFO    \u001b[0m | \u001b[36mlorapy.packets.packet\u001b[0m:\u001b[36mget_adjustment\u001b[0m:\u001b[36m53\u001b[0m - \u001b[1mgot final adjustment: 18700\u001b[0m\n",
      "\u001b[32m2020-04-04 18:19:01.028\u001b[0m | \u001b[34m\u001b[1mDEBUG   \u001b[0m | \u001b[36mlorapy.packets.packet\u001b[0m:\u001b[36mbiased_mean\u001b[0m:\u001b[36m63\u001b[0m - \u001b[34m\u001b[1mgot biased packet [2974 / 495616] [0.00020 / 0.00008]\u001b[0m\n",
      "\u001b[32m2020-04-04 18:19:01.213\u001b[0m | \u001b[1mINFO    \u001b[0m | \u001b[36mlorapy.packets.packet\u001b[0m:\u001b[36mget_adjustment\u001b[0m:\u001b[36m53\u001b[0m - \u001b[1mgot final adjustment: 15500\u001b[0m\n",
      "\u001b[32m2020-04-04 18:19:01.220\u001b[0m | \u001b[34m\u001b[1mDEBUG   \u001b[0m | \u001b[36mlorapy.packets.packet\u001b[0m:\u001b[36mbiased_mean\u001b[0m:\u001b[36m63\u001b[0m - \u001b[34m\u001b[1mgot biased packet [784 / 495616] [0.00022 / 0.00008]\u001b[0m\n",
      "\u001b[32m2020-04-04 18:19:01.732\u001b[0m | \u001b[1mINFO    \u001b[0m | \u001b[36mlorapy.packets.packet\u001b[0m:\u001b[36mget_adjustment\u001b[0m:\u001b[36m53\u001b[0m - \u001b[1mgot final adjustment: 44400\u001b[0m\n",
      "\u001b[32m2020-04-04 18:19:01.733\u001b[0m | \u001b[33m\u001b[1mWARNING \u001b[0m | \u001b[36mlorapy.packets.packet\u001b[0m:\u001b[36m_check_over_adjustment\u001b[0m:\u001b[36m89\u001b[0m - \u001b[33m\u001b[1mpacket 50 is set to be overadjusted [44400 / 42500.0]\u001b[0m\n",
      "\u001b[32m2020-04-04 18:19:01.733\u001b[0m | \u001b[33m\u001b[1mWARNING \u001b[0m | \u001b[36mlorapy.packets.packet\u001b[0m:\u001b[36m_check_over_adjustment\u001b[0m:\u001b[36m89\u001b[0m - \u001b[33m\u001b[1mpacket 50 is set to be overadjusted [44400 / 42500.0]\u001b[0m\n",
      "\u001b[32m2020-04-04 18:19:01.740\u001b[0m | \u001b[34m\u001b[1mDEBUG   \u001b[0m | \u001b[36mlorapy.packets.packet\u001b[0m:\u001b[36mbiased_mean\u001b[0m:\u001b[36m63\u001b[0m - \u001b[34m\u001b[1mgot biased packet [561 / 495616] [0.00022 / 0.00008]\u001b[0m\n",
      "\u001b[32m2020-04-04 18:19:01.983\u001b[0m | \u001b[1mINFO    \u001b[0m | \u001b[36mlorapy.packets.packet\u001b[0m:\u001b[36mget_adjustment\u001b[0m:\u001b[36m53\u001b[0m - \u001b[1mgot final adjustment: 20300\u001b[0m\n",
      "\u001b[32m2020-04-04 18:19:01.990\u001b[0m | \u001b[34m\u001b[1mDEBUG   \u001b[0m | \u001b[36mlorapy.packets.packet\u001b[0m:\u001b[36mbiased_mean\u001b[0m:\u001b[36m63\u001b[0m - \u001b[34m\u001b[1mgot biased packet [736 / 495616] [0.00022 / 0.00008]\u001b[0m\n",
      "\u001b[32m2020-04-04 18:19:03.129\u001b[0m | \u001b[1mINFO    \u001b[0m | \u001b[36mlorapy.packets.packet\u001b[0m:\u001b[36mget_adjustment\u001b[0m:\u001b[36m53\u001b[0m - \u001b[1mgot final adjustment: 95900\u001b[0m\n",
      "\u001b[32m2020-04-04 18:19:03.130\u001b[0m | \u001b[33m\u001b[1mWARNING \u001b[0m | \u001b[36mlorapy.packets.packet\u001b[0m:\u001b[36m_check_over_adjustment\u001b[0m:\u001b[36m89\u001b[0m - \u001b[33m\u001b[1mpacket 52 is set to be overadjusted [95900 / 42500.0]\u001b[0m\n",
      "\u001b[32m2020-04-04 18:19:03.130\u001b[0m | \u001b[33m\u001b[1mWARNING \u001b[0m | \u001b[36mlorapy.packets.packet\u001b[0m:\u001b[36m_check_over_adjustment\u001b[0m:\u001b[36m89\u001b[0m - \u001b[33m\u001b[1mpacket 52 is set to be overadjusted [95900 / 42500.0]\u001b[0m\n",
      "\u001b[32m2020-04-04 18:19:03.137\u001b[0m | \u001b[34m\u001b[1mDEBUG   \u001b[0m | \u001b[36mlorapy.packets.packet\u001b[0m:\u001b[36mbiased_mean\u001b[0m:\u001b[36m63\u001b[0m - \u001b[34m\u001b[1mgot biased packet [764 / 495616] [0.00022 / 0.00008]\u001b[0m\n",
      "\u001b[32m2020-04-04 18:19:03.595\u001b[0m | \u001b[1mINFO    \u001b[0m | \u001b[36mlorapy.packets.packet\u001b[0m:\u001b[36mget_adjustment\u001b[0m:\u001b[36m53\u001b[0m - \u001b[1mgot final adjustment: 34700\u001b[0m\n",
      "\u001b[32m2020-04-04 18:19:03.601\u001b[0m | \u001b[34m\u001b[1mDEBUG   \u001b[0m | \u001b[36mlorapy.packets.packet\u001b[0m:\u001b[36mbiased_mean\u001b[0m:\u001b[36m63\u001b[0m - \u001b[34m\u001b[1mgot biased packet [689 / 495616] [0.00022 / 0.00008]\u001b[0m\n",
      "\u001b[32m2020-04-04 18:19:04.094\u001b[0m | \u001b[1mINFO    \u001b[0m | \u001b[36mlorapy.packets.packet\u001b[0m:\u001b[36mget_adjustment\u001b[0m:\u001b[36m53\u001b[0m - \u001b[1mgot final adjustment: 38000\u001b[0m\n",
      "\u001b[32m2020-04-04 18:19:04.100\u001b[0m | \u001b[34m\u001b[1mDEBUG   \u001b[0m | \u001b[36mlorapy.packets.packet\u001b[0m:\u001b[36mbiased_mean\u001b[0m:\u001b[36m63\u001b[0m - \u001b[34m\u001b[1mgot biased packet [666 / 495616] [0.00022 / 0.00008]\u001b[0m\n",
      "\u001b[32m2020-04-04 18:19:04.846\u001b[0m | \u001b[1mINFO    \u001b[0m | \u001b[36mlorapy.packets.packet\u001b[0m:\u001b[36mget_adjustment\u001b[0m:\u001b[36m53\u001b[0m - \u001b[1mgot final adjustment: 58400\u001b[0m\n",
      "\u001b[32m2020-04-04 18:19:04.846\u001b[0m | \u001b[33m\u001b[1mWARNING \u001b[0m | \u001b[36mlorapy.packets.packet\u001b[0m:\u001b[36m_check_over_adjustment\u001b[0m:\u001b[36m89\u001b[0m - \u001b[33m\u001b[1mpacket 55 is set to be overadjusted [58400 / 42500.0]\u001b[0m\n",
      "\u001b[32m2020-04-04 18:19:04.847\u001b[0m | \u001b[33m\u001b[1mWARNING \u001b[0m | \u001b[36mlorapy.packets.packet\u001b[0m:\u001b[36m_check_over_adjustment\u001b[0m:\u001b[36m89\u001b[0m - \u001b[33m\u001b[1mpacket 55 is set to be overadjusted [58400 / 42500.0]\u001b[0m\n",
      "\u001b[32m2020-04-04 18:19:04.854\u001b[0m | \u001b[34m\u001b[1mDEBUG   \u001b[0m | \u001b[36mlorapy.packets.packet\u001b[0m:\u001b[36mbiased_mean\u001b[0m:\u001b[36m63\u001b[0m - \u001b[34m\u001b[1mgot biased packet [1845 / 495616] [0.00020 / 0.00008]\u001b[0m\n",
      "\u001b[32m2020-04-04 18:19:05.066\u001b[0m | \u001b[1mINFO    \u001b[0m | \u001b[36mlorapy.packets.packet\u001b[0m:\u001b[36mget_adjustment\u001b[0m:\u001b[36m53\u001b[0m - \u001b[1mgot final adjustment: 17300\u001b[0m\n",
      "\u001b[32m2020-04-04 18:19:05.073\u001b[0m | \u001b[34m\u001b[1mDEBUG   \u001b[0m | \u001b[36mlorapy.packets.packet\u001b[0m:\u001b[36mbiased_mean\u001b[0m:\u001b[36m63\u001b[0m - \u001b[34m\u001b[1mgot biased packet [756 / 495616] [0.00022 / 0.00008]\u001b[0m\n",
      "\u001b[32m2020-04-04 18:19:06.321\u001b[0m | \u001b[1mINFO    \u001b[0m | \u001b[36mlorapy.packets.packet\u001b[0m:\u001b[36mget_adjustment\u001b[0m:\u001b[36m53\u001b[0m - \u001b[1mgot final adjustment: 0\u001b[0m\n",
      "\u001b[32m2020-04-04 18:19:06.328\u001b[0m | \u001b[34m\u001b[1mDEBUG   \u001b[0m | \u001b[36mlorapy.packets.packet\u001b[0m:\u001b[36mbiased_mean\u001b[0m:\u001b[36m63\u001b[0m - \u001b[34m\u001b[1mgot biased packet [610 / 495616] [0.00021 / 0.00008]\u001b[0m\n",
      "\u001b[32m2020-04-04 18:19:06.737\u001b[0m | \u001b[1mINFO    \u001b[0m | \u001b[36mlorapy.packets.packet\u001b[0m:\u001b[36mget_adjustment\u001b[0m:\u001b[36m53\u001b[0m - \u001b[1mgot final adjustment: 34000\u001b[0m\n",
      "\u001b[32m2020-04-04 18:19:06.743\u001b[0m | \u001b[34m\u001b[1mDEBUG   \u001b[0m | \u001b[36mlorapy.packets.packet\u001b[0m:\u001b[36mbiased_mean\u001b[0m:\u001b[36m63\u001b[0m - \u001b[34m\u001b[1mgot biased packet [1508 / 495616] [0.00020 / 0.00008]\u001b[0m\n",
      "\u001b[32m2020-04-04 18:19:06.983\u001b[0m | \u001b[1mINFO    \u001b[0m | \u001b[36mlorapy.packets.packet\u001b[0m:\u001b[36mget_adjustment\u001b[0m:\u001b[36m53\u001b[0m - \u001b[1mgot final adjustment: 19200\u001b[0m\n",
      "\u001b[32m2020-04-04 18:19:06.990\u001b[0m | \u001b[34m\u001b[1mDEBUG   \u001b[0m | \u001b[36mlorapy.packets.packet\u001b[0m:\u001b[36mbiased_mean\u001b[0m:\u001b[36m63\u001b[0m - \u001b[34m\u001b[1mgot biased packet [623 / 495616] [0.00022 / 0.00008]\u001b[0m\n",
      "\u001b[32m2020-04-04 18:19:07.439\u001b[0m | \u001b[1mINFO    \u001b[0m | \u001b[36mlorapy.packets.packet\u001b[0m:\u001b[36mget_adjustment\u001b[0m:\u001b[36m53\u001b[0m - \u001b[1mgot final adjustment: 39100\u001b[0m\n",
      "\u001b[32m2020-04-04 18:19:07.446\u001b[0m | \u001b[34m\u001b[1mDEBUG   \u001b[0m | \u001b[36mlorapy.packets.packet\u001b[0m:\u001b[36mbiased_mean\u001b[0m:\u001b[36m63\u001b[0m - \u001b[34m\u001b[1mgot biased packet [1617 / 495616] [0.00020 / 0.00008]\u001b[0m\n",
      "\u001b[32m2020-04-04 18:19:08.055\u001b[0m | \u001b[1mINFO    \u001b[0m | \u001b[36mlorapy.packets.packet\u001b[0m:\u001b[36mget_adjustment\u001b[0m:\u001b[36m53\u001b[0m - \u001b[1mgot final adjustment: 52900\u001b[0m\n",
      "\u001b[32m2020-04-04 18:19:08.056\u001b[0m | \u001b[33m\u001b[1mWARNING \u001b[0m | \u001b[36mlorapy.packets.packet\u001b[0m:\u001b[36m_check_over_adjustment\u001b[0m:\u001b[36m89\u001b[0m - \u001b[33m\u001b[1mpacket 61 is set to be overadjusted [52900 / 42500.0]\u001b[0m\n",
      "\u001b[32m2020-04-04 18:19:08.057\u001b[0m | \u001b[33m\u001b[1mWARNING \u001b[0m | \u001b[36mlorapy.packets.packet\u001b[0m:\u001b[36m_check_over_adjustment\u001b[0m:\u001b[36m89\u001b[0m - \u001b[33m\u001b[1mpacket 61 is set to be overadjusted [52900 / 42500.0]\u001b[0m\n",
      "\u001b[32m2020-04-04 18:19:08.064\u001b[0m | \u001b[34m\u001b[1mDEBUG   \u001b[0m | \u001b[36mlorapy.packets.packet\u001b[0m:\u001b[36mbiased_mean\u001b[0m:\u001b[36m63\u001b[0m - \u001b[34m\u001b[1mgot biased packet [2397 / 495616] [0.00020 / 0.00008]\u001b[0m\n",
      "\u001b[32m2020-04-04 18:19:08.159\u001b[0m | \u001b[1mINFO    \u001b[0m | \u001b[36mlorapy.packets.packet\u001b[0m:\u001b[36mget_adjustment\u001b[0m:\u001b[36m53\u001b[0m - \u001b[1mgot final adjustment: 7600\u001b[0m\n",
      "\u001b[32m2020-04-04 18:19:08.165\u001b[0m | \u001b[34m\u001b[1mDEBUG   \u001b[0m | \u001b[36mlorapy.packets.packet\u001b[0m:\u001b[36mbiased_mean\u001b[0m:\u001b[36m63\u001b[0m - \u001b[34m\u001b[1mgot biased packet [1434 / 495616] [0.00020 / 0.00008]\u001b[0m\n",
      "\u001b[32m2020-04-04 18:19:08.513\u001b[0m | \u001b[1mINFO    \u001b[0m | \u001b[36mlorapy.packets.packet\u001b[0m:\u001b[36mget_adjustment\u001b[0m:\u001b[36m53\u001b[0m - \u001b[1mgot final adjustment: 28700\u001b[0m\n",
      "\u001b[32m2020-04-04 18:19:08.520\u001b[0m | \u001b[34m\u001b[1mDEBUG   \u001b[0m | \u001b[36mlorapy.packets.packet\u001b[0m:\u001b[36mbiased_mean\u001b[0m:\u001b[36m63\u001b[0m - \u001b[34m\u001b[1mgot biased packet [4004 / 495616] [0.00019 / 0.00008]\u001b[0m\n",
      "\u001b[32m2020-04-04 18:19:08.763\u001b[0m | \u001b[1mINFO    \u001b[0m | \u001b[36mlorapy.packets.packet\u001b[0m:\u001b[36mget_adjustment\u001b[0m:\u001b[36m53\u001b[0m - \u001b[1mgot final adjustment: 20200\u001b[0m\n",
      "\u001b[32m2020-04-04 18:19:08.770\u001b[0m | \u001b[34m\u001b[1mDEBUG   \u001b[0m | \u001b[36mlorapy.packets.packet\u001b[0m:\u001b[36mbiased_mean\u001b[0m:\u001b[36m63\u001b[0m - \u001b[34m\u001b[1mgot biased packet [572 / 495616] [0.00021 / 0.00008]\u001b[0m\n",
      "\u001b[32m2020-04-04 18:19:09.317\u001b[0m | \u001b[1mINFO    \u001b[0m | \u001b[36mlorapy.packets.packet\u001b[0m:\u001b[36mget_adjustment\u001b[0m:\u001b[36m53\u001b[0m - \u001b[1mgot final adjustment: 48200\u001b[0m\n",
      "\u001b[32m2020-04-04 18:19:09.318\u001b[0m | \u001b[33m\u001b[1mWARNING \u001b[0m | \u001b[36mlorapy.packets.packet\u001b[0m:\u001b[36m_check_over_adjustment\u001b[0m:\u001b[36m89\u001b[0m - \u001b[33m\u001b[1mpacket 65 is set to be overadjusted [48200 / 42500.0]\u001b[0m\n",
      "\u001b[32m2020-04-04 18:19:09.319\u001b[0m | \u001b[33m\u001b[1mWARNING \u001b[0m | \u001b[36mlorapy.packets.packet\u001b[0m:\u001b[36m_check_over_adjustment\u001b[0m:\u001b[36m89\u001b[0m - \u001b[33m\u001b[1mpacket 65 is set to be overadjusted [48200 / 42500.0]\u001b[0m\n",
      "\u001b[32m2020-04-04 18:19:09.326\u001b[0m | \u001b[34m\u001b[1mDEBUG   \u001b[0m | \u001b[36mlorapy.packets.packet\u001b[0m:\u001b[36mbiased_mean\u001b[0m:\u001b[36m63\u001b[0m - \u001b[34m\u001b[1mgot biased packet [632 / 495616] [0.00022 / 0.00008]\u001b[0m\n",
      "\u001b[32m2020-04-04 18:19:09.911\u001b[0m | \u001b[1mINFO    \u001b[0m | \u001b[36mlorapy.packets.packet\u001b[0m:\u001b[36mget_adjustment\u001b[0m:\u001b[36m53\u001b[0m - \u001b[1mgot final adjustment: 52200\u001b[0m\n",
      "\u001b[32m2020-04-04 18:19:09.912\u001b[0m | \u001b[33m\u001b[1mWARNING \u001b[0m | \u001b[36mlorapy.packets.packet\u001b[0m:\u001b[36m_check_over_adjustment\u001b[0m:\u001b[36m89\u001b[0m - \u001b[33m\u001b[1mpacket 66 is set to be overadjusted [52200 / 42500.0]\u001b[0m\n",
      "\u001b[32m2020-04-04 18:19:09.913\u001b[0m | \u001b[33m\u001b[1mWARNING \u001b[0m | \u001b[36mlorapy.packets.packet\u001b[0m:\u001b[36m_check_over_adjustment\u001b[0m:\u001b[36m89\u001b[0m - \u001b[33m\u001b[1mpacket 66 is set to be overadjusted [52200 / 42500.0]\u001b[0m\n",
      "\u001b[32m2020-04-04 18:19:09.920\u001b[0m | \u001b[34m\u001b[1mDEBUG   \u001b[0m | \u001b[36mlorapy.packets.packet\u001b[0m:\u001b[36mbiased_mean\u001b[0m:\u001b[36m63\u001b[0m - \u001b[34m\u001b[1mgot biased packet [611 / 495616] [0.00021 / 0.00008]\u001b[0m\n",
      "\u001b[32m2020-04-04 18:19:10.553\u001b[0m | \u001b[1mINFO    \u001b[0m | \u001b[36mlorapy.packets.packet\u001b[0m:\u001b[36mget_adjustment\u001b[0m:\u001b[36m53\u001b[0m - \u001b[1mgot final adjustment: 55000\u001b[0m\n",
      "\u001b[32m2020-04-04 18:19:10.554\u001b[0m | \u001b[33m\u001b[1mWARNING \u001b[0m | \u001b[36mlorapy.packets.packet\u001b[0m:\u001b[36m_check_over_adjustment\u001b[0m:\u001b[36m89\u001b[0m - \u001b[33m\u001b[1mpacket 67 is set to be overadjusted [55000 / 42500.0]\u001b[0m\n",
      "\u001b[32m2020-04-04 18:19:10.554\u001b[0m | \u001b[33m\u001b[1mWARNING \u001b[0m | \u001b[36mlorapy.packets.packet\u001b[0m:\u001b[36m_check_over_adjustment\u001b[0m:\u001b[36m89\u001b[0m - \u001b[33m\u001b[1mpacket 67 is set to be overadjusted [55000 / 42500.0]\u001b[0m\n",
      "\u001b[32m2020-04-04 18:19:10.562\u001b[0m | \u001b[34m\u001b[1mDEBUG   \u001b[0m | \u001b[36mlorapy.packets.packet\u001b[0m:\u001b[36mbiased_mean\u001b[0m:\u001b[36m63\u001b[0m - \u001b[34m\u001b[1mgot biased packet [2334 / 495616] [0.00020 / 0.00008]\u001b[0m\n",
      "\u001b[32m2020-04-04 18:19:10.816\u001b[0m | \u001b[1mINFO    \u001b[0m | \u001b[36mlorapy.packets.packet\u001b[0m:\u001b[36mget_adjustment\u001b[0m:\u001b[36m53\u001b[0m - \u001b[1mgot final adjustment: 21100\u001b[0m\n",
      "\u001b[32m2020-04-04 18:19:10.823\u001b[0m | \u001b[34m\u001b[1mDEBUG   \u001b[0m | \u001b[36mlorapy.packets.packet\u001b[0m:\u001b[36mbiased_mean\u001b[0m:\u001b[36m63\u001b[0m - \u001b[34m\u001b[1mgot biased packet [4290 / 495616] [0.00019 / 0.00008]\u001b[0m\n",
      "\u001b[32m2020-04-04 18:19:11.079\u001b[0m | \u001b[1mINFO    \u001b[0m | \u001b[36mlorapy.packets.packet\u001b[0m:\u001b[36mget_adjustment\u001b[0m:\u001b[36m53\u001b[0m - \u001b[1mgot final adjustment: 20400\u001b[0m\n",
      "\u001b[32m2020-04-04 18:19:11.086\u001b[0m | \u001b[34m\u001b[1mDEBUG   \u001b[0m | \u001b[36mlorapy.packets.packet\u001b[0m:\u001b[36mbiased_mean\u001b[0m:\u001b[36m63\u001b[0m - \u001b[34m\u001b[1mgot biased packet [1548 / 495616] [0.00020 / 0.00008]\u001b[0m\n",
      "\u001b[32m2020-04-04 18:19:11.396\u001b[0m | \u001b[1mINFO    \u001b[0m | \u001b[36mlorapy.packets.packet\u001b[0m:\u001b[36mget_adjustment\u001b[0m:\u001b[36m53\u001b[0m - \u001b[1mgot final adjustment: 24200\u001b[0m\n",
      "\u001b[32m2020-04-04 18:19:11.403\u001b[0m | \u001b[34m\u001b[1mDEBUG   \u001b[0m | \u001b[36mlorapy.packets.packet\u001b[0m:\u001b[36mbiased_mean\u001b[0m:\u001b[36m63\u001b[0m - \u001b[34m\u001b[1mgot biased packet [576 / 495616] [0.00021 / 0.00008]\u001b[0m\n",
      "\u001b[32m2020-04-04 18:19:11.645\u001b[0m | \u001b[1mINFO    \u001b[0m | \u001b[36mlorapy.packets.packet\u001b[0m:\u001b[36mget_adjustment\u001b[0m:\u001b[36m53\u001b[0m - \u001b[1mgot final adjustment: 17800\u001b[0m\n",
      "\u001b[32m2020-04-04 18:19:11.652\u001b[0m | \u001b[34m\u001b[1mDEBUG   \u001b[0m | \u001b[36mlorapy.packets.packet\u001b[0m:\u001b[36mbiased_mean\u001b[0m:\u001b[36m63\u001b[0m - \u001b[34m\u001b[1mgot biased packet [1490 / 495616] [0.00020 / 0.00008]\u001b[0m\n",
      "\u001b[32m2020-04-04 18:19:12.558\u001b[0m | \u001b[1mINFO    \u001b[0m | \u001b[36mlorapy.packets.packet\u001b[0m:\u001b[36mget_adjustment\u001b[0m:\u001b[36m53\u001b[0m - \u001b[1mgot final adjustment: 71200\u001b[0m\n",
      "\u001b[32m2020-04-04 18:19:12.559\u001b[0m | \u001b[33m\u001b[1mWARNING \u001b[0m | \u001b[36mlorapy.packets.packet\u001b[0m:\u001b[36m_check_over_adjustment\u001b[0m:\u001b[36m89\u001b[0m - \u001b[33m\u001b[1mpacket 72 is set to be overadjusted [71200 / 42500.0]\u001b[0m\n",
      "\u001b[32m2020-04-04 18:19:12.559\u001b[0m | \u001b[33m\u001b[1mWARNING \u001b[0m | \u001b[36mlorapy.packets.packet\u001b[0m:\u001b[36m_check_over_adjustment\u001b[0m:\u001b[36m89\u001b[0m - \u001b[33m\u001b[1mpacket 72 is set to be overadjusted [71200 / 42500.0]\u001b[0m\n",
      "\u001b[32m2020-04-04 18:19:12.568\u001b[0m | \u001b[34m\u001b[1mDEBUG   \u001b[0m | \u001b[36mlorapy.packets.packet\u001b[0m:\u001b[36mbiased_mean\u001b[0m:\u001b[36m63\u001b[0m - \u001b[34m\u001b[1mgot biased packet [993 / 495616] [0.00021 / 0.00008]\u001b[0m\n",
      "\u001b[32m2020-04-04 18:19:12.898\u001b[0m | \u001b[1mINFO    \u001b[0m | \u001b[36mlorapy.packets.packet\u001b[0m:\u001b[36mget_adjustment\u001b[0m:\u001b[36m53\u001b[0m - \u001b[1mgot final adjustment: 25100\u001b[0m\n",
      "\u001b[32m2020-04-04 18:19:12.904\u001b[0m | \u001b[34m\u001b[1mDEBUG   \u001b[0m | \u001b[36mlorapy.packets.packet\u001b[0m:\u001b[36mbiased_mean\u001b[0m:\u001b[36m63\u001b[0m - \u001b[34m\u001b[1mgot biased packet [927 / 495616] [0.00021 / 0.00008]\u001b[0m\n",
      "\u001b[32m2020-04-04 18:19:13.365\u001b[0m | \u001b[1mINFO    \u001b[0m | \u001b[36mlorapy.packets.packet\u001b[0m:\u001b[36mget_adjustment\u001b[0m:\u001b[36m53\u001b[0m - \u001b[1mgot final adjustment: 36400\u001b[0m\n",
      "\u001b[32m2020-04-04 18:19:13.373\u001b[0m | \u001b[34m\u001b[1mDEBUG   \u001b[0m | \u001b[36mlorapy.packets.packet\u001b[0m:\u001b[36mbiased_mean\u001b[0m:\u001b[36m63\u001b[0m - \u001b[34m\u001b[1mgot biased packet [510 / 495616] [0.00021 / 0.00008]\u001b[0m\n",
      "\u001b[32m2020-04-04 18:19:13.861\u001b[0m | \u001b[1mINFO    \u001b[0m | \u001b[36mlorapy.packets.packet\u001b[0m:\u001b[36mget_adjustment\u001b[0m:\u001b[36m53\u001b[0m - \u001b[1mgot final adjustment: 39500\u001b[0m\n",
      "\u001b[32m2020-04-04 18:19:13.868\u001b[0m | \u001b[34m\u001b[1mDEBUG   \u001b[0m | \u001b[36mlorapy.packets.packet\u001b[0m:\u001b[36mbiased_mean\u001b[0m:\u001b[36m63\u001b[0m - \u001b[34m\u001b[1mgot biased packet [509 / 495616] [0.00021 / 0.00008]\u001b[0m\n",
      "\u001b[32m2020-04-04 18:19:14.321\u001b[0m | \u001b[1mINFO    \u001b[0m | \u001b[36mlorapy.packets.packet\u001b[0m:\u001b[36mget_adjustment\u001b[0m:\u001b[36m53\u001b[0m - \u001b[1mgot final adjustment: 36900\u001b[0m\n",
      "\u001b[32m2020-04-04 18:19:14.328\u001b[0m | \u001b[34m\u001b[1mDEBUG   \u001b[0m | \u001b[36mlorapy.packets.packet\u001b[0m:\u001b[36mbiased_mean\u001b[0m:\u001b[36m63\u001b[0m - \u001b[34m\u001b[1mgot biased packet [561 / 495616] [0.00022 / 0.00008]\u001b[0m\n",
      "\u001b[32m2020-04-04 18:19:15.137\u001b[0m | \u001b[1mINFO    \u001b[0m | \u001b[36mlorapy.packets.packet\u001b[0m:\u001b[36mget_adjustment\u001b[0m:\u001b[36m53\u001b[0m - \u001b[1mgot final adjustment: 71000\u001b[0m\n",
      "\u001b[32m2020-04-04 18:19:15.138\u001b[0m | \u001b[33m\u001b[1mWARNING \u001b[0m | \u001b[36mlorapy.packets.packet\u001b[0m:\u001b[36m_check_over_adjustment\u001b[0m:\u001b[36m89\u001b[0m - \u001b[33m\u001b[1mpacket 77 is set to be overadjusted [71000 / 42500.0]\u001b[0m\n",
      "\u001b[32m2020-04-04 18:19:15.139\u001b[0m | \u001b[33m\u001b[1mWARNING \u001b[0m | \u001b[36mlorapy.packets.packet\u001b[0m:\u001b[36m_check_over_adjustment\u001b[0m:\u001b[36m89\u001b[0m - \u001b[33m\u001b[1mpacket 77 is set to be overadjusted [71000 / 42500.0]\u001b[0m\n",
      "\u001b[32m2020-04-04 18:19:15.146\u001b[0m | \u001b[34m\u001b[1mDEBUG   \u001b[0m | \u001b[36mlorapy.packets.packet\u001b[0m:\u001b[36mbiased_mean\u001b[0m:\u001b[36m63\u001b[0m - \u001b[34m\u001b[1mgot biased packet [564 / 495616] [0.00022 / 0.00008]\u001b[0m\n",
      "\u001b[32m2020-04-04 18:19:15.974\u001b[0m | \u001b[1mINFO    \u001b[0m | \u001b[36mlorapy.packets.packet\u001b[0m:\u001b[36mget_adjustment\u001b[0m:\u001b[36m53\u001b[0m - \u001b[1mgot final adjustment: 68400\u001b[0m\n",
      "\u001b[32m2020-04-04 18:19:15.975\u001b[0m | \u001b[33m\u001b[1mWARNING \u001b[0m | \u001b[36mlorapy.packets.packet\u001b[0m:\u001b[36m_check_over_adjustment\u001b[0m:\u001b[36m89\u001b[0m - \u001b[33m\u001b[1mpacket 78 is set to be overadjusted [68400 / 42500.0]\u001b[0m\n",
      "\u001b[32m2020-04-04 18:19:15.976\u001b[0m | \u001b[33m\u001b[1mWARNING \u001b[0m | \u001b[36mlorapy.packets.packet\u001b[0m:\u001b[36m_check_over_adjustment\u001b[0m:\u001b[36m89\u001b[0m - \u001b[33m\u001b[1mpacket 78 is set to be overadjusted [68400 / 42500.0]\u001b[0m\n",
      "\u001b[32m2020-04-04 18:19:15.983\u001b[0m | \u001b[34m\u001b[1mDEBUG   \u001b[0m | \u001b[36mlorapy.packets.packet\u001b[0m:\u001b[36mbiased_mean\u001b[0m:\u001b[36m63\u001b[0m - \u001b[34m\u001b[1mgot biased packet [2320 / 495616] [0.00020 / 0.00008]\u001b[0m\n",
      "\u001b[32m2020-04-04 18:19:16.149\u001b[0m | \u001b[1mINFO    \u001b[0m | \u001b[36mlorapy.packets.packet\u001b[0m:\u001b[36mget_adjustment\u001b[0m:\u001b[36m53\u001b[0m - \u001b[1mgot final adjustment: 12200\u001b[0m\n",
      "\u001b[32m2020-04-04 18:19:16.155\u001b[0m | \u001b[34m\u001b[1mDEBUG   \u001b[0m | \u001b[36mlorapy.packets.packet\u001b[0m:\u001b[36mbiased_mean\u001b[0m:\u001b[36m63\u001b[0m - \u001b[34m\u001b[1mgot biased packet [1485 / 495616] [0.00020 / 0.00008]\u001b[0m\n",
      "\u001b[32m2020-04-04 18:19:16.418\u001b[0m | \u001b[1mINFO    \u001b[0m | \u001b[36mlorapy.packets.packet\u001b[0m:\u001b[36mget_adjustment\u001b[0m:\u001b[36m53\u001b[0m - \u001b[1mgot final adjustment: 21200\u001b[0m\n",
      "\u001b[32m2020-04-04 18:19:16.424\u001b[0m | \u001b[34m\u001b[1mDEBUG   \u001b[0m | \u001b[36mlorapy.packets.packet\u001b[0m:\u001b[36mbiased_mean\u001b[0m:\u001b[36m63\u001b[0m - \u001b[34m\u001b[1mgot biased packet [1482 / 495616] [0.00020 / 0.00008]\u001b[0m\n",
      "\u001b[32m2020-04-04 18:19:16.652\u001b[0m | \u001b[1mINFO    \u001b[0m | \u001b[36mlorapy.packets.packet\u001b[0m:\u001b[36mget_adjustment\u001b[0m:\u001b[36m53\u001b[0m - \u001b[1mgot final adjustment: 19100\u001b[0m\n",
      "\u001b[32m2020-04-04 18:19:16.659\u001b[0m | \u001b[34m\u001b[1mDEBUG   \u001b[0m | \u001b[36mlorapy.packets.packet\u001b[0m:\u001b[36mbiased_mean\u001b[0m:\u001b[36m63\u001b[0m - \u001b[34m\u001b[1mgot biased packet [2719 / 495616] [0.00019 / 0.00008]\u001b[0m\n",
      "\u001b[32m2020-04-04 18:19:16.852\u001b[0m | \u001b[1mINFO    \u001b[0m | \u001b[36mlorapy.packets.packet\u001b[0m:\u001b[36mget_adjustment\u001b[0m:\u001b[36m53\u001b[0m - \u001b[1mgot final adjustment: 14900\u001b[0m\n",
      "\u001b[32m2020-04-04 18:19:16.859\u001b[0m | \u001b[34m\u001b[1mDEBUG   \u001b[0m | \u001b[36mlorapy.packets.packet\u001b[0m:\u001b[36mbiased_mean\u001b[0m:\u001b[36m63\u001b[0m - \u001b[34m\u001b[1mgot biased packet [2735 / 495616] [0.00019 / 0.00008]\u001b[0m\n",
      "\u001b[32m2020-04-04 18:19:17.044\u001b[0m | \u001b[1mINFO    \u001b[0m | \u001b[36mlorapy.packets.packet\u001b[0m:\u001b[36mget_adjustment\u001b[0m:\u001b[36m53\u001b[0m - \u001b[1mgot final adjustment: 13300\u001b[0m\n",
      "\u001b[32m2020-04-04 18:19:17.053\u001b[0m | \u001b[34m\u001b[1mDEBUG   \u001b[0m | \u001b[36mlorapy.packets.packet\u001b[0m:\u001b[36mbiased_mean\u001b[0m:\u001b[36m63\u001b[0m - \u001b[34m\u001b[1mgot biased packet [529 / 495616] [0.00022 / 0.00008]\u001b[0m\n",
      "\u001b[32m2020-04-04 18:19:17.574\u001b[0m | \u001b[1mINFO    \u001b[0m | \u001b[36mlorapy.packets.packet\u001b[0m:\u001b[36mget_adjustment\u001b[0m:\u001b[36m53\u001b[0m - \u001b[1mgot final adjustment: 40400\u001b[0m\n",
      "\u001b[32m2020-04-04 18:19:17.581\u001b[0m | \u001b[34m\u001b[1mDEBUG   \u001b[0m | \u001b[36mlorapy.packets.packet\u001b[0m:\u001b[36mbiased_mean\u001b[0m:\u001b[36m63\u001b[0m - \u001b[34m\u001b[1mgot biased packet [959 / 495616] [0.00021 / 0.00008]\u001b[0m\n",
      "\u001b[32m2020-04-04 18:19:18.176\u001b[0m | \u001b[1mINFO    \u001b[0m | \u001b[36mlorapy.packets.packet\u001b[0m:\u001b[36mget_adjustment\u001b[0m:\u001b[36m53\u001b[0m - \u001b[1mgot final adjustment: 46700\u001b[0m\n",
      "\u001b[32m2020-04-04 18:19:18.177\u001b[0m | \u001b[33m\u001b[1mWARNING \u001b[0m | \u001b[36mlorapy.packets.packet\u001b[0m:\u001b[36m_check_over_adjustment\u001b[0m:\u001b[36m89\u001b[0m - \u001b[33m\u001b[1mpacket 85 is set to be overadjusted [46700 / 42500.0]\u001b[0m\n",
      "\u001b[32m2020-04-04 18:19:18.177\u001b[0m | \u001b[33m\u001b[1mWARNING \u001b[0m | \u001b[36mlorapy.packets.packet\u001b[0m:\u001b[36m_check_over_adjustment\u001b[0m:\u001b[36m89\u001b[0m - \u001b[33m\u001b[1mpacket 85 is set to be overadjusted [46700 / 42500.0]\u001b[0m\n",
      "\u001b[32m2020-04-04 18:19:18.184\u001b[0m | \u001b[34m\u001b[1mDEBUG   \u001b[0m | \u001b[36mlorapy.packets.packet\u001b[0m:\u001b[36mbiased_mean\u001b[0m:\u001b[36m63\u001b[0m - \u001b[34m\u001b[1mgot biased packet [2247 / 495616] [0.00020 / 0.00008]\u001b[0m\n",
      "\u001b[32m2020-04-04 18:19:18.492\u001b[0m | \u001b[1mINFO    \u001b[0m | \u001b[36mlorapy.packets.packet\u001b[0m:\u001b[36mget_adjustment\u001b[0m:\u001b[36m53\u001b[0m - \u001b[1mgot final adjustment: 22900\u001b[0m\n",
      "\u001b[32m2020-04-04 18:19:18.499\u001b[0m | \u001b[34m\u001b[1mDEBUG   \u001b[0m | \u001b[36mlorapy.packets.packet\u001b[0m:\u001b[36mbiased_mean\u001b[0m:\u001b[36m63\u001b[0m - \u001b[34m\u001b[1mgot biased packet [1524 / 495616] [0.00020 / 0.00008]\u001b[0m\n",
      "\u001b[32m2020-04-04 18:19:18.998\u001b[0m | \u001b[1mINFO    \u001b[0m | \u001b[36mlorapy.packets.packet\u001b[0m:\u001b[36mget_adjustment\u001b[0m:\u001b[36m53\u001b[0m - \u001b[1mgot final adjustment: 39500\u001b[0m\n",
      "\u001b[32m2020-04-04 18:19:19.005\u001b[0m | \u001b[34m\u001b[1mDEBUG   \u001b[0m | \u001b[36mlorapy.packets.packet\u001b[0m:\u001b[36mbiased_mean\u001b[0m:\u001b[36m63\u001b[0m - \u001b[34m\u001b[1mgot biased packet [586 / 495616] [0.00022 / 0.00008]\u001b[0m\n",
      "\u001b[32m2020-04-04 18:19:19.667\u001b[0m | \u001b[1mINFO    \u001b[0m | \u001b[36mlorapy.packets.packet\u001b[0m:\u001b[36mget_adjustment\u001b[0m:\u001b[36m53\u001b[0m - \u001b[1mgot final adjustment: 51100\u001b[0m\n",
      "\u001b[32m2020-04-04 18:19:19.668\u001b[0m | \u001b[33m\u001b[1mWARNING \u001b[0m | \u001b[36mlorapy.packets.packet\u001b[0m:\u001b[36m_check_over_adjustment\u001b[0m:\u001b[36m89\u001b[0m - \u001b[33m\u001b[1mpacket 88 is set to be overadjusted [51100 / 42500.0]\u001b[0m\n",
      "\u001b[32m2020-04-04 18:19:19.668\u001b[0m | \u001b[33m\u001b[1mWARNING \u001b[0m | \u001b[36mlorapy.packets.packet\u001b[0m:\u001b[36m_check_over_adjustment\u001b[0m:\u001b[36m89\u001b[0m - \u001b[33m\u001b[1mpacket 88 is set to be overadjusted [51100 / 42500.0]\u001b[0m\n",
      "\u001b[32m2020-04-04 18:19:19.676\u001b[0m | \u001b[34m\u001b[1mDEBUG   \u001b[0m | \u001b[36mlorapy.packets.packet\u001b[0m:\u001b[36mbiased_mean\u001b[0m:\u001b[36m63\u001b[0m - \u001b[34m\u001b[1mgot biased packet [2907 / 495616] [0.00019 / 0.00008]\u001b[0m\n",
      "\u001b[32m2020-04-04 18:19:19.972\u001b[0m | \u001b[1mINFO    \u001b[0m | \u001b[36mlorapy.packets.packet\u001b[0m:\u001b[36mget_adjustment\u001b[0m:\u001b[36m53\u001b[0m - \u001b[1mgot final adjustment: 21100\u001b[0m\n",
      "\u001b[32m2020-04-04 18:19:19.979\u001b[0m | \u001b[34m\u001b[1mDEBUG   \u001b[0m | \u001b[36mlorapy.packets.packet\u001b[0m:\u001b[36mbiased_mean\u001b[0m:\u001b[36m63\u001b[0m - \u001b[34m\u001b[1mgot biased packet [2879 / 495616] [0.00019 / 0.00008]\u001b[0m\n",
      "\u001b[32m2020-04-04 18:19:20.281\u001b[0m | \u001b[1mINFO    \u001b[0m | \u001b[36mlorapy.packets.packet\u001b[0m:\u001b[36mget_adjustment\u001b[0m:\u001b[36m53\u001b[0m - \u001b[1mgot final adjustment: 23600\u001b[0m\n",
      "\u001b[32m2020-04-04 18:19:20.288\u001b[0m | \u001b[34m\u001b[1mDEBUG   \u001b[0m | \u001b[36mlorapy.packets.packet\u001b[0m:\u001b[36mbiased_mean\u001b[0m:\u001b[36m63\u001b[0m - \u001b[34m\u001b[1mgot biased packet [572 / 495616] [0.00022 / 0.00008]\u001b[0m\n",
      "\u001b[32m2020-04-04 18:19:20.718\u001b[0m | \u001b[1mINFO    \u001b[0m | \u001b[36mlorapy.packets.packet\u001b[0m:\u001b[36mget_adjustment\u001b[0m:\u001b[36m53\u001b[0m - \u001b[1mgot final adjustment: 33500\u001b[0m\n",
      "\u001b[32m2020-04-04 18:19:20.725\u001b[0m | \u001b[34m\u001b[1mDEBUG   \u001b[0m | \u001b[36mlorapy.packets.packet\u001b[0m:\u001b[36mbiased_mean\u001b[0m:\u001b[36m63\u001b[0m - \u001b[34m\u001b[1mgot biased packet [2325 / 495616] [0.00020 / 0.00008]\u001b[0m\n",
      "\u001b[32m2020-04-04 18:19:20.908\u001b[0m | \u001b[1mINFO    \u001b[0m | \u001b[36mlorapy.packets.packet\u001b[0m:\u001b[36mget_adjustment\u001b[0m:\u001b[36m53\u001b[0m - \u001b[1mgot final adjustment: 14800\u001b[0m\n",
      "\u001b[32m2020-04-04 18:19:20.914\u001b[0m | \u001b[34m\u001b[1mDEBUG   \u001b[0m | \u001b[36mlorapy.packets.packet\u001b[0m:\u001b[36mbiased_mean\u001b[0m:\u001b[36m63\u001b[0m - \u001b[34m\u001b[1mgot biased packet [478 / 495616] [0.00021 / 0.00008]\u001b[0m\n",
      "\u001b[32m2020-04-04 18:19:22.067\u001b[0m | \u001b[1mINFO    \u001b[0m | \u001b[36mlorapy.packets.packet\u001b[0m:\u001b[36mget_adjustment\u001b[0m:\u001b[36m53\u001b[0m - \u001b[1mgot final adjustment: 91800\u001b[0m\n",
      "\u001b[32m2020-04-04 18:19:22.068\u001b[0m | \u001b[33m\u001b[1mWARNING \u001b[0m | \u001b[36mlorapy.packets.packet\u001b[0m:\u001b[36m_check_over_adjustment\u001b[0m:\u001b[36m89\u001b[0m - \u001b[33m\u001b[1mpacket 93 is set to be overadjusted [91800 / 42500.0]\u001b[0m\n",
      "\u001b[32m2020-04-04 18:19:22.068\u001b[0m | \u001b[33m\u001b[1mWARNING \u001b[0m | \u001b[36mlorapy.packets.packet\u001b[0m:\u001b[36m_check_over_adjustment\u001b[0m:\u001b[36m89\u001b[0m - \u001b[33m\u001b[1mpacket 93 is set to be overadjusted [91800 / 42500.0]\u001b[0m\n",
      "\u001b[32m2020-04-04 18:19:22.075\u001b[0m | \u001b[34m\u001b[1mDEBUG   \u001b[0m | \u001b[36mlorapy.packets.packet\u001b[0m:\u001b[36mbiased_mean\u001b[0m:\u001b[36m63\u001b[0m - \u001b[34m\u001b[1mgot biased packet [539 / 495616] [0.00022 / 0.00008]\u001b[0m\n",
      "\u001b[32m2020-04-04 18:19:22.339\u001b[0m | \u001b[1mINFO    \u001b[0m | \u001b[36mlorapy.packets.packet\u001b[0m:\u001b[36mget_adjustment\u001b[0m:\u001b[36m53\u001b[0m - \u001b[1mgot final adjustment: 21300\u001b[0m\n",
      "\u001b[32m2020-04-04 18:19:22.346\u001b[0m | \u001b[34m\u001b[1mDEBUG   \u001b[0m | \u001b[36mlorapy.packets.packet\u001b[0m:\u001b[36mbiased_mean\u001b[0m:\u001b[36m63\u001b[0m - \u001b[34m\u001b[1mgot biased packet [1445 / 495616] [0.00020 / 0.00008]\u001b[0m\n",
      "\u001b[32m2020-04-04 18:19:22.716\u001b[0m | \u001b[1mINFO    \u001b[0m | \u001b[36mlorapy.packets.packet\u001b[0m:\u001b[36mget_adjustment\u001b[0m:\u001b[36m53\u001b[0m - \u001b[1mgot final adjustment: 30800\u001b[0m\n",
      "\u001b[32m2020-04-04 18:19:22.723\u001b[0m | \u001b[34m\u001b[1mDEBUG   \u001b[0m | \u001b[36mlorapy.packets.packet\u001b[0m:\u001b[36mbiased_mean\u001b[0m:\u001b[36m63\u001b[0m - \u001b[34m\u001b[1mgot biased packet [579 / 495616] [0.00022 / 0.00008]\u001b[0m\n",
      "\u001b[32m2020-04-04 18:19:23.762\u001b[0m | \u001b[1mINFO    \u001b[0m | \u001b[36mlorapy.packets.packet\u001b[0m:\u001b[36mget_adjustment\u001b[0m:\u001b[36m53\u001b[0m - \u001b[1mgot final adjustment: 84900\u001b[0m\n",
      "\u001b[32m2020-04-04 18:19:23.763\u001b[0m | \u001b[33m\u001b[1mWARNING \u001b[0m | \u001b[36mlorapy.packets.packet\u001b[0m:\u001b[36m_check_over_adjustment\u001b[0m:\u001b[36m89\u001b[0m - \u001b[33m\u001b[1mpacket 96 is set to be overadjusted [84900 / 42500.0]\u001b[0m\n",
      "\u001b[32m2020-04-04 18:19:23.763\u001b[0m | \u001b[33m\u001b[1mWARNING \u001b[0m | \u001b[36mlorapy.packets.packet\u001b[0m:\u001b[36m_check_over_adjustment\u001b[0m:\u001b[36m89\u001b[0m - \u001b[33m\u001b[1mpacket 96 is set to be overadjusted [84900 / 42500.0]\u001b[0m\n",
      "\u001b[32m2020-04-04 18:19:23.771\u001b[0m | \u001b[34m\u001b[1mDEBUG   \u001b[0m | \u001b[36mlorapy.packets.packet\u001b[0m:\u001b[36mbiased_mean\u001b[0m:\u001b[36m63\u001b[0m - \u001b[34m\u001b[1mgot biased packet [518 / 495616] [0.00021 / 0.00008]\u001b[0m\n",
      "\u001b[32m2020-04-04 18:19:24.258\u001b[0m | \u001b[1mINFO    \u001b[0m | \u001b[36mlorapy.packets.packet\u001b[0m:\u001b[36mget_adjustment\u001b[0m:\u001b[36m53\u001b[0m - \u001b[1mgot final adjustment: 38900\u001b[0m\n",
      "\u001b[32m2020-04-04 18:19:24.264\u001b[0m | \u001b[34m\u001b[1mDEBUG   \u001b[0m | \u001b[36mlorapy.packets.packet\u001b[0m:\u001b[36mbiased_mean\u001b[0m:\u001b[36m63\u001b[0m - \u001b[34m\u001b[1mgot biased packet [1024 / 495616] [0.00021 / 0.00008]\u001b[0m\n",
      "\u001b[32m2020-04-04 18:19:24.760\u001b[0m | \u001b[1mINFO    \u001b[0m | \u001b[36mlorapy.packets.packet\u001b[0m:\u001b[36mget_adjustment\u001b[0m:\u001b[36m53\u001b[0m - \u001b[1mgot final adjustment: 38800\u001b[0m\n",
      "\u001b[32m2020-04-04 18:19:24.767\u001b[0m | \u001b[34m\u001b[1mDEBUG   \u001b[0m | \u001b[36mlorapy.packets.packet\u001b[0m:\u001b[36mbiased_mean\u001b[0m:\u001b[36m63\u001b[0m - \u001b[34m\u001b[1mgot biased packet [2316 / 495616] [0.00020 / 0.00008]\u001b[0m\n",
      "\u001b[32m2020-04-04 18:19:24.769\u001b[0m | \u001b[1mINFO    \u001b[0m | \u001b[36mlorapy.packets.packet\u001b[0m:\u001b[36mget_adjustment\u001b[0m:\u001b[36m53\u001b[0m - \u001b[1mgot final adjustment: 0\u001b[0m\n",
      "\u001b[32m2020-04-04 18:19:24.777\u001b[0m | \u001b[34m\u001b[1mDEBUG   \u001b[0m | \u001b[36mlorapy.packets.packet\u001b[0m:\u001b[36mbiased_mean\u001b[0m:\u001b[36m63\u001b[0m - \u001b[34m\u001b[1mgot biased packet [989 / 495616] [0.00021 / 0.00008]\u001b[0m\n",
      "\u001b[32m2020-04-04 18:19:25.807\u001b[0m | \u001b[1mINFO    \u001b[0m | \u001b[36mlorapy.packets.packet\u001b[0m:\u001b[36mget_adjustment\u001b[0m:\u001b[36m53\u001b[0m - \u001b[1mgot final adjustment: 80200\u001b[0m\n",
      "\u001b[32m2020-04-04 18:19:25.808\u001b[0m | \u001b[33m\u001b[1mWARNING \u001b[0m | \u001b[36mlorapy.packets.packet\u001b[0m:\u001b[36m_check_over_adjustment\u001b[0m:\u001b[36m89\u001b[0m - \u001b[33m\u001b[1mpacket 100 is set to be overadjusted [80200 / 42500.0]\u001b[0m\n",
      "\u001b[32m2020-04-04 18:19:25.809\u001b[0m | \u001b[33m\u001b[1mWARNING \u001b[0m | \u001b[36mlorapy.packets.packet\u001b[0m:\u001b[36m_check_over_adjustment\u001b[0m:\u001b[36m89\u001b[0m - \u001b[33m\u001b[1mpacket 100 is set to be overadjusted [80200 / 42500.0]\u001b[0m\n",
      "\u001b[32m2020-04-04 18:19:25.816\u001b[0m | \u001b[34m\u001b[1mDEBUG   \u001b[0m | \u001b[36mlorapy.packets.packet\u001b[0m:\u001b[36mbiased_mean\u001b[0m:\u001b[36m63\u001b[0m - \u001b[34m\u001b[1mgot biased packet [2428 / 495616] [0.00020 / 0.00008]\u001b[0m\n",
      "\u001b[32m2020-04-04 18:19:25.823\u001b[0m | \u001b[1mINFO    \u001b[0m | \u001b[36mlorapy.packets.packet\u001b[0m:\u001b[36mget_adjustment\u001b[0m:\u001b[36m53\u001b[0m - \u001b[1mgot final adjustment: 400\u001b[0m\n",
      "\u001b[32m2020-04-04 18:19:25.829\u001b[0m | \u001b[34m\u001b[1mDEBUG   \u001b[0m | \u001b[36mlorapy.packets.packet\u001b[0m:\u001b[36mbiased_mean\u001b[0m:\u001b[36m63\u001b[0m - \u001b[34m\u001b[1mgot biased packet [2367 / 495616] [0.00020 / 0.00008]\u001b[0m\n",
      "\u001b[32m2020-04-04 18:19:26.110\u001b[0m | \u001b[1mINFO    \u001b[0m | \u001b[36mlorapy.packets.packet\u001b[0m:\u001b[36mget_adjustment\u001b[0m:\u001b[36m53\u001b[0m - \u001b[1mgot final adjustment: 21900\u001b[0m\n",
      "\u001b[32m2020-04-04 18:19:26.116\u001b[0m | \u001b[34m\u001b[1mDEBUG   \u001b[0m | \u001b[36mlorapy.packets.packet\u001b[0m:\u001b[36mbiased_mean\u001b[0m:\u001b[36m63\u001b[0m - \u001b[34m\u001b[1mgot biased packet [579 / 495616] [0.00021 / 0.00008]\u001b[0m\n",
      "\u001b[32m2020-04-04 18:19:27.323\u001b[0m | \u001b[1mINFO    \u001b[0m | \u001b[36mlorapy.packets.packet\u001b[0m:\u001b[36mget_adjustment\u001b[0m:\u001b[36m53\u001b[0m - \u001b[1mgot final adjustment: 0\u001b[0m\n",
      "\u001b[32m2020-04-04 18:19:27.330\u001b[0m | \u001b[34m\u001b[1mDEBUG   \u001b[0m | \u001b[36mlorapy.packets.packet\u001b[0m:\u001b[36mbiased_mean\u001b[0m:\u001b[36m63\u001b[0m - \u001b[34m\u001b[1mgot biased packet [2359 / 495616] [0.00020 / 0.00008]\u001b[0m\n",
      "\u001b[32m2020-04-04 18:19:27.569\u001b[0m | \u001b[1mINFO    \u001b[0m | \u001b[36mlorapy.packets.packet\u001b[0m:\u001b[36mget_adjustment\u001b[0m:\u001b[36m53\u001b[0m - \u001b[1mgot final adjustment: 19800\u001b[0m\n",
      "\u001b[32m2020-04-04 18:19:27.576\u001b[0m | \u001b[34m\u001b[1mDEBUG   \u001b[0m | \u001b[36mlorapy.packets.packet\u001b[0m:\u001b[36mbiased_mean\u001b[0m:\u001b[36m63\u001b[0m - \u001b[34m\u001b[1mgot biased packet [526 / 495616] [0.00022 / 0.00008]\u001b[0m\n",
      "\u001b[32m2020-04-04 18:19:28.234\u001b[0m | \u001b[1mINFO    \u001b[0m | \u001b[36mlorapy.packets.packet\u001b[0m:\u001b[36mget_adjustment\u001b[0m:\u001b[36m53\u001b[0m - \u001b[1mgot final adjustment: 56600\u001b[0m\n",
      "\u001b[32m2020-04-04 18:19:28.235\u001b[0m | \u001b[33m\u001b[1mWARNING \u001b[0m | \u001b[36mlorapy.packets.packet\u001b[0m:\u001b[36m_check_over_adjustment\u001b[0m:\u001b[36m89\u001b[0m - \u001b[33m\u001b[1mpacket 105 is set to be overadjusted [56600 / 42500.0]\u001b[0m\n",
      "\u001b[32m2020-04-04 18:19:28.236\u001b[0m | \u001b[33m\u001b[1mWARNING \u001b[0m | \u001b[36mlorapy.packets.packet\u001b[0m:\u001b[36m_check_over_adjustment\u001b[0m:\u001b[36m89\u001b[0m - \u001b[33m\u001b[1mpacket 105 is set to be overadjusted [56600 / 42500.0]\u001b[0m\n",
      "\u001b[32m2020-04-04 18:19:28.243\u001b[0m | \u001b[34m\u001b[1mDEBUG   \u001b[0m | \u001b[36mlorapy.packets.packet\u001b[0m:\u001b[36mbiased_mean\u001b[0m:\u001b[36m63\u001b[0m - \u001b[34m\u001b[1mgot biased packet [1017 / 495616] [0.00021 / 0.00008]\u001b[0m\n",
      "\u001b[32m2020-04-04 18:19:28.570\u001b[0m | \u001b[1mINFO    \u001b[0m | \u001b[36mlorapy.packets.packet\u001b[0m:\u001b[36mget_adjustment\u001b[0m:\u001b[36m53\u001b[0m - \u001b[1mgot final adjustment: 26800\u001b[0m\n",
      "\u001b[32m2020-04-04 18:19:28.577\u001b[0m | \u001b[34m\u001b[1mDEBUG   \u001b[0m | \u001b[36mlorapy.packets.packet\u001b[0m:\u001b[36mbiased_mean\u001b[0m:\u001b[36m63\u001b[0m - \u001b[34m\u001b[1mgot biased packet [2223 / 495616] [0.00020 / 0.00008]\u001b[0m\n",
      "\u001b[32m2020-04-04 18:19:28.987\u001b[0m | \u001b[1mINFO    \u001b[0m | \u001b[36mlorapy.packets.packet\u001b[0m:\u001b[36mget_adjustment\u001b[0m:\u001b[36m53\u001b[0m - \u001b[1mgot final adjustment: 34200\u001b[0m\n",
      "\u001b[32m2020-04-04 18:19:28.994\u001b[0m | \u001b[34m\u001b[1mDEBUG   \u001b[0m | \u001b[36mlorapy.packets.packet\u001b[0m:\u001b[36mbiased_mean\u001b[0m:\u001b[36m63\u001b[0m - \u001b[34m\u001b[1mgot biased packet [560 / 495616] [0.00022 / 0.00008]\u001b[0m\n",
      "\u001b[32m2020-04-04 18:19:29.663\u001b[0m | \u001b[1mINFO    \u001b[0m | \u001b[36mlorapy.packets.packet\u001b[0m:\u001b[36mget_adjustment\u001b[0m:\u001b[36m53\u001b[0m - \u001b[1mgot final adjustment: 57900\u001b[0m\n",
      "\u001b[32m2020-04-04 18:19:29.663\u001b[0m | \u001b[33m\u001b[1mWARNING \u001b[0m | \u001b[36mlorapy.packets.packet\u001b[0m:\u001b[36m_check_over_adjustment\u001b[0m:\u001b[36m89\u001b[0m - \u001b[33m\u001b[1mpacket 108 is set to be overadjusted [57900 / 42500.0]\u001b[0m\n",
      "\u001b[32m2020-04-04 18:19:29.664\u001b[0m | \u001b[33m\u001b[1mWARNING \u001b[0m | \u001b[36mlorapy.packets.packet\u001b[0m:\u001b[36m_check_over_adjustment\u001b[0m:\u001b[36m89\u001b[0m - \u001b[33m\u001b[1mpacket 108 is set to be overadjusted [57900 / 42500.0]\u001b[0m\n",
      "\u001b[32m2020-04-04 18:19:29.671\u001b[0m | \u001b[34m\u001b[1mDEBUG   \u001b[0m | \u001b[36mlorapy.packets.packet\u001b[0m:\u001b[36mbiased_mean\u001b[0m:\u001b[36m63\u001b[0m - \u001b[34m\u001b[1mgot biased packet [1411 / 495616] [0.00020 / 0.00008]\u001b[0m\n",
      "\u001b[32m2020-04-04 18:19:30.094\u001b[0m | \u001b[1mINFO    \u001b[0m | \u001b[36mlorapy.packets.packet\u001b[0m:\u001b[36mget_adjustment\u001b[0m:\u001b[36m53\u001b[0m - \u001b[1mgot final adjustment: 35200\u001b[0m\n",
      "\u001b[32m2020-04-04 18:19:30.101\u001b[0m | \u001b[34m\u001b[1mDEBUG   \u001b[0m | \u001b[36mlorapy.packets.packet\u001b[0m:\u001b[36mbiased_mean\u001b[0m:\u001b[36m63\u001b[0m - \u001b[34m\u001b[1mgot biased packet [516 / 495616] [0.00022 / 0.00008]\u001b[0m\n",
      "\u001b[32m2020-04-04 18:19:30.653\u001b[0m | \u001b[1mINFO    \u001b[0m | \u001b[36mlorapy.packets.packet\u001b[0m:\u001b[36mget_adjustment\u001b[0m:\u001b[36m53\u001b[0m - \u001b[1mgot final adjustment: 47100\u001b[0m\n",
      "\u001b[32m2020-04-04 18:19:30.654\u001b[0m | \u001b[33m\u001b[1mWARNING \u001b[0m | \u001b[36mlorapy.packets.packet\u001b[0m:\u001b[36m_check_over_adjustment\u001b[0m:\u001b[36m89\u001b[0m - \u001b[33m\u001b[1mpacket 110 is set to be overadjusted [47100 / 42500.0]\u001b[0m\n",
      "\u001b[32m2020-04-04 18:19:30.655\u001b[0m | \u001b[33m\u001b[1mWARNING \u001b[0m | \u001b[36mlorapy.packets.packet\u001b[0m:\u001b[36m_check_over_adjustment\u001b[0m:\u001b[36m89\u001b[0m - \u001b[33m\u001b[1mpacket 110 is set to be overadjusted [47100 / 42500.0]\u001b[0m\n",
      "\u001b[32m2020-04-04 18:19:30.662\u001b[0m | \u001b[34m\u001b[1mDEBUG   \u001b[0m | \u001b[36mlorapy.packets.packet\u001b[0m:\u001b[36mbiased_mean\u001b[0m:\u001b[36m63\u001b[0m - \u001b[34m\u001b[1mgot biased packet [2714 / 495616] [0.00019 / 0.00008]\u001b[0m\n",
      "\u001b[32m2020-04-04 18:19:30.888\u001b[0m | \u001b[1mINFO    \u001b[0m | \u001b[36mlorapy.packets.packet\u001b[0m:\u001b[36mget_adjustment\u001b[0m:\u001b[36m53\u001b[0m - \u001b[1mgot final adjustment: 18500\u001b[0m\n",
      "\u001b[32m2020-04-04 18:19:30.894\u001b[0m | \u001b[34m\u001b[1mDEBUG   \u001b[0m | \u001b[36mlorapy.packets.packet\u001b[0m:\u001b[36mbiased_mean\u001b[0m:\u001b[36m63\u001b[0m - \u001b[34m\u001b[1mgot biased packet [940 / 495616] [0.00021 / 0.00008]\u001b[0m\n",
      "\u001b[32m2020-04-04 18:19:31.214\u001b[0m | \u001b[1mINFO    \u001b[0m | \u001b[36mlorapy.packets.packet\u001b[0m:\u001b[36mget_adjustment\u001b[0m:\u001b[36m53\u001b[0m - \u001b[1mgot final adjustment: 26100\u001b[0m\n",
      "\u001b[32m2020-04-04 18:19:31.221\u001b[0m | \u001b[34m\u001b[1mDEBUG   \u001b[0m | \u001b[36mlorapy.packets.packet\u001b[0m:\u001b[36mbiased_mean\u001b[0m:\u001b[36m63\u001b[0m - \u001b[34m\u001b[1mgot biased packet [850 / 495616] [0.00021 / 0.00008]\u001b[0m\n",
      "\u001b[32m2020-04-04 18:19:32.049\u001b[0m | \u001b[1mINFO    \u001b[0m | \u001b[36mlorapy.packets.packet\u001b[0m:\u001b[36mget_adjustment\u001b[0m:\u001b[36m53\u001b[0m - \u001b[1mgot final adjustment: 73900\u001b[0m\n",
      "\u001b[32m2020-04-04 18:19:32.050\u001b[0m | \u001b[33m\u001b[1mWARNING \u001b[0m | \u001b[36mlorapy.packets.packet\u001b[0m:\u001b[36m_check_over_adjustment\u001b[0m:\u001b[36m89\u001b[0m - \u001b[33m\u001b[1mpacket 113 is set to be overadjusted [73900 / 42500.0]\u001b[0m\n",
      "\u001b[32m2020-04-04 18:19:32.051\u001b[0m | \u001b[33m\u001b[1mWARNING \u001b[0m | \u001b[36mlorapy.packets.packet\u001b[0m:\u001b[36m_check_over_adjustment\u001b[0m:\u001b[36m89\u001b[0m - \u001b[33m\u001b[1mpacket 113 is set to be overadjusted [73900 / 42500.0]\u001b[0m\n",
      "\u001b[32m2020-04-04 18:19:32.058\u001b[0m | \u001b[34m\u001b[1mDEBUG   \u001b[0m | \u001b[36mlorapy.packets.packet\u001b[0m:\u001b[36mbiased_mean\u001b[0m:\u001b[36m63\u001b[0m - \u001b[34m\u001b[1mgot biased packet [499 / 495616] [0.00022 / 0.00008]\u001b[0m\n",
      "\u001b[32m2020-04-04 18:19:32.503\u001b[0m | \u001b[1mINFO    \u001b[0m | \u001b[36mlorapy.packets.packet\u001b[0m:\u001b[36mget_adjustment\u001b[0m:\u001b[36m53\u001b[0m - \u001b[1mgot final adjustment: 37100\u001b[0m\n",
      "\u001b[32m2020-04-04 18:19:32.510\u001b[0m | \u001b[34m\u001b[1mDEBUG   \u001b[0m | \u001b[36mlorapy.packets.packet\u001b[0m:\u001b[36mbiased_mean\u001b[0m:\u001b[36m63\u001b[0m - \u001b[34m\u001b[1mgot biased packet [453 / 495616] [0.00022 / 0.00008]\u001b[0m\n",
      "\u001b[32m2020-04-04 18:19:32.782\u001b[0m | \u001b[1mINFO    \u001b[0m | \u001b[36mlorapy.packets.packet\u001b[0m:\u001b[36mget_adjustment\u001b[0m:\u001b[36m53\u001b[0m - \u001b[1mgot final adjustment: 22400\u001b[0m\n",
      "\u001b[32m2020-04-04 18:19:32.789\u001b[0m | \u001b[34m\u001b[1mDEBUG   \u001b[0m | \u001b[36mlorapy.packets.packet\u001b[0m:\u001b[36mbiased_mean\u001b[0m:\u001b[36m63\u001b[0m - \u001b[34m\u001b[1mgot biased packet [1376 / 495616] [0.00020 / 0.00008]\u001b[0m\n",
      "\u001b[32m2020-04-04 18:19:33.176\u001b[0m | \u001b[1mINFO    \u001b[0m | \u001b[36mlorapy.packets.packet\u001b[0m:\u001b[36mget_adjustment\u001b[0m:\u001b[36m53\u001b[0m - \u001b[1mgot final adjustment: 33500\u001b[0m\n",
      "\u001b[32m2020-04-04 18:19:33.183\u001b[0m | \u001b[34m\u001b[1mDEBUG   \u001b[0m | \u001b[36mlorapy.packets.packet\u001b[0m:\u001b[36mbiased_mean\u001b[0m:\u001b[36m63\u001b[0m - \u001b[34m\u001b[1mgot biased packet [1363 / 495616] [0.00020 / 0.00008]\u001b[0m\n",
      "\u001b[32m2020-04-04 18:19:33.396\u001b[0m | \u001b[1mINFO    \u001b[0m | \u001b[36mlorapy.packets.packet\u001b[0m:\u001b[36mget_adjustment\u001b[0m:\u001b[36m53\u001b[0m - \u001b[1mgot final adjustment: 16900\u001b[0m\n",
      "\u001b[32m2020-04-04 18:19:33.404\u001b[0m | \u001b[34m\u001b[1mDEBUG   \u001b[0m | \u001b[36mlorapy.packets.packet\u001b[0m:\u001b[36mbiased_mean\u001b[0m:\u001b[36m63\u001b[0m - \u001b[34m\u001b[1mgot biased packet [1055 / 495616] [0.00021 / 0.00008]\u001b[0m\n",
      "\u001b[32m2020-04-04 18:19:33.692\u001b[0m | \u001b[1mINFO    \u001b[0m | \u001b[36mlorapy.packets.packet\u001b[0m:\u001b[36mget_adjustment\u001b[0m:\u001b[36m53\u001b[0m - \u001b[1mgot final adjustment: 24300\u001b[0m\n",
      "\u001b[32m2020-04-04 18:19:33.699\u001b[0m | \u001b[34m\u001b[1mDEBUG   \u001b[0m | \u001b[36mlorapy.packets.packet\u001b[0m:\u001b[36mbiased_mean\u001b[0m:\u001b[36m63\u001b[0m - \u001b[34m\u001b[1mgot biased packet [1060 / 495616] [0.00021 / 0.00008]\u001b[0m\n",
      "\u001b[32m2020-04-04 18:19:33.962\u001b[0m | \u001b[1mINFO    \u001b[0m | \u001b[36mlorapy.packets.packet\u001b[0m:\u001b[36mget_adjustment\u001b[0m:\u001b[36m53\u001b[0m - \u001b[1mgot final adjustment: 21700\u001b[0m\n",
      "\u001b[32m2020-04-04 18:19:33.968\u001b[0m | \u001b[34m\u001b[1mDEBUG   \u001b[0m | \u001b[36mlorapy.packets.packet\u001b[0m:\u001b[36mbiased_mean\u001b[0m:\u001b[36m63\u001b[0m - \u001b[34m\u001b[1mgot biased packet [3979 / 495616] [0.00019 / 0.00008]\u001b[0m\n",
      "\u001b[32m2020-04-04 18:19:34.238\u001b[0m | \u001b[1mINFO    \u001b[0m | \u001b[36mlorapy.packets.packet\u001b[0m:\u001b[36mget_adjustment\u001b[0m:\u001b[36m53\u001b[0m - \u001b[1mgot final adjustment: 21600\u001b[0m\n",
      "\u001b[32m2020-04-04 18:19:34.245\u001b[0m | \u001b[34m\u001b[1mDEBUG   \u001b[0m | \u001b[36mlorapy.packets.packet\u001b[0m:\u001b[36mbiased_mean\u001b[0m:\u001b[36m63\u001b[0m - \u001b[34m\u001b[1mgot biased packet [3997 / 495616] [0.00019 / 0.00008]\u001b[0m\n",
      "\u001b[32m2020-04-04 18:19:34.477\u001b[0m | \u001b[1mINFO    \u001b[0m | \u001b[36mlorapy.packets.packet\u001b[0m:\u001b[36mget_adjustment\u001b[0m:\u001b[36m53\u001b[0m - \u001b[1mgot final adjustment: 19000\u001b[0m\n",
      "\u001b[32m2020-04-04 18:19:34.484\u001b[0m | \u001b[34m\u001b[1mDEBUG   \u001b[0m | \u001b[36mlorapy.packets.packet\u001b[0m:\u001b[36mbiased_mean\u001b[0m:\u001b[36m63\u001b[0m - \u001b[34m\u001b[1mgot biased packet [594 / 495616] [0.00022 / 0.00008]\u001b[0m\n",
      "\u001b[32m2020-04-04 18:19:35.103\u001b[0m | \u001b[1mINFO    \u001b[0m | \u001b[36mlorapy.packets.packet\u001b[0m:\u001b[36mget_adjustment\u001b[0m:\u001b[36m53\u001b[0m - \u001b[1mgot final adjustment: 54300\u001b[0m\n",
      "\u001b[32m2020-04-04 18:19:35.104\u001b[0m | \u001b[33m\u001b[1mWARNING \u001b[0m | \u001b[36mlorapy.packets.packet\u001b[0m:\u001b[36m_check_over_adjustment\u001b[0m:\u001b[36m89\u001b[0m - \u001b[33m\u001b[1mpacket 122 is set to be overadjusted [54300 / 42500.0]\u001b[0m\n",
      "\u001b[32m2020-04-04 18:19:35.105\u001b[0m | \u001b[33m\u001b[1mWARNING \u001b[0m | \u001b[36mlorapy.packets.packet\u001b[0m:\u001b[36m_check_over_adjustment\u001b[0m:\u001b[36m89\u001b[0m - \u001b[33m\u001b[1mpacket 122 is set to be overadjusted [54300 / 42500.0]\u001b[0m\n",
      "\u001b[32m2020-04-04 18:19:35.112\u001b[0m | \u001b[34m\u001b[1mDEBUG   \u001b[0m | \u001b[36mlorapy.packets.packet\u001b[0m:\u001b[36mbiased_mean\u001b[0m:\u001b[36m63\u001b[0m - \u001b[34m\u001b[1mgot biased packet [314 / 495616] [0.00022 / 0.00008]\u001b[0m\n",
      "\u001b[32m2020-04-04 18:19:36.254\u001b[0m | \u001b[1mINFO    \u001b[0m | \u001b[36mlorapy.packets.packet\u001b[0m:\u001b[36mget_adjustment\u001b[0m:\u001b[36m53\u001b[0m - \u001b[1mgot final adjustment: 0\u001b[0m\n",
      "\u001b[32m2020-04-04 18:19:36.261\u001b[0m | \u001b[34m\u001b[1mDEBUG   \u001b[0m | \u001b[36mlorapy.packets.packet\u001b[0m:\u001b[36mbiased_mean\u001b[0m:\u001b[36m63\u001b[0m - \u001b[34m\u001b[1mgot biased packet [318 / 495616] [0.00022 / 0.00008]\u001b[0m\n",
      "\u001b[32m2020-04-04 18:19:37.420\u001b[0m | \u001b[1mINFO    \u001b[0m | \u001b[36mlorapy.packets.packet\u001b[0m:\u001b[36mget_adjustment\u001b[0m:\u001b[36m53\u001b[0m - \u001b[1mgot final adjustment: 0\u001b[0m\n",
      "\u001b[32m2020-04-04 18:19:37.426\u001b[0m | \u001b[34m\u001b[1mDEBUG   \u001b[0m | \u001b[36mlorapy.packets.packet\u001b[0m:\u001b[36mbiased_mean\u001b[0m:\u001b[36m63\u001b[0m - \u001b[34m\u001b[1mgot biased packet [1479 / 495616] [0.00020 / 0.00008]\u001b[0m\n",
      "\u001b[32m2020-04-04 18:19:37.678\u001b[0m | \u001b[1mINFO    \u001b[0m | \u001b[36mlorapy.packets.packet\u001b[0m:\u001b[36mget_adjustment\u001b[0m:\u001b[36m53\u001b[0m - \u001b[1mgot final adjustment: 20500\u001b[0m\n",
      "\u001b[32m2020-04-04 18:19:37.685\u001b[0m | \u001b[34m\u001b[1mDEBUG   \u001b[0m | \u001b[36mlorapy.packets.packet\u001b[0m:\u001b[36mbiased_mean\u001b[0m:\u001b[36m63\u001b[0m - \u001b[34m\u001b[1mgot biased packet [1482 / 495616] [0.00020 / 0.00008]\u001b[0m\n",
      "\u001b[32m2020-04-04 18:19:37.907\u001b[0m | \u001b[1mINFO    \u001b[0m | \u001b[36mlorapy.packets.packet\u001b[0m:\u001b[36mget_adjustment\u001b[0m:\u001b[36m53\u001b[0m - \u001b[1mgot final adjustment: 18000\u001b[0m\n",
      "\u001b[32m2020-04-04 18:19:37.914\u001b[0m | \u001b[34m\u001b[1mDEBUG   \u001b[0m | \u001b[36mlorapy.packets.packet\u001b[0m:\u001b[36mbiased_mean\u001b[0m:\u001b[36m63\u001b[0m - \u001b[34m\u001b[1mgot biased packet [2104 / 495616] [0.00020 / 0.00008]\u001b[0m\n",
      "\u001b[32m2020-04-04 18:19:38.153\u001b[0m | \u001b[1mINFO    \u001b[0m | \u001b[36mlorapy.packets.packet\u001b[0m:\u001b[36mget_adjustment\u001b[0m:\u001b[36m53\u001b[0m - \u001b[1mgot final adjustment: 19600\u001b[0m\n",
      "\u001b[32m2020-04-04 18:19:38.160\u001b[0m | \u001b[34m\u001b[1mDEBUG   \u001b[0m | \u001b[36mlorapy.packets.packet\u001b[0m:\u001b[36mbiased_mean\u001b[0m:\u001b[36m63\u001b[0m - \u001b[34m\u001b[1mgot biased packet [1466 / 495616] [0.00020 / 0.00008]\u001b[0m\n",
      "\u001b[32m2020-04-04 18:19:38.466\u001b[0m | \u001b[1mINFO    \u001b[0m | \u001b[36mlorapy.packets.packet\u001b[0m:\u001b[36mget_adjustment\u001b[0m:\u001b[36m53\u001b[0m - \u001b[1mgot final adjustment: 25900\u001b[0m\n",
      "\u001b[32m2020-04-04 18:19:38.473\u001b[0m | \u001b[34m\u001b[1mDEBUG   \u001b[0m | \u001b[36mlorapy.packets.packet\u001b[0m:\u001b[36mbiased_mean\u001b[0m:\u001b[36m63\u001b[0m - \u001b[34m\u001b[1mgot biased packet [915 / 495616] [0.00021 / 0.00008]\u001b[0m\n",
      "\u001b[32m2020-04-04 18:19:38.732\u001b[0m | \u001b[1mINFO    \u001b[0m | \u001b[36mlorapy.packets.packet\u001b[0m:\u001b[36mget_adjustment\u001b[0m:\u001b[36m53\u001b[0m - \u001b[1mgot final adjustment: 20900\u001b[0m\n",
      "\u001b[32m2020-04-04 18:19:38.739\u001b[0m | \u001b[34m\u001b[1mDEBUG   \u001b[0m | \u001b[36mlorapy.packets.packet\u001b[0m:\u001b[36mbiased_mean\u001b[0m:\u001b[36m63\u001b[0m - \u001b[34m\u001b[1mgot biased packet [887 / 495616] [0.00021 / 0.00008]\u001b[0m\n",
      "\u001b[32m2020-04-04 18:19:39.062\u001b[0m | \u001b[1mINFO    \u001b[0m | \u001b[36mlorapy.packets.packet\u001b[0m:\u001b[36mget_adjustment\u001b[0m:\u001b[36m53\u001b[0m - \u001b[1mgot final adjustment: 27200\u001b[0m\n",
      "\u001b[32m2020-04-04 18:19:39.069\u001b[0m | \u001b[34m\u001b[1mDEBUG   \u001b[0m | \u001b[36mlorapy.packets.packet\u001b[0m:\u001b[36mbiased_mean\u001b[0m:\u001b[36m63\u001b[0m - \u001b[34m\u001b[1mgot biased packet [627 / 495616] [0.00021 / 0.00008]\u001b[0m\n",
      "\u001b[32m2020-04-04 18:19:40.169\u001b[0m | \u001b[1mINFO    \u001b[0m | \u001b[36mlorapy.packets.packet\u001b[0m:\u001b[36mget_adjustment\u001b[0m:\u001b[36m53\u001b[0m - \u001b[1mgot final adjustment: 96400\u001b[0m\n",
      "\u001b[32m2020-04-04 18:19:40.170\u001b[0m | \u001b[33m\u001b[1mWARNING \u001b[0m | \u001b[36mlorapy.packets.packet\u001b[0m:\u001b[36m_check_over_adjustment\u001b[0m:\u001b[36m89\u001b[0m - \u001b[33m\u001b[1mpacket 131 is set to be overadjusted [96400 / 42500.0]\u001b[0m\n",
      "\u001b[32m2020-04-04 18:19:40.171\u001b[0m | \u001b[33m\u001b[1mWARNING \u001b[0m | \u001b[36mlorapy.packets.packet\u001b[0m:\u001b[36m_check_over_adjustment\u001b[0m:\u001b[36m89\u001b[0m - \u001b[33m\u001b[1mpacket 131 is set to be overadjusted [96400 / 42500.0]\u001b[0m\n",
      "\u001b[32m2020-04-04 18:19:40.178\u001b[0m | \u001b[34m\u001b[1mDEBUG   \u001b[0m | \u001b[36mlorapy.packets.packet\u001b[0m:\u001b[36mbiased_mean\u001b[0m:\u001b[36m63\u001b[0m - \u001b[34m\u001b[1mgot biased packet [981 / 495616] [0.00021 / 0.00008]\u001b[0m\n",
      "\u001b[32m2020-04-04 18:19:40.755\u001b[0m | \u001b[1mINFO    \u001b[0m | \u001b[36mlorapy.packets.packet\u001b[0m:\u001b[36mget_adjustment\u001b[0m:\u001b[36m53\u001b[0m - \u001b[1mgot final adjustment: 49200\u001b[0m\n",
      "\u001b[32m2020-04-04 18:19:40.756\u001b[0m | \u001b[33m\u001b[1mWARNING \u001b[0m | \u001b[36mlorapy.packets.packet\u001b[0m:\u001b[36m_check_over_adjustment\u001b[0m:\u001b[36m89\u001b[0m - \u001b[33m\u001b[1mpacket 132 is set to be overadjusted [49200 / 42500.0]\u001b[0m\n",
      "\u001b[32m2020-04-04 18:19:40.757\u001b[0m | \u001b[33m\u001b[1mWARNING \u001b[0m | \u001b[36mlorapy.packets.packet\u001b[0m:\u001b[36m_check_over_adjustment\u001b[0m:\u001b[36m89\u001b[0m - \u001b[33m\u001b[1mpacket 132 is set to be overadjusted [49200 / 42500.0]\u001b[0m\n",
      "\u001b[32m2020-04-04 18:19:40.764\u001b[0m | \u001b[34m\u001b[1mDEBUG   \u001b[0m | \u001b[36mlorapy.packets.packet\u001b[0m:\u001b[36mbiased_mean\u001b[0m:\u001b[36m63\u001b[0m - \u001b[34m\u001b[1mgot biased packet [915 / 495616] [0.00021 / 0.00008]\u001b[0m\n",
      "\u001b[32m2020-04-04 18:19:41.075\u001b[0m | \u001b[1mINFO    \u001b[0m | \u001b[36mlorapy.packets.packet\u001b[0m:\u001b[36mget_adjustment\u001b[0m:\u001b[36m53\u001b[0m - \u001b[1mgot final adjustment: 25100\u001b[0m\n",
      "\u001b[32m2020-04-04 18:19:41.082\u001b[0m | \u001b[34m\u001b[1mDEBUG   \u001b[0m | \u001b[36mlorapy.packets.packet\u001b[0m:\u001b[36mbiased_mean\u001b[0m:\u001b[36m63\u001b[0m - \u001b[34m\u001b[1mgot biased packet [2300 / 495616] [0.00020 / 0.00008]\u001b[0m\n",
      "\u001b[32m2020-04-04 18:19:41.266\u001b[0m | \u001b[1mINFO    \u001b[0m | \u001b[36mlorapy.packets.packet\u001b[0m:\u001b[36mget_adjustment\u001b[0m:\u001b[36m53\u001b[0m - \u001b[1mgot final adjustment: 15200\u001b[0m\n",
      "\u001b[32m2020-04-04 18:19:41.273\u001b[0m | \u001b[34m\u001b[1mDEBUG   \u001b[0m | \u001b[36mlorapy.packets.packet\u001b[0m:\u001b[36mbiased_mean\u001b[0m:\u001b[36m63\u001b[0m - \u001b[34m\u001b[1mgot biased packet [2311 / 495616] [0.00020 / 0.00008]\u001b[0m\n",
      "\u001b[32m2020-04-04 18:19:41.558\u001b[0m | \u001b[1mINFO    \u001b[0m | \u001b[36mlorapy.packets.packet\u001b[0m:\u001b[36mget_adjustment\u001b[0m:\u001b[36m53\u001b[0m - \u001b[1mgot final adjustment: 23000\u001b[0m\n",
      "\u001b[32m2020-04-04 18:19:41.565\u001b[0m | \u001b[34m\u001b[1mDEBUG   \u001b[0m | \u001b[36mlorapy.packets.packet\u001b[0m:\u001b[36mbiased_mean\u001b[0m:\u001b[36m63\u001b[0m - \u001b[34m\u001b[1mgot biased packet [1664 / 495616] [0.00020 / 0.00008]\u001b[0m\n",
      "\u001b[32m2020-04-04 18:19:41.801\u001b[0m | \u001b[1mINFO    \u001b[0m | \u001b[36mlorapy.packets.packet\u001b[0m:\u001b[36mget_adjustment\u001b[0m:\u001b[36m53\u001b[0m - \u001b[1mgot final adjustment: 18300\u001b[0m\n",
      "\u001b[32m2020-04-04 18:19:41.809\u001b[0m | \u001b[34m\u001b[1mDEBUG   \u001b[0m | \u001b[36mlorapy.packets.packet\u001b[0m:\u001b[36mbiased_mean\u001b[0m:\u001b[36m63\u001b[0m - \u001b[34m\u001b[1mgot biased packet [1550 / 495616] [0.00020 / 0.00008]\u001b[0m\n",
      "\u001b[32m2020-04-04 18:19:42.051\u001b[0m | \u001b[1mINFO    \u001b[0m | \u001b[36mlorapy.packets.packet\u001b[0m:\u001b[36mget_adjustment\u001b[0m:\u001b[36m53\u001b[0m - \u001b[1mgot final adjustment: 19500\u001b[0m\n",
      "\u001b[32m2020-04-04 18:19:42.058\u001b[0m | \u001b[34m\u001b[1mDEBUG   \u001b[0m | \u001b[36mlorapy.packets.packet\u001b[0m:\u001b[36mbiased_mean\u001b[0m:\u001b[36m63\u001b[0m - \u001b[34m\u001b[1mgot biased packet [2207 / 495616] [0.00020 / 0.00008]\u001b[0m\n",
      "\u001b[32m2020-04-04 18:19:42.331\u001b[0m | \u001b[1mINFO    \u001b[0m | \u001b[36mlorapy.packets.packet\u001b[0m:\u001b[36mget_adjustment\u001b[0m:\u001b[36m53\u001b[0m - \u001b[1mgot final adjustment: 22100\u001b[0m\n",
      "\u001b[32m2020-04-04 18:19:42.338\u001b[0m | \u001b[34m\u001b[1mDEBUG   \u001b[0m | \u001b[36mlorapy.packets.packet\u001b[0m:\u001b[36mbiased_mean\u001b[0m:\u001b[36m63\u001b[0m - \u001b[34m\u001b[1mgot biased packet [640 / 495616] [0.00021 / 0.00008]\u001b[0m\n",
      "\u001b[32m2020-04-04 18:19:42.374\u001b[0m | \u001b[1mINFO    \u001b[0m | \u001b[36mlorapy.packets.packet\u001b[0m:\u001b[36mget_adjustment\u001b[0m:\u001b[36m53\u001b[0m - \u001b[1mgot final adjustment: 2900\u001b[0m\n",
      "\u001b[32m2020-04-04 18:19:42.381\u001b[0m | \u001b[34m\u001b[1mDEBUG   \u001b[0m | \u001b[36mlorapy.packets.packet\u001b[0m:\u001b[36mbiased_mean\u001b[0m:\u001b[36m63\u001b[0m - \u001b[34m\u001b[1mgot biased packet [630 / 495616] [0.00022 / 0.00008]\u001b[0m\n",
      "\u001b[32m2020-04-04 18:19:43.511\u001b[0m | \u001b[1mINFO    \u001b[0m | \u001b[36mlorapy.packets.packet\u001b[0m:\u001b[36mget_adjustment\u001b[0m:\u001b[36m53\u001b[0m - \u001b[1mgot final adjustment: 0\u001b[0m\n",
      "\u001b[32m2020-04-04 18:19:43.518\u001b[0m | \u001b[34m\u001b[1mDEBUG   \u001b[0m | \u001b[36mlorapy.packets.packet\u001b[0m:\u001b[36mbiased_mean\u001b[0m:\u001b[36m63\u001b[0m - \u001b[34m\u001b[1mgot biased packet [2262 / 495616] [0.00020 / 0.00008]\u001b[0m\n",
      "\u001b[32m2020-04-04 18:19:43.792\u001b[0m | \u001b[1mINFO    \u001b[0m | \u001b[36mlorapy.packets.packet\u001b[0m:\u001b[36mget_adjustment\u001b[0m:\u001b[36m53\u001b[0m - \u001b[1mgot final adjustment: 21900\u001b[0m\n",
      "\u001b[32m2020-04-04 18:19:43.799\u001b[0m | \u001b[34m\u001b[1mDEBUG   \u001b[0m | \u001b[36mlorapy.packets.packet\u001b[0m:\u001b[36mbiased_mean\u001b[0m:\u001b[36m63\u001b[0m - \u001b[34m\u001b[1mgot biased packet [1075 / 495616] [0.00021 / 0.00008]\u001b[0m\n",
      "\u001b[32m2020-04-04 18:19:44.231\u001b[0m | \u001b[1mINFO    \u001b[0m | \u001b[36mlorapy.packets.packet\u001b[0m:\u001b[36mget_adjustment\u001b[0m:\u001b[36m53\u001b[0m - \u001b[1mgot final adjustment: 37000\u001b[0m\n",
      "\u001b[32m2020-04-04 18:19:44.238\u001b[0m | \u001b[34m\u001b[1mDEBUG   \u001b[0m | \u001b[36mlorapy.packets.packet\u001b[0m:\u001b[36mbiased_mean\u001b[0m:\u001b[36m63\u001b[0m - \u001b[34m\u001b[1mgot biased packet [2515 / 495616] [0.00020 / 0.00008]\u001b[0m\n",
      "\u001b[32m2020-04-04 18:19:44.270\u001b[0m | \u001b[1mINFO    \u001b[0m | \u001b[36mlorapy.packets.packet\u001b[0m:\u001b[36mget_adjustment\u001b[0m:\u001b[36m53\u001b[0m - \u001b[1mgot final adjustment: 2500\u001b[0m\n",
      "\u001b[32m2020-04-04 18:19:44.276\u001b[0m | \u001b[34m\u001b[1mDEBUG   \u001b[0m | \u001b[36mlorapy.packets.packet\u001b[0m:\u001b[36mbiased_mean\u001b[0m:\u001b[36m63\u001b[0m - \u001b[34m\u001b[1mgot biased packet [1580 / 495616] [0.00020 / 0.00008]\u001b[0m\n",
      "\u001b[32m2020-04-04 18:19:44.352\u001b[0m | \u001b[1mINFO    \u001b[0m | \u001b[36mlorapy.packets.packet\u001b[0m:\u001b[36mget_adjustment\u001b[0m:\u001b[36m53\u001b[0m - \u001b[1mgot final adjustment: 6200\u001b[0m\n",
      "\u001b[32m2020-04-04 18:19:44.359\u001b[0m | \u001b[34m\u001b[1mDEBUG   \u001b[0m | \u001b[36mlorapy.packets.packet\u001b[0m:\u001b[36mbiased_mean\u001b[0m:\u001b[36m63\u001b[0m - \u001b[34m\u001b[1mgot biased packet [902 / 495616] [0.00021 / 0.00008]\u001b[0m\n",
      "\u001b[32m2020-04-04 18:19:44.747\u001b[0m | \u001b[1mINFO    \u001b[0m | \u001b[36mlorapy.packets.packet\u001b[0m:\u001b[36mget_adjustment\u001b[0m:\u001b[36m53\u001b[0m - \u001b[1mgot final adjustment: 31400\u001b[0m\n",
      "\u001b[32m2020-04-04 18:19:44.754\u001b[0m | \u001b[34m\u001b[1mDEBUG   \u001b[0m | \u001b[36mlorapy.packets.packet\u001b[0m:\u001b[36mbiased_mean\u001b[0m:\u001b[36m63\u001b[0m - \u001b[34m\u001b[1mgot biased packet [1044 / 495616] [0.00021 / 0.00008]\u001b[0m\n",
      "\u001b[32m2020-04-04 18:19:45.193\u001b[0m | \u001b[1mINFO    \u001b[0m | \u001b[36mlorapy.packets.packet\u001b[0m:\u001b[36mget_adjustment\u001b[0m:\u001b[36m53\u001b[0m - \u001b[1mgot final adjustment: 35100\u001b[0m\n",
      "\u001b[32m2020-04-04 18:19:45.199\u001b[0m | \u001b[34m\u001b[1mDEBUG   \u001b[0m | \u001b[36mlorapy.packets.packet\u001b[0m:\u001b[36mbiased_mean\u001b[0m:\u001b[36m63\u001b[0m - \u001b[34m\u001b[1mgot biased packet [1431 / 495616] [0.00020 / 0.00008]\u001b[0m\n",
      "\u001b[32m2020-04-04 18:19:45.633\u001b[0m | \u001b[1mINFO    \u001b[0m | \u001b[36mlorapy.packets.packet\u001b[0m:\u001b[36mget_adjustment\u001b[0m:\u001b[36m53\u001b[0m - \u001b[1mgot final adjustment: 37300\u001b[0m\n",
      "\u001b[32m2020-04-04 18:19:45.640\u001b[0m | \u001b[34m\u001b[1mDEBUG   \u001b[0m | \u001b[36mlorapy.packets.packet\u001b[0m:\u001b[36mbiased_mean\u001b[0m:\u001b[36m63\u001b[0m - \u001b[34m\u001b[1mgot biased packet [537 / 495616] [0.00022 / 0.00008]\u001b[0m\n",
      "\u001b[32m2020-04-04 18:19:46.764\u001b[0m | \u001b[1mINFO    \u001b[0m | \u001b[36mlorapy.packets.packet\u001b[0m:\u001b[36mget_adjustment\u001b[0m:\u001b[36m53\u001b[0m - \u001b[1mgot final adjustment: 0\u001b[0m\n",
      "\u001b[32m2020-04-04 18:19:46.771\u001b[0m | \u001b[34m\u001b[1mDEBUG   \u001b[0m | \u001b[36mlorapy.packets.packet\u001b[0m:\u001b[36mbiased_mean\u001b[0m:\u001b[36m63\u001b[0m - \u001b[34m\u001b[1mgot biased packet [641 / 495616] [0.00021 / 0.00008]\u001b[0m\n",
      "\u001b[32m2020-04-04 18:19:47.069\u001b[0m | \u001b[1mINFO    \u001b[0m | \u001b[36mlorapy.packets.packet\u001b[0m:\u001b[36mget_adjustment\u001b[0m:\u001b[36m53\u001b[0m - \u001b[1mgot final adjustment: 24200\u001b[0m\n",
      "\u001b[32m2020-04-04 18:19:47.075\u001b[0m | \u001b[34m\u001b[1mDEBUG   \u001b[0m | \u001b[36mlorapy.packets.packet\u001b[0m:\u001b[36mbiased_mean\u001b[0m:\u001b[36m63\u001b[0m - \u001b[34m\u001b[1mgot biased packet [947 / 495616] [0.00021 / 0.00008]\u001b[0m\n",
      "\u001b[32m2020-04-04 18:19:47.349\u001b[0m | \u001b[1mINFO    \u001b[0m | \u001b[36mlorapy.packets.packet\u001b[0m:\u001b[36mget_adjustment\u001b[0m:\u001b[36m53\u001b[0m - \u001b[1mgot final adjustment: 21800\u001b[0m\n",
      "\u001b[32m2020-04-04 18:19:47.355\u001b[0m | \u001b[34m\u001b[1mDEBUG   \u001b[0m | \u001b[36mlorapy.packets.packet\u001b[0m:\u001b[36mbiased_mean\u001b[0m:\u001b[36m63\u001b[0m - \u001b[34m\u001b[1mgot biased packet [535 / 495616] [0.00021 / 0.00008]\u001b[0m\n",
      "\u001b[32m2020-04-04 18:19:47.840\u001b[0m | \u001b[1mINFO    \u001b[0m | \u001b[36mlorapy.packets.packet\u001b[0m:\u001b[36mget_adjustment\u001b[0m:\u001b[36m53\u001b[0m - \u001b[1mgot final adjustment: 41500\u001b[0m\n",
      "\u001b[32m2020-04-04 18:19:47.847\u001b[0m | \u001b[34m\u001b[1mDEBUG   \u001b[0m | \u001b[36mlorapy.packets.packet\u001b[0m:\u001b[36mbiased_mean\u001b[0m:\u001b[36m63\u001b[0m - \u001b[34m\u001b[1mgot biased packet [384 / 495616] [0.00022 / 0.00008]\u001b[0m\n",
      "\u001b[32m2020-04-04 18:19:48.635\u001b[0m | \u001b[1mINFO    \u001b[0m | \u001b[36mlorapy.packets.packet\u001b[0m:\u001b[36mget_adjustment\u001b[0m:\u001b[36m53\u001b[0m - \u001b[1mgot final adjustment: 68900\u001b[0m\n",
      "\u001b[32m2020-04-04 18:19:48.636\u001b[0m | \u001b[33m\u001b[1mWARNING \u001b[0m | \u001b[36mlorapy.packets.packet\u001b[0m:\u001b[36m_check_over_adjustment\u001b[0m:\u001b[36m89\u001b[0m - \u001b[33m\u001b[1mpacket 152 is set to be overadjusted [68900 / 42500.0]\u001b[0m\n",
      "\u001b[32m2020-04-04 18:19:48.637\u001b[0m | \u001b[33m\u001b[1mWARNING \u001b[0m | \u001b[36mlorapy.packets.packet\u001b[0m:\u001b[36m_check_over_adjustment\u001b[0m:\u001b[36m89\u001b[0m - \u001b[33m\u001b[1mpacket 152 is set to be overadjusted [68900 / 42500.0]\u001b[0m\n",
      "\u001b[32m2020-04-04 18:19:48.644\u001b[0m | \u001b[34m\u001b[1mDEBUG   \u001b[0m | \u001b[36mlorapy.packets.packet\u001b[0m:\u001b[36mbiased_mean\u001b[0m:\u001b[36m63\u001b[0m - \u001b[34m\u001b[1mgot biased packet [594 / 495616] [0.00022 / 0.00008]\u001b[0m\n",
      "\u001b[32m2020-04-04 18:19:49.485\u001b[0m | \u001b[1mINFO    \u001b[0m | \u001b[36mlorapy.packets.packet\u001b[0m:\u001b[36mget_adjustment\u001b[0m:\u001b[36m53\u001b[0m - \u001b[1mgot final adjustment: 72700\u001b[0m\n",
      "\u001b[32m2020-04-04 18:19:49.486\u001b[0m | \u001b[33m\u001b[1mWARNING \u001b[0m | \u001b[36mlorapy.packets.packet\u001b[0m:\u001b[36m_check_over_adjustment\u001b[0m:\u001b[36m89\u001b[0m - \u001b[33m\u001b[1mpacket 153 is set to be overadjusted [72700 / 42500.0]\u001b[0m\n",
      "\u001b[32m2020-04-04 18:19:49.487\u001b[0m | \u001b[33m\u001b[1mWARNING \u001b[0m | \u001b[36mlorapy.packets.packet\u001b[0m:\u001b[36m_check_over_adjustment\u001b[0m:\u001b[36m89\u001b[0m - \u001b[33m\u001b[1mpacket 153 is set to be overadjusted [72700 / 42500.0]\u001b[0m\n",
      "\u001b[32m2020-04-04 18:19:49.495\u001b[0m | \u001b[34m\u001b[1mDEBUG   \u001b[0m | \u001b[36mlorapy.packets.packet\u001b[0m:\u001b[36mbiased_mean\u001b[0m:\u001b[36m63\u001b[0m - \u001b[34m\u001b[1mgot biased packet [2163 / 495616] [0.00020 / 0.00008]\u001b[0m\n",
      "\u001b[32m2020-04-04 18:19:49.823\u001b[0m | \u001b[1mINFO    \u001b[0m | \u001b[36mlorapy.packets.packet\u001b[0m:\u001b[36mget_adjustment\u001b[0m:\u001b[36m53\u001b[0m - \u001b[1mgot final adjustment: 26700\u001b[0m\n",
      "\u001b[32m2020-04-04 18:19:49.830\u001b[0m | \u001b[34m\u001b[1mDEBUG   \u001b[0m | \u001b[36mlorapy.packets.packet\u001b[0m:\u001b[36mbiased_mean\u001b[0m:\u001b[36m63\u001b[0m - \u001b[34m\u001b[1mgot biased packet [1998 / 495616] [0.00020 / 0.00008]\u001b[0m\n",
      "\u001b[32m2020-04-04 18:19:50.195\u001b[0m | \u001b[1mINFO    \u001b[0m | \u001b[36mlorapy.packets.packet\u001b[0m:\u001b[36mget_adjustment\u001b[0m:\u001b[36m53\u001b[0m - \u001b[1mgot final adjustment: 30700\u001b[0m\n",
      "\u001b[32m2020-04-04 18:19:50.202\u001b[0m | \u001b[34m\u001b[1mDEBUG   \u001b[0m | \u001b[36mlorapy.packets.packet\u001b[0m:\u001b[36mbiased_mean\u001b[0m:\u001b[36m63\u001b[0m - \u001b[34m\u001b[1mgot biased packet [2741 / 495616] [0.00019 / 0.00008]\u001b[0m\n",
      "\u001b[32m2020-04-04 18:19:50.503\u001b[0m | \u001b[1mINFO    \u001b[0m | \u001b[36mlorapy.packets.packet\u001b[0m:\u001b[36mget_adjustment\u001b[0m:\u001b[36m53\u001b[0m - \u001b[1mgot final adjustment: 25100\u001b[0m\n",
      "\u001b[32m2020-04-04 18:19:50.510\u001b[0m | \u001b[34m\u001b[1mDEBUG   \u001b[0m | \u001b[36mlorapy.packets.packet\u001b[0m:\u001b[36mbiased_mean\u001b[0m:\u001b[36m63\u001b[0m - \u001b[34m\u001b[1mgot biased packet [518 / 495616] [0.00021 / 0.00008]\u001b[0m\n",
      "\u001b[32m2020-04-04 18:19:51.301\u001b[0m | \u001b[1mINFO    \u001b[0m | \u001b[36mlorapy.packets.packet\u001b[0m:\u001b[36mget_adjustment\u001b[0m:\u001b[36m53\u001b[0m - \u001b[1mgot final adjustment: 68500\u001b[0m\n",
      "\u001b[32m2020-04-04 18:19:51.301\u001b[0m | \u001b[33m\u001b[1mWARNING \u001b[0m | \u001b[36mlorapy.packets.packet\u001b[0m:\u001b[36m_check_over_adjustment\u001b[0m:\u001b[36m89\u001b[0m - \u001b[33m\u001b[1mpacket 157 is set to be overadjusted [68500 / 42500.0]\u001b[0m\n",
      "\u001b[32m2020-04-04 18:19:51.302\u001b[0m | \u001b[33m\u001b[1mWARNING \u001b[0m | \u001b[36mlorapy.packets.packet\u001b[0m:\u001b[36m_check_over_adjustment\u001b[0m:\u001b[36m89\u001b[0m - \u001b[33m\u001b[1mpacket 157 is set to be overadjusted [68500 / 42500.0]\u001b[0m\n",
      "\u001b[32m2020-04-04 18:19:51.309\u001b[0m | \u001b[34m\u001b[1mDEBUG   \u001b[0m | \u001b[36mlorapy.packets.packet\u001b[0m:\u001b[36mbiased_mean\u001b[0m:\u001b[36m63\u001b[0m - \u001b[34m\u001b[1mgot biased packet [2400 / 495616] [0.00020 / 0.00008]\u001b[0m\n",
      "\u001b[32m2020-04-04 18:19:51.568\u001b[0m | \u001b[1mINFO    \u001b[0m | \u001b[36mlorapy.packets.packet\u001b[0m:\u001b[36mget_adjustment\u001b[0m:\u001b[36m53\u001b[0m - \u001b[1mgot final adjustment: 21200\u001b[0m\n",
      "\u001b[32m2020-04-04 18:19:51.575\u001b[0m | \u001b[34m\u001b[1mDEBUG   \u001b[0m | \u001b[36mlorapy.packets.packet\u001b[0m:\u001b[36mbiased_mean\u001b[0m:\u001b[36m63\u001b[0m - \u001b[34m\u001b[1mgot biased packet [610 / 495616] [0.00021 / 0.00008]\u001b[0m\n",
      "\u001b[32m2020-04-04 18:19:51.641\u001b[0m | \u001b[1mINFO    \u001b[0m | \u001b[36mlorapy.packets.packet\u001b[0m:\u001b[36mget_adjustment\u001b[0m:\u001b[36m53\u001b[0m - \u001b[1mgot final adjustment: 4500\u001b[0m\n",
      "\u001b[32m2020-04-04 18:19:51.647\u001b[0m | \u001b[34m\u001b[1mDEBUG   \u001b[0m | \u001b[36mlorapy.packets.packet\u001b[0m:\u001b[36mbiased_mean\u001b[0m:\u001b[36m63\u001b[0m - \u001b[34m\u001b[1mgot biased packet [2302 / 495616] [0.00020 / 0.00008]\u001b[0m\n",
      "\u001b[32m2020-04-04 18:19:52.222\u001b[0m | \u001b[1mINFO    \u001b[0m | \u001b[36mlorapy.packets.packet\u001b[0m:\u001b[36mget_adjustment\u001b[0m:\u001b[36m53\u001b[0m - \u001b[1mgot final adjustment: 49200\u001b[0m\n",
      "\u001b[32m2020-04-04 18:19:52.223\u001b[0m | \u001b[33m\u001b[1mWARNING \u001b[0m | \u001b[36mlorapy.packets.packet\u001b[0m:\u001b[36m_check_over_adjustment\u001b[0m:\u001b[36m89\u001b[0m - \u001b[33m\u001b[1mpacket 160 is set to be overadjusted [49200 / 42500.0]\u001b[0m\n",
      "\u001b[32m2020-04-04 18:19:52.224\u001b[0m | \u001b[33m\u001b[1mWARNING \u001b[0m | \u001b[36mlorapy.packets.packet\u001b[0m:\u001b[36m_check_over_adjustment\u001b[0m:\u001b[36m89\u001b[0m - \u001b[33m\u001b[1mpacket 160 is set to be overadjusted [49200 / 42500.0]\u001b[0m\n",
      "\u001b[32m2020-04-04 18:19:52.231\u001b[0m | \u001b[34m\u001b[1mDEBUG   \u001b[0m | \u001b[36mlorapy.packets.packet\u001b[0m:\u001b[36mbiased_mean\u001b[0m:\u001b[36m63\u001b[0m - \u001b[34m\u001b[1mgot biased packet [3066 / 495616] [0.00019 / 0.00008]\u001b[0m\n",
      "\u001b[32m2020-04-04 18:19:52.435\u001b[0m | \u001b[1mINFO    \u001b[0m | \u001b[36mlorapy.packets.packet\u001b[0m:\u001b[36mget_adjustment\u001b[0m:\u001b[36m53\u001b[0m - \u001b[1mgot final adjustment: 16300\u001b[0m\n",
      "\u001b[32m2020-04-04 18:19:52.441\u001b[0m | \u001b[34m\u001b[1mDEBUG   \u001b[0m | \u001b[36mlorapy.packets.packet\u001b[0m:\u001b[36mbiased_mean\u001b[0m:\u001b[36m63\u001b[0m - \u001b[34m\u001b[1mgot biased packet [2567 / 495616] [0.00020 / 0.00008]\u001b[0m\n",
      "\u001b[32m2020-04-04 18:19:52.718\u001b[0m | \u001b[1mINFO    \u001b[0m | \u001b[36mlorapy.packets.packet\u001b[0m:\u001b[36mget_adjustment\u001b[0m:\u001b[36m53\u001b[0m - \u001b[1mgot final adjustment: 22800\u001b[0m\n",
      "\u001b[32m2020-04-04 18:19:52.725\u001b[0m | \u001b[34m\u001b[1mDEBUG   \u001b[0m | \u001b[36mlorapy.packets.packet\u001b[0m:\u001b[36mbiased_mean\u001b[0m:\u001b[36m63\u001b[0m - \u001b[34m\u001b[1mgot biased packet [2468 / 495616] [0.00020 / 0.00008]\u001b[0m\n",
      "\u001b[32m2020-04-04 18:19:53.145\u001b[0m | \u001b[1mINFO    \u001b[0m | \u001b[36mlorapy.packets.packet\u001b[0m:\u001b[36mget_adjustment\u001b[0m:\u001b[36m53\u001b[0m - \u001b[1mgot final adjustment: 34700\u001b[0m\n",
      "\u001b[32m2020-04-04 18:19:53.152\u001b[0m | \u001b[34m\u001b[1mDEBUG   \u001b[0m | \u001b[36mlorapy.packets.packet\u001b[0m:\u001b[36mbiased_mean\u001b[0m:\u001b[36m63\u001b[0m - \u001b[34m\u001b[1mgot biased packet [2475 / 495616] [0.00020 / 0.00008]\u001b[0m\n",
      "\u001b[32m2020-04-04 18:19:53.526\u001b[0m | \u001b[1mINFO    \u001b[0m | \u001b[36mlorapy.packets.packet\u001b[0m:\u001b[36mget_adjustment\u001b[0m:\u001b[36m53\u001b[0m - \u001b[1mgot final adjustment: 32100\u001b[0m\n",
      "\u001b[32m2020-04-04 18:19:53.532\u001b[0m | \u001b[34m\u001b[1mDEBUG   \u001b[0m | \u001b[36mlorapy.packets.packet\u001b[0m:\u001b[36mbiased_mean\u001b[0m:\u001b[36m63\u001b[0m - \u001b[34m\u001b[1mgot biased packet [2510 / 495616] [0.00020 / 0.00008]\u001b[0m\n",
      "\u001b[32m2020-04-04 18:19:53.775\u001b[0m | \u001b[1mINFO    \u001b[0m | \u001b[36mlorapy.packets.packet\u001b[0m:\u001b[36mget_adjustment\u001b[0m:\u001b[36m53\u001b[0m - \u001b[1mgot final adjustment: 19700\u001b[0m\n",
      "\u001b[32m2020-04-04 18:19:53.782\u001b[0m | \u001b[34m\u001b[1mDEBUG   \u001b[0m | \u001b[36mlorapy.packets.packet\u001b[0m:\u001b[36mbiased_mean\u001b[0m:\u001b[36m63\u001b[0m - \u001b[34m\u001b[1mgot biased packet [619 / 495616] [0.00022 / 0.00008]\u001b[0m\n",
      "\u001b[32m2020-04-04 18:19:54.195\u001b[0m | \u001b[1mINFO    \u001b[0m | \u001b[36mlorapy.packets.packet\u001b[0m:\u001b[36mget_adjustment\u001b[0m:\u001b[36m53\u001b[0m - \u001b[1mgot final adjustment: 34900\u001b[0m\n",
      "\u001b[32m2020-04-04 18:19:54.201\u001b[0m | \u001b[34m\u001b[1mDEBUG   \u001b[0m | \u001b[36mlorapy.packets.packet\u001b[0m:\u001b[36mbiased_mean\u001b[0m:\u001b[36m63\u001b[0m - \u001b[34m\u001b[1mgot biased packet [1581 / 495616] [0.00020 / 0.00008]\u001b[0m\n",
      "\u001b[32m2020-04-04 18:19:54.426\u001b[0m | \u001b[1mINFO    \u001b[0m | \u001b[36mlorapy.packets.packet\u001b[0m:\u001b[36mget_adjustment\u001b[0m:\u001b[36m53\u001b[0m - \u001b[1mgot final adjustment: 18600\u001b[0m\n",
      "\u001b[32m2020-04-04 18:19:54.432\u001b[0m | \u001b[34m\u001b[1mDEBUG   \u001b[0m | \u001b[36mlorapy.packets.packet\u001b[0m:\u001b[36mbiased_mean\u001b[0m:\u001b[36m63\u001b[0m - \u001b[34m\u001b[1mgot biased packet [616 / 495616] [0.00022 / 0.00008]\u001b[0m\n",
      "\u001b[32m2020-04-04 18:19:55.267\u001b[0m | \u001b[1mINFO    \u001b[0m | \u001b[36mlorapy.packets.packet\u001b[0m:\u001b[36mget_adjustment\u001b[0m:\u001b[36m53\u001b[0m - \u001b[1mgot final adjustment: 71600\u001b[0m\n",
      "\u001b[32m2020-04-04 18:19:55.268\u001b[0m | \u001b[33m\u001b[1mWARNING \u001b[0m | \u001b[36mlorapy.packets.packet\u001b[0m:\u001b[36m_check_over_adjustment\u001b[0m:\u001b[36m89\u001b[0m - \u001b[33m\u001b[1mpacket 168 is set to be overadjusted [71600 / 42500.0]\u001b[0m\n",
      "\u001b[32m2020-04-04 18:19:55.269\u001b[0m | \u001b[33m\u001b[1mWARNING \u001b[0m | \u001b[36mlorapy.packets.packet\u001b[0m:\u001b[36m_check_over_adjustment\u001b[0m:\u001b[36m89\u001b[0m - \u001b[33m\u001b[1mpacket 168 is set to be overadjusted [71600 / 42500.0]\u001b[0m\n",
      "\u001b[32m2020-04-04 18:19:55.276\u001b[0m | \u001b[34m\u001b[1mDEBUG   \u001b[0m | \u001b[36mlorapy.packets.packet\u001b[0m:\u001b[36mbiased_mean\u001b[0m:\u001b[36m63\u001b[0m - \u001b[34m\u001b[1mgot biased packet [1782 / 495616] [0.00020 / 0.00008]\u001b[0m\n",
      "\u001b[32m2020-04-04 18:19:55.669\u001b[0m | \u001b[1mINFO    \u001b[0m | \u001b[36mlorapy.packets.packet\u001b[0m:\u001b[36mget_adjustment\u001b[0m:\u001b[36m53\u001b[0m - \u001b[1mgot final adjustment: 31700\u001b[0m\n",
      "\u001b[32m2020-04-04 18:19:55.676\u001b[0m | \u001b[34m\u001b[1mDEBUG   \u001b[0m | \u001b[36mlorapy.packets.packet\u001b[0m:\u001b[36mbiased_mean\u001b[0m:\u001b[36m63\u001b[0m - \u001b[34m\u001b[1mgot biased packet [984 / 495616] [0.00021 / 0.00008]\u001b[0m\n",
      "\u001b[32m2020-04-04 18:19:55.925\u001b[0m | \u001b[1mINFO    \u001b[0m | \u001b[36mlorapy.packets.packet\u001b[0m:\u001b[36mget_adjustment\u001b[0m:\u001b[36m53\u001b[0m - \u001b[1mgot final adjustment: 20700\u001b[0m\n",
      "\u001b[32m2020-04-04 18:19:55.932\u001b[0m | \u001b[34m\u001b[1mDEBUG   \u001b[0m | \u001b[36mlorapy.packets.packet\u001b[0m:\u001b[36mbiased_mean\u001b[0m:\u001b[36m63\u001b[0m - \u001b[34m\u001b[1mgot biased packet [2390 / 495616] [0.00020 / 0.00008]\u001b[0m\n",
      "\u001b[32m2020-04-04 18:19:55.944\u001b[0m | \u001b[1mINFO    \u001b[0m | \u001b[36mlorapy.packets.packet\u001b[0m:\u001b[36mget_adjustment\u001b[0m:\u001b[36m53\u001b[0m - \u001b[1mgot final adjustment: 800\u001b[0m\n",
      "\u001b[32m2020-04-04 18:19:55.951\u001b[0m | \u001b[34m\u001b[1mDEBUG   \u001b[0m | \u001b[36mlorapy.packets.packet\u001b[0m:\u001b[36mbiased_mean\u001b[0m:\u001b[36m63\u001b[0m - \u001b[34m\u001b[1mgot biased packet [1826 / 495616] [0.00020 / 0.00008]\u001b[0m\n",
      "\u001b[32m2020-04-04 18:19:56.182\u001b[0m | \u001b[1mINFO    \u001b[0m | \u001b[36mlorapy.packets.packet\u001b[0m:\u001b[36mget_adjustment\u001b[0m:\u001b[36m53\u001b[0m - \u001b[1mgot final adjustment: 18700\u001b[0m\n",
      "\u001b[32m2020-04-04 18:19:56.189\u001b[0m | \u001b[34m\u001b[1mDEBUG   \u001b[0m | \u001b[36mlorapy.packets.packet\u001b[0m:\u001b[36mbiased_mean\u001b[0m:\u001b[36m63\u001b[0m - \u001b[34m\u001b[1mgot biased packet [2560 / 495616] [0.00020 / 0.00008]\u001b[0m\n",
      "\u001b[32m2020-04-04 18:19:56.413\u001b[0m | \u001b[1mINFO    \u001b[0m | \u001b[36mlorapy.packets.packet\u001b[0m:\u001b[36mget_adjustment\u001b[0m:\u001b[36m53\u001b[0m - \u001b[1mgot final adjustment: 17600\u001b[0m\n",
      "\u001b[32m2020-04-04 18:19:56.419\u001b[0m | \u001b[34m\u001b[1mDEBUG   \u001b[0m | \u001b[36mlorapy.packets.packet\u001b[0m:\u001b[36mbiased_mean\u001b[0m:\u001b[36m63\u001b[0m - \u001b[34m\u001b[1mgot biased packet [611 / 495616] [0.00022 / 0.00008]\u001b[0m\n",
      "\u001b[32m2020-04-04 18:19:57.093\u001b[0m | \u001b[1mINFO    \u001b[0m | \u001b[36mlorapy.packets.packet\u001b[0m:\u001b[36mget_adjustment\u001b[0m:\u001b[36m53\u001b[0m - \u001b[1mgot final adjustment: 58200\u001b[0m\n",
      "\u001b[32m2020-04-04 18:19:57.094\u001b[0m | \u001b[33m\u001b[1mWARNING \u001b[0m | \u001b[36mlorapy.packets.packet\u001b[0m:\u001b[36m_check_over_adjustment\u001b[0m:\u001b[36m89\u001b[0m - \u001b[33m\u001b[1mpacket 174 is set to be overadjusted [58200 / 42500.0]\u001b[0m\n",
      "\u001b[32m2020-04-04 18:19:57.095\u001b[0m | \u001b[33m\u001b[1mWARNING \u001b[0m | \u001b[36mlorapy.packets.packet\u001b[0m:\u001b[36m_check_over_adjustment\u001b[0m:\u001b[36m89\u001b[0m - \u001b[33m\u001b[1mpacket 174 is set to be overadjusted [58200 / 42500.0]\u001b[0m\n",
      "\u001b[32m2020-04-04 18:19:57.102\u001b[0m | \u001b[34m\u001b[1mDEBUG   \u001b[0m | \u001b[36mlorapy.packets.packet\u001b[0m:\u001b[36mbiased_mean\u001b[0m:\u001b[36m63\u001b[0m - \u001b[34m\u001b[1mgot biased packet [1000 / 495616] [0.00021 / 0.00008]\u001b[0m\n",
      "\u001b[32m2020-04-04 18:19:57.363\u001b[0m | \u001b[1mINFO    \u001b[0m | \u001b[36mlorapy.packets.packet\u001b[0m:\u001b[36mget_adjustment\u001b[0m:\u001b[36m53\u001b[0m - \u001b[1mgot final adjustment: 21600\u001b[0m\n",
      "\u001b[32m2020-04-04 18:19:57.369\u001b[0m | \u001b[34m\u001b[1mDEBUG   \u001b[0m | \u001b[36mlorapy.packets.packet\u001b[0m:\u001b[36mbiased_mean\u001b[0m:\u001b[36m63\u001b[0m - \u001b[34m\u001b[1mgot biased packet [2378 / 495616] [0.00020 / 0.00008]\u001b[0m\n",
      "\u001b[32m2020-04-04 18:19:57.511\u001b[0m | \u001b[1mINFO    \u001b[0m | \u001b[36mlorapy.packets.packet\u001b[0m:\u001b[36mget_adjustment\u001b[0m:\u001b[36m53\u001b[0m - \u001b[1mgot final adjustment: 10700\u001b[0m\n",
      "\u001b[32m2020-04-04 18:19:57.517\u001b[0m | \u001b[34m\u001b[1mDEBUG   \u001b[0m | \u001b[36mlorapy.packets.packet\u001b[0m:\u001b[36mbiased_mean\u001b[0m:\u001b[36m63\u001b[0m - \u001b[34m\u001b[1mgot biased packet [619 / 495616] [0.00022 / 0.00008]\u001b[0m\n",
      "\u001b[32m2020-04-04 18:19:57.525\u001b[0m | \u001b[1mINFO    \u001b[0m | \u001b[36mlorapy.packets.packet\u001b[0m:\u001b[36mget_adjustment\u001b[0m:\u001b[36m53\u001b[0m - \u001b[1mgot final adjustment: 400\u001b[0m\n",
      "\u001b[32m2020-04-04 18:19:57.532\u001b[0m | \u001b[34m\u001b[1mDEBUG   \u001b[0m | \u001b[36mlorapy.packets.packet\u001b[0m:\u001b[36mbiased_mean\u001b[0m:\u001b[36m63\u001b[0m - \u001b[34m\u001b[1mgot biased packet [588 / 495616] [0.00022 / 0.00008]\u001b[0m\n",
      "\u001b[32m2020-04-04 18:19:57.993\u001b[0m | \u001b[1mINFO    \u001b[0m | \u001b[36mlorapy.packets.packet\u001b[0m:\u001b[36mget_adjustment\u001b[0m:\u001b[36m53\u001b[0m - \u001b[1mgot final adjustment: 37400\u001b[0m\n",
      "\u001b[32m2020-04-04 18:19:58.000\u001b[0m | \u001b[34m\u001b[1mDEBUG   \u001b[0m | \u001b[36mlorapy.packets.packet\u001b[0m:\u001b[36mbiased_mean\u001b[0m:\u001b[36m63\u001b[0m - \u001b[34m\u001b[1mgot biased packet [1053 / 495616] [0.00021 / 0.00008]\u001b[0m\n",
      "\u001b[32m2020-04-04 18:19:58.660\u001b[0m | \u001b[1mINFO    \u001b[0m | \u001b[36mlorapy.packets.packet\u001b[0m:\u001b[36mget_adjustment\u001b[0m:\u001b[36m53\u001b[0m - \u001b[1mgot final adjustment: 57600\u001b[0m\n",
      "\u001b[32m2020-04-04 18:19:58.661\u001b[0m | \u001b[33m\u001b[1mWARNING \u001b[0m | \u001b[36mlorapy.packets.packet\u001b[0m:\u001b[36m_check_over_adjustment\u001b[0m:\u001b[36m89\u001b[0m - \u001b[33m\u001b[1mpacket 179 is set to be overadjusted [57600 / 42500.0]\u001b[0m\n",
      "\u001b[32m2020-04-04 18:19:58.662\u001b[0m | \u001b[33m\u001b[1mWARNING \u001b[0m | \u001b[36mlorapy.packets.packet\u001b[0m:\u001b[36m_check_over_adjustment\u001b[0m:\u001b[36m89\u001b[0m - \u001b[33m\u001b[1mpacket 179 is set to be overadjusted [57600 / 42500.0]\u001b[0m\n",
      "\u001b[32m2020-04-04 18:19:58.669\u001b[0m | \u001b[34m\u001b[1mDEBUG   \u001b[0m | \u001b[36mlorapy.packets.packet\u001b[0m:\u001b[36mbiased_mean\u001b[0m:\u001b[36m63\u001b[0m - \u001b[34m\u001b[1mgot biased packet [1507 / 495616] [0.00020 / 0.00008]\u001b[0m\n",
      "\u001b[32m2020-04-04 18:19:59.333\u001b[0m | \u001b[1mINFO    \u001b[0m | \u001b[36mlorapy.packets.packet\u001b[0m:\u001b[36mget_adjustment\u001b[0m:\u001b[36m53\u001b[0m - \u001b[1mgot final adjustment: 56700\u001b[0m\n",
      "\u001b[32m2020-04-04 18:19:59.333\u001b[0m | \u001b[33m\u001b[1mWARNING \u001b[0m | \u001b[36mlorapy.packets.packet\u001b[0m:\u001b[36m_check_over_adjustment\u001b[0m:\u001b[36m89\u001b[0m - \u001b[33m\u001b[1mpacket 180 is set to be overadjusted [56700 / 42500.0]\u001b[0m\n",
      "\u001b[32m2020-04-04 18:19:59.334\u001b[0m | \u001b[33m\u001b[1mWARNING \u001b[0m | \u001b[36mlorapy.packets.packet\u001b[0m:\u001b[36m_check_over_adjustment\u001b[0m:\u001b[36m89\u001b[0m - \u001b[33m\u001b[1mpacket 180 is set to be overadjusted [56700 / 42500.0]\u001b[0m\n",
      "\u001b[32m2020-04-04 18:19:59.341\u001b[0m | \u001b[34m\u001b[1mDEBUG   \u001b[0m | \u001b[36mlorapy.packets.packet\u001b[0m:\u001b[36mbiased_mean\u001b[0m:\u001b[36m63\u001b[0m - \u001b[34m\u001b[1mgot biased packet [2395 / 495616] [0.00020 / 0.00008]\u001b[0m\n",
      "\u001b[32m2020-04-04 18:19:59.346\u001b[0m | \u001b[1mINFO    \u001b[0m | \u001b[36mlorapy.packets.packet\u001b[0m:\u001b[36mget_adjustment\u001b[0m:\u001b[36m53\u001b[0m - \u001b[1mgot final adjustment: 200\u001b[0m\n",
      "\u001b[32m2020-04-04 18:19:59.352\u001b[0m | \u001b[34m\u001b[1mDEBUG   \u001b[0m | \u001b[36mlorapy.packets.packet\u001b[0m:\u001b[36mbiased_mean\u001b[0m:\u001b[36m63\u001b[0m - \u001b[34m\u001b[1mgot biased packet [2422 / 495616] [0.00020 / 0.00008]\u001b[0m\n",
      "\u001b[32m2020-04-04 18:19:59.361\u001b[0m | \u001b[1mINFO    \u001b[0m | \u001b[36mlorapy.packets.packet\u001b[0m:\u001b[36mget_adjustment\u001b[0m:\u001b[36m53\u001b[0m - \u001b[1mgot final adjustment: 500\u001b[0m\n",
      "\u001b[32m2020-04-04 18:19:59.367\u001b[0m | \u001b[34m\u001b[1mDEBUG   \u001b[0m | \u001b[36mlorapy.packets.packet\u001b[0m:\u001b[36mbiased_mean\u001b[0m:\u001b[36m63\u001b[0m - \u001b[34m\u001b[1mgot biased packet [2432 / 495616] [0.00020 / 0.00008]\u001b[0m\n",
      "\u001b[32m2020-04-04 18:19:59.529\u001b[0m | \u001b[1mINFO    \u001b[0m | \u001b[36mlorapy.packets.packet\u001b[0m:\u001b[36mget_adjustment\u001b[0m:\u001b[36m53\u001b[0m - \u001b[1mgot final adjustment: 13500\u001b[0m\n",
      "\u001b[32m2020-04-04 18:19:59.536\u001b[0m | \u001b[34m\u001b[1mDEBUG   \u001b[0m | \u001b[36mlorapy.packets.packet\u001b[0m:\u001b[36mbiased_mean\u001b[0m:\u001b[36m63\u001b[0m - \u001b[34m\u001b[1mgot biased packet [1688 / 495616] [0.00020 / 0.00008]\u001b[0m\n",
      "\u001b[32m2020-04-04 18:19:59.736\u001b[0m | \u001b[1mINFO    \u001b[0m | \u001b[36mlorapy.packets.packet\u001b[0m:\u001b[36mget_adjustment\u001b[0m:\u001b[36m53\u001b[0m - \u001b[1mgot final adjustment: 16800\u001b[0m\n",
      "\u001b[32m2020-04-04 18:19:59.743\u001b[0m | \u001b[34m\u001b[1mDEBUG   \u001b[0m | \u001b[36mlorapy.packets.packet\u001b[0m:\u001b[36mbiased_mean\u001b[0m:\u001b[36m63\u001b[0m - \u001b[34m\u001b[1mgot biased packet [1820 / 495616] [0.00020 / 0.00008]\u001b[0m\n",
      "\u001b[32m2020-04-04 18:20:00.368\u001b[0m | \u001b[1mINFO    \u001b[0m | \u001b[36mlorapy.packets.packet\u001b[0m:\u001b[36mget_adjustment\u001b[0m:\u001b[36m53\u001b[0m - \u001b[1mgot final adjustment: 52300\u001b[0m\n",
      "\u001b[32m2020-04-04 18:20:00.369\u001b[0m | \u001b[33m\u001b[1mWARNING \u001b[0m | \u001b[36mlorapy.packets.packet\u001b[0m:\u001b[36m_check_over_adjustment\u001b[0m:\u001b[36m89\u001b[0m - \u001b[33m\u001b[1mpacket 185 is set to be overadjusted [52300 / 42500.0]\u001b[0m\n",
      "\u001b[32m2020-04-04 18:20:00.370\u001b[0m | \u001b[33m\u001b[1mWARNING \u001b[0m | \u001b[36mlorapy.packets.packet\u001b[0m:\u001b[36m_check_over_adjustment\u001b[0m:\u001b[36m89\u001b[0m - \u001b[33m\u001b[1mpacket 185 is set to be overadjusted [52300 / 42500.0]\u001b[0m\n",
      "\u001b[32m2020-04-04 18:20:00.377\u001b[0m | \u001b[34m\u001b[1mDEBUG   \u001b[0m | \u001b[36mlorapy.packets.packet\u001b[0m:\u001b[36mbiased_mean\u001b[0m:\u001b[36m63\u001b[0m - \u001b[34m\u001b[1mgot biased packet [620 / 495616] [0.00022 / 0.00008]\u001b[0m\n",
      "\u001b[32m2020-04-04 18:20:01.359\u001b[0m | \u001b[1mINFO    \u001b[0m | \u001b[36mlorapy.packets.packet\u001b[0m:\u001b[36mget_adjustment\u001b[0m:\u001b[36m53\u001b[0m - \u001b[1mgot final adjustment: 85900\u001b[0m\n",
      "\u001b[32m2020-04-04 18:20:01.360\u001b[0m | \u001b[33m\u001b[1mWARNING \u001b[0m | \u001b[36mlorapy.packets.packet\u001b[0m:\u001b[36m_check_over_adjustment\u001b[0m:\u001b[36m89\u001b[0m - \u001b[33m\u001b[1mpacket 186 is set to be overadjusted [85900 / 42500.0]\u001b[0m\n",
      "\u001b[32m2020-04-04 18:20:01.360\u001b[0m | \u001b[33m\u001b[1mWARNING \u001b[0m | \u001b[36mlorapy.packets.packet\u001b[0m:\u001b[36m_check_over_adjustment\u001b[0m:\u001b[36m89\u001b[0m - \u001b[33m\u001b[1mpacket 186 is set to be overadjusted [85900 / 42500.0]\u001b[0m\n",
      "\u001b[32m2020-04-04 18:20:01.368\u001b[0m | \u001b[34m\u001b[1mDEBUG   \u001b[0m | \u001b[36mlorapy.packets.packet\u001b[0m:\u001b[36mbiased_mean\u001b[0m:\u001b[36m63\u001b[0m - \u001b[34m\u001b[1mgot biased packet [1635 / 495616] [0.00020 / 0.00008]\u001b[0m\n",
      "\u001b[32m2020-04-04 18:20:01.513\u001b[0m | \u001b[1mINFO    \u001b[0m | \u001b[36mlorapy.packets.packet\u001b[0m:\u001b[36mget_adjustment\u001b[0m:\u001b[36m53\u001b[0m - \u001b[1mgot final adjustment: 11800\u001b[0m\n",
      "\u001b[32m2020-04-04 18:20:01.521\u001b[0m | \u001b[34m\u001b[1mDEBUG   \u001b[0m | \u001b[36mlorapy.packets.packet\u001b[0m:\u001b[36mbiased_mean\u001b[0m:\u001b[36m63\u001b[0m - \u001b[34m\u001b[1mgot biased packet [653 / 495616] [0.00022 / 0.00008]\u001b[0m\n",
      "\u001b[32m2020-04-04 18:20:01.756\u001b[0m | \u001b[1mINFO    \u001b[0m | \u001b[36mlorapy.packets.packet\u001b[0m:\u001b[36mget_adjustment\u001b[0m:\u001b[36m53\u001b[0m - \u001b[1mgot final adjustment: 19100\u001b[0m\n",
      "\u001b[32m2020-04-04 18:20:01.764\u001b[0m | \u001b[34m\u001b[1mDEBUG   \u001b[0m | \u001b[36mlorapy.packets.packet\u001b[0m:\u001b[36mbiased_mean\u001b[0m:\u001b[36m63\u001b[0m - \u001b[34m\u001b[1mgot biased packet [1054 / 495616] [0.00021 / 0.00008]\u001b[0m\n",
      "\u001b[32m2020-04-04 18:20:02.118\u001b[0m | \u001b[1mINFO    \u001b[0m | \u001b[36mlorapy.packets.packet\u001b[0m:\u001b[36mget_adjustment\u001b[0m:\u001b[36m53\u001b[0m - \u001b[1mgot final adjustment: 29400\u001b[0m\n",
      "\u001b[32m2020-04-04 18:20:02.125\u001b[0m | \u001b[34m\u001b[1mDEBUG   \u001b[0m | \u001b[36mlorapy.packets.packet\u001b[0m:\u001b[36mbiased_mean\u001b[0m:\u001b[36m63\u001b[0m - \u001b[34m\u001b[1mgot biased packet [635 / 495616] [0.00022 / 0.00008]\u001b[0m\n",
      "\u001b[32m2020-04-04 18:20:02.522\u001b[0m | \u001b[1mINFO    \u001b[0m | \u001b[36mlorapy.packets.packet\u001b[0m:\u001b[36mget_adjustment\u001b[0m:\u001b[36m53\u001b[0m - \u001b[1mgot final adjustment: 32600\u001b[0m\n",
      "\u001b[32m2020-04-04 18:20:02.529\u001b[0m | \u001b[34m\u001b[1mDEBUG   \u001b[0m | \u001b[36mlorapy.packets.packet\u001b[0m:\u001b[36mbiased_mean\u001b[0m:\u001b[36m63\u001b[0m - \u001b[34m\u001b[1mgot biased packet [1487 / 495616] [0.00020 / 0.00008]\u001b[0m\n",
      "\u001b[32m2020-04-04 18:20:02.964\u001b[0m | \u001b[1mINFO    \u001b[0m | \u001b[36mlorapy.packets.packet\u001b[0m:\u001b[36mget_adjustment\u001b[0m:\u001b[36m53\u001b[0m - \u001b[1mgot final adjustment: 37100\u001b[0m\n",
      "\u001b[32m2020-04-04 18:20:02.971\u001b[0m | \u001b[34m\u001b[1mDEBUG   \u001b[0m | \u001b[36mlorapy.packets.packet\u001b[0m:\u001b[36mbiased_mean\u001b[0m:\u001b[36m63\u001b[0m - \u001b[34m\u001b[1mgot biased packet [1618 / 495616] [0.00020 / 0.00008]\u001b[0m\n",
      "\u001b[32m2020-04-04 18:20:03.014\u001b[0m | \u001b[1mINFO    \u001b[0m | \u001b[36mlorapy.packets.packet\u001b[0m:\u001b[36mget_adjustment\u001b[0m:\u001b[36m53\u001b[0m - \u001b[1mgot final adjustment: 3500\u001b[0m\n",
      "\u001b[32m2020-04-04 18:20:03.021\u001b[0m | \u001b[34m\u001b[1mDEBUG   \u001b[0m | \u001b[36mlorapy.packets.packet\u001b[0m:\u001b[36mbiased_mean\u001b[0m:\u001b[36m63\u001b[0m - \u001b[34m\u001b[1mgot biased packet [307 / 495616] [0.00022 / 0.00008]\u001b[0m\n",
      "\u001b[32m2020-04-04 18:20:04.152\u001b[0m | \u001b[1mINFO    \u001b[0m | \u001b[36mlorapy.packets.packet\u001b[0m:\u001b[36mget_adjustment\u001b[0m:\u001b[36m53\u001b[0m - \u001b[1mgot final adjustment: 0\u001b[0m\n",
      "\u001b[32m2020-04-04 18:20:04.159\u001b[0m | \u001b[34m\u001b[1mDEBUG   \u001b[0m | \u001b[36mlorapy.packets.packet\u001b[0m:\u001b[36mbiased_mean\u001b[0m:\u001b[36m63\u001b[0m - \u001b[34m\u001b[1mgot biased packet [597 / 495616] [0.00022 / 0.00008]\u001b[0m\n",
      "\u001b[32m2020-04-04 18:20:05.284\u001b[0m | \u001b[1mINFO    \u001b[0m | \u001b[36mlorapy.packets.packet\u001b[0m:\u001b[36mget_adjustment\u001b[0m:\u001b[36m53\u001b[0m - \u001b[1mgot final adjustment: 0\u001b[0m\n",
      "\u001b[32m2020-04-04 18:20:05.291\u001b[0m | \u001b[34m\u001b[1mDEBUG   \u001b[0m | \u001b[36mlorapy.packets.packet\u001b[0m:\u001b[36mbiased_mean\u001b[0m:\u001b[36m63\u001b[0m - \u001b[34m\u001b[1mgot biased packet [1430 / 495616] [0.00020 / 0.00008]\u001b[0m\n",
      "\u001b[32m2020-04-04 18:20:05.533\u001b[0m | \u001b[1mINFO    \u001b[0m | \u001b[36mlorapy.packets.packet\u001b[0m:\u001b[36mget_adjustment\u001b[0m:\u001b[36m53\u001b[0m - \u001b[1mgot final adjustment: 20500\u001b[0m\n",
      "\u001b[32m2020-04-04 18:20:05.539\u001b[0m | \u001b[34m\u001b[1mDEBUG   \u001b[0m | \u001b[36mlorapy.packets.packet\u001b[0m:\u001b[36mbiased_mean\u001b[0m:\u001b[36m63\u001b[0m - \u001b[34m\u001b[1mgot biased packet [643 / 495616] [0.00022 / 0.00008]\u001b[0m\n",
      "\u001b[32m2020-04-04 18:20:05.996\u001b[0m | \u001b[1mINFO    \u001b[0m | \u001b[36mlorapy.packets.packet\u001b[0m:\u001b[36mget_adjustment\u001b[0m:\u001b[36m53\u001b[0m - \u001b[1mgot final adjustment: 37400\u001b[0m\n",
      "\u001b[32m2020-04-04 18:20:06.003\u001b[0m | \u001b[34m\u001b[1mDEBUG   \u001b[0m | \u001b[36mlorapy.packets.packet\u001b[0m:\u001b[36mbiased_mean\u001b[0m:\u001b[36m63\u001b[0m - \u001b[34m\u001b[1mgot biased packet [711 / 495616] [0.00021 / 0.00008]\u001b[0m\n",
      "\u001b[32m2020-04-04 18:20:07.131\u001b[0m | \u001b[1mINFO    \u001b[0m | \u001b[36mlorapy.packets.packet\u001b[0m:\u001b[36mget_adjustment\u001b[0m:\u001b[36m53\u001b[0m - \u001b[1mgot final adjustment: 0\u001b[0m\n",
      "\u001b[32m2020-04-04 18:20:07.138\u001b[0m | \u001b[34m\u001b[1mDEBUG   \u001b[0m | \u001b[36mlorapy.packets.packet\u001b[0m:\u001b[36mbiased_mean\u001b[0m:\u001b[36m63\u001b[0m - \u001b[34m\u001b[1mgot biased packet [599 / 495616] [0.00022 / 0.00008]\u001b[0m\n",
      "\u001b[32m2020-04-04 18:20:08.269\u001b[0m | \u001b[1mINFO    \u001b[0m | \u001b[36mlorapy.packets.packet\u001b[0m:\u001b[36mget_adjustment\u001b[0m:\u001b[36m53\u001b[0m - \u001b[1mgot final adjustment: 0\u001b[0m\n",
      "\u001b[32m2020-04-04 18:20:08.276\u001b[0m | \u001b[34m\u001b[1mDEBUG   \u001b[0m | \u001b[36mlorapy.packets.packet\u001b[0m:\u001b[36mbiased_mean\u001b[0m:\u001b[36m63\u001b[0m - \u001b[34m\u001b[1mgot biased packet [597 / 495616] [0.00021 / 0.00008]\u001b[0m\n",
      "\u001b[32m2020-04-04 18:20:08.578\u001b[0m | \u001b[1mINFO    \u001b[0m | \u001b[36mlorapy.packets.packet\u001b[0m:\u001b[36mget_adjustment\u001b[0m:\u001b[36m53\u001b[0m - \u001b[1mgot final adjustment: 25200\u001b[0m\n",
      "\u001b[32m2020-04-04 18:20:08.585\u001b[0m | \u001b[34m\u001b[1mDEBUG   \u001b[0m | \u001b[36mlorapy.packets.packet\u001b[0m:\u001b[36mbiased_mean\u001b[0m:\u001b[36m63\u001b[0m - \u001b[34m\u001b[1mgot biased packet [1023 / 495616] [0.00021 / 0.00008]\u001b[0m\n",
      "\u001b[32m2020-04-04 18:20:09.197\u001b[0m | \u001b[1mINFO    \u001b[0m | \u001b[36mlorapy.packets.packet\u001b[0m:\u001b[36mget_adjustment\u001b[0m:\u001b[36m53\u001b[0m - \u001b[1mgot final adjustment: 52100\u001b[0m\n",
      "\u001b[32m2020-04-04 18:20:09.197\u001b[0m | \u001b[33m\u001b[1mWARNING \u001b[0m | \u001b[36mlorapy.packets.packet\u001b[0m:\u001b[36m_check_over_adjustment\u001b[0m:\u001b[36m89\u001b[0m - \u001b[33m\u001b[1mpacket 200 is set to be overadjusted [52100 / 42500.0]\u001b[0m\n",
      "\u001b[32m2020-04-04 18:20:09.198\u001b[0m | \u001b[33m\u001b[1mWARNING \u001b[0m | \u001b[36mlorapy.packets.packet\u001b[0m:\u001b[36m_check_over_adjustment\u001b[0m:\u001b[36m89\u001b[0m - \u001b[33m\u001b[1mpacket 200 is set to be overadjusted [52100 / 42500.0]\u001b[0m\n",
      "\u001b[32m2020-04-04 18:20:09.205\u001b[0m | \u001b[34m\u001b[1mDEBUG   \u001b[0m | \u001b[36mlorapy.packets.packet\u001b[0m:\u001b[36mbiased_mean\u001b[0m:\u001b[36m63\u001b[0m - \u001b[34m\u001b[1mgot biased packet [1022 / 495616] [0.00021 / 0.00008]\u001b[0m\n",
      "\u001b[32m2020-04-04 18:20:09.694\u001b[0m | \u001b[1mINFO    \u001b[0m | \u001b[36mlorapy.packets.packet\u001b[0m:\u001b[36mget_adjustment\u001b[0m:\u001b[36m53\u001b[0m - \u001b[1mgot final adjustment: 40700\u001b[0m\n",
      "\u001b[32m2020-04-04 18:20:09.701\u001b[0m | \u001b[34m\u001b[1mDEBUG   \u001b[0m | \u001b[36mlorapy.packets.packet\u001b[0m:\u001b[36mbiased_mean\u001b[0m:\u001b[36m63\u001b[0m - \u001b[34m\u001b[1mgot biased packet [3270 / 495616] [0.00019 / 0.00008]\u001b[0m\n",
      "\u001b[32m2020-04-04 18:20:09.752\u001b[0m | \u001b[1mINFO    \u001b[0m | \u001b[36mlorapy.packets.packet\u001b[0m:\u001b[36mget_adjustment\u001b[0m:\u001b[36m53\u001b[0m - \u001b[1mgot final adjustment: 4100\u001b[0m\n",
      "\u001b[32m2020-04-04 18:20:09.759\u001b[0m | \u001b[34m\u001b[1mDEBUG   \u001b[0m | \u001b[36mlorapy.packets.packet\u001b[0m:\u001b[36mbiased_mean\u001b[0m:\u001b[36m63\u001b[0m - \u001b[34m\u001b[1mgot biased packet [3269 / 495616] [0.00019 / 0.00008]\u001b[0m\n",
      "\u001b[32m2020-04-04 18:20:09.778\u001b[0m | \u001b[1mINFO    \u001b[0m | \u001b[36mlorapy.packets.packet\u001b[0m:\u001b[36mget_adjustment\u001b[0m:\u001b[36m53\u001b[0m - \u001b[1mgot final adjustment: 1500\u001b[0m\n",
      "\u001b[32m2020-04-04 18:20:09.785\u001b[0m | \u001b[34m\u001b[1mDEBUG   \u001b[0m | \u001b[36mlorapy.packets.packet\u001b[0m:\u001b[36mbiased_mean\u001b[0m:\u001b[36m63\u001b[0m - \u001b[34m\u001b[1mgot biased packet [595 / 495616] [0.00021 / 0.00008]\u001b[0m\n",
      "\u001b[32m2020-04-04 18:20:10.454\u001b[0m | \u001b[1mINFO    \u001b[0m | \u001b[36mlorapy.packets.packet\u001b[0m:\u001b[36mget_adjustment\u001b[0m:\u001b[36m53\u001b[0m - \u001b[1mgot final adjustment: 55700\u001b[0m\n",
      "\u001b[32m2020-04-04 18:20:10.454\u001b[0m | \u001b[33m\u001b[1mWARNING \u001b[0m | \u001b[36mlorapy.packets.packet\u001b[0m:\u001b[36m_check_over_adjustment\u001b[0m:\u001b[36m89\u001b[0m - \u001b[33m\u001b[1mpacket 204 is set to be overadjusted [55700 / 42500.0]\u001b[0m\n",
      "\u001b[32m2020-04-04 18:20:10.455\u001b[0m | \u001b[33m\u001b[1mWARNING \u001b[0m | \u001b[36mlorapy.packets.packet\u001b[0m:\u001b[36m_check_over_adjustment\u001b[0m:\u001b[36m89\u001b[0m - \u001b[33m\u001b[1mpacket 204 is set to be overadjusted [55700 / 42500.0]\u001b[0m\n",
      "\u001b[32m2020-04-04 18:20:10.462\u001b[0m | \u001b[34m\u001b[1mDEBUG   \u001b[0m | \u001b[36mlorapy.packets.packet\u001b[0m:\u001b[36mbiased_mean\u001b[0m:\u001b[36m63\u001b[0m - \u001b[34m\u001b[1mgot biased packet [597 / 495616] [0.00021 / 0.00008]\u001b[0m\n",
      "\u001b[32m2020-04-04 18:20:11.088\u001b[0m | \u001b[1mINFO    \u001b[0m | \u001b[36mlorapy.packets.packet\u001b[0m:\u001b[36mget_adjustment\u001b[0m:\u001b[36m53\u001b[0m - \u001b[1mgot final adjustment: 53100\u001b[0m\n",
      "\u001b[32m2020-04-04 18:20:11.089\u001b[0m | \u001b[33m\u001b[1mWARNING \u001b[0m | \u001b[36mlorapy.packets.packet\u001b[0m:\u001b[36m_check_over_adjustment\u001b[0m:\u001b[36m89\u001b[0m - \u001b[33m\u001b[1mpacket 205 is set to be overadjusted [53100 / 42500.0]\u001b[0m\n",
      "\u001b[32m2020-04-04 18:20:11.090\u001b[0m | \u001b[33m\u001b[1mWARNING \u001b[0m | \u001b[36mlorapy.packets.packet\u001b[0m:\u001b[36m_check_over_adjustment\u001b[0m:\u001b[36m89\u001b[0m - \u001b[33m\u001b[1mpacket 205 is set to be overadjusted [53100 / 42500.0]\u001b[0m\n",
      "\u001b[32m2020-04-04 18:20:11.097\u001b[0m | \u001b[34m\u001b[1mDEBUG   \u001b[0m | \u001b[36mlorapy.packets.packet\u001b[0m:\u001b[36mbiased_mean\u001b[0m:\u001b[36m63\u001b[0m - \u001b[34m\u001b[1mgot biased packet [397 / 495616] [0.00022 / 0.00008]\u001b[0m\n",
      "\u001b[32m2020-04-04 18:20:12.231\u001b[0m | \u001b[1mINFO    \u001b[0m | \u001b[36mlorapy.packets.packet\u001b[0m:\u001b[36mget_adjustment\u001b[0m:\u001b[36m53\u001b[0m - \u001b[1mgot final adjustment: 0\u001b[0m\n",
      "\u001b[32m2020-04-04 18:20:12.238\u001b[0m | \u001b[34m\u001b[1mDEBUG   \u001b[0m | \u001b[36mlorapy.packets.packet\u001b[0m:\u001b[36mbiased_mean\u001b[0m:\u001b[36m63\u001b[0m - \u001b[34m\u001b[1mgot biased packet [1592 / 495616] [0.00020 / 0.00008]\u001b[0m\n",
      "\u001b[32m2020-04-04 18:20:12.532\u001b[0m | \u001b[1mINFO    \u001b[0m | \u001b[36mlorapy.packets.packet\u001b[0m:\u001b[36mget_adjustment\u001b[0m:\u001b[36m53\u001b[0m - \u001b[1mgot final adjustment: 24600\u001b[0m\n",
      "\u001b[32m2020-04-04 18:20:12.538\u001b[0m | \u001b[34m\u001b[1mDEBUG   \u001b[0m | \u001b[36mlorapy.packets.packet\u001b[0m:\u001b[36mbiased_mean\u001b[0m:\u001b[36m63\u001b[0m - \u001b[34m\u001b[1mgot biased packet [1588 / 495616] [0.00020 / 0.00008]\u001b[0m\n",
      "\u001b[32m2020-04-04 18:20:12.811\u001b[0m | \u001b[1mINFO    \u001b[0m | \u001b[36mlorapy.packets.packet\u001b[0m:\u001b[36mget_adjustment\u001b[0m:\u001b[36m53\u001b[0m - \u001b[1mgot final adjustment: 22000\u001b[0m\n",
      "\u001b[32m2020-04-04 18:20:12.818\u001b[0m | \u001b[34m\u001b[1mDEBUG   \u001b[0m | \u001b[36mlorapy.packets.packet\u001b[0m:\u001b[36mbiased_mean\u001b[0m:\u001b[36m63\u001b[0m - \u001b[34m\u001b[1mgot biased packet [1580 / 495616] [0.00020 / 0.00008]\u001b[0m\n",
      "\u001b[32m2020-04-04 18:20:13.122\u001b[0m | \u001b[1mINFO    \u001b[0m | \u001b[36mlorapy.packets.packet\u001b[0m:\u001b[36mget_adjustment\u001b[0m:\u001b[36m53\u001b[0m - \u001b[1mgot final adjustment: 25300\u001b[0m\n",
      "\u001b[32m2020-04-04 18:20:13.129\u001b[0m | \u001b[34m\u001b[1mDEBUG   \u001b[0m | \u001b[36mlorapy.packets.packet\u001b[0m:\u001b[36mbiased_mean\u001b[0m:\u001b[36m63\u001b[0m - \u001b[34m\u001b[1mgot biased packet [2935 / 495616] [0.00019 / 0.00008]\u001b[0m\n",
      "\u001b[32m2020-04-04 18:20:13.189\u001b[0m | \u001b[1mINFO    \u001b[0m | \u001b[36mlorapy.packets.packet\u001b[0m:\u001b[36mget_adjustment\u001b[0m:\u001b[36m53\u001b[0m - \u001b[1mgot final adjustment: 4800\u001b[0m\n",
      "\u001b[32m2020-04-04 18:20:13.190\u001b[0m | \u001b[34m\u001b[1mDEBUG   \u001b[0m | \u001b[36mlorapy.signals.signal\u001b[0m:\u001b[36m_slice_and_load\u001b[0m:\u001b[36m74\u001b[0m - \u001b[34m\u001b[1mloaded 211 lora packets\u001b[0m\n",
      "\u001b[32m2020-04-04 18:20:13.191\u001b[0m | \u001b[34m\u001b[1mDEBUG   \u001b[0m | \u001b[36mlorapy.signals.signal\u001b[0m:\u001b[36m_adjust_endpoints\u001b[0m:\u001b[36m96\u001b[0m - \u001b[34m\u001b[1madjusted endpoints\u001b[0m\n",
      "\u001b[32m2020-04-04 18:20:13.191\u001b[0m | \u001b[34m\u001b[1mDEBUG   \u001b[0m | \u001b[36mlorapy.packets.utils\u001b[0m:\u001b[36mslice_all_packets\u001b[0m:\u001b[36m21\u001b[0m - \u001b[34m\u001b[1mgot max packet length: 495616\u001b[0m\n",
      "\u001b[32m2020-04-04 18:20:13.614\u001b[0m | \u001b[1mINFO    \u001b[0m | \u001b[36mlorapy.packets.utils\u001b[0m:\u001b[36mslice_all_packets\u001b[0m:\u001b[36m28\u001b[0m - \u001b[1mextracted 211 packets from signal\u001b[0m\n",
      "\u001b[32m2020-04-04 18:20:13.656\u001b[0m | \u001b[34m\u001b[1mDEBUG   \u001b[0m | \u001b[36mlorapy.signals.signal\u001b[0m:\u001b[36m_slice_and_load\u001b[0m:\u001b[36m74\u001b[0m - \u001b[34m\u001b[1mloaded 211 lora packets\u001b[0m\n"
     ]
    }
   ],
   "source": [
    "signal.extract_packets(method='slide-mean', auto_adj=True)"
   ]
  },
  {
   "cell_type": "code",
   "execution_count": 16,
   "metadata": {},
   "outputs": [
    {
     "data": {
      "text/plain": [
       "((211, 495616), 211)"
      ]
     },
     "execution_count": 16,
     "metadata": {},
     "output_type": "execute_result"
    }
   ],
   "source": [
    "signal._raw_packets.shape, len(signal.packets)"
   ]
  },
  {
   "cell_type": "code",
   "execution_count": 17,
   "metadata": {},
   "outputs": [
    {
     "name": "stdout",
     "output_type": "stream",
     "text": [
      "Stored 'signal' (LoraSignal)\n"
     ]
    }
   ],
   "source": [
    "%store signal"
   ]
  },
  {
   "cell_type": "markdown",
   "metadata": {},
   "source": [
    "# lora packets"
   ]
  },
  {
   "cell_type": "raw",
   "metadata": {},
   "source": [
    "%store -r signal "
   ]
  },
  {
   "cell_type": "markdown",
   "metadata": {},
   "source": [
    "## packet attrs"
   ]
  },
  {
   "cell_type": "code",
   "execution_count": 23,
   "metadata": {},
   "outputs": [
    {
     "data": {
      "text/plain": [
       "LoraPacket(id=0) || size: 495616 | BW: 8 | SF: 12 | Att: 80 | samples per symbol: 16384 | packet length: 495616"
      ]
     },
     "execution_count": 23,
     "metadata": {},
     "output_type": "execute_result"
    }
   ],
   "source": [
    "packet = signal.packets[0]\n",
    "packet"
   ]
  },
  {
   "cell_type": "code",
   "execution_count": 24,
   "metadata": {},
   "outputs": [
    {
     "data": {
      "text/plain": [
       "(495616, 8.053982e-05, 0.0, 0.0002746611)"
      ]
     },
     "execution_count": 24,
     "metadata": {},
     "output_type": "execute_result"
    }
   ],
   "source": [
    "packet.size, packet.mean, packet.min, packet.max"
   ]
  },
  {
   "cell_type": "markdown",
   "metadata": {},
   "source": [
    "## plot"
   ]
  },
  {
   "cell_type": "code",
   "execution_count": 25,
   "metadata": {},
   "outputs": [
    {
     "data": {
      "image/png": "[encoded data removed]",
      "text/plain": [
       "<Figure size 432x288 with 1 Axes>"
      ]
     },
     "metadata": {
      "needs_background": "dark"
     },
     "output_type": "display_data"
    }
   ],
   "source": [
    "packet.plot()"
   ]
  },
  {
   "cell_type": "markdown",
   "metadata": {},
   "source": [
    "## get padding adjustment"
   ]
  },
  {
   "cell_type": "code",
   "execution_count": 26,
   "metadata": {},
   "outputs": [
    {
     "name": "stdout",
     "output_type": "stream",
     "text": [
      "\u001b[32m2020-04-04 18:28:10.709\u001b[0m | \u001b[34m\u001b[1mDEBUG   \u001b[0m | \u001b[36mlorapy.packets.packet\u001b[0m:\u001b[36mbiased_mean\u001b[0m:\u001b[36m63\u001b[0m - \u001b[34m\u001b[1mgot biased packet [2118 / 495616] [0.00020 / 0.00008]\u001b[0m\n",
      "\u001b[32m2020-04-04 18:28:10.712\u001b[0m | \u001b[1mINFO    \u001b[0m | \u001b[36mlorapy.packets.packet\u001b[0m:\u001b[36mget_adjustment\u001b[0m:\u001b[36m53\u001b[0m - \u001b[1mgot final adjustment: 0\u001b[0m\n"
     ]
    },
    {
     "data": {
      "text/plain": [
       "0"
      ]
     },
     "execution_count": 26,
     "metadata": {},
     "output_type": "execute_result"
    }
   ],
   "source": [
    "adjustment = packet.get_adjustment(look_ahead=100, threshold=0.5)\n",
    "adjustment"
   ]
  },
  {
   "cell_type": "code",
   "execution_count": 27,
   "metadata": {},
   "outputs": [
    {
     "data": {
      "image/png": "[encoded data removed]",
      "text/plain": [
       "<Figure size 432x288 with 1 Axes>"
      ]
     },
     "metadata": {
      "needs_background": "dark"
     },
     "output_type": "display_data"
    }
   ],
   "source": [
    "packet.plot(adjust=adjustment)"
   ]
  },
  {
   "cell_type": "markdown",
   "metadata": {},
   "source": [
    "## check over adjusted packets"
   ]
  },
  {
   "cell_type": "code",
   "execution_count": null,
   "metadata": {},
   "outputs": [],
   "source": []
  },
  {
   "cell_type": "code",
   "execution_count": null,
   "metadata": {},
   "outputs": [],
   "source": []
  },
  {
   "cell_type": "code",
   "execution_count": null,
   "metadata": {},
   "outputs": [],
   "source": []
  },
  {
   "cell_type": "code",
   "execution_count": null,
   "metadata": {},
   "outputs": [],
   "source": []
  },
  {
   "cell_type": "code",
   "execution_count": null,
   "metadata": {},
   "outputs": [],
   "source": []
  },
  {
   "cell_type": "code",
   "execution_count": null,
   "metadata": {},
   "outputs": [],
   "source": []
  }
 ],
 "metadata": {
  "kernelspec": {
   "display_name": "Python 3",
   "language": "python",
   "name": "python3"
  },
  "language_info": {
   "codemirror_mode": {
    "name": "ipython",
    "version": 3
   },
   "file_extension": ".py",
   "mimetype": "text/x-python",
   "name": "python",
   "nbconvert_exporter": "python",
   "pygments_lexer": "ipython3",
   "version": "3.7.6"
  }
 },
 "nbformat": 4,
 "nbformat_minor": 4
}
