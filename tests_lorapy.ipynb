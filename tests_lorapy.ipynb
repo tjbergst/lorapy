{
 "cells": [
  {
   "cell_type": "markdown",
   "metadata": {},
   "source": [
    "# lorapy testing notebook "
   ]
  },
  {
   "cell_type": "code",
   "execution_count": 1,
   "metadata": {},
   "outputs": [],
   "source": [
    "%load_ext autoreload\n",
    "%autoreload 2\n",
    "\n",
    "import pathlib\n",
    "\n",
    "import os, sys\n",
    "from loguru import logger\n",
    "logger.remove(None)\n",
    "logger.add(sys.stdout, colorize=True)\n",
    "\n",
    "import matplotlib.pyplot as plt \n",
    "plt.style.use('dark_background')\n",
    "%matplotlib inline"
   ]
  },
  {
   "cell_type": "markdown",
   "metadata": {},
   "source": [
    "## setup "
   ]
  },
  {
   "cell_type": "code",
   "execution_count": 2,
   "metadata": {},
   "outputs": [],
   "source": [
    "DEADEND_DATA_DIR = '/Users/trevor/Work/1-projects/lora-processing/data/dead-end'\n",
    "\n",
    "DATA_DIR = '/Users/trevor/Work/1-projects/lora-processing/data/LoRa_Recording_Outdoor'\n",
    "DATA_DIR_PLIB = pathlib.Path('/Users/trevor/Work/1-projects/lora-processing/data/LoRa_Recording_Outdoor')\n",
    "\n",
    "DATA_FILE = '/Users/trevor/Work/1-projects/lora-processing/data/LoRa_Recording_Outdoor/lora_BW8_SF12_915MHz_1Msps_Att80_v0.dat'\n",
    "DATA_FILE_PLIB = pathlib.Path('/Users/trevor/Work/1-projects/lora-processing/data/LoRa_Recording_Outdoor/lora_BW8_SF12_915MHz_1Msps_Att80_v0.dat')"
   ]
  },
  {
   "cell_type": "markdown",
   "metadata": {},
   "source": [
    "# data file loading "
   ]
  },
  {
   "cell_type": "code",
   "execution_count": 3,
   "metadata": {
    "scrolled": true
   },
   "outputs": [],
   "source": [
    "from lorapy.io.load import DatLoader"
   ]
  },
  {
   "cell_type": "markdown",
   "metadata": {},
   "source": [
    "## input path tests"
   ]
  },
  {
   "cell_type": "markdown",
   "metadata": {},
   "source": [
    "### dead end dir"
   ]
  },
  {
   "cell_type": "raw",
   "metadata": {},
   "source": [
    "loader = DatLoader(DEADEND_DATA_DIR, autoload=True)"
   ]
  },
  {
   "cell_type": "markdown",
   "metadata": {},
   "source": [
    "### data directory "
   ]
  },
  {
   "cell_type": "code",
   "execution_count": 4,
   "metadata": {},
   "outputs": [
    {
     "name": "stdout",
     "output_type": "stream",
     "text": [
      "\u001b[32m2020-04-04 15:37:10.453\u001b[0m | \u001b[34m\u001b[1mDEBUG   \u001b[0m | \u001b[36mlorapy.io.load\u001b[0m:\u001b[36m_process_data_dir\u001b[0m:\u001b[36m68\u001b[0m - \u001b[34m\u001b[1mset datafile directory: /Users/trevor/Work/1-projects/lora-processing/data/LoRa_Recording_Outdoor\u001b[0m\n",
      "\u001b[32m2020-04-04 15:37:10.455\u001b[0m | \u001b[1mINFO    \u001b[0m | \u001b[36mlorapy.io.load\u001b[0m:\u001b[36m_process_data_dir\u001b[0m:\u001b[36m74\u001b[0m - \u001b[1mfound 20 datafile file(s)\u001b[0m\n"
     ]
    }
   ],
   "source": [
    "loader = DatLoader(DATA_DIR, autoload=True)"
   ]
  },
  {
   "cell_type": "code",
   "execution_count": 5,
   "metadata": {
    "scrolled": true
   },
   "outputs": [
    {
     "data": {
      "text/plain": [
       "(DatFile('lora_BW9_SF8_915MHz_1Msps_L42.dat'),\n",
       " [DatFile('lora_BW9_SF8_915MHz_1Msps_L42.dat'),\n",
       "  DatFile('lora_BW8_SF12_915MHz_1Msps_Att80_v0.dat'),\n",
       "  DatFile('lora_BW2_SF12_915MHz_1Msps_Att80_v0.dat'),\n",
       "  DatFile('lora_BW8_SF11_915_25MHz_1Msps_L37.dat'),\n",
       "  DatFile('lora_BW8_SF10_915MHz_1Msps_Att80_v0.dat'),\n",
       "  DatFile('lora_BW9_SF12_915MHz_1Msps_Att80_v0.dat'),\n",
       "  DatFile('lora_BW2_SF10_915MHz_1Msps_Att80_v0.dat'),\n",
       "  DatFile('lora_BW9_SF10_915MHz_1Msps_L1.dat'),\n",
       "  DatFile('lora_BW1_SF12_915MHz_1Msps_Att70_v3.dat'),\n",
       "  DatFile('lora_BW7_SF11_915MHz_1Msps_Att80_v0.dat'),\n",
       "  DatFile('lora_BW1_SF11_915MHz_1Msps_Att80_v0.dat'),\n",
       "  DatFile('lora_BW1_SF10_915MHz_1Msps_Att80_v0.dat'),\n",
       "  DatFile('lora_BW7_SF10_915MHz_1Msps_Att80_v0.dat'),\n",
       "  DatFile('lora_BW2_SF11_915MHz_1Msps_Att80_v0.dat'),\n",
       "  DatFile('lora_BW8_SF11_915MHz_1Msps_Att80_v0.dat'),\n",
       "  DatFile('lora_BW1_SF12_915MHz_1Msps_Att80_v0.dat'),\n",
       "  DatFile('lora_BW7_SF12_915MHz_1Msps_Att80_v0.dat'),\n",
       "  DatFile('lora_BW1_SF8_914_75MHz_1Msps_L24.dat'),\n",
       "  DatFile('lora_BW1_SF11_915MHz_1Msps_Att70_v3.dat'),\n",
       "  DatFile('lora_BW9_SF11_915MHz_1Msps_Att80_v0.dat')])"
      ]
     },
     "execution_count": 5,
     "metadata": {},
     "output_type": "execute_result"
    }
   ],
   "source": [
    "loader.data_file, loader.filelist"
   ]
  },
  {
   "cell_type": "code",
   "execution_count": 6,
   "metadata": {},
   "outputs": [
    {
     "name": "stdout",
     "output_type": "stream",
     "text": [
      "\u001b[32m2020-04-04 15:37:10.513\u001b[0m | \u001b[34m\u001b[1mDEBUG   \u001b[0m | \u001b[36mlorapy.io.load\u001b[0m:\u001b[36m_process_data_dir\u001b[0m:\u001b[36m68\u001b[0m - \u001b[34m\u001b[1mset datafile directory: /Users/trevor/Work/1-projects/lora-processing/data/LoRa_Recording_Outdoor\u001b[0m\n",
      "\u001b[32m2020-04-04 15:37:10.515\u001b[0m | \u001b[1mINFO    \u001b[0m | \u001b[36mlorapy.io.load\u001b[0m:\u001b[36m_process_data_dir\u001b[0m:\u001b[36m74\u001b[0m - \u001b[1mfound 20 datafile file(s)\u001b[0m\n"
     ]
    }
   ],
   "source": [
    "loader = DatLoader(DATA_DIR_PLIB, autoload=False)"
   ]
  },
  {
   "cell_type": "markdown",
   "metadata": {},
   "source": [
    "### data file"
   ]
  },
  {
   "cell_type": "markdown",
   "metadata": {},
   "source": [
    "#### `str` and `pathlib` "
   ]
  },
  {
   "cell_type": "code",
   "execution_count": 7,
   "metadata": {},
   "outputs": [
    {
     "name": "stdout",
     "output_type": "stream",
     "text": [
      "\u001b[32m2020-04-04 15:37:10.548\u001b[0m | \u001b[1mINFO    \u001b[0m | \u001b[36mlorapy.io.load\u001b[0m:\u001b[36m_validate_data_path\u001b[0m:\u001b[36m58\u001b[0m - \u001b[1mvalidated datafile file at /Users/trevor/Work/1-projects/lora-processing/data/LoRa_Recording_Outdoor/lora_BW8_SF12_915MHz_1Msps_Att80_v0.dat\u001b[0m\n",
      "\u001b[32m2020-04-04 15:37:10.549\u001b[0m | \u001b[34m\u001b[1mDEBUG   \u001b[0m | \u001b[36mlorapy.io.load\u001b[0m:\u001b[36m_validate_data_path\u001b[0m:\u001b[36m61\u001b[0m - \u001b[34m\u001b[1mset datafile directory: /Users/trevor/Work/1-projects/lora-processing/data/LoRa_Recording_Outdoor\u001b[0m\n"
     ]
    }
   ],
   "source": [
    "loader = DatLoader(DATA_FILE, autoload=True)"
   ]
  },
  {
   "cell_type": "code",
   "execution_count": 8,
   "metadata": {},
   "outputs": [
    {
     "data": {
      "text/plain": [
       "DatFile('lora_BW8_SF12_915MHz_1Msps_Att80_v0.dat')"
      ]
     },
     "execution_count": 8,
     "metadata": {},
     "output_type": "execute_result"
    }
   ],
   "source": [
    "loader.data_file"
   ]
  },
  {
   "cell_type": "code",
   "execution_count": 9,
   "metadata": {},
   "outputs": [
    {
     "name": "stdout",
     "output_type": "stream",
     "text": [
      "\u001b[32m2020-04-04 15:37:10.621\u001b[0m | \u001b[1mINFO    \u001b[0m | \u001b[36mlorapy.io.load\u001b[0m:\u001b[36m_validate_data_path\u001b[0m:\u001b[36m58\u001b[0m - \u001b[1mvalidated datafile file at /Users/trevor/Work/1-projects/lora-processing/data/LoRa_Recording_Outdoor/lora_BW8_SF12_915MHz_1Msps_Att80_v0.dat\u001b[0m\n",
      "\u001b[32m2020-04-04 15:37:10.622\u001b[0m | \u001b[34m\u001b[1mDEBUG   \u001b[0m | \u001b[36mlorapy.io.load\u001b[0m:\u001b[36m_validate_data_path\u001b[0m:\u001b[36m61\u001b[0m - \u001b[34m\u001b[1mset datafile directory: /Users/trevor/Work/1-projects/lora-processing/data/LoRa_Recording_Outdoor\u001b[0m\n"
     ]
    }
   ],
   "source": [
    "loader = DatLoader(DATA_FILE_PLIB, autoload=False)"
   ]
  },
  {
   "cell_type": "markdown",
   "metadata": {},
   "source": [
    "# datafile handling"
   ]
  },
  {
   "cell_type": "code",
   "execution_count": 10,
   "metadata": {},
   "outputs": [],
   "source": [
    "from lorapy.datafile.file import DatFile"
   ]
  },
  {
   "cell_type": "markdown",
   "metadata": {},
   "source": [
    "## encoding tests"
   ]
  },
  {
   "cell_type": "code",
   "execution_count": 11,
   "metadata": {},
   "outputs": [
    {
     "name": "stdout",
     "output_type": "stream",
     "text": [
      "\u001b[32m2020-04-04 15:37:10.683\u001b[0m | \u001b[1mINFO    \u001b[0m | \u001b[36mlorapy.io.load\u001b[0m:\u001b[36m_validate_data_path\u001b[0m:\u001b[36m58\u001b[0m - \u001b[1mvalidated datafile file at /Users/trevor/Work/1-projects/lora-processing/data/LoRa_Recording_Outdoor/lora_BW8_SF12_915MHz_1Msps_Att80_v0.dat\u001b[0m\n",
      "\u001b[32m2020-04-04 15:37:10.684\u001b[0m | \u001b[34m\u001b[1mDEBUG   \u001b[0m | \u001b[36mlorapy.io.load\u001b[0m:\u001b[36m_validate_data_path\u001b[0m:\u001b[36m61\u001b[0m - \u001b[34m\u001b[1mset datafile directory: /Users/trevor/Work/1-projects/lora-processing/data/LoRa_Recording_Outdoor\u001b[0m\n"
     ]
    }
   ],
   "source": [
    "loader = DatLoader(DATA_FILE, autoload=True)"
   ]
  },
  {
   "cell_type": "markdown",
   "metadata": {},
   "source": [
    "### params"
   ]
  },
  {
   "cell_type": "code",
   "execution_count": 12,
   "metadata": {},
   "outputs": [
    {
     "name": "stdout",
     "output_type": "stream",
     "text": [
      "\u001b[32m2020-04-04 15:37:10.713\u001b[0m | \u001b[34m\u001b[1mDEBUG   \u001b[0m | \u001b[36mlorapy.datafile.encoding\u001b[0m:\u001b[36mcompute_params\u001b[0m:\u001b[36m15\u001b[0m - \u001b[34m\u001b[1mcomputed samples per symbol: 16384 and packet length: 495616\u001b[0m\n",
      "\u001b[32m2020-04-04 15:37:11.298\u001b[0m | \u001b[1mINFO    \u001b[0m | \u001b[36mlorapy.datafile.file\u001b[0m:\u001b[36mload\u001b[0m:\u001b[36m61\u001b[0m - \u001b[1mloaded 106771756 samples from file\u001b[0m\n"
     ]
    },
    {
     "data": {
      "text/plain": [
       "'lora_BW8_SF12_915MHz_1Msps_Att80_v0.dat'"
      ]
     },
     "execution_count": 12,
     "metadata": {},
     "output_type": "execute_result"
    }
   ],
   "source": [
    "file = loader.data_file\n",
    "file.load()\n",
    "file.name"
   ]
  },
  {
   "cell_type": "code",
   "execution_count": 13,
   "metadata": {},
   "outputs": [
    {
     "data": {
      "text/plain": [
       "(8, 12, 80, 16384, 495616)"
      ]
     },
     "execution_count": 13,
     "metadata": {},
     "output_type": "execute_result"
    }
   ],
   "source": [
    "file.bw, file.sf, file.att, file.samp_per_sym, file.packet_len"
   ]
  },
  {
   "cell_type": "code",
   "execution_count": null,
   "metadata": {},
   "outputs": [],
   "source": []
  },
  {
   "cell_type": "markdown",
   "metadata": {},
   "source": [
    "# lora signal"
   ]
  },
  {
   "cell_type": "markdown",
   "metadata": {},
   "source": [
    "## convert to signal  "
   ]
  },
  {
   "cell_type": "code",
   "execution_count": 14,
   "metadata": {},
   "outputs": [
    {
     "data": {
      "text/plain": [
       "LoraSignal(length=106771756)"
      ]
     },
     "execution_count": 14,
     "metadata": {},
     "output_type": "execute_result"
    }
   ],
   "source": [
    "signal = file.to_signal()\n",
    "signal"
   ]
  },
  {
   "cell_type": "markdown",
   "metadata": {},
   "source": [
    "## extract packets"
   ]
  },
  {
   "cell_type": "code",
   "execution_count": 18,
   "metadata": {},
   "outputs": [
    {
     "name": "stdout",
     "output_type": "stream",
     "text": [
      "\u001b[32m2020-04-04 15:38:52.658\u001b[0m | \u001b[1mINFO    \u001b[0m | \u001b[36mlorapy.signals.signal\u001b[0m:\u001b[36m_process_signal\u001b[0m:\u001b[36m86\u001b[0m - \u001b[1mselected \"slide-mean\" processing method\u001b[0m\n",
      "\u001b[32m2020-04-04 15:38:52.964\u001b[0m | \u001b[1mINFO    \u001b[0m | \u001b[36mlorapy.signals.processing.sliding_mean\u001b[0m:\u001b[36m_find_all_mindices\u001b[0m:\u001b[36m55\u001b[0m - \u001b[1mscanning signal for padding locations..\u001b[0m\n",
      "\u001b[32m2020-04-04 15:38:52.964\u001b[0m | \u001b[34m\u001b[1mDEBUG   \u001b[0m | \u001b[36mlorapy.signals.processing.sliding_mean\u001b[0m:\u001b[36m_find_all_mindices\u001b[0m:\u001b[36m59\u001b[0m - \u001b[34m\u001b[1miteration 0\u001b[0m\n",
      "\u001b[32m2020-04-04 15:38:53.044\u001b[0m | \u001b[34m\u001b[1mDEBUG   \u001b[0m | \u001b[36mlorapy.signals.processing.sliding_mean\u001b[0m:\u001b[36m_find_all_mindices\u001b[0m:\u001b[36m59\u001b[0m - \u001b[34m\u001b[1miteration 50\u001b[0m\n",
      "\u001b[32m2020-04-04 15:38:53.116\u001b[0m | \u001b[34m\u001b[1mDEBUG   \u001b[0m | \u001b[36mlorapy.signals.processing.sliding_mean\u001b[0m:\u001b[36m_find_all_mindices\u001b[0m:\u001b[36m59\u001b[0m - \u001b[34m\u001b[1miteration 100\u001b[0m\n",
      "\u001b[32m2020-04-04 15:38:53.187\u001b[0m | \u001b[34m\u001b[1mDEBUG   \u001b[0m | \u001b[36mlorapy.signals.processing.sliding_mean\u001b[0m:\u001b[36m_find_all_mindices\u001b[0m:\u001b[36m59\u001b[0m - \u001b[34m\u001b[1miteration 150\u001b[0m\n",
      "\u001b[32m2020-04-04 15:38:53.258\u001b[0m | \u001b[34m\u001b[1mDEBUG   \u001b[0m | \u001b[36mlorapy.signals.processing.sliding_mean\u001b[0m:\u001b[36m_find_all_mindices\u001b[0m:\u001b[36m59\u001b[0m - \u001b[34m\u001b[1miteration 200\u001b[0m\n",
      "\u001b[32m2020-04-04 15:38:53.279\u001b[0m | \u001b[34m\u001b[1mDEBUG   \u001b[0m | \u001b[36mlorapy.signals.processing.sliding_mean\u001b[0m:\u001b[36m_scan_slice\u001b[0m:\u001b[36m92\u001b[0m - \u001b[34m\u001b[1mreached end of signal\u001b[0m\n",
      "\u001b[32m2020-04-04 15:38:53.280\u001b[0m | \u001b[34m\u001b[1mDEBUG   \u001b[0m | \u001b[36mlorapy.signals.processing.utils\u001b[0m:\u001b[36mclean_index_list\u001b[0m:\u001b[36m24\u001b[0m - \u001b[34m\u001b[1mfound 3 false indexes\u001b[0m\n",
      "\u001b[32m2020-04-04 15:38:53.281\u001b[0m | \u001b[1mINFO    \u001b[0m | \u001b[36mlorapy.signals.processing.sliding_mean\u001b[0m:\u001b[36m_find_all_mindices\u001b[0m:\u001b[36m70\u001b[0m - \u001b[1mfound [214 // 211] packet locations\u001b[0m\n",
      "\u001b[32m2020-04-04 15:38:53.317\u001b[0m | \u001b[34m\u001b[1mDEBUG   \u001b[0m | \u001b[36mlorapy.packets.utils\u001b[0m:\u001b[36mslice_all_packets\u001b[0m:\u001b[36m21\u001b[0m - \u001b[34m\u001b[1mgot max packet length: 495616\u001b[0m\n",
      "\u001b[32m2020-04-04 15:38:53.815\u001b[0m | \u001b[1mINFO    \u001b[0m | \u001b[36mlorapy.packets.utils\u001b[0m:\u001b[36mslice_all_packets\u001b[0m:\u001b[36m28\u001b[0m - \u001b[1mextracted 211 packets from signal\u001b[0m\n",
      "\u001b[32m2020-04-04 15:38:53.816\u001b[0m | \u001b[34m\u001b[1mDEBUG   \u001b[0m | \u001b[36mlorapy.signals.signal\u001b[0m:\u001b[36mextract_packets\u001b[0m:\u001b[36m68\u001b[0m - \u001b[34m\u001b[1mloaded 211 lora packets\u001b[0m\n"
     ]
    }
   ],
   "source": [
    "signal.extract_packets(method='slide-mean')"
   ]
  },
  {
   "cell_type": "code",
   "execution_count": 19,
   "metadata": {},
   "outputs": [
    {
     "data": {
      "text/plain": [
       "((211, 495616), 211)"
      ]
     },
     "execution_count": 19,
     "metadata": {},
     "output_type": "execute_result"
    }
   ],
   "source": [
    "signal._raw_packets.shape, len(signal.packets)"
   ]
  },
  {
   "cell_type": "code",
   "execution_count": null,
   "metadata": {},
   "outputs": [],
   "source": []
  },
  {
   "cell_type": "code",
   "execution_count": null,
   "metadata": {},
   "outputs": [],
   "source": []
  },
  {
   "cell_type": "code",
   "execution_count": null,
   "metadata": {},
   "outputs": [],
   "source": []
  },
  {
   "cell_type": "code",
   "execution_count": null,
   "metadata": {},
   "outputs": [],
   "source": []
  },
  {
   "cell_type": "code",
   "execution_count": null,
   "metadata": {},
   "outputs": [],
   "source": []
  },
  {
   "cell_type": "code",
   "execution_count": null,
   "metadata": {},
   "outputs": [],
   "source": []
  }
 ],
 "metadata": {
  "kernelspec": {
   "display_name": "Python 3",
   "language": "python",
   "name": "python3"
  },
  "language_info": {
   "codemirror_mode": {
    "name": "ipython",
    "version": 3
   },
   "file_extension": ".py",
   "mimetype": "text/x-python",
   "name": "python",
   "nbconvert_exporter": "python",
   "pygments_lexer": "ipython3",
   "version": "3.7.6"
  }
 },
 "nbformat": 4,
 "nbformat_minor": 4
}
