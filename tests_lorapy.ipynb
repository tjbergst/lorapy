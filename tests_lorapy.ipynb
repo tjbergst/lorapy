{
 "cells": [
  {
   "cell_type": "markdown",
   "metadata": {},
   "source": [
    "# lorapy testing notebook "
   ]
  },
  {
   "cell_type": "code",
   "execution_count": 1,
   "metadata": {},
   "outputs": [],
   "source": [
    "%load_ext autoreload\n",
    "%autoreload 2\n",
    "\n",
    "import pathlib\n",
    "\n",
    "import os, sys\n",
    "from loguru import logger\n",
    "logger.remove(None)\n",
    "logger.add(sys.stdout, colorize=True)\n",
    "\n",
    "import numpy as np\n",
    "\n",
    "import matplotlib.pyplot as plt \n",
    "plt.style.use('dark_background')\n",
    "%matplotlib inline"
   ]
  },
  {
   "cell_type": "markdown",
   "metadata": {},
   "source": [
    "## setup "
   ]
  },
  {
   "cell_type": "code",
   "execution_count": 2,
   "metadata": {},
   "outputs": [],
   "source": [
    "DEADEND_DATA_DIR = '/Users/trevor/Work/1-projects/lora-processing/data/dead-end'\n",
    "\n",
    "DATA_DIR = '/Users/trevor/Work/1-projects/lora-processing/data/LoRa_Recording_Outdoor'\n",
    "DATA_DIR_PLIB = pathlib.Path('/Users/trevor/Work/1-projects/lora-processing/data/LoRa_Recording_Outdoor')\n",
    "\n",
    "DATA_FILE = '/Users/trevor/Work/1-projects/lora-processing/data/LoRa_Recording_Outdoor/lora_BW8_SF12_915MHz_1Msps_Att80_v0.dat'\n",
    "DATA_FILE_PLIB = pathlib.Path('/Users/trevor/Work/1-projects/lora-processing/data/LoRa_Recording_Outdoor/lora_BW8_SF12_915MHz_1Msps_Att80_v0.dat')"
   ]
  },
  {
   "cell_type": "markdown",
   "metadata": {},
   "source": [
    "# data file loading "
   ]
  },
  {
   "cell_type": "code",
   "execution_count": 3,
   "metadata": {
    "scrolled": true
   },
   "outputs": [],
   "source": [
    "from lorapy.io.load import DatLoader"
   ]
  },
  {
   "cell_type": "markdown",
   "metadata": {},
   "source": [
    "## input path tests"
   ]
  },
  {
   "cell_type": "markdown",
   "metadata": {},
   "source": [
    "### dead end dir"
   ]
  },
  {
   "cell_type": "raw",
   "metadata": {},
   "source": [
    "loader = DatLoader(DEADEND_DATA_DIR, autoload=True)"
   ]
  },
  {
   "cell_type": "markdown",
   "metadata": {},
   "source": [
    "### data directory "
   ]
  },
  {
   "cell_type": "code",
   "execution_count": 4,
   "metadata": {},
   "outputs": [
    {
     "name": "stdout",
     "output_type": "stream",
     "text": [
      "\u001b[32m2020-04-04 16:20:02.399\u001b[0m | \u001b[34m\u001b[1mDEBUG   \u001b[0m | \u001b[36mlorapy.io.load\u001b[0m:\u001b[36m_process_data_dir\u001b[0m:\u001b[36m68\u001b[0m - \u001b[34m\u001b[1mset datafile directory: /Users/trevor/Work/1-projects/lora-processing/data/LoRa_Recording_Outdoor\u001b[0m\n",
      "\u001b[32m2020-04-04 16:20:02.401\u001b[0m | \u001b[1mINFO    \u001b[0m | \u001b[36mlorapy.io.load\u001b[0m:\u001b[36m_process_data_dir\u001b[0m:\u001b[36m74\u001b[0m - \u001b[1mfound 20 datafile file(s)\u001b[0m\n"
     ]
    }
   ],
   "source": [
    "loader = DatLoader(DATA_DIR, autoload=True)"
   ]
  },
  {
   "cell_type": "code",
   "execution_count": 5,
   "metadata": {
    "scrolled": true
   },
   "outputs": [
    {
     "data": {
      "text/plain": [
       "(DatFile('lora_BW9_SF8_915MHz_1Msps_L42.dat'),\n",
       " [DatFile('lora_BW9_SF8_915MHz_1Msps_L42.dat'),\n",
       "  DatFile('lora_BW8_SF12_915MHz_1Msps_Att80_v0.dat'),\n",
       "  DatFile('lora_BW2_SF12_915MHz_1Msps_Att80_v0.dat'),\n",
       "  DatFile('lora_BW8_SF11_915_25MHz_1Msps_L37.dat'),\n",
       "  DatFile('lora_BW8_SF10_915MHz_1Msps_Att80_v0.dat'),\n",
       "  DatFile('lora_BW9_SF12_915MHz_1Msps_Att80_v0.dat'),\n",
       "  DatFile('lora_BW2_SF10_915MHz_1Msps_Att80_v0.dat'),\n",
       "  DatFile('lora_BW9_SF10_915MHz_1Msps_L1.dat'),\n",
       "  DatFile('lora_BW1_SF12_915MHz_1Msps_Att70_v3.dat'),\n",
       "  DatFile('lora_BW7_SF11_915MHz_1Msps_Att80_v0.dat'),\n",
       "  DatFile('lora_BW1_SF11_915MHz_1Msps_Att80_v0.dat'),\n",
       "  DatFile('lora_BW1_SF10_915MHz_1Msps_Att80_v0.dat'),\n",
       "  DatFile('lora_BW7_SF10_915MHz_1Msps_Att80_v0.dat'),\n",
       "  DatFile('lora_BW2_SF11_915MHz_1Msps_Att80_v0.dat'),\n",
       "  DatFile('lora_BW8_SF11_915MHz_1Msps_Att80_v0.dat'),\n",
       "  DatFile('lora_BW1_SF12_915MHz_1Msps_Att80_v0.dat'),\n",
       "  DatFile('lora_BW7_SF12_915MHz_1Msps_Att80_v0.dat'),\n",
       "  DatFile('lora_BW1_SF8_914_75MHz_1Msps_L24.dat'),\n",
       "  DatFile('lora_BW1_SF11_915MHz_1Msps_Att70_v3.dat'),\n",
       "  DatFile('lora_BW9_SF11_915MHz_1Msps_Att80_v0.dat')])"
      ]
     },
     "execution_count": 5,
     "metadata": {},
     "output_type": "execute_result"
    }
   ],
   "source": [
    "loader.data_file, loader.filelist"
   ]
  },
  {
   "cell_type": "code",
   "execution_count": 6,
   "metadata": {},
   "outputs": [
    {
     "name": "stdout",
     "output_type": "stream",
     "text": [
      "\u001b[32m2020-04-04 16:20:02.466\u001b[0m | \u001b[34m\u001b[1mDEBUG   \u001b[0m | \u001b[36mlorapy.io.load\u001b[0m:\u001b[36m_process_data_dir\u001b[0m:\u001b[36m68\u001b[0m - \u001b[34m\u001b[1mset datafile directory: /Users/trevor/Work/1-projects/lora-processing/data/LoRa_Recording_Outdoor\u001b[0m\n",
      "\u001b[32m2020-04-04 16:20:02.468\u001b[0m | \u001b[1mINFO    \u001b[0m | \u001b[36mlorapy.io.load\u001b[0m:\u001b[36m_process_data_dir\u001b[0m:\u001b[36m74\u001b[0m - \u001b[1mfound 20 datafile file(s)\u001b[0m\n"
     ]
    }
   ],
   "source": [
    "loader = DatLoader(DATA_DIR_PLIB, autoload=False)"
   ]
  },
  {
   "cell_type": "markdown",
   "metadata": {},
   "source": [
    "### data file"
   ]
  },
  {
   "cell_type": "markdown",
   "metadata": {},
   "source": [
    "#### `str` and `pathlib` "
   ]
  },
  {
   "cell_type": "code",
   "execution_count": 7,
   "metadata": {},
   "outputs": [
    {
     "name": "stdout",
     "output_type": "stream",
     "text": [
      "\u001b[32m2020-04-04 16:20:02.494\u001b[0m | \u001b[1mINFO    \u001b[0m | \u001b[36mlorapy.io.load\u001b[0m:\u001b[36m_validate_data_path\u001b[0m:\u001b[36m58\u001b[0m - \u001b[1mvalidated datafile file at /Users/trevor/Work/1-projects/lora-processing/data/LoRa_Recording_Outdoor/lora_BW8_SF12_915MHz_1Msps_Att80_v0.dat\u001b[0m\n",
      "\u001b[32m2020-04-04 16:20:02.495\u001b[0m | \u001b[34m\u001b[1mDEBUG   \u001b[0m | \u001b[36mlorapy.io.load\u001b[0m:\u001b[36m_validate_data_path\u001b[0m:\u001b[36m61\u001b[0m - \u001b[34m\u001b[1mset datafile directory: /Users/trevor/Work/1-projects/lora-processing/data/LoRa_Recording_Outdoor\u001b[0m\n"
     ]
    }
   ],
   "source": [
    "loader = DatLoader(DATA_FILE, autoload=True)"
   ]
  },
  {
   "cell_type": "code",
   "execution_count": 8,
   "metadata": {},
   "outputs": [
    {
     "data": {
      "text/plain": [
       "DatFile('lora_BW8_SF12_915MHz_1Msps_Att80_v0.dat')"
      ]
     },
     "execution_count": 8,
     "metadata": {},
     "output_type": "execute_result"
    }
   ],
   "source": [
    "loader.data_file"
   ]
  },
  {
   "cell_type": "code",
   "execution_count": 9,
   "metadata": {},
   "outputs": [
    {
     "name": "stdout",
     "output_type": "stream",
     "text": [
      "\u001b[32m2020-04-04 16:20:02.567\u001b[0m | \u001b[1mINFO    \u001b[0m | \u001b[36mlorapy.io.load\u001b[0m:\u001b[36m_validate_data_path\u001b[0m:\u001b[36m58\u001b[0m - \u001b[1mvalidated datafile file at /Users/trevor/Work/1-projects/lora-processing/data/LoRa_Recording_Outdoor/lora_BW8_SF12_915MHz_1Msps_Att80_v0.dat\u001b[0m\n",
      "\u001b[32m2020-04-04 16:20:02.568\u001b[0m | \u001b[34m\u001b[1mDEBUG   \u001b[0m | \u001b[36mlorapy.io.load\u001b[0m:\u001b[36m_validate_data_path\u001b[0m:\u001b[36m61\u001b[0m - \u001b[34m\u001b[1mset datafile directory: /Users/trevor/Work/1-projects/lora-processing/data/LoRa_Recording_Outdoor\u001b[0m\n"
     ]
    }
   ],
   "source": [
    "loader = DatLoader(DATA_FILE_PLIB, autoload=False)"
   ]
  },
  {
   "cell_type": "markdown",
   "metadata": {},
   "source": [
    "# datafile handling"
   ]
  },
  {
   "cell_type": "code",
   "execution_count": 10,
   "metadata": {},
   "outputs": [],
   "source": [
    "from lorapy.datafile.file import DatFile"
   ]
  },
  {
   "cell_type": "markdown",
   "metadata": {},
   "source": [
    "## encoding tests"
   ]
  },
  {
   "cell_type": "code",
   "execution_count": 11,
   "metadata": {},
   "outputs": [
    {
     "name": "stdout",
     "output_type": "stream",
     "text": [
      "\u001b[32m2020-04-04 16:20:02.636\u001b[0m | \u001b[1mINFO    \u001b[0m | \u001b[36mlorapy.io.load\u001b[0m:\u001b[36m_validate_data_path\u001b[0m:\u001b[36m58\u001b[0m - \u001b[1mvalidated datafile file at /Users/trevor/Work/1-projects/lora-processing/data/LoRa_Recording_Outdoor/lora_BW8_SF12_915MHz_1Msps_Att80_v0.dat\u001b[0m\n",
      "\u001b[32m2020-04-04 16:20:02.637\u001b[0m | \u001b[34m\u001b[1mDEBUG   \u001b[0m | \u001b[36mlorapy.io.load\u001b[0m:\u001b[36m_validate_data_path\u001b[0m:\u001b[36m61\u001b[0m - \u001b[34m\u001b[1mset datafile directory: /Users/trevor/Work/1-projects/lora-processing/data/LoRa_Recording_Outdoor\u001b[0m\n"
     ]
    }
   ],
   "source": [
    "loader = DatLoader(DATA_FILE, autoload=True)"
   ]
  },
  {
   "cell_type": "markdown",
   "metadata": {},
   "source": [
    "### params"
   ]
  },
  {
   "cell_type": "code",
   "execution_count": 12,
   "metadata": {},
   "outputs": [
    {
     "name": "stdout",
     "output_type": "stream",
     "text": [
      "\u001b[32m2020-04-04 16:20:02.662\u001b[0m | \u001b[34m\u001b[1mDEBUG   \u001b[0m | \u001b[36mlorapy.datafile.encoding\u001b[0m:\u001b[36mcompute_params\u001b[0m:\u001b[36m15\u001b[0m - \u001b[34m\u001b[1mcomputed samples per symbol: 16384 and packet length: 495616\u001b[0m\n",
      "\u001b[32m2020-04-04 16:20:03.109\u001b[0m | \u001b[1mINFO    \u001b[0m | \u001b[36mlorapy.datafile.file\u001b[0m:\u001b[36mload\u001b[0m:\u001b[36m61\u001b[0m - \u001b[1mloaded 106771756 samples from file\u001b[0m\n"
     ]
    },
    {
     "data": {
      "text/plain": [
       "'lora_BW8_SF12_915MHz_1Msps_Att80_v0.dat'"
      ]
     },
     "execution_count": 12,
     "metadata": {},
     "output_type": "execute_result"
    }
   ],
   "source": [
    "file = loader.data_file\n",
    "file.load()\n",
    "file.name"
   ]
  },
  {
   "cell_type": "code",
   "execution_count": 13,
   "metadata": {},
   "outputs": [
    {
     "data": {
      "text/plain": [
       "(8, 12, 80, 16384, 495616)"
      ]
     },
     "execution_count": 13,
     "metadata": {},
     "output_type": "execute_result"
    }
   ],
   "source": [
    "file.bw, file.sf, file.att, file.samp_per_sym, file.packet_len"
   ]
  },
  {
   "cell_type": "code",
   "execution_count": null,
   "metadata": {},
   "outputs": [],
   "source": []
  },
  {
   "cell_type": "markdown",
   "metadata": {},
   "source": [
    "# lora signal"
   ]
  },
  {
   "cell_type": "markdown",
   "metadata": {},
   "source": [
    "## convert to signal  "
   ]
  },
  {
   "cell_type": "code",
   "execution_count": 14,
   "metadata": {},
   "outputs": [
    {
     "data": {
      "text/plain": [
       "LoraSignal(length=106771756)"
      ]
     },
     "execution_count": 14,
     "metadata": {},
     "output_type": "execute_result"
    }
   ],
   "source": [
    "signal = file.to_signal()\n",
    "signal"
   ]
  },
  {
   "cell_type": "markdown",
   "metadata": {},
   "source": [
    "## extract packets"
   ]
  },
  {
   "cell_type": "code",
   "execution_count": 15,
   "metadata": {
    "scrolled": true
   },
   "outputs": [
    {
     "name": "stdout",
     "output_type": "stream",
     "text": [
      "\u001b[32m2020-04-04 16:20:03.197\u001b[0m | \u001b[1mINFO    \u001b[0m | \u001b[36mlorapy.signals.signal\u001b[0m:\u001b[36m_process_signal\u001b[0m:\u001b[36m86\u001b[0m - \u001b[1mselected \"slide-mean\" processing method\u001b[0m\n",
      "\u001b[32m2020-04-04 16:20:03.475\u001b[0m | \u001b[1mINFO    \u001b[0m | \u001b[36mlorapy.signals.processing.sliding_mean\u001b[0m:\u001b[36m_find_all_mindices\u001b[0m:\u001b[36m55\u001b[0m - \u001b[1mscanning signal for padding locations..\u001b[0m\n",
      "\u001b[32m2020-04-04 16:20:03.476\u001b[0m | \u001b[34m\u001b[1mDEBUG   \u001b[0m | \u001b[36mlorapy.signals.processing.sliding_mean\u001b[0m:\u001b[36m_find_all_mindices\u001b[0m:\u001b[36m59\u001b[0m - \u001b[34m\u001b[1miteration 0\u001b[0m\n",
      "\u001b[32m2020-04-04 16:20:03.548\u001b[0m | \u001b[34m\u001b[1mDEBUG   \u001b[0m | \u001b[36mlorapy.signals.processing.sliding_mean\u001b[0m:\u001b[36m_find_all_mindices\u001b[0m:\u001b[36m59\u001b[0m - \u001b[34m\u001b[1miteration 50\u001b[0m\n",
      "\u001b[32m2020-04-04 16:20:03.610\u001b[0m | \u001b[34m\u001b[1mDEBUG   \u001b[0m | \u001b[36mlorapy.signals.processing.sliding_mean\u001b[0m:\u001b[36m_find_all_mindices\u001b[0m:\u001b[36m59\u001b[0m - \u001b[34m\u001b[1miteration 100\u001b[0m\n",
      "\u001b[32m2020-04-04 16:20:03.674\u001b[0m | \u001b[34m\u001b[1mDEBUG   \u001b[0m | \u001b[36mlorapy.signals.processing.sliding_mean\u001b[0m:\u001b[36m_find_all_mindices\u001b[0m:\u001b[36m59\u001b[0m - \u001b[34m\u001b[1miteration 150\u001b[0m\n",
      "\u001b[32m2020-04-04 16:20:03.737\u001b[0m | \u001b[34m\u001b[1mDEBUG   \u001b[0m | \u001b[36mlorapy.signals.processing.sliding_mean\u001b[0m:\u001b[36m_find_all_mindices\u001b[0m:\u001b[36m59\u001b[0m - \u001b[34m\u001b[1miteration 200\u001b[0m\n",
      "\u001b[32m2020-04-04 16:20:03.757\u001b[0m | \u001b[34m\u001b[1mDEBUG   \u001b[0m | \u001b[36mlorapy.signals.processing.sliding_mean\u001b[0m:\u001b[36m_scan_slice\u001b[0m:\u001b[36m92\u001b[0m - \u001b[34m\u001b[1mreached end of signal\u001b[0m\n",
      "\u001b[32m2020-04-04 16:20:03.757\u001b[0m | \u001b[34m\u001b[1mDEBUG   \u001b[0m | \u001b[36mlorapy.signals.processing.utils\u001b[0m:\u001b[36mclean_index_list\u001b[0m:\u001b[36m24\u001b[0m - \u001b[34m\u001b[1mfound 3 false indexes\u001b[0m\n",
      "\u001b[32m2020-04-04 16:20:03.758\u001b[0m | \u001b[1mINFO    \u001b[0m | \u001b[36mlorapy.signals.processing.sliding_mean\u001b[0m:\u001b[36m_find_all_mindices\u001b[0m:\u001b[36m70\u001b[0m - \u001b[1mfound [214 // 211] packet locations\u001b[0m\n",
      "\u001b[32m2020-04-04 16:20:03.788\u001b[0m | \u001b[34m\u001b[1mDEBUG   \u001b[0m | \u001b[36mlorapy.packets.utils\u001b[0m:\u001b[36mslice_all_packets\u001b[0m:\u001b[36m21\u001b[0m - \u001b[34m\u001b[1mgot max packet length: 495616\u001b[0m\n",
      "\u001b[32m2020-04-04 16:20:04.254\u001b[0m | \u001b[1mINFO    \u001b[0m | \u001b[36mlorapy.packets.utils\u001b[0m:\u001b[36mslice_all_packets\u001b[0m:\u001b[36m28\u001b[0m - \u001b[1mextracted 211 packets from signal\u001b[0m\n",
      "\u001b[32m2020-04-04 16:20:04.255\u001b[0m | \u001b[34m\u001b[1mDEBUG   \u001b[0m | \u001b[36mlorapy.signals.signal\u001b[0m:\u001b[36mextract_packets\u001b[0m:\u001b[36m68\u001b[0m - \u001b[34m\u001b[1mloaded 211 lora packets\u001b[0m\n"
     ]
    }
   ],
   "source": [
    "signal.extract_packets(method='slide-mean')"
   ]
  },
  {
   "cell_type": "code",
   "execution_count": 16,
   "metadata": {},
   "outputs": [
    {
     "data": {
      "text/plain": [
       "((211, 495616), 211)"
      ]
     },
     "execution_count": 16,
     "metadata": {},
     "output_type": "execute_result"
    }
   ],
   "source": [
    "signal._raw_packets.shape, len(signal.packets)"
   ]
  },
  {
   "cell_type": "code",
   "execution_count": null,
   "metadata": {},
   "outputs": [],
   "source": []
  },
  {
   "cell_type": "markdown",
   "metadata": {},
   "source": [
    "# lora packets"
   ]
  },
  {
   "cell_type": "markdown",
   "metadata": {},
   "source": [
    "## packet attrs"
   ]
  },
  {
   "cell_type": "code",
   "execution_count": 45,
   "metadata": {},
   "outputs": [
    {
     "data": {
      "text/plain": [
       "LoraPacket(length=495616) || BW: 8 | SF: 12 | Att: 80 | samples per symbol: 16384 | packet length: 495616"
      ]
     },
     "execution_count": 45,
     "metadata": {},
     "output_type": "execute_result"
    }
   ],
   "source": [
    "packet = signal.packets[0]\n",
    "packet"
   ]
  },
  {
   "cell_type": "code",
   "execution_count": 46,
   "metadata": {},
   "outputs": [
    {
     "data": {
      "text/plain": [
       "(495616, 8.030962e-05, 0.0, 0.0002746611)"
      ]
     },
     "execution_count": 46,
     "metadata": {},
     "output_type": "execute_result"
    }
   ],
   "source": [
    "packet.size, packet.mean, packet.min, packet.max"
   ]
  },
  {
   "cell_type": "markdown",
   "metadata": {},
   "source": [
    "## plot"
   ]
  },
  {
   "cell_type": "code",
   "execution_count": 48,
   "metadata": {},
   "outputs": [
    {
     "data": {
      "image/png": "[encoded data removed]",
      "text/plain": [
       "<Figure size 432x288 with 1 Axes>"
      ]
     },
     "metadata": {
      "needs_background": "dark"
     },
     "output_type": "display_data"
    }
   ],
   "source": [
    "packet.plot()"
   ]
  },
  {
   "cell_type": "markdown",
   "metadata": {},
   "source": [
    "## get padding adjustment"
   ]
  },
  {
   "cell_type": "code",
   "execution_count": 56,
   "metadata": {
    "scrolled": true
   },
   "outputs": [
    {
     "name": "stdout",
     "output_type": "stream",
     "text": [
      "\u001b[32m2020-04-04 16:39:35.664\u001b[0m | \u001b[34m\u001b[1mDEBUG   \u001b[0m | \u001b[36mlorapy.packets.packet\u001b[0m:\u001b[36mbiased_mean\u001b[0m:\u001b[36m52\u001b[0m - \u001b[34m\u001b[1mtype check: <class 'numpy.ndarray'> // 0.00020272203255444765\u001b[0m\n",
      "\u001b[32m2020-04-04 16:39:35.667\u001b[0m | \u001b[34m\u001b[1mDEBUG   \u001b[0m | \u001b[36mlorapy.packets.packet\u001b[0m:\u001b[36mbiased_mean\u001b[0m:\u001b[36m56\u001b[0m - \u001b[34m\u001b[1mgot biased packet [2068 / 495616] [0.00020 / 0.00008]\u001b[0m\n",
      "\u001b[32m2020-04-04 16:39:35.670\u001b[0m | \u001b[34m\u001b[1mDEBUG   \u001b[0m | \u001b[36mlorapy.packets.packet\u001b[0m:\u001b[36mget_adjustment\u001b[0m:\u001b[36m38\u001b[0m - \u001b[34m\u001b[1m[0:100] diff: 0.00011 | suspect padding slice\u001b[0m\n",
      "\u001b[32m2020-04-04 16:39:35.675\u001b[0m | \u001b[34m\u001b[1mDEBUG   \u001b[0m | \u001b[36mlorapy.packets.packet\u001b[0m:\u001b[36mget_adjustment\u001b[0m:\u001b[36m38\u001b[0m - \u001b[34m\u001b[1m[100:200] diff: 0.00012 | suspect padding slice\u001b[0m\n",
      "\u001b[32m2020-04-04 16:39:35.680\u001b[0m | \u001b[34m\u001b[1mDEBUG   \u001b[0m | \u001b[36mlorapy.packets.packet\u001b[0m:\u001b[36mget_adjustment\u001b[0m:\u001b[36m38\u001b[0m - \u001b[34m\u001b[1m[200:300] diff: 0.00012 | suspect padding slice\u001b[0m\n",
      "\u001b[32m2020-04-04 16:39:35.685\u001b[0m | \u001b[34m\u001b[1mDEBUG   \u001b[0m | \u001b[36mlorapy.packets.packet\u001b[0m:\u001b[36mget_adjustment\u001b[0m:\u001b[36m38\u001b[0m - \u001b[34m\u001b[1m[300:400] diff: 0.00012 | suspect padding slice\u001b[0m\n",
      "\u001b[32m2020-04-04 16:39:35.690\u001b[0m | \u001b[34m\u001b[1mDEBUG   \u001b[0m | \u001b[36mlorapy.packets.packet\u001b[0m:\u001b[36mget_adjustment\u001b[0m:\u001b[36m38\u001b[0m - \u001b[34m\u001b[1m[400:500] diff: 0.00013 | suspect padding slice\u001b[0m\n",
      "\u001b[32m2020-04-04 16:39:35.695\u001b[0m | \u001b[34m\u001b[1mDEBUG   \u001b[0m | \u001b[36mlorapy.packets.packet\u001b[0m:\u001b[36mget_adjustment\u001b[0m:\u001b[36m38\u001b[0m - \u001b[34m\u001b[1m[500:600] diff: 0.00012 | suspect padding slice\u001b[0m\n",
      "\u001b[32m2020-04-04 16:39:35.699\u001b[0m | \u001b[34m\u001b[1mDEBUG   \u001b[0m | \u001b[36mlorapy.packets.packet\u001b[0m:\u001b[36mget_adjustment\u001b[0m:\u001b[36m38\u001b[0m - \u001b[34m\u001b[1m[600:700] diff: 0.00012 | suspect padding slice\u001b[0m\n",
      "\u001b[32m2020-04-04 16:39:35.702\u001b[0m | \u001b[34m\u001b[1mDEBUG   \u001b[0m | \u001b[36mlorapy.packets.packet\u001b[0m:\u001b[36mget_adjustment\u001b[0m:\u001b[36m38\u001b[0m - \u001b[34m\u001b[1m[700:800] diff: 0.00013 | suspect padding slice\u001b[0m\n",
      "\u001b[32m2020-04-04 16:39:35.705\u001b[0m | \u001b[34m\u001b[1mDEBUG   \u001b[0m | \u001b[36mlorapy.packets.packet\u001b[0m:\u001b[36mget_adjustment\u001b[0m:\u001b[36m38\u001b[0m - \u001b[34m\u001b[1m[800:900] diff: 0.00013 | suspect padding slice\u001b[0m\n",
      "\u001b[32m2020-04-04 16:39:35.709\u001b[0m | \u001b[34m\u001b[1mDEBUG   \u001b[0m | \u001b[36mlorapy.packets.packet\u001b[0m:\u001b[36mget_adjustment\u001b[0m:\u001b[36m38\u001b[0m - \u001b[34m\u001b[1m[900:1000] diff: 0.00011 | suspect padding slice\u001b[0m\n",
      "\u001b[32m2020-04-04 16:39:35.712\u001b[0m | \u001b[34m\u001b[1mDEBUG   \u001b[0m | \u001b[36mlorapy.packets.packet\u001b[0m:\u001b[36mget_adjustment\u001b[0m:\u001b[36m38\u001b[0m - \u001b[34m\u001b[1m[1000:1100] diff: 0.00012 | suspect padding slice\u001b[0m\n",
      "\u001b[32m2020-04-04 16:39:35.715\u001b[0m | \u001b[34m\u001b[1mDEBUG   \u001b[0m | \u001b[36mlorapy.packets.packet\u001b[0m:\u001b[36mget_adjustment\u001b[0m:\u001b[36m38\u001b[0m - \u001b[34m\u001b[1m[1100:1200] diff: 0.00012 | suspect padding slice\u001b[0m\n",
      "\u001b[32m2020-04-04 16:39:35.718\u001b[0m | \u001b[34m\u001b[1mDEBUG   \u001b[0m | \u001b[36mlorapy.packets.packet\u001b[0m:\u001b[36mget_adjustment\u001b[0m:\u001b[36m38\u001b[0m - \u001b[34m\u001b[1m[1200:1300] diff: 0.00012 | suspect padding slice\u001b[0m\n",
      "\u001b[32m2020-04-04 16:39:35.720\u001b[0m | \u001b[34m\u001b[1mDEBUG   \u001b[0m | \u001b[36mlorapy.packets.packet\u001b[0m:\u001b[36mget_adjustment\u001b[0m:\u001b[36m38\u001b[0m - \u001b[34m\u001b[1m[1300:1400] diff: 0.00013 | suspect padding slice\u001b[0m\n",
      "\u001b[32m2020-04-04 16:39:35.723\u001b[0m | \u001b[34m\u001b[1mDEBUG   \u001b[0m | \u001b[36mlorapy.packets.packet\u001b[0m:\u001b[36mget_adjustment\u001b[0m:\u001b[36m38\u001b[0m - \u001b[34m\u001b[1m[1400:1500] diff: 0.00013 | suspect padding slice\u001b[0m\n",
      "\u001b[32m2020-04-04 16:39:35.725\u001b[0m | \u001b[34m\u001b[1mDEBUG   \u001b[0m | \u001b[36mlorapy.packets.packet\u001b[0m:\u001b[36mget_adjustment\u001b[0m:\u001b[36m38\u001b[0m - \u001b[34m\u001b[1m[1500:1600] diff: 0.00012 | suspect padding slice\u001b[0m\n",
      "\u001b[32m2020-04-04 16:39:35.727\u001b[0m | \u001b[34m\u001b[1mDEBUG   \u001b[0m | \u001b[36mlorapy.packets.packet\u001b[0m:\u001b[36mget_adjustment\u001b[0m:\u001b[36m38\u001b[0m - \u001b[34m\u001b[1m[1600:1700] diff: 0.00012 | suspect padding slice\u001b[0m\n",
      "\u001b[32m2020-04-04 16:39:35.729\u001b[0m | \u001b[34m\u001b[1mDEBUG   \u001b[0m | \u001b[36mlorapy.packets.packet\u001b[0m:\u001b[36mget_adjustment\u001b[0m:\u001b[36m38\u001b[0m - \u001b[34m\u001b[1m[1700:1800] diff: 0.00012 | suspect padding slice\u001b[0m\n",
      "\u001b[32m2020-04-04 16:39:35.732\u001b[0m | \u001b[34m\u001b[1mDEBUG   \u001b[0m | \u001b[36mlorapy.packets.packet\u001b[0m:\u001b[36mget_adjustment\u001b[0m:\u001b[36m38\u001b[0m - \u001b[34m\u001b[1m[1800:1900] diff: 0.00012 | suspect padding slice\u001b[0m\n",
      "\u001b[32m2020-04-04 16:39:35.734\u001b[0m | \u001b[34m\u001b[1mDEBUG   \u001b[0m | \u001b[36mlorapy.packets.packet\u001b[0m:\u001b[36mget_adjustment\u001b[0m:\u001b[36m38\u001b[0m - \u001b[34m\u001b[1m[1900:2000] diff: 0.00012 | suspect padding slice\u001b[0m\n",
      "\u001b[32m2020-04-04 16:39:35.737\u001b[0m | \u001b[34m\u001b[1mDEBUG   \u001b[0m | \u001b[36mlorapy.packets.packet\u001b[0m:\u001b[36mget_adjustment\u001b[0m:\u001b[36m38\u001b[0m - \u001b[34m\u001b[1m[2000:2100] diff: 0.00013 | suspect padding slice\u001b[0m\n",
      "\u001b[32m2020-04-04 16:39:35.739\u001b[0m | \u001b[34m\u001b[1mDEBUG   \u001b[0m | \u001b[36mlorapy.packets.packet\u001b[0m:\u001b[36mget_adjustment\u001b[0m:\u001b[36m38\u001b[0m - \u001b[34m\u001b[1m[2100:2200] diff: 0.00012 | suspect padding slice\u001b[0m\n",
      "\u001b[32m2020-04-04 16:39:35.743\u001b[0m | \u001b[34m\u001b[1mDEBUG   \u001b[0m | \u001b[36mlorapy.packets.packet\u001b[0m:\u001b[36mget_adjustment\u001b[0m:\u001b[36m38\u001b[0m - \u001b[34m\u001b[1m[2200:2300] diff: 0.00012 | suspect padding slice\u001b[0m\n",
      "\u001b[32m2020-04-04 16:39:35.747\u001b[0m | \u001b[34m\u001b[1mDEBUG   \u001b[0m | \u001b[36mlorapy.packets.packet\u001b[0m:\u001b[36mget_adjustment\u001b[0m:\u001b[36m38\u001b[0m - \u001b[34m\u001b[1m[2300:2400] diff: 0.00012 | suspect padding slice\u001b[0m\n",
      "\u001b[32m2020-04-04 16:39:35.750\u001b[0m | \u001b[34m\u001b[1mDEBUG   \u001b[0m | \u001b[36mlorapy.packets.packet\u001b[0m:\u001b[36mget_adjustment\u001b[0m:\u001b[36m38\u001b[0m - \u001b[34m\u001b[1m[2400:2500] diff: 0.00012 | suspect padding slice\u001b[0m\n",
      "\u001b[32m2020-04-04 16:39:35.752\u001b[0m | \u001b[34m\u001b[1mDEBUG   \u001b[0m | \u001b[36mlorapy.packets.packet\u001b[0m:\u001b[36mget_adjustment\u001b[0m:\u001b[36m38\u001b[0m - \u001b[34m\u001b[1m[2500:2600] diff: 0.00013 | suspect padding slice\u001b[0m\n",
      "\u001b[32m2020-04-04 16:39:35.756\u001b[0m | \u001b[34m\u001b[1mDEBUG   \u001b[0m | \u001b[36mlorapy.packets.packet\u001b[0m:\u001b[36mget_adjustment\u001b[0m:\u001b[36m38\u001b[0m - \u001b[34m\u001b[1m[2600:2700] diff: 0.00011 | suspect padding slice\u001b[0m\n",
      "\u001b[32m2020-04-04 16:39:35.759\u001b[0m | \u001b[34m\u001b[1mDEBUG   \u001b[0m | \u001b[36mlorapy.packets.packet\u001b[0m:\u001b[36mget_adjustment\u001b[0m:\u001b[36m38\u001b[0m - \u001b[34m\u001b[1m[2700:2800] diff: 0.00013 | suspect padding slice\u001b[0m\n",
      "\u001b[32m2020-04-04 16:39:35.762\u001b[0m | \u001b[34m\u001b[1mDEBUG   \u001b[0m | \u001b[36mlorapy.packets.packet\u001b[0m:\u001b[36mget_adjustment\u001b[0m:\u001b[36m38\u001b[0m - \u001b[34m\u001b[1m[2800:2900] diff: 0.00013 | suspect padding slice\u001b[0m\n",
      "\u001b[32m2020-04-04 16:39:35.765\u001b[0m | \u001b[34m\u001b[1mDEBUG   \u001b[0m | \u001b[36mlorapy.packets.packet\u001b[0m:\u001b[36mget_adjustment\u001b[0m:\u001b[36m38\u001b[0m - \u001b[34m\u001b[1m[2900:3000] diff: 0.00013 | suspect padding slice\u001b[0m\n",
      "\u001b[32m2020-04-04 16:39:35.768\u001b[0m | \u001b[34m\u001b[1mDEBUG   \u001b[0m | \u001b[36mlorapy.packets.packet\u001b[0m:\u001b[36mget_adjustment\u001b[0m:\u001b[36m38\u001b[0m - \u001b[34m\u001b[1m[3000:3100] diff: 0.00011 | suspect padding slice\u001b[0m\n",
      "\u001b[32m2020-04-04 16:39:35.772\u001b[0m | \u001b[34m\u001b[1mDEBUG   \u001b[0m | \u001b[36mlorapy.packets.packet\u001b[0m:\u001b[36mget_adjustment\u001b[0m:\u001b[36m38\u001b[0m - \u001b[34m\u001b[1m[3100:3200] diff: 0.00012 | suspect padding slice\u001b[0m\n",
      "\u001b[32m2020-04-04 16:39:35.775\u001b[0m | \u001b[34m\u001b[1mDEBUG   \u001b[0m | \u001b[36mlorapy.packets.packet\u001b[0m:\u001b[36mget_adjustment\u001b[0m:\u001b[36m38\u001b[0m - \u001b[34m\u001b[1m[3200:3300] diff: 0.00012 | suspect padding slice\u001b[0m\n",
      "\u001b[32m2020-04-04 16:39:35.778\u001b[0m | \u001b[34m\u001b[1mDEBUG   \u001b[0m | \u001b[36mlorapy.packets.packet\u001b[0m:\u001b[36mget_adjustment\u001b[0m:\u001b[36m38\u001b[0m - \u001b[34m\u001b[1m[3300:3400] diff: 0.00012 | suspect padding slice\u001b[0m\n",
      "\u001b[32m2020-04-04 16:39:35.781\u001b[0m | \u001b[34m\u001b[1mDEBUG   \u001b[0m | \u001b[36mlorapy.packets.packet\u001b[0m:\u001b[36mget_adjustment\u001b[0m:\u001b[36m38\u001b[0m - \u001b[34m\u001b[1m[3400:3500] diff: 0.00012 | suspect padding slice\u001b[0m\n",
      "\u001b[32m2020-04-04 16:39:35.784\u001b[0m | \u001b[34m\u001b[1mDEBUG   \u001b[0m | \u001b[36mlorapy.packets.packet\u001b[0m:\u001b[36mget_adjustment\u001b[0m:\u001b[36m38\u001b[0m - \u001b[34m\u001b[1m[3500:3600] diff: 0.00012 | suspect padding slice\u001b[0m\n",
      "\u001b[32m2020-04-04 16:39:35.787\u001b[0m | \u001b[34m\u001b[1mDEBUG   \u001b[0m | \u001b[36mlorapy.packets.packet\u001b[0m:\u001b[36mget_adjustment\u001b[0m:\u001b[36m38\u001b[0m - \u001b[34m\u001b[1m[3600:3700] diff: 0.00012 | suspect padding slice\u001b[0m\n",
      "\u001b[32m2020-04-04 16:39:35.790\u001b[0m | \u001b[34m\u001b[1mDEBUG   \u001b[0m | \u001b[36mlorapy.packets.packet\u001b[0m:\u001b[36mget_adjustment\u001b[0m:\u001b[36m38\u001b[0m - \u001b[34m\u001b[1m[3700:3800] diff: 0.00013 | suspect padding slice\u001b[0m\n",
      "\u001b[32m2020-04-04 16:39:35.793\u001b[0m | \u001b[34m\u001b[1mDEBUG   \u001b[0m | \u001b[36mlorapy.packets.packet\u001b[0m:\u001b[36mget_adjustment\u001b[0m:\u001b[36m38\u001b[0m - \u001b[34m\u001b[1m[3800:3900] diff: 0.00012 | suspect padding slice\u001b[0m\n",
      "\u001b[32m2020-04-04 16:39:35.796\u001b[0m | \u001b[34m\u001b[1mDEBUG   \u001b[0m | \u001b[36mlorapy.packets.packet\u001b[0m:\u001b[36mget_adjustment\u001b[0m:\u001b[36m38\u001b[0m - \u001b[34m\u001b[1m[3900:4000] diff: 0.00013 | suspect padding slice\u001b[0m\n",
      "\u001b[32m2020-04-04 16:39:35.799\u001b[0m | \u001b[34m\u001b[1mDEBUG   \u001b[0m | \u001b[36mlorapy.packets.packet\u001b[0m:\u001b[36mget_adjustment\u001b[0m:\u001b[36m38\u001b[0m - \u001b[34m\u001b[1m[4000:4100] diff: 0.00013 | suspect padding slice\u001b[0m\n",
      "\u001b[32m2020-04-04 16:39:35.801\u001b[0m | \u001b[34m\u001b[1mDEBUG   \u001b[0m | \u001b[36mlorapy.packets.packet\u001b[0m:\u001b[36mget_adjustment\u001b[0m:\u001b[36m38\u001b[0m - \u001b[34m\u001b[1m[4100:4200] diff: 0.00013 | suspect padding slice\u001b[0m\n",
      "\u001b[32m2020-04-04 16:39:35.804\u001b[0m | \u001b[34m\u001b[1mDEBUG   \u001b[0m | \u001b[36mlorapy.packets.packet\u001b[0m:\u001b[36mget_adjustment\u001b[0m:\u001b[36m38\u001b[0m - \u001b[34m\u001b[1m[4200:4300] diff: 0.00012 | suspect padding slice\u001b[0m\n",
      "\u001b[32m2020-04-04 16:39:35.807\u001b[0m | \u001b[34m\u001b[1mDEBUG   \u001b[0m | \u001b[36mlorapy.packets.packet\u001b[0m:\u001b[36mget_adjustment\u001b[0m:\u001b[36m38\u001b[0m - \u001b[34m\u001b[1m[4300:4400] diff: 0.00012 | suspect padding slice\u001b[0m\n",
      "\u001b[32m2020-04-04 16:39:35.810\u001b[0m | \u001b[34m\u001b[1mDEBUG   \u001b[0m | \u001b[36mlorapy.packets.packet\u001b[0m:\u001b[36mget_adjustment\u001b[0m:\u001b[36m38\u001b[0m - \u001b[34m\u001b[1m[4400:4500] diff: 0.00012 | suspect padding slice\u001b[0m\n",
      "\u001b[32m2020-04-04 16:39:35.814\u001b[0m | \u001b[34m\u001b[1mDEBUG   \u001b[0m | \u001b[36mlorapy.packets.packet\u001b[0m:\u001b[36mget_adjustment\u001b[0m:\u001b[36m38\u001b[0m - \u001b[34m\u001b[1m[4500:4600] diff: 0.00013 | suspect padding slice\u001b[0m\n",
      "\u001b[32m2020-04-04 16:39:35.817\u001b[0m | \u001b[34m\u001b[1mDEBUG   \u001b[0m | \u001b[36mlorapy.packets.packet\u001b[0m:\u001b[36mget_adjustment\u001b[0m:\u001b[36m38\u001b[0m - \u001b[34m\u001b[1m[4600:4700] diff: 0.00015 | suspect padding slice\u001b[0m\n",
      "\u001b[32m2020-04-04 16:39:35.820\u001b[0m | \u001b[34m\u001b[1mDEBUG   \u001b[0m | \u001b[36mlorapy.packets.packet\u001b[0m:\u001b[36mget_adjustment\u001b[0m:\u001b[36m38\u001b[0m - \u001b[34m\u001b[1m[4700:4800] diff: 0.00015 | suspect padding slice\u001b[0m\n",
      "\u001b[32m2020-04-04 16:39:35.823\u001b[0m | \u001b[34m\u001b[1mDEBUG   \u001b[0m | \u001b[36mlorapy.packets.packet\u001b[0m:\u001b[36mget_adjustment\u001b[0m:\u001b[36m38\u001b[0m - \u001b[34m\u001b[1m[4800:4900] diff: 0.00016 | suspect padding slice\u001b[0m\n",
      "\u001b[32m2020-04-04 16:39:35.826\u001b[0m | \u001b[34m\u001b[1mDEBUG   \u001b[0m | \u001b[36mlorapy.packets.packet\u001b[0m:\u001b[36mget_adjustment\u001b[0m:\u001b[36m38\u001b[0m - \u001b[34m\u001b[1m[4900:5000] diff: 0.00015 | suspect padding slice\u001b[0m\n",
      "\u001b[32m2020-04-04 16:39:35.830\u001b[0m | \u001b[34m\u001b[1mDEBUG   \u001b[0m | \u001b[36mlorapy.packets.packet\u001b[0m:\u001b[36mget_adjustment\u001b[0m:\u001b[36m38\u001b[0m - \u001b[34m\u001b[1m[5000:5100] diff: 0.00015 | suspect padding slice\u001b[0m\n",
      "\u001b[32m2020-04-04 16:39:35.833\u001b[0m | \u001b[34m\u001b[1mDEBUG   \u001b[0m | \u001b[36mlorapy.packets.packet\u001b[0m:\u001b[36mget_adjustment\u001b[0m:\u001b[36m38\u001b[0m - \u001b[34m\u001b[1m[5100:5200] diff: 0.00014 | suspect padding slice\u001b[0m\n",
      "\u001b[32m2020-04-04 16:39:35.837\u001b[0m | \u001b[34m\u001b[1mDEBUG   \u001b[0m | \u001b[36mlorapy.packets.packet\u001b[0m:\u001b[36mget_adjustment\u001b[0m:\u001b[36m38\u001b[0m - \u001b[34m\u001b[1m[5200:5300] diff: 0.00015 | suspect padding slice\u001b[0m\n",
      "\u001b[32m2020-04-04 16:39:35.839\u001b[0m | \u001b[34m\u001b[1mDEBUG   \u001b[0m | \u001b[36mlorapy.packets.packet\u001b[0m:\u001b[36mget_adjustment\u001b[0m:\u001b[36m38\u001b[0m - \u001b[34m\u001b[1m[5300:5400] diff: 0.00014 | suspect padding slice\u001b[0m\n",
      "\u001b[32m2020-04-04 16:39:35.842\u001b[0m | \u001b[34m\u001b[1mDEBUG   \u001b[0m | \u001b[36mlorapy.packets.packet\u001b[0m:\u001b[36mget_adjustment\u001b[0m:\u001b[36m38\u001b[0m - \u001b[34m\u001b[1m[5400:5500] diff: 0.00014 | suspect padding slice\u001b[0m\n",
      "\u001b[32m2020-04-04 16:39:35.845\u001b[0m | \u001b[34m\u001b[1mDEBUG   \u001b[0m | \u001b[36mlorapy.packets.packet\u001b[0m:\u001b[36mget_adjustment\u001b[0m:\u001b[36m38\u001b[0m - \u001b[34m\u001b[1m[5500:5600] diff: 0.00013 | suspect padding slice\u001b[0m\n",
      "\u001b[32m2020-04-04 16:39:35.847\u001b[0m | \u001b[34m\u001b[1mDEBUG   \u001b[0m | \u001b[36mlorapy.packets.packet\u001b[0m:\u001b[36mget_adjustment\u001b[0m:\u001b[36m38\u001b[0m - \u001b[34m\u001b[1m[5600:5700] diff: 0.00014 | suspect padding slice\u001b[0m\n",
      "\u001b[32m2020-04-04 16:39:35.849\u001b[0m | \u001b[34m\u001b[1mDEBUG   \u001b[0m | \u001b[36mlorapy.packets.packet\u001b[0m:\u001b[36mget_adjustment\u001b[0m:\u001b[36m38\u001b[0m - \u001b[34m\u001b[1m[5700:5800] diff: 0.00013 | suspect padding slice\u001b[0m\n",
      "\u001b[32m2020-04-04 16:39:35.852\u001b[0m | \u001b[34m\u001b[1mDEBUG   \u001b[0m | \u001b[36mlorapy.packets.packet\u001b[0m:\u001b[36mget_adjustment\u001b[0m:\u001b[36m38\u001b[0m - \u001b[34m\u001b[1m[5800:5900] diff: 0.00015 | suspect padding slice\u001b[0m\n",
      "\u001b[32m2020-04-04 16:39:35.855\u001b[0m | \u001b[34m\u001b[1mDEBUG   \u001b[0m | \u001b[36mlorapy.packets.packet\u001b[0m:\u001b[36mget_adjustment\u001b[0m:\u001b[36m38\u001b[0m - \u001b[34m\u001b[1m[5900:6000] diff: 0.00014 | suspect padding slice\u001b[0m\n",
      "\u001b[32m2020-04-04 16:39:35.857\u001b[0m | \u001b[34m\u001b[1mDEBUG   \u001b[0m | \u001b[36mlorapy.packets.packet\u001b[0m:\u001b[36mget_adjustment\u001b[0m:\u001b[36m38\u001b[0m - \u001b[34m\u001b[1m[6000:6100] diff: 0.00013 | suspect padding slice\u001b[0m\n",
      "\u001b[32m2020-04-04 16:39:35.860\u001b[0m | \u001b[34m\u001b[1mDEBUG   \u001b[0m | \u001b[36mlorapy.packets.packet\u001b[0m:\u001b[36mget_adjustment\u001b[0m:\u001b[36m38\u001b[0m - \u001b[34m\u001b[1m[6100:6200] diff: 0.00014 | suspect padding slice\u001b[0m\n",
      "\u001b[32m2020-04-04 16:39:35.862\u001b[0m | \u001b[34m\u001b[1mDEBUG   \u001b[0m | \u001b[36mlorapy.packets.packet\u001b[0m:\u001b[36mget_adjustment\u001b[0m:\u001b[36m38\u001b[0m - \u001b[34m\u001b[1m[6200:6300] diff: 0.00014 | suspect padding slice\u001b[0m\n",
      "\u001b[32m2020-04-04 16:39:35.864\u001b[0m | \u001b[34m\u001b[1mDEBUG   \u001b[0m | \u001b[36mlorapy.packets.packet\u001b[0m:\u001b[36mget_adjustment\u001b[0m:\u001b[36m38\u001b[0m - \u001b[34m\u001b[1m[6300:6400] diff: 0.00015 | suspect padding slice\u001b[0m\n",
      "\u001b[32m2020-04-04 16:39:35.866\u001b[0m | \u001b[34m\u001b[1mDEBUG   \u001b[0m | \u001b[36mlorapy.packets.packet\u001b[0m:\u001b[36mget_adjustment\u001b[0m:\u001b[36m38\u001b[0m - \u001b[34m\u001b[1m[6400:6500] diff: 0.00016 | suspect padding slice\u001b[0m\n",
      "\u001b[32m2020-04-04 16:39:35.869\u001b[0m | \u001b[34m\u001b[1mDEBUG   \u001b[0m | \u001b[36mlorapy.packets.packet\u001b[0m:\u001b[36mget_adjustment\u001b[0m:\u001b[36m38\u001b[0m - \u001b[34m\u001b[1m[6500:6600] diff: 0.00016 | suspect padding slice\u001b[0m\n",
      "\u001b[32m2020-04-04 16:39:35.872\u001b[0m | \u001b[34m\u001b[1mDEBUG   \u001b[0m | \u001b[36mlorapy.packets.packet\u001b[0m:\u001b[36mget_adjustment\u001b[0m:\u001b[36m38\u001b[0m - \u001b[34m\u001b[1m[6600:6700] diff: 0.00015 | suspect padding slice\u001b[0m\n",
      "\u001b[32m2020-04-04 16:39:35.875\u001b[0m | \u001b[34m\u001b[1mDEBUG   \u001b[0m | \u001b[36mlorapy.packets.packet\u001b[0m:\u001b[36mget_adjustment\u001b[0m:\u001b[36m38\u001b[0m - \u001b[34m\u001b[1m[6700:6800] diff: 0.00013 | suspect padding slice\u001b[0m\n",
      "\u001b[32m2020-04-04 16:39:35.879\u001b[0m | \u001b[34m\u001b[1mDEBUG   \u001b[0m | \u001b[36mlorapy.packets.packet\u001b[0m:\u001b[36mget_adjustment\u001b[0m:\u001b[36m38\u001b[0m - \u001b[34m\u001b[1m[6800:6900] diff: 0.00015 | suspect padding slice\u001b[0m\n",
      "\u001b[32m2020-04-04 16:39:35.881\u001b[0m | \u001b[34m\u001b[1mDEBUG   \u001b[0m | \u001b[36mlorapy.packets.packet\u001b[0m:\u001b[36mget_adjustment\u001b[0m:\u001b[36m38\u001b[0m - \u001b[34m\u001b[1m[6900:7000] diff: 0.00014 | suspect padding slice\u001b[0m\n",
      "\u001b[32m2020-04-04 16:39:35.884\u001b[0m | \u001b[34m\u001b[1mDEBUG   \u001b[0m | \u001b[36mlorapy.packets.packet\u001b[0m:\u001b[36mget_adjustment\u001b[0m:\u001b[36m38\u001b[0m - \u001b[34m\u001b[1m[7000:7100] diff: 0.00014 | suspect padding slice\u001b[0m\n",
      "\u001b[32m2020-04-04 16:39:35.887\u001b[0m | \u001b[34m\u001b[1mDEBUG   \u001b[0m | \u001b[36mlorapy.packets.packet\u001b[0m:\u001b[36mget_adjustment\u001b[0m:\u001b[36m38\u001b[0m - \u001b[34m\u001b[1m[7100:7200] diff: 0.00014 | suspect padding slice\u001b[0m\n",
      "\u001b[32m2020-04-04 16:39:35.890\u001b[0m | \u001b[34m\u001b[1mDEBUG   \u001b[0m | \u001b[36mlorapy.packets.packet\u001b[0m:\u001b[36mget_adjustment\u001b[0m:\u001b[36m38\u001b[0m - \u001b[34m\u001b[1m[7200:7300] diff: 0.00014 | suspect padding slice\u001b[0m\n",
      "\u001b[32m2020-04-04 16:39:35.892\u001b[0m | \u001b[34m\u001b[1mDEBUG   \u001b[0m | \u001b[36mlorapy.packets.packet\u001b[0m:\u001b[36mget_adjustment\u001b[0m:\u001b[36m38\u001b[0m - \u001b[34m\u001b[1m[7300:7400] diff: 0.00013 | suspect padding slice\u001b[0m\n",
      "\u001b[32m2020-04-04 16:39:35.895\u001b[0m | \u001b[34m\u001b[1mDEBUG   \u001b[0m | \u001b[36mlorapy.packets.packet\u001b[0m:\u001b[36mget_adjustment\u001b[0m:\u001b[36m38\u001b[0m - \u001b[34m\u001b[1m[7400:7500] diff: 0.00014 | suspect padding slice\u001b[0m\n",
      "\u001b[32m2020-04-04 16:39:35.897\u001b[0m | \u001b[34m\u001b[1mDEBUG   \u001b[0m | \u001b[36mlorapy.packets.packet\u001b[0m:\u001b[36mget_adjustment\u001b[0m:\u001b[36m38\u001b[0m - \u001b[34m\u001b[1m[7500:7600] diff: 0.00013 | suspect padding slice\u001b[0m\n",
      "\u001b[32m2020-04-04 16:39:35.899\u001b[0m | \u001b[34m\u001b[1mDEBUG   \u001b[0m | \u001b[36mlorapy.packets.packet\u001b[0m:\u001b[36mget_adjustment\u001b[0m:\u001b[36m38\u001b[0m - \u001b[34m\u001b[1m[7600:7700] diff: 0.00013 | suspect padding slice\u001b[0m\n",
      "\u001b[32m2020-04-04 16:39:35.902\u001b[0m | \u001b[34m\u001b[1mDEBUG   \u001b[0m | \u001b[36mlorapy.packets.packet\u001b[0m:\u001b[36mget_adjustment\u001b[0m:\u001b[36m38\u001b[0m - \u001b[34m\u001b[1m[7700:7800] diff: 0.00014 | suspect padding slice\u001b[0m\n",
      "\u001b[32m2020-04-04 16:39:35.904\u001b[0m | \u001b[34m\u001b[1mDEBUG   \u001b[0m | \u001b[36mlorapy.packets.packet\u001b[0m:\u001b[36mget_adjustment\u001b[0m:\u001b[36m38\u001b[0m - \u001b[34m\u001b[1m[7800:7900] diff: 0.00014 | suspect padding slice\u001b[0m\n",
      "\u001b[32m2020-04-04 16:39:35.907\u001b[0m | \u001b[34m\u001b[1mDEBUG   \u001b[0m | \u001b[36mlorapy.packets.packet\u001b[0m:\u001b[36mget_adjustment\u001b[0m:\u001b[36m38\u001b[0m - \u001b[34m\u001b[1m[7900:8000] diff: 0.00013 | suspect padding slice\u001b[0m\n",
      "\u001b[32m2020-04-04 16:39:35.909\u001b[0m | \u001b[34m\u001b[1mDEBUG   \u001b[0m | \u001b[36mlorapy.packets.packet\u001b[0m:\u001b[36mget_adjustment\u001b[0m:\u001b[36m38\u001b[0m - \u001b[34m\u001b[1m[8000:8100] diff: 0.00014 | suspect padding slice\u001b[0m\n",
      "\u001b[32m2020-04-04 16:39:35.911\u001b[0m | \u001b[34m\u001b[1mDEBUG   \u001b[0m | \u001b[36mlorapy.packets.packet\u001b[0m:\u001b[36mget_adjustment\u001b[0m:\u001b[36m38\u001b[0m - \u001b[34m\u001b[1m[8100:8200] diff: 0.00014 | suspect padding slice\u001b[0m\n",
      "\u001b[32m2020-04-04 16:39:35.913\u001b[0m | \u001b[34m\u001b[1mDEBUG   \u001b[0m | \u001b[36mlorapy.packets.packet\u001b[0m:\u001b[36mget_adjustment\u001b[0m:\u001b[36m38\u001b[0m - \u001b[34m\u001b[1m[8200:8300] diff: 0.00015 | suspect padding slice\u001b[0m\n",
      "\u001b[32m2020-04-04 16:39:35.915\u001b[0m | \u001b[34m\u001b[1mDEBUG   \u001b[0m | \u001b[36mlorapy.packets.packet\u001b[0m:\u001b[36mget_adjustment\u001b[0m:\u001b[36m38\u001b[0m - \u001b[34m\u001b[1m[8300:8400] diff: 0.00015 | suspect padding slice\u001b[0m\n",
      "\u001b[32m2020-04-04 16:39:35.918\u001b[0m | \u001b[34m\u001b[1mDEBUG   \u001b[0m | \u001b[36mlorapy.packets.packet\u001b[0m:\u001b[36mget_adjustment\u001b[0m:\u001b[36m38\u001b[0m - \u001b[34m\u001b[1m[8400:8500] diff: 0.00015 | suspect padding slice\u001b[0m\n",
      "\u001b[32m2020-04-04 16:39:35.920\u001b[0m | \u001b[34m\u001b[1mDEBUG   \u001b[0m | \u001b[36mlorapy.packets.packet\u001b[0m:\u001b[36mget_adjustment\u001b[0m:\u001b[36m38\u001b[0m - \u001b[34m\u001b[1m[8500:8600] diff: 0.00014 | suspect padding slice\u001b[0m\n",
      "\u001b[32m2020-04-04 16:39:35.922\u001b[0m | \u001b[34m\u001b[1mDEBUG   \u001b[0m | \u001b[36mlorapy.packets.packet\u001b[0m:\u001b[36mget_adjustment\u001b[0m:\u001b[36m38\u001b[0m - \u001b[34m\u001b[1m[8600:8700] diff: 0.00015 | suspect padding slice\u001b[0m\n",
      "\u001b[32m2020-04-04 16:39:35.924\u001b[0m | \u001b[34m\u001b[1mDEBUG   \u001b[0m | \u001b[36mlorapy.packets.packet\u001b[0m:\u001b[36mget_adjustment\u001b[0m:\u001b[36m38\u001b[0m - \u001b[34m\u001b[1m[8700:8800] diff: 0.00014 | suspect padding slice\u001b[0m\n",
      "\u001b[32m2020-04-04 16:39:35.926\u001b[0m | \u001b[34m\u001b[1mDEBUG   \u001b[0m | \u001b[36mlorapy.packets.packet\u001b[0m:\u001b[36mget_adjustment\u001b[0m:\u001b[36m38\u001b[0m - \u001b[34m\u001b[1m[8800:8900] diff: 0.00016 | suspect padding slice\u001b[0m\n",
      "\u001b[32m2020-04-04 16:39:35.928\u001b[0m | \u001b[34m\u001b[1mDEBUG   \u001b[0m | \u001b[36mlorapy.packets.packet\u001b[0m:\u001b[36mget_adjustment\u001b[0m:\u001b[36m38\u001b[0m - \u001b[34m\u001b[1m[8900:9000] diff: 0.00015 | suspect padding slice\u001b[0m\n",
      "\u001b[32m2020-04-04 16:39:35.930\u001b[0m | \u001b[34m\u001b[1mDEBUG   \u001b[0m | \u001b[36mlorapy.packets.packet\u001b[0m:\u001b[36mget_adjustment\u001b[0m:\u001b[36m38\u001b[0m - \u001b[34m\u001b[1m[9000:9100] diff: 0.00015 | suspect padding slice\u001b[0m\n",
      "\u001b[32m2020-04-04 16:39:35.932\u001b[0m | \u001b[34m\u001b[1mDEBUG   \u001b[0m | \u001b[36mlorapy.packets.packet\u001b[0m:\u001b[36mget_adjustment\u001b[0m:\u001b[36m38\u001b[0m - \u001b[34m\u001b[1m[9100:9200] diff: 0.00015 | suspect padding slice\u001b[0m\n",
      "\u001b[32m2020-04-04 16:39:35.934\u001b[0m | \u001b[34m\u001b[1mDEBUG   \u001b[0m | \u001b[36mlorapy.packets.packet\u001b[0m:\u001b[36mget_adjustment\u001b[0m:\u001b[36m38\u001b[0m - \u001b[34m\u001b[1m[9200:9300] diff: 0.00015 | suspect padding slice\u001b[0m\n",
      "\u001b[32m2020-04-04 16:39:35.936\u001b[0m | \u001b[34m\u001b[1mDEBUG   \u001b[0m | \u001b[36mlorapy.packets.packet\u001b[0m:\u001b[36mget_adjustment\u001b[0m:\u001b[36m38\u001b[0m - \u001b[34m\u001b[1m[9300:9400] diff: 0.00016 | suspect padding slice\u001b[0m\n",
      "\u001b[32m2020-04-04 16:39:35.938\u001b[0m | \u001b[34m\u001b[1mDEBUG   \u001b[0m | \u001b[36mlorapy.packets.packet\u001b[0m:\u001b[36mget_adjustment\u001b[0m:\u001b[36m38\u001b[0m - \u001b[34m\u001b[1m[9400:9500] diff: 0.00014 | suspect padding slice\u001b[0m\n",
      "\u001b[32m2020-04-04 16:39:35.941\u001b[0m | \u001b[34m\u001b[1mDEBUG   \u001b[0m | \u001b[36mlorapy.packets.packet\u001b[0m:\u001b[36mget_adjustment\u001b[0m:\u001b[36m38\u001b[0m - \u001b[34m\u001b[1m[9500:9600] diff: 0.00015 | suspect padding slice\u001b[0m\n",
      "\u001b[32m2020-04-04 16:39:35.943\u001b[0m | \u001b[34m\u001b[1mDEBUG   \u001b[0m | \u001b[36mlorapy.packets.packet\u001b[0m:\u001b[36mget_adjustment\u001b[0m:\u001b[36m38\u001b[0m - \u001b[34m\u001b[1m[9600:9700] diff: 0.00015 | suspect padding slice\u001b[0m\n",
      "\u001b[32m2020-04-04 16:39:35.945\u001b[0m | \u001b[34m\u001b[1mDEBUG   \u001b[0m | \u001b[36mlorapy.packets.packet\u001b[0m:\u001b[36mget_adjustment\u001b[0m:\u001b[36m38\u001b[0m - \u001b[34m\u001b[1m[9700:9800] diff: 0.00014 | suspect padding slice\u001b[0m\n",
      "\u001b[32m2020-04-04 16:39:35.947\u001b[0m | \u001b[34m\u001b[1mDEBUG   \u001b[0m | \u001b[36mlorapy.packets.packet\u001b[0m:\u001b[36mget_adjustment\u001b[0m:\u001b[36m38\u001b[0m - \u001b[34m\u001b[1m[9800:9900] diff: 0.00014 | suspect padding slice\u001b[0m\n",
      "\u001b[32m2020-04-04 16:39:35.949\u001b[0m | \u001b[34m\u001b[1mDEBUG   \u001b[0m | \u001b[36mlorapy.packets.packet\u001b[0m:\u001b[36mget_adjustment\u001b[0m:\u001b[36m38\u001b[0m - \u001b[34m\u001b[1m[9900:10000] diff: 0.00016 | suspect padding slice\u001b[0m\n",
      "\u001b[32m2020-04-04 16:39:35.951\u001b[0m | \u001b[34m\u001b[1mDEBUG   \u001b[0m | \u001b[36mlorapy.packets.packet\u001b[0m:\u001b[36mget_adjustment\u001b[0m:\u001b[36m38\u001b[0m - \u001b[34m\u001b[1m[10000:10100] diff: 0.00013 | suspect padding slice\u001b[0m\n",
      "\u001b[32m2020-04-04 16:39:35.953\u001b[0m | \u001b[34m\u001b[1mDEBUG   \u001b[0m | \u001b[36mlorapy.packets.packet\u001b[0m:\u001b[36mget_adjustment\u001b[0m:\u001b[36m38\u001b[0m - \u001b[34m\u001b[1m[10100:10200] diff: 0.00015 | suspect padding slice\u001b[0m\n",
      "\u001b[32m2020-04-04 16:39:35.955\u001b[0m | \u001b[34m\u001b[1mDEBUG   \u001b[0m | \u001b[36mlorapy.packets.packet\u001b[0m:\u001b[36mget_adjustment\u001b[0m:\u001b[36m38\u001b[0m - \u001b[34m\u001b[1m[10200:10300] diff: 0.00015 | suspect padding slice\u001b[0m\n",
      "\u001b[32m2020-04-04 16:39:35.957\u001b[0m | \u001b[34m\u001b[1mDEBUG   \u001b[0m | \u001b[36mlorapy.packets.packet\u001b[0m:\u001b[36mget_adjustment\u001b[0m:\u001b[36m38\u001b[0m - \u001b[34m\u001b[1m[10300:10400] diff: 0.00013 | suspect padding slice\u001b[0m\n",
      "\u001b[32m2020-04-04 16:39:35.959\u001b[0m | \u001b[34m\u001b[1mDEBUG   \u001b[0m | \u001b[36mlorapy.packets.packet\u001b[0m:\u001b[36mget_adjustment\u001b[0m:\u001b[36m38\u001b[0m - \u001b[34m\u001b[1m[10400:10500] diff: 0.00015 | suspect padding slice\u001b[0m\n",
      "\u001b[32m2020-04-04 16:39:35.962\u001b[0m | \u001b[34m\u001b[1mDEBUG   \u001b[0m | \u001b[36mlorapy.packets.packet\u001b[0m:\u001b[36mget_adjustment\u001b[0m:\u001b[36m38\u001b[0m - \u001b[34m\u001b[1m[10500:10600] diff: 0.00014 | suspect padding slice\u001b[0m\n",
      "\u001b[32m2020-04-04 16:39:35.964\u001b[0m | \u001b[34m\u001b[1mDEBUG   \u001b[0m | \u001b[36mlorapy.packets.packet\u001b[0m:\u001b[36mget_adjustment\u001b[0m:\u001b[36m38\u001b[0m - \u001b[34m\u001b[1m[10600:10700] diff: 0.00014 | suspect padding slice\u001b[0m\n",
      "\u001b[32m2020-04-04 16:39:35.966\u001b[0m | \u001b[34m\u001b[1mDEBUG   \u001b[0m | \u001b[36mlorapy.packets.packet\u001b[0m:\u001b[36mget_adjustment\u001b[0m:\u001b[36m38\u001b[0m - \u001b[34m\u001b[1m[10700:10800] diff: 0.00015 | suspect padding slice\u001b[0m\n",
      "\u001b[32m2020-04-04 16:39:35.968\u001b[0m | \u001b[34m\u001b[1mDEBUG   \u001b[0m | \u001b[36mlorapy.packets.packet\u001b[0m:\u001b[36mget_adjustment\u001b[0m:\u001b[36m38\u001b[0m - \u001b[34m\u001b[1m[10800:10900] diff: 0.00015 | suspect padding slice\u001b[0m\n",
      "\u001b[32m2020-04-04 16:39:35.970\u001b[0m | \u001b[34m\u001b[1mDEBUG   \u001b[0m | \u001b[36mlorapy.packets.packet\u001b[0m:\u001b[36mget_adjustment\u001b[0m:\u001b[36m38\u001b[0m - \u001b[34m\u001b[1m[10900:11000] diff: 0.00015 | suspect padding slice\u001b[0m\n",
      "\u001b[32m2020-04-04 16:39:35.972\u001b[0m | \u001b[34m\u001b[1mDEBUG   \u001b[0m | \u001b[36mlorapy.packets.packet\u001b[0m:\u001b[36mget_adjustment\u001b[0m:\u001b[36m38\u001b[0m - \u001b[34m\u001b[1m[11000:11100] diff: 0.00015 | suspect padding slice\u001b[0m\n",
      "\u001b[32m2020-04-04 16:39:35.977\u001b[0m | \u001b[34m\u001b[1mDEBUG   \u001b[0m | \u001b[36mlorapy.packets.packet\u001b[0m:\u001b[36mget_adjustment\u001b[0m:\u001b[36m38\u001b[0m - \u001b[34m\u001b[1m[11100:11200] diff: 0.00016 | suspect padding slice\u001b[0m\n",
      "\u001b[32m2020-04-04 16:39:35.983\u001b[0m | \u001b[34m\u001b[1mDEBUG   \u001b[0m | \u001b[36mlorapy.packets.packet\u001b[0m:\u001b[36mget_adjustment\u001b[0m:\u001b[36m38\u001b[0m - \u001b[34m\u001b[1m[11200:11300] diff: 0.00015 | suspect padding slice\u001b[0m\n",
      "\u001b[32m2020-04-04 16:39:35.987\u001b[0m | \u001b[34m\u001b[1mDEBUG   \u001b[0m | \u001b[36mlorapy.packets.packet\u001b[0m:\u001b[36mget_adjustment\u001b[0m:\u001b[36m38\u001b[0m - \u001b[34m\u001b[1m[11300:11400] diff: 0.00016 | suspect padding slice\u001b[0m\n",
      "\u001b[32m2020-04-04 16:39:35.991\u001b[0m | \u001b[34m\u001b[1mDEBUG   \u001b[0m | \u001b[36mlorapy.packets.packet\u001b[0m:\u001b[36mget_adjustment\u001b[0m:\u001b[36m38\u001b[0m - \u001b[34m\u001b[1m[11400:11500] diff: 0.00015 | suspect padding slice\u001b[0m\n",
      "\u001b[32m2020-04-04 16:39:35.995\u001b[0m | \u001b[34m\u001b[1mDEBUG   \u001b[0m | \u001b[36mlorapy.packets.packet\u001b[0m:\u001b[36mget_adjustment\u001b[0m:\u001b[36m38\u001b[0m - \u001b[34m\u001b[1m[11500:11600] diff: 0.00013 | suspect padding slice\u001b[0m\n",
      "\u001b[32m2020-04-04 16:39:35.998\u001b[0m | \u001b[34m\u001b[1mDEBUG   \u001b[0m | \u001b[36mlorapy.packets.packet\u001b[0m:\u001b[36mget_adjustment\u001b[0m:\u001b[36m38\u001b[0m - \u001b[34m\u001b[1m[11600:11700] diff: 0.00014 | suspect padding slice\u001b[0m\n",
      "\u001b[32m2020-04-04 16:39:36.002\u001b[0m | \u001b[34m\u001b[1mDEBUG   \u001b[0m | \u001b[36mlorapy.packets.packet\u001b[0m:\u001b[36mget_adjustment\u001b[0m:\u001b[36m38\u001b[0m - \u001b[34m\u001b[1m[11700:11800] diff: 0.00016 | suspect padding slice\u001b[0m\n",
      "\u001b[32m2020-04-04 16:39:36.005\u001b[0m | \u001b[34m\u001b[1mDEBUG   \u001b[0m | \u001b[36mlorapy.packets.packet\u001b[0m:\u001b[36mget_adjustment\u001b[0m:\u001b[36m38\u001b[0m - \u001b[34m\u001b[1m[11800:11900] diff: 0.00014 | suspect padding slice\u001b[0m\n",
      "\u001b[32m2020-04-04 16:39:36.008\u001b[0m | \u001b[34m\u001b[1mDEBUG   \u001b[0m | \u001b[36mlorapy.packets.packet\u001b[0m:\u001b[36mget_adjustment\u001b[0m:\u001b[36m38\u001b[0m - \u001b[34m\u001b[1m[11900:12000] diff: 0.00014 | suspect padding slice\u001b[0m\n",
      "\u001b[32m2020-04-04 16:39:36.012\u001b[0m | \u001b[34m\u001b[1mDEBUG   \u001b[0m | \u001b[36mlorapy.packets.packet\u001b[0m:\u001b[36mget_adjustment\u001b[0m:\u001b[36m38\u001b[0m - \u001b[34m\u001b[1m[12000:12100] diff: 0.00015 | suspect padding slice\u001b[0m\n",
      "\u001b[32m2020-04-04 16:39:36.015\u001b[0m | \u001b[34m\u001b[1mDEBUG   \u001b[0m | \u001b[36mlorapy.packets.packet\u001b[0m:\u001b[36mget_adjustment\u001b[0m:\u001b[36m38\u001b[0m - \u001b[34m\u001b[1m[12100:12200] diff: 0.00015 | suspect padding slice\u001b[0m\n",
      "\u001b[32m2020-04-04 16:39:36.018\u001b[0m | \u001b[34m\u001b[1mDEBUG   \u001b[0m | \u001b[36mlorapy.packets.packet\u001b[0m:\u001b[36mget_adjustment\u001b[0m:\u001b[36m38\u001b[0m - \u001b[34m\u001b[1m[12200:12300] diff: 0.00015 | suspect padding slice\u001b[0m\n",
      "\u001b[32m2020-04-04 16:39:36.020\u001b[0m | \u001b[34m\u001b[1mDEBUG   \u001b[0m | \u001b[36mlorapy.packets.packet\u001b[0m:\u001b[36mget_adjustment\u001b[0m:\u001b[36m38\u001b[0m - \u001b[34m\u001b[1m[12300:12400] diff: 0.00015 | suspect padding slice\u001b[0m\n",
      "\u001b[32m2020-04-04 16:39:36.023\u001b[0m | \u001b[34m\u001b[1mDEBUG   \u001b[0m | \u001b[36mlorapy.packets.packet\u001b[0m:\u001b[36mget_adjustment\u001b[0m:\u001b[36m38\u001b[0m - \u001b[34m\u001b[1m[12400:12500] diff: 0.00016 | suspect padding slice\u001b[0m\n",
      "\u001b[32m2020-04-04 16:39:36.025\u001b[0m | \u001b[34m\u001b[1mDEBUG   \u001b[0m | \u001b[36mlorapy.packets.packet\u001b[0m:\u001b[36mget_adjustment\u001b[0m:\u001b[36m38\u001b[0m - \u001b[34m\u001b[1m[12500:12600] diff: 0.00015 | suspect padding slice\u001b[0m\n",
      "\u001b[32m2020-04-04 16:39:36.027\u001b[0m | \u001b[34m\u001b[1mDEBUG   \u001b[0m | \u001b[36mlorapy.packets.packet\u001b[0m:\u001b[36mget_adjustment\u001b[0m:\u001b[36m38\u001b[0m - \u001b[34m\u001b[1m[12600:12700] diff: 0.00015 | suspect padding slice\u001b[0m\n",
      "\u001b[32m2020-04-04 16:39:36.030\u001b[0m | \u001b[34m\u001b[1mDEBUG   \u001b[0m | \u001b[36mlorapy.packets.packet\u001b[0m:\u001b[36mget_adjustment\u001b[0m:\u001b[36m38\u001b[0m - \u001b[34m\u001b[1m[12700:12800] diff: 0.00016 | suspect padding slice\u001b[0m\n",
      "\u001b[32m2020-04-04 16:39:36.032\u001b[0m | \u001b[34m\u001b[1mDEBUG   \u001b[0m | \u001b[36mlorapy.packets.packet\u001b[0m:\u001b[36mget_adjustment\u001b[0m:\u001b[36m38\u001b[0m - \u001b[34m\u001b[1m[12800:12900] diff: 0.00015 | suspect padding slice\u001b[0m\n",
      "\u001b[32m2020-04-04 16:39:36.034\u001b[0m | \u001b[34m\u001b[1mDEBUG   \u001b[0m | \u001b[36mlorapy.packets.packet\u001b[0m:\u001b[36mget_adjustment\u001b[0m:\u001b[36m38\u001b[0m - \u001b[34m\u001b[1m[12900:13000] diff: 0.00014 | suspect padding slice\u001b[0m\n",
      "\u001b[32m2020-04-04 16:39:36.037\u001b[0m | \u001b[34m\u001b[1mDEBUG   \u001b[0m | \u001b[36mlorapy.packets.packet\u001b[0m:\u001b[36mget_adjustment\u001b[0m:\u001b[36m38\u001b[0m - \u001b[34m\u001b[1m[13000:13100] diff: 0.00014 | suspect padding slice\u001b[0m\n",
      "\u001b[32m2020-04-04 16:39:36.039\u001b[0m | \u001b[34m\u001b[1mDEBUG   \u001b[0m | \u001b[36mlorapy.packets.packet\u001b[0m:\u001b[36mget_adjustment\u001b[0m:\u001b[36m38\u001b[0m - \u001b[34m\u001b[1m[13100:13200] diff: 0.00011 | suspect padding slice\u001b[0m\n",
      "\u001b[32m2020-04-04 16:39:36.041\u001b[0m | \u001b[34m\u001b[1mDEBUG   \u001b[0m | \u001b[36mlorapy.packets.packet\u001b[0m:\u001b[36mget_adjustment\u001b[0m:\u001b[36m38\u001b[0m - \u001b[34m\u001b[1m[13200:13300] diff: 0.00014 | suspect padding slice\u001b[0m\n",
      "\u001b[32m2020-04-04 16:39:36.044\u001b[0m | \u001b[34m\u001b[1mDEBUG   \u001b[0m | \u001b[36mlorapy.packets.packet\u001b[0m:\u001b[36mget_adjustment\u001b[0m:\u001b[36m38\u001b[0m - \u001b[34m\u001b[1m[13300:13400] diff: 0.00015 | suspect padding slice\u001b[0m\n",
      "\u001b[32m2020-04-04 16:39:36.046\u001b[0m | \u001b[34m\u001b[1mDEBUG   \u001b[0m | \u001b[36mlorapy.packets.packet\u001b[0m:\u001b[36mget_adjustment\u001b[0m:\u001b[36m38\u001b[0m - \u001b[34m\u001b[1m[13400:13500] diff: 0.00015 | suspect padding slice\u001b[0m\n",
      "\u001b[32m2020-04-04 16:39:36.048\u001b[0m | \u001b[34m\u001b[1mDEBUG   \u001b[0m | \u001b[36mlorapy.packets.packet\u001b[0m:\u001b[36mget_adjustment\u001b[0m:\u001b[36m38\u001b[0m - \u001b[34m\u001b[1m[13500:13600] diff: 0.00015 | suspect padding slice\u001b[0m\n",
      "\u001b[32m2020-04-04 16:39:36.050\u001b[0m | \u001b[34m\u001b[1mDEBUG   \u001b[0m | \u001b[36mlorapy.packets.packet\u001b[0m:\u001b[36mget_adjustment\u001b[0m:\u001b[36m38\u001b[0m - \u001b[34m\u001b[1m[13600:13700] diff: 0.00016 | suspect padding slice\u001b[0m\n",
      "\u001b[32m2020-04-04 16:39:36.053\u001b[0m | \u001b[34m\u001b[1mDEBUG   \u001b[0m | \u001b[36mlorapy.packets.packet\u001b[0m:\u001b[36mget_adjustment\u001b[0m:\u001b[36m38\u001b[0m - \u001b[34m\u001b[1m[13700:13800] diff: 0.00015 | suspect padding slice\u001b[0m\n",
      "\u001b[32m2020-04-04 16:39:36.055\u001b[0m | \u001b[34m\u001b[1mDEBUG   \u001b[0m | \u001b[36mlorapy.packets.packet\u001b[0m:\u001b[36mget_adjustment\u001b[0m:\u001b[36m38\u001b[0m - \u001b[34m\u001b[1m[13800:13900] diff: 0.00013 | suspect padding slice\u001b[0m\n",
      "\u001b[32m2020-04-04 16:39:36.057\u001b[0m | \u001b[34m\u001b[1mDEBUG   \u001b[0m | \u001b[36mlorapy.packets.packet\u001b[0m:\u001b[36mget_adjustment\u001b[0m:\u001b[36m38\u001b[0m - \u001b[34m\u001b[1m[13900:14000] diff: 0.00014 | suspect padding slice\u001b[0m\n",
      "\u001b[32m2020-04-04 16:39:36.059\u001b[0m | \u001b[34m\u001b[1mDEBUG   \u001b[0m | \u001b[36mlorapy.packets.packet\u001b[0m:\u001b[36mget_adjustment\u001b[0m:\u001b[36m38\u001b[0m - \u001b[34m\u001b[1m[14000:14100] diff: 0.00014 | suspect padding slice\u001b[0m\n",
      "\u001b[32m2020-04-04 16:39:36.062\u001b[0m | \u001b[34m\u001b[1mDEBUG   \u001b[0m | \u001b[36mlorapy.packets.packet\u001b[0m:\u001b[36mget_adjustment\u001b[0m:\u001b[36m38\u001b[0m - \u001b[34m\u001b[1m[14100:14200] diff: 0.00016 | suspect padding slice\u001b[0m\n",
      "\u001b[32m2020-04-04 16:39:36.064\u001b[0m | \u001b[34m\u001b[1mDEBUG   \u001b[0m | \u001b[36mlorapy.packets.packet\u001b[0m:\u001b[36mget_adjustment\u001b[0m:\u001b[36m38\u001b[0m - \u001b[34m\u001b[1m[14200:14300] diff: 0.00016 | suspect padding slice\u001b[0m\n",
      "\u001b[32m2020-04-04 16:39:36.067\u001b[0m | \u001b[34m\u001b[1mDEBUG   \u001b[0m | \u001b[36mlorapy.packets.packet\u001b[0m:\u001b[36mget_adjustment\u001b[0m:\u001b[36m38\u001b[0m - \u001b[34m\u001b[1m[14300:14400] diff: 0.00016 | suspect padding slice\u001b[0m\n",
      "\u001b[32m2020-04-04 16:39:36.070\u001b[0m | \u001b[34m\u001b[1mDEBUG   \u001b[0m | \u001b[36mlorapy.packets.packet\u001b[0m:\u001b[36mget_adjustment\u001b[0m:\u001b[36m38\u001b[0m - \u001b[34m\u001b[1m[14400:14500] diff: 0.00014 | suspect padding slice\u001b[0m\n",
      "\u001b[32m2020-04-04 16:39:36.074\u001b[0m | \u001b[34m\u001b[1mDEBUG   \u001b[0m | \u001b[36mlorapy.packets.packet\u001b[0m:\u001b[36mget_adjustment\u001b[0m:\u001b[36m38\u001b[0m - \u001b[34m\u001b[1m[14500:14600] diff: 0.00015 | suspect padding slice\u001b[0m\n",
      "\u001b[32m2020-04-04 16:39:36.077\u001b[0m | \u001b[34m\u001b[1mDEBUG   \u001b[0m | \u001b[36mlorapy.packets.packet\u001b[0m:\u001b[36mget_adjustment\u001b[0m:\u001b[36m38\u001b[0m - \u001b[34m\u001b[1m[14600:14700] diff: 0.00016 | suspect padding slice\u001b[0m\n",
      "\u001b[32m2020-04-04 16:39:36.080\u001b[0m | \u001b[34m\u001b[1mDEBUG   \u001b[0m | \u001b[36mlorapy.packets.packet\u001b[0m:\u001b[36mget_adjustment\u001b[0m:\u001b[36m38\u001b[0m - \u001b[34m\u001b[1m[14700:14800] diff: 0.00014 | suspect padding slice\u001b[0m\n",
      "\u001b[32m2020-04-04 16:39:36.082\u001b[0m | \u001b[34m\u001b[1mDEBUG   \u001b[0m | \u001b[36mlorapy.packets.packet\u001b[0m:\u001b[36mget_adjustment\u001b[0m:\u001b[36m38\u001b[0m - \u001b[34m\u001b[1m[14800:14900] diff: 0.00016 | suspect padding slice\u001b[0m\n",
      "\u001b[32m2020-04-04 16:39:36.084\u001b[0m | \u001b[34m\u001b[1mDEBUG   \u001b[0m | \u001b[36mlorapy.packets.packet\u001b[0m:\u001b[36mget_adjustment\u001b[0m:\u001b[36m38\u001b[0m - \u001b[34m\u001b[1m[14900:15000] diff: 0.00016 | suspect padding slice\u001b[0m\n",
      "\u001b[32m2020-04-04 16:39:36.086\u001b[0m | \u001b[34m\u001b[1mDEBUG   \u001b[0m | \u001b[36mlorapy.packets.packet\u001b[0m:\u001b[36mget_adjustment\u001b[0m:\u001b[36m38\u001b[0m - \u001b[34m\u001b[1m[15000:15100] diff: 0.00015 | suspect padding slice\u001b[0m\n",
      "\u001b[32m2020-04-04 16:39:36.089\u001b[0m | \u001b[34m\u001b[1mDEBUG   \u001b[0m | \u001b[36mlorapy.packets.packet\u001b[0m:\u001b[36mget_adjustment\u001b[0m:\u001b[36m38\u001b[0m - \u001b[34m\u001b[1m[15100:15200] diff: 0.00016 | suspect padding slice\u001b[0m\n",
      "\u001b[32m2020-04-04 16:39:36.091\u001b[0m | \u001b[34m\u001b[1mDEBUG   \u001b[0m | \u001b[36mlorapy.packets.packet\u001b[0m:\u001b[36mget_adjustment\u001b[0m:\u001b[36m38\u001b[0m - \u001b[34m\u001b[1m[15200:15300] diff: 0.00015 | suspect padding slice\u001b[0m\n",
      "\u001b[32m2020-04-04 16:39:36.094\u001b[0m | \u001b[34m\u001b[1mDEBUG   \u001b[0m | \u001b[36mlorapy.packets.packet\u001b[0m:\u001b[36mget_adjustment\u001b[0m:\u001b[36m38\u001b[0m - \u001b[34m\u001b[1m[15300:15400] diff: 0.00015 | suspect padding slice\u001b[0m\n",
      "\u001b[32m2020-04-04 16:39:36.096\u001b[0m | \u001b[34m\u001b[1mDEBUG   \u001b[0m | \u001b[36mlorapy.packets.packet\u001b[0m:\u001b[36mget_adjustment\u001b[0m:\u001b[36m38\u001b[0m - \u001b[34m\u001b[1m[15400:15500] diff: 0.00015 | suspect padding slice\u001b[0m\n",
      "\u001b[32m2020-04-04 16:39:36.098\u001b[0m | \u001b[34m\u001b[1mDEBUG   \u001b[0m | \u001b[36mlorapy.packets.packet\u001b[0m:\u001b[36mget_adjustment\u001b[0m:\u001b[36m38\u001b[0m - \u001b[34m\u001b[1m[15500:15600] diff: 0.00014 | suspect padding slice\u001b[0m\n",
      "\u001b[32m2020-04-04 16:39:36.100\u001b[0m | \u001b[34m\u001b[1mDEBUG   \u001b[0m | \u001b[36mlorapy.packets.packet\u001b[0m:\u001b[36mget_adjustment\u001b[0m:\u001b[36m38\u001b[0m - \u001b[34m\u001b[1m[15600:15700] diff: 0.00012 | suspect padding slice\u001b[0m\n",
      "\u001b[32m2020-04-04 16:39:36.102\u001b[0m | \u001b[34m\u001b[1mDEBUG   \u001b[0m | \u001b[36mlorapy.packets.packet\u001b[0m:\u001b[36mget_adjustment\u001b[0m:\u001b[36m38\u001b[0m - \u001b[34m\u001b[1m[15700:15800] diff: 0.00014 | suspect padding slice\u001b[0m\n",
      "\u001b[32m2020-04-04 16:39:36.105\u001b[0m | \u001b[34m\u001b[1mDEBUG   \u001b[0m | \u001b[36mlorapy.packets.packet\u001b[0m:\u001b[36mget_adjustment\u001b[0m:\u001b[36m38\u001b[0m - \u001b[34m\u001b[1m[15800:15900] diff: 0.00015 | suspect padding slice\u001b[0m\n",
      "\u001b[32m2020-04-04 16:39:36.107\u001b[0m | \u001b[34m\u001b[1mDEBUG   \u001b[0m | \u001b[36mlorapy.packets.packet\u001b[0m:\u001b[36mget_adjustment\u001b[0m:\u001b[36m38\u001b[0m - \u001b[34m\u001b[1m[15900:16000] diff: 0.00016 | suspect padding slice\u001b[0m\n",
      "\u001b[32m2020-04-04 16:39:36.109\u001b[0m | \u001b[34m\u001b[1mDEBUG   \u001b[0m | \u001b[36mlorapy.packets.packet\u001b[0m:\u001b[36mget_adjustment\u001b[0m:\u001b[36m38\u001b[0m - \u001b[34m\u001b[1m[16000:16100] diff: 0.00015 | suspect padding slice\u001b[0m\n",
      "\u001b[32m2020-04-04 16:39:36.111\u001b[0m | \u001b[34m\u001b[1mDEBUG   \u001b[0m | \u001b[36mlorapy.packets.packet\u001b[0m:\u001b[36mget_adjustment\u001b[0m:\u001b[36m38\u001b[0m - \u001b[34m\u001b[1m[16100:16200] diff: 0.00015 | suspect padding slice\u001b[0m\n",
      "\u001b[32m2020-04-04 16:39:36.114\u001b[0m | \u001b[34m\u001b[1mDEBUG   \u001b[0m | \u001b[36mlorapy.packets.packet\u001b[0m:\u001b[36mget_adjustment\u001b[0m:\u001b[36m38\u001b[0m - \u001b[34m\u001b[1m[16200:16300] diff: 0.00015 | suspect padding slice\u001b[0m\n",
      "\u001b[32m2020-04-04 16:39:36.116\u001b[0m | \u001b[34m\u001b[1mDEBUG   \u001b[0m | \u001b[36mlorapy.packets.packet\u001b[0m:\u001b[36mget_adjustment\u001b[0m:\u001b[36m38\u001b[0m - \u001b[34m\u001b[1m[16300:16400] diff: 0.00015 | suspect padding slice\u001b[0m\n",
      "\u001b[32m2020-04-04 16:39:36.118\u001b[0m | \u001b[34m\u001b[1mDEBUG   \u001b[0m | \u001b[36mlorapy.packets.packet\u001b[0m:\u001b[36mget_adjustment\u001b[0m:\u001b[36m38\u001b[0m - \u001b[34m\u001b[1m[16400:16500] diff: 0.00013 | suspect padding slice\u001b[0m\n",
      "\u001b[32m2020-04-04 16:39:36.120\u001b[0m | \u001b[34m\u001b[1mDEBUG   \u001b[0m | \u001b[36mlorapy.packets.packet\u001b[0m:\u001b[36mget_adjustment\u001b[0m:\u001b[36m38\u001b[0m - \u001b[34m\u001b[1m[16500:16600] diff: 0.00012 | suspect padding slice\u001b[0m\n",
      "\u001b[32m2020-04-04 16:39:36.122\u001b[0m | \u001b[34m\u001b[1mDEBUG   \u001b[0m | \u001b[36mlorapy.packets.packet\u001b[0m:\u001b[36mget_adjustment\u001b[0m:\u001b[36m38\u001b[0m - \u001b[34m\u001b[1m[16600:16700] diff: 0.00010 | suspect padding slice\u001b[0m\n",
      "\u001b[32m2020-04-04 16:39:36.125\u001b[0m | \u001b[34m\u001b[1mDEBUG   \u001b[0m | \u001b[36mlorapy.packets.packet\u001b[0m:\u001b[36mget_adjustment\u001b[0m:\u001b[36m38\u001b[0m - \u001b[34m\u001b[1m[16700:16800] diff: 0.00013 | suspect padding slice\u001b[0m\n",
      "\u001b[32m2020-04-04 16:39:36.127\u001b[0m | \u001b[34m\u001b[1mDEBUG   \u001b[0m | \u001b[36mlorapy.packets.packet\u001b[0m:\u001b[36mget_adjustment\u001b[0m:\u001b[36m38\u001b[0m - \u001b[34m\u001b[1m[16800:16900] diff: 0.00013 | suspect padding slice\u001b[0m\n",
      "\u001b[32m2020-04-04 16:39:36.129\u001b[0m | \u001b[34m\u001b[1mDEBUG   \u001b[0m | \u001b[36mlorapy.packets.packet\u001b[0m:\u001b[36mget_adjustment\u001b[0m:\u001b[36m38\u001b[0m - \u001b[34m\u001b[1m[16900:17000] diff: 0.00012 | suspect padding slice\u001b[0m\n",
      "\u001b[32m2020-04-04 16:39:36.131\u001b[0m | \u001b[34m\u001b[1mDEBUG   \u001b[0m | \u001b[36mlorapy.packets.packet\u001b[0m:\u001b[36mget_adjustment\u001b[0m:\u001b[36m38\u001b[0m - \u001b[34m\u001b[1m[17000:17100] diff: 0.00012 | suspect padding slice\u001b[0m\n",
      "\u001b[32m2020-04-04 16:39:36.134\u001b[0m | \u001b[34m\u001b[1mDEBUG   \u001b[0m | \u001b[36mlorapy.packets.packet\u001b[0m:\u001b[36mget_adjustment\u001b[0m:\u001b[36m38\u001b[0m - \u001b[34m\u001b[1m[17100:17200] diff: 0.00013 | suspect padding slice\u001b[0m\n",
      "\u001b[32m2020-04-04 16:39:36.136\u001b[0m | \u001b[34m\u001b[1mDEBUG   \u001b[0m | \u001b[36mlorapy.packets.packet\u001b[0m:\u001b[36mget_adjustment\u001b[0m:\u001b[36m38\u001b[0m - \u001b[34m\u001b[1m[17200:17300] diff: 0.00012 | suspect padding slice\u001b[0m\n",
      "\u001b[32m2020-04-04 16:39:36.139\u001b[0m | \u001b[34m\u001b[1mDEBUG   \u001b[0m | \u001b[36mlorapy.packets.packet\u001b[0m:\u001b[36mget_adjustment\u001b[0m:\u001b[36m38\u001b[0m - \u001b[34m\u001b[1m[17300:17400] diff: 0.00012 | suspect padding slice\u001b[0m\n",
      "\u001b[32m2020-04-04 16:39:36.141\u001b[0m | \u001b[34m\u001b[1mDEBUG   \u001b[0m | \u001b[36mlorapy.packets.packet\u001b[0m:\u001b[36mget_adjustment\u001b[0m:\u001b[36m38\u001b[0m - \u001b[34m\u001b[1m[17400:17500] diff: 0.00013 | suspect padding slice\u001b[0m\n",
      "\u001b[32m2020-04-04 16:39:36.143\u001b[0m | \u001b[34m\u001b[1mDEBUG   \u001b[0m | \u001b[36mlorapy.packets.packet\u001b[0m:\u001b[36mget_adjustment\u001b[0m:\u001b[36m38\u001b[0m - \u001b[34m\u001b[1m[17500:17600] diff: 0.00012 | suspect padding slice\u001b[0m\n",
      "\u001b[32m2020-04-04 16:39:36.145\u001b[0m | \u001b[34m\u001b[1mDEBUG   \u001b[0m | \u001b[36mlorapy.packets.packet\u001b[0m:\u001b[36mget_adjustment\u001b[0m:\u001b[36m38\u001b[0m - \u001b[34m\u001b[1m[17600:17700] diff: 0.00013 | suspect padding slice\u001b[0m\n",
      "\u001b[32m2020-04-04 16:39:36.147\u001b[0m | \u001b[34m\u001b[1mDEBUG   \u001b[0m | \u001b[36mlorapy.packets.packet\u001b[0m:\u001b[36mget_adjustment\u001b[0m:\u001b[36m38\u001b[0m - \u001b[34m\u001b[1m[17700:17800] diff: 0.00012 | suspect padding slice\u001b[0m\n",
      "\u001b[32m2020-04-04 16:39:36.149\u001b[0m | \u001b[34m\u001b[1mDEBUG   \u001b[0m | \u001b[36mlorapy.packets.packet\u001b[0m:\u001b[36mget_adjustment\u001b[0m:\u001b[36m38\u001b[0m - \u001b[34m\u001b[1m[17800:17900] diff: 0.00012 | suspect padding slice\u001b[0m\n",
      "\u001b[32m2020-04-04 16:39:36.151\u001b[0m | \u001b[34m\u001b[1mDEBUG   \u001b[0m | \u001b[36mlorapy.packets.packet\u001b[0m:\u001b[36mget_adjustment\u001b[0m:\u001b[36m38\u001b[0m - \u001b[34m\u001b[1m[17900:18000] diff: 0.00012 | suspect padding slice\u001b[0m\n",
      "\u001b[32m2020-04-04 16:39:36.154\u001b[0m | \u001b[34m\u001b[1mDEBUG   \u001b[0m | \u001b[36mlorapy.packets.packet\u001b[0m:\u001b[36mget_adjustment\u001b[0m:\u001b[36m38\u001b[0m - \u001b[34m\u001b[1m[18000:18100] diff: 0.00013 | suspect padding slice\u001b[0m\n",
      "\u001b[32m2020-04-04 16:39:36.156\u001b[0m | \u001b[34m\u001b[1mDEBUG   \u001b[0m | \u001b[36mlorapy.packets.packet\u001b[0m:\u001b[36mget_adjustment\u001b[0m:\u001b[36m38\u001b[0m - \u001b[34m\u001b[1m[18100:18200] diff: 0.00013 | suspect padding slice\u001b[0m\n",
      "\u001b[32m2020-04-04 16:39:36.158\u001b[0m | \u001b[34m\u001b[1mDEBUG   \u001b[0m | \u001b[36mlorapy.packets.packet\u001b[0m:\u001b[36mget_adjustment\u001b[0m:\u001b[36m38\u001b[0m - \u001b[34m\u001b[1m[18200:18300] diff: 0.00012 | suspect padding slice\u001b[0m\n",
      "\u001b[32m2020-04-04 16:39:36.160\u001b[0m | \u001b[34m\u001b[1mDEBUG   \u001b[0m | \u001b[36mlorapy.packets.packet\u001b[0m:\u001b[36mget_adjustment\u001b[0m:\u001b[36m38\u001b[0m - \u001b[34m\u001b[1m[18300:18400] diff: 0.00013 | suspect padding slice\u001b[0m\n",
      "\u001b[32m2020-04-04 16:39:36.162\u001b[0m | \u001b[34m\u001b[1mDEBUG   \u001b[0m | \u001b[36mlorapy.packets.packet\u001b[0m:\u001b[36mget_adjustment\u001b[0m:\u001b[36m38\u001b[0m - \u001b[34m\u001b[1m[18400:18500] diff: 0.00013 | suspect padding slice\u001b[0m\n",
      "\u001b[32m2020-04-04 16:39:36.165\u001b[0m | \u001b[34m\u001b[1mDEBUG   \u001b[0m | \u001b[36mlorapy.packets.packet\u001b[0m:\u001b[36mget_adjustment\u001b[0m:\u001b[36m38\u001b[0m - \u001b[34m\u001b[1m[18500:18600] diff: 0.00012 | suspect padding slice\u001b[0m\n",
      "\u001b[32m2020-04-04 16:39:36.167\u001b[0m | \u001b[34m\u001b[1mDEBUG   \u001b[0m | \u001b[36mlorapy.packets.packet\u001b[0m:\u001b[36mget_adjustment\u001b[0m:\u001b[36m38\u001b[0m - \u001b[34m\u001b[1m[18600:18700] diff: 0.00012 | suspect padding slice\u001b[0m\n",
      "\u001b[32m2020-04-04 16:39:36.169\u001b[0m | \u001b[34m\u001b[1mDEBUG   \u001b[0m | \u001b[36mlorapy.packets.packet\u001b[0m:\u001b[36mget_adjustment\u001b[0m:\u001b[36m38\u001b[0m - \u001b[34m\u001b[1m[18700:18800] diff: 0.00012 | suspect padding slice\u001b[0m\n",
      "\u001b[32m2020-04-04 16:39:36.171\u001b[0m | \u001b[34m\u001b[1mDEBUG   \u001b[0m | \u001b[36mlorapy.packets.packet\u001b[0m:\u001b[36mget_adjustment\u001b[0m:\u001b[36m38\u001b[0m - \u001b[34m\u001b[1m[18800:18900] diff: 0.00012 | suspect padding slice\u001b[0m\n",
      "\u001b[32m2020-04-04 16:39:36.174\u001b[0m | \u001b[34m\u001b[1mDEBUG   \u001b[0m | \u001b[36mlorapy.packets.packet\u001b[0m:\u001b[36mget_adjustment\u001b[0m:\u001b[36m38\u001b[0m - \u001b[34m\u001b[1m[18900:19000] diff: 0.00013 | suspect padding slice\u001b[0m\n",
      "\u001b[32m2020-04-04 16:39:36.176\u001b[0m | \u001b[34m\u001b[1mDEBUG   \u001b[0m | \u001b[36mlorapy.packets.packet\u001b[0m:\u001b[36mget_adjustment\u001b[0m:\u001b[36m38\u001b[0m - \u001b[34m\u001b[1m[19000:19100] diff: 0.00012 | suspect padding slice\u001b[0m\n",
      "\u001b[32m2020-04-04 16:39:36.178\u001b[0m | \u001b[34m\u001b[1mDEBUG   \u001b[0m | \u001b[36mlorapy.packets.packet\u001b[0m:\u001b[36mget_adjustment\u001b[0m:\u001b[36m38\u001b[0m - \u001b[34m\u001b[1m[19100:19200] diff: 0.00012 | suspect padding slice\u001b[0m\n",
      "\u001b[32m2020-04-04 16:39:36.180\u001b[0m | \u001b[34m\u001b[1mDEBUG   \u001b[0m | \u001b[36mlorapy.packets.packet\u001b[0m:\u001b[36mget_adjustment\u001b[0m:\u001b[36m38\u001b[0m - \u001b[34m\u001b[1m[19200:19300] diff: 0.00012 | suspect padding slice\u001b[0m\n",
      "\u001b[32m2020-04-04 16:39:36.183\u001b[0m | \u001b[34m\u001b[1mDEBUG   \u001b[0m | \u001b[36mlorapy.packets.packet\u001b[0m:\u001b[36mget_adjustment\u001b[0m:\u001b[36m38\u001b[0m - \u001b[34m\u001b[1m[19300:19400] diff: 0.00013 | suspect padding slice\u001b[0m\n",
      "\u001b[32m2020-04-04 16:39:36.185\u001b[0m | \u001b[34m\u001b[1mDEBUG   \u001b[0m | \u001b[36mlorapy.packets.packet\u001b[0m:\u001b[36mget_adjustment\u001b[0m:\u001b[36m38\u001b[0m - \u001b[34m\u001b[1m[19400:19500] diff: 0.00012 | suspect padding slice\u001b[0m\n",
      "\u001b[32m2020-04-04 16:39:36.187\u001b[0m | \u001b[34m\u001b[1mDEBUG   \u001b[0m | \u001b[36mlorapy.packets.packet\u001b[0m:\u001b[36mget_adjustment\u001b[0m:\u001b[36m38\u001b[0m - \u001b[34m\u001b[1m[19500:19600] diff: 0.00013 | suspect padding slice\u001b[0m\n",
      "\u001b[32m2020-04-04 16:39:36.189\u001b[0m | \u001b[34m\u001b[1mDEBUG   \u001b[0m | \u001b[36mlorapy.packets.packet\u001b[0m:\u001b[36mget_adjustment\u001b[0m:\u001b[36m38\u001b[0m - \u001b[34m\u001b[1m[19600:19700] diff: 0.00013 | suspect padding slice\u001b[0m\n",
      "\u001b[32m2020-04-04 16:39:36.192\u001b[0m | \u001b[34m\u001b[1mDEBUG   \u001b[0m | \u001b[36mlorapy.packets.packet\u001b[0m:\u001b[36mget_adjustment\u001b[0m:\u001b[36m38\u001b[0m - \u001b[34m\u001b[1m[19700:19800] diff: 0.00012 | suspect padding slice\u001b[0m\n",
      "\u001b[32m2020-04-04 16:39:36.194\u001b[0m | \u001b[34m\u001b[1mDEBUG   \u001b[0m | \u001b[36mlorapy.packets.packet\u001b[0m:\u001b[36mget_adjustment\u001b[0m:\u001b[36m38\u001b[0m - \u001b[34m\u001b[1m[19800:19900] diff: 0.00013 | suspect padding slice\u001b[0m\n",
      "\u001b[32m2020-04-04 16:39:36.196\u001b[0m | \u001b[34m\u001b[1mDEBUG   \u001b[0m | \u001b[36mlorapy.packets.packet\u001b[0m:\u001b[36mget_adjustment\u001b[0m:\u001b[36m38\u001b[0m - \u001b[34m\u001b[1m[19900:20000] diff: 0.00012 | suspect padding slice\u001b[0m\n",
      "\u001b[32m2020-04-04 16:39:36.198\u001b[0m | \u001b[34m\u001b[1mDEBUG   \u001b[0m | \u001b[36mlorapy.packets.packet\u001b[0m:\u001b[36mget_adjustment\u001b[0m:\u001b[36m38\u001b[0m - \u001b[34m\u001b[1m[20000:20100] diff: 0.00012 | suspect padding slice\u001b[0m\n",
      "\u001b[32m2020-04-04 16:39:36.200\u001b[0m | \u001b[34m\u001b[1mDEBUG   \u001b[0m | \u001b[36mlorapy.packets.packet\u001b[0m:\u001b[36mget_adjustment\u001b[0m:\u001b[36m38\u001b[0m - \u001b[34m\u001b[1m[20100:20200] diff: 0.00013 | suspect padding slice\u001b[0m\n",
      "\u001b[32m2020-04-04 16:39:36.202\u001b[0m | \u001b[34m\u001b[1mDEBUG   \u001b[0m | \u001b[36mlorapy.packets.packet\u001b[0m:\u001b[36mget_adjustment\u001b[0m:\u001b[36m38\u001b[0m - \u001b[34m\u001b[1m[20200:20300] diff: 0.00013 | suspect padding slice\u001b[0m\n",
      "\u001b[32m2020-04-04 16:39:36.204\u001b[0m | \u001b[34m\u001b[1mDEBUG   \u001b[0m | \u001b[36mlorapy.packets.packet\u001b[0m:\u001b[36mget_adjustment\u001b[0m:\u001b[36m38\u001b[0m - \u001b[34m\u001b[1m[20300:20400] diff: 0.00012 | suspect padding slice\u001b[0m\n",
      "\u001b[32m2020-04-04 16:39:36.206\u001b[0m | \u001b[34m\u001b[1mDEBUG   \u001b[0m | \u001b[36mlorapy.packets.packet\u001b[0m:\u001b[36mget_adjustment\u001b[0m:\u001b[36m38\u001b[0m - \u001b[34m\u001b[1m[20400:20500] diff: 0.00012 | suspect padding slice\u001b[0m\n",
      "\u001b[32m2020-04-04 16:39:36.208\u001b[0m | \u001b[34m\u001b[1mDEBUG   \u001b[0m | \u001b[36mlorapy.packets.packet\u001b[0m:\u001b[36mget_adjustment\u001b[0m:\u001b[36m38\u001b[0m - \u001b[34m\u001b[1m[20500:20600] diff: 0.00012 | suspect padding slice\u001b[0m\n",
      "\u001b[32m2020-04-04 16:39:36.211\u001b[0m | \u001b[34m\u001b[1mDEBUG   \u001b[0m | \u001b[36mlorapy.packets.packet\u001b[0m:\u001b[36mget_adjustment\u001b[0m:\u001b[36m38\u001b[0m - \u001b[34m\u001b[1m[20600:20700] diff: 0.00013 | suspect padding slice\u001b[0m\n",
      "\u001b[32m2020-04-04 16:39:36.213\u001b[0m | \u001b[34m\u001b[1mDEBUG   \u001b[0m | \u001b[36mlorapy.packets.packet\u001b[0m:\u001b[36mget_adjustment\u001b[0m:\u001b[36m38\u001b[0m - \u001b[34m\u001b[1m[20700:20800] diff: 0.00012 | suspect padding slice\u001b[0m\n",
      "\u001b[32m2020-04-04 16:39:36.215\u001b[0m | \u001b[34m\u001b[1mDEBUG   \u001b[0m | \u001b[36mlorapy.packets.packet\u001b[0m:\u001b[36mget_adjustment\u001b[0m:\u001b[36m38\u001b[0m - \u001b[34m\u001b[1m[20800:20900] diff: 0.00012 | suspect padding slice\u001b[0m\n",
      "\u001b[32m2020-04-04 16:39:36.217\u001b[0m | \u001b[34m\u001b[1mDEBUG   \u001b[0m | \u001b[36mlorapy.packets.packet\u001b[0m:\u001b[36mget_adjustment\u001b[0m:\u001b[36m38\u001b[0m - \u001b[34m\u001b[1m[20900:21000] diff: 0.00012 | suspect padding slice\u001b[0m\n",
      "\u001b[32m2020-04-04 16:39:36.219\u001b[0m | \u001b[34m\u001b[1mDEBUG   \u001b[0m | \u001b[36mlorapy.packets.packet\u001b[0m:\u001b[36mget_adjustment\u001b[0m:\u001b[36m38\u001b[0m - \u001b[34m\u001b[1m[21000:21100] diff: 0.00012 | suspect padding slice\u001b[0m\n",
      "\u001b[32m2020-04-04 16:39:36.221\u001b[0m | \u001b[34m\u001b[1mDEBUG   \u001b[0m | \u001b[36mlorapy.packets.packet\u001b[0m:\u001b[36mget_adjustment\u001b[0m:\u001b[36m38\u001b[0m - \u001b[34m\u001b[1m[21100:21200] diff: 0.00012 | suspect padding slice\u001b[0m\n",
      "\u001b[32m2020-04-04 16:39:36.223\u001b[0m | \u001b[34m\u001b[1mDEBUG   \u001b[0m | \u001b[36mlorapy.packets.packet\u001b[0m:\u001b[36mget_adjustment\u001b[0m:\u001b[36m38\u001b[0m - \u001b[34m\u001b[1m[21200:21300] diff: 0.00012 | suspect padding slice\u001b[0m\n",
      "\u001b[32m2020-04-04 16:39:36.226\u001b[0m | \u001b[34m\u001b[1mDEBUG   \u001b[0m | \u001b[36mlorapy.packets.packet\u001b[0m:\u001b[36mget_adjustment\u001b[0m:\u001b[36m38\u001b[0m - \u001b[34m\u001b[1m[21300:21400] diff: 0.00013 | suspect padding slice\u001b[0m\n",
      "\u001b[32m2020-04-04 16:39:36.228\u001b[0m | \u001b[34m\u001b[1mDEBUG   \u001b[0m | \u001b[36mlorapy.packets.packet\u001b[0m:\u001b[36mget_adjustment\u001b[0m:\u001b[36m38\u001b[0m - \u001b[34m\u001b[1m[21400:21500] diff: 0.00013 | suspect padding slice\u001b[0m\n",
      "\u001b[32m2020-04-04 16:39:36.230\u001b[0m | \u001b[34m\u001b[1mDEBUG   \u001b[0m | \u001b[36mlorapy.packets.packet\u001b[0m:\u001b[36mget_adjustment\u001b[0m:\u001b[36m38\u001b[0m - \u001b[34m\u001b[1m[21500:21600] diff: 0.00012 | suspect padding slice\u001b[0m\n",
      "\u001b[32m2020-04-04 16:39:36.232\u001b[0m | \u001b[34m\u001b[1mDEBUG   \u001b[0m | \u001b[36mlorapy.packets.packet\u001b[0m:\u001b[36mget_adjustment\u001b[0m:\u001b[36m38\u001b[0m - \u001b[34m\u001b[1m[21600:21700] diff: 0.00013 | suspect padding slice\u001b[0m\n",
      "\u001b[32m2020-04-04 16:39:36.234\u001b[0m | \u001b[34m\u001b[1mDEBUG   \u001b[0m | \u001b[36mlorapy.packets.packet\u001b[0m:\u001b[36mget_adjustment\u001b[0m:\u001b[36m38\u001b[0m - \u001b[34m\u001b[1m[21700:21800] diff: 0.00012 | suspect padding slice\u001b[0m\n",
      "\u001b[32m2020-04-04 16:39:36.237\u001b[0m | \u001b[34m\u001b[1mDEBUG   \u001b[0m | \u001b[36mlorapy.packets.packet\u001b[0m:\u001b[36mget_adjustment\u001b[0m:\u001b[36m38\u001b[0m - \u001b[34m\u001b[1m[21800:21900] diff: 0.00013 | suspect padding slice\u001b[0m\n",
      "\u001b[32m2020-04-04 16:39:36.239\u001b[0m | \u001b[34m\u001b[1mDEBUG   \u001b[0m | \u001b[36mlorapy.packets.packet\u001b[0m:\u001b[36mget_adjustment\u001b[0m:\u001b[36m38\u001b[0m - \u001b[34m\u001b[1m[21900:22000] diff: 0.00011 | suspect padding slice\u001b[0m\n",
      "\u001b[32m2020-04-04 16:39:36.241\u001b[0m | \u001b[34m\u001b[1mDEBUG   \u001b[0m | \u001b[36mlorapy.packets.packet\u001b[0m:\u001b[36mget_adjustment\u001b[0m:\u001b[36m38\u001b[0m - \u001b[34m\u001b[1m[22000:22100] diff: 0.00010 | suspect padding slice\u001b[0m\n",
      "\u001b[32m2020-04-04 16:39:36.243\u001b[0m | \u001b[34m\u001b[1mDEBUG   \u001b[0m | \u001b[36mlorapy.packets.packet\u001b[0m:\u001b[36mget_adjustment\u001b[0m:\u001b[36m38\u001b[0m - \u001b[34m\u001b[1m[22100:22200] diff: 0.00012 | suspect padding slice\u001b[0m\n",
      "\u001b[32m2020-04-04 16:39:36.245\u001b[0m | \u001b[34m\u001b[1mDEBUG   \u001b[0m | \u001b[36mlorapy.packets.packet\u001b[0m:\u001b[36mget_adjustment\u001b[0m:\u001b[36m38\u001b[0m - \u001b[34m\u001b[1m[22200:22300] diff: 0.00013 | suspect padding slice\u001b[0m\n",
      "\u001b[32m2020-04-04 16:39:36.247\u001b[0m | \u001b[34m\u001b[1mDEBUG   \u001b[0m | \u001b[36mlorapy.packets.packet\u001b[0m:\u001b[36mget_adjustment\u001b[0m:\u001b[36m38\u001b[0m - \u001b[34m\u001b[1m[22300:22400] diff: 0.00011 | suspect padding slice\u001b[0m\n",
      "\u001b[32m2020-04-04 16:39:36.249\u001b[0m | \u001b[34m\u001b[1mDEBUG   \u001b[0m | \u001b[36mlorapy.packets.packet\u001b[0m:\u001b[36mget_adjustment\u001b[0m:\u001b[36m38\u001b[0m - \u001b[34m\u001b[1m[22400:22500] diff: 0.00012 | suspect padding slice\u001b[0m\n",
      "\u001b[32m2020-04-04 16:39:36.251\u001b[0m | \u001b[34m\u001b[1mDEBUG   \u001b[0m | \u001b[36mlorapy.packets.packet\u001b[0m:\u001b[36mget_adjustment\u001b[0m:\u001b[36m38\u001b[0m - \u001b[34m\u001b[1m[22500:22600] diff: 0.00012 | suspect padding slice\u001b[0m\n",
      "\u001b[32m2020-04-04 16:39:36.253\u001b[0m | \u001b[1mINFO    \u001b[0m | \u001b[36mlorapy.packets.packet\u001b[0m:\u001b[36mget_adjustment\u001b[0m:\u001b[36m45\u001b[0m - \u001b[1mgot final adjustment: 22600\u001b[0m\n"
     ]
    },
    {
     "data": {
      "text/plain": [
       "22600"
      ]
     },
     "execution_count": 56,
     "metadata": {},
     "output_type": "execute_result"
    }
   ],
   "source": [
    "adjustment = packet.get_adjustment(look_ahead=100, threshold=0.5)\n",
    "adjustment"
   ]
  },
  {
   "cell_type": "code",
   "execution_count": 53,
   "metadata": {},
   "outputs": [
    {
     "data": {
      "text/plain": [
       "495616"
      ]
     },
     "execution_count": 53,
     "metadata": {},
     "output_type": "execute_result"
    }
   ],
   "source": [
    "packet.size"
   ]
  },
  {
   "cell_type": "code",
   "execution_count": 55,
   "metadata": {},
   "outputs": [
    {
     "data": {
      "text/plain": [
       "[<matplotlib.lines.Line2D at 0x181e8a4d0>]"
      ]
     },
     "execution_count": 55,
     "metadata": {},
     "output_type": "execute_result"
    },
    {
     "data": {
      "image/png": "[encoded data removed]",
      "text/plain": [
       "<Figure size 432x288 with 1 Axes>"
      ]
     },
     "metadata": {
      "needs_background": "dark"
     },
     "output_type": "display_data"
    }
   ],
   "source": [
    "plt.plot(packet.real_abs_data[22600:])"
   ]
  },
  {
   "cell_type": "code",
   "execution_count": null,
   "metadata": {},
   "outputs": [],
   "source": []
  },
  {
   "cell_type": "code",
   "execution_count": null,
   "metadata": {},
   "outputs": [],
   "source": []
  },
  {
   "cell_type": "code",
   "execution_count": null,
   "metadata": {},
   "outputs": [],
   "source": []
  }
 ],
 "metadata": {
  "kernelspec": {
   "display_name": "Python 3",
   "language": "python",
   "name": "python3"
  },
  "language_info": {
   "codemirror_mode": {
    "name": "ipython",
    "version": 3
   },
   "file_extension": ".py",
   "mimetype": "text/x-python",
   "name": "python",
   "nbconvert_exporter": "python",
   "pygments_lexer": "ipython3",
   "version": "3.7.6"
  }
 },
 "nbformat": 4,
 "nbformat_minor": 4
}
