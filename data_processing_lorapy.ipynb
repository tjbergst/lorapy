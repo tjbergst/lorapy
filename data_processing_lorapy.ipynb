{
 "cells": [
  {
   "cell_type": "markdown",
   "metadata": {},
   "source": [
    "# lorapy data processing"
   ]
  },
  {
   "cell_type": "code",
   "execution_count": 1,
   "metadata": {},
   "outputs": [],
   "source": [
    "%load_ext autoreload\n",
    "%autoreload 2\n",
    "\n",
    "import pathlib\n",
    "\n",
    "import os, sys\n",
    "from loguru import logger\n",
    "logger.remove(None)\n",
    "logger.add(sys.stdout, colorize=True)\n",
    "\n",
    "import numpy as np\n",
    "\n",
    "import matplotlib.pyplot as plt \n",
    "plt.style.use('dark_background')\n",
    "%matplotlib inline"
   ]
  },
  {
   "cell_type": "code",
   "execution_count": 2,
   "metadata": {
    "scrolled": true
   },
   "outputs": [],
   "source": [
    "# from lorapy.io.load import DatLoader\n",
    "import lorapy"
   ]
  },
  {
   "cell_type": "markdown",
   "metadata": {},
   "source": [
    "## setup "
   ]
  },
  {
   "cell_type": "code",
   "execution_count": 3,
   "metadata": {},
   "outputs": [],
   "source": [
    "DATA_DIR = pathlib.Path('/Users/trevor/Work/1-projects/lora-processing/data/lora-benchtop-recording')"
   ]
  },
  {
   "cell_type": "markdown",
   "metadata": {},
   "source": [
    "## utils"
   ]
  },
  {
   "cell_type": "code",
   "execution_count": 4,
   "metadata": {},
   "outputs": [],
   "source": [
    "import random\n",
    "rand = lambda mx: random.randint(0, mx)"
   ]
  },
  {
   "cell_type": "markdown",
   "metadata": {},
   "source": [
    "# load"
   ]
  },
  {
   "cell_type": "code",
   "execution_count": 5,
   "metadata": {
    "scrolled": true
   },
   "outputs": [
    {
     "name": "stdout",
     "output_type": "stream",
     "text": [
      "\u001b[32m2020-04-05 12:54:38.519\u001b[0m | \u001b[34m\u001b[1mDEBUG   \u001b[0m | \u001b[36mlorapy.io.load\u001b[0m:\u001b[36m_process_data_dir\u001b[0m:\u001b[36m68\u001b[0m - \u001b[34m\u001b[1mset datafile directory: /Users/trevor/Work/1-projects/lora-processing/data/lora-benchtop-recording\u001b[0m\n",
      "\u001b[32m2020-04-05 12:54:38.525\u001b[0m | \u001b[1mINFO    \u001b[0m | \u001b[36mlorapy.io.load\u001b[0m:\u001b[36m_process_data_dir\u001b[0m:\u001b[36m74\u001b[0m - \u001b[1mfound 110 datafile file(s)\u001b[0m\n"
     ]
    },
    {
     "data": {
      "text/plain": [
       "[DatFile('lora_BW2_SF10_915MHz_20ksps_Att100_v0.dat'),\n",
       " DatFile('lora_BW2_SF12_915MHz_20ksps_Att80_v0.dat'),\n",
       " DatFile('lora_BW2_SF10_915MHz_20ksps_Att0_v0.dat'),\n",
       " DatFile('lora_BW2_SF10_915MHz_20ksps_Att40_v0.dat'),\n",
       " DatFile('lora_BW2_SF11_915MHz_20ksps_Att60_v0.dat'),\n",
       " DatFile('lora_BW2_SF11_915MHz_20ksps_Att120_v0.dat'),\n",
       " DatFile('lora_BW2_SF12_915MHz_20ksps_Att20_v0.dat'),\n",
       " DatFile('lora_BW2_SF11_915MHz_20ksps_Att40_v0.dat'),\n",
       " DatFile('lora_BW2_SF10_915MHz_20ksps_Att60_v0.dat'),\n",
       " DatFile('lora_BW2_SF12_915MHz_20ksps_Att0_v0.dat'),\n",
       " DatFile('lora_BW2_SF11_915MHz_20ksps_Att100_v0.dat'),\n",
       " DatFile('lora_BW2_SF10_915MHz_20ksps_Att120_v0.dat'),\n",
       " DatFile('lora_BW2_SF10_915MHz_20ksps_Att20_v0.dat'),\n",
       " DatFile('lora_BW2_SF12_915MHz_20ksps_Att60_v0.dat'),\n",
       " DatFile('lora_BW2_SF11_915MHz_20ksps_Att140_v0.dat'),\n",
       " DatFile('lora_BW2_SF12_915MHz_20ksps_Att100_v0.dat'),\n",
       " DatFile('lora_BW2_SF11_915MHz_20ksps_Att80_v0.dat'),\n",
       " DatFile('lora_BW2_SF10_915MHz_20ksps_Att80_v0.dat'),\n",
       " DatFile('lora_BW2_SF12_915MHz_20ksps_Att120_v0.dat'),\n",
       " DatFile('lora_BW2_SF10_915MHz_20ksps_Att140_v0.dat'),\n",
       " DatFile('lora_BW2_SF11_915MHz_20ksps_Att20_v0.dat'),\n",
       " DatFile('lora_BW2_SF12_915MHz_20ksps_Att40_v0.dat'),\n",
       " DatFile('lora_BW2_SF11_915MHz_20ksps_Att0_v0.dat'),\n",
       " DatFile('lora_BW8_SF10_915MHz_20ksps_Att0_v0.dat'),\n",
       " DatFile('lora_BW8_SF10_915MHz_20ksps_Att20_v0.dat'),\n",
       " DatFile('lora_BW8_SF12_915MHz_20ksps_Att60_v0.dat'),\n",
       " DatFile('lora_BW8_SF12_915MHz_20ksps_Att120_v0.dat'),\n",
       " DatFile('lora_BW8_SF11_915MHz_20ksps_Att80_v0.dat'),\n",
       " DatFile('lora_BW8_SF12_915MHz_20ksps_Att100_v0.dat'),\n",
       " DatFile('lora_BW8_SF12_915MHz_20ksps_Att0_v0.dat'),\n",
       " DatFile('lora_BW8_SF10_915MHz_20ksps_Att80_v0.dat'),\n",
       " DatFile('lora_BW8_SF11_915MHz_20ksps_Att20_v0.dat'),\n",
       " DatFile('lora_BW8_SF12_915MHz_20ksps_Att40_v0.dat'),\n",
       " DatFile('lora_BW8_SF10_915MHz_20ksps_Att120_v0.dat'),\n",
       " DatFile('lora_BW8_SF12_915MHz_20ksps_Att80_v0.dat'),\n",
       " DatFile('lora_BW8_SF11_915MHz_20ksps_Att60_v0.dat'),\n",
       " DatFile('lora_BW8_SF10_915MHz_20ksps_Att40_v0.dat'),\n",
       " DatFile('lora_BW8_SF11_915MHz_20ksps_Att100_v0.dat'),\n",
       " DatFile('lora_BW8_SF12_915MHz_20ksps_Att20_v0.dat'),\n",
       " DatFile('lora_BW8_SF10_915MHz_20ksps_Att60_v0.dat'),\n",
       " DatFile('lora_BW8_SF11_915MHz_20ksps_Att40_v0.dat'),\n",
       " DatFile('lora_BW8_SF11_915MHz_20ksps_Att120_v0.dat'),\n",
       " DatFile('lora_BW8_SF11_915MHz_20ksps_Att0_v0.dat'),\n",
       " DatFile('lora_BW8_SF10_915MHz_20ksps_Att100_v0.dat'),\n",
       " DatFile('lora_BW1_SF10_915MHz_20ksps_Att120_v0.dat'),\n",
       " DatFile('lora_BW1_SF12_915MHz_20ksps_Att140_v0.dat'),\n",
       " DatFile('lora_BW1_SF10_915MHz_20ksps_Att60_v0.dat'),\n",
       " DatFile('lora_BW1_SF11_915MHz_20ksps_Att40_v0.dat'),\n",
       " DatFile('lora_BW1_SF11_915MHz_20ksps_Att0_v0.dat'),\n",
       " DatFile('lora_BW1_SF12_915MHz_20ksps_Att20_v0.dat'),\n",
       " DatFile('lora_BW1_SF11_915MHz_20ksps_Att100_v0.dat'),\n",
       " DatFile('lora_BW1_SF11_915MHz_20ksps_Att60_v0.dat'),\n",
       " DatFile('lora_BW1_SF10_915MHz_20ksps_Att40_v0.dat'),\n",
       " DatFile('lora_BW1_SF11_915MHz_20ksps_Att120_v0.dat'),\n",
       " DatFile('lora_BW1_SF10_915MHz_20ksps_Att100_v0.dat'),\n",
       " DatFile('lora_BW1_SF12_915MHz_20ksps_Att80_v0.dat'),\n",
       " DatFile('lora_BW1_SF12_915MHz_20ksps_Att40_v0.dat'),\n",
       " DatFile('lora_BW1_SF11_915MHz_20ksps_Att20_v0.dat'),\n",
       " DatFile('lora_BW1_SF12_915MHz_20ksps_Att0_v0.dat'),\n",
       " DatFile('lora_BW1_SF10_915MHz_20ksps_Att80_v0.dat'),\n",
       " DatFile('lora_BW1_SF12_915MHz_20ksps_Att120_v0.dat'),\n",
       " DatFile('lora_BW1_SF10_915MHz_20ksps_Att140_v0.dat'),\n",
       " DatFile('lora_BW1_SF11_915MHz_20ksps_Att80_v0.dat'),\n",
       " DatFile('lora_BW1_SF12_915MHz_20ksps_Att100_v0.dat'),\n",
       " DatFile('lora_BW1_SF10_915MHz_20ksps_Att0_v0.dat'),\n",
       " DatFile('lora_BW1_SF12_915MHz_20ksps_Att60_v0.dat'),\n",
       " DatFile('lora_BW1_SF10_915MHz_20ksps_Att20_v0.dat'),\n",
       " DatFile('lora_BW1_SF11_915MHz_20ksps_Att140_v0.dat'),\n",
       " DatFile('lora_BW7_SF12_915MHz_20ksps_Att100_v0.dat'),\n",
       " DatFile('lora_BW7_SF12_915MHz_20ksps_Att80_v0.dat'),\n",
       " DatFile('lora_BW7_SF11_915MHz_20ksps_Att0_v0.dat'),\n",
       " DatFile('lora_BW7_SF10_915MHz_20ksps_Att40_v0.dat'),\n",
       " DatFile('lora_BW7_SF11_915MHz_20ksps_Att60_v0.dat'),\n",
       " DatFile('lora_BW7_SF12_915MHz_20ksps_Att20_v0.dat'),\n",
       " DatFile('lora_BW7_SF11_915MHz_20ksps_Att40_v0.dat'),\n",
       " DatFile('lora_BW7_SF10_915MHz_20ksps_Att60_v0.dat'),\n",
       " DatFile('lora_BW7_SF12_915MHz_20ksps_Att120_v0.dat'),\n",
       " DatFile('lora_BW7_SF10_915MHz_20ksps_Att20_v0.dat'),\n",
       " DatFile('lora_BW7_SF12_915MHz_20ksps_Att60_v0.dat'),\n",
       " DatFile('lora_BW7_SF11_915MHz_20ksps_Att120_v0.dat'),\n",
       " DatFile('lora_BW7_SF12_915MHz_20ksps_Att0_v0.dat'),\n",
       " DatFile('lora_BW7_SF10_915MHz_20ksps_Att100_v0.dat'),\n",
       " DatFile('lora_BW7_SF11_915MHz_20ksps_Att80_v0.dat'),\n",
       " DatFile('lora_BW7_SF10_915MHz_20ksps_Att120_v0.dat'),\n",
       " DatFile('lora_BW7_SF10_915MHz_20ksps_Att80_v0.dat'),\n",
       " DatFile('lora_BW7_SF10_915MHz_20ksps_Att0_v0.dat'),\n",
       " DatFile('lora_BW7_SF11_915MHz_20ksps_Att20_v0.dat'),\n",
       " DatFile('lora_BW7_SF12_915MHz_20ksps_Att40_v0.dat'),\n",
       " DatFile('lora_BW7_SF11_915MHz_20ksps_Att100_v0.dat'),\n",
       " DatFile('lora_BW9_SF10_915MHz_20ksps_Att60_v0.dat'),\n",
       " DatFile('lora_BW9_SF11_915MHz_20ksps_Att40_v0.dat'),\n",
       " DatFile('lora_BW9_SF11_915MHz_20ksps_Att100_v0.dat'),\n",
       " DatFile('lora_BW9_SF12_915MHz_20ksps_Att20_v0.dat'),\n",
       " DatFile('lora_BW9_SF12_915MHz_20ksps_Att0_v0.dat'),\n",
       " DatFile('lora_BW9_SF10_915MHz_20ksps_Att120_v0.dat'),\n",
       " DatFile('lora_BW9_SF12_915MHz_20ksps_Att80_v0.dat'),\n",
       " DatFile('lora_BW9_SF10_915MHz_20ksps_Att0_v0.dat'),\n",
       " DatFile('lora_BW9_SF10_915MHz_20ksps_Att100_v0.dat'),\n",
       " DatFile('lora_BW9_SF11_915MHz_20ksps_Att120_v0.dat'),\n",
       " DatFile('lora_BW9_SF11_915MHz_20ksps_Att60_v0.dat'),\n",
       " DatFile('lora_BW9_SF10_915MHz_20ksps_Att40_v0.dat'),\n",
       " DatFile('lora_BW9_SF10_915MHz_20ksps_Att80_v0.dat'),\n",
       " DatFile('lora_BW9_SF12_915MHz_20ksps_Att120_v0.dat'),\n",
       " DatFile('lora_BW9_SF12_915MHz_20ksps_Att40_v0.dat'),\n",
       " DatFile('lora_BW9_SF11_915MHz_20ksps_Att0_v0.dat'),\n",
       " DatFile('lora_BW9_SF11_915MHz_20ksps_Att20_v0.dat'),\n",
       " DatFile('lora_BW9_SF12_915MHz_20ksps_Att60_v0.dat'),\n",
       " DatFile('lora_BW9_SF10_915MHz_20ksps_Att20_v0.dat'),\n",
       " DatFile('lora_BW9_SF11_915MHz_20ksps_Att80_v0.dat'),\n",
       " DatFile('lora_BW9_SF12_915MHz_20ksps_Att100_v0.dat')]"
      ]
     },
     "execution_count": 5,
     "metadata": {},
     "output_type": "execute_result"
    }
   ],
   "source": [
    "loader = lorapy.load(DATA_DIR, autoload=True)\n",
    "loader.filelist"
   ]
  },
  {
   "cell_type": "code",
   "execution_count": 6,
   "metadata": {},
   "outputs": [
    {
     "data": {
      "text/plain": [
       "DatFile('lora_BW2_SF10_915MHz_20ksps_Att100_v0.dat')"
      ]
     },
     "execution_count": 6,
     "metadata": {},
     "output_type": "execute_result"
    }
   ],
   "source": [
    "for file in loader.filelist:\n",
    "    break\n",
    "    \n",
    "file"
   ]
  },
  {
   "cell_type": "code",
   "execution_count": 7,
   "metadata": {},
   "outputs": [
    {
     "data": {
      "text/plain": [
       "DatFile('lora_BW9_SF11_915MHz_20ksps_Att20_v0.dat')"
      ]
     },
     "execution_count": 7,
     "metadata": {},
     "output_type": "execute_result"
    }
   ],
   "source": [
    "tar_filename = 'lora_BW9_SF11_915MHz_20ksps_Att20_v0.dat'\n",
    "\n",
    "file = [file for file in loader.filelist if file.name == tar_filename][0]\n",
    "file"
   ]
  },
  {
   "cell_type": "markdown",
   "metadata": {},
   "source": [
    "# process"
   ]
  },
  {
   "cell_type": "markdown",
   "metadata": {},
   "source": [
    "## convert "
   ]
  },
  {
   "cell_type": "code",
   "execution_count": 8,
   "metadata": {},
   "outputs": [
    {
     "name": "stdout",
     "output_type": "stream",
     "text": [
      "\u001b[32m2020-04-05 12:54:38.643\u001b[0m | \u001b[34m\u001b[1mDEBUG   \u001b[0m | \u001b[36mlorapy.datafile.encoding\u001b[0m:\u001b[36mcompute_params\u001b[0m:\u001b[36m15\u001b[0m - \u001b[34m\u001b[1mcomputed samples per symbol: 82 and packet length: 2480\u001b[0m\n",
      "\u001b[32m2020-04-05 12:54:38.712\u001b[0m | \u001b[1mINFO    \u001b[0m | \u001b[36mlorapy.datafile.file\u001b[0m:\u001b[36mload\u001b[0m:\u001b[36m31\u001b[0m - \u001b[1mloaded 15975424 samples from file\u001b[0m\n"
     ]
    },
    {
     "data": {
      "text/plain": [
       "LoraSignal(length=15975424)"
      ]
     },
     "execution_count": 8,
     "metadata": {},
     "output_type": "execute_result"
    }
   ],
   "source": [
    "signal = file.to_signal()\n",
    "signal"
   ]
  },
  {
   "cell_type": "code",
   "execution_count": 11,
   "metadata": {},
   "outputs": [
    {
     "data": {
      "text/plain": [
       "BW: 0 | SF: 0 | Att: 0 | samples per symbol: 0 | packet length: 0"
      ]
     },
     "execution_count": 11,
     "metadata": {},
     "output_type": "execute_result"
    }
   ],
   "source": [
    "signal.stats"
   ]
  },
  {
   "cell_type": "markdown",
   "metadata": {},
   "source": [
    "## extract packets"
   ]
  },
  {
   "cell_type": "code",
   "execution_count": 10,
   "metadata": {
    "scrolled": true
   },
   "outputs": [
    {
     "name": "stdout",
     "output_type": "stream",
     "text": [
      "\u001b[32m2020-04-05 12:54:38.786\u001b[0m | \u001b[1mINFO    \u001b[0m | \u001b[36mlorapy.signals.signal\u001b[0m:\u001b[36m_process_signal\u001b[0m:\u001b[36m118\u001b[0m - \u001b[1mselected \"slide-mean\" processing method\u001b[0m\n",
      "\u001b[32m2020-04-05 12:54:38.835\u001b[0m | \u001b[1mINFO    \u001b[0m | \u001b[36mlorapy.signals.processing.sliding_mean\u001b[0m:\u001b[36m_find_all_mindices\u001b[0m:\u001b[36m55\u001b[0m - \u001b[1mscanning signal for padding locations..\u001b[0m\n",
      "\u001b[32m2020-04-05 12:54:38.836\u001b[0m | \u001b[34m\u001b[1mDEBUG   \u001b[0m | \u001b[36mlorapy.signals.processing.sliding_mean\u001b[0m:\u001b[36m_find_all_mindices\u001b[0m:\u001b[36m59\u001b[0m - \u001b[34m\u001b[1miteration 0\u001b[0m\n"
     ]
    },
    {
     "ename": "ValueError",
     "evalue": "attempt to get argmin of an empty sequence",
     "output_type": "error",
     "traceback": [
      "\u001b[0;31m---------------------------------------------------------------------------\u001b[0m",
      "\u001b[0;31mValueError\u001b[0m                                Traceback (most recent call last)",
      "\u001b[0;32m<ipython-input-10-63a4ebc3dad3>\u001b[0m in \u001b[0;36m<module>\u001b[0;34m\u001b[0m\n\u001b[0;32m----> 1\u001b[0;31m \u001b[0msignal\u001b[0m\u001b[0;34m.\u001b[0m\u001b[0mextract_packets\u001b[0m\u001b[0;34m(\u001b[0m\u001b[0mmethod\u001b[0m\u001b[0;34m=\u001b[0m\u001b[0;34m'slide-mean'\u001b[0m\u001b[0;34m,\u001b[0m \u001b[0mauto_adj\u001b[0m\u001b[0;34m=\u001b[0m\u001b[0;32mFalse\u001b[0m\u001b[0;34m)\u001b[0m\u001b[0;34m\u001b[0m\u001b[0;34m\u001b[0m\u001b[0m\n\u001b[0m",
      "\u001b[0;32m~/Work/1-projects/lora-processing/lorapy/signals/signal.py\u001b[0m in \u001b[0;36mextract_packets\u001b[0;34m(self, method, auto_adj, **kwargs)\u001b[0m\n\u001b[1;32m     65\u001b[0m         \"\"\"\n\u001b[1;32m     66\u001b[0m \u001b[0;34m\u001b[0m\u001b[0m\n\u001b[0;32m---> 67\u001b[0;31m         \u001b[0mself\u001b[0m\u001b[0;34m.\u001b[0m\u001b[0mendpoint_list\u001b[0m \u001b[0;34m=\u001b[0m \u001b[0mself\u001b[0m\u001b[0;34m.\u001b[0m\u001b[0m_process_signal\u001b[0m\u001b[0;34m(\u001b[0m\u001b[0mmethod\u001b[0m\u001b[0;34m,\u001b[0m \u001b[0;34m**\u001b[0m\u001b[0mkwargs\u001b[0m\u001b[0;34m)\u001b[0m\u001b[0;34m\u001b[0m\u001b[0;34m\u001b[0m\u001b[0m\n\u001b[0m\u001b[1;32m     68\u001b[0m         \u001b[0mself\u001b[0m\u001b[0;34m.\u001b[0m\u001b[0m_slice_and_load\u001b[0m\u001b[0;34m(\u001b[0m\u001b[0mauto_adj\u001b[0m\u001b[0;34m)\u001b[0m\u001b[0;34m\u001b[0m\u001b[0;34m\u001b[0m\u001b[0m\n\u001b[1;32m     69\u001b[0m \u001b[0;34m\u001b[0m\u001b[0m\n",
      "\u001b[0;32m~/Work/1-projects/lora-processing/lorapy/signals/signal.py\u001b[0m in \u001b[0;36m_process_signal\u001b[0;34m(self, method, **kwargs)\u001b[0m\n\u001b[1;32m    118\u001b[0m         \u001b[0mlogger\u001b[0m\u001b[0;34m.\u001b[0m\u001b[0minfo\u001b[0m\u001b[0;34m(\u001b[0m\u001b[0;34mf'selected \"{method}\" processing method'\u001b[0m\u001b[0;34m)\u001b[0m\u001b[0;34m\u001b[0m\u001b[0;34m\u001b[0m\u001b[0m\n\u001b[1;32m    119\u001b[0m \u001b[0;34m\u001b[0m\u001b[0m\n\u001b[0;32m--> 120\u001b[0;31m         \u001b[0;32mreturn\u001b[0m \u001b[0mself\u001b[0m\u001b[0;34m.\u001b[0m\u001b[0m_process_dict\u001b[0m\u001b[0;34m[\u001b[0m\u001b[0mmethod\u001b[0m\u001b[0;34m]\u001b[0m\u001b[0;34m(\u001b[0m\u001b[0;34m**\u001b[0m\u001b[0mkwargs\u001b[0m\u001b[0;34m)\u001b[0m\u001b[0;34m\u001b[0m\u001b[0;34m\u001b[0m\u001b[0m\n\u001b[0m\u001b[1;32m    121\u001b[0m \u001b[0;34m\u001b[0m\u001b[0m\n\u001b[1;32m    122\u001b[0m \u001b[0;34m\u001b[0m\u001b[0m\n",
      "\u001b[0;32m~/Work/1-projects/lora-processing/lorapy/signals/signal.py\u001b[0m in \u001b[0;36m_process_sliding_mean\u001b[0;34m(self, **kwargs)\u001b[0m\n\u001b[1;32m    125\u001b[0m             \u001b[0mkwargs\u001b[0m\u001b[0;34m:\u001b[0m \u001b[0moverlap\u001b[0m\u001b[0;34m:\u001b[0m \u001b[0mfloat\u001b[0m\u001b[0;34m=\u001b[0m\u001b[0;36m0.5\u001b[0m\u001b[0;34m\u001b[0m\u001b[0;34m\u001b[0m\u001b[0m\n\u001b[1;32m    126\u001b[0m         \"\"\"\n\u001b[0;32m--> 127\u001b[0;31m         \u001b[0mendpoints\u001b[0m \u001b[0;34m=\u001b[0m \u001b[0mfind_all_mindices\u001b[0m\u001b[0;34m(\u001b[0m\u001b[0mself\u001b[0m\u001b[0;34m,\u001b[0m \u001b[0;34m**\u001b[0m\u001b[0mkwargs\u001b[0m\u001b[0;34m)\u001b[0m\u001b[0;34m\u001b[0m\u001b[0;34m\u001b[0m\u001b[0m\n\u001b[0m\u001b[1;32m    128\u001b[0m         \u001b[0;32mreturn\u001b[0m \u001b[0mendpoints\u001b[0m\u001b[0;34m\u001b[0m\u001b[0;34m\u001b[0m\u001b[0m\n\u001b[1;32m    129\u001b[0m \u001b[0;34m\u001b[0m\u001b[0m\n",
      "\u001b[0;32m~/Work/1-projects/lora-processing/lorapy/signals/processing/sliding_mean.py\u001b[0m in \u001b[0;36mfind_all_mindices\u001b[0;34m(signal, overlap)\u001b[0m\n\u001b[1;32m    123\u001b[0m \u001b[0;32mdef\u001b[0m \u001b[0mfind_all_mindices\u001b[0m\u001b[0;34m(\u001b[0m\u001b[0msignal\u001b[0m\u001b[0;34m:\u001b[0m \u001b[0;34m'LoraSignal'\u001b[0m\u001b[0;34m,\u001b[0m \u001b[0moverlap\u001b[0m\u001b[0;34m:\u001b[0m \u001b[0mfloat\u001b[0m\u001b[0;34m=\u001b[0m\u001b[0;36m0.5\u001b[0m\u001b[0;34m)\u001b[0m \u001b[0;34m->\u001b[0m \u001b[0mty\u001b[0m\u001b[0;34m.\u001b[0m\u001b[0mList\u001b[0m\u001b[0;34m[\u001b[0m\u001b[0mty\u001b[0m\u001b[0;34m.\u001b[0m\u001b[0mTuple\u001b[0m\u001b[0;34m[\u001b[0m\u001b[0mint\u001b[0m\u001b[0;34m,\u001b[0m \u001b[0mint\u001b[0m\u001b[0;34m]\u001b[0m\u001b[0;34m]\u001b[0m\u001b[0;34m:\u001b[0m\u001b[0;34m\u001b[0m\u001b[0;34m\u001b[0m\u001b[0m\n\u001b[1;32m    124\u001b[0m     \u001b[0mprocessor\u001b[0m \u001b[0;34m=\u001b[0m \u001b[0mSlidingMeanProcessor\u001b[0m\u001b[0;34m(\u001b[0m\u001b[0msignal\u001b[0m\u001b[0;34m,\u001b[0m \u001b[0moverlap\u001b[0m\u001b[0;34m)\u001b[0m\u001b[0;34m\u001b[0m\u001b[0;34m\u001b[0m\u001b[0m\n\u001b[0;32m--> 125\u001b[0;31m     \u001b[0mall_indices\u001b[0m \u001b[0;34m=\u001b[0m \u001b[0mprocessor\u001b[0m\u001b[0;34m.\u001b[0m\u001b[0mextract\u001b[0m\u001b[0;34m(\u001b[0m\u001b[0;34m)\u001b[0m\u001b[0;34m\u001b[0m\u001b[0;34m\u001b[0m\u001b[0m\n\u001b[0m\u001b[1;32m    126\u001b[0m \u001b[0;34m\u001b[0m\u001b[0m\n\u001b[1;32m    127\u001b[0m     \u001b[0mendpoints\u001b[0m \u001b[0;34m=\u001b[0m \u001b[0mutils\u001b[0m\u001b[0;34m.\u001b[0m\u001b[0mgenerate_endpoint_pairs\u001b[0m\u001b[0;34m(\u001b[0m\u001b[0mall_indices\u001b[0m\u001b[0;34m,\u001b[0m \u001b[0msignal\u001b[0m\u001b[0;34m.\u001b[0m\u001b[0mstats\u001b[0m\u001b[0;34m.\u001b[0m\u001b[0mpacket_len\u001b[0m\u001b[0;34m)\u001b[0m\u001b[0;34m\u001b[0m\u001b[0;34m\u001b[0m\u001b[0m\n",
      "\u001b[0;32m~/Work/1-projects/lora-processing/lorapy/signals/processing/sliding_mean.py\u001b[0m in \u001b[0;36mextract\u001b[0;34m(self)\u001b[0m\n\u001b[1;32m     36\u001b[0m \u001b[0;34m\u001b[0m\u001b[0m\n\u001b[1;32m     37\u001b[0m     \u001b[0;32mdef\u001b[0m \u001b[0mextract\u001b[0m\u001b[0;34m(\u001b[0m\u001b[0mself\u001b[0m\u001b[0;34m)\u001b[0m\u001b[0;34m:\u001b[0m\u001b[0;34m\u001b[0m\u001b[0;34m\u001b[0m\u001b[0m\n\u001b[0;32m---> 38\u001b[0;31m         \u001b[0mall_indices\u001b[0m \u001b[0;34m=\u001b[0m \u001b[0mself\u001b[0m\u001b[0;34m.\u001b[0m\u001b[0m_find_all_mindices\u001b[0m\u001b[0;34m(\u001b[0m\u001b[0mself\u001b[0m\u001b[0;34m.\u001b[0m\u001b[0msignal\u001b[0m\u001b[0;34m,\u001b[0m \u001b[0mself\u001b[0m\u001b[0;34m.\u001b[0m\u001b[0moverlap\u001b[0m\u001b[0;34m)\u001b[0m\u001b[0;34m\u001b[0m\u001b[0;34m\u001b[0m\u001b[0m\n\u001b[0m\u001b[1;32m     39\u001b[0m         \u001b[0;32mreturn\u001b[0m \u001b[0mall_indices\u001b[0m\u001b[0;34m\u001b[0m\u001b[0;34m\u001b[0m\u001b[0m\n\u001b[1;32m     40\u001b[0m \u001b[0;34m\u001b[0m\u001b[0m\n",
      "\u001b[0;32m~/Work/1-projects/lora-processing/lorapy/signals/processing/sliding_mean.py\u001b[0m in \u001b[0;36m_find_all_mindices\u001b[0;34m(self, signal, overlap)\u001b[0m\n\u001b[1;32m     60\u001b[0m \u001b[0;34m\u001b[0m\u001b[0m\n\u001b[1;32m     61\u001b[0m             \u001b[0;32mtry\u001b[0m\u001b[0;34m:\u001b[0m\u001b[0;34m\u001b[0m\u001b[0;34m\u001b[0m\u001b[0m\n\u001b[0;32m---> 62\u001b[0;31m                 \u001b[0mindex\u001b[0m \u001b[0;34m=\u001b[0m \u001b[0mself\u001b[0m\u001b[0;34m.\u001b[0m\u001b[0m_scan_slice\u001b[0m\u001b[0;34m(\u001b[0m\u001b[0msignal\u001b[0m\u001b[0;34m,\u001b[0m \u001b[0mslice_num\u001b[0m\u001b[0;34m,\u001b[0m \u001b[0moverlap\u001b[0m\u001b[0;34m)\u001b[0m\u001b[0;34m\u001b[0m\u001b[0;34m\u001b[0m\u001b[0m\n\u001b[0m\u001b[1;32m     63\u001b[0m             \u001b[0;32mexcept\u001b[0m \u001b[0mStopIteration\u001b[0m\u001b[0;34m:\u001b[0m\u001b[0;34m\u001b[0m\u001b[0;34m\u001b[0m\u001b[0m\n\u001b[1;32m     64\u001b[0m                 \u001b[0;32mbreak\u001b[0m\u001b[0;34m\u001b[0m\u001b[0;34m\u001b[0m\u001b[0m\n",
      "\u001b[0;32m~/Work/1-projects/lora-processing/lorapy/signals/processing/sliding_mean.py\u001b[0m in \u001b[0;36m_scan_slice\u001b[0;34m(self, signal, _slice_num, overlap)\u001b[0m\n\u001b[1;32m     93\u001b[0m             \u001b[0;32mraise\u001b[0m \u001b[0mStopIteration\u001b[0m\u001b[0;34m(\u001b[0m\u001b[0;34m'end of signal'\u001b[0m\u001b[0;34m)\u001b[0m\u001b[0;34m\u001b[0m\u001b[0;34m\u001b[0m\u001b[0m\n\u001b[1;32m     94\u001b[0m \u001b[0;34m\u001b[0m\u001b[0m\n\u001b[0;32m---> 95\u001b[0;31m         \u001b[0mmin_index\u001b[0m \u001b[0;34m=\u001b[0m \u001b[0mself\u001b[0m\u001b[0;34m.\u001b[0m\u001b[0m_slide_and_mean\u001b[0m\u001b[0;34m(\u001b[0m\u001b[0msignal\u001b[0m\u001b[0;34m[\u001b[0m\u001b[0mstart\u001b[0m\u001b[0;34m:\u001b[0m\u001b[0mstop\u001b[0m\u001b[0;34m]\u001b[0m\u001b[0;34m,\u001b[0m \u001b[0moverlap\u001b[0m\u001b[0;34m)\u001b[0m\u001b[0;34m\u001b[0m\u001b[0;34m\u001b[0m\u001b[0m\n\u001b[0m\u001b[1;32m     96\u001b[0m         \u001b[0mabs_index\u001b[0m \u001b[0;34m=\u001b[0m \u001b[0mstart\u001b[0m \u001b[0;34m+\u001b[0m \u001b[0mmin_index\u001b[0m\u001b[0;34m\u001b[0m\u001b[0;34m\u001b[0m\u001b[0m\n\u001b[1;32m     97\u001b[0m \u001b[0;34m\u001b[0m\u001b[0m\n",
      "\u001b[0;32m~/Work/1-projects/lora-processing/lorapy/signals/processing/sliding_mean.py\u001b[0m in \u001b[0;36m_slide_and_mean\u001b[0;34m(self, data_slice, overlap)\u001b[0m\n\u001b[1;32m    113\u001b[0m         argmin = np.argmin([\n\u001b[1;32m    114\u001b[0m             \u001b[0mdata_slice\u001b[0m\u001b[0;34m[\u001b[0m\u001b[0midx\u001b[0m\u001b[0;34m:\u001b[0m\u001b[0midx\u001b[0m \u001b[0;34m+\u001b[0m \u001b[0mself\u001b[0m\u001b[0;34m.\u001b[0m\u001b[0m_const\u001b[0m\u001b[0;34m.\u001b[0m\u001b[0mpadding_length\u001b[0m\u001b[0;34m]\u001b[0m\u001b[0;34m.\u001b[0m\u001b[0mmean\u001b[0m\u001b[0;34m(\u001b[0m\u001b[0;34m)\u001b[0m\u001b[0;34m\u001b[0m\u001b[0;34m\u001b[0m\u001b[0m\n\u001b[0;32m--> 115\u001b[0;31m             \u001b[0;32mfor\u001b[0m \u001b[0midx\u001b[0m \u001b[0;32min\u001b[0m \u001b[0mindice_list\u001b[0m\u001b[0;34m\u001b[0m\u001b[0;34m\u001b[0m\u001b[0m\n\u001b[0m\u001b[1;32m    116\u001b[0m         ])\n\u001b[1;32m    117\u001b[0m \u001b[0;34m\u001b[0m\u001b[0m\n",
      "\u001b[0;32m<__array_function__ internals>\u001b[0m in \u001b[0;36margmin\u001b[0;34m(*args, **kwargs)\u001b[0m\n",
      "\u001b[0;32m~/miniconda3/envs/py37-prime/lib/python3.7/site-packages/numpy/core/fromnumeric.py\u001b[0m in \u001b[0;36margmin\u001b[0;34m(a, axis, out)\u001b[0m\n\u001b[1;32m   1265\u001b[0m \u001b[0;34m\u001b[0m\u001b[0m\n\u001b[1;32m   1266\u001b[0m     \"\"\"\n\u001b[0;32m-> 1267\u001b[0;31m     \u001b[0;32mreturn\u001b[0m \u001b[0m_wrapfunc\u001b[0m\u001b[0;34m(\u001b[0m\u001b[0ma\u001b[0m\u001b[0;34m,\u001b[0m \u001b[0;34m'argmin'\u001b[0m\u001b[0;34m,\u001b[0m \u001b[0maxis\u001b[0m\u001b[0;34m=\u001b[0m\u001b[0maxis\u001b[0m\u001b[0;34m,\u001b[0m \u001b[0mout\u001b[0m\u001b[0;34m=\u001b[0m\u001b[0mout\u001b[0m\u001b[0;34m)\u001b[0m\u001b[0;34m\u001b[0m\u001b[0;34m\u001b[0m\u001b[0m\n\u001b[0m\u001b[1;32m   1268\u001b[0m \u001b[0;34m\u001b[0m\u001b[0m\n\u001b[1;32m   1269\u001b[0m \u001b[0;34m\u001b[0m\u001b[0m\n",
      "\u001b[0;32m~/miniconda3/envs/py37-prime/lib/python3.7/site-packages/numpy/core/fromnumeric.py\u001b[0m in \u001b[0;36m_wrapfunc\u001b[0;34m(obj, method, *args, **kwds)\u001b[0m\n\u001b[1;32m     56\u001b[0m     \u001b[0mbound\u001b[0m \u001b[0;34m=\u001b[0m \u001b[0mgetattr\u001b[0m\u001b[0;34m(\u001b[0m\u001b[0mobj\u001b[0m\u001b[0;34m,\u001b[0m \u001b[0mmethod\u001b[0m\u001b[0;34m,\u001b[0m \u001b[0;32mNone\u001b[0m\u001b[0;34m)\u001b[0m\u001b[0;34m\u001b[0m\u001b[0;34m\u001b[0m\u001b[0m\n\u001b[1;32m     57\u001b[0m     \u001b[0;32mif\u001b[0m \u001b[0mbound\u001b[0m \u001b[0;32mis\u001b[0m \u001b[0;32mNone\u001b[0m\u001b[0;34m:\u001b[0m\u001b[0;34m\u001b[0m\u001b[0;34m\u001b[0m\u001b[0m\n\u001b[0;32m---> 58\u001b[0;31m         \u001b[0;32mreturn\u001b[0m \u001b[0m_wrapit\u001b[0m\u001b[0;34m(\u001b[0m\u001b[0mobj\u001b[0m\u001b[0;34m,\u001b[0m \u001b[0mmethod\u001b[0m\u001b[0;34m,\u001b[0m \u001b[0;34m*\u001b[0m\u001b[0margs\u001b[0m\u001b[0;34m,\u001b[0m \u001b[0;34m**\u001b[0m\u001b[0mkwds\u001b[0m\u001b[0;34m)\u001b[0m\u001b[0;34m\u001b[0m\u001b[0;34m\u001b[0m\u001b[0m\n\u001b[0m\u001b[1;32m     59\u001b[0m \u001b[0;34m\u001b[0m\u001b[0m\n\u001b[1;32m     60\u001b[0m     \u001b[0;32mtry\u001b[0m\u001b[0;34m:\u001b[0m\u001b[0;34m\u001b[0m\u001b[0;34m\u001b[0m\u001b[0m\n",
      "\u001b[0;32m~/miniconda3/envs/py37-prime/lib/python3.7/site-packages/numpy/core/fromnumeric.py\u001b[0m in \u001b[0;36m_wrapit\u001b[0;34m(obj, method, *args, **kwds)\u001b[0m\n\u001b[1;32m     45\u001b[0m     \u001b[0;32mexcept\u001b[0m \u001b[0mAttributeError\u001b[0m\u001b[0;34m:\u001b[0m\u001b[0;34m\u001b[0m\u001b[0;34m\u001b[0m\u001b[0m\n\u001b[1;32m     46\u001b[0m         \u001b[0mwrap\u001b[0m \u001b[0;34m=\u001b[0m \u001b[0;32mNone\u001b[0m\u001b[0;34m\u001b[0m\u001b[0;34m\u001b[0m\u001b[0m\n\u001b[0;32m---> 47\u001b[0;31m     \u001b[0mresult\u001b[0m \u001b[0;34m=\u001b[0m \u001b[0mgetattr\u001b[0m\u001b[0;34m(\u001b[0m\u001b[0masarray\u001b[0m\u001b[0;34m(\u001b[0m\u001b[0mobj\u001b[0m\u001b[0;34m)\u001b[0m\u001b[0;34m,\u001b[0m \u001b[0mmethod\u001b[0m\u001b[0;34m)\u001b[0m\u001b[0;34m(\u001b[0m\u001b[0;34m*\u001b[0m\u001b[0margs\u001b[0m\u001b[0;34m,\u001b[0m \u001b[0;34m**\u001b[0m\u001b[0mkwds\u001b[0m\u001b[0;34m)\u001b[0m\u001b[0;34m\u001b[0m\u001b[0;34m\u001b[0m\u001b[0m\n\u001b[0m\u001b[1;32m     48\u001b[0m     \u001b[0;32mif\u001b[0m \u001b[0mwrap\u001b[0m\u001b[0;34m:\u001b[0m\u001b[0;34m\u001b[0m\u001b[0;34m\u001b[0m\u001b[0m\n\u001b[1;32m     49\u001b[0m         \u001b[0;32mif\u001b[0m \u001b[0;32mnot\u001b[0m \u001b[0misinstance\u001b[0m\u001b[0;34m(\u001b[0m\u001b[0mresult\u001b[0m\u001b[0;34m,\u001b[0m \u001b[0mmu\u001b[0m\u001b[0;34m.\u001b[0m\u001b[0mndarray\u001b[0m\u001b[0;34m)\u001b[0m\u001b[0;34m:\u001b[0m\u001b[0;34m\u001b[0m\u001b[0;34m\u001b[0m\u001b[0m\n",
      "\u001b[0;31mValueError\u001b[0m: attempt to get argmin of an empty sequence"
     ]
    }
   ],
   "source": [
    "signal.extract_packets(method='slide-mean', auto_adj=False)"
   ]
  },
  {
   "cell_type": "code",
   "execution_count": null,
   "metadata": {},
   "outputs": [],
   "source": [
    "plt.plot(signal._raw_packets[rand(signal.num_packets), :])"
   ]
  },
  {
   "cell_type": "code",
   "execution_count": null,
   "metadata": {},
   "outputs": [],
   "source": []
  },
  {
   "cell_type": "markdown",
   "metadata": {},
   "source": [
    "## inspect packets"
   ]
  },
  {
   "cell_type": "code",
   "execution_count": null,
   "metadata": {},
   "outputs": [],
   "source": [
    "for packet in signal.packets:\n",
    "    break\n",
    "    \n",
    "packet"
   ]
  },
  {
   "cell_type": "code",
   "execution_count": null,
   "metadata": {},
   "outputs": [],
   "source": [
    "packet.endpoints"
   ]
  },
  {
   "cell_type": "code",
   "execution_count": null,
   "metadata": {},
   "outputs": [],
   "source": [
    "packet.plot()"
   ]
  },
  {
   "cell_type": "code",
   "execution_count": null,
   "metadata": {},
   "outputs": [],
   "source": [
    "packet.adjustment"
   ]
  },
  {
   "cell_type": "markdown",
   "metadata": {},
   "source": [
    "### random packet"
   ]
  },
  {
   "cell_type": "code",
   "execution_count": null,
   "metadata": {},
   "outputs": [],
   "source": [
    "packet = signal.packets[rand(signal.num_packets)]\n",
    "packet.plot()"
   ]
  },
  {
   "cell_type": "code",
   "execution_count": null,
   "metadata": {},
   "outputs": [],
   "source": [
    "start, stop = packet.endpoints\n",
    "start, stop"
   ]
  },
  {
   "cell_type": "code",
   "execution_count": null,
   "metadata": {},
   "outputs": [],
   "source": [
    "plt.plot(signal.real_abs_signal[start-600:stop])"
   ]
  },
  {
   "cell_type": "code",
   "execution_count": null,
   "metadata": {},
   "outputs": [],
   "source": []
  },
  {
   "cell_type": "markdown",
   "metadata": {},
   "source": [
    "## symbol test"
   ]
  },
  {
   "cell_type": "code",
   "execution_count": null,
   "metadata": {},
   "outputs": [],
   "source": [
    "numSymbols = 8\n",
    "symbols = np.empty([signal.num_packets * numSymbols, int(signal.stats.samp_per_sym)], dtype='complex')\n",
    "N = symbols.shape[0]\n",
    "\n",
    "k,l = 0, 0\n",
    "\n",
    "for i in range(signal.num_packets):\n",
    "    for j in range(numSymbols):\n",
    "        \n",
    "        symbols[l,:] = signal._raw_packets[i, k:k+signal.stats.samp_per_sym]\n",
    "        k = k + signal.stats.samp_per_sym\n",
    "        l = l+1\n",
    "    k = 0\n",
    "    \n",
    "print(\"Total Symbols: \" + str(symbols.shape[0]))"
   ]
  },
  {
   "cell_type": "code",
   "execution_count": null,
   "metadata": {},
   "outputs": [],
   "source": [
    "plt.plot(symbols[rand(symbols.shape[0]), :])"
   ]
  },
  {
   "cell_type": "code",
   "execution_count": null,
   "metadata": {},
   "outputs": [],
   "source": []
  },
  {
   "cell_type": "code",
   "execution_count": null,
   "metadata": {},
   "outputs": [],
   "source": []
  },
  {
   "cell_type": "code",
   "execution_count": null,
   "metadata": {},
   "outputs": [],
   "source": []
  },
  {
   "cell_type": "code",
   "execution_count": null,
   "metadata": {},
   "outputs": [],
   "source": []
  },
  {
   "cell_type": "code",
   "execution_count": null,
   "metadata": {},
   "outputs": [],
   "source": []
  }
 ],
 "metadata": {
  "kernelspec": {
   "display_name": "Python 3",
   "language": "python",
   "name": "python3"
  },
  "language_info": {
   "codemirror_mode": {
    "name": "ipython",
    "version": 3
   },
   "file_extension": ".py",
   "mimetype": "text/x-python",
   "name": "python",
   "nbconvert_exporter": "python",
   "pygments_lexer": "ipython3",
   "version": "3.7.6"
  }
 },
 "nbformat": 4,
 "nbformat_minor": 4
}
