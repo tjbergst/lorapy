{
 "cells": [
  {
   "cell_type": "markdown",
   "metadata": {},
   "source": [
    "# lorapy data processing"
   ]
  },
  {
   "cell_type": "code",
   "execution_count": 1,
   "metadata": {},
   "outputs": [],
   "source": [
    "%load_ext autoreload\n",
    "%autoreload 2\n",
    "\n",
    "import pathlib\n",
    "\n",
    "import os, sys\n",
    "from loguru import logger\n",
    "logger.remove(None)\n",
    "logger.add(sys.stdout, colorize=True)\n",
    "\n",
    "import numpy as np\n",
    "\n",
    "import matplotlib.pyplot as plt \n",
    "plt.style.use('dark_background')\n",
    "%matplotlib inline"
   ]
  },
  {
   "cell_type": "code",
   "execution_count": 2,
   "metadata": {
    "scrolled": true
   },
   "outputs": [],
   "source": [
    "# from lorapy.io.load import DatLoader\n",
    "import lorapy"
   ]
  },
  {
   "cell_type": "markdown",
   "metadata": {},
   "source": [
    "## setup "
   ]
  },
  {
   "cell_type": "code",
   "execution_count": 3,
   "metadata": {},
   "outputs": [],
   "source": [
    "DATA_DIR = pathlib.Path('/Users/trevor/Work/1-projects/lora-processing/data/lora-benchtop-recording')"
   ]
  },
  {
   "cell_type": "markdown",
   "metadata": {},
   "source": [
    "## utils"
   ]
  },
  {
   "cell_type": "code",
   "execution_count": 4,
   "metadata": {},
   "outputs": [],
   "source": [
    "import random\n",
    "rand = lambda mx: random.randint(0, mx)"
   ]
  },
  {
   "cell_type": "markdown",
   "metadata": {},
   "source": [
    "# load"
   ]
  },
  {
   "cell_type": "code",
   "execution_count": 5,
   "metadata": {
    "scrolled": true
   },
   "outputs": [
    {
     "name": "stdout",
     "output_type": "stream",
     "text": [
      "\u001b[32m2020-04-05 12:58:39.345\u001b[0m | \u001b[34m\u001b[1mDEBUG   \u001b[0m | \u001b[36mlorapy.io.load\u001b[0m:\u001b[36m_process_data_dir\u001b[0m:\u001b[36m68\u001b[0m - \u001b[34m\u001b[1mset datafile directory: /Users/trevor/Work/1-projects/lora-processing/data/lora-benchtop-recording\u001b[0m\n",
      "\u001b[32m2020-04-05 12:58:39.351\u001b[0m | \u001b[1mINFO    \u001b[0m | \u001b[36mlorapy.io.load\u001b[0m:\u001b[36m_process_data_dir\u001b[0m:\u001b[36m74\u001b[0m - \u001b[1mfound 110 datafile file(s)\u001b[0m\n"
     ]
    },
    {
     "data": {
      "text/plain": [
       "[DatFile('lora_BW2_SF10_915MHz_20ksps_Att100_v0.dat'),\n",
       " DatFile('lora_BW2_SF12_915MHz_20ksps_Att80_v0.dat'),\n",
       " DatFile('lora_BW2_SF10_915MHz_20ksps_Att0_v0.dat'),\n",
       " DatFile('lora_BW2_SF10_915MHz_20ksps_Att40_v0.dat'),\n",
       " DatFile('lora_BW2_SF11_915MHz_20ksps_Att60_v0.dat'),\n",
       " DatFile('lora_BW2_SF11_915MHz_20ksps_Att120_v0.dat'),\n",
       " DatFile('lora_BW2_SF12_915MHz_20ksps_Att20_v0.dat'),\n",
       " DatFile('lora_BW2_SF11_915MHz_20ksps_Att40_v0.dat'),\n",
       " DatFile('lora_BW2_SF10_915MHz_20ksps_Att60_v0.dat'),\n",
       " DatFile('lora_BW2_SF12_915MHz_20ksps_Att0_v0.dat'),\n",
       " DatFile('lora_BW2_SF11_915MHz_20ksps_Att100_v0.dat'),\n",
       " DatFile('lora_BW2_SF10_915MHz_20ksps_Att120_v0.dat'),\n",
       " DatFile('lora_BW2_SF10_915MHz_20ksps_Att20_v0.dat'),\n",
       " DatFile('lora_BW2_SF12_915MHz_20ksps_Att60_v0.dat'),\n",
       " DatFile('lora_BW2_SF11_915MHz_20ksps_Att140_v0.dat'),\n",
       " DatFile('lora_BW2_SF12_915MHz_20ksps_Att100_v0.dat'),\n",
       " DatFile('lora_BW2_SF11_915MHz_20ksps_Att80_v0.dat'),\n",
       " DatFile('lora_BW2_SF10_915MHz_20ksps_Att80_v0.dat'),\n",
       " DatFile('lora_BW2_SF12_915MHz_20ksps_Att120_v0.dat'),\n",
       " DatFile('lora_BW2_SF10_915MHz_20ksps_Att140_v0.dat'),\n",
       " DatFile('lora_BW2_SF11_915MHz_20ksps_Att20_v0.dat'),\n",
       " DatFile('lora_BW2_SF12_915MHz_20ksps_Att40_v0.dat'),\n",
       " DatFile('lora_BW2_SF11_915MHz_20ksps_Att0_v0.dat'),\n",
       " DatFile('lora_BW8_SF10_915MHz_20ksps_Att0_v0.dat'),\n",
       " DatFile('lora_BW8_SF10_915MHz_20ksps_Att20_v0.dat'),\n",
       " DatFile('lora_BW8_SF12_915MHz_20ksps_Att60_v0.dat'),\n",
       " DatFile('lora_BW8_SF12_915MHz_20ksps_Att120_v0.dat'),\n",
       " DatFile('lora_BW8_SF11_915MHz_20ksps_Att80_v0.dat'),\n",
       " DatFile('lora_BW8_SF12_915MHz_20ksps_Att100_v0.dat'),\n",
       " DatFile('lora_BW8_SF12_915MHz_20ksps_Att0_v0.dat'),\n",
       " DatFile('lora_BW8_SF10_915MHz_20ksps_Att80_v0.dat'),\n",
       " DatFile('lora_BW8_SF11_915MHz_20ksps_Att20_v0.dat'),\n",
       " DatFile('lora_BW8_SF12_915MHz_20ksps_Att40_v0.dat'),\n",
       " DatFile('lora_BW8_SF10_915MHz_20ksps_Att120_v0.dat'),\n",
       " DatFile('lora_BW8_SF12_915MHz_20ksps_Att80_v0.dat'),\n",
       " DatFile('lora_BW8_SF11_915MHz_20ksps_Att60_v0.dat'),\n",
       " DatFile('lora_BW8_SF10_915MHz_20ksps_Att40_v0.dat'),\n",
       " DatFile('lora_BW8_SF11_915MHz_20ksps_Att100_v0.dat'),\n",
       " DatFile('lora_BW8_SF12_915MHz_20ksps_Att20_v0.dat'),\n",
       " DatFile('lora_BW8_SF10_915MHz_20ksps_Att60_v0.dat'),\n",
       " DatFile('lora_BW8_SF11_915MHz_20ksps_Att40_v0.dat'),\n",
       " DatFile('lora_BW8_SF11_915MHz_20ksps_Att120_v0.dat'),\n",
       " DatFile('lora_BW8_SF11_915MHz_20ksps_Att0_v0.dat'),\n",
       " DatFile('lora_BW8_SF10_915MHz_20ksps_Att100_v0.dat'),\n",
       " DatFile('lora_BW1_SF10_915MHz_20ksps_Att120_v0.dat'),\n",
       " DatFile('lora_BW1_SF12_915MHz_20ksps_Att140_v0.dat'),\n",
       " DatFile('lora_BW1_SF10_915MHz_20ksps_Att60_v0.dat'),\n",
       " DatFile('lora_BW1_SF11_915MHz_20ksps_Att40_v0.dat'),\n",
       " DatFile('lora_BW1_SF11_915MHz_20ksps_Att0_v0.dat'),\n",
       " DatFile('lora_BW1_SF12_915MHz_20ksps_Att20_v0.dat'),\n",
       " DatFile('lora_BW1_SF11_915MHz_20ksps_Att100_v0.dat'),\n",
       " DatFile('lora_BW1_SF11_915MHz_20ksps_Att60_v0.dat'),\n",
       " DatFile('lora_BW1_SF10_915MHz_20ksps_Att40_v0.dat'),\n",
       " DatFile('lora_BW1_SF11_915MHz_20ksps_Att120_v0.dat'),\n",
       " DatFile('lora_BW1_SF10_915MHz_20ksps_Att100_v0.dat'),\n",
       " DatFile('lora_BW1_SF12_915MHz_20ksps_Att80_v0.dat'),\n",
       " DatFile('lora_BW1_SF12_915MHz_20ksps_Att40_v0.dat'),\n",
       " DatFile('lora_BW1_SF11_915MHz_20ksps_Att20_v0.dat'),\n",
       " DatFile('lora_BW1_SF12_915MHz_20ksps_Att0_v0.dat'),\n",
       " DatFile('lora_BW1_SF10_915MHz_20ksps_Att80_v0.dat'),\n",
       " DatFile('lora_BW1_SF12_915MHz_20ksps_Att120_v0.dat'),\n",
       " DatFile('lora_BW1_SF10_915MHz_20ksps_Att140_v0.dat'),\n",
       " DatFile('lora_BW1_SF11_915MHz_20ksps_Att80_v0.dat'),\n",
       " DatFile('lora_BW1_SF12_915MHz_20ksps_Att100_v0.dat'),\n",
       " DatFile('lora_BW1_SF10_915MHz_20ksps_Att0_v0.dat'),\n",
       " DatFile('lora_BW1_SF12_915MHz_20ksps_Att60_v0.dat'),\n",
       " DatFile('lora_BW1_SF10_915MHz_20ksps_Att20_v0.dat'),\n",
       " DatFile('lora_BW1_SF11_915MHz_20ksps_Att140_v0.dat'),\n",
       " DatFile('lora_BW7_SF12_915MHz_20ksps_Att100_v0.dat'),\n",
       " DatFile('lora_BW7_SF12_915MHz_20ksps_Att80_v0.dat'),\n",
       " DatFile('lora_BW7_SF11_915MHz_20ksps_Att0_v0.dat'),\n",
       " DatFile('lora_BW7_SF10_915MHz_20ksps_Att40_v0.dat'),\n",
       " DatFile('lora_BW7_SF11_915MHz_20ksps_Att60_v0.dat'),\n",
       " DatFile('lora_BW7_SF12_915MHz_20ksps_Att20_v0.dat'),\n",
       " DatFile('lora_BW7_SF11_915MHz_20ksps_Att40_v0.dat'),\n",
       " DatFile('lora_BW7_SF10_915MHz_20ksps_Att60_v0.dat'),\n",
       " DatFile('lora_BW7_SF12_915MHz_20ksps_Att120_v0.dat'),\n",
       " DatFile('lora_BW7_SF10_915MHz_20ksps_Att20_v0.dat'),\n",
       " DatFile('lora_BW7_SF12_915MHz_20ksps_Att60_v0.dat'),\n",
       " DatFile('lora_BW7_SF11_915MHz_20ksps_Att120_v0.dat'),\n",
       " DatFile('lora_BW7_SF12_915MHz_20ksps_Att0_v0.dat'),\n",
       " DatFile('lora_BW7_SF10_915MHz_20ksps_Att100_v0.dat'),\n",
       " DatFile('lora_BW7_SF11_915MHz_20ksps_Att80_v0.dat'),\n",
       " DatFile('lora_BW7_SF10_915MHz_20ksps_Att120_v0.dat'),\n",
       " DatFile('lora_BW7_SF10_915MHz_20ksps_Att80_v0.dat'),\n",
       " DatFile('lora_BW7_SF10_915MHz_20ksps_Att0_v0.dat'),\n",
       " DatFile('lora_BW7_SF11_915MHz_20ksps_Att20_v0.dat'),\n",
       " DatFile('lora_BW7_SF12_915MHz_20ksps_Att40_v0.dat'),\n",
       " DatFile('lora_BW7_SF11_915MHz_20ksps_Att100_v0.dat'),\n",
       " DatFile('lora_BW9_SF10_915MHz_20ksps_Att60_v0.dat'),\n",
       " DatFile('lora_BW9_SF11_915MHz_20ksps_Att40_v0.dat'),\n",
       " DatFile('lora_BW9_SF11_915MHz_20ksps_Att100_v0.dat'),\n",
       " DatFile('lora_BW9_SF12_915MHz_20ksps_Att20_v0.dat'),\n",
       " DatFile('lora_BW9_SF12_915MHz_20ksps_Att0_v0.dat'),\n",
       " DatFile('lora_BW9_SF10_915MHz_20ksps_Att120_v0.dat'),\n",
       " DatFile('lora_BW9_SF12_915MHz_20ksps_Att80_v0.dat'),\n",
       " DatFile('lora_BW9_SF10_915MHz_20ksps_Att0_v0.dat'),\n",
       " DatFile('lora_BW9_SF10_915MHz_20ksps_Att100_v0.dat'),\n",
       " DatFile('lora_BW9_SF11_915MHz_20ksps_Att120_v0.dat'),\n",
       " DatFile('lora_BW9_SF11_915MHz_20ksps_Att60_v0.dat'),\n",
       " DatFile('lora_BW9_SF10_915MHz_20ksps_Att40_v0.dat'),\n",
       " DatFile('lora_BW9_SF10_915MHz_20ksps_Att80_v0.dat'),\n",
       " DatFile('lora_BW9_SF12_915MHz_20ksps_Att120_v0.dat'),\n",
       " DatFile('lora_BW9_SF12_915MHz_20ksps_Att40_v0.dat'),\n",
       " DatFile('lora_BW9_SF11_915MHz_20ksps_Att0_v0.dat'),\n",
       " DatFile('lora_BW9_SF11_915MHz_20ksps_Att20_v0.dat'),\n",
       " DatFile('lora_BW9_SF12_915MHz_20ksps_Att60_v0.dat'),\n",
       " DatFile('lora_BW9_SF10_915MHz_20ksps_Att20_v0.dat'),\n",
       " DatFile('lora_BW9_SF11_915MHz_20ksps_Att80_v0.dat'),\n",
       " DatFile('lora_BW9_SF12_915MHz_20ksps_Att100_v0.dat')]"
      ]
     },
     "execution_count": 5,
     "metadata": {},
     "output_type": "execute_result"
    }
   ],
   "source": [
    "loader = lorapy.load(DATA_DIR, autoload=True)\n",
    "loader.filelist"
   ]
  },
  {
   "cell_type": "code",
   "execution_count": 6,
   "metadata": {},
   "outputs": [
    {
     "data": {
      "text/plain": [
       "DatFile('lora_BW2_SF10_915MHz_20ksps_Att100_v0.dat')"
      ]
     },
     "execution_count": 6,
     "metadata": {},
     "output_type": "execute_result"
    }
   ],
   "source": [
    "for file in loader.filelist:\n",
    "    break\n",
    "    \n",
    "file"
   ]
  },
  {
   "cell_type": "code",
   "execution_count": 7,
   "metadata": {},
   "outputs": [
    {
     "data": {
      "text/plain": [
       "DatFile('lora_BW9_SF11_915MHz_20ksps_Att20_v0.dat')"
      ]
     },
     "execution_count": 7,
     "metadata": {},
     "output_type": "execute_result"
    }
   ],
   "source": [
    "tar_filename = 'lora_BW9_SF11_915MHz_20ksps_Att20_v0.dat'\n",
    "\n",
    "file = [file for file in loader.filelist if file.name == tar_filename][0]\n",
    "file"
   ]
  },
  {
   "cell_type": "markdown",
   "metadata": {},
   "source": [
    "# process"
   ]
  },
  {
   "cell_type": "markdown",
   "metadata": {},
   "source": [
    "## convert "
   ]
  },
  {
   "cell_type": "code",
   "execution_count": 8,
   "metadata": {},
   "outputs": [
    {
     "name": "stdout",
     "output_type": "stream",
     "text": [
      "\u001b[32m2020-04-05 12:58:39.465\u001b[0m | \u001b[34m\u001b[1mDEBUG   \u001b[0m | \u001b[36mlorapy.datafile.encoding\u001b[0m:\u001b[36mcompute_params\u001b[0m:\u001b[36m15\u001b[0m - \u001b[34m\u001b[1mcomputed samples per symbol: 82 and packet length: 2480\u001b[0m\n",
      "\u001b[32m2020-04-05 12:58:39.535\u001b[0m | \u001b[1mINFO    \u001b[0m | \u001b[36mlorapy.datafile.file\u001b[0m:\u001b[36mload\u001b[0m:\u001b[36m31\u001b[0m - \u001b[1mloaded 15975424 samples from file\u001b[0m\n"
     ]
    },
    {
     "data": {
      "text/plain": [
       "LoraSignal(length=15975424)"
      ]
     },
     "execution_count": 8,
     "metadata": {},
     "output_type": "execute_result"
    }
   ],
   "source": [
    "signal = file.to_signal()\n",
    "signal"
   ]
  },
  {
   "cell_type": "code",
   "execution_count": 9,
   "metadata": {},
   "outputs": [
    {
     "data": {
      "text/plain": [
       "BW: 9 | SF: 11 | Att: 20 | samples per symbol: 799 | packet length: 2480"
      ]
     },
     "execution_count": 9,
     "metadata": {},
     "output_type": "execute_result"
    }
   ],
   "source": [
    "signal.stats"
   ]
  },
  {
   "cell_type": "markdown",
   "metadata": {},
   "source": [
    "## extract packets"
   ]
  },
  {
   "cell_type": "code",
   "execution_count": 10,
   "metadata": {
    "scrolled": true
   },
   "outputs": [
    {
     "name": "stdout",
     "output_type": "stream",
     "text": [
      "\u001b[32m2020-04-05 12:58:51.962\u001b[0m | \u001b[1mINFO    \u001b[0m | \u001b[36mlorapy.signals.signal\u001b[0m:\u001b[36m_process_signal\u001b[0m:\u001b[36m118\u001b[0m - \u001b[1mselected \"slide-mean\" processing method\u001b[0m\n",
      "\u001b[32m2020-04-05 12:58:52.018\u001b[0m | \u001b[1mINFO    \u001b[0m | \u001b[36mlorapy.signals.processing.sliding_mean\u001b[0m:\u001b[36m_find_all_mindices\u001b[0m:\u001b[36m55\u001b[0m - \u001b[1mscanning signal for padding locations..\u001b[0m\n",
      "\u001b[32m2020-04-05 12:58:52.019\u001b[0m | \u001b[34m\u001b[1mDEBUG   \u001b[0m | \u001b[36mlorapy.signals.processing.sliding_mean\u001b[0m:\u001b[36m_find_all_mindices\u001b[0m:\u001b[36m59\u001b[0m - \u001b[34m\u001b[1miteration 0\u001b[0m\n",
      "\u001b[32m2020-04-05 12:58:52.025\u001b[0m | \u001b[34m\u001b[1mDEBUG   \u001b[0m | \u001b[36mlorapy.signals.processing.sliding_mean\u001b[0m:\u001b[36m_find_all_mindices\u001b[0m:\u001b[36m59\u001b[0m - \u001b[34m\u001b[1miteration 50\u001b[0m\n",
      "\u001b[32m2020-04-05 12:58:52.032\u001b[0m | \u001b[34m\u001b[1mDEBUG   \u001b[0m | \u001b[36mlorapy.signals.processing.sliding_mean\u001b[0m:\u001b[36m_find_all_mindices\u001b[0m:\u001b[36m59\u001b[0m - \u001b[34m\u001b[1miteration 100\u001b[0m\n",
      "\u001b[32m2020-04-05 12:58:52.036\u001b[0m | \u001b[34m\u001b[1mDEBUG   \u001b[0m | \u001b[36mlorapy.signals.processing.sliding_mean\u001b[0m:\u001b[36m_find_all_mindices\u001b[0m:\u001b[36m59\u001b[0m - \u001b[34m\u001b[1miteration 150\u001b[0m\n",
      "\u001b[32m2020-04-05 12:58:52.041\u001b[0m | \u001b[34m\u001b[1mDEBUG   \u001b[0m | \u001b[36mlorapy.signals.processing.sliding_mean\u001b[0m:\u001b[36m_find_all_mindices\u001b[0m:\u001b[36m59\u001b[0m - \u001b[34m\u001b[1miteration 200\u001b[0m\n",
      "\u001b[32m2020-04-05 12:58:52.047\u001b[0m | \u001b[34m\u001b[1mDEBUG   \u001b[0m | \u001b[36mlorapy.signals.processing.sliding_mean\u001b[0m:\u001b[36m_find_all_mindices\u001b[0m:\u001b[36m59\u001b[0m - \u001b[34m\u001b[1miteration 250\u001b[0m\n",
      "\u001b[32m2020-04-05 12:58:52.054\u001b[0m | \u001b[34m\u001b[1mDEBUG   \u001b[0m | \u001b[36mlorapy.signals.processing.sliding_mean\u001b[0m:\u001b[36m_find_all_mindices\u001b[0m:\u001b[36m59\u001b[0m - \u001b[34m\u001b[1miteration 300\u001b[0m\n",
      "\u001b[32m2020-04-05 12:58:52.059\u001b[0m | \u001b[34m\u001b[1mDEBUG   \u001b[0m | \u001b[36mlorapy.signals.processing.sliding_mean\u001b[0m:\u001b[36m_find_all_mindices\u001b[0m:\u001b[36m59\u001b[0m - \u001b[34m\u001b[1miteration 350\u001b[0m\n",
      "\u001b[32m2020-04-05 12:58:52.064\u001b[0m | \u001b[34m\u001b[1mDEBUG   \u001b[0m | \u001b[36mlorapy.signals.processing.sliding_mean\u001b[0m:\u001b[36m_find_all_mindices\u001b[0m:\u001b[36m59\u001b[0m - \u001b[34m\u001b[1miteration 400\u001b[0m\n",
      "\u001b[32m2020-04-05 12:58:52.069\u001b[0m | \u001b[34m\u001b[1mDEBUG   \u001b[0m | \u001b[36mlorapy.signals.processing.sliding_mean\u001b[0m:\u001b[36m_find_all_mindices\u001b[0m:\u001b[36m59\u001b[0m - \u001b[34m\u001b[1miteration 450\u001b[0m\n",
      "\u001b[32m2020-04-05 12:58:52.073\u001b[0m | \u001b[34m\u001b[1mDEBUG   \u001b[0m | \u001b[36mlorapy.signals.processing.sliding_mean\u001b[0m:\u001b[36m_find_all_mindices\u001b[0m:\u001b[36m59\u001b[0m - \u001b[34m\u001b[1miteration 500\u001b[0m\n",
      "\u001b[32m2020-04-05 12:58:52.080\u001b[0m | \u001b[34m\u001b[1mDEBUG   \u001b[0m | \u001b[36mlorapy.signals.processing.sliding_mean\u001b[0m:\u001b[36m_find_all_mindices\u001b[0m:\u001b[36m59\u001b[0m - \u001b[34m\u001b[1miteration 550\u001b[0m\n",
      "\u001b[32m2020-04-05 12:58:52.087\u001b[0m | \u001b[34m\u001b[1mDEBUG   \u001b[0m | \u001b[36mlorapy.signals.processing.sliding_mean\u001b[0m:\u001b[36m_find_all_mindices\u001b[0m:\u001b[36m59\u001b[0m - \u001b[34m\u001b[1miteration 600\u001b[0m\n",
      "\u001b[32m2020-04-05 12:58:52.091\u001b[0m | \u001b[34m\u001b[1mDEBUG   \u001b[0m | \u001b[36mlorapy.signals.processing.sliding_mean\u001b[0m:\u001b[36m_find_all_mindices\u001b[0m:\u001b[36m59\u001b[0m - \u001b[34m\u001b[1miteration 650\u001b[0m\n",
      "\u001b[32m2020-04-05 12:58:52.096\u001b[0m | \u001b[34m\u001b[1mDEBUG   \u001b[0m | \u001b[36mlorapy.signals.processing.sliding_mean\u001b[0m:\u001b[36m_find_all_mindices\u001b[0m:\u001b[36m59\u001b[0m - \u001b[34m\u001b[1miteration 700\u001b[0m\n",
      "\u001b[32m2020-04-05 12:58:52.101\u001b[0m | \u001b[34m\u001b[1mDEBUG   \u001b[0m | \u001b[36mlorapy.signals.processing.sliding_mean\u001b[0m:\u001b[36m_find_all_mindices\u001b[0m:\u001b[36m59\u001b[0m - \u001b[34m\u001b[1miteration 750\u001b[0m\n",
      "\u001b[32m2020-04-05 12:58:52.105\u001b[0m | \u001b[34m\u001b[1mDEBUG   \u001b[0m | \u001b[36mlorapy.signals.processing.sliding_mean\u001b[0m:\u001b[36m_find_all_mindices\u001b[0m:\u001b[36m59\u001b[0m - \u001b[34m\u001b[1miteration 800\u001b[0m\n",
      "\u001b[32m2020-04-05 12:58:52.109\u001b[0m | \u001b[34m\u001b[1mDEBUG   \u001b[0m | \u001b[36mlorapy.signals.processing.sliding_mean\u001b[0m:\u001b[36m_find_all_mindices\u001b[0m:\u001b[36m59\u001b[0m - \u001b[34m\u001b[1miteration 850\u001b[0m\n",
      "\u001b[32m2020-04-05 12:58:52.114\u001b[0m | \u001b[34m\u001b[1mDEBUG   \u001b[0m | \u001b[36mlorapy.signals.processing.sliding_mean\u001b[0m:\u001b[36m_find_all_mindices\u001b[0m:\u001b[36m59\u001b[0m - \u001b[34m\u001b[1miteration 900\u001b[0m\n",
      "\u001b[32m2020-04-05 12:58:52.122\u001b[0m | \u001b[34m\u001b[1mDEBUG   \u001b[0m | \u001b[36mlorapy.signals.processing.sliding_mean\u001b[0m:\u001b[36m_find_all_mindices\u001b[0m:\u001b[36m59\u001b[0m - \u001b[34m\u001b[1miteration 950\u001b[0m\n",
      "\u001b[32m2020-04-05 12:58:52.127\u001b[0m | \u001b[34m\u001b[1mDEBUG   \u001b[0m | \u001b[36mlorapy.signals.processing.sliding_mean\u001b[0m:\u001b[36m_find_all_mindices\u001b[0m:\u001b[36m59\u001b[0m - \u001b[34m\u001b[1miteration 1000\u001b[0m\n",
      "\u001b[32m2020-04-05 12:58:52.131\u001b[0m | \u001b[34m\u001b[1mDEBUG   \u001b[0m | \u001b[36mlorapy.signals.processing.sliding_mean\u001b[0m:\u001b[36m_find_all_mindices\u001b[0m:\u001b[36m59\u001b[0m - \u001b[34m\u001b[1miteration 1050\u001b[0m\n",
      "\u001b[32m2020-04-05 12:58:52.136\u001b[0m | \u001b[34m\u001b[1mDEBUG   \u001b[0m | \u001b[36mlorapy.signals.processing.sliding_mean\u001b[0m:\u001b[36m_find_all_mindices\u001b[0m:\u001b[36m59\u001b[0m - \u001b[34m\u001b[1miteration 1100\u001b[0m\n",
      "\u001b[32m2020-04-05 12:58:52.141\u001b[0m | \u001b[34m\u001b[1mDEBUG   \u001b[0m | \u001b[36mlorapy.signals.processing.sliding_mean\u001b[0m:\u001b[36m_find_all_mindices\u001b[0m:\u001b[36m59\u001b[0m - \u001b[34m\u001b[1miteration 1150\u001b[0m\n",
      "\u001b[32m2020-04-05 12:58:52.146\u001b[0m | \u001b[34m\u001b[1mDEBUG   \u001b[0m | \u001b[36mlorapy.signals.processing.sliding_mean\u001b[0m:\u001b[36m_find_all_mindices\u001b[0m:\u001b[36m59\u001b[0m - \u001b[34m\u001b[1miteration 1200\u001b[0m\n",
      "\u001b[32m2020-04-05 12:58:52.156\u001b[0m | \u001b[34m\u001b[1mDEBUG   \u001b[0m | \u001b[36mlorapy.signals.processing.sliding_mean\u001b[0m:\u001b[36m_find_all_mindices\u001b[0m:\u001b[36m59\u001b[0m - \u001b[34m\u001b[1miteration 1250\u001b[0m\n",
      "\u001b[32m2020-04-05 12:58:52.163\u001b[0m | \u001b[34m\u001b[1mDEBUG   \u001b[0m | \u001b[36mlorapy.signals.processing.sliding_mean\u001b[0m:\u001b[36m_find_all_mindices\u001b[0m:\u001b[36m59\u001b[0m - \u001b[34m\u001b[1miteration 1300\u001b[0m\n",
      "\u001b[32m2020-04-05 12:58:52.169\u001b[0m | \u001b[34m\u001b[1mDEBUG   \u001b[0m | \u001b[36mlorapy.signals.processing.sliding_mean\u001b[0m:\u001b[36m_find_all_mindices\u001b[0m:\u001b[36m59\u001b[0m - \u001b[34m\u001b[1miteration 1350\u001b[0m\n",
      "\u001b[32m2020-04-05 12:58:52.173\u001b[0m | \u001b[34m\u001b[1mDEBUG   \u001b[0m | \u001b[36mlorapy.signals.processing.sliding_mean\u001b[0m:\u001b[36m_find_all_mindices\u001b[0m:\u001b[36m59\u001b[0m - \u001b[34m\u001b[1miteration 1400\u001b[0m\n",
      "\u001b[32m2020-04-05 12:58:52.177\u001b[0m | \u001b[34m\u001b[1mDEBUG   \u001b[0m | \u001b[36mlorapy.signals.processing.sliding_mean\u001b[0m:\u001b[36m_find_all_mindices\u001b[0m:\u001b[36m59\u001b[0m - \u001b[34m\u001b[1miteration 1450\u001b[0m\n",
      "\u001b[32m2020-04-05 12:58:52.182\u001b[0m | \u001b[34m\u001b[1mDEBUG   \u001b[0m | \u001b[36mlorapy.signals.processing.sliding_mean\u001b[0m:\u001b[36m_find_all_mindices\u001b[0m:\u001b[36m59\u001b[0m - \u001b[34m\u001b[1miteration 1500\u001b[0m\n",
      "\u001b[32m2020-04-05 12:58:52.187\u001b[0m | \u001b[34m\u001b[1mDEBUG   \u001b[0m | \u001b[36mlorapy.signals.processing.sliding_mean\u001b[0m:\u001b[36m_find_all_mindices\u001b[0m:\u001b[36m59\u001b[0m - \u001b[34m\u001b[1miteration 1550\u001b[0m\n",
      "\u001b[32m2020-04-05 12:58:52.191\u001b[0m | \u001b[34m\u001b[1mDEBUG   \u001b[0m | \u001b[36mlorapy.signals.processing.sliding_mean\u001b[0m:\u001b[36m_find_all_mindices\u001b[0m:\u001b[36m59\u001b[0m - \u001b[34m\u001b[1miteration 1600\u001b[0m\n",
      "\u001b[32m2020-04-05 12:58:52.194\u001b[0m | \u001b[34m\u001b[1mDEBUG   \u001b[0m | \u001b[36mlorapy.signals.processing.sliding_mean\u001b[0m:\u001b[36m_find_all_mindices\u001b[0m:\u001b[36m59\u001b[0m - \u001b[34m\u001b[1miteration 1650\u001b[0m\n",
      "\u001b[32m2020-04-05 12:58:52.198\u001b[0m | \u001b[34m\u001b[1mDEBUG   \u001b[0m | \u001b[36mlorapy.signals.processing.sliding_mean\u001b[0m:\u001b[36m_find_all_mindices\u001b[0m:\u001b[36m59\u001b[0m - \u001b[34m\u001b[1miteration 1700\u001b[0m\n",
      "\u001b[32m2020-04-05 12:58:52.201\u001b[0m | \u001b[34m\u001b[1mDEBUG   \u001b[0m | \u001b[36mlorapy.signals.processing.sliding_mean\u001b[0m:\u001b[36m_find_all_mindices\u001b[0m:\u001b[36m59\u001b[0m - \u001b[34m\u001b[1miteration 1750\u001b[0m\n",
      "\u001b[32m2020-04-05 12:58:52.204\u001b[0m | \u001b[34m\u001b[1mDEBUG   \u001b[0m | \u001b[36mlorapy.signals.processing.sliding_mean\u001b[0m:\u001b[36m_find_all_mindices\u001b[0m:\u001b[36m59\u001b[0m - \u001b[34m\u001b[1miteration 1800\u001b[0m\n",
      "\u001b[32m2020-04-05 12:58:52.207\u001b[0m | \u001b[34m\u001b[1mDEBUG   \u001b[0m | \u001b[36mlorapy.signals.processing.sliding_mean\u001b[0m:\u001b[36m_find_all_mindices\u001b[0m:\u001b[36m59\u001b[0m - \u001b[34m\u001b[1miteration 1850\u001b[0m\n",
      "\u001b[32m2020-04-05 12:58:52.211\u001b[0m | \u001b[34m\u001b[1mDEBUG   \u001b[0m | \u001b[36mlorapy.signals.processing.sliding_mean\u001b[0m:\u001b[36m_find_all_mindices\u001b[0m:\u001b[36m59\u001b[0m - \u001b[34m\u001b[1miteration 1900\u001b[0m\n",
      "\u001b[32m2020-04-05 12:58:52.216\u001b[0m | \u001b[34m\u001b[1mDEBUG   \u001b[0m | \u001b[36mlorapy.signals.processing.sliding_mean\u001b[0m:\u001b[36m_find_all_mindices\u001b[0m:\u001b[36m59\u001b[0m - \u001b[34m\u001b[1miteration 1950\u001b[0m\n",
      "\u001b[32m2020-04-05 12:58:52.220\u001b[0m | \u001b[34m\u001b[1mDEBUG   \u001b[0m | \u001b[36mlorapy.signals.processing.sliding_mean\u001b[0m:\u001b[36m_find_all_mindices\u001b[0m:\u001b[36m59\u001b[0m - \u001b[34m\u001b[1miteration 2000\u001b[0m\n",
      "\u001b[32m2020-04-05 12:58:52.224\u001b[0m | \u001b[34m\u001b[1mDEBUG   \u001b[0m | \u001b[36mlorapy.signals.processing.sliding_mean\u001b[0m:\u001b[36m_find_all_mindices\u001b[0m:\u001b[36m59\u001b[0m - \u001b[34m\u001b[1miteration 2050\u001b[0m\n",
      "\u001b[32m2020-04-05 12:58:52.228\u001b[0m | \u001b[34m\u001b[1mDEBUG   \u001b[0m | \u001b[36mlorapy.signals.processing.sliding_mean\u001b[0m:\u001b[36m_find_all_mindices\u001b[0m:\u001b[36m59\u001b[0m - \u001b[34m\u001b[1miteration 2100\u001b[0m\n",
      "\u001b[32m2020-04-05 12:58:52.232\u001b[0m | \u001b[34m\u001b[1mDEBUG   \u001b[0m | \u001b[36mlorapy.signals.processing.sliding_mean\u001b[0m:\u001b[36m_find_all_mindices\u001b[0m:\u001b[36m59\u001b[0m - \u001b[34m\u001b[1miteration 2150\u001b[0m\n",
      "\u001b[32m2020-04-05 12:58:52.235\u001b[0m | \u001b[34m\u001b[1mDEBUG   \u001b[0m | \u001b[36mlorapy.signals.processing.sliding_mean\u001b[0m:\u001b[36m_find_all_mindices\u001b[0m:\u001b[36m59\u001b[0m - \u001b[34m\u001b[1miteration 2200\u001b[0m\n",
      "\u001b[32m2020-04-05 12:58:52.239\u001b[0m | \u001b[34m\u001b[1mDEBUG   \u001b[0m | \u001b[36mlorapy.signals.processing.sliding_mean\u001b[0m:\u001b[36m_find_all_mindices\u001b[0m:\u001b[36m59\u001b[0m - \u001b[34m\u001b[1miteration 2250\u001b[0m\n",
      "\u001b[32m2020-04-05 12:58:52.243\u001b[0m | \u001b[34m\u001b[1mDEBUG   \u001b[0m | \u001b[36mlorapy.signals.processing.sliding_mean\u001b[0m:\u001b[36m_find_all_mindices\u001b[0m:\u001b[36m59\u001b[0m - \u001b[34m\u001b[1miteration 2300\u001b[0m\n",
      "\u001b[32m2020-04-05 12:58:52.247\u001b[0m | \u001b[34m\u001b[1mDEBUG   \u001b[0m | \u001b[36mlorapy.signals.processing.sliding_mean\u001b[0m:\u001b[36m_find_all_mindices\u001b[0m:\u001b[36m59\u001b[0m - \u001b[34m\u001b[1miteration 2350\u001b[0m\n",
      "\u001b[32m2020-04-05 12:58:52.250\u001b[0m | \u001b[34m\u001b[1mDEBUG   \u001b[0m | \u001b[36mlorapy.signals.processing.sliding_mean\u001b[0m:\u001b[36m_find_all_mindices\u001b[0m:\u001b[36m59\u001b[0m - \u001b[34m\u001b[1miteration 2400\u001b[0m\n",
      "\u001b[32m2020-04-05 12:58:52.254\u001b[0m | \u001b[34m\u001b[1mDEBUG   \u001b[0m | \u001b[36mlorapy.signals.processing.sliding_mean\u001b[0m:\u001b[36m_find_all_mindices\u001b[0m:\u001b[36m59\u001b[0m - \u001b[34m\u001b[1miteration 2450\u001b[0m\n",
      "\u001b[32m2020-04-05 12:58:52.258\u001b[0m | \u001b[34m\u001b[1mDEBUG   \u001b[0m | \u001b[36mlorapy.signals.processing.sliding_mean\u001b[0m:\u001b[36m_find_all_mindices\u001b[0m:\u001b[36m59\u001b[0m - \u001b[34m\u001b[1miteration 2500\u001b[0m\n",
      "\u001b[32m2020-04-05 12:58:52.263\u001b[0m | \u001b[34m\u001b[1mDEBUG   \u001b[0m | \u001b[36mlorapy.signals.processing.sliding_mean\u001b[0m:\u001b[36m_find_all_mindices\u001b[0m:\u001b[36m59\u001b[0m - \u001b[34m\u001b[1miteration 2550\u001b[0m\n",
      "\u001b[32m2020-04-05 12:58:52.267\u001b[0m | \u001b[34m\u001b[1mDEBUG   \u001b[0m | \u001b[36mlorapy.signals.processing.sliding_mean\u001b[0m:\u001b[36m_find_all_mindices\u001b[0m:\u001b[36m59\u001b[0m - \u001b[34m\u001b[1miteration 2600\u001b[0m\n",
      "\u001b[32m2020-04-05 12:58:52.270\u001b[0m | \u001b[34m\u001b[1mDEBUG   \u001b[0m | \u001b[36mlorapy.signals.processing.sliding_mean\u001b[0m:\u001b[36m_find_all_mindices\u001b[0m:\u001b[36m59\u001b[0m - \u001b[34m\u001b[1miteration 2650\u001b[0m\n",
      "\u001b[32m2020-04-05 12:58:52.274\u001b[0m | \u001b[34m\u001b[1mDEBUG   \u001b[0m | \u001b[36mlorapy.signals.processing.sliding_mean\u001b[0m:\u001b[36m_find_all_mindices\u001b[0m:\u001b[36m59\u001b[0m - \u001b[34m\u001b[1miteration 2700\u001b[0m\n",
      "\u001b[32m2020-04-05 12:58:52.278\u001b[0m | \u001b[34m\u001b[1mDEBUG   \u001b[0m | \u001b[36mlorapy.signals.processing.sliding_mean\u001b[0m:\u001b[36m_find_all_mindices\u001b[0m:\u001b[36m59\u001b[0m - \u001b[34m\u001b[1miteration 2750\u001b[0m\n",
      "\u001b[32m2020-04-05 12:58:52.281\u001b[0m | \u001b[34m\u001b[1mDEBUG   \u001b[0m | \u001b[36mlorapy.signals.processing.sliding_mean\u001b[0m:\u001b[36m_find_all_mindices\u001b[0m:\u001b[36m59\u001b[0m - \u001b[34m\u001b[1miteration 2800\u001b[0m\n",
      "\u001b[32m2020-04-05 12:58:52.285\u001b[0m | \u001b[34m\u001b[1mDEBUG   \u001b[0m | \u001b[36mlorapy.signals.processing.sliding_mean\u001b[0m:\u001b[36m_find_all_mindices\u001b[0m:\u001b[36m59\u001b[0m - \u001b[34m\u001b[1miteration 2850\u001b[0m\n",
      "\u001b[32m2020-04-05 12:58:52.288\u001b[0m | \u001b[34m\u001b[1mDEBUG   \u001b[0m | \u001b[36mlorapy.signals.processing.sliding_mean\u001b[0m:\u001b[36m_find_all_mindices\u001b[0m:\u001b[36m59\u001b[0m - \u001b[34m\u001b[1miteration 2900\u001b[0m\n",
      "\u001b[32m2020-04-05 12:58:52.292\u001b[0m | \u001b[34m\u001b[1mDEBUG   \u001b[0m | \u001b[36mlorapy.signals.processing.sliding_mean\u001b[0m:\u001b[36m_find_all_mindices\u001b[0m:\u001b[36m59\u001b[0m - \u001b[34m\u001b[1miteration 2950\u001b[0m\n",
      "\u001b[32m2020-04-05 12:58:52.295\u001b[0m | \u001b[34m\u001b[1mDEBUG   \u001b[0m | \u001b[36mlorapy.signals.processing.sliding_mean\u001b[0m:\u001b[36m_find_all_mindices\u001b[0m:\u001b[36m59\u001b[0m - \u001b[34m\u001b[1miteration 3000\u001b[0m\n",
      "\u001b[32m2020-04-05 12:58:52.298\u001b[0m | \u001b[34m\u001b[1mDEBUG   \u001b[0m | \u001b[36mlorapy.signals.processing.sliding_mean\u001b[0m:\u001b[36m_find_all_mindices\u001b[0m:\u001b[36m59\u001b[0m - \u001b[34m\u001b[1miteration 3050\u001b[0m\n",
      "\u001b[32m2020-04-05 12:58:52.301\u001b[0m | \u001b[34m\u001b[1mDEBUG   \u001b[0m | \u001b[36mlorapy.signals.processing.sliding_mean\u001b[0m:\u001b[36m_find_all_mindices\u001b[0m:\u001b[36m59\u001b[0m - \u001b[34m\u001b[1miteration 3100\u001b[0m\n",
      "\u001b[32m2020-04-05 12:58:52.304\u001b[0m | \u001b[34m\u001b[1mDEBUG   \u001b[0m | \u001b[36mlorapy.signals.processing.sliding_mean\u001b[0m:\u001b[36m_find_all_mindices\u001b[0m:\u001b[36m59\u001b[0m - \u001b[34m\u001b[1miteration 3150\u001b[0m\n",
      "\u001b[32m2020-04-05 12:58:52.308\u001b[0m | \u001b[34m\u001b[1mDEBUG   \u001b[0m | \u001b[36mlorapy.signals.processing.sliding_mean\u001b[0m:\u001b[36m_find_all_mindices\u001b[0m:\u001b[36m59\u001b[0m - \u001b[34m\u001b[1miteration 3200\u001b[0m\n",
      "\u001b[32m2020-04-05 12:58:52.311\u001b[0m | \u001b[34m\u001b[1mDEBUG   \u001b[0m | \u001b[36mlorapy.signals.processing.sliding_mean\u001b[0m:\u001b[36m_find_all_mindices\u001b[0m:\u001b[36m59\u001b[0m - \u001b[34m\u001b[1miteration 3250\u001b[0m\n",
      "\u001b[32m2020-04-05 12:58:52.316\u001b[0m | \u001b[34m\u001b[1mDEBUG   \u001b[0m | \u001b[36mlorapy.signals.processing.sliding_mean\u001b[0m:\u001b[36m_find_all_mindices\u001b[0m:\u001b[36m59\u001b[0m - \u001b[34m\u001b[1miteration 3300\u001b[0m\n",
      "\u001b[32m2020-04-05 12:58:52.319\u001b[0m | \u001b[34m\u001b[1mDEBUG   \u001b[0m | \u001b[36mlorapy.signals.processing.sliding_mean\u001b[0m:\u001b[36m_find_all_mindices\u001b[0m:\u001b[36m59\u001b[0m - \u001b[34m\u001b[1miteration 3350\u001b[0m\n",
      "\u001b[32m2020-04-05 12:58:52.322\u001b[0m | \u001b[34m\u001b[1mDEBUG   \u001b[0m | \u001b[36mlorapy.signals.processing.sliding_mean\u001b[0m:\u001b[36m_find_all_mindices\u001b[0m:\u001b[36m59\u001b[0m - \u001b[34m\u001b[1miteration 3400\u001b[0m\n",
      "\u001b[32m2020-04-05 12:58:52.325\u001b[0m | \u001b[34m\u001b[1mDEBUG   \u001b[0m | \u001b[36mlorapy.signals.processing.sliding_mean\u001b[0m:\u001b[36m_find_all_mindices\u001b[0m:\u001b[36m59\u001b[0m - \u001b[34m\u001b[1miteration 3450\u001b[0m\n",
      "\u001b[32m2020-04-05 12:58:52.329\u001b[0m | \u001b[34m\u001b[1mDEBUG   \u001b[0m | \u001b[36mlorapy.signals.processing.sliding_mean\u001b[0m:\u001b[36m_find_all_mindices\u001b[0m:\u001b[36m59\u001b[0m - \u001b[34m\u001b[1miteration 3500\u001b[0m\n",
      "\u001b[32m2020-04-05 12:58:52.333\u001b[0m | \u001b[34m\u001b[1mDEBUG   \u001b[0m | \u001b[36mlorapy.signals.processing.sliding_mean\u001b[0m:\u001b[36m_find_all_mindices\u001b[0m:\u001b[36m59\u001b[0m - \u001b[34m\u001b[1miteration 3550\u001b[0m\n",
      "\u001b[32m2020-04-05 12:58:52.336\u001b[0m | \u001b[34m\u001b[1mDEBUG   \u001b[0m | \u001b[36mlorapy.signals.processing.sliding_mean\u001b[0m:\u001b[36m_find_all_mindices\u001b[0m:\u001b[36m59\u001b[0m - \u001b[34m\u001b[1miteration 3600\u001b[0m\n",
      "\u001b[32m2020-04-05 12:58:52.339\u001b[0m | \u001b[34m\u001b[1mDEBUG   \u001b[0m | \u001b[36mlorapy.signals.processing.sliding_mean\u001b[0m:\u001b[36m_find_all_mindices\u001b[0m:\u001b[36m59\u001b[0m - \u001b[34m\u001b[1miteration 3650\u001b[0m\n",
      "\u001b[32m2020-04-05 12:58:52.344\u001b[0m | \u001b[34m\u001b[1mDEBUG   \u001b[0m | \u001b[36mlorapy.signals.processing.sliding_mean\u001b[0m:\u001b[36m_find_all_mindices\u001b[0m:\u001b[36m59\u001b[0m - \u001b[34m\u001b[1miteration 3700\u001b[0m\n",
      "\u001b[32m2020-04-05 12:58:52.347\u001b[0m | \u001b[34m\u001b[1mDEBUG   \u001b[0m | \u001b[36mlorapy.signals.processing.sliding_mean\u001b[0m:\u001b[36m_find_all_mindices\u001b[0m:\u001b[36m59\u001b[0m - \u001b[34m\u001b[1miteration 3750\u001b[0m\n",
      "\u001b[32m2020-04-05 12:58:52.352\u001b[0m | \u001b[34m\u001b[1mDEBUG   \u001b[0m | \u001b[36mlorapy.signals.processing.sliding_mean\u001b[0m:\u001b[36m_find_all_mindices\u001b[0m:\u001b[36m59\u001b[0m - \u001b[34m\u001b[1miteration 3800\u001b[0m\n",
      "\u001b[32m2020-04-05 12:58:52.355\u001b[0m | \u001b[34m\u001b[1mDEBUG   \u001b[0m | \u001b[36mlorapy.signals.processing.sliding_mean\u001b[0m:\u001b[36m_find_all_mindices\u001b[0m:\u001b[36m59\u001b[0m - \u001b[34m\u001b[1miteration 3850\u001b[0m\n",
      "\u001b[32m2020-04-05 12:58:52.361\u001b[0m | \u001b[34m\u001b[1mDEBUG   \u001b[0m | \u001b[36mlorapy.signals.processing.sliding_mean\u001b[0m:\u001b[36m_find_all_mindices\u001b[0m:\u001b[36m59\u001b[0m - \u001b[34m\u001b[1miteration 3900\u001b[0m\n",
      "\u001b[32m2020-04-05 12:58:52.364\u001b[0m | \u001b[34m\u001b[1mDEBUG   \u001b[0m | \u001b[36mlorapy.signals.processing.sliding_mean\u001b[0m:\u001b[36m_find_all_mindices\u001b[0m:\u001b[36m59\u001b[0m - \u001b[34m\u001b[1miteration 3950\u001b[0m\n",
      "\u001b[32m2020-04-05 12:58:52.368\u001b[0m | \u001b[34m\u001b[1mDEBUG   \u001b[0m | \u001b[36mlorapy.signals.processing.sliding_mean\u001b[0m:\u001b[36m_find_all_mindices\u001b[0m:\u001b[36m59\u001b[0m - \u001b[34m\u001b[1miteration 4000\u001b[0m\n",
      "\u001b[32m2020-04-05 12:58:52.372\u001b[0m | \u001b[34m\u001b[1mDEBUG   \u001b[0m | \u001b[36mlorapy.signals.processing.sliding_mean\u001b[0m:\u001b[36m_find_all_mindices\u001b[0m:\u001b[36m59\u001b[0m - \u001b[34m\u001b[1miteration 4050\u001b[0m\n",
      "\u001b[32m2020-04-05 12:58:52.374\u001b[0m | \u001b[34m\u001b[1mDEBUG   \u001b[0m | \u001b[36mlorapy.signals.processing.sliding_mean\u001b[0m:\u001b[36m_find_all_mindices\u001b[0m:\u001b[36m59\u001b[0m - \u001b[34m\u001b[1miteration 4100\u001b[0m\n",
      "\u001b[32m2020-04-05 12:58:52.378\u001b[0m | \u001b[34m\u001b[1mDEBUG   \u001b[0m | \u001b[36mlorapy.signals.processing.sliding_mean\u001b[0m:\u001b[36m_find_all_mindices\u001b[0m:\u001b[36m59\u001b[0m - \u001b[34m\u001b[1miteration 4150\u001b[0m\n",
      "\u001b[32m2020-04-05 12:58:52.381\u001b[0m | \u001b[34m\u001b[1mDEBUG   \u001b[0m | \u001b[36mlorapy.signals.processing.sliding_mean\u001b[0m:\u001b[36m_find_all_mindices\u001b[0m:\u001b[36m59\u001b[0m - \u001b[34m\u001b[1miteration 4200\u001b[0m\n",
      "\u001b[32m2020-04-05 12:58:52.385\u001b[0m | \u001b[34m\u001b[1mDEBUG   \u001b[0m | \u001b[36mlorapy.signals.processing.sliding_mean\u001b[0m:\u001b[36m_find_all_mindices\u001b[0m:\u001b[36m59\u001b[0m - \u001b[34m\u001b[1miteration 4250\u001b[0m\n",
      "\u001b[32m2020-04-05 12:58:52.389\u001b[0m | \u001b[34m\u001b[1mDEBUG   \u001b[0m | \u001b[36mlorapy.signals.processing.sliding_mean\u001b[0m:\u001b[36m_find_all_mindices\u001b[0m:\u001b[36m59\u001b[0m - \u001b[34m\u001b[1miteration 4300\u001b[0m\n",
      "\u001b[32m2020-04-05 12:58:52.392\u001b[0m | \u001b[34m\u001b[1mDEBUG   \u001b[0m | \u001b[36mlorapy.signals.processing.sliding_mean\u001b[0m:\u001b[36m_find_all_mindices\u001b[0m:\u001b[36m59\u001b[0m - \u001b[34m\u001b[1miteration 4350\u001b[0m\n",
      "\u001b[32m2020-04-05 12:58:52.396\u001b[0m | \u001b[34m\u001b[1mDEBUG   \u001b[0m | \u001b[36mlorapy.signals.processing.sliding_mean\u001b[0m:\u001b[36m_find_all_mindices\u001b[0m:\u001b[36m59\u001b[0m - \u001b[34m\u001b[1miteration 4400\u001b[0m\n",
      "\u001b[32m2020-04-05 12:58:52.402\u001b[0m | \u001b[34m\u001b[1mDEBUG   \u001b[0m | \u001b[36mlorapy.signals.processing.sliding_mean\u001b[0m:\u001b[36m_find_all_mindices\u001b[0m:\u001b[36m59\u001b[0m - \u001b[34m\u001b[1miteration 4450\u001b[0m\n",
      "\u001b[32m2020-04-05 12:58:52.406\u001b[0m | \u001b[34m\u001b[1mDEBUG   \u001b[0m | \u001b[36mlorapy.signals.processing.sliding_mean\u001b[0m:\u001b[36m_find_all_mindices\u001b[0m:\u001b[36m59\u001b[0m - \u001b[34m\u001b[1miteration 4500\u001b[0m\n",
      "\u001b[32m2020-04-05 12:58:52.409\u001b[0m | \u001b[34m\u001b[1mDEBUG   \u001b[0m | \u001b[36mlorapy.signals.processing.sliding_mean\u001b[0m:\u001b[36m_find_all_mindices\u001b[0m:\u001b[36m59\u001b[0m - \u001b[34m\u001b[1miteration 4550\u001b[0m\n",
      "\u001b[32m2020-04-05 12:58:52.412\u001b[0m | \u001b[34m\u001b[1mDEBUG   \u001b[0m | \u001b[36mlorapy.signals.processing.sliding_mean\u001b[0m:\u001b[36m_find_all_mindices\u001b[0m:\u001b[36m59\u001b[0m - \u001b[34m\u001b[1miteration 4600\u001b[0m\n",
      "\u001b[32m2020-04-05 12:58:52.416\u001b[0m | \u001b[34m\u001b[1mDEBUG   \u001b[0m | \u001b[36mlorapy.signals.processing.sliding_mean\u001b[0m:\u001b[36m_find_all_mindices\u001b[0m:\u001b[36m59\u001b[0m - \u001b[34m\u001b[1miteration 4650\u001b[0m\n",
      "\u001b[32m2020-04-05 12:58:52.419\u001b[0m | \u001b[34m\u001b[1mDEBUG   \u001b[0m | \u001b[36mlorapy.signals.processing.sliding_mean\u001b[0m:\u001b[36m_find_all_mindices\u001b[0m:\u001b[36m59\u001b[0m - \u001b[34m\u001b[1miteration 4700\u001b[0m\n",
      "\u001b[32m2020-04-05 12:58:52.423\u001b[0m | \u001b[34m\u001b[1mDEBUG   \u001b[0m | \u001b[36mlorapy.signals.processing.sliding_mean\u001b[0m:\u001b[36m_find_all_mindices\u001b[0m:\u001b[36m59\u001b[0m - \u001b[34m\u001b[1miteration 4750\u001b[0m\n",
      "\u001b[32m2020-04-05 12:58:52.426\u001b[0m | \u001b[34m\u001b[1mDEBUG   \u001b[0m | \u001b[36mlorapy.signals.processing.sliding_mean\u001b[0m:\u001b[36m_find_all_mindices\u001b[0m:\u001b[36m59\u001b[0m - \u001b[34m\u001b[1miteration 4800\u001b[0m\n",
      "\u001b[32m2020-04-05 12:58:52.429\u001b[0m | \u001b[34m\u001b[1mDEBUG   \u001b[0m | \u001b[36mlorapy.signals.processing.sliding_mean\u001b[0m:\u001b[36m_find_all_mindices\u001b[0m:\u001b[36m59\u001b[0m - \u001b[34m\u001b[1miteration 4850\u001b[0m\n",
      "\u001b[32m2020-04-05 12:58:52.432\u001b[0m | \u001b[34m\u001b[1mDEBUG   \u001b[0m | \u001b[36mlorapy.signals.processing.sliding_mean\u001b[0m:\u001b[36m_find_all_mindices\u001b[0m:\u001b[36m59\u001b[0m - \u001b[34m\u001b[1miteration 4900\u001b[0m\n",
      "\u001b[32m2020-04-05 12:58:52.436\u001b[0m | \u001b[34m\u001b[1mDEBUG   \u001b[0m | \u001b[36mlorapy.signals.processing.sliding_mean\u001b[0m:\u001b[36m_find_all_mindices\u001b[0m:\u001b[36m59\u001b[0m - \u001b[34m\u001b[1miteration 4950\u001b[0m\n",
      "\u001b[32m2020-04-05 12:58:52.439\u001b[0m | \u001b[34m\u001b[1mDEBUG   \u001b[0m | \u001b[36mlorapy.signals.processing.sliding_mean\u001b[0m:\u001b[36m_find_all_mindices\u001b[0m:\u001b[36m59\u001b[0m - \u001b[34m\u001b[1miteration 5000\u001b[0m\n",
      "\u001b[32m2020-04-05 12:58:52.442\u001b[0m | \u001b[34m\u001b[1mDEBUG   \u001b[0m | \u001b[36mlorapy.signals.processing.sliding_mean\u001b[0m:\u001b[36m_find_all_mindices\u001b[0m:\u001b[36m59\u001b[0m - \u001b[34m\u001b[1miteration 5050\u001b[0m\n",
      "\u001b[32m2020-04-05 12:58:52.445\u001b[0m | \u001b[34m\u001b[1mDEBUG   \u001b[0m | \u001b[36mlorapy.signals.processing.sliding_mean\u001b[0m:\u001b[36m_find_all_mindices\u001b[0m:\u001b[36m59\u001b[0m - \u001b[34m\u001b[1miteration 5100\u001b[0m\n",
      "\u001b[32m2020-04-05 12:58:52.448\u001b[0m | \u001b[34m\u001b[1mDEBUG   \u001b[0m | \u001b[36mlorapy.signals.processing.sliding_mean\u001b[0m:\u001b[36m_find_all_mindices\u001b[0m:\u001b[36m59\u001b[0m - \u001b[34m\u001b[1miteration 5150\u001b[0m\n",
      "\u001b[32m2020-04-05 12:58:52.452\u001b[0m | \u001b[34m\u001b[1mDEBUG   \u001b[0m | \u001b[36mlorapy.signals.processing.sliding_mean\u001b[0m:\u001b[36m_find_all_mindices\u001b[0m:\u001b[36m59\u001b[0m - \u001b[34m\u001b[1miteration 5200\u001b[0m\n",
      "\u001b[32m2020-04-05 12:58:52.455\u001b[0m | \u001b[34m\u001b[1mDEBUG   \u001b[0m | \u001b[36mlorapy.signals.processing.sliding_mean\u001b[0m:\u001b[36m_find_all_mindices\u001b[0m:\u001b[36m59\u001b[0m - \u001b[34m\u001b[1miteration 5250\u001b[0m\n",
      "\u001b[32m2020-04-05 12:58:52.458\u001b[0m | \u001b[34m\u001b[1mDEBUG   \u001b[0m | \u001b[36mlorapy.signals.processing.sliding_mean\u001b[0m:\u001b[36m_find_all_mindices\u001b[0m:\u001b[36m59\u001b[0m - \u001b[34m\u001b[1miteration 5300\u001b[0m\n",
      "\u001b[32m2020-04-05 12:58:52.461\u001b[0m | \u001b[34m\u001b[1mDEBUG   \u001b[0m | \u001b[36mlorapy.signals.processing.sliding_mean\u001b[0m:\u001b[36m_find_all_mindices\u001b[0m:\u001b[36m59\u001b[0m - \u001b[34m\u001b[1miteration 5350\u001b[0m\n",
      "\u001b[32m2020-04-05 12:58:52.467\u001b[0m | \u001b[34m\u001b[1mDEBUG   \u001b[0m | \u001b[36mlorapy.signals.processing.sliding_mean\u001b[0m:\u001b[36m_find_all_mindices\u001b[0m:\u001b[36m59\u001b[0m - \u001b[34m\u001b[1miteration 5400\u001b[0m\n",
      "\u001b[32m2020-04-05 12:58:52.472\u001b[0m | \u001b[34m\u001b[1mDEBUG   \u001b[0m | \u001b[36mlorapy.signals.processing.sliding_mean\u001b[0m:\u001b[36m_find_all_mindices\u001b[0m:\u001b[36m59\u001b[0m - \u001b[34m\u001b[1miteration 5450\u001b[0m\n",
      "\u001b[32m2020-04-05 12:58:52.477\u001b[0m | \u001b[34m\u001b[1mDEBUG   \u001b[0m | \u001b[36mlorapy.signals.processing.sliding_mean\u001b[0m:\u001b[36m_find_all_mindices\u001b[0m:\u001b[36m59\u001b[0m - \u001b[34m\u001b[1miteration 5500\u001b[0m\n",
      "\u001b[32m2020-04-05 12:58:52.483\u001b[0m | \u001b[34m\u001b[1mDEBUG   \u001b[0m | \u001b[36mlorapy.signals.processing.sliding_mean\u001b[0m:\u001b[36m_find_all_mindices\u001b[0m:\u001b[36m59\u001b[0m - \u001b[34m\u001b[1miteration 5550\u001b[0m\n",
      "\u001b[32m2020-04-05 12:58:52.495\u001b[0m | \u001b[34m\u001b[1mDEBUG   \u001b[0m | \u001b[36mlorapy.signals.processing.sliding_mean\u001b[0m:\u001b[36m_find_all_mindices\u001b[0m:\u001b[36m59\u001b[0m - \u001b[34m\u001b[1miteration 5600\u001b[0m\n",
      "\u001b[32m2020-04-05 12:58:52.500\u001b[0m | \u001b[34m\u001b[1mDEBUG   \u001b[0m | \u001b[36mlorapy.signals.processing.sliding_mean\u001b[0m:\u001b[36m_find_all_mindices\u001b[0m:\u001b[36m59\u001b[0m - \u001b[34m\u001b[1miteration 5650\u001b[0m\n",
      "\u001b[32m2020-04-05 12:58:52.503\u001b[0m | \u001b[34m\u001b[1mDEBUG   \u001b[0m | \u001b[36mlorapy.signals.processing.sliding_mean\u001b[0m:\u001b[36m_find_all_mindices\u001b[0m:\u001b[36m59\u001b[0m - \u001b[34m\u001b[1miteration 5700\u001b[0m\n",
      "\u001b[32m2020-04-05 12:58:52.506\u001b[0m | \u001b[34m\u001b[1mDEBUG   \u001b[0m | \u001b[36mlorapy.signals.processing.sliding_mean\u001b[0m:\u001b[36m_find_all_mindices\u001b[0m:\u001b[36m59\u001b[0m - \u001b[34m\u001b[1miteration 5750\u001b[0m\n",
      "\u001b[32m2020-04-05 12:58:52.510\u001b[0m | \u001b[34m\u001b[1mDEBUG   \u001b[0m | \u001b[36mlorapy.signals.processing.sliding_mean\u001b[0m:\u001b[36m_find_all_mindices\u001b[0m:\u001b[36m59\u001b[0m - \u001b[34m\u001b[1miteration 5800\u001b[0m\n",
      "\u001b[32m2020-04-05 12:58:52.513\u001b[0m | \u001b[34m\u001b[1mDEBUG   \u001b[0m | \u001b[36mlorapy.signals.processing.sliding_mean\u001b[0m:\u001b[36m_find_all_mindices\u001b[0m:\u001b[36m59\u001b[0m - \u001b[34m\u001b[1miteration 5850\u001b[0m\n",
      "\u001b[32m2020-04-05 12:58:52.517\u001b[0m | \u001b[34m\u001b[1mDEBUG   \u001b[0m | \u001b[36mlorapy.signals.processing.sliding_mean\u001b[0m:\u001b[36m_find_all_mindices\u001b[0m:\u001b[36m59\u001b[0m - \u001b[34m\u001b[1miteration 5900\u001b[0m\n",
      "\u001b[32m2020-04-05 12:58:52.520\u001b[0m | \u001b[34m\u001b[1mDEBUG   \u001b[0m | \u001b[36mlorapy.signals.processing.sliding_mean\u001b[0m:\u001b[36m_find_all_mindices\u001b[0m:\u001b[36m59\u001b[0m - \u001b[34m\u001b[1miteration 5950\u001b[0m\n",
      "\u001b[32m2020-04-05 12:58:52.524\u001b[0m | \u001b[34m\u001b[1mDEBUG   \u001b[0m | \u001b[36mlorapy.signals.processing.sliding_mean\u001b[0m:\u001b[36m_find_all_mindices\u001b[0m:\u001b[36m59\u001b[0m - \u001b[34m\u001b[1miteration 6000\u001b[0m\n",
      "\u001b[32m2020-04-05 12:58:52.529\u001b[0m | \u001b[34m\u001b[1mDEBUG   \u001b[0m | \u001b[36mlorapy.signals.processing.sliding_mean\u001b[0m:\u001b[36m_find_all_mindices\u001b[0m:\u001b[36m59\u001b[0m - \u001b[34m\u001b[1miteration 6050\u001b[0m\n",
      "\u001b[32m2020-04-05 12:58:52.533\u001b[0m | \u001b[34m\u001b[1mDEBUG   \u001b[0m | \u001b[36mlorapy.signals.processing.sliding_mean\u001b[0m:\u001b[36m_find_all_mindices\u001b[0m:\u001b[36m59\u001b[0m - \u001b[34m\u001b[1miteration 6100\u001b[0m\n",
      "\u001b[32m2020-04-05 12:58:52.541\u001b[0m | \u001b[34m\u001b[1mDEBUG   \u001b[0m | \u001b[36mlorapy.signals.processing.sliding_mean\u001b[0m:\u001b[36m_find_all_mindices\u001b[0m:\u001b[36m59\u001b[0m - \u001b[34m\u001b[1miteration 6150\u001b[0m\n",
      "\u001b[32m2020-04-05 12:58:52.545\u001b[0m | \u001b[34m\u001b[1mDEBUG   \u001b[0m | \u001b[36mlorapy.signals.processing.sliding_mean\u001b[0m:\u001b[36m_find_all_mindices\u001b[0m:\u001b[36m59\u001b[0m - \u001b[34m\u001b[1miteration 6200\u001b[0m\n",
      "\u001b[32m2020-04-05 12:58:52.548\u001b[0m | \u001b[34m\u001b[1mDEBUG   \u001b[0m | \u001b[36mlorapy.signals.processing.sliding_mean\u001b[0m:\u001b[36m_find_all_mindices\u001b[0m:\u001b[36m59\u001b[0m - \u001b[34m\u001b[1miteration 6250\u001b[0m\n",
      "\u001b[32m2020-04-05 12:58:52.552\u001b[0m | \u001b[34m\u001b[1mDEBUG   \u001b[0m | \u001b[36mlorapy.signals.processing.sliding_mean\u001b[0m:\u001b[36m_find_all_mindices\u001b[0m:\u001b[36m59\u001b[0m - \u001b[34m\u001b[1miteration 6300\u001b[0m\n",
      "\u001b[32m2020-04-05 12:58:52.555\u001b[0m | \u001b[34m\u001b[1mDEBUG   \u001b[0m | \u001b[36mlorapy.signals.processing.sliding_mean\u001b[0m:\u001b[36m_find_all_mindices\u001b[0m:\u001b[36m59\u001b[0m - \u001b[34m\u001b[1miteration 6350\u001b[0m\n",
      "\u001b[32m2020-04-05 12:58:52.558\u001b[0m | \u001b[34m\u001b[1mDEBUG   \u001b[0m | \u001b[36mlorapy.signals.processing.sliding_mean\u001b[0m:\u001b[36m_find_all_mindices\u001b[0m:\u001b[36m59\u001b[0m - \u001b[34m\u001b[1miteration 6400\u001b[0m\n",
      "\u001b[32m2020-04-05 12:58:52.561\u001b[0m | \u001b[34m\u001b[1mDEBUG   \u001b[0m | \u001b[36mlorapy.signals.processing.sliding_mean\u001b[0m:\u001b[36m_scan_slice\u001b[0m:\u001b[36m92\u001b[0m - \u001b[34m\u001b[1mreached end of signal\u001b[0m\n",
      "\u001b[32m2020-04-05 12:58:52.562\u001b[0m | \u001b[34m\u001b[1mDEBUG   \u001b[0m | \u001b[36mlorapy.signals.processing.utils\u001b[0m:\u001b[36mclean_index_list\u001b[0m:\u001b[36m24\u001b[0m - \u001b[34m\u001b[1mfound 0 false indexes\u001b[0m\n",
      "\u001b[32m2020-04-05 12:58:52.564\u001b[0m | \u001b[1mINFO    \u001b[0m | \u001b[36mlorapy.signals.processing.sliding_mean\u001b[0m:\u001b[36m_find_all_mindices\u001b[0m:\u001b[36m70\u001b[0m - \u001b[1mfound [6441 // 6441] packet locations\u001b[0m\n",
      "\u001b[32m2020-04-05 12:58:52.572\u001b[0m | \u001b[34m\u001b[1mDEBUG   \u001b[0m | \u001b[36mlorapy.packets.utils\u001b[0m:\u001b[36mslice_all_packets\u001b[0m:\u001b[36m21\u001b[0m - \u001b[34m\u001b[1mgot max packet length: 2480\u001b[0m\n",
      "\u001b[32m2020-04-05 12:58:52.651\u001b[0m | \u001b[1mINFO    \u001b[0m | \u001b[36mlorapy.packets.utils\u001b[0m:\u001b[36mslice_all_packets\u001b[0m:\u001b[36m28\u001b[0m - \u001b[1mextracted 6441 packets from signal\u001b[0m\n",
      "\u001b[32m2020-04-05 12:58:52.660\u001b[0m | \u001b[34m\u001b[1mDEBUG   \u001b[0m | \u001b[36mlorapy.signals.signal\u001b[0m:\u001b[36m_slice_and_load\u001b[0m:\u001b[36m74\u001b[0m - \u001b[34m\u001b[1mloaded 6441 lora packets\u001b[0m\n"
     ]
    }
   ],
   "source": [
    "signal.extract_packets(method='slide-mean', auto_adj=False)"
   ]
  },
  {
   "cell_type": "code",
   "execution_count": null,
   "metadata": {},
   "outputs": [],
   "source": [
    "plt.plot(signal._raw_packets[rand(signal.num_packets), :])"
   ]
  },
  {
   "cell_type": "code",
   "execution_count": null,
   "metadata": {},
   "outputs": [],
   "source": []
  },
  {
   "cell_type": "markdown",
   "metadata": {},
   "source": [
    "## inspect packets"
   ]
  },
  {
   "cell_type": "code",
   "execution_count": null,
   "metadata": {},
   "outputs": [],
   "source": [
    "for packet in signal.packets:\n",
    "    break\n",
    "    \n",
    "packet"
   ]
  },
  {
   "cell_type": "code",
   "execution_count": null,
   "metadata": {},
   "outputs": [],
   "source": [
    "packet.endpoints"
   ]
  },
  {
   "cell_type": "code",
   "execution_count": null,
   "metadata": {},
   "outputs": [],
   "source": [
    "packet.plot()"
   ]
  },
  {
   "cell_type": "code",
   "execution_count": null,
   "metadata": {},
   "outputs": [],
   "source": [
    "packet.adjustment"
   ]
  },
  {
   "cell_type": "markdown",
   "metadata": {},
   "source": [
    "### random packet"
   ]
  },
  {
   "cell_type": "code",
   "execution_count": null,
   "metadata": {},
   "outputs": [],
   "source": [
    "packet = signal.packets[rand(signal.num_packets)]\n",
    "packet.plot()"
   ]
  },
  {
   "cell_type": "code",
   "execution_count": null,
   "metadata": {},
   "outputs": [],
   "source": [
    "start, stop = packet.endpoints\n",
    "start, stop"
   ]
  },
  {
   "cell_type": "code",
   "execution_count": null,
   "metadata": {},
   "outputs": [],
   "source": [
    "plt.plot(signal.real_abs_signal[start-600:stop])"
   ]
  },
  {
   "cell_type": "code",
   "execution_count": null,
   "metadata": {},
   "outputs": [],
   "source": []
  },
  {
   "cell_type": "markdown",
   "metadata": {},
   "source": [
    "## symbol test"
   ]
  },
  {
   "cell_type": "code",
   "execution_count": null,
   "metadata": {},
   "outputs": [],
   "source": [
    "numSymbols = 8\n",
    "symbols = np.empty([signal.num_packets * numSymbols, int(signal.stats.samp_per_sym)], dtype='complex')\n",
    "N = symbols.shape[0]\n",
    "\n",
    "k,l = 0, 0\n",
    "\n",
    "for i in range(signal.num_packets):\n",
    "    for j in range(numSymbols):\n",
    "        \n",
    "        symbols[l,:] = signal._raw_packets[i, k:k+signal.stats.samp_per_sym]\n",
    "        k = k + signal.stats.samp_per_sym\n",
    "        l = l+1\n",
    "    k = 0\n",
    "    \n",
    "print(\"Total Symbols: \" + str(symbols.shape[0]))"
   ]
  },
  {
   "cell_type": "code",
   "execution_count": null,
   "metadata": {},
   "outputs": [],
   "source": [
    "plt.plot(symbols[rand(symbols.shape[0]), :])"
   ]
  },
  {
   "cell_type": "code",
   "execution_count": null,
   "metadata": {},
   "outputs": [],
   "source": []
  },
  {
   "cell_type": "code",
   "execution_count": null,
   "metadata": {},
   "outputs": [],
   "source": []
  },
  {
   "cell_type": "code",
   "execution_count": null,
   "metadata": {},
   "outputs": [],
   "source": []
  },
  {
   "cell_type": "code",
   "execution_count": null,
   "metadata": {},
   "outputs": [],
   "source": []
  },
  {
   "cell_type": "code",
   "execution_count": null,
   "metadata": {},
   "outputs": [],
   "source": []
  }
 ],
 "metadata": {
  "kernelspec": {
   "display_name": "Python 3",
   "language": "python",
   "name": "python3"
  },
  "language_info": {
   "codemirror_mode": {
    "name": "ipython",
    "version": 3
   },
   "file_extension": ".py",
   "mimetype": "text/x-python",
   "name": "python",
   "nbconvert_exporter": "python",
   "pygments_lexer": "ipython3",
   "version": "3.7.6"
  }
 },
 "nbformat": 4,
 "nbformat_minor": 4
}
