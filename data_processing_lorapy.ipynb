{
 "cells": [
  {
   "cell_type": "markdown",
   "metadata": {},
   "source": [
    "# lorapy data processing"
   ]
  },
  {
   "cell_type": "code",
   "execution_count": 1,
   "metadata": {},
   "outputs": [],
   "source": [
    "%load_ext autoreload\n",
    "%autoreload 2\n",
    "\n",
    "import pathlib\n",
    "\n",
    "import os, sys\n",
    "from loguru import logger\n",
    "logger.remove(None)\n",
    "logger.add(sys.stdout, colorize=True)\n",
    "\n",
    "import numpy as np\n",
    "\n",
    "import matplotlib.pyplot as plt \n",
    "plt.style.use('dark_background')\n",
    "%matplotlib inline"
   ]
  },
  {
   "cell_type": "code",
   "execution_count": 2,
   "metadata": {
    "scrolled": true
   },
   "outputs": [],
   "source": [
    "# from lorapy.io.load import DatLoader\n",
    "import lorapy"
   ]
  },
  {
   "cell_type": "markdown",
   "metadata": {},
   "source": [
    "## setup "
   ]
  },
  {
   "cell_type": "code",
   "execution_count": 3,
   "metadata": {},
   "outputs": [],
   "source": [
    "_BASE_DATA_DIR = pathlib.Path('/Users/trevor/Work/1-projects/lora-processing/data')\n",
    "\n",
    "BENCHTOP_DATA_DIR = _BASE_DATA_DIR.joinpath('lora-benchtop-recording')\n",
    "OTA_DATA_DIR = _BASE_DATA_DIR.joinpath('LoRa_Recording_OTA')\n",
    "OUTDOOR_DATA_DIR = _BASE_DATA_DIR.joinpath('LoRa_Recording_Outdoor')"
   ]
  },
  {
   "cell_type": "markdown",
   "metadata": {},
   "source": [
    "## utils"
   ]
  },
  {
   "cell_type": "code",
   "execution_count": 4,
   "metadata": {},
   "outputs": [],
   "source": [
    "import random\n",
    "rand = lambda mx: random.randint(0, mx)"
   ]
  },
  {
   "cell_type": "markdown",
   "metadata": {},
   "source": [
    "# load"
   ]
  },
  {
   "cell_type": "code",
   "execution_count": 33,
   "metadata": {},
   "outputs": [
    {
     "name": "stdout",
     "output_type": "stream",
     "text": [
      "\u001b[32m2020-04-06 13:43:04.560\u001b[0m | \u001b[34m\u001b[1mDEBUG   \u001b[0m | \u001b[36mlorapy.io._base_loader\u001b[0m:\u001b[36m_validate_data_path\u001b[0m:\u001b[36m129\u001b[0m - \u001b[34m\u001b[1mset datafile directory: /Users/trevor/Work/1-projects/lora-processing/data/LoRa_Recording_Outdoor\u001b[0m\n",
      "\u001b[32m2020-04-06 13:43:04.563\u001b[0m | \u001b[1mINFO    \u001b[0m | \u001b[36mlorapy.io._base_loader\u001b[0m:\u001b[36m_process_data_dir\u001b[0m:\u001b[36m142\u001b[0m - \u001b[1mfound 20 data file(s)\u001b[0m\n",
      "\u001b[32m2020-04-06 13:43:04.565\u001b[0m | \u001b[1mINFO    \u001b[0m | \u001b[36mlorapy.io.load\u001b[0m:\u001b[36m__init__\u001b[0m:\u001b[36m25\u001b[0m - \u001b[1minitialized DatLoader\u001b[0m\n"
     ]
    },
    {
     "data": {
      "text/plain": [
       "[DatFile(id=0 | name='lora_BW9_SF8_915MHz_1Msps_L42.dat'),\n",
       " DatFile(id=1 | name='lora_BW8_SF12_915MHz_1Msps_Att80_v0.dat'),\n",
       " DatFile(id=2 | name='lora_BW2_SF12_915MHz_1Msps_Att80_v0.dat'),\n",
       " DatFile(id=3 | name='lora_BW8_SF11_915_25MHz_1Msps_L37.dat'),\n",
       " DatFile(id=4 | name='lora_BW8_SF10_915MHz_1Msps_Att80_v0.dat'),\n",
       " DatFile(id=5 | name='lora_BW9_SF12_915MHz_1Msps_Att80_v0.dat'),\n",
       " DatFile(id=6 | name='lora_BW2_SF10_915MHz_1Msps_Att80_v0.dat'),\n",
       " DatFile(id=7 | name='lora_BW9_SF10_915MHz_1Msps_L1.dat'),\n",
       " DatFile(id=8 | name='lora_BW1_SF12_915MHz_1Msps_Att70_v3.dat'),\n",
       " DatFile(id=9 | name='lora_BW7_SF11_915MHz_1Msps_Att80_v0.dat'),\n",
       " DatFile(id=10 | name='lora_BW1_SF11_915MHz_1Msps_Att80_v0.dat'),\n",
       " DatFile(id=11 | name='lora_BW1_SF10_915MHz_1Msps_Att80_v0.dat'),\n",
       " DatFile(id=12 | name='lora_BW7_SF10_915MHz_1Msps_Att80_v0.dat'),\n",
       " DatFile(id=13 | name='lora_BW2_SF11_915MHz_1Msps_Att80_v0.dat'),\n",
       " DatFile(id=14 | name='lora_BW8_SF11_915MHz_1Msps_Att80_v0.dat'),\n",
       " DatFile(id=15 | name='lora_BW1_SF12_915MHz_1Msps_Att80_v0.dat'),\n",
       " DatFile(id=16 | name='lora_BW7_SF12_915MHz_1Msps_Att80_v0.dat'),\n",
       " DatFile(id=17 | name='lora_BW1_SF8_914_75MHz_1Msps_L24.dat'),\n",
       " DatFile(id=18 | name='lora_BW1_SF11_915MHz_1Msps_Att70_v3.dat'),\n",
       " DatFile(id=19 | name='lora_BW9_SF11_915MHz_1Msps_Att80_v0.dat')]"
      ]
     },
     "execution_count": 33,
     "metadata": {},
     "output_type": "execute_result"
    }
   ],
   "source": [
    "loader = lorapy.load(OUTDOOR_DATA_DIR, autoload=True)\n",
    "loader.file_list"
   ]
  },
  {
   "cell_type": "code",
   "execution_count": 34,
   "metadata": {},
   "outputs": [
    {
     "data": {
      "text/plain": [
       "DatFile(id=18 | name='lora_BW1_SF11_915MHz_1Msps_Att70_v3.dat')"
      ]
     },
     "execution_count": 34,
     "metadata": {},
     "output_type": "execute_result"
    }
   ],
   "source": [
    "loader.select(file_id=18)"
   ]
  },
  {
   "cell_type": "code",
   "execution_count": 36,
   "metadata": {},
   "outputs": [
    {
     "data": {
      "text/plain": [
       "[DatFile(id=9 | name='lora_BW7_SF11_915MHz_1Msps_Att80_v0.dat'),\n",
       " DatFile(id=12 | name='lora_BW7_SF10_915MHz_1Msps_Att80_v0.dat'),\n",
       " DatFile(id=16 | name='lora_BW7_SF12_915MHz_1Msps_Att80_v0.dat')]"
      ]
     },
     "execution_count": 36,
     "metadata": {},
     "output_type": "execute_result"
    }
   ],
   "source": [
    "loader.filter(bw=7)"
   ]
  },
  {
   "cell_type": "code",
   "execution_count": 37,
   "metadata": {},
   "outputs": [
    {
     "data": {
      "text/plain": [
       "[DatFile(id=13 | name='lora_BW2_SF11_915MHz_1Msps_Att80_v0.dat')]"
      ]
     },
     "execution_count": 37,
     "metadata": {},
     "output_type": "execute_result"
    }
   ],
   "source": [
    "loader.filter(bw=2, sf=11)"
   ]
  },
  {
   "cell_type": "code",
   "execution_count": null,
   "metadata": {},
   "outputs": [],
   "source": []
  },
  {
   "cell_type": "code",
   "execution_count": null,
   "metadata": {},
   "outputs": [],
   "source": []
  },
  {
   "cell_type": "code",
   "execution_count": null,
   "metadata": {},
   "outputs": [],
   "source": [
    "tar_filename = 'lora_BW9_SF10_915MHz_1Msps_L1.dat'\n",
    "\n",
    "file = [file for file in loader.filelist if file.name == tar_filename][0]\n",
    "file"
   ]
  },
  {
   "cell_type": "code",
   "execution_count": 39,
   "metadata": {},
   "outputs": [
    {
     "data": {
      "text/plain": [
       "DatFile(id=7 | name='lora_BW9_SF10_915MHz_1Msps_L1.dat')"
      ]
     },
     "execution_count": 39,
     "metadata": {},
     "output_type": "execute_result"
    }
   ],
   "source": [
    "file = loader.filter(bw=9, sf=10)[0]\n",
    "file"
   ]
  },
  {
   "cell_type": "markdown",
   "metadata": {},
   "source": [
    "# process"
   ]
  },
  {
   "cell_type": "markdown",
   "metadata": {},
   "source": [
    "## convert "
   ]
  },
  {
   "cell_type": "code",
   "execution_count": null,
   "metadata": {},
   "outputs": [],
   "source": [
    "signal = file.to_signal()\n",
    "signal"
   ]
  },
  {
   "cell_type": "markdown",
   "metadata": {},
   "source": [
    "## stats "
   ]
  },
  {
   "cell_type": "code",
   "execution_count": null,
   "metadata": {},
   "outputs": [],
   "source": [
    "signal.stats"
   ]
  },
  {
   "cell_type": "markdown",
   "metadata": {},
   "source": [
    "## plots"
   ]
  },
  {
   "cell_type": "code",
   "execution_count": null,
   "metadata": {},
   "outputs": [],
   "source": [
    "signal.plot(real=True, stop=180_000, color='blue')"
   ]
  },
  {
   "cell_type": "markdown",
   "metadata": {},
   "source": [
    "# packets"
   ]
  },
  {
   "cell_type": "markdown",
   "metadata": {},
   "source": [
    "## extract - auto adjust"
   ]
  },
  {
   "cell_type": "raw",
   "metadata": {},
   "source": [
    "signal.extract_packets(method='slide-mean', auto_adj=True)"
   ]
  },
  {
   "cell_type": "raw",
   "metadata": {},
   "source": [
    "signal.plot_packet()"
   ]
  },
  {
   "cell_type": "markdown",
   "metadata": {},
   "source": [
    "## extract - manual adjust"
   ]
  },
  {
   "cell_type": "code",
   "execution_count": null,
   "metadata": {
    "scrolled": true
   },
   "outputs": [],
   "source": [
    "signal.extract_packets(method='slide-mean', auto_adj=False, overlap=0.7)"
   ]
  },
  {
   "cell_type": "code",
   "execution_count": null,
   "metadata": {},
   "outputs": [],
   "source": [
    "signal.adjust_packets(force_check=True, look_ahead=100, threshold=0.5)"
   ]
  },
  {
   "cell_type": "code",
   "execution_count": null,
   "metadata": {},
   "outputs": [],
   "source": [
    "signal.plot_packet(real=False)"
   ]
  },
  {
   "cell_type": "code",
   "execution_count": null,
   "metadata": {},
   "outputs": [],
   "source": []
  },
  {
   "cell_type": "markdown",
   "metadata": {},
   "source": [
    "## inspect"
   ]
  },
  {
   "cell_type": "code",
   "execution_count": null,
   "metadata": {},
   "outputs": [],
   "source": [
    "for packet in signal.packets[:14]:\n",
    "    pass\n",
    "    \n",
    "packet"
   ]
  },
  {
   "cell_type": "code",
   "execution_count": null,
   "metadata": {},
   "outputs": [],
   "source": [
    "packet.plot(real=False)"
   ]
  },
  {
   "cell_type": "code",
   "execution_count": null,
   "metadata": {},
   "outputs": [],
   "source": []
  },
  {
   "cell_type": "markdown",
   "metadata": {},
   "source": [
    "# symbols"
   ]
  },
  {
   "cell_type": "code",
   "execution_count": null,
   "metadata": {},
   "outputs": [],
   "source": [
    "packet = signal.random_packet\n",
    "packet.plot()\n",
    "display(packet)"
   ]
  },
  {
   "cell_type": "markdown",
   "metadata": {},
   "source": [
    "## extraction"
   ]
  },
  {
   "cell_type": "code",
   "execution_count": null,
   "metadata": {},
   "outputs": [],
   "source": [
    "packet.extract_preamble_symbols()"
   ]
  },
  {
   "cell_type": "code",
   "execution_count": null,
   "metadata": {},
   "outputs": [],
   "source": [
    "packet.plot_symbol(real=False)"
   ]
  },
  {
   "cell_type": "markdown",
   "metadata": {},
   "source": [
    "## inspection"
   ]
  },
  {
   "cell_type": "code",
   "execution_count": null,
   "metadata": {},
   "outputs": [],
   "source": [
    "symbol = packet.random_symbol\n",
    "symbol.plot()\n",
    "display(symbol) "
   ]
  },
  {
   "cell_type": "code",
   "execution_count": null,
   "metadata": {},
   "outputs": [],
   "source": []
  },
  {
   "cell_type": "markdown",
   "metadata": {},
   "source": [
    "## convolution"
   ]
  },
  {
   "cell_type": "code",
   "execution_count": null,
   "metadata": {},
   "outputs": [],
   "source": [
    "symbol.plot()"
   ]
  },
  {
   "cell_type": "markdown",
   "metadata": {},
   "source": [
    "### setup `.p` reference"
   ]
  },
  {
   "cell_type": "code",
   "execution_count": null,
   "metadata": {},
   "outputs": [],
   "source": [
    "loader = lorapy.load(OUTDOOR_DATA_DIR, autoload=False, glob_pattern='**/*BW9*.p')\n",
    "p_file_path = loader.filepath\n",
    "p_file_path"
   ]
  },
  {
   "cell_type": "code",
   "execution_count": null,
   "metadata": {},
   "outputs": [],
   "source": [
    "from six.moves import cPickle\n",
    "with p_file_path.open('rb') as pfile:\n",
    "    baseline = cPickle.load(pfile)\n",
    "\n",
    "baseline = baseline[1,:]\n",
    "plt.plot(np.real(baseline))"
   ]
  },
  {
   "cell_type": "markdown",
   "metadata": {},
   "source": [
    "## convolve - builtin"
   ]
  },
  {
   "cell_type": "code",
   "execution_count": null,
   "metadata": {},
   "outputs": [],
   "source": [
    "symbol.convolve(baseline)"
   ]
  },
  {
   "cell_type": "code",
   "execution_count": null,
   "metadata": {},
   "outputs": [],
   "source": []
  },
  {
   "cell_type": "markdown",
   "metadata": {},
   "source": [
    "## signal all together"
   ]
  },
  {
   "cell_type": "code",
   "execution_count": null,
   "metadata": {},
   "outputs": [],
   "source": [
    "packet = signal.random_packet\n",
    "packet.extract_preamble_symbols()\n",
    "\n",
    "packet.plot()\n",
    "display(packet)"
   ]
  },
  {
   "cell_type": "code",
   "execution_count": null,
   "metadata": {},
   "outputs": [],
   "source": [
    "symbol = packet.random_symbol\n",
    "symbol.plot()\n",
    "display(symbol) "
   ]
  },
  {
   "cell_type": "code",
   "execution_count": null,
   "metadata": {},
   "outputs": [],
   "source": [
    "symbol.convolve(baseline)"
   ]
  },
  {
   "cell_type": "code",
   "execution_count": null,
   "metadata": {},
   "outputs": [],
   "source": [
    "symbol.absolute_endpoints"
   ]
  },
  {
   "cell_type": "code",
   "execution_count": null,
   "metadata": {},
   "outputs": [],
   "source": [
    "signal.plot(real=False, start=symbol.absolute_endpoints[0], stop=symbol.absolute_endpoints[1])"
   ]
  },
  {
   "cell_type": "code",
   "execution_count": null,
   "metadata": {},
   "outputs": [],
   "source": [
    "signal.stats.filename"
   ]
  },
  {
   "cell_type": "markdown",
   "metadata": {},
   "source": [
    "## conv scratch"
   ]
  },
  {
   "cell_type": "code",
   "execution_count": null,
   "metadata": {},
   "outputs": [],
   "source": [
    "baseline = baseline[0:signal.stats.samp_per_sym]\n",
    "\n",
    "c_out = []\n",
    "\n",
    "for i in range(symbols.shape[0]):\n",
    "    sig = symbols[i,:]\n",
    "    sig_c = np.conj(sig[::-1])\n",
    "    conv_val = np.abs(np.convolve(baseline,sig_c))/np.linalg.norm(sig)/np.linalg.norm(sig)\n",
    "\n",
    "    c_out.append(np.max(conv_val))\n",
    "\n",
    "fig = plt.figure(figsize=(15,5))\n",
    "plt.plot(c_out)"
   ]
  },
  {
   "cell_type": "code",
   "execution_count": null,
   "metadata": {},
   "outputs": [],
   "source": []
  },
  {
   "cell_type": "code",
   "execution_count": null,
   "metadata": {},
   "outputs": [],
   "source": []
  },
  {
   "cell_type": "code",
   "execution_count": null,
   "metadata": {},
   "outputs": [],
   "source": []
  },
  {
   "cell_type": "code",
   "execution_count": null,
   "metadata": {},
   "outputs": [],
   "source": []
  }
 ],
 "metadata": {
  "kernelspec": {
   "display_name": "Python 3",
   "language": "python",
   "name": "python3"
  },
  "language_info": {
   "codemirror_mode": {
    "name": "ipython",
    "version": 3
   },
   "file_extension": ".py",
   "mimetype": "text/x-python",
   "name": "python",
   "nbconvert_exporter": "python",
   "pygments_lexer": "ipython3",
   "version": "3.7.6"
  }
 },
 "nbformat": 4,
 "nbformat_minor": 4
}
