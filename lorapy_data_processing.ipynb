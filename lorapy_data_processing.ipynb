{
 "cells": [
  {
   "cell_type": "markdown",
   "metadata": {},
   "source": [
    "# lorapy data processing"
   ]
  },
  {
   "cell_type": "code",
   "execution_count": 1,
   "metadata": {},
   "outputs": [],
   "source": [
    "%load_ext autoreload\n",
    "%autoreload 2\n",
    "\n",
    "import pathlib\n",
    "\n",
    "import os, sys\n",
    "from loguru import logger\n",
    "logger.remove(None)\n",
    "logger.add(sys.stdout, colorize=True)\n",
    "\n",
    "import numpy as np\n",
    "\n",
    "import matplotlib.pyplot as plt \n",
    "plt.style.use('dark_background')\n",
    "%matplotlib inline"
   ]
  },
  {
   "cell_type": "code",
   "execution_count": 2,
   "metadata": {
    "scrolled": true
   },
   "outputs": [],
   "source": [
    "from lorapy.io.load import DatLoader"
   ]
  },
  {
   "cell_type": "markdown",
   "metadata": {},
   "source": [
    "## setup "
   ]
  },
  {
   "cell_type": "code",
   "execution_count": 3,
   "metadata": {},
   "outputs": [],
   "source": [
    "DATA_DIR = pathlib.Path('/Users/trevor/Work/1-projects/lora-processing/data/lora-benchtop-recording')"
   ]
  },
  {
   "cell_type": "markdown",
   "metadata": {},
   "source": [
    "# load"
   ]
  },
  {
   "cell_type": "code",
   "execution_count": 4,
   "metadata": {},
   "outputs": [
    {
     "name": "stdout",
     "output_type": "stream",
     "text": [
      "\u001b[32m2020-04-04 20:42:17.474\u001b[0m | \u001b[34m\u001b[1mDEBUG   \u001b[0m | \u001b[36mlorapy.io.load\u001b[0m:\u001b[36m_process_data_dir\u001b[0m:\u001b[36m68\u001b[0m - \u001b[34m\u001b[1mset datafile directory: /Users/trevor/Work/1-projects/lora-processing/data/lora-benchtop-recording\u001b[0m\n",
      "\u001b[32m2020-04-04 20:42:17.483\u001b[0m | \u001b[1mINFO    \u001b[0m | \u001b[36mlorapy.io.load\u001b[0m:\u001b[36m_process_data_dir\u001b[0m:\u001b[36m74\u001b[0m - \u001b[1mfound 110 datafile file(s)\u001b[0m\n"
     ]
    },
    {
     "data": {
      "text/plain": [
       "[DatFile('lora_BW2_SF10_915MHz_20ksps_Att100_v0.dat'),\n",
       " DatFile('lora_BW2_SF12_915MHz_20ksps_Att80_v0.dat'),\n",
       " DatFile('lora_BW2_SF10_915MHz_20ksps_Att0_v0.dat'),\n",
       " DatFile('lora_BW2_SF10_915MHz_20ksps_Att40_v0.dat'),\n",
       " DatFile('lora_BW2_SF11_915MHz_20ksps_Att60_v0.dat'),\n",
       " DatFile('lora_BW2_SF11_915MHz_20ksps_Att120_v0.dat'),\n",
       " DatFile('lora_BW2_SF12_915MHz_20ksps_Att20_v0.dat'),\n",
       " DatFile('lora_BW2_SF11_915MHz_20ksps_Att40_v0.dat'),\n",
       " DatFile('lora_BW2_SF10_915MHz_20ksps_Att60_v0.dat'),\n",
       " DatFile('lora_BW2_SF12_915MHz_20ksps_Att0_v0.dat'),\n",
       " DatFile('lora_BW2_SF11_915MHz_20ksps_Att100_v0.dat'),\n",
       " DatFile('lora_BW2_SF10_915MHz_20ksps_Att120_v0.dat'),\n",
       " DatFile('lora_BW2_SF10_915MHz_20ksps_Att20_v0.dat'),\n",
       " DatFile('lora_BW2_SF12_915MHz_20ksps_Att60_v0.dat'),\n",
       " DatFile('lora_BW2_SF11_915MHz_20ksps_Att140_v0.dat'),\n",
       " DatFile('lora_BW2_SF12_915MHz_20ksps_Att100_v0.dat'),\n",
       " DatFile('lora_BW2_SF11_915MHz_20ksps_Att80_v0.dat'),\n",
       " DatFile('lora_BW2_SF10_915MHz_20ksps_Att80_v0.dat'),\n",
       " DatFile('lora_BW2_SF12_915MHz_20ksps_Att120_v0.dat'),\n",
       " DatFile('lora_BW2_SF10_915MHz_20ksps_Att140_v0.dat'),\n",
       " DatFile('lora_BW2_SF11_915MHz_20ksps_Att20_v0.dat'),\n",
       " DatFile('lora_BW2_SF12_915MHz_20ksps_Att40_v0.dat'),\n",
       " DatFile('lora_BW2_SF11_915MHz_20ksps_Att0_v0.dat'),\n",
       " DatFile('lora_BW8_SF10_915MHz_20ksps_Att0_v0.dat'),\n",
       " DatFile('lora_BW8_SF10_915MHz_20ksps_Att20_v0.dat'),\n",
       " DatFile('lora_BW8_SF12_915MHz_20ksps_Att60_v0.dat'),\n",
       " DatFile('lora_BW8_SF12_915MHz_20ksps_Att120_v0.dat'),\n",
       " DatFile('lora_BW8_SF11_915MHz_20ksps_Att80_v0.dat'),\n",
       " DatFile('lora_BW8_SF12_915MHz_20ksps_Att100_v0.dat'),\n",
       " DatFile('lora_BW8_SF12_915MHz_20ksps_Att0_v0.dat'),\n",
       " DatFile('lora_BW8_SF10_915MHz_20ksps_Att80_v0.dat'),\n",
       " DatFile('lora_BW8_SF11_915MHz_20ksps_Att20_v0.dat'),\n",
       " DatFile('lora_BW8_SF12_915MHz_20ksps_Att40_v0.dat'),\n",
       " DatFile('lora_BW8_SF10_915MHz_20ksps_Att120_v0.dat'),\n",
       " DatFile('lora_BW8_SF12_915MHz_20ksps_Att80_v0.dat'),\n",
       " DatFile('lora_BW8_SF11_915MHz_20ksps_Att60_v0.dat'),\n",
       " DatFile('lora_BW8_SF10_915MHz_20ksps_Att40_v0.dat'),\n",
       " DatFile('lora_BW8_SF11_915MHz_20ksps_Att100_v0.dat'),\n",
       " DatFile('lora_BW8_SF12_915MHz_20ksps_Att20_v0.dat'),\n",
       " DatFile('lora_BW8_SF10_915MHz_20ksps_Att60_v0.dat'),\n",
       " DatFile('lora_BW8_SF11_915MHz_20ksps_Att40_v0.dat'),\n",
       " DatFile('lora_BW8_SF11_915MHz_20ksps_Att120_v0.dat'),\n",
       " DatFile('lora_BW8_SF11_915MHz_20ksps_Att0_v0.dat'),\n",
       " DatFile('lora_BW8_SF10_915MHz_20ksps_Att100_v0.dat'),\n",
       " DatFile('lora_BW1_SF10_915MHz_20ksps_Att120_v0.dat'),\n",
       " DatFile('lora_BW1_SF12_915MHz_20ksps_Att140_v0.dat'),\n",
       " DatFile('lora_BW1_SF10_915MHz_20ksps_Att60_v0.dat'),\n",
       " DatFile('lora_BW1_SF11_915MHz_20ksps_Att40_v0.dat'),\n",
       " DatFile('lora_BW1_SF11_915MHz_20ksps_Att0_v0.dat'),\n",
       " DatFile('lora_BW1_SF12_915MHz_20ksps_Att20_v0.dat'),\n",
       " DatFile('lora_BW1_SF11_915MHz_20ksps_Att100_v0.dat'),\n",
       " DatFile('lora_BW1_SF11_915MHz_20ksps_Att60_v0.dat'),\n",
       " DatFile('lora_BW1_SF10_915MHz_20ksps_Att40_v0.dat'),\n",
       " DatFile('lora_BW1_SF11_915MHz_20ksps_Att120_v0.dat'),\n",
       " DatFile('lora_BW1_SF10_915MHz_20ksps_Att100_v0.dat'),\n",
       " DatFile('lora_BW1_SF12_915MHz_20ksps_Att80_v0.dat'),\n",
       " DatFile('lora_BW1_SF12_915MHz_20ksps_Att40_v0.dat'),\n",
       " DatFile('lora_BW1_SF11_915MHz_20ksps_Att20_v0.dat'),\n",
       " DatFile('lora_BW1_SF12_915MHz_20ksps_Att0_v0.dat'),\n",
       " DatFile('lora_BW1_SF10_915MHz_20ksps_Att80_v0.dat'),\n",
       " DatFile('lora_BW1_SF12_915MHz_20ksps_Att120_v0.dat'),\n",
       " DatFile('lora_BW1_SF10_915MHz_20ksps_Att140_v0.dat'),\n",
       " DatFile('lora_BW1_SF11_915MHz_20ksps_Att80_v0.dat'),\n",
       " DatFile('lora_BW1_SF12_915MHz_20ksps_Att100_v0.dat'),\n",
       " DatFile('lora_BW1_SF10_915MHz_20ksps_Att0_v0.dat'),\n",
       " DatFile('lora_BW1_SF12_915MHz_20ksps_Att60_v0.dat'),\n",
       " DatFile('lora_BW1_SF10_915MHz_20ksps_Att20_v0.dat'),\n",
       " DatFile('lora_BW1_SF11_915MHz_20ksps_Att140_v0.dat'),\n",
       " DatFile('lora_BW7_SF12_915MHz_20ksps_Att100_v0.dat'),\n",
       " DatFile('lora_BW7_SF12_915MHz_20ksps_Att80_v0.dat'),\n",
       " DatFile('lora_BW7_SF11_915MHz_20ksps_Att0_v0.dat'),\n",
       " DatFile('lora_BW7_SF10_915MHz_20ksps_Att40_v0.dat'),\n",
       " DatFile('lora_BW7_SF11_915MHz_20ksps_Att60_v0.dat'),\n",
       " DatFile('lora_BW7_SF12_915MHz_20ksps_Att20_v0.dat'),\n",
       " DatFile('lora_BW7_SF11_915MHz_20ksps_Att40_v0.dat'),\n",
       " DatFile('lora_BW7_SF10_915MHz_20ksps_Att60_v0.dat'),\n",
       " DatFile('lora_BW7_SF12_915MHz_20ksps_Att120_v0.dat'),\n",
       " DatFile('lora_BW7_SF10_915MHz_20ksps_Att20_v0.dat'),\n",
       " DatFile('lora_BW7_SF12_915MHz_20ksps_Att60_v0.dat'),\n",
       " DatFile('lora_BW7_SF11_915MHz_20ksps_Att120_v0.dat'),\n",
       " DatFile('lora_BW7_SF12_915MHz_20ksps_Att0_v0.dat'),\n",
       " DatFile('lora_BW7_SF10_915MHz_20ksps_Att100_v0.dat'),\n",
       " DatFile('lora_BW7_SF11_915MHz_20ksps_Att80_v0.dat'),\n",
       " DatFile('lora_BW7_SF10_915MHz_20ksps_Att120_v0.dat'),\n",
       " DatFile('lora_BW7_SF10_915MHz_20ksps_Att80_v0.dat'),\n",
       " DatFile('lora_BW7_SF10_915MHz_20ksps_Att0_v0.dat'),\n",
       " DatFile('lora_BW7_SF11_915MHz_20ksps_Att20_v0.dat'),\n",
       " DatFile('lora_BW7_SF12_915MHz_20ksps_Att40_v0.dat'),\n",
       " DatFile('lora_BW7_SF11_915MHz_20ksps_Att100_v0.dat'),\n",
       " DatFile('lora_BW9_SF10_915MHz_20ksps_Att60_v0.dat'),\n",
       " DatFile('lora_BW9_SF11_915MHz_20ksps_Att40_v0.dat'),\n",
       " DatFile('lora_BW9_SF11_915MHz_20ksps_Att100_v0.dat'),\n",
       " DatFile('lora_BW9_SF12_915MHz_20ksps_Att20_v0.dat'),\n",
       " DatFile('lora_BW9_SF12_915MHz_20ksps_Att0_v0.dat'),\n",
       " DatFile('lora_BW9_SF10_915MHz_20ksps_Att120_v0.dat'),\n",
       " DatFile('lora_BW9_SF12_915MHz_20ksps_Att80_v0.dat'),\n",
       " DatFile('lora_BW9_SF10_915MHz_20ksps_Att0_v0.dat'),\n",
       " DatFile('lora_BW9_SF10_915MHz_20ksps_Att100_v0.dat'),\n",
       " DatFile('lora_BW9_SF11_915MHz_20ksps_Att120_v0.dat'),\n",
       " DatFile('lora_BW9_SF11_915MHz_20ksps_Att60_v0.dat'),\n",
       " DatFile('lora_BW9_SF10_915MHz_20ksps_Att40_v0.dat'),\n",
       " DatFile('lora_BW9_SF10_915MHz_20ksps_Att80_v0.dat'),\n",
       " DatFile('lora_BW9_SF12_915MHz_20ksps_Att120_v0.dat'),\n",
       " DatFile('lora_BW9_SF12_915MHz_20ksps_Att40_v0.dat'),\n",
       " DatFile('lora_BW9_SF11_915MHz_20ksps_Att0_v0.dat'),\n",
       " DatFile('lora_BW9_SF11_915MHz_20ksps_Att20_v0.dat'),\n",
       " DatFile('lora_BW9_SF12_915MHz_20ksps_Att60_v0.dat'),\n",
       " DatFile('lora_BW9_SF10_915MHz_20ksps_Att20_v0.dat'),\n",
       " DatFile('lora_BW9_SF11_915MHz_20ksps_Att80_v0.dat'),\n",
       " DatFile('lora_BW9_SF12_915MHz_20ksps_Att100_v0.dat')]"
      ]
     },
     "execution_count": 4,
     "metadata": {},
     "output_type": "execute_result"
    }
   ],
   "source": [
    "loader = DatLoader(DATA_DIR, autoload=True)\n",
    "loader.filelist"
   ]
  },
  {
   "cell_type": "code",
   "execution_count": null,
   "metadata": {},
   "outputs": [],
   "source": []
  },
  {
   "cell_type": "code",
   "execution_count": null,
   "metadata": {},
   "outputs": [],
   "source": []
  },
  {
   "cell_type": "code",
   "execution_count": null,
   "metadata": {},
   "outputs": [],
   "source": []
  },
  {
   "cell_type": "code",
   "execution_count": null,
   "metadata": {},
   "outputs": [],
   "source": []
  },
  {
   "cell_type": "code",
   "execution_count": null,
   "metadata": {},
   "outputs": [],
   "source": []
  },
  {
   "cell_type": "code",
   "execution_count": null,
   "metadata": {},
   "outputs": [],
   "source": []
  }
 ],
 "metadata": {
  "kernelspec": {
   "display_name": "Python 3",
   "language": "python",
   "name": "python3"
  },
  "language_info": {
   "codemirror_mode": {
    "name": "ipython",
    "version": 3
   },
   "file_extension": ".py",
   "mimetype": "text/x-python",
   "name": "python",
   "nbconvert_exporter": "python",
   "pygments_lexer": "ipython3",
   "version": "3.7.6"
  }
 },
 "nbformat": 4,
 "nbformat_minor": 4
}
