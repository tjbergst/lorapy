{
 "cells": [
  {
   "cell_type": "markdown",
   "metadata": {},
   "source": [
    "# lorapy symbol aggregation"
   ]
  },
  {
   "cell_type": "code",
   "execution_count": 1,
   "metadata": {},
   "outputs": [],
   "source": [
    "%load_ext autoreload\n",
    "%autoreload 2\n",
    "\n",
    "import pathlib\n",
    "\n",
    "import os, sys\n",
    "from loguru import logger\n",
    "logger.remove(None)\n",
    "logger.add(sys.stdout, colorize=True)\n",
    "\n",
    "import numpy as np\n",
    "import pandas as pd\n",
    "from six.moves import cPickle\n",
    "import tqdm\n",
    "from tqdm import tqdm_notebook\n",
    "import warnings \n",
    "import scipy.signal as spsig\n",
    "import multiprocessing\n",
    "from functools import partial \n",
    "\n",
    "import matplotlib.pyplot as plt \n",
    "# plt.style.use('dark_background')\n",
    "%matplotlib inline"
   ]
  },
  {
   "cell_type": "code",
   "execution_count": 2,
   "metadata": {},
   "outputs": [],
   "source": [
    "import lorapy"
   ]
  },
  {
   "cell_type": "markdown",
   "metadata": {},
   "source": [
    "## setup "
   ]
  },
  {
   "cell_type": "code",
   "execution_count": 3,
   "metadata": {},
   "outputs": [],
   "source": [
    "_BASE_DATA_DIR = pathlib.Path('../data')\n",
    "\n",
    "BENCHTOP_DATA_DIR = _BASE_DATA_DIR.joinpath('lora-benchtop-recording')\n",
    "DOTP_DATA_DIR = _BASE_DATA_DIR.joinpath('symbol-ref')\n",
    "AGG_SYMBOL_DIR = _BASE_DATA_DIR.joinpath('aggregated-symbols')\n",
    "PROC_SYMBOL_DIR = _BASE_DATA_DIR.joinpath('processed-symbols')\n",
    "FILT_SYMBOL_DIR = _BASE_DATA_DIR.joinpath('filtered-symbols')"
   ]
  },
  {
   "cell_type": "markdown",
   "metadata": {},
   "source": [
    "# load"
   ]
  },
  {
   "cell_type": "code",
   "execution_count": 4,
   "metadata": {},
   "outputs": [],
   "source": [
    "import random\n",
    "import warnings \n",
    "\n",
    "rand = lambda mx: random.randint(0, mx - 1)\n",
    "\n",
    "def _load_matching_dotp(bw: int, sf: int):\n",
    "    return ploader.filter(bw=bw, sf=sf)[0]\n",
    "\n",
    "\n",
    "def _plot_check(filtered_syms, num=20):\n",
    "    with warnings.catch_warnings():\n",
    "        warnings.simplefilter(\"ignore\")\n",
    "        \n",
    "        fig, ax = plt.subplots(num, figsize=(14, 10))\n",
    "\n",
    "        for idx in range(num):\n",
    "            ax[idx].plot(filtered_syms[rand(filtered_syms.shape[0])])\n",
    "            \n",
    "            \n",
    "def _format_output_path(out_dir, params): \n",
    "    bw, sf, att = params\n",
    "    filename = f'lora_BW{bw}_SF{sf}_915MHz_20ksps_Att{att}_combined.p'\n",
    "    \n",
    "    out_path = out_dir.joinpath(filename)\n",
    "    return out_path\n",
    "\n",
    "\n",
    "def _save_symbols(data, out_dir, params):\n",
    "    out_path = _format_output_path(out_dir, params)\n",
    "    \n",
    "    with out_path.open('wb') as outfile:\n",
    "        cPickle.dump(data, outfile)\n",
    "\n",
    "def _combine_all_syms(file_list, params):\n",
    "    combined_syms = np.vstack([\n",
    "        file.load().to_signal().data\n",
    "        for file in file_list\n",
    "    ])\n",
    "    \n",
    "    logger.warning(f'[{params}]  combined {combined_syms.shape[0]} total symbols [{combined_syms.shape}]')\n",
    "    return combined_syms\n",
    "\n",
    "def combine_and_save(file_list, params, out_dir):\n",
    "    combined_syms = _combine_all_syms(file_list, params)\n",
    "    if combined_syms.shape[0] == 0:\n",
    "        logger.info('no syms for params')\n",
    "        return \n",
    "    \n",
    "    _save_symbols(combined_syms, out_dir, params)"
   ]
  },
  {
   "cell_type": "markdown",
   "metadata": {},
   "source": [
    "## files"
   ]
  },
  {
   "cell_type": "code",
   "execution_count": 5,
   "metadata": {
    "scrolled": true
   },
   "outputs": [
    {
     "name": "stdout",
     "output_type": "stream",
     "text": [
      "\u001b[32m2020-04-11 17:29:20.065\u001b[0m | \u001b[34m\u001b[1mDEBUG   \u001b[0m | \u001b[36mlorapy.io._base_loader\u001b[0m:\u001b[36m_validate_data_path\u001b[0m:\u001b[36m140\u001b[0m - \u001b[34m\u001b[1mset datafile directory: ../data/filtered-symbols\u001b[0m\n",
      "\u001b[32m2020-04-11 17:29:20.073\u001b[0m | \u001b[1mINFO    \u001b[0m | \u001b[36mlorapy.io._base_loader\u001b[0m:\u001b[36m_process_data_dir\u001b[0m:\u001b[36m153\u001b[0m - \u001b[1mfound 150 data file(s)\u001b[0m\n"
     ]
    },
    {
     "data": {
      "text/plain": [
       "[DotPFile(id=0 | name='lora_BW1_SF10_915MHz_20ksps_Att0_v0.p'),\n",
       " DotPFile(id=1 | name='lora_BW2_SF12_915MHz_20ksps_Att40_v0.p'),\n",
       " DotPFile(id=2 | name='lora_BW1_SF10_915MHz_20ksps_Att140_v0.p'),\n",
       " DotPFile(id=3 | name='lora_BW1_SF12_915MHz_20ksps_Att0_v0.p'),\n",
       " DotPFile(id=4 | name='lora_BW1_SF12_915MHz_20ksps_Att60_v0.p'),\n",
       " DotPFile(id=5 | name='lora_BW7_SF10_915MHz_20ksps_Att40_v0.p'),\n",
       " DotPFile(id=6 | name='lora_BW2_SF10_915MHz_20ksps_Att40_v0.p'),\n",
       " DotPFile(id=7 | name='lora_BW9_SF12_915MHz_20ksps_Att0_v0.p'),\n",
       " DotPFile(id=8 | name='lora_BW2_SF12_915MHz_20ksps_Att60_v0.p'),\n",
       " DotPFile(id=9 | name='lora_BW2_SF10_915MHz_20ksps_Att0_v0.p'),\n",
       " DotPFile(id=10 | name='lora_BW9_SF11_915MHz_20ksps_Att100_v0.p'),\n",
       " DotPFile(id=11 | name='lora_BW7_SF10_915MHz_20ksps_Att100_v0.p'),\n",
       " DotPFile(id=12 | name='lora_BW9_SF11_915MHz_20ksps_Att80_v0.p'),\n",
       " DotPFile(id=13 | name='lora_BW1_SF10_915MHz_20ksps_Att40_v0.p'),\n",
       " DotPFile(id=14 | name='lora_BW7_SF11_915MHz_20ksps_Att80_v0.p'),\n",
       " DotPFile(id=15 | name='lora_BW2_SF11_915MHz_20ksps_Att40_v0.p'),\n",
       " DotPFile(id=16 | name='lora_BW1_SF11_915MHz_20ksps_Att40_v0.p'),\n",
       " DotPFile(id=17 | name='lora_BW8_SF10_915MHz_20ksps_Att40_v0.p'),\n",
       " DotPFile(id=18 | name='lora_BW9_SF10_915MHz_20ksps_Att20_v0.p'),\n",
       " DotPFile(id=19 | name='lora_BW2_SF12_915MHz_20ksps_Att100_v0.p'),\n",
       " DotPFile(id=20 | name='lora_BW1_SF12_915MHz_20ksps_Att40_v0.p'),\n",
       " DotPFile(id=21 | name='lora_BW2_SF10_915MHz_20ksps_Att120_v0.p'),\n",
       " DotPFile(id=22 | name='lora_BW8_SF10_915MHz_20ksps_Att80_v0.p'),\n",
       " DotPFile(id=23 | name='lora_BW1_SF11_915MHz_20ksps_Att20_v0.p'),\n",
       " DotPFile(id=24 | name='lora_BW9_SF11_915MHz_20ksps_Att0_v0.p'),\n",
       " DotPFile(id=25 | name='lora_BW2_SF11_915MHz_20ksps_Att80_v0.p'),\n",
       " DotPFile(id=26 | name='lora_BW1_SF11_915MHz_20ksps_Att60_v0.p'),\n",
       " DotPFile(id=27 | name='lora_BW9_SF12_915MHz_20ksps_Att60_v0.p'),\n",
       " DotPFile(id=28 | name='lora_BW2_SF12_915MHz_20ksps_Att0_v0.p'),\n",
       " DotPFile(id=29 | name='lora_BW9_SF10_915MHz_20ksps_Att100_v0.p'),\n",
       " DotPFile(id=30 | name='lora_BW9_SF11_915MHz_20ksps_Att40_v0.p'),\n",
       " DotPFile(id=31 | name='lora_BW9_SF12_915MHz_20ksps_Att80_v0.p'),\n",
       " DotPFile(id=32 | name='lora_BW2_SF10_915MHz_20ksps_Att20_v0.p'),\n",
       " DotPFile(id=33 | name='lora_BW8_SF12_915MHz_20ksps_Att0_v0.p'),\n",
       " DotPFile(id=34 | name='lora_BW9_SF10_915MHz_20ksps_Att80_v0.p'),\n",
       " DotPFile(id=35 | name='lora_BW8_SF12_915MHz_20ksps_Att20_v0.p'),\n",
       " DotPFile(id=36 | name='lora_BW8_SF11_915MHz_20ksps_Att60_v0.p'),\n",
       " DotPFile(id=37 | name='lora_BW2_SF11_915MHz_20ksps_Att100_v0.p'),\n",
       " DotPFile(id=38 | name='lora_BW1_SF12_915MHz_20ksps_Att120_v0.p'),\n",
       " DotPFile(id=39 | name='lora_BW1_SF10_915MHz_20ksps_Att60_v0.p'),\n",
       " DotPFile(id=40 | name='lora_BW7_SF10_915MHz_20ksps_Att80_v0.p'),\n",
       " DotPFile(id=41 | name='lora_BW9_SF10_915MHz_20ksps_Att40_v0.p'),\n",
       " DotPFile(id=42 | name='lora_BW2_SF10_915MHz_20ksps_Att140_v0.p'),\n",
       " DotPFile(id=43 | name='lora_BW8_SF12_915MHz_20ksps_Att40_v0.p'),\n",
       " DotPFile(id=44 | name='lora_BW2_SF11_915MHz_20ksps_Att60_v0.p'),\n",
       " DotPFile(id=45 | name='lora_BW7_SF12_915MHz_20ksps_Att100_v0.p'),\n",
       " DotPFile(id=46 | name='lora_BW7_SF12_915MHz_20ksps_Att80_v0.p'),\n",
       " DotPFile(id=47 | name='lora_BW1_SF11_915MHz_20ksps_Att140_v0.p'),\n",
       " DotPFile(id=48 | name='lora_BW2_SF10_915MHz_20ksps_Att80_v0.p'),\n",
       " DotPFile(id=49 | name='lora_BW9_SF11_915MHz_20ksps_Att20_v0.p'),\n",
       " DotPFile(id=50 | name='lora_BW1_SF12_915MHz_20ksps_Att20_v0.p'),\n",
       " DotPFile(id=51 | name='lora_BW7_SF10_915MHz_20ksps_Att0_v0.p'),\n",
       " DotPFile(id=52 | name='lora_BW1_SF10_915MHz_20ksps_Att120_v0.p'),\n",
       " DotPFile(id=53 | name='lora_BW8_SF10_915MHz_20ksps_Att20_v0.p'),\n",
       " DotPFile(id=54 | name='lora_BW2_SF11_915MHz_20ksps_Att20_v0.p'),\n",
       " DotPFile(id=55 | name='lora_BW8_SF10_915MHz_20ksps_Att60_v0.p'),\n",
       " DotPFile(id=56 | name='lora_BW8_SF11_915MHz_20ksps_Att0_v0.p'),\n",
       " DotPFile(id=57 | name='lora_BW8_SF10_915MHz_20ksps_Att100_v0.p'),\n",
       " DotPFile(id=58 | name='lora_BW9_SF10_915MHz_20ksps_Att60_v0.p'),\n",
       " DotPFile(id=59 | name='lora_BW8_SF10_915MHz_20ksps_Att0_v0.p'),\n",
       " DotPFile(id=60 | name='lora_BW7_SF11_915MHz_20ksps_Att40_v0.p'),\n",
       " DotPFile(id=61 | name='lora_BW9_SF12_915MHz_20ksps_Att40_v0.p'),\n",
       " DotPFile(id=62 | name='lora_BW2_SF12_915MHz_20ksps_Att120_v0.p'),\n",
       " DotPFile(id=63 | name='lora_BW1_SF12_915MHz_20ksps_Att80_v0.p'),\n",
       " DotPFile(id=64 | name='lora_BW7_SF12_915MHz_20ksps_Att40_v0.p'),\n",
       " DotPFile(id=65 | name='lora_BW7_SF11_915MHz_20ksps_Att20_v0.p'),\n",
       " DotPFile(id=66 | name='lora_BW7_SF12_915MHz_20ksps_Att60_v0.p'),\n",
       " DotPFile(id=67 | name='lora_BW2_SF11_915MHz_20ksps_Att140_v0.p'),\n",
       " DotPFile(id=68 | name='lora_BW8_SF12_915MHz_20ksps_Att100_v0.p'),\n",
       " DotPFile(id=69 | name='lora_BW7_SF10_915MHz_20ksps_Att60_v0.p'),\n",
       " DotPFile(id=70 | name='lora_BW2_SF12_915MHz_20ksps_Att80_v0.p'),\n",
       " DotPFile(id=71 | name='lora_BW1_SF12_915MHz_20ksps_Att140_v0.p'),\n",
       " DotPFile(id=72 | name='lora_BW1_SF11_915MHz_20ksps_Att0_v0.p'),\n",
       " DotPFile(id=73 | name='lora_BW2_SF11_915MHz_20ksps_Att0_v0.p'),\n",
       " DotPFile(id=74 | name='lora_BW2_SF11_915MHz_20ksps_Att120_v0.p'),\n",
       " DotPFile(id=75 | name='lora_BW2_SF10_915MHz_20ksps_Att60_v0.p'),\n",
       " DotPFile(id=76 | name='lora_BW1_SF11_915MHz_20ksps_Att120_v0.p'),\n",
       " DotPFile(id=77 | name='lora_BW1_SF11_915MHz_20ksps_Att100_v0.p'),\n",
       " DotPFile(id=78 | name='lora_BW8_SF12_915MHz_20ksps_Att80_v0.p'),\n",
       " DotPFile(id=79 | name='lora_BW9_SF12_915MHz_20ksps_Att20_v0.p'),\n",
       " DotPFile(id=80 | name='lora_BW9_SF10_915MHz_20ksps_Att0_v0.p'),\n",
       " DotPFile(id=81 | name='lora_BW7_SF12_915MHz_20ksps_Att0_v0.p'),\n",
       " DotPFile(id=82 | name='lora_BW1_SF12_915MHz_20ksps_Att100_v0.p'),\n",
       " DotPFile(id=83 | name='lora_BW7_SF11_915MHz_20ksps_Att60_v0.p'),\n",
       " DotPFile(id=84 | name='lora_BW8_SF11_915MHz_20ksps_Att80_v0.p'),\n",
       " DotPFile(id=85 | name='lora_BW7_SF11_915MHz_20ksps_Att0_v0.p'),\n",
       " DotPFile(id=86 | name='lora_BW9_SF11_915MHz_20ksps_Att60_v0.p'),\n",
       " DotPFile(id=87 | name='lora_BW9_SF12_915MHz_20ksps_Att100_v0.p'),\n",
       " DotPFile(id=88 | name='lora_BW2_SF10_915MHz_20ksps_Att100_v0.p'),\n",
       " DotPFile(id=89 | name='lora_BW7_SF10_915MHz_20ksps_Att20_v0.p'),\n",
       " DotPFile(id=90 | name='lora_BW1_SF10_915MHz_20ksps_Att20_v0.p'),\n",
       " DotPFile(id=91 | name='lora_BW7_SF12_915MHz_20ksps_Att20_v0.p'),\n",
       " DotPFile(id=92 | name='lora_BW1_SF10_915MHz_20ksps_Att100_v0.p'),\n",
       " DotPFile(id=93 | name='lora_BW7_SF11_915MHz_20ksps_Att100_v0.p'),\n",
       " DotPFile(id=94 | name='lora_BW8_SF11_915MHz_20ksps_Att20_v0.p'),\n",
       " DotPFile(id=95 | name='lora_BW2_SF12_915MHz_20ksps_Att20_v0.p'),\n",
       " DotPFile(id=96 | name='lora_BW8_SF11_915MHz_20ksps_Att100_v0.p'),\n",
       " DotPFile(id=97 | name='lora_BW8_SF12_915MHz_20ksps_Att60_v0.p'),\n",
       " DotPFile(id=98 | name='lora_BW1_SF10_915MHz_20ksps_Att80_v0.p'),\n",
       " DotPFile(id=99 | name='lora_BW8_SF11_915MHz_20ksps_Att40_v0.p'),\n",
       " DotPFile(id=100 | name='lora_BW1_SF11_915MHz_20ksps_Att80_v0.p'),\n",
       " DotPFile(id=101 | name='lora_BW1_SF10_915MHz_20ksps_Att120_v1.p'),\n",
       " DotPFile(id=102 | name='lora_BW2_SF12_915MHz_20ksps_Att80_v1.p'),\n",
       " DotPFile(id=103 | name='lora_BW2_SF12_915MHz_20ksps_Att60_v1.p'),\n",
       " DotPFile(id=104 | name='lora_BW2_SF10_915MHz_20ksps_Att140_v1.p'),\n",
       " DotPFile(id=105 | name='lora_BW1_SF10_915MHz_20ksps_Att40_v1.p'),\n",
       " DotPFile(id=106 | name='lora_BW2_SF11_915MHz_20ksps_Att140_v1.p'),\n",
       " DotPFile(id=107 | name='lora_BW1_SF11_915MHz_20ksps_Att100_v1.p'),\n",
       " DotPFile(id=108 | name='lora_BW1_SF12_915MHz_20kspsAtt20_v1.p'),\n",
       " DotPFile(id=109 | name='lora_BW2_SF11_915MHz_20ksps_Att40_v1.p'),\n",
       " DotPFile(id=110 | name='lora_BW1_SF11_915MHz_20ksps_Att0_v1.p'),\n",
       " DotPFile(id=111 | name='lora_BW1_SF12_915MHz_20kspsAtt100_v1.p'),\n",
       " DotPFile(id=112 | name='lora_BW2_SF12_915MHz_20ksps_Att140_v1.p'),\n",
       " DotPFile(id=113 | name='lora_BW1_SF12_915MHz_20kspsAtt0_v1.p'),\n",
       " DotPFile(id=114 | name='lora_BW2_SF10_915MHz_20ksps_Att120_v1.p'),\n",
       " DotPFile(id=115 | name='lora_BW1_SF11_915MHz_20ksps_Att80_v1.p'),\n",
       " DotPFile(id=116 | name='lora_BW2_SF10_915MHz_20ksps_Att100_v1.p'),\n",
       " DotPFile(id=117 | name='lora_BW1_SF12_915MHz_20kspsAtt0_v2.p'),\n",
       " DotPFile(id=118 | name='lora_BW2_SF10_915MHz_20ksps_Att60_v1.p'),\n",
       " DotPFile(id=119 | name='lora_BW1_SF12_915MHz_20kspsAtt40_v1.p'),\n",
       " DotPFile(id=120 | name='lora_BW1_SF11_915MHz_20ksps_Att60_v1.p'),\n",
       " DotPFile(id=121 | name='lora_BW1_SF10_915MHz_20ksps_Att60_v1.p'),\n",
       " DotPFile(id=122 | name='lora_BW2_SF12_915MHz_20ksps_Att0_v1.p'),\n",
       " DotPFile(id=123 | name='lora_BW1_SF12_915MHz_20kspsAtt80_v1.p'),\n",
       " DotPFile(id=124 | name='lora_BW2_SF11_915MHz_20ksps_Att120_v1.p'),\n",
       " DotPFile(id=125 | name='lora_BW2_SF11_915MHz_20ksps_Att0_v1.p'),\n",
       " DotPFile(id=126 | name='lora_BW2_SF11_915MHz_20ksps_Att60_v1.p'),\n",
       " DotPFile(id=127 | name='lora_BW1_SF10_915MHz_20ksps_Att100_v1.p'),\n",
       " DotPFile(id=128 | name='lora_BW1_SF11_915MHz_20ksps_Att40_v1.p'),\n",
       " DotPFile(id=129 | name='lora_BW1_SF10_915MHz_20ksps_Att0_v1.p'),\n",
       " DotPFile(id=130 | name='lora_BW2_SF12_915MHz_20ksps_Att120_v1.p'),\n",
       " DotPFile(id=131 | name='lora_BW1_SF12_915MHz_20kspsAtt60_v1.p'),\n",
       " DotPFile(id=132 | name='lora_BW2_SF11_915MHz_20ksps_Att100_v1.p'),\n",
       " DotPFile(id=133 | name='lora_BW1_SF10_915MHz_20ksps_Att80_v1.p'),\n",
       " DotPFile(id=134 | name='lora_BW1_SF12_915MHz_20kspsAtt140_v1.p'),\n",
       " DotPFile(id=135 | name='lora_BW2_SF10_915MHz_20ksps_Att0_v1.p'),\n",
       " DotPFile(id=136 | name='lora_BW2_SF12_915MHz_20ksps_Att40_v1.p'),\n",
       " DotPFile(id=137 | name='lora_BW1_SF11_915MHz_20kspsAtt120_v1.p'),\n",
       " DotPFile(id=138 | name='lora_BW1_SF12_915MHz_20kspsAtt120_v1.p'),\n",
       " DotPFile(id=139 | name='lora_BW2_SF12_915MHz_20ksps_Att100_v1.p'),\n",
       " DotPFile(id=140 | name='lora_BW2_SF11_915MHz_20ksps_Att80_v1.p'),\n",
       " DotPFile(id=141 | name='lora_BW1_SF10_915MHz_20ksps_Att20_v1.p'),\n",
       " DotPFile(id=142 | name='lora_BW2_SF10_915MHz_20ksps_Att20_v1.p'),\n",
       " DotPFile(id=143 | name='lora_BW2_SF10_915MHz_20ksps_Att40_v1.p'),\n",
       " DotPFile(id=144 | name='lora_BW2_SF11_915MHz_20ksps_Att20_v1.p'),\n",
       " DotPFile(id=145 | name='lora_BW1_SF11_915MHz_20ksps_Att20_v1.p'),\n",
       " DotPFile(id=146 | name='lora_BW1_SF10_915MHz_20ksps_Att140_v1.p'),\n",
       " DotPFile(id=147 | name='lora_BW2_SF12_915MHz_20ksps_Att20_v1.p'),\n",
       " DotPFile(id=148 | name='lora_BW1_SF11_915MHz_20kspsAtt140_v1.p'),\n",
       " DotPFile(id=149 | name='lora_BW2_SF10_915MHz_20ksps_Att80_v1.p')]"
      ]
     },
     "execution_count": 5,
     "metadata": {},
     "output_type": "execute_result"
    }
   ],
   "source": [
    "symloader = lorapy.load_dotp(FILT_SYMBOL_DIR, glob_pattern='**/*.p')\n",
    "symloader.file_list"
   ]
  },
  {
   "cell_type": "code",
   "execution_count": null,
   "metadata": {},
   "outputs": [],
   "source": []
  },
  {
   "cell_type": "markdown",
   "metadata": {},
   "source": [
    "# combine and aggregate"
   ]
  },
  {
   "cell_type": "code",
   "execution_count": 6,
   "metadata": {},
   "outputs": [],
   "source": [
    "import itertools"
   ]
  },
  {
   "cell_type": "markdown",
   "metadata": {},
   "source": [
    "## setup"
   ]
  },
  {
   "cell_type": "code",
   "execution_count": 7,
   "metadata": {
    "scrolled": true
   },
   "outputs": [
    {
     "name": "stdout",
     "output_type": "stream",
     "text": [
      "\u001b[32m2020-04-11 17:29:20.129\u001b[0m | \u001b[34m\u001b[1mDEBUG   \u001b[0m | \u001b[36mlorapy.datafile.encoding\u001b[0m:\u001b[36mcompute_params\u001b[0m:\u001b[36m15\u001b[0m - \u001b[34m\u001b[1mcomputed samples per symbol: 19198 and packet length: 580739\u001b[0m\n",
      "\u001b[32m2020-04-11 17:29:20.436\u001b[0m | \u001b[1mINFO    \u001b[0m | \u001b[36mlorapy.datafile._base_file\u001b[0m:\u001b[36mload\u001b[0m:\u001b[36m61\u001b[0m - \u001b[1mloaded 8907872 samples from file\u001b[0m\n",
      "\u001b[32m2020-04-11 17:29:20.438\u001b[0m | \u001b[34m\u001b[1mDEBUG   \u001b[0m | \u001b[36mlorapy.datafile.encoding\u001b[0m:\u001b[36mcompute_params\u001b[0m:\u001b[36m15\u001b[0m - \u001b[34m\u001b[1mcomputed samples per symbol: 51197 and packet length: 1548709\u001b[0m\n",
      "\u001b[32m2020-04-11 17:29:20.741\u001b[0m | \u001b[1mINFO    \u001b[0m | \u001b[36mlorapy.datafile._base_file\u001b[0m:\u001b[36mload\u001b[0m:\u001b[36m61\u001b[0m - \u001b[1mloaded 9573839 samples from file\u001b[0m\n",
      "\u001b[32m2020-04-11 17:29:20.743\u001b[0m | \u001b[34m\u001b[1mDEBUG   \u001b[0m | \u001b[36mlorapy.datafile.encoding\u001b[0m:\u001b[36mcompute_params\u001b[0m:\u001b[36m15\u001b[0m - \u001b[34m\u001b[1mcomputed samples per symbol: 19198 and packet length: 580739\u001b[0m\n",
      "\u001b[32m2020-04-11 17:29:20.877\u001b[0m | \u001b[1mINFO    \u001b[0m | \u001b[36mlorapy.datafile._base_file\u001b[0m:\u001b[36mload\u001b[0m:\u001b[36m61\u001b[0m - \u001b[1mloaded 8178348 samples from file\u001b[0m\n",
      "\u001b[32m2020-04-11 17:29:20.878\u001b[0m | \u001b[34m\u001b[1mDEBUG   \u001b[0m | \u001b[36mlorapy.datafile.encoding\u001b[0m:\u001b[36mcompute_params\u001b[0m:\u001b[36m15\u001b[0m - \u001b[34m\u001b[1mcomputed samples per symbol: 76801 and packet length: 2323230\u001b[0m\n",
      "\u001b[32m2020-04-11 17:29:21.109\u001b[0m | \u001b[1mINFO    \u001b[0m | \u001b[36mlorapy.datafile._base_file\u001b[0m:\u001b[36mload\u001b[0m:\u001b[36m61\u001b[0m - \u001b[1mloaded 8448110 samples from file\u001b[0m\n",
      "\u001b[32m2020-04-11 17:29:21.110\u001b[0m | \u001b[34m\u001b[1mDEBUG   \u001b[0m | \u001b[36mlorapy.datafile.encoding\u001b[0m:\u001b[36mcompute_params\u001b[0m:\u001b[36m15\u001b[0m - \u001b[34m\u001b[1mcomputed samples per symbol: 76801 and packet length: 2323230\u001b[0m\n",
      "\u001b[32m2020-04-11 17:29:21.227\u001b[0m | \u001b[1mINFO    \u001b[0m | \u001b[36mlorapy.datafile._base_file\u001b[0m:\u001b[36mload\u001b[0m:\u001b[36m61\u001b[0m - \u001b[1mloaded 8448110 samples from file\u001b[0m\n",
      "\u001b[32m2020-04-11 17:29:21.229\u001b[0m | \u001b[34m\u001b[1mDEBUG   \u001b[0m | \u001b[36mlorapy.datafile.encoding\u001b[0m:\u001b[36mcompute_params\u001b[0m:\u001b[36m15\u001b[0m - \u001b[34m\u001b[1mcomputed samples per symbol: 1599 and packet length: 48369\u001b[0m\n",
      "\u001b[32m2020-04-11 17:29:21.314\u001b[0m | \u001b[1mINFO    \u001b[0m | \u001b[36mlorapy.datafile._base_file\u001b[0m:\u001b[36mload\u001b[0m:\u001b[36m61\u001b[0m - \u001b[1mloaded 6474351 samples from file\u001b[0m\n",
      "\u001b[32m2020-04-11 17:29:21.315\u001b[0m | \u001b[34m\u001b[1mDEBUG   \u001b[0m | \u001b[36mlorapy.datafile.encoding\u001b[0m:\u001b[36mcompute_params\u001b[0m:\u001b[36m15\u001b[0m - \u001b[34m\u001b[1mcomputed samples per symbol: 12802 and packet length: 387260\u001b[0m\n",
      "\u001b[32m2020-04-11 17:29:21.573\u001b[0m | \u001b[1mINFO    \u001b[0m | \u001b[36mlorapy.datafile._base_file\u001b[0m:\u001b[36mload\u001b[0m:\u001b[36m61\u001b[0m - \u001b[1mloaded 8641350 samples from file\u001b[0m\n",
      "\u001b[32m2020-04-11 17:29:21.575\u001b[0m | \u001b[34m\u001b[1mDEBUG   \u001b[0m | \u001b[36mlorapy.datafile.encoding\u001b[0m:\u001b[36mcompute_params\u001b[0m:\u001b[36m15\u001b[0m - \u001b[34m\u001b[1mcomputed samples per symbol: 1599 and packet length: 48369\u001b[0m\n",
      "\u001b[32m2020-04-11 17:29:21.706\u001b[0m | \u001b[1mINFO    \u001b[0m | \u001b[36mlorapy.datafile._base_file\u001b[0m:\u001b[36mload\u001b[0m:\u001b[36m61\u001b[0m - \u001b[1mloaded 4374864 samples from file\u001b[0m\n",
      "\u001b[32m2020-04-11 17:29:21.708\u001b[0m | \u001b[34m\u001b[1mDEBUG   \u001b[0m | \u001b[36mlorapy.datafile.encoding\u001b[0m:\u001b[36mcompute_params\u001b[0m:\u001b[36m15\u001b[0m - \u001b[34m\u001b[1mcomputed samples per symbol: 51197 and packet length: 1548709\u001b[0m\n",
      "\u001b[32m2020-04-11 17:29:21.960\u001b[0m | \u001b[1mINFO    \u001b[0m | \u001b[36mlorapy.datafile._base_file\u001b[0m:\u001b[36mload\u001b[0m:\u001b[36m61\u001b[0m - \u001b[1mloaded 9573839 samples from file\u001b[0m\n",
      "\u001b[32m2020-04-11 17:29:21.962\u001b[0m | \u001b[34m\u001b[1mDEBUG   \u001b[0m | \u001b[36mlorapy.datafile.encoding\u001b[0m:\u001b[36mcompute_params\u001b[0m:\u001b[36m15\u001b[0m - \u001b[34m\u001b[1mcomputed samples per symbol: 12802 and packet length: 387260\u001b[0m\n",
      "\u001b[32m2020-04-11 17:29:22.078\u001b[0m | \u001b[1mINFO    \u001b[0m | \u001b[36mlorapy.datafile._base_file\u001b[0m:\u001b[36mload\u001b[0m:\u001b[36m61\u001b[0m - \u001b[1mloaded 8743766 samples from file\u001b[0m\n",
      "\u001b[32m2020-04-11 17:29:22.080\u001b[0m | \u001b[34m\u001b[1mDEBUG   \u001b[0m | \u001b[36mlorapy.datafile.encoding\u001b[0m:\u001b[36mcompute_params\u001b[0m:\u001b[36m15\u001b[0m - \u001b[34m\u001b[1mcomputed samples per symbol: 800 and packet length: 24200\u001b[0m\n",
      "\u001b[32m2020-04-11 17:29:22.218\u001b[0m | \u001b[1mINFO    \u001b[0m | \u001b[36mlorapy.datafile._base_file\u001b[0m:\u001b[36mload\u001b[0m:\u001b[36m61\u001b[0m - \u001b[1mloaded 5036000 samples from file\u001b[0m\n",
      "\u001b[32m2020-04-11 17:29:22.219\u001b[0m | \u001b[34m\u001b[1mDEBUG   \u001b[0m | \u001b[36mlorapy.datafile.encoding\u001b[0m:\u001b[36mcompute_params\u001b[0m:\u001b[36m15\u001b[0m - \u001b[34m\u001b[1mcomputed samples per symbol: 1599 and packet length: 48369\u001b[0m\n",
      "\u001b[32m2020-04-11 17:29:22.309\u001b[0m | \u001b[1mINFO    \u001b[0m | \u001b[36mlorapy.datafile._base_file\u001b[0m:\u001b[36mload\u001b[0m:\u001b[36m61\u001b[0m - \u001b[1mloaded 6671028 samples from file\u001b[0m\n",
      "\u001b[32m2020-04-11 17:29:22.311\u001b[0m | \u001b[34m\u001b[1mDEBUG   \u001b[0m | \u001b[36mlorapy.datafile.encoding\u001b[0m:\u001b[36mcompute_params\u001b[0m:\u001b[36m15\u001b[0m - \u001b[34m\u001b[1mcomputed samples per symbol: 800 and packet length: 24200\u001b[0m\n",
      "\u001b[32m2020-04-11 17:29:22.412\u001b[0m | \u001b[1mINFO    \u001b[0m | \u001b[36mlorapy.datafile._base_file\u001b[0m:\u001b[36mload\u001b[0m:\u001b[36m61\u001b[0m - \u001b[1mloaded 3802400 samples from file\u001b[0m\n",
      "\u001b[32m2020-04-11 17:29:22.414\u001b[0m | \u001b[34m\u001b[1mDEBUG   \u001b[0m | \u001b[36mlorapy.datafile.encoding\u001b[0m:\u001b[36mcompute_params\u001b[0m:\u001b[36m15\u001b[0m - \u001b[34m\u001b[1mcomputed samples per symbol: 19198 and packet length: 580739\u001b[0m\n",
      "\u001b[32m2020-04-11 17:29:22.610\u001b[0m | \u001b[1mINFO    \u001b[0m | \u001b[36mlorapy.datafile._base_file\u001b[0m:\u001b[36mload\u001b[0m:\u001b[36m61\u001b[0m - \u001b[1mloaded 7506418 samples from file\u001b[0m\n",
      "\u001b[32m2020-04-11 17:29:22.612\u001b[0m | \u001b[34m\u001b[1mDEBUG   \u001b[0m | \u001b[36mlorapy.datafile.encoding\u001b[0m:\u001b[36mcompute_params\u001b[0m:\u001b[36m15\u001b[0m - \u001b[34m\u001b[1mcomputed samples per symbol: 3198 and packet length: 96739\u001b[0m\n",
      "\u001b[32m2020-04-11 17:29:22.704\u001b[0m | \u001b[1mINFO    \u001b[0m | \u001b[36mlorapy.datafile._base_file\u001b[0m:\u001b[36mload\u001b[0m:\u001b[36m61\u001b[0m - \u001b[1mloaded 6555900 samples from file\u001b[0m\n",
      "\u001b[32m2020-04-11 17:29:22.706\u001b[0m | \u001b[34m\u001b[1mDEBUG   \u001b[0m | \u001b[36mlorapy.datafile.encoding\u001b[0m:\u001b[36mcompute_params\u001b[0m:\u001b[36m15\u001b[0m - \u001b[34m\u001b[1mcomputed samples per symbol: 25604 and packet length: 774521\u001b[0m\n",
      "\u001b[32m2020-04-11 17:29:22.823\u001b[0m | \u001b[1mINFO    \u001b[0m | \u001b[36mlorapy.datafile._base_file\u001b[0m:\u001b[36mload\u001b[0m:\u001b[36m61\u001b[0m - \u001b[1mloaded 8321300 samples from file\u001b[0m\n",
      "\u001b[32m2020-04-11 17:29:22.825\u001b[0m | \u001b[34m\u001b[1mDEBUG   \u001b[0m | \u001b[36mlorapy.datafile.encoding\u001b[0m:\u001b[36mcompute_params\u001b[0m:\u001b[36m15\u001b[0m - \u001b[34m\u001b[1mcomputed samples per symbol: 38396 and packet length: 1161479\u001b[0m\n",
      "\u001b[32m2020-04-11 17:29:22.916\u001b[0m | \u001b[1mINFO    \u001b[0m | \u001b[36mlorapy.datafile._base_file\u001b[0m:\u001b[36mload\u001b[0m:\u001b[36m61\u001b[0m - \u001b[1mloaded 7180052 samples from file\u001b[0m\n",
      "\u001b[32m2020-04-11 17:29:22.917\u001b[0m | \u001b[34m\u001b[1mDEBUG   \u001b[0m | \u001b[36mlorapy.datafile.encoding\u001b[0m:\u001b[36mcompute_params\u001b[0m:\u001b[36m15\u001b[0m - \u001b[34m\u001b[1mcomputed samples per symbol: 800 and packet length: 24200\u001b[0m\n",
      "\u001b[32m2020-04-11 17:29:22.984\u001b[0m | \u001b[1mINFO    \u001b[0m | \u001b[36mlorapy.datafile._base_file\u001b[0m:\u001b[36mload\u001b[0m:\u001b[36m61\u001b[0m - \u001b[1mloaded 5228000 samples from file\u001b[0m\n",
      "\u001b[32m2020-04-11 17:29:22.985\u001b[0m | \u001b[34m\u001b[1mDEBUG   \u001b[0m | \u001b[36mlorapy.datafile.encoding\u001b[0m:\u001b[36mcompute_params\u001b[0m:\u001b[36m15\u001b[0m - \u001b[34m\u001b[1mcomputed samples per symbol: 400 and packet length: 12100\u001b[0m\n",
      "\u001b[32m2020-04-11 17:29:23.068\u001b[0m | \u001b[1mINFO    \u001b[0m | \u001b[36mlorapy.datafile._base_file\u001b[0m:\u001b[36mload\u001b[0m:\u001b[36m61\u001b[0m - \u001b[1mloaded 2956400 samples from file\u001b[0m\n",
      "\u001b[32m2020-04-11 17:29:23.069\u001b[0m | \u001b[34m\u001b[1mDEBUG   \u001b[0m | \u001b[36mlorapy.datafile.encoding\u001b[0m:\u001b[36mcompute_params\u001b[0m:\u001b[36m15\u001b[0m - \u001b[34m\u001b[1mcomputed samples per symbol: 51197 and packet length: 1548709\u001b[0m\n",
      "\u001b[32m2020-04-11 17:29:23.251\u001b[0m | \u001b[1mINFO    \u001b[0m | \u001b[36mlorapy.datafile._base_file\u001b[0m:\u001b[36mload\u001b[0m:\u001b[36m61\u001b[0m - \u001b[1mloaded 7013989 samples from file\u001b[0m\n",
      "\u001b[32m2020-04-11 17:29:23.252\u001b[0m | \u001b[34m\u001b[1mDEBUG   \u001b[0m | \u001b[36mlorapy.datafile.encoding\u001b[0m:\u001b[36mcompute_params\u001b[0m:\u001b[36m15\u001b[0m - \u001b[34m\u001b[1mcomputed samples per symbol: 76801 and packet length: 2323230\u001b[0m\n",
      "\u001b[32m2020-04-11 17:29:23.477\u001b[0m | \u001b[1mINFO    \u001b[0m | \u001b[36mlorapy.datafile._base_file\u001b[0m:\u001b[36mload\u001b[0m:\u001b[36m61\u001b[0m - \u001b[1mloaded 8448110 samples from file\u001b[0m\n",
      "\u001b[32m2020-04-11 17:29:23.479\u001b[0m | \u001b[34m\u001b[1mDEBUG   \u001b[0m | \u001b[36mlorapy.datafile.encoding\u001b[0m:\u001b[36mcompute_params\u001b[0m:\u001b[36m15\u001b[0m - \u001b[34m\u001b[1mcomputed samples per symbol: 12802 and packet length: 387260\u001b[0m\n",
      "\u001b[32m2020-04-11 17:29:23.686\u001b[0m | \u001b[1mINFO    \u001b[0m | \u001b[36mlorapy.datafile._base_file\u001b[0m:\u001b[36mload\u001b[0m:\u001b[36m61\u001b[0m - \u001b[1mloaded 7476368 samples from file\u001b[0m\n",
      "\u001b[32m2020-04-11 17:29:23.687\u001b[0m | \u001b[34m\u001b[1mDEBUG   \u001b[0m | \u001b[36mlorapy.datafile.encoding\u001b[0m:\u001b[36mcompute_params\u001b[0m:\u001b[36m15\u001b[0m - \u001b[34m\u001b[1mcomputed samples per symbol: 800 and packet length: 24200\u001b[0m\n",
      "\u001b[32m2020-04-11 17:29:23.768\u001b[0m | \u001b[1mINFO    \u001b[0m | \u001b[36mlorapy.datafile._base_file\u001b[0m:\u001b[36mload\u001b[0m:\u001b[36m61\u001b[0m - \u001b[1mloaded 6001600 samples from file\u001b[0m\n",
      "\u001b[32m2020-04-11 17:29:23.769\u001b[0m | \u001b[34m\u001b[1mDEBUG   \u001b[0m | \u001b[36mlorapy.datafile.encoding\u001b[0m:\u001b[36mcompute_params\u001b[0m:\u001b[36m15\u001b[0m - \u001b[34m\u001b[1mcomputed samples per symbol: 38396 and packet length: 1161479\u001b[0m\n",
      "\u001b[32m2020-04-11 17:29:23.992\u001b[0m | \u001b[1mINFO    \u001b[0m | \u001b[36mlorapy.datafile._base_file\u001b[0m:\u001b[36mload\u001b[0m:\u001b[36m61\u001b[0m - \u001b[1mloaded 8869476 samples from file\u001b[0m\n",
      "\u001b[32m2020-04-11 17:29:23.993\u001b[0m | \u001b[34m\u001b[1mDEBUG   \u001b[0m | \u001b[36mlorapy.datafile.encoding\u001b[0m:\u001b[36mcompute_params\u001b[0m:\u001b[36m15\u001b[0m - \u001b[34m\u001b[1mcomputed samples per symbol: 800 and packet length: 24200\u001b[0m\n",
      "\u001b[32m2020-04-11 17:29:24.099\u001b[0m | \u001b[1mINFO    \u001b[0m | \u001b[36mlorapy.datafile._base_file\u001b[0m:\u001b[36mload\u001b[0m:\u001b[36m61\u001b[0m - \u001b[1mloaded 4092000 samples from file\u001b[0m\n",
      "\u001b[32m2020-04-11 17:29:24.100\u001b[0m | \u001b[34m\u001b[1mDEBUG   \u001b[0m | \u001b[36mlorapy.datafile.encoding\u001b[0m:\u001b[36mcompute_params\u001b[0m:\u001b[36m15\u001b[0m - \u001b[34m\u001b[1mcomputed samples per symbol: 25604 and packet length: 774521\u001b[0m\n",
      "\u001b[32m2020-04-11 17:29:24.203\u001b[0m | \u001b[1mINFO    \u001b[0m | \u001b[36mlorapy.datafile._base_file\u001b[0m:\u001b[36mload\u001b[0m:\u001b[36m61\u001b[0m - \u001b[1mloaded 8167676 samples from file\u001b[0m\n",
      "\u001b[32m2020-04-11 17:29:24.205\u001b[0m | \u001b[34m\u001b[1mDEBUG   \u001b[0m | \u001b[36mlorapy.datafile.encoding\u001b[0m:\u001b[36mcompute_params\u001b[0m:\u001b[36m15\u001b[0m - \u001b[34m\u001b[1mcomputed samples per symbol: 38396 and packet length: 1161479\u001b[0m\n",
      "\u001b[32m2020-04-11 17:29:24.318\u001b[0m | \u001b[1mINFO    \u001b[0m | \u001b[36mlorapy.datafile._base_file\u001b[0m:\u001b[36mload\u001b[0m:\u001b[36m61\u001b[0m - \u001b[1mloaded 8869476 samples from file\u001b[0m\n",
      "\u001b[32m2020-04-11 17:29:24.319\u001b[0m | \u001b[34m\u001b[1mDEBUG   \u001b[0m | \u001b[36mlorapy.datafile.encoding\u001b[0m:\u001b[36mcompute_params\u001b[0m:\u001b[36m15\u001b[0m - \u001b[34m\u001b[1mcomputed samples per symbol: 1599 and packet length: 48369\u001b[0m\n",
      "\u001b[32m2020-04-11 17:29:24.383\u001b[0m | \u001b[1mINFO    \u001b[0m | \u001b[36mlorapy.datafile._base_file\u001b[0m:\u001b[36mload\u001b[0m:\u001b[36m61\u001b[0m - \u001b[1mloaded 4884945 samples from file\u001b[0m\n",
      "\u001b[32m2020-04-11 17:29:24.385\u001b[0m | \u001b[34m\u001b[1mDEBUG   \u001b[0m | \u001b[36mlorapy.datafile.encoding\u001b[0m:\u001b[36mcompute_params\u001b[0m:\u001b[36m15\u001b[0m - \u001b[34m\u001b[1mcomputed samples per symbol: 51197 and packet length: 1548709\u001b[0m\n",
      "\u001b[32m2020-04-11 17:29:24.493\u001b[0m | \u001b[1mINFO    \u001b[0m | \u001b[36mlorapy.datafile._base_file\u001b[0m:\u001b[36mload\u001b[0m:\u001b[36m61\u001b[0m - \u001b[1mloaded 8242717 samples from file\u001b[0m\n",
      "\u001b[32m2020-04-11 17:29:24.495\u001b[0m | \u001b[34m\u001b[1mDEBUG   \u001b[0m | \u001b[36mlorapy.datafile.encoding\u001b[0m:\u001b[36mcompute_params\u001b[0m:\u001b[36m15\u001b[0m - \u001b[34m\u001b[1mcomputed samples per symbol: 400 and packet length: 12100\u001b[0m\n",
      "\u001b[32m2020-04-11 17:29:24.538\u001b[0m | \u001b[1mINFO    \u001b[0m | \u001b[36mlorapy.datafile._base_file\u001b[0m:\u001b[36mload\u001b[0m:\u001b[36m61\u001b[0m - \u001b[1mloaded 2995600 samples from file\u001b[0m\n",
      "\u001b[32m2020-04-11 17:29:24.539\u001b[0m | \u001b[34m\u001b[1mDEBUG   \u001b[0m | \u001b[36mlorapy.datafile.encoding\u001b[0m:\u001b[36mcompute_params\u001b[0m:\u001b[36m15\u001b[0m - \u001b[34m\u001b[1mcomputed samples per symbol: 800 and packet length: 24200\u001b[0m\n",
      "\u001b[32m2020-04-11 17:29:24.617\u001b[0m | \u001b[1mINFO    \u001b[0m | \u001b[36mlorapy.datafile._base_file\u001b[0m:\u001b[36mload\u001b[0m:\u001b[36m61\u001b[0m - \u001b[1mloaded 5608800 samples from file\u001b[0m\n",
      "\u001b[32m2020-04-11 17:29:24.618\u001b[0m | \u001b[34m\u001b[1mDEBUG   \u001b[0m | \u001b[36mlorapy.datafile.encoding\u001b[0m:\u001b[36mcompute_params\u001b[0m:\u001b[36m15\u001b[0m - \u001b[34m\u001b[1mcomputed samples per symbol: 1599 and packet length: 48369\u001b[0m\n",
      "\u001b[32m2020-04-11 17:29:24.692\u001b[0m | \u001b[1mINFO    \u001b[0m | \u001b[36mlorapy.datafile._base_file\u001b[0m:\u001b[36mload\u001b[0m:\u001b[36m61\u001b[0m - \u001b[1mloaded 4557150 samples from file\u001b[0m\n",
      "\u001b[32m2020-04-11 17:29:24.694\u001b[0m | \u001b[34m\u001b[1mDEBUG   \u001b[0m | \u001b[36mlorapy.datafile.encoding\u001b[0m:\u001b[36mcompute_params\u001b[0m:\u001b[36m15\u001b[0m - \u001b[34m\u001b[1mcomputed samples per symbol: 12802 and packet length: 387260\u001b[0m\n",
      "\u001b[32m2020-04-11 17:29:24.962\u001b[0m | \u001b[1mINFO    \u001b[0m | \u001b[36mlorapy.datafile._base_file\u001b[0m:\u001b[36mload\u001b[0m:\u001b[36m61\u001b[0m - \u001b[1mloaded 9396668 samples from file\u001b[0m\n",
      "\u001b[32m2020-04-11 17:29:24.964\u001b[0m | \u001b[34m\u001b[1mDEBUG   \u001b[0m | \u001b[36mlorapy.datafile.encoding\u001b[0m:\u001b[36mcompute_params\u001b[0m:\u001b[36m15\u001b[0m - \u001b[34m\u001b[1mcomputed samples per symbol: 3198 and packet length: 96739\u001b[0m\n",
      "\u001b[32m2020-04-11 17:29:25.038\u001b[0m | \u001b[1mINFO    \u001b[0m | \u001b[36mlorapy.datafile._base_file\u001b[0m:\u001b[36mload\u001b[0m:\u001b[36m61\u001b[0m - \u001b[1mloaded 5474976 samples from file\u001b[0m\n",
      "\u001b[32m2020-04-11 17:29:25.039\u001b[0m | \u001b[34m\u001b[1mDEBUG   \u001b[0m | \u001b[36mlorapy.datafile.encoding\u001b[0m:\u001b[36mcompute_params\u001b[0m:\u001b[36m15\u001b[0m - \u001b[34m\u001b[1mcomputed samples per symbol: 400 and packet length: 12100\u001b[0m\n",
      "\u001b[32m2020-04-11 17:29:25.135\u001b[0m | \u001b[1mINFO    \u001b[0m | \u001b[36mlorapy.datafile._base_file\u001b[0m:\u001b[36mload\u001b[0m:\u001b[36m61\u001b[0m - \u001b[1mloaded 3610800 samples from file\u001b[0m\n",
      "\u001b[32m2020-04-11 17:29:25.136\u001b[0m | \u001b[34m\u001b[1mDEBUG   \u001b[0m | \u001b[36mlorapy.datafile.encoding\u001b[0m:\u001b[36mcompute_params\u001b[0m:\u001b[36m15\u001b[0m - \u001b[34m\u001b[1mcomputed samples per symbol: 3198 and packet length: 96739\u001b[0m\n",
      "\u001b[32m2020-04-11 17:29:25.213\u001b[0m | \u001b[1mINFO    \u001b[0m | \u001b[36mlorapy.datafile._base_file\u001b[0m:\u001b[36mload\u001b[0m:\u001b[36m61\u001b[0m - \u001b[1mloaded 5791578 samples from file\u001b[0m\n",
      "\u001b[32m2020-04-11 17:29:25.215\u001b[0m | \u001b[34m\u001b[1mDEBUG   \u001b[0m | \u001b[36mlorapy.datafile.encoding\u001b[0m:\u001b[36mcompute_params\u001b[0m:\u001b[36m15\u001b[0m - \u001b[34m\u001b[1mcomputed samples per symbol: 1599 and packet length: 48369\u001b[0m\n",
      "\u001b[32m2020-04-11 17:29:25.380\u001b[0m | \u001b[1mINFO    \u001b[0m | \u001b[36mlorapy.datafile._base_file\u001b[0m:\u001b[36mload\u001b[0m:\u001b[36m61\u001b[0m - \u001b[1mloaded 6482346 samples from file\u001b[0m\n",
      "\u001b[32m2020-04-11 17:29:25.381\u001b[0m | \u001b[34m\u001b[1mDEBUG   \u001b[0m | \u001b[36mlorapy.datafile.encoding\u001b[0m:\u001b[36mcompute_params\u001b[0m:\u001b[36m15\u001b[0m - \u001b[34m\u001b[1mcomputed samples per symbol: 25604 and packet length: 774521\u001b[0m\n",
      "\u001b[32m2020-04-11 17:29:25.607\u001b[0m | \u001b[1mINFO    \u001b[0m | \u001b[36mlorapy.datafile._base_file\u001b[0m:\u001b[36mload\u001b[0m:\u001b[36m61\u001b[0m - \u001b[1mloaded 9319856 samples from file\u001b[0m\n",
      "\u001b[32m2020-04-11 17:29:25.609\u001b[0m | \u001b[34m\u001b[1mDEBUG   \u001b[0m | \u001b[36mlorapy.datafile.encoding\u001b[0m:\u001b[36mcompute_params\u001b[0m:\u001b[36m15\u001b[0m - \u001b[34m\u001b[1mcomputed samples per symbol: 76801 and packet length: 2323230\u001b[0m\n",
      "\u001b[32m2020-04-11 17:29:25.708\u001b[0m | \u001b[1mINFO    \u001b[0m | \u001b[36mlorapy.datafile._base_file\u001b[0m:\u001b[36mload\u001b[0m:\u001b[36m61\u001b[0m - \u001b[1mloaded 8448110 samples from file\u001b[0m\n",
      "\u001b[32m2020-04-11 17:29:25.709\u001b[0m | \u001b[34m\u001b[1mDEBUG   \u001b[0m | \u001b[36mlorapy.datafile.encoding\u001b[0m:\u001b[36mcompute_params\u001b[0m:\u001b[36m15\u001b[0m - \u001b[34m\u001b[1mcomputed samples per symbol: 19198 and packet length: 580739\u001b[0m\n",
      "\u001b[32m2020-04-11 17:29:25.950\u001b[0m | \u001b[1mINFO    \u001b[0m | \u001b[36mlorapy.datafile._base_file\u001b[0m:\u001b[36mload\u001b[0m:\u001b[36m61\u001b[0m - \u001b[1mloaded 9157446 samples from file\u001b[0m\n",
      "\u001b[32m2020-04-11 17:29:25.951\u001b[0m | \u001b[34m\u001b[1mDEBUG   \u001b[0m | \u001b[36mlorapy.datafile.encoding\u001b[0m:\u001b[36mcompute_params\u001b[0m:\u001b[36m15\u001b[0m - \u001b[34m\u001b[1mcomputed samples per symbol: 1599 and packet length: 48369\u001b[0m\n",
      "\u001b[32m2020-04-11 17:29:26.029\u001b[0m | \u001b[1mINFO    \u001b[0m | \u001b[36mlorapy.datafile._base_file\u001b[0m:\u001b[36mload\u001b[0m:\u001b[36m61\u001b[0m - \u001b[1mloaded 6682221 samples from file\u001b[0m\n",
      "\u001b[32m2020-04-11 17:29:26.030\u001b[0m | \u001b[34m\u001b[1mDEBUG   \u001b[0m | \u001b[36mlorapy.datafile.encoding\u001b[0m:\u001b[36mcompute_params\u001b[0m:\u001b[36m15\u001b[0m - \u001b[34m\u001b[1mcomputed samples per symbol: 400 and packet length: 12100\u001b[0m\n",
      "\u001b[32m2020-04-11 17:29:26.140\u001b[0m | \u001b[1mINFO    \u001b[0m | \u001b[36mlorapy.datafile._base_file\u001b[0m:\u001b[36mload\u001b[0m:\u001b[36m61\u001b[0m - \u001b[1mloaded 4317600 samples from file\u001b[0m\n",
      "\u001b[32m2020-04-11 17:29:26.142\u001b[0m | \u001b[34m\u001b[1mDEBUG   \u001b[0m | \u001b[36mlorapy.datafile.encoding\u001b[0m:\u001b[36mcompute_params\u001b[0m:\u001b[36m15\u001b[0m - \u001b[34m\u001b[1mcomputed samples per symbol: 12802 and packet length: 387260\u001b[0m\n",
      "\u001b[32m2020-04-11 17:29:26.342\u001b[0m | \u001b[1mINFO    \u001b[0m | \u001b[36mlorapy.datafile._base_file\u001b[0m:\u001b[36mload\u001b[0m:\u001b[36m61\u001b[0m - \u001b[1mloaded 7130714 samples from file\u001b[0m\n",
      "\u001b[32m2020-04-11 17:29:26.344\u001b[0m | \u001b[34m\u001b[1mDEBUG   \u001b[0m | \u001b[36mlorapy.datafile.encoding\u001b[0m:\u001b[36mcompute_params\u001b[0m:\u001b[36m15\u001b[0m - \u001b[34m\u001b[1mcomputed samples per symbol: 3198 and packet length: 96739\u001b[0m\n",
      "\u001b[32m2020-04-11 17:29:26.424\u001b[0m | \u001b[1mINFO    \u001b[0m | \u001b[36mlorapy.datafile._base_file\u001b[0m:\u001b[36mload\u001b[0m:\u001b[36m61\u001b[0m - \u001b[1mloaded 6405594 samples from file\u001b[0m\n",
      "\u001b[32m2020-04-11 17:29:26.426\u001b[0m | \u001b[34m\u001b[1mDEBUG   \u001b[0m | \u001b[36mlorapy.datafile.encoding\u001b[0m:\u001b[36mcompute_params\u001b[0m:\u001b[36m15\u001b[0m - \u001b[34m\u001b[1mcomputed samples per symbol: 25604 and packet length: 774521\u001b[0m\n",
      "\u001b[32m2020-04-11 17:29:26.537\u001b[0m | \u001b[1mINFO    \u001b[0m | \u001b[36mlorapy.datafile._base_file\u001b[0m:\u001b[36mload\u001b[0m:\u001b[36m61\u001b[0m - \u001b[1mloaded 8654152 samples from file\u001b[0m\n",
      "\u001b[32m2020-04-11 17:29:26.539\u001b[0m | \u001b[34m\u001b[1mDEBUG   \u001b[0m | \u001b[36mlorapy.datafile.encoding\u001b[0m:\u001b[36mcompute_params\u001b[0m:\u001b[36m15\u001b[0m - \u001b[34m\u001b[1mcomputed samples per symbol: 6386 and packet length: 193176\u001b[0m\n",
      "\u001b[32m2020-04-11 17:29:26.619\u001b[0m | \u001b[1mINFO    \u001b[0m | \u001b[36mlorapy.datafile._base_file\u001b[0m:\u001b[36mload\u001b[0m:\u001b[36m61\u001b[0m - \u001b[1mloaded 6194420 samples from file\u001b[0m\n",
      "\u001b[32m2020-04-11 17:29:26.620\u001b[0m | \u001b[34m\u001b[1mDEBUG   \u001b[0m | \u001b[36mlorapy.datafile.encoding\u001b[0m:\u001b[36mcompute_params\u001b[0m:\u001b[36m15\u001b[0m - \u001b[34m\u001b[1mcomputed samples per symbol: 6386 and packet length: 193176\u001b[0m\n",
      "\u001b[32m2020-04-11 17:29:26.787\u001b[0m | \u001b[1mINFO    \u001b[0m | \u001b[36mlorapy.datafile._base_file\u001b[0m:\u001b[36mload\u001b[0m:\u001b[36m61\u001b[0m - \u001b[1mloaded 6424316 samples from file\u001b[0m\n",
      "\u001b[32m2020-04-11 17:29:26.788\u001b[0m | \u001b[34m\u001b[1mDEBUG   \u001b[0m | \u001b[36mlorapy.datafile.encoding\u001b[0m:\u001b[36mcompute_params\u001b[0m:\u001b[36m15\u001b[0m - \u001b[34m\u001b[1mcomputed samples per symbol: 38396 and packet length: 1161479\u001b[0m\n",
      "\u001b[32m2020-04-11 17:29:26.918\u001b[0m | \u001b[1mINFO    \u001b[0m | \u001b[36mlorapy.datafile._base_file\u001b[0m:\u001b[36mload\u001b[0m:\u001b[36m61\u001b[0m - \u001b[1mloaded 9714188 samples from file\u001b[0m\n",
      "\u001b[32m2020-04-11 17:29:26.920\u001b[0m | \u001b[34m\u001b[1mDEBUG   \u001b[0m | \u001b[36mlorapy.datafile.encoding\u001b[0m:\u001b[36mcompute_params\u001b[0m:\u001b[36m15\u001b[0m - \u001b[34m\u001b[1mcomputed samples per symbol: 12802 and packet length: 387260\u001b[0m\n",
      "\u001b[32m2020-04-11 17:29:27.172\u001b[0m | \u001b[1mINFO    \u001b[0m | \u001b[36mlorapy.datafile._base_file\u001b[0m:\u001b[36mload\u001b[0m:\u001b[36m61\u001b[0m - \u001b[1mloaded 8359706 samples from file\u001b[0m\n",
      "\u001b[32m2020-04-11 17:29:27.173\u001b[0m | \u001b[34m\u001b[1mDEBUG   \u001b[0m | \u001b[36mlorapy.datafile.encoding\u001b[0m:\u001b[36mcompute_params\u001b[0m:\u001b[36m15\u001b[0m - \u001b[34m\u001b[1mcomputed samples per symbol: 800 and packet length: 24200\u001b[0m\n",
      "\u001b[32m2020-04-11 17:29:27.243\u001b[0m | \u001b[1mINFO    \u001b[0m | \u001b[36mlorapy.datafile._base_file\u001b[0m:\u001b[36mload\u001b[0m:\u001b[36m61\u001b[0m - \u001b[1mloaded 4745600 samples from file\u001b[0m\n",
      "\u001b[32m2020-04-11 17:29:27.244\u001b[0m | \u001b[34m\u001b[1mDEBUG   \u001b[0m | \u001b[36mlorapy.datafile.encoding\u001b[0m:\u001b[36mcompute_params\u001b[0m:\u001b[36m15\u001b[0m - \u001b[34m\u001b[1mcomputed samples per symbol: 76801 and packet length: 2323230\u001b[0m\n",
      "\u001b[32m2020-04-11 17:29:27.345\u001b[0m | \u001b[1mINFO    \u001b[0m | \u001b[36mlorapy.datafile._base_file\u001b[0m:\u001b[36mload\u001b[0m:\u001b[36m61\u001b[0m - \u001b[1mloaded 6758488 samples from file\u001b[0m\n",
      "\u001b[32m2020-04-11 17:29:27.347\u001b[0m | \u001b[34m\u001b[1mDEBUG   \u001b[0m | \u001b[36mlorapy.datafile.encoding\u001b[0m:\u001b[36mcompute_params\u001b[0m:\u001b[36m15\u001b[0m - \u001b[34m\u001b[1mcomputed samples per symbol: 1599 and packet length: 48369\u001b[0m\n",
      "\u001b[32m2020-04-11 17:29:27.472\u001b[0m | \u001b[1mINFO    \u001b[0m | \u001b[36mlorapy.datafile._base_file\u001b[0m:\u001b[36mload\u001b[0m:\u001b[36m61\u001b[0m - \u001b[1mloaded 7780734 samples from file\u001b[0m\n",
      "\u001b[32m2020-04-11 17:29:27.473\u001b[0m | \u001b[34m\u001b[1mDEBUG   \u001b[0m | \u001b[36mlorapy.datafile.encoding\u001b[0m:\u001b[36mcompute_params\u001b[0m:\u001b[36m15\u001b[0m - \u001b[34m\u001b[1mcomputed samples per symbol: 19198 and packet length: 580739\u001b[0m\n",
      "\u001b[32m2020-04-11 17:29:27.594\u001b[0m | \u001b[1mINFO    \u001b[0m | \u001b[36mlorapy.datafile._base_file\u001b[0m:\u001b[36mload\u001b[0m:\u001b[36m61\u001b[0m - \u001b[1mloaded 7755992 samples from file\u001b[0m\n",
      "\u001b[32m2020-04-11 17:29:27.596\u001b[0m | \u001b[34m\u001b[1mDEBUG   \u001b[0m | \u001b[36mlorapy.datafile.encoding\u001b[0m:\u001b[36mcompute_params\u001b[0m:\u001b[36m15\u001b[0m - \u001b[34m\u001b[1mcomputed samples per symbol: 800 and packet length: 24200\u001b[0m\n",
      "\u001b[32m2020-04-11 17:29:27.748\u001b[0m | \u001b[1mINFO    \u001b[0m | \u001b[36mlorapy.datafile._base_file\u001b[0m:\u001b[36mload\u001b[0m:\u001b[36m61\u001b[0m - \u001b[1mloaded 5105600 samples from file\u001b[0m\n",
      "\u001b[32m2020-04-11 17:29:27.749\u001b[0m | \u001b[34m\u001b[1mDEBUG   \u001b[0m | \u001b[36mlorapy.datafile.encoding\u001b[0m:\u001b[36mcompute_params\u001b[0m:\u001b[36m15\u001b[0m - \u001b[34m\u001b[1mcomputed samples per symbol: 25604 and packet length: 774521\u001b[0m\n",
      "\u001b[32m2020-04-11 17:29:27.864\u001b[0m | \u001b[1mINFO    \u001b[0m | \u001b[36mlorapy.datafile._base_file\u001b[0m:\u001b[36mload\u001b[0m:\u001b[36m61\u001b[0m - \u001b[1mloaded 7860428 samples from file\u001b[0m\n",
      "\u001b[32m2020-04-11 17:29:27.865\u001b[0m | \u001b[34m\u001b[1mDEBUG   \u001b[0m | \u001b[36mlorapy.datafile.encoding\u001b[0m:\u001b[36mcompute_params\u001b[0m:\u001b[36m15\u001b[0m - \u001b[34m\u001b[1mcomputed samples per symbol: 800 and packet length: 24200\u001b[0m\n",
      "\u001b[32m2020-04-11 17:29:27.948\u001b[0m | \u001b[1mINFO    \u001b[0m | \u001b[36mlorapy.datafile._base_file\u001b[0m:\u001b[36mload\u001b[0m:\u001b[36m61\u001b[0m - \u001b[1mloaded 5485600 samples from file\u001b[0m\n",
      "\u001b[32m2020-04-11 17:29:27.949\u001b[0m | \u001b[34m\u001b[1mDEBUG   \u001b[0m | \u001b[36mlorapy.datafile.encoding\u001b[0m:\u001b[36mcompute_params\u001b[0m:\u001b[36m15\u001b[0m - \u001b[34m\u001b[1mcomputed samples per symbol: 1599 and packet length: 48369\u001b[0m\n",
      "\u001b[32m2020-04-11 17:29:28.101\u001b[0m | \u001b[1mINFO    \u001b[0m | \u001b[36mlorapy.datafile._base_file\u001b[0m:\u001b[36mload\u001b[0m:\u001b[36m61\u001b[0m - \u001b[1mloaded 5199948 samples from file\u001b[0m\n",
      "\u001b[32m2020-04-11 17:29:28.102\u001b[0m | \u001b[34m\u001b[1mDEBUG   \u001b[0m | \u001b[36mlorapy.datafile.encoding\u001b[0m:\u001b[36mcompute_params\u001b[0m:\u001b[36m15\u001b[0m - \u001b[34m\u001b[1mcomputed samples per symbol: 800 and packet length: 24200\u001b[0m\n",
      "\u001b[32m2020-04-11 17:29:28.263\u001b[0m | \u001b[1mINFO    \u001b[0m | \u001b[36mlorapy.datafile._base_file\u001b[0m:\u001b[36mload\u001b[0m:\u001b[36m61\u001b[0m - \u001b[1mloaded 5578400 samples from file\u001b[0m\n",
      "\u001b[32m2020-04-11 17:29:28.265\u001b[0m | \u001b[34m\u001b[1mDEBUG   \u001b[0m | \u001b[36mlorapy.datafile.encoding\u001b[0m:\u001b[36mcompute_params\u001b[0m:\u001b[36m15\u001b[0m - \u001b[34m\u001b[1mcomputed samples per symbol: 400 and packet length: 12100\u001b[0m\n",
      "\u001b[32m2020-04-11 17:29:28.363\u001b[0m | \u001b[1mINFO    \u001b[0m | \u001b[36mlorapy.datafile._base_file\u001b[0m:\u001b[36mload\u001b[0m:\u001b[36m61\u001b[0m - \u001b[1mloaded 3862800 samples from file\u001b[0m\n",
      "\u001b[32m2020-04-11 17:29:28.364\u001b[0m | \u001b[34m\u001b[1mDEBUG   \u001b[0m | \u001b[36mlorapy.datafile.encoding\u001b[0m:\u001b[36mcompute_params\u001b[0m:\u001b[36m15\u001b[0m - \u001b[34m\u001b[1mcomputed samples per symbol: 800 and packet length: 24200\u001b[0m\n",
      "\u001b[32m2020-04-11 17:29:28.493\u001b[0m | \u001b[1mINFO    \u001b[0m | \u001b[36mlorapy.datafile._base_file\u001b[0m:\u001b[36mload\u001b[0m:\u001b[36m61\u001b[0m - \u001b[1mloaded 5086400 samples from file\u001b[0m\n",
      "\u001b[32m2020-04-11 17:29:28.494\u001b[0m | \u001b[34m\u001b[1mDEBUG   \u001b[0m | \u001b[36mlorapy.datafile.encoding\u001b[0m:\u001b[36mcompute_params\u001b[0m:\u001b[36m15\u001b[0m - \u001b[34m\u001b[1mcomputed samples per symbol: 3198 and packet length: 96739\u001b[0m\n",
      "\u001b[32m2020-04-11 17:29:28.586\u001b[0m | \u001b[1mINFO    \u001b[0m | \u001b[36mlorapy.datafile._base_file\u001b[0m:\u001b[36mload\u001b[0m:\u001b[36m61\u001b[0m - \u001b[1mloaded 6837324 samples from file\u001b[0m\n",
      "\u001b[32m2020-04-11 17:29:28.587\u001b[0m | \u001b[34m\u001b[1mDEBUG   \u001b[0m | \u001b[36mlorapy.datafile.encoding\u001b[0m:\u001b[36mcompute_params\u001b[0m:\u001b[36m15\u001b[0m - \u001b[34m\u001b[1mcomputed samples per symbol: 1599 and packet length: 48369\u001b[0m\n",
      "\u001b[32m2020-04-11 17:29:28.745\u001b[0m | \u001b[1mINFO    \u001b[0m | \u001b[36mlorapy.datafile._base_file\u001b[0m:\u001b[36mload\u001b[0m:\u001b[36m61\u001b[0m - \u001b[1mloaded 6376812 samples from file\u001b[0m\n",
      "\u001b[32m2020-04-11 17:29:28.747\u001b[0m | \u001b[34m\u001b[1mDEBUG   \u001b[0m | \u001b[36mlorapy.datafile.encoding\u001b[0m:\u001b[36mcompute_params\u001b[0m:\u001b[36m15\u001b[0m - \u001b[34m\u001b[1mcomputed samples per symbol: 51197 and packet length: 1548709\u001b[0m\n",
      "\u001b[32m2020-04-11 17:29:28.909\u001b[0m | \u001b[1mINFO    \u001b[0m | \u001b[36mlorapy.datafile._base_file\u001b[0m:\u001b[36mload\u001b[0m:\u001b[36m61\u001b[0m - \u001b[1mloaded 6502019 samples from file\u001b[0m\n",
      "\u001b[32m2020-04-11 17:29:28.911\u001b[0m | \u001b[34m\u001b[1mDEBUG   \u001b[0m | \u001b[36mlorapy.datafile.encoding\u001b[0m:\u001b[36mcompute_params\u001b[0m:\u001b[36m15\u001b[0m - \u001b[34m\u001b[1mcomputed samples per symbol: 76801 and packet length: 2323230\u001b[0m\n",
      "\u001b[32m2020-04-11 17:29:29.019\u001b[0m | \u001b[1mINFO    \u001b[0m | \u001b[36mlorapy.datafile._base_file\u001b[0m:\u001b[36mload\u001b[0m:\u001b[36m61\u001b[0m - \u001b[1mloaded 8448110 samples from file\u001b[0m\n",
      "\u001b[32m2020-04-11 17:29:29.020\u001b[0m | \u001b[34m\u001b[1mDEBUG   \u001b[0m | \u001b[36mlorapy.datafile.encoding\u001b[0m:\u001b[36mcompute_params\u001b[0m:\u001b[36m15\u001b[0m - \u001b[34m\u001b[1mcomputed samples per symbol: 6386 and packet length: 193176\u001b[0m\n",
      "\u001b[32m2020-04-11 17:29:29.199\u001b[0m | \u001b[1mINFO    \u001b[0m | \u001b[36mlorapy.datafile._base_file\u001b[0m:\u001b[36mload\u001b[0m:\u001b[36m61\u001b[0m - \u001b[1mloaded 6698914 samples from file\u001b[0m\n",
      "\u001b[32m2020-04-11 17:29:29.201\u001b[0m | \u001b[34m\u001b[1mDEBUG   \u001b[0m | \u001b[36mlorapy.datafile.encoding\u001b[0m:\u001b[36mcompute_params\u001b[0m:\u001b[36m15\u001b[0m - \u001b[34m\u001b[1mcomputed samples per symbol: 3198 and packet length: 96739\u001b[0m\n",
      "\u001b[32m2020-04-11 17:29:29.296\u001b[0m | \u001b[1mINFO    \u001b[0m | \u001b[36mlorapy.datafile._base_file\u001b[0m:\u001b[36mload\u001b[0m:\u001b[36m61\u001b[0m - \u001b[1mloaded 6984432 samples from file\u001b[0m\n",
      "\u001b[32m2020-04-11 17:29:29.297\u001b[0m | \u001b[34m\u001b[1mDEBUG   \u001b[0m | \u001b[36mlorapy.datafile.encoding\u001b[0m:\u001b[36mcompute_params\u001b[0m:\u001b[36m15\u001b[0m - \u001b[34m\u001b[1mcomputed samples per symbol: 6386 and packet length: 193176\u001b[0m\n",
      "\u001b[32m2020-04-11 17:29:29.383\u001b[0m | \u001b[1mINFO    \u001b[0m | \u001b[36mlorapy.datafile._base_file\u001b[0m:\u001b[36mload\u001b[0m:\u001b[36m61\u001b[0m - \u001b[1mloaded 6769160 samples from file\u001b[0m\n",
      "\u001b[32m2020-04-11 17:29:29.384\u001b[0m | \u001b[34m\u001b[1mDEBUG   \u001b[0m | \u001b[36mlorapy.datafile.encoding\u001b[0m:\u001b[36mcompute_params\u001b[0m:\u001b[36m15\u001b[0m - \u001b[34m\u001b[1mcomputed samples per symbol: 25604 and packet length: 774521\u001b[0m\n",
      "\u001b[32m2020-04-11 17:29:29.488\u001b[0m | \u001b[1mINFO    \u001b[0m | \u001b[36mlorapy.datafile._base_file\u001b[0m:\u001b[36mload\u001b[0m:\u001b[36m61\u001b[0m - \u001b[1mloaded 8449320 samples from file\u001b[0m\n",
      "\u001b[32m2020-04-11 17:29:29.489\u001b[0m | \u001b[34m\u001b[1mDEBUG   \u001b[0m | \u001b[36mlorapy.datafile.encoding\u001b[0m:\u001b[36mcompute_params\u001b[0m:\u001b[36m15\u001b[0m - \u001b[34m\u001b[1mcomputed samples per symbol: 3198 and packet length: 96739\u001b[0m\n",
      "\u001b[32m2020-04-11 17:29:29.597\u001b[0m | \u001b[1mINFO    \u001b[0m | \u001b[36mlorapy.datafile._base_file\u001b[0m:\u001b[36mload\u001b[0m:\u001b[36m61\u001b[0m - \u001b[1mloaded 8375562 samples from file\u001b[0m\n",
      "\u001b[32m2020-04-11 17:29:29.599\u001b[0m | \u001b[34m\u001b[1mDEBUG   \u001b[0m | \u001b[36mlorapy.datafile.encoding\u001b[0m:\u001b[36mcompute_params\u001b[0m:\u001b[36m15\u001b[0m - \u001b[34m\u001b[1mcomputed samples per symbol: 1599 and packet length: 48369\u001b[0m\n",
      "\u001b[32m2020-04-11 17:29:29.792\u001b[0m | \u001b[1mINFO    \u001b[0m | \u001b[36mlorapy.datafile._base_file\u001b[0m:\u001b[36mload\u001b[0m:\u001b[36m61\u001b[0m - \u001b[1mloaded 6498336 samples from file\u001b[0m\n",
      "\u001b[32m2020-04-11 17:29:29.794\u001b[0m | \u001b[34m\u001b[1mDEBUG   \u001b[0m | \u001b[36mlorapy.datafile.encoding\u001b[0m:\u001b[36mcompute_params\u001b[0m:\u001b[36m15\u001b[0m - \u001b[34m\u001b[1mcomputed samples per symbol: 51197 and packet length: 1548709\u001b[0m\n",
      "\u001b[32m2020-04-11 17:29:30.020\u001b[0m | \u001b[1mINFO    \u001b[0m | \u001b[36mlorapy.datafile._base_file\u001b[0m:\u001b[36mload\u001b[0m:\u001b[36m61\u001b[0m - \u001b[1mloaded 9010672 samples from file\u001b[0m\n",
      "\u001b[32m2020-04-11 17:29:30.022\u001b[0m | \u001b[34m\u001b[1mDEBUG   \u001b[0m | \u001b[36mlorapy.datafile.encoding\u001b[0m:\u001b[36mcompute_params\u001b[0m:\u001b[36m15\u001b[0m - \u001b[34m\u001b[1mcomputed samples per symbol: 76801 and packet length: 2323230\u001b[0m\n",
      "\u001b[32m2020-04-11 17:29:30.236\u001b[0m | \u001b[1mINFO    \u001b[0m | \u001b[36mlorapy.datafile._base_file\u001b[0m:\u001b[36mload\u001b[0m:\u001b[36m61\u001b[0m - \u001b[1mloaded 8678513 samples from file\u001b[0m\n",
      "\u001b[32m2020-04-11 17:29:30.237\u001b[0m | \u001b[34m\u001b[1mDEBUG   \u001b[0m | \u001b[36mlorapy.datafile.encoding\u001b[0m:\u001b[36mcompute_params\u001b[0m:\u001b[36m15\u001b[0m - \u001b[34m\u001b[1mcomputed samples per symbol: 38396 and packet length: 1161479\u001b[0m\n",
      "\u001b[32m2020-04-11 17:29:30.345\u001b[0m | \u001b[1mINFO    \u001b[0m | \u001b[36mlorapy.datafile._base_file\u001b[0m:\u001b[36mload\u001b[0m:\u001b[36m61\u001b[0m - \u001b[1mloaded 8024764 samples from file\u001b[0m\n",
      "\u001b[32m2020-04-11 17:29:30.347\u001b[0m | \u001b[34m\u001b[1mDEBUG   \u001b[0m | \u001b[36mlorapy.datafile.encoding\u001b[0m:\u001b[36mcompute_params\u001b[0m:\u001b[36m15\u001b[0m - \u001b[34m\u001b[1mcomputed samples per symbol: 25604 and packet length: 774521\u001b[0m\n",
      "\u001b[32m2020-04-11 17:29:30.466\u001b[0m | \u001b[1mINFO    \u001b[0m | \u001b[36mlorapy.datafile._base_file\u001b[0m:\u001b[36mload\u001b[0m:\u001b[36m61\u001b[0m - \u001b[1mloaded 9089420 samples from file\u001b[0m\n",
      "\u001b[32m2020-04-11 17:29:30.468\u001b[0m | \u001b[34m\u001b[1mDEBUG   \u001b[0m | \u001b[36mlorapy.datafile.encoding\u001b[0m:\u001b[36mcompute_params\u001b[0m:\u001b[36m15\u001b[0m - \u001b[34m\u001b[1mcomputed samples per symbol: 25604 and packet length: 774521\u001b[0m\n",
      "\u001b[32m2020-04-11 17:29:30.703\u001b[0m | \u001b[1mINFO    \u001b[0m | \u001b[36mlorapy.datafile._base_file\u001b[0m:\u001b[36mload\u001b[0m:\u001b[36m61\u001b[0m - \u001b[1mloaded 7758012 samples from file\u001b[0m\n",
      "\u001b[32m2020-04-11 17:29:30.705\u001b[0m | \u001b[34m\u001b[1mDEBUG   \u001b[0m | \u001b[36mlorapy.datafile.encoding\u001b[0m:\u001b[36mcompute_params\u001b[0m:\u001b[36m15\u001b[0m - \u001b[34m\u001b[1mcomputed samples per symbol: 12802 and packet length: 387260\u001b[0m\n",
      "\u001b[32m2020-04-11 17:29:30.821\u001b[0m | \u001b[1mINFO    \u001b[0m | \u001b[36mlorapy.datafile._base_file\u001b[0m:\u001b[36mload\u001b[0m:\u001b[36m61\u001b[0m - \u001b[1mloaded 9012608 samples from file\u001b[0m\n",
      "\u001b[32m2020-04-11 17:29:30.822\u001b[0m | \u001b[34m\u001b[1mDEBUG   \u001b[0m | \u001b[36mlorapy.datafile.encoding\u001b[0m:\u001b[36mcompute_params\u001b[0m:\u001b[36m15\u001b[0m - \u001b[34m\u001b[1mcomputed samples per symbol: 38396 and packet length: 1161479\u001b[0m\n",
      "\u001b[32m2020-04-11 17:29:30.827\u001b[0m | \u001b[1mINFO    \u001b[0m | \u001b[36mlorapy.datafile._base_file\u001b[0m:\u001b[36mload\u001b[0m:\u001b[36m61\u001b[0m - \u001b[1mloaded 268772 samples from file\u001b[0m\n",
      "\u001b[32m2020-04-11 17:29:30.828\u001b[0m | \u001b[34m\u001b[1mDEBUG   \u001b[0m | \u001b[36mlorapy.datafile.encoding\u001b[0m:\u001b[36mcompute_params\u001b[0m:\u001b[36m15\u001b[0m - \u001b[34m\u001b[1mcomputed samples per symbol: 38396 and packet length: 1161479\u001b[0m\n",
      "\u001b[32m2020-04-11 17:29:31.083\u001b[0m | \u001b[1mINFO    \u001b[0m | \u001b[36mlorapy.datafile._base_file\u001b[0m:\u001b[36mload\u001b[0m:\u001b[36m61\u001b[0m - \u001b[1mloaded 8869476 samples from file\u001b[0m\n",
      "\u001b[32m2020-04-11 17:29:31.085\u001b[0m | \u001b[34m\u001b[1mDEBUG   \u001b[0m | \u001b[36mlorapy.datafile.encoding\u001b[0m:\u001b[36mcompute_params\u001b[0m:\u001b[36m15\u001b[0m - \u001b[34m\u001b[1mcomputed samples per symbol: 3198 and packet length: 96739\u001b[0m\n",
      "\u001b[32m2020-04-11 17:29:31.173\u001b[0m | \u001b[1mINFO    \u001b[0m | \u001b[36mlorapy.datafile._base_file\u001b[0m:\u001b[36mload\u001b[0m:\u001b[36m61\u001b[0m - \u001b[1mloaded 6098586 samples from file\u001b[0m\n",
      "\u001b[32m2020-04-11 17:29:31.175\u001b[0m | \u001b[34m\u001b[1mDEBUG   \u001b[0m | \u001b[36mlorapy.datafile.encoding\u001b[0m:\u001b[36mcompute_params\u001b[0m:\u001b[36m15\u001b[0m - \u001b[34m\u001b[1mcomputed samples per symbol: 1599 and packet length: 48369\u001b[0m\n",
      "\u001b[32m2020-04-11 17:29:31.242\u001b[0m | \u001b[1mINFO    \u001b[0m | \u001b[36mlorapy.datafile._base_file\u001b[0m:\u001b[36mload\u001b[0m:\u001b[36m61\u001b[0m - \u001b[1mloaded 4544358 samples from file\u001b[0m\n",
      "\u001b[32m2020-04-11 17:29:31.244\u001b[0m | \u001b[34m\u001b[1mDEBUG   \u001b[0m | \u001b[36mlorapy.datafile.encoding\u001b[0m:\u001b[36mcompute_params\u001b[0m:\u001b[36m15\u001b[0m - \u001b[34m\u001b[1mcomputed samples per symbol: 400 and packet length: 12100\u001b[0m\n",
      "\u001b[32m2020-04-11 17:29:31.354\u001b[0m | \u001b[1mINFO    \u001b[0m | \u001b[36mlorapy.datafile._base_file\u001b[0m:\u001b[36mload\u001b[0m:\u001b[36m61\u001b[0m - \u001b[1mloaded 3821200 samples from file\u001b[0m\n",
      "\u001b[32m2020-04-11 17:29:31.356\u001b[0m | \u001b[34m\u001b[1mDEBUG   \u001b[0m | \u001b[36mlorapy.datafile.encoding\u001b[0m:\u001b[36mcompute_params\u001b[0m:\u001b[36m15\u001b[0m - \u001b[34m\u001b[1mcomputed samples per symbol: 6386 and packet length: 193176\u001b[0m\n",
      "\u001b[32m2020-04-11 17:29:31.451\u001b[0m | \u001b[1mINFO    \u001b[0m | \u001b[36mlorapy.datafile._base_file\u001b[0m:\u001b[36mload\u001b[0m:\u001b[36m61\u001b[0m - \u001b[1mloaded 5779330 samples from file\u001b[0m\n",
      "\u001b[32m2020-04-11 17:29:31.453\u001b[0m | \u001b[34m\u001b[1mDEBUG   \u001b[0m | \u001b[36mlorapy.datafile.encoding\u001b[0m:\u001b[36mcompute_params\u001b[0m:\u001b[36m15\u001b[0m - \u001b[34m\u001b[1mcomputed samples per symbol: 76801 and packet length: 2323230\u001b[0m\n",
      "\u001b[32m2020-04-11 17:29:31.586\u001b[0m | \u001b[1mINFO    \u001b[0m | \u001b[36mlorapy.datafile._base_file\u001b[0m:\u001b[36mload\u001b[0m:\u001b[36m61\u001b[0m - \u001b[1mloaded 8448110 samples from file\u001b[0m\n",
      "\u001b[32m2020-04-11 17:29:31.588\u001b[0m | \u001b[34m\u001b[1mDEBUG   \u001b[0m | \u001b[36mlorapy.datafile.encoding\u001b[0m:\u001b[36mcompute_params\u001b[0m:\u001b[36m15\u001b[0m - \u001b[34m\u001b[1mcomputed samples per symbol: 3198 and packet length: 96739\u001b[0m\n",
      "\u001b[32m2020-04-11 17:29:31.700\u001b[0m | \u001b[1mINFO    \u001b[0m | \u001b[36mlorapy.datafile._base_file\u001b[0m:\u001b[36mload\u001b[0m:\u001b[36m61\u001b[0m - \u001b[1mloaded 6594276 samples from file\u001b[0m\n",
      "\u001b[32m2020-04-11 17:29:31.702\u001b[0m | \u001b[34m\u001b[1mDEBUG   \u001b[0m | \u001b[36mlorapy.datafile.encoding\u001b[0m:\u001b[36mcompute_params\u001b[0m:\u001b[36m15\u001b[0m - \u001b[34m\u001b[1mcomputed samples per symbol: 1599 and packet length: 48369\u001b[0m\n",
      "\u001b[32m2020-04-11 17:29:31.804\u001b[0m | \u001b[1mINFO    \u001b[0m | \u001b[36mlorapy.datafile._base_file\u001b[0m:\u001b[36mload\u001b[0m:\u001b[36m61\u001b[0m - \u001b[1mloaded 5797974 samples from file\u001b[0m\n",
      "\u001b[32m2020-04-11 17:29:31.806\u001b[0m | \u001b[34m\u001b[1mDEBUG   \u001b[0m | \u001b[36mlorapy.datafile.encoding\u001b[0m:\u001b[36mcompute_params\u001b[0m:\u001b[36m15\u001b[0m - \u001b[34m\u001b[1mcomputed samples per symbol: 3198 and packet length: 96739\u001b[0m\n",
      "\u001b[32m2020-04-11 17:29:32.000\u001b[0m | \u001b[1mINFO    \u001b[0m | \u001b[36mlorapy.datafile._base_file\u001b[0m:\u001b[36mload\u001b[0m:\u001b[36m61\u001b[0m - \u001b[1mloaded 6376812 samples from file\u001b[0m\n",
      "\u001b[32m2020-04-11 17:29:32.002\u001b[0m | \u001b[34m\u001b[1mDEBUG   \u001b[0m | \u001b[36mlorapy.datafile.encoding\u001b[0m:\u001b[36mcompute_params\u001b[0m:\u001b[36m15\u001b[0m - \u001b[34m\u001b[1mcomputed samples per symbol: 800 and packet length: 24200\u001b[0m\n",
      "\u001b[32m2020-04-11 17:29:32.075\u001b[0m | \u001b[1mINFO    \u001b[0m | \u001b[36mlorapy.datafile._base_file\u001b[0m:\u001b[36mload\u001b[0m:\u001b[36m61\u001b[0m - \u001b[1mloaded 4936000 samples from file\u001b[0m\n",
      "\u001b[32m2020-04-11 17:29:32.077\u001b[0m | \u001b[34m\u001b[1mDEBUG   \u001b[0m | \u001b[36mlorapy.datafile.encoding\u001b[0m:\u001b[36mcompute_params\u001b[0m:\u001b[36m15\u001b[0m - \u001b[34m\u001b[1mcomputed samples per symbol: 1599 and packet length: 48369\u001b[0m\n",
      "\u001b[32m2020-04-11 17:29:32.307\u001b[0m | \u001b[1mINFO    \u001b[0m | \u001b[36mlorapy.datafile._base_file\u001b[0m:\u001b[36mload\u001b[0m:\u001b[36m61\u001b[0m - \u001b[1mloaded 7948629 samples from file\u001b[0m\n",
      "\u001b[32m2020-04-11 17:29:32.309\u001b[0m | \u001b[34m\u001b[1mDEBUG   \u001b[0m | \u001b[36mlorapy.datafile.encoding\u001b[0m:\u001b[36mcompute_params\u001b[0m:\u001b[36m15\u001b[0m - \u001b[34m\u001b[1mcomputed samples per symbol: 12802 and packet length: 387260\u001b[0m\n",
      "\u001b[32m2020-04-11 17:29:32.436\u001b[0m | \u001b[1mINFO    \u001b[0m | \u001b[36mlorapy.datafile._base_file\u001b[0m:\u001b[36mload\u001b[0m:\u001b[36m61\u001b[0m - \u001b[1mloaded 8769370 samples from file\u001b[0m\n",
      "\u001b[32m2020-04-11 17:29:32.437\u001b[0m | \u001b[34m\u001b[1mDEBUG   \u001b[0m | \u001b[36mlorapy.datafile.encoding\u001b[0m:\u001b[36mcompute_params\u001b[0m:\u001b[36m15\u001b[0m - \u001b[34m\u001b[1mcomputed samples per symbol: 1599 and packet length: 48369\u001b[0m\n",
      "\u001b[32m2020-04-11 17:29:32.547\u001b[0m | \u001b[1mINFO    \u001b[0m | \u001b[36mlorapy.datafile._base_file\u001b[0m:\u001b[36mload\u001b[0m:\u001b[36m61\u001b[0m - \u001b[1mloaded 7142733 samples from file\u001b[0m\n",
      "\u001b[32m2020-04-11 17:29:32.549\u001b[0m | \u001b[34m\u001b[1mDEBUG   \u001b[0m | \u001b[36mlorapy.datafile.encoding\u001b[0m:\u001b[36mcompute_params\u001b[0m:\u001b[36m15\u001b[0m - \u001b[34m\u001b[1mcomputed samples per symbol: 19198 and packet length: 580739\u001b[0m\n",
      "\u001b[32m2020-04-11 17:29:32.804\u001b[0m | \u001b[1mINFO    \u001b[0m | \u001b[36mlorapy.datafile._base_file\u001b[0m:\u001b[36mload\u001b[0m:\u001b[36m61\u001b[0m - \u001b[1mloaded 9963762 samples from file\u001b[0m\n",
      "\u001b[32m2020-04-11 17:29:32.805\u001b[0m | \u001b[34m\u001b[1mDEBUG   \u001b[0m | \u001b[36mlorapy.datafile.encoding\u001b[0m:\u001b[36mcompute_params\u001b[0m:\u001b[36m15\u001b[0m - \u001b[34m\u001b[1mcomputed samples per symbol: 6386 and packet length: 193176\u001b[0m\n",
      "\u001b[32m2020-04-11 17:29:32.889\u001b[0m | \u001b[1mINFO    \u001b[0m | \u001b[36mlorapy.datafile._base_file\u001b[0m:\u001b[36mload\u001b[0m:\u001b[36m61\u001b[0m - \u001b[1mloaded 6545650 samples from file\u001b[0m\n",
      "\u001b[32m2020-04-11 17:29:32.891\u001b[0m | \u001b[34m\u001b[1mDEBUG   \u001b[0m | \u001b[36mlorapy.datafile.encoding\u001b[0m:\u001b[36mcompute_params\u001b[0m:\u001b[36m15\u001b[0m - \u001b[34m\u001b[1mcomputed samples per symbol: 19198 and packet length: 580739\u001b[0m\n",
      "\u001b[32m2020-04-11 17:29:33.061\u001b[0m | \u001b[1mINFO    \u001b[0m | \u001b[36mlorapy.datafile._base_file\u001b[0m:\u001b[36mload\u001b[0m:\u001b[36m61\u001b[0m - \u001b[1mloaded 6911280 samples from file\u001b[0m\n",
      "\u001b[32m2020-04-11 17:29:33.063\u001b[0m | \u001b[34m\u001b[1mDEBUG   \u001b[0m | \u001b[36mlorapy.datafile.encoding\u001b[0m:\u001b[36mcompute_params\u001b[0m:\u001b[36m15\u001b[0m - \u001b[34m\u001b[1mcomputed samples per symbol: 3198 and packet length: 96739\u001b[0m\n",
      "\u001b[32m2020-04-11 17:29:33.152\u001b[0m | \u001b[1mINFO    \u001b[0m | \u001b[36mlorapy.datafile._base_file\u001b[0m:\u001b[36mload\u001b[0m:\u001b[36m61\u001b[0m - \u001b[1mloaded 6920472 samples from file\u001b[0m\n",
      "\u001b[32m2020-04-11 17:29:33.153\u001b[0m | \u001b[34m\u001b[1mDEBUG   \u001b[0m | \u001b[36mlorapy.datafile.encoding\u001b[0m:\u001b[36mcompute_params\u001b[0m:\u001b[36m15\u001b[0m - \u001b[34m\u001b[1mcomputed samples per symbol: 1599 and packet length: 48369\u001b[0m\n",
      "\u001b[32m2020-04-11 17:29:33.222\u001b[0m | \u001b[1mINFO    \u001b[0m | \u001b[36mlorapy.datafile._base_file\u001b[0m:\u001b[36mload\u001b[0m:\u001b[36m61\u001b[0m - \u001b[1mloaded 5350254 samples from file\u001b[0m\n",
      "\u001b[32m2020-04-11 17:29:33.223\u001b[0m | \u001b[34m\u001b[1mDEBUG   \u001b[0m | \u001b[36mlorapy.datafile.encoding\u001b[0m:\u001b[36mcompute_params\u001b[0m:\u001b[36m15\u001b[0m - \u001b[34m\u001b[1mcomputed samples per symbol: 51197 and packet length: 1548709\u001b[0m\n",
      "\u001b[32m2020-04-11 17:29:33.329\u001b[0m | \u001b[1mINFO    \u001b[0m | \u001b[36mlorapy.datafile._base_file\u001b[0m:\u001b[36mload\u001b[0m:\u001b[36m61\u001b[0m - \u001b[1mloaded 8447505 samples from file\u001b[0m\n",
      "\u001b[32m2020-04-11 17:29:33.330\u001b[0m | \u001b[34m\u001b[1mDEBUG   \u001b[0m | \u001b[36mlorapy.datafile.encoding\u001b[0m:\u001b[36mcompute_params\u001b[0m:\u001b[36m15\u001b[0m - \u001b[34m\u001b[1mcomputed samples per symbol: 1599 and packet length: 48369\u001b[0m\n",
      "\u001b[32m2020-04-11 17:29:33.472\u001b[0m | \u001b[1mINFO    \u001b[0m | \u001b[36mlorapy.datafile._base_file\u001b[0m:\u001b[36mload\u001b[0m:\u001b[36m61\u001b[0m - \u001b[1mloaded 5383833 samples from file\u001b[0m\n",
      "\u001b[32m2020-04-11 17:29:33.473\u001b[0m | \u001b[34m\u001b[1mDEBUG   \u001b[0m | \u001b[36mlorapy.datafile.encoding\u001b[0m:\u001b[36mcompute_params\u001b[0m:\u001b[36m15\u001b[0m - \u001b[34m\u001b[1mcomputed samples per symbol: 3198 and packet length: 96739\u001b[0m\n",
      "\u001b[32m2020-04-11 17:29:33.557\u001b[0m | \u001b[1mINFO    \u001b[0m | \u001b[36mlorapy.datafile._base_file\u001b[0m:\u001b[36mload\u001b[0m:\u001b[36m61\u001b[0m - \u001b[1mloaded 6268080 samples from file\u001b[0m\n",
      "\u001b[32m2020-04-11 17:29:33.558\u001b[0m | \u001b[34m\u001b[1mDEBUG   \u001b[0m | \u001b[36mlorapy.datafile.encoding\u001b[0m:\u001b[36mcompute_params\u001b[0m:\u001b[36m15\u001b[0m - \u001b[34m\u001b[1mcomputed samples per symbol: 19198 and packet length: 580739\u001b[0m\n",
      "\u001b[32m2020-04-11 17:29:33.737\u001b[0m | \u001b[1mINFO    \u001b[0m | \u001b[36mlorapy.datafile._base_file\u001b[0m:\u001b[36mload\u001b[0m:\u001b[36m61\u001b[0m - \u001b[1mloaded 7276042 samples from file\u001b[0m\n",
      "\u001b[32m2020-04-11 17:29:33.738\u001b[0m | \u001b[34m\u001b[1mDEBUG   \u001b[0m | \u001b[36mlorapy.datafile.encoding\u001b[0m:\u001b[36mcompute_params\u001b[0m:\u001b[36m15\u001b[0m - \u001b[34m\u001b[1mcomputed samples per symbol: 1599 and packet length: 48369\u001b[0m\n",
      "\u001b[32m2020-04-11 17:29:33.818\u001b[0m | \u001b[1mINFO    \u001b[0m | \u001b[36mlorapy.datafile._base_file\u001b[0m:\u001b[36mload\u001b[0m:\u001b[36m61\u001b[0m - \u001b[1mloaded 5476575 samples from file\u001b[0m\n",
      "\u001b[32m2020-04-11 17:29:33.819\u001b[0m | \u001b[34m\u001b[1mDEBUG   \u001b[0m | \u001b[36mlorapy.datafile.encoding\u001b[0m:\u001b[36mcompute_params\u001b[0m:\u001b[36m15\u001b[0m - \u001b[34m\u001b[1mcomputed samples per symbol: 38396 and packet length: 1161479\u001b[0m\n",
      "\u001b[32m2020-04-11 17:29:33.923\u001b[0m | \u001b[1mINFO    \u001b[0m | \u001b[36mlorapy.datafile._base_file\u001b[0m:\u001b[36mload\u001b[0m:\u001b[36m61\u001b[0m - \u001b[1mloaded 8869476 samples from file\u001b[0m\n",
      "\u001b[32m2020-04-11 17:29:33.926\u001b[0m | \u001b[34m\u001b[1mDEBUG   \u001b[0m | \u001b[36mlorapy.datafile.encoding\u001b[0m:\u001b[36mcompute_params\u001b[0m:\u001b[36m15\u001b[0m - \u001b[34m\u001b[1mcomputed samples per symbol: 19198 and packet length: 580739\u001b[0m\n",
      "\u001b[32m2020-04-11 17:29:34.066\u001b[0m | \u001b[1mINFO    \u001b[0m | \u001b[36mlorapy.datafile._base_file\u001b[0m:\u001b[36mload\u001b[0m:\u001b[36m61\u001b[0m - \u001b[1mloaded 10750880 samples from file\u001b[0m\n",
      "\u001b[32m2020-04-11 17:29:34.067\u001b[0m | \u001b[34m\u001b[1mDEBUG   \u001b[0m | \u001b[36mlorapy.datafile.encoding\u001b[0m:\u001b[36mcompute_params\u001b[0m:\u001b[36m15\u001b[0m - \u001b[34m\u001b[1mcomputed samples per symbol: 51197 and packet length: 1548709\u001b[0m\n",
      "\u001b[32m2020-04-11 17:29:34.244\u001b[0m | \u001b[1mINFO    \u001b[0m | \u001b[36mlorapy.datafile._base_file\u001b[0m:\u001b[36mload\u001b[0m:\u001b[36m61\u001b[0m - \u001b[1mloaded 13516008 samples from file\u001b[0m\n",
      "\u001b[32m2020-04-11 17:29:34.245\u001b[0m | \u001b[34m\u001b[1mDEBUG   \u001b[0m | \u001b[36mlorapy.datafile.encoding\u001b[0m:\u001b[36mcompute_params\u001b[0m:\u001b[36m15\u001b[0m - \u001b[34m\u001b[1mcomputed samples per symbol: 51197 and packet length: 1548709\u001b[0m\n",
      "\u001b[32m2020-04-11 17:29:34.407\u001b[0m | \u001b[1mINFO    \u001b[0m | \u001b[36mlorapy.datafile._base_file\u001b[0m:\u001b[36mload\u001b[0m:\u001b[36m61\u001b[0m - \u001b[1mloaded 12389674 samples from file\u001b[0m\n",
      "\u001b[32m2020-04-11 17:29:34.408\u001b[0m | \u001b[34m\u001b[1mDEBUG   \u001b[0m | \u001b[36mlorapy.datafile.encoding\u001b[0m:\u001b[36mcompute_params\u001b[0m:\u001b[36m15\u001b[0m - \u001b[34m\u001b[1mcomputed samples per symbol: 12802 and packet length: 387260\u001b[0m\n",
      "\u001b[32m2020-04-11 17:29:34.536\u001b[0m | \u001b[1mINFO    \u001b[0m | \u001b[36mlorapy.datafile._base_file\u001b[0m:\u001b[36mload\u001b[0m:\u001b[36m61\u001b[0m - \u001b[1mloaded 10651264 samples from file\u001b[0m\n",
      "\u001b[32m2020-04-11 17:29:34.538\u001b[0m | \u001b[34m\u001b[1mDEBUG   \u001b[0m | \u001b[36mlorapy.datafile.encoding\u001b[0m:\u001b[36mcompute_params\u001b[0m:\u001b[36m15\u001b[0m - \u001b[34m\u001b[1mcomputed samples per symbol: 19198 and packet length: 580739\u001b[0m\n",
      "\u001b[32m2020-04-11 17:29:34.702\u001b[0m | \u001b[1mINFO    \u001b[0m | \u001b[36mlorapy.datafile._base_file\u001b[0m:\u001b[36mload\u001b[0m:\u001b[36m61\u001b[0m - \u001b[1mloaded 12325116 samples from file\u001b[0m\n",
      "\u001b[32m2020-04-11 17:29:34.704\u001b[0m | \u001b[34m\u001b[1mDEBUG   \u001b[0m | \u001b[36mlorapy.datafile.encoding\u001b[0m:\u001b[36mcompute_params\u001b[0m:\u001b[36m15\u001b[0m - \u001b[34m\u001b[1mcomputed samples per symbol: 25604 and packet length: 774521\u001b[0m\n",
      "\u001b[32m2020-04-11 17:29:34.976\u001b[0m | \u001b[1mINFO    \u001b[0m | \u001b[36mlorapy.datafile._base_file\u001b[0m:\u001b[36mload\u001b[0m:\u001b[36m61\u001b[0m - \u001b[1mloaded 11393780 samples from file\u001b[0m\n",
      "\u001b[32m2020-04-11 17:29:34.977\u001b[0m | \u001b[34m\u001b[1mDEBUG   \u001b[0m | \u001b[36mlorapy.datafile.encoding\u001b[0m:\u001b[36mcompute_params\u001b[0m:\u001b[36m15\u001b[0m - \u001b[34m\u001b[1mcomputed samples per symbol: 38396 and packet length: 1161479\u001b[0m\n",
      "\u001b[32m2020-04-11 17:29:35.322\u001b[0m | \u001b[1mINFO    \u001b[0m | \u001b[36mlorapy.datafile._base_file\u001b[0m:\u001b[36mload\u001b[0m:\u001b[36m61\u001b[0m - \u001b[1mloaded 13093036 samples from file\u001b[0m\n",
      "\u001b[32m2020-04-11 17:29:35.324\u001b[0m | \u001b[34m\u001b[1mDEBUG   \u001b[0m | \u001b[36mlorapy.datafile.encoding\u001b[0m:\u001b[36mcompute_params\u001b[0m:\u001b[36m15\u001b[0m - \u001b[34m\u001b[1mcomputed samples per symbol: 76801 and packet length: 2323230\u001b[0m\n",
      "\u001b[32m2020-04-11 17:29:35.632\u001b[0m | \u001b[1mINFO    \u001b[0m | \u001b[36mlorapy.datafile._base_file\u001b[0m:\u001b[36mload\u001b[0m:\u001b[36m61\u001b[0m - \u001b[1mloaded 12288160 samples from file\u001b[0m\n",
      "\u001b[32m2020-04-11 17:29:35.634\u001b[0m | \u001b[34m\u001b[1mDEBUG   \u001b[0m | \u001b[36mlorapy.datafile.encoding\u001b[0m:\u001b[36mcompute_params\u001b[0m:\u001b[36m15\u001b[0m - \u001b[34m\u001b[1mcomputed samples per symbol: 25604 and packet length: 774521\u001b[0m\n",
      "\u001b[32m2020-04-11 17:29:35.789\u001b[0m | \u001b[1mINFO    \u001b[0m | \u001b[36mlorapy.datafile._base_file\u001b[0m:\u001b[36mload\u001b[0m:\u001b[36m61\u001b[0m - \u001b[1mloaded 12494752 samples from file\u001b[0m\n",
      "\u001b[32m2020-04-11 17:29:35.791\u001b[0m | \u001b[34m\u001b[1mDEBUG   \u001b[0m | \u001b[36mlorapy.datafile.encoding\u001b[0m:\u001b[36mcompute_params\u001b[0m:\u001b[36m15\u001b[0m - \u001b[34m\u001b[1mcomputed samples per symbol: 38396 and packet length: 1161479\u001b[0m\n",
      "\u001b[32m2020-04-11 17:29:35.940\u001b[0m | \u001b[1mINFO    \u001b[0m | \u001b[36mlorapy.datafile._base_file\u001b[0m:\u001b[36mload\u001b[0m:\u001b[36m61\u001b[0m - \u001b[1mloaded 12209928 samples from file\u001b[0m\n",
      "\u001b[32m2020-04-11 17:29:35.942\u001b[0m | \u001b[34m\u001b[1mDEBUG   \u001b[0m | \u001b[36mlorapy.datafile.encoding\u001b[0m:\u001b[36mcompute_params\u001b[0m:\u001b[36m15\u001b[0m - \u001b[34m\u001b[1mcomputed samples per symbol: 76801 and packet length: 2323230\u001b[0m\n",
      "\u001b[32m2020-04-11 17:29:36.092\u001b[0m | \u001b[1mINFO    \u001b[0m | \u001b[36mlorapy.datafile._base_file\u001b[0m:\u001b[36mload\u001b[0m:\u001b[36m61\u001b[0m - \u001b[1mloaded 12672165 samples from file\u001b[0m\n",
      "\u001b[32m2020-04-11 17:29:36.094\u001b[0m | \u001b[34m\u001b[1mDEBUG   \u001b[0m | \u001b[36mlorapy.datafile.encoding\u001b[0m:\u001b[36mcompute_params\u001b[0m:\u001b[36m15\u001b[0m - \u001b[34m\u001b[1mcomputed samples per symbol: 51197 and packet length: 1548709\u001b[0m\n",
      "\u001b[32m2020-04-11 17:29:36.228\u001b[0m | \u001b[1mINFO    \u001b[0m | \u001b[36mlorapy.datafile._base_file\u001b[0m:\u001b[36mload\u001b[0m:\u001b[36m61\u001b[0m - \u001b[1mloaded 10802567 samples from file\u001b[0m\n",
      "\u001b[32m2020-04-11 17:29:36.229\u001b[0m | \u001b[34m\u001b[1mDEBUG   \u001b[0m | \u001b[36mlorapy.datafile.encoding\u001b[0m:\u001b[36mcompute_params\u001b[0m:\u001b[36m15\u001b[0m - \u001b[34m\u001b[1mcomputed samples per symbol: 76801 and packet length: 2323230\u001b[0m\n",
      "\u001b[32m2020-04-11 17:29:36.405\u001b[0m | \u001b[1mINFO    \u001b[0m | \u001b[36mlorapy.datafile._base_file\u001b[0m:\u001b[36mload\u001b[0m:\u001b[36m61\u001b[0m - \u001b[1mloaded 13516976 samples from file\u001b[0m\n",
      "\u001b[32m2020-04-11 17:29:36.406\u001b[0m | \u001b[34m\u001b[1mDEBUG   \u001b[0m | \u001b[36mlorapy.datafile.encoding\u001b[0m:\u001b[36mcompute_params\u001b[0m:\u001b[36m15\u001b[0m - \u001b[34m\u001b[1mcomputed samples per symbol: 12802 and packet length: 387260\u001b[0m\n",
      "\u001b[32m2020-04-11 17:29:36.526\u001b[0m | \u001b[1mINFO    \u001b[0m | \u001b[36mlorapy.datafile._base_file\u001b[0m:\u001b[36mload\u001b[0m:\u001b[36m61\u001b[0m - \u001b[1mloaded 9934352 samples from file\u001b[0m\n",
      "\u001b[32m2020-04-11 17:29:36.527\u001b[0m | \u001b[34m\u001b[1mDEBUG   \u001b[0m | \u001b[36mlorapy.datafile.encoding\u001b[0m:\u001b[36mcompute_params\u001b[0m:\u001b[36m15\u001b[0m - \u001b[34m\u001b[1mcomputed samples per symbol: 38396 and packet length: 1161479\u001b[0m\n",
      "\u001b[32m2020-04-11 17:29:36.650\u001b[0m | \u001b[1mINFO    \u001b[0m | \u001b[36mlorapy.datafile._base_file\u001b[0m:\u001b[36mload\u001b[0m:\u001b[36m61\u001b[0m - \u001b[1mloaded 10136544 samples from file\u001b[0m\n",
      "\u001b[32m2020-04-11 17:29:36.652\u001b[0m | \u001b[34m\u001b[1mDEBUG   \u001b[0m | \u001b[36mlorapy.datafile.encoding\u001b[0m:\u001b[36mcompute_params\u001b[0m:\u001b[36m15\u001b[0m - \u001b[34m\u001b[1mcomputed samples per symbol: 12802 and packet length: 387260\u001b[0m\n",
      "\u001b[32m2020-04-11 17:29:36.796\u001b[0m | \u001b[1mINFO    \u001b[0m | \u001b[36mlorapy.datafile._base_file\u001b[0m:\u001b[36mload\u001b[0m:\u001b[36m61\u001b[0m - \u001b[1mloaded 11765038 samples from file\u001b[0m\n",
      "\u001b[32m2020-04-11 17:29:36.798\u001b[0m | \u001b[34m\u001b[1mDEBUG   \u001b[0m | \u001b[36mlorapy.datafile.encoding\u001b[0m:\u001b[36mcompute_params\u001b[0m:\u001b[36m15\u001b[0m - \u001b[34m\u001b[1mcomputed samples per symbol: 76801 and packet length: 2323230\u001b[0m\n",
      "\u001b[32m2020-04-11 17:29:36.972\u001b[0m | \u001b[1mINFO    \u001b[0m | \u001b[36mlorapy.datafile._base_file\u001b[0m:\u001b[36mload\u001b[0m:\u001b[36m61\u001b[0m - \u001b[1mloaded 12672165 samples from file\u001b[0m\n",
      "\u001b[32m2020-04-11 17:29:36.974\u001b[0m | \u001b[34m\u001b[1mDEBUG   \u001b[0m | \u001b[36mlorapy.datafile.encoding\u001b[0m:\u001b[36mcompute_params\u001b[0m:\u001b[36m15\u001b[0m - \u001b[34m\u001b[1mcomputed samples per symbol: 12802 and packet length: 387260\u001b[0m\n",
      "\u001b[32m2020-04-11 17:29:37.264\u001b[0m | \u001b[1mINFO    \u001b[0m | \u001b[36mlorapy.datafile._base_file\u001b[0m:\u001b[36mload\u001b[0m:\u001b[36m61\u001b[0m - \u001b[1mloaded 12136296 samples from file\u001b[0m\n",
      "\u001b[32m2020-04-11 17:29:37.265\u001b[0m | \u001b[34m\u001b[1mDEBUG   \u001b[0m | \u001b[36mlorapy.datafile.encoding\u001b[0m:\u001b[36mcompute_params\u001b[0m:\u001b[36m15\u001b[0m - \u001b[34m\u001b[1mcomputed samples per symbol: 76801 and packet length: 2323230\u001b[0m\n",
      "\u001b[32m2020-04-11 17:29:37.568\u001b[0m | \u001b[1mINFO    \u001b[0m | \u001b[36mlorapy.datafile._base_file\u001b[0m:\u001b[36mload\u001b[0m:\u001b[36m61\u001b[0m - \u001b[1mloaded 12672165 samples from file\u001b[0m\n",
      "\u001b[32m2020-04-11 17:29:37.570\u001b[0m | \u001b[34m\u001b[1mDEBUG   \u001b[0m | \u001b[36mlorapy.datafile.encoding\u001b[0m:\u001b[36mcompute_params\u001b[0m:\u001b[36m15\u001b[0m - \u001b[34m\u001b[1mcomputed samples per symbol: 38396 and packet length: 1161479\u001b[0m\n",
      "\u001b[32m2020-04-11 17:29:37.703\u001b[0m | \u001b[1mINFO    \u001b[0m | \u001b[36mlorapy.datafile._base_file\u001b[0m:\u001b[36mload\u001b[0m:\u001b[36m61\u001b[0m - \u001b[1mloaded 10558900 samples from file\u001b[0m\n",
      "\u001b[32m2020-04-11 17:29:37.705\u001b[0m | \u001b[34m\u001b[1mDEBUG   \u001b[0m | \u001b[36mlorapy.datafile.encoding\u001b[0m:\u001b[36mcompute_params\u001b[0m:\u001b[36m15\u001b[0m - \u001b[34m\u001b[1mcomputed samples per symbol: 19198 and packet length: 580739\u001b[0m\n",
      "\u001b[32m2020-04-11 17:29:38.026\u001b[0m | \u001b[1mINFO    \u001b[0m | \u001b[36mlorapy.datafile._base_file\u001b[0m:\u001b[36mload\u001b[0m:\u001b[36m61\u001b[0m - \u001b[1mloaded 11537998 samples from file\u001b[0m\n",
      "\u001b[32m2020-04-11 17:29:38.028\u001b[0m | \u001b[34m\u001b[1mDEBUG   \u001b[0m | \u001b[36mlorapy.datafile.encoding\u001b[0m:\u001b[36mcompute_params\u001b[0m:\u001b[36m15\u001b[0m - \u001b[34m\u001b[1mcomputed samples per symbol: 51197 and packet length: 1548709\u001b[0m\n",
      "\u001b[32m2020-04-11 17:29:38.181\u001b[0m | \u001b[1mINFO    \u001b[0m | \u001b[36mlorapy.datafile._base_file\u001b[0m:\u001b[36mload\u001b[0m:\u001b[36m61\u001b[0m - \u001b[1mloaded 12799250 samples from file\u001b[0m\n",
      "\u001b[32m2020-04-11 17:29:38.182\u001b[0m | \u001b[34m\u001b[1mDEBUG   \u001b[0m | \u001b[36mlorapy.datafile.encoding\u001b[0m:\u001b[36mcompute_params\u001b[0m:\u001b[36m15\u001b[0m - \u001b[34m\u001b[1mcomputed samples per symbol: 76801 and packet length: 2323230\u001b[0m\n",
      "\u001b[32m2020-04-11 17:29:38.532\u001b[0m | \u001b[1mINFO    \u001b[0m | \u001b[36mlorapy.datafile._base_file\u001b[0m:\u001b[36mload\u001b[0m:\u001b[36m61\u001b[0m - \u001b[1mloaded 12672165 samples from file\u001b[0m\n",
      "\u001b[32m2020-04-11 17:29:38.534\u001b[0m | \u001b[34m\u001b[1mDEBUG   \u001b[0m | \u001b[36mlorapy.datafile.encoding\u001b[0m:\u001b[36mcompute_params\u001b[0m:\u001b[36m15\u001b[0m - \u001b[34m\u001b[1mcomputed samples per symbol: 25604 and packet length: 774521\u001b[0m\n",
      "\u001b[32m2020-04-11 17:29:38.783\u001b[0m | \u001b[1mINFO    \u001b[0m | \u001b[36mlorapy.datafile._base_file\u001b[0m:\u001b[36mload\u001b[0m:\u001b[36m61\u001b[0m - \u001b[1mloaded 10907304 samples from file\u001b[0m\n",
      "\u001b[32m2020-04-11 17:29:38.784\u001b[0m | \u001b[34m\u001b[1mDEBUG   \u001b[0m | \u001b[36mlorapy.datafile.encoding\u001b[0m:\u001b[36mcompute_params\u001b[0m:\u001b[36m15\u001b[0m - \u001b[34m\u001b[1mcomputed samples per symbol: 25604 and packet length: 774521\u001b[0m\n",
      "\u001b[32m2020-04-11 17:29:39.077\u001b[0m | \u001b[1mINFO    \u001b[0m | \u001b[36mlorapy.datafile._base_file\u001b[0m:\u001b[36mload\u001b[0m:\u001b[36m61\u001b[0m - \u001b[1mloaded 12750792 samples from file\u001b[0m\n",
      "\u001b[32m2020-04-11 17:29:39.079\u001b[0m | \u001b[34m\u001b[1mDEBUG   \u001b[0m | \u001b[36mlorapy.datafile.encoding\u001b[0m:\u001b[36mcompute_params\u001b[0m:\u001b[36m15\u001b[0m - \u001b[34m\u001b[1mcomputed samples per symbol: 25604 and packet length: 774521\u001b[0m\n",
      "\u001b[32m2020-04-11 17:29:39.372\u001b[0m | \u001b[1mINFO    \u001b[0m | \u001b[36mlorapy.datafile._base_file\u001b[0m:\u001b[36mload\u001b[0m:\u001b[36m61\u001b[0m - \u001b[1mloaded 12673980 samples from file\u001b[0m\n",
      "\u001b[32m2020-04-11 17:29:39.373\u001b[0m | \u001b[34m\u001b[1mDEBUG   \u001b[0m | \u001b[36mlorapy.datafile.encoding\u001b[0m:\u001b[36mcompute_params\u001b[0m:\u001b[36m15\u001b[0m - \u001b[34m\u001b[1mcomputed samples per symbol: 19198 and packet length: 580739\u001b[0m\n",
      "\u001b[32m2020-04-11 17:29:39.674\u001b[0m | \u001b[1mINFO    \u001b[0m | \u001b[36mlorapy.datafile._base_file\u001b[0m:\u001b[36mload\u001b[0m:\u001b[36m61\u001b[0m - \u001b[1mloaded 12536294 samples from file\u001b[0m\n",
      "\u001b[32m2020-04-11 17:29:39.676\u001b[0m | \u001b[34m\u001b[1mDEBUG   \u001b[0m | \u001b[36mlorapy.datafile.encoding\u001b[0m:\u001b[36mcompute_params\u001b[0m:\u001b[36m15\u001b[0m - \u001b[34m\u001b[1mcomputed samples per symbol: 38396 and packet length: 1161479\u001b[0m\n",
      "\u001b[32m2020-04-11 17:29:39.829\u001b[0m | \u001b[1mINFO    \u001b[0m | \u001b[36mlorapy.datafile._base_file\u001b[0m:\u001b[36mload\u001b[0m:\u001b[36m61\u001b[0m - \u001b[1mloaded 13093036 samples from file\u001b[0m\n",
      "\u001b[32m2020-04-11 17:29:39.831\u001b[0m | \u001b[34m\u001b[1mDEBUG   \u001b[0m | \u001b[36mlorapy.datafile.encoding\u001b[0m:\u001b[36mcompute_params\u001b[0m:\u001b[36m15\u001b[0m - \u001b[34m\u001b[1mcomputed samples per symbol: 19198 and packet length: 580739\u001b[0m\n",
      "\u001b[32m2020-04-11 17:29:40.197\u001b[0m | \u001b[1mINFO    \u001b[0m | \u001b[36mlorapy.datafile._base_file\u001b[0m:\u001b[36mload\u001b[0m:\u001b[36m61\u001b[0m - \u001b[1mloaded 12497898 samples from file\u001b[0m\n",
      "\u001b[32m2020-04-11 17:29:40.198\u001b[0m | \u001b[34m\u001b[1mDEBUG   \u001b[0m | \u001b[36mlorapy.datafile.encoding\u001b[0m:\u001b[36mcompute_params\u001b[0m:\u001b[36m15\u001b[0m - \u001b[34m\u001b[1mcomputed samples per symbol: 51197 and packet length: 1548709\u001b[0m\n",
      "\u001b[32m2020-04-11 17:29:40.478\u001b[0m | \u001b[1mINFO    \u001b[0m | \u001b[36mlorapy.datafile._base_file\u001b[0m:\u001b[36mload\u001b[0m:\u001b[36m61\u001b[0m - \u001b[1mloaded 10034612 samples from file\u001b[0m\n",
      "\u001b[32m2020-04-11 17:29:40.480\u001b[0m | \u001b[34m\u001b[1mDEBUG   \u001b[0m | \u001b[36mlorapy.datafile.encoding\u001b[0m:\u001b[36mcompute_params\u001b[0m:\u001b[36m15\u001b[0m - \u001b[34m\u001b[1mcomputed samples per symbol: 76801 and packet length: 2323230\u001b[0m\n",
      "\u001b[32m2020-04-11 17:29:40.840\u001b[0m | \u001b[1mINFO    \u001b[0m | \u001b[36mlorapy.datafile._base_file\u001b[0m:\u001b[36mload\u001b[0m:\u001b[36m61\u001b[0m - \u001b[1mloaded 12672165 samples from file\u001b[0m\n",
      "\u001b[32m2020-04-11 17:29:40.842\u001b[0m | \u001b[34m\u001b[1mDEBUG   \u001b[0m | \u001b[36mlorapy.datafile.encoding\u001b[0m:\u001b[36mcompute_params\u001b[0m:\u001b[36m15\u001b[0m - \u001b[34m\u001b[1mcomputed samples per symbol: 25604 and packet length: 774521\u001b[0m\n",
      "\u001b[32m2020-04-11 17:29:41.190\u001b[0m | \u001b[1mINFO    \u001b[0m | \u001b[36mlorapy.datafile._base_file\u001b[0m:\u001b[36mload\u001b[0m:\u001b[36m61\u001b[0m - \u001b[1mloaded 12392336 samples from file\u001b[0m\n",
      "\u001b[32m2020-04-11 17:29:41.191\u001b[0m | \u001b[34m\u001b[1mDEBUG   \u001b[0m | \u001b[36mlorapy.datafile.encoding\u001b[0m:\u001b[36mcompute_params\u001b[0m:\u001b[36m15\u001b[0m - \u001b[34m\u001b[1mcomputed samples per symbol: 19198 and packet length: 580739\u001b[0m\n",
      "\u001b[32m2020-04-11 17:29:41.361\u001b[0m | \u001b[1mINFO    \u001b[0m | \u001b[36mlorapy.datafile._base_file\u001b[0m:\u001b[36mload\u001b[0m:\u001b[36m61\u001b[0m - \u001b[1mloaded 12056344 samples from file\u001b[0m\n",
      "\u001b[32m2020-04-11 17:29:41.362\u001b[0m | \u001b[34m\u001b[1mDEBUG   \u001b[0m | \u001b[36mlorapy.datafile.encoding\u001b[0m:\u001b[36mcompute_params\u001b[0m:\u001b[36m15\u001b[0m - \u001b[34m\u001b[1mcomputed samples per symbol: 76801 and packet length: 2323230\u001b[0m\n",
      "\u001b[32m2020-04-11 17:29:41.681\u001b[0m | \u001b[1mINFO    \u001b[0m | \u001b[36mlorapy.datafile._base_file\u001b[0m:\u001b[36mload\u001b[0m:\u001b[36m61\u001b[0m - \u001b[1mloaded 11136145 samples from file\u001b[0m\n",
      "\u001b[32m2020-04-11 17:29:41.682\u001b[0m | \u001b[34m\u001b[1mDEBUG   \u001b[0m | \u001b[36mlorapy.datafile.encoding\u001b[0m:\u001b[36mcompute_params\u001b[0m:\u001b[36m15\u001b[0m - \u001b[34m\u001b[1mcomputed samples per symbol: 12802 and packet length: 387260\u001b[0m\n",
      "\u001b[32m2020-04-11 17:29:41.850\u001b[0m | \u001b[1mINFO    \u001b[0m | \u001b[36mlorapy.datafile._base_file\u001b[0m:\u001b[36mload\u001b[0m:\u001b[36m61\u001b[0m - \u001b[1mloaded 11624216 samples from file\u001b[0m\n",
      "\u001b[32m2020-04-11 17:29:41.851\u001b[0m | \u001b[34m\u001b[1mDEBUG   \u001b[0m | \u001b[36mlorapy.datafile.encoding\u001b[0m:\u001b[36mcompute_params\u001b[0m:\u001b[36m15\u001b[0m - \u001b[34m\u001b[1mcomputed samples per symbol: 51197 and packet length: 1548709\u001b[0m\n",
      "\u001b[32m2020-04-11 17:29:42.216\u001b[0m | \u001b[1mINFO    \u001b[0m | \u001b[36mlorapy.datafile._base_file\u001b[0m:\u001b[36mload\u001b[0m:\u001b[36m61\u001b[0m - \u001b[1mloaded 12952841 samples from file\u001b[0m\n",
      "\u001b[32m2020-04-11 17:29:42.218\u001b[0m | \u001b[34m\u001b[1mDEBUG   \u001b[0m | \u001b[36mlorapy.datafile.encoding\u001b[0m:\u001b[36mcompute_params\u001b[0m:\u001b[36m15\u001b[0m - \u001b[34m\u001b[1mcomputed samples per symbol: 38396 and packet length: 1161479\u001b[0m\n",
      "\u001b[32m2020-04-11 17:29:42.320\u001b[0m | \u001b[1mINFO    \u001b[0m | \u001b[36mlorapy.datafile._base_file\u001b[0m:\u001b[36mload\u001b[0m:\u001b[36m61\u001b[0m - \u001b[1mloaded 8754288 samples from file\u001b[0m\n",
      "\u001b[32m2020-04-11 17:29:42.321\u001b[0m | \u001b[34m\u001b[1mDEBUG   \u001b[0m | \u001b[36mlorapy.datafile.encoding\u001b[0m:\u001b[36mcompute_params\u001b[0m:\u001b[36m15\u001b[0m - \u001b[34m\u001b[1mcomputed samples per symbol: 76801 and packet length: 2323230\u001b[0m\n",
      "\u001b[32m2020-04-11 17:29:42.546\u001b[0m | \u001b[1mINFO    \u001b[0m | \u001b[36mlorapy.datafile._base_file\u001b[0m:\u001b[36mload\u001b[0m:\u001b[36m61\u001b[0m - \u001b[1mloaded 9907329 samples from file\u001b[0m\n",
      "\u001b[32m2020-04-11 17:29:42.548\u001b[0m | \u001b[34m\u001b[1mDEBUG   \u001b[0m | \u001b[36mlorapy.datafile.encoding\u001b[0m:\u001b[36mcompute_params\u001b[0m:\u001b[36m15\u001b[0m - \u001b[34m\u001b[1mcomputed samples per symbol: 51197 and packet length: 1548709\u001b[0m\n",
      "\u001b[32m2020-04-11 17:29:42.832\u001b[0m | \u001b[1mINFO    \u001b[0m | \u001b[36mlorapy.datafile._base_file\u001b[0m:\u001b[36mload\u001b[0m:\u001b[36m61\u001b[0m - \u001b[1mloaded 12338477 samples from file\u001b[0m\n",
      "\u001b[32m2020-04-11 17:29:42.833\u001b[0m | \u001b[34m\u001b[1mDEBUG   \u001b[0m | \u001b[36mlorapy.datafile.encoding\u001b[0m:\u001b[36mcompute_params\u001b[0m:\u001b[36m15\u001b[0m - \u001b[34m\u001b[1mcomputed samples per symbol: 25604 and packet length: 774521\u001b[0m\n",
      "\u001b[32m2020-04-11 17:29:42.984\u001b[0m | \u001b[1mINFO    \u001b[0m | \u001b[36mlorapy.datafile._base_file\u001b[0m:\u001b[36mload\u001b[0m:\u001b[36m61\u001b[0m - \u001b[1mloaded 12904416 samples from file\u001b[0m\n",
      "\u001b[32m2020-04-11 17:29:42.985\u001b[0m | \u001b[34m\u001b[1mDEBUG   \u001b[0m | \u001b[36mlorapy.datafile.encoding\u001b[0m:\u001b[36mcompute_params\u001b[0m:\u001b[36m15\u001b[0m - \u001b[34m\u001b[1mcomputed samples per symbol: 19198 and packet length: 580739\u001b[0m\n",
      "\u001b[32m2020-04-11 17:29:43.127\u001b[0m | \u001b[1mINFO    \u001b[0m | \u001b[36mlorapy.datafile._base_file\u001b[0m:\u001b[36mload\u001b[0m:\u001b[36m61\u001b[0m - \u001b[1mloaded 12497898 samples from file\u001b[0m\n",
      "\u001b[32m2020-04-11 17:29:43.129\u001b[0m | \u001b[34m\u001b[1mDEBUG   \u001b[0m | \u001b[36mlorapy.datafile.encoding\u001b[0m:\u001b[36mcompute_params\u001b[0m:\u001b[36m15\u001b[0m - \u001b[34m\u001b[1mcomputed samples per symbol: 12802 and packet length: 387260\u001b[0m\n",
      "\u001b[32m2020-04-11 17:29:43.421\u001b[0m | \u001b[1mINFO    \u001b[0m | \u001b[36mlorapy.datafile._base_file\u001b[0m:\u001b[36mload\u001b[0m:\u001b[36m61\u001b[0m - \u001b[1mloaded 12417940 samples from file\u001b[0m\n",
      "\u001b[32m2020-04-11 17:29:43.423\u001b[0m | \u001b[34m\u001b[1mDEBUG   \u001b[0m | \u001b[36mlorapy.datafile.encoding\u001b[0m:\u001b[36mcompute_params\u001b[0m:\u001b[36m15\u001b[0m - \u001b[34m\u001b[1mcomputed samples per symbol: 12802 and packet length: 387260\u001b[0m\n",
      "\u001b[32m2020-04-11 17:29:43.683\u001b[0m | \u001b[1mINFO    \u001b[0m | \u001b[36mlorapy.datafile._base_file\u001b[0m:\u001b[36mload\u001b[0m:\u001b[36m61\u001b[0m - \u001b[1mloaded 11534602 samples from file\u001b[0m\n",
      "\u001b[32m2020-04-11 17:29:43.684\u001b[0m | \u001b[34m\u001b[1mDEBUG   \u001b[0m | \u001b[36mlorapy.datafile.encoding\u001b[0m:\u001b[36mcompute_params\u001b[0m:\u001b[36m15\u001b[0m - \u001b[34m\u001b[1mcomputed samples per symbol: 25604 and packet length: 774521\u001b[0m\n",
      "\u001b[32m2020-04-11 17:29:43.992\u001b[0m | \u001b[1mINFO    \u001b[0m | \u001b[36mlorapy.datafile._base_file\u001b[0m:\u001b[36mload\u001b[0m:\u001b[36m61\u001b[0m - \u001b[1mloaded 13314080 samples from file\u001b[0m\n",
      "\u001b[32m2020-04-11 17:29:43.994\u001b[0m | \u001b[34m\u001b[1mDEBUG   \u001b[0m | \u001b[36mlorapy.datafile.encoding\u001b[0m:\u001b[36mcompute_params\u001b[0m:\u001b[36m15\u001b[0m - \u001b[34m\u001b[1mcomputed samples per symbol: 38396 and packet length: 1161479\u001b[0m\n",
      "\u001b[32m2020-04-11 17:29:44.297\u001b[0m | \u001b[1mINFO    \u001b[0m | \u001b[36mlorapy.datafile._base_file\u001b[0m:\u001b[36mload\u001b[0m:\u001b[36m61\u001b[0m - \u001b[1mloaded 13093036 samples from file\u001b[0m\n",
      "\u001b[32m2020-04-11 17:29:44.299\u001b[0m | \u001b[34m\u001b[1mDEBUG   \u001b[0m | \u001b[36mlorapy.datafile.encoding\u001b[0m:\u001b[36mcompute_params\u001b[0m:\u001b[36m15\u001b[0m - \u001b[34m\u001b[1mcomputed samples per symbol: 19198 and packet length: 580739\u001b[0m\n",
      "\u001b[32m2020-04-11 17:29:44.504\u001b[0m | \u001b[1mINFO    \u001b[0m | \u001b[36mlorapy.datafile._base_file\u001b[0m:\u001b[36mload\u001b[0m:\u001b[36m61\u001b[0m - \u001b[1mloaded 8715892 samples from file\u001b[0m\n",
      "\u001b[32m2020-04-11 17:29:44.505\u001b[0m | \u001b[34m\u001b[1mDEBUG   \u001b[0m | \u001b[36mlorapy.datafile.encoding\u001b[0m:\u001b[36mcompute_params\u001b[0m:\u001b[36m15\u001b[0m - \u001b[34m\u001b[1mcomputed samples per symbol: 51197 and packet length: 1548709\u001b[0m\n",
      "\u001b[32m2020-04-11 17:29:44.784\u001b[0m | \u001b[1mINFO    \u001b[0m | \u001b[36mlorapy.datafile._base_file\u001b[0m:\u001b[36mload\u001b[0m:\u001b[36m61\u001b[0m - \u001b[1mloaded 12952841 samples from file\u001b[0m\n",
      "\u001b[32m2020-04-11 17:29:44.785\u001b[0m | \u001b[34m\u001b[1mDEBUG   \u001b[0m | \u001b[36mlorapy.datafile.encoding\u001b[0m:\u001b[36mcompute_params\u001b[0m:\u001b[36m15\u001b[0m - \u001b[34m\u001b[1mcomputed samples per symbol: 38396 and packet length: 1161479\u001b[0m\n",
      "\u001b[32m2020-04-11 17:29:44.898\u001b[0m | \u001b[1mINFO    \u001b[0m | \u001b[36mlorapy.datafile._base_file\u001b[0m:\u001b[36mload\u001b[0m:\u001b[36m61\u001b[0m - \u001b[1mloaded 9982960 samples from file\u001b[0m\n",
      "\u001b[32m2020-04-11 17:29:44.900\u001b[0m | \u001b[34m\u001b[1mDEBUG   \u001b[0m | \u001b[36mlorapy.datafile.encoding\u001b[0m:\u001b[36mcompute_params\u001b[0m:\u001b[36m15\u001b[0m - \u001b[34m\u001b[1mcomputed samples per symbol: 12802 and packet length: 387260\u001b[0m\n",
      "\u001b[32m2020-04-11 17:29:45.169\u001b[0m | \u001b[1mINFO    \u001b[0m | \u001b[36mlorapy.datafile._base_file\u001b[0m:\u001b[36mload\u001b[0m:\u001b[36m61\u001b[0m - \u001b[1mloaded 12277118 samples from file\u001b[0m\n"
     ]
    }
   ],
   "source": [
    "loaded_files = [file.load() for file in symloader.filegen]\n",
    "\n",
    "bw_opts = set(file.bw for file in loaded_files)\n",
    "sf_opts = set(file.sf for file in loaded_files)\n",
    "att_opts = set(file.att for file in loaded_files)\n",
    "\n",
    "all_opts = (bw_opts, sf_opts, att_opts)"
   ]
  },
  {
   "cell_type": "code",
   "execution_count": 8,
   "metadata": {},
   "outputs": [
    {
     "data": {
      "text/plain": [
       "[(1, 10, 0), (1, 10, 20), (1, 10, 40), (1, 10, 60), (1, 10, 80)]"
      ]
     },
     "execution_count": 8,
     "metadata": {},
     "output_type": "execute_result"
    }
   ],
   "source": [
    "param_list = sorted(list(\n",
    "    itertools.product(*all_opts)\n",
    "))\n",
    "\n",
    "param_list[:5]"
   ]
  },
  {
   "cell_type": "markdown",
   "metadata": {},
   "source": [
    "## load combine save"
   ]
  },
  {
   "cell_type": "code",
   "execution_count": 9,
   "metadata": {},
   "outputs": [
    {
     "data": {
      "text/plain": [
       "2"
      ]
     },
     "execution_count": 9,
     "metadata": {},
     "output_type": "execute_result"
    }
   ],
   "source": [
    "logger.add('dev/symbol-agg-logs.log', level='WARNING')"
   ]
  },
  {
   "cell_type": "code",
   "execution_count": 10,
   "metadata": {},
   "outputs": [
    {
     "name": "stderr",
     "output_type": "stream",
     "text": [
      "  0%|          | 0/120 [00:00<?, ?it/s]"
     ]
    },
    {
     "name": "stdout",
     "output_type": "stream",
     "text": [
      "\u001b[32m2020-04-11 17:29:48.306\u001b[0m | \u001b[34m\u001b[1mDEBUG   \u001b[0m | \u001b[36mlorapy.datafile.encoding\u001b[0m:\u001b[36mcompute_params\u001b[0m:\u001b[36m15\u001b[0m - \u001b[34m\u001b[1mcomputed samples per symbol: 19198 and packet length: 580739\u001b[0m\n",
      "\u001b[32m2020-04-11 17:29:48.513\u001b[0m | \u001b[1mINFO    \u001b[0m | \u001b[36mlorapy.datafile._base_file\u001b[0m:\u001b[36mload\u001b[0m:\u001b[36m61\u001b[0m - \u001b[1mloaded 8907872 samples from file\u001b[0m\n",
      "\u001b[32m2020-04-11 17:29:48.516\u001b[0m | \u001b[34m\u001b[1mDEBUG   \u001b[0m | \u001b[36mlorapy.datafile.encoding\u001b[0m:\u001b[36mcompute_params\u001b[0m:\u001b[36m15\u001b[0m - \u001b[34m\u001b[1mcomputed samples per symbol: 19198 and packet length: 580739\u001b[0m\n",
      "\u001b[32m2020-04-11 17:29:48.847\u001b[0m | \u001b[1mINFO    \u001b[0m | \u001b[36mlorapy.datafile._base_file\u001b[0m:\u001b[36mload\u001b[0m:\u001b[36m61\u001b[0m - \u001b[1mloaded 12497898 samples from file\u001b[0m\n",
      "\u001b[32m2020-04-11 17:29:49.045\u001b[0m | \u001b[33m\u001b[1mWARNING \u001b[0m | \u001b[36m__main__\u001b[0m:\u001b[36m_combine_all_syms\u001b[0m:\u001b[36m40\u001b[0m - \u001b[33m\u001b[1m[(1, 10, 0)]  combined 1115 total symbols [(1115, 19198)]\u001b[0m\n"
     ]
    },
    {
     "name": "stderr",
     "output_type": "stream",
     "text": [
      "  1%|          | 1/120 [00:01<02:38,  1.33s/it]"
     ]
    },
    {
     "name": "stdout",
     "output_type": "stream",
     "text": [
      "\u001b[32m2020-04-11 17:29:49.650\u001b[0m | \u001b[34m\u001b[1mDEBUG   \u001b[0m | \u001b[36mlorapy.datafile.encoding\u001b[0m:\u001b[36mcompute_params\u001b[0m:\u001b[36m15\u001b[0m - \u001b[34m\u001b[1mcomputed samples per symbol: 19198 and packet length: 580739\u001b[0m\n",
      "\u001b[32m2020-04-11 17:29:49.873\u001b[0m | \u001b[1mINFO    \u001b[0m | \u001b[36mlorapy.datafile._base_file\u001b[0m:\u001b[36mload\u001b[0m:\u001b[36m61\u001b[0m - \u001b[1mloaded 9963762 samples from file\u001b[0m\n",
      "\u001b[32m2020-04-11 17:29:49.875\u001b[0m | \u001b[34m\u001b[1mDEBUG   \u001b[0m | \u001b[36mlorapy.datafile.encoding\u001b[0m:\u001b[36mcompute_params\u001b[0m:\u001b[36m15\u001b[0m - \u001b[34m\u001b[1mcomputed samples per symbol: 19198 and packet length: 580739\u001b[0m\n",
      "\u001b[32m2020-04-11 17:29:50.021\u001b[0m | \u001b[1mINFO    \u001b[0m | \u001b[36mlorapy.datafile._base_file\u001b[0m:\u001b[36mload\u001b[0m:\u001b[36m61\u001b[0m - \u001b[1mloaded 12497898 samples from file\u001b[0m\n",
      "\u001b[32m2020-04-11 17:29:50.165\u001b[0m | \u001b[33m\u001b[1mWARNING \u001b[0m | \u001b[36m__main__\u001b[0m:\u001b[36m_combine_all_syms\u001b[0m:\u001b[36m40\u001b[0m - \u001b[33m\u001b[1m[(1, 10, 20)]  combined 1170 total symbols [(1170, 19198)]\u001b[0m\n"
     ]
    },
    {
     "name": "stderr",
     "output_type": "stream",
     "text": [
      "  2%|▏         | 2/120 [00:02<02:29,  1.27s/it]"
     ]
    },
    {
     "name": "stdout",
     "output_type": "stream",
     "text": [
      "\u001b[32m2020-04-11 17:29:50.762\u001b[0m | \u001b[34m\u001b[1mDEBUG   \u001b[0m | \u001b[36mlorapy.datafile.encoding\u001b[0m:\u001b[36mcompute_params\u001b[0m:\u001b[36m15\u001b[0m - \u001b[34m\u001b[1mcomputed samples per symbol: 19198 and packet length: 580739\u001b[0m\n",
      "\u001b[32m2020-04-11 17:29:50.932\u001b[0m | \u001b[1mINFO    \u001b[0m | \u001b[36mlorapy.datafile._base_file\u001b[0m:\u001b[36mload\u001b[0m:\u001b[36m61\u001b[0m - \u001b[1mloaded 7506418 samples from file\u001b[0m\n",
      "\u001b[32m2020-04-11 17:29:50.933\u001b[0m | \u001b[34m\u001b[1mDEBUG   \u001b[0m | \u001b[36mlorapy.datafile.encoding\u001b[0m:\u001b[36mcompute_params\u001b[0m:\u001b[36m15\u001b[0m - \u001b[34m\u001b[1mcomputed samples per symbol: 19198 and packet length: 580739\u001b[0m\n",
      "\u001b[32m2020-04-11 17:29:51.077\u001b[0m | \u001b[1mINFO    \u001b[0m | \u001b[36mlorapy.datafile._base_file\u001b[0m:\u001b[36mload\u001b[0m:\u001b[36m61\u001b[0m - \u001b[1mloaded 12325116 samples from file\u001b[0m\n",
      "\u001b[32m2020-04-11 17:29:51.204\u001b[0m | \u001b[33m\u001b[1mWARNING \u001b[0m | \u001b[36m__main__\u001b[0m:\u001b[36m_combine_all_syms\u001b[0m:\u001b[36m40\u001b[0m - \u001b[33m\u001b[1m[(1, 10, 40)]  combined 1033 total symbols [(1033, 19198)]\u001b[0m\n"
     ]
    },
    {
     "name": "stderr",
     "output_type": "stream",
     "text": [
      "  2%|▎         | 3/120 [00:03<02:16,  1.17s/it]"
     ]
    },
    {
     "name": "stdout",
     "output_type": "stream",
     "text": [
      "\u001b[32m2020-04-11 17:29:51.692\u001b[0m | \u001b[34m\u001b[1mDEBUG   \u001b[0m | \u001b[36mlorapy.datafile.encoding\u001b[0m:\u001b[36mcompute_params\u001b[0m:\u001b[36m15\u001b[0m - \u001b[34m\u001b[1mcomputed samples per symbol: 19198 and packet length: 580739\u001b[0m\n",
      "\u001b[32m2020-04-11 17:29:51.905\u001b[0m | \u001b[1mINFO    \u001b[0m | \u001b[36mlorapy.datafile._base_file\u001b[0m:\u001b[36mload\u001b[0m:\u001b[36m61\u001b[0m - \u001b[1mloaded 9157446 samples from file\u001b[0m\n",
      "\u001b[32m2020-04-11 17:29:51.906\u001b[0m | \u001b[34m\u001b[1mDEBUG   \u001b[0m | \u001b[36mlorapy.datafile.encoding\u001b[0m:\u001b[36mcompute_params\u001b[0m:\u001b[36m15\u001b[0m - \u001b[34m\u001b[1mcomputed samples per symbol: 19198 and packet length: 580739\u001b[0m\n",
      "\u001b[32m2020-04-11 17:29:52.168\u001b[0m | \u001b[1mINFO    \u001b[0m | \u001b[36mlorapy.datafile._base_file\u001b[0m:\u001b[36mload\u001b[0m:\u001b[36m61\u001b[0m - \u001b[1mloaded 11537998 samples from file\u001b[0m\n",
      "\u001b[32m2020-04-11 17:29:52.304\u001b[0m | \u001b[33m\u001b[1mWARNING \u001b[0m | \u001b[36m__main__\u001b[0m:\u001b[36m_combine_all_syms\u001b[0m:\u001b[36m40\u001b[0m - \u001b[33m\u001b[1m[(1, 10, 60)]  combined 1078 total symbols [(1078, 19198)]\u001b[0m\n"
     ]
    },
    {
     "name": "stderr",
     "output_type": "stream",
     "text": [
      "  3%|▎         | 4/120 [00:04<02:13,  1.15s/it]"
     ]
    },
    {
     "name": "stdout",
     "output_type": "stream",
     "text": [
      "\u001b[32m2020-04-11 17:29:52.820\u001b[0m | \u001b[34m\u001b[1mDEBUG   \u001b[0m | \u001b[36mlorapy.datafile.encoding\u001b[0m:\u001b[36mcompute_params\u001b[0m:\u001b[36m15\u001b[0m - \u001b[34m\u001b[1mcomputed samples per symbol: 19198 and packet length: 580739\u001b[0m\n",
      "\u001b[32m2020-04-11 17:29:52.988\u001b[0m | \u001b[1mINFO    \u001b[0m | \u001b[36mlorapy.datafile._base_file\u001b[0m:\u001b[36mload\u001b[0m:\u001b[36m61\u001b[0m - \u001b[1mloaded 7276042 samples from file\u001b[0m\n",
      "\u001b[32m2020-04-11 17:29:52.989\u001b[0m | \u001b[34m\u001b[1mDEBUG   \u001b[0m | \u001b[36mlorapy.datafile.encoding\u001b[0m:\u001b[36mcompute_params\u001b[0m:\u001b[36m15\u001b[0m - \u001b[34m\u001b[1mcomputed samples per symbol: 19198 and packet length: 580739\u001b[0m\n",
      "\u001b[32m2020-04-11 17:29:53.135\u001b[0m | \u001b[1mINFO    \u001b[0m | \u001b[36mlorapy.datafile._base_file\u001b[0m:\u001b[36mload\u001b[0m:\u001b[36m61\u001b[0m - \u001b[1mloaded 12056344 samples from file\u001b[0m\n",
      "\u001b[32m2020-04-11 17:29:53.260\u001b[0m | \u001b[33m\u001b[1mWARNING \u001b[0m | \u001b[36m__main__\u001b[0m:\u001b[36m_combine_all_syms\u001b[0m:\u001b[36m40\u001b[0m - \u001b[33m\u001b[1m[(1, 10, 80)]  combined 1007 total symbols [(1007, 19198)]\u001b[0m\n"
     ]
    },
    {
     "name": "stderr",
     "output_type": "stream",
     "text": [
      "  4%|▍         | 5/120 [00:05<02:04,  1.09s/it]"
     ]
    },
    {
     "name": "stdout",
     "output_type": "stream",
     "text": [
      "\u001b[32m2020-04-11 17:29:53.744\u001b[0m | \u001b[34m\u001b[1mDEBUG   \u001b[0m | \u001b[36mlorapy.datafile.encoding\u001b[0m:\u001b[36mcompute_params\u001b[0m:\u001b[36m15\u001b[0m - \u001b[34m\u001b[1mcomputed samples per symbol: 19198 and packet length: 580739\u001b[0m\n",
      "\u001b[32m2020-04-11 17:29:53.899\u001b[0m | \u001b[1mINFO    \u001b[0m | \u001b[36mlorapy.datafile._base_file\u001b[0m:\u001b[36mload\u001b[0m:\u001b[36m61\u001b[0m - \u001b[1mloaded 6911280 samples from file\u001b[0m\n",
      "\u001b[32m2020-04-11 17:29:53.900\u001b[0m | \u001b[34m\u001b[1mDEBUG   \u001b[0m | \u001b[36mlorapy.datafile.encoding\u001b[0m:\u001b[36mcompute_params\u001b[0m:\u001b[36m15\u001b[0m - \u001b[34m\u001b[1mcomputed samples per symbol: 19198 and packet length: 580739\u001b[0m\n",
      "\u001b[32m2020-04-11 17:29:54.193\u001b[0m | \u001b[1mINFO    \u001b[0m | \u001b[36mlorapy.datafile._base_file\u001b[0m:\u001b[36mload\u001b[0m:\u001b[36m61\u001b[0m - \u001b[1mloaded 12536294 samples from file\u001b[0m\n",
      "\u001b[32m2020-04-11 17:29:54.324\u001b[0m | \u001b[33m\u001b[1mWARNING \u001b[0m | \u001b[36m__main__\u001b[0m:\u001b[36m_combine_all_syms\u001b[0m:\u001b[36m40\u001b[0m - \u001b[33m\u001b[1m[(1, 10, 100)]  combined 1013 total symbols [(1013, 19198)]\u001b[0m\n"
     ]
    },
    {
     "name": "stderr",
     "output_type": "stream",
     "text": [
      "  5%|▌         | 6/120 [00:06<02:04,  1.09s/it]"
     ]
    },
    {
     "name": "stdout",
     "output_type": "stream",
     "text": [
      "\u001b[32m2020-04-11 17:29:54.854\u001b[0m | \u001b[34m\u001b[1mDEBUG   \u001b[0m | \u001b[36mlorapy.datafile.encoding\u001b[0m:\u001b[36mcompute_params\u001b[0m:\u001b[36m15\u001b[0m - \u001b[34m\u001b[1mcomputed samples per symbol: 19198 and packet length: 580739\u001b[0m\n",
      "\u001b[32m2020-04-11 17:29:54.947\u001b[0m | \u001b[1mINFO    \u001b[0m | \u001b[36mlorapy.datafile._base_file\u001b[0m:\u001b[36mload\u001b[0m:\u001b[36m61\u001b[0m - \u001b[1mloaded 7755992 samples from file\u001b[0m\n",
      "\u001b[32m2020-04-11 17:29:54.948\u001b[0m | \u001b[34m\u001b[1mDEBUG   \u001b[0m | \u001b[36mlorapy.datafile.encoding\u001b[0m:\u001b[36mcompute_params\u001b[0m:\u001b[36m15\u001b[0m - \u001b[34m\u001b[1mcomputed samples per symbol: 19198 and packet length: 580739\u001b[0m\n",
      "\u001b[32m2020-04-11 17:29:55.080\u001b[0m | \u001b[1mINFO    \u001b[0m | \u001b[36mlorapy.datafile._base_file\u001b[0m:\u001b[36mload\u001b[0m:\u001b[36m61\u001b[0m - \u001b[1mloaded 10750880 samples from file\u001b[0m\n",
      "\u001b[32m2020-04-11 17:29:55.144\u001b[0m | \u001b[33m\u001b[1mWARNING \u001b[0m | \u001b[36m__main__\u001b[0m:\u001b[36m_combine_all_syms\u001b[0m:\u001b[36m40\u001b[0m - \u001b[33m\u001b[1m[(1, 10, 120)]  combined 964 total symbols [(964, 19198)]\u001b[0m\n"
     ]
    },
    {
     "name": "stderr",
     "output_type": "stream",
     "text": [
      "  6%|▌         | 7/120 [00:07<01:44,  1.08it/s]"
     ]
    },
    {
     "name": "stdout",
     "output_type": "stream",
     "text": [
      "\u001b[32m2020-04-11 17:29:55.375\u001b[0m | \u001b[34m\u001b[1mDEBUG   \u001b[0m | \u001b[36mlorapy.datafile.encoding\u001b[0m:\u001b[36mcompute_params\u001b[0m:\u001b[36m15\u001b[0m - \u001b[34m\u001b[1mcomputed samples per symbol: 19198 and packet length: 580739\u001b[0m\n",
      "\u001b[32m2020-04-11 17:29:55.473\u001b[0m | \u001b[1mINFO    \u001b[0m | \u001b[36mlorapy.datafile._base_file\u001b[0m:\u001b[36mload\u001b[0m:\u001b[36m61\u001b[0m - \u001b[1mloaded 8178348 samples from file\u001b[0m\n",
      "\u001b[32m2020-04-11 17:29:55.474\u001b[0m | \u001b[34m\u001b[1mDEBUG   \u001b[0m | \u001b[36mlorapy.datafile.encoding\u001b[0m:\u001b[36mcompute_params\u001b[0m:\u001b[36m15\u001b[0m - \u001b[34m\u001b[1mcomputed samples per symbol: 19198 and packet length: 580739\u001b[0m\n",
      "\u001b[32m2020-04-11 17:29:55.671\u001b[0m | \u001b[1mINFO    \u001b[0m | \u001b[36mlorapy.datafile._base_file\u001b[0m:\u001b[36mload\u001b[0m:\u001b[36m61\u001b[0m - \u001b[1mloaded 8715892 samples from file\u001b[0m\n",
      "\u001b[32m2020-04-11 17:29:55.777\u001b[0m | \u001b[33m\u001b[1mWARNING \u001b[0m | \u001b[36m__main__\u001b[0m:\u001b[36m_combine_all_syms\u001b[0m:\u001b[36m40\u001b[0m - \u001b[33m\u001b[1m[(1, 10, 140)]  combined 880 total symbols [(880, 19198)]\u001b[0m\n"
     ]
    },
    {
     "name": "stderr",
     "output_type": "stream",
     "text": [
      "  7%|▋         | 8/120 [00:07<01:40,  1.12it/s]"
     ]
    },
    {
     "name": "stdout",
     "output_type": "stream",
     "text": [
      "\u001b[32m2020-04-11 17:29:56.203\u001b[0m | \u001b[34m\u001b[1mDEBUG   \u001b[0m | \u001b[36mlorapy.datafile.encoding\u001b[0m:\u001b[36mcompute_params\u001b[0m:\u001b[36m15\u001b[0m - \u001b[34m\u001b[1mcomputed samples per symbol: 38396 and packet length: 1161479\u001b[0m\n",
      "\u001b[32m2020-04-11 17:29:56.297\u001b[0m | \u001b[1mINFO    \u001b[0m | \u001b[36mlorapy.datafile._base_file\u001b[0m:\u001b[36mload\u001b[0m:\u001b[36m61\u001b[0m - \u001b[1mloaded 8024764 samples from file\u001b[0m\n",
      "\u001b[32m2020-04-11 17:29:56.298\u001b[0m | \u001b[34m\u001b[1mDEBUG   \u001b[0m | \u001b[36mlorapy.datafile.encoding\u001b[0m:\u001b[36mcompute_params\u001b[0m:\u001b[36m15\u001b[0m - \u001b[34m\u001b[1mcomputed samples per symbol: 38396 and packet length: 1161479\u001b[0m\n",
      "\u001b[32m2020-04-11 17:29:56.436\u001b[0m | \u001b[1mINFO    \u001b[0m | \u001b[36mlorapy.datafile._base_file\u001b[0m:\u001b[36mload\u001b[0m:\u001b[36m61\u001b[0m - \u001b[1mloaded 12209928 samples from file\u001b[0m\n",
      "\u001b[32m2020-04-11 17:29:56.503\u001b[0m | \u001b[33m\u001b[1mWARNING \u001b[0m | \u001b[36m__main__\u001b[0m:\u001b[36m_combine_all_syms\u001b[0m:\u001b[36m40\u001b[0m - \u001b[33m\u001b[1m[(1, 11, 0)]  combined 527 total symbols [(527, 38396)]\u001b[0m\n"
     ]
    },
    {
     "name": "stderr",
     "output_type": "stream",
     "text": [
      "  8%|▊         | 9/120 [00:08<01:28,  1.26it/s]"
     ]
    },
    {
     "name": "stdout",
     "output_type": "stream",
     "text": [
      "\u001b[32m2020-04-11 17:29:56.764\u001b[0m | \u001b[34m\u001b[1mDEBUG   \u001b[0m | \u001b[36mlorapy.datafile.encoding\u001b[0m:\u001b[36mcompute_params\u001b[0m:\u001b[36m15\u001b[0m - \u001b[34m\u001b[1mcomputed samples per symbol: 38396 and packet length: 1161479\u001b[0m\n",
      "\u001b[32m2020-04-11 17:29:56.964\u001b[0m | \u001b[1mINFO    \u001b[0m | \u001b[36mlorapy.datafile._base_file\u001b[0m:\u001b[36mload\u001b[0m:\u001b[36m61\u001b[0m - \u001b[1mloaded 8869476 samples from file\u001b[0m\n",
      "\u001b[32m2020-04-11 17:29:56.966\u001b[0m | \u001b[34m\u001b[1mDEBUG   \u001b[0m | \u001b[36mlorapy.datafile.encoding\u001b[0m:\u001b[36mcompute_params\u001b[0m:\u001b[36m15\u001b[0m - \u001b[34m\u001b[1mcomputed samples per symbol: 38396 and packet length: 1161479\u001b[0m\n",
      "\u001b[32m2020-04-11 17:29:57.269\u001b[0m | \u001b[1mINFO    \u001b[0m | \u001b[36mlorapy.datafile._base_file\u001b[0m:\u001b[36mload\u001b[0m:\u001b[36m61\u001b[0m - \u001b[1mloaded 13093036 samples from file\u001b[0m\n",
      "\u001b[32m2020-04-11 17:29:57.415\u001b[0m | \u001b[33m\u001b[1mWARNING \u001b[0m | \u001b[36m__main__\u001b[0m:\u001b[36m_combine_all_syms\u001b[0m:\u001b[36m40\u001b[0m - \u001b[33m\u001b[1m[(1, 11, 20)]  combined 572 total symbols [(572, 38396)]\u001b[0m\n"
     ]
    },
    {
     "name": "stderr",
     "output_type": "stream",
     "text": [
      "  8%|▊         | 10/120 [00:09<01:40,  1.10it/s]"
     ]
    },
    {
     "name": "stdout",
     "output_type": "stream",
     "text": [
      "\u001b[32m2020-04-11 17:29:57.949\u001b[0m | \u001b[34m\u001b[1mDEBUG   \u001b[0m | \u001b[36mlorapy.datafile.encoding\u001b[0m:\u001b[36mcompute_params\u001b[0m:\u001b[36m15\u001b[0m - \u001b[34m\u001b[1mcomputed samples per symbol: 38396 and packet length: 1161479\u001b[0m\n",
      "\u001b[32m2020-04-11 17:29:58.033\u001b[0m | \u001b[1mINFO    \u001b[0m | \u001b[36mlorapy.datafile._base_file\u001b[0m:\u001b[36mload\u001b[0m:\u001b[36m61\u001b[0m - \u001b[1mloaded 7180052 samples from file\u001b[0m\n",
      "\u001b[32m2020-04-11 17:29:58.035\u001b[0m | \u001b[34m\u001b[1mDEBUG   \u001b[0m | \u001b[36mlorapy.datafile.encoding\u001b[0m:\u001b[36mcompute_params\u001b[0m:\u001b[36m15\u001b[0m - \u001b[34m\u001b[1mcomputed samples per symbol: 38396 and packet length: 1161479\u001b[0m\n",
      "\u001b[32m2020-04-11 17:29:58.186\u001b[0m | \u001b[1mINFO    \u001b[0m | \u001b[36mlorapy.datafile._base_file\u001b[0m:\u001b[36mload\u001b[0m:\u001b[36m61\u001b[0m - \u001b[1mloaded 13093036 samples from file\u001b[0m\n",
      "\u001b[32m2020-04-11 17:29:58.255\u001b[0m | \u001b[33m\u001b[1mWARNING \u001b[0m | \u001b[36m__main__\u001b[0m:\u001b[36m_combine_all_syms\u001b[0m:\u001b[36m40\u001b[0m - \u001b[33m\u001b[1m[(1, 11, 40)]  combined 528 total symbols [(528, 38396)]\u001b[0m\n"
     ]
    },
    {
     "name": "stderr",
     "output_type": "stream",
     "text": [
      "  9%|▉         | 11/120 [00:10<01:28,  1.24it/s]"
     ]
    },
    {
     "name": "stdout",
     "output_type": "stream",
     "text": [
      "\u001b[32m2020-04-11 17:29:58.513\u001b[0m | \u001b[34m\u001b[1mDEBUG   \u001b[0m | \u001b[36mlorapy.datafile.encoding\u001b[0m:\u001b[36mcompute_params\u001b[0m:\u001b[36m15\u001b[0m - \u001b[34m\u001b[1mcomputed samples per symbol: 38396 and packet length: 1161479\u001b[0m\n",
      "\u001b[32m2020-04-11 17:29:58.618\u001b[0m | \u001b[1mINFO    \u001b[0m | \u001b[36mlorapy.datafile._base_file\u001b[0m:\u001b[36mload\u001b[0m:\u001b[36m61\u001b[0m - \u001b[1mloaded 8869476 samples from file\u001b[0m\n",
      "\u001b[32m2020-04-11 17:29:58.619\u001b[0m | \u001b[34m\u001b[1mDEBUG   \u001b[0m | \u001b[36mlorapy.datafile.encoding\u001b[0m:\u001b[36mcompute_params\u001b[0m:\u001b[36m15\u001b[0m - \u001b[34m\u001b[1mcomputed samples per symbol: 38396 and packet length: 1161479\u001b[0m\n",
      "\u001b[32m2020-04-11 17:29:58.741\u001b[0m | \u001b[1mINFO    \u001b[0m | \u001b[36mlorapy.datafile._base_file\u001b[0m:\u001b[36mload\u001b[0m:\u001b[36m61\u001b[0m - \u001b[1mloaded 10558900 samples from file\u001b[0m\n",
      "\u001b[32m2020-04-11 17:29:58.807\u001b[0m | \u001b[33m\u001b[1mWARNING \u001b[0m | \u001b[36m__main__\u001b[0m:\u001b[36m_combine_all_syms\u001b[0m:\u001b[36m40\u001b[0m - \u001b[33m\u001b[1m[(1, 11, 60)]  combined 506 total symbols [(506, 38396)]\u001b[0m\n"
     ]
    },
    {
     "name": "stderr",
     "output_type": "stream",
     "text": [
      " 10%|█         | 12/120 [00:10<01:18,  1.38it/s]"
     ]
    },
    {
     "name": "stdout",
     "output_type": "stream",
     "text": [
      "\u001b[32m2020-04-11 17:29:59.047\u001b[0m | \u001b[34m\u001b[1mDEBUG   \u001b[0m | \u001b[36mlorapy.datafile.encoding\u001b[0m:\u001b[36mcompute_params\u001b[0m:\u001b[36m15\u001b[0m - \u001b[34m\u001b[1mcomputed samples per symbol: 38396 and packet length: 1161479\u001b[0m\n",
      "\u001b[32m2020-04-11 17:29:59.153\u001b[0m | \u001b[1mINFO    \u001b[0m | \u001b[36mlorapy.datafile._base_file\u001b[0m:\u001b[36mload\u001b[0m:\u001b[36m61\u001b[0m - \u001b[1mloaded 8869476 samples from file\u001b[0m\n",
      "\u001b[32m2020-04-11 17:29:59.155\u001b[0m | \u001b[34m\u001b[1mDEBUG   \u001b[0m | \u001b[36mlorapy.datafile.encoding\u001b[0m:\u001b[36mcompute_params\u001b[0m:\u001b[36m15\u001b[0m - \u001b[34m\u001b[1mcomputed samples per symbol: 38396 and packet length: 1161479\u001b[0m\n",
      "\u001b[32m2020-04-11 17:29:59.275\u001b[0m | \u001b[1mINFO    \u001b[0m | \u001b[36mlorapy.datafile._base_file\u001b[0m:\u001b[36mload\u001b[0m:\u001b[36m61\u001b[0m - \u001b[1mloaded 10136544 samples from file\u001b[0m\n",
      "\u001b[32m2020-04-11 17:29:59.341\u001b[0m | \u001b[33m\u001b[1mWARNING \u001b[0m | \u001b[36m__main__\u001b[0m:\u001b[36m_combine_all_syms\u001b[0m:\u001b[36m40\u001b[0m - \u001b[33m\u001b[1m[(1, 11, 80)]  combined 495 total symbols [(495, 38396)]\u001b[0m\n"
     ]
    },
    {
     "name": "stderr",
     "output_type": "stream",
     "text": [
      " 11%|█         | 13/120 [00:11<01:11,  1.49it/s]"
     ]
    },
    {
     "name": "stdout",
     "output_type": "stream",
     "text": [
      "\u001b[32m2020-04-11 17:29:59.584\u001b[0m | \u001b[34m\u001b[1mDEBUG   \u001b[0m | \u001b[36mlorapy.datafile.encoding\u001b[0m:\u001b[36mcompute_params\u001b[0m:\u001b[36m15\u001b[0m - \u001b[34m\u001b[1mcomputed samples per symbol: 38396 and packet length: 1161479\u001b[0m\n",
      "\u001b[32m2020-04-11 17:29:59.787\u001b[0m | \u001b[1mINFO    \u001b[0m | \u001b[36mlorapy.datafile._base_file\u001b[0m:\u001b[36mload\u001b[0m:\u001b[36m61\u001b[0m - \u001b[1mloaded 8869476 samples from file\u001b[0m\n",
      "\u001b[32m2020-04-11 17:29:59.789\u001b[0m | \u001b[34m\u001b[1mDEBUG   \u001b[0m | \u001b[36mlorapy.datafile.encoding\u001b[0m:\u001b[36mcompute_params\u001b[0m:\u001b[36m15\u001b[0m - \u001b[34m\u001b[1mcomputed samples per symbol: 38396 and packet length: 1161479\u001b[0m\n",
      "\u001b[32m2020-04-11 17:30:00.080\u001b[0m | \u001b[1mINFO    \u001b[0m | \u001b[36mlorapy.datafile._base_file\u001b[0m:\u001b[36mload\u001b[0m:\u001b[36m61\u001b[0m - \u001b[1mloaded 13093036 samples from file\u001b[0m\n",
      "\u001b[32m2020-04-11 17:30:00.223\u001b[0m | \u001b[33m\u001b[1mWARNING \u001b[0m | \u001b[36m__main__\u001b[0m:\u001b[36m_combine_all_syms\u001b[0m:\u001b[36m40\u001b[0m - \u001b[33m\u001b[1m[(1, 11, 100)]  combined 572 total symbols [(572, 38396)]\u001b[0m\n"
     ]
    },
    {
     "name": "stderr",
     "output_type": "stream",
     "text": [
      " 12%|█▏        | 14/120 [00:12<01:27,  1.21it/s]"
     ]
    },
    {
     "name": "stdout",
     "output_type": "stream",
     "text": [
      "\u001b[32m2020-04-11 17:30:00.785\u001b[0m | \u001b[34m\u001b[1mDEBUG   \u001b[0m | \u001b[36mlorapy.datafile.encoding\u001b[0m:\u001b[36mcompute_params\u001b[0m:\u001b[36m15\u001b[0m - \u001b[34m\u001b[1mcomputed samples per symbol: 38396 and packet length: 1161479\u001b[0m\n",
      "\u001b[32m2020-04-11 17:30:00.790\u001b[0m | \u001b[1mINFO    \u001b[0m | \u001b[36mlorapy.datafile._base_file\u001b[0m:\u001b[36mload\u001b[0m:\u001b[36m61\u001b[0m - \u001b[1mloaded 268772 samples from file\u001b[0m\n",
      "\u001b[32m2020-04-11 17:30:00.792\u001b[0m | \u001b[34m\u001b[1mDEBUG   \u001b[0m | \u001b[36mlorapy.datafile.encoding\u001b[0m:\u001b[36mcompute_params\u001b[0m:\u001b[36m15\u001b[0m - \u001b[34m\u001b[1mcomputed samples per symbol: 38396 and packet length: 1161479\u001b[0m\n",
      "\u001b[32m2020-04-11 17:30:00.897\u001b[0m | \u001b[1mINFO    \u001b[0m | \u001b[36mlorapy.datafile._base_file\u001b[0m:\u001b[36mload\u001b[0m:\u001b[36m61\u001b[0m - \u001b[1mloaded 8754288 samples from file\u001b[0m\n",
      "\u001b[32m2020-04-11 17:30:00.931\u001b[0m | \u001b[33m\u001b[1mWARNING \u001b[0m | \u001b[36m__main__\u001b[0m:\u001b[36m_combine_all_syms\u001b[0m:\u001b[36m40\u001b[0m - \u001b[33m\u001b[1m[(1, 11, 120)]  combined 235 total symbols [(235, 38396)]\u001b[0m\n"
     ]
    },
    {
     "name": "stderr",
     "output_type": "stream",
     "text": [
      " 12%|█▎        | 15/120 [00:12<01:09,  1.51it/s]"
     ]
    },
    {
     "name": "stdout",
     "output_type": "stream",
     "text": [
      "\u001b[32m2020-04-11 17:30:01.055\u001b[0m | \u001b[34m\u001b[1mDEBUG   \u001b[0m | \u001b[36mlorapy.datafile.encoding\u001b[0m:\u001b[36mcompute_params\u001b[0m:\u001b[36m15\u001b[0m - \u001b[34m\u001b[1mcomputed samples per symbol: 38396 and packet length: 1161479\u001b[0m\n",
      "\u001b[32m2020-04-11 17:30:01.173\u001b[0m | \u001b[1mINFO    \u001b[0m | \u001b[36mlorapy.datafile._base_file\u001b[0m:\u001b[36mload\u001b[0m:\u001b[36m61\u001b[0m - \u001b[1mloaded 9714188 samples from file\u001b[0m\n",
      "\u001b[32m2020-04-11 17:30:01.175\u001b[0m | \u001b[34m\u001b[1mDEBUG   \u001b[0m | \u001b[36mlorapy.datafile.encoding\u001b[0m:\u001b[36mcompute_params\u001b[0m:\u001b[36m15\u001b[0m - \u001b[34m\u001b[1mcomputed samples per symbol: 38396 and packet length: 1161479\u001b[0m\n",
      "\u001b[32m2020-04-11 17:30:01.294\u001b[0m | \u001b[1mINFO    \u001b[0m | \u001b[36mlorapy.datafile._base_file\u001b[0m:\u001b[36mload\u001b[0m:\u001b[36m61\u001b[0m - \u001b[1mloaded 9982960 samples from file\u001b[0m\n",
      "\u001b[32m2020-04-11 17:30:01.364\u001b[0m | \u001b[33m\u001b[1mWARNING \u001b[0m | \u001b[36m__main__\u001b[0m:\u001b[36m_combine_all_syms\u001b[0m:\u001b[36m40\u001b[0m - \u001b[33m\u001b[1m[(1, 11, 140)]  combined 513 total symbols [(513, 38396)]\u001b[0m\n"
     ]
    },
    {
     "name": "stderr",
     "output_type": "stream",
     "text": [
      " 13%|█▎        | 16/120 [00:13<01:05,  1.58it/s]"
     ]
    },
    {
     "name": "stdout",
     "output_type": "stream",
     "text": [
      "\u001b[32m2020-04-11 17:30:01.622\u001b[0m | \u001b[34m\u001b[1mDEBUG   \u001b[0m | \u001b[36mlorapy.datafile.encoding\u001b[0m:\u001b[36mcompute_params\u001b[0m:\u001b[36m15\u001b[0m - \u001b[34m\u001b[1mcomputed samples per symbol: 76801 and packet length: 2323230\u001b[0m\n",
      "\u001b[32m2020-04-11 17:30:01.816\u001b[0m | \u001b[1mINFO    \u001b[0m | \u001b[36mlorapy.datafile._base_file\u001b[0m:\u001b[36mload\u001b[0m:\u001b[36m61\u001b[0m - \u001b[1mloaded 8448110 samples from file\u001b[0m\n",
      "\u001b[32m2020-04-11 17:30:01.817\u001b[0m | \u001b[34m\u001b[1mDEBUG   \u001b[0m | \u001b[36mlorapy.datafile.encoding\u001b[0m:\u001b[36mcompute_params\u001b[0m:\u001b[36m15\u001b[0m - \u001b[34m\u001b[1mcomputed samples per symbol: 76801 and packet length: 2323230\u001b[0m\n",
      "\u001b[32m2020-04-11 17:30:01.967\u001b[0m | \u001b[1mINFO    \u001b[0m | \u001b[36mlorapy.datafile._base_file\u001b[0m:\u001b[36mload\u001b[0m:\u001b[36m61\u001b[0m - \u001b[1mloaded 13516976 samples from file\u001b[0m\n",
      "\u001b[32m2020-04-11 17:30:01.969\u001b[0m | \u001b[34m\u001b[1mDEBUG   \u001b[0m | \u001b[36mlorapy.datafile.encoding\u001b[0m:\u001b[36mcompute_params\u001b[0m:\u001b[36m15\u001b[0m - \u001b[34m\u001b[1mcomputed samples per symbol: 76801 and packet length: 2323230\u001b[0m\n",
      "\u001b[32m2020-04-11 17:30:02.112\u001b[0m | \u001b[1mINFO    \u001b[0m | \u001b[36mlorapy.datafile._base_file\u001b[0m:\u001b[36mload\u001b[0m:\u001b[36m61\u001b[0m - \u001b[1mloaded 12672165 samples from file\u001b[0m\n",
      "\u001b[32m2020-04-11 17:30:02.314\u001b[0m | \u001b[33m\u001b[1mWARNING \u001b[0m | \u001b[36m__main__\u001b[0m:\u001b[36m_combine_all_syms\u001b[0m:\u001b[36m40\u001b[0m - \u001b[33m\u001b[1m[(1, 12, 0)]  combined 451 total symbols [(451, 76801)]\u001b[0m\n"
     ]
    },
    {
     "name": "stderr",
     "output_type": "stream",
     "text": [
      " 14%|█▍        | 17/120 [00:14<01:32,  1.11it/s]"
     ]
    },
    {
     "name": "stdout",
     "output_type": "stream",
     "text": [
      "\u001b[32m2020-04-11 17:30:03.144\u001b[0m | \u001b[34m\u001b[1mDEBUG   \u001b[0m | \u001b[36mlorapy.datafile.encoding\u001b[0m:\u001b[36mcompute_params\u001b[0m:\u001b[36m15\u001b[0m - \u001b[34m\u001b[1mcomputed samples per symbol: 76801 and packet length: 2323230\u001b[0m\n",
      "\u001b[32m2020-04-11 17:30:03.226\u001b[0m | \u001b[1mINFO    \u001b[0m | \u001b[36mlorapy.datafile._base_file\u001b[0m:\u001b[36mload\u001b[0m:\u001b[36m61\u001b[0m - \u001b[1mloaded 6758488 samples from file\u001b[0m\n",
      "\u001b[32m2020-04-11 17:30:03.228\u001b[0m | \u001b[34m\u001b[1mDEBUG   \u001b[0m | \u001b[36mlorapy.datafile.encoding\u001b[0m:\u001b[36mcompute_params\u001b[0m:\u001b[36m15\u001b[0m - \u001b[34m\u001b[1mcomputed samples per symbol: 76801 and packet length: 2323230\u001b[0m\n",
      "\u001b[32m2020-04-11 17:30:03.507\u001b[0m | \u001b[1mINFO    \u001b[0m | \u001b[36mlorapy.datafile._base_file\u001b[0m:\u001b[36mload\u001b[0m:\u001b[36m61\u001b[0m - \u001b[1mloaded 12288160 samples from file\u001b[0m\n",
      "\u001b[32m2020-04-11 17:30:03.630\u001b[0m | \u001b[33m\u001b[1mWARNING \u001b[0m | \u001b[36m__main__\u001b[0m:\u001b[36m_combine_all_syms\u001b[0m:\u001b[36m40\u001b[0m - \u001b[33m\u001b[1m[(1, 12, 20)]  combined 248 total symbols [(248, 76801)]\u001b[0m\n"
     ]
    },
    {
     "name": "stderr",
     "output_type": "stream",
     "text": [
      " 15%|█▌        | 18/120 [00:15<01:33,  1.09it/s]"
     ]
    },
    {
     "name": "stdout",
     "output_type": "stream",
     "text": [
      "\u001b[32m2020-04-11 17:30:04.099\u001b[0m | \u001b[34m\u001b[1mDEBUG   \u001b[0m | \u001b[36mlorapy.datafile.encoding\u001b[0m:\u001b[36mcompute_params\u001b[0m:\u001b[36m15\u001b[0m - \u001b[34m\u001b[1mcomputed samples per symbol: 76801 and packet length: 2323230\u001b[0m\n",
      "\u001b[32m2020-04-11 17:30:04.300\u001b[0m | \u001b[1mINFO    \u001b[0m | \u001b[36mlorapy.datafile._base_file\u001b[0m:\u001b[36mload\u001b[0m:\u001b[36m61\u001b[0m - \u001b[1mloaded 8448110 samples from file\u001b[0m\n",
      "\u001b[32m2020-04-11 17:30:04.302\u001b[0m | \u001b[34m\u001b[1mDEBUG   \u001b[0m | \u001b[36mlorapy.datafile.encoding\u001b[0m:\u001b[36mcompute_params\u001b[0m:\u001b[36m15\u001b[0m - \u001b[34m\u001b[1mcomputed samples per symbol: 76801 and packet length: 2323230\u001b[0m\n",
      "\u001b[32m2020-04-11 17:30:04.610\u001b[0m | \u001b[1mINFO    \u001b[0m | \u001b[36mlorapy.datafile._base_file\u001b[0m:\u001b[36mload\u001b[0m:\u001b[36m61\u001b[0m - \u001b[1mloaded 12672165 samples from file\u001b[0m\n",
      "\u001b[32m2020-04-11 17:30:04.750\u001b[0m | \u001b[33m\u001b[1mWARNING \u001b[0m | \u001b[36m__main__\u001b[0m:\u001b[36m_combine_all_syms\u001b[0m:\u001b[36m40\u001b[0m - \u001b[33m\u001b[1m[(1, 12, 40)]  combined 275 total symbols [(275, 76801)]\u001b[0m\n"
     ]
    },
    {
     "name": "stderr",
     "output_type": "stream",
     "text": [
      " 16%|█▌        | 19/120 [00:16<01:41,  1.01s/it]"
     ]
    },
    {
     "name": "stdout",
     "output_type": "stream",
     "text": [
      "\u001b[32m2020-04-11 17:30:05.317\u001b[0m | \u001b[34m\u001b[1mDEBUG   \u001b[0m | \u001b[36mlorapy.datafile.encoding\u001b[0m:\u001b[36mcompute_params\u001b[0m:\u001b[36m15\u001b[0m - \u001b[34m\u001b[1mcomputed samples per symbol: 76801 and packet length: 2323230\u001b[0m\n",
      "\u001b[32m2020-04-11 17:30:05.422\u001b[0m | \u001b[1mINFO    \u001b[0m | \u001b[36mlorapy.datafile._base_file\u001b[0m:\u001b[36mload\u001b[0m:\u001b[36m61\u001b[0m - \u001b[1mloaded 8448110 samples from file\u001b[0m\n",
      "\u001b[32m2020-04-11 17:30:05.423\u001b[0m | \u001b[34m\u001b[1mDEBUG   \u001b[0m | \u001b[36mlorapy.datafile.encoding\u001b[0m:\u001b[36mcompute_params\u001b[0m:\u001b[36m15\u001b[0m - \u001b[34m\u001b[1mcomputed samples per symbol: 76801 and packet length: 2323230\u001b[0m\n",
      "\u001b[32m2020-04-11 17:30:05.729\u001b[0m | \u001b[1mINFO    \u001b[0m | \u001b[36mlorapy.datafile._base_file\u001b[0m:\u001b[36mload\u001b[0m:\u001b[36m61\u001b[0m - \u001b[1mloaded 12672165 samples from file\u001b[0m\n",
      "\u001b[32m2020-04-11 17:30:05.865\u001b[0m | \u001b[33m\u001b[1mWARNING \u001b[0m | \u001b[36m__main__\u001b[0m:\u001b[36m_combine_all_syms\u001b[0m:\u001b[36m40\u001b[0m - \u001b[33m\u001b[1m[(1, 12, 60)]  combined 275 total symbols [(275, 76801)]\u001b[0m\n"
     ]
    },
    {
     "name": "stderr",
     "output_type": "stream",
     "text": [
      " 17%|█▋        | 20/120 [00:18<01:43,  1.03s/it]"
     ]
    },
    {
     "name": "stdout",
     "output_type": "stream",
     "text": [
      "\u001b[32m2020-04-11 17:30:06.407\u001b[0m | \u001b[34m\u001b[1mDEBUG   \u001b[0m | \u001b[36mlorapy.datafile.encoding\u001b[0m:\u001b[36mcompute_params\u001b[0m:\u001b[36m15\u001b[0m - \u001b[34m\u001b[1mcomputed samples per symbol: 76801 and packet length: 2323230\u001b[0m\n",
      "\u001b[32m2020-04-11 17:30:06.512\u001b[0m | \u001b[1mINFO    \u001b[0m | \u001b[36mlorapy.datafile._base_file\u001b[0m:\u001b[36mload\u001b[0m:\u001b[36m61\u001b[0m - \u001b[1mloaded 8448110 samples from file\u001b[0m\n",
      "\u001b[32m2020-04-11 17:30:06.513\u001b[0m | \u001b[34m\u001b[1mDEBUG   \u001b[0m | \u001b[36mlorapy.datafile.encoding\u001b[0m:\u001b[36mcompute_params\u001b[0m:\u001b[36m15\u001b[0m - \u001b[34m\u001b[1mcomputed samples per symbol: 76801 and packet length: 2323230\u001b[0m\n",
      "\u001b[32m2020-04-11 17:30:06.814\u001b[0m | \u001b[1mINFO    \u001b[0m | \u001b[36mlorapy.datafile._base_file\u001b[0m:\u001b[36mload\u001b[0m:\u001b[36m61\u001b[0m - \u001b[1mloaded 12672165 samples from file\u001b[0m\n",
      "\u001b[32m2020-04-11 17:30:06.951\u001b[0m | \u001b[33m\u001b[1mWARNING \u001b[0m | \u001b[36m__main__\u001b[0m:\u001b[36m_combine_all_syms\u001b[0m:\u001b[36m40\u001b[0m - \u001b[33m\u001b[1m[(1, 12, 80)]  combined 275 total symbols [(275, 76801)]\u001b[0m\n"
     ]
    },
    {
     "name": "stderr",
     "output_type": "stream",
     "text": [
      " 18%|█▊        | 21/120 [00:19<01:43,  1.05s/it]"
     ]
    },
    {
     "name": "stdout",
     "output_type": "stream",
     "text": [
      "\u001b[32m2020-04-11 17:30:07.489\u001b[0m | \u001b[34m\u001b[1mDEBUG   \u001b[0m | \u001b[36mlorapy.datafile.encoding\u001b[0m:\u001b[36mcompute_params\u001b[0m:\u001b[36m15\u001b[0m - \u001b[34m\u001b[1mcomputed samples per symbol: 76801 and packet length: 2323230\u001b[0m\n",
      "\u001b[32m2020-04-11 17:30:07.595\u001b[0m | \u001b[1mINFO    \u001b[0m | \u001b[36mlorapy.datafile._base_file\u001b[0m:\u001b[36mload\u001b[0m:\u001b[36m61\u001b[0m - \u001b[1mloaded 8448110 samples from file\u001b[0m\n",
      "\u001b[32m2020-04-11 17:30:07.596\u001b[0m | \u001b[34m\u001b[1mDEBUG   \u001b[0m | \u001b[36mlorapy.datafile.encoding\u001b[0m:\u001b[36mcompute_params\u001b[0m:\u001b[36m15\u001b[0m - \u001b[34m\u001b[1mcomputed samples per symbol: 76801 and packet length: 2323230\u001b[0m\n",
      "\u001b[32m2020-04-11 17:30:07.748\u001b[0m | \u001b[1mINFO    \u001b[0m | \u001b[36mlorapy.datafile._base_file\u001b[0m:\u001b[36mload\u001b[0m:\u001b[36m61\u001b[0m - \u001b[1mloaded 12672165 samples from file\u001b[0m\n",
      "\u001b[32m2020-04-11 17:30:07.823\u001b[0m | \u001b[33m\u001b[1mWARNING \u001b[0m | \u001b[36m__main__\u001b[0m:\u001b[36m_combine_all_syms\u001b[0m:\u001b[36m40\u001b[0m - \u001b[33m\u001b[1m[(1, 12, 100)]  combined 275 total symbols [(275, 76801)]\u001b[0m\n"
     ]
    },
    {
     "name": "stderr",
     "output_type": "stream",
     "text": [
      " 18%|█▊        | 22/120 [00:19<01:29,  1.09it/s]"
     ]
    },
    {
     "name": "stdout",
     "output_type": "stream",
     "text": [
      "\u001b[32m2020-04-11 17:30:08.101\u001b[0m | \u001b[34m\u001b[1mDEBUG   \u001b[0m | \u001b[36mlorapy.datafile.encoding\u001b[0m:\u001b[36mcompute_params\u001b[0m:\u001b[36m15\u001b[0m - \u001b[34m\u001b[1mcomputed samples per symbol: 76801 and packet length: 2323230\u001b[0m\n",
      "\u001b[32m2020-04-11 17:30:08.205\u001b[0m | \u001b[1mINFO    \u001b[0m | \u001b[36mlorapy.datafile._base_file\u001b[0m:\u001b[36mload\u001b[0m:\u001b[36m61\u001b[0m - \u001b[1mloaded 8448110 samples from file\u001b[0m\n",
      "\u001b[32m2020-04-11 17:30:08.207\u001b[0m | \u001b[34m\u001b[1mDEBUG   \u001b[0m | \u001b[36mlorapy.datafile.encoding\u001b[0m:\u001b[36mcompute_params\u001b[0m:\u001b[36m15\u001b[0m - \u001b[34m\u001b[1mcomputed samples per symbol: 76801 and packet length: 2323230\u001b[0m\n",
      "\u001b[32m2020-04-11 17:30:08.436\u001b[0m | \u001b[1mINFO    \u001b[0m | \u001b[36mlorapy.datafile._base_file\u001b[0m:\u001b[36mload\u001b[0m:\u001b[36m61\u001b[0m - \u001b[1mloaded 9907329 samples from file\u001b[0m\n",
      "\u001b[32m2020-04-11 17:30:08.556\u001b[0m | \u001b[33m\u001b[1mWARNING \u001b[0m | \u001b[36m__main__\u001b[0m:\u001b[36m_combine_all_syms\u001b[0m:\u001b[36m40\u001b[0m - \u001b[33m\u001b[1m[(1, 12, 120)]  combined 239 total symbols [(239, 76801)]\u001b[0m\n"
     ]
    },
    {
     "name": "stderr",
     "output_type": "stream",
     "text": [
      " 19%|█▉        | 23/120 [00:20<01:29,  1.08it/s]"
     ]
    },
    {
     "name": "stdout",
     "output_type": "stream",
     "text": [
      "\u001b[32m2020-04-11 17:30:09.037\u001b[0m | \u001b[34m\u001b[1mDEBUG   \u001b[0m | \u001b[36mlorapy.datafile.encoding\u001b[0m:\u001b[36mcompute_params\u001b[0m:\u001b[36m15\u001b[0m - \u001b[34m\u001b[1mcomputed samples per symbol: 76801 and packet length: 2323230\u001b[0m\n",
      "\u001b[32m2020-04-11 17:30:09.252\u001b[0m | \u001b[1mINFO    \u001b[0m | \u001b[36mlorapy.datafile._base_file\u001b[0m:\u001b[36mload\u001b[0m:\u001b[36m61\u001b[0m - \u001b[1mloaded 8678513 samples from file\u001b[0m\n",
      "\u001b[32m2020-04-11 17:30:09.253\u001b[0m | \u001b[34m\u001b[1mDEBUG   \u001b[0m | \u001b[36mlorapy.datafile.encoding\u001b[0m:\u001b[36mcompute_params\u001b[0m:\u001b[36m15\u001b[0m - \u001b[34m\u001b[1mcomputed samples per symbol: 76801 and packet length: 2323230\u001b[0m\n",
      "\u001b[32m2020-04-11 17:30:09.525\u001b[0m | \u001b[1mINFO    \u001b[0m | \u001b[36mlorapy.datafile._base_file\u001b[0m:\u001b[36mload\u001b[0m:\u001b[36m61\u001b[0m - \u001b[1mloaded 11136145 samples from file\u001b[0m\n",
      "\u001b[32m2020-04-11 17:30:09.662\u001b[0m | \u001b[33m\u001b[1mWARNING \u001b[0m | \u001b[36m__main__\u001b[0m:\u001b[36m_combine_all_syms\u001b[0m:\u001b[36m40\u001b[0m - \u001b[33m\u001b[1m[(1, 12, 140)]  combined 258 total symbols [(258, 76801)]\u001b[0m\n"
     ]
    },
    {
     "name": "stderr",
     "output_type": "stream",
     "text": [
      " 20%|██        | 24/120 [00:21<01:37,  1.02s/it]"
     ]
    },
    {
     "name": "stdout",
     "output_type": "stream",
     "text": [
      "\u001b[32m2020-04-11 17:30:10.274\u001b[0m | \u001b[34m\u001b[1mDEBUG   \u001b[0m | \u001b[36mlorapy.datafile.encoding\u001b[0m:\u001b[36mcompute_params\u001b[0m:\u001b[36m15\u001b[0m - \u001b[34m\u001b[1mcomputed samples per symbol: 12802 and packet length: 387260\u001b[0m\n",
      "\u001b[32m2020-04-11 17:30:10.385\u001b[0m | \u001b[1mINFO    \u001b[0m | \u001b[36mlorapy.datafile._base_file\u001b[0m:\u001b[36mload\u001b[0m:\u001b[36m61\u001b[0m - \u001b[1mloaded 8743766 samples from file\u001b[0m\n",
      "\u001b[32m2020-04-11 17:30:10.387\u001b[0m | \u001b[34m\u001b[1mDEBUG   \u001b[0m | \u001b[36mlorapy.datafile.encoding\u001b[0m:\u001b[36mcompute_params\u001b[0m:\u001b[36m15\u001b[0m - \u001b[34m\u001b[1mcomputed samples per symbol: 12802 and packet length: 387260\u001b[0m\n",
      "\u001b[32m2020-04-11 17:30:10.529\u001b[0m | \u001b[1mINFO    \u001b[0m | \u001b[36mlorapy.datafile._base_file\u001b[0m:\u001b[36mload\u001b[0m:\u001b[36m61\u001b[0m - \u001b[1mloaded 11624216 samples from file\u001b[0m\n",
      "\u001b[32m2020-04-11 17:30:10.602\u001b[0m | \u001b[33m\u001b[1mWARNING \u001b[0m | \u001b[36m__main__\u001b[0m:\u001b[36m_combine_all_syms\u001b[0m:\u001b[36m40\u001b[0m - \u001b[33m\u001b[1m[(2, 10, 0)]  combined 1591 total symbols [(1591, 12802)]\u001b[0m\n"
     ]
    },
    {
     "name": "stderr",
     "output_type": "stream",
     "text": [
      " 21%|██        | 25/120 [00:22<01:24,  1.12it/s]"
     ]
    },
    {
     "name": "stdout",
     "output_type": "stream",
     "text": [
      "\u001b[32m2020-04-11 17:30:10.867\u001b[0m | \u001b[34m\u001b[1mDEBUG   \u001b[0m | \u001b[36mlorapy.datafile.encoding\u001b[0m:\u001b[36mcompute_params\u001b[0m:\u001b[36m15\u001b[0m - \u001b[34m\u001b[1mcomputed samples per symbol: 12802 and packet length: 387260\u001b[0m\n",
      "\u001b[32m2020-04-11 17:30:11.089\u001b[0m | \u001b[1mINFO    \u001b[0m | \u001b[36mlorapy.datafile._base_file\u001b[0m:\u001b[36mload\u001b[0m:\u001b[36m61\u001b[0m - \u001b[1mloaded 9396668 samples from file\u001b[0m\n",
      "\u001b[32m2020-04-11 17:30:11.090\u001b[0m | \u001b[34m\u001b[1mDEBUG   \u001b[0m | \u001b[36mlorapy.datafile.encoding\u001b[0m:\u001b[36mcompute_params\u001b[0m:\u001b[36m15\u001b[0m - \u001b[34m\u001b[1mcomputed samples per symbol: 12802 and packet length: 387260\u001b[0m\n",
      "\u001b[32m2020-04-11 17:30:11.381\u001b[0m | \u001b[1mINFO    \u001b[0m | \u001b[36mlorapy.datafile._base_file\u001b[0m:\u001b[36mload\u001b[0m:\u001b[36m61\u001b[0m - \u001b[1mloaded 12417940 samples from file\u001b[0m\n",
      "\u001b[32m2020-04-11 17:30:11.537\u001b[0m | \u001b[33m\u001b[1mWARNING \u001b[0m | \u001b[36m__main__\u001b[0m:\u001b[36m_combine_all_syms\u001b[0m:\u001b[36m40\u001b[0m - \u001b[33m\u001b[1m[(2, 10, 20)]  combined 1704 total symbols [(1704, 12802)]\u001b[0m\n"
     ]
    },
    {
     "name": "stderr",
     "output_type": "stream",
     "text": [
      " 22%|██▏       | 26/120 [00:23<01:38,  1.04s/it]"
     ]
    },
    {
     "name": "stdout",
     "output_type": "stream",
     "text": [
      "\u001b[32m2020-04-11 17:30:12.279\u001b[0m | \u001b[34m\u001b[1mDEBUG   \u001b[0m | \u001b[36mlorapy.datafile.encoding\u001b[0m:\u001b[36mcompute_params\u001b[0m:\u001b[36m15\u001b[0m - \u001b[34m\u001b[1mcomputed samples per symbol: 12802 and packet length: 387260\u001b[0m\n",
      "\u001b[32m2020-04-11 17:30:12.486\u001b[0m | \u001b[1mINFO    \u001b[0m | \u001b[36mlorapy.datafile._base_file\u001b[0m:\u001b[36mload\u001b[0m:\u001b[36m61\u001b[0m - \u001b[1mloaded 8641350 samples from file\u001b[0m\n",
      "\u001b[32m2020-04-11 17:30:12.487\u001b[0m | \u001b[34m\u001b[1mDEBUG   \u001b[0m | \u001b[36mlorapy.datafile.encoding\u001b[0m:\u001b[36mcompute_params\u001b[0m:\u001b[36m15\u001b[0m - \u001b[34m\u001b[1mcomputed samples per symbol: 12802 and packet length: 387260\u001b[0m\n",
      "\u001b[32m2020-04-11 17:30:12.755\u001b[0m | \u001b[1mINFO    \u001b[0m | \u001b[36mlorapy.datafile._base_file\u001b[0m:\u001b[36mload\u001b[0m:\u001b[36m61\u001b[0m - \u001b[1mloaded 11534602 samples from file\u001b[0m\n",
      "\u001b[32m2020-04-11 17:30:12.915\u001b[0m | \u001b[33m\u001b[1mWARNING \u001b[0m | \u001b[36m__main__\u001b[0m:\u001b[36m_combine_all_syms\u001b[0m:\u001b[36m40\u001b[0m - \u001b[33m\u001b[1m[(2, 10, 40)]  combined 1576 total symbols [(1576, 12802)]\u001b[0m\n"
     ]
    },
    {
     "name": "stderr",
     "output_type": "stream",
     "text": [
      " 22%|██▎       | 27/120 [00:25<01:43,  1.12s/it]"
     ]
    },
    {
     "name": "stdout",
     "output_type": "stream",
     "text": [
      "\u001b[32m2020-04-11 17:30:13.559\u001b[0m | \u001b[34m\u001b[1mDEBUG   \u001b[0m | \u001b[36mlorapy.datafile.encoding\u001b[0m:\u001b[36mcompute_params\u001b[0m:\u001b[36m15\u001b[0m - \u001b[34m\u001b[1mcomputed samples per symbol: 12802 and packet length: 387260\u001b[0m\n",
      "\u001b[32m2020-04-11 17:30:13.674\u001b[0m | \u001b[1mINFO    \u001b[0m | \u001b[36mlorapy.datafile._base_file\u001b[0m:\u001b[36mload\u001b[0m:\u001b[36m61\u001b[0m - \u001b[1mloaded 9012608 samples from file\u001b[0m\n",
      "\u001b[32m2020-04-11 17:30:13.675\u001b[0m | \u001b[34m\u001b[1mDEBUG   \u001b[0m | \u001b[36mlorapy.datafile.encoding\u001b[0m:\u001b[36mcompute_params\u001b[0m:\u001b[36m15\u001b[0m - \u001b[34m\u001b[1mcomputed samples per symbol: 12802 and packet length: 387260\u001b[0m\n",
      "\u001b[32m2020-04-11 17:30:13.958\u001b[0m | \u001b[1mINFO    \u001b[0m | \u001b[36mlorapy.datafile._base_file\u001b[0m:\u001b[36mload\u001b[0m:\u001b[36m61\u001b[0m - \u001b[1mloaded 12136296 samples from file\u001b[0m\n",
      "\u001b[32m2020-04-11 17:30:14.097\u001b[0m | \u001b[33m\u001b[1mWARNING \u001b[0m | \u001b[36m__main__\u001b[0m:\u001b[36m_combine_all_syms\u001b[0m:\u001b[36m40\u001b[0m - \u001b[33m\u001b[1m[(2, 10, 60)]  combined 1652 total symbols [(1652, 12802)]\u001b[0m\n"
     ]
    },
    {
     "name": "stderr",
     "output_type": "stream",
     "text": [
      " 23%|██▎       | 28/120 [00:26<01:45,  1.15s/it]"
     ]
    },
    {
     "name": "stdout",
     "output_type": "stream",
     "text": [
      "\u001b[32m2020-04-11 17:30:14.784\u001b[0m | \u001b[34m\u001b[1mDEBUG   \u001b[0m | \u001b[36mlorapy.datafile.encoding\u001b[0m:\u001b[36mcompute_params\u001b[0m:\u001b[36m15\u001b[0m - \u001b[34m\u001b[1mcomputed samples per symbol: 12802 and packet length: 387260\u001b[0m\n",
      "\u001b[32m2020-04-11 17:30:15.020\u001b[0m | \u001b[1mINFO    \u001b[0m | \u001b[36mlorapy.datafile._base_file\u001b[0m:\u001b[36mload\u001b[0m:\u001b[36m61\u001b[0m - \u001b[1mloaded 8359706 samples from file\u001b[0m\n",
      "\u001b[32m2020-04-11 17:30:15.021\u001b[0m | \u001b[34m\u001b[1mDEBUG   \u001b[0m | \u001b[36mlorapy.datafile.encoding\u001b[0m:\u001b[36mcompute_params\u001b[0m:\u001b[36m15\u001b[0m - \u001b[34m\u001b[1mcomputed samples per symbol: 12802 and packet length: 387260\u001b[0m\n",
      "\u001b[32m2020-04-11 17:30:15.313\u001b[0m | \u001b[1mINFO    \u001b[0m | \u001b[36mlorapy.datafile._base_file\u001b[0m:\u001b[36mload\u001b[0m:\u001b[36m61\u001b[0m - \u001b[1mloaded 12277118 samples from file\u001b[0m\n",
      "\u001b[32m2020-04-11 17:30:15.467\u001b[0m | \u001b[33m\u001b[1mWARNING \u001b[0m | \u001b[36m__main__\u001b[0m:\u001b[36m_combine_all_syms\u001b[0m:\u001b[36m40\u001b[0m - \u001b[33m\u001b[1m[(2, 10, 80)]  combined 1612 total symbols [(1612, 12802)]\u001b[0m\n"
     ]
    },
    {
     "name": "stderr",
     "output_type": "stream",
     "text": [
      " 24%|██▍       | 29/120 [00:27<01:49,  1.21s/it]"
     ]
    },
    {
     "name": "stdout",
     "output_type": "stream",
     "text": [
      "\u001b[32m2020-04-11 17:30:16.123\u001b[0m | \u001b[34m\u001b[1mDEBUG   \u001b[0m | \u001b[36mlorapy.datafile.encoding\u001b[0m:\u001b[36mcompute_params\u001b[0m:\u001b[36m15\u001b[0m - \u001b[34m\u001b[1mcomputed samples per symbol: 12802 and packet length: 387260\u001b[0m\n",
      "\u001b[32m2020-04-11 17:30:16.251\u001b[0m | \u001b[1mINFO    \u001b[0m | \u001b[36mlorapy.datafile._base_file\u001b[0m:\u001b[36mload\u001b[0m:\u001b[36m61\u001b[0m - \u001b[1mloaded 8769370 samples from file\u001b[0m\n",
      "\u001b[32m2020-04-11 17:30:16.253\u001b[0m | \u001b[34m\u001b[1mDEBUG   \u001b[0m | \u001b[36mlorapy.datafile.encoding\u001b[0m:\u001b[36mcompute_params\u001b[0m:\u001b[36m15\u001b[0m - \u001b[34m\u001b[1mcomputed samples per symbol: 12802 and packet length: 387260\u001b[0m\n",
      "\u001b[32m2020-04-11 17:30:16.394\u001b[0m | \u001b[1mINFO    \u001b[0m | \u001b[36mlorapy.datafile._base_file\u001b[0m:\u001b[36mload\u001b[0m:\u001b[36m61\u001b[0m - \u001b[1mloaded 11765038 samples from file\u001b[0m\n",
      "\u001b[32m2020-04-11 17:30:16.467\u001b[0m | \u001b[33m\u001b[1mWARNING \u001b[0m | \u001b[36m__main__\u001b[0m:\u001b[36m_combine_all_syms\u001b[0m:\u001b[36m40\u001b[0m - \u001b[33m\u001b[1m[(2, 10, 100)]  combined 1604 total symbols [(1604, 12802)]\u001b[0m\n"
     ]
    },
    {
     "name": "stderr",
     "output_type": "stream",
     "text": [
      " 25%|██▌       | 30/120 [00:28<01:32,  1.03s/it]"
     ]
    },
    {
     "name": "stdout",
     "output_type": "stream",
     "text": [
      "\u001b[32m2020-04-11 17:30:16.741\u001b[0m | \u001b[34m\u001b[1mDEBUG   \u001b[0m | \u001b[36mlorapy.datafile.encoding\u001b[0m:\u001b[36mcompute_params\u001b[0m:\u001b[36m15\u001b[0m - \u001b[34m\u001b[1mcomputed samples per symbol: 12802 and packet length: 387260\u001b[0m\n",
      "\u001b[32m2020-04-11 17:30:16.943\u001b[0m | \u001b[1mINFO    \u001b[0m | \u001b[36mlorapy.datafile._base_file\u001b[0m:\u001b[36mload\u001b[0m:\u001b[36m61\u001b[0m - \u001b[1mloaded 7476368 samples from file\u001b[0m\n",
      "\u001b[32m2020-04-11 17:30:16.945\u001b[0m | \u001b[34m\u001b[1mDEBUG   \u001b[0m | \u001b[36mlorapy.datafile.encoding\u001b[0m:\u001b[36mcompute_params\u001b[0m:\u001b[36m15\u001b[0m - \u001b[34m\u001b[1mcomputed samples per symbol: 12802 and packet length: 387260\u001b[0m\n",
      "\u001b[32m2020-04-11 17:30:17.081\u001b[0m | \u001b[1mINFO    \u001b[0m | \u001b[36mlorapy.datafile._base_file\u001b[0m:\u001b[36mload\u001b[0m:\u001b[36m61\u001b[0m - \u001b[1mloaded 9934352 samples from file\u001b[0m\n",
      "\u001b[32m2020-04-11 17:30:17.225\u001b[0m | \u001b[33m\u001b[1mWARNING \u001b[0m | \u001b[36m__main__\u001b[0m:\u001b[36m_combine_all_syms\u001b[0m:\u001b[36m40\u001b[0m - \u001b[33m\u001b[1m[(2, 10, 120)]  combined 1360 total symbols [(1360, 12802)]\u001b[0m\n"
     ]
    },
    {
     "name": "stderr",
     "output_type": "stream",
     "text": [
      " 26%|██▌       | 31/120 [00:29<01:31,  1.03s/it]"
     ]
    },
    {
     "name": "stdout",
     "output_type": "stream",
     "text": [
      "\u001b[32m2020-04-11 17:30:17.759\u001b[0m | \u001b[34m\u001b[1mDEBUG   \u001b[0m | \u001b[36mlorapy.datafile.encoding\u001b[0m:\u001b[36mcompute_params\u001b[0m:\u001b[36m15\u001b[0m - \u001b[34m\u001b[1mcomputed samples per symbol: 12802 and packet length: 387260\u001b[0m\n",
      "\u001b[32m2020-04-11 17:30:17.962\u001b[0m | \u001b[1mINFO    \u001b[0m | \u001b[36mlorapy.datafile._base_file\u001b[0m:\u001b[36mload\u001b[0m:\u001b[36m61\u001b[0m - \u001b[1mloaded 7130714 samples from file\u001b[0m\n",
      "\u001b[32m2020-04-11 17:30:17.963\u001b[0m | \u001b[34m\u001b[1mDEBUG   \u001b[0m | \u001b[36mlorapy.datafile.encoding\u001b[0m:\u001b[36mcompute_params\u001b[0m:\u001b[36m15\u001b[0m - \u001b[34m\u001b[1mcomputed samples per symbol: 12802 and packet length: 387260\u001b[0m\n",
      "\u001b[32m2020-04-11 17:30:18.114\u001b[0m | \u001b[1mINFO    \u001b[0m | \u001b[36mlorapy.datafile._base_file\u001b[0m:\u001b[36mload\u001b[0m:\u001b[36m61\u001b[0m - \u001b[1mloaded 10651264 samples from file\u001b[0m\n",
      "\u001b[32m2020-04-11 17:30:18.254\u001b[0m | \u001b[33m\u001b[1mWARNING \u001b[0m | \u001b[36m__main__\u001b[0m:\u001b[36m_combine_all_syms\u001b[0m:\u001b[36m40\u001b[0m - \u001b[33m\u001b[1m[(2, 10, 140)]  combined 1389 total symbols [(1389, 12802)]\u001b[0m\n"
     ]
    },
    {
     "name": "stderr",
     "output_type": "stream",
     "text": [
      " 27%|██▋       | 32/120 [00:30<01:30,  1.03s/it]"
     ]
    },
    {
     "name": "stdout",
     "output_type": "stream",
     "text": [
      "\u001b[32m2020-04-11 17:30:18.789\u001b[0m | \u001b[34m\u001b[1mDEBUG   \u001b[0m | \u001b[36mlorapy.datafile.encoding\u001b[0m:\u001b[36mcompute_params\u001b[0m:\u001b[36m15\u001b[0m - \u001b[34m\u001b[1mcomputed samples per symbol: 25604 and packet length: 774521\u001b[0m\n",
      "\u001b[32m2020-04-11 17:30:18.919\u001b[0m | \u001b[1mINFO    \u001b[0m | \u001b[36mlorapy.datafile._base_file\u001b[0m:\u001b[36mload\u001b[0m:\u001b[36m61\u001b[0m - \u001b[1mloaded 9089420 samples from file\u001b[0m\n",
      "\u001b[32m2020-04-11 17:30:18.920\u001b[0m | \u001b[34m\u001b[1mDEBUG   \u001b[0m | \u001b[36mlorapy.datafile.encoding\u001b[0m:\u001b[36mcompute_params\u001b[0m:\u001b[36m15\u001b[0m - \u001b[34m\u001b[1mcomputed samples per symbol: 25604 and packet length: 774521\u001b[0m\n",
      "\u001b[32m2020-04-11 17:30:19.251\u001b[0m | \u001b[1mINFO    \u001b[0m | \u001b[36mlorapy.datafile._base_file\u001b[0m:\u001b[36mload\u001b[0m:\u001b[36m61\u001b[0m - \u001b[1mloaded 12750792 samples from file\u001b[0m\n",
      "\u001b[32m2020-04-11 17:30:19.413\u001b[0m | \u001b[33m\u001b[1mWARNING \u001b[0m | \u001b[36m__main__\u001b[0m:\u001b[36m_combine_all_syms\u001b[0m:\u001b[36m40\u001b[0m - \u001b[33m\u001b[1m[(2, 11, 0)]  combined 853 total symbols [(853, 25604)]\u001b[0m\n"
     ]
    },
    {
     "name": "stderr",
     "output_type": "stream",
     "text": [
      " 28%|██▊       | 33/120 [00:31<01:34,  1.09s/it]"
     ]
    },
    {
     "name": "stdout",
     "output_type": "stream",
     "text": [
      "\u001b[32m2020-04-11 17:30:20.020\u001b[0m | \u001b[34m\u001b[1mDEBUG   \u001b[0m | \u001b[36mlorapy.datafile.encoding\u001b[0m:\u001b[36mcompute_params\u001b[0m:\u001b[36m15\u001b[0m - \u001b[34m\u001b[1mcomputed samples per symbol: 25604 and packet length: 774521\u001b[0m\n",
      "\u001b[32m2020-04-11 17:30:20.117\u001b[0m | \u001b[1mINFO    \u001b[0m | \u001b[36mlorapy.datafile._base_file\u001b[0m:\u001b[36mload\u001b[0m:\u001b[36m61\u001b[0m - \u001b[1mloaded 7860428 samples from file\u001b[0m\n",
      "\u001b[32m2020-04-11 17:30:20.118\u001b[0m | \u001b[34m\u001b[1mDEBUG   \u001b[0m | \u001b[36mlorapy.datafile.encoding\u001b[0m:\u001b[36mcompute_params\u001b[0m:\u001b[36m15\u001b[0m - \u001b[34m\u001b[1mcomputed samples per symbol: 25604 and packet length: 774521\u001b[0m\n",
      "\u001b[32m2020-04-11 17:30:20.428\u001b[0m | \u001b[1mINFO    \u001b[0m | \u001b[36mlorapy.datafile._base_file\u001b[0m:\u001b[36mload\u001b[0m:\u001b[36m61\u001b[0m - \u001b[1mloaded 13314080 samples from file\u001b[0m\n",
      "\u001b[32m2020-04-11 17:30:20.573\u001b[0m | \u001b[33m\u001b[1mWARNING \u001b[0m | \u001b[36m__main__\u001b[0m:\u001b[36m_combine_all_syms\u001b[0m:\u001b[36m40\u001b[0m - \u001b[33m\u001b[1m[(2, 11, 20)]  combined 827 total symbols [(827, 25604)]\u001b[0m\n"
     ]
    },
    {
     "name": "stderr",
     "output_type": "stream",
     "text": [
      " 28%|██▊       | 34/120 [00:32<01:34,  1.10s/it]"
     ]
    },
    {
     "name": "stdout",
     "output_type": "stream",
     "text": [
      "\u001b[32m2020-04-11 17:30:21.149\u001b[0m | \u001b[34m\u001b[1mDEBUG   \u001b[0m | \u001b[36mlorapy.datafile.encoding\u001b[0m:\u001b[36mcompute_params\u001b[0m:\u001b[36m15\u001b[0m - \u001b[34m\u001b[1mcomputed samples per symbol: 25604 and packet length: 774521\u001b[0m\n",
      "\u001b[32m2020-04-11 17:30:21.269\u001b[0m | \u001b[1mINFO    \u001b[0m | \u001b[36mlorapy.datafile._base_file\u001b[0m:\u001b[36mload\u001b[0m:\u001b[36m61\u001b[0m - \u001b[1mloaded 8321300 samples from file\u001b[0m\n",
      "\u001b[32m2020-04-11 17:30:21.271\u001b[0m | \u001b[34m\u001b[1mDEBUG   \u001b[0m | \u001b[36mlorapy.datafile.encoding\u001b[0m:\u001b[36mcompute_params\u001b[0m:\u001b[36m15\u001b[0m - \u001b[34m\u001b[1mcomputed samples per symbol: 25604 and packet length: 774521\u001b[0m\n",
      "\u001b[32m2020-04-11 17:30:21.443\u001b[0m | \u001b[1mINFO    \u001b[0m | \u001b[36mlorapy.datafile._base_file\u001b[0m:\u001b[36mload\u001b[0m:\u001b[36m61\u001b[0m - \u001b[1mloaded 12494752 samples from file\u001b[0m\n",
      "\u001b[32m2020-04-11 17:30:21.533\u001b[0m | \u001b[33m\u001b[1mWARNING \u001b[0m | \u001b[36m__main__\u001b[0m:\u001b[36m_combine_all_syms\u001b[0m:\u001b[36m40\u001b[0m - \u001b[33m\u001b[1m[(2, 11, 40)]  combined 813 total symbols [(813, 25604)]\u001b[0m\n"
     ]
    },
    {
     "name": "stderr",
     "output_type": "stream",
     "text": [
      " 29%|██▉       | 35/120 [00:33<01:23,  1.02it/s]"
     ]
    },
    {
     "name": "stdout",
     "output_type": "stream",
     "text": [
      "\u001b[32m2020-04-11 17:30:21.835\u001b[0m | \u001b[34m\u001b[1mDEBUG   \u001b[0m | \u001b[36mlorapy.datafile.encoding\u001b[0m:\u001b[36mcompute_params\u001b[0m:\u001b[36m15\u001b[0m - \u001b[34m\u001b[1mcomputed samples per symbol: 25604 and packet length: 774521\u001b[0m\n",
      "\u001b[32m2020-04-11 17:30:21.956\u001b[0m | \u001b[1mINFO    \u001b[0m | \u001b[36mlorapy.datafile._base_file\u001b[0m:\u001b[36mload\u001b[0m:\u001b[36m61\u001b[0m - \u001b[1mloaded 8654152 samples from file\u001b[0m\n",
      "\u001b[32m2020-04-11 17:30:21.958\u001b[0m | \u001b[34m\u001b[1mDEBUG   \u001b[0m | \u001b[36mlorapy.datafile.encoding\u001b[0m:\u001b[36mcompute_params\u001b[0m:\u001b[36m15\u001b[0m - \u001b[34m\u001b[1mcomputed samples per symbol: 25604 and packet length: 774521\u001b[0m\n",
      "\u001b[32m2020-04-11 17:30:22.296\u001b[0m | \u001b[1mINFO    \u001b[0m | \u001b[36mlorapy.datafile._base_file\u001b[0m:\u001b[36mload\u001b[0m:\u001b[36m61\u001b[0m - \u001b[1mloaded 12673980 samples from file\u001b[0m\n",
      "\u001b[32m2020-04-11 17:30:22.458\u001b[0m | \u001b[33m\u001b[1mWARNING \u001b[0m | \u001b[36m__main__\u001b[0m:\u001b[36m_combine_all_syms\u001b[0m:\u001b[36m40\u001b[0m - \u001b[33m\u001b[1m[(2, 11, 60)]  combined 833 total symbols [(833, 25604)]\u001b[0m\n"
     ]
    },
    {
     "name": "stderr",
     "output_type": "stream",
     "text": [
      " 30%|███       | 36/120 [00:34<01:28,  1.05s/it]"
     ]
    },
    {
     "name": "stdout",
     "output_type": "stream",
     "text": [
      "\u001b[32m2020-04-11 17:30:23.053\u001b[0m | \u001b[34m\u001b[1mDEBUG   \u001b[0m | \u001b[36mlorapy.datafile.encoding\u001b[0m:\u001b[36mcompute_params\u001b[0m:\u001b[36m15\u001b[0m - \u001b[34m\u001b[1mcomputed samples per symbol: 25604 and packet length: 774521\u001b[0m\n",
      "\u001b[32m2020-04-11 17:30:23.167\u001b[0m | \u001b[1mINFO    \u001b[0m | \u001b[36mlorapy.datafile._base_file\u001b[0m:\u001b[36mload\u001b[0m:\u001b[36m61\u001b[0m - \u001b[1mloaded 8167676 samples from file\u001b[0m\n",
      "\u001b[32m2020-04-11 17:30:23.169\u001b[0m | \u001b[34m\u001b[1mDEBUG   \u001b[0m | \u001b[36mlorapy.datafile.encoding\u001b[0m:\u001b[36mcompute_params\u001b[0m:\u001b[36m15\u001b[0m - \u001b[34m\u001b[1mcomputed samples per symbol: 25604 and packet length: 774521\u001b[0m\n",
      "\u001b[32m2020-04-11 17:30:23.345\u001b[0m | \u001b[1mINFO    \u001b[0m | \u001b[36mlorapy.datafile._base_file\u001b[0m:\u001b[36mload\u001b[0m:\u001b[36m61\u001b[0m - \u001b[1mloaded 12904416 samples from file\u001b[0m\n",
      "\u001b[32m2020-04-11 17:30:23.432\u001b[0m | \u001b[33m\u001b[1mWARNING \u001b[0m | \u001b[36m__main__\u001b[0m:\u001b[36m_combine_all_syms\u001b[0m:\u001b[36m40\u001b[0m - \u001b[33m\u001b[1m[(2, 11, 80)]  combined 823 total symbols [(823, 25604)]\u001b[0m\n"
     ]
    },
    {
     "name": "stderr",
     "output_type": "stream",
     "text": [
      " 31%|███       | 37/120 [00:35<01:18,  1.06it/s]"
     ]
    },
    {
     "name": "stdout",
     "output_type": "stream",
     "text": [
      "\u001b[32m2020-04-11 17:30:23.741\u001b[0m | \u001b[34m\u001b[1mDEBUG   \u001b[0m | \u001b[36mlorapy.datafile.encoding\u001b[0m:\u001b[36mcompute_params\u001b[0m:\u001b[36m15\u001b[0m - \u001b[34m\u001b[1mcomputed samples per symbol: 25604 and packet length: 774521\u001b[0m\n",
      "\u001b[32m2020-04-11 17:30:23.991\u001b[0m | \u001b[1mINFO    \u001b[0m | \u001b[36mlorapy.datafile._base_file\u001b[0m:\u001b[36mload\u001b[0m:\u001b[36m61\u001b[0m - \u001b[1mloaded 9319856 samples from file\u001b[0m\n",
      "\u001b[32m2020-04-11 17:30:23.993\u001b[0m | \u001b[34m\u001b[1mDEBUG   \u001b[0m | \u001b[36mlorapy.datafile.encoding\u001b[0m:\u001b[36mcompute_params\u001b[0m:\u001b[36m15\u001b[0m - \u001b[34m\u001b[1mcomputed samples per symbol: 25604 and packet length: 774521\u001b[0m\n",
      "\u001b[32m2020-04-11 17:30:24.321\u001b[0m | \u001b[1mINFO    \u001b[0m | \u001b[36mlorapy.datafile._base_file\u001b[0m:\u001b[36mload\u001b[0m:\u001b[36m61\u001b[0m - \u001b[1mloaded 12392336 samples from file\u001b[0m\n",
      "\u001b[32m2020-04-11 17:30:24.499\u001b[0m | \u001b[33m\u001b[1mWARNING \u001b[0m | \u001b[36m__main__\u001b[0m:\u001b[36m_combine_all_syms\u001b[0m:\u001b[36m40\u001b[0m - \u001b[33m\u001b[1m[(2, 11, 100)]  combined 848 total symbols [(848, 25604)]\u001b[0m\n"
     ]
    },
    {
     "name": "stderr",
     "output_type": "stream",
     "text": [
      " 32%|███▏      | 38/120 [00:36<01:27,  1.07s/it]"
     ]
    },
    {
     "name": "stdout",
     "output_type": "stream",
     "text": [
      "\u001b[32m2020-04-11 17:30:25.124\u001b[0m | \u001b[34m\u001b[1mDEBUG   \u001b[0m | \u001b[36mlorapy.datafile.encoding\u001b[0m:\u001b[36mcompute_params\u001b[0m:\u001b[36m15\u001b[0m - \u001b[34m\u001b[1mcomputed samples per symbol: 25604 and packet length: 774521\u001b[0m\n",
      "\u001b[32m2020-04-11 17:30:25.342\u001b[0m | \u001b[1mINFO    \u001b[0m | \u001b[36mlorapy.datafile._base_file\u001b[0m:\u001b[36mload\u001b[0m:\u001b[36m61\u001b[0m - \u001b[1mloaded 7758012 samples from file\u001b[0m\n",
      "\u001b[32m2020-04-11 17:30:25.344\u001b[0m | \u001b[34m\u001b[1mDEBUG   \u001b[0m | \u001b[36mlorapy.datafile.encoding\u001b[0m:\u001b[36mcompute_params\u001b[0m:\u001b[36m15\u001b[0m - \u001b[34m\u001b[1mcomputed samples per symbol: 25604 and packet length: 774521\u001b[0m\n",
      "\u001b[32m2020-04-11 17:30:25.636\u001b[0m | \u001b[1mINFO    \u001b[0m | \u001b[36mlorapy.datafile._base_file\u001b[0m:\u001b[36mload\u001b[0m:\u001b[36m61\u001b[0m - \u001b[1mloaded 10907304 samples from file\u001b[0m\n",
      "\u001b[32m2020-04-11 17:30:25.791\u001b[0m | \u001b[33m\u001b[1mWARNING \u001b[0m | \u001b[36m__main__\u001b[0m:\u001b[36m_combine_all_syms\u001b[0m:\u001b[36m40\u001b[0m - \u001b[33m\u001b[1m[(2, 11, 120)]  combined 729 total symbols [(729, 25604)]\u001b[0m\n"
     ]
    },
    {
     "name": "stderr",
     "output_type": "stream",
     "text": [
      " 32%|███▎      | 39/120 [00:38<01:30,  1.11s/it]"
     ]
    },
    {
     "name": "stdout",
     "output_type": "stream",
     "text": [
      "\u001b[32m2020-04-11 17:30:26.327\u001b[0m | \u001b[34m\u001b[1mDEBUG   \u001b[0m | \u001b[36mlorapy.datafile.encoding\u001b[0m:\u001b[36mcompute_params\u001b[0m:\u001b[36m15\u001b[0m - \u001b[34m\u001b[1mcomputed samples per symbol: 25604 and packet length: 774521\u001b[0m\n",
      "\u001b[32m2020-04-11 17:30:26.445\u001b[0m | \u001b[1mINFO    \u001b[0m | \u001b[36mlorapy.datafile._base_file\u001b[0m:\u001b[36mload\u001b[0m:\u001b[36m61\u001b[0m - \u001b[1mloaded 8449320 samples from file\u001b[0m\n",
      "\u001b[32m2020-04-11 17:30:26.447\u001b[0m | \u001b[34m\u001b[1mDEBUG   \u001b[0m | \u001b[36mlorapy.datafile.encoding\u001b[0m:\u001b[36mcompute_params\u001b[0m:\u001b[36m15\u001b[0m - \u001b[34m\u001b[1mcomputed samples per symbol: 25604 and packet length: 774521\u001b[0m\n",
      "\u001b[32m2020-04-11 17:30:26.729\u001b[0m | \u001b[1mINFO    \u001b[0m | \u001b[36mlorapy.datafile._base_file\u001b[0m:\u001b[36mload\u001b[0m:\u001b[36m61\u001b[0m - \u001b[1mloaded 11393780 samples from file\u001b[0m\n",
      "\u001b[32m2020-04-11 17:30:26.863\u001b[0m | \u001b[33m\u001b[1mWARNING \u001b[0m | \u001b[36m__main__\u001b[0m:\u001b[36m_combine_all_syms\u001b[0m:\u001b[36m40\u001b[0m - \u001b[33m\u001b[1m[(2, 11, 140)]  combined 775 total symbols [(775, 25604)]\u001b[0m\n"
     ]
    },
    {
     "name": "stderr",
     "output_type": "stream",
     "text": [
      " 33%|███▎      | 40/120 [00:39<01:27,  1.10s/it]"
     ]
    },
    {
     "name": "stdout",
     "output_type": "stream",
     "text": [
      "\u001b[32m2020-04-11 17:30:27.388\u001b[0m | \u001b[34m\u001b[1mDEBUG   \u001b[0m | \u001b[36mlorapy.datafile.encoding\u001b[0m:\u001b[36mcompute_params\u001b[0m:\u001b[36m15\u001b[0m - \u001b[34m\u001b[1mcomputed samples per symbol: 51197 and packet length: 1548709\u001b[0m\n",
      "\u001b[32m2020-04-11 17:30:27.490\u001b[0m | \u001b[1mINFO    \u001b[0m | \u001b[36mlorapy.datafile._base_file\u001b[0m:\u001b[36mload\u001b[0m:\u001b[36m61\u001b[0m - \u001b[1mloaded 8242717 samples from file\u001b[0m\n",
      "\u001b[32m2020-04-11 17:30:27.491\u001b[0m | \u001b[34m\u001b[1mDEBUG   \u001b[0m | \u001b[36mlorapy.datafile.encoding\u001b[0m:\u001b[36mcompute_params\u001b[0m:\u001b[36m15\u001b[0m - \u001b[34m\u001b[1mcomputed samples per symbol: 51197 and packet length: 1548709\u001b[0m\n",
      "\u001b[32m2020-04-11 17:30:27.661\u001b[0m | \u001b[1mINFO    \u001b[0m | \u001b[36mlorapy.datafile._base_file\u001b[0m:\u001b[36mload\u001b[0m:\u001b[36m61\u001b[0m - \u001b[1mloaded 12799250 samples from file\u001b[0m\n",
      "\u001b[32m2020-04-11 17:30:27.736\u001b[0m | \u001b[33m\u001b[1mWARNING \u001b[0m | \u001b[36m__main__\u001b[0m:\u001b[36m_combine_all_syms\u001b[0m:\u001b[36m40\u001b[0m - \u001b[33m\u001b[1m[(2, 12, 0)]  combined 411 total symbols [(411, 51197)]\u001b[0m\n"
     ]
    },
    {
     "name": "stderr",
     "output_type": "stream",
     "text": [
      " 34%|███▍      | 41/120 [00:39<01:15,  1.05it/s]"
     ]
    },
    {
     "name": "stdout",
     "output_type": "stream",
     "text": [
      "\u001b[32m2020-04-11 17:30:28.012\u001b[0m | \u001b[34m\u001b[1mDEBUG   \u001b[0m | \u001b[36mlorapy.datafile.encoding\u001b[0m:\u001b[36mcompute_params\u001b[0m:\u001b[36m15\u001b[0m - \u001b[34m\u001b[1mcomputed samples per symbol: 51197 and packet length: 1548709\u001b[0m\n",
      "\u001b[32m2020-04-11 17:30:28.118\u001b[0m | \u001b[1mINFO    \u001b[0m | \u001b[36mlorapy.datafile._base_file\u001b[0m:\u001b[36mload\u001b[0m:\u001b[36m61\u001b[0m - \u001b[1mloaded 8447505 samples from file\u001b[0m\n",
      "\u001b[32m2020-04-11 17:30:28.119\u001b[0m | \u001b[34m\u001b[1mDEBUG   \u001b[0m | \u001b[36mlorapy.datafile.encoding\u001b[0m:\u001b[36mcompute_params\u001b[0m:\u001b[36m15\u001b[0m - \u001b[34m\u001b[1mcomputed samples per symbol: 51197 and packet length: 1548709\u001b[0m\n",
      "\u001b[32m2020-04-11 17:30:28.426\u001b[0m | \u001b[1mINFO    \u001b[0m | \u001b[36mlorapy.datafile._base_file\u001b[0m:\u001b[36mload\u001b[0m:\u001b[36m61\u001b[0m - \u001b[1mloaded 12952841 samples from file\u001b[0m\n",
      "\u001b[32m2020-04-11 17:30:28.572\u001b[0m | \u001b[33m\u001b[1mWARNING \u001b[0m | \u001b[36m__main__\u001b[0m:\u001b[36m_combine_all_syms\u001b[0m:\u001b[36m40\u001b[0m - \u001b[33m\u001b[1m[(2, 12, 20)]  combined 418 total symbols [(418, 51197)]\u001b[0m\n"
     ]
    },
    {
     "name": "stderr",
     "output_type": "stream",
     "text": [
      " 35%|███▌      | 42/120 [00:40<01:18,  1.00s/it]"
     ]
    },
    {
     "name": "stdout",
     "output_type": "stream",
     "text": [
      "\u001b[32m2020-04-11 17:30:29.129\u001b[0m | \u001b[34m\u001b[1mDEBUG   \u001b[0m | \u001b[36mlorapy.datafile.encoding\u001b[0m:\u001b[36mcompute_params\u001b[0m:\u001b[36m15\u001b[0m - \u001b[34m\u001b[1mcomputed samples per symbol: 51197 and packet length: 1548709\u001b[0m\n",
      "\u001b[32m2020-04-11 17:30:29.365\u001b[0m | \u001b[1mINFO    \u001b[0m | \u001b[36mlorapy.datafile._base_file\u001b[0m:\u001b[36mload\u001b[0m:\u001b[36m61\u001b[0m - \u001b[1mloaded 9573839 samples from file\u001b[0m\n",
      "\u001b[32m2020-04-11 17:30:29.367\u001b[0m | \u001b[34m\u001b[1mDEBUG   \u001b[0m | \u001b[36mlorapy.datafile.encoding\u001b[0m:\u001b[36mcompute_params\u001b[0m:\u001b[36m15\u001b[0m - \u001b[34m\u001b[1mcomputed samples per symbol: 51197 and packet length: 1548709\u001b[0m\n",
      "\u001b[32m2020-04-11 17:30:29.673\u001b[0m | \u001b[1mINFO    \u001b[0m | \u001b[36mlorapy.datafile._base_file\u001b[0m:\u001b[36mload\u001b[0m:\u001b[36m61\u001b[0m - \u001b[1mloaded 12952841 samples from file\u001b[0m\n",
      "\u001b[32m2020-04-11 17:30:29.831\u001b[0m | \u001b[33m\u001b[1mWARNING \u001b[0m | \u001b[36m__main__\u001b[0m:\u001b[36m_combine_all_syms\u001b[0m:\u001b[36m40\u001b[0m - \u001b[33m\u001b[1m[(2, 12, 40)]  combined 440 total symbols [(440, 51197)]\u001b[0m\n"
     ]
    },
    {
     "name": "stderr",
     "output_type": "stream",
     "text": [
      " 36%|███▌      | 43/120 [00:42<01:24,  1.10s/it]"
     ]
    },
    {
     "name": "stdout",
     "output_type": "stream",
     "text": [
      "\u001b[32m2020-04-11 17:30:30.454\u001b[0m | \u001b[34m\u001b[1mDEBUG   \u001b[0m | \u001b[36mlorapy.datafile.encoding\u001b[0m:\u001b[36mcompute_params\u001b[0m:\u001b[36m15\u001b[0m - \u001b[34m\u001b[1mcomputed samples per symbol: 51197 and packet length: 1548709\u001b[0m\n",
      "\u001b[32m2020-04-11 17:30:30.694\u001b[0m | \u001b[1mINFO    \u001b[0m | \u001b[36mlorapy.datafile._base_file\u001b[0m:\u001b[36mload\u001b[0m:\u001b[36m61\u001b[0m - \u001b[1mloaded 9573839 samples from file\u001b[0m\n",
      "\u001b[32m2020-04-11 17:30:30.696\u001b[0m | \u001b[34m\u001b[1mDEBUG   \u001b[0m | \u001b[36mlorapy.datafile.encoding\u001b[0m:\u001b[36mcompute_params\u001b[0m:\u001b[36m15\u001b[0m - \u001b[34m\u001b[1mcomputed samples per symbol: 51197 and packet length: 1548709\u001b[0m\n",
      "\u001b[32m2020-04-11 17:30:30.857\u001b[0m | \u001b[1mINFO    \u001b[0m | \u001b[36mlorapy.datafile._base_file\u001b[0m:\u001b[36mload\u001b[0m:\u001b[36m61\u001b[0m - \u001b[1mloaded 12389674 samples from file\u001b[0m\n",
      "\u001b[32m2020-04-11 17:30:31.026\u001b[0m | \u001b[33m\u001b[1mWARNING \u001b[0m | \u001b[36m__main__\u001b[0m:\u001b[36m_combine_all_syms\u001b[0m:\u001b[36m40\u001b[0m - \u001b[33m\u001b[1m[(2, 12, 60)]  combined 429 total symbols [(429, 51197)]\u001b[0m\n"
     ]
    },
    {
     "name": "stderr",
     "output_type": "stream",
     "text": [
      " 37%|███▋      | 44/120 [00:43<01:25,  1.13s/it]"
     ]
    },
    {
     "name": "stdout",
     "output_type": "stream",
     "text": [
      "\u001b[32m2020-04-11 17:30:31.643\u001b[0m | \u001b[34m\u001b[1mDEBUG   \u001b[0m | \u001b[36mlorapy.datafile.encoding\u001b[0m:\u001b[36mcompute_params\u001b[0m:\u001b[36m15\u001b[0m - \u001b[34m\u001b[1mcomputed samples per symbol: 51197 and packet length: 1548709\u001b[0m\n",
      "\u001b[32m2020-04-11 17:30:31.899\u001b[0m | \u001b[1mINFO    \u001b[0m | \u001b[36mlorapy.datafile._base_file\u001b[0m:\u001b[36mload\u001b[0m:\u001b[36m61\u001b[0m - \u001b[1mloaded 9010672 samples from file\u001b[0m\n",
      "\u001b[32m2020-04-11 17:30:31.901\u001b[0m | \u001b[34m\u001b[1mDEBUG   \u001b[0m | \u001b[36mlorapy.datafile.encoding\u001b[0m:\u001b[36mcompute_params\u001b[0m:\u001b[36m15\u001b[0m - \u001b[34m\u001b[1mcomputed samples per symbol: 51197 and packet length: 1548709\u001b[0m\n",
      "\u001b[32m2020-04-11 17:30:32.088\u001b[0m | \u001b[1mINFO    \u001b[0m | \u001b[36mlorapy.datafile._base_file\u001b[0m:\u001b[36mload\u001b[0m:\u001b[36m61\u001b[0m - \u001b[1mloaded 13516008 samples from file\u001b[0m\n",
      "\u001b[32m2020-04-11 17:30:32.258\u001b[0m | \u001b[33m\u001b[1mWARNING \u001b[0m | \u001b[36m__main__\u001b[0m:\u001b[36m_combine_all_syms\u001b[0m:\u001b[36m40\u001b[0m - \u001b[33m\u001b[1m[(2, 12, 80)]  combined 440 total symbols [(440, 51197)]\u001b[0m\n"
     ]
    },
    {
     "name": "stderr",
     "output_type": "stream",
     "text": [
      " 38%|███▊      | 45/120 [00:44<01:26,  1.16s/it]"
     ]
    },
    {
     "name": "stdout",
     "output_type": "stream",
     "text": [
      "\u001b[32m2020-04-11 17:30:32.879\u001b[0m | \u001b[34m\u001b[1mDEBUG   \u001b[0m | \u001b[36mlorapy.datafile.encoding\u001b[0m:\u001b[36mcompute_params\u001b[0m:\u001b[36m15\u001b[0m - \u001b[34m\u001b[1mcomputed samples per symbol: 51197 and packet length: 1548709\u001b[0m\n",
      "\u001b[32m2020-04-11 17:30:33.050\u001b[0m | \u001b[1mINFO    \u001b[0m | \u001b[36mlorapy.datafile._base_file\u001b[0m:\u001b[36mload\u001b[0m:\u001b[36m61\u001b[0m - \u001b[1mloaded 7013989 samples from file\u001b[0m\n",
      "\u001b[32m2020-04-11 17:30:33.051\u001b[0m | \u001b[34m\u001b[1mDEBUG   \u001b[0m | \u001b[36mlorapy.datafile.encoding\u001b[0m:\u001b[36mcompute_params\u001b[0m:\u001b[36m15\u001b[0m - \u001b[34m\u001b[1mcomputed samples per symbol: 51197 and packet length: 1548709\u001b[0m\n",
      "\u001b[32m2020-04-11 17:30:33.392\u001b[0m | \u001b[1mINFO    \u001b[0m | \u001b[36mlorapy.datafile._base_file\u001b[0m:\u001b[36mload\u001b[0m:\u001b[36m61\u001b[0m - \u001b[1mloaded 12338477 samples from file\u001b[0m\n",
      "\u001b[32m2020-04-11 17:30:33.551\u001b[0m | \u001b[33m\u001b[1mWARNING \u001b[0m | \u001b[36m__main__\u001b[0m:\u001b[36m_combine_all_syms\u001b[0m:\u001b[36m40\u001b[0m - \u001b[33m\u001b[1m[(2, 12, 100)]  combined 378 total symbols [(378, 51197)]\u001b[0m\n"
     ]
    },
    {
     "name": "stderr",
     "output_type": "stream",
     "text": [
      " 38%|███▊      | 46/120 [00:45<01:27,  1.18s/it]"
     ]
    },
    {
     "name": "stdout",
     "output_type": "stream",
     "text": [
      "\u001b[32m2020-04-11 17:30:34.108\u001b[0m | \u001b[34m\u001b[1mDEBUG   \u001b[0m | \u001b[36mlorapy.datafile.encoding\u001b[0m:\u001b[36mcompute_params\u001b[0m:\u001b[36m15\u001b[0m - \u001b[34m\u001b[1mcomputed samples per symbol: 51197 and packet length: 1548709\u001b[0m\n",
      "\u001b[32m2020-04-11 17:30:34.267\u001b[0m | \u001b[1mINFO    \u001b[0m | \u001b[36mlorapy.datafile._base_file\u001b[0m:\u001b[36mload\u001b[0m:\u001b[36m61\u001b[0m - \u001b[1mloaded 6502019 samples from file\u001b[0m\n",
      "\u001b[32m2020-04-11 17:30:34.269\u001b[0m | \u001b[34m\u001b[1mDEBUG   \u001b[0m | \u001b[36mlorapy.datafile.encoding\u001b[0m:\u001b[36mcompute_params\u001b[0m:\u001b[36m15\u001b[0m - \u001b[34m\u001b[1mcomputed samples per symbol: 51197 and packet length: 1548709\u001b[0m\n",
      "\u001b[32m2020-04-11 17:30:34.508\u001b[0m | \u001b[1mINFO    \u001b[0m | \u001b[36mlorapy.datafile._base_file\u001b[0m:\u001b[36mload\u001b[0m:\u001b[36m61\u001b[0m - \u001b[1mloaded 10034612 samples from file\u001b[0m\n",
      "\u001b[32m2020-04-11 17:30:34.626\u001b[0m | \u001b[33m\u001b[1mWARNING \u001b[0m | \u001b[36m__main__\u001b[0m:\u001b[36m_combine_all_syms\u001b[0m:\u001b[36m40\u001b[0m - \u001b[33m\u001b[1m[(2, 12, 120)]  combined 323 total symbols [(323, 51197)]\u001b[0m\n"
     ]
    },
    {
     "name": "stderr",
     "output_type": "stream",
     "text": [
      " 39%|███▉      | 47/120 [00:46<01:22,  1.13s/it]"
     ]
    },
    {
     "name": "stdout",
     "output_type": "stream",
     "text": [
      "\u001b[32m2020-04-11 17:30:35.116\u001b[0m | \u001b[34m\u001b[1mDEBUG   \u001b[0m | \u001b[36mlorapy.datafile.encoding\u001b[0m:\u001b[36mcompute_params\u001b[0m:\u001b[36m15\u001b[0m - \u001b[34m\u001b[1mcomputed samples per symbol: 51197 and packet length: 1548709\u001b[0m\n",
      "\u001b[32m2020-04-11 17:30:35.247\u001b[0m | \u001b[1mINFO    \u001b[0m | \u001b[36mlorapy.datafile._base_file\u001b[0m:\u001b[36mload\u001b[0m:\u001b[36m61\u001b[0m - \u001b[1mloaded 10802567 samples from file\u001b[0m\n",
      "\u001b[32m2020-04-11 17:30:35.286\u001b[0m | \u001b[33m\u001b[1mWARNING \u001b[0m | \u001b[36m__main__\u001b[0m:\u001b[36m_combine_all_syms\u001b[0m:\u001b[36m40\u001b[0m - \u001b[33m\u001b[1m[(2, 12, 140)]  combined 211 total symbols [(211, 51197)]\u001b[0m\n"
     ]
    },
    {
     "name": "stderr",
     "output_type": "stream",
     "text": [
      " 40%|████      | 48/120 [00:47<01:03,  1.13it/s]"
     ]
    },
    {
     "name": "stdout",
     "output_type": "stream",
     "text": [
      "\u001b[32m2020-04-11 17:30:35.435\u001b[0m | \u001b[34m\u001b[1mDEBUG   \u001b[0m | \u001b[36mlorapy.datafile.encoding\u001b[0m:\u001b[36mcompute_params\u001b[0m:\u001b[36m15\u001b[0m - \u001b[34m\u001b[1mcomputed samples per symbol: 1599 and packet length: 48369\u001b[0m\n",
      "\u001b[32m2020-04-11 17:30:35.534\u001b[0m | \u001b[1mINFO    \u001b[0m | \u001b[36mlorapy.datafile._base_file\u001b[0m:\u001b[36mload\u001b[0m:\u001b[36m61\u001b[0m - \u001b[1mloaded 7780734 samples from file\u001b[0m\n",
      "\u001b[32m2020-04-11 17:30:35.562\u001b[0m | \u001b[33m\u001b[1mWARNING \u001b[0m | \u001b[36m__main__\u001b[0m:\u001b[36m_combine_all_syms\u001b[0m:\u001b[36m40\u001b[0m - \u001b[33m\u001b[1m[(7, 10, 0)]  combined 4866 total symbols [(4866, 1599)]\u001b[0m\n"
     ]
    },
    {
     "name": "stderr",
     "output_type": "stream",
     "text": [
      " 41%|████      | 49/120 [00:47<00:49,  1.44it/s]"
     ]
    },
    {
     "name": "stdout",
     "output_type": "stream",
     "text": [
      "\u001b[32m2020-04-11 17:30:35.672\u001b[0m | \u001b[34m\u001b[1mDEBUG   \u001b[0m | \u001b[36mlorapy.datafile.encoding\u001b[0m:\u001b[36mcompute_params\u001b[0m:\u001b[36m15\u001b[0m - \u001b[34m\u001b[1mcomputed samples per symbol: 1599 and packet length: 48369\u001b[0m\n",
      "\u001b[32m2020-04-11 17:30:35.761\u001b[0m | \u001b[1mINFO    \u001b[0m | \u001b[36mlorapy.datafile._base_file\u001b[0m:\u001b[36mload\u001b[0m:\u001b[36m61\u001b[0m - \u001b[1mloaded 7142733 samples from file\u001b[0m\n",
      "\u001b[32m2020-04-11 17:30:35.789\u001b[0m | \u001b[33m\u001b[1mWARNING \u001b[0m | \u001b[36m__main__\u001b[0m:\u001b[36m_combine_all_syms\u001b[0m:\u001b[36m40\u001b[0m - \u001b[33m\u001b[1m[(7, 10, 20)]  combined 4467 total symbols [(4467, 1599)]\u001b[0m\n"
     ]
    },
    {
     "name": "stderr",
     "output_type": "stream",
     "text": [
      " 42%|████▏     | 50/120 [00:47<00:38,  1.82it/s]"
     ]
    },
    {
     "name": "stdout",
     "output_type": "stream",
     "text": [
      "\u001b[32m2020-04-11 17:30:35.891\u001b[0m | \u001b[34m\u001b[1mDEBUG   \u001b[0m | \u001b[36mlorapy.datafile.encoding\u001b[0m:\u001b[36mcompute_params\u001b[0m:\u001b[36m15\u001b[0m - \u001b[34m\u001b[1mcomputed samples per symbol: 1599 and packet length: 48369\u001b[0m\n",
      "\u001b[32m2020-04-11 17:30:35.972\u001b[0m | \u001b[1mINFO    \u001b[0m | \u001b[36mlorapy.datafile._base_file\u001b[0m:\u001b[36mload\u001b[0m:\u001b[36m61\u001b[0m - \u001b[1mloaded 6474351 samples from file\u001b[0m\n",
      "\u001b[32m2020-04-11 17:30:35.995\u001b[0m | \u001b[33m\u001b[1mWARNING \u001b[0m | \u001b[36m__main__\u001b[0m:\u001b[36m_combine_all_syms\u001b[0m:\u001b[36m40\u001b[0m - \u001b[33m\u001b[1m[(7, 10, 40)]  combined 4049 total symbols [(4049, 1599)]\u001b[0m\n"
     ]
    },
    {
     "name": "stderr",
     "output_type": "stream",
     "text": [
      " 42%|████▎     | 51/120 [00:47<00:30,  2.25it/s]"
     ]
    },
    {
     "name": "stdout",
     "output_type": "stream",
     "text": [
      "\u001b[32m2020-04-11 17:30:36.086\u001b[0m | \u001b[34m\u001b[1mDEBUG   \u001b[0m | \u001b[36mlorapy.datafile.encoding\u001b[0m:\u001b[36mcompute_params\u001b[0m:\u001b[36m15\u001b[0m - \u001b[34m\u001b[1mcomputed samples per symbol: 1599 and packet length: 48369\u001b[0m\n",
      "\u001b[32m2020-04-11 17:30:36.304\u001b[0m | \u001b[1mINFO    \u001b[0m | \u001b[36mlorapy.datafile._base_file\u001b[0m:\u001b[36mload\u001b[0m:\u001b[36m61\u001b[0m - \u001b[1mloaded 6498336 samples from file\u001b[0m\n",
      "\u001b[32m2020-04-11 17:30:36.350\u001b[0m | \u001b[33m\u001b[1mWARNING \u001b[0m | \u001b[36m__main__\u001b[0m:\u001b[36m_combine_all_syms\u001b[0m:\u001b[36m40\u001b[0m - \u001b[33m\u001b[1m[(7, 10, 60)]  combined 4064 total symbols [(4064, 1599)]\u001b[0m\n"
     ]
    },
    {
     "name": "stderr",
     "output_type": "stream",
     "text": [
      " 43%|████▎     | 52/120 [00:48<00:30,  2.26it/s]"
     ]
    },
    {
     "name": "stdout",
     "output_type": "stream",
     "text": [
      "\u001b[32m2020-04-11 17:30:36.525\u001b[0m | \u001b[34m\u001b[1mDEBUG   \u001b[0m | \u001b[36mlorapy.datafile.encoding\u001b[0m:\u001b[36mcompute_params\u001b[0m:\u001b[36m15\u001b[0m - \u001b[34m\u001b[1mcomputed samples per symbol: 1599 and packet length: 48369\u001b[0m\n",
      "\u001b[32m2020-04-11 17:30:36.610\u001b[0m | \u001b[1mINFO    \u001b[0m | \u001b[36mlorapy.datafile._base_file\u001b[0m:\u001b[36mload\u001b[0m:\u001b[36m61\u001b[0m - \u001b[1mloaded 6682221 samples from file\u001b[0m\n",
      "\u001b[32m2020-04-11 17:30:36.635\u001b[0m | \u001b[33m\u001b[1mWARNING \u001b[0m | \u001b[36m__main__\u001b[0m:\u001b[36m_combine_all_syms\u001b[0m:\u001b[36m40\u001b[0m - \u001b[33m\u001b[1m[(7, 10, 80)]  combined 4179 total symbols [(4179, 1599)]\u001b[0m\n"
     ]
    },
    {
     "name": "stderr",
     "output_type": "stream",
     "text": [
      " 44%|████▍     | 53/120 [00:48<00:24,  2.69it/s]"
     ]
    },
    {
     "name": "stdout",
     "output_type": "stream",
     "text": [
      "\u001b[32m2020-04-11 17:30:36.732\u001b[0m | \u001b[34m\u001b[1mDEBUG   \u001b[0m | \u001b[36mlorapy.datafile.encoding\u001b[0m:\u001b[36mcompute_params\u001b[0m:\u001b[36m15\u001b[0m - \u001b[34m\u001b[1mcomputed samples per symbol: 1599 and packet length: 48369\u001b[0m\n",
      "\u001b[32m2020-04-11 17:30:36.821\u001b[0m | \u001b[1mINFO    \u001b[0m | \u001b[36mlorapy.datafile._base_file\u001b[0m:\u001b[36mload\u001b[0m:\u001b[36m61\u001b[0m - \u001b[1mloaded 6671028 samples from file\u001b[0m\n",
      "\u001b[32m2020-04-11 17:30:36.852\u001b[0m | \u001b[33m\u001b[1mWARNING \u001b[0m | \u001b[36m__main__\u001b[0m:\u001b[36m_combine_all_syms\u001b[0m:\u001b[36m40\u001b[0m - \u001b[33m\u001b[1m[(7, 10, 100)]  combined 4172 total symbols [(4172, 1599)]\u001b[0m\n"
     ]
    },
    {
     "name": "stderr",
     "output_type": "stream",
     "text": [
      " 45%|████▌     | 54/120 [00:48<00:21,  3.04it/s]"
     ]
    },
    {
     "name": "stdout",
     "output_type": "stream",
     "text": [
      "\u001b[32m2020-04-11 17:30:36.967\u001b[0m | \u001b[34m\u001b[1mDEBUG   \u001b[0m | \u001b[36mlorapy.datafile.encoding\u001b[0m:\u001b[36mcompute_params\u001b[0m:\u001b[36m15\u001b[0m - \u001b[34m\u001b[1mcomputed samples per symbol: 3198 and packet length: 96739\u001b[0m\n",
      "\u001b[32m2020-04-11 17:30:37.148\u001b[0m | \u001b[1mINFO    \u001b[0m | \u001b[36mlorapy.datafile._base_file\u001b[0m:\u001b[36mload\u001b[0m:\u001b[36m61\u001b[0m - \u001b[1mloaded 6376812 samples from file\u001b[0m\n",
      "\u001b[32m2020-04-11 17:30:37.202\u001b[0m | \u001b[33m\u001b[1mWARNING \u001b[0m | \u001b[36m__main__\u001b[0m:\u001b[36m_combine_all_syms\u001b[0m:\u001b[36m40\u001b[0m - \u001b[33m\u001b[1m[(7, 11, 0)]  combined 1994 total symbols [(1994, 3198)]\u001b[0m\n"
     ]
    },
    {
     "name": "stderr",
     "output_type": "stream",
     "text": [
      " 48%|████▊     | 57/120 [00:49<00:17,  3.65it/s]"
     ]
    },
    {
     "name": "stdout",
     "output_type": "stream",
     "text": [
      "\u001b[32m2020-04-11 17:30:37.396\u001b[0m | \u001b[34m\u001b[1mDEBUG   \u001b[0m | \u001b[36mlorapy.datafile.encoding\u001b[0m:\u001b[36mcompute_params\u001b[0m:\u001b[36m15\u001b[0m - \u001b[34m\u001b[1mcomputed samples per symbol: 3198 and packet length: 96739\u001b[0m\n",
      "\u001b[32m2020-04-11 17:30:37.498\u001b[0m | \u001b[1mINFO    \u001b[0m | \u001b[36mlorapy.datafile._base_file\u001b[0m:\u001b[36mload\u001b[0m:\u001b[36m61\u001b[0m - \u001b[1mloaded 6984432 samples from file\u001b[0m\n",
      "\u001b[32m2020-04-11 17:30:37.529\u001b[0m | \u001b[33m\u001b[1mWARNING \u001b[0m | \u001b[36m__main__\u001b[0m:\u001b[36m_combine_all_syms\u001b[0m:\u001b[36m40\u001b[0m - \u001b[33m\u001b[1m[(7, 11, 20)]  combined 2184 total symbols [(2184, 3198)]\u001b[0m\n"
     ]
    },
    {
     "name": "stderr",
     "output_type": "stream",
     "text": [
      " 48%|████▊     | 58/120 [00:49<00:16,  3.75it/s]"
     ]
    },
    {
     "name": "stdout",
     "output_type": "stream",
     "text": [
      "\u001b[32m2020-04-11 17:30:37.644\u001b[0m | \u001b[34m\u001b[1mDEBUG   \u001b[0m | \u001b[36mlorapy.datafile.encoding\u001b[0m:\u001b[36mcompute_params\u001b[0m:\u001b[36m15\u001b[0m - \u001b[34m\u001b[1mcomputed samples per symbol: 3198 and packet length: 96739\u001b[0m\n",
      "\u001b[32m2020-04-11 17:30:37.746\u001b[0m | \u001b[1mINFO    \u001b[0m | \u001b[36mlorapy.datafile._base_file\u001b[0m:\u001b[36mload\u001b[0m:\u001b[36m61\u001b[0m - \u001b[1mloaded 6837324 samples from file\u001b[0m\n",
      "\u001b[32m2020-04-11 17:30:37.777\u001b[0m | \u001b[33m\u001b[1mWARNING \u001b[0m | \u001b[36m__main__\u001b[0m:\u001b[36m_combine_all_syms\u001b[0m:\u001b[36m40\u001b[0m - \u001b[33m\u001b[1m[(7, 11, 40)]  combined 2138 total symbols [(2138, 3198)]\u001b[0m\n"
     ]
    },
    {
     "name": "stderr",
     "output_type": "stream",
     "text": [
      " 49%|████▉     | 59/120 [00:49<00:15,  3.84it/s]"
     ]
    },
    {
     "name": "stdout",
     "output_type": "stream",
     "text": [
      "\u001b[32m2020-04-11 17:30:37.890\u001b[0m | \u001b[34m\u001b[1mDEBUG   \u001b[0m | \u001b[36mlorapy.datafile.encoding\u001b[0m:\u001b[36mcompute_params\u001b[0m:\u001b[36m15\u001b[0m - \u001b[34m\u001b[1mcomputed samples per symbol: 3198 and packet length: 96739\u001b[0m\n",
      "\u001b[32m2020-04-11 17:30:37.984\u001b[0m | \u001b[1mINFO    \u001b[0m | \u001b[36mlorapy.datafile._base_file\u001b[0m:\u001b[36mload\u001b[0m:\u001b[36m61\u001b[0m - \u001b[1mloaded 6594276 samples from file\u001b[0m\n",
      "\u001b[32m2020-04-11 17:30:38.014\u001b[0m | \u001b[33m\u001b[1mWARNING \u001b[0m | \u001b[36m__main__\u001b[0m:\u001b[36m_combine_all_syms\u001b[0m:\u001b[36m40\u001b[0m - \u001b[33m\u001b[1m[(7, 11, 60)]  combined 2062 total symbols [(2062, 3198)]\u001b[0m\n"
     ]
    },
    {
     "name": "stderr",
     "output_type": "stream",
     "text": [
      " 50%|█████     | 60/120 [00:49<00:15,  3.98it/s]"
     ]
    },
    {
     "name": "stdout",
     "output_type": "stream",
     "text": [
      "\u001b[32m2020-04-11 17:30:38.120\u001b[0m | \u001b[34m\u001b[1mDEBUG   \u001b[0m | \u001b[36mlorapy.datafile.encoding\u001b[0m:\u001b[36mcompute_params\u001b[0m:\u001b[36m15\u001b[0m - \u001b[34m\u001b[1mcomputed samples per symbol: 3198 and packet length: 96739\u001b[0m\n",
      "\u001b[32m2020-04-11 17:30:38.218\u001b[0m | \u001b[1mINFO    \u001b[0m | \u001b[36mlorapy.datafile._base_file\u001b[0m:\u001b[36mload\u001b[0m:\u001b[36m61\u001b[0m - \u001b[1mloaded 6555900 samples from file\u001b[0m\n",
      "\u001b[32m2020-04-11 17:30:38.249\u001b[0m | \u001b[33m\u001b[1mWARNING \u001b[0m | \u001b[36m__main__\u001b[0m:\u001b[36m_combine_all_syms\u001b[0m:\u001b[36m40\u001b[0m - \u001b[33m\u001b[1m[(7, 11, 80)]  combined 2050 total symbols [(2050, 3198)]\u001b[0m\n"
     ]
    },
    {
     "name": "stderr",
     "output_type": "stream",
     "text": [
      " 51%|█████     | 61/120 [00:50<00:14,  4.07it/s]"
     ]
    },
    {
     "name": "stdout",
     "output_type": "stream",
     "text": [
      "\u001b[32m2020-04-11 17:30:38.353\u001b[0m | \u001b[34m\u001b[1mDEBUG   \u001b[0m | \u001b[36mlorapy.datafile.encoding\u001b[0m:\u001b[36mcompute_params\u001b[0m:\u001b[36m15\u001b[0m - \u001b[34m\u001b[1mcomputed samples per symbol: 3198 and packet length: 96739\u001b[0m\n",
      "\u001b[32m2020-04-11 17:30:38.452\u001b[0m | \u001b[1mINFO    \u001b[0m | \u001b[36mlorapy.datafile._base_file\u001b[0m:\u001b[36mload\u001b[0m:\u001b[36m61\u001b[0m - \u001b[1mloaded 6920472 samples from file\u001b[0m\n",
      "\u001b[32m2020-04-11 17:30:38.482\u001b[0m | \u001b[33m\u001b[1mWARNING \u001b[0m | \u001b[36m__main__\u001b[0m:\u001b[36m_combine_all_syms\u001b[0m:\u001b[36m40\u001b[0m - \u001b[33m\u001b[1m[(7, 11, 100)]  combined 2164 total symbols [(2164, 3198)]\u001b[0m\n"
     ]
    },
    {
     "name": "stderr",
     "output_type": "stream",
     "text": [
      " 52%|█████▏    | 62/120 [00:50<00:14,  4.11it/s]"
     ]
    },
    {
     "name": "stdout",
     "output_type": "stream",
     "text": [
      "\u001b[32m2020-04-11 17:30:38.596\u001b[0m | \u001b[34m\u001b[1mDEBUG   \u001b[0m | \u001b[36mlorapy.datafile.encoding\u001b[0m:\u001b[36mcompute_params\u001b[0m:\u001b[36m15\u001b[0m - \u001b[34m\u001b[1mcomputed samples per symbol: 6386 and packet length: 193176\u001b[0m\n",
      "\u001b[32m2020-04-11 17:30:38.682\u001b[0m | \u001b[1mINFO    \u001b[0m | \u001b[36mlorapy.datafile._base_file\u001b[0m:\u001b[36mload\u001b[0m:\u001b[36m61\u001b[0m - \u001b[1mloaded 5779330 samples from file\u001b[0m\n",
      "\u001b[32m2020-04-11 17:30:38.709\u001b[0m | \u001b[33m\u001b[1mWARNING \u001b[0m | \u001b[36m__main__\u001b[0m:\u001b[36m_combine_all_syms\u001b[0m:\u001b[36m40\u001b[0m - \u001b[33m\u001b[1m[(7, 12, 0)]  combined 905 total symbols [(905, 6386)]\u001b[0m\n"
     ]
    },
    {
     "name": "stderr",
     "output_type": "stream",
     "text": [
      " 54%|█████▍    | 65/120 [00:50<00:10,  5.21it/s]"
     ]
    },
    {
     "name": "stdout",
     "output_type": "stream",
     "text": [
      "\u001b[32m2020-04-11 17:30:38.805\u001b[0m | \u001b[34m\u001b[1mDEBUG   \u001b[0m | \u001b[36mlorapy.datafile.encoding\u001b[0m:\u001b[36mcompute_params\u001b[0m:\u001b[36m15\u001b[0m - \u001b[34m\u001b[1mcomputed samples per symbol: 6386 and packet length: 193176\u001b[0m\n",
      "\u001b[32m2020-04-11 17:30:38.906\u001b[0m | \u001b[1mINFO    \u001b[0m | \u001b[36mlorapy.datafile._base_file\u001b[0m:\u001b[36mload\u001b[0m:\u001b[36m61\u001b[0m - \u001b[1mloaded 6545650 samples from file\u001b[0m\n",
      "\u001b[32m2020-04-11 17:30:38.936\u001b[0m | \u001b[33m\u001b[1mWARNING \u001b[0m | \u001b[36m__main__\u001b[0m:\u001b[36m_combine_all_syms\u001b[0m:\u001b[36m40\u001b[0m - \u001b[33m\u001b[1m[(7, 12, 20)]  combined 1025 total symbols [(1025, 6386)]\u001b[0m\n"
     ]
    },
    {
     "name": "stderr",
     "output_type": "stream",
     "text": [
      " 55%|█████▌    | 66/120 [00:50<00:10,  4.92it/s]"
     ]
    },
    {
     "name": "stdout",
     "output_type": "stream",
     "text": [
      "\u001b[32m2020-04-11 17:30:39.035\u001b[0m | \u001b[34m\u001b[1mDEBUG   \u001b[0m | \u001b[36mlorapy.datafile.encoding\u001b[0m:\u001b[36mcompute_params\u001b[0m:\u001b[36m15\u001b[0m - \u001b[34m\u001b[1mcomputed samples per symbol: 6386 and packet length: 193176\u001b[0m\n",
      "\u001b[32m2020-04-11 17:30:39.218\u001b[0m | \u001b[1mINFO    \u001b[0m | \u001b[36mlorapy.datafile._base_file\u001b[0m:\u001b[36mload\u001b[0m:\u001b[36m61\u001b[0m - \u001b[1mloaded 6698914 samples from file\u001b[0m\n",
      "\u001b[32m2020-04-11 17:30:39.276\u001b[0m | \u001b[33m\u001b[1mWARNING \u001b[0m | \u001b[36m__main__\u001b[0m:\u001b[36m_combine_all_syms\u001b[0m:\u001b[36m40\u001b[0m - \u001b[33m\u001b[1m[(7, 12, 40)]  combined 1049 total symbols [(1049, 6386)]\u001b[0m\n"
     ]
    },
    {
     "name": "stderr",
     "output_type": "stream",
     "text": [
      " 56%|█████▌    | 67/120 [00:51<00:14,  3.68it/s]"
     ]
    },
    {
     "name": "stdout",
     "output_type": "stream",
     "text": [
      "\u001b[32m2020-04-11 17:30:39.469\u001b[0m | \u001b[34m\u001b[1mDEBUG   \u001b[0m | \u001b[36mlorapy.datafile.encoding\u001b[0m:\u001b[36mcompute_params\u001b[0m:\u001b[36m15\u001b[0m - \u001b[34m\u001b[1mcomputed samples per symbol: 6386 and packet length: 193176\u001b[0m\n",
      "\u001b[32m2020-04-11 17:30:39.569\u001b[0m | \u001b[1mINFO    \u001b[0m | \u001b[36mlorapy.datafile._base_file\u001b[0m:\u001b[36mload\u001b[0m:\u001b[36m61\u001b[0m - \u001b[1mloaded 6769160 samples from file\u001b[0m\n",
      "\u001b[32m2020-04-11 17:30:39.599\u001b[0m | \u001b[33m\u001b[1mWARNING \u001b[0m | \u001b[36m__main__\u001b[0m:\u001b[36m_combine_all_syms\u001b[0m:\u001b[36m40\u001b[0m - \u001b[33m\u001b[1m[(7, 12, 60)]  combined 1060 total symbols [(1060, 6386)]\u001b[0m\n"
     ]
    },
    {
     "name": "stderr",
     "output_type": "stream",
     "text": [
      " 57%|█████▋    | 68/120 [00:51<00:13,  3.84it/s]"
     ]
    },
    {
     "name": "stdout",
     "output_type": "stream",
     "text": [
      "\u001b[32m2020-04-11 17:30:39.701\u001b[0m | \u001b[34m\u001b[1mDEBUG   \u001b[0m | \u001b[36mlorapy.datafile.encoding\u001b[0m:\u001b[36mcompute_params\u001b[0m:\u001b[36m15\u001b[0m - \u001b[34m\u001b[1mcomputed samples per symbol: 6386 and packet length: 193176\u001b[0m\n",
      "\u001b[32m2020-04-11 17:30:39.875\u001b[0m | \u001b[1mINFO    \u001b[0m | \u001b[36mlorapy.datafile._base_file\u001b[0m:\u001b[36mload\u001b[0m:\u001b[36m61\u001b[0m - \u001b[1mloaded 6424316 samples from file\u001b[0m\n",
      "\u001b[32m2020-04-11 17:30:39.929\u001b[0m | \u001b[33m\u001b[1mWARNING \u001b[0m | \u001b[36m__main__\u001b[0m:\u001b[36m_combine_all_syms\u001b[0m:\u001b[36m40\u001b[0m - \u001b[33m\u001b[1m[(7, 12, 80)]  combined 1006 total symbols [(1006, 6386)]\u001b[0m\n"
     ]
    },
    {
     "name": "stderr",
     "output_type": "stream",
     "text": [
      " 57%|█████▊    | 69/120 [00:51<00:16,  3.14it/s]"
     ]
    },
    {
     "name": "stdout",
     "output_type": "stream",
     "text": [
      "\u001b[32m2020-04-11 17:30:40.158\u001b[0m | \u001b[34m\u001b[1mDEBUG   \u001b[0m | \u001b[36mlorapy.datafile.encoding\u001b[0m:\u001b[36mcompute_params\u001b[0m:\u001b[36m15\u001b[0m - \u001b[34m\u001b[1mcomputed samples per symbol: 6386 and packet length: 193176\u001b[0m\n",
      "\u001b[32m2020-04-11 17:30:40.238\u001b[0m | \u001b[1mINFO    \u001b[0m | \u001b[36mlorapy.datafile._base_file\u001b[0m:\u001b[36mload\u001b[0m:\u001b[36m61\u001b[0m - \u001b[1mloaded 6194420 samples from file\u001b[0m\n",
      "\u001b[32m2020-04-11 17:30:40.263\u001b[0m | \u001b[33m\u001b[1mWARNING \u001b[0m | \u001b[36m__main__\u001b[0m:\u001b[36m_combine_all_syms\u001b[0m:\u001b[36m40\u001b[0m - \u001b[33m\u001b[1m[(7, 12, 100)]  combined 970 total symbols [(970, 6386)]\u001b[0m\n"
     ]
    },
    {
     "name": "stderr",
     "output_type": "stream",
     "text": [
      " 58%|█████▊    | 70/120 [00:52<00:14,  3.52it/s]"
     ]
    },
    {
     "name": "stdout",
     "output_type": "stream",
     "text": [
      "\u001b[32m2020-04-11 17:30:40.365\u001b[0m | \u001b[34m\u001b[1mDEBUG   \u001b[0m | \u001b[36mlorapy.datafile.encoding\u001b[0m:\u001b[36mcompute_params\u001b[0m:\u001b[36m15\u001b[0m - \u001b[34m\u001b[1mcomputed samples per symbol: 800 and packet length: 24200\u001b[0m\n",
      "\u001b[32m2020-04-11 17:30:40.507\u001b[0m | \u001b[1mINFO    \u001b[0m | \u001b[36mlorapy.datafile._base_file\u001b[0m:\u001b[36mload\u001b[0m:\u001b[36m61\u001b[0m - \u001b[1mloaded 5086400 samples from file\u001b[0m\n",
      "\u001b[32m2020-04-11 17:30:40.551\u001b[0m | \u001b[33m\u001b[1mWARNING \u001b[0m | \u001b[36m__main__\u001b[0m:\u001b[36m_combine_all_syms\u001b[0m:\u001b[36m40\u001b[0m - \u001b[33m\u001b[1m[(8, 10, 0)]  combined 6358 total symbols [(6358, 800)]\u001b[0m\n"
     ]
    },
    {
     "name": "stderr",
     "output_type": "stream",
     "text": [
      " 61%|██████    | 73/120 [00:52<00:10,  4.32it/s]"
     ]
    },
    {
     "name": "stdout",
     "output_type": "stream",
     "text": [
      "\u001b[32m2020-04-11 17:30:40.687\u001b[0m | \u001b[34m\u001b[1mDEBUG   \u001b[0m | \u001b[36mlorapy.datafile.encoding\u001b[0m:\u001b[36mcompute_params\u001b[0m:\u001b[36m15\u001b[0m - \u001b[34m\u001b[1mcomputed samples per symbol: 800 and packet length: 24200\u001b[0m\n",
      "\u001b[32m2020-04-11 17:30:40.825\u001b[0m | \u001b[1mINFO    \u001b[0m | \u001b[36mlorapy.datafile._base_file\u001b[0m:\u001b[36mload\u001b[0m:\u001b[36m61\u001b[0m - \u001b[1mloaded 5105600 samples from file\u001b[0m\n",
      "\u001b[32m2020-04-11 17:30:40.868\u001b[0m | \u001b[33m\u001b[1mWARNING \u001b[0m | \u001b[36m__main__\u001b[0m:\u001b[36m_combine_all_syms\u001b[0m:\u001b[36m40\u001b[0m - \u001b[33m\u001b[1m[(8, 10, 20)]  combined 6382 total symbols [(6382, 800)]\u001b[0m\n"
     ]
    },
    {
     "name": "stderr",
     "output_type": "stream",
     "text": [
      " 62%|██████▏   | 74/120 [00:52<00:11,  3.87it/s]"
     ]
    },
    {
     "name": "stdout",
     "output_type": "stream",
     "text": [
      "\u001b[32m2020-04-11 17:30:41.008\u001b[0m | \u001b[34m\u001b[1mDEBUG   \u001b[0m | \u001b[36mlorapy.datafile.encoding\u001b[0m:\u001b[36mcompute_params\u001b[0m:\u001b[36m15\u001b[0m - \u001b[34m\u001b[1mcomputed samples per symbol: 800 and packet length: 24200\u001b[0m\n",
      "\u001b[32m2020-04-11 17:30:41.085\u001b[0m | \u001b[1mINFO    \u001b[0m | \u001b[36mlorapy.datafile._base_file\u001b[0m:\u001b[36mload\u001b[0m:\u001b[36m61\u001b[0m - \u001b[1mloaded 5228000 samples from file\u001b[0m\n",
      "\u001b[32m2020-04-11 17:30:41.110\u001b[0m | \u001b[33m\u001b[1mWARNING \u001b[0m | \u001b[36m__main__\u001b[0m:\u001b[36m_combine_all_syms\u001b[0m:\u001b[36m40\u001b[0m - \u001b[33m\u001b[1m[(8, 10, 40)]  combined 6535 total symbols [(6535, 800)]\u001b[0m\n"
     ]
    },
    {
     "name": "stderr",
     "output_type": "stream",
     "text": [
      " 62%|██████▎   | 75/120 [00:52<00:10,  4.19it/s]"
     ]
    },
    {
     "name": "stdout",
     "output_type": "stream",
     "text": [
      "\u001b[32m2020-04-11 17:30:41.199\u001b[0m | \u001b[34m\u001b[1mDEBUG   \u001b[0m | \u001b[36mlorapy.datafile.encoding\u001b[0m:\u001b[36mcompute_params\u001b[0m:\u001b[36m15\u001b[0m - \u001b[34m\u001b[1mcomputed samples per symbol: 800 and packet length: 24200\u001b[0m\n",
      "\u001b[32m2020-04-11 17:30:41.277\u001b[0m | \u001b[1mINFO    \u001b[0m | \u001b[36mlorapy.datafile._base_file\u001b[0m:\u001b[36mload\u001b[0m:\u001b[36m61\u001b[0m - \u001b[1mloaded 5485600 samples from file\u001b[0m\n",
      "\u001b[32m2020-04-11 17:30:41.304\u001b[0m | \u001b[33m\u001b[1mWARNING \u001b[0m | \u001b[36m__main__\u001b[0m:\u001b[36m_combine_all_syms\u001b[0m:\u001b[36m40\u001b[0m - \u001b[33m\u001b[1m[(8, 10, 60)]  combined 6857 total symbols [(6857, 800)]\u001b[0m\n"
     ]
    },
    {
     "name": "stderr",
     "output_type": "stream",
     "text": [
      " 63%|██████▎   | 76/120 [00:53<00:09,  4.46it/s]"
     ]
    },
    {
     "name": "stdout",
     "output_type": "stream",
     "text": [
      "\u001b[32m2020-04-11 17:30:41.390\u001b[0m | \u001b[34m\u001b[1mDEBUG   \u001b[0m | \u001b[36mlorapy.datafile.encoding\u001b[0m:\u001b[36mcompute_params\u001b[0m:\u001b[36m15\u001b[0m - \u001b[34m\u001b[1mcomputed samples per symbol: 800 and packet length: 24200\u001b[0m\n",
      "\u001b[32m2020-04-11 17:30:41.476\u001b[0m | \u001b[1mINFO    \u001b[0m | \u001b[36mlorapy.datafile._base_file\u001b[0m:\u001b[36mload\u001b[0m:\u001b[36m61\u001b[0m - \u001b[1mloaded 6001600 samples from file\u001b[0m\n",
      "\u001b[32m2020-04-11 17:30:41.502\u001b[0m | \u001b[33m\u001b[1mWARNING \u001b[0m | \u001b[36m__main__\u001b[0m:\u001b[36m_combine_all_syms\u001b[0m:\u001b[36m40\u001b[0m - \u001b[33m\u001b[1m[(8, 10, 80)]  combined 7502 total symbols [(7502, 800)]\u001b[0m\n"
     ]
    },
    {
     "name": "stderr",
     "output_type": "stream",
     "text": [
      " 64%|██████▍   | 77/120 [00:53<00:09,  4.58it/s]"
     ]
    },
    {
     "name": "stdout",
     "output_type": "stream",
     "text": [
      "\u001b[32m2020-04-11 17:30:41.594\u001b[0m | \u001b[34m\u001b[1mDEBUG   \u001b[0m | \u001b[36mlorapy.datafile.encoding\u001b[0m:\u001b[36mcompute_params\u001b[0m:\u001b[36m15\u001b[0m - \u001b[34m\u001b[1mcomputed samples per symbol: 800 and packet length: 24200\u001b[0m\n",
      "\u001b[32m2020-04-11 17:30:41.744\u001b[0m | \u001b[1mINFO    \u001b[0m | \u001b[36mlorapy.datafile._base_file\u001b[0m:\u001b[36mload\u001b[0m:\u001b[36m61\u001b[0m - \u001b[1mloaded 5578400 samples from file\u001b[0m\n",
      "\u001b[32m2020-04-11 17:30:41.791\u001b[0m | \u001b[33m\u001b[1mWARNING \u001b[0m | \u001b[36m__main__\u001b[0m:\u001b[36m_combine_all_syms\u001b[0m:\u001b[36m40\u001b[0m - \u001b[33m\u001b[1m[(8, 10, 100)]  combined 6973 total symbols [(6973, 800)]\u001b[0m\n"
     ]
    },
    {
     "name": "stderr",
     "output_type": "stream",
     "text": [
      " 65%|██████▌   | 78/120 [00:53<00:10,  3.91it/s]"
     ]
    },
    {
     "name": "stdout",
     "output_type": "stream",
     "text": [
      "\u001b[32m2020-04-11 17:30:41.943\u001b[0m | \u001b[34m\u001b[1mDEBUG   \u001b[0m | \u001b[36mlorapy.datafile.encoding\u001b[0m:\u001b[36mcompute_params\u001b[0m:\u001b[36m15\u001b[0m - \u001b[34m\u001b[1mcomputed samples per symbol: 1599 and packet length: 48369\u001b[0m\n",
      "\u001b[32m2020-04-11 17:30:42.084\u001b[0m | \u001b[1mINFO    \u001b[0m | \u001b[36mlorapy.datafile._base_file\u001b[0m:\u001b[36mload\u001b[0m:\u001b[36m61\u001b[0m - \u001b[1mloaded 5199948 samples from file\u001b[0m\n",
      "\u001b[32m2020-04-11 17:30:42.128\u001b[0m | \u001b[33m\u001b[1mWARNING \u001b[0m | \u001b[36m__main__\u001b[0m:\u001b[36m_combine_all_syms\u001b[0m:\u001b[36m40\u001b[0m - \u001b[33m\u001b[1m[(8, 11, 0)]  combined 3252 total symbols [(3252, 1599)]\u001b[0m\n"
     ]
    },
    {
     "name": "stderr",
     "output_type": "stream",
     "text": [
      " 68%|██████▊   | 81/120 [00:53<00:08,  4.72it/s]"
     ]
    },
    {
     "name": "stdout",
     "output_type": "stream",
     "text": [
      "\u001b[32m2020-04-11 17:30:42.268\u001b[0m | \u001b[34m\u001b[1mDEBUG   \u001b[0m | \u001b[36mlorapy.datafile.encoding\u001b[0m:\u001b[36mcompute_params\u001b[0m:\u001b[36m15\u001b[0m - \u001b[34m\u001b[1mcomputed samples per symbol: 1599 and packet length: 48369\u001b[0m\n",
      "\u001b[32m2020-04-11 17:30:42.347\u001b[0m | \u001b[1mINFO    \u001b[0m | \u001b[36mlorapy.datafile._base_file\u001b[0m:\u001b[36mload\u001b[0m:\u001b[36m61\u001b[0m - \u001b[1mloaded 5350254 samples from file\u001b[0m\n",
      "\u001b[32m2020-04-11 17:30:42.371\u001b[0m | \u001b[33m\u001b[1mWARNING \u001b[0m | \u001b[36m__main__\u001b[0m:\u001b[36m_combine_all_syms\u001b[0m:\u001b[36m40\u001b[0m - \u001b[33m\u001b[1m[(8, 11, 20)]  combined 3346 total symbols [(3346, 1599)]\u001b[0m\n"
     ]
    },
    {
     "name": "stderr",
     "output_type": "stream",
     "text": [
      " 68%|██████▊   | 82/120 [00:54<00:07,  4.88it/s]"
     ]
    },
    {
     "name": "stdout",
     "output_type": "stream",
     "text": [
      "\u001b[32m2020-04-11 17:30:42.456\u001b[0m | \u001b[34m\u001b[1mDEBUG   \u001b[0m | \u001b[36mlorapy.datafile.encoding\u001b[0m:\u001b[36mcompute_params\u001b[0m:\u001b[36m15\u001b[0m - \u001b[34m\u001b[1mcomputed samples per symbol: 1599 and packet length: 48369\u001b[0m\n",
      "\u001b[32m2020-04-11 17:30:42.537\u001b[0m | \u001b[1mINFO    \u001b[0m | \u001b[36mlorapy.datafile._base_file\u001b[0m:\u001b[36mload\u001b[0m:\u001b[36m61\u001b[0m - \u001b[1mloaded 5476575 samples from file\u001b[0m\n",
      "\u001b[32m2020-04-11 17:30:42.560\u001b[0m | \u001b[33m\u001b[1mWARNING \u001b[0m | \u001b[36m__main__\u001b[0m:\u001b[36m_combine_all_syms\u001b[0m:\u001b[36m40\u001b[0m - \u001b[33m\u001b[1m[(8, 11, 40)]  combined 3425 total symbols [(3425, 1599)]\u001b[0m\n"
     ]
    },
    {
     "name": "stderr",
     "output_type": "stream",
     "text": [
      " 69%|██████▉   | 83/120 [00:54<00:07,  4.97it/s]"
     ]
    },
    {
     "name": "stdout",
     "output_type": "stream",
     "text": [
      "\u001b[32m2020-04-11 17:30:42.648\u001b[0m | \u001b[34m\u001b[1mDEBUG   \u001b[0m | \u001b[36mlorapy.datafile.encoding\u001b[0m:\u001b[36mcompute_params\u001b[0m:\u001b[36m15\u001b[0m - \u001b[34m\u001b[1mcomputed samples per symbol: 1599 and packet length: 48369\u001b[0m\n",
      "\u001b[32m2020-04-11 17:30:42.817\u001b[0m | \u001b[1mINFO    \u001b[0m | \u001b[36mlorapy.datafile._base_file\u001b[0m:\u001b[36mload\u001b[0m:\u001b[36m61\u001b[0m - \u001b[1mloaded 6482346 samples from file\u001b[0m\n",
      "\u001b[32m2020-04-11 17:30:42.869\u001b[0m | \u001b[33m\u001b[1mWARNING \u001b[0m | \u001b[36m__main__\u001b[0m:\u001b[36m_combine_all_syms\u001b[0m:\u001b[36m40\u001b[0m - \u001b[33m\u001b[1m[(8, 11, 60)]  combined 4054 total symbols [(4054, 1599)]\u001b[0m\n"
     ]
    },
    {
     "name": "stderr",
     "output_type": "stream",
     "text": [
      " 70%|███████   | 84/120 [00:54<00:09,  3.87it/s]"
     ]
    },
    {
     "name": "stdout",
     "output_type": "stream",
     "text": [
      "\u001b[32m2020-04-11 17:30:43.042\u001b[0m | \u001b[34m\u001b[1mDEBUG   \u001b[0m | \u001b[36mlorapy.datafile.encoding\u001b[0m:\u001b[36mcompute_params\u001b[0m:\u001b[36m15\u001b[0m - \u001b[34m\u001b[1mcomputed samples per symbol: 1599 and packet length: 48369\u001b[0m\n",
      "\u001b[32m2020-04-11 17:30:43.127\u001b[0m | \u001b[1mINFO    \u001b[0m | \u001b[36mlorapy.datafile._base_file\u001b[0m:\u001b[36mload\u001b[0m:\u001b[36m61\u001b[0m - \u001b[1mloaded 5797974 samples from file\u001b[0m\n",
      "\u001b[32m2020-04-11 17:30:43.153\u001b[0m | \u001b[33m\u001b[1mWARNING \u001b[0m | \u001b[36m__main__\u001b[0m:\u001b[36m_combine_all_syms\u001b[0m:\u001b[36m40\u001b[0m - \u001b[33m\u001b[1m[(8, 11, 80)]  combined 3626 total symbols [(3626, 1599)]\u001b[0m\n"
     ]
    },
    {
     "name": "stderr",
     "output_type": "stream",
     "text": [
      " 71%|███████   | 85/120 [00:54<00:08,  4.13it/s]"
     ]
    },
    {
     "name": "stdout",
     "output_type": "stream",
     "text": [
      "\u001b[32m2020-04-11 17:30:43.244\u001b[0m | \u001b[34m\u001b[1mDEBUG   \u001b[0m | \u001b[36mlorapy.datafile.encoding\u001b[0m:\u001b[36mcompute_params\u001b[0m:\u001b[36m15\u001b[0m - \u001b[34m\u001b[1mcomputed samples per symbol: 1599 and packet length: 48369\u001b[0m\n",
      "\u001b[32m2020-04-11 17:30:43.389\u001b[0m | \u001b[1mINFO    \u001b[0m | \u001b[36mlorapy.datafile._base_file\u001b[0m:\u001b[36mload\u001b[0m:\u001b[36m61\u001b[0m - \u001b[1mloaded 5383833 samples from file\u001b[0m\n",
      "\u001b[32m2020-04-11 17:30:43.436\u001b[0m | \u001b[33m\u001b[1mWARNING \u001b[0m | \u001b[36m__main__\u001b[0m:\u001b[36m_combine_all_syms\u001b[0m:\u001b[36m40\u001b[0m - \u001b[33m\u001b[1m[(8, 11, 100)]  combined 3367 total symbols [(3367, 1599)]\u001b[0m\n"
     ]
    },
    {
     "name": "stderr",
     "output_type": "stream",
     "text": [
      " 72%|███████▏  | 86/120 [00:55<00:09,  3.69it/s]"
     ]
    },
    {
     "name": "stdout",
     "output_type": "stream",
     "text": [
      "\u001b[32m2020-04-11 17:30:43.588\u001b[0m | \u001b[34m\u001b[1mDEBUG   \u001b[0m | \u001b[36mlorapy.datafile.encoding\u001b[0m:\u001b[36mcompute_params\u001b[0m:\u001b[36m15\u001b[0m - \u001b[34m\u001b[1mcomputed samples per symbol: 3198 and packet length: 96739\u001b[0m\n",
      "\u001b[32m2020-04-11 17:30:43.669\u001b[0m | \u001b[1mINFO    \u001b[0m | \u001b[36mlorapy.datafile._base_file\u001b[0m:\u001b[36mload\u001b[0m:\u001b[36m61\u001b[0m - \u001b[1mloaded 5474976 samples from file\u001b[0m\n",
      "\u001b[32m2020-04-11 17:30:43.695\u001b[0m | \u001b[33m\u001b[1mWARNING \u001b[0m | \u001b[36m__main__\u001b[0m:\u001b[36m_combine_all_syms\u001b[0m:\u001b[36m40\u001b[0m - \u001b[33m\u001b[1m[(8, 12, 0)]  combined 1712 total symbols [(1712, 3198)]\u001b[0m\n"
     ]
    },
    {
     "name": "stderr",
     "output_type": "stream",
     "text": [
      " 74%|███████▍  | 89/120 [00:55<00:06,  4.77it/s]"
     ]
    },
    {
     "name": "stdout",
     "output_type": "stream",
     "text": [
      "\u001b[32m2020-04-11 17:30:43.782\u001b[0m | \u001b[34m\u001b[1mDEBUG   \u001b[0m | \u001b[36mlorapy.datafile.encoding\u001b[0m:\u001b[36mcompute_params\u001b[0m:\u001b[36m15\u001b[0m - \u001b[34m\u001b[1mcomputed samples per symbol: 3198 and packet length: 96739\u001b[0m\n",
      "\u001b[32m2020-04-11 17:30:43.865\u001b[0m | \u001b[1mINFO    \u001b[0m | \u001b[36mlorapy.datafile._base_file\u001b[0m:\u001b[36mload\u001b[0m:\u001b[36m61\u001b[0m - \u001b[1mloaded 5791578 samples from file\u001b[0m\n",
      "\u001b[32m2020-04-11 17:30:43.891\u001b[0m | \u001b[33m\u001b[1mWARNING \u001b[0m | \u001b[36m__main__\u001b[0m:\u001b[36m_combine_all_syms\u001b[0m:\u001b[36m40\u001b[0m - \u001b[33m\u001b[1m[(8, 12, 20)]  combined 1811 total symbols [(1811, 3198)]\u001b[0m\n"
     ]
    },
    {
     "name": "stderr",
     "output_type": "stream",
     "text": [
      " 75%|███████▌  | 90/120 [00:55<00:06,  4.84it/s]"
     ]
    },
    {
     "name": "stdout",
     "output_type": "stream",
     "text": [
      "\u001b[32m2020-04-11 17:30:43.981\u001b[0m | \u001b[34m\u001b[1mDEBUG   \u001b[0m | \u001b[36mlorapy.datafile.encoding\u001b[0m:\u001b[36mcompute_params\u001b[0m:\u001b[36m15\u001b[0m - \u001b[34m\u001b[1mcomputed samples per symbol: 3198 and packet length: 96739\u001b[0m\n",
      "\u001b[32m2020-04-11 17:30:44.076\u001b[0m | \u001b[1mINFO    \u001b[0m | \u001b[36mlorapy.datafile._base_file\u001b[0m:\u001b[36mload\u001b[0m:\u001b[36m61\u001b[0m - \u001b[1mloaded 6405594 samples from file\u001b[0m\n",
      "\u001b[32m2020-04-11 17:30:44.103\u001b[0m | \u001b[33m\u001b[1mWARNING \u001b[0m | \u001b[36m__main__\u001b[0m:\u001b[36m_combine_all_syms\u001b[0m:\u001b[36m40\u001b[0m - \u001b[33m\u001b[1m[(8, 12, 40)]  combined 2003 total symbols [(2003, 3198)]\u001b[0m\n"
     ]
    },
    {
     "name": "stderr",
     "output_type": "stream",
     "text": [
      " 76%|███████▌  | 91/120 [00:55<00:06,  4.75it/s]"
     ]
    },
    {
     "name": "stdout",
     "output_type": "stream",
     "text": [
      "\u001b[32m2020-04-11 17:30:44.202\u001b[0m | \u001b[34m\u001b[1mDEBUG   \u001b[0m | \u001b[36mlorapy.datafile.encoding\u001b[0m:\u001b[36mcompute_params\u001b[0m:\u001b[36m15\u001b[0m - \u001b[34m\u001b[1mcomputed samples per symbol: 3198 and packet length: 96739\u001b[0m\n",
      "\u001b[32m2020-04-11 17:30:44.294\u001b[0m | \u001b[1mINFO    \u001b[0m | \u001b[36mlorapy.datafile._base_file\u001b[0m:\u001b[36mload\u001b[0m:\u001b[36m61\u001b[0m - \u001b[1mloaded 6268080 samples from file\u001b[0m\n",
      "\u001b[32m2020-04-11 17:30:44.322\u001b[0m | \u001b[33m\u001b[1mWARNING \u001b[0m | \u001b[36m__main__\u001b[0m:\u001b[36m_combine_all_syms\u001b[0m:\u001b[36m40\u001b[0m - \u001b[33m\u001b[1m[(8, 12, 60)]  combined 1960 total symbols [(1960, 3198)]\u001b[0m\n"
     ]
    },
    {
     "name": "stderr",
     "output_type": "stream",
     "text": [
      " 77%|███████▋  | 92/120 [00:56<00:05,  4.69it/s]"
     ]
    },
    {
     "name": "stdout",
     "output_type": "stream",
     "text": [
      "\u001b[32m2020-04-11 17:30:44.421\u001b[0m | \u001b[34m\u001b[1mDEBUG   \u001b[0m | \u001b[36mlorapy.datafile.encoding\u001b[0m:\u001b[36mcompute_params\u001b[0m:\u001b[36m15\u001b[0m - \u001b[34m\u001b[1mcomputed samples per symbol: 3198 and packet length: 96739\u001b[0m\n",
      "\u001b[32m2020-04-11 17:30:44.514\u001b[0m | \u001b[1mINFO    \u001b[0m | \u001b[36mlorapy.datafile._base_file\u001b[0m:\u001b[36mload\u001b[0m:\u001b[36m61\u001b[0m - \u001b[1mloaded 6098586 samples from file\u001b[0m\n",
      "\u001b[32m2020-04-11 17:30:44.541\u001b[0m | \u001b[33m\u001b[1mWARNING \u001b[0m | \u001b[36m__main__\u001b[0m:\u001b[36m_combine_all_syms\u001b[0m:\u001b[36m40\u001b[0m - \u001b[33m\u001b[1m[(8, 12, 80)]  combined 1907 total symbols [(1907, 3198)]\u001b[0m\n"
     ]
    },
    {
     "name": "stderr",
     "output_type": "stream",
     "text": [
      " 78%|███████▊  | 93/120 [00:56<00:05,  4.67it/s]"
     ]
    },
    {
     "name": "stdout",
     "output_type": "stream",
     "text": [
      "\u001b[32m2020-04-11 17:30:44.636\u001b[0m | \u001b[34m\u001b[1mDEBUG   \u001b[0m | \u001b[36mlorapy.datafile.encoding\u001b[0m:\u001b[36mcompute_params\u001b[0m:\u001b[36m15\u001b[0m - \u001b[34m\u001b[1mcomputed samples per symbol: 3198 and packet length: 96739\u001b[0m\n",
      "\u001b[32m2020-04-11 17:30:44.768\u001b[0m | \u001b[1mINFO    \u001b[0m | \u001b[36mlorapy.datafile._base_file\u001b[0m:\u001b[36mload\u001b[0m:\u001b[36m61\u001b[0m - \u001b[1mloaded 8375562 samples from file\u001b[0m\n",
      "\u001b[32m2020-04-11 17:30:44.804\u001b[0m | \u001b[33m\u001b[1mWARNING \u001b[0m | \u001b[36m__main__\u001b[0m:\u001b[36m_combine_all_syms\u001b[0m:\u001b[36m40\u001b[0m - \u001b[33m\u001b[1m[(8, 12, 100)]  combined 2619 total symbols [(2619, 3198)]\u001b[0m\n"
     ]
    },
    {
     "name": "stderr",
     "output_type": "stream",
     "text": [
      " 78%|███████▊  | 94/120 [00:56<00:06,  4.16it/s]"
     ]
    },
    {
     "name": "stdout",
     "output_type": "stream",
     "text": [
      "\u001b[32m2020-04-11 17:30:44.944\u001b[0m | \u001b[34m\u001b[1mDEBUG   \u001b[0m | \u001b[36mlorapy.datafile.encoding\u001b[0m:\u001b[36mcompute_params\u001b[0m:\u001b[36m15\u001b[0m - \u001b[34m\u001b[1mcomputed samples per symbol: 400 and packet length: 12100\u001b[0m\n",
      "\u001b[32m2020-04-11 17:30:45.052\u001b[0m | \u001b[1mINFO    \u001b[0m | \u001b[36mlorapy.datafile._base_file\u001b[0m:\u001b[36mload\u001b[0m:\u001b[36m61\u001b[0m - \u001b[1mloaded 3821200 samples from file\u001b[0m\n",
      "\u001b[32m2020-04-11 17:30:45.085\u001b[0m | \u001b[33m\u001b[1mWARNING \u001b[0m | \u001b[36m__main__\u001b[0m:\u001b[36m_combine_all_syms\u001b[0m:\u001b[36m40\u001b[0m - \u001b[33m\u001b[1m[(9, 10, 0)]  combined 9553 total symbols [(9553, 400)]\u001b[0m\n"
     ]
    },
    {
     "name": "stderr",
     "output_type": "stream",
     "text": [
      " 81%|████████  | 97/120 [00:56<00:04,  5.15it/s]"
     ]
    },
    {
     "name": "stdout",
     "output_type": "stream",
     "text": [
      "\u001b[32m2020-04-11 17:30:45.200\u001b[0m | \u001b[34m\u001b[1mDEBUG   \u001b[0m | \u001b[36mlorapy.datafile.encoding\u001b[0m:\u001b[36mcompute_params\u001b[0m:\u001b[36m15\u001b[0m - \u001b[34m\u001b[1mcomputed samples per symbol: 400 and packet length: 12100\u001b[0m\n",
      "\u001b[32m2020-04-11 17:30:45.288\u001b[0m | \u001b[1mINFO    \u001b[0m | \u001b[36mlorapy.datafile._base_file\u001b[0m:\u001b[36mload\u001b[0m:\u001b[36m61\u001b[0m - \u001b[1mloaded 2956400 samples from file\u001b[0m\n",
      "\u001b[32m2020-04-11 17:30:45.313\u001b[0m | \u001b[33m\u001b[1mWARNING \u001b[0m | \u001b[36m__main__\u001b[0m:\u001b[36m_combine_all_syms\u001b[0m:\u001b[36m40\u001b[0m - \u001b[33m\u001b[1m[(9, 10, 20)]  combined 7391 total symbols [(7391, 400)]\u001b[0m\n"
     ]
    },
    {
     "name": "stderr",
     "output_type": "stream",
     "text": [
      " 82%|████████▏ | 98/120 [00:57<00:04,  5.05it/s]"
     ]
    },
    {
     "name": "stdout",
     "output_type": "stream",
     "text": [
      "\u001b[32m2020-04-11 17:30:45.406\u001b[0m | \u001b[34m\u001b[1mDEBUG   \u001b[0m | \u001b[36mlorapy.datafile.encoding\u001b[0m:\u001b[36mcompute_params\u001b[0m:\u001b[36m15\u001b[0m - \u001b[34m\u001b[1mcomputed samples per symbol: 400 and packet length: 12100\u001b[0m\n",
      "\u001b[32m2020-04-11 17:30:45.528\u001b[0m | \u001b[1mINFO    \u001b[0m | \u001b[36mlorapy.datafile._base_file\u001b[0m:\u001b[36mload\u001b[0m:\u001b[36m61\u001b[0m - \u001b[1mloaded 4317600 samples from file\u001b[0m\n",
      "\u001b[32m2020-04-11 17:30:45.566\u001b[0m | \u001b[33m\u001b[1mWARNING \u001b[0m | \u001b[36m__main__\u001b[0m:\u001b[36m_combine_all_syms\u001b[0m:\u001b[36m40\u001b[0m - \u001b[33m\u001b[1m[(9, 10, 40)]  combined 10794 total symbols [(10794, 400)]\u001b[0m\n"
     ]
    },
    {
     "name": "stderr",
     "output_type": "stream",
     "text": [
      " 82%|████████▎ | 99/120 [00:57<00:04,  4.42it/s]"
     ]
    },
    {
     "name": "stdout",
     "output_type": "stream",
     "text": [
      "\u001b[32m2020-04-11 17:30:45.699\u001b[0m | \u001b[34m\u001b[1mDEBUG   \u001b[0m | \u001b[36mlorapy.datafile.encoding\u001b[0m:\u001b[36mcompute_params\u001b[0m:\u001b[36m15\u001b[0m - \u001b[34m\u001b[1mcomputed samples per symbol: 400 and packet length: 12100\u001b[0m\n",
      "\u001b[32m2020-04-11 17:30:45.807\u001b[0m | \u001b[1mINFO    \u001b[0m | \u001b[36mlorapy.datafile._base_file\u001b[0m:\u001b[36mload\u001b[0m:\u001b[36m61\u001b[0m - \u001b[1mloaded 3862800 samples from file\u001b[0m\n",
      "\u001b[32m2020-04-11 17:30:45.838\u001b[0m | \u001b[33m\u001b[1mWARNING \u001b[0m | \u001b[36m__main__\u001b[0m:\u001b[36m_combine_all_syms\u001b[0m:\u001b[36m40\u001b[0m - \u001b[33m\u001b[1m[(9, 10, 60)]  combined 9657 total symbols [(9657, 400)]\u001b[0m\n"
     ]
    },
    {
     "name": "stderr",
     "output_type": "stream",
     "text": [
      " 83%|████████▎ | 100/120 [00:57<00:05,  3.92it/s]"
     ]
    },
    {
     "name": "stdout",
     "output_type": "stream",
     "text": [
      "\u001b[32m2020-04-11 17:30:46.021\u001b[0m | \u001b[34m\u001b[1mDEBUG   \u001b[0m | \u001b[36mlorapy.datafile.encoding\u001b[0m:\u001b[36mcompute_params\u001b[0m:\u001b[36m15\u001b[0m - \u001b[34m\u001b[1mcomputed samples per symbol: 400 and packet length: 12100\u001b[0m\n",
      "\u001b[32m2020-04-11 17:30:46.167\u001b[0m | \u001b[1mINFO    \u001b[0m | \u001b[36mlorapy.datafile._base_file\u001b[0m:\u001b[36mload\u001b[0m:\u001b[36m61\u001b[0m - \u001b[1mloaded 3610800 samples from file\u001b[0m\n",
      "\u001b[32m2020-04-11 17:30:46.197\u001b[0m | \u001b[33m\u001b[1mWARNING \u001b[0m | \u001b[36m__main__\u001b[0m:\u001b[36m_combine_all_syms\u001b[0m:\u001b[36m40\u001b[0m - \u001b[33m\u001b[1m[(9, 10, 80)]  combined 9027 total symbols [(9027, 400)]\u001b[0m\n"
     ]
    },
    {
     "name": "stderr",
     "output_type": "stream",
     "text": [
      " 84%|████████▍ | 101/120 [00:58<00:05,  3.56it/s]"
     ]
    },
    {
     "name": "stdout",
     "output_type": "stream",
     "text": [
      "\u001b[32m2020-04-11 17:30:46.364\u001b[0m | \u001b[34m\u001b[1mDEBUG   \u001b[0m | \u001b[36mlorapy.datafile.encoding\u001b[0m:\u001b[36mcompute_params\u001b[0m:\u001b[36m15\u001b[0m - \u001b[34m\u001b[1mcomputed samples per symbol: 400 and packet length: 12100\u001b[0m\n",
      "\u001b[32m2020-04-11 17:30:46.452\u001b[0m | \u001b[1mINFO    \u001b[0m | \u001b[36mlorapy.datafile._base_file\u001b[0m:\u001b[36mload\u001b[0m:\u001b[36m61\u001b[0m - \u001b[1mloaded 2995600 samples from file\u001b[0m\n",
      "\u001b[32m2020-04-11 17:30:46.458\u001b[0m | \u001b[33m\u001b[1mWARNING \u001b[0m | \u001b[36m__main__\u001b[0m:\u001b[36m_combine_all_syms\u001b[0m:\u001b[36m40\u001b[0m - \u001b[33m\u001b[1m[(9, 10, 100)]  combined 7489 total symbols [(7489, 400)]\u001b[0m\n"
     ]
    },
    {
     "name": "stderr",
     "output_type": "stream",
     "text": [
      " 85%|████████▌ | 102/120 [00:58<00:04,  4.09it/s]"
     ]
    },
    {
     "name": "stdout",
     "output_type": "stream",
     "text": [
      "\u001b[32m2020-04-11 17:30:46.528\u001b[0m | \u001b[34m\u001b[1mDEBUG   \u001b[0m | \u001b[36mlorapy.datafile.encoding\u001b[0m:\u001b[36mcompute_params\u001b[0m:\u001b[36m15\u001b[0m - \u001b[34m\u001b[1mcomputed samples per symbol: 800 and packet length: 24200\u001b[0m\n",
      "\u001b[32m2020-04-11 17:30:46.643\u001b[0m | \u001b[1mINFO    \u001b[0m | \u001b[36mlorapy.datafile._base_file\u001b[0m:\u001b[36mload\u001b[0m:\u001b[36m61\u001b[0m - \u001b[1mloaded 4092000 samples from file\u001b[0m\n",
      "\u001b[32m2020-04-11 17:30:46.679\u001b[0m | \u001b[33m\u001b[1mWARNING \u001b[0m | \u001b[36m__main__\u001b[0m:\u001b[36m_combine_all_syms\u001b[0m:\u001b[36m40\u001b[0m - \u001b[33m\u001b[1m[(9, 11, 0)]  combined 5115 total symbols [(5115, 800)]\u001b[0m\n"
     ]
    },
    {
     "name": "stderr",
     "output_type": "stream",
     "text": [
      " 88%|████████▊ | 105/120 [00:58<00:03,  4.65it/s]"
     ]
    },
    {
     "name": "stdout",
     "output_type": "stream",
     "text": [
      "\u001b[32m2020-04-11 17:30:46.959\u001b[0m | \u001b[34m\u001b[1mDEBUG   \u001b[0m | \u001b[36mlorapy.datafile.encoding\u001b[0m:\u001b[36mcompute_params\u001b[0m:\u001b[36m15\u001b[0m - \u001b[34m\u001b[1mcomputed samples per symbol: 800 and packet length: 24200\u001b[0m\n",
      "\u001b[32m2020-04-11 17:30:47.023\u001b[0m | \u001b[1mINFO    \u001b[0m | \u001b[36mlorapy.datafile._base_file\u001b[0m:\u001b[36mload\u001b[0m:\u001b[36m61\u001b[0m - \u001b[1mloaded 4745600 samples from file\u001b[0m\n",
      "\u001b[32m2020-04-11 17:30:47.046\u001b[0m | \u001b[33m\u001b[1mWARNING \u001b[0m | \u001b[36m__main__\u001b[0m:\u001b[36m_combine_all_syms\u001b[0m:\u001b[36m40\u001b[0m - \u001b[33m\u001b[1m[(9, 11, 20)]  combined 5932 total symbols [(5932, 800)]\u001b[0m\n"
     ]
    },
    {
     "name": "stderr",
     "output_type": "stream",
     "text": [
      " 88%|████████▊ | 106/120 [00:58<00:02,  4.68it/s]"
     ]
    },
    {
     "name": "stdout",
     "output_type": "stream",
     "text": [
      "\u001b[32m2020-04-11 17:30:47.170\u001b[0m | \u001b[34m\u001b[1mDEBUG   \u001b[0m | \u001b[36mlorapy.datafile.encoding\u001b[0m:\u001b[36mcompute_params\u001b[0m:\u001b[36m15\u001b[0m - \u001b[34m\u001b[1mcomputed samples per symbol: 800 and packet length: 24200\u001b[0m\n",
      "\u001b[32m2020-04-11 17:30:47.245\u001b[0m | \u001b[1mINFO    \u001b[0m | \u001b[36mlorapy.datafile._base_file\u001b[0m:\u001b[36mload\u001b[0m:\u001b[36m61\u001b[0m - \u001b[1mloaded 5608800 samples from file\u001b[0m\n",
      "\u001b[32m2020-04-11 17:30:47.270\u001b[0m | \u001b[33m\u001b[1mWARNING \u001b[0m | \u001b[36m__main__\u001b[0m:\u001b[36m_combine_all_syms\u001b[0m:\u001b[36m40\u001b[0m - \u001b[33m\u001b[1m[(9, 11, 40)]  combined 7011 total symbols [(7011, 800)]\u001b[0m\n"
     ]
    },
    {
     "name": "stderr",
     "output_type": "stream",
     "text": [
      " 89%|████████▉ | 107/120 [00:59<00:02,  4.72it/s]"
     ]
    },
    {
     "name": "stdout",
     "output_type": "stream",
     "text": [
      "\u001b[32m2020-04-11 17:30:47.378\u001b[0m | \u001b[34m\u001b[1mDEBUG   \u001b[0m | \u001b[36mlorapy.datafile.encoding\u001b[0m:\u001b[36mcompute_params\u001b[0m:\u001b[36m15\u001b[0m - \u001b[34m\u001b[1mcomputed samples per symbol: 800 and packet length: 24200\u001b[0m\n",
      "\u001b[32m2020-04-11 17:30:47.473\u001b[0m | \u001b[1mINFO    \u001b[0m | \u001b[36mlorapy.datafile._base_file\u001b[0m:\u001b[36mload\u001b[0m:\u001b[36m61\u001b[0m - \u001b[1mloaded 4936000 samples from file\u001b[0m\n",
      "\u001b[32m2020-04-11 17:30:47.494\u001b[0m | \u001b[33m\u001b[1mWARNING \u001b[0m | \u001b[36m__main__\u001b[0m:\u001b[36m_combine_all_syms\u001b[0m:\u001b[36m40\u001b[0m - \u001b[33m\u001b[1m[(9, 11, 60)]  combined 6170 total symbols [(6170, 800)]\u001b[0m\n"
     ]
    },
    {
     "name": "stderr",
     "output_type": "stream",
     "text": [
      " 90%|█████████ | 108/120 [00:59<00:02,  4.53it/s]"
     ]
    },
    {
     "name": "stdout",
     "output_type": "stream",
     "text": [
      "\u001b[32m2020-04-11 17:30:47.618\u001b[0m | \u001b[34m\u001b[1mDEBUG   \u001b[0m | \u001b[36mlorapy.datafile.encoding\u001b[0m:\u001b[36mcompute_params\u001b[0m:\u001b[36m15\u001b[0m - \u001b[34m\u001b[1mcomputed samples per symbol: 800 and packet length: 24200\u001b[0m\n",
      "\u001b[32m2020-04-11 17:30:47.801\u001b[0m | \u001b[1mINFO    \u001b[0m | \u001b[36mlorapy.datafile._base_file\u001b[0m:\u001b[36mload\u001b[0m:\u001b[36m61\u001b[0m - \u001b[1mloaded 3802400 samples from file\u001b[0m\n",
      "\u001b[32m2020-04-11 17:30:47.832\u001b[0m | \u001b[33m\u001b[1mWARNING \u001b[0m | \u001b[36m__main__\u001b[0m:\u001b[36m_combine_all_syms\u001b[0m:\u001b[36m40\u001b[0m - \u001b[33m\u001b[1m[(9, 11, 80)]  combined 4753 total symbols [(4753, 800)]\u001b[0m\n"
     ]
    },
    {
     "name": "stderr",
     "output_type": "stream",
     "text": [
      " 91%|█████████ | 109/120 [00:59<00:03,  3.50it/s]"
     ]
    },
    {
     "name": "stdout",
     "output_type": "stream",
     "text": [
      "\u001b[32m2020-04-11 17:30:48.057\u001b[0m | \u001b[34m\u001b[1mDEBUG   \u001b[0m | \u001b[36mlorapy.datafile.encoding\u001b[0m:\u001b[36mcompute_params\u001b[0m:\u001b[36m15\u001b[0m - \u001b[34m\u001b[1mcomputed samples per symbol: 800 and packet length: 24200\u001b[0m\n",
      "\u001b[32m2020-04-11 17:30:48.289\u001b[0m | \u001b[1mINFO    \u001b[0m | \u001b[36mlorapy.datafile._base_file\u001b[0m:\u001b[36mload\u001b[0m:\u001b[36m61\u001b[0m - \u001b[1mloaded 5036000 samples from file\u001b[0m\n",
      "\u001b[32m2020-04-11 17:30:48.330\u001b[0m | \u001b[33m\u001b[1mWARNING \u001b[0m | \u001b[36m__main__\u001b[0m:\u001b[36m_combine_all_syms\u001b[0m:\u001b[36m40\u001b[0m - \u001b[33m\u001b[1m[(9, 11, 100)]  combined 6295 total symbols [(6295, 800)]\u001b[0m\n"
     ]
    },
    {
     "name": "stderr",
     "output_type": "stream",
     "text": [
      " 92%|█████████▏| 110/120 [01:00<00:03,  2.66it/s]"
     ]
    },
    {
     "name": "stdout",
     "output_type": "stream",
     "text": [
      "\u001b[32m2020-04-11 17:30:48.647\u001b[0m | \u001b[34m\u001b[1mDEBUG   \u001b[0m | \u001b[36mlorapy.datafile.encoding\u001b[0m:\u001b[36mcompute_params\u001b[0m:\u001b[36m15\u001b[0m - \u001b[34m\u001b[1mcomputed samples per symbol: 1599 and packet length: 48369\u001b[0m\n",
      "\u001b[32m2020-04-11 17:30:48.844\u001b[0m | \u001b[1mINFO    \u001b[0m | \u001b[36mlorapy.datafile._base_file\u001b[0m:\u001b[36mload\u001b[0m:\u001b[36m61\u001b[0m - \u001b[1mloaded 4374864 samples from file\u001b[0m\n",
      "\u001b[32m2020-04-11 17:30:48.879\u001b[0m | \u001b[33m\u001b[1mWARNING \u001b[0m | \u001b[36m__main__\u001b[0m:\u001b[36m_combine_all_syms\u001b[0m:\u001b[36m40\u001b[0m - \u001b[33m\u001b[1m[(9, 12, 0)]  combined 2736 total symbols [(2736, 1599)]\u001b[0m\n"
     ]
    },
    {
     "name": "stderr",
     "output_type": "stream",
     "text": [
      " 94%|█████████▍| 113/120 [01:00<00:02,  3.29it/s]"
     ]
    },
    {
     "name": "stdout",
     "output_type": "stream",
     "text": [
      "\u001b[32m2020-04-11 17:30:49.054\u001b[0m | \u001b[34m\u001b[1mDEBUG   \u001b[0m | \u001b[36mlorapy.datafile.encoding\u001b[0m:\u001b[36mcompute_params\u001b[0m:\u001b[36m15\u001b[0m - \u001b[34m\u001b[1mcomputed samples per symbol: 1599 and packet length: 48369\u001b[0m\n",
      "\u001b[32m2020-04-11 17:30:49.119\u001b[0m | \u001b[1mINFO    \u001b[0m | \u001b[36mlorapy.datafile._base_file\u001b[0m:\u001b[36mload\u001b[0m:\u001b[36m61\u001b[0m - \u001b[1mloaded 4544358 samples from file\u001b[0m\n",
      "\u001b[32m2020-04-11 17:30:49.139\u001b[0m | \u001b[33m\u001b[1mWARNING \u001b[0m | \u001b[36m__main__\u001b[0m:\u001b[36m_combine_all_syms\u001b[0m:\u001b[36m40\u001b[0m - \u001b[33m\u001b[1m[(9, 12, 20)]  combined 2842 total symbols [(2842, 1599)]\u001b[0m\n"
     ]
    },
    {
     "name": "stderr",
     "output_type": "stream",
     "text": [
      " 95%|█████████▌| 114/120 [01:00<00:01,  3.85it/s]"
     ]
    },
    {
     "name": "stdout",
     "output_type": "stream",
     "text": [
      "\u001b[32m2020-04-11 17:30:49.210\u001b[0m | \u001b[34m\u001b[1mDEBUG   \u001b[0m | \u001b[36mlorapy.datafile.encoding\u001b[0m:\u001b[36mcompute_params\u001b[0m:\u001b[36m15\u001b[0m - \u001b[34m\u001b[1mcomputed samples per symbol: 1599 and packet length: 48369\u001b[0m\n",
      "\u001b[32m2020-04-11 17:30:49.477\u001b[0m | \u001b[1mINFO    \u001b[0m | \u001b[36mlorapy.datafile._base_file\u001b[0m:\u001b[36mload\u001b[0m:\u001b[36m61\u001b[0m - \u001b[1mloaded 6376812 samples from file\u001b[0m\n",
      "\u001b[32m2020-04-11 17:30:49.561\u001b[0m | \u001b[33m\u001b[1mWARNING \u001b[0m | \u001b[36m__main__\u001b[0m:\u001b[36m_combine_all_syms\u001b[0m:\u001b[36m40\u001b[0m - \u001b[33m\u001b[1m[(9, 12, 40)]  combined 3988 total symbols [(3988, 1599)]\u001b[0m\n"
     ]
    },
    {
     "name": "stderr",
     "output_type": "stream",
     "text": [
      " 96%|█████████▌| 115/120 [01:01<00:02,  2.42it/s]"
     ]
    },
    {
     "name": "stdout",
     "output_type": "stream",
     "text": [
      "\u001b[32m2020-04-11 17:30:49.982\u001b[0m | \u001b[34m\u001b[1mDEBUG   \u001b[0m | \u001b[36mlorapy.datafile.encoding\u001b[0m:\u001b[36mcompute_params\u001b[0m:\u001b[36m15\u001b[0m - \u001b[34m\u001b[1mcomputed samples per symbol: 1599 and packet length: 48369\u001b[0m\n",
      "\u001b[32m2020-04-11 17:30:50.050\u001b[0m | \u001b[1mINFO    \u001b[0m | \u001b[36mlorapy.datafile._base_file\u001b[0m:\u001b[36mload\u001b[0m:\u001b[36m61\u001b[0m - \u001b[1mloaded 4884945 samples from file\u001b[0m\n",
      "\u001b[32m2020-04-11 17:30:50.073\u001b[0m | \u001b[33m\u001b[1mWARNING \u001b[0m | \u001b[36m__main__\u001b[0m:\u001b[36m_combine_all_syms\u001b[0m:\u001b[36m40\u001b[0m - \u001b[33m\u001b[1m[(9, 12, 60)]  combined 3055 total symbols [(3055, 1599)]\u001b[0m\n"
     ]
    },
    {
     "name": "stderr",
     "output_type": "stream",
     "text": [
      " 97%|█████████▋| 116/120 [01:01<00:01,  2.79it/s]"
     ]
    },
    {
     "name": "stdout",
     "output_type": "stream",
     "text": [
      "\u001b[32m2020-04-11 17:30:50.208\u001b[0m | \u001b[34m\u001b[1mDEBUG   \u001b[0m | \u001b[36mlorapy.datafile.encoding\u001b[0m:\u001b[36mcompute_params\u001b[0m:\u001b[36m15\u001b[0m - \u001b[34m\u001b[1mcomputed samples per symbol: 1599 and packet length: 48369\u001b[0m\n",
      "\u001b[32m2020-04-11 17:30:50.270\u001b[0m | \u001b[1mINFO    \u001b[0m | \u001b[36mlorapy.datafile._base_file\u001b[0m:\u001b[36mload\u001b[0m:\u001b[36m61\u001b[0m - \u001b[1mloaded 4557150 samples from file\u001b[0m\n",
      "\u001b[32m2020-04-11 17:30:50.290\u001b[0m | \u001b[33m\u001b[1mWARNING \u001b[0m | \u001b[36m__main__\u001b[0m:\u001b[36m_combine_all_syms\u001b[0m:\u001b[36m40\u001b[0m - \u001b[33m\u001b[1m[(9, 12, 80)]  combined 2850 total symbols [(2850, 1599)]\u001b[0m\n"
     ]
    },
    {
     "name": "stderr",
     "output_type": "stream",
     "text": [
      " 98%|█████████▊| 117/120 [01:02<00:00,  3.17it/s]"
     ]
    },
    {
     "name": "stdout",
     "output_type": "stream",
     "text": [
      "\u001b[32m2020-04-11 17:30:50.426\u001b[0m | \u001b[34m\u001b[1mDEBUG   \u001b[0m | \u001b[36mlorapy.datafile.encoding\u001b[0m:\u001b[36mcompute_params\u001b[0m:\u001b[36m15\u001b[0m - \u001b[34m\u001b[1mcomputed samples per symbol: 1599 and packet length: 48369\u001b[0m\n",
      "\u001b[32m2020-04-11 17:30:50.744\u001b[0m | \u001b[1mINFO    \u001b[0m | \u001b[36mlorapy.datafile._base_file\u001b[0m:\u001b[36mload\u001b[0m:\u001b[36m61\u001b[0m - \u001b[1mloaded 7948629 samples from file\u001b[0m\n",
      "\u001b[32m2020-04-11 17:30:50.866\u001b[0m | \u001b[33m\u001b[1mWARNING \u001b[0m | \u001b[36m__main__\u001b[0m:\u001b[36m_combine_all_syms\u001b[0m:\u001b[36m40\u001b[0m - \u001b[33m\u001b[1m[(9, 12, 100)]  combined 4971 total symbols [(4971, 1599)]\u001b[0m\n"
     ]
    },
    {
     "name": "stderr",
     "output_type": "stream",
     "text": [
      "100%|██████████| 120/120 [01:03<00:00,  1.90it/s]\n"
     ]
    }
   ],
   "source": [
    "for params in tqdm.tqdm(param_list):\n",
    "    file_list = symloader.filter(*params)\n",
    "    if len(file_list) == 0:\n",
    "        continue\n",
    "    \n",
    "    combine_and_save(file_list, params, AGG_SYMBOL_DIR)\n"
   ]
  },
  {
   "cell_type": "code",
   "execution_count": null,
   "metadata": {},
   "outputs": [],
   "source": []
  },
  {
   "cell_type": "code",
   "execution_count": null,
   "metadata": {},
   "outputs": [],
   "source": []
  },
  {
   "cell_type": "code",
   "execution_count": null,
   "metadata": {},
   "outputs": [],
   "source": []
  }
 ],
 "metadata": {
  "kernelspec": {
   "display_name": "Python 3",
   "language": "python",
   "name": "python3"
  },
  "language_info": {
   "codemirror_mode": {
    "name": "ipython",
    "version": 3
   },
   "file_extension": ".py",
   "mimetype": "text/x-python",
   "name": "python",
   "nbconvert_exporter": "python",
   "pygments_lexer": "ipython3",
   "version": "3.7.6"
  }
 },
 "nbformat": 4,
 "nbformat_minor": 4
}
