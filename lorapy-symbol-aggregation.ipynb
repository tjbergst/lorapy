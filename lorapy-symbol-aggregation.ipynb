{
 "cells": [
  {
   "cell_type": "markdown",
   "metadata": {},
   "source": [
    "# lorapy symbol aggregation"
   ]
  },
  {
   "cell_type": "code",
   "execution_count": 1,
   "metadata": {},
   "outputs": [],
   "source": [
    "%load_ext autoreload\n",
    "%autoreload 2\n",
    "\n",
    "import pathlib\n",
    "\n",
    "import os, sys\n",
    "from loguru import logger\n",
    "logger.remove(None)\n",
    "logger.add(sys.stdout, colorize=True)\n",
    "\n",
    "import numpy as np\n",
    "import pandas as pd\n",
    "from six.moves import cPickle\n",
    "import tqdm\n",
    "from tqdm import tqdm_notebook\n",
    "import warnings \n",
    "import scipy.signal as spsig\n",
    "import multiprocessing\n",
    "from functools import partial \n",
    "\n",
    "import matplotlib.pyplot as plt \n",
    "# plt.style.use('dark_background')\n",
    "%matplotlib inline"
   ]
  },
  {
   "cell_type": "code",
   "execution_count": 2,
   "metadata": {},
   "outputs": [],
   "source": [
    "import lorapy"
   ]
  },
  {
   "cell_type": "markdown",
   "metadata": {},
   "source": [
    "## setup "
   ]
  },
  {
   "cell_type": "code",
   "execution_count": 3,
   "metadata": {},
   "outputs": [],
   "source": [
    "_BASE_DATA_DIR = pathlib.Path('../data')\n",
    "\n",
    "BENCHTOP_DATA_DIR = _BASE_DATA_DIR.joinpath('lora-benchtop-recording')\n",
    "DOTP_DATA_DIR = _BASE_DATA_DIR.joinpath('symbol-ref')\n",
    "AGG_SYMBOL_DIR = _BASE_DATA_DIR.joinpath('aggregated-symbols')\n",
    "PROC_SYMBOL_DIR = _BASE_DATA_DIR.joinpath('processed-symbols')\n",
    "FILT_SYMBOL_DIR = _BASE_DATA_DIR.joinpath('filtered-symbols')"
   ]
  },
  {
   "cell_type": "markdown",
   "metadata": {},
   "source": [
    "# load"
   ]
  },
  {
   "cell_type": "code",
   "execution_count": 46,
   "metadata": {},
   "outputs": [],
   "source": [
    "import random\n",
    "import warnings \n",
    "\n",
    "rand = lambda mx: random.randint(0, mx - 1)\n",
    "\n",
    "def _load_matching_dotp(bw: int, sf: int):\n",
    "    return ploader.filter(bw=bw, sf=sf)[0]\n",
    "\n",
    "\n",
    "def _plot_check(filtered_syms, num=20):\n",
    "    with warnings.catch_warnings():\n",
    "        warnings.simplefilter(\"ignore\")\n",
    "        \n",
    "        fig, ax = plt.subplots(num, figsize=(14, 10))\n",
    "\n",
    "        for idx in range(num):\n",
    "            ax[idx].plot(filtered_syms[rand(filtered_syms.shape[0])])\n",
    "            \n",
    "            \n",
    "def _format_output_path(out_dir, params): \n",
    "    bw, sf, att = params\n",
    "    filename = f'lora_BW{bw}_SF{sf}_915MHz_20ksps_Att{att}_combined.p'\n",
    "    \n",
    "    out_path = out_dir.joinpath(filename)\n",
    "    return out_path\n",
    "\n",
    "\n",
    "def _save_symbols(data, out_dir, params):\n",
    "    out_path = _format_output_path(out_dir, params)\n",
    "    \n",
    "    with out_path.open('wb') as outfile:\n",
    "        cPickle.dump(data, outfile)\n",
    "\n",
    "def _combine_all_syms(file_list, params):\n",
    "    combined_syms = np.vstack([\n",
    "        file.load().to_signal().data\n",
    "        for file in file_list\n",
    "    ])\n",
    "    \n",
    "    logger.warning(f'[{params}]  combined {combined_syms.shape[0]} total symbols [{combined_syms.shape}]')\n",
    "    return combined_syms\n",
    "\n",
    "def combine_and_save(file_list, params, out_dir):\n",
    "    combined_syms = _combine_all_syms(file_list, params)\n",
    "    _save_symbols(combined_syms, out_dir, params)"
   ]
  },
  {
   "cell_type": "markdown",
   "metadata": {},
   "source": [
    "## files"
   ]
  },
  {
   "cell_type": "code",
   "execution_count": 7,
   "metadata": {
    "scrolled": true
   },
   "outputs": [
    {
     "name": "stdout",
     "output_type": "stream",
     "text": [
      "\u001b[32m2020-04-11 16:46:35.677\u001b[0m | \u001b[34m\u001b[1mDEBUG   \u001b[0m | \u001b[36mlorapy.io._base_loader\u001b[0m:\u001b[36m_validate_data_path\u001b[0m:\u001b[36m140\u001b[0m - \u001b[34m\u001b[1mset datafile directory: ../data/filtered-symbols\u001b[0m\n",
      "\u001b[32m2020-04-11 16:46:35.688\u001b[0m | \u001b[1mINFO    \u001b[0m | \u001b[36mlorapy.io._base_loader\u001b[0m:\u001b[36m_process_data_dir\u001b[0m:\u001b[36m153\u001b[0m - \u001b[1mfound 150 data file(s)\u001b[0m\n"
     ]
    },
    {
     "data": {
      "text/plain": [
       "[DotPFile(id=0 | name='lora_BW1_SF10_915MHz_20ksps_Att0_v0.p'),\n",
       " DotPFile(id=1 | name='lora_BW2_SF12_915MHz_20ksps_Att40_v0.p'),\n",
       " DotPFile(id=2 | name='lora_BW1_SF10_915MHz_20ksps_Att140_v0.p'),\n",
       " DotPFile(id=3 | name='lora_BW1_SF12_915MHz_20ksps_Att0_v0.p'),\n",
       " DotPFile(id=4 | name='lora_BW1_SF12_915MHz_20ksps_Att60_v0.p'),\n",
       " DotPFile(id=5 | name='lora_BW7_SF10_915MHz_20ksps_Att40_v0.p'),\n",
       " DotPFile(id=6 | name='lora_BW2_SF10_915MHz_20ksps_Att40_v0.p'),\n",
       " DotPFile(id=7 | name='lora_BW9_SF12_915MHz_20ksps_Att0_v0.p'),\n",
       " DotPFile(id=8 | name='lora_BW2_SF12_915MHz_20ksps_Att60_v0.p'),\n",
       " DotPFile(id=9 | name='lora_BW2_SF10_915MHz_20ksps_Att0_v0.p'),\n",
       " DotPFile(id=10 | name='lora_BW9_SF11_915MHz_20ksps_Att100_v0.p'),\n",
       " DotPFile(id=11 | name='lora_BW7_SF10_915MHz_20ksps_Att100_v0.p'),\n",
       " DotPFile(id=12 | name='lora_BW9_SF11_915MHz_20ksps_Att80_v0.p'),\n",
       " DotPFile(id=13 | name='lora_BW1_SF10_915MHz_20ksps_Att40_v0.p'),\n",
       " DotPFile(id=14 | name='lora_BW7_SF11_915MHz_20ksps_Att80_v0.p'),\n",
       " DotPFile(id=15 | name='lora_BW2_SF11_915MHz_20ksps_Att40_v0.p'),\n",
       " DotPFile(id=16 | name='lora_BW1_SF11_915MHz_20ksps_Att40_v0.p'),\n",
       " DotPFile(id=17 | name='lora_BW8_SF10_915MHz_20ksps_Att40_v0.p'),\n",
       " DotPFile(id=18 | name='lora_BW9_SF10_915MHz_20ksps_Att20_v0.p'),\n",
       " DotPFile(id=19 | name='lora_BW2_SF12_915MHz_20ksps_Att100_v0.p'),\n",
       " DotPFile(id=20 | name='lora_BW1_SF12_915MHz_20ksps_Att40_v0.p'),\n",
       " DotPFile(id=21 | name='lora_BW2_SF10_915MHz_20ksps_Att120_v0.p'),\n",
       " DotPFile(id=22 | name='lora_BW8_SF10_915MHz_20ksps_Att80_v0.p'),\n",
       " DotPFile(id=23 | name='lora_BW1_SF11_915MHz_20ksps_Att20_v0.p'),\n",
       " DotPFile(id=24 | name='lora_BW9_SF11_915MHz_20ksps_Att0_v0.p'),\n",
       " DotPFile(id=25 | name='lora_BW2_SF11_915MHz_20ksps_Att80_v0.p'),\n",
       " DotPFile(id=26 | name='lora_BW1_SF11_915MHz_20ksps_Att60_v0.p'),\n",
       " DotPFile(id=27 | name='lora_BW9_SF12_915MHz_20ksps_Att60_v0.p'),\n",
       " DotPFile(id=28 | name='lora_BW2_SF12_915MHz_20ksps_Att0_v0.p'),\n",
       " DotPFile(id=29 | name='lora_BW9_SF10_915MHz_20ksps_Att100_v0.p'),\n",
       " DotPFile(id=30 | name='lora_BW9_SF11_915MHz_20ksps_Att40_v0.p'),\n",
       " DotPFile(id=31 | name='lora_BW9_SF12_915MHz_20ksps_Att80_v0.p'),\n",
       " DotPFile(id=32 | name='lora_BW2_SF10_915MHz_20ksps_Att20_v0.p'),\n",
       " DotPFile(id=33 | name='lora_BW8_SF12_915MHz_20ksps_Att0_v0.p'),\n",
       " DotPFile(id=34 | name='lora_BW9_SF10_915MHz_20ksps_Att80_v0.p'),\n",
       " DotPFile(id=35 | name='lora_BW8_SF12_915MHz_20ksps_Att20_v0.p'),\n",
       " DotPFile(id=36 | name='lora_BW8_SF11_915MHz_20ksps_Att60_v0.p'),\n",
       " DotPFile(id=37 | name='lora_BW2_SF11_915MHz_20ksps_Att100_v0.p'),\n",
       " DotPFile(id=38 | name='lora_BW1_SF12_915MHz_20ksps_Att120_v0.p'),\n",
       " DotPFile(id=39 | name='lora_BW1_SF10_915MHz_20ksps_Att60_v0.p'),\n",
       " DotPFile(id=40 | name='lora_BW7_SF10_915MHz_20ksps_Att80_v0.p'),\n",
       " DotPFile(id=41 | name='lora_BW9_SF10_915MHz_20ksps_Att40_v0.p'),\n",
       " DotPFile(id=42 | name='lora_BW2_SF10_915MHz_20ksps_Att140_v0.p'),\n",
       " DotPFile(id=43 | name='lora_BW8_SF12_915MHz_20ksps_Att40_v0.p'),\n",
       " DotPFile(id=44 | name='lora_BW2_SF11_915MHz_20ksps_Att60_v0.p'),\n",
       " DotPFile(id=45 | name='lora_BW7_SF12_915MHz_20ksps_Att100_v0.p'),\n",
       " DotPFile(id=46 | name='lora_BW7_SF12_915MHz_20ksps_Att80_v0.p'),\n",
       " DotPFile(id=47 | name='lora_BW1_SF11_915MHz_20ksps_Att140_v0.p'),\n",
       " DotPFile(id=48 | name='lora_BW2_SF10_915MHz_20ksps_Att80_v0.p'),\n",
       " DotPFile(id=49 | name='lora_BW9_SF11_915MHz_20ksps_Att20_v0.p'),\n",
       " DotPFile(id=50 | name='lora_BW1_SF12_915MHz_20ksps_Att20_v0.p'),\n",
       " DotPFile(id=51 | name='lora_BW7_SF10_915MHz_20ksps_Att0_v0.p'),\n",
       " DotPFile(id=52 | name='lora_BW1_SF10_915MHz_20ksps_Att120_v0.p'),\n",
       " DotPFile(id=53 | name='lora_BW8_SF10_915MHz_20ksps_Att20_v0.p'),\n",
       " DotPFile(id=54 | name='lora_BW2_SF11_915MHz_20ksps_Att20_v0.p'),\n",
       " DotPFile(id=55 | name='lora_BW8_SF10_915MHz_20ksps_Att60_v0.p'),\n",
       " DotPFile(id=56 | name='lora_BW8_SF11_915MHz_20ksps_Att0_v0.p'),\n",
       " DotPFile(id=57 | name='lora_BW8_SF10_915MHz_20ksps_Att100_v0.p'),\n",
       " DotPFile(id=58 | name='lora_BW9_SF10_915MHz_20ksps_Att60_v0.p'),\n",
       " DotPFile(id=59 | name='lora_BW8_SF10_915MHz_20ksps_Att0_v0.p'),\n",
       " DotPFile(id=60 | name='lora_BW7_SF11_915MHz_20ksps_Att40_v0.p'),\n",
       " DotPFile(id=61 | name='lora_BW9_SF12_915MHz_20ksps_Att40_v0.p'),\n",
       " DotPFile(id=62 | name='lora_BW2_SF12_915MHz_20ksps_Att120_v0.p'),\n",
       " DotPFile(id=63 | name='lora_BW1_SF12_915MHz_20ksps_Att80_v0.p'),\n",
       " DotPFile(id=64 | name='lora_BW7_SF12_915MHz_20ksps_Att40_v0.p'),\n",
       " DotPFile(id=65 | name='lora_BW7_SF11_915MHz_20ksps_Att20_v0.p'),\n",
       " DotPFile(id=66 | name='lora_BW7_SF12_915MHz_20ksps_Att60_v0.p'),\n",
       " DotPFile(id=67 | name='lora_BW2_SF11_915MHz_20ksps_Att140_v0.p'),\n",
       " DotPFile(id=68 | name='lora_BW8_SF12_915MHz_20ksps_Att100_v0.p'),\n",
       " DotPFile(id=69 | name='lora_BW7_SF10_915MHz_20ksps_Att60_v0.p'),\n",
       " DotPFile(id=70 | name='lora_BW2_SF12_915MHz_20ksps_Att80_v0.p'),\n",
       " DotPFile(id=71 | name='lora_BW1_SF12_915MHz_20ksps_Att140_v0.p'),\n",
       " DotPFile(id=72 | name='lora_BW1_SF11_915MHz_20ksps_Att0_v0.p'),\n",
       " DotPFile(id=73 | name='lora_BW2_SF11_915MHz_20ksps_Att0_v0.p'),\n",
       " DotPFile(id=74 | name='lora_BW2_SF11_915MHz_20ksps_Att120_v0.p'),\n",
       " DotPFile(id=75 | name='lora_BW2_SF10_915MHz_20ksps_Att60_v0.p'),\n",
       " DotPFile(id=76 | name='lora_BW1_SF11_915MHz_20ksps_Att120_v0.p'),\n",
       " DotPFile(id=77 | name='lora_BW1_SF11_915MHz_20ksps_Att100_v0.p'),\n",
       " DotPFile(id=78 | name='lora_BW8_SF12_915MHz_20ksps_Att80_v0.p'),\n",
       " DotPFile(id=79 | name='lora_BW9_SF12_915MHz_20ksps_Att20_v0.p'),\n",
       " DotPFile(id=80 | name='lora_BW9_SF10_915MHz_20ksps_Att0_v0.p'),\n",
       " DotPFile(id=81 | name='lora_BW7_SF12_915MHz_20ksps_Att0_v0.p'),\n",
       " DotPFile(id=82 | name='lora_BW1_SF12_915MHz_20ksps_Att100_v0.p'),\n",
       " DotPFile(id=83 | name='lora_BW7_SF11_915MHz_20ksps_Att60_v0.p'),\n",
       " DotPFile(id=84 | name='lora_BW8_SF11_915MHz_20ksps_Att80_v0.p'),\n",
       " DotPFile(id=85 | name='lora_BW7_SF11_915MHz_20ksps_Att0_v0.p'),\n",
       " DotPFile(id=86 | name='lora_BW9_SF11_915MHz_20ksps_Att60_v0.p'),\n",
       " DotPFile(id=87 | name='lora_BW9_SF12_915MHz_20ksps_Att100_v0.p'),\n",
       " DotPFile(id=88 | name='lora_BW2_SF10_915MHz_20ksps_Att100_v0.p'),\n",
       " DotPFile(id=89 | name='lora_BW7_SF10_915MHz_20ksps_Att20_v0.p'),\n",
       " DotPFile(id=90 | name='lora_BW1_SF10_915MHz_20ksps_Att20_v0.p'),\n",
       " DotPFile(id=91 | name='lora_BW7_SF12_915MHz_20ksps_Att20_v0.p'),\n",
       " DotPFile(id=92 | name='lora_BW1_SF10_915MHz_20ksps_Att100_v0.p'),\n",
       " DotPFile(id=93 | name='lora_BW7_SF11_915MHz_20ksps_Att100_v0.p'),\n",
       " DotPFile(id=94 | name='lora_BW8_SF11_915MHz_20ksps_Att20_v0.p'),\n",
       " DotPFile(id=95 | name='lora_BW2_SF12_915MHz_20ksps_Att20_v0.p'),\n",
       " DotPFile(id=96 | name='lora_BW8_SF11_915MHz_20ksps_Att100_v0.p'),\n",
       " DotPFile(id=97 | name='lora_BW8_SF12_915MHz_20ksps_Att60_v0.p'),\n",
       " DotPFile(id=98 | name='lora_BW1_SF10_915MHz_20ksps_Att80_v0.p'),\n",
       " DotPFile(id=99 | name='lora_BW8_SF11_915MHz_20ksps_Att40_v0.p'),\n",
       " DotPFile(id=100 | name='lora_BW1_SF11_915MHz_20ksps_Att80_v0.p'),\n",
       " DotPFile(id=101 | name='lora_BW1_SF10_915MHz_20ksps_Att120_v1.p'),\n",
       " DotPFile(id=102 | name='lora_BW2_SF12_915MHz_20ksps_Att80_v1.p'),\n",
       " DotPFile(id=103 | name='lora_BW2_SF12_915MHz_20ksps_Att60_v1.p'),\n",
       " DotPFile(id=104 | name='lora_BW2_SF10_915MHz_20ksps_Att140_v1.p'),\n",
       " DotPFile(id=105 | name='lora_BW1_SF10_915MHz_20ksps_Att40_v1.p'),\n",
       " DotPFile(id=106 | name='lora_BW2_SF11_915MHz_20ksps_Att140_v1.p'),\n",
       " DotPFile(id=107 | name='lora_BW1_SF11_915MHz_20ksps_Att100_v1.p'),\n",
       " DotPFile(id=108 | name='lora_BW1_SF12_915MHz_20kspsAtt20_v1.p'),\n",
       " DotPFile(id=109 | name='lora_BW2_SF11_915MHz_20ksps_Att40_v1.p'),\n",
       " DotPFile(id=110 | name='lora_BW1_SF11_915MHz_20ksps_Att0_v1.p'),\n",
       " DotPFile(id=111 | name='lora_BW1_SF12_915MHz_20kspsAtt100_v1.p'),\n",
       " DotPFile(id=112 | name='lora_BW2_SF12_915MHz_20ksps_Att140_v1.p'),\n",
       " DotPFile(id=113 | name='lora_BW1_SF12_915MHz_20kspsAtt0_v1.p'),\n",
       " DotPFile(id=114 | name='lora_BW2_SF10_915MHz_20ksps_Att120_v1.p'),\n",
       " DotPFile(id=115 | name='lora_BW1_SF11_915MHz_20ksps_Att80_v1.p'),\n",
       " DotPFile(id=116 | name='lora_BW2_SF10_915MHz_20ksps_Att100_v1.p'),\n",
       " DotPFile(id=117 | name='lora_BW1_SF12_915MHz_20kspsAtt0_v2.p'),\n",
       " DotPFile(id=118 | name='lora_BW2_SF10_915MHz_20ksps_Att60_v1.p'),\n",
       " DotPFile(id=119 | name='lora_BW1_SF12_915MHz_20kspsAtt40_v1.p'),\n",
       " DotPFile(id=120 | name='lora_BW1_SF11_915MHz_20ksps_Att60_v1.p'),\n",
       " DotPFile(id=121 | name='lora_BW1_SF10_915MHz_20ksps_Att60_v1.p'),\n",
       " DotPFile(id=122 | name='lora_BW2_SF12_915MHz_20ksps_Att0_v1.p'),\n",
       " DotPFile(id=123 | name='lora_BW1_SF12_915MHz_20kspsAtt80_v1.p'),\n",
       " DotPFile(id=124 | name='lora_BW2_SF11_915MHz_20ksps_Att120_v1.p'),\n",
       " DotPFile(id=125 | name='lora_BW2_SF11_915MHz_20ksps_Att0_v1.p'),\n",
       " DotPFile(id=126 | name='lora_BW2_SF11_915MHz_20ksps_Att60_v1.p'),\n",
       " DotPFile(id=127 | name='lora_BW1_SF10_915MHz_20ksps_Att100_v1.p'),\n",
       " DotPFile(id=128 | name='lora_BW1_SF11_915MHz_20ksps_Att40_v1.p'),\n",
       " DotPFile(id=129 | name='lora_BW1_SF10_915MHz_20ksps_Att0_v1.p'),\n",
       " DotPFile(id=130 | name='lora_BW2_SF12_915MHz_20ksps_Att120_v1.p'),\n",
       " DotPFile(id=131 | name='lora_BW1_SF12_915MHz_20kspsAtt60_v1.p'),\n",
       " DotPFile(id=132 | name='lora_BW2_SF11_915MHz_20ksps_Att100_v1.p'),\n",
       " DotPFile(id=133 | name='lora_BW1_SF10_915MHz_20ksps_Att80_v1.p'),\n",
       " DotPFile(id=134 | name='lora_BW1_SF12_915MHz_20kspsAtt140_v1.p'),\n",
       " DotPFile(id=135 | name='lora_BW2_SF10_915MHz_20ksps_Att0_v1.p'),\n",
       " DotPFile(id=136 | name='lora_BW2_SF12_915MHz_20ksps_Att40_v1.p'),\n",
       " DotPFile(id=137 | name='lora_BW1_SF11_915MHz_20kspsAtt120_v1.p'),\n",
       " DotPFile(id=138 | name='lora_BW1_SF12_915MHz_20kspsAtt120_v1.p'),\n",
       " DotPFile(id=139 | name='lora_BW2_SF12_915MHz_20ksps_Att100_v1.p'),\n",
       " DotPFile(id=140 | name='lora_BW2_SF11_915MHz_20ksps_Att80_v1.p'),\n",
       " DotPFile(id=141 | name='lora_BW1_SF10_915MHz_20ksps_Att20_v1.p'),\n",
       " DotPFile(id=142 | name='lora_BW2_SF10_915MHz_20ksps_Att20_v1.p'),\n",
       " DotPFile(id=143 | name='lora_BW2_SF10_915MHz_20ksps_Att40_v1.p'),\n",
       " DotPFile(id=144 | name='lora_BW2_SF11_915MHz_20ksps_Att20_v1.p'),\n",
       " DotPFile(id=145 | name='lora_BW1_SF11_915MHz_20ksps_Att20_v1.p'),\n",
       " DotPFile(id=146 | name='lora_BW1_SF10_915MHz_20ksps_Att140_v1.p'),\n",
       " DotPFile(id=147 | name='lora_BW2_SF12_915MHz_20ksps_Att20_v1.p'),\n",
       " DotPFile(id=148 | name='lora_BW1_SF11_915MHz_20kspsAtt140_v1.p'),\n",
       " DotPFile(id=149 | name='lora_BW2_SF10_915MHz_20ksps_Att80_v1.p')]"
      ]
     },
     "execution_count": 7,
     "metadata": {},
     "output_type": "execute_result"
    }
   ],
   "source": [
    "symloader = lorapy.load_dotp(FILT_SYMBOL_DIR, glob_pattern='**/*.p')\n",
    "symloader.file_list"
   ]
  },
  {
   "cell_type": "code",
   "execution_count": null,
   "metadata": {},
   "outputs": [],
   "source": []
  },
  {
   "cell_type": "markdown",
   "metadata": {},
   "source": [
    "# combine and aggregate"
   ]
  },
  {
   "cell_type": "code",
   "execution_count": 21,
   "metadata": {},
   "outputs": [],
   "source": [
    "import itertools"
   ]
  },
  {
   "cell_type": "markdown",
   "metadata": {},
   "source": [
    "## setup"
   ]
  },
  {
   "cell_type": "code",
   "execution_count": 26,
   "metadata": {},
   "outputs": [],
   "source": [
    "loaded_files = [file.load() for file in symloader.filegen]\n",
    "\n",
    "bw_opts = set(file.bw for file in loaded_files)\n",
    "sf_opts = set(file.sf for file in loaded_files)\n",
    "att_opts = set(file.att for file in loaded_files)\n",
    "\n",
    "all_opts = (bw_opts, sf_opts, att_opts)"
   ]
  },
  {
   "cell_type": "code",
   "execution_count": 29,
   "metadata": {},
   "outputs": [
    {
     "data": {
      "text/plain": [
       "[(1, 10, 0), (1, 10, 20), (1, 10, 40), (1, 10, 60), (1, 10, 80)]"
      ]
     },
     "execution_count": 29,
     "metadata": {},
     "output_type": "execute_result"
    }
   ],
   "source": [
    "param_list = sorted(list(\n",
    "    itertools.product(*all_opts)\n",
    "))\n",
    "\n",
    "param_list[:5]"
   ]
  },
  {
   "cell_type": "markdown",
   "metadata": {},
   "source": [
    "## load combine save"
   ]
  },
  {
   "cell_type": "code",
   "execution_count": 58,
   "metadata": {},
   "outputs": [
    {
     "data": {
      "text/plain": [
       "3"
      ]
     },
     "execution_count": 58,
     "metadata": {},
     "output_type": "execute_result"
    }
   ],
   "source": [
    "logger.add('dev/symbol-agg-logs.log', level='WARNING')"
   ]
  },
  {
   "cell_type": "code",
   "execution_count": null,
   "metadata": {},
   "outputs": [
    {
     "name": "stderr",
     "output_type": "stream",
     "text": [
      "  0%|          | 0/120 [00:00<?, ?it/s]"
     ]
    }
   ],
   "source": [
    "for params in tqdm.tqdm(param_list):\n",
    "    file_list = symloader.filter(*params)\n",
    "    combine_and_save(file_list, params, AGG_SYMBOL_DIR)\n"
   ]
  },
  {
   "cell_type": "code",
   "execution_count": null,
   "metadata": {},
   "outputs": [],
   "source": []
  },
  {
   "cell_type": "code",
   "execution_count": null,
   "metadata": {},
   "outputs": [],
   "source": []
  },
  {
   "cell_type": "code",
   "execution_count": null,
   "metadata": {},
   "outputs": [],
   "source": []
  }
 ],
 "metadata": {
  "kernelspec": {
   "display_name": "Python 3",
   "language": "python",
   "name": "python3"
  },
  "language_info": {
   "codemirror_mode": {
    "name": "ipython",
    "version": 3
   },
   "file_extension": ".py",
   "mimetype": "text/x-python",
   "name": "python",
   "nbconvert_exporter": "python",
   "pygments_lexer": "ipython3",
   "version": "3.7.6"
  }
 },
 "nbformat": 4,
 "nbformat_minor": 4
}
